{
  "cells": [
    {
      "cell_type": "markdown",
      "metadata": {
        "id": "view-in-github",
        "colab_type": "text"
      },
      "source": [
        "<a href=\"https://colab.research.google.com/github/heesukjang/W207_AppliedML_Fall2022/blob/main/05_Multiclass_Classification_heesuk_final.ipynb\" target=\"_parent\"><img src=\"https://colab.research.google.com/assets/colab-badge.svg\" alt=\"Open In Colab\"/></a>"
      ]
    },
    {
      "cell_type": "markdown",
      "metadata": {
        "id": "MKsRDH5ZUdfasdv"
      },
      "source": [
        "# Lab 5\n",
        "\n",
        "Student: **Heesuk Jang**<br>\n",
        "Class: **W207 Section 8**<br>\n",
        "Instructor: **Cornelia Ilin**"
      ]
    },
    {
      "cell_type": "markdown",
      "metadata": {
        "id": "43534tdfgs-v"
      },
      "source": [
        "This lab extends binary logistic regression to [multi-class logistic regression](https://en.wikipedia.org/wiki/Multinomial_logistic_regression), which goes by a variety of names, including *softmax regression*, due to the use of the softmax function, which generalizes the logistic function."
      ]
    },
    {
      "cell_type": "code",
      "execution_count": 1,
      "metadata": {
        "id": "7X58hOMTUH-w"
      },
      "outputs": [],
      "source": [
        "# Import the libraries we'll use below.\n",
        "import numpy as np\n",
        "from matplotlib import pyplot as plt\n",
        "import pandas as pd\n",
        "import seaborn as sns  # for nicer plots\n",
        "sns.set(style=\"darkgrid\")  # default style\n",
        "\n",
        "import tensorflow as tf\n",
        "from tensorflow import keras\n",
        "from keras import metrics\n",
        "tf.get_logger().setLevel('INFO')"
      ]
    },
    {
      "cell_type": "markdown",
      "metadata": {
        "id": "4uq43KrCh8pe"
      },
      "source": [
        "We again load the Fashion MNIST dataset, though this time around, we'll use all 10 output classes."
      ]
    },
    {
      "cell_type": "code",
      "execution_count": 2,
      "metadata": {
        "colab": {
          "base_uri": "https://localhost:8080/"
        },
        "id": "load_auto_data_set_code",
        "outputId": "355eceb9-d2cd-4dc8-b942-2a5f5b9de73b"
      },
      "outputs": [
        {
          "output_type": "stream",
          "name": "stdout",
          "text": [
            "Downloading data from https://storage.googleapis.com/tensorflow/tf-keras-datasets/train-labels-idx1-ubyte.gz\n",
            "32768/29515 [=================================] - 0s 0us/step\n",
            "40960/29515 [=========================================] - 0s 0us/step\n",
            "Downloading data from https://storage.googleapis.com/tensorflow/tf-keras-datasets/train-images-idx3-ubyte.gz\n",
            "26427392/26421880 [==============================] - 0s 0us/step\n",
            "26435584/26421880 [==============================] - 0s 0us/step\n",
            "Downloading data from https://storage.googleapis.com/tensorflow/tf-keras-datasets/t10k-labels-idx1-ubyte.gz\n",
            "16384/5148 [===============================================================================================] - 0s 0us/step\n",
            "Downloading data from https://storage.googleapis.com/tensorflow/tf-keras-datasets/t10k-images-idx3-ubyte.gz\n",
            "4423680/4422102 [==============================] - 0s 0us/step\n",
            "4431872/4422102 [==============================] - 0s 0us/step\n"
          ]
        }
      ],
      "source": [
        "from keras.datasets import fashion_mnist\n",
        "\n",
        "# Load the Fashion MNIST dataset.\n",
        "(X_train, Y_train), (X_test, Y_test) = fashion_mnist.load_data()\n",
        "X_train = X_train / 255\n",
        "X_test = X_test / 255\n",
        "\n",
        "# Flatten Y_train and Y_test, so they become vectors of label values.\n",
        "# The label for X_train[0] is in Y_train[0].\n",
        "Y_train = Y_train.flatten()\n",
        "Y_test = Y_test.flatten()\n",
        "\n",
        "label_names = ['t-shirt', 'trouser', 'pullover', 'dress', 'coat',\n",
        "               'sandal', 'shirt', 'sneaker', 'bag', 'ankle boot']\n",
        "\n",
        "# Apply random shufflying to training examples.\n",
        "np.random.seed(0)\n",
        "indices = np.arange(X_train.shape[0])\n",
        "shuffled_indices = np.random.permutation(indices)\n",
        "X_train = X_train[shuffled_indices]\n",
        "Y_train = Y_train[shuffled_indices]"
      ]
    },
    {
      "cell_type": "markdown",
      "metadata": {
        "id": "PsfzNnVFwh0K"
      },
      "source": [
        "### Cross-Entropy Loss\n",
        "\n",
        "Recall the log loss function (also called binary cross-entropy):\n",
        "\n",
        "\\begin{equation}\n",
        "-y log(\\hat{y}) + (1−y)log(1−\\hat{y})\n",
        "\\end{equation}\n",
        "\n",
        "In the above formulation, it is assumed that $y$ is either 0 or 1, so either the left term or the right term is active for each example.\n",
        "\n",
        "The general form for cross-entropy is used when $y$ is assumed to be a label vector with a 1 in the index of the true label and a 0 everywhere else: $y=[0,0,0,0,0,0,0,1,0,0]$ implies a label of \"sneaker\" in this dataset (the 7th label). Accordingly, $\\hat{y}$ is a vector of predicted probabilities. Then the cross-entropy loss is simply:\n",
        "\n",
        "\\begin{equation}\n",
        "-\\sum_{j} y_j log(\\hat{y}_j)\n",
        "\\end{equation}\n",
        "\n",
        "As in the binary case, this summation will have exactly 1 non-zero term where the true label $y_j=1$.\n",
        "\n",
        "Note that this formulation is using a **dense representation** of the label. The corresponding **sparse representation** would use the non-zero index directly ($y=7$)."
      ]
    },
    {
      "cell_type": "markdown",
      "metadata": {
        "id": "09EpBz1w0_Nj"
      },
      "source": [
        "## Build a model\n",
        "\n",
        "Let's construct a model much like we did in the binary classification case, but now with a multi-class output."
      ]
    },
    {
      "cell_type": "markdown",
      "metadata": {
        "id": "75ur9Q_TOoxv"
      },
      "source": [
        "---\n",
        "### Exercise 1 (8 points)\n",
        "\n",
        "Fill in the NotImplemented parts of the build_model function below. You will need to make the following changes to generalize the binary case to the multi-class case:\n",
        "* The output will include 10 probabilities instead of 1.\n",
        "* Use a softmax function instead of a sigmoid.\n",
        "* Use a [sparse_categorical_crossentropy](https://www.tensorflow.org/api_docs/python/tf/keras/losses/sparse_categorical_crossentropy) loss instead of binary_crossentropy. Note that \"sparse\" refers to the use of a sparse index (e.g. 7) to indicate the label rather than a dense vector (e.g. [0,0,0,0,0,0,0,1,0,0]).\n",
        "\n",
        "Check that training works below."
      ]
    },
    {
      "cell_type": "code",
      "execution_count": 3,
      "metadata": {
        "id": "-GeBGPGhQ5bu"
      },
      "outputs": [],
      "source": [
        "def build_model(n_classes, learning_rate=0.01):\n",
        "  \"\"\"Build a multi-class logistic regression model using Keras.\n",
        "\n",
        "  Args:\n",
        "    n_classes: Number of classes in the dataset\n",
        "    learning_rate: The desired learning rate for SGD.\n",
        "\n",
        "  Returns:\n",
        "    model: A tf.keras model (graph).\n",
        "  \"\"\"\n",
        "  tf.keras.backend.clear_session()\n",
        "  np.random.seed(0)\n",
        "  tf.random.set_seed(0)\n",
        "\n",
        "  model = keras.Sequential()\n",
        "  model.add(keras.layers.Flatten())\n",
        "  model.add(keras.layers.Dense(\n",
        "      # YOUR CODE HERE\n",
        "      units=10,                          # output dim\n",
        "      activation='softmax'\n",
        "  ))\n",
        "\n",
        "  optimizer = tf.keras.optimizers.SGD(learning_rate=learning_rate)\n",
        "    \n",
        "  # YOUR CODE HERE\n",
        "  model.compile(loss='sparse_categorical_crossentropy',  \n",
        "                optimizer=optimizer, \n",
        "                metrics=['accuracy'])\n",
        "  return model"
      ]
    },
    {
      "cell_type": "markdown",
      "metadata": {
        "id": "YNpKsUK6jt7-"
      },
      "source": [
        "Make sure your model trains. If you configured it properly, the training loss should get to ~0.55 after 5 epochs."
      ]
    },
    {
      "cell_type": "code",
      "execution_count": 4,
      "metadata": {
        "colab": {
          "base_uri": "https://localhost:8080/",
          "height": 385
        },
        "id": "dYRGXpzY1B5x",
        "outputId": "68757915-9fd1-4c2d-b132-9db9b4093455"
      },
      "outputs": [
        {
          "output_type": "stream",
          "name": "stdout",
          "text": [
            "Epoch 1/5\n",
            "844/844 [==============================] - 4s 4ms/step - loss: 0.9976 - accuracy: 0.6943 - val_loss: 0.7644 - val_accuracy: 0.7502\n",
            "Epoch 2/5\n",
            "844/844 [==============================] - 3s 4ms/step - loss: 0.6845 - accuracy: 0.7816 - val_loss: 0.6679 - val_accuracy: 0.7762\n",
            "Epoch 3/5\n",
            "844/844 [==============================] - 3s 4ms/step - loss: 0.6161 - accuracy: 0.8030 - val_loss: 0.6231 - val_accuracy: 0.7885\n",
            "Epoch 4/5\n",
            "844/844 [==============================] - 3s 3ms/step - loss: 0.5787 - accuracy: 0.8139 - val_loss: 0.5986 - val_accuracy: 0.7980\n",
            "Epoch 5/5\n",
            "844/844 [==============================] - 4s 4ms/step - loss: 0.5544 - accuracy: 0.8201 - val_loss: 0.5761 - val_accuracy: 0.8060\n"
          ]
        },
        {
          "output_type": "display_data",
          "data": {
            "text/plain": [
              "       loss  accuracy  val_loss  val_accuracy\n",
              "0  0.997606  0.694278  0.764360      0.750167\n",
              "1  0.684474  0.781648  0.667892      0.776167\n",
              "2  0.616129  0.802981  0.623094      0.788500\n",
              "3  0.578731  0.813926  0.598561      0.798000\n",
              "4  0.554377  0.820130  0.576119      0.806000"
            ],
            "text/html": [
              "\n",
              "  <div id=\"df-edd19461-2d1a-49d7-aedc-83c1a5cb1bc2\">\n",
              "    <div class=\"colab-df-container\">\n",
              "      <div>\n",
              "<style scoped>\n",
              "    .dataframe tbody tr th:only-of-type {\n",
              "        vertical-align: middle;\n",
              "    }\n",
              "\n",
              "    .dataframe tbody tr th {\n",
              "        vertical-align: top;\n",
              "    }\n",
              "\n",
              "    .dataframe thead th {\n",
              "        text-align: right;\n",
              "    }\n",
              "</style>\n",
              "<table border=\"1\" class=\"dataframe\">\n",
              "  <thead>\n",
              "    <tr style=\"text-align: right;\">\n",
              "      <th></th>\n",
              "      <th>loss</th>\n",
              "      <th>accuracy</th>\n",
              "      <th>val_loss</th>\n",
              "      <th>val_accuracy</th>\n",
              "    </tr>\n",
              "  </thead>\n",
              "  <tbody>\n",
              "    <tr>\n",
              "      <th>0</th>\n",
              "      <td>0.997606</td>\n",
              "      <td>0.694278</td>\n",
              "      <td>0.764360</td>\n",
              "      <td>0.750167</td>\n",
              "    </tr>\n",
              "    <tr>\n",
              "      <th>1</th>\n",
              "      <td>0.684474</td>\n",
              "      <td>0.781648</td>\n",
              "      <td>0.667892</td>\n",
              "      <td>0.776167</td>\n",
              "    </tr>\n",
              "    <tr>\n",
              "      <th>2</th>\n",
              "      <td>0.616129</td>\n",
              "      <td>0.802981</td>\n",
              "      <td>0.623094</td>\n",
              "      <td>0.788500</td>\n",
              "    </tr>\n",
              "    <tr>\n",
              "      <th>3</th>\n",
              "      <td>0.578731</td>\n",
              "      <td>0.813926</td>\n",
              "      <td>0.598561</td>\n",
              "      <td>0.798000</td>\n",
              "    </tr>\n",
              "    <tr>\n",
              "      <th>4</th>\n",
              "      <td>0.554377</td>\n",
              "      <td>0.820130</td>\n",
              "      <td>0.576119</td>\n",
              "      <td>0.806000</td>\n",
              "    </tr>\n",
              "  </tbody>\n",
              "</table>\n",
              "</div>\n",
              "      <button class=\"colab-df-convert\" onclick=\"convertToInteractive('df-edd19461-2d1a-49d7-aedc-83c1a5cb1bc2')\"\n",
              "              title=\"Convert this dataframe to an interactive table.\"\n",
              "              style=\"display:none;\">\n",
              "        \n",
              "  <svg xmlns=\"http://www.w3.org/2000/svg\" height=\"24px\"viewBox=\"0 0 24 24\"\n",
              "       width=\"24px\">\n",
              "    <path d=\"M0 0h24v24H0V0z\" fill=\"none\"/>\n",
              "    <path d=\"M18.56 5.44l.94 2.06.94-2.06 2.06-.94-2.06-.94-.94-2.06-.94 2.06-2.06.94zm-11 1L8.5 8.5l.94-2.06 2.06-.94-2.06-.94L8.5 2.5l-.94 2.06-2.06.94zm10 10l.94 2.06.94-2.06 2.06-.94-2.06-.94-.94-2.06-.94 2.06-2.06.94z\"/><path d=\"M17.41 7.96l-1.37-1.37c-.4-.4-.92-.59-1.43-.59-.52 0-1.04.2-1.43.59L10.3 9.45l-7.72 7.72c-.78.78-.78 2.05 0 2.83L4 21.41c.39.39.9.59 1.41.59.51 0 1.02-.2 1.41-.59l7.78-7.78 2.81-2.81c.8-.78.8-2.07 0-2.86zM5.41 20L4 18.59l7.72-7.72 1.47 1.35L5.41 20z\"/>\n",
              "  </svg>\n",
              "      </button>\n",
              "      \n",
              "  <style>\n",
              "    .colab-df-container {\n",
              "      display:flex;\n",
              "      flex-wrap:wrap;\n",
              "      gap: 12px;\n",
              "    }\n",
              "\n",
              "    .colab-df-convert {\n",
              "      background-color: #E8F0FE;\n",
              "      border: none;\n",
              "      border-radius: 50%;\n",
              "      cursor: pointer;\n",
              "      display: none;\n",
              "      fill: #1967D2;\n",
              "      height: 32px;\n",
              "      padding: 0 0 0 0;\n",
              "      width: 32px;\n",
              "    }\n",
              "\n",
              "    .colab-df-convert:hover {\n",
              "      background-color: #E2EBFA;\n",
              "      box-shadow: 0px 1px 2px rgba(60, 64, 67, 0.3), 0px 1px 3px 1px rgba(60, 64, 67, 0.15);\n",
              "      fill: #174EA6;\n",
              "    }\n",
              "\n",
              "    [theme=dark] .colab-df-convert {\n",
              "      background-color: #3B4455;\n",
              "      fill: #D2E3FC;\n",
              "    }\n",
              "\n",
              "    [theme=dark] .colab-df-convert:hover {\n",
              "      background-color: #434B5C;\n",
              "      box-shadow: 0px 1px 3px 1px rgba(0, 0, 0, 0.15);\n",
              "      filter: drop-shadow(0px 1px 2px rgba(0, 0, 0, 0.3));\n",
              "      fill: #FFFFFF;\n",
              "    }\n",
              "  </style>\n",
              "\n",
              "      <script>\n",
              "        const buttonEl =\n",
              "          document.querySelector('#df-edd19461-2d1a-49d7-aedc-83c1a5cb1bc2 button.colab-df-convert');\n",
              "        buttonEl.style.display =\n",
              "          google.colab.kernel.accessAllowed ? 'block' : 'none';\n",
              "\n",
              "        async function convertToInteractive(key) {\n",
              "          const element = document.querySelector('#df-edd19461-2d1a-49d7-aedc-83c1a5cb1bc2');\n",
              "          const dataTable =\n",
              "            await google.colab.kernel.invokeFunction('convertToInteractive',\n",
              "                                                     [key], {});\n",
              "          if (!dataTable) return;\n",
              "\n",
              "          const docLinkHtml = 'Like what you see? Visit the ' +\n",
              "            '<a target=\"_blank\" href=https://colab.research.google.com/notebooks/data_table.ipynb>data table notebook</a>'\n",
              "            + ' to learn more about interactive tables.';\n",
              "          element.innerHTML = '';\n",
              "          dataTable['output_type'] = 'display_data';\n",
              "          await google.colab.output.renderOutput(dataTable, element);\n",
              "          const docLink = document.createElement('div');\n",
              "          docLink.innerHTML = docLinkHtml;\n",
              "          element.appendChild(docLink);\n",
              "        }\n",
              "      </script>\n",
              "    </div>\n",
              "  </div>\n",
              "  "
            ]
          },
          "metadata": {}
        }
      ],
      "source": [
        "model = build_model(len(label_names), 0.01)\n",
        "\n",
        "history = model.fit(\n",
        "  x = X_train,\n",
        "  y = Y_train,\n",
        "  epochs=5,\n",
        "  batch_size=64,\n",
        "  validation_split=0.1,\n",
        "  verbose=1)\n",
        "\n",
        "history = pd.DataFrame(history.history)\n",
        "display(history)"
      ]
    },
    {
      "cell_type": "markdown",
      "metadata": {
        "id": "_ALSrErIrrjW"
      },
      "source": [
        "### Evaluation Metrics\n",
        "\n",
        "Classification metrics like accuracy, precision, and recall can all be derived from a confusion matrix which displays the counts for all pairs of true label and predicted label. Correct predictions are on the diagonal and incorrect predictions (confusions) are off the diagonal.\n",
        "\n",
        "First, we need the predicted labels from the model."
      ]
    },
    {
      "cell_type": "markdown",
      "metadata": {
        "id": "tXsEiBBdqjbc"
      },
      "source": [
        "### [HEESUK'S NOTE:](https://www.sharpsightlabs.com/blog/numpy-argmax/)\n",
        "- **np.argmax()** finds the maximum value along the axis and returns the index of that value.\n",
        "The following is the example of axis = 1:\n",
        "![Screen Shot 2022-09-20 at 1.52.47 PM.png](attachment:a1126634-babd-44f3-91a6-64f6c5418b52.png)"
      ]
    },
    {
      "cell_type": "code",
      "execution_count": 5,
      "metadata": {
        "colab": {
          "base_uri": "https://localhost:8080/"
        },
        "id": "eBdgn9PUsHuq",
        "outputId": "240b4f75-19a0-489f-cf19-3b9b42166b44"
      },
      "outputs": [
        {
          "output_type": "stream",
          "name": "stdout",
          "text": [
            "len(test_predictions): 10000\n",
            "test_predictions: [9 2 1 ... 8 1 5])\n"
          ]
        }
      ],
      "source": [
        "# Recall that model.predict gives a vector of probabilities for each x.\n",
        "# Get labels by taking the argmax -- the index with the largest probability.\n",
        "test_predictions = np.argmax(model.predict(X_test), axis=-1)      # axis=-1: the last axis\n",
        "print(f'len(test_predictions): {len(test_predictions)}\\ntest_predictions: {test_predictions})')"
      ]
    },
    {
      "cell_type": "markdown",
      "metadata": {
        "id": "Pr8NOrQmfwsT"
      },
      "source": [
        "Next, we create a confusion matrix and produce an easy-to-read visualization."
      ]
    },
    {
      "cell_type": "code",
      "execution_count": 6,
      "metadata": {
        "colab": {
          "base_uri": "https://localhost:8080/"
        },
        "id": "XnUmXKhA5fc8",
        "outputId": "6f33959c-c063-4b3f-a6ea-9f63a0687e25"
      },
      "outputs": [
        {
          "output_type": "stream",
          "name": "stdout",
          "text": [
            "len(Y_test) = 10000 | Y_test = [9 2 1 ... 8 1 5] | np.unique() = [0 1 2 3 4 5 6 7 8 9]\n",
            "len(test_pred) = 10000 | test_pred = [9 2 1 ... 8 1 5] | np.unique() = [0 1 2 3 4 5 6 7 8 9]\n"
          ]
        }
      ],
      "source": [
        "print(f'len(Y_test) = {len(Y_test)} | Y_test = {Y_test} | np.unique() = {np.unique(Y_test)}')\n",
        "print(f'len(test_pred) = {len(test_predictions)} | test_pred = {test_predictions} | np.unique() = {np.unique(test_predictions)}')"
      ]
    },
    {
      "cell_type": "markdown",
      "metadata": {
        "id": "piEIpK-85fc8"
      },
      "source": [
        "[tf.math.confusion_matrix ](https://www.tensorflow.org/api_docs/python/tf/math/confusion_matrix)<br>\n",
        "The matrix columns represent the prediction labels and the rows represent the real labels. The confusion matrix is always a 2-D array of shape [n, n], where n is the number of valid labels for a given classification task. Both prediction and labels must be 1-D arrays of the same shape in order for this function to work."
      ]
    },
    {
      "cell_type": "code",
      "execution_count": 7,
      "metadata": {
        "colab": {
          "base_uri": "https://localhost:8080/",
          "height": 565
        },
        "id": "juOwp33Wx_bR",
        "outputId": "2746a7ea-aff5-4bc4-8737-99219b3b4ae1"
      },
      "outputs": [
        {
          "output_type": "stream",
          "name": "stdout",
          "text": [
            "tf.Tensor(\n",
            "[[787   6  12  59   6   1 108   0  20   1]\n",
            " [  6 930  16  39   6   0   1   0   2   0]\n",
            " [ 15   0 669   8 188   1 101   0  18   0]\n",
            " [ 32  18   7 849  42   1  47   0   4   0]\n",
            " [  0   3  93  39 771   0  88   0   6   0]\n",
            " [  1   0   0   2   0 811   0 103  10  73]\n",
            " [148   3 133  36 131   1 514   0  34   0]\n",
            " [  0   0   0   0   0  36   0 898   0  66]\n",
            " [  2   1  12  11   3   6  24   9 931   1]\n",
            " [  0   0   0   0   0  12   1  54   1 932]], shape=(10, 10), dtype=int32) \n",
            "\n"
          ]
        },
        {
          "output_type": "display_data",
          "data": {
            "text/plain": [
              "<Figure size 432x288 with 1 Axes>"
            ],
            "image/png": "[encoded data removed]"
          },
          "metadata": {}
        },
        {
          "output_type": "stream",
          "name": "stdout",
          "text": [
            "Sum of each row is 1000\n"
          ]
        }
      ],
      "source": [
        "# Create a confusion matrix as a 2D array.\n",
        "confusion_matrix = tf.math.confusion_matrix(Y_test, test_predictions)   # Y_test\n",
        "print(confusion_matrix, '\\n')\n",
        "# Use a heatmap plot to display it.\n",
        "ax = sns.heatmap(confusion_matrix, annot=True, fmt='.3g', cmap='Blues',\n",
        "                 xticklabels=label_names, yticklabels=label_names, cbar=False)\n",
        "\n",
        "# Add axis labels.\n",
        "ax.set(xlabel='Predicted Label', ylabel='True Label')\n",
        "plt.show()\n",
        "print('Sum of each row is 1000')"
      ]
    },
    {
      "cell_type": "code",
      "execution_count": 8,
      "metadata": {
        "id": "JARsCPty5fc9"
      },
      "outputs": [],
      "source": [
        "label_names = ['t-shirt', 'trouser', 'pullover', 'dress', 'coat',\n",
        "               'sandal', 'shirt', 'sneaker', 'bag', 'ankle boot']"
      ]
    },
    {
      "cell_type": "code",
      "execution_count": 9,
      "metadata": {
        "colab": {
          "base_uri": "https://localhost:8080/",
          "height": 584
        },
        "id": "ZAfFd_rz5fc9",
        "outputId": "fc787831-bcb6-4cca-c035-ee7e98ae5060"
      },
      "outputs": [
        {
          "output_type": "stream",
          "name": "stdout",
          "text": [
            "list(zip:\n",
            " [(0.7941473259334006, 't-shirt'), (0.967741935483871, 'trouser'), (0.7101910828025477, 'pullover'), (0.8139980824544583, 'dress'), (0.6721883173496077, 'coat'), (0.9332566168009206, 'sandal'), (0.581447963800905, 'shirt'), (0.8439849624060151, 'sneaker'), (0.9074074074074074, 'bag'), (0.8685927306616962, 'ankle boot')] \n",
            "\n",
            "t-shirt class has precision : 0.7941473259334006\n",
            "trouser class has precision : 0.967741935483871\n",
            "pullover class has precision : 0.7101910828025477\n",
            "dress class has precision : 0.8139980824544583\n",
            "coat class has precision : 0.6721883173496077\n",
            "sandal class has precision : 0.9332566168009206\n",
            "shirt class has precision : 0.581447963800905\n",
            "sneaker class has precision : 0.8439849624060151\n",
            "bag class has precision : 0.9074074074074074\n",
            "ankle boot class has precision : 0.8685927306616962\n"
          ]
        },
        {
          "output_type": "display_data",
          "data": {
            "text/plain": [
              "<Figure size 432x288 with 1 Axes>"
            ],
            "image/png": "[encoded data removed]"
          },
          "metadata": {}
        }
      ],
      "source": [
        "# # Srila's code\n",
        "from sklearn.metrics import precision_score\n",
        "from sklearn.metrics import confusion_matrix\n",
        "from sklearn.metrics import recall_score\n",
        "from sklearn.metrics import accuracy_score\n",
        "\n",
        "# Calculate precision scores\n",
        "image_classification_precision_scores = precision_score(Y_test, test_predictions, average = None)\n",
        "\n",
        "print('list(zip:\\n',list(zip(image_classification_precision_scores, label_names)),'\\n')\n",
        "y_pos = np.arange(len(image_classification_precision_scores))\n",
        "plt.bar(y_pos, image_classification_precision_scores, align = 'center', alpha = 0.5)\n",
        "plt.xticks(y_pos, label_names, rotation = 90)\n",
        "plt.ylabel('Precision Score')\n",
        "plt.title('Precision scores per class')\n",
        "for prec, lbl in list(zip(image_classification_precision_scores, label_names)):\n",
        "    print(f\"{lbl} class has precision : {prec}\")\n",
        "plt.show()"
      ]
    },
    {
      "cell_type": "code",
      "execution_count": 10,
      "metadata": {
        "colab": {
          "base_uri": "https://localhost:8080/",
          "height": 240
        },
        "id": "qObrpnxt5fc9",
        "outputId": "ea3c855f-2bca-42b7-b158-69a3c10da5e5"
      },
      "outputs": [
        {
          "output_type": "error",
          "ename": "AttributeError",
          "evalue": "ignored",
          "traceback": [
            "\u001b[0;31m---------------------------------------------------------------------------\u001b[0m",
            "\u001b[0;31mAttributeError\u001b[0m                            Traceback (most recent call last)",
            "\u001b[0;32m<ipython-input-10-1982d6095f4e>\u001b[0m in \u001b[0;36m<module>\u001b[0;34m\u001b[0m\n\u001b[0;32m----> 1\u001b[0;31m \u001b[0mconf_matrix_array\u001b[0m \u001b[0;34m=\u001b[0m \u001b[0mconfusion_matrix\u001b[0m\u001b[0;34m.\u001b[0m\u001b[0mnumpy\u001b[0m\u001b[0;34m(\u001b[0m\u001b[0;34m)\u001b[0m    \u001b[0;31m# convert tf.Tensor to 2d array\u001b[0m\u001b[0;34m\u001b[0m\u001b[0;34m\u001b[0m\u001b[0m\n\u001b[0m\u001b[1;32m      2\u001b[0m \u001b[0;32mfor\u001b[0m \u001b[0mdiag\u001b[0m \u001b[0;32min\u001b[0m \u001b[0mrange\u001b[0m\u001b[0;34m(\u001b[0m\u001b[0mconf_matrix_array\u001b[0m\u001b[0;34m.\u001b[0m\u001b[0mshape\u001b[0m\u001b[0;34m[\u001b[0m\u001b[0;36m0\u001b[0m\u001b[0;34m]\u001b[0m\u001b[0;34m)\u001b[0m\u001b[0;34m:\u001b[0m\u001b[0;34m\u001b[0m\u001b[0;34m\u001b[0m\u001b[0m\n\u001b[1;32m      3\u001b[0m     \u001b[0mtp\u001b[0m \u001b[0;34m=\u001b[0m \u001b[0mconf_matrix_array\u001b[0m\u001b[0;34m[\u001b[0m\u001b[0mdiag\u001b[0m\u001b[0;34m,\u001b[0m \u001b[0mdiag\u001b[0m\u001b[0;34m]\u001b[0m           \u001b[0;31m# diagnol values\u001b[0m\u001b[0;34m\u001b[0m\u001b[0;34m\u001b[0m\u001b[0m\n\u001b[1;32m      4\u001b[0m     \u001b[0mfp\u001b[0m \u001b[0;34m=\u001b[0m \u001b[0msum\u001b[0m\u001b[0;34m(\u001b[0m\u001b[0mother\u001b[0m \u001b[0;32mfor\u001b[0m \u001b[0mother\u001b[0m \u001b[0;32min\u001b[0m \u001b[0mconf_matrix_array\u001b[0m\u001b[0;34m[\u001b[0m\u001b[0;34m:\u001b[0m\u001b[0;34m,\u001b[0m\u001b[0mdiag\u001b[0m\u001b[0;34m]\u001b[0m \u001b[0;32mif\u001b[0m \u001b[0mother\u001b[0m \u001b[0;34m!=\u001b[0m \u001b[0mtp\u001b[0m\u001b[0;34m)\u001b[0m   \u001b[0;31m# conf_matrix_array[:,diag] = a column vector (= prediction label)\u001b[0m\u001b[0;34m\u001b[0m\u001b[0;34m\u001b[0m\u001b[0m\n\u001b[1;32m      5\u001b[0m     \u001b[0mfn\u001b[0m \u001b[0;34m=\u001b[0m \u001b[0msum\u001b[0m\u001b[0;34m(\u001b[0m\u001b[0mother\u001b[0m \u001b[0;32mfor\u001b[0m \u001b[0mother\u001b[0m \u001b[0;32min\u001b[0m \u001b[0mconf_matrix_array\u001b[0m\u001b[0;34m[\u001b[0m\u001b[0mdiag\u001b[0m\u001b[0;34m,\u001b[0m\u001b[0;34m:\u001b[0m\u001b[0;34m]\u001b[0m \u001b[0;32mif\u001b[0m \u001b[0mother\u001b[0m \u001b[0;34m!=\u001b[0m \u001b[0mtp\u001b[0m\u001b[0;34m)\u001b[0m   \u001b[0;31m# conf_matrix_array[diag,:] = a row vector (= true label)\u001b[0m\u001b[0;34m\u001b[0m\u001b[0;34m\u001b[0m\u001b[0m\n",
            "\u001b[0;31mAttributeError\u001b[0m: 'function' object has no attribute 'numpy'"
          ]
        }
      ],
      "source": [
        "conf_matrix_array = confusion_matrix.numpy()    # convert tf.Tensor to 2d array\n",
        "for diag in range(conf_matrix_array.shape[0]):\n",
        "    tp = conf_matrix_array[diag, diag]           # diagnol values\n",
        "    fp = sum(other for other in conf_matrix_array[:,diag] if other != tp)   # conf_matrix_array[:,diag] = a column vector (= prediction label)\n",
        "    fn = sum(other for other in conf_matrix_array[diag,:] if other != tp)   # conf_matrix_array[diag,:] = a row vector (= true label)\n",
        "    \n",
        "    precision = tp / (tp + fp) * 100\n",
        "    recall = tp / (tp + fn) * 100\n",
        "    print(f'Class {diag}:   Precision = {round(precision, 2)}%  |  Recall = {round(recall, 2)}% ==> {label_names[diag]}')"
      ]
    },
    {
      "cell_type": "code",
      "execution_count": null,
      "metadata": {
        "id": "7E6Hc7SG5fc-"
      },
      "outputs": [],
      "source": [
        "# conf_matrix_array = confusion_matrix.numpy()\n",
        "# print(conf_matrix_array)\n",
        "# print(conf_matrix_array.shape)\n",
        "# print(conf_matrix_array[1,1])   # diagnol values\n",
        "# print(conf_matrix_array[:,1])   # values of a single column\n",
        "# print(conf_matrix_array[1,:])   # values of a single row"
      ]
    },
    {
      "cell_type": "markdown",
      "metadata": {
        "id": "5__54xfP5fc-"
      },
      "source": [
        "Sneaker (positive class) vs. Non-sneaker (negative class)<br>\n",
        "**TP**: actual lable = sneaker, predicted = sneaker ==> correct<br>\n",
        "**TN**: actual lable = non-sneaker, predicted = non-sneaker ==> correct<br>\n",
        "**FP**: actual lable = non-sneaker, predicted = sneaker ==> incorrect<br>\n",
        "**FN**: actual lable = sneaker, predicted = non-sneaker ==> incorrect<br>\n",
        "\n",
        "**Accuracy** = (TP + TN) / (TP + TN + FP +FN)<br>\n",
        "**Precision** = TP / (TP + FP)<br>\n",
        "**Recall** = TP / (TP + FN)<br>\n"
      ]
    },
    {
      "cell_type": "markdown",
      "metadata": {
        "id": "k-BrE8eaEw60"
      },
      "source": [
        "---\n",
        "### Exercise 2 (8 points)\n",
        "\n",
        "Answer the following questions by studying the confusion matrix (above).\n",
        "\n",
        "1. Which class has the lowest precision? What is that precision? Which class has the highest precision? What is that precision?\n",
        "2. For the class 'sneaker', what class is the largest source of false negatives? What about the largest source of false positives?"
      ]
    },
    {
      "cell_type": "markdown",
      "metadata": {
        "id": "hfQfsvzpVwfK"
      },
      "source": [
        "*Written answer:*\n",
        "\n",
        "1. **Class 6 (shirt):** the lowest precision with 57.92% and **Class 1 (trouser):** the highest precision with 96.58% \n",
        "2. For the class 'sneaker', the **ankle boot** is the largest source of false negatives while **sandal** is the largest source of false positives."
      ]
    },
    {
      "cell_type": "markdown",
      "metadata": {
        "id": "bpFmB9v5V4CE"
      },
      "source": [
        "---"
      ]
    },
    {
      "cell_type": "markdown",
      "metadata": {
        "id": "epIqYiQhQpJC"
      },
      "source": [
        "## Analyze Errors\n",
        "\n",
        "A crucial part of the development cycle in Machine Learning is analyzing errors to help understand the shortcomings of the model. While typically we'd want to use the development data for this purpose to preserve the purity of the test set, we'll just use our test split for simplicity.\n",
        "\n",
        "Since the \"shirt\" class seems to be the source for a lot of errors, let's look at some of the confusions."
      ]
    },
    {
      "cell_type": "markdown",
      "metadata": {
        "id": "lkKJaxCh5fc-"
      },
      "source": [
        "![Screen Shot 2022-09-21 at 8.54.55 AM.png](attachment:c81f7875-a081-4e64-a913-b78adfd2a91e.png)"
      ]
    },
    {
      "cell_type": "markdown",
      "metadata": {
        "id": "DLK2zFv2SWAy"
      },
      "source": [
        "---\n",
        "### Exercise 3 (8 points)\n",
        "\n",
        "1. Display 5 images with true label \"shirt\", but predicted label \"coat\" (false negatives for the \"shirt\" class).\n",
        "2. Display 5 images with predicted label \"shirt\", but true label \"coat\" (false positives for the \"shirt\" class)."
      ]
    },
    {
      "cell_type": "code",
      "execution_count": null,
      "metadata": {
        "id": "xUZfCG1ylVtp",
        "tags": []
      },
      "outputs": [],
      "source": [
        "# YOUR CODE HERE\n",
        "\n",
        "# Answers to both Q1 and Q2:\n",
        "def fn_fp_for_shirt(true_test, pred_test, true_label, pred_label, label_names):\n",
        "    idx_true_label = label_names.index(true_label)\n",
        "    idx_pred_label = label_names.index(pred_label)\n",
        "    \n",
        "    indexes_true_label = [idx for idx, val in enumerate(Y_test) if val == idx_true_label]\n",
        "    indexes_pred_label = [idx for idx, val in enumerate(test_predictions) if val == idx_pred_label]\n",
        "    matching_idx =  [i for i in indexes_true_label if i in indexes_pred_label][:5]\n",
        "#     print('matching_idx = ', matching_idx)\n",
        "    \n",
        "    fig, axs = plt.subplots(nrows=1, ncols=5, figsize=(15,6))\n",
        "    for idx, img_idx in enumerate(matching_idx):\n",
        "        image = X_test[img_idx]\n",
        "        axs[idx].imshow(image)    \n",
        "        axs[idx].set_title(f'True:{label_names[idx_true_label]} | Pred:{label_names[idx_pred_label]}')\n",
        "        axs[idx].axis('off')\n",
        "    plt.show()\n",
        "\n",
        "fn_fp_for_shirt(Y_test, test_predictions, 'shirt', 'coat', label_names)\n",
        "fn_fp_for_shirt(Y_test, test_predictions, 'coat', 'shirt', label_names)"
      ]
    },
    {
      "cell_type": "code",
      "execution_count": null,
      "metadata": {
        "id": "ntcb1LLs5fc_"
      },
      "outputs": [],
      "source": [
        "# Srila's code\n",
        "\n",
        "# false_positive_classified_shirts = []\n",
        "# false_negative_classified_shirts = []\n",
        "# for idx, val in enumerate(zip(Y_test, test_predictions)):\n",
        "#     actual, predict = val[0], val[1]\n",
        "#     if (actual != predict and actual == 6 and predict == 4) or (actual != predict and actual == 4 and predict == 6):\n",
        "#         if (actual != predict and actual == 6 and predict == 4):\n",
        "#             false_negative_classified_shirts.append((actual, predict, idx, 1))\n",
        "#         elif (actual != predict and actual == 4 and predict == 6):\n",
        "#             false_positive_classified_shirts.append((actual, predict, idx, 2))\n",
        "\n",
        "# print(false_negative_classified_shirts[:5])\n",
        "# print(false_positive_classified_shirts[:5])\n",
        "\n",
        "# plt.figure(figsize=(15,15))\n",
        "# for index, fn_image in enumerate(false_negative_classified_shirts[:5]):\n",
        "# #     print(index, fn_image)\n",
        "#     plt.xticks([])\n",
        "#     plt.yticks([])\n",
        "#     plt.subplot(4, 5, index + 1)\n",
        "#     plt.imshow(np.reshape(X_test[fn_image[2]], (28,28)))\n",
        "#     plt.title('Actual: {}, Pred: {}'.format(label_names[6], label_names[4]), fontsize = 10)\n",
        "\n",
        "# plt.figure(figsize=(15,15))\n",
        "# for index, fp_image in enumerate(false_positive_classified_shirts[:5]):\n",
        "#     print(index, fp_image)\n",
        "#     plt.xticks([])\n",
        "#     plt.yticks([])\n",
        "#     plt.subplot(4, 5, index + 1)\n",
        "#     plt.imshow(np.reshape(X_test[fp_image[2]], (28,28)))\n",
        "#     plt.title('Actual: {}, Pred: {}'.format(label_names[4], label_names[6]), fontsize = 10)"
      ]
    },
    {
      "cell_type": "code",
      "execution_count": null,
      "metadata": {
        "id": "-kTNwao_5fc_"
      },
      "outputs": [],
      "source": [
        "# fn_for_shirt = conf_matrix_array[6,4]\n",
        "# fp_for_shirt = conf_matrix_array[4,6]\n",
        "# print('FN for shirt = ', fn_for_shirt, ' | ', 'FP for shirt = ', fp_for_shirt)\n",
        "\n",
        "# 1. find 5 shirts that are mislabeled as coats in prediction\n",
        "# 2. find 5 coats that are mislabeled as shirts in prediction\n",
        "# print(Y_test[10:20])\n",
        "# print(test_predictions[10:20])\n",
        "# print(list(zip(Y_test, test_predictions))[10:20])\n",
        "# print(f'len(Y_test) = {len(Y_test)} | Y_test = {Y_test} | np.unique() = {np.unique(Y_test)}')\n",
        "# print(f'len(test_pred) = {len(test_predictions)} | test_pred = {test_predictions} | np.unique() = {np.unique(test_predictions)}')\n",
        "# print()\n",
        "\n",
        "\n",
        "# print('\\nshirt_idx:\\n',shirt_idx)\n",
        "# print('coat_idx:\\n',coat_idx)\n",
        "# print('\\nset(shirt_idx)&set(coat_idx):\\n', set(a) & set(b))\n",
        "# print('\\nset(shirt_idx)&set(coat_idx):\\n', [i for i, j in zip(shirt_idx,coat_idx) if j==j])\n",
        "\n",
        "print(Y_test[10:20])\n",
        "print(test_predictions[10:20])\n",
        "print(Y_test[17])\n",
        "print(test_predictions[17])"
      ]
    },
    {
      "cell_type": "markdown",
      "metadata": {
        "id": "DCmcQmKXlYK7"
      },
      "source": [
        "---"
      ]
    },
    {
      "cell_type": "markdown",
      "metadata": {
        "id": "dyMHf5pGjkxm"
      },
      "source": [
        "## Visualize Parameters\n",
        "Finally, here's some code that helps visualize the learned parameters for each class."
      ]
    },
    {
      "cell_type": "code",
      "execution_count": null,
      "metadata": {
        "id": "C-6ovDo8jvLH"
      },
      "outputs": [],
      "source": [
        "weights, biases = model.layers[1].get_weights()\n",
        "fig, axs = plt.subplots(2, 5, figsize=(16,7))\n",
        "# print('axs.flatten(): ', axs.flatten())\n",
        "for i, ax in enumerate(axs.flatten()):\n",
        "#     print(weights[:,i].reshape(28,28))\n",
        "    ax.imshow(weights[:,i].reshape(28,28), cmap='PRGn')\n",
        "    ax.axis('off')\n",
        "    ax.set_title(label_names[i])\n",
        "plt.show()"
      ]
    },
    {
      "cell_type": "code",
      "execution_count": null,
      "metadata": {
        "id": "ny6Q9jFH5fdA"
      },
      "outputs": [],
      "source": []
    }
  ],
  "metadata": {
    "colab": {
      "provenance": [],
      "include_colab_link": true
    },
    "kernelspec": {
      "display_name": "Python 3",
      "language": "python",
      "name": "python3"
    },
    "language_info": {
      "codemirror_mode": {
        "name": "ipython",
        "version": 3
      },
      "file_extension": ".py",
      "mimetype": "text/x-python",
      "name": "python",
      "nbconvert_exporter": "python",
      "pygments_lexer": "ipython3",
      "version": "3.8.8"
    }
  },
  "nbformat": 4,
  "nbformat_minor": 0
}