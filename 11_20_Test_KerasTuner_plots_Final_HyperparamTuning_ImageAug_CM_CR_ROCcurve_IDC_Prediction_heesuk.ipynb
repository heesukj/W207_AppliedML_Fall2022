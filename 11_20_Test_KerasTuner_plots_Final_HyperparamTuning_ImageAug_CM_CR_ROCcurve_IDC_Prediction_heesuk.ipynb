{
  "nbformat": 4,
  "nbformat_minor": 0,
  "metadata": {
    "colab": {
      "provenance": [],
      "include_colab_link": true
    },
    "kernelspec": {
      "name": "python3",
      "display_name": "Python 3"
    },
    "language_info": {
      "name": "python"
    },
    "gpuClass": "standard"
  },
  "cells": [
    {
      "cell_type": "markdown",
      "metadata": {
        "id": "view-in-github",
        "colab_type": "text"
      },
      "source": [
        "<a href=\"https://colab.research.google.com/github/heesukjang/W207_AppliedML_Fall2022/blob/main/11_20_Test_KerasTuner_plots_Final_HyperparamTuning_ImageAug_CM_CR_ROCcurve_IDC_Prediction_heesuk.ipynb\" target=\"_parent\"><img src=\"https://colab.research.google.com/assets/colab-badge.svg\" alt=\"Open In Colab\"/></a>"
      ]
    },
    {
      "cell_type": "markdown",
      "source": [
        "## FALL 2022<br>\n",
        "W207 Applied Machine Learning<br>\n",
        "Heesuk Jang\n",
        " \n",
        "\n",
        "**XGBoost:** an optimized version of Gradient Boosting / much more evolved version of Random Forest in terms of speed and accuracy\n",
        "\n",
        "#Predicting IDC with Breast Histopathology Images using CNN\n",
        "\n"
      ],
      "metadata": {
        "id": "5DebDWCL0KeL"
      }
    },
    {
      "cell_type": "code",
      "execution_count": 7,
      "metadata": {
        "id": "SRkZHKoWswZT",
        "colab": {
          "base_uri": "https://localhost:8080/"
        },
        "outputId": "9d22b628-661f-4ad2-c6d4-d6f3b1811d03"
      },
      "outputs": [
        {
          "output_type": "stream",
          "name": "stdout",
          "text": [
            "Drive already mounted at /content/gdrive; to attempt to forcibly remount, call drive.mount(\"/content/gdrive\", force_remount=True).\n"
          ]
        }
      ],
      "source": [
        "import pandas as pd\n",
        "import numpy as np\n",
        "import os\n",
        "import re\n",
        "import random\n",
        "import joblib\n",
        "import glob\n",
        "import itertools\n",
        "\n",
        "import matplotlib.pyplot as plt\n",
        "import seaborn as sns\n",
        "import plotly.express as px\n",
        "import matplotlib.patches as patches\n",
        "\n",
        "from sklearn.utils import shuffle\n",
        "from sklearn.ensemble import GradientBoostingClassifier, AdaBoostClassifier, RandomForestClassifier\n",
        "from sklearn.model_selection import train_test_split, GridSearchCV\n",
        "from scipy import stats\n",
        "from collections import Counter\n",
        "from sklearn import preprocessing\n",
        "from sklearn.preprocessing import StandardScaler\n",
        "from sklearn.metrics import *                            # confusion_matrix, log_loss, accuracy_score\n",
        "from sklearn.model_selection import *                    # train_test_split\n",
        "from sklearn.tree import DecisionTreeClassifier\n",
        "from sklearn.naive_bayes import GaussianNB\n",
        "from sklearn import preprocessing\n",
        "from sklearn.preprocessing import *  \n",
        "# from sklearn.ensemble import *\n",
        "from sklearn.svm import *\n",
        "from sklearn.linear_model import *                       # LinearRegression\n",
        "from sklearn.discriminant_analysis import *\n",
        "from sklearn.neighbors import KNeighborsClassifier\n",
        "from mlxtend.plotting import plot_decision_regions\n",
        "\n",
        "import tensorflow as tf\n",
        "from tensorflow import keras\n",
        "from keras import metrics\n",
        "from tensorflow.keras import initializers\n",
        "from tensorflow.keras.preprocessing.image import ImageDataGenerator\n",
        "from tensorflow.keras.layers import RandomFlip, RandomZoom, RandomRotation, Conv2D, MaxPooling2D, AveragePooling2D, Input, Dense, Flatten, Dropout, BatchNormalization, GlobalAveragePooling2D\n",
        "from tensorflow.keras.losses import BinaryCrossentropy, CategoricalCrossentropy\n",
        "from tensorflow.keras.models import Sequential\n",
        "from tensorflow.keras.optimizers import Adam, SGD, Adadelta, Adagrad, RMSprop\n",
        "from keras.layers import ReLU, LeakyReLU\n",
        "from tensorflow.keras.callbacks import ReduceLROnPlateau, ModelCheckpoint\n",
        "from keras.wrappers.scikit_learn import KerasClassifier\n",
        "from keras.layers import ReLU, LeakyReLU\n",
        "\n",
        "from sklearn.metrics import roc_auc_score, auc\n",
        "from sklearn.metrics import roc_curve\n",
        "\n",
        "tf.get_logger().setLevel('INFO')\n",
        "\n",
        "import cv2 as cv\n",
        "import skimage.io as io\n",
        "\n",
        "import warnings\n",
        "warnings.filterwarnings('ignore')\n",
        "\n",
        "# Required to read the data from Kaggle\n",
        "from google.colab import drive\n",
        "# drive.mount('/content/gdrive')\n",
        "# os.environ['KAGGLE_CONFIG_DIR'] = \"/content/gdrive/MyDrive/Kaggle\"\n",
        "\n",
        "from google.colab import drive\n",
        "drive.mount('/content/gdrive')\n",
        "\n",
        "import warnings\n",
        "warnings.simplefilter(\"ignore\", category=DeprecationWarning)"
      ]
    },
    {
      "cell_type": "markdown",
      "source": [
        "## Install Optuna and Version Check"
      ],
      "metadata": {
        "id": "2NlEwp6jmZsY"
      }
    },
    {
      "cell_type": "code",
      "source": [
        "# !pip install --quiet optuna\n",
        "# import optuna\n",
        "# optuna.__version__"
      ],
      "metadata": {
        "id": "vbF2pFtlbJaH"
      },
      "execution_count": 8,
      "outputs": []
    },
    {
      "cell_type": "code",
      "source": [
        "# !pip install -q -U keras-tuner\n",
        "# import keras_tuner as kt\n",
        "\n",
        "# !pip install xgboost\n",
        "# import xgboost as xgb"
      ],
      "metadata": {
        "id": "XmhJR4rTcSlm"
      },
      "execution_count": 9,
      "outputs": []
    },
    {
      "cell_type": "markdown",
      "source": [
        "## Enabling and testing the GPU"
      ],
      "metadata": {
        "id": "2JC1sfIYmRuY"
      }
    },
    {
      "cell_type": "code",
      "source": [
        "# import tensorflow as tf\n",
        "# device_name = tf.test.gpu_device_name()\n",
        "# if device_name != '/device:GPU:0':\n",
        "#   raise SystemError('GPU device not found')\n",
        "# print('Found GPU at: {}'.format(device_name))"
      ],
      "metadata": {
        "id": "lpo1_3kNlzoo"
      },
      "execution_count": 10,
      "outputs": []
    },
    {
      "cell_type": "markdown",
      "source": [
        "## Enabling and testing the TPU"
      ],
      "metadata": {
        "id": "s3LsW0cGnF8e"
      }
    },
    {
      "cell_type": "markdown",
      "source": [
        "## Observe TensorFlow speedup on GPU relative to CPU"
      ],
      "metadata": {
        "id": "Xqgm8yAcmT7Q"
      }
    },
    {
      "cell_type": "code",
      "source": [
        "# !unzip gdrive/MyDrive/Kaggle/CNN_IDC/Dataset.zip\n",
        "\n",
        "#replace these paths with the paths of your \n",
        "val_image_directory = '/content/gdrive/MyDrive/Kaggle/CNN_IDC/Dataset/Validate'\n",
        "train_image_directory = '/content/gdrive/MyDrive/Kaggle/CNN_IDC/Dataset/Train'\n",
        "test_image_directory = '/content/gdrive/MyDrive/Kaggle/CNN_IDC/Dataset/Test'\n",
        "directory_path = '/content/gdrive/MyDrive/Kaggle/CNN_IDC'"
      ],
      "metadata": {
        "id": "uyWJuOkZuCVl"
      },
      "execution_count": 11,
      "outputs": []
    },
    {
      "cell_type": "code",
      "source": [
        "def get_paths(directory):\n",
        "  all_path = []\n",
        "  idc_image_path = []\n",
        "  idc_image_label = []\n",
        "\n",
        "  for dir, subdir, files in os.walk(directory):\n",
        "    path = dir + \"/\"\n",
        "    all_path.append(path)\n",
        "\n",
        "  for i in range(len(all_path)):\n",
        "    for file in os.listdir(all_path[i]):\n",
        "      test = file\n",
        "      path = all_path[i] + test\n",
        "      if path.lower().endswith('.png'):\n",
        "        idc_image_path.append(path)\n",
        "\n",
        "  for i in range(len(idc_image_path)):\n",
        "    split_test = idc_image_path[i]\n",
        "    split_path = split_test.split(\"/\")\n",
        "    directory_name = split_path[7]\n",
        "    idc_image_label.append('class_' + split_path[8])\n",
        "  return idc_image_path, idc_image_label, directory_name"
      ],
      "metadata": {
        "id": "N892xh1IM4q7"
      },
      "execution_count": 12,
      "outputs": []
    },
    {
      "cell_type": "code",
      "source": [
        "train_paths, train_labels, train_dir = get_paths(train_image_directory)\n",
        "val_paths, val_labels, val_dir = get_paths(val_image_directory)\n",
        "test_paths, test_labels, test_dir = get_paths(test_image_directory)"
      ],
      "metadata": {
        "id": "SJ6Cl4wtmxjO"
      },
      "execution_count": 13,
      "outputs": []
    },
    {
      "cell_type": "code",
      "source": [
        "print(train_labels[:5])\n",
        "print(train_labels[-5:])\n",
        "\n",
        "print(len(train_paths), len(train_labels))\n",
        "print(len(test_paths), len(test_labels))\n",
        "print(len(val_paths), len(val_labels))"
      ],
      "metadata": {
        "id": "NIf9ETAsmxa2",
        "outputId": "f61793fd-73c6-446e-87f0-f2901507e9ef",
        "colab": {
          "base_uri": "https://localhost:8080/"
        }
      },
      "execution_count": 14,
      "outputs": [
        {
          "output_type": "stream",
          "name": "stdout",
          "text": [
            "['class_0', 'class_0', 'class_0', 'class_0', 'class_0']\n",
            "['class_1', 'class_1', 'class_1', 'class_1', 'class_1']\n",
            "800 800\n",
            "200 200\n",
            "200 200\n"
          ]
        }
      ]
    },
    {
      "cell_type": "code",
      "source": [
        "print(train_paths[:2])\n",
        "print(train_labels[:10])\n",
        "print(train_dir)"
      ],
      "metadata": {
        "id": "uCJzEwS8mxSR",
        "outputId": "76a73248-3777-4335-f8f4-160f84f535c3",
        "colab": {
          "base_uri": "https://localhost:8080/"
        }
      },
      "execution_count": 15,
      "outputs": [
        {
          "output_type": "stream",
          "name": "stdout",
          "text": [
            "['/content/gdrive/MyDrive/Kaggle/CNN_IDC/Dataset/Train/0/12880_idx5_x451_y701_class0.png', '/content/gdrive/MyDrive/Kaggle/CNN_IDC/Dataset/Train/0/9345_idx5_x2001_y2001_class0.png']\n",
            "['class_0', 'class_0', 'class_0', 'class_0', 'class_0', 'class_0', 'class_0', 'class_0', 'class_0', 'class_0']\n",
            "Train\n"
          ]
        }
      ]
    },
    {
      "cell_type": "code",
      "source": [
        "def create_dataframes(idc_image_path, idc_image_label, directory_name):\n",
        "  same_name = directory_name.lower() + '_'\n",
        "  #creating the dataframes that we will be passing to our generators\n",
        "  idc_data_cleaned = {'path': idc_image_path,\n",
        "            'label': idc_image_label}\n",
        "  idc_df = pd.DataFrame(idc_data_cleaned)\n",
        "  idc_df['label_int'] = idc_df['label'].str.split(\"_\", expand=True)[1]    # Added a new column 'label_int'\n",
        "  df = idc_df.sample(frac = 1)\n",
        "  print(df)\n",
        "  csv_path = directory_path\n",
        "  csv_file = df.to_csv(csv_path + '/' + same_name + 'idc_dataframe.csv')\n",
        "  csv_file_path = csv_path + '/' + same_name + 'idc_dataframe.csv'\n",
        "  return csv_file_path"
      ],
      "metadata": {
        "id": "_WU9qt2RmxHZ"
      },
      "execution_count": 16,
      "outputs": []
    },
    {
      "cell_type": "code",
      "source": [
        "train_dataframe = create_dataframes(train_paths, train_labels, train_dir)\n",
        "print('type(train_dataframe): ',type(train_dataframe))\n",
        "train_dataframe"
      ],
      "metadata": {
        "id": "MJxUgm39NeU7",
        "outputId": "f95d8370-fc9a-4b7b-de4e-75613feda31d",
        "colab": {
          "base_uri": "https://localhost:8080/",
          "height": 295
        }
      },
      "execution_count": 17,
      "outputs": [
        {
          "output_type": "stream",
          "name": "stdout",
          "text": [
            "                                                  path    label label_int\n",
            "593  /content/gdrive/MyDrive/Kaggle/CNN_IDC/Dataset...  class_1         1\n",
            "194  /content/gdrive/MyDrive/Kaggle/CNN_IDC/Dataset...  class_0         0\n",
            "774  /content/gdrive/MyDrive/Kaggle/CNN_IDC/Dataset...  class_1         1\n",
            "249  /content/gdrive/MyDrive/Kaggle/CNN_IDC/Dataset...  class_0         0\n",
            "156  /content/gdrive/MyDrive/Kaggle/CNN_IDC/Dataset...  class_0         0\n",
            "..                                                 ...      ...       ...\n",
            "78   /content/gdrive/MyDrive/Kaggle/CNN_IDC/Dataset...  class_0         0\n",
            "172  /content/gdrive/MyDrive/Kaggle/CNN_IDC/Dataset...  class_0         0\n",
            "33   /content/gdrive/MyDrive/Kaggle/CNN_IDC/Dataset...  class_0         0\n",
            "579  /content/gdrive/MyDrive/Kaggle/CNN_IDC/Dataset...  class_1         1\n",
            "529  /content/gdrive/MyDrive/Kaggle/CNN_IDC/Dataset...  class_1         1\n",
            "\n",
            "[800 rows x 3 columns]\n",
            "type(train_dataframe):  <class 'str'>\n"
          ]
        },
        {
          "output_type": "execute_result",
          "data": {
            "text/plain": [
              "'/content/gdrive/MyDrive/Kaggle/CNN_IDC/train_idc_dataframe.csv'"
            ],
            "application/vnd.google.colaboratory.intrinsic+json": {
              "type": "string"
            }
          },
          "metadata": {},
          "execution_count": 17
        }
      ]
    },
    {
      "cell_type": "code",
      "source": [
        "train_dataframe = create_dataframes(train_paths, train_labels, train_dir)\n",
        "train_generator = pd.read_csv(train_dataframe)\n",
        "\n",
        "test_dataframe = create_dataframes(test_paths, test_labels, test_dir)\n",
        "test_generator = pd.read_csv(test_dataframe)\n",
        "\n",
        "val_dataframe = create_dataframes(val_paths, val_labels, val_dir)\n",
        "val_generator = pd.read_csv(val_dataframe)"
      ],
      "metadata": {
        "id": "hnDu_3N4mw1G",
        "outputId": "756c48e3-ac3c-4051-f11d-7d154cf26c3a",
        "colab": {
          "base_uri": "https://localhost:8080/"
        }
      },
      "execution_count": 18,
      "outputs": [
        {
          "output_type": "stream",
          "name": "stdout",
          "text": [
            "                                                  path    label label_int\n",
            "157  /content/gdrive/MyDrive/Kaggle/CNN_IDC/Dataset...  class_0         0\n",
            "329  /content/gdrive/MyDrive/Kaggle/CNN_IDC/Dataset...  class_0         0\n",
            "658  /content/gdrive/MyDrive/Kaggle/CNN_IDC/Dataset...  class_1         1\n",
            "201  /content/gdrive/MyDrive/Kaggle/CNN_IDC/Dataset...  class_0         0\n",
            "592  /content/gdrive/MyDrive/Kaggle/CNN_IDC/Dataset...  class_1         1\n",
            "..                                                 ...      ...       ...\n",
            "459  /content/gdrive/MyDrive/Kaggle/CNN_IDC/Dataset...  class_1         1\n",
            "189  /content/gdrive/MyDrive/Kaggle/CNN_IDC/Dataset...  class_0         0\n",
            "289  /content/gdrive/MyDrive/Kaggle/CNN_IDC/Dataset...  class_0         0\n",
            "427  /content/gdrive/MyDrive/Kaggle/CNN_IDC/Dataset...  class_1         1\n",
            "285  /content/gdrive/MyDrive/Kaggle/CNN_IDC/Dataset...  class_0         0\n",
            "\n",
            "[800 rows x 3 columns]\n",
            "                                                  path    label label_int\n",
            "184  /content/gdrive/MyDrive/Kaggle/CNN_IDC/Dataset...  class_1         1\n",
            "145  /content/gdrive/MyDrive/Kaggle/CNN_IDC/Dataset...  class_1         1\n",
            "35   /content/gdrive/MyDrive/Kaggle/CNN_IDC/Dataset...  class_0         0\n",
            "50   /content/gdrive/MyDrive/Kaggle/CNN_IDC/Dataset...  class_0         0\n",
            "183  /content/gdrive/MyDrive/Kaggle/CNN_IDC/Dataset...  class_1         1\n",
            "..                                                 ...      ...       ...\n",
            "199  /content/gdrive/MyDrive/Kaggle/CNN_IDC/Dataset...  class_1         1\n",
            "181  /content/gdrive/MyDrive/Kaggle/CNN_IDC/Dataset...  class_1         1\n",
            "84   /content/gdrive/MyDrive/Kaggle/CNN_IDC/Dataset...  class_0         0\n",
            "103  /content/gdrive/MyDrive/Kaggle/CNN_IDC/Dataset...  class_1         1\n",
            "168  /content/gdrive/MyDrive/Kaggle/CNN_IDC/Dataset...  class_1         1\n",
            "\n",
            "[200 rows x 3 columns]\n",
            "                                                  path    label label_int\n",
            "9    /content/gdrive/MyDrive/Kaggle/CNN_IDC/Dataset...  class_0         0\n",
            "172  /content/gdrive/MyDrive/Kaggle/CNN_IDC/Dataset...  class_1         1\n",
            "171  /content/gdrive/MyDrive/Kaggle/CNN_IDC/Dataset...  class_1         1\n",
            "161  /content/gdrive/MyDrive/Kaggle/CNN_IDC/Dataset...  class_1         1\n",
            "92   /content/gdrive/MyDrive/Kaggle/CNN_IDC/Dataset...  class_0         0\n",
            "..                                                 ...      ...       ...\n",
            "81   /content/gdrive/MyDrive/Kaggle/CNN_IDC/Dataset...  class_0         0\n",
            "35   /content/gdrive/MyDrive/Kaggle/CNN_IDC/Dataset...  class_0         0\n",
            "54   /content/gdrive/MyDrive/Kaggle/CNN_IDC/Dataset...  class_0         0\n",
            "192  /content/gdrive/MyDrive/Kaggle/CNN_IDC/Dataset...  class_1         1\n",
            "147  /content/gdrive/MyDrive/Kaggle/CNN_IDC/Dataset...  class_1         1\n",
            "\n",
            "[200 rows x 3 columns]\n"
          ]
        }
      ]
    },
    {
      "cell_type": "code",
      "source": [
        "from tqdm import tqdm # import tqdm\n",
        "\n",
        "# Apply gray scale to all images, flatten and store array / shape in new columns\n",
        "def get_img_arrays(df,):\n",
        "    # read each image array from corresponding path as grayscale and flatten the image array\n",
        "    df['img_array'] = df.progress_apply(lambda x : io.imread(x['path'],as_gray=True).flatten(),axis=1) # make sure to specify axis = 1\n",
        "    # get the shape of each image array and store it in the dataframe\n",
        "    df['array_shape'] = df.progress_apply(lambda x : x['img_array'].shape[0],axis=1) # make sure to specify axis = 1\n",
        "    return df\n"
      ],
      "metadata": {
        "id": "nkWYjNvnHrrn"
      },
      "execution_count": 19,
      "outputs": []
    },
    {
      "cell_type": "code",
      "source": [
        "from tqdm import tqdm # import tqdm\n",
        "tqdm.pandas() # initialize tqdm for pandas\n",
        "\n",
        "# # tqdm is a library that enables you to visualize the progress of a for loop by displaying a configurable progress bar\n",
        "\n",
        "train_generator = get_img_arrays(df = train_generator)\n",
        "val_generator = get_img_arrays(df = val_generator)\n",
        "test_generator = get_img_arrays(df = test_generator)"
      ],
      "metadata": {
        "id": "d9iPVxRZHreQ",
        "outputId": "c14dcce8-c019-41a6-8326-07e9b884184f",
        "colab": {
          "base_uri": "https://localhost:8080/"
        }
      },
      "execution_count": 20,
      "outputs": [
        {
          "output_type": "stream",
          "name": "stderr",
          "text": [
            "100%|██████████| 800/800 [01:24<00:00,  9.51it/s]\n",
            "100%|██████████| 800/800 [00:00<00:00, 57840.50it/s]\n",
            "100%|██████████| 200/200 [00:39<00:00,  5.02it/s]\n",
            "100%|██████████| 200/200 [00:00<00:00, 16552.11it/s]\n",
            "100%|██████████| 200/200 [00:36<00:00,  5.52it/s]\n",
            "100%|██████████| 200/200 [00:00<00:00, 28772.45it/s]\n"
          ]
        }
      ]
    },
    {
      "cell_type": "code",
      "source": [
        "train_generator"
      ],
      "metadata": {
        "id": "VkNIJJHitwoK",
        "outputId": "0ef083d6-c5d1-41bb-e286-0823cb892a44",
        "colab": {
          "base_uri": "https://localhost:8080/",
          "height": 424
        }
      },
      "execution_count": 21,
      "outputs": [
        {
          "output_type": "execute_result",
          "data": {
            "text/plain": [
              "     Unnamed: 0                                               path    label  \\\n",
              "0           157  /content/gdrive/MyDrive/Kaggle/CNN_IDC/Dataset...  class_0   \n",
              "1           329  /content/gdrive/MyDrive/Kaggle/CNN_IDC/Dataset...  class_0   \n",
              "2           658  /content/gdrive/MyDrive/Kaggle/CNN_IDC/Dataset...  class_1   \n",
              "3           201  /content/gdrive/MyDrive/Kaggle/CNN_IDC/Dataset...  class_0   \n",
              "4           592  /content/gdrive/MyDrive/Kaggle/CNN_IDC/Dataset...  class_1   \n",
              "..          ...                                                ...      ...   \n",
              "795         459  /content/gdrive/MyDrive/Kaggle/CNN_IDC/Dataset...  class_1   \n",
              "796         189  /content/gdrive/MyDrive/Kaggle/CNN_IDC/Dataset...  class_0   \n",
              "797         289  /content/gdrive/MyDrive/Kaggle/CNN_IDC/Dataset...  class_0   \n",
              "798         427  /content/gdrive/MyDrive/Kaggle/CNN_IDC/Dataset...  class_1   \n",
              "799         285  /content/gdrive/MyDrive/Kaggle/CNN_IDC/Dataset...  class_0   \n",
              "\n",
              "     label_int                                          img_array  array_shape  \n",
              "0            0  [0.9355654901960784, 0.9355654901960784, 0.935...         2500  \n",
              "1            0  [0.9638576470588236, 0.9593776470588236, 0.966...         2500  \n",
              "2            1  [0.6978607843137254, 0.7935662745098039, 0.772...         2500  \n",
              "3            0  [0.4310525490196079, 0.3840164705882353, 0.346...         2500  \n",
              "4            1  [0.5852164705882353, 0.5129843137254902, 0.463...         2500  \n",
              "..         ...                                                ...          ...  \n",
              "795          1  [0.6380149019607845, 0.49372313725490197, 0.53...         2500  \n",
              "796          0  [0.7192403921568626, 0.6762729411764706, 0.745...         2500  \n",
              "797          0  [0.5877803921568627, 0.5355701960784314, 0.575...         2500  \n",
              "798          1  [0.303963137254902, 0.31774549019607845, 0.284...         2500  \n",
              "799          0  [0.6467176470588236, 0.5911741176470587, 0.586...         2500  \n",
              "\n",
              "[800 rows x 6 columns]"
            ],
            "text/html": [
              "\n",
              "  <div id=\"df-56caab59-0bb4-4858-a28a-fdb9529dee3b\">\n",
              "    <div class=\"colab-df-container\">\n",
              "      <div>\n",
              "<style scoped>\n",
              "    .dataframe tbody tr th:only-of-type {\n",
              "        vertical-align: middle;\n",
              "    }\n",
              "\n",
              "    .dataframe tbody tr th {\n",
              "        vertical-align: top;\n",
              "    }\n",
              "\n",
              "    .dataframe thead th {\n",
              "        text-align: right;\n",
              "    }\n",
              "</style>\n",
              "<table border=\"1\" class=\"dataframe\">\n",
              "  <thead>\n",
              "    <tr style=\"text-align: right;\">\n",
              "      <th></th>\n",
              "      <th>Unnamed: 0</th>\n",
              "      <th>path</th>\n",
              "      <th>label</th>\n",
              "      <th>label_int</th>\n",
              "      <th>img_array</th>\n",
              "      <th>array_shape</th>\n",
              "    </tr>\n",
              "  </thead>\n",
              "  <tbody>\n",
              "    <tr>\n",
              "      <th>0</th>\n",
              "      <td>157</td>\n",
              "      <td>/content/gdrive/MyDrive/Kaggle/CNN_IDC/Dataset...</td>\n",
              "      <td>class_0</td>\n",
              "      <td>0</td>\n",
              "      <td>[0.9355654901960784, 0.9355654901960784, 0.935...</td>\n",
              "      <td>2500</td>\n",
              "    </tr>\n",
              "    <tr>\n",
              "      <th>1</th>\n",
              "      <td>329</td>\n",
              "      <td>/content/gdrive/MyDrive/Kaggle/CNN_IDC/Dataset...</td>\n",
              "      <td>class_0</td>\n",
              "      <td>0</td>\n",
              "      <td>[0.9638576470588236, 0.9593776470588236, 0.966...</td>\n",
              "      <td>2500</td>\n",
              "    </tr>\n",
              "    <tr>\n",
              "      <th>2</th>\n",
              "      <td>658</td>\n",
              "      <td>/content/gdrive/MyDrive/Kaggle/CNN_IDC/Dataset...</td>\n",
              "      <td>class_1</td>\n",
              "      <td>1</td>\n",
              "      <td>[0.6978607843137254, 0.7935662745098039, 0.772...</td>\n",
              "      <td>2500</td>\n",
              "    </tr>\n",
              "    <tr>\n",
              "      <th>3</th>\n",
              "      <td>201</td>\n",
              "      <td>/content/gdrive/MyDrive/Kaggle/CNN_IDC/Dataset...</td>\n",
              "      <td>class_0</td>\n",
              "      <td>0</td>\n",
              "      <td>[0.4310525490196079, 0.3840164705882353, 0.346...</td>\n",
              "      <td>2500</td>\n",
              "    </tr>\n",
              "    <tr>\n",
              "      <th>4</th>\n",
              "      <td>592</td>\n",
              "      <td>/content/gdrive/MyDrive/Kaggle/CNN_IDC/Dataset...</td>\n",
              "      <td>class_1</td>\n",
              "      <td>1</td>\n",
              "      <td>[0.5852164705882353, 0.5129843137254902, 0.463...</td>\n",
              "      <td>2500</td>\n",
              "    </tr>\n",
              "    <tr>\n",
              "      <th>...</th>\n",
              "      <td>...</td>\n",
              "      <td>...</td>\n",
              "      <td>...</td>\n",
              "      <td>...</td>\n",
              "      <td>...</td>\n",
              "      <td>...</td>\n",
              "    </tr>\n",
              "    <tr>\n",
              "      <th>795</th>\n",
              "      <td>459</td>\n",
              "      <td>/content/gdrive/MyDrive/Kaggle/CNN_IDC/Dataset...</td>\n",
              "      <td>class_1</td>\n",
              "      <td>1</td>\n",
              "      <td>[0.6380149019607845, 0.49372313725490197, 0.53...</td>\n",
              "      <td>2500</td>\n",
              "    </tr>\n",
              "    <tr>\n",
              "      <th>796</th>\n",
              "      <td>189</td>\n",
              "      <td>/content/gdrive/MyDrive/Kaggle/CNN_IDC/Dataset...</td>\n",
              "      <td>class_0</td>\n",
              "      <td>0</td>\n",
              "      <td>[0.7192403921568626, 0.6762729411764706, 0.745...</td>\n",
              "      <td>2500</td>\n",
              "    </tr>\n",
              "    <tr>\n",
              "      <th>797</th>\n",
              "      <td>289</td>\n",
              "      <td>/content/gdrive/MyDrive/Kaggle/CNN_IDC/Dataset...</td>\n",
              "      <td>class_0</td>\n",
              "      <td>0</td>\n",
              "      <td>[0.5877803921568627, 0.5355701960784314, 0.575...</td>\n",
              "      <td>2500</td>\n",
              "    </tr>\n",
              "    <tr>\n",
              "      <th>798</th>\n",
              "      <td>427</td>\n",
              "      <td>/content/gdrive/MyDrive/Kaggle/CNN_IDC/Dataset...</td>\n",
              "      <td>class_1</td>\n",
              "      <td>1</td>\n",
              "      <td>[0.303963137254902, 0.31774549019607845, 0.284...</td>\n",
              "      <td>2500</td>\n",
              "    </tr>\n",
              "    <tr>\n",
              "      <th>799</th>\n",
              "      <td>285</td>\n",
              "      <td>/content/gdrive/MyDrive/Kaggle/CNN_IDC/Dataset...</td>\n",
              "      <td>class_0</td>\n",
              "      <td>0</td>\n",
              "      <td>[0.6467176470588236, 0.5911741176470587, 0.586...</td>\n",
              "      <td>2500</td>\n",
              "    </tr>\n",
              "  </tbody>\n",
              "</table>\n",
              "<p>800 rows × 6 columns</p>\n",
              "</div>\n",
              "      <button class=\"colab-df-convert\" onclick=\"convertToInteractive('df-56caab59-0bb4-4858-a28a-fdb9529dee3b')\"\n",
              "              title=\"Convert this dataframe to an interactive table.\"\n",
              "              style=\"display:none;\">\n",
              "        \n",
              "  <svg xmlns=\"http://www.w3.org/2000/svg\" height=\"24px\"viewBox=\"0 0 24 24\"\n",
              "       width=\"24px\">\n",
              "    <path d=\"M0 0h24v24H0V0z\" fill=\"none\"/>\n",
              "    <path d=\"M18.56 5.44l.94 2.06.94-2.06 2.06-.94-2.06-.94-.94-2.06-.94 2.06-2.06.94zm-11 1L8.5 8.5l.94-2.06 2.06-.94-2.06-.94L8.5 2.5l-.94 2.06-2.06.94zm10 10l.94 2.06.94-2.06 2.06-.94-2.06-.94-.94-2.06-.94 2.06-2.06.94z\"/><path d=\"M17.41 7.96l-1.37-1.37c-.4-.4-.92-.59-1.43-.59-.52 0-1.04.2-1.43.59L10.3 9.45l-7.72 7.72c-.78.78-.78 2.05 0 2.83L4 21.41c.39.39.9.59 1.41.59.51 0 1.02-.2 1.41-.59l7.78-7.78 2.81-2.81c.8-.78.8-2.07 0-2.86zM5.41 20L4 18.59l7.72-7.72 1.47 1.35L5.41 20z\"/>\n",
              "  </svg>\n",
              "      </button>\n",
              "      \n",
              "  <style>\n",
              "    .colab-df-container {\n",
              "      display:flex;\n",
              "      flex-wrap:wrap;\n",
              "      gap: 12px;\n",
              "    }\n",
              "\n",
              "    .colab-df-convert {\n",
              "      background-color: #E8F0FE;\n",
              "      border: none;\n",
              "      border-radius: 50%;\n",
              "      cursor: pointer;\n",
              "      display: none;\n",
              "      fill: #1967D2;\n",
              "      height: 32px;\n",
              "      padding: 0 0 0 0;\n",
              "      width: 32px;\n",
              "    }\n",
              "\n",
              "    .colab-df-convert:hover {\n",
              "      background-color: #E2EBFA;\n",
              "      box-shadow: 0px 1px 2px rgba(60, 64, 67, 0.3), 0px 1px 3px 1px rgba(60, 64, 67, 0.15);\n",
              "      fill: #174EA6;\n",
              "    }\n",
              "\n",
              "    [theme=dark] .colab-df-convert {\n",
              "      background-color: #3B4455;\n",
              "      fill: #D2E3FC;\n",
              "    }\n",
              "\n",
              "    [theme=dark] .colab-df-convert:hover {\n",
              "      background-color: #434B5C;\n",
              "      box-shadow: 0px 1px 3px 1px rgba(0, 0, 0, 0.15);\n",
              "      filter: drop-shadow(0px 1px 2px rgba(0, 0, 0, 0.3));\n",
              "      fill: #FFFFFF;\n",
              "    }\n",
              "  </style>\n",
              "\n",
              "      <script>\n",
              "        const buttonEl =\n",
              "          document.querySelector('#df-56caab59-0bb4-4858-a28a-fdb9529dee3b button.colab-df-convert');\n",
              "        buttonEl.style.display =\n",
              "          google.colab.kernel.accessAllowed ? 'block' : 'none';\n",
              "\n",
              "        async function convertToInteractive(key) {\n",
              "          const element = document.querySelector('#df-56caab59-0bb4-4858-a28a-fdb9529dee3b');\n",
              "          const dataTable =\n",
              "            await google.colab.kernel.invokeFunction('convertToInteractive',\n",
              "                                                     [key], {});\n",
              "          if (!dataTable) return;\n",
              "\n",
              "          const docLinkHtml = 'Like what you see? Visit the ' +\n",
              "            '<a target=\"_blank\" href=https://colab.research.google.com/notebooks/data_table.ipynb>data table notebook</a>'\n",
              "            + ' to learn more about interactive tables.';\n",
              "          element.innerHTML = '';\n",
              "          dataTable['output_type'] = 'display_data';\n",
              "          await google.colab.output.renderOutput(dataTable, element);\n",
              "          const docLink = document.createElement('div');\n",
              "          docLink.innerHTML = docLinkHtml;\n",
              "          element.appendChild(docLink);\n",
              "        }\n",
              "      </script>\n",
              "    </div>\n",
              "  </div>\n",
              "  "
            ]
          },
          "metadata": {},
          "execution_count": 21
        }
      ]
    },
    {
      "cell_type": "code",
      "source": [
        "from tensorflow.keras.preprocessing.image import ImageDataGenerator, array_to_img, img_to_array, load_img\n",
        "# https://www.tensorflow.org/api_docs/python/tf/keras/preprocessing/image/ImageDataGenerator#args\n",
        "\n",
        "test_img = load_img(train_generator['path'][0], color_mode =\"grayscale\")\n",
        "# print(test_img)\n",
        "test_img_arry = img_to_array(test_img)\n",
        "# print(test_img_arry)\n",
        "\n",
        "print('=====Gray Scale=====:\\ntype(test_img): ', type(test_img))\n",
        "print('test_img.format: ', test_img.format)\n",
        "print('test_img.mode): ', test_img.mode)\n",
        "print('test_img.size: ', test_img.size)\n",
        "print('test_img.getbands(): ', test_img.getbands())\n",
        "print('test_img_arry.shape: ', test_img_arry.shape)\n",
        "\n",
        "test_img1 = load_img(train_generator['path'][0])\n",
        "test_img1_arry = img_to_array(test_img1)\n",
        "print('\\n=====Color Scale=====:\\ntest_img1_arry.shape: ', test_img1_arry.shape)\n",
        "print('test_img1.getbands()): ', test_img1.getbands())"
      ],
      "metadata": {
        "id": "JDEqtIcrtpr1",
        "outputId": "c7441f17-607d-4e60-b5c0-59b250e13a51",
        "colab": {
          "base_uri": "https://localhost:8080/"
        }
      },
      "execution_count": 24,
      "outputs": [
        {
          "output_type": "stream",
          "name": "stdout",
          "text": [
            "=====Gray Scale=====:\n",
            "type(test_img):  <class 'PIL.Image.Image'>\n",
            "test_img.format:  None\n",
            "test_img.mode):  L\n",
            "test_img.size:  (50, 50)\n",
            "test_img.getbands():  ('L',)\n",
            "test_img_arry.shape:  (50, 50, 1)\n",
            "\n",
            "=====Color Scale=====:\n",
            "test_img1_arry.shape:  (50, 50, 3)\n",
            "test_img1.getbands()):  ('R', 'G', 'B')\n"
          ]
        }
      ]
    },
    {
      "cell_type": "code",
      "source": [],
      "metadata": {
        "id": "mjqijiyWtpdb"
      },
      "execution_count": null,
      "outputs": []
    },
    {
      "cell_type": "code",
      "source": [],
      "metadata": {
        "id": "_BPOnMFStopt"
      },
      "execution_count": null,
      "outputs": []
    },
    {
      "cell_type": "code",
      "source": [
        "# print(train_generator.array_shape.value_counts())\n",
        "# print(val_generator.array_shape.value_counts())\n",
        "# print(test_generator.array_shape.value_counts())"
      ],
      "metadata": {
        "id": "wAv7RXmVQX4b"
      },
      "execution_count": 15,
      "outputs": []
    },
    {
      "cell_type": "code",
      "source": [
        "# drop these images as they add unnecessary noise to our model\n",
        "train_weird_imgs = train_generator[train_generator['array_shape'] != 2500]\n",
        "val_weird_imgs = val_generator[val_generator['array_shape'] != 2500]\n",
        "test_weird_imgs = test_generator[test_generator['array_shape'] != 2500]\n",
        "\n",
        "\n",
        "weird_imgs = train_weird_imgs.append(val_weird_imgs)\n",
        "weird_imgs = weird_imgs.append(test_weird_imgs)\n",
        "weird_imgs['dataset'] = weird_imgs['path'].str.split('/', expand=True)[7]\n",
        "weird_imgs.reset_index(drop=True)\n",
        "\n",
        "train_generator.drop(train_weird_imgs.index,inplace=True)\n",
        "val_generator.drop(val_weird_imgs.index,inplace=True)\n",
        "test_generator.drop(test_weird_imgs.index,inplace=True)\n",
        "\n",
        "# print(len(weird_imgs))\n",
        "# print(len(train_generator))\n",
        "# print(len(val_generator))\n",
        "# print(len(test_generator))\n",
        "# print(train_generator.columns)\n",
        "# val_generator.reset_index(drop=True)"
      ],
      "metadata": {
        "id": "gpOS9_alHrTY"
      },
      "execution_count": 25,
      "outputs": []
    },
    {
      "cell_type": "code",
      "source": [
        "import cv2 as cv\n",
        "import skimage.io as io\n",
        "\n",
        "def display_images(subclass):\n",
        "  fig, axes = plt.subplots(nrows=1, ncols=7, figsize=(20,8))\n",
        "  for idx, ax in enumerate(axes.flat):\n",
        "    image_wo_path = os.path.basename(subclass.path[idx])\n",
        "    # print(image_wo_path)\n",
        "    subtitle = 'Class ' + image_wo_path.rsplit('.')[0][-1] + ': ' + subclass.dataset[idx]\n",
        "    img = io.imread(subclass.path[idx])\n",
        "    ax.imshow(img)\n",
        "    # ax.axis('off')\n",
        "    ax.set_title(subtitle, size=14)   \n",
        "  fig.tight_layout() \n",
        "  plt.show() \n",
        "\n",
        "print()\n",
        "display_images(weird_imgs.reset_index(drop=True))"
      ],
      "metadata": {
        "id": "x9euSsBNHrIX",
        "colab": {
          "base_uri": "https://localhost:8080/",
          "height": 357
        },
        "outputId": "736d6a97-4ce4-4260-f1f2-9ab853208fca"
      },
      "execution_count": 26,
      "outputs": [
        {
          "output_type": "stream",
          "name": "stdout",
          "text": [
            "\n"
          ]
        },
        {
          "output_type": "display_data",
          "data": {
            "text/plain": [
              "<Figure size 1440x576 with 7 Axes>"
            ],
            "image/png": "[encoded data removed]"
          },
          "metadata": {
            "needs_background": "light"
          }
        }
      ]
    },
    {
      "cell_type": "markdown",
      "source": [
        "# Preprocessing data using ImageDataGenerator"
      ],
      "metadata": {
        "id": "iHdf3Jd0ipmm"
      }
    },
    {
      "cell_type": "code",
      "source": [
        "BATCH_SIZE = 32\n",
        "EPOCHS = 8"
      ],
      "metadata": {
        "id": "hQCrHViTUVxr"
      },
      "execution_count": 28,
      "outputs": []
    },
    {
      "cell_type": "code",
      "source": [
        "# https://faroit.com/keras-docs/0.3.3/preprocessing/image/\n",
        "# https://www.tensorflow.org/api_docs/python/tf/keras/preprocessing/image/ImageDataGenerator\n",
        "\n",
        "# def data_generator():\n",
        "\n",
        "# with_aug_datagen = ImageDataGenerator(\n",
        "#     # featurewise_center = True,                     # transforms the images to 0 mean\n",
        "#     # featurewise_std_normalization = True,          # divide inputs by std of the dataset\n",
        "#     # zca_epsilon=1e-06,\n",
        "#     recale = 1./255,\n",
        "#     rotation_range=30,                      # randomly rotate image by 10 degrees\n",
        "#     width_shift_range=0.2,\n",
        "#     height_shift_range=0.2,\n",
        "#     brightness_range=[0.4, 1.5],\n",
        "#     shear_range=0.2,                        # distort image along an axis mostly to create or recify the perception angles     \n",
        "#     zoom_range=0.2,                         # zomming image: zoom_range > 1 => zoom out, zoom_range < 1 => zoom in                  \n",
        "#     fill_mode='nearest',                    # when the image is rotated, some pixels will move outside the image and leave an empty area that needs to be filled in, 'nearest': simply replace the empty area with the nearest spectral values.\n",
        "#     horizontal_flip=True,\n",
        "#     vertical_flip=True)\n",
        "    \n",
        "# without_aug_datagen = ImageDataGenerator()\n",
        "# without_aug_datagen = ImageDataGenerator(rescale = 1./255)\n",
        "                                        #  featurewise_center = True, featurewise_std_normalization = True)   # False is default so need to set to True\n",
        "\n",
        "# =================================================================\n",
        "# if with_augmented_images:\n",
        "# train_data_generator = with_aug_datagen.flow_from_dataframe(\n",
        "#       train_generator,\n",
        "#       directory = None,\n",
        "#       x_col =  'path',\n",
        "#       y_col =  'label',\n",
        "#       weight_col=None,\n",
        "#       target_size=(50,50),\n",
        "#       color_mode=\"grayscale\",\n",
        "#       class_mode=\"categorical\",\n",
        "#       batch_size=32,\n",
        "#       shuffle=True,\n",
        "#       seed=1234\n",
        "#       # validate_filenames=True\n",
        "#   )\n",
        "# else:\n",
        "\n",
        "without_aug_datagen = ImageDataGenerator(rescale = 1./255)\n",
        "\n",
        "train_data_generator = without_aug_datagen.flow_from_dataframe(\n",
        "    train_generator,\n",
        "    directory = None,\n",
        "    x_col =  'path',\n",
        "    y_col =  'label',\n",
        "    weight_col=None,\n",
        "    target_size=(50,50),\n",
        "    color_mode=\"grayscale\",\n",
        "    class_mode=\"categorical\",\n",
        "    batch_size=BATCH_SIZE,\n",
        "    shuffle=True,\n",
        "    seed=1234\n",
        "    # validate_filenames=True\n",
        ")\n",
        "# print(train_data_generator.shape)\n",
        "\n",
        "validation_data_generator = without_aug_datagen.flow_from_dataframe(\n",
        "    val_generator,\n",
        "    directory = None,\n",
        "    x_col =  'path',\n",
        "    y_col =  'label',\n",
        "    weight_col=None,\n",
        "    # target_size=(hp_target_size, hp_target_size),\n",
        "    target_size=(50,50),\n",
        "    color_mode=\"grayscale\",\n",
        "    class_mode=\"categorical\",\n",
        "    batch_size=BATCH_SIZE,\n",
        "    shuffle=True,\n",
        "    seed=1234\n",
        "    # validate_filenames=True\n",
        ")\n",
        "\n",
        "test_data_generator = without_aug_datagen.flow_from_dataframe(\n",
        "    test_generator,\n",
        "    directory = None,\n",
        "    x_col =  'path',\n",
        "    y_col =  'label',\n",
        "    weight_col=None,\n",
        "    target_size=(50,50),\n",
        "    color_mode=\"grayscale\",\n",
        "    class_mode=\"categorical\",\n",
        "    batch_size=BATCH_SIZE,\n",
        "    shuffle=False,              # Kesha set to shuffle=True but we don't want to shuffle our testing data around, which it does so by default\n",
        "    seed=1234\n",
        "    # validate_filenames=True\n",
        ")\n",
        "# return train_data_generator, validation_data_generator, test_data_generator\n",
        "\n",
        "# train_data_generator, validation_data_generator, test_data_generator = data_generator(with_augmented_images=True)\n",
        "# train_data_generator, validation_data_generator, test_data_generator = data_generator()"
      ],
      "metadata": {
        "id": "9_IibHAwxE6H",
        "colab": {
          "base_uri": "https://localhost:8080/"
        },
        "outputId": "3f9f8956-7788-498b-ccfe-b83cbecbdfe1"
      },
      "execution_count": 30,
      "outputs": [
        {
          "output_type": "stream",
          "name": "stdout",
          "text": [
            "Found 797 validated image filenames belonging to 2 classes.\n",
            "Found 197 validated image filenames belonging to 2 classes.\n",
            "Found 199 validated image filenames belonging to 2 classes.\n"
          ]
        }
      ]
    },
    {
      "cell_type": "code",
      "source": [],
      "metadata": {
        "id": "YP7EgsUz784Z"
      },
      "execution_count": null,
      "outputs": []
    },
    {
      "cell_type": "markdown",
      "source": [
        "# Build CNN Model and Hyperparameter Tuning\n",
        "- **ReduceLROnPlateau**: A scheduling technique that monitors a particular quantity and decays the learning rate when the quantity is stop improving.\n",
        "- **ModelCheckpoint**: A sch\n",
        "- **BatchNormalization**: A feature that we add between the layers of neural network and it continuously takes the output from the previous layer and normalizes it before sending it to the next layer thereby helping stablizing the NN"
      ],
      "metadata": {
        "id": "I19l1YOYsfOG"
      }
    },
    {
      "cell_type": "markdown",
      "source": [
        "# Best Hyperparameters to Tune\n",
        "- Learning Rate\n",
        "- Optimizers\n",
        "- Activation Functions\n",
        "- Epochs\n",
        "- Dropout rate\n",
        "- Number of layers and units (filters)"
      ],
      "metadata": {
        "id": "tTCqiQ3WC9xS"
      }
    },
    {
      "cell_type": "code",
      "source": [
        "# img_height = 50\n",
        "# img_width = 50\n",
        "# img_channel = 1\n",
        "# input_shape = (img_height, img_width, img_channel)"
      ],
      "metadata": {
        "id": "OQcHdDdYJnol"
      },
      "execution_count": null,
      "outputs": []
    },
    {
      "cell_type": "code",
      "source": [
        "from keras.layers import ReLU, LeakyReLU\n",
        "# https://keras.io/guides/keras_tuner/getting_started/\n",
        "\n",
        "def build_cnn(hp): \n",
        "  # train_data_generator, validation_data_generator, test_data_generator = data_generator(hp)\n",
        "\n",
        "  tf.keras.backend.clear_session()\n",
        "  tf.random.set_seed(0)\n",
        "\n",
        "# Define ranges of hyperparam values \n",
        "  # hp_img_size = hp.get('hp_target_size')\n",
        "  # hp_img_size = hp.Int('img_size', 50,96,120)\n",
        "  # hp_img_size = hp.Int('img_size', 50,96)\n",
        "  hp_kernel_size = hp.Int('kernel_size', min_value=2, max_value=5, step=1)\n",
        "  hp_strides = hp.Int('strides', min_value=1, max_value=2, step=1)\n",
        "  hp_pool_size = hp.Int('pool_size', min_value=2, max_value=3, step=1)\n",
        "  hp_activation = hp.Choice('activation', values=['relu', 'leaky_relu', 'elu', 'gelu','selu'], default='relu')\n",
        "  hp_optimizer = hp.Choice('optimizer', values=['adam', 'rmsprop', 'sgd'], default='adam')\n",
        "  hp_filters_1 = hp.Int('filters_1', min_value=8, max_value=64, step=8)\n",
        "  # hp_filters_2 = hp.Int('filters_2', min_value=8, max_value=128, step=16)\n",
        "  # hp_filters_3 = hp.Int('filters_3', min_value=32, max_value=128, step=16)\n",
        "  hp_dense = hp.Int('dense_units', min_value=32, max_value=256, step=34)\n",
        "  hp_learning_rate = hp.Float('learning_rate', min_value=1e-4, max_value=1e-2, sampling='LOG', default=1e-2)\n",
        "  hp_dropout = hp.Float('dropout_rate', min_value=0.1, max_value=0.6, default=0.1, step=0.1)\n",
        "  # hp_dropout_2 = hp.Float('dropout_rate_2', min_value=0.3, max_value=0.5, default=0.25, step=0.1)\n",
        "  # hp_dropout_3 = hp.Float('dropout_rate_3', min_value=0.3, max_value=0.5, default=0.35, step=0.1)\n",
        "  hp_reduction_type = hp.Choice('reduction_type', values=['global_avg_pooling2d', 'max_pooling2d'])\n",
        "\n",
        "  # Define the model\n",
        "  model = tf.keras.Sequential()\n",
        "\n",
        "  # Input layer\n",
        "  model.add(Conv2D(hp.Int('input_units', min_value=16, max_value=64, step=16), kernel_size=(hp_kernel_size,hp_kernel_size), padding='same', activation=hp_activation, input_shape = (50,50,1)))  \n",
        "  if hp_reduction_type == 'global_avg_pooling2d':\n",
        "    model.add(GlobalAveragePooling2D(keepdims=True))\n",
        "  else:\n",
        "    model.add(MaxPooling2D(pool_size=(hp_pool_size,hp_pool_size), strides=(hp_strides,hp_strides)))  \n",
        "\n",
        "  \n",
        "  # 2nd set of neural network layers\n",
        "  # if hp.Boolean('conv_layer_2'):  \n",
        "  for i in range(hp.Int('n_layers', 1, 3)):\n",
        "    model.add(Conv2D(hp.Int(f'conv2d_{i}_units', min_value=32, max_value=128, step=32), kernel_size=(hp_kernel_size,hp_kernel_size), padding='same', activation=hp_activation))\n",
        "    if hp_reduction_type == 'global_avg_pooling2d':\n",
        "      model.add(GlobalAveragePooling2D(keepdims=True))\n",
        "    else:\n",
        "      model.add(MaxPooling2D(pool_size=(hp_pool_size,hp_pool_size), strides=(hp_strides,hp_strides)))  \n",
        "    model.add(BatchNormalization())\n",
        "    if hp.Boolean('dropout'):\n",
        "      model.add(Dropout(hp_dropout))\n",
        "\n",
        "  # # 3rd set of neural network layers\n",
        "  # # if hp.Boolean('conv_layer_3'):  \n",
        "  # model.add(Conv2D(filters=hp_filters_3, kernel_size=(hp_kernel_size,hp_kernel_size), padding='same', activation=hp_activation.lower()))\n",
        "  # # if hp.Boolean('BatchNormalization_2'):\n",
        "  # model.add(BatchNormalization())\n",
        "  # if hp_reduction_type == 'global_avg_pooling2d':\n",
        "  #   model.add(GlobalAveragePooling2D(keepdims=True))\n",
        "  # else:\n",
        "  #   model.add(MaxPooling2D(pool_size=(hp_pool_size,hp_pool_size), strides=(hp_strides, hp_strides)))  \n",
        "  # # if hp.Boolean('dropout_3'):\n",
        "  # # model.add(Dropout(hp_dropout_2))\n",
        "\n",
        "  # Flatten layer\n",
        "  model.add(Flatten())\n",
        "\n",
        "  # Fully connected dense layer\n",
        "  model.add(Dense(units = hp_dense, activation = hp_activation))\n",
        "  model.add(BatchNormalization())\n",
        "  # if hp.Boolean('dropout_4'):\n",
        "  model.add(Dropout(hp_dropout))\n",
        "  \n",
        "  # Output layer\n",
        "  model.add(Dense(units = 2, activation = 'softmax'))        # output layer\n",
        "  \n",
        "  # Define the optimizer\n",
        "  def selected_optimizer(optimizer):\n",
        "    if optimizer.lower() == 'sgd':\n",
        "        return SGD(learning_rate=hp_learning_rate)           # SGD(learning_rate=learning_rate, momentum=0.95, decay=1, nesterov=True)\n",
        "    elif optimizer.lower() == 'adam':\n",
        "        return Adam(learning_rate=hp_learning_rate)          # Adam(learning_rate=learning_rate, beta_1=0.9, beta_2=0.999, epsilon=1e-8, kappa=1-1e-8)\n",
        "    # elif optimizer.lower() == 'adadelta':\n",
        "    #     return Adadelta(learning_rate=hp_learning_rate)      # Adadelta(learning_rate=learning_rate, rho=0.95, epsilon=1e-6)\n",
        "    # elif optimizer.lower() == 'adagrad':\n",
        "    #     return Adagrad(learning_rate=hp_learning_rate)       # Adagrad(learning_rate=learning_rate, epsilon=1e-6)\n",
        "    elif optimizer.lower() == 'rmsprop':\n",
        "        return RMSprop(learning_rate=hp_learning_rate)       # RMSprop(learning_rate=learning_rate, rho=0.9, epsilon=1e-6)\n",
        "\n",
        "  # Compile the model\n",
        "  model.compile(loss=CategoricalCrossentropy(), \n",
        "                optimizer=selected_optimizer(hp_optimizer), \n",
        "                metrics=['accuracy'])\n",
        "  return model"
      ],
      "metadata": {
        "id": "-b-MQQn9Erwy"
      },
      "execution_count": null,
      "outputs": []
    },
    {
      "cell_type": "markdown",
      "source": [
        "Then, the **max_trials** variable represents the number of hyperparameter combinations that will be tested by the tuner, while the **execution_per_trial** variable is the number of models that should be built and fit for each trial for robustness purposes. The next section explains how to set them\n",
        "\n",
        "https://www.sicara.fr/blog-technique/hyperparameter-tuning-keras-tuner<br>\n",
        "https://www.kaggle.com/code/fchollet/keras-kerastuner-best-practices/notebook"
      ],
      "metadata": {
        "id": "SnHwzogJu0BZ"
      }
    },
    {
      "cell_type": "code",
      "source": [
        "from tensorflow.keras.callbacks import EarlyStopping\n",
        "\n",
        "stop_early = EarlyStopping(monitor = 'val_accuracy', mode = 'max', patience = 3)\n",
        "# stop_early = EarlyStopping(monitor = 'val_loss', mode = 'min', patience = 3)\n",
        "\n",
        "# RandomSearch\n",
        "tuner = kt.RandomSearch(\n",
        "          # CNN_HyperModel(),\n",
        "          build_cnn,\n",
        "          objective=\"val_accuracy\",\n",
        "          max_trials=5,                     # max_trials=50 or 10,\n",
        "          executions_per_trial=2,           # executions_per_trial=10,\n",
        "          overwrite=True,\n",
        "          directory=\"hj_dir\",\n",
        "          project_name=\"breast_cancer_classification\")\n",
        "\n",
        "tuner.search(train_data_generator, \n",
        "             epochs=EPOCHS, \n",
        "             callbacks=[stop_early], \n",
        "             validation_data=validation_data_generator)"
      ],
      "metadata": {
        "id": "yH0jfZqX2Qxi"
      },
      "execution_count": null,
      "outputs": []
    },
    {
      "cell_type": "code",
      "source": [
        "from sklearn.model_selection import cross_val_score\n",
        "from sklearn.metrics import confusion_matrix, precision_score, recall_score, accuracy_score, f1_score, classification_report\n",
        "from sklearn import svm\n",
        "from sklearn.metrics import auc\n",
        "from sklearn.metrics import RocCurveDisplay\n",
        "from sklearn.model_selection import StratifiedKFold\n",
        "from sklearn.metrics import roc_curve"
      ],
      "metadata": {
        "id": "4-ChFsRGFKYu"
      },
      "execution_count": null,
      "outputs": []
    },
    {
      "cell_type": "markdown",
      "source": [
        "https://www.analyticsvidhya.com/blog/2020/08/image-augmentation-on-the-fly-using-keras-imagedatagenerator/"
      ],
      "metadata": {
        "id": "5L2ndY3cZWSK"
      }
    },
    {
      "cell_type": "code",
      "source": [
        "# best_hps = tuner.get_best_hyperparameters(num_trials=1)[0]     # num_trials=5\n",
        "# model = tuner.hypermodel.build(best_hps)\n",
        "\n",
        "best_hps = tuner.get_best_hyperparameters()[0]     # num_trials=5\n",
        "model = tuner.get_best_models()[0]\n",
        "# model = build_cnn(best_hps)\n",
        "\n",
        "# from sklearn.model_selection import cross_val_score\n",
        "# from sklearn.metrics import confusion_matrix, precision_score, recall_score, accuracy_score, f1_score, classification_report\n",
        "# from sklearn import svm\n",
        "from sklearn.metrics import auc\n",
        "from sklearn.metrics import RocCurveDisplay\n",
        "from sklearn.model_selection import StratifiedKFold\n",
        "from sklearn.metrics import roc_curve\n",
        "\n",
        "lr_reduce = ReduceLROnPlateau(monitor='val_accuracy', factor=0.1, min_delta=0.0001, patience=1, verbose=1)\n",
        "\n",
        "file_path = 'weights.hdf5'    # save the weights and biases\n",
        "checkpoint = ModelCheckpoint(file_path, monitor='val_accuracy', verbose=1, save_best_only=True, mode='max')\n",
        "\n",
        "# Fit with the entire dataset (both training and validation sets)\n",
        "\n",
        "history = model.fit(train_data_generator,\n",
        "                  epochs=EPOCHS,\n",
        "                  shuffle=True,\n",
        "                  batch_size=BATCH_SIZE,                  \n",
        "                  # steps_per_epoch=train_generator.shape[0]//BATCH_SIZE, \n",
        "                  callbacks=[lr_reduce, checkpoint, stop_early],\n",
        "                  validation_data = validation_data_generator)\n",
        "                  # validation_steps=val_generator.shape[0]//BATCH_SIZE)\n",
        "# pd.DataFrame(history.history)\n",
        "\n",
        "# Plot loss and accuracy of best model on every epoch\n",
        "hist = history.history\n",
        "x_arr = np.arange(len(hist['loss'])) + 1\n",
        "\n",
        "fig = plt.figure(figsize=(16,6))\n",
        "ax = fig.add_subplot(1,2,1)\n",
        "ax.plot(x_arr, hist['loss'], '-o', label='Train Loss')\n",
        "ax.plot(x_arr, hist['val_loss'], '--<', label='Validation Loss')\n",
        "ax.legend(fontsize=12)\n",
        "ax.set_xlabel('Epoch', size=14)\n",
        "ax.set_ylabel('Loss', size=14)\n",
        "ax.set_title('Loss', size=20)\n",
        "\n",
        "ax = fig.add_subplot(1,2,2)\n",
        "ax.plot(x_arr, hist['accuracy'], '-o', label='Train Acc.')\n",
        "ax.plot(x_arr, hist['val_accuracy'], '--<', label='Validation Acc.')\n",
        "ax.legend(fontsize=12)\n",
        "ax.set_xlabel('Epoch', size=14)\n",
        "ax.set_ylabel('Accuracy', size=14)\n",
        "ax.set_title('Accuracy', size=20);\n",
        "\n",
        "# Test accuracy - model.evaluate() \n",
        "test_accuracy = round(model.evaluate(test_data_generator, verbose=0, return_dict=True)['accuracy'], 2)\n",
        "training_accuracy = round(history.history['accuracy'][-1], 2)\n",
        "val_accuracy = round(history.history['val_accuracy'][-1], 2)\n",
        "count_params = model.count_params()\n",
        "\n",
        "# Confusion Matrix\n",
        "num_of_test_samples = len(test_labels)\n",
        "classes = ['Non-IDC(0)','IDC(1)']\n",
        "\n",
        "y_true = train_data_generator.classes\n",
        "print('y_true:\\n', y_true[:5])\n",
        "# y_pred = model.predict_generator(test_data_generator, num_of_test_samples // BATCH_SIZE + 1)    # probabilities\n",
        "# y_pred_argmax = (model.predict(test_data_generator) > 0.5).astype('int32')\n",
        "y_pred = model.predict(train_data_generator)\n",
        "print('y_pred:\\n', y_pred[:5])\n",
        "# y_pred_argmax = (y_pred > 0.5).astype('int32')\n",
        "y_pred_argmax = np.argmax(y_pred, axis=1)                      # 0s and 1s: return the indicies of the max values along the axis (axis=1: each row)   TODO: look into prob threshold\n",
        "print('y_pred_argmax:\\n', y_pred_argmax[:10])\n",
        "\n",
        "# Confusion matrix  \n",
        "conf_max = confusion_matrix(y_true, y_pred_argmax)             # conf.max should use 0s and 1s for y_pred\n",
        "perf_conf_max = conf_max.astype('float')/conf_max.sum(axis=1)[:np.newaxis]*100\n",
        "df_perf_conf_max = pd.DataFrame(perf_conf_max, index=classes, columns=classes)\n",
        "\n",
        "plt.figure(figsize=(6,5))\n",
        "sns.heatmap(df_perf_conf_max, annot=True, cmap='coolwarm', annot_kws={'fontsize':16}, linewidth=0.5, fmt='.0f')  \n",
        "plt.xlabel('Predicted Label', fontsize=14)\n",
        "plt.ylabel('True Label', fontsize=14)\n",
        "plt.title('Confusion Matrix (%)', fontsize=15)\n",
        "\n",
        "# Classification report (classification_report should use 0s and 1s for y_pred)\n",
        "print('=============== Classification Report ===============\\n\\n', classification_report(y_true, y_pred_argmax, target_names=['Non-IDC', 'IDC']), '\\n=====================================================\\n')\n",
        "\n",
        "# Cross validation score\n",
        "# cv = ShuffleSplit(n_splits=100, test_size=.25, random_state=0)\n",
        "# cv_score = np.median(cross_val_score(model, y_true, y_pred, cv=cv))*100\n",
        "# print('cv_score = ',cv_score)\n",
        "\n",
        "# Precision, recall, and f1_score\n",
        "tn, fp, fn, tp = confusion_matrix(y_true, y_pred_argmax).ravel()     # np.ravel(): returns contiguous flattened array (1D array with all the input-array elements and with the same type as it)\n",
        "accuracy = round((tp+tn)/(tp+fn+tn+fp), 2)\n",
        "recall = round(tp/(fn+tp), 2)\n",
        "precision = round(tp/(fp+tp), 2)\n",
        "f1score = round((2*precision*recall)/(precision+recall), 2)\n",
        "error_rate = round(1-accuracy, 2)\n",
        "\n",
        "# cohen_kappa score and zero_one loss\n",
        "cohen_kappa = round(cohen_kappa_score(y_true, y_pred_argmax), 2)\n",
        "zo_loss = round(zero_one_loss(y_true, y_pred_argmax), 2)\n",
        "\n",
        "# Area under the ROC curve\n",
        "roc_log = roc_auc_score(y_true, y_pred[:,1], multi_class='ovr')   # for the roc curve, we need to use a vector of probabilities so just chose one column and all rows\n",
        "fpr, tpr, threshold = roc_curve(y_true, y_pred[:,1])\n",
        "area_under_curve = round(auc(fpr, tpr), 2)  \n",
        "\n",
        "y_true_train = train_data_generator.classes\n",
        "y_pred_train = model.predict(train_data_generator)\n",
        "y_pred_argmax_train = np.argmax(y_pred_train, axis=1)\n",
        "\n",
        "roc_log_t = roc_auc_score(y_true_train, y_pred_train[:,1], multi_class='ovr')   # for the roc curve, we need to use a vector of probabilities so just chose one column and all rows\n",
        "fpr_t , tpr_t , threshold = roc_curve(y_true_train, y_pred_train[:,1])\n",
        "area_under_curve_t = round(auc(fpr_t , tpr_t), 2)  \n",
        "\n",
        "plt.figure(figsize=(6,5))\n",
        "plt.plot([0, 1], [0, 1], 'r--')  \n",
        "plt.plot(fpr, tpr, label='ROC-AUC = {:.2f}'.format(area_under_curve))  \n",
        "plt.xlabel('False positive rate', fontsize=14)\n",
        "plt.ylabel('True positive rate', fontsize=14)\n",
        "plt.title('ROC Curve', fontsize=18)\n",
        "plt.legend(loc='best')\n",
        "plt.show()\n",
        "plt.close()\n",
        "\n",
        "plt.figure(figsize=(6,5))\n",
        "plt.plot([0, 1], [0, 1], 'r--')  \n",
        "plt.plot(fpr_t , tpr_t, label='ROC-AUC = {:.2f}'.format(area_under_curve_t))  \n",
        "plt.xlabel('False positive rate', fontsize=14)\n",
        "plt.ylabel('True positive rate', fontsize=14)\n",
        "plt.title('ROC Curve', fontsize=18)\n",
        "plt.legend(loc='best')\n",
        "plt.show()\n",
        "plt.close()\n",
        "\n",
        "model_summary = pd.DataFrame({'Augmented':'NO',\n",
        "                              'Test_acc':test_accuracy,\n",
        "                              'Training_acc': training_accuracy,\n",
        "                              'Val_acc': val_accuracy,\n",
        "                              'Num_params':  f'{count_params:,}',\n",
        "                              'Accuracy': accuracy,\n",
        "                              'Precision': precision,\n",
        "                              'Recall': recall,\n",
        "                              'F1_score': f1score,\n",
        "                              'Error Rate': error_rate,\n",
        "                              'ROC-AUC score': area_under_curve,\n",
        "                              'Cohen Kappa': cohen_kappa,\n",
        "                              'Zero-One Loss': zo_loss}, index=[0]) \n",
        "print(model.summary())\n",
        "model_summary"
      ],
      "metadata": {
        "id": "iAgUf5GbSBbY"
      },
      "execution_count": null,
      "outputs": []
    },
    {
      "cell_type": "code",
      "source": [
        "with_aug_datagen = ImageDataGenerator(\n",
        "    rescale = 1./255,\n",
        "    rotation_range=30,                      # randomly rotate image by 10 degrees\n",
        "    width_shift_range=0.2,\n",
        "    height_shift_range=0.2,\n",
        "    brightness_range=[0.4, 1.5],\n",
        "    shear_range=0.2,                        # distort image along an axis mostly to create or recify the perception angles     \n",
        "    zoom_range=0.2,                         # zomming image: zoom_range > 1 => zoom out, zoom_range < 1 => zoom in                  \n",
        "    fill_mode='nearest',                    # when the image is rotated, some pixels will move outside the image and leave an empty area that needs to be filled in, 'nearest': simply replace the empty area with the nearest spectral values.\n",
        "    horizontal_flip=True,\n",
        "    vertical_flip=True)\n",
        "\n",
        "train_data_generator = with_aug_datagen.flow_from_dataframe(\n",
        "    train_generator,\n",
        "    directory = None,\n",
        "    x_col =  'path',\n",
        "    y_col =  'label',\n",
        "    weight_col=None,\n",
        "    target_size=(50,50),\n",
        "    color_mode=\"grayscale\",\n",
        "    class_mode=\"categorical\",\n",
        "    batch_size=32,\n",
        "    shuffle=True,\n",
        "    seed=1234\n",
        ")\n"
      ],
      "metadata": {
        "id": "CakkKSUeQt41"
      },
      "execution_count": null,
      "outputs": []
    },
    {
      "cell_type": "code",
      "source": [
        "history = model.fit(train_data_generator,\n",
        "                  epochs=EPOCHS,\n",
        "                  shuffle=False,\n",
        "                  batch_size=BATCH_SIZE,                  \n",
        "                  steps_per_epoch=train_generator.shape[0]//BATCH_SIZE, \n",
        "                  callbacks=[lr_reduce, checkpoint, stop_early],\n",
        "                  validation_data = validation_data_generator,\n",
        "                  validation_steps=val_generator.shape[0]//BATCH_SIZE)\n",
        "\n",
        "hist = history.history\n",
        "x_arr = np.arange(len(hist['loss'])) + 1\n",
        "\n",
        "fig = plt.figure(figsize=(16,6))\n",
        "ax = fig.add_subplot(1,2,1)\n",
        "ax.plot(x_arr, hist['loss'], '-o', label='Train Loss')\n",
        "ax.plot(x_arr, hist['val_loss'], '--<', label='Validation Loss')\n",
        "ax.legend(fontsize=12)\n",
        "ax.set_xlabel('Epoch', size=14)\n",
        "ax.set_ylabel('Loss', size=14)\n",
        "ax.set_title('Loss', size=20)\n",
        "\n",
        "ax = fig.add_subplot(1,2,2)\n",
        "ax.plot(x_arr, hist['accuracy'], '-o', label='Train Acc.')\n",
        "ax.plot(x_arr, hist['val_accuracy'], '--<', label='Validation Acc.')\n",
        "ax.legend(fontsize=12)\n",
        "ax.set_xlabel('Epoch', size=14)\n",
        "ax.set_ylabel('Accuracy', size=14)\n",
        "ax.set_title('Accuracy', size=20);\n",
        "\n",
        "# Test accuracy - model.evaluate() \n",
        "test_accuracy = round(model.evaluate(test_data_generator, verbose=0, return_dict=True)['accuracy'], 2)\n",
        "training_accuracy = round(history.history['accuracy'][-1], 2)\n",
        "val_accuracy = round(history.history['val_accuracy'][-1], 2)\n",
        "count_params = model.count_params()\n",
        "\n",
        "# def error_analysis(model_name, model, test_labels, test_data_generator):\n",
        "num_of_test_samples = len(test_labels)\n",
        "classes = ['Non-IDC(0)','IDC(1)']\n",
        "\n",
        "y_true = test_data_generator.classes\n",
        "print('y_true:\\n', y_true[:5])\n",
        "# y_pred = model.predict_generator(test_data_generator, num_of_test_samples // BATCH_SIZE + 1)    # probabilities\n",
        "# y_pred_argmax = (model.predict(test_data_generator) > 0.5).astype('int32')\n",
        "y_pred = model.predict(test_data_generator)\n",
        "print('y_pred:\\n', y_pred[:5])\n",
        "# y_pred_argmax = (y_pred > 0.5).astype('int32')\n",
        "y_pred_argmax = np.argmax(y_pred, axis=1)                      # 0s and 1s: return the indicies of the max values along the axis (axis=1: each row)   TODO: look into prob threshold\n",
        "print('y_pred_argmax:\\n', y_pred_argmax[:10])\n",
        "\n",
        "# Confusion matrix  \n",
        "conf_max = confusion_matrix(y_true, y_pred_argmax)             # conf.max should use 0s and 1s for y_pred\n",
        "perf_conf_max = conf_max.astype('float')/conf_max.sum(axis=1)[:np.newaxis]*100\n",
        "df_perf_conf_max = pd.DataFrame(perf_conf_max, index=classes, columns=classes)\n",
        "\n",
        "plt.figure(figsize=(6,5))\n",
        "sns.heatmap(df_perf_conf_max, annot=True, cmap='coolwarm', annot_kws={'fontsize':16}, linewidth=0.5, fmt='.0f')  \n",
        "plt.xlabel('Predicted Label', fontsize=14)\n",
        "plt.ylabel('True Label', fontsize=14)\n",
        "plt.title('Confusion Matrix (%)', fontsize=15)\n",
        "\n",
        "# Classification report (classification_report should use 0s and 1s for y_pred)\n",
        "print('=============== Classification Report ===============\\n\\n', classification_report(y_true, y_pred_argmax, target_names=['Non-IDC', 'IDC']), '\\n=====================================================\\n')\n",
        "\n",
        "# Cross validation score\n",
        "# cv = ShuffleSplit(n_splits=100, test_size=.25, random_state=0)\n",
        "# cv_score = np.median(cross_val_score(model, y_true, y_pred, cv=cv))*100\n",
        "# print('cv_score = ',cv_score)\n",
        "\n",
        "# Precision, recall, and f1_score\n",
        "tn, fp, fn, tp = confusion_matrix(y_true, y_pred_argmax).ravel()     # np.ravel(): returns contiguous flattened array (1D array with all the input-array elements and with the same type as it)\n",
        "# accuracy = round(accuracy_score(y_true, y_pred_argmax), 2)\n",
        "# accuracy = round(accuracy_score(y_true, y_pred_argmax), 2)\n",
        "# recall = round(recall_score(y_true, y_pred_argmax), 2)\n",
        "# precision = round(precision_score(y_true, y_pred_argmax), 2)\n",
        "\n",
        "accuracy = round((tp+tn)/(tp+fn+tn+fp), 2)\n",
        "recall = round(tp/(fn+tp), 2)\n",
        "precision = round(tp/(fp+tp), 2)\n",
        "\n",
        "f1score = round((2*precision*recall)/(precision+recall), 2)\n",
        "error_rate = round(1-accuracy, 2)\n",
        "\n",
        "# cohen_kappa score and zero_one loss\n",
        "cohen_kappa = round(cohen_kappa_score(y_true, y_pred_argmax), 2)\n",
        "zo_loss = round(zero_one_loss(y_true, y_pred_argmax), 2)\n",
        "\n",
        "# Area under the ROC curve\n",
        "roc_log = roc_auc_score(y_true, y_pred[:,1], multi_class='ovr')   # for the roc curve, we need to use a vector of probabilities so just chose one column and all rows\n",
        "fpr, tpr, threshold = roc_curve(y_true, y_pred[:,1])\n",
        "area_under_curve = round(auc(fpr, tpr), 2)  \n",
        "\n",
        "plt.figure(figsize=(6,5))\n",
        "plt.plot([0, 1], [0, 1], 'r--')  \n",
        "plt.plot(fpr, tpr, label='ROC-AUC = {:.2f}'.format(area_under_curve))  \n",
        "plt.xlabel('False positive rate', fontsize=14)\n",
        "plt.ylabel('True positive rate', fontsize=14)\n",
        "plt.title('ROC Curve', fontsize=18)\n",
        "plt.legend(loc='best')\n",
        "plt.show()\n",
        "plt.close()\n",
        "\n",
        "model_summary = pd.DataFrame({'Augmented':'YES',\n",
        "                              'Test_acc':test_accuracy,\n",
        "                              'Training_acc': training_accuracy,\n",
        "                              'Val_acc': val_accuracy,\n",
        "                              'Num_params':  f'{count_params:,}',\n",
        "                              'Accuracy': accuracy,\n",
        "                              'Precision': precision,\n",
        "                              'Recall': recall,\n",
        "                              'F1_score': f1score,\n",
        "                              'Error Rate': error_rate,\n",
        "                              'ROC-AUC score': area_under_curve,\n",
        "                              'Cohen Kappa': cohen_kappa,\n",
        "                              'Zero-One Loss': zo_loss}, index=[0]) \n",
        "print(model.summary())\n",
        "model_summary"
      ],
      "metadata": {
        "id": "1j26F2vnQ8m0"
      },
      "execution_count": null,
      "outputs": []
    },
    {
      "cell_type": "code",
      "source": [
        "print('best_hps.values:\\n', best_hps.values, '\\n')\n",
        "print(tuner.results_summary(1))   # hyperparameter values of top 10 models\n",
        "print(model.summary())"
      ],
      "metadata": {
        "id": "iLO10XxEfjFd"
      },
      "execution_count": null,
      "outputs": []
    },
    {
      "cell_type": "code",
      "source": [
        "# Display the hyperparameter values of top 10 models \n",
        "# tuner.results_summary()                                 # tuner.results_summary(1) => hyperparameter values of top model"
      ],
      "metadata": {
        "id": "zTTakeLM0-PS"
      },
      "execution_count": null,
      "outputs": []
    },
    {
      "cell_type": "code",
      "source": [
        "# from sklearn.model_selection import cross_val_score\n",
        "# from sklearn.metrics import confusion_matrix, precision_score, recall_score, accuracy_score, f1_score, classification_report\n",
        "# from sklearn import svm\n",
        "# from sklearn.metrics import auc\n",
        "# from sklearn.metrics import RocCurveDisplay\n",
        "# from sklearn.model_selection import StratifiedKFold\n",
        "# from sklearn.metrics import roc_curve\n",
        "\n",
        "\n",
        "# # def error_analysis(model_name, model, test_labels, test_data_generator):\n",
        "# num_of_test_samples = len(test_labels)\n",
        "# classes = ['Non-IDC(0)','IDC(1)']\n",
        "\n",
        "# y_true = test_data_generator.classes\n",
        "# print('y_true:\\n', y_true[:10])\n",
        "# # y_pred = model.predict_generator(test_data_generator, num_of_test_samples // BATCH_SIZE + 1)    # probabilities\n",
        "# # y_pred_argmax = (model.predict(test_data_generator) > 0.5).astype('int32')\n",
        "# y_pred = model.predict(test_data_generator)\n",
        "# print('y_pred:\\n', y_pred[:10])\n",
        "# # y_pred_argmax = (y_pred > 0.5).astype('int32')\n",
        "# y_pred_argmax = np.argmax(y_pred, axis=1)                      # 0s and 1s: return the indicies of the max values along the axis (axis=1: each row)   TODO: look into prob threshold\n",
        "# print('y_pred_argmax:\\n', y_pred_argmax[:10])\n",
        "\n",
        "# # Confusion matrix  \n",
        "# conf_max = confusion_matrix(y_true, y_pred_argmax)             # conf.max should use 0s and 1s for y_pred\n",
        "# perf_conf_max = conf_max.astype('float')/conf_max.sum(axis=1)[:np.newaxis]*100\n",
        "# df_perf_conf_max = pd.DataFrame(perf_conf_max, index=classes, columns=classes)\n",
        "\n",
        "# plt.figure(figsize=(6,5))\n",
        "# sns.heatmap(df_perf_conf_max, annot=True, cmap='coolwarm', annot_kws={'fontsize':16}, linewidth=0.5, fmt='.0f')  \n",
        "# plt.xlabel('Predicted Label', fontsize=14)\n",
        "# plt.ylabel('True Label', fontsize=14)\n",
        "# plt.title('Confusion Matrix (%)', fontsize=15)\n",
        "\n",
        "# # Classification report (classification_report should use 0s and 1s for y_pred)\n",
        "# print('=============== Classification Report ===============\\n\\n', classification_report(y_true, y_pred_argmax, target_names=['Non-IDC', 'IDC']), '\\n=====================================================\\n')\n",
        "\n",
        "# # Cross validation score\n",
        "# # cv = ShuffleSplit(n_splits=100, test_size=.25, random_state=0)\n",
        "# # cv_score = np.median(cross_val_score(model, y_true, y_pred, cv=cv))*100\n",
        "# # print('cv_score = ',cv_score)\n",
        "\n",
        "# # Precision, recall, and f1_score\n",
        "# tn, fp, fn, tp = confusion_matrix(y_true, y_pred_argmax).ravel()     # np.ravel(): returns contiguous flattened array (1D array with all the input-array elements and with the same type as it)\n",
        "# # accuracy = round(accuracy_score(y_true, y_pred_argmax), 2)\n",
        "# # accuracy = round(accuracy_score(y_true, y_pred_argmax), 2)\n",
        "# # recall = round(recall_score(y_true, y_pred_argmax), 2)\n",
        "# # precision = round(precision_score(y_true, y_pred_argmax), 2)\n",
        "\n",
        "# accuracy = round((tp+tn)/(tp+fn+tn+fp), 2)\n",
        "# recall = round(tp/(fn+tp), 2)\n",
        "# precision = round(tp/(fp+tp), 2)\n",
        "\n",
        "# f1score = round((2*precision*recall)/(precision+recall), 2)\n",
        "# error_rate = round(1-accuracy, 2)\n",
        "\n",
        "# # cohen_kappa score and zero_one loss\n",
        "# cohen_kappa = round(cohen_kappa_score(y_true, y_pred_argmax), 2)\n",
        "# zo_loss = round(zero_one_loss(y_true, y_pred_argmax), 2)\n",
        "\n",
        "# # Area under the ROC curve\n",
        "# roc_log = roc_auc_score(y_true, y_pred[:,1], multi_class='ovr')   # for the roc curve, we need to use a vector of probabilities so just chose one column and all rows\n",
        "# fpr, tpr, threshold = roc_curve(y_true, y_pred[:,1])\n",
        "# area_under_curve = round(auc(fpr, tpr), 2)  \n",
        "\n",
        "# plt.figure(figsize=(6,5))\n",
        "# plt.plot([0, 1], [0, 1], 'r--')  \n",
        "# plt.plot(fpr, tpr, label='ROC-AUC = {:.2f}'.format(area_under_curve))  \n",
        "# plt.xlabel('False positive rate', fontsize=14)\n",
        "# plt.ylabel('True positive rate', fontsize=14)\n",
        "# plt.title('ROC Curve', fontsize=18)\n",
        "# plt.legend(loc='best')\n",
        "# plt.show()\n",
        "# plt.close()\n",
        "\n",
        "# model_summary = pd.DataFrame({\n",
        "#                               'Accuracy': accuracy,\n",
        "#                               'Precision': precision,\n",
        "#                               'Recall': recall,\n",
        "#                               'F1_score': f1score,\n",
        "#                               'Error Rate': error_rate,\n",
        "#                               'ROC-AUC score': area_under_curve,\n",
        "#                               'Cohen Kappa': cohen_kappa,\n",
        "#                               'Zero-One Loss': zo_loss}, index=[0]) \n",
        "# model_summary\n",
        "  \n",
        "# # error_analysis('CNN', model, test_labels, test_data_generator)"
      ],
      "metadata": {
        "id": "vy9AApVr3HH9"
      },
      "execution_count": null,
      "outputs": []
    },
    {
      "cell_type": "code",
      "source": [
        "# from sklearn.model_selection import cross_val_score\n",
        "# from sklearn.metrics import confusion_matrix, precision_score, recall_score, accuracy_score, f1_score, classification_report\n",
        "# from sklearn import svm\n",
        "# from sklearn.metrics import auc\n",
        "# from sklearn.metrics import RocCurveDisplay\n",
        "# from sklearn.model_selection import StratifiedKFold\n",
        "# from sklearn.metrics import roc_curve\n",
        "\n",
        "\n",
        "# def error_analysis(model_name, model, test_labels, test_data_generator):\n",
        "#   num_of_test_samples = len(test_labels)\n",
        "#   classes = ['Non-IDC(0)','IDC(1)']\n",
        "\n",
        "#   y_true = test_data_generator.classes\n",
        "#   # y_pred = model.predict_generator(test_data_generator, num_of_test_samples // BATCH_SIZE + 1)    # probabilities\n",
        "#   # y_pred = model.predict(test_data_generator > 0.5)\n",
        "#   y_pred = (model.predict(test_data_generator) > 0.5).astype('int32')\n",
        "#   y_pred_argmax = np.argmax(y_pred, axis=1)                      # 0s and 1s: return the indicies of the max values along the axis (axis=1: each row)   TODO: look into prob threshold\n",
        "\n",
        "\n",
        "#   # Confusion matrix  \n",
        "#   conf_max = confusion_matrix(y_true, y_pred_argmax)             # conf.max should use 0s and 1s for y_pred\n",
        "#   perf_conf_max = conf_max.astype('float')/conf_max.sum(axis=1)[:np.newaxis]*100\n",
        "#   df_perf_conf_max = pd.DataFrame(perf_conf_max, index=classes, columns=classes)\n",
        "\n",
        "#   plt.figure(figsize=(6,5))\n",
        "#   sns.heatmap(df_perf_conf_max, annot=True, cmap='coolwarm', annot_kws={'fontsize':16}, linewidth=0.5, fmt='.0f')  \n",
        "#   plt.xlabel('Predicted Label', fontsize=14)\n",
        "#   plt.ylabel('True Label', fontsize=14)\n",
        "#   plt.title('Confusion Matrix (%)', fontsize=15)\n",
        "  \n",
        "#   # Classification report (classification_report should use 0s and 1s for y_pred)\n",
        "#   print('=============== Classification Report ===============\\n\\n', classification_report(y_true, y_pred_argmax, target_names=['Non-IDC', 'IDC']), '\\n=====================================================\\n')\n",
        "  \n",
        "#   # Cross validation score\n",
        "#   # cv = ShuffleSplit(n_splits=100, test_size=.25, random_state=0)\n",
        "#   # cv_score = np.median(cross_val_score(model, y_true, y_pred, cv=cv))*100\n",
        "#   # print('cv_score = ',cv_score)\n",
        "\n",
        "#   # Precision, recall, and f1_score\n",
        "#   tn, fp, fn, tp = confusion_matrix(y_true, y_pred_argmax).ravel()     # np.ravel(): returns contiguous flattened array (1D array with all the input-array elements and with the same type as it)\n",
        "#   accuracy = round(accuracy_score(y_true, y_pred_argmax), 2)\n",
        "#   precision = round(precision_score(y_true, y_pred_argmax), 2)\n",
        "#   recall = round(recall_score(y_true, y_pred_argmax), 2)\n",
        "#   f1score = round((2*precision*recall)/(precision+recall), 2)\n",
        "#   error_rate = round(1-accuracy, 2)\n",
        "\n",
        "#   # cohen_kappa score and zero_one loss\n",
        "#   cohen_kappa = round(cohen_kappa_score(y_true, y_pred_argmax), 2)\n",
        "#   zo_loss = round(zero_one_loss(y_true, y_pred_argmax), 2)\n",
        "\n",
        "#   # Area under the ROC curve\n",
        "#   roc_log = roc_auc_score(y_true, y_pred[:,1], multi_class='ovr')   # for the roc curve, we need to use a vector of probabilities so just chose one column and all rows\n",
        "#   fpr, tpr, threshold = roc_curve(y_true, y_pred[:,1])\n",
        "#   area_under_curve = round(auc(fpr, tpr), 2)  \n",
        "\n",
        "#   plt.figure(figsize=(6,5))\n",
        "#   plt.plot([0, 1], [0, 1], 'r--')  \n",
        "#   plt.plot(fpr, tpr, label='ROC-AUC = {:.2f}'.format(area_under_curve))  \n",
        "#   plt.xlabel('False positive rate', fontsize=14)\n",
        "#   plt.ylabel('True positive rate', fontsize=14)\n",
        "#   plt.title('ROC Curve', fontsize=18)\n",
        "#   plt.legend(loc='best')\n",
        "#   plt.show()\n",
        "#   plt.close()\n",
        "\n",
        "#   model_summary = pd.DataFrame({'Model':model_name,\n",
        "#                                 'Accuracy': accuracy,\n",
        "#                                 'Precision': precision,\n",
        "#                                 'Recall': recall,\n",
        "#                                 'F1_score': f1score,\n",
        "#                                 'Error Rate': error_rate,\n",
        "#                                 'ROC-AUC score': area_under_curve,\n",
        "#                                 'Cohen Kappa': cohen_kappa,\n",
        "#                                 'Zero-One Loss': zo_loss}, index=[0]) \n",
        "#   return model_summary\n",
        "  \n",
        "# error_analysis('CNN', model, test_labels, test_data_generator)"
      ],
      "metadata": {
        "id": "55uBtQIKC7fe"
      },
      "execution_count": null,
      "outputs": []
    },
    {
      "cell_type": "code",
      "source": [
        "# # plot my model architecture\n",
        "# tf.keras.utils.plot_model(\n",
        "#     model,\n",
        "#     show_shapes=True,\n",
        "#     show_layer_names=False,\n",
        "#     show_layer_activations=True,\n",
        "# )"
      ],
      "metadata": {
        "id": "bTqd7IJeTaVT"
      },
      "execution_count": null,
      "outputs": []
    },
    {
      "cell_type": "code",
      "source": [
        "# !pip install cufflinks\n"
      ],
      "metadata": {
        "id": "9pRgWBFBSV5q"
      },
      "execution_count": null,
      "outputs": []
    },
    {
      "cell_type": "code",
      "source": [
        "# from plotly.subplots import make_subplots\n",
        "# labels=['IDC Malignant', 'IDC Benign']\n",
        "# values = [78786, 198738]\n",
        "# colors = ['#f5b3ae','#c3f3fa']\n",
        "\n",
        "# fig = make_subplots(1,1, specs=[[{'type':'domain'}]],\n",
        "#                    subplot_titles=[''])\n",
        "# fig.add_trace(go.Pie(labels=labels, values=values, textinfo='label+percent', pull=[0.1, 0], scalegroup='one', marker_colors=colors,\n",
        "#                     name='data_split'), 1,1)\n",
        "\n",
        "\n",
        "# fig.update_layout(title_text='Data Split Before Sampling')\n",
        "# fig.show()"
      ],
      "metadata": {
        "id": "Xg1BCUW7Q70U"
      },
      "execution_count": null,
      "outputs": []
    },
    {
      "cell_type": "code",
      "source": [],
      "metadata": {
        "id": "XuRbO-ntQ7bP"
      },
      "execution_count": null,
      "outputs": []
    }
  ]
}