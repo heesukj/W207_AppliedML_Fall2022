{
  "nbformat": 4,
  "nbformat_minor": 0,
  "metadata": {
    "colab": {
      "provenance": [],
      "collapsed_sections": [
        "9c33GGOLyjZL",
        "6YHny2JTx8qA"
      ],
      "include_colab_link": true
    },
    "kernelspec": {
      "name": "python3",
      "display_name": "Python 3"
    },
    "language_info": {
      "name": "python"
    }
  },
  "cells": [
    {
      "cell_type": "markdown",
      "metadata": {
        "id": "view-in-github",
        "colab_type": "text"
      },
      "source": [
        "<a href=\"https://colab.research.google.com/github/heesukjang/W207_AppliedML_Fall2022/blob/main/SVM_Baseline_Model_fromRachael.ipynb\" target=\"_parent\"><img src=\"https://colab.research.google.com/assets/colab-badge.svg\" alt=\"Open In Colab\"/></a>"
      ]
    },
    {
      "cell_type": "markdown",
      "source": [
        "# Importing Libraries"
      ],
      "metadata": {
        "id": "9c33GGOLyjZL"
      }
    },
    {
      "cell_type": "code",
      "execution_count": null,
      "metadata": {
        "id": "pGPWuYiY6u7K"
      },
      "outputs": [],
      "source": [
        "# Import the libraries we'll use below.\n",
        "import numpy as np\n",
        "import pandas\n",
        "import glob\n",
        "import os\n",
        "import skimage.io as io\n",
        "\n",
        "import math \n",
        "from matplotlib import pyplot as plt\n",
        "import mlxtend\n",
        "from mlxtend.plotting import scatterplotmatrix\n",
        "import seaborn as sns\n",
        "from IPython.display import Image\n",
        "import pandas as pd\n",
        "import seaborn as sns  # for nicer plots\n",
        "sns.set(style=\"darkgrid\")  # default style\n",
        "\n",
        "import tensorflow as tf\n",
        "import statsmodels.api as sm\n",
        "\n",
        "# sklearn\n",
        "from sklearn import preprocessing\n",
        "from sklearn.preprocessing import StandardScaler\n",
        "from sklearn.model_selection import train_test_split\n",
        "\n",
        "# Importing SVM model\n",
        "from sklearn import svm\n",
        "from skimage.transform import resize\n",
        "from skimage.io import imread\n",
        "import numpy as np\n",
        "from sklearn.model_selection import GridSearchCV\n",
        "import sklearn.metrics"
      ]
    },
    {
      "cell_type": "markdown",
      "source": [
        "# Mounting Google Drive to Access Data"
      ],
      "metadata": {
        "id": "5-SQytqyyojX"
      }
    },
    {
      "cell_type": "code",
      "source": [
        "# Mount the Google Drive Folder\n",
        "from google.colab import drive\n",
        "drive.mount('/content/drive')"
      ],
      "metadata": {
        "id": "En4q7eSWoXP2",
        "colab": {
          "base_uri": "https://localhost:8080/"
        },
        "outputId": "7b0db0fb-b188-40cf-95b2-7d7bb66fdf78"
      },
      "execution_count": null,
      "outputs": [
        {
          "output_type": "stream",
          "name": "stdout",
          "text": [
            "Drive already mounted at /content/drive; to attempt to forcibly remount, call drive.mount(\"/content/drive\", force_remount=True).\n"
          ]
        }
      ]
    },
    {
      "cell_type": "code",
      "source": [
        "# Pulling all the files from each subfolder\n",
        "\n",
        "files= list(glob.glob(\"/content/drive/MyDrive/DATASCI W207 - Machine Learning/Dataset/*\"))\n",
        "\n",
        "files"
      ],
      "metadata": {
        "id": "mFxj0xoXobI1",
        "colab": {
          "base_uri": "https://localhost:8080/"
        },
        "outputId": "7cd37872-e079-45ac-a40e-bd58dc692209"
      },
      "execution_count": null,
      "outputs": [
        {
          "output_type": "execute_result",
          "data": {
            "text/plain": [
              "['/content/drive/MyDrive/DATASCI W207 - Machine Learning/Dataset/Train',\n",
              " '/content/drive/MyDrive/DATASCI W207 - Machine Learning/Dataset/Test',\n",
              " '/content/drive/MyDrive/DATASCI W207 - Machine Learning/Dataset/Validate']"
            ]
          },
          "metadata": {},
          "execution_count": 150
        }
      ]
    },
    {
      "cell_type": "code",
      "source": [
        "# Samples of images is a list, taking the file path and going into each slide/folder\n",
        "samples = [glob.glob(files[i]+'/*/*')for i in range(0, len(files))]\n",
        "samples"
      ],
      "metadata": {
        "id": "i2VF2-OmociI"
      },
      "execution_count": null,
      "outputs": []
    },
    {
      "cell_type": "code",
      "source": [
        "# Index will need to be adjusted based on how many subfolders there are on the group project\n",
        "\n",
        "x=[]\n",
        "y=[]\n",
        "\n",
        "for i in range(0, len(samples)):\n",
        "    for j in range(0, len(samples[i])):\n",
        "        x.append(samples[i][j])\n",
        "        y.append(samples[i][j].split('/')[7])"
      ],
      "metadata": {
        "id": "UrdDF7PqodjS"
      },
      "execution_count": null,
      "outputs": []
    },
    {
      "cell_type": "markdown",
      "source": [
        "## Creating a DF of the Train, Test and Validate paths"
      ],
      "metadata": {
        "id": "sIzf2wdCoYnd"
      }
    },
    {
      "cell_type": "code",
      "source": [
        "d = {\"patches\":x,\"IDC\":y}"
      ],
      "metadata": {
        "id": "QKfFdl9Eofa_"
      },
      "execution_count": null,
      "outputs": []
    },
    {
      "cell_type": "code",
      "source": [
        "data = pd.DataFrame(data=d)\n",
        "data # path to image, IDC value"
      ],
      "metadata": {
        "id": "OpdKgUCVog3g"
      },
      "execution_count": null,
      "outputs": []
    },
    {
      "cell_type": "markdown",
      "source": [
        "# Pulling out the Train Set, as a DF"
      ],
      "metadata": {
        "id": "p2PIp_hC0Dp2"
      }
    },
    {
      "cell_type": "code",
      "source": [
        "train_DF = data[data['patches'].str.contains('Train')]\n",
        "\n",
        "train_DF\n",
        "\n",
        "# train_DF.info()"
      ],
      "metadata": {
        "id": "XPJDAPZ_0Hrr"
      },
      "execution_count": null,
      "outputs": []
    },
    {
      "cell_type": "markdown",
      "source": [
        "# Randomize data NOT NEEDED ANYMORE"
      ],
      "metadata": {
        "id": "6YHny2JTx8qA"
      }
    },
    {
      "cell_type": "code",
      "source": [
        "\n",
        "\n",
        "indexes = np.arange(df_features.shape[0])\n",
        "print('indexes:', indexes)\n",
        "\n",
        "np.random.seed(0)    # get the same results each time    ??????\n",
        "shuffled_indexes = np.random.permutation(indexes)\n",
        "print('shuffled indexes:', shuffled_indexes, '\\n')\n",
        "\n",
        "# change the ordering of the original df_features using .reindex()\n",
        "df_features = df_features.reindex(shuffled_indexes)\n",
        "display(df_features)"
      ],
      "metadata": {
        "id": "aBegGEAwx-pM"
      },
      "execution_count": null,
      "outputs": []
    },
    {
      "cell_type": "markdown",
      "source": [
        "# Baseline - SVM Model "
      ],
      "metadata": {
        "id": "tTkR0QI16XmZ"
      }
    },
    {
      "cell_type": "markdown",
      "source": [
        "## 1. Taking inputs "
      ],
      "metadata": {
        "id": "yGQ3QzEYNICd"
      }
    },
    {
      "cell_type": "code",
      "source": [
        "# 1.Taking inputs  try 2\n",
        "\n",
        "from tqdm import tqdm # import tqdm\n",
        "\n",
        "# Apply gray scale to all images, flatten and store array / shape in new columns\n",
        "def get_img_arrays(df,):\n",
        "    # read each image array from corresponding path as grayscale and flatten the image array\n",
        "    df['img_array'] = df.progress_apply(lambda x : io.imread(x['patches'],as_gray=True).flatten(),axis=1) # make sure to specify axis = 1\n",
        "    # get the shape of each image array and store it in the dataframe\n",
        "    df['array_shape'] = df.progress_apply(lambda x : x['img_array'].shape[0],axis=1) # make sure to specify axis = 1\n",
        "    return df\n"
      ],
      "metadata": {
        "id": "6KMBpFJOmAZr"
      },
      "execution_count": null,
      "outputs": []
    },
    {
      "cell_type": "code",
      "source": [
        "# Running the function\n",
        "\n",
        "from tqdm import tqdm # import tqdm\n",
        "tqdm.pandas() # initialize tqdm for pandas\n",
        "\n",
        "# # tqdm is a library that enables you to visualize the progress of a for loop by displaying a configurable progress bar\n",
        "\n",
        "flat_data_full = get_img_arrays(df = data)\n",
        "\n",
        "# img_array column now stores values between 0 and 1 "
      ],
      "metadata": {
        "id": "5gWUvE6x8xfo",
        "colab": {
          "base_uri": "https://localhost:8080/"
        },
        "outputId": "8b00e57f-d7ae-4f82-de98-bce6bb4a86c1"
      },
      "execution_count": null,
      "outputs": [
        {
          "output_type": "stream",
          "name": "stderr",
          "text": [
            "100%|██████████| 1193/1193 [00:03<00:00, 391.48it/s]\n",
            "100%|██████████| 1193/1193 [00:00<00:00, 73710.02it/s]\n"
          ]
        }
      ]
    },
    {
      "cell_type": "code",
      "source": [
        "flat_data_full"
      ],
      "metadata": {
        "id": "GbPpDI5xwwa6"
      },
      "execution_count": null,
      "outputs": []
    },
    {
      "cell_type": "code",
      "source": [
        "\"\"\"\n",
        "Checking the Array Shapes\n",
        "As expected most of our image arrays have a length of 2500, this is because our arrays where originally, 50 x 50 x 3 so when we convert them to grayscale we get an array of 50 x 50 x 1\n",
        "when we flatten it we get 2500 total values.\n",
        "\"\"\"\n",
        "\n",
        "flat_data_full.array_shape.value_counts()\n"
      ],
      "metadata": {
        "colab": {
          "base_uri": "https://localhost:8080/"
        },
        "id": "9RoKUhjYtgYe",
        "outputId": "1a2f6c12-73c3-422b-cb69-4a125a2226a7"
      },
      "execution_count": null,
      "outputs": [
        {
          "output_type": "execute_result",
          "data": {
            "text/plain": [
              "2500    1193\n",
              "1550       1\n",
              "1400       1\n",
              "1350       1\n",
              "1150       1\n",
              "1650       1\n",
              "2250       1\n",
              "350        1\n",
              "Name: array_shape, dtype: int64"
            ]
          },
          "metadata": {},
          "execution_count": 160
        }
      ]
    },
    {
      "cell_type": "code",
      "source": [
        "# to make the model better, we would drop images with the wrong size (not 2500)\n",
        "\n",
        "weird_imgs = flat_data_full[flat_data_full['array_shape'] != 2500] \n",
        "weird_imgs\n",
        "\n",
        "# 7 files are dropped\n",
        "\n",
        "# drop images using indices of the filter\n",
        "flat_data_full.drop(weird_imgs.index,inplace=True)\n",
        "\n",
        "flat_data_full"
      ],
      "metadata": {
        "id": "6R5pCh5Qzadt"
      },
      "execution_count": null,
      "outputs": []
    },
    {
      "cell_type": "code",
      "source": [
        "# Shuffle the full dataset before splitting\n",
        "\n",
        "from sklearn.utils import shuffle\n",
        "\n",
        "flat_data_full = shuffle(flat_data_full)\n",
        "\n",
        "flat_data_full"
      ],
      "metadata": {
        "id": "OkD9qY1c7Ekm"
      },
      "execution_count": null,
      "outputs": []
    },
    {
      "cell_type": "markdown",
      "source": [
        "# Pull out training set and populate arrays"
      ],
      "metadata": {
        "id": "EPwtuVaGpwqd"
      }
    },
    {
      "cell_type": "code",
      "source": [
        "# Create a TRAINING SET FROM PREPROCESSED IMAGES\n",
        "\n",
        "# Pull out the ~800 train images\n",
        "train_df = flat_data_full[flat_data_full['patches'].str.contains('/Train/')]\n",
        "\n",
        "# get the number of rows in the pandas dataframe in order to determine the number of rows in our numpy array\n",
        "nrows=train_df.shape[0]\n",
        "\n",
        "ncols = 2500\n",
        "\n",
        "img_arrays_train = np.zeros((nrows,ncols))\n",
        "print(img_arrays_train.shape) #797 rows, 2500 is the size of the array)"
      ],
      "metadata": {
        "colab": {
          "base_uri": "https://localhost:8080/"
        },
        "id": "IAvv1o36mwsr",
        "outputId": "21b3a92f-4eb4-4c12-f118-abfc493065be"
      },
      "execution_count": null,
      "outputs": [
        {
          "output_type": "stream",
          "name": "stdout",
          "text": [
            "(797, 2500)\n"
          ]
        }
      ]
    },
    {
      "cell_type": "code",
      "source": [
        "# TRAINING SET --> add all the image arrays to the numpy array that we just initialized\n",
        "\n",
        "for i,array in enumerate(train_df['img_array']):\n",
        "    img_arrays_train[i,:] = array\n",
        "\n",
        "display(img_arrays_train[0:5,:])"
      ],
      "metadata": {
        "colab": {
          "base_uri": "https://localhost:8080/",
          "height": 187
        },
        "id": "Wb6rYr5Dx3My",
        "outputId": "e18519c7-ba58-4139-f1f7-0cf2e899de56"
      },
      "execution_count": null,
      "outputs": [
        {
          "output_type": "display_data",
          "data": {
            "text/plain": [
              "array([[0.9282502 , 0.92518471, 0.92349529, ..., 0.58064275, 0.62721922,\n",
              "        0.62554471],\n",
              "       [0.74075647, 0.78556039, 0.70387451, ..., 0.66587294, 0.61151373,\n",
              "        0.78054549],\n",
              "       [0.51218078, 0.4183451 , 0.5256498 , ..., 0.44824353, 0.55391137,\n",
              "        0.4612302 ],\n",
              "       [0.3162102 , 0.25915922, 0.32808078, ..., 0.93694941, 0.91200549,\n",
              "        0.90975843],\n",
              "       [0.56029961, 0.4965549 , 0.47690235, ..., 0.41985412, 0.63706078,\n",
              "        0.75785725]])"
            ]
          },
          "metadata": {}
        }
      ]
    },
    {
      "cell_type": "code",
      "source": [
        "# TRAINING SET --> Extract Variables of interest and store them in a new dataframe\n",
        "# dfd \n",
        "\n",
        "train_inputs = train_df.loc[:,['img_array','IDC']]\n",
        "# df_inputs.head()\n",
        "\n",
        "train_inputs.head()"
      ],
      "metadata": {
        "colab": {
          "base_uri": "https://localhost:8080/",
          "height": 204
        },
        "id": "RS4U1TQNz6TP",
        "outputId": "6ef60ae3-4a51-4133-dd12-f6879a8c8fb1"
      },
      "execution_count": null,
      "outputs": [
        {
          "output_type": "execute_result",
          "data": {
            "text/plain": [
              "                                             img_array IDC\n",
              "235  [0.9282501960784313, 0.9251847058823528, 0.923...   1\n",
              "240  [0.7407564705882353, 0.7855603921568627, 0.703...   1\n",
              "180  [0.5121807843137255, 0.4183450980392157, 0.525...   1\n",
              "594  [0.31621019607843137, 0.2591592156862745, 0.32...   0\n",
              "146  [0.5602996078431373, 0.49655490196078433, 0.47...   1"
            ],
            "text/html": [
              "\n",
              "  <div id=\"df-6b770694-cb51-4cf8-812b-fc302d277424\">\n",
              "    <div class=\"colab-df-container\">\n",
              "      <div>\n",
              "<style scoped>\n",
              "    .dataframe tbody tr th:only-of-type {\n",
              "        vertical-align: middle;\n",
              "    }\n",
              "\n",
              "    .dataframe tbody tr th {\n",
              "        vertical-align: top;\n",
              "    }\n",
              "\n",
              "    .dataframe thead th {\n",
              "        text-align: right;\n",
              "    }\n",
              "</style>\n",
              "<table border=\"1\" class=\"dataframe\">\n",
              "  <thead>\n",
              "    <tr style=\"text-align: right;\">\n",
              "      <th></th>\n",
              "      <th>img_array</th>\n",
              "      <th>IDC</th>\n",
              "    </tr>\n",
              "  </thead>\n",
              "  <tbody>\n",
              "    <tr>\n",
              "      <th>235</th>\n",
              "      <td>[0.9282501960784313, 0.9251847058823528, 0.923...</td>\n",
              "      <td>1</td>\n",
              "    </tr>\n",
              "    <tr>\n",
              "      <th>240</th>\n",
              "      <td>[0.7407564705882353, 0.7855603921568627, 0.703...</td>\n",
              "      <td>1</td>\n",
              "    </tr>\n",
              "    <tr>\n",
              "      <th>180</th>\n",
              "      <td>[0.5121807843137255, 0.4183450980392157, 0.525...</td>\n",
              "      <td>1</td>\n",
              "    </tr>\n",
              "    <tr>\n",
              "      <th>594</th>\n",
              "      <td>[0.31621019607843137, 0.2591592156862745, 0.32...</td>\n",
              "      <td>0</td>\n",
              "    </tr>\n",
              "    <tr>\n",
              "      <th>146</th>\n",
              "      <td>[0.5602996078431373, 0.49655490196078433, 0.47...</td>\n",
              "      <td>1</td>\n",
              "    </tr>\n",
              "  </tbody>\n",
              "</table>\n",
              "</div>\n",
              "      <button class=\"colab-df-convert\" onclick=\"convertToInteractive('df-6b770694-cb51-4cf8-812b-fc302d277424')\"\n",
              "              title=\"Convert this dataframe to an interactive table.\"\n",
              "              style=\"display:none;\">\n",
              "        \n",
              "  <svg xmlns=\"http://www.w3.org/2000/svg\" height=\"24px\"viewBox=\"0 0 24 24\"\n",
              "       width=\"24px\">\n",
              "    <path d=\"M0 0h24v24H0V0z\" fill=\"none\"/>\n",
              "    <path d=\"M18.56 5.44l.94 2.06.94-2.06 2.06-.94-2.06-.94-.94-2.06-.94 2.06-2.06.94zm-11 1L8.5 8.5l.94-2.06 2.06-.94-2.06-.94L8.5 2.5l-.94 2.06-2.06.94zm10 10l.94 2.06.94-2.06 2.06-.94-2.06-.94-.94-2.06-.94 2.06-2.06.94z\"/><path d=\"M17.41 7.96l-1.37-1.37c-.4-.4-.92-.59-1.43-.59-.52 0-1.04.2-1.43.59L10.3 9.45l-7.72 7.72c-.78.78-.78 2.05 0 2.83L4 21.41c.39.39.9.59 1.41.59.51 0 1.02-.2 1.41-.59l7.78-7.78 2.81-2.81c.8-.78.8-2.07 0-2.86zM5.41 20L4 18.59l7.72-7.72 1.47 1.35L5.41 20z\"/>\n",
              "  </svg>\n",
              "      </button>\n",
              "      \n",
              "  <style>\n",
              "    .colab-df-container {\n",
              "      display:flex;\n",
              "      flex-wrap:wrap;\n",
              "      gap: 12px;\n",
              "    }\n",
              "\n",
              "    .colab-df-convert {\n",
              "      background-color: #E8F0FE;\n",
              "      border: none;\n",
              "      border-radius: 50%;\n",
              "      cursor: pointer;\n",
              "      display: none;\n",
              "      fill: #1967D2;\n",
              "      height: 32px;\n",
              "      padding: 0 0 0 0;\n",
              "      width: 32px;\n",
              "    }\n",
              "\n",
              "    .colab-df-convert:hover {\n",
              "      background-color: #E2EBFA;\n",
              "      box-shadow: 0px 1px 2px rgba(60, 64, 67, 0.3), 0px 1px 3px 1px rgba(60, 64, 67, 0.15);\n",
              "      fill: #174EA6;\n",
              "    }\n",
              "\n",
              "    [theme=dark] .colab-df-convert {\n",
              "      background-color: #3B4455;\n",
              "      fill: #D2E3FC;\n",
              "    }\n",
              "\n",
              "    [theme=dark] .colab-df-convert:hover {\n",
              "      background-color: #434B5C;\n",
              "      box-shadow: 0px 1px 3px 1px rgba(0, 0, 0, 0.15);\n",
              "      filter: drop-shadow(0px 1px 2px rgba(0, 0, 0, 0.3));\n",
              "      fill: #FFFFFF;\n",
              "    }\n",
              "  </style>\n",
              "\n",
              "      <script>\n",
              "        const buttonEl =\n",
              "          document.querySelector('#df-6b770694-cb51-4cf8-812b-fc302d277424 button.colab-df-convert');\n",
              "        buttonEl.style.display =\n",
              "          google.colab.kernel.accessAllowed ? 'block' : 'none';\n",
              "\n",
              "        async function convertToInteractive(key) {\n",
              "          const element = document.querySelector('#df-6b770694-cb51-4cf8-812b-fc302d277424');\n",
              "          const dataTable =\n",
              "            await google.colab.kernel.invokeFunction('convertToInteractive',\n",
              "                                                     [key], {});\n",
              "          if (!dataTable) return;\n",
              "\n",
              "          const docLinkHtml = 'Like what you see? Visit the ' +\n",
              "            '<a target=\"_blank\" href=https://colab.research.google.com/notebooks/data_table.ipynb>data table notebook</a>'\n",
              "            + ' to learn more about interactive tables.';\n",
              "          element.innerHTML = '';\n",
              "          dataTable['output_type'] = 'display_data';\n",
              "          await google.colab.output.renderOutput(dataTable, element);\n",
              "          const docLink = document.createElement('div');\n",
              "          docLink.innerHTML = docLinkHtml;\n",
              "          element.appendChild(docLink);\n",
              "        }\n",
              "      </script>\n",
              "    </div>\n",
              "  </div>\n",
              "  "
            ]
          },
          "metadata": {},
          "execution_count": 218
        }
      ]
    },
    {
      "cell_type": "code",
      "source": [],
      "metadata": {
        "id": "SJ1aLK2TpoUw"
      },
      "execution_count": null,
      "outputs": []
    },
    {
      "cell_type": "markdown",
      "source": [
        "# Pull out Test Set and create arrays"
      ],
      "metadata": {
        "id": "jsSjUL1qp2_v"
      }
    },
    {
      "cell_type": "code",
      "source": [
        "# Create a TEST SET FROM PREPROCESSED IMAGES\n",
        "\n",
        "# Pull out the ~200 train images\n",
        "test_df = flat_data_full[flat_data_full['patches'].str.contains('/Test/')]\n",
        "\n",
        "# get the number of rows in the pandas dataframe in order to determine the number of rows in our numpy array\n",
        "nrows=test_df.shape[0]\n",
        "\n",
        "ncols = 2500\n",
        "\n",
        "img_arrays_test = np.zeros((nrows,ncols))\n",
        "print(img_arrays_test.shape) #199 rows, 2500 is the size of the array)"
      ],
      "metadata": {
        "colab": {
          "base_uri": "https://localhost:8080/"
        },
        "id": "TPbg0FrDp57e",
        "outputId": "df6fff05-f6d9-4ec4-a25b-d6bfefc31cf4"
      },
      "execution_count": null,
      "outputs": [
        {
          "output_type": "stream",
          "name": "stdout",
          "text": [
            "(199, 2500)\n"
          ]
        }
      ]
    },
    {
      "cell_type": "code",
      "source": [
        "# TEST SET --> add all the image arrays to the numpy array that we just initialized\n",
        "\n",
        "for i,array in enumerate(test_df['img_array']):\n",
        "    img_arrays_test[i,:] = array\n",
        "\n",
        "display(img_arrays_test[0:5,:])"
      ],
      "metadata": {
        "colab": {
          "base_uri": "https://localhost:8080/",
          "height": 187
        },
        "id": "ynJelf_9qUrK",
        "outputId": "d9a4dfff-025b-4c3c-8012-8433cb55166f"
      },
      "execution_count": null,
      "outputs": [
        {
          "output_type": "display_data",
          "data": {
            "text/plain": [
              "array([[0.44356549, 0.41293176, 0.58385961, ..., 0.53854   , 0.38480745,\n",
              "        0.35906863],\n",
              "       [0.49764824, 0.48789333, 0.57400588, ..., 0.51444706, 0.55449608,\n",
              "        0.44555529],\n",
              "       [0.52896039, 0.76406353, 0.46456353, ..., 0.51347373, 0.64442863,\n",
              "        0.46153569],\n",
              "       [0.7009902 , 0.73042824, 0.56077059, ..., 0.91762431, 0.77524   ,\n",
              "        0.65227255],\n",
              "       [0.67071451, 0.65751333, 0.60227529, ..., 0.69370118, 0.62049216,\n",
              "        0.61906275]])"
            ]
          },
          "metadata": {}
        }
      ]
    },
    {
      "cell_type": "code",
      "source": [
        "# TEST SET --> Extract Variables of interest and store them in a new dataframe\n",
        "# dfd \n",
        "\n",
        "test_inputs = test_df.loc[:,['img_array','IDC']]\n",
        "\n",
        "test_inputs.head()"
      ],
      "metadata": {
        "colab": {
          "base_uri": "https://localhost:8080/",
          "height": 204
        },
        "id": "Y4ODl-5OqXOK",
        "outputId": "c940e523-ab90-4755-9790-8b2200286a5d"
      },
      "execution_count": null,
      "outputs": [
        {
          "output_type": "execute_result",
          "data": {
            "text/plain": [
              "                                             img_array IDC\n",
              "848  [0.44356549019607844, 0.41293176470588233, 0.5...   1\n",
              "837  [0.4976482352941176, 0.4878933333333334, 0.574...   1\n",
              "876  [0.5289603921568627, 0.7640635294117648, 0.464...   1\n",
              "869  [0.7009901960784313, 0.7304282352941176, 0.560...   1\n",
              "990  [0.6707145098039216, 0.6575133333333334, 0.602...   0"
            ],
            "text/html": [
              "\n",
              "  <div id=\"df-f85a55fe-d368-49e6-a9c2-c4324acadcd0\">\n",
              "    <div class=\"colab-df-container\">\n",
              "      <div>\n",
              "<style scoped>\n",
              "    .dataframe tbody tr th:only-of-type {\n",
              "        vertical-align: middle;\n",
              "    }\n",
              "\n",
              "    .dataframe tbody tr th {\n",
              "        vertical-align: top;\n",
              "    }\n",
              "\n",
              "    .dataframe thead th {\n",
              "        text-align: right;\n",
              "    }\n",
              "</style>\n",
              "<table border=\"1\" class=\"dataframe\">\n",
              "  <thead>\n",
              "    <tr style=\"text-align: right;\">\n",
              "      <th></th>\n",
              "      <th>img_array</th>\n",
              "      <th>IDC</th>\n",
              "    </tr>\n",
              "  </thead>\n",
              "  <tbody>\n",
              "    <tr>\n",
              "      <th>848</th>\n",
              "      <td>[0.44356549019607844, 0.41293176470588233, 0.5...</td>\n",
              "      <td>1</td>\n",
              "    </tr>\n",
              "    <tr>\n",
              "      <th>837</th>\n",
              "      <td>[0.4976482352941176, 0.4878933333333334, 0.574...</td>\n",
              "      <td>1</td>\n",
              "    </tr>\n",
              "    <tr>\n",
              "      <th>876</th>\n",
              "      <td>[0.5289603921568627, 0.7640635294117648, 0.464...</td>\n",
              "      <td>1</td>\n",
              "    </tr>\n",
              "    <tr>\n",
              "      <th>869</th>\n",
              "      <td>[0.7009901960784313, 0.7304282352941176, 0.560...</td>\n",
              "      <td>1</td>\n",
              "    </tr>\n",
              "    <tr>\n",
              "      <th>990</th>\n",
              "      <td>[0.6707145098039216, 0.6575133333333334, 0.602...</td>\n",
              "      <td>0</td>\n",
              "    </tr>\n",
              "  </tbody>\n",
              "</table>\n",
              "</div>\n",
              "      <button class=\"colab-df-convert\" onclick=\"convertToInteractive('df-f85a55fe-d368-49e6-a9c2-c4324acadcd0')\"\n",
              "              title=\"Convert this dataframe to an interactive table.\"\n",
              "              style=\"display:none;\">\n",
              "        \n",
              "  <svg xmlns=\"http://www.w3.org/2000/svg\" height=\"24px\"viewBox=\"0 0 24 24\"\n",
              "       width=\"24px\">\n",
              "    <path d=\"M0 0h24v24H0V0z\" fill=\"none\"/>\n",
              "    <path d=\"M18.56 5.44l.94 2.06.94-2.06 2.06-.94-2.06-.94-.94-2.06-.94 2.06-2.06.94zm-11 1L8.5 8.5l.94-2.06 2.06-.94-2.06-.94L8.5 2.5l-.94 2.06-2.06.94zm10 10l.94 2.06.94-2.06 2.06-.94-2.06-.94-.94-2.06-.94 2.06-2.06.94z\"/><path d=\"M17.41 7.96l-1.37-1.37c-.4-.4-.92-.59-1.43-.59-.52 0-1.04.2-1.43.59L10.3 9.45l-7.72 7.72c-.78.78-.78 2.05 0 2.83L4 21.41c.39.39.9.59 1.41.59.51 0 1.02-.2 1.41-.59l7.78-7.78 2.81-2.81c.8-.78.8-2.07 0-2.86zM5.41 20L4 18.59l7.72-7.72 1.47 1.35L5.41 20z\"/>\n",
              "  </svg>\n",
              "      </button>\n",
              "      \n",
              "  <style>\n",
              "    .colab-df-container {\n",
              "      display:flex;\n",
              "      flex-wrap:wrap;\n",
              "      gap: 12px;\n",
              "    }\n",
              "\n",
              "    .colab-df-convert {\n",
              "      background-color: #E8F0FE;\n",
              "      border: none;\n",
              "      border-radius: 50%;\n",
              "      cursor: pointer;\n",
              "      display: none;\n",
              "      fill: #1967D2;\n",
              "      height: 32px;\n",
              "      padding: 0 0 0 0;\n",
              "      width: 32px;\n",
              "    }\n",
              "\n",
              "    .colab-df-convert:hover {\n",
              "      background-color: #E2EBFA;\n",
              "      box-shadow: 0px 1px 2px rgba(60, 64, 67, 0.3), 0px 1px 3px 1px rgba(60, 64, 67, 0.15);\n",
              "      fill: #174EA6;\n",
              "    }\n",
              "\n",
              "    [theme=dark] .colab-df-convert {\n",
              "      background-color: #3B4455;\n",
              "      fill: #D2E3FC;\n",
              "    }\n",
              "\n",
              "    [theme=dark] .colab-df-convert:hover {\n",
              "      background-color: #434B5C;\n",
              "      box-shadow: 0px 1px 3px 1px rgba(0, 0, 0, 0.15);\n",
              "      filter: drop-shadow(0px 1px 2px rgba(0, 0, 0, 0.3));\n",
              "      fill: #FFFFFF;\n",
              "    }\n",
              "  </style>\n",
              "\n",
              "      <script>\n",
              "        const buttonEl =\n",
              "          document.querySelector('#df-f85a55fe-d368-49e6-a9c2-c4324acadcd0 button.colab-df-convert');\n",
              "        buttonEl.style.display =\n",
              "          google.colab.kernel.accessAllowed ? 'block' : 'none';\n",
              "\n",
              "        async function convertToInteractive(key) {\n",
              "          const element = document.querySelector('#df-f85a55fe-d368-49e6-a9c2-c4324acadcd0');\n",
              "          const dataTable =\n",
              "            await google.colab.kernel.invokeFunction('convertToInteractive',\n",
              "                                                     [key], {});\n",
              "          if (!dataTable) return;\n",
              "\n",
              "          const docLinkHtml = 'Like what you see? Visit the ' +\n",
              "            '<a target=\"_blank\" href=https://colab.research.google.com/notebooks/data_table.ipynb>data table notebook</a>'\n",
              "            + ' to learn more about interactive tables.';\n",
              "          element.innerHTML = '';\n",
              "          dataTable['output_type'] = 'display_data';\n",
              "          await google.colab.output.renderOutput(dataTable, element);\n",
              "          const docLink = document.createElement('div');\n",
              "          docLink.innerHTML = docLinkHtml;\n",
              "          element.appendChild(docLink);\n",
              "        }\n",
              "      </script>\n",
              "    </div>\n",
              "  </div>\n",
              "  "
            ]
          },
          "metadata": {},
          "execution_count": 221
        }
      ]
    },
    {
      "cell_type": "markdown",
      "source": [
        "# Separate Train and Test Sets"
      ],
      "metadata": {
        "id": "9H6fXonRpopQ"
      }
    },
    {
      "cell_type": "code",
      "source": [
        "from sklearn.model_selection import train_test_split\n",
        "# split our data into training and testing data, and input data and target data\n",
        "\n",
        "# Training\n",
        "X_train = img_arrays_train\n",
        "y_train = train_inputs['IDC']\n",
        "\n",
        "# Testing\n",
        "X_test = img_arrays_test\n",
        "y_test = test_inputs['IDC']\n",
        "\n",
        "# compare the shape of the train and test inputs\n",
        "print(f'X_train Shape: {X_train.shape}')\n",
        "print(f'X_test Shape: {X_test.shape}')\n",
        "print(f'y_train Shape: {y_train.shape}')\n",
        "print(f'y_test Shape: {y_test.shape}')\n",
        "\n"
      ],
      "metadata": {
        "colab": {
          "base_uri": "https://localhost:8080/"
        },
        "id": "UBMEQ87f0cwE",
        "outputId": "94057712-f4fc-46bb-affa-d01b6a024248"
      },
      "execution_count": null,
      "outputs": [
        {
          "output_type": "stream",
          "name": "stdout",
          "text": [
            "X_train Shape: (797, 2500)\n",
            "X_test Shape: (199, 2500)\n",
            "y_train Shape: (797,)\n",
            "y_test Shape: (199,)\n"
          ]
        }
      ]
    },
    {
      "cell_type": "markdown",
      "source": [
        "## 2. Model Construction with GridSearch\n",
        "\n",
        "### We will use GridSearch to Optimize the Hyperparameters"
      ],
      "metadata": {
        "id": "47anHXG09C1H"
      }
    },
    {
      "cell_type": "code",
      "source": [
        "#2. Model construction\n",
        "\n",
        "# Giving the model a parameter grid for hyperparameter tuning\n",
        "param_grid= {'C':[0.1,1,10,100],'gamma':[0.0001,0.001,0.1,1],'kernel':['linear','rbf','poly']}\n",
        "\n",
        "\n",
        "# Create a support vector classifier: \n",
        "svc=svm.SVC() # Question: are we not defining the kernel purposely here..I was reading we have to define if it is linear, poly or rbf (maybe rbf since pictures?)\n",
        "\n",
        "# With the help of GridSearchCV and parameters grid, create a model:\n",
        "\n",
        "model=GridSearchCV(svc,param_grid)\n"
      ],
      "metadata": {
        "id": "t0rkAJHn9EpG"
      },
      "execution_count": null,
      "outputs": []
    },
    {
      "cell_type": "markdown",
      "source": [
        "## 3. Model Training (fitting)"
      ],
      "metadata": {
        "id": "i6zOm7z1t0uj"
      }
    },
    {
      "cell_type": "code",
      "source": [
        "model.fit(X_train,y_train)"
      ],
      "metadata": {
        "colab": {
          "base_uri": "https://localhost:8080/"
        },
        "id": "1XSLUdS4RnAu",
        "outputId": "d51f7962-e39f-494c-9f46-11bb49502d16"
      },
      "execution_count": null,
      "outputs": [
        {
          "output_type": "execute_result",
          "data": {
            "text/plain": [
              "GridSearchCV(estimator=SVC(),\n",
              "             param_grid={'C': [0.1, 1, 10, 100],\n",
              "                         'gamma': [0.0001, 0.001, 0.1, 1],\n",
              "                         'kernel': ['linear', 'rbf', 'poly']})"
            ]
          },
          "metadata": {},
          "execution_count": 226
        }
      ]
    },
    {
      "cell_type": "markdown",
      "source": [
        "## 4. Model Testing (Predict)"
      ],
      "metadata": {
        "id": "wwblTRUcvbmc"
      }
    },
    {
      "cell_type": "code",
      "source": [
        "# Accuracy for the Training set\n",
        "# Accuracy/Score is: total correctly classified / total number of classifications\n",
        "\n",
        "print(\"Accuracy for the Train set is: \", model.score(X_train,y_train))"
      ],
      "metadata": {
        "colab": {
          "base_uri": "https://localhost:8080/"
        },
        "id": "vCY7TM4os3vf",
        "outputId": "20025fe9-c04e-4aa2-b6ad-97b2144693c1"
      },
      "execution_count": null,
      "outputs": [
        {
          "output_type": "stream",
          "name": "stdout",
          "text": [
            "Accuracy for the Train set is:  0.7728983688833124\n"
          ]
        }
      ]
    },
    {
      "cell_type": "code",
      "source": [
        "# Accuracy for the Testing set\n",
        "print(\"Accuracy for the Test set is: \", model.score(X_test,y_test))"
      ],
      "metadata": {
        "colab": {
          "base_uri": "https://localhost:8080/"
        },
        "id": "RBUZwQQitO-e",
        "outputId": "c2e34787-6d31-4427-b5d2-82a85212f720"
      },
      "execution_count": null,
      "outputs": [
        {
          "output_type": "stream",
          "name": "stdout",
          "text": [
            "Accuracy for the Test set is:  0.7185929648241206\n"
          ]
        }
      ]
    },
    {
      "cell_type": "markdown",
      "source": [
        "## 5. Model Evaluation"
      ],
      "metadata": {
        "id": "F5imhsqeNnhn"
      }
    },
    {
      "cell_type": "markdown",
      "source": [
        "### First, we will see which paramaters created the best model"
      ],
      "metadata": {
        "id": "nDZxNGw7PE9B"
      }
    },
    {
      "cell_type": "markdown",
      "source": [
        "From Tatiana - \n",
        "Think this is a good approach my research shows the same and here is sample code for a grid search\n",
        "One thing I saw in my research was how we code this depends on the type of Kernel we want to use linear, polynomial, or radial basis function (rbf)\n",
        " For RBF we need to include C parameters and gamma parameters\n",
        "\n",
        "\n",
        "Linked: https://towardsdatascience.com/svm-support-vector-machine-for-classification-710a009f6873\n",
        "code I got from online:\n",
        "      # from sklearn.model_selection import GridSearchCV\n",
        "      # param = {'C':(0,0.01,0.5,0.1,1,2,5,10,50,100,500,1000)}\n",
        "      # svm1 = svm.SVC(kernel = 'linear')\n",
        "      # svm.grid = GridSearchCV(svm1,param,n_jobs=1,cv=10,verbose=1,scoring='accuracy')\n",
        "      #svm.grid.fit(X_train,y_train)\n"
      ],
      "metadata": {
        "id": "9AFydjolwl4e"
      }
    },
    {
      "cell_type": "code",
      "source": [
        "# Examine the best model, paramaters, precision, recall\n",
        "\n",
        "# Best score achieved during the GridSearchCV\n",
        "print('\\nGridSearch CV best Score : {:.4f}'.format(model.best_score_))\n",
        "\n",
        "# Best parameters with GridSearchCV\n",
        "print('\\nGridSearch CV best Parameters :',model.best_params_)\n",
        "\n",
        "# print Estimator that was chosen by the GridSearch\n",
        "print('\\nEstimator that was chosen by the search :', (model.best_estimator_))\n",
        "\n",
        "# Model Precision: what percentage of positive tuples are labeled as such?\n",
        "# print(\"\\nPrecision:\",model.sklearn.metrics.precision_score(y_test, y_pred))\n",
        "\n",
        "# Model Recall: what percentage of positive tuples are labelled as such?\n",
        "# print(\"\\nRecall:\",model.recall_score(y_test, y_pred))\n"
      ],
      "metadata": {
        "id": "vVpx13QqPFlv",
        "colab": {
          "base_uri": "https://localhost:8080/"
        },
        "outputId": "089ed77d-6fa9-446b-cb95-2241b6a37f58"
      },
      "execution_count": null,
      "outputs": [
        {
          "output_type": "stream",
          "name": "stdout",
          "text": [
            "\n",
            "GridSearch CV best Score : 0.7515\n",
            "\n",
            "GridSearch CV best Parameters : {'C': 10, 'gamma': 0.0001, 'kernel': 'rbf'}\n",
            "\n",
            "Estimator that was chosen by the search : SVC(C=10, gamma=0.0001)\n"
          ]
        }
      ]
    },
    {
      "cell_type": "code",
      "source": [
        "y_pred = model.predict(X_test)\n",
        "\n",
        "print(y_pred)\n",
        "\n",
        "y_true = np.array(y_test)\n",
        "\n",
        "print(\"**************\")\n",
        "\n",
        "print(y_true)\n"
      ],
      "metadata": {
        "colab": {
          "base_uri": "https://localhost:8080/"
        },
        "id": "0HdCZNjex-U1",
        "outputId": "a2fab0d7-bbb3-4861-83ff-830a22dc2f48"
      },
      "execution_count": null,
      "outputs": [
        {
          "output_type": "stream",
          "name": "stdout",
          "text": [
            "['1' '1' '1' '1' '1' '1' '0' '0' '1' '1' '0' '1' '1' '0' '1' '0' '1' '1'\n",
            " '1' '0' '1' '1' '0' '0' '1' '1' '0' '1' '1' '0' '0' '1' '0' '1' '0' '1'\n",
            " '0' '1' '0' '0' '1' '0' '1' '0' '1' '1' '0' '1' '0' '1' '1' '1' '1' '0'\n",
            " '1' '0' '1' '0' '1' '1' '1' '1' '1' '0' '0' '0' '1' '1' '0' '0' '1' '1'\n",
            " '1' '0' '1' '0' '0' '0' '0' '1' '1' '1' '0' '1' '0' '0' '1' '0' '0' '1'\n",
            " '1' '1' '1' '1' '1' '1' '0' '1' '1' '1' '1' '1' '1' '1' '1' '0' '0' '1'\n",
            " '0' '1' '1' '0' '0' '1' '1' '0' '1' '0' '1' '0' '0' '1' '1' '0' '0' '1'\n",
            " '1' '0' '1' '1' '0' '0' '0' '1' '0' '0' '1' '0' '0' '1' '0' '0' '0' '1'\n",
            " '1' '0' '0' '0' '0' '1' '0' '1' '1' '1' '0' '1' '0' '1' '1' '1' '1' '0'\n",
            " '0' '1' '0' '1' '0' '0' '0' '1' '1' '1' '1' '1' '0' '0' '1' '1' '1' '1'\n",
            " '1' '1' '0' '1' '1' '0' '0' '1' '1' '1' '1' '0' '1' '0' '0' '0' '0' '0'\n",
            " '1']\n",
            "**************\n",
            "['1' '1' '1' '1' '0' '1' '0' '0' '1' '1' '0' '1' '1' '1' '1' '1' '1' '0'\n",
            " '0' '1' '1' '1' '0' '0' '1' '1' '0' '1' '1' '0' '0' '1' '1' '1' '1' '0'\n",
            " '0' '1' '0' '0' '1' '0' '1' '1' '1' '1' '0' '1' '0' '0' '0' '0' '0' '1'\n",
            " '0' '1' '0' '0' '0' '0' '1' '1' '1' '0' '0' '0' '1' '0' '0' '0' '1' '0'\n",
            " '0' '0' '1' '0' '1' '1' '0' '1' '1' '1' '0' '0' '0' '0' '1' '1' '1' '1'\n",
            " '1' '0' '0' '1' '1' '0' '0' '0' '1' '1' '1' '1' '1' '1' '1' '0' '0' '1'\n",
            " '1' '1' '0' '0' '0' '1' '1' '0' '1' '0' '0' '0' '0' '1' '1' '0' '1' '1'\n",
            " '1' '0' '0' '1' '0' '0' '0' '1' '0' '0' '1' '0' '0' '1' '0' '1' '1' '1'\n",
            " '1' '1' '0' '0' '0' '1' '0' '1' '1' '1' '0' '0' '0' '1' '0' '0' '1' '0'\n",
            " '0' '1' '0' '0' '1' '0' '0' '1' '1' '0' '0' '1' '0' '1' '0' '1' '1' '0'\n",
            " '0' '0' '0' '0' '1' '0' '0' '1' '1' '1' '1' '0' '1' '1' '0' '1' '0' '0'\n",
            " '0']\n"
          ]
        }
      ]
    },
    {
      "cell_type": "code",
      "source": [
        "print(sklearn.metrics.classification_report(y_true, y_pred))\n"
      ],
      "metadata": {
        "colab": {
          "base_uri": "https://localhost:8080/"
        },
        "id": "c-HbOGb6ziVB",
        "outputId": "bbbfb348-036b-4949-b9dc-f3dbd776c1eb"
      },
      "execution_count": null,
      "outputs": [
        {
          "output_type": "stream",
          "name": "stdout",
          "text": [
            "              precision    recall  f1-score   support\n",
            "\n",
            "           0       0.75      0.65      0.70        99\n",
            "           1       0.69      0.79      0.74       100\n",
            "\n",
            "    accuracy                           0.72       199\n",
            "   macro avg       0.72      0.72      0.72       199\n",
            "weighted avg       0.72      0.72      0.72       199\n",
            "\n"
          ]
        }
      ]
    },
    {
      "cell_type": "markdown",
      "source": [
        "### Then, for this optimized model, we will check overfitting/underfitting"
      ],
      "metadata": {
        "id": "Xszn63PdPV_h"
      }
    },
    {
      "cell_type": "markdown",
      "source": [],
      "metadata": {
        "id": "Lvlg9gjoLPSA"
      }
    },
    {
      "cell_type": "code",
      "source": [
        "#5. Model evaluation\n",
        "\n",
        "# Using ROC Curve, we are measuring the classification model performance visually\n",
        "# Is it close to 1? \n",
        "\n",
        "\n",
        "\n"
      ],
      "metadata": {
        "id": "LIwLA29g9tNV"
      },
      "execution_count": null,
      "outputs": []
    },
    {
      "cell_type": "markdown",
      "source": [
        "### Next, we will analyze the Confusion Matrix "
      ],
      "metadata": {
        "id": "9r-XM-gbPzV0"
      }
    },
    {
      "cell_type": "code",
      "source": [
        "# Create a confusion matrix & plot\n",
        "# From scikit learn \n",
        "\n",
        "from sklearn.metrics import confusion_matrix\n",
        "\n",
        "tn, fp, fn, tp = confusion_matrix(y_true=y_test,y_pred=model.predict(X_test)).ravel()\n",
        "\n",
        "print(f'training set: true negatives: {tn}')\n",
        "print(f'training set: true positives: {tp}')\n",
        "print(f'training set: false negatives: {fn}')\n",
        "print(f'training set: false positives: {fp}')\n"
      ],
      "metadata": {
        "id": "gbM0kn6sP6oH",
        "colab": {
          "base_uri": "https://localhost:8080/"
        },
        "outputId": "3d1fa21b-63d6-4b2b-dbd5-cea20a81b1fe"
      },
      "execution_count": null,
      "outputs": [
        {
          "output_type": "stream",
          "name": "stdout",
          "text": [
            "training set: true negatives: 64\n",
            "training set: true positives: 79\n",
            "training set: false negatives: 21\n",
            "training set: false positives: 35\n"
          ]
        }
      ]
    },
    {
      "cell_type": "code",
      "source": [
        "# visualize confusion matrix with seaborn heatmap\n",
        "\n",
        "cm = confusion_matrix(y_true, y_pred)\n",
        "\n",
        "cm_matrix = pd.DataFrame(data=cm, columns=['Actual Positive:1', 'Actual Negative:0'], \n",
        "                                 index=['Predict Positive:1', 'Predict Negative:0'])\n",
        "\n",
        "sns.heatmap(cm_matrix, annot=True, fmt='d', cmap='YlGnBu')"
      ],
      "metadata": {
        "colab": {
          "base_uri": "https://localhost:8080/",
          "height": 285
        },
        "id": "Ojk3pflS10I-",
        "outputId": "05ffa266-fdeb-451b-bbf5-2e2c81867eb3"
      },
      "execution_count": null,
      "outputs": [
        {
          "output_type": "execute_result",
          "data": {
            "text/plain": [
              "<matplotlib.axes._subplots.AxesSubplot at 0x7f437541fad0>"
            ]
          },
          "metadata": {},
          "execution_count": 233
        },
        {
          "output_type": "display_data",
          "data": {
            "text/plain": [
              "<Figure size 432x288 with 2 Axes>"
            ],
            "image/png": "[encoded data removed]"
          },
          "metadata": {}
        }
      ]
    }
  ]
}