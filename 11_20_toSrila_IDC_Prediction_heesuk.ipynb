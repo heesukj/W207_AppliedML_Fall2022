{
  "nbformat": 4,
  "nbformat_minor": 0,
  "metadata": {
    "colab": {
      "provenance": [],
      "include_colab_link": true
    },
    "kernelspec": {
      "name": "python3",
      "display_name": "Python 3"
    },
    "language_info": {
      "name": "python"
    },
    "accelerator": "GPU",
    "gpuClass": "standard"
  },
  "cells": [
    {
      "cell_type": "markdown",
      "metadata": {
        "id": "view-in-github",
        "colab_type": "text"
      },
      "source": [
        "<a href=\"https://colab.research.google.com/github/heesukjang/W207_AppliedML_Fall2022/blob/main/11_20_toSrila_IDC_Prediction_heesuk.ipynb\" target=\"_parent\"><img src=\"https://colab.research.google.com/assets/colab-badge.svg\" alt=\"Open In Colab\"/></a>"
      ]
    },
    {
      "cell_type": "markdown",
      "source": [
        "## FALL 2022<br>\n",
        "W207 Applied Machine Learning<br>\n",
        "Heesuk Jang\n",
        " \n",
        "\n",
        "**XGBoost:** an optimized version of Gradient Boosting / much more evolved version of Random Forest in terms of speed and accuracy\n",
        "\n",
        "#Predicting IDC with Breast Histopathology Images using CNN\n",
        "\n"
      ],
      "metadata": {
        "id": "5DebDWCL0KeL"
      }
    },
    {
      "cell_type": "code",
      "execution_count": 1,
      "metadata": {
        "id": "SRkZHKoWswZT",
        "colab": {
          "base_uri": "https://localhost:8080/"
        },
        "outputId": "02184f4d-113e-45cb-9860-0a3164af21d7"
      },
      "outputs": [
        {
          "output_type": "stream",
          "name": "stdout",
          "text": [
            "Drive already mounted at /content/gdrive; to attempt to forcibly remount, call drive.mount(\"/content/gdrive\", force_remount=True).\n"
          ]
        }
      ],
      "source": [
        "import pandas as pd\n",
        "import numpy as np\n",
        "import os\n",
        "import re\n",
        "import random\n",
        "import joblib\n",
        "import glob\n",
        "import itertools\n",
        "\n",
        "import matplotlib.pyplot as plt\n",
        "import seaborn as sns\n",
        "import plotly.express as px\n",
        "import matplotlib.patches as patches\n",
        "\n",
        "from sklearn.utils import shuffle\n",
        "from sklearn.ensemble import GradientBoostingClassifier, AdaBoostClassifier, RandomForestClassifier\n",
        "from sklearn.model_selection import train_test_split, GridSearchCV\n",
        "from scipy import stats\n",
        "from collections import Counter\n",
        "from sklearn import preprocessing\n",
        "from sklearn.preprocessing import StandardScaler\n",
        "from sklearn.metrics import *                            # confusion_matrix, log_loss, accuracy_score\n",
        "from sklearn.model_selection import *                    # train_test_split\n",
        "from sklearn.tree import DecisionTreeClassifier\n",
        "from sklearn.naive_bayes import GaussianNB\n",
        "from sklearn import preprocessing\n",
        "from sklearn.preprocessing import *  \n",
        "# from sklearn.ensemble import *\n",
        "from sklearn.svm import *\n",
        "from sklearn.linear_model import *                       # LinearRegression\n",
        "from sklearn.discriminant_analysis import *\n",
        "from sklearn.neighbors import KNeighborsClassifier\n",
        "from mlxtend.plotting import plot_decision_regions\n",
        "\n",
        "import tensorflow as tf\n",
        "from tensorflow import keras\n",
        "from keras import metrics\n",
        "from tensorflow.keras import initializers\n",
        "from tensorflow.keras.preprocessing.image import ImageDataGenerator\n",
        "from tensorflow.keras.layers import RandomFlip, RandomZoom, RandomRotation, Conv2D, MaxPooling2D, AveragePooling2D, Input, Dense, Flatten, Dropout, BatchNormalization, GlobalAveragePooling2D\n",
        "from tensorflow.keras.losses import BinaryCrossentropy, CategoricalCrossentropy\n",
        "from tensorflow.keras.models import Sequential\n",
        "from tensorflow.keras.optimizers import Adam, SGD, Adadelta, Adagrad, RMSprop\n",
        "from keras.layers import ReLU, LeakyReLU\n",
        "from tensorflow.keras.callbacks import ReduceLROnPlateau, ModelCheckpoint\n",
        "from keras.wrappers.scikit_learn import KerasClassifier\n",
        "from keras.layers import ReLU, LeakyReLU\n",
        "\n",
        "from sklearn.metrics import roc_auc_score, auc\n",
        "from sklearn.metrics import roc_curve\n",
        "\n",
        "tf.get_logger().setLevel('INFO')\n",
        "\n",
        "import cv2 as cv\n",
        "import skimage.io as io\n",
        "\n",
        "import warnings\n",
        "warnings.filterwarnings('ignore')\n",
        "\n",
        "# Required to read the data from Kaggle\n",
        "from google.colab import drive\n",
        "# drive.mount('/content/gdrive')\n",
        "# os.environ['KAGGLE_CONFIG_DIR'] = \"/content/gdrive/MyDrive/Kaggle\"\n",
        "\n",
        "from google.colab import drive\n",
        "drive.mount('/content/gdrive')\n",
        "\n",
        "import warnings\n",
        "warnings.simplefilter(\"ignore\", category=DeprecationWarning)"
      ]
    },
    {
      "cell_type": "markdown",
      "source": [
        "## Install Optuna and Version Check"
      ],
      "metadata": {
        "id": "2NlEwp6jmZsY"
      }
    },
    {
      "cell_type": "code",
      "source": [
        "# !pip install --quiet optuna\n",
        "# import optuna\n",
        "# optuna.__version__"
      ],
      "metadata": {
        "id": "vbF2pFtlbJaH"
      },
      "execution_count": 2,
      "outputs": []
    },
    {
      "cell_type": "code",
      "source": [
        "!pip install -q -U keras-tuner\n",
        "import keras_tuner as kt"
      ],
      "metadata": {
        "id": "XmhJR4rTcSlm"
      },
      "execution_count": 3,
      "outputs": []
    },
    {
      "cell_type": "markdown",
      "source": [
        "## Enabling and testing the GPU"
      ],
      "metadata": {
        "id": "2JC1sfIYmRuY"
      }
    },
    {
      "cell_type": "code",
      "source": [
        "# import tensorflow as tf\n",
        "# device_name = tf.test.gpu_device_name()\n",
        "# if device_name != '/device:GPU:0':\n",
        "#   raise SystemError('GPU device not found')\n",
        "# print('Found GPU at: {}'.format(device_name))"
      ],
      "metadata": {
        "id": "lpo1_3kNlzoo"
      },
      "execution_count": 4,
      "outputs": []
    },
    {
      "cell_type": "markdown",
      "source": [
        "## Enabling and testing the TPU"
      ],
      "metadata": {
        "id": "s3LsW0cGnF8e"
      }
    },
    {
      "cell_type": "markdown",
      "source": [
        "## Observe TensorFlow speedup on GPU relative to CPU"
      ],
      "metadata": {
        "id": "Xqgm8yAcmT7Q"
      }
    },
    {
      "cell_type": "code",
      "source": [
        "# !unzip gdrive/MyDrive/Kaggle/CNN_IDC/Dataset.zip\n",
        "\n",
        "#replace these paths with the paths of your \n",
        "val_image_directory = '/content/gdrive/MyDrive/Kaggle/CNN_IDC/Dataset/Validate'\n",
        "train_image_directory = '/content/gdrive/MyDrive/Kaggle/CNN_IDC/Dataset/Train'\n",
        "test_image_directory = '/content/gdrive/MyDrive/Kaggle/CNN_IDC/Dataset/Test'\n",
        "directory_path = '/content/gdrive/MyDrive/Kaggle/CNN_IDC'"
      ],
      "metadata": {
        "id": "uyWJuOkZuCVl"
      },
      "execution_count": 5,
      "outputs": []
    },
    {
      "cell_type": "code",
      "source": [
        "def get_paths(directory):\n",
        "  all_path = []\n",
        "  idc_image_path = []\n",
        "  idc_image_label = []\n",
        "\n",
        "  for dir, subdir, files in os.walk(directory):\n",
        "    path = dir + \"/\"\n",
        "    all_path.append(path)\n",
        "\n",
        "  for i in range(len(all_path)):\n",
        "    for file in os.listdir(all_path[i]):\n",
        "      test = file\n",
        "      path = all_path[i] + test\n",
        "      if path.lower().endswith('.png'):\n",
        "        idc_image_path.append(path)\n",
        "\n",
        "  for i in range(len(idc_image_path)):\n",
        "    split_test = idc_image_path[i]\n",
        "    split_path = split_test.split(\"/\")\n",
        "    directory_name = split_path[7]\n",
        "    idc_image_label.append('class_' + split_path[8])\n",
        "  return idc_image_path, idc_image_label, directory_name"
      ],
      "metadata": {
        "id": "N892xh1IM4q7"
      },
      "execution_count": 6,
      "outputs": []
    },
    {
      "cell_type": "code",
      "source": [
        "train_paths, train_labels, train_dir = get_paths(train_image_directory)\n",
        "val_paths, val_labels, val_dir = get_paths(val_image_directory)\n",
        "test_paths, test_labels, test_dir = get_paths(test_image_directory)"
      ],
      "metadata": {
        "id": "SJ6Cl4wtmxjO"
      },
      "execution_count": 7,
      "outputs": []
    },
    {
      "cell_type": "code",
      "source": [
        "print(train_labels[:5])\n",
        "print(train_labels[-5:])\n",
        "\n",
        "print(len(train_paths), len(train_labels))\n",
        "print(len(test_paths), len(test_labels))\n",
        "print(len(val_paths), len(val_labels))"
      ],
      "metadata": {
        "id": "NIf9ETAsmxa2",
        "outputId": "f57f642a-7b71-498e-c830-296021965b7d",
        "colab": {
          "base_uri": "https://localhost:8080/"
        }
      },
      "execution_count": 8,
      "outputs": [
        {
          "output_type": "stream",
          "name": "stdout",
          "text": [
            "['class_0', 'class_0', 'class_0', 'class_0', 'class_0']\n",
            "['class_1', 'class_1', 'class_1', 'class_1', 'class_1']\n",
            "800 800\n",
            "200 200\n",
            "200 200\n"
          ]
        }
      ]
    },
    {
      "cell_type": "code",
      "source": [
        "print(train_paths[:2])\n",
        "print(train_labels[:10])\n",
        "print(train_dir)"
      ],
      "metadata": {
        "id": "uCJzEwS8mxSR",
        "outputId": "22cc1bd1-a611-4042-96db-6938c565f1f3",
        "colab": {
          "base_uri": "https://localhost:8080/"
        }
      },
      "execution_count": 9,
      "outputs": [
        {
          "output_type": "stream",
          "name": "stdout",
          "text": [
            "['/content/gdrive/MyDrive/Kaggle/CNN_IDC/Dataset/Train/0/12880_idx5_x451_y701_class0.png', '/content/gdrive/MyDrive/Kaggle/CNN_IDC/Dataset/Train/0/9345_idx5_x2001_y2001_class0.png']\n",
            "['class_0', 'class_0', 'class_0', 'class_0', 'class_0', 'class_0', 'class_0', 'class_0', 'class_0', 'class_0']\n",
            "Train\n"
          ]
        }
      ]
    },
    {
      "cell_type": "code",
      "source": [
        "def create_dataframes(idc_image_path, idc_image_label, directory_name):\n",
        "  same_name = directory_name.lower() + '_'\n",
        "  #creating the dataframes that we will be passing to our generators\n",
        "  idc_data_cleaned = {'path': idc_image_path,\n",
        "            'label': idc_image_label}\n",
        "  idc_df = pd.DataFrame(idc_data_cleaned)\n",
        "  idc_df['label_int'] = idc_df['label'].str.split(\"_\", expand=True)[1]    # Added a new column 'label_int'\n",
        "  df = idc_df.sample(frac = 1)\n",
        "  print(df)\n",
        "  csv_path = directory_path\n",
        "  csv_file = df.to_csv(csv_path + '/' + same_name + 'idc_dataframe.csv')\n",
        "  csv_file_path = csv_path + '/' + same_name + 'idc_dataframe.csv'\n",
        "  return csv_file_path"
      ],
      "metadata": {
        "id": "_WU9qt2RmxHZ"
      },
      "execution_count": 10,
      "outputs": []
    },
    {
      "cell_type": "code",
      "source": [
        "train_dataframe = create_dataframes(train_paths, train_labels, train_dir)\n",
        "print('type(train_dataframe): ',type(train_dataframe))\n",
        "train_dataframe"
      ],
      "metadata": {
        "id": "MJxUgm39NeU7",
        "outputId": "2a9df939-9d4e-4458-be72-6bb2904ae999",
        "colab": {
          "base_uri": "https://localhost:8080/",
          "height": 295
        }
      },
      "execution_count": 11,
      "outputs": [
        {
          "output_type": "stream",
          "name": "stdout",
          "text": [
            "                                                  path    label label_int\n",
            "14   /content/gdrive/MyDrive/Kaggle/CNN_IDC/Dataset...  class_0         0\n",
            "548  /content/gdrive/MyDrive/Kaggle/CNN_IDC/Dataset...  class_1         1\n",
            "189  /content/gdrive/MyDrive/Kaggle/CNN_IDC/Dataset...  class_0         0\n",
            "148  /content/gdrive/MyDrive/Kaggle/CNN_IDC/Dataset...  class_0         0\n",
            "93   /content/gdrive/MyDrive/Kaggle/CNN_IDC/Dataset...  class_0         0\n",
            "..                                                 ...      ...       ...\n",
            "465  /content/gdrive/MyDrive/Kaggle/CNN_IDC/Dataset...  class_1         1\n",
            "447  /content/gdrive/MyDrive/Kaggle/CNN_IDC/Dataset...  class_1         1\n",
            "756  /content/gdrive/MyDrive/Kaggle/CNN_IDC/Dataset...  class_1         1\n",
            "750  /content/gdrive/MyDrive/Kaggle/CNN_IDC/Dataset...  class_1         1\n",
            "525  /content/gdrive/MyDrive/Kaggle/CNN_IDC/Dataset...  class_1         1\n",
            "\n",
            "[800 rows x 3 columns]\n",
            "type(train_dataframe):  <class 'str'>\n"
          ]
        },
        {
          "output_type": "execute_result",
          "data": {
            "text/plain": [
              "'/content/gdrive/MyDrive/Kaggle/CNN_IDC/train_idc_dataframe.csv'"
            ],
            "application/vnd.google.colaboratory.intrinsic+json": {
              "type": "string"
            }
          },
          "metadata": {},
          "execution_count": 11
        }
      ]
    },
    {
      "cell_type": "code",
      "source": [
        "train_dataframe = create_dataframes(train_paths, train_labels, train_dir)\n",
        "train_generator = pd.read_csv(train_dataframe)\n",
        "\n",
        "test_dataframe = create_dataframes(test_paths, test_labels, test_dir)\n",
        "test_generator = pd.read_csv(test_dataframe)\n",
        "\n",
        "val_dataframe = create_dataframes(val_paths, val_labels, val_dir)\n",
        "val_generator = pd.read_csv(val_dataframe)"
      ],
      "metadata": {
        "id": "hnDu_3N4mw1G",
        "outputId": "57e104ee-cb20-4f57-d47b-96a6e0ef47eb",
        "colab": {
          "base_uri": "https://localhost:8080/"
        }
      },
      "execution_count": 12,
      "outputs": [
        {
          "output_type": "stream",
          "name": "stdout",
          "text": [
            "                                                  path    label label_int\n",
            "136  /content/gdrive/MyDrive/Kaggle/CNN_IDC/Dataset...  class_0         0\n",
            "61   /content/gdrive/MyDrive/Kaggle/CNN_IDC/Dataset...  class_0         0\n",
            "763  /content/gdrive/MyDrive/Kaggle/CNN_IDC/Dataset...  class_1         1\n",
            "521  /content/gdrive/MyDrive/Kaggle/CNN_IDC/Dataset...  class_1         1\n",
            "185  /content/gdrive/MyDrive/Kaggle/CNN_IDC/Dataset...  class_0         0\n",
            "..                                                 ...      ...       ...\n",
            "292  /content/gdrive/MyDrive/Kaggle/CNN_IDC/Dataset...  class_0         0\n",
            "329  /content/gdrive/MyDrive/Kaggle/CNN_IDC/Dataset...  class_0         0\n",
            "485  /content/gdrive/MyDrive/Kaggle/CNN_IDC/Dataset...  class_1         1\n",
            "637  /content/gdrive/MyDrive/Kaggle/CNN_IDC/Dataset...  class_1         1\n",
            "328  /content/gdrive/MyDrive/Kaggle/CNN_IDC/Dataset...  class_0         0\n",
            "\n",
            "[800 rows x 3 columns]\n",
            "                                                  path    label label_int\n",
            "32   /content/gdrive/MyDrive/Kaggle/CNN_IDC/Dataset...  class_0         0\n",
            "65   /content/gdrive/MyDrive/Kaggle/CNN_IDC/Dataset...  class_0         0\n",
            "166  /content/gdrive/MyDrive/Kaggle/CNN_IDC/Dataset...  class_1         1\n",
            "84   /content/gdrive/MyDrive/Kaggle/CNN_IDC/Dataset...  class_0         0\n",
            "194  /content/gdrive/MyDrive/Kaggle/CNN_IDC/Dataset...  class_1         1\n",
            "..                                                 ...      ...       ...\n",
            "176  /content/gdrive/MyDrive/Kaggle/CNN_IDC/Dataset...  class_1         1\n",
            "86   /content/gdrive/MyDrive/Kaggle/CNN_IDC/Dataset...  class_0         0\n",
            "111  /content/gdrive/MyDrive/Kaggle/CNN_IDC/Dataset...  class_1         1\n",
            "124  /content/gdrive/MyDrive/Kaggle/CNN_IDC/Dataset...  class_1         1\n",
            "135  /content/gdrive/MyDrive/Kaggle/CNN_IDC/Dataset...  class_1         1\n",
            "\n",
            "[200 rows x 3 columns]\n",
            "                                                  path    label label_int\n",
            "67   /content/gdrive/MyDrive/Kaggle/CNN_IDC/Dataset...  class_0         0\n",
            "20   /content/gdrive/MyDrive/Kaggle/CNN_IDC/Dataset...  class_0         0\n",
            "98   /content/gdrive/MyDrive/Kaggle/CNN_IDC/Dataset...  class_0         0\n",
            "102  /content/gdrive/MyDrive/Kaggle/CNN_IDC/Dataset...  class_1         1\n",
            "9    /content/gdrive/MyDrive/Kaggle/CNN_IDC/Dataset...  class_0         0\n",
            "..                                                 ...      ...       ...\n",
            "29   /content/gdrive/MyDrive/Kaggle/CNN_IDC/Dataset...  class_0         0\n",
            "192  /content/gdrive/MyDrive/Kaggle/CNN_IDC/Dataset...  class_1         1\n",
            "50   /content/gdrive/MyDrive/Kaggle/CNN_IDC/Dataset...  class_0         0\n",
            "4    /content/gdrive/MyDrive/Kaggle/CNN_IDC/Dataset...  class_0         0\n",
            "189  /content/gdrive/MyDrive/Kaggle/CNN_IDC/Dataset...  class_1         1\n",
            "\n",
            "[200 rows x 3 columns]\n"
          ]
        }
      ]
    },
    {
      "cell_type": "code",
      "source": [
        "from tqdm import tqdm # import tqdm\n",
        "\n",
        "# Apply gray scale to all images, flatten and store array / shape in new columns\n",
        "def get_img_arrays(df,):\n",
        "    # read each image array from corresponding path as grayscale and flatten the image array\n",
        "    df['img_array'] = df.progress_apply(lambda x : io.imread(x['path'],as_gray=True).flatten(),axis=1) # make sure to specify axis = 1\n",
        "    # get the shape of each image array and store it in the dataframe\n",
        "    df['array_shape'] = df.progress_apply(lambda x : x['img_array'].shape[0],axis=1) # make sure to specify axis = 1\n",
        "    return df\n"
      ],
      "metadata": {
        "id": "nkWYjNvnHrrn"
      },
      "execution_count": 13,
      "outputs": []
    },
    {
      "cell_type": "code",
      "source": [
        "from tqdm import tqdm # import tqdm\n",
        "tqdm.pandas() # initialize tqdm for pandas\n",
        "\n",
        "# # tqdm is a library that enables you to visualize the progress of a for loop by displaying a configurable progress bar\n",
        "\n",
        "train_generator = get_img_arrays(df = train_generator)\n",
        "val_generator = get_img_arrays(df = val_generator)\n",
        "test_generator = get_img_arrays(df = test_generator)"
      ],
      "metadata": {
        "id": "d9iPVxRZHreQ",
        "outputId": "17bcf759-4df0-429d-ad5c-45591dd0bfea",
        "colab": {
          "base_uri": "https://localhost:8080/"
        }
      },
      "execution_count": 14,
      "outputs": [
        {
          "output_type": "stream",
          "name": "stderr",
          "text": [
            "100%|██████████| 800/800 [00:02<00:00, 291.72it/s]\n",
            "100%|██████████| 800/800 [00:00<00:00, 17437.76it/s]\n",
            "100%|██████████| 200/200 [00:00<00:00, 211.99it/s]\n",
            "100%|██████████| 200/200 [00:00<00:00, 33881.05it/s]\n",
            "100%|██████████| 200/200 [00:00<00:00, 385.76it/s]\n",
            "100%|██████████| 200/200 [00:00<00:00, 33247.23it/s]\n"
          ]
        }
      ]
    },
    {
      "cell_type": "code",
      "source": [
        "# print(train_generator.array_shape.value_counts())\n",
        "# print(val_generator.array_shape.value_counts())\n",
        "# print(test_generator.array_shape.value_counts())"
      ],
      "metadata": {
        "id": "wAv7RXmVQX4b"
      },
      "execution_count": 15,
      "outputs": []
    },
    {
      "cell_type": "code",
      "source": [
        "# drop these images as they add unnecessary noise to our model\n",
        "train_weird_imgs = train_generator[train_generator['array_shape'] != 2500]\n",
        "val_weird_imgs = val_generator[val_generator['array_shape'] != 2500]\n",
        "test_weird_imgs = test_generator[test_generator['array_shape'] != 2500]\n",
        "\n",
        "\n",
        "weird_imgs = train_weird_imgs.append(val_weird_imgs)\n",
        "weird_imgs = weird_imgs.append(test_weird_imgs)\n",
        "weird_imgs['dataset'] = weird_imgs['path'].str.split('/', expand=True)[7]\n",
        "weird_imgs.reset_index(drop=True)\n",
        "\n",
        "train_generator.drop(train_weird_imgs.index,inplace=True)\n",
        "val_generator.drop(val_weird_imgs.index,inplace=True)\n",
        "test_generator.drop(test_weird_imgs.index,inplace=True)\n",
        "\n",
        "# print(len(weird_imgs))\n",
        "# print(len(train_generator))\n",
        "# print(len(val_generator))\n",
        "# print(len(test_generator))\n",
        "# print(train_generator.columns)\n",
        "# val_generator.reset_index(drop=True)"
      ],
      "metadata": {
        "id": "gpOS9_alHrTY"
      },
      "execution_count": 16,
      "outputs": []
    },
    {
      "cell_type": "code",
      "source": [
        "import cv2 as cv\n",
        "import skimage.io as io\n",
        "\n",
        "def display_images(subclass):\n",
        "  fig, axes = plt.subplots(nrows=1, ncols=7, figsize=(20,8))\n",
        "  for idx, ax in enumerate(axes.flat):\n",
        "    image_wo_path = os.path.basename(subclass.path[idx])\n",
        "    # print(image_wo_path)\n",
        "    subtitle = 'Class ' + image_wo_path.rsplit('.')[0][-1] + ': ' + subclass.dataset[idx]\n",
        "    img = io.imread(subclass.path[idx])\n",
        "    ax.imshow(img)\n",
        "    # ax.axis('off')\n",
        "    ax.set_title(subtitle, size=14)   \n",
        "  fig.tight_layout() \n",
        "  plt.show() \n",
        "\n",
        "print()\n",
        "display_images(weird_imgs.reset_index(drop=True))"
      ],
      "metadata": {
        "id": "x9euSsBNHrIX",
        "colab": {
          "base_uri": "https://localhost:8080/",
          "height": 357
        },
        "outputId": "14b90d24-b298-4159-9747-64c6cdcb5af2"
      },
      "execution_count": 17,
      "outputs": [
        {
          "output_type": "stream",
          "name": "stdout",
          "text": [
            "\n"
          ]
        },
        {
          "output_type": "display_data",
          "data": {
            "text/plain": [
              "<Figure size 1440x576 with 7 Axes>"
            ],
            "image/png": "[encoded data removed]"
          },
          "metadata": {
            "needs_background": "light"
          }
        }
      ]
    },
    {
      "cell_type": "markdown",
      "source": [
        "# Preprocessing data using ImageDataGenerator"
      ],
      "metadata": {
        "id": "iHdf3Jd0ipmm"
      }
    },
    {
      "cell_type": "code",
      "source": [
        "BATCH_SIZE = 32\n",
        "EPOCHS = 8"
      ],
      "metadata": {
        "id": "hQCrHViTUVxr"
      },
      "execution_count": 18,
      "outputs": []
    },
    {
      "cell_type": "code",
      "source": [
        "# https://faroit.com/keras-docs/0.3.3/preprocessing/image/\n",
        "# https://www.tensorflow.org/api_docs/python/tf/keras/preprocessing/image/ImageDataGenerator\n",
        "\n",
        "# def data_generator():\n",
        "\n",
        "# with_aug_datagen = ImageDataGenerator(\n",
        "#     # featurewise_center = True,                     # transforms the images to 0 mean\n",
        "#     # featurewise_std_normalization = True,          # divide inputs by std of the dataset\n",
        "#     # zca_epsilon=1e-06,\n",
        "#     recale = 1./255,\n",
        "#     rotation_range=30,                      # randomly rotate image by 10 degrees\n",
        "#     width_shift_range=0.2,\n",
        "#     height_shift_range=0.2,\n",
        "#     brightness_range=[0.4, 1.5],\n",
        "#     shear_range=0.2,                        # distort image along an axis mostly to create or recify the perception angles     \n",
        "#     zoom_range=0.2,                         # zomming image: zoom_range > 1 => zoom out, zoom_range < 1 => zoom in                  \n",
        "#     fill_mode='nearest',                    # when the image is rotated, some pixels will move outside the image and leave an empty area that needs to be filled in, 'nearest': simply replace the empty area with the nearest spectral values.\n",
        "#     horizontal_flip=True,\n",
        "#     vertical_flip=True)\n",
        "    \n",
        "# without_aug_datagen = ImageDataGenerator()\n",
        "# without_aug_datagen = ImageDataGenerator(rescale = 1./255)\n",
        "                                        #  featurewise_center = True, featurewise_std_normalization = True)   # False is default so need to set to True\n",
        "\n",
        "# =================================================================\n",
        "# if with_augmented_images:\n",
        "# train_data_generator = with_aug_datagen.flow_from_dataframe(\n",
        "#       train_generator,\n",
        "#       directory = None,\n",
        "#       x_col =  'path',\n",
        "#       y_col =  'label',\n",
        "#       weight_col=None,\n",
        "#       target_size=(50,50),\n",
        "#       color_mode=\"grayscale\",\n",
        "#       class_mode=\"categorical\",\n",
        "#       batch_size=32,\n",
        "#       shuffle=True,\n",
        "#       seed=1234\n",
        "#       # validate_filenames=True\n",
        "#   )\n",
        "# else:\n",
        "\n",
        "without_aug_datagen = ImageDataGenerator(rescale = 1./255)    # without augmented images\n",
        "\n",
        "train_data_generator = without_aug_datagen.flow_from_dataframe(\n",
        "    train_generator,\n",
        "    directory = None,\n",
        "    x_col =  'path',\n",
        "    y_col =  'label',\n",
        "    weight_col=None,\n",
        "    target_size=(50,50),\n",
        "    color_mode=\"grayscale\",\n",
        "    class_mode=\"categorical\",\n",
        "    batch_size=BATCH_SIZE,\n",
        "    shuffle=True,\n",
        "    seed=1234\n",
        "    # validate_filenames=True\n",
        ")\n",
        "\n",
        "validation_data_generator = without_aug_datagen.flow_from_dataframe(\n",
        "    val_generator,\n",
        "    directory = None,\n",
        "    x_col =  'path',\n",
        "    y_col =  'label',\n",
        "    weight_col=None,\n",
        "    # target_size=(hp_target_size, hp_target_size),\n",
        "    target_size=(50,50),\n",
        "    color_mode=\"grayscale\",\n",
        "    class_mode=\"categorical\",\n",
        "    batch_size=BATCH_SIZE,\n",
        "    shuffle=True,\n",
        "    seed=1234\n",
        "    # validate_filenames=True\n",
        ")\n",
        "\n",
        "test_data_generator = without_aug_datagen.flow_from_dataframe(\n",
        "    test_generator,\n",
        "    directory = None,\n",
        "    x_col =  'path',\n",
        "    y_col =  'label',\n",
        "    weight_col=None,\n",
        "    target_size=(50,50),\n",
        "    color_mode=\"grayscale\",\n",
        "    class_mode=\"categorical\",\n",
        "    batch_size=BATCH_SIZE,\n",
        "    shuffle=True,              # Kesha set to shuffle=True but we don't want to shuffle our testing data around, which it does so by default\n",
        "    seed=1234\n",
        "    # validate_filenames=True\n",
        ")"
      ],
      "metadata": {
        "id": "9_IibHAwxE6H",
        "colab": {
          "base_uri": "https://localhost:8080/"
        },
        "outputId": "35840bc3-42fe-41dd-fe3f-a1c0b398c031"
      },
      "execution_count": 19,
      "outputs": [
        {
          "output_type": "stream",
          "name": "stdout",
          "text": [
            "Found 797 validated image filenames belonging to 2 classes.\n",
            "Found 197 validated image filenames belonging to 2 classes.\n",
            "Found 199 validated image filenames belonging to 2 classes.\n"
          ]
        }
      ]
    },
    {
      "cell_type": "markdown",
      "source": [
        "# Build CNN Model and Hyperparameter Tuning\n",
        "- **ReduceLROnPlateau**: A scheduling technique that monitors a particular quantity and decays the learning rate when the quantity is stop improving.\n",
        "- **ModelCheckpoint**: A sch\n",
        "- **BatchNormalization**: A feature that we add between the layers of neural network and it continuously takes the output from the previous layer and normalizes it before sending it to the next layer thereby helping stablizing the NN"
      ],
      "metadata": {
        "id": "I19l1YOYsfOG"
      }
    },
    {
      "cell_type": "markdown",
      "source": [
        "# Best Hyperparameters to Tune\n",
        "- Learning Rate\n",
        "- Optimizers\n",
        "- Activation Functions\n",
        "- Epochs\n",
        "- Dropout rate\n",
        "- Number of layers and units (filters)"
      ],
      "metadata": {
        "id": "tTCqiQ3WC9xS"
      }
    },
    {
      "cell_type": "code",
      "source": [
        "# img_height = 50\n",
        "# img_width = 50\n",
        "# img_channel = 1\n",
        "# input_shape = (img_height, img_width, img_channel)"
      ],
      "metadata": {
        "id": "OQcHdDdYJnol"
      },
      "execution_count": 20,
      "outputs": []
    },
    {
      "cell_type": "code",
      "source": [
        "from keras.layers import ReLU, LeakyReLU\n",
        "# https://keras.io/guides/keras_tuner/getting_started/\n",
        "\n",
        "def build_cnn(hp): \n",
        "  tf.keras.backend.clear_session()\n",
        "  tf.random.set_seed(0)\n",
        "\n",
        "# Define ranges of hyperparam values \n",
        "  hp_kernel_size = hp.Int('kernel_size', min_value=2, max_value=5, step=1)\n",
        "  hp_strides = hp.Int('strides', min_value=1, max_value=2, step=1)\n",
        "  hp_pool_size = hp.Int('pool_size', min_value=2, max_value=3, step=1)\n",
        "  hp_activation = hp.Choice('activation', values=['relu', 'leaky_relu', 'elu', 'gelu','selu'], default='relu')\n",
        "  hp_optimizer = hp.Choice('optimizer', values=['adam', 'rmsprop', 'sgd'], default='adam')\n",
        "  hp_filters_1 = hp.Int('filters_1', min_value=8, max_value=64, step=8)\n",
        "  hp_dense = hp.Int('dense_units', min_value=32, max_value=256, step=34)\n",
        "  hp_learning_rate = hp.Float('learning_rate', min_value=1e-4, max_value=1e-2, sampling='LOG', default=1e-2)\n",
        "  hp_dropout = hp.Float('dropout_rate', min_value=0.1, max_value=0.6, default=0.1, step=0.1)\n",
        "  hp_reduction_type = hp.Choice('reduction_type', values=['global_avg_pooling2d', 'max_pooling2d'])\n",
        "\n",
        "  # Define the model\n",
        "  model = tf.keras.Sequential()\n",
        "\n",
        "  # Input layer\n",
        "  model.add(Conv2D(hp.Int('input_units', min_value=16, max_value=64, step=16), kernel_size=(hp_kernel_size,hp_kernel_size), padding='same', activation=hp_activation, input_shape = (50,50,1)))  \n",
        "  if hp_reduction_type == 'global_avg_pooling2d':\n",
        "    model.add(GlobalAveragePooling2D(keepdims=True))\n",
        "  else:\n",
        "    model.add(MaxPooling2D(pool_size=(hp_pool_size,hp_pool_size), strides=(hp_strides,hp_strides)))  \n",
        "\n",
        "  \n",
        "  # 2nd set of neural network layers\n",
        "  # if hp.Boolean('conv_layer_2'):  \n",
        "  for i in range(hp.Int('n_layers', 1, 3)):\n",
        "    model.add(Conv2D(hp.Int(f'conv2d_{i}_units', min_value=32, max_value=128, step=32), kernel_size=(hp_kernel_size,hp_kernel_size), padding='same', activation=hp_activation))\n",
        "    if hp_reduction_type == 'global_avg_pooling2d':\n",
        "      model.add(GlobalAveragePooling2D(keepdims=True))\n",
        "    else:\n",
        "      model.add(MaxPooling2D(pool_size=(hp_pool_size,hp_pool_size), strides=(hp_strides,hp_strides)))  \n",
        "    model.add(BatchNormalization())\n",
        "    if hp.Boolean('dropout'):\n",
        "      model.add(Dropout(hp_dropout))\n",
        "\n",
        "  # Flatten layer\n",
        "  model.add(Flatten())\n",
        "\n",
        "  # Fully connected dense layer\n",
        "  model.add(Dense(units = hp_dense, activation = hp_activation))\n",
        "  model.add(BatchNormalization())\n",
        "  model.add(Dropout(hp_dropout))\n",
        "  \n",
        "  # Output layer\n",
        "  model.add(Dense(units = 2, activation = 'softmax'))        # output layer\n",
        "  \n",
        "  # Define the optimizer\n",
        "  def selected_optimizer(optimizer):\n",
        "    if optimizer.lower() == 'sgd':\n",
        "        return SGD(learning_rate=hp_learning_rate)           # SGD(learning_rate=learning_rate, momentum=0.95, decay=1, nesterov=True)\n",
        "    elif optimizer.lower() == 'adam':\n",
        "        return Adam(learning_rate=hp_learning_rate)          # Adam(learning_rate=learning_rate, beta_1=0.9, beta_2=0.999, epsilon=1e-8, kappa=1-1e-8)\n",
        "    elif optimizer.lower() == 'rmsprop':\n",
        "        return RMSprop(learning_rate=hp_learning_rate)       # RMSprop(learning_rate=learning_rate, rho=0.9, epsilon=1e-6)\n",
        "\n",
        "  # Compile the model\n",
        "  model.compile(loss=CategoricalCrossentropy(), \n",
        "                optimizer=selected_optimizer(hp_optimizer), \n",
        "                metrics=['accuracy'])\n",
        "  return model"
      ],
      "metadata": {
        "id": "-b-MQQn9Erwy"
      },
      "execution_count": 21,
      "outputs": []
    },
    {
      "cell_type": "markdown",
      "source": [
        "Then, the **max_trials** variable represents the number of hyperparameter combinations that will be tested by the tuner, while the **execution_per_trial** variable is the number of models that should be built and fit for each trial for robustness purposes. The next section explains how to set them\n",
        "\n",
        "https://www.sicara.fr/blog-technique/hyperparameter-tuning-keras-tuner<br>\n",
        "https://www.kaggle.com/code/fchollet/keras-kerastuner-best-practices/notebook"
      ],
      "metadata": {
        "id": "SnHwzogJu0BZ"
      }
    },
    {
      "cell_type": "code",
      "source": [
        "from tensorflow.keras.callbacks import EarlyStopping\n",
        "\n",
        "stop_early = EarlyStopping(monitor = 'val_accuracy', mode = 'max', patience = 3)\n",
        "\n",
        "# RandomSearch\n",
        "tuner = kt.RandomSearch(\n",
        "          build_cnn,\n",
        "          objective=\"val_accuracy\",\n",
        "          max_trials=5,                     # max_trials=50 or 10,\n",
        "          executions_per_trial=2,           # executions_per_trial=10,\n",
        "          overwrite=True,\n",
        "          directory=\"hj_dir\",\n",
        "          project_name=\"breast_cancer_classification\")\n",
        "\n",
        "tuner.search(train_data_generator, \n",
        "             epochs=EPOCHS, \n",
        "             callbacks=[stop_early], \n",
        "             validation_data=validation_data_generator)"
      ],
      "metadata": {
        "id": "yH0jfZqX2Qxi",
        "colab": {
          "base_uri": "https://localhost:8080/"
        },
        "outputId": "08809e77-76fc-447a-d9f1-823494951b16"
      },
      "execution_count": 22,
      "outputs": [
        {
          "output_type": "stream",
          "name": "stderr",
          "text": [
            "INFO:tensorflow:Oracle triggered exit\n"
          ]
        },
        {
          "output_type": "stream",
          "name": "stdout",
          "text": [
            "Trial 5 Complete [00h 00m 35s]\n",
            "val_accuracy: 0.7182741165161133\n",
            "\n",
            "Best val_accuracy So Far: 0.7360405921936035\n",
            "Total elapsed time: 00h 02m 19s\n"
          ]
        }
      ]
    },
    {
      "cell_type": "code",
      "source": [
        "from sklearn.model_selection import cross_val_score\n",
        "from sklearn.metrics import confusion_matrix, precision_score, recall_score, accuracy_score, f1_score, classification_report\n",
        "from sklearn import svm\n",
        "from sklearn.metrics import auc\n",
        "from sklearn.metrics import RocCurveDisplay\n",
        "from sklearn.model_selection import StratifiedKFold\n",
        "from sklearn.metrics import roc_curve"
      ],
      "metadata": {
        "id": "4-ChFsRGFKYu"
      },
      "execution_count": 23,
      "outputs": []
    },
    {
      "cell_type": "markdown",
      "source": [
        "https://www.analyticsvidhya.com/blog/2020/08/image-augmentation-on-the-fly-using-keras-imagedatagenerator/"
      ],
      "metadata": {
        "id": "5L2ndY3cZWSK"
      }
    },
    {
      "cell_type": "code",
      "source": [
        "# best_hps = tuner.get_best_hyperparameters(num_trials=1)[0]     # num_trials=5\n",
        "# model = tuner.hypermodel.build(best_hps)\n",
        "\n",
        "best_hps = tuner.get_best_hyperparameters()[0]     # num_trials=5\n",
        "model = tuner.get_best_models()[0]\n",
        "\n",
        "from sklearn.metrics import auc\n",
        "from sklearn.metrics import RocCurveDisplay\n",
        "from sklearn.model_selection import StratifiedKFold\n",
        "from sklearn.metrics import roc_curve\n",
        "\n",
        "lr_reduce = ReduceLROnPlateau(monitor='val_accuracy', factor=0.1, min_delta=0.0001, patience=1, verbose=1)\n",
        "\n",
        "file_path = 'weights.hdf5'    # save the weights and biases\n",
        "checkpoint = ModelCheckpoint(file_path, monitor='val_accuracy', verbose=1, save_best_only=True, mode='max')\n",
        "\n",
        "# Fit with the entire dataset (both training and validation sets)\n",
        "history = model.fit(train_data_generator,\n",
        "                  epochs=EPOCHS,\n",
        "                  shuffle=True,\n",
        "                  batch_size=BATCH_SIZE,                  \n",
        "                  callbacks=[lr_reduce, checkpoint, stop_early],\n",
        "                  validation_data = validation_data_generator)\n",
        "# pd.DataFrame(history.history)\n",
        "\n",
        "# Plot loss and accuracy of best model on every epoch\n",
        "hist = history.history\n",
        "x_arr = np.arange(len(hist['loss'])) + 1\n",
        "\n",
        "fig = plt.figure(figsize=(16,6))\n",
        "ax = fig.add_subplot(1,2,1)\n",
        "ax.plot(x_arr, hist['loss'], '-o', label='Train Loss')\n",
        "ax.plot(x_arr, hist['val_loss'], '--<', label='Validation Loss')\n",
        "ax.legend(fontsize=12)\n",
        "ax.set_xlabel('Epoch', size=14)\n",
        "ax.set_ylabel('Loss', size=14)\n",
        "ax.set_title('Loss', size=20)\n",
        "\n",
        "ax = fig.add_subplot(1,2,2)\n",
        "ax.plot(x_arr, hist['accuracy'], '-o', label='Train Acc.')\n",
        "ax.plot(x_arr, hist['val_accuracy'], '--<', label='Validation Acc.')\n",
        "ax.legend(fontsize=12)\n",
        "ax.set_xlabel('Epoch', size=14)\n",
        "ax.set_ylabel('Accuracy', size=14)\n",
        "ax.set_title('Accuracy', size=20);\n",
        "\n",
        "# Test accuracy - model.evaluate() \n",
        "test_accuracy = round(model.evaluate(test_data_generator, verbose=0, return_dict=True)['accuracy'], 2)\n",
        "training_accuracy = round(history.history['accuracy'][-1], 2)\n",
        "val_accuracy = round(history.history['val_accuracy'][-1], 2)\n",
        "count_params = model.count_params()\n",
        "\n",
        "# Confusion Matrix\n",
        "num_of_test_samples = len(test_labels)\n",
        "classes = ['Non-IDC(0)','IDC(1)']\n",
        "\n",
        "y_true = train_data_generator.classes\n",
        "print('y_true:\\n', y_true[:5])\n",
        "y_pred = model.predict(train_data_generator)\n",
        "print('y_pred:\\n', y_pred[:5])\n",
        "y_pred_argmax = np.argmax(y_pred, axis=1)                      # 0s and 1s: return the indicies of the max values along the axis (axis=1: each row)   TODO: look into prob threshold\n",
        "print('y_pred_argmax:\\n', y_pred_argmax[:10])\n",
        "\n",
        "# Confusion matrix  \n",
        "conf_max = confusion_matrix(y_true, y_pred_argmax)             # conf.max should use 0s and 1s for y_pred\n",
        "perf_conf_max = conf_max.astype('float')/conf_max.sum(axis=1)[:np.newaxis]*100\n",
        "df_perf_conf_max = pd.DataFrame(perf_conf_max, index=classes, columns=classes)\n",
        "\n",
        "plt.figure(figsize=(6,5))\n",
        "sns.heatmap(df_perf_conf_max, annot=True, cmap='coolwarm', annot_kws={'fontsize':16}, linewidth=0.5, fmt='.0f')  \n",
        "plt.xlabel('Predicted Label', fontsize=14)\n",
        "plt.ylabel('True Label', fontsize=14)\n",
        "plt.title('Confusion Matrix (%)', fontsize=15)\n",
        "\n",
        "# Classification report (classification_report should use 0s and 1s for y_pred)\n",
        "print('=============== Classification Report ===============\\n\\n', classification_report(y_true, y_pred_argmax, target_names=['Non-IDC', 'IDC']), '\\n=====================================================\\n')\n",
        "\n",
        "# Cross validation score\n",
        "# cv = ShuffleSplit(n_splits=100, test_size=.25, random_state=0)\n",
        "# cv_score = np.median(cross_val_score(model, y_true, y_pred, cv=cv))*100\n",
        "# print('cv_score = ',cv_score)\n",
        "\n",
        "# Precision, recall, and f1_score\n",
        "tn, fp, fn, tp = confusion_matrix(y_true, y_pred_argmax).ravel()     # np.ravel(): returns contiguous flattened array (1D array with all the input-array elements and with the same type as it)\n",
        "accuracy = round((tp+tn)/(tp+fn+tn+fp), 2)\n",
        "recall = round(tp/(fn+tp), 2)\n",
        "precision = round(tp/(fp+tp), 2)\n",
        "f1score = round((2*precision*recall)/(precision+recall), 2)\n",
        "error_rate = round(1-accuracy, 2)\n",
        "\n",
        "# cohen_kappa score and zero_one loss\n",
        "cohen_kappa = round(cohen_kappa_score(y_true, y_pred_argmax), 2)\n",
        "zo_loss = round(zero_one_loss(y_true, y_pred_argmax), 2)\n",
        "\n",
        "# Area under the ROC curve\n",
        "roc_log = roc_auc_score(y_true, y_pred[:,1], multi_class='ovr')   # for the roc curve, we need to use a vector of probabilities so just chose one column and all rows\n",
        "fpr, tpr, threshold = roc_curve(y_true, y_pred[:,1])\n",
        "area_under_curve = round(auc(fpr, tpr), 2)  \n",
        "\n",
        "y_true_train = train_data_generator.classes\n",
        "y_pred_train = model.predict(train_data_generator)\n",
        "y_pred_argmax_train = np.argmax(y_pred_train, axis=1)\n",
        "\n",
        "roc_log_t = roc_auc_score(y_true_train, y_pred_train[:,1], multi_class='ovr')   # for the roc curve, we need to use a vector of probabilities so just chose one column and all rows\n",
        "fpr_t , tpr_t , threshold = roc_curve(y_true_train, y_pred_train[:,1])\n",
        "area_under_curve_t = round(auc(fpr_t , tpr_t), 2)  \n",
        "\n",
        "plt.figure(figsize=(6,5))\n",
        "plt.plot([0, 1], [0, 1], 'r--')  \n",
        "plt.plot(fpr, tpr, label='ROC-AUC = {:.2f}'.format(area_under_curve))  \n",
        "plt.xlabel('False positive rate', fontsize=14)\n",
        "plt.ylabel('True positive rate', fontsize=14)\n",
        "plt.title('ROC Curve', fontsize=18)\n",
        "plt.legend(loc='best')\n",
        "plt.show()\n",
        "plt.close()\n",
        "\n",
        "plt.figure(figsize=(6,5))\n",
        "plt.plot([0, 1], [0, 1], 'r--')  \n",
        "plt.plot(fpr_t , tpr_t, label='ROC-AUC = {:.2f}'.format(area_under_curve_t))  \n",
        "plt.xlabel('False positive rate', fontsize=14)\n",
        "plt.ylabel('True positive rate', fontsize=14)\n",
        "plt.title('ROC Curve', fontsize=18)\n",
        "plt.legend(loc='best')\n",
        "plt.show()\n",
        "plt.close()\n",
        "\n",
        "model_summary = pd.DataFrame({'Augmented':'NO',\n",
        "                              'Test_acc':test_accuracy,\n",
        "                              'Training_acc': training_accuracy,\n",
        "                              'Val_acc': val_accuracy,\n",
        "                              'Num_params':  f'{count_params:,}',\n",
        "                              'Accuracy': accuracy,\n",
        "                              'Precision': precision,\n",
        "                              'Recall': recall,\n",
        "                              'F1_score': f1score,\n",
        "                              'Error Rate': error_rate,\n",
        "                              'ROC-AUC score': area_under_curve,\n",
        "                              'Cohen Kappa': cohen_kappa,\n",
        "                              'Zero-One Loss': zo_loss}, index=[0]) \n",
        "print(model.summary())\n",
        "model_summary"
      ],
      "metadata": {
        "id": "iAgUf5GbSBbY",
        "colab": {
          "base_uri": "https://localhost:8080/",
          "height": 1000
        },
        "outputId": "445870bc-2cba-405a-ed78-3e2efc003c71"
      },
      "execution_count": 24,
      "outputs": [
        {
          "output_type": "stream",
          "name": "stdout",
          "text": [
            "Epoch 1/8\n",
            "25/25 [==============================] - ETA: 0s - loss: 0.5456 - accuracy: 0.7465\n",
            "Epoch 1: val_accuracy improved from -inf to 0.52284, saving model to weights.hdf5\n",
            "25/25 [==============================] - 3s 91ms/step - loss: 0.5456 - accuracy: 0.7465 - val_loss: 0.9592 - val_accuracy: 0.5228 - lr: 0.0028\n",
            "Epoch 2/8\n",
            "25/25 [==============================] - ETA: 0s - loss: 0.5797 - accuracy: 0.7353\n",
            "Epoch 2: val_accuracy improved from 0.52284 to 0.74619, saving model to weights.hdf5\n",
            "25/25 [==============================] - 2s 78ms/step - loss: 0.5797 - accuracy: 0.7353 - val_loss: 0.5378 - val_accuracy: 0.7462 - lr: 0.0028\n",
            "Epoch 3/8\n",
            "25/25 [==============================] - ETA: 0s - loss: 0.5385 - accuracy: 0.7578\n",
            "Epoch 3: ReduceLROnPlateau reducing learning rate to 0.00027550605591386557.\n",
            "\n",
            "Epoch 3: val_accuracy did not improve from 0.74619\n",
            "25/25 [==============================] - 2s 72ms/step - loss: 0.5385 - accuracy: 0.7578 - val_loss: 1.1080 - val_accuracy: 0.5838 - lr: 0.0028\n",
            "Epoch 4/8\n",
            "25/25 [==============================] - ETA: 0s - loss: 0.4974 - accuracy: 0.7742\n",
            "Epoch 4: ReduceLROnPlateau reducing learning rate to 2.755060559138656e-05.\n",
            "\n",
            "Epoch 4: val_accuracy did not improve from 0.74619\n",
            "25/25 [==============================] - 2s 71ms/step - loss: 0.4974 - accuracy: 0.7742 - val_loss: 0.5771 - val_accuracy: 0.7360 - lr: 2.7551e-04\n",
            "Epoch 5/8\n",
            "25/25 [==============================] - ETA: 0s - loss: 0.4656 - accuracy: 0.7967\n",
            "Epoch 5: ReduceLROnPlateau reducing learning rate to 2.755060631898232e-06.\n",
            "\n",
            "Epoch 5: val_accuracy did not improve from 0.74619\n",
            "25/25 [==============================] - 2s 71ms/step - loss: 0.4656 - accuracy: 0.7967 - val_loss: 0.5861 - val_accuracy: 0.7259 - lr: 2.7551e-05\n",
            "y_true:\n",
            " [0, 0, 1, 1, 0]\n",
            "25/25 [==============================] - 1s 52ms/step\n",
            "y_pred:\n",
            " [[0.10607985 0.8939201 ]\n",
            " [0.49215424 0.5078458 ]\n",
            " [0.40771037 0.5922896 ]\n",
            " [0.15464829 0.84535176]\n",
            " [0.27471542 0.7252846 ]]\n",
            "y_pred_argmax:\n",
            " [1 1 1 1 1 1 1 0 0 1]\n",
            "=============== Classification Report ===============\n",
            "\n",
            "               precision    recall  f1-score   support\n",
            "\n",
            "     Non-IDC       0.53      0.33      0.40       397\n",
            "         IDC       0.51      0.71      0.60       400\n",
            "\n",
            "    accuracy                           0.52       797\n",
            "   macro avg       0.52      0.52      0.50       797\n",
            "weighted avg       0.52      0.52      0.50       797\n",
            " \n",
            "=====================================================\n",
            "\n",
            "25/25 [==============================] - 1s 54ms/step\n"
          ]
        },
        {
          "output_type": "display_data",
          "data": {
            "text/plain": [
              "<Figure size 1152x432 with 2 Axes>"
            ],
            "image/png": "[encoded data removed]"
          },
          "metadata": {
            "needs_background": "light"
          }
        },
        {
          "output_type": "display_data",
          "data": {
            "text/plain": [
              "<Figure size 432x360 with 2 Axes>"
            ],
            "image/png": "[encoded data removed]"
          },
          "metadata": {
            "needs_background": "light"
          }
        },
        {
          "output_type": "display_data",
          "data": {
            "text/plain": [
              "<Figure size 432x360 with 1 Axes>"
            ],
            "image/png": "[encoded data removed]"
          },
          "metadata": {
            "needs_background": "light"
          }
        },
        {
          "output_type": "display_data",
          "data": {
            "text/plain": [
              "<Figure size 432x360 with 1 Axes>"
            ],
            "image/png": "[encoded data removed]"
          },
          "metadata": {
            "needs_background": "light"
          }
        },
        {
          "output_type": "stream",
          "name": "stdout",
          "text": [
            "Model: \"sequential\"\n",
            "_________________________________________________________________\n",
            " Layer (type)                Output Shape              Param #   \n",
            "=================================================================\n",
            " conv2d (Conv2D)             (None, 50, 50, 32)        160       \n",
            "                                                                 \n",
            " max_pooling2d (MaxPooling2D  (None, 48, 48, 32)       0         \n",
            " )                                                               \n",
            "                                                                 \n",
            " conv2d_1 (Conv2D)           (None, 48, 48, 96)        12384     \n",
            "                                                                 \n",
            " max_pooling2d_1 (MaxPooling  (None, 46, 46, 96)       0         \n",
            " 2D)                                                             \n",
            "                                                                 \n",
            " batch_normalization (BatchN  (None, 46, 46, 96)       384       \n",
            " ormalization)                                                   \n",
            "                                                                 \n",
            " conv2d_2 (Conv2D)           (None, 46, 46, 128)       49280     \n",
            "                                                                 \n",
            " max_pooling2d_2 (MaxPooling  (None, 44, 44, 128)      0         \n",
            " 2D)                                                             \n",
            "                                                                 \n",
            " batch_normalization_1 (Batc  (None, 44, 44, 128)      512       \n",
            " hNormalization)                                                 \n",
            "                                                                 \n",
            " flatten (Flatten)           (None, 247808)            0         \n",
            "                                                                 \n",
            " dense (Dense)               (None, 32)                7929888   \n",
            "                                                                 \n",
            " batch_normalization_2 (Batc  (None, 32)               128       \n",
            " hNormalization)                                                 \n",
            "                                                                 \n",
            " dropout (Dropout)           (None, 32)                0         \n",
            "                                                                 \n",
            " dense_1 (Dense)             (None, 2)                 66        \n",
            "                                                                 \n",
            "=================================================================\n",
            "Total params: 7,992,802\n",
            "Trainable params: 7,992,290\n",
            "Non-trainable params: 512\n",
            "_________________________________________________________________\n",
            "None\n"
          ]
        },
        {
          "output_type": "execute_result",
          "data": {
            "text/plain": [
              "  Augmented  Test_acc  Training_acc  Val_acc Num_params  Accuracy  Precision  \\\n",
              "0        NO      0.67           0.8     0.73  7,992,802      0.52       0.51   \n",
              "\n",
              "   Recall  F1_score  Error Rate  ROC-AUC score  Cohen Kappa  Zero-One Loss  \n",
              "0    0.71      0.59        0.48           0.49         0.04           0.48  "
            ],
            "text/html": [
              "\n",
              "  <div id=\"df-9887f1db-414f-46f4-8a36-8d16694aedac\">\n",
              "    <div class=\"colab-df-container\">\n",
              "      <div>\n",
              "<style scoped>\n",
              "    .dataframe tbody tr th:only-of-type {\n",
              "        vertical-align: middle;\n",
              "    }\n",
              "\n",
              "    .dataframe tbody tr th {\n",
              "        vertical-align: top;\n",
              "    }\n",
              "\n",
              "    .dataframe thead th {\n",
              "        text-align: right;\n",
              "    }\n",
              "</style>\n",
              "<table border=\"1\" class=\"dataframe\">\n",
              "  <thead>\n",
              "    <tr style=\"text-align: right;\">\n",
              "      <th></th>\n",
              "      <th>Augmented</th>\n",
              "      <th>Test_acc</th>\n",
              "      <th>Training_acc</th>\n",
              "      <th>Val_acc</th>\n",
              "      <th>Num_params</th>\n",
              "      <th>Accuracy</th>\n",
              "      <th>Precision</th>\n",
              "      <th>Recall</th>\n",
              "      <th>F1_score</th>\n",
              "      <th>Error Rate</th>\n",
              "      <th>ROC-AUC score</th>\n",
              "      <th>Cohen Kappa</th>\n",
              "      <th>Zero-One Loss</th>\n",
              "    </tr>\n",
              "  </thead>\n",
              "  <tbody>\n",
              "    <tr>\n",
              "      <th>0</th>\n",
              "      <td>NO</td>\n",
              "      <td>0.67</td>\n",
              "      <td>0.8</td>\n",
              "      <td>0.73</td>\n",
              "      <td>7,992,802</td>\n",
              "      <td>0.52</td>\n",
              "      <td>0.51</td>\n",
              "      <td>0.71</td>\n",
              "      <td>0.59</td>\n",
              "      <td>0.48</td>\n",
              "      <td>0.49</td>\n",
              "      <td>0.04</td>\n",
              "      <td>0.48</td>\n",
              "    </tr>\n",
              "  </tbody>\n",
              "</table>\n",
              "</div>\n",
              "      <button class=\"colab-df-convert\" onclick=\"convertToInteractive('df-9887f1db-414f-46f4-8a36-8d16694aedac')\"\n",
              "              title=\"Convert this dataframe to an interactive table.\"\n",
              "              style=\"display:none;\">\n",
              "        \n",
              "  <svg xmlns=\"http://www.w3.org/2000/svg\" height=\"24px\"viewBox=\"0 0 24 24\"\n",
              "       width=\"24px\">\n",
              "    <path d=\"M0 0h24v24H0V0z\" fill=\"none\"/>\n",
              "    <path d=\"M18.56 5.44l.94 2.06.94-2.06 2.06-.94-2.06-.94-.94-2.06-.94 2.06-2.06.94zm-11 1L8.5 8.5l.94-2.06 2.06-.94-2.06-.94L8.5 2.5l-.94 2.06-2.06.94zm10 10l.94 2.06.94-2.06 2.06-.94-2.06-.94-.94-2.06-.94 2.06-2.06.94z\"/><path d=\"M17.41 7.96l-1.37-1.37c-.4-.4-.92-.59-1.43-.59-.52 0-1.04.2-1.43.59L10.3 9.45l-7.72 7.72c-.78.78-.78 2.05 0 2.83L4 21.41c.39.39.9.59 1.41.59.51 0 1.02-.2 1.41-.59l7.78-7.78 2.81-2.81c.8-.78.8-2.07 0-2.86zM5.41 20L4 18.59l7.72-7.72 1.47 1.35L5.41 20z\"/>\n",
              "  </svg>\n",
              "      </button>\n",
              "      \n",
              "  <style>\n",
              "    .colab-df-container {\n",
              "      display:flex;\n",
              "      flex-wrap:wrap;\n",
              "      gap: 12px;\n",
              "    }\n",
              "\n",
              "    .colab-df-convert {\n",
              "      background-color: #E8F0FE;\n",
              "      border: none;\n",
              "      border-radius: 50%;\n",
              "      cursor: pointer;\n",
              "      display: none;\n",
              "      fill: #1967D2;\n",
              "      height: 32px;\n",
              "      padding: 0 0 0 0;\n",
              "      width: 32px;\n",
              "    }\n",
              "\n",
              "    .colab-df-convert:hover {\n",
              "      background-color: #E2EBFA;\n",
              "      box-shadow: 0px 1px 2px rgba(60, 64, 67, 0.3), 0px 1px 3px 1px rgba(60, 64, 67, 0.15);\n",
              "      fill: #174EA6;\n",
              "    }\n",
              "\n",
              "    [theme=dark] .colab-df-convert {\n",
              "      background-color: #3B4455;\n",
              "      fill: #D2E3FC;\n",
              "    }\n",
              "\n",
              "    [theme=dark] .colab-df-convert:hover {\n",
              "      background-color: #434B5C;\n",
              "      box-shadow: 0px 1px 3px 1px rgba(0, 0, 0, 0.15);\n",
              "      filter: drop-shadow(0px 1px 2px rgba(0, 0, 0, 0.3));\n",
              "      fill: #FFFFFF;\n",
              "    }\n",
              "  </style>\n",
              "\n",
              "      <script>\n",
              "        const buttonEl =\n",
              "          document.querySelector('#df-9887f1db-414f-46f4-8a36-8d16694aedac button.colab-df-convert');\n",
              "        buttonEl.style.display =\n",
              "          google.colab.kernel.accessAllowed ? 'block' : 'none';\n",
              "\n",
              "        async function convertToInteractive(key) {\n",
              "          const element = document.querySelector('#df-9887f1db-414f-46f4-8a36-8d16694aedac');\n",
              "          const dataTable =\n",
              "            await google.colab.kernel.invokeFunction('convertToInteractive',\n",
              "                                                     [key], {});\n",
              "          if (!dataTable) return;\n",
              "\n",
              "          const docLinkHtml = 'Like what you see? Visit the ' +\n",
              "            '<a target=\"_blank\" href=https://colab.research.google.com/notebooks/data_table.ipynb>data table notebook</a>'\n",
              "            + ' to learn more about interactive tables.';\n",
              "          element.innerHTML = '';\n",
              "          dataTable['output_type'] = 'display_data';\n",
              "          await google.colab.output.renderOutput(dataTable, element);\n",
              "          const docLink = document.createElement('div');\n",
              "          docLink.innerHTML = docLinkHtml;\n",
              "          element.appendChild(docLink);\n",
              "        }\n",
              "      </script>\n",
              "    </div>\n",
              "  </div>\n",
              "  "
            ]
          },
          "metadata": {},
          "execution_count": 24
        }
      ]
    },
    {
      "cell_type": "code",
      "source": [
        "with_aug_datagen = ImageDataGenerator(      # with augmneted images\n",
        "    rescale = 1./255,\n",
        "    rotation_range=30,                      # randomly rotate image by 10 degrees\n",
        "    width_shift_range=0.2,\n",
        "    height_shift_range=0.2,\n",
        "    brightness_range=[0.4, 1.5],\n",
        "    shear_range=0.2,                        # distort image along an axis mostly to create or recify the perception angles     \n",
        "    zoom_range=0.2,                         # zomming image: zoom_range > 1 => zoom out, zoom_range < 1 => zoom in                  \n",
        "    fill_mode='nearest',                    # when the image is rotated, some pixels will move outside the image and leave an empty area that needs to be filled in, 'nearest': simply replace the empty area with the nearest spectral values.\n",
        "    horizontal_flip=True,\n",
        "    vertical_flip=True)\n",
        "\n",
        "train_data_generator = with_aug_datagen.flow_from_dataframe(\n",
        "    train_generator,\n",
        "    directory = None,\n",
        "    x_col =  'path',\n",
        "    y_col =  'label',\n",
        "    weight_col=None,\n",
        "    target_size=(50,50),\n",
        "    color_mode=\"grayscale\",\n",
        "    class_mode=\"categorical\",\n",
        "    batch_size=32,\n",
        "    shuffle=True,\n",
        "    seed=1234\n",
        ")\n"
      ],
      "metadata": {
        "colab": {
          "base_uri": "https://localhost:8080/"
        },
        "id": "CakkKSUeQt41",
        "outputId": "36422755-4d15-4115-d838-2815504e155a"
      },
      "execution_count": 25,
      "outputs": [
        {
          "output_type": "stream",
          "name": "stdout",
          "text": [
            "Found 797 validated image filenames belonging to 2 classes.\n"
          ]
        }
      ]
    },
    {
      "cell_type": "code",
      "source": [
        "history = model.fit(train_data_generator,\n",
        "                  epochs=EPOCHS,\n",
        "                  shuffle=False,\n",
        "                  batch_size=BATCH_SIZE,                  \n",
        "                  steps_per_epoch=train_generator.shape[0]//BATCH_SIZE, \n",
        "                  callbacks=[lr_reduce, checkpoint, stop_early],\n",
        "                  validation_data = validation_data_generator,\n",
        "                  validation_steps=val_generator.shape[0]//BATCH_SIZE)\n",
        "\n",
        "hist = history.history\n",
        "x_arr = np.arange(len(hist['loss'])) + 1\n",
        "\n",
        "fig = plt.figure(figsize=(16,6))\n",
        "ax = fig.add_subplot(1,2,1)\n",
        "ax.plot(x_arr, hist['loss'], '-o', label='Train Loss')\n",
        "ax.plot(x_arr, hist['val_loss'], '--<', label='Validation Loss')\n",
        "ax.legend(fontsize=12)\n",
        "ax.set_xlabel('Epoch', size=14)\n",
        "ax.set_ylabel('Loss', size=14)\n",
        "ax.set_title('Loss', size=20)\n",
        "\n",
        "ax = fig.add_subplot(1,2,2)\n",
        "ax.plot(x_arr, hist['accuracy'], '-o', label='Train Acc.')\n",
        "ax.plot(x_arr, hist['val_accuracy'], '--<', label='Validation Acc.')\n",
        "ax.legend(fontsize=12)\n",
        "ax.set_xlabel('Epoch', size=14)\n",
        "ax.set_ylabel('Accuracy', size=14)\n",
        "ax.set_title('Accuracy', size=20);\n",
        "\n",
        "# Test accuracy - model.evaluate() \n",
        "test_accuracy = round(model.evaluate(test_data_generator, verbose=0, return_dict=True)['accuracy'], 2)\n",
        "training_accuracy = round(history.history['accuracy'][-1], 2)\n",
        "val_accuracy = round(history.history['val_accuracy'][-1], 2)\n",
        "count_params = model.count_params()\n",
        "\n",
        "# def error_analysis(model_name, model, test_labels, test_data_generator):\n",
        "num_of_test_samples = len(test_labels)\n",
        "classes = ['Non-IDC(0)','IDC(1)']\n",
        "\n",
        "y_true = test_data_generator.classes\n",
        "print('y_true:\\n', y_true[:5])\n",
        "y_pred = model.predict(test_data_generator)\n",
        "print('y_pred:\\n', y_pred[:5])\n",
        "y_pred_argmax = np.argmax(y_pred, axis=1)                      # 0s and 1s: return the indicies of the max values along the axis (axis=1: each row)   TODO: look into prob threshold\n",
        "print('y_pred_argmax:\\n', y_pred_argmax[:10])\n",
        "\n",
        "# Confusion matrix  \n",
        "conf_max = confusion_matrix(y_true, y_pred_argmax)             # conf.max should use 0s and 1s for y_pred\n",
        "perf_conf_max = conf_max.astype('float')/conf_max.sum(axis=1)[:np.newaxis]*100\n",
        "df_perf_conf_max = pd.DataFrame(perf_conf_max, index=classes, columns=classes)\n",
        "\n",
        "plt.figure(figsize=(6,5))\n",
        "sns.heatmap(df_perf_conf_max, annot=True, cmap='coolwarm', annot_kws={'fontsize':16}, linewidth=0.5, fmt='.0f')  \n",
        "plt.xlabel('Predicted Label', fontsize=14)\n",
        "plt.ylabel('True Label', fontsize=14)\n",
        "plt.title('Confusion Matrix (%)', fontsize=15)\n",
        "\n",
        "# Classification report (classification_report should use 0s and 1s for y_pred)\n",
        "print('=============== Classification Report ===============\\n\\n', classification_report(y_true, y_pred_argmax, target_names=['Non-IDC', 'IDC']), '\\n=====================================================\\n')\n",
        "\n",
        "# Cross validation score\n",
        "# cv = ShuffleSplit(n_splits=100, test_size=.25, random_state=0)\n",
        "# cv_score = np.median(cross_val_score(model, y_true, y_pred, cv=cv))*100\n",
        "# print('cv_score = ',cv_score)\n",
        "\n",
        "# Precision, recall, and f1_score\n",
        "tn, fp, fn, tp = confusion_matrix(y_true, y_pred_argmax).ravel()     # np.ravel(): returns contiguous flattened array (1D array with all the input-array elements and with the same type as it)\n",
        "# accuracy = round(accuracy_score(y_true, y_pred_argmax), 2)\n",
        "# accuracy = round(accuracy_score(y_true, y_pred_argmax), 2)\n",
        "# recall = round(recall_score(y_true, y_pred_argmax), 2)\n",
        "# precision = round(precision_score(y_true, y_pred_argmax), 2)\n",
        "\n",
        "accuracy = round((tp+tn)/(tp+fn+tn+fp), 2)\n",
        "recall = round(tp/(fn+tp), 2)\n",
        "precision = round(tp/(fp+tp), 2)\n",
        "\n",
        "f1score = round((2*precision*recall)/(precision+recall), 2)\n",
        "error_rate = round(1-accuracy, 2)\n",
        "\n",
        "# cohen_kappa score and zero_one loss\n",
        "cohen_kappa = round(cohen_kappa_score(y_true, y_pred_argmax), 2)\n",
        "zo_loss = round(zero_one_loss(y_true, y_pred_argmax), 2)\n",
        "\n",
        "# Area under the ROC curve\n",
        "roc_log = roc_auc_score(y_true, y_pred[:,1], multi_class='ovr')   # for the roc curve, we need to use a vector of probabilities so just chose one column and all rows\n",
        "fpr, tpr, threshold = roc_curve(y_true, y_pred[:,1])\n",
        "area_under_curve = round(auc(fpr, tpr), 2)  \n",
        "\n",
        "plt.figure(figsize=(6,5))\n",
        "plt.plot([0, 1], [0, 1], 'r--')  \n",
        "plt.plot(fpr, tpr, label='ROC-AUC = {:.2f}'.format(area_under_curve))  \n",
        "plt.xlabel('False positive rate', fontsize=14)\n",
        "plt.ylabel('True positive rate', fontsize=14)\n",
        "plt.title('ROC Curve', fontsize=18)\n",
        "plt.legend(loc='best')\n",
        "plt.show()\n",
        "plt.close()\n",
        "\n",
        "model_summary = pd.DataFrame({'Augmented':'YES',\n",
        "                              'Test_acc':test_accuracy,\n",
        "                              'Training_acc': training_accuracy,\n",
        "                              'Val_acc': val_accuracy,\n",
        "                              'Num_params':  f'{count_params:,}',\n",
        "                              'Accuracy': accuracy,\n",
        "                              'Precision': precision,\n",
        "                              'Recall': recall,\n",
        "                              'F1_score': f1score,\n",
        "                              'Error Rate': error_rate,\n",
        "                              'ROC-AUC score': area_under_curve,\n",
        "                              'Cohen Kappa': cohen_kappa,\n",
        "                              'Zero-One Loss': zo_loss}, index=[0]) \n",
        "print(model.summary())\n",
        "model_summary"
      ],
      "metadata": {
        "colab": {
          "base_uri": "https://localhost:8080/",
          "height": 1000
        },
        "id": "1j26F2vnQ8m0",
        "outputId": "d752cc54-08b2-47c4-d633-e96e4fcd2561"
      },
      "execution_count": 26,
      "outputs": [
        {
          "output_type": "stream",
          "name": "stdout",
          "text": [
            "Epoch 1/8\n",
            "24/24 [==============================] - ETA: 0s - loss: 0.7613 - accuracy: 0.6380\n",
            "Epoch 1: val_accuracy did not improve from 0.74619\n",
            "24/24 [==============================] - 2s 99ms/step - loss: 0.7613 - accuracy: 0.6380 - val_loss: 0.5757 - val_accuracy: 0.7292 - lr: 2.7551e-06\n",
            "Epoch 2/8\n",
            "24/24 [==============================] - ETA: 0s - loss: 0.7719 - accuracy: 0.6003\n",
            "Epoch 2: ReduceLROnPlateau reducing learning rate to 2.755060677372967e-07.\n",
            "\n",
            "Epoch 2: val_accuracy did not improve from 0.74619\n",
            "24/24 [==============================] - 2s 95ms/step - loss: 0.7719 - accuracy: 0.6003 - val_loss: 0.5933 - val_accuracy: 0.7240 - lr: 2.7551e-06\n",
            "Epoch 3/8\n",
            "24/24 [==============================] - ETA: 0s - loss: 0.8182 - accuracy: 0.5911\n",
            "Epoch 3: ReduceLROnPlateau reducing learning rate to 2.755060677372967e-08.\n",
            "\n",
            "Epoch 3: val_accuracy did not improve from 0.74619\n",
            "24/24 [==============================] - 2s 94ms/step - loss: 0.8182 - accuracy: 0.5911 - val_loss: 0.5946 - val_accuracy: 0.7240 - lr: 2.7551e-07\n",
            "Epoch 4/8\n",
            "24/24 [==============================] - ETA: 0s - loss: 0.7445 - accuracy: 0.6406\n",
            "Epoch 4: val_accuracy did not improve from 0.74619\n",
            "24/24 [==============================] - 2s 95ms/step - loss: 0.7445 - accuracy: 0.6406 - val_loss: 0.5784 - val_accuracy: 0.7396 - lr: 2.7551e-08\n",
            "Epoch 5/8\n",
            "24/24 [==============================] - ETA: 0s - loss: 0.7212 - accuracy: 0.6393\n",
            "Epoch 5: ReduceLROnPlateau reducing learning rate to 2.7550607129001038e-09.\n",
            "\n",
            "Epoch 5: val_accuracy did not improve from 0.74619\n",
            "24/24 [==============================] - 2s 92ms/step - loss: 0.7212 - accuracy: 0.6393 - val_loss: 0.5884 - val_accuracy: 0.7344 - lr: 2.7551e-08\n",
            "Epoch 6/8\n",
            "24/24 [==============================] - ETA: 0s - loss: 0.7990 - accuracy: 0.6016\n",
            "Epoch 6: ReduceLROnPlateau reducing learning rate to 2.7550606240822617e-10.\n",
            "\n",
            "Epoch 6: val_accuracy did not improve from 0.74619\n",
            "24/24 [==============================] - 2s 95ms/step - loss: 0.7990 - accuracy: 0.6016 - val_loss: 0.5934 - val_accuracy: 0.7396 - lr: 2.7551e-09\n",
            "Epoch 7/8\n",
            "24/24 [==============================] - ETA: 0s - loss: 0.7145 - accuracy: 0.6302\n",
            "Epoch 7: ReduceLROnPlateau reducing learning rate to 2.755060624082262e-11.\n",
            "\n",
            "Epoch 7: val_accuracy did not improve from 0.74619\n",
            "24/24 [==============================] - 2s 94ms/step - loss: 0.7145 - accuracy: 0.6302 - val_loss: 0.5963 - val_accuracy: 0.7344 - lr: 2.7551e-10\n",
            "y_true:\n",
            " [0, 0, 1, 0, 1]\n",
            "7/7 [==============================] - 0s 54ms/step\n",
            "y_pred:\n",
            " [[0.0691513  0.93084866]\n",
            " [0.6500092  0.3499908 ]\n",
            " [0.8517928  0.14820716]\n",
            " [0.07766352 0.9223365 ]\n",
            " [0.6241949  0.3758051 ]]\n",
            "y_pred_argmax:\n",
            " [1 0 0 1 0 1 0 0 1 1]\n",
            "=============== Classification Report ===============\n",
            "\n",
            "               precision    recall  f1-score   support\n",
            "\n",
            "     Non-IDC       0.42      0.28      0.34        99\n",
            "         IDC       0.47      0.62      0.53       100\n",
            "\n",
            "    accuracy                           0.45       199\n",
            "   macro avg       0.45      0.45      0.44       199\n",
            "weighted avg       0.45      0.45      0.44       199\n",
            " \n",
            "=====================================================\n",
            "\n"
          ]
        },
        {
          "output_type": "display_data",
          "data": {
            "text/plain": [
              "<Figure size 1152x432 with 2 Axes>"
            ],
            "image/png": "[encoded data removed]"
          },
          "metadata": {
            "needs_background": "light"
          }
        },
        {
          "output_type": "display_data",
          "data": {
            "text/plain": [
              "<Figure size 432x360 with 2 Axes>"
            ],
            "image/png": "[encoded data removed]"
          },
          "metadata": {
            "needs_background": "light"
          }
        },
        {
          "output_type": "display_data",
          "data": {
            "text/plain": [
              "<Figure size 432x360 with 1 Axes>"
            ],
            "image/png": "[encoded data removed]"
          },
          "metadata": {
            "needs_background": "light"
          }
        },
        {
          "output_type": "stream",
          "name": "stdout",
          "text": [
            "Model: \"sequential\"\n",
            "_________________________________________________________________\n",
            " Layer (type)                Output Shape              Param #   \n",
            "=================================================================\n",
            " conv2d (Conv2D)             (None, 50, 50, 32)        160       \n",
            "                                                                 \n",
            " max_pooling2d (MaxPooling2D  (None, 48, 48, 32)       0         \n",
            " )                                                               \n",
            "                                                                 \n",
            " conv2d_1 (Conv2D)           (None, 48, 48, 96)        12384     \n",
            "                                                                 \n",
            " max_pooling2d_1 (MaxPooling  (None, 46, 46, 96)       0         \n",
            " 2D)                                                             \n",
            "                                                                 \n",
            " batch_normalization (BatchN  (None, 46, 46, 96)       384       \n",
            " ormalization)                                                   \n",
            "                                                                 \n",
            " conv2d_2 (Conv2D)           (None, 46, 46, 128)       49280     \n",
            "                                                                 \n",
            " max_pooling2d_2 (MaxPooling  (None, 44, 44, 128)      0         \n",
            " 2D)                                                             \n",
            "                                                                 \n",
            " batch_normalization_1 (Batc  (None, 44, 44, 128)      512       \n",
            " hNormalization)                                                 \n",
            "                                                                 \n",
            " flatten (Flatten)           (None, 247808)            0         \n",
            "                                                                 \n",
            " dense (Dense)               (None, 32)                7929888   \n",
            "                                                                 \n",
            " batch_normalization_2 (Batc  (None, 32)               128       \n",
            " hNormalization)                                                 \n",
            "                                                                 \n",
            " dropout (Dropout)           (None, 32)                0         \n",
            "                                                                 \n",
            " dense_1 (Dense)             (None, 2)                 66        \n",
            "                                                                 \n",
            "=================================================================\n",
            "Total params: 7,992,802\n",
            "Trainable params: 7,992,290\n",
            "Non-trainable params: 512\n",
            "_________________________________________________________________\n",
            "None\n"
          ]
        },
        {
          "output_type": "execute_result",
          "data": {
            "text/plain": [
              "  Augmented  Test_acc  Training_acc  Val_acc Num_params  Accuracy  Precision  \\\n",
              "0       YES       0.7          0.63     0.73  7,992,802      0.45       0.47   \n",
              "\n",
              "   Recall  F1_score  Error Rate  ROC-AUC score  Cohen Kappa  Zero-One Loss  \n",
              "0    0.62      0.53        0.55           0.42         -0.1           0.55  "
            ],
            "text/html": [
              "\n",
              "  <div id=\"df-a9056434-78bd-4199-bb28-85c72ad0fe25\">\n",
              "    <div class=\"colab-df-container\">\n",
              "      <div>\n",
              "<style scoped>\n",
              "    .dataframe tbody tr th:only-of-type {\n",
              "        vertical-align: middle;\n",
              "    }\n",
              "\n",
              "    .dataframe tbody tr th {\n",
              "        vertical-align: top;\n",
              "    }\n",
              "\n",
              "    .dataframe thead th {\n",
              "        text-align: right;\n",
              "    }\n",
              "</style>\n",
              "<table border=\"1\" class=\"dataframe\">\n",
              "  <thead>\n",
              "    <tr style=\"text-align: right;\">\n",
              "      <th></th>\n",
              "      <th>Augmented</th>\n",
              "      <th>Test_acc</th>\n",
              "      <th>Training_acc</th>\n",
              "      <th>Val_acc</th>\n",
              "      <th>Num_params</th>\n",
              "      <th>Accuracy</th>\n",
              "      <th>Precision</th>\n",
              "      <th>Recall</th>\n",
              "      <th>F1_score</th>\n",
              "      <th>Error Rate</th>\n",
              "      <th>ROC-AUC score</th>\n",
              "      <th>Cohen Kappa</th>\n",
              "      <th>Zero-One Loss</th>\n",
              "    </tr>\n",
              "  </thead>\n",
              "  <tbody>\n",
              "    <tr>\n",
              "      <th>0</th>\n",
              "      <td>YES</td>\n",
              "      <td>0.7</td>\n",
              "      <td>0.63</td>\n",
              "      <td>0.73</td>\n",
              "      <td>7,992,802</td>\n",
              "      <td>0.45</td>\n",
              "      <td>0.47</td>\n",
              "      <td>0.62</td>\n",
              "      <td>0.53</td>\n",
              "      <td>0.55</td>\n",
              "      <td>0.42</td>\n",
              "      <td>-0.1</td>\n",
              "      <td>0.55</td>\n",
              "    </tr>\n",
              "  </tbody>\n",
              "</table>\n",
              "</div>\n",
              "      <button class=\"colab-df-convert\" onclick=\"convertToInteractive('df-a9056434-78bd-4199-bb28-85c72ad0fe25')\"\n",
              "              title=\"Convert this dataframe to an interactive table.\"\n",
              "              style=\"display:none;\">\n",
              "        \n",
              "  <svg xmlns=\"http://www.w3.org/2000/svg\" height=\"24px\"viewBox=\"0 0 24 24\"\n",
              "       width=\"24px\">\n",
              "    <path d=\"M0 0h24v24H0V0z\" fill=\"none\"/>\n",
              "    <path d=\"M18.56 5.44l.94 2.06.94-2.06 2.06-.94-2.06-.94-.94-2.06-.94 2.06-2.06.94zm-11 1L8.5 8.5l.94-2.06 2.06-.94-2.06-.94L8.5 2.5l-.94 2.06-2.06.94zm10 10l.94 2.06.94-2.06 2.06-.94-2.06-.94-.94-2.06-.94 2.06-2.06.94z\"/><path d=\"M17.41 7.96l-1.37-1.37c-.4-.4-.92-.59-1.43-.59-.52 0-1.04.2-1.43.59L10.3 9.45l-7.72 7.72c-.78.78-.78 2.05 0 2.83L4 21.41c.39.39.9.59 1.41.59.51 0 1.02-.2 1.41-.59l7.78-7.78 2.81-2.81c.8-.78.8-2.07 0-2.86zM5.41 20L4 18.59l7.72-7.72 1.47 1.35L5.41 20z\"/>\n",
              "  </svg>\n",
              "      </button>\n",
              "      \n",
              "  <style>\n",
              "    .colab-df-container {\n",
              "      display:flex;\n",
              "      flex-wrap:wrap;\n",
              "      gap: 12px;\n",
              "    }\n",
              "\n",
              "    .colab-df-convert {\n",
              "      background-color: #E8F0FE;\n",
              "      border: none;\n",
              "      border-radius: 50%;\n",
              "      cursor: pointer;\n",
              "      display: none;\n",
              "      fill: #1967D2;\n",
              "      height: 32px;\n",
              "      padding: 0 0 0 0;\n",
              "      width: 32px;\n",
              "    }\n",
              "\n",
              "    .colab-df-convert:hover {\n",
              "      background-color: #E2EBFA;\n",
              "      box-shadow: 0px 1px 2px rgba(60, 64, 67, 0.3), 0px 1px 3px 1px rgba(60, 64, 67, 0.15);\n",
              "      fill: #174EA6;\n",
              "    }\n",
              "\n",
              "    [theme=dark] .colab-df-convert {\n",
              "      background-color: #3B4455;\n",
              "      fill: #D2E3FC;\n",
              "    }\n",
              "\n",
              "    [theme=dark] .colab-df-convert:hover {\n",
              "      background-color: #434B5C;\n",
              "      box-shadow: 0px 1px 3px 1px rgba(0, 0, 0, 0.15);\n",
              "      filter: drop-shadow(0px 1px 2px rgba(0, 0, 0, 0.3));\n",
              "      fill: #FFFFFF;\n",
              "    }\n",
              "  </style>\n",
              "\n",
              "      <script>\n",
              "        const buttonEl =\n",
              "          document.querySelector('#df-a9056434-78bd-4199-bb28-85c72ad0fe25 button.colab-df-convert');\n",
              "        buttonEl.style.display =\n",
              "          google.colab.kernel.accessAllowed ? 'block' : 'none';\n",
              "\n",
              "        async function convertToInteractive(key) {\n",
              "          const element = document.querySelector('#df-a9056434-78bd-4199-bb28-85c72ad0fe25');\n",
              "          const dataTable =\n",
              "            await google.colab.kernel.invokeFunction('convertToInteractive',\n",
              "                                                     [key], {});\n",
              "          if (!dataTable) return;\n",
              "\n",
              "          const docLinkHtml = 'Like what you see? Visit the ' +\n",
              "            '<a target=\"_blank\" href=https://colab.research.google.com/notebooks/data_table.ipynb>data table notebook</a>'\n",
              "            + ' to learn more about interactive tables.';\n",
              "          element.innerHTML = '';\n",
              "          dataTable['output_type'] = 'display_data';\n",
              "          await google.colab.output.renderOutput(dataTable, element);\n",
              "          const docLink = document.createElement('div');\n",
              "          docLink.innerHTML = docLinkHtml;\n",
              "          element.appendChild(docLink);\n",
              "        }\n",
              "      </script>\n",
              "    </div>\n",
              "  </div>\n",
              "  "
            ]
          },
          "metadata": {},
          "execution_count": 26
        }
      ]
    },
    {
      "cell_type": "code",
      "source": [
        "print('best_hps.values:\\n', best_hps.values, '\\n')\n",
        "print(tuner.results_summary(1))   # hyperparameter values of top 10 models\n",
        "print(model.summary())"
      ],
      "metadata": {
        "colab": {
          "base_uri": "https://localhost:8080/"
        },
        "id": "iLO10XxEfjFd",
        "outputId": "dc0b48e1-0390-4821-c602-800854e61fe2"
      },
      "execution_count": 27,
      "outputs": [
        {
          "output_type": "stream",
          "name": "stdout",
          "text": [
            "best_hps.values:\n",
            " {'kernel_size': 2, 'strides': 1, 'pool_size': 3, 'activation': 'selu', 'optimizer': 'rmsprop', 'filters_1': 64, 'dense_units': 32, 'learning_rate': 0.0027550606600036205, 'dropout_rate': 0.5, 'reduction_type': 'max_pooling2d', 'input_units': 32, 'n_layers': 2, 'conv2d_0_units': 96, 'dropout': False, 'conv2d_1_units': 128} \n",
            "\n",
            "Results summary\n",
            "Results in hj_dir/breast_cancer_classification\n",
            "Showing 1 best trials\n",
            "<keras_tuner.engine.objective.Objective object at 0x7f2d465d03d0>\n",
            "Trial summary\n",
            "Hyperparameters:\n",
            "kernel_size: 2\n",
            "strides: 1\n",
            "pool_size: 3\n",
            "activation: selu\n",
            "optimizer: rmsprop\n",
            "filters_1: 64\n",
            "dense_units: 32\n",
            "learning_rate: 0.0027550606600036205\n",
            "dropout_rate: 0.5\n",
            "reduction_type: max_pooling2d\n",
            "input_units: 32\n",
            "n_layers: 2\n",
            "conv2d_0_units: 96\n",
            "dropout: False\n",
            "conv2d_1_units: 128\n",
            "Score: 0.7360405921936035\n",
            "None\n",
            "Model: \"sequential\"\n",
            "_________________________________________________________________\n",
            " Layer (type)                Output Shape              Param #   \n",
            "=================================================================\n",
            " conv2d (Conv2D)             (None, 50, 50, 32)        160       \n",
            "                                                                 \n",
            " max_pooling2d (MaxPooling2D  (None, 48, 48, 32)       0         \n",
            " )                                                               \n",
            "                                                                 \n",
            " conv2d_1 (Conv2D)           (None, 48, 48, 96)        12384     \n",
            "                                                                 \n",
            " max_pooling2d_1 (MaxPooling  (None, 46, 46, 96)       0         \n",
            " 2D)                                                             \n",
            "                                                                 \n",
            " batch_normalization (BatchN  (None, 46, 46, 96)       384       \n",
            " ormalization)                                                   \n",
            "                                                                 \n",
            " conv2d_2 (Conv2D)           (None, 46, 46, 128)       49280     \n",
            "                                                                 \n",
            " max_pooling2d_2 (MaxPooling  (None, 44, 44, 128)      0         \n",
            " 2D)                                                             \n",
            "                                                                 \n",
            " batch_normalization_1 (Batc  (None, 44, 44, 128)      512       \n",
            " hNormalization)                                                 \n",
            "                                                                 \n",
            " flatten (Flatten)           (None, 247808)            0         \n",
            "                                                                 \n",
            " dense (Dense)               (None, 32)                7929888   \n",
            "                                                                 \n",
            " batch_normalization_2 (Batc  (None, 32)               128       \n",
            " hNormalization)                                                 \n",
            "                                                                 \n",
            " dropout (Dropout)           (None, 32)                0         \n",
            "                                                                 \n",
            " dense_1 (Dense)             (None, 2)                 66        \n",
            "                                                                 \n",
            "=================================================================\n",
            "Total params: 7,992,802\n",
            "Trainable params: 7,992,290\n",
            "Non-trainable params: 512\n",
            "_________________________________________________________________\n",
            "None\n"
          ]
        }
      ]
    }
  ]
}