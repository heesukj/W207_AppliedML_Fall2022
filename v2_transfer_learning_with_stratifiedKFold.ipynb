{
  "nbformat": 4,
  "nbformat_minor": 0,
  "metadata": {
    "colab": {
      "provenance": [],
      "include_colab_link": true
    },
    "kernelspec": {
      "name": "python3",
      "display_name": "Python 3"
    },
    "language_info": {
      "name": "python"
    }
  },
  "cells": [
    {
      "cell_type": "markdown",
      "metadata": {
        "id": "view-in-github",
        "colab_type": "text"
      },
      "source": [
        "<a href=\"https://colab.research.google.com/github/heesukjang/W207_AppliedML_Fall2022/blob/main/v2_transfer_learning_with_stratifiedKFold.ipynb\" target=\"_parent\"><img src=\"https://colab.research.google.com/assets/colab-badge.svg\" alt=\"Open In Colab\"/></a>"
      ]
    },
    {
      "cell_type": "code",
      "source": [
        "import pandas as pd\n",
        "import numpy as np\n",
        "import os\n",
        "import random\n",
        "import joblib\n",
        "import glob\n",
        "import random\n",
        "from itertools import product\n",
        "import gc\n",
        "import subprocess\n",
        "import shutil\n",
        "import copy\n",
        "import statistics as st\n",
        "from scipy import stats\n",
        "\n",
        "from imutils import rotate as rotate\n",
        "import cv2\n",
        "import matplotlib.pyplot as plt\n",
        "import seaborn as sns\n",
        "import plotly.express as px\n",
        "import matplotlib.patches as patches\n",
        "from matplotlib.patches import Polygon\n",
        "from sklearn.metrics import confusion_matrix\n",
        "from mlxtend.plotting import plot_confusion_matrix\n",
        "from skimage.color import gray2rgb\n",
        "import skimage.io as skio\n",
        "\n",
        "from sklearn.utils import shuffle\n",
        "from sklearn.decomposition import PCA\n",
        "from sklearn.decomposition import IncrementalPCA\n",
        "from sklearn.model_selection import train_test_split\n",
        "from sklearn.model_selection import StratifiedKFold\n",
        "from sklearn.metrics import roc_auc_score\n",
        "from sklearn.metrics import roc_curve\n",
        "from sklearn.metrics import auc\n",
        "from sklearn.metrics import classification_report\n",
        "from sklearn.model_selection import KFold\n",
        "from sklearn.model_selection import cross_val_score\n",
        "from sklearn.model_selection import cross_val_predict\n",
        "from sklearn.model_selection import StratifiedShuffleSplit\n",
        "from sklearn.model_selection import train_test_split, GridSearchCV\n",
        "\n",
        "from tensorflow.keras.preprocessing.image import array_to_img\n",
        "from tensorflow.keras.preprocessing.image import img_to_array\n",
        "from tensorflow.keras.preprocessing.image import load_img\n",
        "from tensorflow.keras.preprocessing.image import save_img\n",
        "\n",
        "import tensorflow as tf\n",
        "from tensorflow import keras\n",
        "from tensorflow.keras import layers\n",
        "from tensorflow.keras.preprocessing.image import ImageDataGenerator\n",
        "from tensorflow.keras.losses import BinaryCrossentropy, CategoricalCrossentropy\n",
        "#from livelossplot import PlotLossesKeras\n",
        "\n",
        "from tensorflow.keras.layers import Lambda\n",
        "from tensorflow.keras.layers import Multiply\n",
        "# from tensorflow.keras.layers import LSTM\n",
        "from tensorflow.keras.layers import Bidirectional\n",
        "from tensorflow.keras.layers import RandomFlip, RandomZoom, RandomRotation, Conv2D, AveragePooling2D, GlobalAveragePooling2D, MaxPooling2D\n",
        "from tensorflow.keras.layers import AveragePooling2D, Input, Dense, Flatten, Dropout, BatchNormalization, GlobalAveragePooling2D\n",
        "from tensorflow.keras.layers import PReLU, ReLU, LeakyReLU\n",
        "from keras.layers.core import Activation\n",
        "from keras.layers.convolutional import SeparableConv1D\n",
        "from keras.layers.convolutional import SeparableConv2D \n",
        "from tensorflow.keras.optimizers import Adam, SGD, Adadelta, Adagrad, RMSprop\n",
        "\n",
        "from keras.applications.vgg16 import VGG16\n",
        "from keras.applications.vgg19 import VGG19\n",
        "from keras.applications.densenet import *\n",
        "from keras.applications.resnet import ResNet152\n",
        "from keras.applications.nasnet import NASNetMobile\n",
        "from keras.applications.nasnet import NASNetLarge\n",
        "from keras.applications.nasnet import preprocess_input\n",
        "from keras.applications import MobileNetV2\n",
        "from keras.applications.xception import Xception\n",
        "from keras.applications.inception_v3 import *\n",
        "\n",
        "from tensorflow.keras.preprocessing.image import array_to_img, img_to_array, load_img\n",
        "from tensorflow.python.ops.numpy_ops import np_config\n",
        "from keras.callbacks import ModelCheckpoint, EarlyStopping, ReduceLROnPlateau, LearningRateScheduler\n",
        "\n",
        "from keras.models import Model\n",
        "from tensorflow.keras.regularizers import l2\n",
        "from keras.models import load_model\n",
        "from tensorflow.keras.applications import ResNet152V2, VGG16, VGG19\n",
        "\n",
        "tf.get_logger().setLevel('INFO')\n",
        "\n",
        "import cv2 as cv\n",
        "import skimage.io as io\n",
        "\n",
        "import warnings\n",
        "warnings.filterwarnings('ignore')\n",
        "warnings.simplefilter(\"ignore\", category=DeprecationWarning)\n",
        "\n",
        "# Required to read the data from Kaggle\n",
        "from google.colab import drive\n",
        "# drive.mount('/content/gdrive')\n",
        "# os.environ['KAGGLE_CONFIG_DIR'] = \"/content/gdrive/MyDrive/Kaggle\"\n",
        "\n",
        "from google.colab import drive\n",
        "drive.mount('/content/gdrive')"
      ],
      "metadata": {
        "id": "AqvUA0UoCPSd",
        "outputId": "bf74772f-4217-4b71-c6aa-2561ba2cdcef",
        "colab": {
          "base_uri": "https://localhost:8080/"
        }
      },
      "execution_count": 1,
      "outputs": [
        {
          "output_type": "stream",
          "name": "stdout",
          "text": [
            "Mounted at /content/gdrive\n"
          ]
        }
      ]
    },
    {
      "cell_type": "code",
      "source": [
        "!unzip gdrive/MyDrive/Kaggle/CNN_IDC/Dataset.zip\n",
        "\n",
        "val_image_directory = '/content/gdrive/MyDrive/Kaggle/CNN_IDC/Dataset/Validate'\n",
        "train_image_directory = '/content/gdrive/MyDrive/Kaggle/CNN_IDC/Dataset/Train'\n",
        "test_image_directory = '/content/gdrive/MyDrive/Kaggle/CNN_IDC/Dataset/Test'\n",
        "directory_path = '/content/gdrive/MyDrive/Kaggle/CNN_IDC'"
      ],
      "metadata": {
        "id": "IGjHFK98CVLV"
      },
      "execution_count": 2,
      "outputs": []
    },
    {
      "cell_type": "code",
      "source": [
        "Nrandom_state = 1234"
      ],
      "metadata": {
        "id": "m2zN53nHOdbl"
      },
      "execution_count": 3,
      "outputs": []
    },
    {
      "cell_type": "code",
      "source": [
        "def build_pretained_model(model_name):\n",
        "    \"\"\"\n",
        "    This function utilizes transfer learning of a given model.\n",
        "    \"\"\"\n",
        "    tf.random.set_seed(random_state)\n",
        "    np.random.seed(random_state)\n",
        "    tf.keras.backend.clear_session()\n",
        "    input_shape = (image_size, image_size, 3)\n",
        "    if model_name == 'VGG19':\n",
        "        pretrained_model = VGG19(weights = 'imagenet', include_top = False, input_shape = input_shape)\n",
        "    elif model_name == 'DenseNet201':\n",
        "        pretrained_model = tf.keras.applications.densenet.DenseNet201(weights = 'imagenet', include_top = False, input_shape = input_shape)\n",
        "    elif model_name == 'ResNet50':\n",
        "        pretrained_model = tf.keras.applications.resnet50.ResNet50(weights = 'imagenet', include_top = False, input_shape = input_shape)\n",
        "    elif model_name == 'VGG16':\n",
        "        pretrained_model = VGG16(weights = 'imagenet', include_top = False, input_shape = input_shape)\n",
        "    elif model_name == 'EfficientNetB7':\n",
        "        pretrained_model = tf.keras.applications.efficientnet.EfficientNetB7(weights = 'imagenet', include_top = False, input_shape = input_shape)\n",
        "    elif model_name == 'MobileNet':\n",
        "        pretrained_model = tf.keras.applications.MobileNet(weights = 'imagenet', include_top = False, input_shape = input_shape)\n",
        "    elif model_name == 'Xception':\n",
        "        pretrained_model = tf.keras.applications.Xception(weights = 'imagenet', include_top = False, input_shape = input_shape)\n",
        "    elif model_name == 'InceptionV3':\n",
        "        pretrained_model = tf.keras.applications.InceptionV3(weights = 'imagenet', include_top = False, input_shape = input_shape)\n",
        "    return pretrained_model\n"
      ],
      "metadata": {
        "id": "TQpQkoi5N07r"
      },
      "execution_count": 4,
      "outputs": []
    },
    {
      "cell_type": "code",
      "source": [
        "image_size = 96\n",
        "dropout_rate = .5\n",
        "model_name = 'ResNet50'"
      ],
      "metadata": {
        "id": "fufUTTNQOHxq"
      },
      "execution_count": 5,
      "outputs": []
    },
    {
      "cell_type": "code",
      "source": [
        "random_state = 1234\n",
        "\n",
        "pretrained_model = build_pretained_model(model_name = model_name)\n",
        "pretrained_model.trainable = False\n",
        "        \n",
        "# Plug the pre-trained model to custom model\n",
        "print(f\"Plugging in the pretainined model for {model_name} to custom model\")\n",
        "try:\n",
        "    del model\n",
        "except:\n",
        "    None\n",
        "input_shape = (image_size, image_size, 3)\n",
        "inputs = tf.keras.Input(input_shape)\n",
        "m2 = tf.keras.layers.GlobalAveragePooling2D()(pretrained_model(inputs))\n",
        "m2 = tf.keras.layers.Dropout(dropout_rate)(m2)\n",
        "m2 = tf.keras.layers.Dense(512, activation = 'relu')(m2)\n",
        "m2 = tf.keras.layers.BatchNormalization()(m2)\n",
        "m2 = tf.keras.layers.Dropout(dropout_rate)(m2)\n",
        "m2 = tf.keras.layers.Dense(256, activation = 'relu')(m2)\n",
        "m2 = tf.keras.layers.BatchNormalization()(m2)\n",
        "m2 = tf.keras.layers.Dropout(dropout_rate)(m2)\n",
        "m2 = tf.keras.layers.Flatten()(m2)\n",
        "m2 = tf.keras.layers.Dense(1, activation = None)(m2)\n",
        "model = tf.keras.Model(inputs = inputs, outputs = m2)"
      ],
      "metadata": {
        "colab": {
          "base_uri": "https://localhost:8080/"
        },
        "id": "zMJktLhlN52U",
        "outputId": "a072c142-091f-48f9-b0bd-27768a24a2fe"
      },
      "execution_count": 6,
      "outputs": [
        {
          "output_type": "stream",
          "name": "stdout",
          "text": [
            "Downloading data from https://storage.googleapis.com/tensorflow/keras-applications/resnet/resnet50_weights_tf_dim_ordering_tf_kernels_notop.h5\n",
            "94765736/94765736 [==============================] - 0s 0us/step\n",
            "Plugging in the pretainined model for ResNet50 to custom model\n"
          ]
        }
      ]
    },
    {
      "cell_type": "code",
      "source": [
        "tf.keras.utils.plot_model(model)"
      ],
      "metadata": {
        "colab": {
          "base_uri": "https://localhost:8080/",
          "height": 1000
        },
        "id": "1yl8KLZbOqcd",
        "outputId": "ab3b4702-8733-4fcd-b2c7-6feb69a14df9"
      },
      "execution_count": 7,
      "outputs": [
        {
          "output_type": "execute_result",
          "data": {
            "image/png": "[encoded data removed]",
            "text/plain": [
              "<IPython.core.display.Image object>"
            ]
          },
          "metadata": {},
          "execution_count": 7
        }
      ]
    },
    {
      "cell_type": "code",
      "source": [
        "!unzip -o -qq \\*.zip  && rm *.zip\n"
      ],
      "metadata": {
        "id": "AdTOcloCRQU8"
      },
      "execution_count": 8,
      "outputs": []
    },
    {
      "cell_type": "code",
      "source": [
        "!rm -rf image_processing/"
      ],
      "metadata": {
        "id": "dFwV9FlsaApf"
      },
      "execution_count": 9,
      "outputs": []
    },
    {
      "cell_type": "code",
      "source": [
        "!ls -ltr Dataset"
      ],
      "metadata": {
        "colab": {
          "base_uri": "https://localhost:8080/"
        },
        "id": "WjE-qGmqW9qS",
        "outputId": "2df2ff9d-c915-4a0e-e329-3b2fb1c76b57"
      },
      "execution_count": 10,
      "outputs": [
        {
          "output_type": "stream",
          "name": "stdout",
          "text": [
            "total 12\n",
            "drwxr-xr-x 4 root root 4096 Oct  4 01:10 Test\n",
            "drwxr-xr-x 4 root root 4096 Oct  4 01:10 Train\n",
            "drwxr-xr-x 4 root root 4096 Oct  4 01:10 Validate\n"
          ]
        }
      ]
    },
    {
      "cell_type": "code",
      "source": [
        "!ls -ltr Dataset/Train/0|wc -l\n",
        "!ls -ltr Dataset/Train/1|wc -l\n",
        "\n",
        "!ls -ltr Dataset/Test/0|wc -l\n",
        "!ls -ltr Dataset/Test/1|wc -l\n",
        "\n",
        "!ls -ltr Dataset/Validate/0|wc -l\n",
        "!ls -ltr Dataset/Validate/1|wc -l"
      ],
      "metadata": {
        "colab": {
          "base_uri": "https://localhost:8080/"
        },
        "id": "rNK-XNrxXBVl",
        "outputId": "a41d261a-02bd-4c6c-9922-99679175a382"
      },
      "execution_count": 11,
      "outputs": [
        {
          "output_type": "stream",
          "name": "stdout",
          "text": [
            "401\n",
            "401\n",
            "101\n",
            "101\n",
            "101\n",
            "101\n"
          ]
        }
      ]
    },
    {
      "cell_type": "code",
      "source": [
        "# val_image_directory = '/content/Dataset/Validate'\n",
        "# train_image_directory = '/content/Dataset/Train'\n",
        "# test_image_directory = '/content/Dataset/Test'\n",
        "# directory_path = '/content/Dataset'\n",
        "\n",
        "val_image_directory = '/content/gdrive/MyDrive/Kaggle/CNN_IDC/Dataset/Validate'\n",
        "train_image_directory = '/content/gdrive/MyDrive/Kaggle/CNN_IDC/Dataset/Train'\n",
        "test_image_directory = '/content/gdrive/MyDrive/Kaggle/CNN_IDC/Dataset/Test'\n",
        "directory_path = '/content/gdrive/MyDrive/Kaggle/CNN_IDC'\n",
        "\n",
        "tgt_directory_path = '/content/image_processing'\n",
        "tgt_train_positive_image_path = '/content/image_processing/train/positive/'\n",
        "tgt_train_negative_image_path = '/content/image_processing/train/negative/'\n",
        "tgt_val_positive_image_path = '/content/image_processing/val/positive/'\n",
        "tgt_val_negative_image_path = '/content/image_processing/val/negative/'\n",
        "tgt_test_positive_image_path = '/content/image_processing/test/positive/'\n",
        "tgt_test_negative_image_path = '/content/image_processing/test/negative/'\n",
        "\n",
        "tgt_path_list = [tgt_train_positive_image_path, tgt_train_negative_image_path,\n",
        "                 tgt_val_positive_image_path, tgt_val_negative_image_path,\n",
        "                 tgt_test_positive_image_path, tgt_test_negative_image_path\n",
        "                ]"
      ],
      "metadata": {
        "id": "UATtHsgNSRqG"
      },
      "execution_count": 12,
      "outputs": []
    },
    {
      "cell_type": "code",
      "source": [
        "train_positive_images_path = [train_image_directory + '/' +  dir + '/' for dir in os.listdir(train_image_directory) if dir != '.DS_Store'][0]\n",
        "train_negative_images_path = [train_image_directory + '/' +  dir + '/' for dir in os.listdir(train_image_directory) if dir != '.DS_Store'][1]\n",
        "\n",
        "test_positive_images_path = [test_image_directory + '/' +  dir + '/' for dir in os.listdir(test_image_directory) if dir != '.DS_Store'][0]\n",
        "test_negative_images_path = [test_image_directory + '/' +  dir + '/' for dir in os.listdir(test_image_directory) if dir != '.DS_Store'][1]\n",
        "\n",
        "val_positive_images_path = [val_image_directory + '/' +  dir + '/' for dir in os.listdir(val_image_directory) if dir != '.DS_Store'][0]\n",
        "val_negative_images_path = [val_image_directory + '/' +  dir + '/' for dir in os.listdir(val_image_directory) if dir != '.DS_Store'][1]"
      ],
      "metadata": {
        "id": "dh1GbkYSTXYy"
      },
      "execution_count": 13,
      "outputs": []
    },
    {
      "cell_type": "code",
      "source": [
        "train_positive_images_list = [train_positive_images_path + file for file in list(os.walk(train_positive_images_path))[0][2] if file[0] != '.']\n",
        "train_negative_images_list = [train_negative_images_path + file for file in list(os.walk(train_negative_images_path))[0][2] if file[0] != '.']\n",
        "\n",
        "test_positive_images_list = [test_positive_images_path + file for file in list(os.walk(test_positive_images_path))[0][2] if file[0] != '.']\n",
        "test_negative_images_list = [test_negative_images_path + file for file in list(os.walk(test_negative_images_path))[0][2] if file[0] != '.']\n",
        "\n",
        "val_positive_images_list = [val_positive_images_path + file for file in list(os.walk(val_positive_images_path))[0][2] if file[0] != '.']\n",
        "val_negative_images_list = [val_negative_images_path + file for file in list(os.walk(val_negative_images_path))[0][2] if file[0] != '.']"
      ],
      "metadata": {
        "id": "zbL0x9QHShXm"
      },
      "execution_count": 14,
      "outputs": []
    },
    {
      "cell_type": "code",
      "source": [
        "len(train_positive_images_list + train_negative_images_list + test_positive_images_list + test_negative_images_list + val_positive_images_list + val_negative_images_list)"
      ],
      "metadata": {
        "colab": {
          "base_uri": "https://localhost:8080/"
        },
        "id": "BmVWCg1geoxB",
        "outputId": "fe2e1792-169c-420e-ebb3-f83189f24e3a"
      },
      "execution_count": 15,
      "outputs": [
        {
          "output_type": "execute_result",
          "data": {
            "text/plain": [
              "1200"
            ]
          },
          "metadata": {},
          "execution_count": 15
        }
      ]
    },
    {
      "cell_type": "code",
      "source": [
        "len(train_positive_images_list), len(train_negative_images_list), len(test_positive_images_list), len(test_negative_images_list), len(val_positive_images_list), len(val_negative_images_list)"
      ],
      "metadata": {
        "colab": {
          "base_uri": "https://localhost:8080/"
        },
        "id": "XNjz53EpXpb-",
        "outputId": "f572b6b1-a469-4de1-e48a-8b490d63743c"
      },
      "execution_count": 16,
      "outputs": [
        {
          "output_type": "execute_result",
          "data": {
            "text/plain": [
              "(400, 400, 100, 100, 100, 100)"
            ]
          },
          "metadata": {},
          "execution_count": 16
        }
      ]
    },
    {
      "cell_type": "code",
      "source": [
        "test_img = load_img(train_positive_images_list[0], color_mode =\"grayscale\")\n",
        "test_img_arry = img_to_array(test_img)\n",
        "print(type(test_img))\n",
        "print(test_img.format)\n",
        "print(test_img.mode)\n",
        "print(test_img.size)\n",
        "print(test_img.getbands())\n",
        "print(test_img_arry.shape)\n",
        "print(\"****\")\n",
        "test_img1 = load_img(train_positive_images_list[0])\n",
        "test_img1_arry = img_to_array(test_img1)\n",
        "print(test_img1_arry.shape)\n",
        "print(test_img1.getbands())"
      ],
      "metadata": {
        "colab": {
          "base_uri": "https://localhost:8080/"
        },
        "id": "V_g0AF4Xd-LJ",
        "outputId": "296b7f45-faa3-4f42-87be-8a1b6b3b9ac6"
      },
      "execution_count": 17,
      "outputs": [
        {
          "output_type": "stream",
          "name": "stdout",
          "text": [
            "<class 'PIL.Image.Image'>\n",
            "None\n",
            "L\n",
            "(50, 50)\n",
            "('L',)\n",
            "(50, 50, 1)\n",
            "****\n",
            "(50, 50, 3)\n",
            "('R', 'G', 'B')\n"
          ]
        }
      ]
    },
    {
      "cell_type": "code",
      "source": [
        "from google.colab.patches import cv2_imshow\n",
        "\n",
        "test_img = load_img(train_positive_images_list[0], color_mode =\"grayscale\")\n",
        "test_img_arry = img_to_array(test_img_arry)\n",
        "print(\"original****\")\n",
        "cv2_imshow(test_img_arry)\n",
        "\n",
        "hflip_img_gs = cv2.flip(test_img_arry, 1)\n",
        "vflip_img_gs = cv2.flip(test_img_arry, 0)\n",
        "print(\"vflip****\")\n",
        "cv2_imshow(vflip_img_gs)\n",
        "print(\"hflip****\")\n",
        "cv2_imshow(hflip_img_gs)\n",
        "\n",
        "angle = int(random.uniform(-90, 90))\n",
        "h, w = test_img_arry.shape[:2]\n",
        "M = cv2.getRotationMatrix2D((int(w/2), int(h/2)), angle, 1)\n",
        "rotated_img_gs = cv2.warpAffine(test_img_arry, M, (w, h))\n",
        "rotated_img_gs = img_to_array(rotated_img_gs)\n",
        "print(\"rot90****\")\n",
        "cv2_imshow(rotated_img_gs)\n",
        "\n",
        "angle = int(random.uniform(-45, 45))\n",
        "h, w = test_img_arry.shape[:2]\n",
        "M = cv2.getRotationMatrix2D((int(w/2), int(h/2)), angle, 1)\n",
        "rotated_img_gs = cv2.warpAffine(test_img_arry, M, (w, h))\n",
        "rotated_img_gs = img_to_array(rotated_img_gs)\n",
        "print(\"rot45****\")\n",
        "cv2_imshow(rotated_img_gs)\n",
        "\n",
        "angle = int(random.uniform(-180, 180))\n",
        "h, w = test_img_arry.shape[:2]\n",
        "M = cv2.getRotationMatrix2D((int(w/2), int(h/2)), angle, 1)\n",
        "rotated_img_gs = cv2.warpAffine(test_img_arry, M, (w, h))\n",
        "rotated_img_gs = img_to_array(rotated_img_gs)\n",
        "print(\"rot180****\")\n",
        "cv2_imshow(rotated_img_gs)\n",
        "\n",
        "# rotate ccw\n",
        "out=cv2.transpose(test_img_arry)\n",
        "out=cv2.flip(out,flipCode=0)\n",
        "rotated_img_gs = img_to_array(out)\n",
        "print(\"90ccwrot****\")\n",
        "cv2_imshow(out)\n",
        "\n",
        "out=cv2.transpose(test_img_arry)\n",
        "out=cv2.flip(out,flipCode=1)\n",
        "rotated_img_gs = img_to_array(out)\n",
        "print(\"90rot****\")\n",
        "cv2_imshow(out)\n"
      ],
      "metadata": {
        "colab": {
          "base_uri": "https://localhost:8080/",
          "height": 556
        },
        "id": "TCVsAcTIzjXG",
        "outputId": "fa4b4357-d50a-45a9-ecff-5ffc1b5375ed"
      },
      "execution_count": 18,
      "outputs": [
        {
          "output_type": "stream",
          "name": "stdout",
          "text": [
            "original****\n"
          ]
        },
        {
          "output_type": "display_data",
          "data": {
            "text/plain": [
              "<PIL.Image.Image image mode=RGB size=50x50 at 0x7F56727BB350>"
            ],
            "image/png": "[encoded data removed]"
          },
          "metadata": {}
        },
        {
          "output_type": "stream",
          "name": "stdout",
          "text": [
            "vflip****\n"
          ]
        },
        {
          "output_type": "display_data",
          "data": {
            "text/plain": [
              "<PIL.Image.Image image mode=L size=50x50 at 0x7F56727BB450>"
            ],
            "image/png": "[encoded data removed]"
          },
          "metadata": {}
        },
        {
          "output_type": "stream",
          "name": "stdout",
          "text": [
            "hflip****\n"
          ]
        },
        {
          "output_type": "display_data",
          "data": {
            "text/plain": [
              "<PIL.Image.Image image mode=L size=50x50 at 0x7F56727BB350>"
            ],
            "image/png": "[encoded data removed]"
          },
          "metadata": {}
        },
        {
          "output_type": "stream",
          "name": "stdout",
          "text": [
            "rot90****\n"
          ]
        },
        {
          "output_type": "display_data",
          "data": {
            "text/plain": [
              "<PIL.Image.Image image mode=RGB size=50x50 at 0x7F567285D210>"
            ],
            "image/png": "[encoded data removed]"
          },
          "metadata": {}
        },
        {
          "output_type": "stream",
          "name": "stdout",
          "text": [
            "rot45****\n"
          ]
        },
        {
          "output_type": "display_data",
          "data": {
            "text/plain": [
              "<PIL.Image.Image image mode=RGB size=50x50 at 0x7F567285D510>"
            ],
            "image/png": "[encoded data removed]"
          },
          "metadata": {}
        },
        {
          "output_type": "stream",
          "name": "stdout",
          "text": [
            "rot180****\n"
          ]
        },
        {
          "output_type": "display_data",
          "data": {
            "text/plain": [
              "<PIL.Image.Image image mode=RGB size=50x50 at 0x7F567285D8D0>"
            ],
            "image/png": "[encoded data removed]"
          },
          "metadata": {}
        },
        {
          "output_type": "stream",
          "name": "stdout",
          "text": [
            "90ccwrot****\n"
          ]
        },
        {
          "output_type": "display_data",
          "data": {
            "text/plain": [
              "<PIL.Image.Image image mode=L size=50x50 at 0x7F567285D410>"
            ],
            "image/png": "[encoded data removed]"
          },
          "metadata": {}
        },
        {
          "output_type": "stream",
          "name": "stdout",
          "text": [
            "90rot****\n"
          ]
        },
        {
          "output_type": "display_data",
          "data": {
            "text/plain": [
              "<PIL.Image.Image image mode=L size=50x50 at 0x7F567285D1D0>"
            ],
            "image/png": "[encoded data removed]"
          },
          "metadata": {}
        }
      ]
    },
    {
      "cell_type": "code",
      "source": [
        "resized = cv2.resize(test_img_arry, (224, 224), interpolation = cv2.INTER_AREA) \n",
        "print('Resized Dimensions : ',resized.shape) \n",
        "cv2_imshow(resized)"
      ],
      "metadata": {
        "colab": {
          "base_uri": "https://localhost:8080/",
          "height": 258
        },
        "id": "5I6GPlMm_6GR",
        "outputId": "b422a7c1-364c-43d9-88ac-3a874cd38ffa"
      },
      "execution_count": 19,
      "outputs": [
        {
          "output_type": "stream",
          "name": "stdout",
          "text": [
            "Resized Dimensions :  (224, 224)\n"
          ]
        },
        {
          "output_type": "display_data",
          "data": {
            "text/plain": [
              "<PIL.Image.Image image mode=L size=224x224 at 0x7F56727B5090>"
            ],
            "image/png": "[encoded data removed]"
          },
          "metadata": {}
        }
      ]
    },
    {
      "cell_type": "code",
      "source": [
        "odd_file_list = []\n",
        "def find_odd_shaped_files(file_list, file_size = 50):\n",
        "    for file_name in file_list:\n",
        "        test_img = load_img(file_name, color_mode =\"grayscale\")\n",
        "        test_img_arry = img_to_array(test_img)\n",
        "        if test_img_arry.shape[0] != file_size or test_img_arry.shape[1] != file_size:\n",
        "            odd_file_list.append(file_name)"
      ],
      "metadata": {
        "id": "ksYFBFjrdbFK"
      },
      "execution_count": 20,
      "outputs": []
    },
    {
      "cell_type": "code",
      "source": [
        "find_odd_shaped_files(train_positive_images_list + train_negative_images_list + test_positive_images_list + test_negative_images_list + val_positive_images_list + val_negative_images_list)"
      ],
      "metadata": {
        "id": "BewtIomPefkn"
      },
      "execution_count": 21,
      "outputs": []
    },
    {
      "cell_type": "code",
      "source": [
        "odd_file_list"
      ],
      "metadata": {
        "colab": {
          "base_uri": "https://localhost:8080/"
        },
        "id": "zcBUXUXqe6Xv",
        "outputId": "3136300a-8545-415c-c01b-278a9781637a"
      },
      "execution_count": 22,
      "outputs": [
        {
          "output_type": "execute_result",
          "data": {
            "text/plain": [
              "['/content/Dataset/Train/0/9347_idx5_x2101_y801_class0.png',\n",
              " '/content/Dataset/Train/0/12954_idx5_x1651_y2951_class0.png',\n",
              " '/content/Dataset/Train/0/13106_idx5_x1_y2951_class0.png',\n",
              " '/content/Dataset/Test/0/13404_idx5_x1101_y2901_class0.png',\n",
              " '/content/Dataset/Validate/0/9320_idx5_x801_y2951_class0.png',\n",
              " '/content/Dataset/Validate/0/12931_idx5_x1901_y2151_class0.png',\n",
              " '/content/Dataset/Validate/0/13694_idx5_x1551_y2801_class0.png']"
            ]
          },
          "metadata": {},
          "execution_count": 22
        }
      ]
    },
    {
      "cell_type": "code",
      "source": [
        "train_negative_images_list[:5]"
      ],
      "metadata": {
        "colab": {
          "base_uri": "https://localhost:8080/"
        },
        "id": "oVtUbzBwSkOx",
        "outputId": "a8ec25a3-a3a8-4c2f-de6f-8d9526c8acf1"
      },
      "execution_count": 23,
      "outputs": [
        {
          "output_type": "execute_result",
          "data": {
            "text/plain": [
              "['/content/Dataset/Train/0/10291_idx5_x3251_y401_class0.png',\n",
              " '/content/Dataset/Train/0/9078_idx5_x2201_y2001_class0.png',\n",
              " '/content/Dataset/Train/0/9176_idx5_x701_y2101_class0.png',\n",
              " '/content/Dataset/Train/0/8956_idx5_x1901_y1051_class0.png',\n",
              " '/content/Dataset/Train/0/15903_idx5_x551_y1501_class0.png']"
            ]
          },
          "metadata": {},
          "execution_count": 23
        }
      ]
    },
    {
      "cell_type": "code",
      "source": [
        "train_positive_images_list[0].split(\"/\")[-1], train_positive_images_list[0][:train_positive_images_list[0].rfind(\"/\") + 1]"
      ],
      "metadata": {
        "colab": {
          "base_uri": "https://localhost:8080/"
        },
        "id": "2BcU0Mx5ShaC",
        "outputId": "8a581e77-4691-42ee-ccbf-540310f2e156"
      },
      "execution_count": 24,
      "outputs": [
        {
          "output_type": "execute_result",
          "data": {
            "text/plain": [
              "('12817_idx5_x1801_y901_class1.png', '/content/Dataset/Train/1/')"
            ]
          },
          "metadata": {},
          "execution_count": 24
        }
      ]
    },
    {
      "cell_type": "code",
      "source": [
        "image_file_extension = '.png'\n",
        "root_dir = 'image_processing'\n",
        "\n",
        "train_file_positive_gs_list = []\n",
        "train_file_negative_gs_list = []\n",
        "\n",
        "val_file_positive_gs_list = []\n",
        "val_file_negative_gs_list = []\n",
        "\n",
        "test_file_positive_gs_list = []\n",
        "test_file_negative_gs_list = []"
      ],
      "metadata": {
        "id": "2ShZ66ddXu_H"
      },
      "execution_count": 25,
      "outputs": []
    },
    {
      "cell_type": "code",
      "source": [
        "!rm -rf image_processing"
      ],
      "metadata": {
        "id": "MvNu2SfA9Kbi"
      },
      "execution_count": 26,
      "outputs": []
    },
    {
      "cell_type": "code",
      "source": [
        "os.makedirs(f'{root_dir}', exist_ok = True)\n",
        "for dir in ['train', 'val', 'test']:\n",
        "    for sub_dir in ['positive', 'negative']:\n",
        "        os.makedirs(f'{root_dir}/{dir}/{sub_dir}', exist_ok=True)"
      ],
      "metadata": {
        "id": "NuLyO5-kX9RL"
      },
      "execution_count": 27,
      "outputs": []
    },
    {
      "cell_type": "code",
      "source": [
        "def create_gs_files(file_list, dest_dir, ind):\n",
        "    #print(file_list, dest_dir, ind)\n",
        "    for image_file in file_list:\n",
        "        #print(image_file)\n",
        "        if image_file[0] == '.' or image_file in odd_file_list:\n",
        "            continue\n",
        "        img_gs = load_img(image_file, color_mode = \"grayscale\")\n",
        "        img_array_gs = img_to_array(img_gs)\n",
        "        #print(\"a\")\n",
        "        #img_array_gs = cv2.resize(img_array_gs, (224, 224), interpolation = cv2.INTER_AREA)\n",
        "        \n",
        "        file_name = image_file.split(\"/\")[-1]\n",
        "        save_img(dest_dir + file_name.split(\".\")[0] + '_gs' + image_file_extension, img_array_gs)\n",
        "        if ind == 1:\n",
        "            train_file_positive_gs_list.append(dest_dir + file_name.split(\".\")[0] + '_gs' + image_file_extension)\n",
        "            \n",
        "            hflip_img_gs = cv2.flip(img_array_gs, 1)\n",
        "            img_array_hflip_gs = img_to_array(hflip_img_gs)\n",
        "            save_img(dest_dir + file_name.split(\".\")[0] + '_hflip_gs' + image_file_extension, img_array_hflip_gs)\n",
        "            train_file_positive_gs_list.append(dest_dir + file_name.split(\".\")[0] + '_hflip_gs' + image_file_extension)\n",
        "            #print(\"b\")\n",
        "\n",
        "            vflip_img_gs = cv2.flip(img_array_gs, 0)\n",
        "            img_array_vflip_gs = img_to_array(vflip_img_gs)\n",
        "            save_img(dest_dir + file_name.split(\".\")[0] + '_vflip_gs' + image_file_extension, img_array_vflip_gs)\n",
        "            train_file_positive_gs_list.append(dest_dir + file_name.split(\".\")[0] + '_vflip_gs' + image_file_extension)\n",
        "            #print(\"c\")\n",
        "            '''\n",
        "            angle = int(random.uniform(-90, 90))\n",
        "            h, w = img_array_gs.shape[:2]\n",
        "            M = cv2.getRotationMatrix2D((int(w/2), int(h/2)), angle, 1)\n",
        "            rotated_img_gs = cv2.warpAffine(img_array_gs, M, (w, h))\n",
        "            img_array_rotated_gs = img_to_array(rotated_img_gs)\n",
        "            save_img(dest_dir + file_name.split(\".\")[0] + '_90rotated_gs' + image_file_extension, img_array_rotated_gs)\n",
        "            train_file_positive_gs_list.append(dest_dir + file_name.split(\".\")[0] + '_90rotated_gs' + image_file_extension)\n",
        "\n",
        "            angle = int(random.uniform(-279, 270))\n",
        "            h, w = img_array_gs.shape[:2]\n",
        "            M = cv2.getRotationMatrix2D((int(w/2), int(h/2)), angle, 1)\n",
        "            rotated_img_gs = cv2.warpAffine(img_array_gs, M, (w, h))\n",
        "            img_array_rotated_gs = img_to_array(rotated_img_gs)\n",
        "            save_img(dest_dir + file_name.split(\".\")[0] + '_270rotated_gs' + image_file_extension, img_array_rotated_gs)\n",
        "            train_file_positive_gs_list.append(dest_dir + file_name.split(\".\")[0] + '_270rotated_gs' + image_file_extension)\n",
        "            \n",
        "            img_90rot_gs = cv2.rotate(img_gs, cv2.cv2.ROTATE_90_CLOCKWISE)\n",
        "            img_array_90rot_gs = img_to_array(img_90rot_gs)\n",
        "            save_img(dest_dir + file_name.split(\".\")[0] + '_90rot_gs' + image_file_extension, img_array_90rot_gs)\n",
        "            train_file_positive_gs_list.append(dest_dir + file_name.split(\".\")[0] + '_90rot_gs' + image_file_extension)\n",
        "            \n",
        "            img_180rot_gs = cv2.rotate(img_gs, cv2.cv2.ROTATE_180_CLOCKWISE)\n",
        "            img_array_180rot_gs = img_to_array(img_180rot_gs)\n",
        "            save_img(dest_dir + file_name.split(\".\")[0] + '_180rot_gs' + image_file_extension, img_array_180rot_gs)\n",
        "            train_file_positive_gs_list.append(dest_dir + file_name.split(\".\")[0] + '_180rot_gs' + image_file_extension)\n",
        "\n",
        "            img_270rot_gs = cv2.rotate(img_gs, cv2.cv2.ROTATE_270_CLOCKWISE)\n",
        "            img_array_270rot_gs = img_to_array(img_90rot_gs)\n",
        "            save_img(dest_dir + file_name.split(\".\")[0] + '_90rot_gs' + image_file_extension, img_array_270rot_gs)\n",
        "            train_file_positive_gs_list.append(dest_dir + file_name.split(\".\")[0] + '_90rot_gs' + image_file_extension)\n",
        "            '''\n",
        "            img_gs = cv2.imread(image_file, 0)\n",
        "            #img_array_gs = img_to_array(img_gs)\n",
        "            img_array_enhanced_gs = cv2.equalizeHist(img_gs)\n",
        "            img_array_enhanced_gs = img_to_array(img_array_enhanced_gs)\n",
        "            #img_array_enhanced_gs = cv2.resize(img_array_enhanced_gs, (224, 224), interpolation = cv2.INTER_AREA)\n",
        "            save_img(dest_dir + file_name.split(\".\")[0] + '_enhance_gs' + image_file_extension, img_array_enhanced_gs)\n",
        "            train_file_positive_gs_list.append(dest_dir + file_name.split(\".\")[0] + '_enhanced_gs' + image_file_extension)\n",
        "            #print(\"d\")\n",
        "\n",
        "            img_ccw90rot_gs = cv2.transpose(img_array_gs)\n",
        "            img_ccw90rot_gs = cv2.flip(img_ccw90rot_gs, flipCode = 0)\n",
        "            rotatedccw90_img_gs = img_to_array(img_ccw90rot_gs)\n",
        "            save_img(dest_dir + file_name.split(\".\")[0] + '_ccw90rot_gs' + image_file_extension, rotatedccw90_img_gs)\n",
        "            train_file_positive_gs_list.append(dest_dir + file_name.split(\".\")[0] + '_ccw90rot_gs' + image_file_extension)\n",
        "            #print(\"e\")\n",
        "\n",
        "            img_90rot_gs = cv2.transpose(img_array_gs)\n",
        "            img_90rot_gs = cv2.flip(img_90rot_gs, flipCode = 1)\n",
        "            rotated90_img_gs = img_to_array(img_90rot_gs)\n",
        "            save_img(dest_dir + file_name.split(\".\")[0] + '_90rot_gs' + image_file_extension, rotated90_img_gs)\n",
        "            train_file_positive_gs_list.append(dest_dir + file_name.split(\".\")[0] + '_90rot_gs' + image_file_extension)\n",
        "            #print(\"f\")\n",
        "\n",
        "        elif ind == 2:\n",
        "            train_file_negative_gs_list.append(dest_dir + file_name.split(\".\")[0] + '_gs' + image_file_extension)\n",
        "            hflip_img_gs = cv2.flip(img_array_gs, 1)\n",
        "            img_array_hflip_gs = img_to_array(hflip_img_gs)\n",
        "            save_img(dest_dir + file_name.split(\".\")[0] + '_hflip_gs' + image_file_extension, img_array_hflip_gs)\n",
        "            train_file_negative_gs_list.append(dest_dir + file_name.split(\".\")[0] + '_hflip_gs' + image_file_extension)\n",
        "            #print(\"b\")\n",
        "\n",
        "            vflip_img_gs = cv2.flip(img_array_gs, 0)\n",
        "            img_array_vflip_gs = img_to_array(vflip_img_gs)\n",
        "            save_img(dest_dir + file_name.split(\".\")[0] + '_vflip_gs' + image_file_extension, img_array_vflip_gs)\n",
        "            train_file_negative_gs_list.append(dest_dir + file_name.split(\".\")[0] + '_vflip_gs' + image_file_extension)\n",
        "            #print(\"c\")\n",
        "            '''\n",
        "            angle = int(random.uniform(-90, 90))\n",
        "            h, w = img_array_gs.shape[:2]\n",
        "            M = cv2.getRotationMatrix2D((int(w/2), int(h/2)), angle, 1)\n",
        "            rotated_img_gs = cv2.warpAffine(img_array_gs, M, (w, h))\n",
        "            img_array_rotated_gs = img_to_array(rotated_img_gs)\n",
        "            save_img(dest_dir + file_name.split(\".\")[0] + '_90rotated_gs' + image_file_extension, img_array_rotated_gs)\n",
        "            train_file_positive_gs_list.append(dest_dir + file_name.split(\".\")[0] + '_90rotated_gs' + image_file_extension)\n",
        "\n",
        "            angle = int(random.uniform(-279, 270))\n",
        "            h, w = img_array_gs.shape[:2]\n",
        "            M = cv2.getRotationMatrix2D((int(w/2), int(h/2)), angle, 1)\n",
        "            rotated_img_gs = cv2.warpAffine(img_array_gs, M, (w, h))\n",
        "            img_array_rotated_gs = img_to_array(rotated_img_gs)\n",
        "            save_img(dest_dir + file_name.split(\".\")[0] + '_270rotated_gs' + image_file_extension, img_array_rotated_gs)\n",
        "            train_file_positive_gs_list.append(dest_dir + file_name.split(\".\")[0] + '_270rotated_gs' + image_file_extension)\n",
        "            \n",
        "            img_90rot_gs = cv2.rotate(img_gs, cv2.cv2.ROTATE_90_CLOCKWISE)\n",
        "            img_array_90rot_gs = img_to_array(img_90rot_gs)\n",
        "            save_img(dest_dir + file_name.split(\".\")[0] + '_90rot_gs' + image_file_extension, img_array_90rot_gs)\n",
        "            train_file_positive_gs_list.append(dest_dir + file_name.split(\".\")[0] + '_90rot_gs' + image_file_extension)\n",
        "            \n",
        "            img_180rot_gs = cv2.rotate(img_gs, cv2.cv2.ROTATE_180_CLOCKWISE)\n",
        "            img_array_180rot_gs = img_to_array(img_180rot_gs)\n",
        "            save_img(dest_dir + file_name.split(\".\")[0] + '_180rot_gs' + image_file_extension, img_array_180rot_gs)\n",
        "            train_file_positive_gs_list.append(dest_dir + file_name.split(\".\")[0] + '_180rot_gs' + image_file_extension)\n",
        "\n",
        "            img_270rot_gs = cv2.rotate(img_gs, cv2.cv2.ROTATE_270_CLOCKWISE)\n",
        "            img_array_270rot_gs = img_to_array(img_90rot_gs)\n",
        "            save_img(dest_dir + file_name.split(\".\")[0] + '_90rot_gs' + image_file_extension, img_array_270rot_gs)\n",
        "            train_file_positive_gs_list.append(dest_dir + file_name.split(\".\")[0] + '_90rot_gs' + image_file_extension)\n",
        "            '''\n",
        "            img_gs = cv2.imread(image_file, 0)\n",
        "            #img_array_gs = img_to_array(img_gs)\n",
        "            img_array_enhanced_gs = cv2.equalizeHist(img_gs)\n",
        "            img_array_enhanced_gs = img_to_array(img_array_enhanced_gs)\n",
        "            #img_array_enhanced_gs = cv2.resize(img_array_enhanced_gs, (224, 224), interpolation = cv2.INTER_AREA)\n",
        "            save_img(dest_dir + file_name.split(\".\")[0] + '_enhance_gs' + image_file_extension, img_array_enhanced_gs)\n",
        "            train_file_negative_gs_list.append(dest_dir + file_name.split(\".\")[0] + '_enhanced_gs' + image_file_extension)\n",
        "            #print(\"d\")\n",
        "\n",
        "            img_ccw90rot_gs = cv2.transpose(img_array_gs)\n",
        "            img_ccw90rot_gs = cv2.flip(img_ccw90rot_gs, flipCode = 0)\n",
        "            rotatedccw90_img_gs = img_to_array(img_ccw90rot_gs)\n",
        "            save_img(dest_dir + file_name.split(\".\")[0] + '_ccw90rot_gs' + image_file_extension, rotatedccw90_img_gs)\n",
        "            train_file_negative_gs_list.append(dest_dir + file_name.split(\".\")[0] + '_ccw90rot_gs' + image_file_extension)\n",
        "            #print(\"e\")\n",
        "\n",
        "            img_90rot_gs = cv2.transpose(img_array_gs)\n",
        "            img_90rot_gs = cv2.flip(img_90rot_gs, flipCode = 1)\n",
        "            rotated90_img_gs = img_to_array(img_90rot_gs)\n",
        "            save_img(dest_dir + file_name.split(\".\")[0] + '_90rot_gs' + image_file_extension, rotated90_img_gs)\n",
        "            train_file_negative_gs_list.append(dest_dir + file_name.split(\".\")[0] + '_90rot_gs' + image_file_extension)\n",
        "            #print(\"f\")\n",
        "        elif ind == 3:\n",
        "            val_file_positive_gs_list.append(dest_dir + file_name.split(\".\")[0] + '_gs' + image_file_extension)\n",
        "        elif ind == 4:\n",
        "            val_file_negative_gs_list.append(dest_dir + file_name.split(\".\")[0] + '_gs' + image_file_extension)\n",
        "        elif ind == 5:\n",
        "            test_file_positive_gs_list.append(dest_dir + file_name.split(\".\")[0] + '_gs' + image_file_extension)\n",
        "        elif ind == 6:\n",
        "            test_file_negative_gs_list.append(dest_dir + file_name.split(\".\")[0] + '_gs' + image_file_extension)\n",
        "                "
      ],
      "metadata": {
        "id": "3-MFsdu1Shc_"
      },
      "execution_count": 28,
      "outputs": []
    },
    {
      "cell_type": "code",
      "source": [
        "len(os.listdir('/content/Dataset/Validate/0'))"
      ],
      "metadata": {
        "colab": {
          "base_uri": "https://localhost:8080/"
        },
        "id": "RRzsJjRdYI-N",
        "outputId": "d50b4f85-b052-441a-fffc-3c30a181e25c"
      },
      "execution_count": 29,
      "outputs": [
        {
          "output_type": "execute_result",
          "data": {
            "text/plain": [
              "101"
            ]
          },
          "metadata": {},
          "execution_count": 29
        }
      ]
    },
    {
      "cell_type": "code",
      "source": [
        "create_gs_files(train_positive_images_list, tgt_train_positive_image_path, 1)\n",
        "print(len(os.listdir('/content/Dataset/Train/1')))\n",
        "print(len(os.listdir(tgt_train_positive_image_path)))\n",
        "create_gs_files(train_negative_images_list, tgt_train_negative_image_path, 2)\n",
        "print(len(os.listdir('/content/Dataset/Train/0')))\n",
        "print(len(os.listdir(tgt_train_negative_image_path)))\n",
        "\n",
        "create_gs_files(val_positive_images_list, tgt_val_positive_image_path, 3)\n",
        "print(len(os.listdir('/content/Dataset/Validate/1')))\n",
        "print(len(os.listdir(tgt_val_positive_image_path)))\n",
        "create_gs_files(val_negative_images_list, tgt_val_negative_image_path, 4)\n",
        "print(len(os.listdir('/content/Dataset/Validate/0')))\n",
        "print(len(os.listdir(tgt_val_negative_image_path)))\n",
        "\n",
        "create_gs_files(test_positive_images_list, tgt_test_positive_image_path, 5)\n",
        "print(len(os.listdir('/content/Dataset/Test/1')))\n",
        "print(len(os.listdir(tgt_test_positive_image_path)))\n",
        "create_gs_files(test_negative_images_list, tgt_test_negative_image_path, 6)\n",
        "print(len(os.listdir('/content/Dataset/Test/0')))\n",
        "print(len(os.listdir(tgt_test_negative_image_path)))"
      ],
      "metadata": {
        "colab": {
          "base_uri": "https://localhost:8080/"
        },
        "id": "Nn5sGtRqURP5",
        "outputId": "94169f70-efd5-4002-8b01-e4c5fdb7e449"
      },
      "execution_count": 30,
      "outputs": [
        {
          "output_type": "stream",
          "name": "stdout",
          "text": [
            "401\n",
            "2400\n",
            "401\n",
            "2382\n",
            "101\n",
            "100\n",
            "101\n",
            "97\n",
            "101\n",
            "100\n",
            "101\n",
            "99\n"
          ]
        }
      ]
    },
    {
      "cell_type": "code",
      "source": [
        "!ls -ltr /content/Dataset/Train/1/*.png|wc -l\n",
        "!ls -ltr /content/Dataset/Train/0/*.png|wc -l"
      ],
      "metadata": {
        "colab": {
          "base_uri": "https://localhost:8080/"
        },
        "id": "X9_PlsJlbDak",
        "outputId": "b1c42636-df23-4717-ab20-7b9f1f52ddcd"
      },
      "execution_count": 31,
      "outputs": [
        {
          "output_type": "stream",
          "name": "stdout",
          "text": [
            "400\n",
            "400\n"
          ]
        }
      ]
    },
    {
      "cell_type": "code",
      "source": [
        "!ls -ltra /content/image_processing/train/positive/*.png|wc -l\n",
        "!ls -ltra /content/image_processing/train/negative/*.png|wc -l"
      ],
      "metadata": {
        "colab": {
          "base_uri": "https://localhost:8080/"
        },
        "id": "I58crwAWUK-E",
        "outputId": "3498e418-9368-45fe-8ed2-82d7ed1fb425"
      },
      "execution_count": 32,
      "outputs": [
        {
          "output_type": "stream",
          "name": "stdout",
          "text": [
            "2400\n",
            "2382\n"
          ]
        }
      ]
    },
    {
      "cell_type": "code",
      "source": [
        "transfer_learning_model_list = ['VGG16', \n",
        "                                'VGG19', \n",
        "                                'DenseNet201', \n",
        "                                'InceptionV3', \n",
        "                                'ResNet50', \n",
        "                                'EfficientNetB7', \n",
        "                                'MobileNet', \n",
        "                                'Xception'\n",
        "                               ]\n",
        "batch_size = 32\n",
        "epochs = 10\n",
        "lr_val = 0.01\n",
        "\n",
        "image_size = 50"
      ],
      "metadata": {
        "id": "urp6UPUGcfgF"
      },
      "execution_count": 33,
      "outputs": []
    },
    {
      "cell_type": "code",
      "source": [
        "def custom_augmentation(np_tensor):\n",
        " \n",
        "    def random_contrast(np_tensor):\n",
        "        return tf.image.random_contrast(np_tensor, 0.5, 2)\n",
        " \n",
        "    def random_hue(np_tensor):\n",
        "        return tf.image.random_hue(np_tensor, 0.5)\n",
        " \n",
        "    def random_saturation(np_tensor):\n",
        "        return tf.image.random_saturation(np_tensor, 0.2, 3)\n",
        " \n",
        "    def gaussian_noise(np_tensor):\n",
        "        mean = 0\n",
        "        # variance: randomly between 1 to 25\n",
        "        var = np.random.randint(1, 26)\n",
        "        # sigma is square root of the variance value\n",
        "        noise = np.random.normal(mean,var**0.5,np_tensor.shape)\n",
        "        return np.clip(np_tensor + noise, 0, 255).astype('int')\n",
        "\n",
        "    augmnted_tensor = random_contrast(np_tensor)\n",
        "    augmnted_tensor = random_hue(augmnted_tensor)\n",
        "    augmnted_tensor = random_saturation(augmnted_tensor)\n",
        "    augmented_tensor = gaussian_noise(augmnted_tensor)\n",
        "  \n",
        "    return np.array(augmnted_tensor)\n",
        "\n",
        "# Train data generator\n",
        "train_datagen = tf.keras.preprocessing.image.ImageDataGenerator(\n",
        "    #featurewise_center            = True, \n",
        "    #featurewise_std_normalization = True,\n",
        "    rescale                       = 1.0/255\n",
        "    \n",
        "    #,horizontal_flip               = True\n",
        "    #,vertical_flip                 = True \n",
        "\n",
        ")\n",
        "\n",
        "# Validation data generator\n",
        "val_datagen = tf.keras.preprocessing.image.ImageDataGenerator(\n",
        "    #featurewise_center            = True, \n",
        "    #featurewise_std_normalization = True\n",
        "    rescale = 1.0/255\n",
        "    )\n",
        "\n",
        "# Test data generator\n",
        "test_datagen = tf.keras.preprocessing.image.ImageDataGenerator(\n",
        "    #featurewise_center            = True, \n",
        "    #featurewise_std_normalization = True\n",
        "    rescale = 1.0/255\n",
        "    )"
      ],
      "metadata": {
        "id": "hH1PhTDtgAHG"
      },
      "execution_count": 34,
      "outputs": []
    },
    {
      "cell_type": "code",
      "source": [
        "model_name = 'MobileNetV2'\n",
        "image_size = 50\n",
        "dropout_rate = .5\n",
        "batch_size = 32\n",
        "lr_val = .001\n",
        "epochs = 10"
      ],
      "metadata": {
        "id": "1LpIbfFrgSF2"
      },
      "execution_count": 35,
      "outputs": []
    },
    {
      "cell_type": "code",
      "source": [
        "from keras.layers.convolutional import SeparableConv2D\n",
        "from keras.layers.core import Activation"
      ],
      "metadata": {
        "id": "i6gnAp0KmMNG"
      },
      "execution_count": 36,
      "outputs": []
    },
    {
      "cell_type": "code",
      "source": [
        "def plot_model_accuracy_and_loss(history, model_name):\n",
        "   \"\"\"\n",
        "   This method plots model training and validation accuracies.\n",
        "   \"\"\"\n",
        "   tf.keras.backend.clear_session()\n",
        "\n",
        "   hist = history.history\n",
        "   x_arr = np.arange(len(hist['loss'])) + 1\n",
        "        \n",
        "   fig = plt.figure(figsize=(12, 4))\n",
        "   ax = fig.add_subplot(1, 2, 1)\n",
        "   ax.plot(x_arr, hist['loss'], '-o', label = 'Train loss')\n",
        "   ax.plot(x_arr, hist['val_loss'], '--<', label = 'Validation loss')\n",
        "   ax.legend(fontsize=15)\n",
        "   ax.set_xlabel('Epoch', size = 15)\n",
        "   ax.set_ylabel('Loss', size = 15)\n",
        "\n",
        "   ax = fig.add_subplot(1, 2, 2)\n",
        "   ax.plot(x_arr, hist['accuracy'], '-o', label = 'Train acc.')\n",
        "   ax.plot(x_arr, hist['val_accuracy'], '--<', label = 'Validation acc.')\n",
        "   ax.legend(fontsize = 15)\n",
        "   ax.set_xlabel('Epoch', size = 15)\n",
        "   ax.set_ylabel('Accuracy', size = 15)\n",
        "   ax.set_ylim(0,1)\n",
        "   plt.title(f\"Training and validation loss and accuracies for model : {model_name}\")\n",
        "   plt.show(block = False)"
      ],
      "metadata": {
        "id": "Kymn8vnZsPc8"
      },
      "execution_count": 37,
      "outputs": []
    },
    {
      "cell_type": "code",
      "source": [
        "# ==================== Pretrained model =================================\n",
        "\n",
        "base_model = VGG16(weights='imagenet', include_top=False, input_shape=(50, 50, 3))\n",
        "\n",
        "# freeze extraction layers\n",
        "base_model.trainable = False\n",
        "\n",
        "# add custom top layers\n",
        "x = base_model.output\n",
        "x = GlobalAveragePooling2D()(x)\n",
        "x = Dropout(0.2)(x)\n",
        "x = Dense(512,activation=\"relu\")(x)\n",
        "x = Dense(512,activation=\"relu\")(x)\n",
        "x = Dropout(0.2)(x)\n",
        "x = Dense(256,activation=\"relu\")(x)\n",
        "predictions = Dense(2, activation='sigmoid')(x)\n",
        "model = Model(inputs=base_model.input, outputs=predictions)\n",
        "model.summary()\n",
        "\n",
        "# ==================== model.compile =====================================\n",
        "\n",
        "from IPython.display import Image\n",
        "tf.keras.utils.plot_model(model, to_file='convnet.png', show_shapes=True,show_layer_names=True)\n",
        "Image(filename='convnet.png') \n",
        "callbacks = [EarlyStopping(monitor='val_loss', patience=5, verbose=1),\n",
        "                ModelCheckpoint('model.hdf5',\n",
        "                                 save_best_only=True)]\n",
        "opt = Adam(learning_rate=0.001)\n",
        "model.compile(\n",
        "  loss='categorical_crossentropy',\n",
        "  optimizer=opt,\n",
        "  metrics=[\n",
        "      tf.keras.metrics.BinaryAccuracy(name='accuracy'),\n",
        "      tf.keras.metrics.Precision(name='precision'),\n",
        "      tf.keras.metrics.Recall(name='recall'),  \n",
        "      tf.keras.metrics.AUC(name='auc')]\n",
        ")\n",
        "\n",
        "# =================== datagen.flow_from_directory =========================\n",
        "\n",
        "batch_size = 64\n",
        "epochs = 20\n",
        "\n",
        "image_processing_train_path = '/content/image_processing/train'\n",
        "image_processing_validation_path = '/content/image_processing/val'\n",
        "image_processing_test_path = '/content/image_processing/test'\n",
        "\n",
        "train_dataset_from_data_generator = train_datagen.flow_from_directory(image_processing_train_path,\n",
        "                                                                     target_size = (image_size, image_size),\n",
        "                                                                     class_mode = 'categorical',\n",
        "                                                                     batch_size = batch_size,\n",
        "                                                                     color_mode = 'rgb',\n",
        "                                                                     shuffle = True,\n",
        "                                                                     seed = random_state\n",
        "                                                                    )\n",
        "validation_dataset_from_data_generator = val_datagen.flow_from_directory(image_processing_validation_path,\n",
        "                                                                 target_size = (image_size, image_size),\n",
        "                                                                 class_mode = 'categorical',\n",
        "                                                                 batch_size = batch_size,\n",
        "                                                                 color_mode = 'rgb',\n",
        "                                                                 shuffle = True,\n",
        "                                                                 seed = random_state\n",
        "                                                                )\n",
        "test_dataset_from_data_generator = test_datagen.flow_from_directory(image_processing_test_path,\n",
        "                                                                   target_size = (image_size, image_size),\n",
        "                                                                   batch_size = batch_size,\n",
        "                                                                   class_mode = 'categorical',\n",
        "                                                                   color_mode = 'rgb',\n",
        "                                                                   shuffle = False,\n",
        "                                                                   seed = random_state\n",
        "                                                                  )\n",
        "# ============== model.fit ================================================\n",
        "\n",
        "history = model.fit(train_dataset_from_data_generator,\n",
        "                    epochs = epochs,\n",
        "                    steps_per_epoch = len(train_dataset_from_data_generator),\n",
        "                    validation_data = validation_dataset_from_data_generator,\n",
        "                    validation_steps = len(validation_dataset_from_data_generator),\n",
        "                    verbose = 1\n",
        "                   )\n",
        "\n",
        "# ============= Model save ================================================\n",
        "\n",
        "print(\"Saving model...\")\n",
        "tf.keras.backend.clear_session()\n",
        "gc.collect() \n",
        "model.save('breast_cancer_detection_' + model_name + '.h5')\n",
        "\n",
        "# ============= Plot loss and accuracy of model: train vs val =============\n",
        "\n",
        "print(f\"Plotting train and validation accuracy and loss for model {model_name}\")\n",
        "plot_model_accuracy_and_loss(history = history, model_name = model_name)\n",
        "\n",
        "\n",
        "# =========== model.predict (transform logits to probabilities) ===========\n",
        "\n",
        "# Model Predict, transform logits to probabilities\n",
        "step_size_test = np.ceil(test_dataset_from_data_generator.n / test_dataset_from_data_generator.batch_size)\n",
        "test_dataset_from_data_generator.reset()\n",
        "pred_logits = model.predict(test_dataset_from_data_generator, steps = step_size_test, verbose = 1)\n",
        "probas_sigmoid = tf.sigmoid(pred_logits)\n",
        "probas_sigmoid = probas_sigmoid.numpy().flatten() * 100\n",
        "predictions_binary = [1 if x > 50.0 else 0 for x in probas_sigmoid]"
      ],
      "metadata": {
        "colab": {
          "base_uri": "https://localhost:8080/"
        },
        "id": "1qD7cKukl08N",
        "outputId": "472300db-4315-41e3-dcb9-c17df7f35cfb"
      },
      "execution_count": null,
      "outputs": [
        {
          "output_type": "stream",
          "name": "stdout",
          "text": [
            "Downloading data from https://storage.googleapis.com/tensorflow/keras-applications/vgg16/vgg16_weights_tf_dim_ordering_tf_kernels_notop.h5\n",
            "58889256/58889256 [==============================] - 1s 0us/step\n",
            "Model: \"model_1\"\n",
            "_________________________________________________________________\n",
            " Layer (type)                Output Shape              Param #   \n",
            "=================================================================\n",
            " input_3 (InputLayer)        [(None, 50, 50, 3)]       0         \n",
            "                                                                 \n",
            " block1_conv1 (Conv2D)       (None, 50, 50, 64)        1792      \n",
            "                                                                 \n",
            " block1_conv2 (Conv2D)       (None, 50, 50, 64)        36928     \n",
            "                                                                 \n",
            " block1_pool (MaxPooling2D)  (None, 25, 25, 64)        0         \n",
            "                                                                 \n",
            " block2_conv1 (Conv2D)       (None, 25, 25, 128)       73856     \n",
            "                                                                 \n",
            " block2_conv2 (Conv2D)       (None, 25, 25, 128)       147584    \n",
            "                                                                 \n",
            " block2_pool (MaxPooling2D)  (None, 12, 12, 128)       0         \n",
            "                                                                 \n",
            " block3_conv1 (Conv2D)       (None, 12, 12, 256)       295168    \n",
            "                                                                 \n",
            " block3_conv2 (Conv2D)       (None, 12, 12, 256)       590080    \n",
            "                                                                 \n",
            " block3_conv3 (Conv2D)       (None, 12, 12, 256)       590080    \n",
            "                                                                 \n",
            " block3_pool (MaxPooling2D)  (None, 6, 6, 256)         0         \n",
            "                                                                 \n",
            " block4_conv1 (Conv2D)       (None, 6, 6, 512)         1180160   \n",
            "                                                                 \n",
            " block4_conv2 (Conv2D)       (None, 6, 6, 512)         2359808   \n",
            "                                                                 \n",
            " block4_conv3 (Conv2D)       (None, 6, 6, 512)         2359808   \n",
            "                                                                 \n",
            " block4_pool (MaxPooling2D)  (None, 3, 3, 512)         0         \n",
            "                                                                 \n",
            " block5_conv1 (Conv2D)       (None, 3, 3, 512)         2359808   \n",
            "                                                                 \n",
            " block5_conv2 (Conv2D)       (None, 3, 3, 512)         2359808   \n",
            "                                                                 \n",
            " block5_conv3 (Conv2D)       (None, 3, 3, 512)         2359808   \n",
            "                                                                 \n",
            " block5_pool (MaxPooling2D)  (None, 1, 1, 512)         0         \n",
            "                                                                 \n",
            " global_average_pooling2d_1   (None, 512)              0         \n",
            " (GlobalAveragePooling2D)                                        \n",
            "                                                                 \n",
            " dropout_3 (Dropout)         (None, 512)               0         \n",
            "                                                                 \n",
            " dense_3 (Dense)             (None, 512)               262656    \n",
            "                                                                 \n",
            " dense_4 (Dense)             (None, 512)               262656    \n",
            "                                                                 \n",
            " dropout_4 (Dropout)         (None, 512)               0         \n",
            "                                                                 \n",
            " dense_5 (Dense)             (None, 256)               131328    \n",
            "                                                                 \n",
            " dense_6 (Dense)             (None, 2)                 514       \n",
            "                                                                 \n",
            "=================================================================\n",
            "Total params: 15,371,842\n",
            "Trainable params: 657,154\n",
            "Non-trainable params: 14,714,688\n",
            "_________________________________________________________________\n",
            "Found 4782 images belonging to 2 classes.\n",
            "Found 197 images belonging to 2 classes.\n",
            "Found 199 images belonging to 2 classes.\n",
            "Epoch 1/20\n",
            "75/75 [==============================] - 132s 2s/step - loss: 0.6247 - accuracy: 0.6427 - precision: 0.7129 - recall: 0.4778 - auc: 0.7102 - val_loss: 0.6498 - val_accuracy: 0.6624 - val_precision: 0.6818 - val_recall: 0.6091 - val_auc: 0.6993\n",
            "Epoch 2/20\n",
            "75/75 [==============================] - 125s 2s/step - loss: 0.5614 - accuracy: 0.7074 - precision: 0.7402 - recall: 0.6393 - auc: 0.7806 - val_loss: 0.6461 - val_accuracy: 0.6168 - val_precision: 0.6264 - val_recall: 0.5787 - val_auc: 0.6885\n",
            "Epoch 3/20\n",
            "75/75 [==============================] - 131s 2s/step - loss: 0.5424 - accuracy: 0.7268 - precision: 0.7524 - recall: 0.6761 - auc: 0.7984 - val_loss: 0.6370 - val_accuracy: 0.6269 - val_precision: 0.6420 - val_recall: 0.5736 - val_auc: 0.6873\n",
            "Epoch 4/20\n",
            " 1/75 [..............................] - ETA: 1:55 - loss: 0.5071 - accuracy: 0.7578 - precision: 0.7797 - recall: 0.7188 - auc: 0.8370"
          ]
        }
      ]
    },
    {
      "cell_type": "code",
      "source": [
        "# test_loss, test_accuracy = model.evaluate(test_dataset_from_data_generator, verbose = 0)\n",
        "# print(test_loss, test_accuracy)\n",
        "\n",
        "# ============== model.evaluate ================================================\n",
        "\n",
        "loss, accuracy, precision, recall, auc = model.evaluate(test_dataset_from_data_generator, verbose = 0)\n",
        "# print(\"loss, accuracy, precision, recall,auc\")\n",
        "perf_metrics = pd.DataFrame({'Loss':loss, 'Accuracy':accuracy, 'Precision':precision, 'Recall':recall, 'ROC-AUC':auc}, index=[0])\n",
        "perf_metrics\n",
        "# print(loss, accuracy, precision, recall,auc)\n",
        "\n",
        "\n",
        "'''\n",
        "from sklearn.metrics import confusion_matrix\n",
        "import seaborn as sns\n",
        "\n",
        "Y_pred = model.predict(X_test)\n",
        "Y_pred_classes = np.argmax(Y_pred,axis = 1) \n",
        "Y_true = np.argmax(y_test,axis = 1) \n",
        "\n",
        "confusion_mtx = confusion_matrix(Y_true, Y_pred_classes) \n",
        "\n",
        "f,ax = plt.subplots(figsize=(8, 8))\n",
        "sns.heatmap(confusion_mtx, annot=True, linewidths=0.01,cmap=\"OrRd\",linecolor=\"black\", fmt= '.1f',ax=ax)\n",
        "plt.xlabel(\"Predicted Label\")\n",
        "plt.ylabel(\"True Label\")\n",
        "plt.title(\"Confusion Matrix\")\n",
        "plt.show()\n",
        "'''"
      ],
      "metadata": {
        "id": "psmiXO36RC5Q"
      },
      "execution_count": null,
      "outputs": []
    },
    {
      "cell_type": "code",
      "source": [
        "base_model = VGG16(weights='imagenet', include_top=False,\n",
        "                            input_shape=(50, 50,3))\n",
        "\n",
        "# freeze extraction layers\n",
        "base_model.trainable = False\n",
        "\n",
        "# add custom top layers\n",
        "x = base_model.output\n",
        "x = GlobalAveragePooling2D()(x)\n",
        "x = Dropout(0.2)(x)\n",
        "x = Dense(512,activation=\"relu\")(x)\n",
        "x = Dense(512,activation=\"relu\")(x)\n",
        "x = Dropout(0.2)(x)\n",
        "x = Dense(256,activation=\"relu\")(x)\n",
        "x = Dense(256,activation=\"relu\")(x)\n",
        "x = Dropout(0.2)(x)\n",
        "x = Flatten()(x)\n",
        "predictions = Dense(2, activation='sigmoid')(x)\n",
        "model = Model(inputs=base_model.input, outputs=predictions)\n",
        "model.summary()\n",
        "from IPython.display import Image\n",
        "tf.keras.utils.plot_model(model, to_file='convnet.png', show_shapes=True,show_layer_names=True)\n",
        "Image(filename='convnet.png') \n",
        "callbacks = [EarlyStopping(monitor='val_loss', patience=5, verbose=1),\n",
        "                ModelCheckpoint('model.hdf5',\n",
        "                                 save_best_only=True)]\n",
        "opt = Adam(learning_rate=0.001)\n",
        "model.compile(\n",
        "  loss='categorical_crossentropy',\n",
        "  optimizer=opt,\n",
        "  metrics=[\n",
        "      tf.keras.metrics.BinaryAccuracy(name='accuracy'),\n",
        "      tf.keras.metrics.Precision(name='precision'),\n",
        "      tf.keras.metrics.Recall(name='recall'),  \n",
        "      tf.keras.metrics.AUC(name='auc')]\n",
        ")\n",
        "batch_size = 32\n",
        "epochs = 20\n",
        "image_processing_train_path = '/content/image_processing/train'\n",
        "image_processing_validation_path = '/content/image_processing/val'\n",
        "image_processing_test_path = '/content/image_processing/test'\n",
        "\n",
        "train_dataset_from_data_generator = train_datagen.flow_from_directory(image_processing_train_path,\n",
        "                                                                     target_size = (image_size, image_size),\n",
        "                                                                     class_mode = 'categorical',\n",
        "                                                                     batch_size = batch_size,\n",
        "                                                                     color_mode = 'rgb',\n",
        "                                                                     shuffle = True,\n",
        "                                                                     seed = random_state\n",
        "                                                                    )\n",
        "validation_dataset_from_data_generator = val_datagen.flow_from_directory(image_processing_validation_path,\n",
        "                                                                 target_size = (image_size, image_size),\n",
        "                                                                 class_mode = 'categorical',\n",
        "                                                                 batch_size = batch_size,\n",
        "                                                                 color_mode = 'rgb',\n",
        "                                                                 shuffle = True,\n",
        "                                                                 seed = random_state\n",
        "                                                                )\n",
        "test_dataset_from_data_generator = test_datagen.flow_from_directory(image_processing_test_path,\n",
        "                                                                   target_size = (image_size, image_size),\n",
        "                                                                   batch_size = batch_size,\n",
        "                                                                   class_mode = 'categorical',\n",
        "                                                                   color_mode = 'rgb',\n",
        "                                                                   shuffle = False,\n",
        "                                                                   seed = random_state\n",
        "                                                                  )\n",
        "# Train the model (model.fit)\n",
        "history = model.fit(train_dataset_from_data_generator,\n",
        "                    epochs = epochs,\n",
        "                    steps_per_epoch = len(train_dataset_from_data_generator),\n",
        "                    validation_data = validation_dataset_from_data_generator,\n",
        "                    validation_steps = len(validation_dataset_from_data_generator),\n",
        "                    verbose = 1\n",
        "                   )\n",
        "# Model save\n",
        "print(\"Saving model...\")\n",
        "tf.keras.backend.clear_session()\n",
        "gc.collect() \n",
        "model.save('breast_cancer_detection_' + model_name + '.h5')\n",
        "\n",
        "# Plot train and val accuracy and loss\n",
        "print(f\"Plotting train and validation accuracy and loss for model {model_name}\")\n",
        "plot_model_accuracy_and_loss(history = history, model_name = model_name)\n",
        "\n",
        "# Model Predict, transform logits to probabilities\n",
        "step_size_test = np.ceil(test_dataset_from_data_generator.n / test_dataset_from_data_generator.batch_size)\n",
        "test_dataset_from_data_generator.reset()\n",
        "\n",
        "# model.predict\n",
        "pred_logits = model.predict(test_dataset_from_data_generator, steps = step_size_test, verbose = 1)\n",
        "probas_sigmoid = tf.sigmoid(pred_logits)\n",
        "probas_sigmoid = probas_sigmoid.numpy().flatten() * 100\n",
        "predictions_binary = [1 if x > 50.0 else 0 for x in probas_sigmoid]\n",
        "#test_loss, test_accuracy = model.evaluate(test_dataset_from_data_generator, verbose = 0)\n",
        "print(model.evaluate(test_dataset_from_data_generator, verbose = 0))\n",
        "'''\n",
        "from sklearn.metrics import confusion_matrix\n",
        "import seaborn as sns\n",
        "\n",
        "Y_pred = model.predict(X_test)\n",
        "Y_pred_classes = np.argmax(Y_pred,axis = 1) \n",
        "Y_true = np.argmax(y_test,axis = 1) \n",
        "\n",
        "confusion_mtx = confusion_matrix(Y_true, Y_pred_classes) \n",
        "\n",
        "f,ax = plt.subplots(figsize=(8, 8))\n",
        "sns.heatmap(confusion_mtx, annot=True, linewidths=0.01,cmap=\"OrRd\",linecolor=\"black\", fmt= '.1f',ax=ax)\n",
        "plt.xlabel(\"Predicted Label\")\n",
        "plt.ylabel(\"True Label\")\n",
        "plt.title(\"Confusion Matrix\")\n",
        "plt.show()\n",
        "'''"
      ],
      "metadata": {
        "id": "i7uYt9jH0bQo"
      },
      "execution_count": null,
      "outputs": []
    },
    {
      "cell_type": "code",
      "source": [
        "loss, accuracy, precision, recall, auc = model.evaluate(test_dataset_from_data_generator, verbose = 0)\n",
        "# print(\"loss, accuracy, precision, recall,auc\")\n",
        "# print(loss, accuracy, precision, recall,auc)\n",
        "\n",
        "perf_metrics = pd.DataFrame({'Loss':loss, 'Accuracy':accuracy, 'Precision':precision, 'Recall':recall, 'ROC-AUC':auc}, index=[0])\n",
        "perf_metrics"
      ],
      "metadata": {
        "id": "2TqdakPxyL0G"
      },
      "execution_count": null,
      "outputs": []
    },
    {
      "cell_type": "code",
      "source": [
        "num_classes = 2\n",
        "model = Sequential([\n",
        "     ResNet152(input_shape=(50,50,3),weights=\"imagenet\",include_top=False), \n",
        "     GlobalAveragePooling2D(),\n",
        "     #Dropout(.5),\n",
        "     #Dense(256, activation='relu'),#, kernel_regularizer=keras.regularizers.l1(l=0.1)),\n",
        "     #Dropout(.5),\n",
        "     Dense(num_classes, activation='sigmoid',name='preds'),\n",
        "])\n",
        "model.layers[0].trainable= False\n",
        "# show model summary\n",
        "model.summary()\n",
        "\n",
        "batch_size = 64\n",
        "epochs = 20\n",
        "image_processing_train_path = '/content/image_processing/train'\n",
        "image_processing_validation_path = '/content/image_processing/val'\n",
        "image_processing_test_path = '/content/image_processing/test'\n",
        "\n",
        "train_dataset_from_data_generator = train_datagen.flow_from_directory(image_processing_train_path,\n",
        "                                                                     target_size = (image_size, image_size),\n",
        "                                                                     class_mode = 'categorical',\n",
        "                                                                     batch_size = batch_size,\n",
        "                                                                     color_mode = 'rgb',\n",
        "                                                                     shuffle = True,\n",
        "                                                                     seed = random_state\n",
        "                                                                    )\n",
        "validation_dataset_from_data_generator = val_datagen.flow_from_directory(image_processing_validation_path,\n",
        "                                                                 target_size = (image_size, image_size),\n",
        "                                                                 class_mode = 'categorical',\n",
        "                                                                 batch_size = batch_size,\n",
        "                                                                 color_mode = 'rgb',\n",
        "                                                                 shuffle = True,\n",
        "                                                                 seed = random_state\n",
        "                                                                )\n",
        "test_dataset_from_data_generator = test_datagen.flow_from_directory(image_processing_test_path,\n",
        "                                                                   target_size = (image_size, image_size),\n",
        "                                                                   batch_size = batch_size,\n",
        "                                                                   class_mode = 'categorical',\n",
        "                                                                   color_mode = 'rgb',\n",
        "                                                                   shuffle = False,\n",
        "                                                                   seed = random_state\n",
        "                                                                  )\n",
        "model.compile(optimizer='sgd',\n",
        "             loss=keras.losses.categorical_crossentropy,\n",
        "             metrics=['accuracy'])\n",
        "history = model.fit(train_dataset_from_data_generator,\n",
        "                    epochs = epochs,\n",
        "                    steps_per_epoch = len(train_dataset_from_data_generator),\n",
        "                    validation_data = validation_dataset_from_data_generator,\n",
        "                    validation_steps = len(validation_dataset_from_data_generator),\n",
        "                    verbose = 1\n",
        "                   )\n",
        "# Model save\n",
        "print(\"Saving model...\")\n",
        "tf.keras.backend.clear_session()\n",
        "gc.collect() \n",
        "model.save('breast_cancer_detection_' + model_name + '.h5')\n",
        "\n",
        "# Plot train and val accuracy and loss\n",
        "print(f\"Plotting train and validation accuracy and loss for model {model_name}\")\n",
        "plot_model_accuracy_and_loss(history = history, model_name = model_name)\n",
        "\n",
        "# Model Predict, transform logits to probabilities\n",
        "step_size_test = np.ceil(test_dataset_from_data_generator.n / test_dataset_from_data_generator.batch_size)\n",
        "test_dataset_from_data_generator.reset()\n",
        "pred_logits = model.predict(test_dataset_from_data_generator, steps = step_size_test, verbose = 1)\n",
        "probas_sigmoid = tf.sigmoid(pred_logits)\n",
        "probas_sigmoid = probas_sigmoid.numpy().flatten() * 100\n",
        "predictions_binary = [1 if x > 50.0 else 0 for x in probas_sigmoid]\n",
        "test_loss, test_accuracy = model.evaluate(test_dataset_from_data_generator, verbose = 0)\n",
        "print(test_loss, test_accuracy)"
      ],
      "metadata": {
        "id": "qT0X9T-NsjfI"
      },
      "execution_count": null,
      "outputs": []
    },
    {
      "cell_type": "code",
      "source": [],
      "metadata": {
        "id": "Py7npvj_sPjh"
      },
      "execution_count": null,
      "outputs": []
    },
    {
      "cell_type": "code",
      "source": [],
      "metadata": {
        "id": "Fz9Va7LQvGcr"
      },
      "execution_count": null,
      "outputs": []
    },
    {
      "cell_type": "code",
      "source": [],
      "metadata": {
        "id": "7rUj3RnMvGgY"
      },
      "execution_count": null,
      "outputs": []
    },
    {
      "cell_type": "code",
      "source": [],
      "metadata": {
        "id": "6FXA26JGvGiS"
      },
      "execution_count": null,
      "outputs": []
    },
    {
      "cell_type": "code",
      "source": [],
      "metadata": {
        "id": "oRD0_UYBvGns"
      },
      "execution_count": null,
      "outputs": []
    },
    {
      "cell_type": "code",
      "source": [
        "model_cnn_5 = tf.keras.Sequential([\n",
        "    tf.keras.layers.Conv2D(128, (3,3), padding='same', activation=tf.nn.relu,\n",
        "                           input_shape=(50, 50, 3)),\n",
        "    tf.keras.layers.MaxPooling2D((2, 2), strides=2),\n",
        "    tf.keras.layers.Dropout(.5),\n",
        "\n",
        "    tf.keras.layers.Conv2D(64, (4,4), padding='same', activation=tf.nn.relu),\n",
        "    tf.keras.layers.MaxPooling2D((3, 3), strides=2),\n",
        "    tf.keras.layers.Dropout(.5),\n",
        "\n",
        "    tf.keras.layers.Conv2D(32, (5,5), padding='same', activation=tf.nn.relu),\n",
        "    tf.keras.layers.MaxPooling2D((4, 4), strides=2),\n",
        "    tf.keras.layers.Dropout(.5),\n",
        "\n",
        "    tf.keras.layers.Flatten(),\n",
        "\n",
        "    tf.keras.layers.Dense(128, activation=tf.nn.relu),\n",
        "    tf.keras.layers.Dropout(.5),\n",
        "\n",
        "    tf.keras.layers.Dense(1, activation= None)\n",
        "])"
      ],
      "metadata": {
        "id": "pHqBK3J4l0lr"
      },
      "execution_count": null,
      "outputs": []
    },
    {
      "cell_type": "code",
      "source": [
        "model_cnn_5.summary()"
      ],
      "metadata": {
        "id": "ENHVynzTl_TW"
      },
      "execution_count": null,
      "outputs": []
    },
    {
      "cell_type": "code",
      "source": [
        "tf.keras.utils.plot_model(model_cnn_5)"
      ],
      "metadata": {
        "id": "T-Fi4VlvmCpb"
      },
      "execution_count": null,
      "outputs": []
    },
    {
      "cell_type": "code",
      "source": [
        "'''\n",
        "pretrained_model = build_pretained_model(model_name = model_name)\n",
        "pretrained_model.trainable = False\n",
        "        \n",
        "# Plug the pre-trained model to custom model\n",
        "print(f\"Plugging in the pretainined model for {model_name} to custom model\")\n",
        "try:\n",
        "    del model\n",
        "except:\n",
        "    None\n",
        "input_shape = (image_size, image_size, 3)\n",
        "inputs = tf.keras.Input(input_shape)\n",
        "m2 = tf.keras.layers.GlobalAveragePooling2D()(pretrained_model(inputs))\n",
        "m2 = tf.keras.layers.Dropout(dropout_rate)(m2)\n",
        "m2 = tf.keras.layers.Dense(512, activation = 'relu')(m2)\n",
        "m2 = tf.keras.layers.BatchNormalization()(m2)\n",
        "m2 = tf.keras.layers.Dropout(dropout_rate)(m2)\n",
        "m2 = tf.keras.layers.Dense(256, activation = 'relu')(m2)\n",
        "m2 = tf.keras.layers.BatchNormalization()(m2)\n",
        "m2 = tf.keras.layers.Dropout(dropout_rate)(m2)\n",
        "m2 = tf.keras.layers.Flatten()(m2)\n",
        "m2 = tf.keras.layers.Dense(2, activation = 'softmax')(m2)\n",
        "model = tf.keras.Model(inputs = inputs, outputs = m2)\n",
        "tf.keras.utils.plot_model(model)\n",
        "'''"
      ],
      "metadata": {
        "id": "Y2LlqfPtgG2f"
      },
      "execution_count": null,
      "outputs": []
    },
    {
      "cell_type": "code",
      "source": [
        "image_processing_train_path = '/content/image_processing/train'\n",
        "image_processing_validation_path = '/content/image_processing/val'\n",
        "image_processing_test_path = '/content/image_processing/test'"
      ],
      "metadata": {
        "id": "WMziw8LBhgBQ"
      },
      "execution_count": null,
      "outputs": []
    },
    {
      "cell_type": "code",
      "source": [
        "def plot_model_accuracy_and_loss(history, model_name):\n",
        "   \"\"\"\n",
        "   This method plots model training and validation accuracies.\n",
        "   \"\"\"\n",
        "   tf.keras.backend.clear_session()\n",
        "\n",
        "   hist = history.history\n",
        "   x_arr = np.arange(len(hist['loss'])) + 1\n",
        "        \n",
        "   fig = plt.figure(figsize=(12, 4))\n",
        "   ax = fig.add_subplot(1, 2, 1)\n",
        "   ax.plot(x_arr, hist['loss'], '-o', label = 'Train loss')\n",
        "   ax.plot(x_arr, hist['val_loss'], '--<', label = 'Validation loss')\n",
        "   ax.legend(fontsize=15)\n",
        "   ax.set_xlabel('Epoch', size = 15)\n",
        "   ax.set_ylabel('Loss', size = 15)\n",
        "\n",
        "   ax = fig.add_subplot(1, 2, 2)\n",
        "   ax.plot(x_arr, hist['accuracy'], '-o', label = 'Train acc.')\n",
        "   ax.plot(x_arr, hist['val_accuracy'], '--<', label = 'Validation acc.')\n",
        "   ax.legend(fontsize = 15)\n",
        "   ax.set_xlabel('Epoch', size = 15)\n",
        "   ax.set_ylabel('Accuracy', size = 15)\n",
        "   ax.set_ylim(0,1)\n",
        "   plt.title(f\"Training and validation loss and accuracies for model : {model_name}\")\n",
        "   plt.show(block = False)"
      ],
      "metadata": {
        "id": "Trd2ptW-jJmk"
      },
      "execution_count": null,
      "outputs": []
    },
    {
      "cell_type": "code",
      "source": [
        "random_state = 1234"
      ],
      "metadata": {
        "id": "ikoj2vbvpD-u"
      },
      "execution_count": null,
      "outputs": []
    },
    {
      "cell_type": "code",
      "source": [
        "batch_size = 16\n",
        "epoch = 20\n",
        "train_dataset_from_data_generator = train_datagen.flow_from_directory(image_processing_train_path,\n",
        "                                                                     target_size = (image_size, image_size),\n",
        "                                                                     class_mode = 'binary',\n",
        "                                                                     batch_size = batch_size,\n",
        "                                                                     color_mode = 'rgb',\n",
        "                                                                     shuffle = True,\n",
        "                                                                     seed = random_state\n",
        "                                                                    )\n",
        "validation_dataset_from_data_generator = val_datagen.flow_from_directory(image_processing_validation_path,\n",
        "                                                                 target_size = (image_size, image_size),\n",
        "                                                                 class_mode = 'binary',\n",
        "                                                                 batch_size = batch_size,\n",
        "                                                                 color_mode = 'rgb',\n",
        "                                                                 shuffle = True,\n",
        "                                                                 seed = random_state\n",
        "                                                                )\n",
        "test_dataset_from_data_generator = test_datagen.flow_from_directory(image_processing_test_path,\n",
        "                                                                   target_size = (image_size, image_size),\n",
        "                                                                   batch_size = batch_size,\n",
        "                                                                   class_mode = 'binary',\n",
        "                                                                   color_mode = 'rgb',\n",
        "                                                                   shuffle = False,\n",
        "                                                                   seed = random_state\n",
        "                                                                  )\n",
        "        \n",
        "tf.random.set_seed(random_state)\n",
        "np.random.seed(random_state)\n",
        "# Model compile\n",
        "print(\"Compiling the model...\")\n",
        "model_cnn_5.compile(optimizer = tf.keras.optimizers.Adam(learning_rate = lr_val),\n",
        "              loss = tf.keras.losses.BinaryCrossentropy(from_logits = True),\n",
        "              metrics = ['accuracy']) \n",
        "\n",
        "# Model fit\n",
        "print(\"Model fit...\")\n",
        "history = model_cnn_5.fit(train_dataset_from_data_generator,\n",
        "                    epochs = epochs,\n",
        "                    steps_per_epoch = len(train_dataset_from_data_generator),\n",
        "                    validation_data = validation_dataset_from_data_generator,\n",
        "                    validation_steps = len(validation_dataset_from_data_generator),\n",
        "                    verbose = 1\n",
        "                   )\n",
        "\n",
        "# Model save\n",
        "print(\"Saving model...\")\n",
        "tf.keras.backend.clear_session()\n",
        "gc.collect()\n",
        "model_cnn_5.save('breast_cancer_detection_' + model_name + '.h5')\n",
        "\n",
        "# Plot train and val accuracy and loss\n",
        "print(f\"Plotting train and validation accuracy and loss for model {model_name}\")\n",
        "plot_model_accuracy_and_loss(history = history, model_name = model_name)\n",
        "\n",
        "# Model Predict, transform logits to probabilities\n",
        "step_size_test = np.ceil(test_dataset_from_data_generator.n / test_dataset_from_data_generator.batch_size)\n",
        "test_dataset_from_data_generator.reset()\n",
        "pred_logits = model_cnn_5.predict(test_dataset_from_data_generator, steps = step_size_test, verbose = 1)\n",
        "probas_sigmoid = tf.sigmoid(pred_logits)\n",
        "probas_sigmoid = probas_sigmoid.numpy().flatten() * 100\n",
        "predictions_binary = [1 if x > 50.0 else 0 for x in probas_sigmoid]\n",
        "test_loss, test_accuracy = model_cnn_5.evaluate(test_dataset_from_data_generator, verbose = 0)\n",
        "print(test_loss, test_accuracy)"
      ],
      "metadata": {
        "id": "PIbByCKtgGH-"
      },
      "execution_count": null,
      "outputs": []
    },
    {
      "cell_type": "code",
      "source": [],
      "metadata": {
        "id": "3ZfEp2W-gGA7"
      },
      "execution_count": null,
      "outputs": []
    },
    {
      "cell_type": "code",
      "source": [
        "sample_size = 80000\n",
        "sample_size = 40000\n",
        "#batch_size = 256\n",
        "batch_size = 128\n",
        "epochs = 30\n",
        "lr_val = 0.01\n",
        "\n",
        "image_size = 50\n",
        "#number_of_splits = 8\n",
        "number_of_splits = 8\n",
        "run_mode = ['interim_test', 'final_test']\n",
        "\n",
        "# Transfer learning model list\n",
        "transfer_learning_model_list = ['VGG16', \n",
        "                                'VGG19', \n",
        "                                'DenseNet201', \n",
        "                                'InceptionV3', \n",
        "                                'ResNet50', \n",
        "                                'EfficientNetB7', \n",
        "                                'MobileNet', \n",
        "                                'Xception'\n",
        "                               ]\n",
        "learning_rate_list = [.01, .001, .0001, .00001]\n",
        "optimizer_list = ['sgd', 'adam']\n",
        "dropout_list = [.2, .4, .6]\n",
        "kernel_size_list = [(3,3), (4,4), (5,5)]\n",
        "dense_layer_node_list = [512, 256, 128]\n",
        "fully_conneted_layer_list = [1, 2, 3]\n",
        "epoch_list = [5, 10, 15, 20]"
      ],
      "metadata": {
        "id": "kSQVGMh1cPTb"
      },
      "execution_count": null,
      "outputs": []
    },
    {
      "cell_type": "code",
      "source": [
        "\n",
        "\n",
        "# Stores each model and kfold specific train and validation accuracies \n",
        "# and losses for each epoch\n",
        "temp_df_model_kpi = pd.DataFrame()\n",
        "# Consolidates the above results across all model and kfolds.\n",
        "consolidated_df_model_kpi = pd.DataFrame()\n",
        "\n",
        "# Holds model and kfold specific actual, prediction %, perdiction binary value\n",
        "# along with test loss and accuracy.\n",
        "temp_df_acttual_vs_pred_bin_pred_pct = pd.DataFrame()\n",
        "# Consolidates the above result for each model and kfold.\n",
        "df_actual_vs_pred_bin_pred_pct = pd.DataFrame()\n",
        "\n",
        "df_kfold_ensemble_stats = pd.DataFrame()\n",
        "\n",
        "for model_name in transfer_learning_model_list:\n",
        "\n",
        "    temp_df_model_kpi = pd.DataFrame()\n",
        "    temp_df_acttual_vs_pred_bin_pred_pct = pd.DataFrame()\n",
        "    for kfold, (train_indices, validation_indices) in enumerate(StratifiedKFold(n_splits =  number_of_splits, \n",
        "                                                                                shuffle = True, \n",
        "                                                                                random_state = random_state\n",
        "                                                                               ).split(data_proc.df_train_original['label'].values.tolist(), \n",
        "                                                                                       data_proc.df_train_original['label'].values.tolist()\n",
        "                                                                                      )):\n",
        "        print(f\"Model : {model_name}, k-fold : {kfold + 1}, length of train data : {len(train_indices)}, length of validation data : {len(validation_indices)}\")\n",
        "        data_proc.split_data_based_on_indices(train_indices = train_indices, validation_indices = validation_indices)\n",
        "\n",
        "        train_dataset_from_data_generator = train_datagen.flow_from_directory(image_processing_train_path,\n",
        "                                                                     target_size = (image_size, image_size),\n",
        "                                                                     class_mode = 'binary',\n",
        "                                                                     batch_size = batch_size,\n",
        "                                                                     color_mode = 'rgb',\n",
        "                                                                     shuffle = True,\n",
        "                                                                     seed = random_state\n",
        "                                                                    )\n",
        "        validation_dataset_from_data_generator = val_datagen.flow_from_directory(image_processing_validation_path,\n",
        "                                                                 target_size = (image_size, image_size),\n",
        "                                                                 class_mode = 'binary',\n",
        "                                                                 batch_size = batch_size,\n",
        "                                                                 color_mode = 'rgb',\n",
        "                                                                 shuffle = True,\n",
        "                                                                 seed = random_state\n",
        "                                                                )\n",
        "        test_dataset_from_data_generator = test_datagen.flow_from_directory(image_processing_test_path,\n",
        "                                                                   target_size = (image_size, image_size),\n",
        "                                                                   batch_size = batch_size,\n",
        "                                                                   class_mode = 'binary',\n",
        "                                                                   color_mode = 'rgb',\n",
        "                                                                   shuffle = False,\n",
        "                                                                   seed = random_state\n",
        "                                                                  )\n",
        "        \n",
        "        tf.random.set_seed(random_state)\n",
        "        np.random.seed(random_state)\n",
        "\n",
        "        # Pre-trained model build\n",
        "        print(f\"Building pretainined model for {model_name}\")\n",
        "        try:\n",
        "            del pretrained_model\n",
        "        except:\n",
        "            None\n",
        "        pretrained_model = model_proc.build_pretained_model(model_name = model_name)\n",
        "        pretrained_model.trainable = False\n",
        "        model_proc.model_summary_and_display_structure(pretrained_model)\n",
        "        \n",
        "        # Plug the pre-trained model to custom model\n",
        "        print(f\"Plugging in the pretainined model for {model_name} to custom model\")\n",
        "        try:\n",
        "            del model\n",
        "        except:\n",
        "            None\n",
        "        input_shape = (image_size, image_size, 3)\n",
        "        inputs = tf.keras.Input(input_shape)\n",
        "        m2 = tf.keras.layers.GlobalAveragePooling2D()(pretrained_model(inputs))\n",
        "        m2 = tf.keras.layers.Dropout(dropout_rate)(m2)\n",
        "        m2 = tf.keras.layers.Dense(512, activation = 'relu')(m2)\n",
        "        m2 = tf.keras.layers.BatchNormalization()(m2)\n",
        "        m2 = tf.keras.layers.Dropout(dropout_rate)(m2)\n",
        "        m2 = tf.keras.layers.Dense(256, activation = 'relu')(m2)\n",
        "        m2 = tf.keras.layers.BatchNormalization()(m2)\n",
        "        m2 = tf.keras.layers.Dropout(dropout_rate)(m2)\n",
        "        m2 = tf.keras.layers.Flatten()(m2)\n",
        "        m2 = tf.keras.layers.Dense(1, activation = None)(m2)\n",
        "        model = tf.keras.Model(inputs = inputs, outputs = m2)\n",
        "        # Model compile\n",
        "        print(\"Compiling the model...\")\n",
        "        model.compile(optimizer = tf.keras.optimizers.Adam(learning_rate = lr_val),\n",
        "                      loss = tf.keras.losses.BinaryCrossentropy(from_logits = True),\n",
        "                      metrics = ['accuracy']) \n",
        "\n",
        "        # Model fit\n",
        "        print(\"Model fit...\")\n",
        "        #es = EarlyStopping(monitor = 'val_loss', mode = 'min', verbose = 1, min_delta = 1)\n",
        "        history = model.fit(train_dataset_from_data_generator,\n",
        "                            epochs = epochs,\n",
        "                            steps_per_epoch = len(train_dataset_from_data_generator),\n",
        "                            validation_data = validation_dataset_from_data_generator,\n",
        "                            validation_steps = len(validation_dataset_from_data_generator),\n",
        "                            verbose = 1\n",
        "                           )\n",
        "\n",
        "        # Model save\n",
        "        print(\"Saving model...\")\n",
        "        tf.keras.backend.clear_session()\n",
        "        gc.collect()\n",
        "        model.save('tumor_detection_' + model_name + '_k' + str(kfold + 1) + '.h5')\n",
        "        #tf.saved_model.save(model, os.getcwd())\n",
        "        saved_model_names_list.append('tumor_detection_' + model_name + '_k' + str(kfold + 1))\n",
        "        \n",
        "        # Append the final train and validation accuracy and loss.\n",
        "        print(f\"Storing train and validation accuracy and loss for model {model_name}, fold {kfold + 1}\")\n",
        "        temp_df_model_kpi = pd.DataFrame(history.history)\n",
        "        temp_df_model_kpi['model'] = model_name\n",
        "        temp_df_model_kpi['kfold'] = kfold + 1\n",
        "        temp_df_model_kpi['epoch'] = range(1, epochs + 1)\n",
        "        temp_df_model_kpi = temp_df_model_kpi[['model', \n",
        "                                               'kfold', \n",
        "                                               'epoch', \n",
        "                                               'accuracy', \n",
        "                                               'loss', \n",
        "                                               'val_accuracy', \n",
        "                                               'val_loss'\n",
        "                                               ]]\n",
        "        # Consolidating training and validation accuracies in single data frame \n",
        "        # along with model name, epoch, kfold number.\n",
        "        consolidated_df_model_kpi = pd.concat([temp_df_model_kpi, consolidated_df_model_kpi], axis = 0)\n",
        "        \n",
        "        # Plot train and val accuracy and loss\n",
        "        print(f\"Plotting train and validation accuracy and loss for model {model_name}, fold {kfold + 1}\")\n",
        "        model_proc.plot_model_accuracy_and_loss(history = history, model_name = model_name)\n",
        "\n",
        "        # Model Predict, transform logits to probabilities\n",
        "        step_size_test = np.ceil(test_dataset_from_data_generator.n / test_dataset_from_data_generator.batch_size)\n",
        "        test_dataset_from_data_generator.reset()\n",
        "        pred_logits = model.predict(test_dataset_from_data_generator, steps = step_size_test, verbose = 1)\n",
        "        probas_sigmoid = tf.sigmoid(pred_logits)\n",
        "        probas_sigmoid = probas_sigmoid.numpy().flatten() * 100\n",
        "        predictions_binary = [1 if x > 50.0 else 0 for x in probas_sigmoid]\n",
        "        test_loss, test_accuracy = model.evaluate(test_dataset_from_data_generator, verbose = 0)\n",
        "\n",
        "        temp_df_actual_vs_pred_bin_pred_pct = pd.DataFrame({\"model\"         : model_name, \n",
        "                                                            \"kfold\"         : kfold + 1, \n",
        "                                                            \"actual\"        : data_proc.y_test, \n",
        "                                                            \"pred_pct\"      : probas_sigmoid, \n",
        "                                                            \"pred_bin\"      : predictions_binary,\n",
        "                                                            \"test_loss\"     : test_loss,\n",
        "                                                            \"test_accuracy\" : test_accuracy\n",
        "                                                           }\n",
        "                                                          )\n",
        "        # Assign the index value of the index position\n",
        "        temp_df_actual_vs_pred_bin_pred_pct['output_pos'] = temp_df_actual_vs_pred_bin_pred_pct.groupby(['model','kfold']).cumcount() + 1\n",
        "        df_actual_vs_pred_bin_pred_pct = pd.concat([temp_df_actual_vs_pred_bin_pred_pct, \n",
        "                                                    df_actual_vs_pred_bin_pred_pct\n",
        "                                                   ], \n",
        "                                                   axis = 0)\n",
        "    \n",
        "    # Summary stats across all folds for a model\n",
        "    model_proc.display_model_stats_across_all_spilts(model_name, \n",
        "                                                     consolidated_df_model_kpi, \n",
        "                                                     df_actual_vs_pred_bin_pred_pct\n",
        "                                                    )\n",
        "    \n",
        "    # voting across model, kfold\n",
        "    print(f\"Calling ensemble_across_model_kfolds for model {model_name}\")\n",
        "    temp_df_kfold_ensemble_stats = model_proc.ensemble_across_model_kfolds(df_actual_vs_pred_bin_pred_pct[df_actual_vs_pred_bin_pred_pct.model == model_name])\n",
        "\n",
        "    # Appending the result back\n",
        "    df_kfold_ensemble_stats = pd.concat([temp_df_kfold_ensemble_stats, \n",
        "                                         df_kfold_ensemble_stats\n",
        "                                        ],\n",
        "                                        axis = 0)\n",
        "\n",
        "# voting across model, kfold\n",
        "print(f\"Calling ensemble_across_models\")\n",
        "df_ensemble_stats = model_proc.ensemble_across_models(df_kfold_ensemble_stats)\n"
      ],
      "metadata": {
        "id": "3GOPzKQyRQHj"
      },
      "execution_count": null,
      "outputs": []
    },
    {
      "cell_type": "code",
      "source": [],
      "metadata": {
        "id": "xewdeHiRRQEU"
      },
      "execution_count": null,
      "outputs": []
    },
    {
      "cell_type": "code",
      "source": [],
      "metadata": {
        "id": "v6i5PR-BRQBj"
      },
      "execution_count": null,
      "outputs": []
    },
    {
      "cell_type": "code",
      "source": [],
      "metadata": {
        "id": "IeqCdWpoRPuj"
      },
      "execution_count": null,
      "outputs": []
    }
  ]
}