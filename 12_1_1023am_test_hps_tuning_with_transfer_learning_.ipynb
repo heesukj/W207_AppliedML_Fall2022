{
  "nbformat": 4,
  "nbformat_minor": 0,
  "metadata": {
    "colab": {
      "provenance": [],
      "include_colab_link": true
    },
    "kernelspec": {
      "name": "python3",
      "display_name": "Python 3"
    },
    "language_info": {
      "name": "python"
    },
    "accelerator": "GPU",
    "gpuClass": "standard"
  },
  "cells": [
    {
      "cell_type": "markdown",
      "metadata": {
        "id": "view-in-github",
        "colab_type": "text"
      },
      "source": [
        "<a href=\"https://colab.research.google.com/github/heesukjang/W207_AppliedML_Fall2022/blob/main/12_1_1023am_test_hps_tuning_with_transfer_learning_.ipynb\" target=\"_parent\"><img src=\"https://colab.research.google.com/assets/colab-badge.svg\" alt=\"Open In Colab\"/></a>"
      ]
    },
    {
      "cell_type": "code",
      "source": [
        "import pandas as pd\n",
        "import numpy as np\n",
        "import os\n",
        "import time\n",
        "import random\n",
        "import joblib\n",
        "import glob\n",
        "import random\n",
        "from itertools import product\n",
        "import gc\n",
        "import subprocess\n",
        "import shutil\n",
        "import copy\n",
        "import statistics as st\n",
        "from scipy import stats\n",
        "from google.colab import files\n",
        "\n",
        "from imutils import rotate as rotate\n",
        "import cv2\n",
        "import matplotlib.pyplot as plt\n",
        "import seaborn as sns\n",
        "import plotly.express as px\n",
        "import matplotlib.patches as patches\n",
        "from matplotlib.patches import Polygon\n",
        "from sklearn.metrics import confusion_matrix\n",
        "from mlxtend.plotting import plot_confusion_matrix\n",
        "from skimage.color import gray2rgb\n",
        "import skimage.io as skio\n",
        "from keras.utils.layer_utils import count_params\n",
        "from tensorflow.keras.layers import Concatenate\n",
        "\n",
        "from sklearn.utils import shuffle\n",
        "from sklearn.decomposition import PCA\n",
        "from sklearn.decomposition import IncrementalPCA\n",
        "from sklearn.model_selection import train_test_split\n",
        "from sklearn.model_selection import StratifiedKFold\n",
        "from sklearn.metrics import roc_auc_score\n",
        "from sklearn.metrics import roc_curve\n",
        "from sklearn.metrics import auc\n",
        "from sklearn import metrics\n",
        "from sklearn.metrics import precision_recall_fscore_support as score\n",
        "from sklearn.metrics import classification_report, cohen_kappa_score, zero_one_loss\n",
        "from sklearn.model_selection import KFold\n",
        "from sklearn.model_selection import cross_val_score\n",
        "from sklearn.model_selection import cross_val_predict\n",
        "from sklearn.model_selection import StratifiedShuffleSplit\n",
        "from sklearn.model_selection import train_test_split, GridSearchCV\n",
        "\n",
        "# from tensorflow.keras.preprocessing.image import array_to_img\n",
        "# from tensorflow.keras.preprocessing.image import img_to_array\n",
        "# from tensorflow.keras.preprocessing.image import load_img\n",
        "# from tensorflow.keras.preprocessing.image import save_img\n",
        "\n",
        "import tensorflow as tf\n",
        "from tensorflow import keras\n",
        "from tensorflow.keras import layers\n",
        "from tensorflow.keras.preprocessing.image import ImageDataGenerator\n",
        "from tensorflow.keras.losses import BinaryCrossentropy, CategoricalCrossentropy\n",
        "#from livelossplot import PlotLossesKeras\n",
        "\n",
        "from tensorflow.keras.layers import Lambda\n",
        "from tensorflow.keras.layers import Multiply\n",
        "# from tensorflow.keras.layers import LSTM\n",
        "from tensorflow.keras.layers import Bidirectional\n",
        "from tensorflow.keras.layers import RandomFlip, RandomZoom, RandomRotation, Conv2D, AveragePooling2D, GlobalAveragePooling2D, MaxPooling2D\n",
        "from tensorflow.keras.layers import AveragePooling2D, Input, Dense, Flatten, Dropout, BatchNormalization, GlobalAveragePooling2D\n",
        "from tensorflow.keras.layers import PReLU, ReLU, LeakyReLU\n",
        "from keras.layers.core import Activation\n",
        "from keras.layers.convolutional import SeparableConv1D\n",
        "from keras.layers.convolutional import SeparableConv2D \n",
        "from keras.layers.core import Activation\n",
        "from tensorflow.keras.optimizers import Adam, SGD, Adadelta, Adagrad, RMSprop\n",
        "from tensorflow.keras.models import Sequential\n",
        "\n",
        "from keras.applications.vgg16 import VGG16\n",
        "from keras.applications.vgg19 import VGG19\n",
        "from keras.applications.densenet import *\n",
        "from keras.applications.resnet import ResNet152\n",
        "from tensorflow.keras.applications import ResNet152V2\n",
        "from keras.applications.nasnet import NASNetMobile\n",
        "from keras.applications.nasnet import NASNetLarge\n",
        "from keras.applications.nasnet import preprocess_input\n",
        "from keras.applications import MobileNetV2\n",
        "from keras.applications.xception import Xception\n",
        "from keras.applications.inception_v3 import *\n",
        "\n",
        "\n",
        "from tensorflow.keras.preprocessing.image import array_to_img, img_to_array, load_img, save_img\n",
        "from tensorflow.python.ops.numpy_ops import np_config\n",
        "from keras.callbacks import ModelCheckpoint, EarlyStopping, ReduceLROnPlateau, LearningRateScheduler\n",
        "\n",
        "from keras.models import Model\n",
        "from tensorflow.keras import regularizers\n",
        "from tensorflow.keras.regularizers import l1\n",
        "from tensorflow.keras.regularizers import l2\n",
        "from keras.models import load_model\n",
        "from IPython.display import Image\n",
        "from tensorflow.keras.applications import ResNet152V2, VGG16, VGG19\n",
        "\n",
        "tf.get_logger().setLevel('INFO')\n",
        "\n",
        "import cv2 as cv\n",
        "import skimage.io as io\n",
        "\n",
        "import warnings\n",
        "warnings.filterwarnings('ignore')\n",
        "warnings.simplefilter(\"ignore\", category=DeprecationWarning)\n",
        "\n",
        "# Required to read the data from Kaggle\n",
        "from google.colab import drive\n",
        "# drive.mount('/content/gdrive')\n",
        "# os.environ['KAGGLE_CONFIG_DIR'] = \"/content/gdrive/MyDrive/Kaggle\"\n",
        "\n",
        "from google.colab import drive\n",
        "drive.mount('/content/gdrive')\n",
        "\n",
        "import logging\n",
        "\n",
        "# get TF logger\n",
        "log = logging.getLogger('tensorflow') # tell it to log it to a file"
      ],
      "metadata": {
        "colab": {
          "base_uri": "https://localhost:8080/"
        },
        "id": "AqvUA0UoCPSd",
        "outputId": "67b32f08-64a9-4989-ad85-e8f1b69a81bc"
      },
      "execution_count": 1,
      "outputs": [
        {
          "output_type": "stream",
          "name": "stdout",
          "text": [
            "Drive already mounted at /content/gdrive; to attempt to forcibly remount, call drive.mount(\"/content/gdrive\", force_remount=True).\n"
          ]
        }
      ]
    },
    {
      "cell_type": "code",
      "source": [
        "# # send text data to a file\n",
        "# # when colab crashes and force to terminate, go see the file and find out where the implementation left off and restart your code from there\n",
        "# fh = logging.FileHandler('tensorflow.log')\n",
        "# fh.setLevel(logging.DEBUG)\n",
        "# fh.setFormatter(formatter)\n",
        "# log.addHandler(fh)"
      ],
      "metadata": {
        "id": "4cXUtcOcabEp"
      },
      "execution_count": 2,
      "outputs": []
    },
    {
      "cell_type": "code",
      "source": [
        "# #send plots to a file \n",
        "# plt.savefig('books_read.png')"
      ],
      "metadata": {
        "id": "BJVR4Ud0anUW"
      },
      "execution_count": 3,
      "outputs": []
    },
    {
      "cell_type": "code",
      "source": [
        "# tf.keras.utils.plot_model(model)"
      ],
      "metadata": {
        "id": "MLRSmkowWAdS"
      },
      "execution_count": 4,
      "outputs": []
    },
    {
      "cell_type": "code",
      "source": [
        "# !pip install -q -U keras-tuner\n",
        "import keras_tuner as kt"
      ],
      "metadata": {
        "id": "1yl8KLZbOqcd"
      },
      "execution_count": 5,
      "outputs": []
    },
    {
      "cell_type": "code",
      "source": [
        "# !unzip gdrive/MyDrive/Kaggle/CNN_IDC/Dataset.zip                  "
      ],
      "metadata": {
        "id": "ftiQ04jV6roA",
        "outputId": "82784dc7-6f4a-4754-c297-831160b4008e",
        "colab": {
          "base_uri": "https://localhost:8080/"
        }
      },
      "execution_count": 6,
      "outputs": [
        {
          "output_type": "stream",
          "name": "stdout",
          "text": [
            "Archive:  gdrive/MyDrive/Kaggle/CNN_IDC/Dataset.zip\n",
            "replace Dataset/.DS_Store? [y]es, [n]o, [A]ll, [N]one, [r]ename: N\n"
          ]
        }
      ]
    },
    {
      "cell_type": "code",
      "source": [
        "# delete a full folder including all its files and subfolders\n",
        "!rm -rf processed_images/                    "
      ],
      "metadata": {
        "id": "dFwV9FlsaApf"
      },
      "execution_count": 7,
      "outputs": []
    },
    {
      "cell_type": "code",
      "source": [
        "!ls -ltr Dataset"
      ],
      "metadata": {
        "id": "WjE-qGmqW9qS",
        "colab": {
          "base_uri": "https://localhost:8080/"
        },
        "outputId": "fba9a9c3-5ab4-4043-94ba-9c19532d1edc"
      },
      "execution_count": 8,
      "outputs": [
        {
          "output_type": "stream",
          "name": "stdout",
          "text": [
            "total 12\n",
            "drwxr-xr-x 4 root root 4096 Oct  4 01:10 Test\n",
            "drwxr-xr-x 4 root root 4096 Oct  4 01:10 Train\n",
            "drwxr-xr-x 4 root root 4096 Oct  4 01:10 Validate\n"
          ]
        }
      ]
    },
    {
      "cell_type": "code",
      "source": [
        "# ls -ltr: List the contents of the current directory in the long listing format ( -l ), \n",
        "#   sorted by modification time ( -t ) in reverse order ( -r ) of all files and directories beginning with file* .\n",
        "# wc -l: count the number of lines\n",
        "\n",
        "!ls -ltr Dataset/Train/0|wc -l\n",
        "!ls -ltr Dataset/Train/1|wc -l\n",
        "\n",
        "!ls -ltr Dataset/Test/0|wc -l\n",
        "!ls -ltr Dataset/Test/1|wc -l\n",
        "\n",
        "!ls -ltr Dataset/Validate/0|wc -l\n",
        "!ls -ltr Dataset/Validate/1|wc -l"
      ],
      "metadata": {
        "id": "rNK-XNrxXBVl",
        "colab": {
          "base_uri": "https://localhost:8080/"
        },
        "outputId": "c4c3c58c-838b-485c-a2e6-1f972e5f6cb2"
      },
      "execution_count": 9,
      "outputs": [
        {
          "output_type": "stream",
          "name": "stdout",
          "text": [
            "401\n",
            "401\n",
            "101\n",
            "101\n",
            "101\n",
            "101\n"
          ]
        }
      ]
    },
    {
      "cell_type": "code",
      "source": [
        "val_image_directory = '/content/Dataset/Validate'\n",
        "train_image_directory = '/content/Dataset/Train'\n",
        "test_image_directory = '/content/Dataset/Test'\n",
        "directory_path = '/content/Dataset'\n",
        "\n",
        "tgt_directory_path = '/content/processed_images'\n",
        "tgt_train_1_image_path = '/content/processed_images/train/1/'\n",
        "tgt_train_0_image_path = '/content/processed_images/train/0/'\n",
        "tgt_val_1_image_path = '/content/processed_images/val/1/'\n",
        "tgt_val_0_image_path = '/content/processed_images/val/0/'\n",
        "tgt_test_1_image_path = '/content/processed_images/test/1/'\n",
        "tgt_test_0_image_path = '/content/processed_images/test/0/'\n",
        "\n",
        "tgt_path_list = [tgt_train_1_image_path, tgt_train_0_image_path,\n",
        "                 tgt_val_1_image_path, tgt_val_0_image_path,\n",
        "                 tgt_test_1_image_path, tgt_test_0_image_path\n",
        "                ]"
      ],
      "metadata": {
        "id": "UATtHsgNSRqG"
      },
      "execution_count": 10,
      "outputs": []
    },
    {
      "cell_type": "code",
      "source": [
        "def preprocess(data_dir):\n",
        "  images_path_1 = [data_dir + '/' +  dir + '/' for dir in os.listdir(data_dir) if dir != '.DS_Store'][0]\n",
        "  images_path_0 = [data_dir + '/' +  dir + '/' for dir in os.listdir(data_dir) if dir != '.DS_Store'][1]\n",
        "\n",
        "  images_list_1 = [images_path_1 + file for file in list(os.walk(images_path_1))[0][2] if file[0] != '.']\n",
        "  images_list_0 = [images_path_0 + file for file in list(os.walk(images_path_0))[0][2] if file[0] != '.']\n",
        "\n",
        "  return images_list_1, images_list_0"
      ],
      "metadata": {
        "id": "F0Q-ykr5SbLP"
      },
      "execution_count": 11,
      "outputs": []
    },
    {
      "cell_type": "code",
      "source": [
        "train_0_images_list, train_1_images_list = preprocess(train_image_directory)\n",
        "test_0_images_list, test_1_images_list = preprocess(test_image_directory)\n",
        "val_0_images_list, val_1_images_list = preprocess(val_image_directory)\n",
        "\n",
        "print(train_1_images_list[0],'\\n',train_0_images_list[0])"
      ],
      "metadata": {
        "id": "vfrO2qWjV0oQ",
        "outputId": "f8b3d873-6efb-4da5-e024-3c5ab7743985",
        "colab": {
          "base_uri": "https://localhost:8080/"
        }
      },
      "execution_count": 12,
      "outputs": [
        {
          "output_type": "stream",
          "name": "stdout",
          "text": [
            "/content/Dataset/Train/1/10293_idx5_x1401_y1651_class1.png \n",
            " /content/Dataset/Train/0/12910_idx5_x2951_y1151_class0.png\n"
          ]
        }
      ]
    },
    {
      "cell_type": "code",
      "source": [
        "len(train_1_images_list + train_0_images_list + test_1_images_list + test_0_images_list + val_1_images_list + val_0_images_list)"
      ],
      "metadata": {
        "id": "BmVWCg1geoxB",
        "colab": {
          "base_uri": "https://localhost:8080/"
        },
        "outputId": "4890c2b2-e7ed-42a3-fb62-9eea98337a89"
      },
      "execution_count": 13,
      "outputs": [
        {
          "output_type": "execute_result",
          "data": {
            "text/plain": [
              "1200"
            ]
          },
          "metadata": {},
          "execution_count": 13
        }
      ]
    },
    {
      "cell_type": "code",
      "source": [
        "len(train_1_images_list), len(train_0_images_list), len(test_1_images_list), len(test_0_images_list), len(val_1_images_list), len(val_0_images_list)"
      ],
      "metadata": {
        "id": "XNjz53EpXpb-",
        "colab": {
          "base_uri": "https://localhost:8080/"
        },
        "outputId": "364f1656-171f-40d1-f8e7-b6a277a6f54d"
      },
      "execution_count": 14,
      "outputs": [
        {
          "output_type": "execute_result",
          "data": {
            "text/plain": [
              "(400, 400, 100, 100, 100, 100)"
            ]
          },
          "metadata": {},
          "execution_count": 14
        }
      ]
    },
    {
      "cell_type": "code",
      "source": [
        "test_img = load_img(train_1_images_list[0], color_mode =\"grayscale\")\n",
        "test_img_arry = img_to_array(test_img)\n",
        "print(type(test_img))\n",
        "print(test_img.format)\n",
        "print(test_img.mode)\n",
        "print(test_img.size)\n",
        "print(test_img.getbands())\n",
        "print(test_img_arry.shape)\n",
        "print(\"****\")\n",
        "test_img1 = load_img(train_1_images_list[0])\n",
        "test_img1_arry = img_to_array(test_img1)\n",
        "print(test_img1_arry.shape)\n",
        "print(test_img1.getbands())"
      ],
      "metadata": {
        "id": "V_g0AF4Xd-LJ",
        "colab": {
          "base_uri": "https://localhost:8080/"
        },
        "outputId": "ae269a03-38d3-425c-97e5-661886d33b5b"
      },
      "execution_count": 15,
      "outputs": [
        {
          "output_type": "stream",
          "name": "stdout",
          "text": [
            "<class 'PIL.Image.Image'>\n",
            "None\n",
            "L\n",
            "(50, 50)\n",
            "('L',)\n",
            "(50, 50, 1)\n",
            "****\n",
            "(50, 50, 3)\n",
            "('R', 'G', 'B')\n"
          ]
        }
      ]
    },
    {
      "cell_type": "markdown",
      "source": [
        "## Display the first 5 images for each class\n",
        ": IDC Malignant (1) vs. IDC Benign (0)\n"
      ],
      "metadata": {
        "id": "vVq4Le9MIfV8"
      }
    },
    {
      "cell_type": "code",
      "source": [
        "IMG_SIZE = 50"
      ],
      "metadata": {
        "id": "UUgKYziVkc_i"
      },
      "execution_count": 16,
      "outputs": []
    },
    {
      "cell_type": "code",
      "source": [
        "def display_images(subclass, class_name):\n",
        "  fig, axes = plt.subplots(nrows=1, ncols=6, figsize=(17,6))\n",
        "  for idx, ax in enumerate(axes.flat):\n",
        "    img = io.imread(subclass[idx])\n",
        "    img = cv.resize(img, (IMG_SIZE, IMG_SIZE))    # resize an image from 50 by 50 to 512 by 512\n",
        "    ax.imshow(img)\n",
        "    ax.set_title(class_name)\n",
        "    # ax.set_xticks([])       # remove xticks passing an empty array\n",
        "    # ax.set_yticks([])       # remove yticks passing an empty array\n",
        "  fig.tight_layout() \n",
        "  plt.show() \n",
        "\n",
        "display_images(train_1_images_list, 'IDC Malignant (1)')\n",
        "display_images(train_0_images_list, ' IDC Benign (0)')"
      ],
      "metadata": {
        "id": "cbpAbSsOH9Be",
        "colab": {
          "base_uri": "https://localhost:8080/",
          "height": 455
        },
        "outputId": "7b0dfb52-1dd7-4c9d-b8a4-0213521857f2"
      },
      "execution_count": 17,
      "outputs": [
        {
          "output_type": "display_data",
          "data": {
            "text/plain": [
              "<Figure size 1224x432 with 6 Axes>"
            ],
            "image/png": "[encoded data removed]"
          },
          "metadata": {
            "needs_background": "light"
          }
        },
        {
          "output_type": "display_data",
          "data": {
            "text/plain": [
              "<Figure size 1224x432 with 6 Axes>"
            ],
            "image/png": "[encoded data removed]"
          },
          "metadata": {
            "needs_background": "light"
          }
        }
      ]
    },
    {
      "cell_type": "code",
      "source": [
        "# from google.colab.patches import cv2_imshow\n",
        "\n",
        "# RESIZED_SIZE = 62\n",
        "\n",
        "# fig = plt.figure(figsize=(22,9))\n",
        "\n",
        "# # orig_gs = load_img(train_1_images_list[0], color_mode =\"grayscale\")\n",
        "# # arr_orig_gs = img_to_array(orig_gs)\n",
        "\n",
        "# orig_cs = load_img(train_1_images_list[0], color_mode =\"rgb\")\n",
        "# arr_orig_cs = img_to_array(orig_cs)\n",
        "\n",
        "# # =============== Original =================================\n",
        "# original = io.imread(train_1_images_list[0], as_gray=False)\n",
        "# ax = fig.add_subplot(2,5,1)\n",
        "# ax.imshow(original)\n",
        "# ax.set_title(f\"Original: {IMG_SIZE} X {IMG_SIZE}\", size=14)\n",
        "\n",
        "# # # =============== Resize =================================\n",
        "# resize = cv.resize(original, (RESIZED_SIZE,RESIZED_SIZE))\n",
        "# # cv.resize(img, (IMG_SIZE, IMG_SIZE))\n",
        "# ax = fig.add_subplot(2,5,2)\n",
        "# ax.imshow(resize)\n",
        "# ax.set_title(f\"Resize: {RESIZED_SIZE} X {RESIZED_SIZE}\", size=14)\n",
        "\n",
        "# # =============== Horizontal Flip =========================\n",
        "# h_flip = cv2.flip(original, 1)\n",
        "# ax = fig.add_subplot(2,5,3)\n",
        "# ax.imshow(h_flip)\n",
        "# ax.set_title(f\"Horizontal Flip\", size=14)\n",
        "\n",
        "# # =============== Vertical Flip ===========================\n",
        "# v_flip = cv2.flip(original, 0)\n",
        "# ax = fig.add_subplot(2,5,4)\n",
        "# ax.imshow(v_flip)\n",
        "# ax.set_title(f\"Vertical Flip\", size=14)\n",
        "\n",
        "# # # =============== Rotation 45 =============================\n",
        "# rot_45 = int(random.uniform(-45, 45))\n",
        "# print('rot_45', rot_45)\n",
        "# # # h, w = arr_orig_cs.shape[:2]\n",
        "# # # print('h, w', h, w)\n",
        "# # M = cv2.getRotationMatrix2D((int(IMG_SIZE/2), int(IMG_SIZE/2)), rot_45, 1)\n",
        "# # rotated_img_gs = cv2.warpAffine(arr_orig_cs, M, (w, h))\n",
        "# # rotated_img_gs = img_to_array(rotated_img_gs)\n",
        "# # print(\"rot45****\")\n",
        "# ax = fig.add_subplot(2,5,5)\n",
        "# # ax.imshow(rotated_img_gs)\n",
        "# # cv2_imshow(rotated_img_gs)\n",
        "\n",
        "# rot90_img = tf.image.rot90(original, k=1)\n",
        "# ax.imshow(rot90_img)\n",
        "# # ax.axis('off')\n",
        "# ax.set_title('Rotate 90', size=14)\n",
        "\n",
        "\n",
        "# resized = cv2.resize(test_img_arry, (224, 224), interpolation = cv2.INTER_AREA) \n",
        "# print('Resized Dimensions : ',resized.shape) \n",
        "# cv2_imshow(resized)\n",
        "\n",
        "# # =============== Rotation 90 =============================\n",
        "# angle = int(random.uniform(-90, 90))\n",
        "# print('angle', angle)\n",
        "# # h, w = test_img_arry.shape[:2]\n",
        "# # M = cv2.getRotationMatrix2D((int(w/2), int(h/2)), angle, 1)\n",
        "# # rotated_img_gs = cv2.warpAffine(test_img_arry, M, (w, h))\n",
        "# # rotated_img_gs = img_to_array(rotated_img_gs)\n",
        "# # print(\"rot90****\")\n",
        "# # cv2_imshow(rotated_img_gs)\n",
        "# # print();cv2_imshow(arr_original)\n",
        "\n",
        "# # =============== Rotation 180 ============================\n",
        "# # angle = int(random.uniform(-180, 180))\n",
        "# # h, w = test_img_arry.shape[:2]\n",
        "# # M = cv2.getRotationMatrix2D((int(w/2), int(h/2)), angle, 1)\n",
        "# # rotated_img_gs = cv2.warpAffine(test_img_arry, M, (w, h))\n",
        "# # rotated_img_gs = img_to_array(rotated_img_gs)\n",
        "# # print(\"rot180****\")\n",
        "# # cv2_imshow(rotated_img_gs)\n",
        "\n",
        "# # # rotate ccw\n",
        "# # out=cv2.transpose(test_img_arry)\n",
        "# # out=cv2.flip(out,flipCode=0)\n",
        "# # rotated_img_gs = img_to_array(out)\n",
        "# # print(\"90ccwrot****\")\n",
        "# # cv2_imshow(out)\n",
        "\n",
        "# # out=cv2.transpose(test_img_arry)\n",
        "# # out=cv2.flip(out,flipCode=1)\n",
        "# # rotated_img_gs = img_to_array(out)\n",
        "# # print(\"90rot****\")\n",
        "# # cv2_imshow(out)\n"
      ],
      "metadata": {
        "id": "r7bXcuyZJhBx"
      },
      "execution_count": 18,
      "outputs": []
    },
    {
      "cell_type": "code",
      "source": [
        "from google.colab.patches import cv2_imshow\n",
        "\n",
        "test_img = load_img(train_1_images_list[0], color_mode =\"grayscale\")\n",
        "test_img_arry = img_to_array(test_img)\n",
        "print(\"original****\")\n",
        "cv2_imshow(test_img_arry)\n",
        "\n",
        "bright_img_gs = tf.image.adjust_brightness(test_img_arry, delta=10)\n",
        "bright_img_gs = img_to_array(bright_img_gs)\n",
        "print(\"0.3_bright****\")\n",
        "cv2_imshow(bright_img_gs)\n",
        "\n",
        "contrast_img_gs = tf.image.adjust_contrast(test_img_arry, contrast_factor=3)\n",
        "contrast_img_gs = img_to_array(contrast_img_gs)\n",
        "print(\"3_contrast****\")\n",
        "cv2_imshow(contrast_img_gs)\n",
        "\n",
        "hflip_img_gs = cv2.flip(test_img_arry, 1)\n",
        "print(\"vflip****\")\n",
        "cv2_imshow(hflip_img_gs)\n",
        "\n",
        "vflip_img_gs = cv2.flip(test_img_arry, 0)\n",
        "print(\"hflip****\")\n",
        "cv2_imshow(vflip_img_gs)\n",
        "\n",
        "angle = int(random.uniform(-90, 90))\n",
        "h, w = test_img_arry.shape[:2]\n",
        "M = cv2.getRotationMatrix2D((int(w/2), int(h/2)), angle, 1)\n",
        "rotated_img_gs = cv2.warpAffine(test_img_arry, M, (w, h))\n",
        "rotated_img_gs = img_to_array(rotated_img_gs)\n",
        "print(\"rot90****\")\n",
        "cv2_imshow(rotated_img_gs)\n",
        "\n",
        "angle = int(random.uniform(-10, 10))\n",
        "h, w = test_img_arry.shape[:2]\n",
        "M = cv2.getRotationMatrix2D((int(w/2), int(h/2)), angle, 1)\n",
        "rotated_img_gs = cv2.warpAffine(test_img_arry, M, (w, h))\n",
        "rotated_img_gs = img_to_array(rotated_img_gs)\n",
        "print(\"rot10****\")\n",
        "cv2_imshow(rotated_img_gs)\n",
        "\n",
        "angle = int(random.uniform(-30, 30))\n",
        "h, w = test_img_arry.shape[:2]\n",
        "M = cv2.getRotationMatrix2D((int(w/2), int(h/2)), angle, 1)\n",
        "rotated_img_gs = cv2.warpAffine(test_img_arry, M, (w, h))\n",
        "rotated_img_gs = img_to_array(rotated_img_gs)\n",
        "print(\"rot30****\")\n",
        "cv2_imshow(rotated_img_gs)\n",
        "\n",
        "# rotate ccw\n",
        "out=cv2.transpose(test_img_arry)\n",
        "out=cv2.flip(out,flipCode=0)\n",
        "rotated_img_gs = img_to_array(out)\n",
        "print(\"90ccwrot****\")\n",
        "cv2_imshow(out)\n",
        "\n",
        "out=cv2.transpose(test_img_arry)\n",
        "out=cv2.flip(out,flipCode=1)\n",
        "rotated_img_gs = img_to_array(out)\n",
        "print(\"90rot****\")\n",
        "cv2_imshow(out)"
      ],
      "metadata": {
        "id": "TCVsAcTIzjXG",
        "colab": {
          "base_uri": "https://localhost:8080/",
          "height": 691
        },
        "outputId": "b7d303a2-5b21-45a7-ae02-ac15c89f0030"
      },
      "execution_count": 19,
      "outputs": [
        {
          "output_type": "stream",
          "name": "stdout",
          "text": [
            "original****\n"
          ]
        },
        {
          "output_type": "display_data",
          "data": {
            "text/plain": [
              "<PIL.Image.Image image mode=RGB size=50x50 at 0x7F157DA28EE0>"
            ],
            "image/png": "[encoded data removed]"
          },
          "metadata": {}
        },
        {
          "output_type": "stream",
          "name": "stdout",
          "text": [
            "0.3_bright****\n"
          ]
        },
        {
          "output_type": "display_data",
          "data": {
            "text/plain": [
              "<PIL.Image.Image image mode=RGB size=50x50 at 0x7F157DA28FD0>"
            ],
            "image/png": "[encoded data removed]"
          },
          "metadata": {}
        },
        {
          "output_type": "stream",
          "name": "stdout",
          "text": [
            "3_contrast****\n"
          ]
        },
        {
          "output_type": "display_data",
          "data": {
            "text/plain": [
              "<PIL.Image.Image image mode=RGB size=50x50 at 0x7F157DA28F40>"
            ],
            "image/png": "[encoded data removed]"
          },
          "metadata": {}
        },
        {
          "output_type": "stream",
          "name": "stdout",
          "text": [
            "vflip****\n"
          ]
        },
        {
          "output_type": "display_data",
          "data": {
            "text/plain": [
              "<PIL.Image.Image image mode=L size=50x50 at 0x7F157DA28EE0>"
            ],
            "image/png": "[encoded data removed]"
          },
          "metadata": {}
        },
        {
          "output_type": "stream",
          "name": "stdout",
          "text": [
            "hflip****\n"
          ]
        },
        {
          "output_type": "display_data",
          "data": {
            "text/plain": [
              "<PIL.Image.Image image mode=L size=50x50 at 0x7F1581897C40>"
            ],
            "image/png": "[encoded data removed]"
          },
          "metadata": {}
        },
        {
          "output_type": "stream",
          "name": "stdout",
          "text": [
            "rot90****\n"
          ]
        },
        {
          "output_type": "display_data",
          "data": {
            "text/plain": [
              "<PIL.Image.Image image mode=RGB size=50x50 at 0x7F1581897220>"
            ],
            "image/png": "[encoded data removed]"
          },
          "metadata": {}
        },
        {
          "output_type": "stream",
          "name": "stdout",
          "text": [
            "rot10****\n"
          ]
        },
        {
          "output_type": "display_data",
          "data": {
            "text/plain": [
              "<PIL.Image.Image image mode=RGB size=50x50 at 0x7F15818978E0>"
            ],
            "image/png": "[encoded data removed]"
          },
          "metadata": {}
        },
        {
          "output_type": "stream",
          "name": "stdout",
          "text": [
            "rot30****\n"
          ]
        },
        {
          "output_type": "display_data",
          "data": {
            "text/plain": [
              "<PIL.Image.Image image mode=RGB size=50x50 at 0x7F15818976D0>"
            ],
            "image/png": "[encoded data removed]"
          },
          "metadata": {}
        },
        {
          "output_type": "stream",
          "name": "stdout",
          "text": [
            "90ccwrot****\n"
          ]
        },
        {
          "output_type": "display_data",
          "data": {
            "text/plain": [
              "<PIL.Image.Image image mode=L size=50x50 at 0x7F1581897AF0>"
            ],
            "image/png": "[encoded data removed]"
          },
          "metadata": {}
        },
        {
          "output_type": "stream",
          "name": "stdout",
          "text": [
            "90rot****\n"
          ]
        },
        {
          "output_type": "display_data",
          "data": {
            "text/plain": [
              "<PIL.Image.Image image mode=L size=50x50 at 0x7F1581897C40>"
            ],
            "image/png": "[encoded data removed]"
          },
          "metadata": {}
        }
      ]
    },
    {
      "cell_type": "code",
      "source": [
        "resized = cv2.resize(test_img_arry, (224, 224), interpolation = cv2.INTER_AREA) \n",
        "print('Resized Dimensions : ',resized.shape) \n",
        "cv2_imshow(resized)"
      ],
      "metadata": {
        "id": "5I6GPlMm_6GR",
        "colab": {
          "base_uri": "https://localhost:8080/",
          "height": 258
        },
        "outputId": "50e7e69e-97e3-4848-d99e-5deff97ca3f7"
      },
      "execution_count": 20,
      "outputs": [
        {
          "output_type": "stream",
          "name": "stdout",
          "text": [
            "Resized Dimensions :  (224, 224)\n"
          ]
        },
        {
          "output_type": "display_data",
          "data": {
            "text/plain": [
              "<PIL.Image.Image image mode=L size=224x224 at 0x7F157F80C100>"
            ],
            "image/png": "[encoded data removed]"
          },
          "metadata": {}
        }
      ]
    },
    {
      "cell_type": "markdown",
      "source": [
        "# Filter Out Odd Images\n",
        "- Exclude images that are not **50 by 50**\n",
        "- Exclude images with no **.png** extension"
      ],
      "metadata": {
        "id": "JskE-RJrzNuQ"
      }
    },
    {
      "cell_type": "code",
      "source": [
        "odd_images = []\n",
        "def extract_odd_images(file_list, IMG_SIZE = 50):\n",
        "    for file_name in file_list:\n",
        "        test_img = load_img(file_name, color_mode =\"grayscale\")\n",
        "        test_img_arry = img_to_array(test_img)\n",
        "        if test_img_arry.shape[0] != IMG_SIZE or test_img_arry.shape[1] != IMG_SIZE:\n",
        "            odd_images.append(file_name)"
      ],
      "metadata": {
        "id": "ksYFBFjrdbFK"
      },
      "execution_count": 21,
      "outputs": []
    },
    {
      "cell_type": "code",
      "source": [
        "extract_odd_images(train_1_images_list + train_0_images_list + test_1_images_list + test_0_images_list + val_1_images_list + val_0_images_list)"
      ],
      "metadata": {
        "id": "BewtIomPefkn"
      },
      "execution_count": 22,
      "outputs": []
    },
    {
      "cell_type": "code",
      "source": [
        "odd_images"
      ],
      "metadata": {
        "id": "zcBUXUXqe6Xv",
        "colab": {
          "base_uri": "https://localhost:8080/"
        },
        "outputId": "3acf5f81-0960-43ca-bf99-d00980dab600"
      },
      "execution_count": 23,
      "outputs": [
        {
          "output_type": "execute_result",
          "data": {
            "text/plain": [
              "['/content/Dataset/Train/0/12954_idx5_x1651_y2951_class0.png',\n",
              " '/content/Dataset/Train/0/13106_idx5_x1_y2951_class0.png',\n",
              " '/content/Dataset/Train/0/9347_idx5_x2101_y801_class0.png',\n",
              " '/content/Dataset/Test/0/13404_idx5_x1101_y2901_class0.png',\n",
              " '/content/Dataset/Validate/0/13694_idx5_x1551_y2801_class0.png',\n",
              " '/content/Dataset/Validate/0/9320_idx5_x801_y2951_class0.png',\n",
              " '/content/Dataset/Validate/0/12931_idx5_x1901_y2151_class0.png']"
            ]
          },
          "metadata": {},
          "execution_count": 23
        }
      ]
    },
    {
      "cell_type": "code",
      "source": [
        "import cv2 as cv\n",
        "import skimage.io as io\n",
        "\n",
        "def display_images(subclass):\n",
        "  fig, axes = plt.subplots(nrows=1, ncols=7, figsize=(20,8))\n",
        "  for idx, ax in enumerate(axes.flat):\n",
        "    image_wo_path = os.path.basename(subclass[idx])\n",
        "    subtitle = 'Class ' + image_wo_path.rsplit('.')[0][-1] + ': ' + subclass[idx].split('/')[3]\n",
        "    img = io.imread(subclass[idx])\n",
        "    ax.imshow(img)\n",
        "    # ax.axis('off')\n",
        "    ax.set_title(subtitle, size=14)   \n",
        "  fig.tight_layout() \n",
        "  plt.show() \n",
        "\n",
        "print();display_images(odd_images)"
      ],
      "metadata": {
        "colab": {
          "base_uri": "https://localhost:8080/",
          "height": 357
        },
        "id": "GUjzcW6KmPpa",
        "outputId": "8ee6ac49-46f3-4b28-b202-cdc4cdce313a"
      },
      "execution_count": 24,
      "outputs": [
        {
          "output_type": "stream",
          "name": "stdout",
          "text": [
            "\n"
          ]
        },
        {
          "output_type": "display_data",
          "data": {
            "text/plain": [
              "<Figure size 1440x576 with 7 Axes>"
            ],
            "image/png": "[encoded data removed]"
          },
          "metadata": {
            "needs_background": "light"
          }
        }
      ]
    },
    {
      "cell_type": "code",
      "source": [
        "train_0_images_list[:5]"
      ],
      "metadata": {
        "id": "oVtUbzBwSkOx",
        "colab": {
          "base_uri": "https://localhost:8080/"
        },
        "outputId": "a2fa770e-8c23-4e4c-9051-a0221830d93d"
      },
      "execution_count": 25,
      "outputs": [
        {
          "output_type": "execute_result",
          "data": {
            "text/plain": [
              "['/content/Dataset/Train/0/12910_idx5_x2951_y1151_class0.png',\n",
              " '/content/Dataset/Train/0/12930_idx5_x501_y1451_class0.png',\n",
              " '/content/Dataset/Train/0/12891_idx5_x2801_y1451_class0.png',\n",
              " '/content/Dataset/Train/0/9125_idx5_x701_y1201_class0.png',\n",
              " '/content/Dataset/Train/0/13022_idx5_x2851_y1151_class0.png']"
            ]
          },
          "metadata": {},
          "execution_count": 25
        }
      ]
    },
    {
      "cell_type": "code",
      "source": [
        "train_1_images_list[0].split(\"/\")[-1], train_1_images_list[0][:train_1_images_list[0].rfind(\"/\") + 1]"
      ],
      "metadata": {
        "id": "2BcU0Mx5ShaC",
        "colab": {
          "base_uri": "https://localhost:8080/"
        },
        "outputId": "3d6d2411-372e-419c-e9d4-6d8a39453179"
      },
      "execution_count": 26,
      "outputs": [
        {
          "output_type": "execute_result",
          "data": {
            "text/plain": [
              "('10293_idx5_x1401_y1651_class1.png', '/content/Dataset/Train/1/')"
            ]
          },
          "metadata": {},
          "execution_count": 26
        }
      ]
    },
    {
      "cell_type": "code",
      "source": [
        "# delete a full folder including all its files and subfolders\n",
        "!rm -rf processed_images/"
      ],
      "metadata": {
        "id": "wIGRZoWrzuJ4"
      },
      "execution_count": 27,
      "outputs": []
    },
    {
      "cell_type": "markdown",
      "source": [
        "# Create a New Directory Path to Store Processed Images"
      ],
      "metadata": {
        "id": "ExufXq8gzvre"
      }
    },
    {
      "cell_type": "code",
      "source": [
        "root_dir = 'processed_images'\n",
        "\n",
        "os.makedirs(f'{root_dir}', exist_ok = True)\n",
        "for dir in ['train', 'val', 'test']:\n",
        "    for sub_dir in ['1', '0']:\n",
        "        os.makedirs(f'{root_dir}/{dir}/{sub_dir}', exist_ok=True)"
      ],
      "metadata": {
        "id": "NuLyO5-kX9RL"
      },
      "execution_count": 28,
      "outputs": []
    },
    {
      "cell_type": "markdown",
      "source": [
        "# Image Augmentation on Training Dataset\n",
        "- Convert color to gray scale\n",
        "- Flip: Horizontal and Vertical\n",
        "- Rotate 90 degree"
      ],
      "metadata": {
        "id": "BK4hkV9niRAs"
      }
    },
    {
      "cell_type": "code",
      "source": [
        "# def create_gs_files(file_list, dest_dir, ind):\n",
        "def create_gs_files(file_list, dest_dir, ind, brightness_delta=0.3, contrast_factor=3, angle=10):\n",
        "  # print(file_list, dest_dir, ind)\n",
        "  lst_train_1_gs, lst_train_0_gs = [], []\n",
        "  lst_val_1_gs, lst_val_0_gs = [], []\n",
        "  lst_test_1_gs, lst_test_0_gs = [], []\n",
        "\n",
        "  file_extension = '.png'\n",
        "  for image_file in file_list:\n",
        "      #print(image_file)\n",
        "      if image_file[0] == '.' or image_file in odd_images:                                     # if image_file = .DS_Store or an odd image then ignore\n",
        "          continue\n",
        "      img_gs = load_img(image_file, color_mode = \"grayscale\")                                     # convert images from colorscale to grayscale\n",
        "      img_array_gs = img_to_array(img_gs)/255.0                                                         # convert grayscale images to array and normalize\n",
        "      #print(\"a\")\n",
        "      #img_array_gs = cv2.resize(img_array_gs, (224, 224), interpolation = cv2.INTER_AREA)\n",
        "      \n",
        "      file_name = image_file.split(\"/\")[-1]                                                       # extract only filenames from the full file path\n",
        "      save_img(dest_dir + file_name.split(\".\")[0] + '_gs' + file_extension, img_array_gs)\n",
        "      if ind == 1:\n",
        "          # insert raw training images in gray scale\n",
        "          lst_train_0_gs.append(dest_dir + file_name.split(\".\")[0] + '_gs' + file_extension)\n",
        "\n",
        "          # adjust brightness\n",
        "          bright_img_gs = tf.image.adjust_brightness(img_array_gs, delta=brightness_delta)\n",
        "          img_array_bright_gs = img_to_array(bright_img_gs)\n",
        "          save_img(dest_dir + file_name.split(\".\")[0] + '_bright_gs' + file_extension, img_array_bright_gs)\n",
        "          lst_train_0_gs.append(dest_dir + file_name.split(\".\")[0] + '_bright_gs' + file_extension)\n",
        "          \n",
        "          # adjust contrast\n",
        "          contrast_img_gs = tf.image.adjust_contrast(img_array_gs, contrast_factor=contrast_factor)\n",
        "          img_array_contrast_gs = img_to_array(contrast_img_gs)\n",
        "          save_img(dest_dir + file_name.split(\".\")[0] + '_contrast_gs' + file_extension, img_array_contrast_gs)\n",
        "          lst_train_0_gs.append(dest_dir + file_name.split(\".\")[0] + '_contrast_gs' + file_extension)\n",
        "\n",
        "          # horizontal flip\n",
        "          hflip_img_gs = cv2.flip(img_array_gs, 1)\n",
        "          img_array_hflip_gs = img_to_array(hflip_img_gs)\n",
        "          save_img(dest_dir + file_name.split(\".\")[0] + '_hflip_gs' + file_extension, img_array_hflip_gs)\n",
        "          lst_train_0_gs.append(dest_dir + file_name.split(\".\")[0] + '_hflip_gs' + file_extension)\n",
        "\n",
        "          # vertical flip\n",
        "          vflip_img_gs = cv2.flip(img_array_gs, 0)\n",
        "          img_array_vflip_gs = img_to_array(vflip_img_gs)\n",
        "          save_img(dest_dir + file_name.split(\".\")[0] + '_vflip_gs' + file_extension, img_array_vflip_gs)\n",
        "          lst_train_0_gs.append(dest_dir + file_name.split(\".\")[0] + '_vflip_gs' + file_extension)\n",
        "\n",
        "          # # rotate \n",
        "          # rotate = int(random.uniform(-angle, angle))\n",
        "          # print('rotate ind=1', rotate)\n",
        "          # h, w = img_array_gs.shape[:2]\n",
        "          # M = cv2.getRotationMatrix2D((int(w/2), int(h/2)), rotate, 1)\n",
        "          # rotated_img_gs = cv2.warpAffine(img_array_gs, M, (w, h))\n",
        "          # img_array_rotated_gs = img_to_array(rotated_img_gs)\n",
        "          # save_img(dest_dir + file_name.split(\".\")[0] + '_' + str(angle) + 'rotated_gs' + file_extension, img_array_rotated_gs)\n",
        "          # lst_train_0_gs.append(dest_dir + file_name.split(\".\")[0] + '_' + str(angle) + 'rotated_gs' + file_extension)\n",
        "          # '''\n",
        "          # angle = int(random.uniform(-279, 270))\n",
        "          # h, w = img_array_gs.shape[:2]\n",
        "          # M = cv2.getRotationMatrix2D((int(w/2), int(h/2)), angle, 1)\n",
        "          # rotated_img_gs = cv2.warpAffine(img_array_gs, M, (w, h))\n",
        "          # img_array_rotated_gs = img_to_array(rotated_img_gs)\n",
        "          # save_img(dest_dir + file_name.split(\".\")[0] + '_270rotated_gs' + file_extension, img_array_rotated_gs)\n",
        "          # lst_train_0_gs.append(dest_dir + file_name.split(\".\")[0] + '_270rotated_gs' + file_extension)\n",
        "          \n",
        "          # img_90rot_gs = cv2.rotate(img_gs, cv2.cv2.ROTATE_90_CLOCKWISE)\n",
        "          # img_array_90rot_gs = img_to_array(img_90rot_gs)\n",
        "          # save_img(dest_dir + file_name.split(\".\")[0] + '_90rot_gs' + file_extension, img_array_90rot_gs)\n",
        "          # lst_train_0_gs.append(dest_dir + file_name.split(\".\")[0] + '_90rot_gs' + file_extension)\n",
        "          \n",
        "          # img_180rot_gs = cv2.rotate(img_gs, cv2.cv2.ROTATE_180_CLOCKWISE)\n",
        "          # img_array_180rot_gs = img_to_array(img_180rot_gs)\n",
        "          # save_img(dest_dir + file_name.split(\".\")[0] + '_180rot_gs' + file_extension, img_array_180rot_gs)\n",
        "          # lst_train_0_gs.append(dest_dir + file_name.split(\".\")[0] + '_180rot_gs' + file_extension)\n",
        "\n",
        "          # img_270rot_gs = cv2.rotate(img_gs, cv2.cv2.ROTATE_270_CLOCKWISE)\n",
        "          # img_array_270rot_gs = img_to_array(img_90rot_gs)\n",
        "          # save_img(dest_dir + file_name.split(\".\")[0] + '_90rot_gs' + file_extension, img_array_270rot_gs)\n",
        "          # lst_train_0_gs.append(dest_dir + file_name.split(\".\")[0] + '_90rot_gs' + file_extension)\n",
        "          # '''\n",
        "          # #  histogram equalized image\n",
        "          # img_gs = cv2.imread(image_file, 0)\n",
        "          # img_array_enhanced_gs = cv2.equalizeHist(img_gs)\n",
        "          # img_array_enhanced_gs = img_to_array(img_array_enhanced_gs)\n",
        "          # save_img(dest_dir + file_name.split(\".\")[0] + '_enhance_gs' + file_extension, img_array_enhanced_gs)\n",
        "          # lst_train_0_gs.append(dest_dir + file_name.split(\".\")[0] + '_enhanced_gs' + file_extension)\n",
        "\n",
        "          # # transpose and rotate 90 degrees counter clockwise (flip around x-axis)\n",
        "          # img_ccw90rot_gs = cv2.transpose(img_array_gs)\n",
        "          # img_ccw90rot_gs = cv2.flip(img_ccw90rot_gs, flipCode = 0)\n",
        "          # rotatedccw90_img_gs = img_to_array(img_ccw90rot_gs)\n",
        "          # save_img(dest_dir + file_name.split(\".\")[0] + '_ccw90rot_gs' + file_extension, rotatedccw90_img_gs)\n",
        "          # lst_train_0_gs.append(dest_dir + file_name.split(\".\")[0] + '_ccw90rot_gs' + file_extension)\n",
        "          # #print(\"e\")\n",
        "\n",
        "          # # transpose and rotate 90 degrees (flip around y-axis)\n",
        "          # img_90rot_gs = cv2.transpose(img_array_gs)\n",
        "          # img_90rot_gs = cv2.flip(img_90rot_gs, flipCode = 1)\n",
        "          # rotated90_img_gs = img_to_array(img_90rot_gs)\n",
        "          # save_img(dest_dir + file_name.split(\".\")[0] + '_90rot_gs' + file_extension, rotated90_img_gs)\n",
        "          # lst_train_0_gs.append(dest_dir + file_name.split(\".\")[0] + '_90rot_gs' + file_extension)\n",
        "          # #print(\"f\")\n",
        "\n",
        "      elif ind == 2:\n",
        "          # insert raw training images in gray scale\n",
        "          lst_train_1_gs.append(dest_dir + file_name.split(\".\")[0] + '_gs' + file_extension)\n",
        "\n",
        "          # adjust brightness\n",
        "          bright_img_gs = tf.image.adjust_brightness(img_array_gs, delta=brightness_delta)\n",
        "          img_array_bright_gs = img_to_array(bright_img_gs)\n",
        "          save_img(dest_dir + file_name.split(\".\")[0] + '_bright_gs' + file_extension, img_array_bright_gs)\n",
        "          lst_train_1_gs.append(dest_dir + file_name.split(\".\")[0] + '_bright_gs' + file_extension)\n",
        "          \n",
        "          # adjust contrast\n",
        "          contrast_img_gs = tf.image.adjust_contrast(img_array_gs, contrast_factor=contrast_factor)\n",
        "          img_array_contrast_gs = img_to_array(contrast_img_gs)\n",
        "          save_img(dest_dir + file_name.split(\".\")[0] + '_contrast_gs' + file_extension, img_array_contrast_gs)\n",
        "          lst_train_1_gs.append(dest_dir + file_name.split(\".\")[0] + '_contrast_gs' + file_extension)\n",
        "\n",
        "          # horizontal flip\n",
        "          hflip_img_gs = cv2.flip(img_array_gs, 1)\n",
        "          img_array_hflip_gs = img_to_array(hflip_img_gs)\n",
        "          save_img(dest_dir + file_name.split(\".\")[0] + '_hflip_gs' + file_extension, img_array_hflip_gs)\n",
        "          lst_train_1_gs.append(dest_dir + file_name.split(\".\")[0] + '_hflip_gs' + file_extension)\n",
        "\n",
        "          # vertical flip\n",
        "          vflip_img_gs = cv2.flip(img_array_gs, 0)\n",
        "          img_array_vflip_gs = img_to_array(vflip_img_gs)\n",
        "          save_img(dest_dir + file_name.split(\".\")[0] + '_vflip_gs' + file_extension, img_array_vflip_gs)\n",
        "          lst_train_1_gs.append(dest_dir + file_name.split(\".\")[0] + '_vflip_gs' + file_extension)\n",
        "\n",
        "          # # rotate 90 degree\n",
        "          # rotate = int(random.uniform(-angle, angle))\n",
        "          # print('rotate ind=2', rotate)\n",
        "          # h, w = img_array_gs.shape[:2]\n",
        "          # M = cv2.getRotationMatrix2D((int(w/2), int(h/2)), rotate, 1)\n",
        "          # rotated_img_gs = cv2.warpAffine(img_array_gs, M, (w, h))\n",
        "          # # print('rotated_img_gs ind=2',rotated_img_gs)\n",
        "          # img_array_rotated_gs = img_to_array(rotated_img_gs)\n",
        "          # save_img(dest_dir + file_name.split(\".\")[0] + '_' + str(angle) + 'rotated_gs' + file_extension, img_array_rotated_gs)\n",
        "          # lst_train_1_gs.append(dest_dir + file_name.split(\".\")[0] + '_' + str(angle) + 'rotated_gs' + file_extension)\n",
        "          # '''\n",
        "          # angle = int(random.uniform(-279, 270))\n",
        "          # h, w = img_array_gs.shape[:2]\n",
        "          # M = cv2.getRotationMatrix2D((int(w/2), int(h/2)), angle, 1)\n",
        "          # rotated_img_gs = cv2.warpAffine(img_array_gs, M, (w, h))\n",
        "          # img_array_rotated_gs = img_to_array(rotated_img_gs)\n",
        "          # save_img(dest_dir + file_name.split(\".\")[0] + '_270rotated_gs' + file_extension, img_array_rotated_gs)\n",
        "          # lst_train_1_gs.append(dest_dir + file_name.split(\".\")[0] + '_270rotated_gs' + file_extension)\n",
        "          \n",
        "          # img_90rot_gs = cv2.rotate(img_gs, cv2.cv2.ROTATE_90_CLOCKWISE)\n",
        "          # img_array_90rot_gs = img_to_array(img_90rot_gs)\n",
        "          # save_img(dest_dir + file_name.split(\".\")[0] + '_90rot_gs' + file_extension, img_array_90rot_gs)\n",
        "          # lst_train_1_gs.append(dest_dir + file_name.split(\".\")[0] + '_90rot_gs' + file_extension)\n",
        "          \n",
        "          # img_180rot_gs = cv2.rotate(img_gs, cv2.cv2.ROTATE_180_CLOCKWISE)\n",
        "          # img_array_180rot_gs = img_to_array(img_180rot_gs)\n",
        "          # save_img(dest_dir + file_name.split(\".\")[0] + '_180rot_gs' + file_extension, img_array_180rot_gs)\n",
        "          # lst_train_1_gs.append(dest_dir + file_name.split(\".\")[0] + '_180rot_gs' + file_extension)\n",
        "\n",
        "          # img_270rot_gs = cv2.rotate(img_gs, cv2.cv2.ROTATE_270_CLOCKWISE)\n",
        "          # img_array_270rot_gs = img_to_array(img_90rot_gs)\n",
        "          # save_img(dest_dir + file_name.split(\".\")[0] + '_90rot_gs' + file_extension, img_array_270rot_gs)\n",
        "          # lst_train_1_gs.append(dest_dir + file_name.split(\".\")[0] + '_90rot_gs' + file_extension)\n",
        "          # '''\n",
        "          # #  histogram equalized image\n",
        "          # img_gs = cv2.imread(image_file, 0)\n",
        "          # img_array_enhanced_gs = cv2.equalizeHist(img_gs)\n",
        "          # img_array_enhanced_gs = img_to_array(img_array_enhanced_gs)\n",
        "          # save_img(dest_dir + file_name.split(\".\")[0] + '_enhance_gs' + file_extension, img_array_enhanced_gs)\n",
        "          # lst_train_1_gs.append(dest_dir + file_name.split(\".\")[0] + '_enhanced_gs' + file_extension)\n",
        "\n",
        "          # # transpose and rotate 90 degrees counter clockwise (flip around x-axis)\n",
        "          # img_ccw90rot_gs = cv2.transpose(img_array_gs)\n",
        "          # img_ccw90rot_gs = cv2.flip(img_ccw90rot_gs, flipCode = 0)\n",
        "          # rotatedccw90_img_gs = img_to_array(img_ccw90rot_gs)\n",
        "          # save_img(dest_dir + file_name.split(\".\")[0] + '_ccw90rot_gs' + file_extension, rotatedccw90_img_gs)\n",
        "          # lst_train_1_gs.append(dest_dir + file_name.split(\".\")[0] + '_ccw90rot_gs' + file_extension)\n",
        "\n",
        "          # # transpose and rotate 90 degrees (flip around y-axis)\n",
        "          # img_90rot_gs = cv2.transpose(img_array_gs)\n",
        "          # img_90rot_gs = cv2.flip(img_90rot_gs, flipCode = 1)\n",
        "          # rotated90_img_gs = img_to_array(img_90rot_gs)\n",
        "          # save_img(dest_dir + file_name.split(\".\")[0] + '_90rot_gs' + file_extension, rotated90_img_gs)\n",
        "          # lst_train_1_gs.append(dest_dir + file_name.split(\".\")[0] + '_90rot_gs' + file_extension)\n",
        "\n",
        "      elif ind == 3:\n",
        "          lst_val_0_gs.append(dest_dir + file_name.split(\".\")[0] + '_gs' + file_extension)\n",
        "      elif ind == 4:\n",
        "          lst_val_1_gs.append(dest_dir + file_name.split(\".\")[0] + '_gs' + file_extension)\n",
        "      elif ind == 5:\n",
        "          lst_test_0_gs.append(dest_dir + file_name.split(\".\")[0] + '_gs' + file_extension)\n",
        "      elif ind == 6:\n",
        "          lst_test_1_gs.append(dest_dir + file_name.split(\".\")[0] + '_gs' + file_extension)\n",
        "              "
      ],
      "metadata": {
        "id": "L6noBudsj3_a"
      },
      "execution_count": 29,
      "outputs": []
    },
    {
      "cell_type": "code",
      "source": [
        "# len(os.listdir('/content/Dataset/Validate/0'))"
      ],
      "metadata": {
        "id": "RRzsJjRdYI-N"
      },
      "execution_count": 30,
      "outputs": []
    },
    {
      "cell_type": "markdown",
      "source": [
        "# Store Processed Images to New Directory\n",
        "- Convert color to gray scale\n",
        "- Append augmented images"
      ],
      "metadata": {
        "id": "b4_OFquExX6h"
      }
    },
    {
      "cell_type": "code",
      "source": [
        "print(train_1_images_list[0])\n",
        "print(train_0_images_list[0])"
      ],
      "metadata": {
        "id": "CLuVNaA2sq7h",
        "outputId": "7b02b483-2322-4f12-e037-4fba0f95b28c",
        "colab": {
          "base_uri": "https://localhost:8080/"
        }
      },
      "execution_count": 31,
      "outputs": [
        {
          "output_type": "stream",
          "name": "stdout",
          "text": [
            "/content/Dataset/Train/1/10293_idx5_x1401_y1651_class1.png\n",
            "/content/Dataset/Train/0/12910_idx5_x2951_y1151_class0.png\n"
          ]
        }
      ]
    },
    {
      "cell_type": "code",
      "source": [
        "print(tgt_train_1_image_path)\n",
        "print(tgt_train_0_image_path)"
      ],
      "metadata": {
        "id": "iVJAiKvTtjJg",
        "outputId": "f94cf78c-5869-4b45-931e-fb063dc9cb31",
        "colab": {
          "base_uri": "https://localhost:8080/"
        }
      },
      "execution_count": 32,
      "outputs": [
        {
          "output_type": "stream",
          "name": "stdout",
          "text": [
            "/content/processed_images/train/1/\n",
            "/content/processed_images/train/0/\n"
          ]
        }
      ]
    },
    {
      "cell_type": "code",
      "source": [
        "create_gs_files(train_1_images_list, tgt_train_1_image_path, 1, 0.3, 3, 10)\n",
        "print(len(os.listdir('/content/Dataset/Train/1')))\n",
        "print(len(os.listdir(tgt_train_1_image_path)))\n",
        "create_gs_files(train_0_images_list, tgt_train_0_image_path, 2, 0.3, 3, 10)\n",
        "print(len(os.listdir('/content/Dataset/Train/0')))\n",
        "print(len(os.listdir(tgt_train_0_image_path)))\n",
        "\n",
        "create_gs_files(val_0_images_list, tgt_val_0_image_path, 3, 0.3, 3, 10)\n",
        "print(len(os.listdir('/content/Dataset/Validate/1')))\n",
        "print(len(os.listdir(tgt_val_1_image_path)))\n",
        "create_gs_files(val_1_images_list, tgt_val_1_image_path, 4, 0.3, 3, 10)\n",
        "print(len(os.listdir('/content/Dataset/Validate/0')))\n",
        "print(len(os.listdir(tgt_val_0_image_path)))\n",
        "\n",
        "create_gs_files(test_0_images_list, tgt_test_0_image_path, 5, 0.3, 3, 10)\n",
        "print(len(os.listdir('/content/Dataset/Test/1')))\n",
        "print(len(os.listdir(tgt_test_1_image_path)))\n",
        "create_gs_files(test_1_images_list, tgt_test_1_image_path, 6, 0.3, 3, 10)\n",
        "print(len(os.listdir('/content/Dataset/Test/0')))\n",
        "print(len(os.listdir(tgt_test_0_image_path)))"
      ],
      "metadata": {
        "id": "Nn5sGtRqURP5",
        "colab": {
          "base_uri": "https://localhost:8080/"
        },
        "outputId": "17d5b966-13a8-4e95-b1e3-74f1070100e7"
      },
      "execution_count": 33,
      "outputs": [
        {
          "output_type": "stream",
          "name": "stdout",
          "text": [
            "401\n",
            "2000\n",
            "401\n",
            "1985\n",
            "101\n",
            "0\n",
            "101\n",
            "97\n",
            "101\n",
            "0\n",
            "101\n",
            "99\n"
          ]
        }
      ]
    },
    {
      "cell_type": "code",
      "source": [
        "!ls -ltr /content/Dataset/Train/1/*.png|wc -l\n",
        "!ls -ltr /content/Dataset/Train/0/*.png|wc -l"
      ],
      "metadata": {
        "id": "X9_PlsJlbDak",
        "colab": {
          "base_uri": "https://localhost:8080/"
        },
        "outputId": "3a0fa01e-c559-4379-dad4-dd4cfc0a42a7"
      },
      "execution_count": 34,
      "outputs": [
        {
          "output_type": "stream",
          "name": "stdout",
          "text": [
            "400\n",
            "400\n"
          ]
        }
      ]
    },
    {
      "cell_type": "markdown",
      "source": [
        "# Check the Number of Processed Images in Each Class of Training Dataset"
      ],
      "metadata": {
        "id": "hLaNEkyvx3ct"
      }
    },
    {
      "cell_type": "code",
      "source": [
        "!ls -ltra /content/processed_images/train/1/*.png|wc -l\n",
        "!ls -ltra /content/processed_images/train/0/*.png|wc -l"
      ],
      "metadata": {
        "id": "I58crwAWUK-E",
        "colab": {
          "base_uri": "https://localhost:8080/"
        },
        "outputId": "87df560f-6567-4c39-cceb-d47f2d44ce38"
      },
      "execution_count": 35,
      "outputs": [
        {
          "output_type": "stream",
          "name": "stdout",
          "text": [
            "2000\n",
            "1985\n"
          ]
        }
      ]
    },
    {
      "cell_type": "code",
      "source": [
        "# def custom_augmentation(np_tensor):\n",
        " \n",
        "#     def random_contrast(np_tensor):\n",
        "#         return tf.image.random_contrast(np_tensor, 0.5, 2)\n",
        " \n",
        "#     def random_hue(np_tensor):\n",
        "#         return tf.image.random_hue(np_tensor, 0.5)\n",
        " \n",
        "#     def random_saturation(np_tensor):\n",
        "#         return tf.image.random_saturation(np_tensor, 0.2, 3)\n",
        " \n",
        "#     def gaussian_noise(np_tensor):\n",
        "#         mean = 0\n",
        "#         # variance: randomly between 1 to 25\n",
        "#         var = np.random.randint(1, 26)\n",
        "#         # sigma is square root of the variance value\n",
        "#         noise = np.random.normal(mean,var**0.5,np_tensor.shape)\n",
        "#         return np.clip(np_tensor + noise, 0, 255).astype('int')\n",
        "\n",
        "#     augmnted_tensor = random_contrast(np_tensor)\n",
        "#     augmnted_tensor = random_hue(augmnted_tensor)\n",
        "#     augmnted_tensor = random_saturation(augmnted_tensor)\n",
        "#     augmented_tensor = gaussian_noise(augmnted_tensor)\n",
        "  \n",
        "#     return np.array(augmnted_tensor)\n",
        "\n",
        "# # Train data generator\n",
        "# train_datagen = tf.keras.preprocessing.image.ImageDataGenerator(\n",
        "#     #featurewise_center            = True, \n",
        "#     #featurewise_std_normalization = True,\n",
        "#     rescale                       = 1.0/255\n",
        "# )\n",
        "\n",
        "# # Validation data generator\n",
        "# val_datagen = tf.keras.preprocessing.image.ImageDataGenerator(\n",
        "#     #featurewise_center            = True, \n",
        "#     #featurewise_std_normalization = True\n",
        "#     rescale = 1.0/255\n",
        "#     )\n",
        "\n",
        "# # Test data generator\n",
        "# test_datagen = tf.keras.preprocessing.image.ImageDataGenerator(\n",
        "#     #featurewise_center            = True, \n",
        "#     #featurewise_std_normalization = True\n",
        "#     rescale = 1.0/255\n",
        "#     )"
      ],
      "metadata": {
        "id": "hH1PhTDtgAHG"
      },
      "execution_count": 36,
      "outputs": []
    },
    {
      "cell_type": "markdown",
      "source": [
        "# Define Transfer Learning Models"
      ],
      "metadata": {
        "id": "fakIZQ_3xG64"
      }
    },
    {
      "cell_type": "code",
      "source": [
        "def build_transfer_learning_model(chosen_model):\n",
        "    \"\"\"\n",
        "    This function utilizes transfer learning of a given model.\n",
        "    \"\"\"\n",
        "    tf.random.set_seed(random_state)\n",
        "    np.random.seed(random_state)\n",
        "    tf.keras.backend.clear_session()\n",
        "\n",
        "    input_shape = (IMG_SIZE, IMG_SIZE, 3)\n",
        "    if chosen_model == 'VGG19':\n",
        "        model_tl = VGG19(weights = 'imagenet', include_top = False, input_shape = input_shape)\n",
        "    elif chosen_model == 'DenseNet201':\n",
        "        model_tl = tf.keras.applications.densenet.DenseNet201(weights = 'imagenet', include_top = False, input_shape = input_shape)\n",
        "    elif chosen_model == 'ResNet50':\n",
        "        model_tl = tf.keras.applications.resnet50.ResNet50(weights = 'imagenet', include_top = False, input_shape = input_shape)\n",
        "    elif chosen_model == 'ResNet152V2':\n",
        "        model_tl = ResNet152V2(weights = 'imagenet', include_top = False, input_shape = input_shape)       \n",
        "    elif chosen_model == 'VGG16':\n",
        "        model_tl = VGG16(weights = 'imagenet', include_top = False, input_shape = input_shape)\n",
        "    elif chosen_model == 'EfficientNetB7':\n",
        "        model_tl = tf.keras.applications.efficientnet.EfficientNetB7(weights = 'imagenet', include_top = False, input_shape = input_shape)\n",
        "    elif chosen_model == 'MobileNetV2':\n",
        "        model_tl = MobileNetV2(weights='imagenet',include_top = False, input_shape=input_shape)\n",
        "    elif chosen_model == 'Xception':\n",
        "        model_tl = tf.keras.applications.Xception(weights = 'imagenet', include_top = False, input_shape = input_shape)\n",
        "    elif chosen_model == 'InceptionV3':\n",
        "        model_tl = tf.keras.applications.InceptionV3(weights = 'imagenet', include_top = False, input_shape = input_shape)\n",
        "    return model_tl"
      ],
      "metadata": {
        "id": "dvw6LNAdkAW4"
      },
      "execution_count": 37,
      "outputs": []
    },
    {
      "cell_type": "markdown",
      "source": [
        "# Define plot_model_accuracy_and_loss function"
      ],
      "metadata": {
        "id": "k7BlY9hmxNUO"
      }
    },
    {
      "cell_type": "code",
      "source": [
        "def plot_model_accuracy_and_loss(history, chosen_model):\n",
        "   \"\"\"\n",
        "   This method plots model training and validation accuracies.\n",
        "   \"\"\"\n",
        "   tf.keras.backend.clear_session()\n",
        "\n",
        "   hist = history.history\n",
        "   x_arr = np.arange(len(hist['loss'])) + 1\n",
        "        \n",
        "   fig = plt.figure(figsize=(12, 4))\n",
        "   ax = fig.add_subplot(1, 2, 1)\n",
        "   ax.plot(x_arr, hist['loss'], '-o', label = 'Train Loss')\n",
        "   ax.plot(x_arr, hist['val_loss'], '--<', label = 'Val Loss')\n",
        "   ax.legend(fontsize=15)\n",
        "   ax.set_xlabel('Epoch', size = 15)\n",
        "   ax.set_ylabel('Loss', size = 15)\n",
        "\n",
        "   ax = fig.add_subplot(1, 2, 2)\n",
        "   ax.plot(x_arr, hist['accuracy'], '-o', label = 'Train Acc')\n",
        "   ax.plot(x_arr, hist['val_accuracy'], '--<', label = 'Val Acc')\n",
        "   ax.legend(fontsize = 15)\n",
        "   ax.set_xlabel('Epoch', size = 15)\n",
        "   ax.set_ylabel('Accuracy', size = 15)\n",
        "   ax.set_ylim(0,1)\n",
        "   plt.title(f\"{chosen_model}\")\n",
        "   plt.show(block = False)"
      ],
      "metadata": {
        "id": "Kymn8vnZsPc8"
      },
      "execution_count": 38,
      "outputs": []
    },
    {
      "cell_type": "markdown",
      "source": [
        "# Define Image Data Generator \n",
        ": 1200 given raw images + augmented images"
      ],
      "metadata": {
        "id": "VcWTaXg5yokz"
      }
    },
    {
      "cell_type": "code",
      "source": [
        "batch_size = 64\n",
        "random_state = 1234\n",
        "image_size = 50\n",
        "\n",
        "def data_generator(image_size): \n",
        "  processed_images_train_path = '/content/processed_images/train'           # contains augmented images with original images (4782 = IDC(1): 2400 + IDC(1): 2382)\n",
        "  processed_images_validation_path = '/content/processed_images/val'\n",
        "  processed_images_test_path = '/content/processed_images/test'\n",
        "\n",
        "  # train_datagen = ImageDataGenerator(rescale = 1./255,\n",
        "  #                                  horizontal_flip = True,\n",
        "  #                                  vertical_flip = True,\n",
        "  #                                  rotation_range = 180,\n",
        "  #                                  zoom_range = 0.4, \n",
        "  #                                  width_shift_range = 0.3,\n",
        "  #                                  height_shift_range = 0.3,\n",
        "  #                                  shear_range = 0.3\n",
        "  #                                  #,preprocessing_function = custom_augmentation \n",
        "  #                                 )\n",
        "\n",
        "  # # Validation data generator\n",
        "  # val_datagen = tf.keras.preprocessing.image.ImageDataGenerator(\n",
        "  #     rescale = 1.0/255\n",
        "  #     )\n",
        "\n",
        "  # # Test data generator\n",
        "  # test_datagen = tf.keras.preprocessing.image.ImageDataGenerator(\n",
        "  #     rescale = 1.0/255\n",
        "  #     )\n",
        "\n",
        "\n",
        "  datagen = tf.keras.preprocessing.image.ImageDataGenerator(rescale = 1.0/255)\n",
        "\n",
        "  train_data_generator = datagen.flow_from_directory(processed_images_train_path,\n",
        "                                                                      target_size = (image_size, image_size),\n",
        "                                                                      class_mode = 'categorical',\n",
        "                                                                      batch_size = batch_size,\n",
        "                                                                      color_mode = 'rgb',\n",
        "                                                                      shuffle = True,\n",
        "                                                                      seed = random_state\n",
        "                                                                      )\n",
        "  val_data_generator = datagen.flow_from_directory(processed_images_validation_path,\n",
        "                                                                  target_size = (image_size, image_size),\n",
        "                                                                  class_mode = 'categorical',\n",
        "                                                                  batch_size = batch_size,\n",
        "                                                                  color_mode = 'rgb',\n",
        "                                                                  shuffle = True,\n",
        "                                                                  seed = random_state\n",
        "                                                                  )\n",
        "  test_data_generator = datagen.flow_from_directory(processed_images_test_path,\n",
        "                                                                    target_size = (image_size, image_size),\n",
        "                                                                    batch_size = batch_size,\n",
        "                                                                    class_mode = 'categorical',\n",
        "                                                                    color_mode = 'rgb',\n",
        "                                                                    shuffle = False,\n",
        "                                                                    seed = random_state\n",
        "                                                                    )\n",
        "  return train_data_generator, val_data_generator, test_data_generator\n",
        "\n",
        "# train_data_generator, val_data_generator, test_data_generator = data_generator(image_size)"
      ],
      "metadata": {
        "id": "6ogPs-X7mtSK"
      },
      "execution_count": 39,
      "outputs": []
    },
    {
      "cell_type": "code",
      "source": [
        "# transfer_learning_model_list = ['VGG16', \n",
        "#                                 'VGG19', \n",
        "#                                 'DenseNet201', \n",
        "#                                 'InceptionV3', \n",
        "#                                 'ResNet50', \n",
        "#                                 'EfficientNetB7', \n",
        "#                                 'MobileNetV2', \n",
        "#                                 'Xception'\n",
        "#                                ]"
      ],
      "metadata": {
        "id": "igoFfn5voLQj"
      },
      "execution_count": 40,
      "outputs": []
    },
    {
      "cell_type": "markdown",
      "source": [
        "# Define Model\n",
        "- Build CNN with Transfer Learning and model.compile\n",
        "- model.fit\n",
        "- model.evaluate and model.predict"
      ],
      "metadata": {
        "id": "8ZGKiVVJct-7"
      }
    },
    {
      "cell_type": "code",
      "source": [
        "chosen_model = 'VGG16'"
      ],
      "metadata": {
        "id": "B3N5bYKg8_n8"
      },
      "execution_count": 41,
      "outputs": []
    },
    {
      "cell_type": "code",
      "source": [
        "def cnn_with_tl(hp):\n",
        "  \n",
        "  tf.keras.backend.clear_session()\n",
        "  tf.random.set_seed(1234)\n",
        "\n",
        "  pretrained_tl = build_transfer_learning_model(chosen_model = chosen_model)\n",
        "\n",
        "  model_tl = Sequential()  \n",
        "  for layer in pretrained_tl.layers:\n",
        "    model_tl.add(layer)\n",
        "    \n",
        "  for layer in model_tl.layers:\n",
        "    layer.trainable = False              # freeze extraction layers\n",
        "\n",
        "  # Define ranges of hyperparam values \n",
        "  # hp_kernel_size = hp.Int('kernel_size', min_value=3, max_value=5, step=1)\n",
        "  # hp_strides = hp.Int('strides', min_value=1, max_value=2, step=1)\n",
        "  # hp_pool_size = hp.Int('pool_size', min_value=2, max_value=3, step=1)\n",
        "  hp_activation = hp.Choice('activation', values=['tanh', 'relu', 'leaky_relu', 'gelu'], default='relu')\n",
        "  hp_optimizer = hp.Choice('optimizer', values=['adam', 'sgd','rmsprop'], default='adam')\n",
        "  hp_dense_1 = hp.Int('dense_units_1', min_value=128, max_value=1024, step=128)\n",
        "  hp_dense_2 = hp.Int('dense_units_2', min_value=128, max_value=1024, step=128)\n",
        "  # hp_dense_3 = hp.Int('dense_units_3', min_value=128, max_value=256, step=128)\n",
        "  hp_learning_rate = hp.Choice('learning_rate', values=[1e-2, 1e-3])\n",
        "  hp_dropout_1 = hp.Choice('dropout_rate_1',values=[0.2, 0.3, 0.4, 0.5, 0.6])\n",
        "  hp_dropout_2 = hp.Choice('dropout_rate_2',values=[0.2, 0.3, 0.4, 0.5, 0.6])\n",
        "  # hp_dropout_3 = hp.Choice('dropout_rate_3',values=[0.2, 0.3, 0.4, 0.5, 0.6])\n",
        "  # hp_reduction_type = hp.Choice('reduction_type', values=['global_avg_pooling2d', 'max_pooling2d'])\n",
        "\n",
        "  # if hp_reduction_type == 'global_avg_pooling2d':\n",
        "  model_tl.add(GlobalAveragePooling2D())\n",
        "  # else:\n",
        "  #   model_tl.add(MaxPooling2D(pool_size=(hp_pool_size,hp_pool_size), strides=(hp_strides,hp_strides)))  \n",
        "  model_tl.add(Dropout(hp_dropout_1))\n",
        "\n",
        "  model_tl.add(Dense(units = hp_dense_1, activation = hp_activation))\n",
        "  model_tl.add(BatchNormalization())\n",
        "  # if hp.Boolean('dropout_1'):\n",
        "  model_tl.add(Dropout(hp_dropout_2))\n",
        "\n",
        "  # model_tl.add(Dense(units = hp_dense_2, activation = hp_activation))\n",
        "  # model_tl.add(BatchNormalization())\n",
        "  # # if hp.Boolean('dropout_2'):\n",
        "  # model_tl.add(Dropout(hp_dropout_3))\n",
        "\n",
        "  model_tl.add(Flatten())\n",
        "  \n",
        "  # # if hp.Boolean('last_dense'):\n",
        "  # model_tl.add(Dense(units = hp_dense_3, activation = hp_activation))\n",
        "  # model_tl.add(BatchNormalization())\n",
        "  # # if hp.Boolean('dropout_3'):\n",
        "  # model_tl.add(Dropout(hp_dropout_3))\n",
        "  \n",
        "  model_tl.add(Dense(units = hp_dense_1, activation = hp_activation))\n",
        "  model_tl.add(BatchNormalization())\n",
        "  # if hp.Boolean('dropout_1'):\n",
        "  model_tl.add(Dropout(hp_dropout_2))\n",
        "\n",
        "  model_tl.add(Dense(units = 2, activation = 'softmax'))                        # Output layer\n",
        "\n",
        "  def selected_optimizer(optimizer):\n",
        "    if optimizer.lower() == 'sgd':\n",
        "        return SGD(learning_rate=hp_learning_rate)           # SGD(learning_rate=learning_rate, momentum=0.95, decay=1, nesterov=True)\n",
        "    elif optimizer.lower() == 'adam':\n",
        "        return Adam(learning_rate=hp_learning_rate)          # Adam(learning_rate=learning_rate, beta_1=0.9, beta_2=0.999, epsilon=1e-8, kappa=1-1e-8)\n",
        "    elif optimizer.lower() == 'rmsprop':\n",
        "        return RMSprop(learning_rate=hp_learning_rate)       # RMSprop(learning_rate=learning_rate, rho=0.9, epsilon=1e-6)\n",
        "\n",
        "  model_tl.compile(loss=CategoricalCrossentropy(), \n",
        "                optimizer=selected_optimizer(hp_optimizer), \n",
        "                metrics=['accuracy'])  \n",
        "\n",
        "  return model_tl"
      ],
      "metadata": {
        "id": "HjPtK1Vehton"
      },
      "execution_count": 42,
      "outputs": []
    },
    {
      "cell_type": "code",
      "source": [
        "def hyperparam_tuning_with_kt(model, train_data_generator, val_data_generator, max_trials=20, epochs = 20):\n",
        "\n",
        "  callbacks = [EarlyStopping(monitor='val_loss', patience=3, verbose=1),\n",
        "                  ModelCheckpoint('model.hdf5', save_best_only=True)]\n",
        "\n",
        "  start_time = time.time()\n",
        "\n",
        "  # RandomSearch\n",
        "  tuner = kt.RandomSearch(\n",
        "            cnn_with_tl,\n",
        "            objective=\"val_loss\",             # infer_metric_direction_by_name(): maybe due to this objective - https://github.com/keras-team/keras-tuner/issues/74 | https://github.com/keras-team/keras-tuner/pull/76\n",
        "            max_trials=max_trials,                     # max_trials=50 or 10,\n",
        "            executions_per_trial=2,           # executions_per_trial=2,\n",
        "            overwrite=True,\n",
        "            directory=\"hj_dir\",\n",
        "            project_name=\"breast_cancer_classification\")\n",
        "\n",
        "  tuner.search(train_data_generator, \n",
        "              epochs=epochs, \n",
        "              callbacks=[callbacks], \n",
        "              validation_data=val_data_generator)\n",
        "  return tuner, callbacks\n",
        "\n",
        "# tuner, callbacks = hyperparam_tuning_with_kt(cnn_with_tl, max_trials=2, epochs=2)\n",
        "\n",
        "  # TIME CONSUMED: {03h 11m 15s} for max_trials=5, executions_per_trial=2, epochs=10)\n",
        "  # It took about 45 minues to complete each trial"
      ],
      "metadata": {
        "id": "q_lEevlPk6W-"
      },
      "execution_count": 43,
      "outputs": []
    },
    {
      "cell_type": "code",
      "source": [
        "def model_with_best_hps(tuner): \n",
        "  best_hps = tuner.get_best_hyperparameters(num_trials=1)[0]     # num_trials=5\n",
        "  model = tuner.hypermodel.build(best_hps)\n",
        "  best_hps = pd.DataFrame.from_dict(best_hps.values, orient='index').T\n",
        "  # best_hps = best_hps[['activation','optimizer','learning_rate', 'dense_units_1',\n",
        "  #                      'dense_units_2','dense_units_3','dropout_rate_1','dropout_rate_2','dropout_rate_3']]\n",
        "  # best_hps = best_hps.rename({'activation':'Activation','optimizer':'Optimizer','learning_rate':'LR',\n",
        "  #                             'dense_units_1':'DUnits1', 'dense_units_2':'DUnits2','dense_units_3':'DUnits3',\n",
        "  #                             'dropout_rate_1':'Dropout1', 'dropout_rate_2':'Dropout2','dropout_rate_3':'Dropout3'}, axis=1)\n",
        "  best_hps = best_hps[['activation','optimizer','learning_rate', 'dense_units_1',\n",
        "                       'dense_units_2','dropout_rate_1','dropout_rate_2']]\n",
        "  best_hps = best_hps.rename({'activation':'Activation','optimizer':'Optimizer','learning_rate':'LR',\n",
        "                              'dense_units_1':'DUnits1', 'dense_units_2':'DUnits2',\n",
        "                              'dropout_rate_1':'Dropout1', 'dropout_rate_2':'Dropout2'}, axis=1)\n",
        "  print(tuner.results_summary(1))\n",
        "  return model, best_hps\n",
        "  # tf.keras.utils.plot_model(model)\n",
        "  # model.summary()\n",
        "\n",
        "# model, best_hps = model_with_best_hps(tuner)\n",
        "# best_hps"
      ],
      "metadata": {
        "id": "_ybris68k6Ka"
      },
      "execution_count": 44,
      "outputs": []
    },
    {
      "cell_type": "code",
      "source": [
        "# def cnn_with_tl(chosen_model='VGG16', \n",
        "#                 lr=0.001, \n",
        "#                 optimizer='adam', \n",
        "#                 activation='relu', \n",
        "#                 dropout_rate_1=0.2, \n",
        "#                 dropout_rate_2=0.2, \n",
        "#                 dropout_rate_3=0.2, \n",
        "#                 filter_1=512,\n",
        "#                 filter_2=512,\n",
        "#                 filter_3=256,\n",
        "#                 last_dense=True):\n",
        "  \n",
        "#   tf.keras.backend.clear_session()\n",
        "#   tf.random.set_seed(1234)\n",
        "\n",
        "#   model_tl = build_transfer_learning_model(chosen_model = chosen_model)\n",
        "#   model_tl.trainable = False            # freeze extraction layers\n",
        "\n",
        "#   # 1st model: add custom top layers\n",
        "#   m_tl = model_tl.output\n",
        "#   m_tl = GlobalAveragePooling2D()(m_tl)\n",
        "#   m_tl = BatchNormalization()(m_tl)\n",
        "#   m_tl = Dropout(dropout_rate_1)(m_tl)\n",
        "#   # if dense_1:\n",
        "#   m_tl = Dense(filter_1,activation=activation)(m_tl)\n",
        "#   m_tl = BatchNormalization()(m_tl)\n",
        "#   m_tl = Dropout(dropout_rate_2)(m_tl)                                        # ADDITIONAL DROPOUT\n",
        "#   m_tl = Flatten()(m_tl)                                           # ADD FLATTEN LAYER\n",
        "#   m_tl = Dense(filter_2,activation=activation)(m_tl)\n",
        "#   m_tl = BatchNormalization()(m_tl)\n",
        "#   m_tl = Dropout(dropout_rate_3)(m_tl)\n",
        "#   if last_dense:\n",
        "#     m_tl = Dense(filter_3,activation=activation)(m_tl)\n",
        "#     m_tl = BatchNormalization()(m_tl)\n",
        "\n",
        "#   # output layer\n",
        "#   m_tl = Dense(2, activation='softmax')(m_tl)               # UPDATED from 'sigmoid' to 'softmax\n",
        "\n",
        "#   model = Model(inputs=model_tl.input, outputs=m_tl)\n",
        "\n",
        "#   # ==================== model.compile ====================================\n",
        "#   def selected_optimizer(optimizer):\n",
        "#     if optimizer.lower() == 'sgd':\n",
        "#         return SGD(learning_rate=lr)           # SGD(learning_rate=learning_rate, momentum=0.95, decay=1, nesterov=True)\n",
        "#     elif optimizer.lower() == 'adam':\n",
        "#         return Adam(learning_rate=lr)          # Adam(learning_rate=learning_rate, beta_1=0.9, beta_2=0.999, epsilon=1e-8, kappa=1-1e-8)\n",
        "#     elif optimizer.lower() == 'rmsprop':\n",
        "#         return RMSprop(learning_rate=lr) \n",
        "\n",
        "#   model.compile(loss=CategoricalCrossentropy(),            \n",
        "#               optimizer=selected_optimizer(optimizer),            \n",
        "#               metrics=['accuracy', tf.keras.metrics.AUC(name='auc')])\n",
        "#   return model"
      ],
      "metadata": {
        "id": "B_SKoSGYbyI3"
      },
      "execution_count": 45,
      "outputs": []
    },
    {
      "cell_type": "code",
      "source": [
        "def model_fit(model, train_data_generator, val_data_generator, callbacks, batch_size=64, epochs=20, chosen_model='VGG16'):\n",
        "  # from IPython.display import Image\n",
        "\n",
        "  tf.keras.utils.plot_model(model, to_file='convnet.png', show_shapes=True,show_layer_names=True)\n",
        "  Image(filename='convnet.png') \n",
        "\n",
        "    # callbacks = [EarlyStopping(monitor='val_loss', patience=3, verbose=1),\n",
        "    #             ModelCheckpoint('model.hdf5', save_best_only=True)]\n",
        "\n",
        "  history = model.fit(train_data_generator,\n",
        "                      epochs = epochs,\n",
        "                      batch_size = batch_size,                       # ADDIITION\n",
        "                      shuffle=True,                                  # ADDIITION\n",
        "                      steps_per_epoch = len(train_data_generator),\n",
        "                      validation_data = val_data_generator,\n",
        "                      validation_steps = len(val_data_generator),\n",
        "                      callbacks=callbacks,                           # ADDIITION\n",
        "                      verbose = 1)\n",
        "\n",
        "  # ============= Model save ================================================\n",
        "  print(\"Saving model...\")\n",
        "  tf.keras.backend.clear_session()\n",
        "  gc.collect()                                                      # UPDATED\n",
        "  model.save('breast_cancer_detection_' + chosen_model + '.h5')\n",
        "\n",
        "  # ============= Plot loss and accuracy of model: train vs val ==========\n",
        "  print(f\"{chosen_model}\")\n",
        "  plot_model_accuracy_and_loss(history = history, chosen_model = chosen_model)\n",
        "  return model, history"
      ],
      "metadata": {
        "id": "p0g4Cp-Abx_A"
      },
      "execution_count": 46,
      "outputs": []
    },
    {
      "cell_type": "code",
      "source": [
        "def model_evaluate_and_model_predict(model, test_data_generator, history, chosen_model='VGG16'):\n",
        "  # =========== model.evaluate ===============================================\n",
        "  # acc, auc = model.evaluate(test_data_generator, verbose = 0)\n",
        "  test_loss, test_accuracy = model.evaluate(test_data_generator, verbose = 0)\n",
        "  training_accuracy = history.history['accuracy'][-1]\n",
        "  val_accuracy = history.history['val_accuracy'][-1]\n",
        "  count_trainable_params = count_params(model.trainable_weights)\n",
        "\n",
        "  # =========== model.predict: y_true vs. y_pred =============================\n",
        "  classes = ['IDC(0)','IDC(1)']\n",
        "\n",
        "  y_true = test_data_generator.classes\n",
        "  y_pred = model.predict(test_data_generator, steps = (test_data_generator.n // batch_size + 1), verbose = 0)\n",
        "  y_pred_argmax = np.argmax(y_pred, axis=1) \n",
        "\n",
        "  # ========== Precision, recall, f1score ====================================\n",
        "  precision, recall, f1score, support = score(y_true, y_pred_argmax, average='macro')\n",
        "\n",
        "  # ========== Cohen_kappa score, zero_one loss ==============================\n",
        "  cohen_kappa = round(cohen_kappa_score(y_true, y_pred_argmax), 2)\n",
        "  zo_loss = round(zero_one_loss(y_true, y_pred_argmax), 2)\n",
        "\n",
        "  # ========== Confusion matrix ==============================================\n",
        "  conf_max = confusion_matrix(y_true, y_pred_argmax)             # conf.max should use 0s and 1s for y_pred\n",
        "  perf_conf_max = conf_max.astype('float')/conf_max.sum(axis=1)[:np.newaxis]*100\n",
        "  df_perf_conf_max = pd.DataFrame(perf_conf_max, index=classes, columns=classes)\n",
        "\n",
        "  print();plt.figure(figsize=(6,5))\n",
        "  sns.heatmap(df_perf_conf_max, annot=True, cmap='coolwarm', annot_kws={'fontsize':16}, linewidth=0.5, fmt='.0f')  \n",
        "  plt.xlabel('Predicted Label', fontsize=14)\n",
        "  plt.ylabel('True Label', fontsize=14)\n",
        "  plt.title('Confusion Matrix (%)', fontsize=15)\n",
        "\n",
        "  # ========== Area under the ROC curve ======================================\n",
        "  roc_log = roc_auc_score(y_true, y_pred[:,1], multi_class='ovr')   # for the roc curve, we need to use a vector of probabilities so just chose one column and all rows\n",
        "  # fpr_0, tpr_0, threshold_0 = roc_curve(y_true, y_pred[:,0])\n",
        "  # fpr_1, tpr_1, threshold_1 = roc_curve(y_true, y_pred[:,1])\n",
        "  fpr, tpr, threshold = roc_curve(y_true, y_pred[:,1])\n",
        "  auc_class = round(metrics.auc(fpr, tpr), 2) \n",
        "  # auc_class_0 = round(metrics.auc(fpr_0, tpr_0), 2) \n",
        "  # auc_class_1 = round(metrics.auc(fpr_1, tpr_1), 2) \n",
        "\n",
        "  print();plt.figure(figsize=(6,5))\n",
        "  plt.plot([0, 1], [0, 1], 'b--')  \n",
        "  plt.plot(fpr, tpr, color='tab:red', label='AUC:{:.2f}'.format(auc_class))\n",
        "  # plt.plot(fpr_0, tpr_0, color='tab:red', label='IDC(0)-AUC:{:.2f}'.format(auc_class_0))  \n",
        "  # plt.plot(fpr_1, tpr_1, color='tab:green', label='IDC(1)-AUC:{:.2f}'.format(auc_class_1))  \n",
        "  plt.xlabel('False positive rate', fontsize=14)\n",
        "  plt.ylabel('True positive rate', fontsize=14)\n",
        "  plt.title('ROC Area Under Curve', fontsize=18)\n",
        "  plt.legend(loc='best')\n",
        "  plt.show()\n",
        "\n",
        "  # ========== Performace metrics summary ===================================\n",
        "  perf_metrics = pd.DataFrame({'TL Model':chosen_model, \n",
        "                              # 'LR': lr,\n",
        "                              # 'Optimizer': optimizer.upper(), \n",
        "                              # 'Activation': activation.title(),\n",
        "                              # 'Dropout': activation.title(),\n",
        "                              # 'Test_Loss':round(test_loss,2), \n",
        "                              'Test_Acc':round(test_accuracy, 2), \n",
        "                              'Train_Acc':round(training_accuracy, 2), \n",
        "                              'Val_Acc':round(val_accuracy, 2), \n",
        "                              'No_Trainable_Params':  f'{count_trainable_params:,}',\n",
        "                              'Precision':round(precision, 2), \n",
        "                              'Recall':round(recall, 2), \n",
        "                              'F1score': round(f1score, 2),\n",
        "                              'ROC-AUC':round(auc_class, 2), \n",
        "                              # 'Cohen Kappa': cohen_kappa,\n",
        "                              'ZeroOneLoss': zo_loss}, index=[0])\n",
        "  return perf_metrics"
      ],
      "metadata": {
        "id": "SWW_XNSfbxXU"
      },
      "execution_count": 47,
      "outputs": []
    },
    {
      "cell_type": "markdown",
      "source": [
        "# Run Experiments"
      ],
      "metadata": {
        "id": "5at4kKu6Y8vL"
      }
    },
    {
      "cell_type": "code",
      "source": [
        "directory_path = '/content/gdrive/MyDrive/Kaggle/CNN_IDC/'"
      ],
      "metadata": {
        "id": "zi4JjGZu8HC7"
      },
      "execution_count": 48,
      "outputs": []
    },
    {
      "cell_type": "code",
      "source": [
        "def experimenting_cnn_with_tl(chosen_model='VGG16',\n",
        "                                image_size = 50,\n",
        "                                max_trials=20,\n",
        "                                batch_size=64,\n",
        "                                epochs=20,\n",
        "                                brightness_delta=random.choice([.1,.3]),\n",
        "                                contrast_factor=random.choice([1,3]),\n",
        "                                angle=random.choice([10,30])):\n",
        "  \n",
        "  create_gs_files(train_1_images_list, tgt_train_1_image_path, 1, brightness_delta, contrast_factor, angle)\n",
        "  create_gs_files(train_0_images_list, tgt_train_0_image_path, 2, brightness_delta, contrast_factor, angle)\n",
        "  create_gs_files(val_1_images_list, tgt_val_1_image_path, 3, brightness_delta, contrast_factor, angle)\n",
        "  create_gs_files(val_0_images_list, tgt_val_0_image_path, 4, brightness_delta, contrast_factor, angle)\n",
        "  create_gs_files(test_1_images_list, tgt_test_1_image_path, 5, brightness_delta, contrast_factor, angle)\n",
        "  create_gs_files(test_0_images_list, tgt_test_0_image_path, 6, brightness_delta, contrast_factor, angle)\n",
        "  \n",
        "  start_time = time.time()\n",
        "  train_data_generator, val_data_generator, test_data_generator = data_generator(image_size)\n",
        "  tuner, callbacks = hyperparam_tuning_with_kt(cnn_with_tl, train_data_generator, val_data_generator, max_trials=max_trials, epochs=epochs)\n",
        "  model, best_hps = model_with_best_hps(tuner) \n",
        "  model, history = model_fit(model, train_data_generator, val_data_generator, callbacks, batch_size=batch_size, epochs=epochs, chosen_model=chosen_model)\n",
        "  perf_metrics = model_evaluate_and_model_predict(model, test_data_generator, history, chosen_model=chosen_model)\n",
        "  perf_summary = pd.concat([perf_metrics,best_hps], axis=1)\n",
        "  perf_summary['Brightness'] = brightness_delta\n",
        "  perf_summary['Contrast'] = contrast_factor\n",
        "  perf_summary['Rotate'] = angle\n",
        "\n",
        "  # download the perf_summary as a CSV to Google Drive  \n",
        "  file_path = directory_path + 'perf_summary_' + chosen_model +'.csv'\n",
        "  perf_summary.to_csv(file_path) \n",
        "  files.download(file_path)\n",
        "\n",
        "  # with open(file_path, 'w') as f:\n",
        "  #   perf_summary.to_csv(f)\n",
        "\n",
        "  model.summary()\n",
        "  print();print('Execution time %s minutes: ' % round(int(time.time() - start_time)/60, 2),'\\n');print('===============================================\\n')\n",
        "  return perf_summary"
      ],
      "metadata": {
        "id": "ffcy2aj6ze_H"
      },
      "execution_count": 49,
      "outputs": []
    },
    {
      "cell_type": "code",
      "source": [
        "# perf_summary_vgg16 = experimenting_cnn_with_tl(chosen_model='VGG16',\n",
        "#                                 image_size = 96,\n",
        "#                                 max_trials=50,\n",
        "#                                 batch_size=64,\n",
        "#                                 epochs=20,\n",
        "#                                 brightness_delta=random.choice([.1,.3]),\n",
        "#                                 contrast_factor=random.choice([1,3]),\n",
        "#                                 angle=random.choice([10,30]))\n",
        "# perf_summary_vgg16"
      ],
      "metadata": {
        "id": "54GP8utfxiUx"
      },
      "execution_count": 50,
      "outputs": []
    },
    {
      "cell_type": "code",
      "source": [
        "perf_summary_resnet50 = experimenting_cnn_with_tl(chosen_model='ResNet50',\n",
        "                                image_size = 50,\n",
        "                                max_trials=2,\n",
        "                                batch_size=64,\n",
        "                                epochs=1,\n",
        "                                brightness_delta=random.choice([.1,.3]),\n",
        "                                contrast_factor=random.choice([1,3]),\n",
        "                                angle=random.choice([10,30]))\n",
        "perf_summary_resnet50"
      ],
      "metadata": {
        "id": "Z8vFmKituAve",
        "colab": {
          "base_uri": "https://localhost:8080/",
          "height": 711
        },
        "outputId": "9ecf09e6-3826-4793-e37c-8bc892d167c3"
      },
      "execution_count": 51,
      "outputs": [
        {
          "output_type": "stream",
          "name": "stdout",
          "text": [
            "Found 3985 images belonging to 2 classes.\n",
            "Found 197 images belonging to 2 classes.\n",
            "Found 199 images belonging to 2 classes.\n",
            "Downloading data from https://storage.googleapis.com/tensorflow/keras-applications/vgg16/vgg16_weights_tf_dim_ordering_tf_kernels_notop.h5\n",
            "58889256/58889256 [==============================] - 1s 0us/step\n",
            "\n",
            "Search: Running Trial #1\n",
            "\n",
            "Value             |Best Value So Far |Hyperparameter\n",
            "gelu              |?                 |activation\n",
            "rmsprop           |?                 |optimizer\n",
            "512               |?                 |dense_units_1\n",
            "896               |?                 |dense_units_2\n",
            "0.01              |?                 |learning_rate\n",
            "0.3               |?                 |dropout_rate_1\n",
            "0.3               |?                 |dropout_rate_2\n",
            "\n",
            "63/63 [==============================] - 120s 2s/step - loss: 1.2147 - accuracy: 0.6356 - val_loss: 0.8098 - val_accuracy: 0.6244\n",
            "30/63 [=============>................] - ETA: 55s - loss: 1.6340 - accuracy: 0.6073"
          ]
        },
        {
          "output_type": "error",
          "ename": "KeyboardInterrupt",
          "evalue": "ignored",
          "traceback": [
            "\u001b[0;31m---------------------------------------------------------------------------\u001b[0m",
            "\u001b[0;31mKeyboardInterrupt\u001b[0m                         Traceback (most recent call last)",
            "\u001b[0;32m<ipython-input-51-b67250ca6687>\u001b[0m in \u001b[0;36m<module>\u001b[0;34m\u001b[0m\n\u001b[0;32m----> 1\u001b[0;31m perf_summary_resnet50 = experimenting_cnn_with_tl(chosen_model='ResNet50',\n\u001b[0m\u001b[1;32m      2\u001b[0m                                 \u001b[0mimage_size\u001b[0m \u001b[0;34m=\u001b[0m \u001b[0;36m50\u001b[0m\u001b[0;34m,\u001b[0m\u001b[0;34m\u001b[0m\u001b[0;34m\u001b[0m\u001b[0m\n\u001b[1;32m      3\u001b[0m                                 \u001b[0mmax_trials\u001b[0m\u001b[0;34m=\u001b[0m\u001b[0;36m2\u001b[0m\u001b[0;34m,\u001b[0m\u001b[0;34m\u001b[0m\u001b[0;34m\u001b[0m\u001b[0m\n\u001b[1;32m      4\u001b[0m                                 \u001b[0mbatch_size\u001b[0m\u001b[0;34m=\u001b[0m\u001b[0;36m64\u001b[0m\u001b[0;34m,\u001b[0m\u001b[0;34m\u001b[0m\u001b[0;34m\u001b[0m\u001b[0m\n\u001b[1;32m      5\u001b[0m                                 \u001b[0mepochs\u001b[0m\u001b[0;34m=\u001b[0m\u001b[0;36m1\u001b[0m\u001b[0;34m,\u001b[0m\u001b[0;34m\u001b[0m\u001b[0;34m\u001b[0m\u001b[0m\n",
            "\u001b[0;32m<ipython-input-49-01bb7fd1c15c>\u001b[0m in \u001b[0;36mexperimenting_cnn_with_tl\u001b[0;34m(chosen_model, image_size, max_trials, batch_size, epochs, brightness_delta, contrast_factor, angle)\u001b[0m\n\u001b[1;32m     17\u001b[0m   \u001b[0mstart_time\u001b[0m \u001b[0;34m=\u001b[0m \u001b[0mtime\u001b[0m\u001b[0;34m.\u001b[0m\u001b[0mtime\u001b[0m\u001b[0;34m(\u001b[0m\u001b[0;34m)\u001b[0m\u001b[0;34m\u001b[0m\u001b[0;34m\u001b[0m\u001b[0m\n\u001b[1;32m     18\u001b[0m   \u001b[0mtrain_data_generator\u001b[0m\u001b[0;34m,\u001b[0m \u001b[0mval_data_generator\u001b[0m\u001b[0;34m,\u001b[0m \u001b[0mtest_data_generator\u001b[0m \u001b[0;34m=\u001b[0m \u001b[0mdata_generator\u001b[0m\u001b[0;34m(\u001b[0m\u001b[0mimage_size\u001b[0m\u001b[0;34m)\u001b[0m\u001b[0;34m\u001b[0m\u001b[0;34m\u001b[0m\u001b[0m\n\u001b[0;32m---> 19\u001b[0;31m   \u001b[0mtuner\u001b[0m\u001b[0;34m,\u001b[0m \u001b[0mcallbacks\u001b[0m \u001b[0;34m=\u001b[0m \u001b[0mhyperparam_tuning_with_kt\u001b[0m\u001b[0;34m(\u001b[0m\u001b[0mcnn_with_tl\u001b[0m\u001b[0;34m,\u001b[0m \u001b[0mtrain_data_generator\u001b[0m\u001b[0;34m,\u001b[0m \u001b[0mval_data_generator\u001b[0m\u001b[0;34m,\u001b[0m \u001b[0mmax_trials\u001b[0m\u001b[0;34m=\u001b[0m\u001b[0mmax_trials\u001b[0m\u001b[0;34m,\u001b[0m \u001b[0mepochs\u001b[0m\u001b[0;34m=\u001b[0m\u001b[0mepochs\u001b[0m\u001b[0;34m)\u001b[0m\u001b[0;34m\u001b[0m\u001b[0;34m\u001b[0m\u001b[0m\n\u001b[0m\u001b[1;32m     20\u001b[0m   \u001b[0mmodel\u001b[0m\u001b[0;34m,\u001b[0m \u001b[0mbest_hps\u001b[0m \u001b[0;34m=\u001b[0m \u001b[0mmodel_with_best_hps\u001b[0m\u001b[0;34m(\u001b[0m\u001b[0mtuner\u001b[0m\u001b[0;34m)\u001b[0m\u001b[0;34m\u001b[0m\u001b[0;34m\u001b[0m\u001b[0m\n\u001b[1;32m     21\u001b[0m   \u001b[0mmodel\u001b[0m\u001b[0;34m,\u001b[0m \u001b[0mhistory\u001b[0m \u001b[0;34m=\u001b[0m \u001b[0mmodel_fit\u001b[0m\u001b[0;34m(\u001b[0m\u001b[0mmodel\u001b[0m\u001b[0;34m,\u001b[0m \u001b[0mtrain_data_generator\u001b[0m\u001b[0;34m,\u001b[0m \u001b[0mval_data_generator\u001b[0m\u001b[0;34m,\u001b[0m \u001b[0mcallbacks\u001b[0m\u001b[0;34m,\u001b[0m \u001b[0mbatch_size\u001b[0m\u001b[0;34m=\u001b[0m\u001b[0mbatch_size\u001b[0m\u001b[0;34m,\u001b[0m \u001b[0mepochs\u001b[0m\u001b[0;34m=\u001b[0m\u001b[0mepochs\u001b[0m\u001b[0;34m,\u001b[0m \u001b[0mchosen_model\u001b[0m\u001b[0;34m=\u001b[0m\u001b[0mchosen_model\u001b[0m\u001b[0;34m)\u001b[0m\u001b[0;34m\u001b[0m\u001b[0;34m\u001b[0m\u001b[0m\n",
            "\u001b[0;32m<ipython-input-43-a206fffa3f08>\u001b[0m in \u001b[0;36mhyperparam_tuning_with_kt\u001b[0;34m(model, train_data_generator, val_data_generator, max_trials, epochs)\u001b[0m\n\u001b[1;32m     16\u001b[0m             project_name=\"breast_cancer_classification\")\n\u001b[1;32m     17\u001b[0m \u001b[0;34m\u001b[0m\u001b[0m\n\u001b[0;32m---> 18\u001b[0;31m   tuner.search(train_data_generator, \n\u001b[0m\u001b[1;32m     19\u001b[0m               \u001b[0mepochs\u001b[0m\u001b[0;34m=\u001b[0m\u001b[0mepochs\u001b[0m\u001b[0;34m,\u001b[0m\u001b[0;34m\u001b[0m\u001b[0;34m\u001b[0m\u001b[0m\n\u001b[1;32m     20\u001b[0m               \u001b[0mcallbacks\u001b[0m\u001b[0;34m=\u001b[0m\u001b[0;34m[\u001b[0m\u001b[0mcallbacks\u001b[0m\u001b[0;34m]\u001b[0m\u001b[0;34m,\u001b[0m\u001b[0;34m\u001b[0m\u001b[0;34m\u001b[0m\u001b[0m\n",
            "\u001b[0;32m/usr/local/lib/python3.8/dist-packages/keras_tuner/engine/base_tuner.py\u001b[0m in \u001b[0;36msearch\u001b[0;34m(self, *fit_args, **fit_kwargs)\u001b[0m\n\u001b[1;32m    181\u001b[0m \u001b[0;34m\u001b[0m\u001b[0m\n\u001b[1;32m    182\u001b[0m             \u001b[0mself\u001b[0m\u001b[0;34m.\u001b[0m\u001b[0mon_trial_begin\u001b[0m\u001b[0;34m(\u001b[0m\u001b[0mtrial\u001b[0m\u001b[0;34m)\u001b[0m\u001b[0;34m\u001b[0m\u001b[0;34m\u001b[0m\u001b[0m\n\u001b[0;32m--> 183\u001b[0;31m             \u001b[0mresults\u001b[0m \u001b[0;34m=\u001b[0m \u001b[0mself\u001b[0m\u001b[0;34m.\u001b[0m\u001b[0mrun_trial\u001b[0m\u001b[0;34m(\u001b[0m\u001b[0mtrial\u001b[0m\u001b[0;34m,\u001b[0m \u001b[0;34m*\u001b[0m\u001b[0mfit_args\u001b[0m\u001b[0;34m,\u001b[0m \u001b[0;34m**\u001b[0m\u001b[0mfit_kwargs\u001b[0m\u001b[0;34m)\u001b[0m\u001b[0;34m\u001b[0m\u001b[0;34m\u001b[0m\u001b[0m\n\u001b[0m\u001b[1;32m    184\u001b[0m             \u001b[0;31m# `results` is None indicates user updated oracle in `run_trial()`.\u001b[0m\u001b[0;34m\u001b[0m\u001b[0;34m\u001b[0m\u001b[0;34m\u001b[0m\u001b[0m\n\u001b[1;32m    185\u001b[0m             \u001b[0;32mif\u001b[0m \u001b[0mresults\u001b[0m \u001b[0;32mis\u001b[0m \u001b[0;32mNone\u001b[0m\u001b[0;34m:\u001b[0m\u001b[0;34m\u001b[0m\u001b[0;34m\u001b[0m\u001b[0m\n",
            "\u001b[0;32m/usr/local/lib/python3.8/dist-packages/keras_tuner/engine/tuner.py\u001b[0m in \u001b[0;36mrun_trial\u001b[0;34m(self, trial, *args, **kwargs)\u001b[0m\n\u001b[1;32m    293\u001b[0m             \u001b[0mcallbacks\u001b[0m\u001b[0;34m.\u001b[0m\u001b[0mappend\u001b[0m\u001b[0;34m(\u001b[0m\u001b[0mmodel_checkpoint\u001b[0m\u001b[0;34m)\u001b[0m\u001b[0;34m\u001b[0m\u001b[0;34m\u001b[0m\u001b[0m\n\u001b[1;32m    294\u001b[0m             \u001b[0mcopied_kwargs\u001b[0m\u001b[0;34m[\u001b[0m\u001b[0;34m\"callbacks\"\u001b[0m\u001b[0;34m]\u001b[0m \u001b[0;34m=\u001b[0m \u001b[0mcallbacks\u001b[0m\u001b[0;34m\u001b[0m\u001b[0;34m\u001b[0m\u001b[0m\n\u001b[0;32m--> 295\u001b[0;31m             \u001b[0mobj_value\u001b[0m \u001b[0;34m=\u001b[0m \u001b[0mself\u001b[0m\u001b[0;34m.\u001b[0m\u001b[0m_build_and_fit_model\u001b[0m\u001b[0;34m(\u001b[0m\u001b[0mtrial\u001b[0m\u001b[0;34m,\u001b[0m \u001b[0;34m*\u001b[0m\u001b[0margs\u001b[0m\u001b[0;34m,\u001b[0m \u001b[0;34m**\u001b[0m\u001b[0mcopied_kwargs\u001b[0m\u001b[0;34m)\u001b[0m\u001b[0;34m\u001b[0m\u001b[0;34m\u001b[0m\u001b[0m\n\u001b[0m\u001b[1;32m    296\u001b[0m \u001b[0;34m\u001b[0m\u001b[0m\n\u001b[1;32m    297\u001b[0m             \u001b[0mhistories\u001b[0m\u001b[0;34m.\u001b[0m\u001b[0mappend\u001b[0m\u001b[0;34m(\u001b[0m\u001b[0mobj_value\u001b[0m\u001b[0;34m)\u001b[0m\u001b[0;34m\u001b[0m\u001b[0;34m\u001b[0m\u001b[0m\n",
            "\u001b[0;32m/usr/local/lib/python3.8/dist-packages/keras_tuner/engine/tuner.py\u001b[0m in \u001b[0;36m_build_and_fit_model\u001b[0;34m(self, trial, *args, **kwargs)\u001b[0m\n\u001b[1;32m    220\u001b[0m         \u001b[0mhp\u001b[0m \u001b[0;34m=\u001b[0m \u001b[0mtrial\u001b[0m\u001b[0;34m.\u001b[0m\u001b[0mhyperparameters\u001b[0m\u001b[0;34m\u001b[0m\u001b[0;34m\u001b[0m\u001b[0m\n\u001b[1;32m    221\u001b[0m         \u001b[0mmodel\u001b[0m \u001b[0;34m=\u001b[0m \u001b[0mself\u001b[0m\u001b[0;34m.\u001b[0m\u001b[0m_try_build\u001b[0m\u001b[0;34m(\u001b[0m\u001b[0mhp\u001b[0m\u001b[0;34m)\u001b[0m\u001b[0;34m\u001b[0m\u001b[0;34m\u001b[0m\u001b[0m\n\u001b[0;32m--> 222\u001b[0;31m         \u001b[0mresults\u001b[0m \u001b[0;34m=\u001b[0m \u001b[0mself\u001b[0m\u001b[0;34m.\u001b[0m\u001b[0mhypermodel\u001b[0m\u001b[0;34m.\u001b[0m\u001b[0mfit\u001b[0m\u001b[0;34m(\u001b[0m\u001b[0mhp\u001b[0m\u001b[0;34m,\u001b[0m \u001b[0mmodel\u001b[0m\u001b[0;34m,\u001b[0m \u001b[0;34m*\u001b[0m\u001b[0margs\u001b[0m\u001b[0;34m,\u001b[0m \u001b[0;34m**\u001b[0m\u001b[0mkwargs\u001b[0m\u001b[0;34m)\u001b[0m\u001b[0;34m\u001b[0m\u001b[0;34m\u001b[0m\u001b[0m\n\u001b[0m\u001b[1;32m    223\u001b[0m         tuner_utils.validate_trial_results(\n\u001b[1;32m    224\u001b[0m             \u001b[0mresults\u001b[0m\u001b[0;34m,\u001b[0m \u001b[0mself\u001b[0m\u001b[0;34m.\u001b[0m\u001b[0moracle\u001b[0m\u001b[0;34m.\u001b[0m\u001b[0mobjective\u001b[0m\u001b[0;34m,\u001b[0m \u001b[0;34m\"HyperModel.fit()\"\u001b[0m\u001b[0;34m\u001b[0m\u001b[0;34m\u001b[0m\u001b[0m\n",
            "\u001b[0;32m/usr/local/lib/python3.8/dist-packages/keras_tuner/engine/hypermodel.py\u001b[0m in \u001b[0;36mfit\u001b[0;34m(self, hp, model, *args, **kwargs)\u001b[0m\n\u001b[1;32m    138\u001b[0m             \u001b[0mIf\u001b[0m \u001b[0;32mreturn\u001b[0m \u001b[0ma\u001b[0m \u001b[0mfloat\u001b[0m\u001b[0;34m,\u001b[0m \u001b[0mit\u001b[0m \u001b[0mshould\u001b[0m \u001b[0mbe\u001b[0m \u001b[0mthe\u001b[0m\u001b[0;31m \u001b[0m\u001b[0;31m`\u001b[0m\u001b[0mobjective\u001b[0m\u001b[0;31m`\u001b[0m \u001b[0mvalue\u001b[0m\u001b[0;34m.\u001b[0m\u001b[0;34m\u001b[0m\u001b[0;34m\u001b[0m\u001b[0m\n\u001b[1;32m    139\u001b[0m         \"\"\"\n\u001b[0;32m--> 140\u001b[0;31m         \u001b[0;32mreturn\u001b[0m \u001b[0mmodel\u001b[0m\u001b[0;34m.\u001b[0m\u001b[0mfit\u001b[0m\u001b[0;34m(\u001b[0m\u001b[0;34m*\u001b[0m\u001b[0margs\u001b[0m\u001b[0;34m,\u001b[0m \u001b[0;34m**\u001b[0m\u001b[0mkwargs\u001b[0m\u001b[0;34m)\u001b[0m\u001b[0;34m\u001b[0m\u001b[0;34m\u001b[0m\u001b[0m\n\u001b[0m\u001b[1;32m    141\u001b[0m \u001b[0;34m\u001b[0m\u001b[0m\n\u001b[1;32m    142\u001b[0m \u001b[0;34m\u001b[0m\u001b[0m\n",
            "\u001b[0;32m/usr/local/lib/python3.8/dist-packages/keras/utils/traceback_utils.py\u001b[0m in \u001b[0;36merror_handler\u001b[0;34m(*args, **kwargs)\u001b[0m\n\u001b[1;32m     62\u001b[0m     \u001b[0mfiltered_tb\u001b[0m \u001b[0;34m=\u001b[0m \u001b[0;32mNone\u001b[0m\u001b[0;34m\u001b[0m\u001b[0;34m\u001b[0m\u001b[0m\n\u001b[1;32m     63\u001b[0m     \u001b[0;32mtry\u001b[0m\u001b[0;34m:\u001b[0m\u001b[0;34m\u001b[0m\u001b[0;34m\u001b[0m\u001b[0m\n\u001b[0;32m---> 64\u001b[0;31m       \u001b[0;32mreturn\u001b[0m \u001b[0mfn\u001b[0m\u001b[0;34m(\u001b[0m\u001b[0;34m*\u001b[0m\u001b[0margs\u001b[0m\u001b[0;34m,\u001b[0m \u001b[0;34m**\u001b[0m\u001b[0mkwargs\u001b[0m\u001b[0;34m)\u001b[0m\u001b[0;34m\u001b[0m\u001b[0;34m\u001b[0m\u001b[0m\n\u001b[0m\u001b[1;32m     65\u001b[0m     \u001b[0;32mexcept\u001b[0m \u001b[0mException\u001b[0m \u001b[0;32mas\u001b[0m \u001b[0me\u001b[0m\u001b[0;34m:\u001b[0m  \u001b[0;31m# pylint: disable=broad-except\u001b[0m\u001b[0;34m\u001b[0m\u001b[0;34m\u001b[0m\u001b[0m\n\u001b[1;32m     66\u001b[0m       \u001b[0mfiltered_tb\u001b[0m \u001b[0;34m=\u001b[0m \u001b[0m_process_traceback_frames\u001b[0m\u001b[0;34m(\u001b[0m\u001b[0me\u001b[0m\u001b[0;34m.\u001b[0m\u001b[0m__traceback__\u001b[0m\u001b[0;34m)\u001b[0m\u001b[0;34m\u001b[0m\u001b[0;34m\u001b[0m\u001b[0m\n",
            "\u001b[0;32m/usr/local/lib/python3.8/dist-packages/keras/engine/training.py\u001b[0m in \u001b[0;36mfit\u001b[0;34m(self, x, y, batch_size, epochs, verbose, callbacks, validation_split, validation_data, shuffle, class_weight, sample_weight, initial_epoch, steps_per_epoch, validation_steps, validation_batch_size, validation_freq, max_queue_size, workers, use_multiprocessing)\u001b[0m\n\u001b[1;32m   1407\u001b[0m                 _r=1):\n\u001b[1;32m   1408\u001b[0m               \u001b[0mcallbacks\u001b[0m\u001b[0;34m.\u001b[0m\u001b[0mon_train_batch_begin\u001b[0m\u001b[0;34m(\u001b[0m\u001b[0mstep\u001b[0m\u001b[0;34m)\u001b[0m\u001b[0;34m\u001b[0m\u001b[0;34m\u001b[0m\u001b[0m\n\u001b[0;32m-> 1409\u001b[0;31m               \u001b[0mtmp_logs\u001b[0m \u001b[0;34m=\u001b[0m \u001b[0mself\u001b[0m\u001b[0;34m.\u001b[0m\u001b[0mtrain_function\u001b[0m\u001b[0;34m(\u001b[0m\u001b[0miterator\u001b[0m\u001b[0;34m)\u001b[0m\u001b[0;34m\u001b[0m\u001b[0;34m\u001b[0m\u001b[0m\n\u001b[0m\u001b[1;32m   1410\u001b[0m               \u001b[0;32mif\u001b[0m \u001b[0mdata_handler\u001b[0m\u001b[0;34m.\u001b[0m\u001b[0mshould_sync\u001b[0m\u001b[0;34m:\u001b[0m\u001b[0;34m\u001b[0m\u001b[0;34m\u001b[0m\u001b[0m\n\u001b[1;32m   1411\u001b[0m                 \u001b[0mcontext\u001b[0m\u001b[0;34m.\u001b[0m\u001b[0masync_wait\u001b[0m\u001b[0;34m(\u001b[0m\u001b[0;34m)\u001b[0m\u001b[0;34m\u001b[0m\u001b[0;34m\u001b[0m\u001b[0m\n",
            "\u001b[0;32m/usr/local/lib/python3.8/dist-packages/tensorflow/python/util/traceback_utils.py\u001b[0m in \u001b[0;36merror_handler\u001b[0;34m(*args, **kwargs)\u001b[0m\n\u001b[1;32m    148\u001b[0m     \u001b[0mfiltered_tb\u001b[0m \u001b[0;34m=\u001b[0m \u001b[0;32mNone\u001b[0m\u001b[0;34m\u001b[0m\u001b[0;34m\u001b[0m\u001b[0m\n\u001b[1;32m    149\u001b[0m     \u001b[0;32mtry\u001b[0m\u001b[0;34m:\u001b[0m\u001b[0;34m\u001b[0m\u001b[0;34m\u001b[0m\u001b[0m\n\u001b[0;32m--> 150\u001b[0;31m       \u001b[0;32mreturn\u001b[0m \u001b[0mfn\u001b[0m\u001b[0;34m(\u001b[0m\u001b[0;34m*\u001b[0m\u001b[0margs\u001b[0m\u001b[0;34m,\u001b[0m \u001b[0;34m**\u001b[0m\u001b[0mkwargs\u001b[0m\u001b[0;34m)\u001b[0m\u001b[0;34m\u001b[0m\u001b[0;34m\u001b[0m\u001b[0m\n\u001b[0m\u001b[1;32m    151\u001b[0m     \u001b[0;32mexcept\u001b[0m \u001b[0mException\u001b[0m \u001b[0;32mas\u001b[0m \u001b[0me\u001b[0m\u001b[0;34m:\u001b[0m\u001b[0;34m\u001b[0m\u001b[0;34m\u001b[0m\u001b[0m\n\u001b[1;32m    152\u001b[0m       \u001b[0mfiltered_tb\u001b[0m \u001b[0;34m=\u001b[0m \u001b[0m_process_traceback_frames\u001b[0m\u001b[0;34m(\u001b[0m\u001b[0me\u001b[0m\u001b[0;34m.\u001b[0m\u001b[0m__traceback__\u001b[0m\u001b[0;34m)\u001b[0m\u001b[0;34m\u001b[0m\u001b[0;34m\u001b[0m\u001b[0m\n",
            "\u001b[0;32m/usr/local/lib/python3.8/dist-packages/tensorflow/python/eager/def_function.py\u001b[0m in \u001b[0;36m__call__\u001b[0;34m(self, *args, **kwds)\u001b[0m\n\u001b[1;32m    913\u001b[0m \u001b[0;34m\u001b[0m\u001b[0m\n\u001b[1;32m    914\u001b[0m       \u001b[0;32mwith\u001b[0m \u001b[0mOptionalXlaContext\u001b[0m\u001b[0;34m(\u001b[0m\u001b[0mself\u001b[0m\u001b[0;34m.\u001b[0m\u001b[0m_jit_compile\u001b[0m\u001b[0;34m)\u001b[0m\u001b[0;34m:\u001b[0m\u001b[0;34m\u001b[0m\u001b[0;34m\u001b[0m\u001b[0m\n\u001b[0;32m--> 915\u001b[0;31m         \u001b[0mresult\u001b[0m \u001b[0;34m=\u001b[0m \u001b[0mself\u001b[0m\u001b[0;34m.\u001b[0m\u001b[0m_call\u001b[0m\u001b[0;34m(\u001b[0m\u001b[0;34m*\u001b[0m\u001b[0margs\u001b[0m\u001b[0;34m,\u001b[0m \u001b[0;34m**\u001b[0m\u001b[0mkwds\u001b[0m\u001b[0;34m)\u001b[0m\u001b[0;34m\u001b[0m\u001b[0;34m\u001b[0m\u001b[0m\n\u001b[0m\u001b[1;32m    916\u001b[0m \u001b[0;34m\u001b[0m\u001b[0m\n\u001b[1;32m    917\u001b[0m       \u001b[0mnew_tracing_count\u001b[0m \u001b[0;34m=\u001b[0m \u001b[0mself\u001b[0m\u001b[0;34m.\u001b[0m\u001b[0mexperimental_get_tracing_count\u001b[0m\u001b[0;34m(\u001b[0m\u001b[0;34m)\u001b[0m\u001b[0;34m\u001b[0m\u001b[0;34m\u001b[0m\u001b[0m\n",
            "\u001b[0;32m/usr/local/lib/python3.8/dist-packages/tensorflow/python/eager/def_function.py\u001b[0m in \u001b[0;36m_call\u001b[0;34m(self, *args, **kwds)\u001b[0m\n\u001b[1;32m    945\u001b[0m       \u001b[0;31m# In this case we have created variables on the first call, so we run the\u001b[0m\u001b[0;34m\u001b[0m\u001b[0;34m\u001b[0m\u001b[0;34m\u001b[0m\u001b[0m\n\u001b[1;32m    946\u001b[0m       \u001b[0;31m# defunned version which is guaranteed to never create variables.\u001b[0m\u001b[0;34m\u001b[0m\u001b[0;34m\u001b[0m\u001b[0;34m\u001b[0m\u001b[0m\n\u001b[0;32m--> 947\u001b[0;31m       \u001b[0;32mreturn\u001b[0m \u001b[0mself\u001b[0m\u001b[0;34m.\u001b[0m\u001b[0m_stateless_fn\u001b[0m\u001b[0;34m(\u001b[0m\u001b[0;34m*\u001b[0m\u001b[0margs\u001b[0m\u001b[0;34m,\u001b[0m \u001b[0;34m**\u001b[0m\u001b[0mkwds\u001b[0m\u001b[0;34m)\u001b[0m  \u001b[0;31m# pylint: disable=not-callable\u001b[0m\u001b[0;34m\u001b[0m\u001b[0;34m\u001b[0m\u001b[0m\n\u001b[0m\u001b[1;32m    948\u001b[0m     \u001b[0;32melif\u001b[0m \u001b[0mself\u001b[0m\u001b[0;34m.\u001b[0m\u001b[0m_stateful_fn\u001b[0m \u001b[0;32mis\u001b[0m \u001b[0;32mnot\u001b[0m \u001b[0;32mNone\u001b[0m\u001b[0;34m:\u001b[0m\u001b[0;34m\u001b[0m\u001b[0;34m\u001b[0m\u001b[0m\n\u001b[1;32m    949\u001b[0m       \u001b[0;31m# Release the lock early so that multiple threads can perform the call\u001b[0m\u001b[0;34m\u001b[0m\u001b[0;34m\u001b[0m\u001b[0;34m\u001b[0m\u001b[0m\n",
            "\u001b[0;32m/usr/local/lib/python3.8/dist-packages/tensorflow/python/eager/function.py\u001b[0m in \u001b[0;36m__call__\u001b[0;34m(self, *args, **kwargs)\u001b[0m\n\u001b[1;32m   2451\u001b[0m       (graph_function,\n\u001b[1;32m   2452\u001b[0m        filtered_flat_args) = self._maybe_define_function(args, kwargs)\n\u001b[0;32m-> 2453\u001b[0;31m     return graph_function._call_flat(\n\u001b[0m\u001b[1;32m   2454\u001b[0m         filtered_flat_args, captured_inputs=graph_function.captured_inputs)  # pylint: disable=protected-access\n\u001b[1;32m   2455\u001b[0m \u001b[0;34m\u001b[0m\u001b[0m\n",
            "\u001b[0;32m/usr/local/lib/python3.8/dist-packages/tensorflow/python/eager/function.py\u001b[0m in \u001b[0;36m_call_flat\u001b[0;34m(self, args, captured_inputs, cancellation_manager)\u001b[0m\n\u001b[1;32m   1858\u001b[0m         and executing_eagerly):\n\u001b[1;32m   1859\u001b[0m       \u001b[0;31m# No tape is watching; skip to running the function.\u001b[0m\u001b[0;34m\u001b[0m\u001b[0;34m\u001b[0m\u001b[0;34m\u001b[0m\u001b[0m\n\u001b[0;32m-> 1860\u001b[0;31m       return self._build_call_outputs(self._inference_function.call(\n\u001b[0m\u001b[1;32m   1861\u001b[0m           ctx, args, cancellation_manager=cancellation_manager))\n\u001b[1;32m   1862\u001b[0m     forward_backward = self._select_forward_and_backward_functions(\n",
            "\u001b[0;32m/usr/local/lib/python3.8/dist-packages/tensorflow/python/eager/function.py\u001b[0m in \u001b[0;36mcall\u001b[0;34m(self, ctx, args, cancellation_manager)\u001b[0m\n\u001b[1;32m    495\u001b[0m       \u001b[0;32mwith\u001b[0m \u001b[0m_InterpolateFunctionError\u001b[0m\u001b[0;34m(\u001b[0m\u001b[0mself\u001b[0m\u001b[0;34m)\u001b[0m\u001b[0;34m:\u001b[0m\u001b[0;34m\u001b[0m\u001b[0;34m\u001b[0m\u001b[0m\n\u001b[1;32m    496\u001b[0m         \u001b[0;32mif\u001b[0m \u001b[0mcancellation_manager\u001b[0m \u001b[0;32mis\u001b[0m \u001b[0;32mNone\u001b[0m\u001b[0;34m:\u001b[0m\u001b[0;34m\u001b[0m\u001b[0;34m\u001b[0m\u001b[0m\n\u001b[0;32m--> 497\u001b[0;31m           outputs = execute.execute(\n\u001b[0m\u001b[1;32m    498\u001b[0m               \u001b[0mstr\u001b[0m\u001b[0;34m(\u001b[0m\u001b[0mself\u001b[0m\u001b[0;34m.\u001b[0m\u001b[0msignature\u001b[0m\u001b[0;34m.\u001b[0m\u001b[0mname\u001b[0m\u001b[0;34m)\u001b[0m\u001b[0;34m,\u001b[0m\u001b[0;34m\u001b[0m\u001b[0;34m\u001b[0m\u001b[0m\n\u001b[1;32m    499\u001b[0m               \u001b[0mnum_outputs\u001b[0m\u001b[0;34m=\u001b[0m\u001b[0mself\u001b[0m\u001b[0;34m.\u001b[0m\u001b[0m_num_outputs\u001b[0m\u001b[0;34m,\u001b[0m\u001b[0;34m\u001b[0m\u001b[0;34m\u001b[0m\u001b[0m\n",
            "\u001b[0;32m/usr/local/lib/python3.8/dist-packages/tensorflow/python/eager/execute.py\u001b[0m in \u001b[0;36mquick_execute\u001b[0;34m(op_name, num_outputs, inputs, attrs, ctx, name)\u001b[0m\n\u001b[1;32m     52\u001b[0m   \u001b[0;32mtry\u001b[0m\u001b[0;34m:\u001b[0m\u001b[0;34m\u001b[0m\u001b[0;34m\u001b[0m\u001b[0m\n\u001b[1;32m     53\u001b[0m     \u001b[0mctx\u001b[0m\u001b[0;34m.\u001b[0m\u001b[0mensure_initialized\u001b[0m\u001b[0;34m(\u001b[0m\u001b[0;34m)\u001b[0m\u001b[0;34m\u001b[0m\u001b[0;34m\u001b[0m\u001b[0m\n\u001b[0;32m---> 54\u001b[0;31m     tensors = pywrap_tfe.TFE_Py_Execute(ctx._handle, device_name, op_name,\n\u001b[0m\u001b[1;32m     55\u001b[0m                                         inputs, attrs, num_outputs)\n\u001b[1;32m     56\u001b[0m   \u001b[0;32mexcept\u001b[0m \u001b[0mcore\u001b[0m\u001b[0;34m.\u001b[0m\u001b[0m_NotOkStatusException\u001b[0m \u001b[0;32mas\u001b[0m \u001b[0me\u001b[0m\u001b[0;34m:\u001b[0m\u001b[0;34m\u001b[0m\u001b[0;34m\u001b[0m\u001b[0m\n",
            "\u001b[0;31mKeyboardInterrupt\u001b[0m: "
          ]
        }
      ]
    },
    {
      "cell_type": "code",
      "source": [
        "# perf_summary_vgg19 = experimenting_cnn_with_tl(chosen_model='VGG19',\n",
        "#                                 image_size = 96,\n",
        "#                                 max_trials=50,\n",
        "#                                 batch_size=64,\n",
        "#                                 epochs=20,\n",
        "#                                 brightness_delta=random.choice([.1,.3]),\n",
        "#                                 contrast_factor=random.choice([1,3]),\n",
        "#                                 angle=random.choice([10,30]))\n",
        "# perf_summary_vgg19"
      ],
      "metadata": {
        "id": "X5Gw-RBf0JHl"
      },
      "execution_count": null,
      "outputs": []
    },
    {
      "cell_type": "code",
      "source": [
        "# perf_summary_densenet201 = experimenting_cnn_with_tl(chosen_model='DenseNet201',\n",
        "#                                 image_size = 96,\n",
        "#                                 max_trials=50,\n",
        "#                                 batch_size=64,\n",
        "#                                 epochs=20,\n",
        "#                                 brightness_delta=random.choice([.1,.3]),\n",
        "#                                 contrast_factor=random.choice([1,3]),\n",
        "#                                 angle=random.choice([10,30]))\n",
        "# perf_summary_densenet201"
      ],
      "metadata": {
        "id": "Nyn-0jauubpU"
      },
      "execution_count": null,
      "outputs": []
    },
    {
      "cell_type": "code",
      "source": [
        "# perf_summary_resnet152v2 = experimenting_cnn_with_tl(chosen_model='ResNet152V2',\n",
        "#                                 image_size =96,\n",
        "#                                 max_trials=50,\n",
        "#                                 batch_size=64,\n",
        "#                                 epochs=20,\n",
        "#                                 brightness_delta=random.choice([.1,.3]),\n",
        "#                                 contrast_factor=random.choice([1,3]),\n",
        "#                                 angle=random.choice([10,30]))\n",
        "# perf_summary_resnet152v2"
      ],
      "metadata": {
        "id": "J3i5qGH1ujP5"
      },
      "execution_count": null,
      "outputs": []
    },
    {
      "cell_type": "code",
      "source": [
        "# perf_summary_xception = experimenting_cnn_with_tl(chosen_model='Xception',\n",
        "#                                 image_size = 96,\n",
        "#                                 max_trials=50,\n",
        "#                                 batch_size=64,\n",
        "#                                 epochs=20,\n",
        "#                                 brightness_delta=random.choice([.1,.3]),\n",
        "#                                 contrast_factor=random.choice([1,3]),\n",
        "#                                 angle=random.choice([10,30]))\n",
        "# perf_summary_xception"
      ],
      "metadata": {
        "id": "zDIiMdayurMC"
      },
      "execution_count": null,
      "outputs": []
    },
    {
      "cell_type": "code",
      "source": [
        "# perf_summary_mobilenetv2 = experimenting_cnn_with_tl(chosen_model='MobileNetV2',\n",
        "#                                 image_size = 96,\n",
        "#                                 max_trials=50,\n",
        "#                                 batch_size=64,\n",
        "#                                 epochs=20,\n",
        "#                                 brightness_delta=random.choice([.1,.3]),\n",
        "#                                 contrast_factor=random.choice([1,3]),\n",
        "#                                 angle=random.choice([10,30]))\n",
        "# perf_summary_mobilenetv2"
      ],
      "metadata": {
        "id": "x-2uVs4csrxs"
      },
      "execution_count": null,
      "outputs": []
    },
    {
      "cell_type": "code",
      "source": [
        "# perf_summary_efficientnetb7 = experimenting_cnn_with_tl(chosen_model='EfficientNetB7',\n",
        "#                                 image_size = 96,\n",
        "#                                 max_trials=50,\n",
        "#                                 batch_size=64,\n",
        "#                                 epochs=20,\n",
        "#                                 brightness_delta=random.choice([.1,.3]),\n",
        "#                                 contrast_factor=random.choice([1,3]),\n",
        "#                                 angle=random.choice([10,30]))\n",
        "# perf_summary_efficientnetb7"
      ],
      "metadata": {
        "id": "d1Rj7mQQtY8M"
      },
      "execution_count": null,
      "outputs": []
    },
    {
      "cell_type": "code",
      "source": [
        "# perf_summary_inceptionv3 = experimenting_cnn_with_tl(chosen_model='InceptionV3',\n",
        "#                                 image_size = 96,\n",
        "#                                 max_trials=50,\n",
        "#                                 batch_size=64,\n",
        "#                                 epochs=20,\n",
        "#                                 brightness_delta=random.choice([.1,.3]),\n",
        "#                                 contrast_factor=random.choice([1,3]),\n",
        "#                                 angle=random.choice([10,30]))\n",
        "# perf_summary_inceptionv3"
      ],
      "metadata": {
        "id": "AyFRUhEOtldq"
      },
      "execution_count": null,
      "outputs": []
    },
    {
      "cell_type": "code",
      "source": [
        "# perf_metrics_summary = pd.concat([perf_summary_vgg16,\n",
        "#                              perf_summary_resnet50,\n",
        "#                              perf_summary_vgg19,\n",
        "#                              perf_summary_densenet201,\n",
        "#                              perf_summary_resnet152v2,\n",
        "#                              perf_summary_xception,\n",
        "#                              perf_summary_mobilenetv2,\n",
        "#                              perf_summary_efficientnetb7,\n",
        "#                              perf_summary_inceptionv3], axis=0).reset_index(drop=True)\n",
        "\n",
        "# perf_metrics_summary.to_csv(directory_path + 'perf_metrics_summary_on_best_models.csv') \n",
        "# files.download(directory_path + 'perf_metrics_summary_on_best_models.csv')\n",
        "# perf_metrics_summary"
      ],
      "metadata": {
        "id": "8VOCuQHFkf8y"
      },
      "execution_count": null,
      "outputs": []
    },
    {
      "cell_type": "code",
      "source": [
        "# # # tl_models_50 = ['VGG16', 'VGG19', 'DenseNet201', 'ResNet50', 'ResNet152V2']                                   #  'MobileNetV2'    # input_shape should be one of [96, 128, 160, 192, 224]\n",
        "# # # tl_models_96 = ['VGG16', 'VGG19', 'ResNet152V2', 'DenseNet201', 'MobileNetV2', 'EfficientNetB7', 'InceptionV3', 'Xception']                                        # InceptionV3 has to be at least 75, Xception at least 71\n",
        "# tl_models = ['ResNet50', 'VGG16', 'DenseNet201', 'VGG19', 'ResNet152V2'] \n",
        "\n",
        "# def run_experiments(chosen_model='VGG16',\n",
        "#                     image_size=50, \n",
        "#                     max_trials=20,\n",
        "#                     batch_size=64,\n",
        "#                     epochs=20,\n",
        "#                     brightness_delta=random.choice([.1,.3]),\n",
        "#                     contrast_factor=random.choice([1,3]),\n",
        "#                     angle=random.choice([10,30])):\n",
        "#   metrics_table = pd.DataFrame()  \n",
        "#   for tl in tl_models:     \n",
        "#     perf_summary = experimenting_cnn_with_tl(chosen_model=tl,\n",
        "#                                                 image_size=image_size,\n",
        "#                                                 max_trials=max_trials,\n",
        "#                                                 batch_size=batch_size,\n",
        "#                                                 epochs=epochs,\n",
        "#                                                 brightness_delta=brightness_delta,\n",
        "#                                                 contrast_factor=contrast_factor,\n",
        "#                                                 angle=angle)\n",
        "#     experimenting_cnn_with_tl(chosen_model=tl,\n",
        "#                               image_size = image_size,\n",
        "#                               max_trials=max_trials,\n",
        "#                               batch_size=batch_size,\n",
        "#                               epochs=epochs,\n",
        "#                               brightness_delta=brightness_delta,\n",
        "#                               contrast_factor=contrast_factor)\n",
        "\n",
        "#     metrics_table = metrics_table.append(perf_summary, ignore_index=True)\n",
        "#   return metrics_table\n",
        "\n",
        "# metrics_table = run_experiments(chosen_model='VGG16',\n",
        "#                     image_size=50, \n",
        "#                     max_trials=2,\n",
        "#                     batch_size=64,\n",
        "#                     epochs=2,\n",
        "#                     brightness_delta=random.choice([.1,.3]),\n",
        "#                     contrast_factor=random.choice([1,3]))\n",
        "# metrics_table"
      ],
      "metadata": {
        "id": "Ys2_8u2_Y2jB"
      },
      "execution_count": null,
      "outputs": []
    }
  ]
}