{
  "nbformat": 4,
  "nbformat_minor": 0,
  "metadata": {
    "colab": {
      "provenance": [],
      "include_colab_link": true
    },
    "kernelspec": {
      "name": "python3",
      "display_name": "Python 3"
    },
    "language_info": {
      "name": "python"
    },
    "accelerator": "GPU",
    "gpuClass": "standard"
  },
  "cells": [
    {
      "cell_type": "markdown",
      "metadata": {
        "id": "view-in-github",
        "colab_type": "text"
      },
      "source": [
        "<a href=\"https://colab.research.google.com/github/heesukjang/W207_AppliedML_Fall2022/blob/main/GOOD_12_1_850pm_test_hps_tuning_with_transfer_learning_.ipynb\" target=\"_parent\"><img src=\"https://colab.research.google.com/assets/colab-badge.svg\" alt=\"Open In Colab\"/></a>"
      ]
    },
    {
      "cell_type": "code",
      "source": [
        "import pandas as pd\n",
        "import numpy as np\n",
        "import os\n",
        "import time\n",
        "import random\n",
        "import joblib\n",
        "import glob\n",
        "import random\n",
        "from itertools import product\n",
        "import gc\n",
        "import subprocess\n",
        "import shutil\n",
        "import copy\n",
        "import statistics as st\n",
        "from scipy import stats\n",
        "from google.colab import files\n",
        "\n",
        "from imutils import rotate as rotate\n",
        "import cv2\n",
        "import matplotlib.pyplot as plt\n",
        "import seaborn as sns\n",
        "import plotly.express as px\n",
        "import matplotlib.patches as patches\n",
        "from matplotlib.patches import Polygon\n",
        "from sklearn.metrics import confusion_matrix\n",
        "from mlxtend.plotting import plot_confusion_matrix\n",
        "from skimage.color import gray2rgb\n",
        "import skimage.io as skio\n",
        "from keras.utils.layer_utils import count_params\n",
        "from tensorflow.keras.layers import Concatenate\n",
        "\n",
        "from sklearn.utils import shuffle\n",
        "from sklearn.decomposition import PCA\n",
        "from sklearn.decomposition import IncrementalPCA\n",
        "from sklearn.model_selection import train_test_split\n",
        "from sklearn.model_selection import StratifiedKFold\n",
        "from sklearn.metrics import roc_auc_score\n",
        "from sklearn.metrics import roc_curve\n",
        "from sklearn.metrics import auc\n",
        "from sklearn import metrics\n",
        "from sklearn.metrics import precision_recall_fscore_support as score\n",
        "from sklearn.metrics import classification_report, cohen_kappa_score, zero_one_loss\n",
        "from sklearn.model_selection import KFold\n",
        "from sklearn.model_selection import cross_val_score\n",
        "from sklearn.model_selection import cross_val_predict\n",
        "from sklearn.model_selection import StratifiedShuffleSplit\n",
        "from sklearn.model_selection import train_test_split, GridSearchCV\n",
        "\n",
        "# from tensorflow.keras.preprocessing.image import array_to_img\n",
        "# from tensorflow.keras.preprocessing.image import img_to_array\n",
        "# from tensorflow.keras.preprocessing.image import load_img\n",
        "# from tensorflow.keras.preprocessing.image import save_img\n",
        "\n",
        "import tensorflow as tf\n",
        "from tensorflow import keras\n",
        "from tensorflow.keras import layers\n",
        "from tensorflow.keras.preprocessing.image import ImageDataGenerator\n",
        "from tensorflow.keras.losses import BinaryCrossentropy, CategoricalCrossentropy\n",
        "#from livelossplot import PlotLossesKeras\n",
        "\n",
        "from tensorflow.keras.layers import Lambda\n",
        "from tensorflow.keras.layers import Multiply\n",
        "# from tensorflow.keras.layers import LSTM\n",
        "from tensorflow.keras.layers import Bidirectional\n",
        "from tensorflow.keras.layers import RandomFlip, RandomZoom, RandomRotation, Conv2D, AveragePooling2D, GlobalAveragePooling2D, MaxPooling2D\n",
        "from tensorflow.keras.layers import AveragePooling2D, Input, Dense, Flatten, Dropout, BatchNormalization, GlobalAveragePooling2D\n",
        "from tensorflow.keras.layers import PReLU, ReLU, LeakyReLU\n",
        "from keras.layers.core import Activation\n",
        "from keras.layers.convolutional import SeparableConv1D\n",
        "from keras.layers.convolutional import SeparableConv2D \n",
        "from keras.layers.core import Activation\n",
        "from tensorflow.keras.optimizers import Adam, SGD, Adadelta, Adagrad, RMSprop\n",
        "from tensorflow.keras.models import Sequential\n",
        "\n",
        "from keras.applications.vgg16 import VGG16\n",
        "from keras.applications.vgg19 import VGG19\n",
        "from keras.applications.densenet import *\n",
        "from keras.applications.resnet import ResNet152\n",
        "from tensorflow.keras.applications import ResNet152V2\n",
        "from keras.applications.nasnet import NASNetMobile\n",
        "from keras.applications.nasnet import NASNetLarge\n",
        "from keras.applications.nasnet import preprocess_input\n",
        "from keras.applications import MobileNetV2\n",
        "from keras.applications.xception import Xception\n",
        "from keras.applications.inception_v3 import *\n",
        "\n",
        "\n",
        "from tensorflow.keras.preprocessing.image import array_to_img, img_to_array, load_img, save_img\n",
        "from tensorflow.python.ops.numpy_ops import np_config\n",
        "from keras.callbacks import ModelCheckpoint, EarlyStopping, ReduceLROnPlateau, LearningRateScheduler\n",
        "\n",
        "from keras.models import Model\n",
        "from tensorflow.keras import regularizers\n",
        "from tensorflow.keras.regularizers import l1\n",
        "from tensorflow.keras.regularizers import l2\n",
        "from keras.models import load_model\n",
        "from IPython.display import Image\n",
        "from tensorflow.keras.applications import ResNet152V2, VGG16, VGG19\n",
        "\n",
        "tf.get_logger().setLevel('INFO')\n",
        "\n",
        "import cv2 as cv\n",
        "import skimage.io as io\n",
        "\n",
        "import warnings\n",
        "warnings.filterwarnings('ignore')\n",
        "warnings.simplefilter(\"ignore\", category=DeprecationWarning)\n",
        "\n",
        "# Required to read the data from Kaggle\n",
        "from google.colab import drive\n",
        "# drive.mount('/content/gdrive')\n",
        "# os.environ['KAGGLE_CONFIG_DIR'] = \"/content/gdrive/MyDrive/Kaggle\"\n",
        "\n",
        "from google.colab import drive\n",
        "drive.mount('/content/gdrive')\n",
        "\n",
        "import logging\n",
        "\n",
        "# get TF logger\n",
        "log = logging.getLogger('tensorflow') # tell it to log it to a file"
      ],
      "metadata": {
        "colab": {
          "base_uri": "https://localhost:8080/"
        },
        "id": "AqvUA0UoCPSd",
        "outputId": "7a96ce3b-c1f2-481f-f772-4e842d884925"
      },
      "execution_count": 1,
      "outputs": [
        {
          "output_type": "stream",
          "name": "stdout",
          "text": [
            "Drive already mounted at /content/gdrive; to attempt to forcibly remount, call drive.mount(\"/content/gdrive\", force_remount=True).\n"
          ]
        }
      ]
    },
    {
      "cell_type": "code",
      "source": [
        "# # send text data to a file\n",
        "# # when colab crashes and force to terminate, go see the file and find out where the implementation left off and restart your code from there\n",
        "# fh = logging.FileHandler('tensorflow.log')\n",
        "# fh.setLevel(logging.DEBUG)\n",
        "# fh.setFormatter(formatter)\n",
        "# log.addHandler(fh)"
      ],
      "metadata": {
        "id": "4cXUtcOcabEp"
      },
      "execution_count": 2,
      "outputs": []
    },
    {
      "cell_type": "code",
      "source": [
        "# #send plots to a file \n",
        "# plt.savefig('books_read.png')"
      ],
      "metadata": {
        "id": "BJVR4Ud0anUW"
      },
      "execution_count": 3,
      "outputs": []
    },
    {
      "cell_type": "code",
      "source": [
        "# tf.keras.utils.plot_model(model)"
      ],
      "metadata": {
        "id": "MLRSmkowWAdS"
      },
      "execution_count": 4,
      "outputs": []
    },
    {
      "cell_type": "code",
      "source": [
        "!pip install -q -U keras-tuner\n",
        "import keras_tuner as kt"
      ],
      "metadata": {
        "id": "1yl8KLZbOqcd"
      },
      "execution_count": 5,
      "outputs": []
    },
    {
      "cell_type": "code",
      "source": [
        "# !unzip gdrive/MyDrive/Kaggle/CNN_IDC/Dataset.zip                  "
      ],
      "metadata": {
        "id": "ftiQ04jV6roA"
      },
      "execution_count": 6,
      "outputs": []
    },
    {
      "cell_type": "code",
      "source": [
        "# delete a full folder including all its files and subfolders\n",
        "!rm -rf processed_images/                    "
      ],
      "metadata": {
        "id": "dFwV9FlsaApf"
      },
      "execution_count": 7,
      "outputs": []
    },
    {
      "cell_type": "code",
      "source": [
        "!ls -ltr Dataset"
      ],
      "metadata": {
        "id": "WjE-qGmqW9qS",
        "colab": {
          "base_uri": "https://localhost:8080/"
        },
        "outputId": "b820c67a-2f01-4d9c-dc95-5cfc90d1ba7c"
      },
      "execution_count": 8,
      "outputs": [
        {
          "output_type": "stream",
          "name": "stdout",
          "text": [
            "total 12\n",
            "drwxr-xr-x 4 root root 4096 Oct  4 01:10 Test\n",
            "drwxr-xr-x 4 root root 4096 Oct  4 01:10 Train\n",
            "drwxr-xr-x 4 root root 4096 Oct  4 01:10 Validate\n"
          ]
        }
      ]
    },
    {
      "cell_type": "code",
      "source": [
        "# ls -ltr: List the contents of the current directory in the long listing format ( -l ), \n",
        "#   sorted by modification time ( -t ) in reverse order ( -r ) of all files and directories beginning with file* .\n",
        "# wc -l: count the number of lines\n",
        "\n",
        "!ls -ltr Dataset/Train/0|wc -l\n",
        "!ls -ltr Dataset/Train/1|wc -l\n",
        "\n",
        "!ls -ltr Dataset/Test/0|wc -l\n",
        "!ls -ltr Dataset/Test/1|wc -l\n",
        "\n",
        "!ls -ltr Dataset/Validate/0|wc -l\n",
        "!ls -ltr Dataset/Validate/1|wc -l"
      ],
      "metadata": {
        "id": "rNK-XNrxXBVl",
        "colab": {
          "base_uri": "https://localhost:8080/"
        },
        "outputId": "0d0e1e58-2bbf-4e6b-fadb-b6479246671b"
      },
      "execution_count": 9,
      "outputs": [
        {
          "output_type": "stream",
          "name": "stdout",
          "text": [
            "401\n",
            "401\n",
            "101\n",
            "101\n",
            "101\n",
            "101\n"
          ]
        }
      ]
    },
    {
      "cell_type": "code",
      "source": [
        "val_image_directory = '/content/Dataset/Validate'\n",
        "train_image_directory = '/content/Dataset/Train'\n",
        "test_image_directory = '/content/Dataset/Test'\n",
        "directory_path = '/content/Dataset'\n",
        "\n",
        "tgt_directory_path = '/content/processed_images'\n",
        "tgt_train_1_image_path = '/content/processed_images/train/1/'\n",
        "tgt_train_0_image_path = '/content/processed_images/train/0/'\n",
        "tgt_val_1_image_path = '/content/processed_images/val/1/'\n",
        "tgt_val_0_image_path = '/content/processed_images/val/0/'\n",
        "tgt_test_1_image_path = '/content/processed_images/test/1/'\n",
        "tgt_test_0_image_path = '/content/processed_images/test/0/'\n",
        "\n",
        "tgt_path_list = [tgt_train_1_image_path, tgt_train_0_image_path,\n",
        "                 tgt_val_1_image_path, tgt_val_0_image_path,\n",
        "                 tgt_test_1_image_path, tgt_test_0_image_path\n",
        "                ]"
      ],
      "metadata": {
        "id": "UATtHsgNSRqG"
      },
      "execution_count": 10,
      "outputs": []
    },
    {
      "cell_type": "code",
      "source": [
        "def preprocess(data_dir):\n",
        "  images_path_1 = [data_dir + '/' +  dir + '/' for dir in os.listdir(data_dir) if dir != '.DS_Store'][0]\n",
        "  images_path_0 = [data_dir + '/' +  dir + '/' for dir in os.listdir(data_dir) if dir != '.DS_Store'][1]\n",
        "\n",
        "  images_list_1 = [images_path_1 + file for file in list(os.walk(images_path_1))[0][2] if file[0] != '.']\n",
        "  images_list_0 = [images_path_0 + file for file in list(os.walk(images_path_0))[0][2] if file[0] != '.']\n",
        "\n",
        "  return images_list_1, images_list_0"
      ],
      "metadata": {
        "id": "F0Q-ykr5SbLP"
      },
      "execution_count": 11,
      "outputs": []
    },
    {
      "cell_type": "code",
      "source": [
        "train_1_images_list, train_0_images_list = preprocess(train_image_directory)\n",
        "test_1_images_list, test_0_images_list = preprocess(test_image_directory)\n",
        "val_1_images_list, val_0_images_list = preprocess(val_image_directory)\n",
        "\n",
        "print(train_1_images_list[0],'\\n',train_0_images_list[0])"
      ],
      "metadata": {
        "id": "vfrO2qWjV0oQ",
        "outputId": "b3e7392a-3775-4f52-bfb0-76791b362925",
        "colab": {
          "base_uri": "https://localhost:8080/"
        }
      },
      "execution_count": 12,
      "outputs": [
        {
          "output_type": "stream",
          "name": "stdout",
          "text": [
            "/content/Dataset/Train/1/13024_idx5_x451_y701_class1.png \n",
            " /content/Dataset/Train/0/16553_idx5_x451_y1401_class0.png\n"
          ]
        }
      ]
    },
    {
      "cell_type": "code",
      "source": [
        "len(train_1_images_list + train_0_images_list + test_1_images_list + test_0_images_list + val_1_images_list + val_0_images_list)"
      ],
      "metadata": {
        "id": "BmVWCg1geoxB",
        "colab": {
          "base_uri": "https://localhost:8080/"
        },
        "outputId": "3e7d4f11-6fc1-4461-9d54-90d5923d306f"
      },
      "execution_count": 13,
      "outputs": [
        {
          "output_type": "execute_result",
          "data": {
            "text/plain": [
              "1200"
            ]
          },
          "metadata": {},
          "execution_count": 13
        }
      ]
    },
    {
      "cell_type": "code",
      "source": [
        "len(train_1_images_list), len(train_0_images_list), len(test_1_images_list), len(test_0_images_list), len(val_1_images_list), len(val_0_images_list)"
      ],
      "metadata": {
        "id": "XNjz53EpXpb-",
        "colab": {
          "base_uri": "https://localhost:8080/"
        },
        "outputId": "d4ac43a5-410a-4060-d29c-7516a58d34fc"
      },
      "execution_count": 14,
      "outputs": [
        {
          "output_type": "execute_result",
          "data": {
            "text/plain": [
              "(400, 400, 100, 100, 100, 100)"
            ]
          },
          "metadata": {},
          "execution_count": 14
        }
      ]
    },
    {
      "cell_type": "markdown",
      "source": [
        "## Display the first 5 images for each class\n",
        ": IDC Malignant (1) vs. IDC Benign (0)\n"
      ],
      "metadata": {
        "id": "vVq4Le9MIfV8"
      }
    },
    {
      "cell_type": "code",
      "source": [
        "IMG_SIZE = 50"
      ],
      "metadata": {
        "id": "UUgKYziVkc_i"
      },
      "execution_count": 15,
      "outputs": []
    },
    {
      "cell_type": "code",
      "source": [
        "def display_images(subclass, class_name):\n",
        "  fig, axes = plt.subplots(nrows=1, ncols=6, figsize=(17,6))\n",
        "  for idx, ax in enumerate(axes.flat):\n",
        "    img = io.imread(subclass[idx])\n",
        "    img = cv.resize(img, (IMG_SIZE, IMG_SIZE))    # resize an image from 50 by 50 to 512 by 512\n",
        "    ax.imshow(img)\n",
        "    ax.set_title(class_name)\n",
        "    # ax.set_xticks([])       # remove xticks passing an empty array\n",
        "    # ax.set_yticks([])       # remove yticks passing an empty array\n",
        "  fig.tight_layout() \n",
        "  plt.show() \n",
        "\n",
        "display_images(train_1_images_list, 'IDC Malignant (1)')\n",
        "display_images(train_0_images_list, ' IDC Benign (0)')"
      ],
      "metadata": {
        "id": "cbpAbSsOH9Be",
        "colab": {
          "base_uri": "https://localhost:8080/",
          "height": 443
        },
        "outputId": "0fb05fc4-da4b-4fff-9ce8-e201d4f0c782"
      },
      "execution_count": 16,
      "outputs": [
        {
          "output_type": "display_data",
          "data": {
            "text/plain": [
              "<Figure size 1224x432 with 6 Axes>"
            ],
            "image/png": "[encoded data removed]"
          },
          "metadata": {
            "needs_background": "light"
          }
        },
        {
          "output_type": "display_data",
          "data": {
            "text/plain": [
              "<Figure size 1224x432 with 6 Axes>"
            ],
            "image/png": "[encoded data removed]"
          },
          "metadata": {
            "needs_background": "light"
          }
        }
      ]
    },
    {
      "cell_type": "code",
      "source": [
        "test_img = load_img(train_1_images_list[0], color_mode =\"grayscale\")\n",
        "test_img_arry = img_to_array(test_img)/255                                 # normalize\n",
        "print(type(test_img))\n",
        "print(test_img.format)\n",
        "print(test_img.mode)\n",
        "print(test_img.size)\n",
        "print(test_img.getbands())\n",
        "print(test_img_arry.shape)\n",
        "print(\"****\")\n",
        "test_img1 = load_img(train_1_images_list[0])\n",
        "test_img1_arry = img_to_array(test_img1)\n",
        "print(test_img1_arry.shape)\n",
        "print(test_img1.getbands())\n",
        "array_to_img(test_img_arry)"
      ],
      "metadata": {
        "id": "72L7A7gON-3H",
        "outputId": "d8704442-a871-44f8-c478-7d360a71d4f8",
        "colab": {
          "base_uri": "https://localhost:8080/",
          "height": 223
        }
      },
      "execution_count": 17,
      "outputs": [
        {
          "output_type": "stream",
          "name": "stdout",
          "text": [
            "<class 'PIL.Image.Image'>\n",
            "None\n",
            "L\n",
            "(50, 50)\n",
            "('L',)\n",
            "(50, 50, 1)\n",
            "****\n",
            "(50, 50, 3)\n",
            "('R', 'G', 'B')\n"
          ]
        },
        {
          "output_type": "execute_result",
          "data": {
            "text/plain": [
              "<PIL.Image.Image image mode=L size=50x50 at 0x7FB8BDE8A190>"
            ],
            "image/png": "[encoded data removed]"
          },
          "metadata": {},
          "execution_count": 17
        }
      ]
    },
    {
      "cell_type": "code",
      "source": [
        "from google.colab.patches import cv2_imshow\n",
        "\n",
        "test_img = load_img(train_1_images_list[0], color_mode =\"grayscale\")\n",
        "# test_img_arry = img_to_array(test_img)/255\n",
        "test_img_arry = img_to_array(test_img)\n",
        "print(\"original****\")\n",
        "cv2_imshow(test_img_arry)\n",
        "\n",
        "bright_img_gs = tf.image.adjust_brightness(test_img_arry, delta=10)\n",
        "bright_img_gs = img_to_array(bright_img_gs)\n",
        "print(\"0.3_bright****\")\n",
        "cv2_imshow(bright_img_gs)\n",
        "\n",
        "contrast_img_gs = tf.image.adjust_contrast(test_img_arry, contrast_factor=3)\n",
        "contrast_img_gs = img_to_array(contrast_img_gs)\n",
        "print(\"3_contrast****\")\n",
        "cv2_imshow(contrast_img_gs)\n",
        "\n",
        "hflip_img_gs = cv2.flip(test_img_arry, 1)\n",
        "print(\"vflip****\")\n",
        "cv2_imshow(hflip_img_gs)\n",
        "\n",
        "vflip_img_gs = cv2.flip(test_img_arry, 0)\n",
        "print(\"hflip****\")\n",
        "cv2_imshow(vflip_img_gs)\n",
        "\n",
        "angle = int(random.uniform(-90, 90))\n",
        "h, w = test_img_arry.shape[:2]\n",
        "M = cv2.getRotationMatrix2D((int(w/2), int(h/2)), angle, 1)\n",
        "rotated_img_gs = cv2.warpAffine(test_img_arry, M, (w, h))\n",
        "rotated_img_gs = img_to_array(rotated_img_gs)\n",
        "print(\"rot90****\")\n",
        "cv2_imshow(rotated_img_gs)\n",
        "\n",
        "angle = int(random.uniform(-10, 10))\n",
        "h, w = test_img_arry.shape[:2]\n",
        "M = cv2.getRotationMatrix2D((int(w/2), int(h/2)), angle, 1)\n",
        "rotated_img_gs = cv2.warpAffine(test_img_arry, M, (w, h))\n",
        "rotated_img_gs = img_to_array(rotated_img_gs)\n",
        "print(\"rot10****\")\n",
        "cv2_imshow(rotated_img_gs)\n",
        "\n",
        "angle = int(random.uniform(-30, 30))\n",
        "h, w = test_img_arry.shape[:2]\n",
        "M = cv2.getRotationMatrix2D((int(w/2), int(h/2)), angle, 1)\n",
        "rotated_img_gs = cv2.warpAffine(test_img_arry, M, (w, h))\n",
        "rotated_img_gs = img_to_array(rotated_img_gs)\n",
        "print(\"rot30****\")\n",
        "cv2_imshow(rotated_img_gs)\n",
        "\n",
        "# rotate ccw\n",
        "out=cv2.transpose(test_img_arry)\n",
        "out=cv2.flip(out,flipCode=0)\n",
        "rotated_img_gs = img_to_array(out)\n",
        "print(\"90ccwrot****\")\n",
        "cv2_imshow(out)\n",
        "\n",
        "out=cv2.transpose(test_img_arry)\n",
        "out=cv2.flip(out,flipCode=1)\n",
        "rotated_img_gs = img_to_array(out)/255        # normalize it after augment the image\n",
        "# print('rotated_img_gs',rotated_img_gs)\n",
        "print(\"90rot****\")\n",
        "cv2_imshow(out)\n",
        "\n",
        "# cv2_imshow(shifted)\n",
        "# print(test_img_arry)\n",
        "\n",
        "# shift the image 5 pixels to the left and 10 pixels down\n",
        "M = np.float32([[1, 0, -5], [0, 1, -10]])\n",
        "shifted = cv2.warpAffine(test_img_arry, M, (test_img_arry.shape[1], test_img_arry.shape[0]))\n",
        "print(\"shifted (-5,-10)****\")\n",
        "cv2_imshow(shifted)"
      ],
      "metadata": {
        "id": "TCVsAcTIzjXG",
        "colab": {
          "base_uri": "https://localhost:8080/",
          "height": 1000
        },
        "outputId": "9d796eeb-3780-49e9-cc57-cc18ec9b20f1"
      },
      "execution_count": 18,
      "outputs": [
        {
          "output_type": "stream",
          "name": "stdout",
          "text": [
            "original****\n"
          ]
        },
        {
          "output_type": "display_data",
          "data": {
            "text/plain": [
              "<PIL.Image.Image image mode=RGB size=50x50 at 0x7FB8B9D6A070>"
            ],
            "image/png": "[encoded data removed]"
          },
          "metadata": {}
        },
        {
          "output_type": "stream",
          "name": "stdout",
          "text": [
            "0.3_bright****\n"
          ]
        },
        {
          "output_type": "display_data",
          "data": {
            "text/plain": [
              "<PIL.Image.Image image mode=RGB size=50x50 at 0x7FB8B9D8C790>"
            ],
            "image/png": "[encoded data removed]"
          },
          "metadata": {}
        },
        {
          "output_type": "stream",
          "name": "stdout",
          "text": [
            "3_contrast****\n"
          ]
        },
        {
          "output_type": "display_data",
          "data": {
            "text/plain": [
              "<PIL.Image.Image image mode=RGB size=50x50 at 0x7FB8B9D8C790>"
            ],
            "image/png": "[encoded data removed]"
          },
          "metadata": {}
        },
        {
          "output_type": "stream",
          "name": "stdout",
          "text": [
            "vflip****\n"
          ]
        },
        {
          "output_type": "display_data",
          "data": {
            "text/plain": [
              "<PIL.Image.Image image mode=L size=50x50 at 0x7FB8B9DB4640>"
            ],
            "image/png": "[encoded data removed]"
          },
          "metadata": {}
        },
        {
          "output_type": "stream",
          "name": "stdout",
          "text": [
            "hflip****\n"
          ]
        },
        {
          "output_type": "display_data",
          "data": {
            "text/plain": [
              "<PIL.Image.Image image mode=L size=50x50 at 0x7FB8B9D503D0>"
            ],
            "image/png": "[encoded data removed]"
          },
          "metadata": {}
        },
        {
          "output_type": "stream",
          "name": "stdout",
          "text": [
            "rot90****\n"
          ]
        },
        {
          "output_type": "display_data",
          "data": {
            "text/plain": [
              "<PIL.Image.Image image mode=RGB size=50x50 at 0x7FB8BDF39B80>"
            ],
            "image/png": "[encoded data removed]"
          },
          "metadata": {}
        },
        {
          "output_type": "stream",
          "name": "stdout",
          "text": [
            "rot10****\n"
          ]
        },
        {
          "output_type": "display_data",
          "data": {
            "text/plain": [
              "<PIL.Image.Image image mode=RGB size=50x50 at 0x7FB8B9D75D60>"
            ],
            "image/png": "[encoded data removed]"
          },
          "metadata": {}
        },
        {
          "output_type": "stream",
          "name": "stdout",
          "text": [
            "rot30****\n"
          ]
        },
        {
          "output_type": "display_data",
          "data": {
            "text/plain": [
              "<PIL.Image.Image image mode=RGB size=50x50 at 0x7FB8B9D75070>"
            ],
            "image/png": "[encoded data removed]"
          },
          "metadata": {}
        },
        {
          "output_type": "stream",
          "name": "stdout",
          "text": [
            "90ccwrot****\n"
          ]
        },
        {
          "output_type": "display_data",
          "data": {
            "text/plain": [
              "<PIL.Image.Image image mode=L size=50x50 at 0x7FB8B9D6A070>"
            ],
            "image/png": "[encoded data removed]"
          },
          "metadata": {}
        },
        {
          "output_type": "stream",
          "name": "stdout",
          "text": [
            "rotated_img_gs [[[0.7176471 ]\n",
            "  [0.6784314 ]\n",
            "  [0.4627451 ]\n",
            "  ...\n",
            "  [0.65882355]\n",
            "  [0.40784314]\n",
            "  [0.41960785]]\n",
            "\n",
            " [[0.7294118 ]\n",
            "  [0.6901961 ]\n",
            "  [0.41568628]\n",
            "  ...\n",
            "  [0.6745098 ]\n",
            "  [0.5019608 ]\n",
            "  [0.3647059 ]]\n",
            "\n",
            " [[0.70980394]\n",
            "  [0.6745098 ]\n",
            "  [0.42745098]\n",
            "  ...\n",
            "  [0.69803923]\n",
            "  [0.72156864]\n",
            "  [0.62352943]]\n",
            "\n",
            " ...\n",
            "\n",
            " [[0.39607844]\n",
            "  [0.5529412 ]\n",
            "  [0.41568628]\n",
            "  ...\n",
            "  [0.6156863 ]\n",
            "  [0.5411765 ]\n",
            "  [0.6784314 ]]\n",
            "\n",
            " [[0.3137255 ]\n",
            "  [0.5764706 ]\n",
            "  [0.4392157 ]\n",
            "  ...\n",
            "  [0.5803922 ]\n",
            "  [0.5254902 ]\n",
            "  [0.59607846]]\n",
            "\n",
            " [[0.5137255 ]\n",
            "  [0.7372549 ]\n",
            "  [0.54901963]\n",
            "  ...\n",
            "  [0.654902  ]\n",
            "  [0.49803922]\n",
            "  [0.7019608 ]]]\n",
            "90rot****\n"
          ]
        },
        {
          "output_type": "display_data",
          "data": {
            "text/plain": [
              "<PIL.Image.Image image mode=L size=50x50 at 0x7FB8B9D179A0>"
            ],
            "image/png": "[encoded data removed]"
          },
          "metadata": {}
        },
        {
          "output_type": "stream",
          "name": "stdout",
          "text": [
            "shifted (-5,-10)****\n"
          ]
        },
        {
          "output_type": "display_data",
          "data": {
            "text/plain": [
              "<PIL.Image.Image image mode=L size=50x50 at 0x7FB8BBBEBC40>"
            ],
            "image/png": "[encoded data removed]"
          },
          "metadata": {}
        }
      ]
    },
    {
      "cell_type": "code",
      "source": [
        "resized = cv2.resize(test_img_arry, (224, 224), interpolation = cv2.INTER_AREA) \n",
        "print('Resized Dimensions : ',resized.shape) \n",
        "cv2_imshow(resized)"
      ],
      "metadata": {
        "id": "5I6GPlMm_6GR",
        "colab": {
          "base_uri": "https://localhost:8080/",
          "height": 258
        },
        "outputId": "f38d6515-43eb-4399-8e8c-7b945a7bbacf"
      },
      "execution_count": 19,
      "outputs": [
        {
          "output_type": "stream",
          "name": "stdout",
          "text": [
            "Resized Dimensions :  (224, 224)\n"
          ]
        },
        {
          "output_type": "display_data",
          "data": {
            "text/plain": [
              "<PIL.Image.Image image mode=L size=224x224 at 0x7FB8B9DBFEE0>"
            ],
            "image/png": "[encoded data removed]"
          },
          "metadata": {}
        }
      ]
    },
    {
      "cell_type": "markdown",
      "source": [
        "# Filter Out Odd Images\n",
        "- Exclude images that are not **50 by 50**\n",
        "- Exclude images with no **.png** extension"
      ],
      "metadata": {
        "id": "JskE-RJrzNuQ"
      }
    },
    {
      "cell_type": "code",
      "source": [
        "odd_images = []\n",
        "def extract_odd_images(file_list, IMG_SIZE = 50):\n",
        "    for file_name in file_list:\n",
        "        test_img = load_img(file_name, color_mode =\"grayscale\")\n",
        "        test_img_arry = img_to_array(test_img)\n",
        "        if test_img_arry.shape[0] != IMG_SIZE or test_img_arry.shape[1] != IMG_SIZE:\n",
        "            odd_images.append(file_name)"
      ],
      "metadata": {
        "id": "ksYFBFjrdbFK"
      },
      "execution_count": 20,
      "outputs": []
    },
    {
      "cell_type": "code",
      "source": [
        "extract_odd_images(train_1_images_list + train_0_images_list + test_1_images_list + test_0_images_list + val_1_images_list + val_0_images_list)"
      ],
      "metadata": {
        "id": "BewtIomPefkn"
      },
      "execution_count": 21,
      "outputs": []
    },
    {
      "cell_type": "code",
      "source": [
        "odd_images"
      ],
      "metadata": {
        "id": "zcBUXUXqe6Xv",
        "colab": {
          "base_uri": "https://localhost:8080/"
        },
        "outputId": "25da5d08-70ef-4ce5-e82a-ba43b71b813c"
      },
      "execution_count": 22,
      "outputs": [
        {
          "output_type": "execute_result",
          "data": {
            "text/plain": [
              "['/content/Dataset/Train/0/12954_idx5_x1651_y2951_class0.png',\n",
              " '/content/Dataset/Train/0/9347_idx5_x2101_y801_class0.png',\n",
              " '/content/Dataset/Train/0/13106_idx5_x1_y2951_class0.png',\n",
              " '/content/Dataset/Test/0/13404_idx5_x1101_y2901_class0.png',\n",
              " '/content/Dataset/Validate/0/9320_idx5_x801_y2951_class0.png',\n",
              " '/content/Dataset/Validate/0/12931_idx5_x1901_y2151_class0.png',\n",
              " '/content/Dataset/Validate/0/13694_idx5_x1551_y2801_class0.png']"
            ]
          },
          "metadata": {},
          "execution_count": 22
        }
      ]
    },
    {
      "cell_type": "code",
      "source": [
        "import cv2 as cv\n",
        "import skimage.io as io\n",
        "\n",
        "def display_images(subclass):\n",
        "  fig, axes = plt.subplots(nrows=1, ncols=7, figsize=(20,8))\n",
        "  for idx, ax in enumerate(axes.flat):\n",
        "    image_wo_path = os.path.basename(subclass[idx])\n",
        "    subtitle = 'Class ' + image_wo_path.rsplit('.')[0][-1] + ': ' + subclass[idx].split('/')[3]\n",
        "    img = io.imread(subclass[idx])\n",
        "    ax.imshow(img)\n",
        "    # ax.axis('off')\n",
        "    ax.set_title(subtitle, size=14)   \n",
        "  fig.tight_layout() \n",
        "  plt.show() \n",
        "\n",
        "print();display_images(odd_images)"
      ],
      "metadata": {
        "colab": {
          "base_uri": "https://localhost:8080/",
          "height": 301
        },
        "id": "GUjzcW6KmPpa",
        "outputId": "e4627820-2894-4ab2-ebee-182cfb29e812"
      },
      "execution_count": 23,
      "outputs": [
        {
          "output_type": "stream",
          "name": "stdout",
          "text": [
            "\n"
          ]
        },
        {
          "output_type": "display_data",
          "data": {
            "text/plain": [
              "<Figure size 1440x576 with 7 Axes>"
            ],
            "image/png": "[encoded data removed]"
          },
          "metadata": {
            "needs_background": "light"
          }
        }
      ]
    },
    {
      "cell_type": "code",
      "source": [
        "train_0_images_list[:5]"
      ],
      "metadata": {
        "id": "oVtUbzBwSkOx",
        "colab": {
          "base_uri": "https://localhost:8080/"
        },
        "outputId": "6ed2cdb8-c28f-47ab-b5ae-96906dff8d3f"
      },
      "execution_count": 24,
      "outputs": [
        {
          "output_type": "execute_result",
          "data": {
            "text/plain": [
              "['/content/Dataset/Train/0/16553_idx5_x451_y1401_class0.png',\n",
              " '/content/Dataset/Train/0/13021_idx5_x2201_y351_class0.png',\n",
              " '/content/Dataset/Train/0/9261_idx5_x1151_y1051_class0.png',\n",
              " '/content/Dataset/Train/0/10285_idx5_x851_y1201_class0.png',\n",
              " '/content/Dataset/Train/0/14079_idx5_x2701_y1151_class0.png']"
            ]
          },
          "metadata": {},
          "execution_count": 24
        }
      ]
    },
    {
      "cell_type": "code",
      "source": [
        "train_1_images_list[0].split(\"/\")[-1], train_1_images_list[0][:train_1_images_list[0].rfind(\"/\") + 1]"
      ],
      "metadata": {
        "id": "2BcU0Mx5ShaC",
        "colab": {
          "base_uri": "https://localhost:8080/"
        },
        "outputId": "07b99861-2a86-440f-d527-cd3d0ab8754c"
      },
      "execution_count": 25,
      "outputs": [
        {
          "output_type": "execute_result",
          "data": {
            "text/plain": [
              "('13024_idx5_x451_y701_class1.png', '/content/Dataset/Train/1/')"
            ]
          },
          "metadata": {},
          "execution_count": 25
        }
      ]
    },
    {
      "cell_type": "code",
      "source": [
        "# delete a full folder including all its files and subfolders\n",
        "!rm -rf processed_images/"
      ],
      "metadata": {
        "id": "wIGRZoWrzuJ4"
      },
      "execution_count": 26,
      "outputs": []
    },
    {
      "cell_type": "markdown",
      "source": [
        "# Create a New Directory Path to Store Processed Images"
      ],
      "metadata": {
        "id": "ExufXq8gzvre"
      }
    },
    {
      "cell_type": "code",
      "source": [
        "root_dir = 'processed_images'\n",
        "\n",
        "os.makedirs(f'{root_dir}', exist_ok = True)\n",
        "for dir in ['train', 'val', 'test']:\n",
        "    for sub_dir in ['1', '0']:\n",
        "        os.makedirs(f'{root_dir}/{dir}/{sub_dir}', exist_ok=True)"
      ],
      "metadata": {
        "id": "NuLyO5-kX9RL"
      },
      "execution_count": 27,
      "outputs": []
    },
    {
      "cell_type": "markdown",
      "source": [
        "# Image Augmentation on Training Dataset\n",
        "- Convert color to gray scale\n",
        "- Flip: Horizontal and Vertical\n",
        "- Rotate 90 degree"
      ],
      "metadata": {
        "id": "BK4hkV9niRAs"
      }
    },
    {
      "cell_type": "code",
      "source": [
        "# def create_gs_files(file_list, dest_dir, ind):\n",
        "def create_gs_files(file_list, dest_dir, ind, brightness_delta=0.3, contrast_factor=3, angle=45, right=7, up=-10, left=-7, down=10):\n",
        "  # print(file_list, dest_dir, ind)\n",
        "  lst_train_1_gs, lst_train_0_gs = [], []\n",
        "  lst_val_1_gs, lst_val_0_gs = [], []\n",
        "  lst_test_1_gs, lst_test_0_gs = [], []\n",
        "\n",
        "  file_extension = '.png'\n",
        "  norm_pixel = 255.0\n",
        "  for image_file in file_list:\n",
        "      #print(image_file)\n",
        "      if image_file[0] == '.' or image_file in odd_images:                                     # if image_file = .DS_Store or an odd image then ignore\n",
        "          continue\n",
        "      img_gs = load_img(image_file, color_mode = \"grayscale\")                                     # convert images from colorscale to grayscale\n",
        "      # img_array_gs = img_to_array(img_gs)/255\n",
        "      img_array_gs = img_to_array(img_gs)                                                       # convert grayscale images to array and normalize\n",
        "      # print('img_array_gs/norm_pixel: ',img_array_gs/norm_pixel)\n",
        "      #print(\"a\")\n",
        "      #img_array_gs = cv2.resize(img_array_gs, (224, 224), interpolation = cv2.INTER_AREA)\n",
        "      \n",
        "      file_name = image_file.split(\"/\")[-1]                                                       # extract only filenames from the full file path\n",
        "      save_img(dest_dir + file_name.split(\".\")[0] + '_gs' + file_extension, img_array_gs/norm_pixel)\n",
        "      if ind == 1:\n",
        "          # insert raw training images in gray scale\n",
        "          lst_train_0_gs.append(dest_dir + file_name.split(\".\")[0] + '_gs' + file_extension)\n",
        "\n",
        "          # shift the image 7 pixels to the right and -10 pixels up\n",
        "          M = np.float32([[1, 0, right], [0, 1, up]])\n",
        "          shifted_lu = cv2.warpAffine(img_array_gs, M, (img_array_gs.shape[1], img_array_gs.shape[0]))\n",
        "          img_array_shifted_ru_gs = img_to_array(shifted_lu)/norm_pixel\n",
        "          save_img(dest_dir + file_name.split(\".\")[0] + '_shifted_right_up_gs' + file_extension, img_array_shifted_ru_gs)\n",
        "          lst_train_0_gs.append(dest_dir + file_name.split(\".\")[0] + '_shifted_right_up_gs' + file_extension)\n",
        "\n",
        "          # # shift the image -7 pixels to the left and 10 pixels down\n",
        "          M = np.float32([[1, 0, left], [0, 1, down]])\n",
        "          shifted_rd = cv2.warpAffine(img_array_gs, M, (img_array_gs.shape[1], img_array_gs.shape[0]))\n",
        "          img_array_shifted_ld_gs = img_to_array(shifted_rd)/norm_pixel\n",
        "          save_img(dest_dir + file_name.split(\".\")[0] + '_shifted_left_down_gs' + file_extension, img_array_shifted_ld_gs)\n",
        "          lst_train_0_gs.append(dest_dir + file_name.split(\".\")[0] + '_shifted_left_down_gs' + file_extension)\n",
        "\n",
        "          # adjust brightness\n",
        "          bright_img_gs = tf.image.adjust_brightness(img_array_gs, delta=brightness_delta)\n",
        "          img_array_bright_gs = img_to_array(bright_img_gs)/norm_pixel\n",
        "          save_img(dest_dir + file_name.split(\".\")[0] + '_bright_gs' + file_extension, img_array_bright_gs)\n",
        "          lst_train_0_gs.append(dest_dir + file_name.split(\".\")[0] + '_bright_gs' + file_extension)\n",
        "          \n",
        "          # adjust contrast\n",
        "          contrast_img_gs = tf.image.adjust_contrast(img_array_gs, contrast_factor=contrast_factor)\n",
        "          img_array_contrast_gs = img_to_array(contrast_img_gs)/norm_pixel\n",
        "          save_img(dest_dir + file_name.split(\".\")[0] + '_contrast_gs' + file_extension, img_array_contrast_gs)\n",
        "          lst_train_0_gs.append(dest_dir + file_name.split(\".\")[0] + '_contrast_gs' + file_extension)\n",
        "\n",
        "          # horizontal flip\n",
        "          hflip_img_gs = cv2.flip(img_array_gs, 1)\n",
        "          img_array_hflip_gs = img_to_array(hflip_img_gs)/norm_pixel\n",
        "          save_img(dest_dir + file_name.split(\".\")[0] + '_hflip_gs' + file_extension, img_array_hflip_gs)\n",
        "          lst_train_0_gs.append(dest_dir + file_name.split(\".\")[0] + '_hflip_gs' + file_extension)\n",
        "\n",
        "          # vertical flip\n",
        "          vflip_img_gs = cv2.flip(img_array_gs, 0)\n",
        "          img_array_vflip_gs = img_to_array(vflip_img_gs)/norm_pixel\n",
        "          save_img(dest_dir + file_name.split(\".\")[0] + '_vflip_gs' + file_extension, img_array_vflip_gs)\n",
        "          lst_train_0_gs.append(dest_dir + file_name.split(\".\")[0] + '_vflip_gs' + file_extension)\n",
        "\n",
        "          # rotate \n",
        "          rotate = int(random.uniform(-angle, angle))\n",
        "          # print('rotate ind=1', rotate)\n",
        "          h, w = img_array_gs.shape[:2]\n",
        "          M = cv2.getRotationMatrix2D((int(w/2), int(h/2)), rotate, 1)\n",
        "          rotated_img_gs = cv2.warpAffine(img_array_gs, M, (w, h))\n",
        "          img_array_rotated_gs = img_to_array(rotated_img_gs)/norm_pixel\n",
        "          save_img(dest_dir + file_name.split(\".\")[0] + '_' + str(rotate) + 'rotated_gs' + file_extension, img_array_rotated_gs)\n",
        "          lst_train_0_gs.append(dest_dir + file_name.split(\".\")[0] + '_' + str(rotate) + 'rotated_gs' + file_extension)\n",
        "          # '''\n",
        "          # angle = int(random.uniform(-279, 270))\n",
        "          # h, w = img_array_gs.shape[:2]\n",
        "          # M = cv2.getRotationMatrix2D((int(w/2), int(h/2)), angle, 1)\n",
        "          # rotated_img_gs = cv2.warpAffine(img_array_gs, M, (w, h))\n",
        "          # img_array_rotated_gs = img_to_array(rotated_img_gs)\n",
        "          # save_img(dest_dir + file_name.split(\".\")[0] + '_270rotated_gs' + file_extension, img_array_rotated_gs)\n",
        "          # lst_train_0_gs.append(dest_dir + file_name.split(\".\")[0] + '_270rotated_gs' + file_extension)\n",
        "          \n",
        "          # img_90rot_gs = cv2.rotate(img_gs, cv2.cv2.ROTATE_90_CLOCKWISE)\n",
        "          # img_array_90rot_gs = img_to_array(img_90rot_gs)\n",
        "          # save_img(dest_dir + file_name.split(\".\")[0] + '_90rot_gs' + file_extension, img_array_90rot_gs)\n",
        "          # lst_train_0_gs.append(dest_dir + file_name.split(\".\")[0] + '_90rot_gs' + file_extension)\n",
        "          \n",
        "          # img_180rot_gs = cv2.rotate(img_gs, cv2.cv2.ROTATE_180_CLOCKWISE)\n",
        "          # img_array_180rot_gs = img_to_array(img_180rot_gs)\n",
        "          # save_img(dest_dir + file_name.split(\".\")[0] + '_180rot_gs' + file_extension, img_array_180rot_gs)\n",
        "          # lst_train_0_gs.append(dest_dir + file_name.split(\".\")[0] + '_180rot_gs' + file_extension)\n",
        "\n",
        "          # img_270rot_gs = cv2.rotate(img_gs, cv2.cv2.ROTATE_270_CLOCKWISE)\n",
        "          # img_array_270rot_gs = img_to_array(img_90rot_gs)\n",
        "          # save_img(dest_dir + file_name.split(\".\")[0] + '_90rot_gs' + file_extension, img_array_270rot_gs)\n",
        "          # lst_train_0_gs.append(dest_dir + file_name.split(\".\")[0] + '_90rot_gs' + file_extension)\n",
        "          # '''\n",
        "          # #  histogram equalized image\n",
        "          # img_gs = cv2.imread(image_file, 0)\n",
        "          # img_array_enhanced_gs = cv2.equalizeHist(img_gs)\n",
        "          # img_array_enhanced_gs = img_to_array(img_array_enhanced_gs)\n",
        "          # save_img(dest_dir + file_name.split(\".\")[0] + '_enhance_gs' + file_extension, img_array_enhanced_gs)\n",
        "          # lst_train_0_gs.append(dest_dir + file_name.split(\".\")[0] + '_enhanced_gs' + file_extension)\n",
        "\n",
        "          # transpose and rotate 90 degrees counter clockwise (flip around x-axis)\n",
        "          img_ccw90rot_gs = cv2.transpose(img_array_gs)\n",
        "          img_ccw90rot_gs = cv2.flip(img_ccw90rot_gs, flipCode = 0)\n",
        "          rotatedccw90_img_gs = img_to_array(img_ccw90rot_gs)/norm_pixel\n",
        "          save_img(dest_dir + file_name.split(\".\")[0] + '_ccw90rot_gs' + file_extension, rotatedccw90_img_gs)\n",
        "          lst_train_0_gs.append(dest_dir + file_name.split(\".\")[0] + '_ccw90rot_gs' + file_extension)\n",
        "          #print(\"e\")\n",
        "\n",
        "          # # transpose and rotate 90 degrees (flip around y-axis)\n",
        "          # img_90rot_gs = cv2.transpose(img_array_gs)\n",
        "          # img_90rot_gs = cv2.flip(img_90rot_gs, flipCode = 1)\n",
        "          # rotated90_img_gs = img_to_array(img_90rot_gs)/norm_pixel\n",
        "          # save_img(dest_dir + file_name.split(\".\")[0] + '_90rot_gs' + file_extension, rotated90_img_gs)\n",
        "          # lst_train_0_gs.append(dest_dir + file_name.split(\".\")[0] + '_90rot_gs' + file_extension)\n",
        "          # #print(\"f\")\n",
        "\n",
        "      elif ind == 2:\n",
        "          # insert raw training images in gray scale\n",
        "          lst_train_1_gs.append(dest_dir + file_name.split(\".\")[0] + '_gs' + file_extension)\n",
        "\n",
        "          # shift the image 7 pixels to the right and -10 pixels up\n",
        "          M = np.float32([[1, 0, right], [0, 1, up]])\n",
        "          shifted_lu = cv2.warpAffine(img_array_gs, M, (img_array_gs.shape[1], img_array_gs.shape[0]))\n",
        "          img_array_shifted_ru_gs = img_to_array(shifted_lu)/norm_pixel\n",
        "          save_img(dest_dir + file_name.split(\".\")[0] + '_shifted_right_up_gs' + file_extension, img_array_shifted_ru_gs)\n",
        "          lst_train_0_gs.append(dest_dir + file_name.split(\".\")[0] + '_shifted_right_up_gs' + file_extension)\n",
        "\n",
        "          # # shift the image -7 pixels to the left and 10 pixels down\n",
        "          M = np.float32([[1, 0, left], [0, 1, down]])\n",
        "          shifted_rd = cv2.warpAffine(img_array_gs, M, (img_array_gs.shape[1], img_array_gs.shape[0]))\n",
        "          img_array_shifted_ld_gs = img_to_array(shifted_rd)/norm_pixel\n",
        "          save_img(dest_dir + file_name.split(\".\")[0] + '_shifted_left_down_gs' + file_extension, img_array_shifted_ld_gs)\n",
        "          lst_train_0_gs.append(dest_dir + file_name.split(\".\")[0] + '_shifted_left_down_gs' + file_extension)\n",
        "\n",
        "          # adjust brightness\n",
        "          bright_img_gs = tf.image.adjust_brightness(img_array_gs, delta=brightness_delta)\n",
        "          img_array_bright_gs = img_to_array(bright_img_gs)/norm_pixel\n",
        "          save_img(dest_dir + file_name.split(\".\")[0] + '_bright_gs' + file_extension, img_array_bright_gs)\n",
        "          lst_train_1_gs.append(dest_dir + file_name.split(\".\")[0] + '_bright_gs' + file_extension)\n",
        "          \n",
        "          # adjust contrast\n",
        "          contrast_img_gs = tf.image.adjust_contrast(img_array_gs, contrast_factor=contrast_factor)\n",
        "          img_array_contrast_gs = img_to_array(contrast_img_gs)/norm_pixel\n",
        "          save_img(dest_dir + file_name.split(\".\")[0] + '_contrast_gs' + file_extension, img_array_contrast_gs)\n",
        "          lst_train_1_gs.append(dest_dir + file_name.split(\".\")[0] + '_contrast_gs' + file_extension)\n",
        "\n",
        "          # horizontal flip\n",
        "          hflip_img_gs = cv2.flip(img_array_gs, 1)\n",
        "          img_array_hflip_gs = img_to_array(hflip_img_gs)/norm_pixel\n",
        "          save_img(dest_dir + file_name.split(\".\")[0] + '_hflip_gs' + file_extension, img_array_hflip_gs)\n",
        "          lst_train_1_gs.append(dest_dir + file_name.split(\".\")[0] + '_hflip_gs' + file_extension)\n",
        "\n",
        "          # vertical flip\n",
        "          vflip_img_gs = cv2.flip(img_array_gs, 0)\n",
        "          img_array_vflip_gs = img_to_array(vflip_img_gs)/norm_pixel\n",
        "          save_img(dest_dir + file_name.split(\".\")[0] + '_vflip_gs' + file_extension, img_array_vflip_gs)\n",
        "          lst_train_1_gs.append(dest_dir + file_name.split(\".\")[0] + '_vflip_gs' + file_extension)\n",
        "\n",
        "          # rotate an image by randomly chosen angle ranging from (-angle, angle) clockwise (pos angle) or counter clockwise (neg angle)\n",
        "          rotate = int(random.uniform(-angle, angle)) # ccw for neg, cw for pos \n",
        "          # print('rotate ind=2', rotate)\n",
        "          h, w = img_array_gs.shape[:2]\n",
        "          M = cv2.getRotationMatrix2D((int(w/2), int(h/2)), rotate, 1)\n",
        "          rotated_img_gs = cv2.warpAffine(img_array_gs, M, (w, h))\n",
        "          # print('rotated_img_gs ind=2',rotated_img_gs)\n",
        "          img_array_rotated_gs = img_to_array(rotated_img_gs)/norm_pixel\n",
        "          save_img(dest_dir + file_name.split(\".\")[0] + '_' + str(rotate) + 'rotated_gs' + file_extension, img_array_rotated_gs)\n",
        "          lst_train_1_gs.append(dest_dir + file_name.split(\".\")[0] + '_' + str(rotate) + 'rotated_gs' + file_extension)\n",
        "\n",
        "          # # image shift\n",
        "          # # load the image and display it to our screen\n",
        "          # image = cv2.imread(args[\"image\"])\n",
        "          # cv2.imshow(\"Original\", image)\n",
        "          # # shift the image 25 pixels to the right and 50 pixels down\n",
        "          # M = np.float32([[1, 0, 25], [0, 1, 50]])\n",
        "          # shifted = cv2.warpAffine(image, M, (image.shape[1], image.shape[0]))\n",
        "          # cv2.imshow(\"Shifted Down and Right\", shifted)\n",
        "          # '''\n",
        "          # angle = int(random.uniform(-279, 270))\n",
        "          # h, w = img_array_gs.shape[:2]\n",
        "          # M = cv2.getRotationMatrix2D((int(w/2), int(h/2)), angle, 1)\n",
        "          # rotated_img_gs = cv2.warpAffine(img_array_gs, M, (w, h))\n",
        "          # img_array_rotated_gs = img_to_array(rotated_img_gs)\n",
        "          # save_img(dest_dir + file_name.split(\".\")[0] + '_270rotated_gs' + file_extension, img_array_rotated_gs)\n",
        "          # lst_train_1_gs.append(dest_dir + file_name.split(\".\")[0] + '_270rotated_gs' + file_extension)\n",
        "          \n",
        "          # img_90rot_gs = cv2.rotate(img_gs, cv2.cv2.ROTATE_90_CLOCKWISE)\n",
        "          # img_array_90rot_gs = img_to_array(img_90rot_gs)\n",
        "          # save_img(dest_dir + file_name.split(\".\")[0] + '_90rot_gs' + file_extension, img_array_90rot_gs)\n",
        "          # lst_train_1_gs.append(dest_dir + file_name.split(\".\")[0] + '_90rot_gs' + file_extension)\n",
        "          \n",
        "          # img_180rot_gs = cv2.rotate(img_gs, cv2.cv2.ROTATE_180_CLOCKWISE)\n",
        "          # img_array_180rot_gs = img_to_array(img_180rot_gs)\n",
        "          # save_img(dest_dir + file_name.split(\".\")[0] + '_180rot_gs' + file_extension, img_array_180rot_gs)\n",
        "          # lst_train_1_gs.append(dest_dir + file_name.split(\".\")[0] + '_180rot_gs' + file_extension)\n",
        "\n",
        "          # img_270rot_gs = cv2.rotate(img_gs, cv2.cv2.ROTATE_270_CLOCKWISE)\n",
        "          # img_array_270rot_gs = img_to_array(img_90rot_gs)\n",
        "          # save_img(dest_dir + file_name.split(\".\")[0] + '_90rot_gs' + file_extension, img_array_270rot_gs)\n",
        "          # lst_train_1_gs.append(dest_dir + file_name.split(\".\")[0] + '_90rot_gs' + file_extension)\n",
        "          # '''\n",
        "          # #  histogram equalized image\n",
        "          # img_gs = cv2.imread(image_file, 0)\n",
        "          # img_array_enhanced_gs = cv2.equalizeHist(img_gs)\n",
        "          # img_array_enhanced_gs = img_to_array(img_array_enhanced_gs)\n",
        "          # save_img(dest_dir + file_name.split(\".\")[0] + '_enhance_gs' + file_extension, img_array_enhanced_gs)\n",
        "          # lst_train_1_gs.append(dest_dir + file_name.split(\".\")[0] + '_enhanced_gs' + file_extension)\n",
        "\n",
        "          # transpose and rotate 90 degrees counter clockwise (flip around x-axis)\n",
        "          img_ccw90rot_gs = cv2.transpose(img_array_gs)\n",
        "          img_ccw90rot_gs = cv2.flip(img_ccw90rot_gs, flipCode = 0)\n",
        "          rotatedccw90_img_gs = img_to_array(img_ccw90rot_gs)/norm_pixel\n",
        "          save_img(dest_dir + file_name.split(\".\")[0] + '_ccw90rot_gs' + file_extension, rotatedccw90_img_gs)\n",
        "          lst_train_1_gs.append(dest_dir + file_name.split(\".\")[0] + '_ccw90rot_gs' + file_extension)\n",
        "\n",
        "          # # transpose and rotate 90 degrees (flip around y-axis)\n",
        "          # img_90rot_gs = cv2.transpose(img_array_gs)\n",
        "          # img_90rot_gs = cv2.flip(img_90rot_gs, flipCode = 1)\n",
        "          # rotated90_img_gs = img_to_array(img_90rot_gs)\n",
        "          # save_img(dest_dir + file_name.split(\".\")[0] + '_90rot_gs' + file_extension, rotated90_img_gs)\n",
        "          # lst_train_1_gs.append(dest_dir + file_name.split(\".\")[0] + '_90rot_gs' + file_extension)\n",
        "\n",
        "      elif ind == 3:\n",
        "          lst_val_0_gs.append(dest_dir + file_name.split(\".\")[0] + '_gs' + file_extension)\n",
        "      elif ind == 4:\n",
        "          lst_val_1_gs.append(dest_dir + file_name.split(\".\")[0] + '_gs' + file_extension)\n",
        "      elif ind == 5:\n",
        "          lst_test_0_gs.append(dest_dir + file_name.split(\".\")[0] + '_gs' + file_extension)\n",
        "      elif ind == 6:\n",
        "          lst_test_1_gs.append(dest_dir + file_name.split(\".\")[0] + '_gs' + file_extension)\n",
        "              "
      ],
      "metadata": {
        "id": "L6noBudsj3_a"
      },
      "execution_count": 28,
      "outputs": []
    },
    {
      "cell_type": "code",
      "source": [
        "# len(os.listdir('/content/Dataset/Validate/0'))"
      ],
      "metadata": {
        "id": "RRzsJjRdYI-N"
      },
      "execution_count": 29,
      "outputs": []
    },
    {
      "cell_type": "markdown",
      "source": [
        "# Store Processed Images to New Directory\n",
        "- Convert color to gray scale\n",
        "- Append augmented images"
      ],
      "metadata": {
        "id": "b4_OFquExX6h"
      }
    },
    {
      "cell_type": "code",
      "source": [
        "print(train_1_images_list[0])\n",
        "print(train_0_images_list[0])"
      ],
      "metadata": {
        "id": "CLuVNaA2sq7h",
        "outputId": "056b4bc2-2a62-469c-d5be-abc6d5d5c90a",
        "colab": {
          "base_uri": "https://localhost:8080/"
        }
      },
      "execution_count": 30,
      "outputs": [
        {
          "output_type": "stream",
          "name": "stdout",
          "text": [
            "/content/Dataset/Train/1/13024_idx5_x451_y701_class1.png\n",
            "/content/Dataset/Train/0/16553_idx5_x451_y1401_class0.png\n"
          ]
        }
      ]
    },
    {
      "cell_type": "code",
      "source": [
        "print(tgt_train_1_image_path)\n",
        "print(tgt_train_0_image_path)"
      ],
      "metadata": {
        "id": "iVJAiKvTtjJg",
        "outputId": "af6edcbe-f8a9-48f0-f0af-c33ac0ce077d",
        "colab": {
          "base_uri": "https://localhost:8080/"
        }
      },
      "execution_count": 31,
      "outputs": [
        {
          "output_type": "stream",
          "name": "stdout",
          "text": [
            "/content/processed_images/train/1/\n",
            "/content/processed_images/train/0/\n"
          ]
        }
      ]
    },
    {
      "cell_type": "code",
      "source": [
        "create_gs_files(train_1_images_list, tgt_train_1_image_path, 1, 0.3, 3, 45, 7, -10, -7, 10)\n",
        "print(len(os.listdir('/content/Dataset/Train/1')))\n",
        "print(len(os.listdir(tgt_train_1_image_path)))\n",
        "create_gs_files(train_0_images_list, tgt_train_0_image_path, 2, 0.3, 3, 45, 7, -10, -7, 10)\n",
        "print(len(os.listdir('/content/Dataset/Train/0')))\n",
        "print(len(os.listdir(tgt_train_0_image_path)))\n",
        "\n",
        "create_gs_files(val_0_images_list, tgt_val_0_image_path, 3, 0.3, 3, 45, 7, -10, -7, 10)\n",
        "print(len(os.listdir('/content/Dataset/Validate/1')))\n",
        "print(len(os.listdir(tgt_val_1_image_path)))\n",
        "create_gs_files(val_1_images_list, tgt_val_1_image_path, 4, 0.3, 3, 45, 7, -10, -7, 10)\n",
        "print(len(os.listdir('/content/Dataset/Validate/0')))\n",
        "print(len(os.listdir(tgt_val_0_image_path)))\n",
        "\n",
        "create_gs_files(test_0_images_list, tgt_test_0_image_path, 5, 0.3, 3, 45, 7, -10, -7, 10)\n",
        "print(len(os.listdir('/content/Dataset/Test/1')))\n",
        "print(len(os.listdir(tgt_test_1_image_path)))\n",
        "create_gs_files(test_1_images_list, tgt_test_1_image_path, 6, 0.3, 3, 45, 7, -10, -7, 10)\n",
        "print(len(os.listdir('/content/Dataset/Test/0')))\n",
        "print(len(os.listdir(tgt_test_0_image_path)))"
      ],
      "metadata": {
        "id": "Nn5sGtRqURP5",
        "colab": {
          "base_uri": "https://localhost:8080/"
        },
        "outputId": "1b750bdd-3c09-41f5-d310-693644c63176"
      },
      "execution_count": 32,
      "outputs": [
        {
          "output_type": "stream",
          "name": "stdout",
          "text": [
            "401\n",
            "3600\n",
            "401\n",
            "3573\n",
            "101\n",
            "0\n",
            "101\n",
            "97\n",
            "101\n",
            "0\n",
            "101\n",
            "99\n"
          ]
        }
      ]
    },
    {
      "cell_type": "code",
      "source": [
        "!ls -ltr /content/Dataset/Train/1/*.png|wc -l\n",
        "!ls -ltr /content/Dataset/Train/0/*.png|wc -l"
      ],
      "metadata": {
        "id": "X9_PlsJlbDak",
        "colab": {
          "base_uri": "https://localhost:8080/"
        },
        "outputId": "792956cf-101b-4a78-e6e6-2a3f30bbbba4"
      },
      "execution_count": 33,
      "outputs": [
        {
          "output_type": "stream",
          "name": "stdout",
          "text": [
            "400\n",
            "400\n"
          ]
        }
      ]
    },
    {
      "cell_type": "markdown",
      "source": [
        "# Check the Number of Processed Images in Each Class of Training Dataset"
      ],
      "metadata": {
        "id": "hLaNEkyvx3ct"
      }
    },
    {
      "cell_type": "code",
      "source": [
        "!ls -ltra /content/processed_images/train/1/*.png|wc -l\n",
        "!ls -ltra /content/processed_images/train/0/*.png|wc -l"
      ],
      "metadata": {
        "id": "I58crwAWUK-E",
        "colab": {
          "base_uri": "https://localhost:8080/"
        },
        "outputId": "c3093fcb-5d5e-448a-ad88-645275fe3833"
      },
      "execution_count": 34,
      "outputs": [
        {
          "output_type": "stream",
          "name": "stdout",
          "text": [
            "3600\n",
            "3573\n"
          ]
        }
      ]
    },
    {
      "cell_type": "code",
      "source": [
        "# def custom_augmentation(np_tensor):\n",
        " \n",
        "#     def random_contrast(np_tensor):\n",
        "#         return tf.image.random_contrast(np_tensor, 0.5, 2)\n",
        " \n",
        "#     def random_hue(np_tensor):\n",
        "#         return tf.image.random_hue(np_tensor, 0.5)\n",
        " \n",
        "#     def random_saturation(np_tensor):\n",
        "#         return tf.image.random_saturation(np_tensor, 0.2, 3)\n",
        " \n",
        "#     def gaussian_noise(np_tensor):\n",
        "#         mean = 0\n",
        "#         # variance: randomly between 1 to 25\n",
        "#         var = np.random.randint(1, 26)\n",
        "#         # sigma is square root of the variance value\n",
        "#         noise = np.random.normal(mean,var**0.5,np_tensor.shape)\n",
        "#         return np.clip(np_tensor + noise, 0, 255).astype('int')\n",
        "\n",
        "#     augmnted_tensor = random_contrast(np_tensor)\n",
        "#     augmnted_tensor = random_hue(augmnted_tensor)\n",
        "#     augmnted_tensor = random_saturation(augmnted_tensor)\n",
        "#     augmented_tensor = gaussian_noise(augmnted_tensor)\n",
        "  \n",
        "#     return np.array(augmnted_tensor)\n",
        "\n",
        "# # Train data generator\n",
        "# train_datagen = tf.keras.preprocessing.image.ImageDataGenerator(\n",
        "#     #featurewise_center            = True, \n",
        "#     #featurewise_std_normalization = True,\n",
        "#     rescale                       = 1.0/255\n",
        "# )\n",
        "\n",
        "# # Validation data generator\n",
        "# val_datagen = tf.keras.preprocessing.image.ImageDataGenerator(\n",
        "#     #featurewise_center            = True, \n",
        "#     #featurewise_std_normalization = True\n",
        "#     rescale = 1.0/255\n",
        "#     )\n",
        "\n",
        "# # Test data generator\n",
        "# test_datagen = tf.keras.preprocessing.image.ImageDataGenerator(\n",
        "#     #featurewise_center            = True, \n",
        "#     #featurewise_std_normalization = True\n",
        "#     rescale = 1.0/255\n",
        "#     )"
      ],
      "metadata": {
        "id": "hH1PhTDtgAHG"
      },
      "execution_count": 35,
      "outputs": []
    },
    {
      "cell_type": "markdown",
      "source": [
        "# Define Transfer Learning Models"
      ],
      "metadata": {
        "id": "fakIZQ_3xG64"
      }
    },
    {
      "cell_type": "code",
      "source": [
        "def build_transfer_learning_model(chosen_model):\n",
        "    \"\"\"\n",
        "    This function utilizes transfer learning of a given model.\n",
        "    \"\"\"\n",
        "    tf.random.set_seed(random_state)\n",
        "    np.random.seed(random_state)\n",
        "    tf.keras.backend.clear_session()\n",
        "\n",
        "    input_shape = (IMG_SIZE, IMG_SIZE, 3)\n",
        "    if chosen_model == 'VGG19':\n",
        "        model_tl = VGG19(weights = 'imagenet', include_top = False, input_shape = input_shape)\n",
        "    elif chosen_model == 'DenseNet201':\n",
        "        model_tl = tf.keras.applications.densenet.DenseNet201(weights = 'imagenet', include_top = False, input_shape = input_shape)\n",
        "    elif chosen_model == 'ResNet50':\n",
        "        model_tl = tf.keras.applications.resnet50.ResNet50(weights = 'imagenet', include_top = False, input_shape = input_shape)\n",
        "    elif chosen_model == 'ResNet152V2':\n",
        "        model_tl = ResNet152V2(weights = 'imagenet', include_top = False, input_shape = input_shape)       \n",
        "    elif chosen_model == 'VGG16':\n",
        "        model_tl = VGG16(weights = 'imagenet', include_top = False, input_shape = input_shape)\n",
        "    elif chosen_model == 'EfficientNetB7':\n",
        "        model_tl = tf.keras.applications.efficientnet.EfficientNetB7(weights = 'imagenet', include_top = False, input_shape = input_shape)\n",
        "    elif chosen_model == 'MobileNetV2':\n",
        "        model_tl = MobileNetV2(weights='imagenet',include_top = False, input_shape=input_shape)\n",
        "    elif chosen_model == 'Xception':\n",
        "        model_tl = tf.keras.applications.Xception(weights = 'imagenet', include_top = False, input_shape = input_shape)\n",
        "    elif chosen_model == 'InceptionV3':\n",
        "        model_tl = tf.keras.applications.InceptionV3(weights = 'imagenet', include_top = False, input_shape = input_shape)\n",
        "    return model_tl"
      ],
      "metadata": {
        "id": "dvw6LNAdkAW4"
      },
      "execution_count": 36,
      "outputs": []
    },
    {
      "cell_type": "markdown",
      "source": [
        "# Define plot_model_accuracy_and_loss function"
      ],
      "metadata": {
        "id": "k7BlY9hmxNUO"
      }
    },
    {
      "cell_type": "code",
      "source": [
        "def plot_model_accuracy_and_loss(history, chosen_model):\n",
        "   \"\"\"\n",
        "   This method plots model training and validation accuracies.\n",
        "   \"\"\"\n",
        "   tf.keras.backend.clear_session()\n",
        "\n",
        "   hist = history.history\n",
        "   x_arr = np.arange(len(hist['loss'])) + 1\n",
        "        \n",
        "   fig = plt.figure(figsize=(12, 4))\n",
        "   ax = fig.add_subplot(1, 2, 1)\n",
        "   ax.plot(x_arr, hist['loss'], '-o', label = 'Train Loss')\n",
        "   ax.plot(x_arr, hist['val_loss'], '--<', label = 'Val Loss')\n",
        "   ax.legend(fontsize=15)\n",
        "   ax.set_xlabel('Epoch', size = 15)\n",
        "   ax.set_ylabel('Loss', size = 15)\n",
        "\n",
        "   ax = fig.add_subplot(1, 2, 2)\n",
        "   ax.plot(x_arr, hist['accuracy'], '-o', label = 'Train Acc')\n",
        "   ax.plot(x_arr, hist['val_accuracy'], '--<', label = 'Val Acc')\n",
        "   ax.legend(fontsize = 15)\n",
        "   ax.set_xlabel('Epoch', size = 15)\n",
        "   ax.set_ylabel('Accuracy', size = 15)\n",
        "   ax.set_ylim(0,1)\n",
        "   plt.title(f\"{chosen_model}\")\n",
        "   plt.show(block = False)"
      ],
      "metadata": {
        "id": "Kymn8vnZsPc8"
      },
      "execution_count": 37,
      "outputs": []
    },
    {
      "cell_type": "markdown",
      "source": [
        "# Define Image Data Generator \n",
        ": 1200 given raw images + augmented images"
      ],
      "metadata": {
        "id": "VcWTaXg5yokz"
      }
    },
    {
      "cell_type": "code",
      "source": [
        "batch_size = 64\n",
        "random_state = 1234\n",
        "image_size = 50\n",
        "\n",
        "def data_generator(image_size): \n",
        "  processed_images_train_path = '/content/processed_images/train'           # contains augmented images with original images (4782 = IDC(1): 2400 + IDC(1): 2382)\n",
        "  processed_images_validation_path = '/content/processed_images/val'\n",
        "  processed_images_test_path = '/content/processed_images/test'\n",
        "\n",
        "  # train_datagen = ImageDataGenerator(rescale = 1./255,\n",
        "  #                                  horizontal_flip = True,\n",
        "  #                                  vertical_flip = True,\n",
        "  #                                  rotation_range = 180,\n",
        "  #                                  zoom_range = 0.4, \n",
        "  #                                  width_shift_range = 0.3,\n",
        "  #                                  height_shift_range = 0.3,\n",
        "  #                                  shear_range = 0.3\n",
        "  #                                  #,preprocessing_function = custom_augmentation \n",
        "  #                                 )\n",
        "\n",
        "  # # Validation data generator\n",
        "  # val_datagen = tf.keras.preprocessing.image.ImageDataGenerator(\n",
        "  #     rescale = 1.0/255\n",
        "  #     )\n",
        "\n",
        "  # # Test data generator\n",
        "  # test_datagen = tf.keras.preprocessing.image.ImageDataGenerator(\n",
        "  #     rescale = 1.0/255\n",
        "  #     )\n",
        "\n",
        "\n",
        "  datagen = tf.keras.preprocessing.image.ImageDataGenerator(rescale = 1.0/255)\n",
        "\n",
        "  train_data_generator = datagen.flow_from_directory(processed_images_train_path,\n",
        "                                                                      target_size = (image_size, image_size),\n",
        "                                                                      class_mode = 'categorical',\n",
        "                                                                      batch_size = batch_size,\n",
        "                                                                      color_mode = 'rgb',\n",
        "                                                                      shuffle = True,\n",
        "                                                                      seed = random_state\n",
        "                                                                      )\n",
        "  val_data_generator = datagen.flow_from_directory(processed_images_validation_path,\n",
        "                                                                  target_size = (image_size, image_size),\n",
        "                                                                  class_mode = 'categorical',\n",
        "                                                                  batch_size = batch_size,\n",
        "                                                                  color_mode = 'rgb',\n",
        "                                                                  shuffle = True,\n",
        "                                                                  seed = random_state\n",
        "                                                                  )\n",
        "  test_data_generator = datagen.flow_from_directory(processed_images_test_path,\n",
        "                                                                    target_size = (image_size, image_size),\n",
        "                                                                    batch_size = batch_size,\n",
        "                                                                    class_mode = 'categorical',\n",
        "                                                                    color_mode = 'rgb',\n",
        "                                                                    shuffle = False,\n",
        "                                                                    seed = random_state\n",
        "                                                                    )\n",
        "  return train_data_generator, val_data_generator, test_data_generator\n",
        "\n",
        "# train_data_generator, val_data_generator, test_data_generator = data_generator(image_size)"
      ],
      "metadata": {
        "id": "6ogPs-X7mtSK"
      },
      "execution_count": 38,
      "outputs": []
    },
    {
      "cell_type": "code",
      "source": [
        "# transfer_learning_model_list = ['VGG16', \n",
        "#                                 'VGG19', \n",
        "#                                 'DenseNet201', \n",
        "#                                 'InceptionV3', \n",
        "#                                 'ResNet50', \n",
        "#                                 'EfficientNetB7', \n",
        "#                                 'MobileNetV2', \n",
        "#                                 'Xception'\n",
        "#                                ]"
      ],
      "metadata": {
        "id": "igoFfn5voLQj"
      },
      "execution_count": 39,
      "outputs": []
    },
    {
      "cell_type": "markdown",
      "source": [
        "# Define Model\n",
        "- Build CNN with Transfer Learning and model.compile\n",
        "- model.fit\n",
        "- model.evaluate and model.predict"
      ],
      "metadata": {
        "id": "8ZGKiVVJct-7"
      }
    },
    {
      "cell_type": "markdown",
      "source": [
        "## Experiments\n",
        "- Start with just GlobalAveragePooling2D, Dropout and last Output layer\n",
        "- add Batchnormalization()\n",
        "- add Flatten()\n",
        "- add diff num of Dense layers\n",
        "- Use concatenated Transfer Learning Models\n"
      ],
      "metadata": {
        "id": "Lol1-Oq0s98d"
      }
    },
    {
      "cell_type": "code",
      "source": [
        "# 1st model\n",
        "# def cnn_with_tl(hp):\n",
        "  \n",
        "#   tf.keras.backend.clear_session()\n",
        "#   tf.random.set_seed(1234)\n",
        "\n",
        "#   pretrained_tl = build_transfer_learning_model(chosen_model = chosen_model)\n",
        "\n",
        "#   model_tl = Sequential()  \n",
        "#   for layer in pretrained_tl.layers:\n",
        "#     model_tl.add(layer)\n",
        "    \n",
        "#   for layer in model_tl.layers:\n",
        "#     layer.trainable = False              # freeze extraction layers\n",
        "\n",
        "#   hp_activation = hp.Choice('activation', values=['tanh', 'relu', 'leaky_relu', 'gelu'], default='relu')\n",
        "#   hp_optimizer = hp.Choice('optimizer', values=['adam', 'sgd','rmsprop'], default='adam')\n",
        "#   hp_dense_1 = hp.Int('dense_units_1', min_value=128, max_value=1024, step=128)\n",
        "#   hp_dense_2 = hp.Int('dense_units_2', min_value=128, max_value=1024, step=128)\n",
        "#   # hp_dense_3 = hp.Int('dense_units_3', min_value=128, max_value=256, step=128)\n",
        "#   hp_learning_rate = hp.Choice('learning_rate', values=[1e-2, 1e-3])\n",
        "#   hp_dropout_1 = hp.Choice('dropout_rate_1',values=[0.2, 0.3, 0.4, 0.5, 0.6])\n",
        "#   hp_dropout_2 = hp.Choice('dropout_rate_2',values=[0.2, 0.3, 0.4, 0.5, 0.6])\n",
        "#   # hp_dropout_3 = hp.Choice('dropout_rate_3',values=[0.2, 0.3, 0.4, 0.5, 0.6])\n",
        "#   # hp_reduction_type = hp.Choice('reduction_type', values=['global_avg_pooling2d', 'max_pooling2d'])\n",
        "\n",
        "#   # if hp_reduction_type == 'global_avg_pooling2d':\n",
        "#   model_tl.add(GlobalAveragePooling2D())\n",
        "#   # else:\n",
        "#   #   model_tl.add(MaxPooling2D(pool_size=(hp_pool_size,hp_pool_size), strides=(hp_strides,hp_strides)))  \n",
        "#   model_tl.add(Dropout(hp_dropout_1))\n",
        "\n",
        "#   model_tl.add(Dense(units = hp_dense_1, activation = hp_activation))\n",
        "#   model_tl.add(BatchNormalization())\n",
        "#   # if hp.Boolean('dropout_1'):\n",
        "#   model_tl.add(Dropout(hp_dropout_2))\n",
        "\n",
        "#   # model_tl.add(Dense(units = hp_dense_2, activation = hp_activation))\n",
        "#   # model_tl.add(BatchNormalization())\n",
        "#   # # if hp.Boolean('dropout_2'):\n",
        "#   # model_tl.add(Dropout(hp_dropout_3))\n",
        "\n",
        "#   model_tl.add(Flatten())\n",
        "  \n",
        "#   # # if hp.Boolean('last_dense'):\n",
        "#   # model_tl.add(Dense(units = hp_dense_3, activation = hp_activation))\n",
        "#   # model_tl.add(BatchNormalization())\n",
        "#   # # if hp.Boolean('dropout_3'):\n",
        "#   # model_tl.add(Dropout(hp_dropout_3))\n",
        "  \n",
        "#   model_tl.add(Dense(units = hp_dense_1, activation = hp_activation))\n",
        "#   model_tl.add(BatchNormalization())\n",
        "#   # if hp.Boolean('dropout_1'):\n",
        "#   model_tl.add(Dropout(hp_dropout_2))\n",
        "\n",
        "#   model_tl.add(Dense(units = 2, activation = 'softmax'))                        # Output layer\n",
        "\n",
        "#   def selected_optimizer(optimizer):\n",
        "#     if optimizer.lower() == 'sgd':\n",
        "#         return SGD(learning_rate=hp_learning_rate)           # SGD(learning_rate=learning_rate, momentum=0.95, decay=1, nesterov=True)\n",
        "#     elif optimizer.lower() == 'adam':\n",
        "#         return Adam(learning_rate=hp_learning_rate)          # Adam(learning_rate=learning_rate, beta_1=0.9, beta_2=0.999, epsilon=1e-8, kappa=1-1e-8)\n",
        "#     elif optimizer.lower() == 'rmsprop':\n",
        "#         return RMSprop(learning_rate=hp_learning_rate)       # RMSprop(learning_rate=learning_rate, rho=0.9, epsilon=1e-6)\n",
        "\n",
        "#   model_tl.compile(loss=CategoricalCrossentropy(), \n",
        "#                 optimizer=selected_optimizer(hp_optimizer), \n",
        "#                 metrics=['accuracy'])  \n",
        "\n",
        "#   return model_tl"
      ],
      "metadata": {
        "id": "HjPtK1Vehton"
      },
      "execution_count": 40,
      "outputs": []
    },
    {
      "cell_type": "code",
      "source": [
        "# chosen_model = 'ResNet50'\n",
        "\n",
        "# pretrained_tl = build_transfer_learning_model(chosen_model = 'ResNet50')\n",
        "# print(pretrained_tl.layers[-1].name)\n",
        "# print(len(pretrained_tl.layers))\n",
        "# print(len(pretrained_tl.layers[:174]))\n",
        "# print(len(pretrained_tl.layers)-1)\n",
        "# print(pretrained_tl.layers[174].name)\n",
        "# # pretrained_tl.summary()\n",
        "# # conv5_block3_out\n",
        "# print('====================')\n",
        "\n",
        "# # chosen_model = 'VGG16'\n",
        "\n",
        "# # pretrained_tl = build_transfer_learning_model(chosen_model = 'VGG16')\n",
        "# # print(pretrained_tl.layers[-1].name)\n",
        "# # print(len(pretrained_tl.layers))\n",
        "# # # print(print(len(pretrained_tl.layers[:174])))\n",
        "# # # print(pretrained_tl.layers[174].name)\n",
        "# # # pretrained_tl.summary()\n",
        "# # # conv5_block3_out\n",
        "\n",
        "# len_tl_layers = len(pretrained_tl.layers)-1\n",
        "\n",
        "# for layer in pretrained_tl.layers[:len_tl_layers]:\n",
        "#   layer.trainable = False\n",
        "\n",
        "# # get the output of the last layer and connect to my own layers\n",
        "# last_layer = pretrained_tl.get_layer(pretrained_tl.layers[-1].name)\n",
        "# last_tl_output = last_layer.output\n",
        "# x = Flatten()(last_tl_output)\n",
        "# x = Dense(1024, activation='relu')(x)\n",
        "# x = Dense(2, activation='softmax')(x)\n",
        "# # x = Dense(1, activation='sigmoid')(x)\n",
        "# model = Model(pretrained_tl.input, x)\n",
        "# model.summary()\n",
        "\n",
        "# len_tl_layers = len(pretrained_tl.layers)-2\n",
        "\n",
        "# for layer in pretrained_tl.layers[:len_tl_layers]:\n",
        "#   layer.trainable = False\n",
        "\n",
        "# # get the output of the last layer and connect to my own layers\n",
        "# last_layer = pretrained_tl.get_layer(pretrained_tl.layers[-2].name)\n",
        "# last_tl_output = last_layer.output\n",
        "# x = Flatten()(last_tl_output)\n",
        "# x = Dense(1024, activation='relu')(x)\n",
        "# x = Dense(2, activation='softmax')(x)\n",
        "# # x = Dense(1, activation='sigmoid')(x)\n",
        "# model = Model(pretrained_tl.input, x)\n",
        "# model.summary()"
      ],
      "metadata": {
        "id": "uyWQVzTSKm52"
      },
      "execution_count": 41,
      "outputs": []
    },
    {
      "cell_type": "code",
      "source": [
        "# 2nd model\n",
        "chosen_model = 'ResNet50'\n",
        "\n",
        "def cnn_with_tl(hp):\n",
        "  \n",
        "  tf.keras.backend.clear_session()\n",
        "  tf.random.set_seed(1234)\n",
        "\n",
        "  pretrained_tl = build_transfer_learning_model(chosen_model = chosen_model) \n",
        "\n",
        "  # model_tl = Sequential()  \n",
        "  # for layer in pretrained_tl.layers:\n",
        "  #   model_tl.add(layer)\n",
        "    \n",
        "  # for layer in model_tl.layers:\n",
        "  #   layer.trainable = False              # freeze extraction layers\n",
        "  \n",
        "  # ========================================\n",
        "  len_tl_layers = len(pretrained_tl.layers)-1   # length of the tl model layers except the last two\n",
        "  for layer in pretrained_tl.layers[:len_tl_layers]:    # # freeze all extraction layers except the two last layers\n",
        "    layer.trainable = False\n",
        "  \n",
        "  last_layer = pretrained_tl.get_layer(pretrained_tl.layers[-1].name)    # get the output of the last layer and connect to my own layers\n",
        "  \n",
        "  hp_activation = hp.Choice('activation', values=['tanh', 'relu', 'leaky_relu', 'gelu'], default='relu')\n",
        "  hp_optimizer = hp.Choice('optimizer', values=['adam', 'sgd','rmsprop'], default='adam')\n",
        "  hp_dense_1 = hp.Int('dense_units_1', min_value=128, max_value=1024, step=128)\n",
        "  hp_learning_rate = hp.Choice('learning_rate', values=[1e-2, 1e-3, 1e-4])\n",
        "  hp_dropout_1 = hp.Choice('dropout_rate_1',values=[0.2, 0.3, 0.4, 0.5, 0.6])\n",
        "\n",
        "  last_tl_output = last_layer.output\n",
        "  x = Flatten()(last_tl_output)\n",
        "  if hp.Boolean('dense_1'):\n",
        "    x = Dense(hp_dense_1, activation=hp_activation)(x)\n",
        "  # if hp.Boolean('dropout_1'):\n",
        "  x = Dropout(hp_dropout_1)(x)\n",
        "  x = Dense(2, activation='softmax')(x)\n",
        "\n",
        "  model_tl = Model(pretrained_tl.input, x)\n",
        "\n",
        "  def selected_optimizer(optimizer):\n",
        "    if optimizer.lower() == 'sgd':\n",
        "        return SGD(learning_rate=hp_learning_rate)           # SGD(learning_rate=learning_rate, momentum=0.95, decay=1, nesterov=True)\n",
        "    elif optimizer.lower() == 'adam':\n",
        "        return Adam(learning_rate=hp_learning_rate)          # Adam(learning_rate=learning_rate, beta_1=0.9, beta_2=0.999, epsilon=1e-8, kappa=1-1e-8)\n",
        "    elif optimizer.lower() == 'rmsprop':\n",
        "        return RMSprop(learning_rate=hp_learning_rate)       # RMSprop(learning_rate=learning_rate, rho=0.9, epsilon=1e-6)\n",
        "\n",
        "  model_tl.compile(loss=CategoricalCrossentropy(), \n",
        "                optimizer=selected_optimizer(hp_optimizer), \n",
        "                metrics=['accuracy'])  \n",
        "\n",
        "  return model_tl"
      ],
      "metadata": {
        "id": "6A5Z8jyyOdz-"
      },
      "execution_count": 42,
      "outputs": []
    },
    {
      "cell_type": "code",
      "source": [
        "# # 2nd model\n",
        "# def cnn_with_tl(hp):\n",
        "  \n",
        "#   tf.keras.backend.clear_session()\n",
        "#   tf.random.set_seed(1234)\n",
        "\n",
        "#   pretrained_tl = build_transfer_learning_model(chosen_model = chosen_model)\n",
        "\n",
        "#   model_tl = Sequential()  \n",
        "#   for layer in pretrained_tl.layers:\n",
        "#     model_tl.add(layer)\n",
        "    \n",
        "#   for layer in model_tl.layers:\n",
        "#     layer.trainable = False              # freeze extraction layers\n",
        "\n",
        "#   hp_activation = hp.Choice('activation', values=['tanh', 'relu', 'leaky_relu', 'gelu'], default='relu')\n",
        "#   hp_optimizer = hp.Choice('optimizer', values=['adam', 'sgd','rmsprop'], default='adam')\n",
        "#   # hp_dense_1 = hp.Int('dense_units_1', min_value=128, max_value=1024, step=128)\n",
        "#   # hp_dense_2 = hp.Int('dense_units_2', min_value=128, max_value=1024, step=128)\n",
        "#   # hp_dense_3 = hp.Int('dense_units_3', min_value=128, max_value=256, step=128)\n",
        "#   hp_learning_rate = hp.Choice('learning_rate', values=[1e-2, 1e-3, 1e-4])\n",
        "#   hp_dropout_1 = hp.Choice('dropout_rate_1',values=[0.2, 0.3, 0.4, 0.5, 0.6])\n",
        "#   # hp_dropout_2 = hp.Choice('dropout_rate_2',values=[0.2, 0.3, 0.4, 0.5, 0.6])\n",
        "#   # hp_dropout_3 = hp.Choice('dropout_rate_3',values=[0.2, 0.3, 0.4, 0.5, 0.6])\n",
        "#   # hp_reduction_type = hp.Choice('reduction_type', values=['global_avg_pooling2d', 'max_pooling2d'])\n",
        "\n",
        "#   # if hp_reduction_type == 'global_avg_pooling2d':\n",
        "#   model_tl.add(GlobalAveragePooling2D())\n",
        "#   # else:\n",
        "#   #   model_tl.add(MaxPooling2D(pool_size=(hp_pool_size,hp_pool_size), strides=(hp_strides,hp_strides)))  \n",
        "#   model_tl.add(Dropout(hp_dropout_1))\n",
        "\n",
        "#   # model_tl.add(Dense(units = hp_dense_1, activation = hp_activation))\n",
        "#   # model_tl.add(BatchNormalization())\n",
        "#   # # if hp.Boolean('dropout_1'):\n",
        "#   # model_tl.add(Dropout(hp_dropout_2))\n",
        "\n",
        "#   # # model_tl.add(Dense(units = hp_dense_2, activation = hp_activation))\n",
        "#   # # model_tl.add(BatchNormalization())\n",
        "#   # # # if hp.Boolean('dropout_2'):\n",
        "#   # # model_tl.add(Dropout(hp_dropout_3))\n",
        "\n",
        "#   # model_tl.add(Flatten())\n",
        "  \n",
        "#   # # # if hp.Boolean('last_dense'):\n",
        "#   # # model_tl.add(Dense(units = hp_dense_3, activation = hp_activation))\n",
        "#   # # model_tl.add(BatchNormalization())\n",
        "#   # # # if hp.Boolean('dropout_3'):\n",
        "#   # # model_tl.add(Dropout(hp_dropout_3))\n",
        "  \n",
        "#   # model_tl.add(Dense(units = hp_dense_1, activation = hp_activation))\n",
        "#   # model_tl.add(BatchNormalization())\n",
        "#   # # if hp.Boolean('dropout_1'):\n",
        "#   # model_tl.add(Dropout(hp_dropout_2))\n",
        "\n",
        "#   model_tl.add(Dense(units = 2, activation = 'softmax'))                        # Output layer\n",
        "\n",
        "#   def selected_optimizer(optimizer):\n",
        "#     if optimizer.lower() == 'sgd':\n",
        "#         return SGD(learning_rate=hp_learning_rate)           # SGD(learning_rate=learning_rate, momentum=0.95, decay=1, nesterov=True)\n",
        "#     elif optimizer.lower() == 'adam':\n",
        "#         return Adam(learning_rate=hp_learning_rate)          # Adam(learning_rate=learning_rate, beta_1=0.9, beta_2=0.999, epsilon=1e-8, kappa=1-1e-8)\n",
        "#     elif optimizer.lower() == 'rmsprop':\n",
        "#         return RMSprop(learning_rate=hp_learning_rate)       # RMSprop(learning_rate=learning_rate, rho=0.9, epsilon=1e-6)\n",
        "\n",
        "#   model_tl.compile(loss=CategoricalCrossentropy(), \n",
        "#                 optimizer=selected_optimizer(hp_optimizer), \n",
        "#                 metrics=['accuracy'])  \n",
        "\n",
        "#   return model_tl"
      ],
      "metadata": {
        "id": "TP0RJKXw0z96"
      },
      "execution_count": 43,
      "outputs": []
    },
    {
      "cell_type": "code",
      "source": [
        "# # 3rd model with BatchNoramlization\n",
        "# def cnn_with_tl(hp):\n",
        "  \n",
        "#   tf.keras.backend.clear_session()\n",
        "#   tf.random.set_seed(1234)\n",
        "\n",
        "#   pretrained_tl = build_transfer_learning_model(chosen_model = chosen_model)\n",
        "\n",
        "#   model_tl = Sequential()  \n",
        "#   for layer in pretrained_tl.layers:\n",
        "#     model_tl.add(layer)\n",
        "    \n",
        "#   for layer in model_tl.layers:\n",
        "#     layer.trainable = False              # freeze extraction layers\n",
        "\n",
        "#   hp_activation = hp.Choice('activation', values=['tanh', 'relu', 'leaky_relu', 'gelu'], default='relu')\n",
        "#   hp_optimizer = hp.Choice('optimizer', values=['adam', 'sgd','rmsprop'], default='adam')\n",
        "#   # hp_dense_1 = hp.Int('dense_units_1', min_value=128, max_value=1024, step=128)\n",
        "#   # hp_dense_2 = hp.Int('dense_units_2', min_value=128, max_value=1024, step=128)\n",
        "#   # hp_dense_3 = hp.Int('dense_units_3', min_value=128, max_value=256, step=128)\n",
        "#   hp_learning_rate = hp.Choice('learning_rate', values=[1e-2, 1e-3, 1e-4])\n",
        "#   hp_dropout_1 = hp.Choice('dropout_rate_1',values=[0.2, 0.3, 0.4, 0.5, 0.6])\n",
        "#   # hp_dropout_2 = hp.Choice('dropout_rate_2',values=[0.2, 0.3, 0.4, 0.5, 0.6])\n",
        "#   # hp_dropout_3 = hp.Choice('dropout_rate_3',values=[0.2, 0.3, 0.4, 0.5, 0.6])\n",
        "#   # hp_reduction_type = hp.Choice('reduction_type', values=['global_avg_pooling2d', 'max_pooling2d'])\n",
        "\n",
        "#   # if hp_reduction_type == 'global_avg_pooling2d':\n",
        "#   model_tl.add(GlobalAveragePooling2D())\n",
        "#   # else:\n",
        "#   #   model_tl.add(MaxPooling2D(pool_size=(hp_pool_size,hp_pool_size), strides=(hp_strides,hp_strides)))  \n",
        "#   model_tl.add(Dropout(hp_dropout_1))\n",
        "\n",
        "#   # model_tl.add(Dense(units = hp_dense_1, activation = hp_activation))\n",
        "#   model_tl.add(BatchNormalization())\n",
        "#   # # if hp.Boolean('dropout_1'):\n",
        "#   # model_tl.add(Dropout(hp_dropout_2))\n",
        "\n",
        "#   # # model_tl.add(Dense(units = hp_dense_2, activation = hp_activation))\n",
        "#   # # model_tl.add(BatchNormalization())\n",
        "#   # # # if hp.Boolean('dropout_2'):\n",
        "#   # # model_tl.add(Dropout(hp_dropout_3))\n",
        "\n",
        "#   # model_tl.add(Flatten())\n",
        "  \n",
        "#   # # # if hp.Boolean('last_dense'):\n",
        "#   # # model_tl.add(Dense(units = hp_dense_3, activation = hp_activation))\n",
        "#   # # model_tl.add(BatchNormalization())\n",
        "#   # # # if hp.Boolean('dropout_3'):\n",
        "#   # # model_tl.add(Dropout(hp_dropout_3))\n",
        "  \n",
        "#   # model_tl.add(Dense(units = hp_dense_1, activation = hp_activation))\n",
        "#   # model_tl.add(BatchNormalization())\n",
        "#   # # if hp.Boolean('dropout_1'):\n",
        "#   # model_tl.add(Dropout(hp_dropout_2))\n",
        "\n",
        "#   model_tl.add(Dense(units = 2, activation = 'softmax'))                        # Output layer\n",
        "\n",
        "#   def selected_optimizer(optimizer):\n",
        "#     if optimizer.lower() == 'sgd':\n",
        "#         return SGD(learning_rate=hp_learning_rate)           # SGD(learning_rate=learning_rate, momentum=0.95, decay=1, nesterov=True)\n",
        "#     elif optimizer.lower() == 'adam':\n",
        "#         return Adam(learning_rate=hp_learning_rate)          # Adam(learning_rate=learning_rate, beta_1=0.9, beta_2=0.999, epsilon=1e-8, kappa=1-1e-8)\n",
        "#     elif optimizer.lower() == 'rmsprop':\n",
        "#         return RMSprop(learning_rate=hp_learning_rate)       # RMSprop(learning_rate=learning_rate, rho=0.9, epsilon=1e-6)\n",
        "\n",
        "#   model_tl.compile(loss=CategoricalCrossentropy(), \n",
        "#                 optimizer=selected_optimizer(hp_optimizer), \n",
        "#                 metrics=['accuracy'])  \n",
        "\n",
        "#   return model_tl"
      ],
      "metadata": {
        "id": "QPhnSrZJ7rgO"
      },
      "execution_count": 44,
      "outputs": []
    },
    {
      "cell_type": "code",
      "source": [
        "# # 4th model\n",
        "# def cnn_with_tl(hp):\n",
        "  \n",
        "#   tf.keras.backend.clear_session()\n",
        "#   tf.random.set_seed(1234)\n",
        "\n",
        "#   pretrained_tl = build_transfer_learning_model(chosen_model = chosen_model)\n",
        "\n",
        "#   model_tl = Sequential()  \n",
        "#   for layer in pretrained_tl.layers:\n",
        "#     model_tl.add(layer)\n",
        "    \n",
        "#   for layer in model_tl.layers:\n",
        "#     layer.trainable = False              # freeze extraction layers\n",
        "\n",
        "#   hp_activation = hp.Choice('activation', values=['tanh', 'relu', 'leaky_relu', 'gelu'], default='relu')\n",
        "#   hp_optimizer = hp.Choice('optimizer', values=['adam', 'sgd','rmsprop'], default='adam')\n",
        "#   # hp_dense_1 = hp.Int('dense_units_1', min_value=128, max_value=1024, step=128)\n",
        "#   # hp_dense_2 = hp.Int('dense_units_2', min_value=128, max_value=1024, step=128)\n",
        "#   # hp_dense_3 = hp.Int('dense_units_3', min_value=128, max_value=256, step=128)\n",
        "#   hp_learning_rate = hp.Choice('learning_rate', values=[1e-2, 1e-3, 1e-4])\n",
        "#   hp_dropout_1 = hp.Choice('dropout_rate_1',values=[0.2, 0.3, 0.4, 0.5, 0.6])\n",
        "#   # hp_dropout_2 = hp.Choice('dropout_rate_2',values=[0.2, 0.3, 0.4, 0.5, 0.6])\n",
        "#   # hp_dropout_3 = hp.Choice('dropout_rate_3',values=[0.2, 0.3, 0.4, 0.5, 0.6])\n",
        "#   # hp_reduction_type = hp.Choice('reduction_type', values=['global_avg_pooling2d', 'max_pooling2d'])\n",
        "\n",
        "#   # if hp_reduction_type == 'global_avg_pooling2d':\n",
        "#   model_tl.add(GlobalAveragePooling2D())\n",
        "#   # else:\n",
        "#   #   model_tl.add(MaxPooling2D(pool_size=(hp_pool_size,hp_pool_size), strides=(hp_strides,hp_strides)))  \n",
        "#   model_tl.add(Dropout(hp_dropout_1))\n",
        "\n",
        "#   # model_tl.add(Dense(units = hp_dense_1, activation = hp_activation))\n",
        "#   model_tl.add(BatchNormalization())\n",
        "#   # # if hp.Boolean('dropout_1'):\n",
        "#   # model_tl.add(Dropout(hp_dropout_2))\n",
        "\n",
        "#   # # model_tl.add(Dense(units = hp_dense_2, activation = hp_activation))\n",
        "#   # # model_tl.add(BatchNormalization())\n",
        "#   # # # if hp.Boolean('dropout_2'):\n",
        "#   # # model_tl.add(Dropout(hp_dropout_3))\n",
        "\n",
        "#   model_tl.add(Flatten())\n",
        "  \n",
        "#   # # # if hp.Boolean('last_dense'):\n",
        "#   # # model_tl.add(Dense(units = hp_dense_3, activation = hp_activation))\n",
        "#   # # model_tl.add(BatchNormalization())\n",
        "#   # # # if hp.Boolean('dropout_3'):\n",
        "#   # # model_tl.add(Dropout(hp_dropout_3))\n",
        "  \n",
        "#   # model_tl.add(Dense(units = hp_dense_1, activation = hp_activation))\n",
        "#   # model_tl.add(BatchNormalization())\n",
        "#   # # if hp.Boolean('dropout_1'):\n",
        "#   # model_tl.add(Dropout(hp_dropout_2))\n",
        "\n",
        "#   model_tl.add(Dense(units = 2, activation = 'softmax'))                        # Output layer\n",
        "\n",
        "#   def selected_optimizer(optimizer):\n",
        "#     if optimizer.lower() == 'sgd':\n",
        "#         return SGD(learning_rate=hp_learning_rate)           # SGD(learning_rate=learning_rate, momentum=0.95, decay=1, nesterov=True)\n",
        "#     elif optimizer.lower() == 'adam':\n",
        "#         return Adam(learning_rate=hp_learning_rate)          # Adam(learning_rate=learning_rate, beta_1=0.9, beta_2=0.999, epsilon=1e-8, kappa=1-1e-8)\n",
        "#     elif optimizer.lower() == 'rmsprop':\n",
        "#         return RMSprop(learning_rate=hp_learning_rate)       # RMSprop(learning_rate=learning_rate, rho=0.9, epsilon=1e-6)\n",
        "\n",
        "#   model_tl.compile(loss=CategoricalCrossentropy(), \n",
        "#                 optimizer=selected_optimizer(hp_optimizer), \n",
        "#                 metrics=['accuracy'])  \n",
        "\n",
        "#   return model_tl"
      ],
      "metadata": {
        "id": "OujjJw6L6ndo"
      },
      "execution_count": 45,
      "outputs": []
    },
    {
      "cell_type": "code",
      "source": [
        "# # 5th model\n",
        "# def cnn_with_tl(hp):\n",
        "  \n",
        "#   tf.keras.backend.clear_session()\n",
        "#   tf.random.set_seed(1234)\n",
        "\n",
        "#   pretrained_tl = build_transfer_learning_model(chosen_model = chosen_model)\n",
        "\n",
        "#   model_tl = Sequential()  \n",
        "#   for layer in pretrained_tl.layers:\n",
        "#     model_tl.add(layer)\n",
        "    \n",
        "#   for layer in model_tl.layers:\n",
        "#     layer.trainable = False              # freeze extraction layers\n",
        "\n",
        "#   hp_activation = hp.Choice('activation', values=['tanh', 'relu', 'leaky_relu', 'gelu'], default='relu')\n",
        "#   hp_optimizer = hp.Choice('optimizer', values=['adam', 'sgd','rmsprop'], default='adam')\n",
        "#   hp_dense_1 = hp.Int('dense_units_1', min_value=128, max_value=1024, step=128)\n",
        "#   # hp_dense_2 = hp.Int('dense_units_2', min_value=128, max_value=1024, step=128)\n",
        "#   # hp_dense_3 = hp.Int('dense_units_3', min_value=128, max_value=256, step=128)\n",
        "#   hp_learning_rate = hp.Choice('learning_rate', values=[1e-2, 1e-3, 1e-4])\n",
        "#   hp_dropout_1 = hp.Choice('dropout_rate_1',values=[0.2, 0.3, 0.4, 0.5, 0.6])\n",
        "#   hp_dropout_2 = hp.Choice('dropout_rate_2',values=[0.2, 0.3, 0.4, 0.5, 0.6])\n",
        "#   # hp_dropout_3 = hp.Choice('dropout_rate_3',values=[0.2, 0.3, 0.4, 0.5, 0.6])\n",
        "#   # hp_reduction_type = hp.Choice('reduction_type', values=['global_avg_pooling2d', 'max_pooling2d'])\n",
        "\n",
        "#   # if hp_reduction_type == 'global_avg_pooling2d':\n",
        "#   model_tl.add(GlobalAveragePooling2D())\n",
        "#   # else:\n",
        "#   #   model_tl.add(MaxPooling2D(pool_size=(hp_pool_size,hp_pool_size), strides=(hp_strides,hp_strides)))  \n",
        "#   model_tl.add(Dropout(hp_dropout_1))\n",
        "\n",
        "#   # model_tl.add(Dense(units = hp_dense_1, activation = hp_activation))\n",
        "#   model_tl.add(BatchNormalization())\n",
        "#   # # if hp.Boolean('dropout_1'):\n",
        "#   # model_tl.add(Dropout(hp_dropout_2))\n",
        "\n",
        "#   # # model_tl.add(Dense(units = hp_dense_2, activation = hp_activation))\n",
        "#   # # model_tl.add(BatchNormalization())\n",
        "#   # # # if hp.Boolean('dropout_2'):\n",
        "#   # # model_tl.add(Dropout(hp_dropout_3))\n",
        "\n",
        "#   model_tl.add(Flatten())\n",
        "  \n",
        "#   # # if hp.Boolean('last_dense'):\n",
        "#   # model_tl.add(Dense(units = hp_dense_3, activation = hp_activation))\n",
        "#   # model_tl.add(BatchNormalization())\n",
        "#   # # if hp.Boolean('dropout_3'):\n",
        "#   # model_tl.add(Dropout(hp_dropout_3))\n",
        "  \n",
        "#   # model_tl.add(Dense(units = hp_dense_1, activation = hp_activation))\n",
        "#   # model_tl.add(BatchNormalization())\n",
        "#   # # if hp.Boolean('dropout_1'):\n",
        "#   # model_tl.add(Dropout(hp_dropout_2))\n",
        "\n",
        "#   model_tl.add(Dense(units = hp_dense_1, activation = hp_activation))\n",
        "#   model_tl.add(BatchNormalization())\n",
        "#   # if hp.Boolean('dropout_1'):\n",
        "#   model_tl.add(Dropout(hp_dropout_2))\n",
        "\n",
        "\n",
        "#   model_tl.add(Dense(units = 2, activation = 'softmax'))                        # Output layer\n",
        "\n",
        "#   def selected_optimizer(optimizer):\n",
        "#     if optimizer.lower() == 'sgd':\n",
        "#         return SGD(learning_rate=hp_learning_rate)           # SGD(learning_rate=learning_rate, momentum=0.95, decay=1, nesterov=True)\n",
        "#     elif optimizer.lower() == 'adam':\n",
        "#         return Adam(learning_rate=hp_learning_rate)          # Adam(learning_rate=learning_rate, beta_1=0.9, beta_2=0.999, epsilon=1e-8, kappa=1-1e-8)\n",
        "#     elif optimizer.lower() == 'rmsprop':\n",
        "#         return RMSprop(learning_rate=hp_learning_rate)       # RMSprop(learning_rate=learning_rate, rho=0.9, epsilon=1e-6)\n",
        "\n",
        "#   model_tl.compile(loss=CategoricalCrossentropy(), \n",
        "#                 optimizer=selected_optimizer(hp_optimizer), \n",
        "#                 metrics=['accuracy'])  \n",
        "\n",
        "#   return model_tl"
      ],
      "metadata": {
        "id": "-r5E9XBi7jmE"
      },
      "execution_count": 46,
      "outputs": []
    },
    {
      "cell_type": "code",
      "source": [
        "def hyperparam_tuning_with_kt(model, train_data_generator, val_data_generator, max_trials=20, epochs = 20):\n",
        "\n",
        "  callbacks = [EarlyStopping(monitor='val_loss', patience=3, verbose=1),\n",
        "                  ModelCheckpoint('model.hdf5', save_best_only=True)]\n",
        "\n",
        "  start_time = time.time()\n",
        "\n",
        "  # RandomSearch\n",
        "  tuner = kt.RandomSearch(\n",
        "            cnn_with_tl,\n",
        "            objective=\"val_loss\",             # infer_metric_direction_by_name(): maybe due to this objective - https://github.com/keras-team/keras-tuner/issues/74 | https://github.com/keras-team/keras-tuner/pull/76\n",
        "            max_trials=max_trials,                     # max_trials=50 or 10,\n",
        "            executions_per_trial=2,           # executions_per_trial=2,\n",
        "            overwrite=True,\n",
        "            directory=\"hj_dir\",\n",
        "            project_name=\"breast_cancer_classification\")\n",
        "\n",
        "  tuner.search(train_data_generator, \n",
        "              epochs=epochs, \n",
        "              callbacks=[callbacks], \n",
        "              validation_data=val_data_generator)\n",
        "  return tuner, callbacks\n",
        "\n",
        "# tuner, callbacks = hyperparam_tuning_with_kt(cnn_with_tl, max_trials=2, epochs=2)\n",
        "\n",
        "  # TIME CONSUMED: {03h 11m 15s} for max_trials=5, executions_per_trial=2, epochs=10)\n",
        "  # It took about 45 minues to complete each trial"
      ],
      "metadata": {
        "id": "q_lEevlPk6W-"
      },
      "execution_count": 47,
      "outputs": []
    },
    {
      "cell_type": "code",
      "source": [
        "def model_with_best_hps(tuner): \n",
        "  best_hps = tuner.get_best_hyperparameters(num_trials=1)[0]     # num_trials=5\n",
        "  model = tuner.hypermodel.build(best_hps)\n",
        "  best_hps = pd.DataFrame.from_dict(best_hps.values, orient='index').T\n",
        "  # best_hps = best_hps[['activation','optimizer','learning_rate', 'dense_units_1',\n",
        "  #                      'dense_units_2','dense_units_3','dropout_rate_1','dropout_rate_2','dropout_rate_3']]\n",
        "  # best_hps = best_hps.rename({'activation':'Activation','optimizer':'Optimizer','learning_rate':'LR',\n",
        "  #                             'dense_units_1':'DUnits1', 'dense_units_2':'DUnits2','dense_units_3':'DUnits3',\n",
        "  #                             'dropout_rate_1':'Dropout1', 'dropout_rate_2':'Dropout2','dropout_rate_3':'Dropout3'}, axis=1)\n",
        "  # best_hps = best_hps[['activation','optimizer','learning_rate', 'dense_units_1',\n",
        "  #                      'dense_units_2','dropout_rate_1','dropout_rate_2']]\n",
        "  # best_hps = best_hps.rename({'activation':'Activation','optimizer':'Optimizer','learning_rate':'LR',\n",
        "  #                             'dense_units_1':'DUnits1', 'dense_units_2':'DUnits2',\n",
        "  #                             'dropout_rate_1':'Dropout1', 'dropout_rate_2':'Dropout2'}, axis=1)\n",
        "  best_hps = best_hps[['activation','optimizer','learning_rate']]\n",
        "  best_hps = best_hps.rename({'activation':'Activation','optimizer':'Optimizer','learning_rate':'LR'}, axis=1)\n",
        "  print(tuner.results_summary(1))\n",
        "  return model, best_hps\n",
        "  # tf.keras.utils.plot_model(model)\n",
        "  # model.summary()\n",
        "\n",
        "# model, best_hps = model_with_best_hps(tuner)\n",
        "# best_hps"
      ],
      "metadata": {
        "id": "_ybris68k6Ka"
      },
      "execution_count": 48,
      "outputs": []
    },
    {
      "cell_type": "code",
      "source": [
        "# def cnn_with_tl(chosen_model='VGG16', \n",
        "#                 lr=0.001, \n",
        "#                 optimizer='adam', \n",
        "#                 activation='relu', \n",
        "#                 dropout_rate_1=0.2, \n",
        "#                 dropout_rate_2=0.2, \n",
        "#                 dropout_rate_3=0.2, \n",
        "#                 filter_1=512,\n",
        "#                 filter_2=512,\n",
        "#                 filter_3=256,\n",
        "#                 last_dense=True):\n",
        "  \n",
        "#   tf.keras.backend.clear_session()\n",
        "#   tf.random.set_seed(1234)\n",
        "\n",
        "#   model_tl = build_transfer_learning_model(chosen_model = chosen_model)\n",
        "#   model_tl.trainable = False            # freeze extraction layers\n",
        "\n",
        "#   # 1st model: add custom top layers\n",
        "#   m_tl = model_tl.output\n",
        "#   m_tl = GlobalAveragePooling2D()(m_tl)\n",
        "#   m_tl = BatchNormalization()(m_tl)\n",
        "#   m_tl = Dropout(dropout_rate_1)(m_tl)\n",
        "#   # if dense_1:\n",
        "#   m_tl = Dense(filter_1,activation=activation)(m_tl)\n",
        "#   m_tl = BatchNormalization()(m_tl)\n",
        "#   m_tl = Dropout(dropout_rate_2)(m_tl)                                        # ADDITIONAL DROPOUT\n",
        "#   m_tl = Flatten()(m_tl)                                           # ADD FLATTEN LAYER\n",
        "#   m_tl = Dense(filter_2,activation=activation)(m_tl)\n",
        "#   m_tl = BatchNormalization()(m_tl)\n",
        "#   m_tl = Dropout(dropout_rate_3)(m_tl)\n",
        "#   if last_dense:\n",
        "#     m_tl = Dense(filter_3,activation=activation)(m_tl)\n",
        "#     m_tl = BatchNormalization()(m_tl)\n",
        "\n",
        "#   # output layer\n",
        "#   m_tl = Dense(2, activation='softmax')(m_tl)               # UPDATED from 'sigmoid' to 'softmax\n",
        "\n",
        "#   model = Model(inputs=model_tl.input, outputs=m_tl)\n",
        "\n",
        "#   # ==================== model.compile ====================================\n",
        "#   def selected_optimizer(optimizer):\n",
        "#     if optimizer.lower() == 'sgd':\n",
        "#         return SGD(learning_rate=lr)           # SGD(learning_rate=learning_rate, momentum=0.95, decay=1, nesterov=True)\n",
        "#     elif optimizer.lower() == 'adam':\n",
        "#         return Adam(learning_rate=lr)          # Adam(learning_rate=learning_rate, beta_1=0.9, beta_2=0.999, epsilon=1e-8, kappa=1-1e-8)\n",
        "#     elif optimizer.lower() == 'rmsprop':\n",
        "#         return RMSprop(learning_rate=lr) \n",
        "\n",
        "#   model.compile(loss=CategoricalCrossentropy(),            \n",
        "#               optimizer=selected_optimizer(optimizer),            \n",
        "#               metrics=['accuracy', tf.keras.metrics.AUC(name='auc')])\n",
        "#   return model"
      ],
      "metadata": {
        "id": "B_SKoSGYbyI3"
      },
      "execution_count": 49,
      "outputs": []
    },
    {
      "cell_type": "code",
      "source": [
        "def model_fit(model, train_data_generator, val_data_generator, callbacks, batch_size=64, epochs=20, chosen_model='VGG16'):\n",
        "  # from IPython.display import Image\n",
        "\n",
        "  tf.keras.utils.plot_model(model, to_file='convnet.png', show_shapes=True,show_layer_names=True)\n",
        "  Image(filename='convnet.png') \n",
        "\n",
        "    # callbacks = [EarlyStopping(monitor='val_loss', patience=3, verbose=1),\n",
        "    #             ModelCheckpoint('model.hdf5', save_best_only=True)]\n",
        "\n",
        "  history = model.fit(train_data_generator,\n",
        "                      epochs = epochs,\n",
        "                      batch_size = batch_size,                       # ADDIITION\n",
        "                      shuffle=True,                                  # ADDIITION\n",
        "                      steps_per_epoch = len(train_data_generator),\n",
        "                      validation_data = val_data_generator,\n",
        "                      validation_steps = len(val_data_generator),\n",
        "                      callbacks=callbacks,                           # ADDIITION\n",
        "                      verbose = 1)\n",
        "\n",
        "  # ============= Model save ================================================\n",
        "  print(\"Saving model...\")\n",
        "  tf.keras.backend.clear_session()\n",
        "  gc.collect()                                                      # UPDATED\n",
        "  model.save('breast_cancer_detection_' + chosen_model + '.h5')\n",
        "\n",
        "  # ============= Plot loss and accuracy of model: train vs val ==========\n",
        "  print(f\"{chosen_model}\")\n",
        "  plot_model_accuracy_and_loss(history = history, chosen_model = chosen_model)\n",
        "  return model, history"
      ],
      "metadata": {
        "id": "p0g4Cp-Abx_A"
      },
      "execution_count": 50,
      "outputs": []
    },
    {
      "cell_type": "code",
      "source": [
        "def model_evaluate_and_model_predict(model, test_data_generator, history, chosen_model='VGG16'):\n",
        "  # =========== model.evaluate ===============================================\n",
        "  # acc, auc = model.evaluate(test_data_generator, verbose = 0)\n",
        "  test_loss, test_accuracy = model.evaluate(test_data_generator, verbose = 0)\n",
        "  training_accuracy = history.history['accuracy'][-1]\n",
        "  val_accuracy = history.history['val_accuracy'][-1]\n",
        "  count_trainable_params = count_params(model.trainable_weights)\n",
        "\n",
        "  # =========== model.predict: y_true vs. y_pred =============================\n",
        "  classes = ['IDC(0)','IDC(1)']\n",
        "\n",
        "  y_true = test_data_generator.classes\n",
        "  y_pred = model.predict(test_data_generator, steps = (test_data_generator.n // batch_size + 1), verbose = 0)\n",
        "  y_pred_argmax = np.argmax(y_pred, axis=1) \n",
        "\n",
        "  # ========== Precision, recall, f1score ====================================\n",
        "  precision, recall, f1score, support = score(y_true, y_pred_argmax, average='macro')\n",
        "\n",
        "  # ========== Cohen_kappa score, zero_one loss ==============================\n",
        "  cohen_kappa = round(cohen_kappa_score(y_true, y_pred_argmax), 2)\n",
        "  zo_loss = round(zero_one_loss(y_true, y_pred_argmax), 2)\n",
        "\n",
        "  # ========== Confusion matrix ==============================================\n",
        "  conf_max = confusion_matrix(y_true, y_pred_argmax)             # conf.max should use 0s and 1s for y_pred\n",
        "  perf_conf_max = conf_max.astype('float')/conf_max.sum(axis=1)[:np.newaxis]*100\n",
        "  df_perf_conf_max = pd.DataFrame(perf_conf_max, index=classes, columns=classes)\n",
        "\n",
        "  print();plt.figure(figsize=(6,5))\n",
        "  sns.heatmap(df_perf_conf_max, annot=True, cmap='coolwarm', annot_kws={'fontsize':16}, linewidth=0.5, fmt='.0f')  \n",
        "  plt.xlabel('Predicted Label', fontsize=14)\n",
        "  plt.ylabel('True Label', fontsize=14)\n",
        "  plt.title('Confusion Matrix (%)', fontsize=15)\n",
        "\n",
        "  # ========== Area under the ROC curve ======================================\n",
        "  roc_log = roc_auc_score(y_true, y_pred[:,1], multi_class='ovr')   # for the roc curve, we need to use a vector of probabilities so just chose one column and all rows\n",
        "  # fpr_0, tpr_0, threshold_0 = roc_curve(y_true, y_pred[:,0])\n",
        "  # fpr_1, tpr_1, threshold_1 = roc_curve(y_true, y_pred[:,1])\n",
        "  fpr, tpr, threshold = roc_curve(y_true, y_pred[:,1])\n",
        "  auc_class = round(metrics.auc(fpr, tpr), 2) \n",
        "  # auc_class_0 = round(metrics.auc(fpr_0, tpr_0), 2) \n",
        "  # auc_class_1 = round(metrics.auc(fpr_1, tpr_1), 2) \n",
        "\n",
        "  print();plt.figure(figsize=(6,5))\n",
        "  plt.plot([0, 1], [0, 1], 'b--')  \n",
        "  plt.plot(fpr, tpr, color='tab:red', label='AUC:{:.2f}'.format(auc_class))\n",
        "  # plt.plot(fpr_0, tpr_0, color='tab:red', label='IDC(0)-AUC:{:.2f}'.format(auc_class_0))  \n",
        "  # plt.plot(fpr_1, tpr_1, color='tab:green', label='IDC(1)-AUC:{:.2f}'.format(auc_class_1))  \n",
        "  plt.xlabel('False positive rate', fontsize=14)\n",
        "  plt.ylabel('True positive rate', fontsize=14)\n",
        "  plt.title('ROC Area Under Curve', fontsize=18)\n",
        "  plt.legend(loc='best')\n",
        "  plt.show()\n",
        "\n",
        "  # ========== Performace metrics summary ===================================\n",
        "  perf_metrics = pd.DataFrame({'TL Model':chosen_model, \n",
        "                              # 'LR': lr,\n",
        "                              # 'Optimizer': optimizer.upper(), \n",
        "                              # 'Activation': activation.title(),\n",
        "                              # 'Dropout': activation.title(),\n",
        "                              # 'Test_Loss':round(test_loss,2), \n",
        "                              'Test_Acc':round(test_accuracy, 2), \n",
        "                              'Train_Acc':round(training_accuracy, 2), \n",
        "                              'Val_Acc':round(val_accuracy, 2), \n",
        "                              'No_Trainable_Params':  f'{count_trainable_params:,}',\n",
        "                              'Precision':round(precision, 2), \n",
        "                              'Recall':round(recall, 2), \n",
        "                              'F1score': round(f1score, 2),\n",
        "                              'ROC-AUC':round(auc_class, 2), \n",
        "                              # 'Cohen Kappa': cohen_kappa,\n",
        "                              'ZeroOneLoss': zo_loss}, index=[0])\n",
        "  return perf_metrics"
      ],
      "metadata": {
        "id": "SWW_XNSfbxXU"
      },
      "execution_count": 51,
      "outputs": []
    },
    {
      "cell_type": "markdown",
      "source": [
        "# Run Experiments"
      ],
      "metadata": {
        "id": "5at4kKu6Y8vL"
      }
    },
    {
      "cell_type": "code",
      "source": [
        "directory_path = '/content/gdrive/MyDrive/Kaggle/CNN_IDC/'"
      ],
      "metadata": {
        "id": "zi4JjGZu8HC7"
      },
      "execution_count": 52,
      "outputs": []
    },
    {
      "cell_type": "code",
      "source": [
        "def experimenting_cnn_with_tl(chosen_model='VGG16',\n",
        "                                image_size = 50,\n",
        "                                max_trials=20,\n",
        "                                batch_size=64,\n",
        "                                epochs=20,\n",
        "                                brightness_delta=random.choice([.1,.3]),\n",
        "                                contrast_factor=random.choice([1,3]),\n",
        "                                angle=random.choice([10,30]),\n",
        "                                right=random.choice([6,10,12]),\n",
        "                                up=random.choice([-5,-7,-9]),\n",
        "                                left=random.choice([-6,-10,-12]),\n",
        "                                down=random.choice([5,7,9])):\n",
        "  \n",
        "  create_gs_files(train_1_images_list, tgt_train_1_image_path, 1, brightness_delta, contrast_factor, angle, right, up, left, down)\n",
        "  create_gs_files(train_1_images_list, tgt_train_1_image_path, 1, brightness_delta, contrast_factor, angle, right, up, left, down)\n",
        "  create_gs_files(train_0_images_list, tgt_train_0_image_path, 2, brightness_delta, contrast_factor, angle, right, up, left, down)\n",
        "  create_gs_files(val_1_images_list, tgt_val_1_image_path, 3, brightness_delta, contrast_factor, angle, right, up, left, down)\n",
        "  create_gs_files(val_0_images_list, tgt_val_0_image_path, 4, brightness_delta, contrast_factor, angle, right, up, left, down)\n",
        "  create_gs_files(test_1_images_list, tgt_test_1_image_path, 5, brightness_delta, contrast_factor, angle, right, up, left, down)\n",
        "  create_gs_files(test_0_images_list, tgt_test_0_image_path, 6, brightness_delta, contrast_factor, angle, right, up, left, down)\n",
        "  \n",
        "  start_time = time.time()\n",
        "  train_data_generator, val_data_generator, test_data_generator = data_generator(image_size)\n",
        "  tuner, callbacks = hyperparam_tuning_with_kt(cnn_with_tl, train_data_generator, val_data_generator, max_trials=max_trials, epochs=epochs)\n",
        "  model, best_hps = model_with_best_hps(tuner) \n",
        "  model, history = model_fit(model, train_data_generator, val_data_generator, callbacks, batch_size=batch_size, epochs=epochs, chosen_model=chosen_model)\n",
        "  perf_metrics = model_evaluate_and_model_predict(model, test_data_generator, history, chosen_model=chosen_model)\n",
        "  perf_summary = pd.concat([perf_metrics,best_hps], axis=1)\n",
        "  perf_summary['Brightness'] = brightness_delta\n",
        "  perf_summary['Contrast'] = contrast_factor\n",
        "  perf_summary['Rotate'] = angle\n",
        "  perf_summary['ShiftRU'] = str((right,up))\n",
        "  perf_summary['ShiftLD'] = str((left,down))\n",
        "\n",
        "  # download the perf_summary as a CSV to Google Drive  \n",
        "  file_path = directory_path + 'perf_summary_' + chosen_model +'.csv'\n",
        "  perf_summary.to_csv(file_path) \n",
        "  files.download(file_path)\n",
        "\n",
        "  # with open(file_path, 'w') as f:\n",
        "  #   perf_summary.to_csv(f)\n",
        "\n",
        "  model.summary()\n",
        "  print();print('Execution time %s minutes: ' % round(int(time.time() - start_time)/60, 2),'\\n');print('===============================================\\n')\n",
        "  return perf_summary"
      ],
      "metadata": {
        "id": "ffcy2aj6ze_H"
      },
      "execution_count": 53,
      "outputs": []
    },
    {
      "cell_type": "code",
      "source": [
        "perf_summary_vgg16 = experimenting_cnn_with_tl(chosen_model='VGG16',\n",
        "                                image_size = 50,\n",
        "                                max_trials=50,\n",
        "                                batch_size=64,\n",
        "                                epochs=20,\n",
        "                                brightness_delta=random.choice([.1,.3]),\n",
        "                                contrast_factor=random.choice([1,3]),\n",
        "                                angle=random.choice([10,30]),\n",
        "                                right=random.choice([10,15,20]),\n",
        "                                up=random.choice([-10,-13,-16]),\n",
        "                                left=random.choice([-10,-15,-20]),\n",
        "                                down=random.choice([10,13,16]))\n",
        "perf_summary_vgg16"
      ],
      "metadata": {
        "id": "54GP8utfxiUx"
      },
      "execution_count": 54,
      "outputs": []
    },
    {
      "cell_type": "code",
      "source": [
        "# tl = load_model('model.hdf5')\n",
        "# print(\"Total trainable weights: {}\".format(len(tl.trainable_weights)))\n",
        "# print(tl.trainable_weights)\n",
        "# tl.summary()\n",
        "# tl.layers[0]"
      ],
      "metadata": {
        "id": "cblimxh1GEWX"
      },
      "execution_count": 55,
      "outputs": []
    },
    {
      "cell_type": "code",
      "source": [
        "# perf_summary_resnet50 = experimenting_cnn_with_tl(chosen_model='ResNet50',\n",
        "#                                 image_size = 50,\n",
        "#                                 max_trials=50,\n",
        "#                                 batch_size=64,\n",
        "#                                 epochs=20,\n",
        "#                                 brightness_delta=random.choice([.1,.3]),\n",
        "#                                 contrast_factor=random.choice([1,3]),\n",
        "#                                 angle=random.choice([10,30]),\n",
        "#                                 right=random.choice([10,15,20]),\n",
        "#                                 up=random.choice([-10,-13,-16]),\n",
        "#                                 left=random.choice([-10,-15,-20]),\n",
        "#                                 down=random.choice([10,13,16]))\n",
        "# perf_summary_resnet50"
      ],
      "metadata": {
        "id": "Z8vFmKituAve",
        "colab": {
          "base_uri": "https://localhost:8080/",
          "height": 1000
        },
        "outputId": "8417ac6c-159e-44d6-b0ae-996ae1333b85"
      },
      "execution_count": 56,
      "outputs": [
        {
          "output_type": "stream",
          "name": "stdout",
          "text": [
            "Trial 50 Complete [00h 01m 02s]\n",
            "val_loss: 0.6646049618721008\n",
            "\n",
            "Best val_loss So Far: 0.5894484221935272\n",
            "Total elapsed time: 02h 03m 46s\n",
            "Results summary\n",
            "Results in hj_dir/breast_cancer_classification\n",
            "Showing 1 best trials\n",
            "<keras_tuner.engine.objective.Objective object at 0x7fb9972808e0>\n",
            "Trial summary\n",
            "Hyperparameters:\n",
            "activation: leaky_relu\n",
            "optimizer: rmsprop\n",
            "dense_units_1: 512\n",
            "learning_rate: 0.0001\n",
            "dropout_rate_1: 0.4\n",
            "dense_1: True\n",
            "Score: 0.5894484221935272\n",
            "None\n",
            "Epoch 1/20\n",
            "131/131 [==============================] - 10s 47ms/step - loss: 0.7286 - accuracy: 0.5602 - val_loss: 0.6660 - val_accuracy: 0.6091\n",
            "Epoch 2/20\n",
            "131/131 [==============================] - 5s 35ms/step - loss: 0.6615 - accuracy: 0.6159 - val_loss: 0.6857 - val_accuracy: 0.5584\n",
            "Epoch 3/20\n",
            "131/131 [==============================] - 5s 39ms/step - loss: 0.6283 - accuracy: 0.6480 - val_loss: 0.6339 - val_accuracy: 0.6599\n",
            "Epoch 4/20\n",
            "131/131 [==============================] - 5s 39ms/step - loss: 0.6199 - accuracy: 0.6556 - val_loss: 0.6179 - val_accuracy: 0.6345\n",
            "Epoch 5/20\n",
            "131/131 [==============================] - 5s 35ms/step - loss: 0.6070 - accuracy: 0.6774 - val_loss: 0.6476 - val_accuracy: 0.5888\n",
            "Epoch 6/20\n",
            "131/131 [==============================] - 5s 40ms/step - loss: 0.6012 - accuracy: 0.6845 - val_loss: 0.6095 - val_accuracy: 0.6599\n",
            "Epoch 7/20\n",
            "131/131 [==============================] - 5s 40ms/step - loss: 0.5982 - accuracy: 0.6786 - val_loss: 0.6057 - val_accuracy: 0.6853\n",
            "Epoch 8/20\n",
            "131/131 [==============================] - 5s 40ms/step - loss: 0.5930 - accuracy: 0.6907 - val_loss: 0.6019 - val_accuracy: 0.6650\n",
            "Epoch 9/20\n",
            "131/131 [==============================] - 5s 39ms/step - loss: 0.5895 - accuracy: 0.6895 - val_loss: 0.5910 - val_accuracy: 0.6853\n",
            "Epoch 10/20\n",
            "131/131 [==============================] - 5s 35ms/step - loss: 0.5855 - accuracy: 0.6961 - val_loss: 0.5990 - val_accuracy: 0.6954\n",
            "Epoch 11/20\n",
            "131/131 [==============================] - 5s 35ms/step - loss: 0.5850 - accuracy: 0.6933 - val_loss: 0.6007 - val_accuracy: 0.6599\n",
            "Epoch 12/20\n",
            "131/131 [==============================] - 5s 36ms/step - loss: 0.5793 - accuracy: 0.7003 - val_loss: 0.6302 - val_accuracy: 0.6802\n",
            "Epoch 12: early stopping\n",
            "Saving model...\n",
            "ResNet50\n"
          ]
        },
        {
          "output_type": "display_data",
          "data": {
            "text/plain": [
              "<Figure size 864x288 with 2 Axes>"
            ],
            "image/png": "[encoded data removed]"
          },
          "metadata": {
            "needs_background": "light"
          }
        },
        {
          "output_type": "stream",
          "name": "stdout",
          "text": [
            "\n",
            "\n"
          ]
        },
        {
          "output_type": "display_data",
          "data": {
            "text/plain": [
              "<Figure size 432x360 with 2 Axes>"
            ],
            "image/png": "[encoded data removed]"
          },
          "metadata": {
            "needs_background": "light"
          }
        },
        {
          "output_type": "display_data",
          "data": {
            "text/plain": [
              "<Figure size 432x360 with 1 Axes>"
            ],
            "image/png": "[encoded data removed]"
          },
          "metadata": {
            "needs_background": "light"
          }
        },
        {
          "output_type": "display_data",
          "data": {
            "text/plain": [
              "<IPython.core.display.Javascript object>"
            ],
            "application/javascript": [
              "\n",
              "    async function download(id, filename, size) {\n",
              "      if (!google.colab.kernel.accessAllowed) {\n",
              "        return;\n",
              "      }\n",
              "      const div = document.createElement('div');\n",
              "      const label = document.createElement('label');\n",
              "      label.textContent = `Downloading \"${filename}\": `;\n",
              "      div.appendChild(label);\n",
              "      const progress = document.createElement('progress');\n",
              "      progress.max = size;\n",
              "      div.appendChild(progress);\n",
              "      document.body.appendChild(div);\n",
              "\n",
              "      const buffers = [];\n",
              "      let downloaded = 0;\n",
              "\n",
              "      const channel = await google.colab.kernel.comms.open(id);\n",
              "      // Send a message to notify the kernel that we're ready.\n",
              "      channel.send({})\n",
              "\n",
              "      for await (const message of channel.messages) {\n",
              "        // Send a message to notify the kernel that we're ready.\n",
              "        channel.send({})\n",
              "        if (message.buffers) {\n",
              "          for (const buffer of message.buffers) {\n",
              "            buffers.push(buffer);\n",
              "            downloaded += buffer.byteLength;\n",
              "            progress.value = downloaded;\n",
              "          }\n",
              "        }\n",
              "      }\n",
              "      const blob = new Blob(buffers, {type: 'application/binary'});\n",
              "      const a = document.createElement('a');\n",
              "      a.href = window.URL.createObjectURL(blob);\n",
              "      a.download = filename;\n",
              "      div.appendChild(a);\n",
              "      a.click();\n",
              "      div.remove();\n",
              "    }\n",
              "  "
            ]
          },
          "metadata": {}
        },
        {
          "output_type": "display_data",
          "data": {
            "text/plain": [
              "<IPython.core.display.Javascript object>"
            ],
            "application/javascript": [
              "download(\"download_08894670-efc3-4c42-9944-be898cc05ea6\", \"perf_summary_ResNet50.csv\", 288)"
            ]
          },
          "metadata": {}
        },
        {
          "output_type": "stream",
          "name": "stdout",
          "text": [
            "Model: \"model\"\n",
            "__________________________________________________________________________________________________\n",
            " Layer (type)                   Output Shape         Param #     Connected to                     \n",
            "==================================================================================================\n",
            " input_1 (InputLayer)           [(None, 50, 50, 3)]  0           []                               \n",
            "                                                                                                  \n",
            " conv1_pad (ZeroPadding2D)      (None, 56, 56, 3)    0           ['input_1[0][0]']                \n",
            "                                                                                                  \n",
            " conv1_conv (Conv2D)            (None, 25, 25, 64)   9472        ['conv1_pad[0][0]']              \n",
            "                                                                                                  \n",
            " conv1_bn (BatchNormalization)  (None, 25, 25, 64)   256         ['conv1_conv[0][0]']             \n",
            "                                                                                                  \n",
            " conv1_relu (Activation)        (None, 25, 25, 64)   0           ['conv1_bn[0][0]']               \n",
            "                                                                                                  \n",
            " pool1_pad (ZeroPadding2D)      (None, 27, 27, 64)   0           ['conv1_relu[0][0]']             \n",
            "                                                                                                  \n",
            " pool1_pool (MaxPooling2D)      (None, 13, 13, 64)   0           ['pool1_pad[0][0]']              \n",
            "                                                                                                  \n",
            " conv2_block1_1_conv (Conv2D)   (None, 13, 13, 64)   4160        ['pool1_pool[0][0]']             \n",
            "                                                                                                  \n",
            " conv2_block1_1_bn (BatchNormal  (None, 13, 13, 64)  256         ['conv2_block1_1_conv[0][0]']    \n",
            " ization)                                                                                         \n",
            "                                                                                                  \n",
            " conv2_block1_1_relu (Activatio  (None, 13, 13, 64)  0           ['conv2_block1_1_bn[0][0]']      \n",
            " n)                                                                                               \n",
            "                                                                                                  \n",
            " conv2_block1_2_conv (Conv2D)   (None, 13, 13, 64)   36928       ['conv2_block1_1_relu[0][0]']    \n",
            "                                                                                                  \n",
            " conv2_block1_2_bn (BatchNormal  (None, 13, 13, 64)  256         ['conv2_block1_2_conv[0][0]']    \n",
            " ization)                                                                                         \n",
            "                                                                                                  \n",
            " conv2_block1_2_relu (Activatio  (None, 13, 13, 64)  0           ['conv2_block1_2_bn[0][0]']      \n",
            " n)                                                                                               \n",
            "                                                                                                  \n",
            " conv2_block1_0_conv (Conv2D)   (None, 13, 13, 256)  16640       ['pool1_pool[0][0]']             \n",
            "                                                                                                  \n",
            " conv2_block1_3_conv (Conv2D)   (None, 13, 13, 256)  16640       ['conv2_block1_2_relu[0][0]']    \n",
            "                                                                                                  \n",
            " conv2_block1_0_bn (BatchNormal  (None, 13, 13, 256)  1024       ['conv2_block1_0_conv[0][0]']    \n",
            " ization)                                                                                         \n",
            "                                                                                                  \n",
            " conv2_block1_3_bn (BatchNormal  (None, 13, 13, 256)  1024       ['conv2_block1_3_conv[0][0]']    \n",
            " ization)                                                                                         \n",
            "                                                                                                  \n",
            " conv2_block1_add (Add)         (None, 13, 13, 256)  0           ['conv2_block1_0_bn[0][0]',      \n",
            "                                                                  'conv2_block1_3_bn[0][0]']      \n",
            "                                                                                                  \n",
            " conv2_block1_out (Activation)  (None, 13, 13, 256)  0           ['conv2_block1_add[0][0]']       \n",
            "                                                                                                  \n",
            " conv2_block2_1_conv (Conv2D)   (None, 13, 13, 64)   16448       ['conv2_block1_out[0][0]']       \n",
            "                                                                                                  \n",
            " conv2_block2_1_bn (BatchNormal  (None, 13, 13, 64)  256         ['conv2_block2_1_conv[0][0]']    \n",
            " ization)                                                                                         \n",
            "                                                                                                  \n",
            " conv2_block2_1_relu (Activatio  (None, 13, 13, 64)  0           ['conv2_block2_1_bn[0][0]']      \n",
            " n)                                                                                               \n",
            "                                                                                                  \n",
            " conv2_block2_2_conv (Conv2D)   (None, 13, 13, 64)   36928       ['conv2_block2_1_relu[0][0]']    \n",
            "                                                                                                  \n",
            " conv2_block2_2_bn (BatchNormal  (None, 13, 13, 64)  256         ['conv2_block2_2_conv[0][0]']    \n",
            " ization)                                                                                         \n",
            "                                                                                                  \n",
            " conv2_block2_2_relu (Activatio  (None, 13, 13, 64)  0           ['conv2_block2_2_bn[0][0]']      \n",
            " n)                                                                                               \n",
            "                                                                                                  \n",
            " conv2_block2_3_conv (Conv2D)   (None, 13, 13, 256)  16640       ['conv2_block2_2_relu[0][0]']    \n",
            "                                                                                                  \n",
            " conv2_block2_3_bn (BatchNormal  (None, 13, 13, 256)  1024       ['conv2_block2_3_conv[0][0]']    \n",
            " ization)                                                                                         \n",
            "                                                                                                  \n",
            " conv2_block2_add (Add)         (None, 13, 13, 256)  0           ['conv2_block1_out[0][0]',       \n",
            "                                                                  'conv2_block2_3_bn[0][0]']      \n",
            "                                                                                                  \n",
            " conv2_block2_out (Activation)  (None, 13, 13, 256)  0           ['conv2_block2_add[0][0]']       \n",
            "                                                                                                  \n",
            " conv2_block3_1_conv (Conv2D)   (None, 13, 13, 64)   16448       ['conv2_block2_out[0][0]']       \n",
            "                                                                                                  \n",
            " conv2_block3_1_bn (BatchNormal  (None, 13, 13, 64)  256         ['conv2_block3_1_conv[0][0]']    \n",
            " ization)                                                                                         \n",
            "                                                                                                  \n",
            " conv2_block3_1_relu (Activatio  (None, 13, 13, 64)  0           ['conv2_block3_1_bn[0][0]']      \n",
            " n)                                                                                               \n",
            "                                                                                                  \n",
            " conv2_block3_2_conv (Conv2D)   (None, 13, 13, 64)   36928       ['conv2_block3_1_relu[0][0]']    \n",
            "                                                                                                  \n",
            " conv2_block3_2_bn (BatchNormal  (None, 13, 13, 64)  256         ['conv2_block3_2_conv[0][0]']    \n",
            " ization)                                                                                         \n",
            "                                                                                                  \n",
            " conv2_block3_2_relu (Activatio  (None, 13, 13, 64)  0           ['conv2_block3_2_bn[0][0]']      \n",
            " n)                                                                                               \n",
            "                                                                                                  \n",
            " conv2_block3_3_conv (Conv2D)   (None, 13, 13, 256)  16640       ['conv2_block3_2_relu[0][0]']    \n",
            "                                                                                                  \n",
            " conv2_block3_3_bn (BatchNormal  (None, 13, 13, 256)  1024       ['conv2_block3_3_conv[0][0]']    \n",
            " ization)                                                                                         \n",
            "                                                                                                  \n",
            " conv2_block3_add (Add)         (None, 13, 13, 256)  0           ['conv2_block2_out[0][0]',       \n",
            "                                                                  'conv2_block3_3_bn[0][0]']      \n",
            "                                                                                                  \n",
            " conv2_block3_out (Activation)  (None, 13, 13, 256)  0           ['conv2_block3_add[0][0]']       \n",
            "                                                                                                  \n",
            " conv3_block1_1_conv (Conv2D)   (None, 7, 7, 128)    32896       ['conv2_block3_out[0][0]']       \n",
            "                                                                                                  \n",
            " conv3_block1_1_bn (BatchNormal  (None, 7, 7, 128)   512         ['conv3_block1_1_conv[0][0]']    \n",
            " ization)                                                                                         \n",
            "                                                                                                  \n",
            " conv3_block1_1_relu (Activatio  (None, 7, 7, 128)   0           ['conv3_block1_1_bn[0][0]']      \n",
            " n)                                                                                               \n",
            "                                                                                                  \n",
            " conv3_block1_2_conv (Conv2D)   (None, 7, 7, 128)    147584      ['conv3_block1_1_relu[0][0]']    \n",
            "                                                                                                  \n",
            " conv3_block1_2_bn (BatchNormal  (None, 7, 7, 128)   512         ['conv3_block1_2_conv[0][0]']    \n",
            " ization)                                                                                         \n",
            "                                                                                                  \n",
            " conv3_block1_2_relu (Activatio  (None, 7, 7, 128)   0           ['conv3_block1_2_bn[0][0]']      \n",
            " n)                                                                                               \n",
            "                                                                                                  \n",
            " conv3_block1_0_conv (Conv2D)   (None, 7, 7, 512)    131584      ['conv2_block3_out[0][0]']       \n",
            "                                                                                                  \n",
            " conv3_block1_3_conv (Conv2D)   (None, 7, 7, 512)    66048       ['conv3_block1_2_relu[0][0]']    \n",
            "                                                                                                  \n",
            " conv3_block1_0_bn (BatchNormal  (None, 7, 7, 512)   2048        ['conv3_block1_0_conv[0][0]']    \n",
            " ization)                                                                                         \n",
            "                                                                                                  \n",
            " conv3_block1_3_bn (BatchNormal  (None, 7, 7, 512)   2048        ['conv3_block1_3_conv[0][0]']    \n",
            " ization)                                                                                         \n",
            "                                                                                                  \n",
            " conv3_block1_add (Add)         (None, 7, 7, 512)    0           ['conv3_block1_0_bn[0][0]',      \n",
            "                                                                  'conv3_block1_3_bn[0][0]']      \n",
            "                                                                                                  \n",
            " conv3_block1_out (Activation)  (None, 7, 7, 512)    0           ['conv3_block1_add[0][0]']       \n",
            "                                                                                                  \n",
            " conv3_block2_1_conv (Conv2D)   (None, 7, 7, 128)    65664       ['conv3_block1_out[0][0]']       \n",
            "                                                                                                  \n",
            " conv3_block2_1_bn (BatchNormal  (None, 7, 7, 128)   512         ['conv3_block2_1_conv[0][0]']    \n",
            " ization)                                                                                         \n",
            "                                                                                                  \n",
            " conv3_block2_1_relu (Activatio  (None, 7, 7, 128)   0           ['conv3_block2_1_bn[0][0]']      \n",
            " n)                                                                                               \n",
            "                                                                                                  \n",
            " conv3_block2_2_conv (Conv2D)   (None, 7, 7, 128)    147584      ['conv3_block2_1_relu[0][0]']    \n",
            "                                                                                                  \n",
            " conv3_block2_2_bn (BatchNormal  (None, 7, 7, 128)   512         ['conv3_block2_2_conv[0][0]']    \n",
            " ization)                                                                                         \n",
            "                                                                                                  \n",
            " conv3_block2_2_relu (Activatio  (None, 7, 7, 128)   0           ['conv3_block2_2_bn[0][0]']      \n",
            " n)                                                                                               \n",
            "                                                                                                  \n",
            " conv3_block2_3_conv (Conv2D)   (None, 7, 7, 512)    66048       ['conv3_block2_2_relu[0][0]']    \n",
            "                                                                                                  \n",
            " conv3_block2_3_bn (BatchNormal  (None, 7, 7, 512)   2048        ['conv3_block2_3_conv[0][0]']    \n",
            " ization)                                                                                         \n",
            "                                                                                                  \n",
            " conv3_block2_add (Add)         (None, 7, 7, 512)    0           ['conv3_block1_out[0][0]',       \n",
            "                                                                  'conv3_block2_3_bn[0][0]']      \n",
            "                                                                                                  \n",
            " conv3_block2_out (Activation)  (None, 7, 7, 512)    0           ['conv3_block2_add[0][0]']       \n",
            "                                                                                                  \n",
            " conv3_block3_1_conv (Conv2D)   (None, 7, 7, 128)    65664       ['conv3_block2_out[0][0]']       \n",
            "                                                                                                  \n",
            " conv3_block3_1_bn (BatchNormal  (None, 7, 7, 128)   512         ['conv3_block3_1_conv[0][0]']    \n",
            " ization)                                                                                         \n",
            "                                                                                                  \n",
            " conv3_block3_1_relu (Activatio  (None, 7, 7, 128)   0           ['conv3_block3_1_bn[0][0]']      \n",
            " n)                                                                                               \n",
            "                                                                                                  \n",
            " conv3_block3_2_conv (Conv2D)   (None, 7, 7, 128)    147584      ['conv3_block3_1_relu[0][0]']    \n",
            "                                                                                                  \n",
            " conv3_block3_2_bn (BatchNormal  (None, 7, 7, 128)   512         ['conv3_block3_2_conv[0][0]']    \n",
            " ization)                                                                                         \n",
            "                                                                                                  \n",
            " conv3_block3_2_relu (Activatio  (None, 7, 7, 128)   0           ['conv3_block3_2_bn[0][0]']      \n",
            " n)                                                                                               \n",
            "                                                                                                  \n",
            " conv3_block3_3_conv (Conv2D)   (None, 7, 7, 512)    66048       ['conv3_block3_2_relu[0][0]']    \n",
            "                                                                                                  \n",
            " conv3_block3_3_bn (BatchNormal  (None, 7, 7, 512)   2048        ['conv3_block3_3_conv[0][0]']    \n",
            " ization)                                                                                         \n",
            "                                                                                                  \n",
            " conv3_block3_add (Add)         (None, 7, 7, 512)    0           ['conv3_block2_out[0][0]',       \n",
            "                                                                  'conv3_block3_3_bn[0][0]']      \n",
            "                                                                                                  \n",
            " conv3_block3_out (Activation)  (None, 7, 7, 512)    0           ['conv3_block3_add[0][0]']       \n",
            "                                                                                                  \n",
            " conv3_block4_1_conv (Conv2D)   (None, 7, 7, 128)    65664       ['conv3_block3_out[0][0]']       \n",
            "                                                                                                  \n",
            " conv3_block4_1_bn (BatchNormal  (None, 7, 7, 128)   512         ['conv3_block4_1_conv[0][0]']    \n",
            " ization)                                                                                         \n",
            "                                                                                                  \n",
            " conv3_block4_1_relu (Activatio  (None, 7, 7, 128)   0           ['conv3_block4_1_bn[0][0]']      \n",
            " n)                                                                                               \n",
            "                                                                                                  \n",
            " conv3_block4_2_conv (Conv2D)   (None, 7, 7, 128)    147584      ['conv3_block4_1_relu[0][0]']    \n",
            "                                                                                                  \n",
            " conv3_block4_2_bn (BatchNormal  (None, 7, 7, 128)   512         ['conv3_block4_2_conv[0][0]']    \n",
            " ization)                                                                                         \n",
            "                                                                                                  \n",
            " conv3_block4_2_relu (Activatio  (None, 7, 7, 128)   0           ['conv3_block4_2_bn[0][0]']      \n",
            " n)                                                                                               \n",
            "                                                                                                  \n",
            " conv3_block4_3_conv (Conv2D)   (None, 7, 7, 512)    66048       ['conv3_block4_2_relu[0][0]']    \n",
            "                                                                                                  \n",
            " conv3_block4_3_bn (BatchNormal  (None, 7, 7, 512)   2048        ['conv3_block4_3_conv[0][0]']    \n",
            " ization)                                                                                         \n",
            "                                                                                                  \n",
            " conv3_block4_add (Add)         (None, 7, 7, 512)    0           ['conv3_block3_out[0][0]',       \n",
            "                                                                  'conv3_block4_3_bn[0][0]']      \n",
            "                                                                                                  \n",
            " conv3_block4_out (Activation)  (None, 7, 7, 512)    0           ['conv3_block4_add[0][0]']       \n",
            "                                                                                                  \n",
            " conv4_block1_1_conv (Conv2D)   (None, 4, 4, 256)    131328      ['conv3_block4_out[0][0]']       \n",
            "                                                                                                  \n",
            " conv4_block1_1_bn (BatchNormal  (None, 4, 4, 256)   1024        ['conv4_block1_1_conv[0][0]']    \n",
            " ization)                                                                                         \n",
            "                                                                                                  \n",
            " conv4_block1_1_relu (Activatio  (None, 4, 4, 256)   0           ['conv4_block1_1_bn[0][0]']      \n",
            " n)                                                                                               \n",
            "                                                                                                  \n",
            " conv4_block1_2_conv (Conv2D)   (None, 4, 4, 256)    590080      ['conv4_block1_1_relu[0][0]']    \n",
            "                                                                                                  \n",
            " conv4_block1_2_bn (BatchNormal  (None, 4, 4, 256)   1024        ['conv4_block1_2_conv[0][0]']    \n",
            " ization)                                                                                         \n",
            "                                                                                                  \n",
            " conv4_block1_2_relu (Activatio  (None, 4, 4, 256)   0           ['conv4_block1_2_bn[0][0]']      \n",
            " n)                                                                                               \n",
            "                                                                                                  \n",
            " conv4_block1_0_conv (Conv2D)   (None, 4, 4, 1024)   525312      ['conv3_block4_out[0][0]']       \n",
            "                                                                                                  \n",
            " conv4_block1_3_conv (Conv2D)   (None, 4, 4, 1024)   263168      ['conv4_block1_2_relu[0][0]']    \n",
            "                                                                                                  \n",
            " conv4_block1_0_bn (BatchNormal  (None, 4, 4, 1024)  4096        ['conv4_block1_0_conv[0][0]']    \n",
            " ization)                                                                                         \n",
            "                                                                                                  \n",
            " conv4_block1_3_bn (BatchNormal  (None, 4, 4, 1024)  4096        ['conv4_block1_3_conv[0][0]']    \n",
            " ization)                                                                                         \n",
            "                                                                                                  \n",
            " conv4_block1_add (Add)         (None, 4, 4, 1024)   0           ['conv4_block1_0_bn[0][0]',      \n",
            "                                                                  'conv4_block1_3_bn[0][0]']      \n",
            "                                                                                                  \n",
            " conv4_block1_out (Activation)  (None, 4, 4, 1024)   0           ['conv4_block1_add[0][0]']       \n",
            "                                                                                                  \n",
            " conv4_block2_1_conv (Conv2D)   (None, 4, 4, 256)    262400      ['conv4_block1_out[0][0]']       \n",
            "                                                                                                  \n",
            " conv4_block2_1_bn (BatchNormal  (None, 4, 4, 256)   1024        ['conv4_block2_1_conv[0][0]']    \n",
            " ization)                                                                                         \n",
            "                                                                                                  \n",
            " conv4_block2_1_relu (Activatio  (None, 4, 4, 256)   0           ['conv4_block2_1_bn[0][0]']      \n",
            " n)                                                                                               \n",
            "                                                                                                  \n",
            " conv4_block2_2_conv (Conv2D)   (None, 4, 4, 256)    590080      ['conv4_block2_1_relu[0][0]']    \n",
            "                                                                                                  \n",
            " conv4_block2_2_bn (BatchNormal  (None, 4, 4, 256)   1024        ['conv4_block2_2_conv[0][0]']    \n",
            " ization)                                                                                         \n",
            "                                                                                                  \n",
            " conv4_block2_2_relu (Activatio  (None, 4, 4, 256)   0           ['conv4_block2_2_bn[0][0]']      \n",
            " n)                                                                                               \n",
            "                                                                                                  \n",
            " conv4_block2_3_conv (Conv2D)   (None, 4, 4, 1024)   263168      ['conv4_block2_2_relu[0][0]']    \n",
            "                                                                                                  \n",
            " conv4_block2_3_bn (BatchNormal  (None, 4, 4, 1024)  4096        ['conv4_block2_3_conv[0][0]']    \n",
            " ization)                                                                                         \n",
            "                                                                                                  \n",
            " conv4_block2_add (Add)         (None, 4, 4, 1024)   0           ['conv4_block1_out[0][0]',       \n",
            "                                                                  'conv4_block2_3_bn[0][0]']      \n",
            "                                                                                                  \n",
            " conv4_block2_out (Activation)  (None, 4, 4, 1024)   0           ['conv4_block2_add[0][0]']       \n",
            "                                                                                                  \n",
            " conv4_block3_1_conv (Conv2D)   (None, 4, 4, 256)    262400      ['conv4_block2_out[0][0]']       \n",
            "                                                                                                  \n",
            " conv4_block3_1_bn (BatchNormal  (None, 4, 4, 256)   1024        ['conv4_block3_1_conv[0][0]']    \n",
            " ization)                                                                                         \n",
            "                                                                                                  \n",
            " conv4_block3_1_relu (Activatio  (None, 4, 4, 256)   0           ['conv4_block3_1_bn[0][0]']      \n",
            " n)                                                                                               \n",
            "                                                                                                  \n",
            " conv4_block3_2_conv (Conv2D)   (None, 4, 4, 256)    590080      ['conv4_block3_1_relu[0][0]']    \n",
            "                                                                                                  \n",
            " conv4_block3_2_bn (BatchNormal  (None, 4, 4, 256)   1024        ['conv4_block3_2_conv[0][0]']    \n",
            " ization)                                                                                         \n",
            "                                                                                                  \n",
            " conv4_block3_2_relu (Activatio  (None, 4, 4, 256)   0           ['conv4_block3_2_bn[0][0]']      \n",
            " n)                                                                                               \n",
            "                                                                                                  \n",
            " conv4_block3_3_conv (Conv2D)   (None, 4, 4, 1024)   263168      ['conv4_block3_2_relu[0][0]']    \n",
            "                                                                                                  \n",
            " conv4_block3_3_bn (BatchNormal  (None, 4, 4, 1024)  4096        ['conv4_block3_3_conv[0][0]']    \n",
            " ization)                                                                                         \n",
            "                                                                                                  \n",
            " conv4_block3_add (Add)         (None, 4, 4, 1024)   0           ['conv4_block2_out[0][0]',       \n",
            "                                                                  'conv4_block3_3_bn[0][0]']      \n",
            "                                                                                                  \n",
            " conv4_block3_out (Activation)  (None, 4, 4, 1024)   0           ['conv4_block3_add[0][0]']       \n",
            "                                                                                                  \n",
            " conv4_block4_1_conv (Conv2D)   (None, 4, 4, 256)    262400      ['conv4_block3_out[0][0]']       \n",
            "                                                                                                  \n",
            " conv4_block4_1_bn (BatchNormal  (None, 4, 4, 256)   1024        ['conv4_block4_1_conv[0][0]']    \n",
            " ization)                                                                                         \n",
            "                                                                                                  \n",
            " conv4_block4_1_relu (Activatio  (None, 4, 4, 256)   0           ['conv4_block4_1_bn[0][0]']      \n",
            " n)                                                                                               \n",
            "                                                                                                  \n",
            " conv4_block4_2_conv (Conv2D)   (None, 4, 4, 256)    590080      ['conv4_block4_1_relu[0][0]']    \n",
            "                                                                                                  \n",
            " conv4_block4_2_bn (BatchNormal  (None, 4, 4, 256)   1024        ['conv4_block4_2_conv[0][0]']    \n",
            " ization)                                                                                         \n",
            "                                                                                                  \n",
            " conv4_block4_2_relu (Activatio  (None, 4, 4, 256)   0           ['conv4_block4_2_bn[0][0]']      \n",
            " n)                                                                                               \n",
            "                                                                                                  \n",
            " conv4_block4_3_conv (Conv2D)   (None, 4, 4, 1024)   263168      ['conv4_block4_2_relu[0][0]']    \n",
            "                                                                                                  \n",
            " conv4_block4_3_bn (BatchNormal  (None, 4, 4, 1024)  4096        ['conv4_block4_3_conv[0][0]']    \n",
            " ization)                                                                                         \n",
            "                                                                                                  \n",
            " conv4_block4_add (Add)         (None, 4, 4, 1024)   0           ['conv4_block3_out[0][0]',       \n",
            "                                                                  'conv4_block4_3_bn[0][0]']      \n",
            "                                                                                                  \n",
            " conv4_block4_out (Activation)  (None, 4, 4, 1024)   0           ['conv4_block4_add[0][0]']       \n",
            "                                                                                                  \n",
            " conv4_block5_1_conv (Conv2D)   (None, 4, 4, 256)    262400      ['conv4_block4_out[0][0]']       \n",
            "                                                                                                  \n",
            " conv4_block5_1_bn (BatchNormal  (None, 4, 4, 256)   1024        ['conv4_block5_1_conv[0][0]']    \n",
            " ization)                                                                                         \n",
            "                                                                                                  \n",
            " conv4_block5_1_relu (Activatio  (None, 4, 4, 256)   0           ['conv4_block5_1_bn[0][0]']      \n",
            " n)                                                                                               \n",
            "                                                                                                  \n",
            " conv4_block5_2_conv (Conv2D)   (None, 4, 4, 256)    590080      ['conv4_block5_1_relu[0][0]']    \n",
            "                                                                                                  \n",
            " conv4_block5_2_bn (BatchNormal  (None, 4, 4, 256)   1024        ['conv4_block5_2_conv[0][0]']    \n",
            " ization)                                                                                         \n",
            "                                                                                                  \n",
            " conv4_block5_2_relu (Activatio  (None, 4, 4, 256)   0           ['conv4_block5_2_bn[0][0]']      \n",
            " n)                                                                                               \n",
            "                                                                                                  \n",
            " conv4_block5_3_conv (Conv2D)   (None, 4, 4, 1024)   263168      ['conv4_block5_2_relu[0][0]']    \n",
            "                                                                                                  \n",
            " conv4_block5_3_bn (BatchNormal  (None, 4, 4, 1024)  4096        ['conv4_block5_3_conv[0][0]']    \n",
            " ization)                                                                                         \n",
            "                                                                                                  \n",
            " conv4_block5_add (Add)         (None, 4, 4, 1024)   0           ['conv4_block4_out[0][0]',       \n",
            "                                                                  'conv4_block5_3_bn[0][0]']      \n",
            "                                                                                                  \n",
            " conv4_block5_out (Activation)  (None, 4, 4, 1024)   0           ['conv4_block5_add[0][0]']       \n",
            "                                                                                                  \n",
            " conv4_block6_1_conv (Conv2D)   (None, 4, 4, 256)    262400      ['conv4_block5_out[0][0]']       \n",
            "                                                                                                  \n",
            " conv4_block6_1_bn (BatchNormal  (None, 4, 4, 256)   1024        ['conv4_block6_1_conv[0][0]']    \n",
            " ization)                                                                                         \n",
            "                                                                                                  \n",
            " conv4_block6_1_relu (Activatio  (None, 4, 4, 256)   0           ['conv4_block6_1_bn[0][0]']      \n",
            " n)                                                                                               \n",
            "                                                                                                  \n",
            " conv4_block6_2_conv (Conv2D)   (None, 4, 4, 256)    590080      ['conv4_block6_1_relu[0][0]']    \n",
            "                                                                                                  \n",
            " conv4_block6_2_bn (BatchNormal  (None, 4, 4, 256)   1024        ['conv4_block6_2_conv[0][0]']    \n",
            " ization)                                                                                         \n",
            "                                                                                                  \n",
            " conv4_block6_2_relu (Activatio  (None, 4, 4, 256)   0           ['conv4_block6_2_bn[0][0]']      \n",
            " n)                                                                                               \n",
            "                                                                                                  \n",
            " conv4_block6_3_conv (Conv2D)   (None, 4, 4, 1024)   263168      ['conv4_block6_2_relu[0][0]']    \n",
            "                                                                                                  \n",
            " conv4_block6_3_bn (BatchNormal  (None, 4, 4, 1024)  4096        ['conv4_block6_3_conv[0][0]']    \n",
            " ization)                                                                                         \n",
            "                                                                                                  \n",
            " conv4_block6_add (Add)         (None, 4, 4, 1024)   0           ['conv4_block5_out[0][0]',       \n",
            "                                                                  'conv4_block6_3_bn[0][0]']      \n",
            "                                                                                                  \n",
            " conv4_block6_out (Activation)  (None, 4, 4, 1024)   0           ['conv4_block6_add[0][0]']       \n",
            "                                                                                                  \n",
            " conv5_block1_1_conv (Conv2D)   (None, 2, 2, 512)    524800      ['conv4_block6_out[0][0]']       \n",
            "                                                                                                  \n",
            " conv5_block1_1_bn (BatchNormal  (None, 2, 2, 512)   2048        ['conv5_block1_1_conv[0][0]']    \n",
            " ization)                                                                                         \n",
            "                                                                                                  \n",
            " conv5_block1_1_relu (Activatio  (None, 2, 2, 512)   0           ['conv5_block1_1_bn[0][0]']      \n",
            " n)                                                                                               \n",
            "                                                                                                  \n",
            " conv5_block1_2_conv (Conv2D)   (None, 2, 2, 512)    2359808     ['conv5_block1_1_relu[0][0]']    \n",
            "                                                                                                  \n",
            " conv5_block1_2_bn (BatchNormal  (None, 2, 2, 512)   2048        ['conv5_block1_2_conv[0][0]']    \n",
            " ization)                                                                                         \n",
            "                                                                                                  \n",
            " conv5_block1_2_relu (Activatio  (None, 2, 2, 512)   0           ['conv5_block1_2_bn[0][0]']      \n",
            " n)                                                                                               \n",
            "                                                                                                  \n",
            " conv5_block1_0_conv (Conv2D)   (None, 2, 2, 2048)   2099200     ['conv4_block6_out[0][0]']       \n",
            "                                                                                                  \n",
            " conv5_block1_3_conv (Conv2D)   (None, 2, 2, 2048)   1050624     ['conv5_block1_2_relu[0][0]']    \n",
            "                                                                                                  \n",
            " conv5_block1_0_bn (BatchNormal  (None, 2, 2, 2048)  8192        ['conv5_block1_0_conv[0][0]']    \n",
            " ization)                                                                                         \n",
            "                                                                                                  \n",
            " conv5_block1_3_bn (BatchNormal  (None, 2, 2, 2048)  8192        ['conv5_block1_3_conv[0][0]']    \n",
            " ization)                                                                                         \n",
            "                                                                                                  \n",
            " conv5_block1_add (Add)         (None, 2, 2, 2048)   0           ['conv5_block1_0_bn[0][0]',      \n",
            "                                                                  'conv5_block1_3_bn[0][0]']      \n",
            "                                                                                                  \n",
            " conv5_block1_out (Activation)  (None, 2, 2, 2048)   0           ['conv5_block1_add[0][0]']       \n",
            "                                                                                                  \n",
            " conv5_block2_1_conv (Conv2D)   (None, 2, 2, 512)    1049088     ['conv5_block1_out[0][0]']       \n",
            "                                                                                                  \n",
            " conv5_block2_1_bn (BatchNormal  (None, 2, 2, 512)   2048        ['conv5_block2_1_conv[0][0]']    \n",
            " ization)                                                                                         \n",
            "                                                                                                  \n",
            " conv5_block2_1_relu (Activatio  (None, 2, 2, 512)   0           ['conv5_block2_1_bn[0][0]']      \n",
            " n)                                                                                               \n",
            "                                                                                                  \n",
            " conv5_block2_2_conv (Conv2D)   (None, 2, 2, 512)    2359808     ['conv5_block2_1_relu[0][0]']    \n",
            "                                                                                                  \n",
            " conv5_block2_2_bn (BatchNormal  (None, 2, 2, 512)   2048        ['conv5_block2_2_conv[0][0]']    \n",
            " ization)                                                                                         \n",
            "                                                                                                  \n",
            " conv5_block2_2_relu (Activatio  (None, 2, 2, 512)   0           ['conv5_block2_2_bn[0][0]']      \n",
            " n)                                                                                               \n",
            "                                                                                                  \n",
            " conv5_block2_3_conv (Conv2D)   (None, 2, 2, 2048)   1050624     ['conv5_block2_2_relu[0][0]']    \n",
            "                                                                                                  \n",
            " conv5_block2_3_bn (BatchNormal  (None, 2, 2, 2048)  8192        ['conv5_block2_3_conv[0][0]']    \n",
            " ization)                                                                                         \n",
            "                                                                                                  \n",
            " conv5_block2_add (Add)         (None, 2, 2, 2048)   0           ['conv5_block1_out[0][0]',       \n",
            "                                                                  'conv5_block2_3_bn[0][0]']      \n",
            "                                                                                                  \n",
            " conv5_block2_out (Activation)  (None, 2, 2, 2048)   0           ['conv5_block2_add[0][0]']       \n",
            "                                                                                                  \n",
            " conv5_block3_1_conv (Conv2D)   (None, 2, 2, 512)    1049088     ['conv5_block2_out[0][0]']       \n",
            "                                                                                                  \n",
            " conv5_block3_1_bn (BatchNormal  (None, 2, 2, 512)   2048        ['conv5_block3_1_conv[0][0]']    \n",
            " ization)                                                                                         \n",
            "                                                                                                  \n",
            " conv5_block3_1_relu (Activatio  (None, 2, 2, 512)   0           ['conv5_block3_1_bn[0][0]']      \n",
            " n)                                                                                               \n",
            "                                                                                                  \n",
            " conv5_block3_2_conv (Conv2D)   (None, 2, 2, 512)    2359808     ['conv5_block3_1_relu[0][0]']    \n",
            "                                                                                                  \n",
            " conv5_block3_2_bn (BatchNormal  (None, 2, 2, 512)   2048        ['conv5_block3_2_conv[0][0]']    \n",
            " ization)                                                                                         \n",
            "                                                                                                  \n",
            " conv5_block3_2_relu (Activatio  (None, 2, 2, 512)   0           ['conv5_block3_2_bn[0][0]']      \n",
            " n)                                                                                               \n",
            "                                                                                                  \n",
            " conv5_block3_3_conv (Conv2D)   (None, 2, 2, 2048)   1050624     ['conv5_block3_2_relu[0][0]']    \n",
            "                                                                                                  \n",
            " conv5_block3_3_bn (BatchNormal  (None, 2, 2, 2048)  8192        ['conv5_block3_3_conv[0][0]']    \n",
            " ization)                                                                                         \n",
            "                                                                                                  \n",
            " conv5_block3_add (Add)         (None, 2, 2, 2048)   0           ['conv5_block2_out[0][0]',       \n",
            "                                                                  'conv5_block3_3_bn[0][0]']      \n",
            "                                                                                                  \n",
            " conv5_block3_out (Activation)  (None, 2, 2, 2048)   0           ['conv5_block3_add[0][0]']       \n",
            "                                                                                                  \n",
            " flatten (Flatten)              (None, 8192)         0           ['conv5_block3_out[0][0]']       \n",
            "                                                                                                  \n",
            " dense (Dense)                  (None, 512)          4194816     ['flatten[0][0]']                \n",
            "                                                                                                  \n",
            " dropout (Dropout)              (None, 512)          0           ['dense[0][0]']                  \n",
            "                                                                                                  \n",
            " dense_1 (Dense)                (None, 2)            1026        ['dropout[0][0]']                \n",
            "                                                                                                  \n",
            "==================================================================================================\n",
            "Total params: 27,783,554\n",
            "Trainable params: 4,195,842\n",
            "Non-trainable params: 23,587,712\n",
            "__________________________________________________________________________________________________\n",
            "\n",
            "Execution time 125.02 minutes:  \n",
            "\n",
            "===============================================\n",
            "\n"
          ]
        },
        {
          "output_type": "execute_result",
          "data": {
            "text/plain": [
              "   TL Model  Test_Acc  Train_Acc  Val_Acc No_Trainable_Params  Precision  \\\n",
              "0  ResNet50      0.71        0.7     0.68           4,195,842       0.74   \n",
              "\n",
              "   Recall  F1score  ROC-AUC  ZeroOneLoss  Activation Optimizer      LR  \\\n",
              "0    0.71     0.71     0.81         0.29  leaky_relu   rmsprop  0.0001   \n",
              "\n",
              "   Brightness  Contrast  Rotate   ShiftRU   ShiftLD  \n",
              "0         0.1         1      10  (10, -5)  (-10, 5)  "
            ],
            "text/html": [
              "\n",
              "  <div id=\"df-492c3bf1-2951-4ea4-b88d-722ecdf94a6e\">\n",
              "    <div class=\"colab-df-container\">\n",
              "      <div>\n",
              "<style scoped>\n",
              "    .dataframe tbody tr th:only-of-type {\n",
              "        vertical-align: middle;\n",
              "    }\n",
              "\n",
              "    .dataframe tbody tr th {\n",
              "        vertical-align: top;\n",
              "    }\n",
              "\n",
              "    .dataframe thead th {\n",
              "        text-align: right;\n",
              "    }\n",
              "</style>\n",
              "<table border=\"1\" class=\"dataframe\">\n",
              "  <thead>\n",
              "    <tr style=\"text-align: right;\">\n",
              "      <th></th>\n",
              "      <th>TL Model</th>\n",
              "      <th>Test_Acc</th>\n",
              "      <th>Train_Acc</th>\n",
              "      <th>Val_Acc</th>\n",
              "      <th>No_Trainable_Params</th>\n",
              "      <th>Precision</th>\n",
              "      <th>Recall</th>\n",
              "      <th>F1score</th>\n",
              "      <th>ROC-AUC</th>\n",
              "      <th>ZeroOneLoss</th>\n",
              "      <th>Activation</th>\n",
              "      <th>Optimizer</th>\n",
              "      <th>LR</th>\n",
              "      <th>Brightness</th>\n",
              "      <th>Contrast</th>\n",
              "      <th>Rotate</th>\n",
              "      <th>ShiftRU</th>\n",
              "      <th>ShiftLD</th>\n",
              "    </tr>\n",
              "  </thead>\n",
              "  <tbody>\n",
              "    <tr>\n",
              "      <th>0</th>\n",
              "      <td>ResNet50</td>\n",
              "      <td>0.71</td>\n",
              "      <td>0.7</td>\n",
              "      <td>0.68</td>\n",
              "      <td>4,195,842</td>\n",
              "      <td>0.74</td>\n",
              "      <td>0.71</td>\n",
              "      <td>0.71</td>\n",
              "      <td>0.81</td>\n",
              "      <td>0.29</td>\n",
              "      <td>leaky_relu</td>\n",
              "      <td>rmsprop</td>\n",
              "      <td>0.0001</td>\n",
              "      <td>0.1</td>\n",
              "      <td>1</td>\n",
              "      <td>10</td>\n",
              "      <td>(10, -5)</td>\n",
              "      <td>(-10, 5)</td>\n",
              "    </tr>\n",
              "  </tbody>\n",
              "</table>\n",
              "</div>\n",
              "      <button class=\"colab-df-convert\" onclick=\"convertToInteractive('df-492c3bf1-2951-4ea4-b88d-722ecdf94a6e')\"\n",
              "              title=\"Convert this dataframe to an interactive table.\"\n",
              "              style=\"display:none;\">\n",
              "        \n",
              "  <svg xmlns=\"http://www.w3.org/2000/svg\" height=\"24px\"viewBox=\"0 0 24 24\"\n",
              "       width=\"24px\">\n",
              "    <path d=\"M0 0h24v24H0V0z\" fill=\"none\"/>\n",
              "    <path d=\"M18.56 5.44l.94 2.06.94-2.06 2.06-.94-2.06-.94-.94-2.06-.94 2.06-2.06.94zm-11 1L8.5 8.5l.94-2.06 2.06-.94-2.06-.94L8.5 2.5l-.94 2.06-2.06.94zm10 10l.94 2.06.94-2.06 2.06-.94-2.06-.94-.94-2.06-.94 2.06-2.06.94z\"/><path d=\"M17.41 7.96l-1.37-1.37c-.4-.4-.92-.59-1.43-.59-.52 0-1.04.2-1.43.59L10.3 9.45l-7.72 7.72c-.78.78-.78 2.05 0 2.83L4 21.41c.39.39.9.59 1.41.59.51 0 1.02-.2 1.41-.59l7.78-7.78 2.81-2.81c.8-.78.8-2.07 0-2.86zM5.41 20L4 18.59l7.72-7.72 1.47 1.35L5.41 20z\"/>\n",
              "  </svg>\n",
              "      </button>\n",
              "      \n",
              "  <style>\n",
              "    .colab-df-container {\n",
              "      display:flex;\n",
              "      flex-wrap:wrap;\n",
              "      gap: 12px;\n",
              "    }\n",
              "\n",
              "    .colab-df-convert {\n",
              "      background-color: #E8F0FE;\n",
              "      border: none;\n",
              "      border-radius: 50%;\n",
              "      cursor: pointer;\n",
              "      display: none;\n",
              "      fill: #1967D2;\n",
              "      height: 32px;\n",
              "      padding: 0 0 0 0;\n",
              "      width: 32px;\n",
              "    }\n",
              "\n",
              "    .colab-df-convert:hover {\n",
              "      background-color: #E2EBFA;\n",
              "      box-shadow: 0px 1px 2px rgba(60, 64, 67, 0.3), 0px 1px 3px 1px rgba(60, 64, 67, 0.15);\n",
              "      fill: #174EA6;\n",
              "    }\n",
              "\n",
              "    [theme=dark] .colab-df-convert {\n",
              "      background-color: #3B4455;\n",
              "      fill: #D2E3FC;\n",
              "    }\n",
              "\n",
              "    [theme=dark] .colab-df-convert:hover {\n",
              "      background-color: #434B5C;\n",
              "      box-shadow: 0px 1px 3px 1px rgba(0, 0, 0, 0.15);\n",
              "      filter: drop-shadow(0px 1px 2px rgba(0, 0, 0, 0.3));\n",
              "      fill: #FFFFFF;\n",
              "    }\n",
              "  </style>\n",
              "\n",
              "      <script>\n",
              "        const buttonEl =\n",
              "          document.querySelector('#df-492c3bf1-2951-4ea4-b88d-722ecdf94a6e button.colab-df-convert');\n",
              "        buttonEl.style.display =\n",
              "          google.colab.kernel.accessAllowed ? 'block' : 'none';\n",
              "\n",
              "        async function convertToInteractive(key) {\n",
              "          const element = document.querySelector('#df-492c3bf1-2951-4ea4-b88d-722ecdf94a6e');\n",
              "          const dataTable =\n",
              "            await google.colab.kernel.invokeFunction('convertToInteractive',\n",
              "                                                     [key], {});\n",
              "          if (!dataTable) return;\n",
              "\n",
              "          const docLinkHtml = 'Like what you see? Visit the ' +\n",
              "            '<a target=\"_blank\" href=https://colab.research.google.com/notebooks/data_table.ipynb>data table notebook</a>'\n",
              "            + ' to learn more about interactive tables.';\n",
              "          element.innerHTML = '';\n",
              "          dataTable['output_type'] = 'display_data';\n",
              "          await google.colab.output.renderOutput(dataTable, element);\n",
              "          const docLink = document.createElement('div');\n",
              "          docLink.innerHTML = docLinkHtml;\n",
              "          element.appendChild(docLink);\n",
              "        }\n",
              "      </script>\n",
              "    </div>\n",
              "  </div>\n",
              "  "
            ]
          },
          "metadata": {},
          "execution_count": 56
        }
      ]
    },
    {
      "cell_type": "code",
      "source": [
        "# perf_summary_vgg19 = experimenting_cnn_with_tl(chosen_model='VGG19',\n",
        "#                                 image_size = 50,\n",
        "#                                 max_trials=50,\n",
        "#                                 batch_size=64,\n",
        "#                                 epochs=20,\n",
        "#                                 brightness_delta=random.choice([.1,.3]),\n",
        "#                                 contrast_factor=random.choice([1,3]),\n",
        "#                                 angle=random.choice([10,30]),\n",
        "#                                 right=random.choice([10,15,20]),\n",
        "#                                 up=random.choice([-10,-13,-16]),\n",
        "#                                 left=random.choice([-10,-15,-20]),\n",
        "#                                 down=random.choice([10,13,16]))\n",
        "# perf_summary_vgg19"
      ],
      "metadata": {
        "id": "X5Gw-RBf0JHl"
      },
      "execution_count": 57,
      "outputs": []
    },
    {
      "cell_type": "code",
      "source": [
        "# perf_summary_densenet201 = experimenting_cnn_with_tl(chosen_model='DenseNet201',\n",
        "#                                 image_size = 50,\n",
        "#                                 max_trials=50,\n",
        "#                                 batch_size=64,\n",
        "#                                 epochs=20,\n",
        "#                                 brightness_delta=random.choice([.1,.3]),\n",
        "#                                 contrast_factor=random.choice([1,3]),\n",
        "#                                 angle=random.choice([10,30]),\n",
        "#                                 right=random.choice([10,15,20]),\n",
        "#                                 up=random.choice([-10,-13,-16]),\n",
        "#                                 left=random.choice([-10,-15,-20]),\n",
        "#                                 down=random.choice([10,13,16]))\n",
        "# perf_summary_densenet201"
      ],
      "metadata": {
        "id": "Nyn-0jauubpU"
      },
      "execution_count": 58,
      "outputs": []
    },
    {
      "cell_type": "code",
      "source": [
        "# perf_summary_resnet152v2 = experimenting_cnn_with_tl(chosen_model='ResNet152V2',\n",
        "#                                 image_size = 50,\n",
        "                                # max_trials=80,\n",
        "                                # batch_size=64,\n",
        "                                # epochs=20,\n",
        "                                # brightness_delta=random.choice([.1,.3]),\n",
        "                                # contrast_factor=random.choice([1,3]),\n",
        "                                # angle=random.choice([10,30]),\n",
        "                                # right=random.choice([6,10,12]),\n",
        "                                # up=random.choice([-5,-7,-9]),\n",
        "                                # left=random.choice([-6,-10,-12]),\n",
        "                                # down=random.choice([5,7,9]))\n",
        "# perf_summary_resnet152v2"
      ],
      "metadata": {
        "id": "J3i5qGH1ujP5"
      },
      "execution_count": 59,
      "outputs": []
    },
    {
      "cell_type": "code",
      "source": [
        "# perf_summary_xception = experimenting_cnn_with_tl(chosen_model='Xception',\n",
        "#                                 image_size = 50,\n",
        "                                # max_trials=80,\n",
        "                                # batch_size=64,\n",
        "                                # epochs=20,\n",
        "                                # brightness_delta=random.choice([.1,.3]),\n",
        "                                # contrast_factor=random.choice([1,3]),\n",
        "                                # angle=random.choice([10,30]),\n",
        "                                # right=random.choice([6,10,12]),\n",
        "                                # up=random.choice([-5,-7,-9]),\n",
        "                                # left=random.choice([-6,-10,-12]),\n",
        "                                # down=random.choice([5,7,9]))\n",
        "# perf_summary_xception"
      ],
      "metadata": {
        "id": "zDIiMdayurMC"
      },
      "execution_count": 60,
      "outputs": []
    },
    {
      "cell_type": "code",
      "source": [
        "# perf_summary_mobilenetv2 = experimenting_cnn_with_tl(chosen_model='MobileNetV2',\n",
        "#                                 image_size = 50,\n",
        "                                # max_trials=80,\n",
        "                                # batch_size=64,\n",
        "                                # epochs=20,\n",
        "                                # brightness_delta=random.choice([.1,.3]),\n",
        "                                # contrast_factor=random.choice([1,3]),\n",
        "                                # angle=random.choice([10,30]),\n",
        "                                # right=random.choice([6,10,12]),\n",
        "                                # up=random.choice([-5,-7,-9]),\n",
        "                                # left=random.choice([-6,-10,-12]),\n",
        "                                # down=random.choice([5,7,9]))\n",
        "# perf_summary_mobilenetv2"
      ],
      "metadata": {
        "id": "x-2uVs4csrxs"
      },
      "execution_count": 61,
      "outputs": []
    },
    {
      "cell_type": "code",
      "source": [
        "# perf_summary_efficientnetb7 = experimenting_cnn_with_tl(chosen_model='EfficientNetB7',\n",
        "#                                 image_size = 50,\n",
        "                                # max_trials=80,\n",
        "                                # batch_size=64,\n",
        "                                # epochs=20,\n",
        "                                # brightness_delta=random.choice([.1,.3]),\n",
        "                                # contrast_factor=random.choice([1,3]),\n",
        "                                # angle=random.choice([10,30]),\n",
        "                                # right=random.choice([6,10,12]),\n",
        "                                # up=random.choice([-5,-7,-9]),\n",
        "                                # left=random.choice([-6,-10,-12]),\n",
        "                                # down=random.choice([5,7,9]))\n",
        "# perf_summary_efficientnetb7"
      ],
      "metadata": {
        "id": "d1Rj7mQQtY8M"
      },
      "execution_count": 62,
      "outputs": []
    },
    {
      "cell_type": "code",
      "source": [
        "# perf_summary_inceptionv3 = experimenting_cnn_with_tl(chosen_model='InceptionV3',\n",
        "#                                 image_size = 50,\n",
        "                                # max_trials=80,\n",
        "                                # batch_size=64,\n",
        "                                # epochs=20,\n",
        "                                # brightness_delta=random.choice([.1,.3]),\n",
        "                                # contrast_factor=random.choice([1,3]),\n",
        "                                # angle=random.choice([10,30]),\n",
        "                                # right=random.choice([6,10,12]),\n",
        "                                # up=random.choice([-5,-7,-9]),\n",
        "                                # left=random.choice([-6,-10,-12]),\n",
        "                                # down=random.choice([5,7,9]))\n",
        "# perf_summary_inceptionv3"
      ],
      "metadata": {
        "id": "AyFRUhEOtldq"
      },
      "execution_count": 63,
      "outputs": []
    },
    {
      "cell_type": "code",
      "source": [
        "# perf_metrics_summary = pd.concat([perf_summary_vgg16,\n",
        "#                              perf_summary_resnet50,\n",
        "#                              perf_summary_vgg19,\n",
        "#                              perf_summary_densenet201,\n",
        "#                              perf_summary_resnet152v2], axis=0).reset_index(drop=True)\n",
        "#                             #  perf_summary_xception,\n",
        "#                             #  perf_summary_mobilenetv2,\n",
        "#                             #  perf_summary_efficientnetb7,\n",
        "#                             #  perf_summary_inceptionv3], axis=0).reset_index(drop=True)\n",
        "\n",
        "# perf_metrics_summary.to_csv(directory_path + 'perf_metrics_summary_on_best_models.csv') \n",
        "# files.download(directory_path + 'perf_metrics_summary_on_best_models.csv')\n",
        "# perf_metrics_summary"
      ],
      "metadata": {
        "id": "8VOCuQHFkf8y"
      },
      "execution_count": 64,
      "outputs": []
    },
    {
      "cell_type": "code",
      "source": [
        "# # # tl_models_50 = ['VGG16', 'VGG19', 'DenseNet201', 'ResNet50', 'ResNet152V2']                                   #  'MobileNetV2'    # input_shape should be one of [96, 128, 160, 192, 224]\n",
        "# # # tl_models_96 = ['VGG16', 'VGG19', 'ResNet152V2', 'DenseNet201', 'MobileNetV2', 'EfficientNetB7', 'InceptionV3', 'Xception']                                        # InceptionV3 has to be at least 75, Xception at least 71\n",
        "# tl_models = ['ResNet50', 'VGG16', 'DenseNet201', 'VGG19', 'ResNet152V2'] \n",
        "\n",
        "# def run_experiments(chosen_model='VGG16',\n",
        "#                     image_size=50, \n",
        "#                     max_trials=20,\n",
        "#                     batch_size=64,\n",
        "#                     epochs=20,\n",
        "#                     brightness_delta=random.choice([.1,.3]),\n",
        "#                     contrast_factor=random.choice([1,3]),\n",
        "#                     angle=random.choice([10,30])):\n",
        "#   metrics_table = pd.DataFrame()  \n",
        "#   for tl in tl_models:     \n",
        "#     perf_summary = experimenting_cnn_with_tl(chosen_model=tl,\n",
        "#                                                 image_size=image_size,\n",
        "#                                                 max_trials=max_trials,\n",
        "#                                                 batch_size=batch_size,\n",
        "#                                                 epochs=epochs,\n",
        "#                                                 brightness_delta=brightness_delta,\n",
        "#                                                 contrast_factor=contrast_factor,\n",
        "#                                                 angle=angle)\n",
        "#     experimenting_cnn_with_tl(chosen_model=tl,\n",
        "#                               image_size = image_size,\n",
        "#                               max_trials=max_trials,\n",
        "#                               batch_size=batch_size,\n",
        "#                               epochs=epochs,\n",
        "#                               brightness_delta=brightness_delta,\n",
        "#                               contrast_factor=contrast_factor)\n",
        "\n",
        "#     metrics_table = metrics_table.append(perf_summary, ignore_index=True)\n",
        "#   return metrics_table\n",
        "\n",
        "# metrics_table = run_experiments(chosen_model='VGG16',\n",
        "#                     image_size=50, \n",
        "#                     max_trials=2,\n",
        "#                     batch_size=64,\n",
        "#                     epochs=2,\n",
        "#                     brightness_delta=random.choice([.1,.3]),\n",
        "#                     contrast_factor=random.choice([1,3]))\n",
        "# metrics_table"
      ],
      "metadata": {
        "id": "Ys2_8u2_Y2jB"
      },
      "execution_count": 65,
      "outputs": []
    }
  ]
}