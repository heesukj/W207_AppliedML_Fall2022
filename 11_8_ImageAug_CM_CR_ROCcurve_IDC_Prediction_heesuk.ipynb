{
  "nbformat": 4,
  "nbformat_minor": 0,
  "metadata": {
    "colab": {
      "provenance": [],
      "collapsed_sections": [],
      "include_colab_link": true
    },
    "kernelspec": {
      "name": "python3",
      "display_name": "Python 3"
    },
    "language_info": {
      "name": "python"
    }
  },
  "cells": [
    {
      "cell_type": "markdown",
      "metadata": {
        "id": "view-in-github",
        "colab_type": "text"
      },
      "source": [
        "<a href=\"https://colab.research.google.com/github/heesukjang/W207_AppliedML_Fall2022/blob/main/11_8_ImageAug_CM_CR_ROCcurve_IDC_Prediction_heesuk.ipynb\" target=\"_parent\"><img src=\"https://colab.research.google.com/assets/colab-badge.svg\" alt=\"Open In Colab\"/></a>"
      ]
    },
    {
      "cell_type": "markdown",
      "source": [
        "## FALL 2022<br>\n",
        "W207 Applied Machine Learning<br>\n",
        "Heesuk Jang\n",
        " \n",
        "\n",
        "#Predicting IDC with Breast Histopathology Images using CNN\n",
        "\n"
      ],
      "metadata": {
        "id": "5DebDWCL0KeL"
      }
    },
    {
      "cell_type": "code",
      "execution_count": 1,
      "metadata": {
        "id": "SRkZHKoWswZT",
        "colab": {
          "base_uri": "https://localhost:8080/"
        },
        "outputId": "1d9615f8-101f-4c89-d048-f0f7059420e0"
      },
      "outputs": [
        {
          "output_type": "stream",
          "name": "stdout",
          "text": [
            "Drive already mounted at /content/gdrive; to attempt to forcibly remount, call drive.mount(\"/content/gdrive\", force_remount=True).\n"
          ]
        }
      ],
      "source": [
        "import pandas as pd\n",
        "import numpy as np\n",
        "import os\n",
        "import re\n",
        "import random\n",
        "import joblib\n",
        "import glob\n",
        "import itertools\n",
        "\n",
        "import matplotlib.pyplot as plt\n",
        "import seaborn as sns\n",
        "import plotly.express as px\n",
        "import matplotlib.patches as patches\n",
        "\n",
        "from sklearn.utils import shuffle\n",
        "from sklearn.ensemble import GradientBoostingClassifier, AdaBoostClassifier, RandomForestClassifier\n",
        "from sklearn.model_selection import train_test_split, GridSearchCV\n",
        "from scipy import stats\n",
        "from collections import Counter\n",
        "from sklearn import preprocessing\n",
        "from sklearn.preprocessing import StandardScaler\n",
        "from sklearn.metrics import *                            # confusion_matrix, log_loss, accuracy_score\n",
        "from sklearn.model_selection import *                    # train_test_split\n",
        "from sklearn.tree import DecisionTreeClassifier\n",
        "from sklearn.naive_bayes import GaussianNB\n",
        "from sklearn import preprocessing\n",
        "from sklearn.preprocessing import *\n",
        "# from sklearn.ensemble import *\n",
        "from sklearn.svm import *\n",
        "from sklearn.linear_model import *                       # LinearRegression\n",
        "from sklearn.discriminant_analysis import *\n",
        "from sklearn.neighbors import KNeighborsClassifier\n",
        "from mlxtend.plotting import plot_decision_regions\n",
        "\n",
        "import tensorflow as tf\n",
        "from tensorflow import keras\n",
        "from keras import metrics\n",
        "from tensorflow.keras import initializers\n",
        "from tensorflow.keras.preprocessing.image import ImageDataGenerator\n",
        "from tensorflow.keras.layers import RandomFlip, RandomZoom, RandomRotation, Conv2D, MaxPooling2D, AveragePooling2D, Input, Dense, Flatten, Dropout, BatchNormalization, GlobalAveragePooling2D\n",
        "from tensorflow.keras.losses import BinaryCrossentropy\n",
        "from tensorflow.keras.models import Sequential\n",
        "from tensorflow.keras.optimizers import Adam, SGD\n",
        "from tensorflow.keras.callbacks import ReduceLROnPlateau, ModelCheckpoint\n",
        "\n",
        "from sklearn.metrics import roc_auc_score, auc\n",
        "from sklearn.metrics import roc_curve\n",
        "\n",
        "tf.get_logger().setLevel('INFO')\n",
        "\n",
        "import cv2 as cv\n",
        "import skimage.io as io\n",
        "\n",
        "import warnings\n",
        "warnings.filterwarnings('ignore')\n",
        "\n",
        "# Required to read the data from Kaggle\n",
        "from google.colab import drive\n",
        "# drive.mount('/content/gdrive')\n",
        "# os.environ['KAGGLE_CONFIG_DIR'] = \"/content/gdrive/MyDrive/Kaggle\"\n",
        "\n",
        "from google.colab import drive\n",
        "drive.mount('/content/gdrive')\n",
        "\n",
        "import warnings\n",
        "warnings.simplefilter(\"ignore\", category=DeprecationWarning)"
      ]
    },
    {
      "cell_type": "code",
      "source": [
        "# !unzip gdrive/MyDrive/Kaggle/CNN_IDC/Dataset.zip\n",
        "\n",
        "#replace these paths with the paths of your \n",
        "val_image_directory = '/content/gdrive/MyDrive/Kaggle/CNN_IDC/Dataset/Validate'\n",
        "train_image_directory = '/content/gdrive/MyDrive/Kaggle/CNN_IDC/Dataset/Train'\n",
        "test_image_directory = '/content/gdrive/MyDrive/Kaggle/CNN_IDC/Dataset/Test'\n",
        "directory_path = '/content/gdrive/MyDrive/Kaggle/CNN_IDC'"
      ],
      "metadata": {
        "id": "uyWJuOkZuCVl"
      },
      "execution_count": 2,
      "outputs": []
    },
    {
      "cell_type": "code",
      "source": [
        "def get_paths(directory):\n",
        "  all_path = []\n",
        "  idc_image_path = []\n",
        "  idc_image_label = []\n",
        "\n",
        "  for dir, subdir, files in os.walk(directory):\n",
        "    path = dir + \"/\"\n",
        "    all_path.append(path)\n",
        "\n",
        "  for i in range(len(all_path)):\n",
        "    for file in os.listdir(all_path[i]):\n",
        "      test = file\n",
        "      path = all_path[i] + test\n",
        "      if path.lower().endswith('.png'):\n",
        "        idc_image_path.append(path)\n",
        "\n",
        "  for i in range(len(idc_image_path)):\n",
        "    split_test = idc_image_path[i]\n",
        "    split_path = split_test.split(\"/\")\n",
        "    directory_name = split_path[7]\n",
        "    idc_image_label.append('class_' + split_path[8])\n",
        "    # idc_image_label.append(str(split_path[8]))\n",
        "  return idc_image_path, idc_image_label, directory_name"
      ],
      "metadata": {
        "id": "N892xh1IM4q7"
      },
      "execution_count": 3,
      "outputs": []
    },
    {
      "cell_type": "code",
      "source": [
        "train_paths, train_labels, train_dir = get_paths(train_image_directory)\n",
        "val_paths, val_labels, val_dir = get_paths(val_image_directory)\n",
        "test_paths, test_labels, test_dir = get_paths(test_image_directory)"
      ],
      "metadata": {
        "id": "SJ6Cl4wtmxjO"
      },
      "execution_count": 4,
      "outputs": []
    },
    {
      "cell_type": "code",
      "source": [
        "print(train_labels[:5])\n",
        "print(train_labels[-5:])\n",
        "\n",
        "print(len(train_paths), len(train_labels))\n",
        "print(len(test_paths), len(test_labels))\n",
        "print(len(val_paths), len(val_labels))"
      ],
      "metadata": {
        "id": "NIf9ETAsmxa2",
        "outputId": "de5403e1-cfe6-462a-83a9-ff025deda5ba",
        "colab": {
          "base_uri": "https://localhost:8080/"
        }
      },
      "execution_count": 5,
      "outputs": [
        {
          "output_type": "stream",
          "name": "stdout",
          "text": [
            "['class_0', 'class_0', 'class_0', 'class_0', 'class_0']\n",
            "['class_1', 'class_1', 'class_1', 'class_1', 'class_1']\n",
            "800 800\n",
            "200 200\n",
            "200 200\n"
          ]
        }
      ]
    },
    {
      "cell_type": "code",
      "source": [
        "print(train_paths[:2])\n",
        "print(train_labels[:10])\n",
        "print(train_dir)"
      ],
      "metadata": {
        "id": "uCJzEwS8mxSR",
        "outputId": "e4ebe4f1-514b-4066-8ab7-7f72b367431c",
        "colab": {
          "base_uri": "https://localhost:8080/"
        }
      },
      "execution_count": 6,
      "outputs": [
        {
          "output_type": "stream",
          "name": "stdout",
          "text": [
            "['/content/gdrive/MyDrive/Kaggle/CNN_IDC/Dataset/Train/0/12880_idx5_x451_y701_class0.png', '/content/gdrive/MyDrive/Kaggle/CNN_IDC/Dataset/Train/0/9345_idx5_x2001_y2001_class0.png']\n",
            "['class_0', 'class_0', 'class_0', 'class_0', 'class_0', 'class_0', 'class_0', 'class_0', 'class_0', 'class_0']\n",
            "Train\n"
          ]
        }
      ]
    },
    {
      "cell_type": "code",
      "source": [
        "def create_dataframes(idc_image_path, idc_image_label, directory_name):\n",
        "  same_name = directory_name.lower() + '_'\n",
        "  #creating the dataframes that we will be passing to our generators\n",
        "  idc_data_cleaned = {'path': idc_image_path,\n",
        "            'label': idc_image_label}\n",
        "  idc_df = pd.DataFrame(idc_data_cleaned)\n",
        "  df = idc_df.sample(frac = 1)\n",
        "  print(df)\n",
        "  csv_path = directory_path\n",
        "  csv_file = df.to_csv(csv_path + '/' + same_name + 'idc_dataframe.csv')\n",
        "  csv_file_path = csv_path + '/' + same_name + 'idc_dataframe.csv'\n",
        "  return csv_file_path"
      ],
      "metadata": {
        "id": "_WU9qt2RmxHZ"
      },
      "execution_count": 7,
      "outputs": []
    },
    {
      "cell_type": "code",
      "source": [
        "train_dataframe = create_dataframes(train_paths, train_labels, train_dir)\n",
        "print('type(train_dataframe): ',type(train_dataframe))\n",
        "train_dataframe"
      ],
      "metadata": {
        "id": "MJxUgm39NeU7",
        "outputId": "6617c6d7-663e-4104-e5d8-e699694e1fd2",
        "colab": {
          "base_uri": "https://localhost:8080/",
          "height": 295
        }
      },
      "execution_count": 8,
      "outputs": [
        {
          "output_type": "stream",
          "name": "stdout",
          "text": [
            "                                                  path    label\n",
            "458  /content/gdrive/MyDrive/Kaggle/CNN_IDC/Dataset...  class_1\n",
            "41   /content/gdrive/MyDrive/Kaggle/CNN_IDC/Dataset...  class_0\n",
            "391  /content/gdrive/MyDrive/Kaggle/CNN_IDC/Dataset...  class_0\n",
            "171  /content/gdrive/MyDrive/Kaggle/CNN_IDC/Dataset...  class_0\n",
            "403  /content/gdrive/MyDrive/Kaggle/CNN_IDC/Dataset...  class_1\n",
            "..                                                 ...      ...\n",
            "166  /content/gdrive/MyDrive/Kaggle/CNN_IDC/Dataset...  class_0\n",
            "350  /content/gdrive/MyDrive/Kaggle/CNN_IDC/Dataset...  class_0\n",
            "768  /content/gdrive/MyDrive/Kaggle/CNN_IDC/Dataset...  class_1\n",
            "63   /content/gdrive/MyDrive/Kaggle/CNN_IDC/Dataset...  class_0\n",
            "226  /content/gdrive/MyDrive/Kaggle/CNN_IDC/Dataset...  class_0\n",
            "\n",
            "[800 rows x 2 columns]\n",
            "type(train_dataframe):  <class 'str'>\n"
          ]
        },
        {
          "output_type": "execute_result",
          "data": {
            "text/plain": [
              "'/content/gdrive/MyDrive/Kaggle/CNN_IDC/train_idc_dataframe.csv'"
            ],
            "application/vnd.google.colaboratory.intrinsic+json": {
              "type": "string"
            }
          },
          "metadata": {},
          "execution_count": 8
        }
      ]
    },
    {
      "cell_type": "code",
      "source": [
        "train_dataframe = create_dataframes(train_paths, train_labels, train_dir)\n",
        "train_generator = pd.read_csv(train_dataframe)\n",
        "\n",
        "test_dataframe = create_dataframes(test_paths, test_labels, test_dir)\n",
        "test_generator = pd.read_csv(test_dataframe)\n",
        "\n",
        "val_dataframe = create_dataframes(val_paths, val_labels, val_dir)\n",
        "val_generator = pd.read_csv(val_dataframe)"
      ],
      "metadata": {
        "id": "hnDu_3N4mw1G",
        "outputId": "ff36dfba-1450-4640-efcd-9c9baba7743f",
        "colab": {
          "base_uri": "https://localhost:8080/"
        }
      },
      "execution_count": 9,
      "outputs": [
        {
          "output_type": "stream",
          "name": "stdout",
          "text": [
            "                                                  path    label\n",
            "322  /content/gdrive/MyDrive/Kaggle/CNN_IDC/Dataset...  class_0\n",
            "725  /content/gdrive/MyDrive/Kaggle/CNN_IDC/Dataset...  class_1\n",
            "402  /content/gdrive/MyDrive/Kaggle/CNN_IDC/Dataset...  class_1\n",
            "611  /content/gdrive/MyDrive/Kaggle/CNN_IDC/Dataset...  class_1\n",
            "575  /content/gdrive/MyDrive/Kaggle/CNN_IDC/Dataset...  class_1\n",
            "..                                                 ...      ...\n",
            "199  /content/gdrive/MyDrive/Kaggle/CNN_IDC/Dataset...  class_0\n",
            "690  /content/gdrive/MyDrive/Kaggle/CNN_IDC/Dataset...  class_1\n",
            "506  /content/gdrive/MyDrive/Kaggle/CNN_IDC/Dataset...  class_1\n",
            "574  /content/gdrive/MyDrive/Kaggle/CNN_IDC/Dataset...  class_1\n",
            "648  /content/gdrive/MyDrive/Kaggle/CNN_IDC/Dataset...  class_1\n",
            "\n",
            "[800 rows x 2 columns]\n",
            "                                                  path    label\n",
            "44   /content/gdrive/MyDrive/Kaggle/CNN_IDC/Dataset...  class_0\n",
            "194  /content/gdrive/MyDrive/Kaggle/CNN_IDC/Dataset...  class_1\n",
            "111  /content/gdrive/MyDrive/Kaggle/CNN_IDC/Dataset...  class_1\n",
            "192  /content/gdrive/MyDrive/Kaggle/CNN_IDC/Dataset...  class_1\n",
            "102  /content/gdrive/MyDrive/Kaggle/CNN_IDC/Dataset...  class_1\n",
            "..                                                 ...      ...\n",
            "128  /content/gdrive/MyDrive/Kaggle/CNN_IDC/Dataset...  class_1\n",
            "29   /content/gdrive/MyDrive/Kaggle/CNN_IDC/Dataset...  class_0\n",
            "113  /content/gdrive/MyDrive/Kaggle/CNN_IDC/Dataset...  class_1\n",
            "66   /content/gdrive/MyDrive/Kaggle/CNN_IDC/Dataset...  class_0\n",
            "129  /content/gdrive/MyDrive/Kaggle/CNN_IDC/Dataset...  class_1\n",
            "\n",
            "[200 rows x 2 columns]\n",
            "                                                  path    label\n",
            "124  /content/gdrive/MyDrive/Kaggle/CNN_IDC/Dataset...  class_1\n",
            "53   /content/gdrive/MyDrive/Kaggle/CNN_IDC/Dataset...  class_0\n",
            "94   /content/gdrive/MyDrive/Kaggle/CNN_IDC/Dataset...  class_0\n",
            "96   /content/gdrive/MyDrive/Kaggle/CNN_IDC/Dataset...  class_0\n",
            "183  /content/gdrive/MyDrive/Kaggle/CNN_IDC/Dataset...  class_1\n",
            "..                                                 ...      ...\n",
            "79   /content/gdrive/MyDrive/Kaggle/CNN_IDC/Dataset...  class_0\n",
            "188  /content/gdrive/MyDrive/Kaggle/CNN_IDC/Dataset...  class_1\n",
            "19   /content/gdrive/MyDrive/Kaggle/CNN_IDC/Dataset...  class_0\n",
            "57   /content/gdrive/MyDrive/Kaggle/CNN_IDC/Dataset...  class_0\n",
            "147  /content/gdrive/MyDrive/Kaggle/CNN_IDC/Dataset...  class_1\n",
            "\n",
            "[200 rows x 2 columns]\n"
          ]
        }
      ]
    },
    {
      "cell_type": "code",
      "source": [
        "# train_generator"
      ],
      "metadata": {
        "id": "YyKDuRpXPXIn"
      },
      "execution_count": 10,
      "outputs": []
    },
    {
      "cell_type": "code",
      "source": [
        "from tqdm import tqdm # import tqdm\n",
        "\n",
        "# Apply gray scale to all images, flatten and store array / shape in new columns\n",
        "def get_img_arrays(df,):\n",
        "    # read each image array from corresponding path as grayscale and flatten the image array\n",
        "    df['img_array'] = df.progress_apply(lambda x : io.imread(x['path'],as_gray=True).flatten(),axis=1) # make sure to specify axis = 1\n",
        "    # get the shape of each image array and store it in the dataframe\n",
        "    df['array_shape'] = df.progress_apply(lambda x : x['img_array'].shape[0],axis=1) # make sure to specify axis = 1\n",
        "    return df\n"
      ],
      "metadata": {
        "id": "nkWYjNvnHrrn"
      },
      "execution_count": 11,
      "outputs": []
    },
    {
      "cell_type": "code",
      "source": [
        "from tqdm import tqdm # import tqdm\n",
        "tqdm.pandas() # initialize tqdm for pandas\n",
        "\n",
        "# # tqdm is a library that enables you to visualize the progress of a for loop by displaying a configurable progress bar\n",
        "\n",
        "train_generator = get_img_arrays(df = train_generator)\n",
        "val_generator = get_img_arrays(df = val_generator)\n",
        "test_generator = get_img_arrays(df = test_generator)"
      ],
      "metadata": {
        "colab": {
          "base_uri": "https://localhost:8080/"
        },
        "id": "d9iPVxRZHreQ",
        "outputId": "25147700-15bd-4aa5-d584-4f255dfc35ce"
      },
      "execution_count": 12,
      "outputs": [
        {
          "output_type": "stream",
          "name": "stderr",
          "text": [
            "100%|██████████| 800/800 [00:03<00:00, 203.70it/s]\n",
            "100%|██████████| 800/800 [00:00<00:00, 42237.12it/s]\n",
            "100%|██████████| 200/200 [00:00<00:00, 294.10it/s]\n",
            "100%|██████████| 200/200 [00:00<00:00, 29006.25it/s]\n",
            "100%|██████████| 200/200 [00:00<00:00, 260.88it/s]\n",
            "100%|██████████| 200/200 [00:00<00:00, 7961.85it/s]\n"
          ]
        }
      ]
    },
    {
      "cell_type": "code",
      "source": [
        "# print(train_generator.array_shape.value_counts())\n",
        "# print(val_generator.array_shape.value_counts())\n",
        "# print(test_generator.array_shape.value_counts())"
      ],
      "metadata": {
        "id": "wAv7RXmVQX4b"
      },
      "execution_count": 13,
      "outputs": []
    },
    {
      "cell_type": "code",
      "source": [
        "# drop these images as they add unnecessary noise to our model\n",
        "train_weird_imgs = train_generator[train_generator['array_shape'] != 2500]\n",
        "val_weird_imgs = val_generator[val_generator['array_shape'] != 2500]\n",
        "test_weird_imgs = test_generator[test_generator['array_shape'] != 2500]\n",
        "\n",
        "\n",
        "weird_imgs = train_weird_imgs.append(val_weird_imgs)\n",
        "weird_imgs = weird_imgs.append(test_weird_imgs)\n",
        "weird_imgs['dataset'] = weird_imgs['path'].str.split('/', expand=True)[7]\n",
        "weird_imgs.reset_index(drop=True)\n",
        "\n",
        "train_generator.drop(train_weird_imgs.index,inplace=True)\n",
        "val_generator.drop(val_weird_imgs.index,inplace=True)\n",
        "test_generator.drop(test_weird_imgs.index,inplace=True)\n",
        "\n",
        "# print(len(weird_imgs))\n",
        "# print(len(train_generator))\n",
        "# print(len(val_generator))\n",
        "# print(len(test_generator))\n",
        "# print(train_generator.columns)\n",
        "# val_generator.reset_index(drop=True)"
      ],
      "metadata": {
        "id": "gpOS9_alHrTY"
      },
      "execution_count": 14,
      "outputs": []
    },
    {
      "cell_type": "code",
      "source": [
        "import cv2 as cv\n",
        "import skimage.io as io\n",
        "\n",
        "def display_images(subclass):\n",
        "  fig, axes = plt.subplots(nrows=1, ncols=7, figsize=(20,8))\n",
        "  for idx, ax in enumerate(axes.flat):\n",
        "    image_wo_path = os.path.basename(subclass.path[idx])\n",
        "    # print(image_wo_path)\n",
        "    subtitle = 'Class ' + image_wo_path.rsplit('.')[0][-1] + ': ' + subclass.dataset[idx]\n",
        "    img = io.imread(subclass.path[idx])\n",
        "    ax.imshow(img)\n",
        "    # ax.axis('off')\n",
        "    ax.set_title(subtitle, size=14)   \n",
        "  fig.tight_layout() \n",
        "  plt.show() \n",
        "\n",
        "print()\n",
        "display_images(weird_imgs.reset_index(drop=True))"
      ],
      "metadata": {
        "colab": {
          "base_uri": "https://localhost:8080/",
          "height": 357
        },
        "id": "x9euSsBNHrIX",
        "outputId": "11e340ee-3abf-4fbe-9834-2056aa1c3658"
      },
      "execution_count": 15,
      "outputs": [
        {
          "output_type": "stream",
          "name": "stdout",
          "text": [
            "\n"
          ]
        },
        {
          "output_type": "display_data",
          "data": {
            "text/plain": [
              "<Figure size 1440x576 with 7 Axes>"
            ],
            "image/png": "[encoded data removed]"
          },
          "metadata": {
            "needs_background": "light"
          }
        }
      ]
    },
    {
      "cell_type": "code",
      "source": [
        "# https://faroit.com/keras-docs/0.3.3/preprocessing/image/\n",
        "data_generator = ImageDataGenerator(\n",
        "    featurewise_center = True,                     # transforms the images to 0 mean\n",
        "    featurewise_std_normalization = True,          # divide inputs by std of the dataset\n",
        "    #these are the augmentation features that you can adjust\n",
        "    # link to read more about them https://www.tensorflow.org/api_docs/python/tf/keras/preprocessing/image/ImageDataGenerator\n",
        "    zca_whitening=False,\n",
        "    zca_epsilon=1e-06,\n",
        "    rotation_range=0,\n",
        "    width_shift_range=0.0,\n",
        "    height_shift_range=0.0,\n",
        "    brightness_range=None,\n",
        "    shear_range=0.0,                  \n",
        "    zoom_range=0.0,\n",
        "    channel_shift_range=0.0,\n",
        "    fill_mode='nearest',\n",
        "    cval=0.0,\n",
        "    horizontal_flip=False,\n",
        "    vertical_flip=False,\n",
        "    rescale=None\n",
        ")\n",
        "\n",
        "data_generator = ImageDataGenerator()\n",
        "\n",
        "train_data_generator = ImageDataGenerator(\n",
        "    featurewise_center = True,               # transforms the images to 0 mean\n",
        "    featurewise_std_normalization = True,    # divide inputs by std of the dataset\n",
        "    # rescale=1./255,\n",
        "    zca_epsilon=1e-06,\n",
        "    # width_shift_range=0.2,\n",
        "    # height_shift_range=0.2,\n",
        "    rotation_range=10,                # randomly rotate image by 10 degrees\n",
        "    shear_range=0.2,                  # distort image along an axis mostly to create or recify the perception angles\n",
        "    zoom_range=0.2,                   # zomming image: zoom_range > 1 => zoom out, zoom_range < 1 => zoom in\n",
        "    fill_mode='nearest',              # when the image is rotated, some pixels will move outside the image and leave an empty area that needs to be filled in, 'nearest': simply replace the empty area with the nearest spectral values.\n",
        "    horizontal_flip=True\n",
        ")\n",
        "\n",
        "# ========================================================================\n",
        "train_data_generator = train_data_generator.flow_from_dataframe(\n",
        "    train_generator,\n",
        "    directory = None,\n",
        "    x_col =  'path',\n",
        "    y_col =  'label',\n",
        "    weight_col=None,\n",
        "    target_size=(50, 50),\n",
        "    color_mode=\"grayscale\",\n",
        "    class_mode=\"categorical\",\n",
        "    batch_size=32,\n",
        "    shuffle=True\n",
        "    # seed=1234\n",
        "    # validate_filenames=True\n",
        ")\n",
        "\n",
        "validation_data_generator = data_generator.flow_from_dataframe(\n",
        "    val_generator,\n",
        "    directory = None,\n",
        "    x_col =  'path',\n",
        "    y_col =  'label',\n",
        "    weight_col=None,\n",
        "    target_size=(50, 50),\n",
        "    color_mode=\"grayscale\",\n",
        "    class_mode=\"categorical\",\n",
        "    batch_size=32,\n",
        "    shuffle=True\n",
        "    # seed=1234\n",
        "    # validate_filenames=True\n",
        ")\n",
        "\n",
        "test_data_generator = data_generator.flow_from_dataframe(\n",
        "    test_generator,\n",
        "    directory = None,\n",
        "    x_col =  'path',\n",
        "    y_col =  'label',\n",
        "    weight_col=None,\n",
        "    target_size=(50, 50),\n",
        "    color_mode=\"grayscale\",\n",
        "    class_mode=\"categorical\",\n",
        "    batch_size=32,\n",
        "    shuffle=False              # Kesha set to shuffle=True but we don't want to shuffle our testing data around, which it does so by default\n",
        "    # seed=1234\n",
        "    # validate_filenames=True\n",
        ")"
      ],
      "metadata": {
        "id": "eC0S3je4Jnwb",
        "outputId": "829867bd-a87f-43b1-e62a-55575a5e383c",
        "colab": {
          "base_uri": "https://localhost:8080/"
        }
      },
      "execution_count": 16,
      "outputs": [
        {
          "output_type": "stream",
          "name": "stdout",
          "text": [
            "Found 797 validated image filenames belonging to 2 classes.\n",
            "Found 197 validated image filenames belonging to 2 classes.\n",
            "Found 199 validated image filenames belonging to 2 classes.\n"
          ]
        }
      ]
    },
    {
      "cell_type": "code",
      "source": [
        "# # https://faroit.com/keras-docs/0.3.3/preprocessing/image/\n",
        "# datagen = ImageDataGenerator(\n",
        "#     featurewise_center = True,\n",
        "#     featurewise_std_normalization = True,\n",
        "#     # rescale=1./255\n",
        "#     zca_whitening=False,\n",
        "#     zca_epsilon=1e-06,\n",
        "#     rotation_range=0,\n",
        "#     width_shift_range=0.0,\n",
        "#     height_shift_range=0.0,\n",
        "#     brightness_range=None,\n",
        "#     shear_range=0.0,                  # distort image along an axis mostly to create or recify the perception angles\n",
        "#     zoom_range=0.0,\n",
        "#     channel_shift_range=0.0,\n",
        "#     fill_mode='nearest',\n",
        "#     cval=0.0,\n",
        "#     horizontal_flip=False,\n",
        "#     vertical_flip=False,\n",
        "#     rescale=None\n",
        "# )\n",
        "\n",
        "\n",
        "# train_datagen = ImageDataGenerator(\n",
        "#     featurewise_center = True,               # transforms the images to 0 mean\n",
        "#     featurewise_std_normalization = True,    # divide inputs by std of the dataset\n",
        "#     # rescale=1./255,\n",
        "#     zca_epsilon=1e-06,\n",
        "#     # width_shift_range=0.2,\n",
        "#     # height_shift_range=0.2,\n",
        "#     rotation_range=10,                # randomly rotate image by 10 degrees\n",
        "#     shear_range=0.2,                  # distort image along an axis mostly to create or recify the perception angles\n",
        "#     zoom_range=0.2,                   # zomming image: zoom_range > 1 => zoom out, zoom_range < 1 => zoom in\n",
        "#     fill_mode='nearest',              # when the image is rotated, some pixels will move outside the image and leave an empty area that needs to be filled in, 'nearest': simply replace the empty area with the nearest spectral values.\n",
        "#     horizontal_flip=True\n",
        "# )\n",
        "\n",
        "# # val_datagen = ImageDataGenerator(\n",
        "# #     featurewise_center = True,\n",
        "# #     featurewise_std_normalization = True\n",
        "# #     # rescale=1./255\n",
        "# # )\n",
        "\n",
        "# # ================================================================\n",
        "\n",
        "# train_data_generator = train_datagen.flow_from_dataframe(\n",
        "#     train_generator,\n",
        "#     directory = None,\n",
        "#     x_col =  'path',\n",
        "#     y_col =  'label',\n",
        "#     weight_col=None,\n",
        "#     target_size=(50, 50),\n",
        "#     color_mode=\"grayscale\",\n",
        "#     class_mode=\"categorical\",\n",
        "#     # class_mode=\"binary\",\n",
        "#     batch_size=32,\n",
        "#     shuffle=True,\n",
        "#     seed=7\n",
        "#     # validate_filenames=True\n",
        "# )\n",
        "\n",
        "# validation_data_generator = datagen.flow_from_dataframe(\n",
        "#     val_generator,\n",
        "#     directory = None,\n",
        "#     x_col =  'path',\n",
        "#     y_col =  'label',\n",
        "#     weight_col=None,\n",
        "#     target_size=(50, 50),\n",
        "#     color_mode=\"grayscale\",\n",
        "#     class_mode=\"categorical\",\n",
        "#     # class_mode=\"binary\",\n",
        "#     batch_size=32,\n",
        "#     shuffle=True,\n",
        "#     seed=7\n",
        "#     # validate_filenames=True\n",
        "# )\n",
        "# test_data_generator = datagen.flow_from_dataframe(\n",
        "#     test_generator,\n",
        "#     directory = None,\n",
        "#     x_col =  'path',\n",
        "#     y_col =  'label',\n",
        "#     weight_col=None,\n",
        "#     target_size=(50, 50),\n",
        "#     color_mode=\"grayscale\",\n",
        "#     class_mode=\"categorical\",\n",
        "#     # class_mode=\"binary\",\n",
        "#     batch_size=32,\n",
        "#     shuffle=False,\n",
        "#     seed=7\n",
        "#     # validate_filenames=True\n",
        "# )"
      ],
      "metadata": {
        "id": "8fP_vx4McIbm"
      },
      "execution_count": 17,
      "outputs": []
    },
    {
      "cell_type": "markdown",
      "source": [
        "# Build CNN Model"
      ],
      "metadata": {
        "id": "I19l1YOYsfOG"
      }
    },
    {
      "cell_type": "code",
      "source": [
        "img_height = 50\n",
        "img_width = 50\n",
        "img_channel = 1\n",
        "input_shape = (img_height, img_width, img_channel)\n",
        "# from tensorflow.keras.layers import RandomFlip, RandomZoom, RandomRotation, Conv2D, MaxPooling2D, AveragePooling2D, Input, Dense, Flatten, Dropout, BatchNormalization"
      ],
      "metadata": {
        "id": "OQcHdDdYJnol"
      },
      "execution_count": 18,
      "outputs": []
    },
    {
      "cell_type": "code",
      "source": [
        "# def get_doc_id_model():\n",
        "#   return tf.keras.Sequential([\n",
        "#                           # 1st Cov2d layer with input shape\n",
        "#                            keras.layers.Conv2D(input_shape = input_shape, \n",
        "#                                                filters=32, \n",
        "#                                                kernel_size=(3, 3),\n",
        "#                                                padding='same',          # means add enough padding to the image so that the output feature map has the same dimension as the initial image. \n",
        "#                                                activation='relu'),\n",
        "#                            # 1st BatchNormalization layer\n",
        "#                            BatchNormalization(),\n",
        "\n",
        "#                            # 1st MaxPooling2D layer\n",
        "#                            keras.layers.MaxPooling2D(pool_size=(2, 2),\n",
        "#                                                   strides=(2, 2)),\n",
        "                              \n",
        "#                            # 2nd Cov2d layer\n",
        "#                            keras.layers.Conv2D(filters=64, \n",
        "#                                                kernel_size=(3, 3), \n",
        "#                                                padding='same', \n",
        "#                                                activation='relu'),\n",
        "#                           # 2nd BatchNormalization layer\n",
        "#                            BatchNormalization(),\n",
        "\n",
        "#                           # 2nd MaxPooling2D layer \n",
        "#                            keras.layers.MaxPooling2D(pool_size=(2, 2),\n",
        "#                                                   strides=(2, 2)),\n",
        "                          \n",
        "#                           # 3rd Cov2d layer\n",
        "#                            keras.layers.Conv2D(filters=128, \n",
        "#                                                kernel_size=(3, 3), \n",
        "#                                                padding='same', \n",
        "#                                                activation='relu'),\n",
        "#                           # 3rd BatchNormalization layer\n",
        "#                            BatchNormalization(),\n",
        "\n",
        "#                           # 3rd MaxPooling2D layer\n",
        "#                            keras.layers.MaxPooling2D(pool_size=(2, 2), \n",
        "#                                                   strides=(2, 2)),\n",
        "                              \n",
        "#                           # flatten layer\n",
        "#                            keras.layers.Flatten(),\n",
        "                           \n",
        "#                           #  fully connected layer\n",
        "#                            keras.layers.Dense(units = 256, \n",
        "#                                               activation = 'relu'),\n",
        "                              \n",
        "#                           # 4th BatchNormalization layer\n",
        "#                            BatchNormalization(),\n",
        "\n",
        "#                           # dropout layer\n",
        "#                           Dropout(rate=0.6),\n",
        "                           \n",
        "#                           #  keras.layers.Dense(units = 512, \n",
        "#                           #                     activation = 'relu'),\n",
        "\n",
        "#                           #  Output layer - need 2 neurons with softmax (multi-class) activation\n",
        "#                            keras.layers.Dense(units = 2, \n",
        "#                                               activation = 'softmax')\n",
        "                           \n",
        "#                           #  Output layer - need 1 neuron with sigmoid (binary-class) activation\n",
        "#                           #  keras.layers.Dense(units = 1, \n",
        "#                           #                     activation = 'sigmoid')\n",
        "# ])"
      ],
      "metadata": {
        "id": "htoM12PL2fix"
      },
      "execution_count": 19,
      "outputs": []
    },
    {
      "cell_type": "code",
      "source": [
        "# # Kesha's - v1 (original, wo image aug)\n",
        "# def get_doc_id_model():\n",
        "#   return tf.keras.Sequential([\n",
        "#                            Conv2D(filters=32, kernel_size=(3, 3), padding='same', activation='relu', input_shape = input_shape),\n",
        "#                           #  BatchNormalization(),\n",
        "#                            MaxPooling2D(pool_size=(2, 2), strides=(2, 2)),\n",
        "\n",
        "#                            Conv2D(filters=64, kernel_size=(3, 3), padding='same', activation='relu'),\n",
        "#                           #  BatchNormalization(),\n",
        "#                            MaxPooling2D(pool_size=(2, 2), strides=(2, 2)),\n",
        "                          \n",
        "#                            Conv2D(filters=128, kernel_size=(3, 3), padding='same', activation='relu'),\n",
        "#                           #  BatchNormalization(),\n",
        "#                            MaxPooling2D(pool_size=(2, 2), strides=(2, 2)),\n",
        "                           \n",
        "#                            Flatten(),\n",
        "#                            Dense(units = 256, activation = 'relu'),\n",
        "#                           #  BatchNormalization(),\n",
        "                           \n",
        "#                           #  Dropout(rate=0.3),\n",
        "#                            Dense(units = 2, activation = 'softmax')\n",
        "# ])\n",
        "# '''25/25 [==============================] - 4s 150ms/step - loss: 0.5277 - accuracy: 0.7353\n",
        "# Train Accuracy: 73.53%\n",
        "\n",
        "# 7/7 [==============================] - 1s 71ms/step - loss: 0.5747 - accuracy: 0.7286\n",
        "# Test Accuracy: 72.86%\n",
        "# '''"
      ],
      "metadata": {
        "id": "9tKxt2DNGHaH"
      },
      "execution_count": 20,
      "outputs": []
    },
    {
      "cell_type": "code",
      "source": [
        "# # Kesha's - v2 (with BatchNormalization, wo image aug)\n",
        "# def get_doc_id_model():\n",
        "#   return tf.keras.Sequential([\n",
        "#                            Conv2D(filters=32, kernel_size=(3, 3), padding='same', activation='relu', input_shape = input_shape),\n",
        "#                            BatchNormalization(),\n",
        "#                            MaxPooling2D(pool_size=(2, 2), strides=(2, 2)),\n",
        "\n",
        "#                            Conv2D(filters=64, kernel_size=(3, 3), padding='same', activation='relu'),\n",
        "#                            BatchNormalization(),\n",
        "#                            MaxPooling2D(pool_size=(2, 2), strides=(2, 2)),\n",
        "                          \n",
        "#                            Conv2D(filters=128, kernel_size=(3, 3), padding='same', activation='relu'),\n",
        "#                            BatchNormalization(),\n",
        "#                            MaxPooling2D(pool_size=(2, 2), strides=(2, 2)),\n",
        "                           \n",
        "#                            Flatten(),\n",
        "#                            Dense(units = 256, activation = 'relu'),\n",
        "#                            BatchNormalization(),\n",
        "                           \n",
        "#                           #  Dropout(rate=0.6),\n",
        "#                            Dense(units = 2, activation = 'softmax')\n",
        "# ])\n",
        "# '''25/25 [==============================] - 4s 146ms/step - loss: 0.4834 - accuracy: 0.7453\n",
        "# Train Accuracy: 74.53%\n",
        "\n",
        "# 7/7 [==============================] - 1s 141ms/step - loss: 0.6061 - accuracy: 0.7286\n",
        "# Test Accuracy: 72.86%\n",
        "# '''"
      ],
      "metadata": {
        "id": "rSfjTkDuIWAL"
      },
      "execution_count": 21,
      "outputs": []
    },
    {
      "cell_type": "code",
      "source": [
        "# # Kesha's - v2 (with BatchNormalization, w Dropout, wo image aug, dropout=0.2)\n",
        "def get_doc_id_model():\n",
        "  return tf.keras.Sequential([\n",
        "                           Conv2D(filters=32, kernel_size=(3, 3), padding='same', activation='relu', input_shape = input_shape),\n",
        "                           BatchNormalization(),\n",
        "                           MaxPooling2D(pool_size=(2, 2), strides=(2, 2)),\n",
        "\n",
        "                           Conv2D(filters=64, kernel_size=(3, 3), padding='same', activation='relu'),\n",
        "                           BatchNormalization(),\n",
        "                           MaxPooling2D(pool_size=(2, 2), strides=(2, 2)),\n",
        "                          \n",
        "                           Conv2D(filters=128, kernel_size=(3, 3), padding='same', activation='relu'),\n",
        "                           BatchNormalization(),\n",
        "                           MaxPooling2D(pool_size=(2, 2), strides=(2, 2)),\n",
        "                           \n",
        "                           Flatten(),\n",
        "                           Dense(units = 256, activation = 'relu'),\n",
        "                           BatchNormalization(),\n",
        "                           \n",
        "                           Dropout(rate=0.2),\n",
        "                           Dense(units = 2, activation = 'softmax')\n",
        "])\n",
        "'''25/25 [==============================] - 3s 121ms/step - loss: 0.6633 - accuracy: 0.7139\n",
        "Train Accuracy: 71.39%\n",
        "\n",
        "7/7 [==============================] - 1s 76ms/step - loss: 0.7082 - accuracy: 0.7337\n",
        "Test Accuracy: 73.37%'''"
      ],
      "metadata": {
        "colab": {
          "base_uri": "https://localhost:8080/",
          "height": 52
        },
        "id": "Lo_033F1Cl6S",
        "outputId": "76af30bf-ab9f-46c8-b2f1-0c5d96907209"
      },
      "execution_count": 22,
      "outputs": [
        {
          "output_type": "execute_result",
          "data": {
            "text/plain": [
              "'25/25 [==============================] - 3s 117ms/step - loss: 0.9784 - accuracy: 0.6587\\nTrain Accuracy: 65.87%\\n\\n7/7 [==============================] - 1s 76ms/step - loss: 1.0003 - accuracy: 0.7085\\nTest Accuracy: 70.85%'"
            ],
            "application/vnd.google.colaboratory.intrinsic+json": {
              "type": "string"
            }
          },
          "metadata": {},
          "execution_count": 22
        }
      ]
    },
    {
      "cell_type": "code",
      "source": [
        "# # Kesha's - v2 (with BatchNormalization, w Dropout, wo image aug, drop the last conv2d layer, Dense units =128)\n",
        "def get_doc_id_model():\n",
        "  return tf.keras.Sequential([\n",
        "                           Conv2D(filters=32, kernel_size=(3, 3), padding='same', activation='relu', input_shape = input_shape),\n",
        "                           BatchNormalization(),\n",
        "                           MaxPooling2D(pool_size=(2, 2), strides=(2, 2)),\n",
        "\n",
        "                           Conv2D(filters=64, kernel_size=(3, 3), padding='same', activation='relu'),\n",
        "                           BatchNormalization(),\n",
        "                           MaxPooling2D(pool_size=(2, 2), strides=(2, 2)),\n",
        "                          \n",
        "                          #  Conv2D(filters=128, kernel_size=(3, 3), padding='same', activation='relu'),\n",
        "                          #  BatchNormalization(),\n",
        "                          #  MaxPooling2D(pool_size=(2, 2), strides=(2, 2)),\n",
        "                           \n",
        "                           Flatten(),\n",
        "                           Dense(units = 256, activation = 'relu'),\n",
        "                           BatchNormalization(),\n",
        "                           \n",
        "                           Dropout(rate=0.6),\n",
        "                           Dense(units = 2, activation = 'softmax')\n",
        "])\n",
        "# '''25/25 [==============================] - 3s 112ms/step - loss: 0.6286 - accuracy: 0.7287\n",
        "# Train Accuracy: 72.87%\n",
        "\n",
        "# 7/7 [==============================] - 1s 81ms/step - loss: 0.8259 - accuracy: 0.7350\n",
        "# Test Accuracy: 73.50%\n",
        "# '''"
      ],
      "metadata": {
        "id": "0bkU95lGKP7o"
      },
      "execution_count": 23,
      "outputs": []
    },
    {
      "cell_type": "code",
      "source": [
        "# # Kesha's - v2 (with BatchNormalization, w Dropout, wo image aug, drop the last conv2d layer, Dense units =128)\n",
        "def get_doc_id_model():\n",
        "  return tf.keras.Sequential([\n",
        "                           Conv2D(filters=32, kernel_size=(3, 3), padding='same', activation='relu', input_shape = input_shape),\n",
        "                           BatchNormalization(),\n",
        "                           MaxPooling2D(pool_size=(2, 2), strides=(2, 2)),\n",
        "\n",
        "                           Conv2D(filters=64, kernel_size=(3, 3), padding='same', activation='relu'),\n",
        "                           BatchNormalization(),\n",
        "                           MaxPooling2D(pool_size=(2, 2), strides=(2, 2)),\n",
        "                          \n",
        "                          #  Conv2D(filters=128, kernel_size=(3, 3), padding='same', activation='relu'),\n",
        "                          #  BatchNormalization(),\n",
        "                          #  MaxPooling2D(pool_size=(2, 2), strides=(2, 2)),\n",
        "                           \n",
        "                           Flatten(),\n",
        "                           Dense(units = 256, activation = 'relu'),\n",
        "                           BatchNormalization(),\n",
        "                           \n",
        "                           Dropout(rate=0.6),\n",
        "                           Dense(units = 2, activation = 'softmax')\n",
        "])\n",
        "# '''25/25 [==============================] - 3s 112ms/step - loss: 0.6286 - accuracy: 0.7287\n",
        "# Train Accuracy: 72.87%\n",
        "\n",
        "# 7/7 [==============================] - 1s 81ms/step - loss: 0.8259 - accuracy: 0.7350\n",
        "# Test Accuracy: 73.50%\n",
        "# '''"
      ],
      "metadata": {
        "id": "xoL4NIABKuU8"
      },
      "execution_count": 24,
      "outputs": []
    },
    {
      "cell_type": "code",
      "source": [
        "# # Heesuk's - v1 (with Adam//wo image aug)\n",
        "# def get_doc_id_model():\n",
        "#   return tf.keras.Sequential([\n",
        "#                            Conv2D(filters=32, kernel_size=(3, 3), padding='same', activation='relu', input_shape = input_shape),\n",
        "#                            Conv2D(filters=32, kernel_size=(3, 3), padding='same', activation='relu'),\n",
        "#                            BatchNormalization(),\n",
        "#                            MaxPooling2D(pool_size=(2, 2), strides=(2, 2)),\n",
        "\n",
        "#                            Conv2D(filters=64, kernel_size=(3, 3), padding='same', activation='relu'),\n",
        "#                            Conv2D(filters=64, kernel_size=(3, 3), padding='same', activation='relu'),\n",
        "#                            BatchNormalization(),\n",
        "#                            MaxPooling2D(pool_size=(2, 2), strides=(2, 2)),\n",
        "                           \n",
        "#                            Flatten(),\n",
        "#                            Dense(units = 128, activation = 'relu'),\n",
        "#                            BatchNormalization(),\n",
        "                           \n",
        "#                            Dropout(rate=0.6),\n",
        "#                            Dense(units = 2, activation = 'softmax')\n",
        "# ])\n",
        "  \n",
        "# '''25/25 [==============================] - 4s 138ms/step - loss: 0.3949 - accuracy: 0.8670\n",
        "# Train Accuracy: 86.70%\n",
        "\n",
        "# 7/7 [==============================] - 1s 120ms/step - loss: 0.5256 - accuracy: 0.7889\n",
        "# Test Accuracy: 78.89%\n",
        "# '''"
      ],
      "metadata": {
        "id": "-aJNqzI4JngT"
      },
      "execution_count": 25,
      "outputs": []
    },
    {
      "cell_type": "code",
      "source": [
        "# # Heesuk's - v1 (with Adam)\n",
        "# def get_doc_id_model():\n",
        "#   return tf.keras.Sequential([\n",
        "#                            Conv2D(filters=32, kernel_size=(3, 3), padding='same', activation='relu', input_shape = input_shape),\n",
        "#                           #  Conv2D(filters=32, kernel_size=(3, 3), padding='same', activation='relu'),\n",
        "#                            BatchNormalization(),\n",
        "#                            MaxPooling2D(pool_size=(2, 2), strides=(2, 2)),\n",
        "\n",
        "#                            Conv2D(filters=64, kernel_size=(3, 3), padding='same', activation='relu'),\n",
        "#                           #  Conv2D(filters=64, kernel_size=(3, 3), padding='same', activation='relu'),\n",
        "#                            BatchNormalization(),\n",
        "#                            MaxPooling2D(pool_size=(2, 2), strides=(2, 2)),\n",
        "                           \n",
        "#                            Flatten(),\n",
        "#                            Dense(units = 128, activation = 'relu'),\n",
        "#                            BatchNormalization(),\n",
        "                           \n",
        "#                            Dropout(rate=0.4),\n",
        "#                            Dense(units = 2, activation = 'softmax')\n",
        "# ])\n",
        "  \n",
        "# '''25/25 [==============================] - 3s 127ms/step - loss: 0.7567 - accuracy: 0.6612\n",
        "# Train Accuracy: 66.12%\n",
        "\n",
        "# 7/7 [==============================] - 1s 96ms/step - loss: 0.6960 - accuracy: 0.7100\n",
        "# Test Accuracy: 71.00%\n",
        "# '''"
      ],
      "metadata": {
        "id": "Z0ziG4Pz9Bd5"
      },
      "execution_count": 26,
      "outputs": []
    },
    {
      "cell_type": "code",
      "source": [
        "def model_compile(optimizer='adam', learning_rate = 0.001):\n",
        "  model = get_doc_id_model()\n",
        "\n",
        "  # select optimizer\n",
        "  def selected_optimizer(optimizer):\n",
        "      if optimizer.lower() == 'sgd':\n",
        "          return SGD(learning_rate=learning_rate)\n",
        "      if optimizer.lower() == 'adam':\n",
        "          return Adam(learning_rate=learning_rate)\n",
        "\n",
        "  model.compile(optimizer=selected_optimizer(optimizer), \n",
        "                      loss=keras.losses.categorical_crossentropy, \n",
        "                      metrics=['accuracy'])\n",
        "  model.summary()\n",
        "  return model\n",
        "\n",
        "model = model_compile(optimizer='Adam', learning_rate = 0.001)"
      ],
      "metadata": {
        "id": "8FPJqXiDJnZC",
        "outputId": "c2ad0a60-7355-4c8e-d635-658180faee92",
        "colab": {
          "base_uri": "https://localhost:8080/"
        }
      },
      "execution_count": 27,
      "outputs": [
        {
          "output_type": "stream",
          "name": "stdout",
          "text": [
            "Model: \"sequential\"\n",
            "_________________________________________________________________\n",
            " Layer (type)                Output Shape              Param #   \n",
            "=================================================================\n",
            " conv2d (Conv2D)             (None, 50, 50, 32)        320       \n",
            "                                                                 \n",
            " batch_normalization (BatchN  (None, 50, 50, 32)       128       \n",
            " ormalization)                                                   \n",
            "                                                                 \n",
            " max_pooling2d (MaxPooling2D  (None, 25, 25, 32)       0         \n",
            " )                                                               \n",
            "                                                                 \n",
            " conv2d_1 (Conv2D)           (None, 25, 25, 64)        18496     \n",
            "                                                                 \n",
            " batch_normalization_1 (Batc  (None, 25, 25, 64)       256       \n",
            " hNormalization)                                                 \n",
            "                                                                 \n",
            " max_pooling2d_1 (MaxPooling  (None, 12, 12, 64)       0         \n",
            " 2D)                                                             \n",
            "                                                                 \n",
            " conv2d_2 (Conv2D)           (None, 12, 12, 128)       73856     \n",
            "                                                                 \n",
            " batch_normalization_2 (Batc  (None, 12, 12, 128)      512       \n",
            " hNormalization)                                                 \n",
            "                                                                 \n",
            " max_pooling2d_2 (MaxPooling  (None, 6, 6, 128)        0         \n",
            " 2D)                                                             \n",
            "                                                                 \n",
            " flatten (Flatten)           (None, 4608)              0         \n",
            "                                                                 \n",
            " dense (Dense)               (None, 256)               1179904   \n",
            "                                                                 \n",
            " batch_normalization_3 (Batc  (None, 256)              1024      \n",
            " hNormalization)                                                 \n",
            "                                                                 \n",
            " dropout (Dropout)           (None, 256)               0         \n",
            "                                                                 \n",
            " dense_1 (Dense)             (None, 2)                 514       \n",
            "                                                                 \n",
            "=================================================================\n",
            "Total params: 1,275,010\n",
            "Trainable params: 1,274,050\n",
            "Non-trainable params: 960\n",
            "_________________________________________________________________\n"
          ]
        }
      ]
    },
    {
      "cell_type": "markdown",
      "source": [
        "## Hyperparameter Tuning\n",
        "- **ReduceLROnPlateau**: A scheduling technique that monitors a particular quantity and decays the learning rate when the quantity is stop improving.\n",
        "- **ModelCheckpoint**: A sch\n",
        "- **BatchNormalization**: A feature that we add between the layers of neural network and it continuously takes the output from the previous layer and normalizes it before sending it to the next layer thereby helping stablizing the NN"
      ],
      "metadata": {
        "id": "VSOHSO4Mbyk6"
      }
    },
    {
      "cell_type": "code",
      "source": [
        "def model_fit(model, train_data_generator, validation_data_generator, epochs=7):  \n",
        "  lr_reduce = ReduceLROnPlateau(monitor='val_accuracy', factor=0.1, min_delta=0.0001, patience=1, verbose=1)\n",
        "\n",
        "  file_path = 'weights.hdf5'    # save the weights and biases\n",
        "  checkpoint = ModelCheckpoint(file_path, monitor='val_accuracy', verbose=1, save_best_only=True, mode='max')\n",
        "\n",
        "  history = model.fit(train_data_generator,\n",
        "                  epochs=epochs,\n",
        "                  callbacks=[lr_reduce, checkpoint],\n",
        "                  validation_data = validation_data_generator)\n",
        "  return history"
      ],
      "metadata": {
        "id": "1aK-mML9JnID"
      },
      "execution_count": 28,
      "outputs": []
    },
    {
      "cell_type": "code",
      "source": [
        "def model_fit_and_plot_loss_acc():\n",
        "  history = model_fit(model, train_data_generator, validation_data_generator, epochs=7)\n",
        "  hist = history.history\n",
        "  x_arr = np.arange(len(hist['loss'])) + 1\n",
        "\n",
        "  fig = plt.figure(figsize=(16,6))\n",
        "  ax = fig.add_subplot(1,2,1)\n",
        "  ax.plot(x_arr, hist['loss'], '-o', label='Train Loss')\n",
        "  ax.plot(x_arr, hist['val_loss'], '--<', label='Validation Loss')\n",
        "  ax.legend(fontsize=12)\n",
        "  ax.set_xlabel('Epoch', size=14)\n",
        "  ax.set_ylabel('Loss', size=14)\n",
        "  ax.set_title('Loss', size=20)\n",
        "\n",
        "  ax = fig.add_subplot(1,2,2)\n",
        "  ax.plot(x_arr, hist['accuracy'], '-o', label='Train Acc.')\n",
        "  ax.plot(x_arr, hist['val_accuracy'], '--<', label='Validation Acc.')\n",
        "  ax.legend(fontsize=12)\n",
        "  ax.set_xlabel('Epoch', size=14)\n",
        "  ax.set_ylabel('Accuracy', size=14)\n",
        "  ax.set_title('Accuracy', size=20);\n",
        "\n",
        "model_fit_and_plot_loss_acc()"
      ],
      "metadata": {
        "id": "v1a4RY1gK5kg",
        "outputId": "6005290a-8f0a-41f5-a90e-3cd009ab7fea",
        "colab": {
          "base_uri": "https://localhost:8080/",
          "height": 969
        }
      },
      "execution_count": 29,
      "outputs": [
        {
          "output_type": "stream",
          "name": "stdout",
          "text": [
            "Epoch 1/7\n",
            "25/25 [==============================] - ETA: 0s - loss: 0.8462 - accuracy: 0.6964\n",
            "Epoch 1: val_accuracy improved from -inf to 0.49239, saving model to weights.hdf5\n",
            "25/25 [==============================] - 17s 576ms/step - loss: 0.8462 - accuracy: 0.6964 - val_loss: 9.1245 - val_accuracy: 0.4924 - lr: 0.0010\n",
            "Epoch 2/7\n",
            "25/25 [==============================] - ETA: 0s - loss: 0.5331 - accuracy: 0.7578\n",
            "Epoch 2: ReduceLROnPlateau reducing learning rate to 0.00010000000474974513.\n",
            "\n",
            "Epoch 2: val_accuracy did not improve from 0.49239\n",
            "25/25 [==============================] - 8s 303ms/step - loss: 0.5331 - accuracy: 0.7578 - val_loss: 7.8778 - val_accuracy: 0.4924 - lr: 0.0010\n",
            "Epoch 3/7\n",
            "25/25 [==============================] - ETA: 0s - loss: 0.5226 - accuracy: 0.7528\n",
            "Epoch 3: ReduceLROnPlateau reducing learning rate to 1.0000000474974514e-05.\n",
            "\n",
            "Epoch 3: val_accuracy did not improve from 0.49239\n",
            "25/25 [==============================] - 8s 304ms/step - loss: 0.5226 - accuracy: 0.7528 - val_loss: 5.4488 - val_accuracy: 0.4924 - lr: 1.0000e-04\n",
            "Epoch 4/7\n",
            "25/25 [==============================] - ETA: 0s - loss: 0.4719 - accuracy: 0.7892\n",
            "Epoch 4: val_accuracy improved from 0.49239 to 0.49746, saving model to weights.hdf5\n",
            "25/25 [==============================] - 8s 304ms/step - loss: 0.4719 - accuracy: 0.7892 - val_loss: 2.9780 - val_accuracy: 0.4975 - lr: 1.0000e-05\n",
            "Epoch 5/7\n",
            "25/25 [==============================] - ETA: 0s - loss: 0.4929 - accuracy: 0.7854\n",
            "Epoch 5: val_accuracy improved from 0.49746 to 0.55330, saving model to weights.hdf5\n",
            "25/25 [==============================] - 8s 305ms/step - loss: 0.4929 - accuracy: 0.7854 - val_loss: 1.6791 - val_accuracy: 0.5533 - lr: 1.0000e-05\n",
            "Epoch 6/7\n",
            "25/25 [==============================] - ETA: 0s - loss: 0.4719 - accuracy: 0.7942\n",
            "Epoch 6: val_accuracy improved from 0.55330 to 0.63452, saving model to weights.hdf5\n",
            "25/25 [==============================] - 8s 305ms/step - loss: 0.4719 - accuracy: 0.7942 - val_loss: 1.0950 - val_accuracy: 0.6345 - lr: 1.0000e-05\n",
            "Epoch 7/7\n",
            "25/25 [==============================] - ETA: 0s - loss: 0.4734 - accuracy: 0.7742\n",
            "Epoch 7: val_accuracy improved from 0.63452 to 0.67005, saving model to weights.hdf5\n",
            "25/25 [==============================] - 8s 301ms/step - loss: 0.4734 - accuracy: 0.7742 - val_loss: 0.8275 - val_accuracy: 0.6701 - lr: 1.0000e-05\n"
          ]
        },
        {
          "output_type": "display_data",
          "data": {
            "text/plain": [
              "<Figure size 1152x432 with 2 Axes>"
            ],
            "image/png": "[encoded data removed]"
          },
          "metadata": {
            "needs_background": "light"
          }
        }
      ]
    },
    {
      "cell_type": "code",
      "source": [
        "def model_evaluate(model, train_data_generator, test_data_generator):\n",
        "  eval_train = model.evaluate(train_data_generator)\n",
        "  print(f'Train Accuracy: {eval_train[1]*100:.2f}%')\n",
        "  print()\n",
        "  eval_test = model.evaluate(test_data_generator)\n",
        "  print(f'Test Accuracy: {eval_test[1]*100:.2f}%\\n')\n",
        "\n",
        "model_evaluate(model, train_data_generator, test_data_generator)"
      ],
      "metadata": {
        "id": "YEAMNOELK5bA",
        "outputId": "858f9433-381f-45d6-c682-f5abf219df97",
        "colab": {
          "base_uri": "https://localhost:8080/"
        }
      },
      "execution_count": 30,
      "outputs": [
        {
          "output_type": "stream",
          "name": "stdout",
          "text": [
            "25/25 [==============================] - 3s 121ms/step - loss: 0.6633 - accuracy: 0.7139\n",
            "Train Accuracy: 71.39%\n",
            "\n",
            "7/7 [==============================] - 1s 76ms/step - loss: 0.7082 - accuracy: 0.7337\n",
            "Test Accuracy: 73.37%\n",
            "\n"
          ]
        }
      ]
    },
    {
      "cell_type": "code",
      "source": [
        "def error_analysis(test_labels, test_data_generator):\n",
        "  num_of_test_samples = len(test_labels)\n",
        "  batch_size = 32\n",
        "\n",
        "  y_true = test_data_generator.classes\n",
        "  y_pred = model.predict_generator(test_data_generator, num_of_test_samples // batch_size + 1)\n",
        "  y_pred = np.argmax(y_pred, axis=1)     # return the indicies of the max values along the axis (axis=1: each row)\n",
        "\n",
        "  # Confusion matrix\n",
        "  plt.figure(figsize=(6,5))\n",
        "  conf_max = confusion_matrix(y_true, y_pred)\n",
        "  sns.heatmap(conf_max, annot=True, cmap='coolwarm', annot_kws={'fontsize':18}, linewidth=0.5, fmt='d')\n",
        "  \n",
        "  plt.xlabel('Predicted Label', fontsize=14)\n",
        "  plt.ylabel('True Label', fontsize=14)\n",
        "  plt.title('Confusion Matrix for IDC Breast Cancer', fontsize=15)\n",
        "  plt.tight_layout()\n",
        "  \n",
        "  # Classification report\n",
        "  print('=============== Classification Report ===============\\n\\n', classification_report(y_true, y_pred, target_names=['Non-IDC', 'IDC']), '\\n=====================================================\\n')\n",
        "\n",
        "  # Precision, recall, f1_score\n",
        "  # tn, fp, fn, tp = confusion_matrix(y_true, y_pred).ravel()     # np.ravel(): returns contiguous flattened array (1D array with all the input-array elements and with the same type as it)\n",
        "  # print(f'============ Precision, Recall, F1_Score ============\\n\\nTrue Negatives (TN): {tn}\\nTrue Positives (TP): {tp}\\nFalse Negatives (FN): {fn}\\nFalse Positives (FP): {fp}')\n",
        "  # precision = tp/(tp+fp)\n",
        "  # recall = tp/(tp+fn)\n",
        "  # f1_score = (2*precision*recall)/(precision+recall)\n",
        "  # print(f'\\nRecall of the model = {round(recall, 2)}\\nPrecision of the model = {round(precision, 2)}\\nF1_Score of the model = {round(f1_score, 2)}\\n\\n====================================================\\n')\n",
        "\n",
        "  # Area under the ROC cuver\n",
        "  roc_log = roc_auc_score(y_true, y_pred)\n",
        "  false_positive_rate, true_positive_rate, threshold = roc_curve(y_true, y_pred)\n",
        "  area_under_curve = auc(false_positive_rate, true_positive_rate)\n",
        "  \n",
        "  plt.figure(figsize=(6,5))\n",
        "  plt.plot([0, 1], [0, 1], 'r--')  \n",
        "  plt.plot(false_positive_rate, true_positive_rate, label='ROC-AUC = {:.2f}'.format(area_under_curve))  \n",
        "  plt.xlabel('False positive rate', fontsize=14)\n",
        "  plt.ylabel('True positive rate', fontsize=14)\n",
        "  plt.title('ROC curve', fontsize=18)\n",
        "  plt.legend(loc='best')\n",
        "  plt.show()\n",
        "  print(f'\\n=====================================================\\nROC-AUC Score = {round(area_under_curve, 2)}')\n",
        "  #plt.savefig(ROC_PLOT_FILE, bbox_inches='tight')\n",
        "  plt.close()\n",
        "  \n",
        "error_analysis(test_labels, test_data_generator)"
      ],
      "metadata": {
        "colab": {
          "base_uri": "https://localhost:8080/",
          "height": 988
        },
        "id": "Ecu2NAgsjmPp",
        "outputId": "7030a0f3-3482-4dc7-a48b-b94a8a56ac7d"
      },
      "execution_count": 31,
      "outputs": [
        {
          "output_type": "stream",
          "name": "stdout",
          "text": [
            "=============== Classification Report ===============\n",
            "\n",
            "               precision    recall  f1-score   support\n",
            "\n",
            "     Non-IDC       0.69      0.86      0.76        99\n",
            "         IDC       0.81      0.61      0.70       100\n",
            "\n",
            "    accuracy                           0.73       199\n",
            "   macro avg       0.75      0.73      0.73       199\n",
            "weighted avg       0.75      0.73      0.73       199\n",
            " \n",
            "=====================================================\n",
            "\n"
          ]
        },
        {
          "output_type": "display_data",
          "data": {
            "text/plain": [
              "<Figure size 432x360 with 2 Axes>"
            ],
            "image/png": "[encoded data removed]"
          },
          "metadata": {
            "needs_background": "light"
          }
        },
        {
          "output_type": "display_data",
          "data": {
            "text/plain": [
              "<Figure size 432x360 with 1 Axes>"
            ],
            "image/png": "[encoded data removed]"
          },
          "metadata": {
            "needs_background": "light"
          }
        },
        {
          "output_type": "stream",
          "name": "stdout",
          "text": [
            "\n",
            "=====================================================\n",
            "ROC-AUC Score = 0.73\n"
          ]
        }
      ]
    },
    {
      "cell_type": "markdown",
      "source": [
        "# Transfer Learning\n",
        "- **ResNet152V2**\n",
        "- **VGG16**\n",
        "- **VGG19**"
      ],
      "metadata": {
        "id": "BvAUHEGdGpLk"
      }
    },
    {
      "cell_type": "code",
      "source": [
        "from tensorflow.keras.applications import ResNet152V2, VGG16, VGG19\n",
        "\n",
        "# https://keras.io/api/applications/\n",
        "tf.keras.backend.clear_session()\n",
        "tf.random.set_seed(1234)\n",
        "\n",
        "input_shape = (50,50,3)\n",
        "vgg16_base_model = VGG16(input_shape=input_shape, include_top=False, weights='imagenet')\n",
        "vgg19_base_model = VGG19(input_shape=input_shape, include_top=False, weights='imagenet')\n",
        "resnet_base_model = ResNet152V2(input_shape=input_shape, include_top=False, weights='imagenet')\n",
        "\n",
        "# vgg16_base_model.summary()\n",
        "# vgg19_base_model.summary()\n",
        "# resnet_base_model.summary()"
      ],
      "metadata": {
        "id": "eo-HTvErGn6D"
      },
      "execution_count": 32,
      "outputs": []
    },
    {
      "cell_type": "code",
      "source": [
        "def get_doc_id_model_tl(model_tl):\n",
        "  return tf.keras.Sequential([\n",
        "                           model_tl,                           \n",
        "                           Flatten(),\n",
        "\n",
        "                           Dense(units = 1024, activation = 'relu'),\n",
        "                           BatchNormalization(),                           \n",
        "                           Dropout(rate=0.5),\n",
        "\n",
        "                           Dense(units = 128, activation = 'relu'),\n",
        "                           BatchNormalization(),                           \n",
        "                           Dropout(rate=0.4),\n",
        "\n",
        "                           Dense(units = 2, activation = 'softmax')\n",
        "])  "
      ],
      "metadata": {
        "id": "RO1VFoNBJhVH"
      },
      "execution_count": 33,
      "outputs": []
    },
    {
      "cell_type": "code",
      "source": [
        "# freeze initial layer of the network, making only the fully connected layer we added trainable\n",
        "vgg16_base_model.trainable = False\n",
        "vgg19_base_model.trainable = False\n",
        "resnet_base_model.trainable = False\n",
        "\n",
        "# run each model\n",
        "model_vgg16 = get_doc_id_model_tl(vgg16_base_model)\n",
        "model_vgg19 = get_doc_id_model_tl(vgg19_base_model)\n",
        "model_resnet = get_doc_id_model_tl(resnet_base_model)"
      ],
      "metadata": {
        "id": "rA2dAeLpWPKD"
      },
      "execution_count": 34,
      "outputs": []
    },
    {
      "cell_type": "code",
      "source": [
        "# def model_compile_tl(model_tl, optimizer='Adam', learning_rate = 0.001):\n",
        "#   # select optimizer\n",
        "#   def selected_optimizer(optimizer):\n",
        "#       if optimizer.lower() == 'sgd':\n",
        "#           return SGD(learning_rate=learning_rate)\n",
        "#       if optimizer.lower() == 'adam':\n",
        "#           return Adam(learning_rate=learning_rate)\n",
        "\n",
        "#   model_tl.compile(optimizer=selected_optimizer(optimizer), \n",
        "#                       loss=keras.losses.categorical_crossentropy, \n",
        "#                       metrics=['accuracy'])\n",
        "#   model_tl.summary()\n",
        "#   return model_tl\n",
        "\n",
        "# model_vgg16 = model_compile_tl(model_vgg16, optimizer='Adam', learning_rate = 0.001)\n",
        "# # model_vgg19 = model_compile_tl(model_vgg19, optimizer='Adam', learning_rate = 0.001)\n",
        "# model_resnet = model_compile_tl(model_resnet, optimizer='Adam', learning_rate = 0.001)"
      ],
      "metadata": {
        "id": "SoRNd0QyXCSy"
      },
      "execution_count": 35,
      "outputs": []
    },
    {
      "cell_type": "code",
      "source": [
        "# def model_fit_tl(model_tl, train_data_generator, validation_data_generator, epochs=10):\n",
        "#   lr_reduce = ReduceLROnPlateau(monitor='val_accuracy', factor=0.1, min_delta=0.0001, patience=1, verbose=1)\n",
        "\n",
        "#   file_path = 'weights.hdf5'    # save the weights and biases\n",
        "#   checkpoint = ModelCheckpoint(file_path, monitor='val_accuracy', verbose=1, save_best_only=True, mode='max')\n",
        "\n",
        "#   history = model_tl.fit(np.repeat(train_data_generator, 3, -1),\n",
        "#                   epochs = epochs,\n",
        "#                   callbacks = [lr_reduce, checkpoint],\n",
        "#                   validation_data = np.repeat(validation_data_generator, 3, -1))\n",
        "#   return history\n",
        "\n",
        "# history_tl = model_fit_tl(model_vgg16, train_data_generator, validation_data_generator, 10)"
      ],
      "metadata": {
        "id": "3Qt3ZM7nzh3g"
      },
      "execution_count": 36,
      "outputs": []
    },
    {
      "cell_type": "code",
      "source": [
        "# def model_fit_and_plot_loss_acc(model_tl):\n",
        "#   history = model_fit_tl(model_tl, train_data_generator, validation_data_generator, 10)\n",
        "#   hist = history.history\n",
        "#   x_arr = np.arange(len(hist['loss'])) + 1\n",
        "\n",
        "#   fig = plt.figure(figsize=(16,6))\n",
        "#   ax = fig.add_subplot(1,2,1)\n",
        "#   ax.plot(x_arr, hist['loss'], '-o', label='Train Loss')\n",
        "#   ax.plot(x_arr, hist['val_loss'], '--<', label='Validation Loss')\n",
        "#   ax.legend(fontsize=12)\n",
        "#   ax.set_xlabel('Epoch', size=14)\n",
        "#   ax.set_ylabel('Loss', size=14)\n",
        "#   ax.set_title('Loss', size=20)\n",
        "\n",
        "#   ax = fig.add_subplot(1,2,2)\n",
        "#   ax.plot(x_arr, hist['accuracy'], '-o', label='Train Acc.')\n",
        "#   ax.plot(x_arr, hist['val_accuracy'], '--<', label='Validation Acc.')\n",
        "#   ax.legend(fontsize=12)\n",
        "#   ax.set_xlabel('Epoch', size=14)\n",
        "#   ax.set_ylabel('Accuracy', size=14)\n",
        "#   ax.set_title('Accuracy', size=20);\n",
        "\n",
        "# # model_fit_and_plot_loss_acc(model_vgg16)\n",
        "# # model_fit_and_plot_loss_acc(model_vgg19)\n",
        "# model_fit_and_plot_loss_acc(model_vgg16)"
      ],
      "metadata": {
        "id": "KEg8SJsb-L2g"
      },
      "execution_count": 37,
      "outputs": []
    },
    {
      "cell_type": "code",
      "source": [
        "# model_compile_tl(model_resnet, optimizer='Adam', learning_rate = 0.001)\n",
        "# model_fit_tl(model_resnet, train_data_generator, validation_data_generator, epochs=7)\n",
        "# plot_loss_acc(history_tl)\n",
        "# model_evaluate(model_resnet, train_data_generator, test_data_generator)\n",
        "# error_analysis(test_labels, test_data_generator)"
      ],
      "metadata": {
        "id": "7aLGM0Ya2VFw"
      },
      "execution_count": 38,
      "outputs": []
    },
    {
      "cell_type": "code",
      "source": [
        "# plot_loss_acc(history_tl)"
      ],
      "metadata": {
        "id": "w2oFzLEpXN9B"
      },
      "execution_count": 39,
      "outputs": []
    },
    {
      "cell_type": "code",
      "source": [
        "# model_evaluate(model_resnet, train_data_generator, test_data_generator)"
      ],
      "metadata": {
        "id": "OCISMTYyXakg"
      },
      "execution_count": 40,
      "outputs": []
    },
    {
      "cell_type": "code",
      "source": [
        "# error_analysis(test_labels, test_data_generator)"
      ],
      "metadata": {
        "id": "mTkPSXVaYYr7"
      },
      "execution_count": 41,
      "outputs": []
    },
    {
      "cell_type": "code",
      "source": [],
      "metadata": {
        "id": "p4osH_YJZXUw"
      },
      "execution_count": 41,
      "outputs": []
    }
  ]
}