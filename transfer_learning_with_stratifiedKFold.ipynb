{
  "nbformat": 4,
  "nbformat_minor": 0,
  "metadata": {
    "colab": {
      "provenance": [],
      "include_colab_link": true
    },
    "kernelspec": {
      "name": "python3",
      "display_name": "Python 3"
    },
    "language_info": {
      "name": "python"
    }
  },
  "cells": [
    {
      "cell_type": "markdown",
      "metadata": {
        "id": "view-in-github",
        "colab_type": "text"
      },
      "source": [
        "<a href=\"https://colab.research.google.com/github/heesukjang/W207_AppliedML_Fall2022/blob/main/transfer_learning_with_stratifiedKFold.ipynb\" target=\"_parent\"><img src=\"https://colab.research.google.com/assets/colab-badge.svg\" alt=\"Open In Colab\"/></a>"
      ]
    },
    {
      "cell_type": "code",
      "execution_count": 1,
      "metadata": {
        "id": "Bnls_s7-Niyz"
      },
      "outputs": [],
      "source": [
        "import pandas as pd\n",
        "import numpy as np\n",
        "import os\n",
        "import random\n",
        "import joblib\n",
        "import glob\n",
        "import random\n",
        "from itertools import product\n",
        "import gc\n",
        "import subprocess\n",
        "import shutil\n",
        "import copy\n",
        "import statistics as st\n",
        "from scipy import stats\n",
        "\n",
        "from imutils import rotate as rotate\n",
        "import cv2\n",
        "import matplotlib.pyplot as plt\n",
        "import seaborn as sns\n",
        "import plotly.express as px\n",
        "import matplotlib.patches as patches\n",
        "from matplotlib.patches import Polygon\n",
        "from sklearn.metrics import confusion_matrix\n",
        "from mlxtend.plotting import plot_confusion_matrix\n",
        "from skimage.color import gray2rgb\n",
        "import skimage.io as skio\n",
        "\n",
        "from sklearn.utils import shuffle\n",
        "from sklearn.decomposition import PCA\n",
        "from sklearn.decomposition import IncrementalPCA\n",
        "from sklearn.model_selection import train_test_split\n",
        "from sklearn.model_selection import StratifiedKFold\n",
        "from sklearn.metrics import roc_auc_score\n",
        "from sklearn.metrics import roc_curve\n",
        "from sklearn.metrics import auc\n",
        "from sklearn.metrics import classification_report\n",
        "from sklearn.model_selection import KFold\n",
        "from sklearn.model_selection import cross_val_score\n",
        "from sklearn.model_selection import cross_val_predict\n",
        "from sklearn.model_selection import StratifiedShuffleSplit\n",
        "\n",
        "import tensorflow as tf\n",
        "from tensorflow import keras\n",
        "from tensorflow.keras import layers\n",
        "from tensorflow.keras.preprocessing.image import ImageDataGenerator\n",
        "#from livelossplot import PlotLossesKeras\n",
        "\n",
        "from tensorflow.keras.layers import RandomFlip\n",
        "from tensorflow.keras.layers import RandomZoom\n",
        "from tensorflow.keras.layers import RandomRotation\n",
        "from tensorflow.keras.layers import Conv1D\n",
        "from tensorflow.keras.layers import Conv2D\n",
        "from tensorflow.keras.layers import Concatenate\n",
        "from tensorflow.keras.layers import MaxPooling1D\n",
        "from tensorflow.keras.layers import MaxPooling2D\n",
        "from tensorflow.keras.layers import AveragePooling2D\n",
        "from tensorflow.keras.layers import Input\n",
        "from tensorflow.keras.layers import Dense\n",
        "from tensorflow.keras.layers import Flatten\n",
        "from tensorflow.keras.layers import Dropout\n",
        "from tensorflow.keras.models import Sequential\n",
        "from tensorflow.keras.layers import BatchNormalization\n",
        "from tensorflow.keras.layers import GlobalMaxPooling2D\n",
        "from tensorflow.keras.layers import GlobalAveragePooling1D\n",
        "from tensorflow.keras.layers import GlobalAveragePooling2D\n",
        "from tensorflow.keras.layers import Lambda\n",
        "from tensorflow.keras.layers import Multiply\n",
        "from tensorflow.keras.layers import LSTM\n",
        "from tensorflow.keras.layers import Bidirectional\n",
        "from tensorflow.keras.layers import PReLU\n",
        "from keras.layers.core import Activation\n",
        "from keras.layers.convolutional import SeparableConv1D\n",
        "from keras.layers.convolutional import SeparableConv2D\n",
        "\n",
        "from tensorflow.keras.optimizers import Adam\n",
        "from tensorflow.keras.optimizers import RMSprop\n",
        "\n",
        "from keras.applications.vgg16 import VGG16\n",
        "from keras.applications.vgg19 import VGG19\n",
        "from keras.applications.densenet import *\n",
        "from keras.applications.resnet import ResNet152\n",
        "from keras.applications.nasnet import NASNetMobile\n",
        "from keras.applications.nasnet import NASNetLarge\n",
        "from keras.applications.nasnet import preprocess_input\n",
        "from keras.applications import MobileNetV2\n",
        "from keras.applications.xception import Xception\n",
        "from keras.applications.inception_v3 import *\n",
        "\n",
        "from tensorflow.keras.preprocessing.image import array_to_img\n",
        "from tensorflow.keras.preprocessing.image import img_to_array\n",
        "from tensorflow.keras.preprocessing.image import load_img\n",
        "from tensorflow.keras.preprocessing.image import save_img\n",
        "\n",
        "from tensorflow.python.ops.numpy_ops import np_config\n",
        "\n",
        "from keras.callbacks import ModelCheckpoint\n",
        "from keras.callbacks import EarlyStopping\n",
        "from keras.callbacks import ReduceLROnPlateau\n",
        "from keras.callbacks import LearningRateScheduler\n",
        "\n",
        "from tensorflow.keras.losses import mae\n",
        "from tensorflow.keras.losses import sparse_categorical_crossentropy\n",
        "from tensorflow.keras.losses import binary_crossentropy\n",
        "\n",
        "from keras.models import Model\n",
        "from tensorflow.keras.regularizers import l2\n",
        "from tensorflow.keras.optimizers import SGD\n",
        "from keras.models import load_model\n"
      ]
    },
    {
      "cell_type": "code",
      "source": [
        "random_state = 1234"
      ],
      "metadata": {
        "id": "m2zN53nHOdbl"
      },
      "execution_count": 2,
      "outputs": []
    },
    {
      "cell_type": "code",
      "source": [
        "def build_pretained_model(model_name):\n",
        "    \"\"\"\n",
        "    This function utilizes transfer learning of a given model.\n",
        "    \"\"\"\n",
        "    tf.random.set_seed(random_state)\n",
        "    np.random.seed(random_state)\n",
        "    tf.keras.backend.clear_session()\n",
        "    input_shape = (image_size, image_size, 3)\n",
        "    if model_name == 'VGG19':\n",
        "        pretrained_model = VGG19(weights = 'imagenet', include_top = False, input_shape = input_shape)\n",
        "    elif model_name == 'DenseNet201':\n",
        "        pretrained_model = tf.keras.applications.densenet.DenseNet201(weights = 'imagenet', include_top = False, input_shape = input_shape)\n",
        "    elif model_name == 'ResNet50':\n",
        "        pretrained_model = tf.keras.applications.resnet50.ResNet50(weights = 'imagenet', include_top = False, input_shape = input_shape)\n",
        "    elif model_name == 'VGG16':\n",
        "        pretrained_model = VGG16(weights = 'imagenet', include_top = False, input_shape = input_shape)\n",
        "    elif model_name == 'EfficientNetB7':\n",
        "        pretrained_model = tf.keras.applications.efficientnet.EfficientNetB7(weights = 'imagenet', include_top = False, input_shape = input_shape)\n",
        "    elif model_name == 'MobileNet':\n",
        "        pretrained_model = tf.keras.applications.MobileNet(weights = 'imagenet', include_top = False, input_shape = input_shape)\n",
        "    elif model_name == 'Xception':\n",
        "        pretrained_model = tf.keras.applications.Xception(weights = 'imagenet', include_top = False, input_shape = input_shape)\n",
        "    elif model_name == 'InceptionV3':\n",
        "        pretrained_model = tf.keras.applications.InceptionV3(weights = 'imagenet', include_top = False, input_shape = input_shape)\n",
        "    return pretrained_model\n"
      ],
      "metadata": {
        "id": "TQpQkoi5N07r"
      },
      "execution_count": 3,
      "outputs": []
    },
    {
      "cell_type": "code",
      "source": [
        "image_size = 96\n",
        "dropout_rate = .5\n",
        "model_name = 'ResNet50'"
      ],
      "metadata": {
        "id": "fufUTTNQOHxq"
      },
      "execution_count": 4,
      "outputs": []
    },
    {
      "cell_type": "code",
      "source": [
        "pretrained_model = build_pretained_model(model_name = model_name)\n",
        "pretrained_model.trainable = False\n",
        "        \n",
        "# Plug the pre-trained model to custom model\n",
        "print(f\"Plugging in the pretainined model for {model_name} to custom model\")\n",
        "try:\n",
        "    del model\n",
        "except:\n",
        "    None\n",
        "input_shape = (image_size, image_size, 3)\n",
        "inputs = tf.keras.Input(input_shape)\n",
        "m2 = tf.keras.layers.GlobalAveragePooling2D()(pretrained_model(inputs))\n",
        "m2 = tf.keras.layers.Dropout(dropout_rate)(m2)\n",
        "m2 = tf.keras.layers.Dense(512, activation = 'relu')(m2)\n",
        "m2 = tf.keras.layers.BatchNormalization()(m2)\n",
        "m2 = tf.keras.layers.Dropout(dropout_rate)(m2)\n",
        "m2 = tf.keras.layers.Dense(256, activation = 'relu')(m2)\n",
        "m2 = tf.keras.layers.BatchNormalization()(m2)\n",
        "m2 = tf.keras.layers.Dropout(dropout_rate)(m2)\n",
        "m2 = tf.keras.layers.Flatten()(m2)\n",
        "m2 = tf.keras.layers.Dense(1, activation = None)(m2)\n",
        "model = tf.keras.Model(inputs = inputs, outputs = m2)"
      ],
      "metadata": {
        "colab": {
          "base_uri": "https://localhost:8080/"
        },
        "id": "zMJktLhlN52U",
        "outputId": "d34550a3-8814-4b48-9583-6defa6cda27b"
      },
      "execution_count": 5,
      "outputs": [
        {
          "output_type": "stream",
          "name": "stdout",
          "text": [
            "Plugging in the pretainined model for ResNet50 to custom model\n"
          ]
        }
      ]
    },
    {
      "cell_type": "code",
      "source": [
        "tf.keras.utils.plot_model(model)"
      ],
      "metadata": {
        "colab": {
          "base_uri": "https://localhost:8080/",
          "height": 1000
        },
        "id": "1yl8KLZbOqcd",
        "outputId": "03e13bd9-1bc2-4d6c-f580-633e882d1ca2"
      },
      "execution_count": 6,
      "outputs": [
        {
          "output_type": "execute_result",
          "data": {
            "image/png": "[encoded data removed]",
            "text/plain": [
              "<IPython.core.display.Image object>"
            ]
          },
          "metadata": {},
          "execution_count": 6
        }
      ]
    },
    {
      "cell_type": "code",
      "source": [
        "!unzip -o -qq \\*.zip  && rm *.zip\n"
      ],
      "metadata": {
        "id": "AdTOcloCRQU8",
        "outputId": "27eeff60-da37-4ed0-aba1-8ef4a4e673b4",
        "colab": {
          "base_uri": "https://localhost:8080/"
        }
      },
      "execution_count": 7,
      "outputs": [
        {
          "output_type": "stream",
          "name": "stdout",
          "text": [
            "unzip:  cannot find or open *.zip, *.zip.zip or *.zip.ZIP.\n",
            "\n",
            "No zipfiles found.\n"
          ]
        }
      ]
    },
    {
      "cell_type": "code",
      "source": [
        "!rm -rf image_processing/"
      ],
      "metadata": {
        "id": "dFwV9FlsaApf"
      },
      "execution_count": 8,
      "outputs": []
    },
    {
      "cell_type": "code",
      "source": [
        "!ls -ltr Dataset"
      ],
      "metadata": {
        "colab": {
          "base_uri": "https://localhost:8080/"
        },
        "id": "WjE-qGmqW9qS",
        "outputId": "99daec69-8c3c-493b-90b5-8f56e4666b35"
      },
      "execution_count": 9,
      "outputs": [
        {
          "output_type": "stream",
          "name": "stdout",
          "text": [
            "total 12\n",
            "drwxr-xr-x 4 root root 4096 Oct  4 01:10 Test\n",
            "drwxr-xr-x 4 root root 4096 Oct  4 01:10 Train\n",
            "drwxr-xr-x 4 root root 4096 Oct  4 01:10 Validate\n"
          ]
        }
      ]
    },
    {
      "cell_type": "code",
      "source": [
        "!ls -ltr Dataset/Train/0|wc -l\n",
        "!ls -ltr Dataset/Train/1|wc -l\n",
        "\n",
        "!ls -ltr Dataset/Test/0|wc -l\n",
        "!ls -ltr Dataset/Test/1|wc -l\n",
        "\n",
        "!ls -ltr Dataset/Validate/0|wc -l\n",
        "!ls -ltr Dataset/Validate/1|wc -l"
      ],
      "metadata": {
        "colab": {
          "base_uri": "https://localhost:8080/"
        },
        "id": "rNK-XNrxXBVl",
        "outputId": "6f100c4b-f8df-4950-a019-f297e35d0c0f"
      },
      "execution_count": 10,
      "outputs": [
        {
          "output_type": "stream",
          "name": "stdout",
          "text": [
            "401\n",
            "401\n",
            "101\n",
            "101\n",
            "101\n",
            "101\n"
          ]
        }
      ]
    },
    {
      "cell_type": "code",
      "source": [
        "import pandas as pd\n",
        "import numpy as np\n",
        "import os\n",
        "import re\n",
        "import random\n",
        "import joblib\n",
        "import glob\n",
        "import itertools\n",
        "\n",
        "import matplotlib.pyplot as plt\n",
        "import seaborn as sns\n",
        "import plotly.express as px\n",
        "import matplotlib.patches as patches\n",
        "\n",
        "from tensorflow.keras.preprocessing.image import array_to_img\n",
        "from tensorflow.keras.preprocessing.image import img_to_array\n",
        "from tensorflow.keras.preprocessing.image import load_img\n",
        "from tensorflow.keras.preprocessing.image import save_img\n",
        "\n",
        "\n",
        "from sklearn.utils import shuffle\n",
        "from sklearn.ensemble import GradientBoostingClassifier, AdaBoostClassifier, RandomForestClassifier\n",
        "from sklearn.model_selection import train_test_split, GridSearchCV\n",
        "from scipy import stats\n",
        "from collections import Counter\n",
        "from sklearn import preprocessing\n",
        "from sklearn.preprocessing import StandardScaler\n",
        "from sklearn.metrics import *                            # confusion_matrix, log_loss, accuracy_score\n",
        "from sklearn.model_selection import *                    # train_test_split\n",
        "from sklearn.tree import DecisionTreeClassifier\n",
        "from sklearn.naive_bayes import GaussianNB\n",
        "from sklearn import preprocessing\n",
        "from sklearn.preprocessing import *  \n",
        "# from sklearn.ensemble import *\n",
        "from sklearn.svm import *\n",
        "from sklearn.linear_model import *                       # LinearRegression\n",
        "from sklearn.discriminant_analysis import *\n",
        "from sklearn.neighbors import KNeighborsClassifier\n",
        "from mlxtend.plotting import plot_decision_regions\n",
        "\n",
        "import tensorflow as tf\n",
        "from tensorflow import keras\n",
        "from keras import metrics\n",
        "from tensorflow.keras import initializers\n",
        "from tensorflow.keras.preprocessing.image import ImageDataGenerator\n",
        "from tensorflow.keras.layers import RandomFlip, RandomZoom, RandomRotation, Conv2D, MaxPooling2D, AveragePooling2D, Input, Dense, Flatten, Dropout, BatchNormalization, GlobalAveragePooling2D\n",
        "from tensorflow.keras.losses import BinaryCrossentropy, CategoricalCrossentropy\n",
        "from tensorflow.keras.models import Sequential\n",
        "from tensorflow.keras.optimizers import Adam, SGD, Adadelta, Adagrad, RMSprop\n",
        "from keras.layers import ReLU, LeakyReLU\n",
        "from tensorflow.keras.callbacks import ReduceLROnPlateau, ModelCheckpoint\n",
        "from keras.wrappers.scikit_learn import KerasClassifier\n",
        "from keras.layers import ReLU, LeakyReLU\n",
        "\n",
        "from sklearn.metrics import roc_auc_score, auc\n",
        "from sklearn.metrics import roc_curve\n",
        "\n",
        "tf.get_logger().setLevel('INFO')\n",
        "\n",
        "import cv2 as cv\n",
        "import skimage.io as io\n",
        "\n",
        "import warnings\n",
        "warnings.filterwarnings('ignore')\n"
      ],
      "metadata": {
        "id": "7WvBGVZaRQSU"
      },
      "execution_count": 11,
      "outputs": []
    },
    {
      "cell_type": "code",
      "source": [
        "val_image_directory = '/content/Dataset/Validate'\n",
        "train_image_directory = '/content/Dataset/Train'\n",
        "test_image_directory = '/content/Dataset/Test'\n",
        "directory_path = '/content/Dataset'\n",
        "\n",
        "tgt_directory_path = '/content/image_processing'\n",
        "tgt_train_positive_image_path = '/content/image_processing/train/positive/'\n",
        "tgt_train_negative_image_path = '/content/image_processing/train/negative/'\n",
        "tgt_val_positive_image_path = '/content/image_processing/val/positive/'\n",
        "tgt_val_negative_image_path = '/content/image_processing/val/negative/'\n",
        "tgt_test_positive_image_path = '/content/image_processing/test/positive/'\n",
        "tgt_test_negative_image_path = '/content/image_processing/test/negative/'\n",
        "\n",
        "tgt_path_list = [tgt_train_positive_image_path, tgt_train_negative_image_path,\n",
        "                 tgt_val_positive_image_path, tgt_val_negative_image_path,\n",
        "                 tgt_test_positive_image_path, tgt_test_negative_image_path\n",
        "                ]"
      ],
      "metadata": {
        "id": "UATtHsgNSRqG"
      },
      "execution_count": 12,
      "outputs": []
    },
    {
      "cell_type": "code",
      "source": [
        "train_positive_images_path = [train_image_directory + '/' +  dir + '/' for dir in os.listdir(train_image_directory) if dir != '.DS_Store'][0]\n",
        "train_negative_images_path = [train_image_directory + '/' +  dir + '/' for dir in os.listdir(train_image_directory) if dir != '.DS_Store'][1]\n",
        "\n",
        "test_positive_images_path = [test_image_directory + '/' +  dir + '/' for dir in os.listdir(test_image_directory) if dir != '.DS_Store'][0]\n",
        "test_negative_images_path = [test_image_directory + '/' +  dir + '/' for dir in os.listdir(test_image_directory) if dir != '.DS_Store'][1]\n",
        "\n",
        "val_positive_images_path = [val_image_directory + '/' +  dir + '/' for dir in os.listdir(val_image_directory) if dir != '.DS_Store'][0]\n",
        "val_negative_images_path = [val_image_directory + '/' +  dir + '/' for dir in os.listdir(val_image_directory) if dir != '.DS_Store'][1]"
      ],
      "metadata": {
        "id": "dh1GbkYSTXYy"
      },
      "execution_count": 13,
      "outputs": []
    },
    {
      "cell_type": "code",
      "source": [
        "train_positive_images_path, train_negative_images_path"
      ],
      "metadata": {
        "colab": {
          "base_uri": "https://localhost:8080/"
        },
        "id": "MsdqHbPvSP9X",
        "outputId": "1a5a1273-c73f-48fe-a5a3-896dd394bbf2"
      },
      "execution_count": 14,
      "outputs": [
        {
          "output_type": "execute_result",
          "data": {
            "text/plain": [
              "('/content/Dataset/Train/1/', '/content/Dataset/Train/0/')"
            ]
          },
          "metadata": {},
          "execution_count": 14
        }
      ]
    },
    {
      "cell_type": "code",
      "source": [
        "train_positive_images_list = [train_positive_images_path + file for file in list(os.walk(train_positive_images_path))[0][2] if file[0] != '.']\n",
        "train_negative_images_list = [train_negative_images_path + file for file in list(os.walk(train_negative_images_path))[0][2] if file[0] != '.']\n",
        "\n",
        "test_positive_images_list = [test_positive_images_path + file for file in list(os.walk(test_positive_images_path))[0][2] if file[0] != '.']\n",
        "test_negative_images_list = [test_negative_images_path + file for file in list(os.walk(test_negative_images_path))[0][2] if file[0] != '.']\n",
        "\n",
        "val_positive_images_list = [val_positive_images_path + file for file in list(os.walk(val_positive_images_path))[0][2] if file[0] != '.']\n",
        "val_negative_images_list = [val_negative_images_path + file for file in list(os.walk(val_negative_images_path))[0][2] if file[0] != '.']"
      ],
      "metadata": {
        "id": "zbL0x9QHShXm"
      },
      "execution_count": 15,
      "outputs": []
    },
    {
      "cell_type": "code",
      "source": [
        "len(train_positive_images_list + train_negative_images_list + test_positive_images_list + test_negative_images_list + val_positive_images_list + val_negative_images_list)"
      ],
      "metadata": {
        "id": "BmVWCg1geoxB",
        "outputId": "b26c3b28-8afe-49cc-d593-f52148da6554",
        "colab": {
          "base_uri": "https://localhost:8080/"
        }
      },
      "execution_count": 16,
      "outputs": [
        {
          "output_type": "execute_result",
          "data": {
            "text/plain": [
              "1200"
            ]
          },
          "metadata": {},
          "execution_count": 16
        }
      ]
    },
    {
      "cell_type": "code",
      "source": [
        "len(train_positive_images_list), len(train_negative_images_list), len(test_positive_images_list), len(test_negative_images_list), len(val_positive_images_list), len(val_negative_images_list)"
      ],
      "metadata": {
        "colab": {
          "base_uri": "https://localhost:8080/"
        },
        "id": "XNjz53EpXpb-",
        "outputId": "99fa1dfb-3108-45ac-adaf-52942e761a67"
      },
      "execution_count": 17,
      "outputs": [
        {
          "output_type": "execute_result",
          "data": {
            "text/plain": [
              "(400, 400, 100, 100, 100, 100)"
            ]
          },
          "metadata": {},
          "execution_count": 17
        }
      ]
    },
    {
      "cell_type": "code",
      "source": [
        "test_img = load_img(train_positive_images_list[0], color_mode =\"grayscale\")\n",
        "test_img_arry = img_to_array(test_img)\n",
        "print(type(test_img))\n",
        "print(test_img.format)\n",
        "print(test_img.mode)\n",
        "print(test_img.size)\n",
        "print(test_img.getbands())\n",
        "print(test_img_arry.shape)\n",
        "print(\"****\")\n",
        "test_img1 = load_img(train_positive_images_list[0])\n",
        "test_img1_arry = img_to_array(test_img1)\n",
        "print(test_img1_arry.shape)\n",
        "print(test_img1.getbands())"
      ],
      "metadata": {
        "id": "V_g0AF4Xd-LJ",
        "outputId": "3aa7456f-df6a-4ff0-9026-b6460b431aad",
        "colab": {
          "base_uri": "https://localhost:8080/"
        }
      },
      "execution_count": 18,
      "outputs": [
        {
          "output_type": "stream",
          "name": "stdout",
          "text": [
            "<class 'PIL.Image.Image'>\n",
            "None\n",
            "L\n",
            "(50, 50)\n",
            "('L',)\n",
            "(50, 50, 1)\n",
            "****\n",
            "(50, 50, 3)\n",
            "('R', 'G', 'B')\n"
          ]
        }
      ]
    },
    {
      "cell_type": "code",
      "source": [
        "odd_file_list = []\n",
        "def find_odd_shaped_files(file_list, file_size = 50):\n",
        "    for file_name in file_list:\n",
        "        test_img = load_img(file_name, color_mode =\"grayscale\")\n",
        "        test_img_arry = img_to_array(test_img)\n",
        "        if test_img_arry.shape[0] != file_size or test_img_arry.shape[1] != file_size:\n",
        "            odd_file_list.append(file_name)"
      ],
      "metadata": {
        "id": "ksYFBFjrdbFK"
      },
      "execution_count": 19,
      "outputs": []
    },
    {
      "cell_type": "code",
      "source": [
        "find_odd_shaped_files(train_positive_images_list + train_negative_images_list + test_positive_images_list + test_negative_images_list + val_positive_images_list + val_negative_images_list)"
      ],
      "metadata": {
        "id": "BewtIomPefkn"
      },
      "execution_count": 20,
      "outputs": []
    },
    {
      "cell_type": "code",
      "source": [
        "odd_file_list"
      ],
      "metadata": {
        "id": "zcBUXUXqe6Xv",
        "outputId": "4a016313-df3a-49aa-ac25-a61c246abc88",
        "colab": {
          "base_uri": "https://localhost:8080/"
        }
      },
      "execution_count": 21,
      "outputs": [
        {
          "output_type": "execute_result",
          "data": {
            "text/plain": [
              "['/content/Dataset/Train/0/12954_idx5_x1651_y2951_class0.png',\n",
              " '/content/Dataset/Train/0/13106_idx5_x1_y2951_class0.png',\n",
              " '/content/Dataset/Train/0/9347_idx5_x2101_y801_class0.png',\n",
              " '/content/Dataset/Test/0/13404_idx5_x1101_y2901_class0.png',\n",
              " '/content/Dataset/Validate/0/9320_idx5_x801_y2951_class0.png',\n",
              " '/content/Dataset/Validate/0/13694_idx5_x1551_y2801_class0.png',\n",
              " '/content/Dataset/Validate/0/12931_idx5_x1901_y2151_class0.png']"
            ]
          },
          "metadata": {},
          "execution_count": 21
        }
      ]
    },
    {
      "cell_type": "code",
      "source": [
        "train_negative_images_list[:5]"
      ],
      "metadata": {
        "colab": {
          "base_uri": "https://localhost:8080/"
        },
        "id": "oVtUbzBwSkOx",
        "outputId": "2742421a-4362-4c6d-b491-b56d7cd6d6e7"
      },
      "execution_count": 22,
      "outputs": [
        {
          "output_type": "execute_result",
          "data": {
            "text/plain": [
              "['/content/Dataset/Train/0/12895_idx5_x3401_y501_class0.png',\n",
              " '/content/Dataset/Train/0/10307_idx5_x2101_y751_class0.png',\n",
              " '/content/Dataset/Train/0/8865_idx5_x2101_y1051_class0.png',\n",
              " '/content/Dataset/Train/0/16551_idx5_x1651_y1101_class0.png',\n",
              " '/content/Dataset/Train/0/9078_idx5_x601_y1151_class0.png']"
            ]
          },
          "metadata": {},
          "execution_count": 22
        }
      ]
    },
    {
      "cell_type": "code",
      "source": [
        "train_positive_images_list[0].split(\"/\")[-1], train_positive_images_list[0][:train_positive_images_list[0].rfind(\"/\") + 1]"
      ],
      "metadata": {
        "colab": {
          "base_uri": "https://localhost:8080/"
        },
        "id": "2BcU0Mx5ShaC",
        "outputId": "d74de591-49fe-4479-def2-b23982845a2e"
      },
      "execution_count": 23,
      "outputs": [
        {
          "output_type": "execute_result",
          "data": {
            "text/plain": [
              "('9077_idx5_x1451_y1301_class1.png', '/content/Dataset/Train/1/')"
            ]
          },
          "metadata": {},
          "execution_count": 23
        }
      ]
    },
    {
      "cell_type": "code",
      "source": [
        "image_file_extension = '.png'\n",
        "root_dir = 'image_processing'\n",
        "\n",
        "train_file_positive_gs_list = []\n",
        "train_file_negative_gs_list = []\n",
        "\n",
        "val_file_positive_gs_list = []\n",
        "val_file_negative_gs_list = []\n",
        "\n",
        "test_file_positive_gs_list = []\n",
        "test_file_negative_gs_list = []"
      ],
      "metadata": {
        "id": "2ShZ66ddXu_H"
      },
      "execution_count": 24,
      "outputs": []
    },
    {
      "cell_type": "code",
      "source": [
        "os.makedirs(f'{root_dir}', exist_ok = True)\n",
        "for dir in ['train', 'val', 'test']:\n",
        "    for sub_dir in ['positive', 'negative']:\n",
        "        os.makedirs(f'{root_dir}/{dir}/{sub_dir}', exist_ok=True)"
      ],
      "metadata": {
        "id": "NuLyO5-kX9RL"
      },
      "execution_count": 25,
      "outputs": []
    },
    {
      "cell_type": "code",
      "source": [
        "def create_gs_files(file_list, dest_dir, ind):\n",
        "    #print(file_list, dest_dir, ind)\n",
        "    for image_file in file_list:\n",
        "        #print(image_file)\n",
        "        if image_file[0] == '.' or image_file in odd_file_list:\n",
        "            continue\n",
        "        img_gs = load_img(image_file, color_mode = \"grayscale\")\n",
        "        img_array_gs = img_to_array(img_gs)\n",
        "        file_name = image_file.split(\"/\")[-1]\n",
        "        save_img(dest_dir + file_name.split(\".\")[0] + '_gs' + image_file_extension, img_array_gs)\n",
        "        if ind == 1:\n",
        "            train_file_positive_gs_list.append(dest_dir + file_name.split(\".\")[0] + '_gs' + image_file_extension)\n",
        "        elif ind == 2:\n",
        "            train_file_negative_gs_list.append(dest_dir + file_name.split(\".\")[0] + '_gs' + image_file_extension)\n",
        "        elif ind == 3:\n",
        "            val_file_positive_gs_list.append(dest_dir + file_name.split(\".\")[0] + '_gs' + image_file_extension)\n",
        "        elif ind == 4:\n",
        "            val_file_negative_gs_list.append(dest_dir + file_name.split(\".\")[0] + '_gs' + image_file_extension)\n",
        "        elif ind == 5:\n",
        "            test_file_positive_gs_list.append(dest_dir + file_name.split(\".\")[0] + '_gs' + image_file_extension)\n",
        "        elif ind == 6:\n",
        "            test_file_negative_gs_list.append(dest_dir + file_name.split(\".\")[0] + '_gs' + image_file_extension)\n",
        "                "
      ],
      "metadata": {
        "id": "3-MFsdu1Shc_"
      },
      "execution_count": 26,
      "outputs": []
    },
    {
      "cell_type": "code",
      "source": [
        "len(os.listdir('/content/Dataset/Validate/0'))"
      ],
      "metadata": {
        "colab": {
          "base_uri": "https://localhost:8080/"
        },
        "id": "RRzsJjRdYI-N",
        "outputId": "2c354944-85b5-4c80-ada5-6802978adbd3"
      },
      "execution_count": 27,
      "outputs": [
        {
          "output_type": "execute_result",
          "data": {
            "text/plain": [
              "101"
            ]
          },
          "metadata": {},
          "execution_count": 27
        }
      ]
    },
    {
      "cell_type": "code",
      "source": [
        "create_gs_files(train_positive_images_list, tgt_train_positive_image_path, 1)\n",
        "print(len(os.listdir('/content/Dataset/Train/1')))\n",
        "print(len(os.listdir(tgt_train_positive_image_path)))\n",
        "create_gs_files(train_negative_images_list, tgt_train_negative_image_path, 2)\n",
        "len(os.listdir('/content/Dataset/Train/0'))\n",
        "print(len(os.listdir(tgt_train_negative_image_path)))\n",
        "\n",
        "create_gs_files(val_positive_images_list, tgt_val_positive_image_path, 3)\n",
        "len(os.listdir('/content/Dataset/Validate/1'))\n",
        "print(len(os.listdir(tgt_val_positive_image_path)))\n",
        "create_gs_files(val_negative_images_list, tgt_val_negative_image_path, 4)\n",
        "len(os.listdir('/content/Dataset/Validate/0'))\n",
        "print(len(os.listdir(tgt_val_negative_image_path)))\n",
        "\n",
        "create_gs_files(test_positive_images_list, tgt_test_positive_image_path, 5)\n",
        "len(os.listdir('/content/Dataset/Test/1'))\n",
        "print(len(os.listdir(tgt_test_positive_image_path)))\n",
        "create_gs_files(test_negative_images_list, tgt_test_negative_image_path, 6)\n",
        "len(os.listdir('/content/Dataset/Test/0'))\n",
        "print(len(os.listdir(tgt_test_negative_image_path)))"
      ],
      "metadata": {
        "colab": {
          "base_uri": "https://localhost:8080/"
        },
        "id": "Nn5sGtRqURP5",
        "outputId": "1ee06311-0811-43f9-dfe4-ce80f376c230"
      },
      "execution_count": 28,
      "outputs": [
        {
          "output_type": "stream",
          "name": "stdout",
          "text": [
            "401\n",
            "400\n",
            "397\n",
            "100\n",
            "97\n",
            "100\n",
            "99\n"
          ]
        }
      ]
    },
    {
      "cell_type": "code",
      "source": [
        "!ls -ltr /content/Dataset/Train/1/*.png|wc -l"
      ],
      "metadata": {
        "id": "X9_PlsJlbDak",
        "outputId": "857206e3-eda9-4ec6-eeef-4e7a1238bf85",
        "colab": {
          "base_uri": "https://localhost:8080/"
        }
      },
      "execution_count": 29,
      "outputs": [
        {
          "output_type": "stream",
          "name": "stdout",
          "text": [
            "400\n"
          ]
        }
      ]
    },
    {
      "cell_type": "code",
      "source": [
        "!ls -ltra /content/image_processing/train/positive/*.png|wc -l"
      ],
      "metadata": {
        "colab": {
          "base_uri": "https://localhost:8080/"
        },
        "id": "I58crwAWUK-E",
        "outputId": "9d8874e4-1a9f-4866-ce6b-4c7a3b0e3dab"
      },
      "execution_count": 30,
      "outputs": [
        {
          "output_type": "stream",
          "name": "stdout",
          "text": [
            "400\n"
          ]
        }
      ]
    },
    {
      "cell_type": "code",
      "source": [
        "transfer_learning_model_list = ['VGG16', \n",
        "                                'VGG19', \n",
        "                                'DenseNet201', \n",
        "                                'InceptionV3', \n",
        "                                'ResNet50', \n",
        "                                'EfficientNetB7', \n",
        "                                'MobileNet', \n",
        "                                'Xception'\n",
        "                               ]\n",
        "batch_size = 32\n",
        "epochs = 10\n",
        "lr_val = 0.01\n",
        "\n",
        "image_size = 50"
      ],
      "metadata": {
        "id": "urp6UPUGcfgF"
      },
      "execution_count": 31,
      "outputs": []
    },
    {
      "cell_type": "code",
      "source": [
        "def custom_augmentation(np_tensor):\n",
        " \n",
        "    def random_contrast(np_tensor):\n",
        "        return tf.image.random_contrast(np_tensor, 0.5, 2)\n",
        " \n",
        "    def random_hue(np_tensor):\n",
        "        return tf.image.random_hue(np_tensor, 0.5)\n",
        " \n",
        "    def random_saturation(np_tensor):\n",
        "        return tf.image.random_saturation(np_tensor, 0.2, 3)\n",
        " \n",
        "    def gaussian_noise(np_tensor):\n",
        "        mean = 0\n",
        "        # variance: randomly between 1 to 25\n",
        "        var = np.random.randint(1, 26)\n",
        "        # sigma is square root of the variance value\n",
        "        noise = np.random.normal(mean,var**0.5,np_tensor.shape)\n",
        "        return np.clip(np_tensor + noise, 0, 255).astype('int')\n",
        "\n",
        "    augmnted_tensor = random_contrast(np_tensor)\n",
        "    augmnted_tensor = random_hue(augmnted_tensor)\n",
        "    augmnted_tensor = random_saturation(augmnted_tensor)\n",
        "    augmented_tensor = gaussian_noise(augmnted_tensor)\n",
        "  \n",
        "    return np.array(augmnted_tensor)\n",
        "\n",
        "# Train data generator\n",
        "train_datagen = tf.keras.preprocessing.image.ImageDataGenerator(\n",
        "    #featurewise_center            = True, \n",
        "    #featurewise_std_normalization = True,\n",
        "    rescale                       = 1.0/255\n",
        "    \n",
        ")\n",
        "\n",
        "# Validation data generator\n",
        "val_datagen = tf.keras.preprocessing.image.ImageDataGenerator(\n",
        "    #featurewise_center            = True, \n",
        "    #featurewise_std_normalization = True\n",
        "    rescale = 1.0/255\n",
        "    )\n",
        "\n",
        "# Test data generator\n",
        "test_datagen = tf.keras.preprocessing.image.ImageDataGenerator(\n",
        "    #featurewise_center            = True, \n",
        "    #featurewise_std_normalization = True\n",
        "    rescale = 1.0/255\n",
        "    )"
      ],
      "metadata": {
        "id": "hH1PhTDtgAHG"
      },
      "execution_count": 34,
      "outputs": []
    },
    {
      "cell_type": "code",
      "source": [
        "'''\n",
        "    horizontal_flip               = True, \n",
        "    vertical_flip                 = True, \n",
        "    #zca_whitening                 = random.choice([True, False]), \n",
        "    zoom_range                    = [0.8, 1.25],\n",
        "    rotation_range                = 90,\n",
        "    width_shift_range             = 0.30, \n",
        "    height_shift_range            = 0.30,\n",
        "    shear_range                   = 45, \n",
        "    brightness_range              = [.3, 1.2]\n",
        "    preprocessing_function        = custom_augmentation \n",
        "    '''"
      ],
      "metadata": {
        "id": "mifjkMUiydG3",
        "outputId": "8a26f77a-1536-434d-e66d-41d6a6851a40",
        "colab": {
          "base_uri": "https://localhost:8080/",
          "height": 70
        }
      },
      "execution_count": 35,
      "outputs": [
        {
          "output_type": "execute_result",
          "data": {
            "text/plain": [
              "'\\n    horizontal_flip               = True, \\n    vertical_flip                 = True, \\n    #zca_whitening                 = random.choice([True, False]), \\n    zoom_range                    = [0.8, 1.25],\\n    rotation_range                = 90,\\n    width_shift_range             = 0.30, \\n    height_shift_range            = 0.30,\\n    shear_range                   = 45, \\n    brightness_range              = [.3, 1.2]\\n    preprocessing_function        = custom_augmentation \\n    '"
            ],
            "application/vnd.google.colaboratory.intrinsic+json": {
              "type": "string"
            }
          },
          "metadata": {},
          "execution_count": 35
        }
      ]
    },
    {
      "cell_type": "code",
      "source": [
        "model_name = 'ResNet50'\n",
        "image_size = 50\n",
        "dropout_rate = .5\n",
        "batch_size = 32\n",
        "lr_val = .001\n",
        "epochs = 10"
      ],
      "metadata": {
        "id": "1LpIbfFrgSF2"
      },
      "execution_count": 36,
      "outputs": []
    },
    {
      "cell_type": "code",
      "source": [
        "from keras.layers.convolutional import SeparableConv2D\n",
        "from keras.layers.core import Activation"
      ],
      "metadata": {
        "id": "i6gnAp0KmMNG"
      },
      "execution_count": 37,
      "outputs": []
    },
    {
      "cell_type": "code",
      "source": [
        "model_cnn_5 = tf.keras.Sequential([\n",
        "    tf.keras.layers.Conv2D(16, (3,3), padding='same', activation=tf.nn.relu,\n",
        "                           input_shape=(50, 50, 3)),\n",
        "    tf.keras.layers.MaxPooling2D((2, 2), strides=2),\n",
        "    tf.keras.layers.Dropout(.1),\n",
        "\n",
        "    tf.keras.layers.Conv2D(32, (3,3), padding='same', activation=tf.nn.relu),\n",
        "    tf.keras.layers.MaxPooling2D((2, 2), strides=2),\n",
        "    tf.keras.layers.Dropout(.1),\n",
        "\n",
        "    tf.keras.layers.Conv2D(64, (3,3), padding='same', activation=tf.nn.relu),\n",
        "    tf.keras.layers.MaxPooling2D((2, 2), strides=2),\n",
        "    tf.keras.layers.Dropout(.1),\n",
        "\n",
        "    tf.keras.layers.Flatten(),\n",
        "\n",
        "    tf.keras.layers.Dense(512, activation=tf.nn.relu),\n",
        "    tf.keras.layers.Dense(256, activation=tf.nn.relu),\n",
        "    tf.keras.layers.Dense(128, activation=tf.nn.relu),\n",
        "    \n",
        "    tf.keras.layers.Dense(1, activation= None)\n",
        "])"
      ],
      "metadata": {
        "id": "pHqBK3J4l0lr"
      },
      "execution_count": 38,
      "outputs": []
    },
    {
      "cell_type": "code",
      "source": [
        "model_cnn_5.summary()"
      ],
      "metadata": {
        "id": "ENHVynzTl_TW",
        "outputId": "7ff8df04-0711-4552-ace4-e05b65bc1c27",
        "colab": {
          "base_uri": "https://localhost:8080/"
        }
      },
      "execution_count": 39,
      "outputs": [
        {
          "output_type": "stream",
          "name": "stdout",
          "text": [
            "Model: \"sequential\"\n",
            "_________________________________________________________________\n",
            " Layer (type)                Output Shape              Param #   \n",
            "=================================================================\n",
            " conv2d (Conv2D)             (None, 50, 50, 16)        448       \n",
            "                                                                 \n",
            " max_pooling2d (MaxPooling2D  (None, 25, 25, 16)       0         \n",
            " )                                                               \n",
            "                                                                 \n",
            " dropout_3 (Dropout)         (None, 25, 25, 16)        0         \n",
            "                                                                 \n",
            " conv2d_1 (Conv2D)           (None, 25, 25, 32)        4640      \n",
            "                                                                 \n",
            " max_pooling2d_1 (MaxPooling  (None, 12, 12, 32)       0         \n",
            " 2D)                                                             \n",
            "                                                                 \n",
            " dropout_4 (Dropout)         (None, 12, 12, 32)        0         \n",
            "                                                                 \n",
            " conv2d_2 (Conv2D)           (None, 12, 12, 64)        18496     \n",
            "                                                                 \n",
            " max_pooling2d_2 (MaxPooling  (None, 6, 6, 64)         0         \n",
            " 2D)                                                             \n",
            "                                                                 \n",
            " dropout_5 (Dropout)         (None, 6, 6, 64)          0         \n",
            "                                                                 \n",
            " flatten_1 (Flatten)         (None, 2304)              0         \n",
            "                                                                 \n",
            " dense_3 (Dense)             (None, 512)               1180160   \n",
            "                                                                 \n",
            " dense_4 (Dense)             (None, 256)               131328    \n",
            "                                                                 \n",
            " dense_5 (Dense)             (None, 128)               32896     \n",
            "                                                                 \n",
            " dense_6 (Dense)             (None, 1)                 129       \n",
            "                                                                 \n",
            "=================================================================\n",
            "Total params: 1,368,097\n",
            "Trainable params: 1,368,097\n",
            "Non-trainable params: 0\n",
            "_________________________________________________________________\n"
          ]
        }
      ]
    },
    {
      "cell_type": "code",
      "source": [
        "tf.keras.utils.plot_model(model_cnn_5)"
      ],
      "metadata": {
        "id": "T-Fi4VlvmCpb",
        "outputId": "5710dd8f-e033-4920-9af6-9730daf1bec4",
        "colab": {
          "base_uri": "https://localhost:8080/",
          "height": 1000
        }
      },
      "execution_count": 40,
      "outputs": [
        {
          "output_type": "execute_result",
          "data": {
            "image/png": "[encoded data removed]",
            "text/plain": [
              "<IPython.core.display.Image object>"
            ]
          },
          "metadata": {},
          "execution_count": 40
        }
      ]
    },
    {
      "cell_type": "code",
      "source": [
        "'''\n",
        "pretrained_model = build_pretained_model(model_name = model_name)\n",
        "pretrained_model.trainable = False\n",
        "        \n",
        "# Plug the pre-trained model to custom model\n",
        "print(f\"Plugging in the pretainined model for {model_name} to custom model\")\n",
        "try:\n",
        "    del model\n",
        "except:\n",
        "    None\n",
        "input_shape = (image_size, image_size, 3)\n",
        "inputs = tf.keras.Input(input_shape)\n",
        "m2 = tf.keras.layers.GlobalAveragePooling2D()(pretrained_model(inputs))\n",
        "m2 = tf.keras.layers.Dropout(dropout_rate)(m2)\n",
        "m2 = tf.keras.layers.Dense(512, activation = 'relu')(m2)\n",
        "m2 = tf.keras.layers.BatchNormalization()(m2)\n",
        "m2 = tf.keras.layers.Dropout(dropout_rate)(m2)\n",
        "m2 = tf.keras.layers.Dense(256, activation = 'relu')(m2)\n",
        "m2 = tf.keras.layers.BatchNormalization()(m2)\n",
        "m2 = tf.keras.layers.Dropout(dropout_rate)(m2)\n",
        "m2 = tf.keras.layers.Flatten()(m2)\n",
        "m2 = tf.keras.layers.Dense(2, activation = 'softmax')(m2)\n",
        "model = tf.keras.Model(inputs = inputs, outputs = m2)\n",
        "tf.keras.utils.plot_model(model)\n",
        "'''"
      ],
      "metadata": {
        "id": "Y2LlqfPtgG2f",
        "outputId": "c6166aa9-9dff-4982-db2e-b3e585a3daf9",
        "colab": {
          "base_uri": "https://localhost:8080/",
          "height": 104
        }
      },
      "execution_count": 41,
      "outputs": [
        {
          "output_type": "execute_result",
          "data": {
            "text/plain": [
              "'\\npretrained_model = build_pretained_model(model_name = model_name)\\npretrained_model.trainable = False\\n        \\n# Plug the pre-trained model to custom model\\nprint(f\"Plugging in the pretainined model for {model_name} to custom model\")\\ntry:\\n    del model\\nexcept:\\n    None\\ninput_shape = (image_size, image_size, 3)\\ninputs = tf.keras.Input(input_shape)\\nm2 = tf.keras.layers.GlobalAveragePooling2D()(pretrained_model(inputs))\\nm2 = tf.keras.layers.Dropout(dropout_rate)(m2)\\nm2 = tf.keras.layers.Dense(512, activation = \\'relu\\')(m2)\\nm2 = tf.keras.layers.BatchNormalization()(m2)\\nm2 = tf.keras.layers.Dropout(dropout_rate)(m2)\\nm2 = tf.keras.layers.Dense(256, activation = \\'relu\\')(m2)\\nm2 = tf.keras.layers.BatchNormalization()(m2)\\nm2 = tf.keras.layers.Dropout(dropout_rate)(m2)\\nm2 = tf.keras.layers.Flatten()(m2)\\nm2 = tf.keras.layers.Dense(2, activation = \\'softmax\\')(m2)\\nmodel = tf.keras.Model(inputs = inputs, outputs = m2)\\ntf.keras.utils.plot_model(model)\\n'"
            ],
            "application/vnd.google.colaboratory.intrinsic+json": {
              "type": "string"
            }
          },
          "metadata": {},
          "execution_count": 41
        }
      ]
    },
    {
      "cell_type": "code",
      "source": [
        "image_processing_train_path = '/content/image_processing/train'\n",
        "image_processing_validation_path = '/content/image_processing/val'\n",
        "image_processing_test_path = '/content/image_processing/test'"
      ],
      "metadata": {
        "id": "WMziw8LBhgBQ"
      },
      "execution_count": 42,
      "outputs": []
    },
    {
      "cell_type": "code",
      "source": [
        "def plot_model_accuracy_and_loss(history, model_name):\n",
        "   \"\"\"\n",
        "   This method plots model training and validation accuracies.\n",
        "   \"\"\"\n",
        "   tf.keras.backend.clear_session()\n",
        "\n",
        "   hist = history.history\n",
        "   x_arr = np.arange(len(hist['loss'])) + 1\n",
        "        \n",
        "   fig = plt.figure(figsize=(12, 4))\n",
        "   ax = fig.add_subplot(1, 2, 1)\n",
        "   ax.plot(x_arr, hist['loss'], '-o', label = 'Train loss')\n",
        "   ax.plot(x_arr, hist['val_loss'], '--<', label = 'Validation loss')\n",
        "   ax.legend(fontsize=15)\n",
        "   ax.set_xlabel('Epoch', size = 15)\n",
        "   ax.set_ylabel('Loss', size = 15)\n",
        "\n",
        "   ax = fig.add_subplot(1, 2, 2)\n",
        "   ax.plot(x_arr, hist['accuracy'], '-o', label = 'Train acc.')\n",
        "   ax.plot(x_arr, hist['val_accuracy'], '--<', label = 'Validation acc.')\n",
        "   ax.legend(fontsize = 15)\n",
        "   ax.set_xlabel('Epoch', size = 15)\n",
        "   ax.set_ylabel('Accuracy', size = 15)\n",
        "   ax.set_ylim(0,1)\n",
        "   plt.title(f\"Training and validation loss and accuracies for model : {model_name}\")\n",
        "   plt.show(block = False)"
      ],
      "metadata": {
        "id": "Trd2ptW-jJmk"
      },
      "execution_count": 43,
      "outputs": []
    },
    {
      "cell_type": "code",
      "source": [
        "random_state = 1234"
      ],
      "metadata": {
        "id": "ikoj2vbvpD-u"
      },
      "execution_count": 44,
      "outputs": []
    },
    {
      "cell_type": "code",
      "source": [
        "train_dataset_from_data_generator = train_datagen.flow_from_directory(image_processing_train_path,\n",
        "                                                                     target_size = (image_size, image_size),\n",
        "                                                                     class_mode = 'binary',\n",
        "                                                                     batch_size = batch_size,\n",
        "                                                                     color_mode = 'rgb',\n",
        "                                                                     shuffle = True,\n",
        "                                                                     seed = random_state\n",
        "                                                                    )\n",
        "validation_dataset_from_data_generator = val_datagen.flow_from_directory(image_processing_validation_path,\n",
        "                                                                 target_size = (image_size, image_size),\n",
        "                                                                 class_mode = 'binary',\n",
        "                                                                 batch_size = batch_size,\n",
        "                                                                 color_mode = 'rgb',\n",
        "                                                                 shuffle = True,\n",
        "                                                                 seed = random_state\n",
        "                                                                )\n",
        "test_dataset_from_data_generator = test_datagen.flow_from_directory(image_processing_test_path,\n",
        "                                                                   target_size = (image_size, image_size),\n",
        "                                                                   batch_size = batch_size,\n",
        "                                                                   class_mode = 'binary',\n",
        "                                                                   color_mode = 'rgb',\n",
        "                                                                   shuffle = False,\n",
        "                                                                   seed = random_state\n",
        "                                                                  )\n",
        "        \n",
        "tf.random.set_seed(random_state)\n",
        "np.random.seed(random_state)\n",
        "# Model compile\n",
        "print(\"Compiling the model...\")\n",
        "model_cnn_5.compile(optimizer = tf.keras.optimizers.Adam(learning_rate = lr_val),\n",
        "              loss = tf.keras.losses.BinaryCrossentropy(from_logits = True),\n",
        "              metrics = ['accuracy']) \n",
        "\n",
        "# Model fit\n",
        "print(\"Model fit...\")\n",
        "history = model_cnn_5.fit(train_dataset_from_data_generator,\n",
        "                    epochs = epochs,\n",
        "                    steps_per_epoch = len(train_dataset_from_data_generator),\n",
        "                    validation_data = validation_dataset_from_data_generator,\n",
        "                    validation_steps = len(validation_dataset_from_data_generator),\n",
        "                    verbose = 1\n",
        "                   )\n",
        "\n",
        "# Model save\n",
        "print(\"Saving model...\")\n",
        "tf.keras.backend.clear_session()\n",
        "gc.collect()\n",
        "model_cnn_5.save('breast_cancer_detection_' + model_name + '.h5')\n",
        "\n",
        "# Plot train and val accuracy and loss\n",
        "print(f\"Plotting train and validation accuracy and loss for model {model_name}\")\n",
        "plot_model_accuracy_and_loss(history = history, model_name = model_name)\n",
        "\n",
        "# Model Predict, transform logits to probabilities\n",
        "step_size_test = np.ceil(test_dataset_from_data_generator.n / test_dataset_from_data_generator.batch_size)\n",
        "test_dataset_from_data_generator.reset()\n",
        "pred_logits = model_cnn_5.predict(test_dataset_from_data_generator, steps = step_size_test, verbose = 1)\n",
        "probas_sigmoid = tf.sigmoid(pred_logits)\n",
        "probas_sigmoid = probas_sigmoid.numpy().flatten() * 100\n",
        "predictions_binary = [1 if x > 50.0 else 0 for x in probas_sigmoid]\n"
      ],
      "metadata": {
        "id": "PIbByCKtgGH-",
        "outputId": "07be9f94-f977-4b9a-baa6-311789551fee",
        "colab": {
          "base_uri": "https://localhost:8080/",
          "height": 786
        }
      },
      "execution_count": 45,
      "outputs": [
        {
          "output_type": "stream",
          "name": "stdout",
          "text": [
            "Found 797 images belonging to 2 classes.\n",
            "Found 197 images belonging to 2 classes.\n",
            "Found 199 images belonging to 2 classes.\n",
            "Compiling the model...\n",
            "Model fit...\n",
            "Epoch 1/10\n",
            "25/25 [==============================] - 3s 85ms/step - loss: 0.6895 - accuracy: 0.5056 - val_loss: 0.6678 - val_accuracy: 0.4924\n",
            "Epoch 2/10\n",
            "25/25 [==============================] - 2s 78ms/step - loss: 0.6187 - accuracy: 0.5809 - val_loss: 0.6588 - val_accuracy: 0.5381\n",
            "Epoch 3/10\n",
            "25/25 [==============================] - 3s 128ms/step - loss: 0.6416 - accuracy: 0.5797 - val_loss: 0.6522 - val_accuracy: 0.4924\n",
            "Epoch 4/10\n",
            "25/25 [==============================] - 2s 78ms/step - loss: 0.6050 - accuracy: 0.5270 - val_loss: 0.5620 - val_accuracy: 0.7157\n",
            "Epoch 5/10\n",
            "25/25 [==============================] - 2s 77ms/step - loss: 0.5545 - accuracy: 0.7290 - val_loss: 0.5634 - val_accuracy: 0.7005\n",
            "Epoch 6/10\n",
            "25/25 [==============================] - 2s 77ms/step - loss: 0.5611 - accuracy: 0.7127 - val_loss: 0.5608 - val_accuracy: 0.7157\n",
            "Epoch 7/10\n",
            "25/25 [==============================] - 2s 75ms/step - loss: 0.5471 - accuracy: 0.7102 - val_loss: 0.5726 - val_accuracy: 0.7411\n",
            "Epoch 8/10\n",
            "25/25 [==============================] - 2s 76ms/step - loss: 0.5427 - accuracy: 0.7353 - val_loss: 0.5489 - val_accuracy: 0.7411\n",
            "Epoch 9/10\n",
            "25/25 [==============================] - 2s 76ms/step - loss: 0.5396 - accuracy: 0.7302 - val_loss: 0.5569 - val_accuracy: 0.7462\n",
            "Epoch 10/10\n",
            "25/25 [==============================] - 2s 74ms/step - loss: 0.5424 - accuracy: 0.7252 - val_loss: 0.5852 - val_accuracy: 0.7208\n",
            "Saving model...\n",
            "Plotting train and validation accuracy and loss for model ResNet50\n"
          ]
        },
        {
          "output_type": "display_data",
          "data": {
            "text/plain": [
              "<Figure size 864x288 with 2 Axes>"
            ],
            "image/png": "[encoded data removed]"
          },
          "metadata": {
            "needs_background": "light"
          }
        },
        {
          "output_type": "stream",
          "name": "stdout",
          "text": [
            "7/7 [==============================] - 0s 21ms/step\n"
          ]
        }
      ]
    },
    {
      "cell_type": "code",
      "source": [
        "test_loss, test_accuracy = model_cnn_5.evaluate(test_dataset_from_data_generator, verbose = 0)\n",
        "print(f'test_loss = {round(test_loss, 2)}\\ntest_accuracy = {round(test_accuracy, 2)}')\n",
        "# print(test_loss, test_accuracy)"
      ],
      "metadata": {
        "id": "-qvcJwirq6Ib",
        "outputId": "53a8dfc3-e91a-4a60-fa7e-931787298626",
        "colab": {
          "base_uri": "https://localhost:8080/"
        }
      },
      "execution_count": 48,
      "outputs": [
        {
          "output_type": "stream",
          "name": "stdout",
          "text": [
            "test_loss = 0.58\n",
            "test_accuracy = 0.7\n"
          ]
        }
      ]
    },
    {
      "cell_type": "code",
      "source": [
        "sample_size = 80000\n",
        "sample_size = 40000\n",
        "#batch_size = 256\n",
        "batch_size = 128\n",
        "epochs = 30\n",
        "lr_val = 0.01\n",
        "\n",
        "image_size = 50\n",
        "#number_of_splits = 8\n",
        "number_of_splits = 8\n",
        "run_mode = ['interim_test', 'final_test']\n",
        "\n",
        "# Transfer learning model list\n",
        "transfer_learning_model_list = ['VGG16', \n",
        "                                'VGG19', \n",
        "                                'DenseNet201', \n",
        "                                'InceptionV3', \n",
        "                                'ResNet50', \n",
        "                                'EfficientNetB7', \n",
        "                                'MobileNet', \n",
        "                                'Xception'\n",
        "                               ]\n",
        "learning_rate_list = [.01, .001, .0001, .00001]\n",
        "optimizer_list = ['sgd', 'adam']\n",
        "dropout_list = [.2, .4, .6]\n",
        "kernel_size_list = [(3,3), (4,4), (5,5)]\n",
        "dense_layer_node_list = [512, 256, 128]\n",
        "fully_conneted_layer_list = [1, 2, 3]\n",
        "epoch_list = [5, 10, 15, 20]"
      ],
      "metadata": {
        "id": "kSQVGMh1cPTb"
      },
      "execution_count": 49,
      "outputs": []
    },
    {
      "cell_type": "code",
      "source": [
        "\n",
        "\n",
        "# Stores each model and kfold specific train and validation accuracies \n",
        "# and losses for each epoch\n",
        "temp_df_model_kpi = pd.DataFrame()\n",
        "# Consolidates the above results across all model and kfolds.\n",
        "consolidated_df_model_kpi = pd.DataFrame()\n",
        "\n",
        "# Holds model and kfold specific actual, prediction %, perdiction binary value\n",
        "# along with test loss and accuracy.\n",
        "temp_df_acttual_vs_pred_bin_pred_pct = pd.DataFrame()\n",
        "# Consolidates the above result for each model and kfold.\n",
        "df_actual_vs_pred_bin_pred_pct = pd.DataFrame()\n",
        "\n",
        "df_kfold_ensemble_stats = pd.DataFrame()\n",
        "\n",
        "for model_name in transfer_learning_model_list:\n",
        "\n",
        "    temp_df_model_kpi = pd.DataFrame()\n",
        "    temp_df_acttual_vs_pred_bin_pred_pct = pd.DataFrame()\n",
        "    for kfold, (train_indices, validation_indices) in enumerate(StratifiedKFold(n_splits =  number_of_splits, \n",
        "                                                                                shuffle = True, \n",
        "                                                                                random_state = random_state\n",
        "                                                                               ).split(data_proc.df_train_original['label'].values.tolist(), \n",
        "                                                                                       data_proc.df_train_original['label'].values.tolist()\n",
        "                                                                                      )):\n",
        "        print(f\"Model : {model_name}, k-fold : {kfold + 1}, length of train data : {len(train_indices)}, length of validation data : {len(validation_indices)}\")\n",
        "        data_proc.split_data_based_on_indices(train_indices = train_indices, validation_indices = validation_indices)\n",
        "\n",
        "        train_dataset_from_data_generator = train_datagen.flow_from_directory(image_processing_train_path,\n",
        "                                                                     target_size = (image_size, image_size),\n",
        "                                                                     class_mode = 'binary',\n",
        "                                                                     batch_size = batch_size,\n",
        "                                                                     color_mode = 'rgb',\n",
        "                                                                     shuffle = True,\n",
        "                                                                     seed = random_state\n",
        "                                                                    )\n",
        "        validation_dataset_from_data_generator = val_datagen.flow_from_directory(image_processing_validation_path,\n",
        "                                                                 target_size = (image_size, image_size),\n",
        "                                                                 class_mode = 'binary',\n",
        "                                                                 batch_size = batch_size,\n",
        "                                                                 color_mode = 'rgb',\n",
        "                                                                 shuffle = True,\n",
        "                                                                 seed = random_state\n",
        "                                                                )\n",
        "        test_dataset_from_data_generator = test_datagen.flow_from_directory(image_processing_test_path,\n",
        "                                                                   target_size = (image_size, image_size),\n",
        "                                                                   batch_size = batch_size,\n",
        "                                                                   class_mode = 'binary',\n",
        "                                                                   color_mode = 'rgb',\n",
        "                                                                   shuffle = False,\n",
        "                                                                   seed = random_state\n",
        "                                                                  )\n",
        "        \n",
        "        tf.random.set_seed(random_state)\n",
        "        np.random.seed(random_state)\n",
        "\n",
        "        # Pre-trained model build\n",
        "        print(f\"Building pretainined model for {model_name}\")\n",
        "        try:\n",
        "            del pretrained_model\n",
        "        except:\n",
        "            None\n",
        "        pretrained_model = model_proc.build_pretained_model(model_name = model_name)\n",
        "        pretrained_model.trainable = False\n",
        "        model_proc.model_summary_and_display_structure(pretrained_model)\n",
        "        \n",
        "        # Plug the pre-trained model to custom model\n",
        "        print(f\"Plugging in the pretainined model for {model_name} to custom model\")\n",
        "        try:\n",
        "            del model\n",
        "        except:\n",
        "            None\n",
        "        input_shape = (image_size, image_size, 3)\n",
        "        inputs = tf.keras.Input(input_shape)\n",
        "        m2 = tf.keras.layers.GlobalAveragePooling2D()(pretrained_model(inputs))\n",
        "        m2 = tf.keras.layers.Dropout(dropout_rate)(m2)\n",
        "        m2 = tf.keras.layers.Dense(512, activation = 'relu')(m2)\n",
        "        m2 = tf.keras.layers.BatchNormalization()(m2)\n",
        "        m2 = tf.keras.layers.Dropout(dropout_rate)(m2)\n",
        "        m2 = tf.keras.layers.Dense(256, activation = 'relu')(m2)\n",
        "        m2 = tf.keras.layers.BatchNormalization()(m2)\n",
        "        m2 = tf.keras.layers.Dropout(dropout_rate)(m2)\n",
        "        m2 = tf.keras.layers.Flatten()(m2)\n",
        "        m2 = tf.keras.layers.Dense(1, activation = None)(m2)\n",
        "        model = tf.keras.Model(inputs = inputs, outputs = m2)\n",
        "        # Model compile\n",
        "        print(\"Compiling the model...\")\n",
        "        model.compile(optimizer = tf.keras.optimizers.Adam(learning_rate = lr_val),\n",
        "                      loss = tf.keras.losses.BinaryCrossentropy(from_logits = True),\n",
        "                      metrics = ['accuracy']) \n",
        "\n",
        "        # Model fit\n",
        "        print(\"Model fit...\")\n",
        "        #es = EarlyStopping(monitor = 'val_loss', mode = 'min', verbose = 1, min_delta = 1)\n",
        "        history = model.fit(train_dataset_from_data_generator,\n",
        "                            epochs = epochs,\n",
        "                            steps_per_epoch = len(train_dataset_from_data_generator),\n",
        "                            validation_data = validation_dataset_from_data_generator,\n",
        "                            validation_steps = len(validation_dataset_from_data_generator),\n",
        "                            verbose = 1\n",
        "                           )\n",
        "\n",
        "        # Model save\n",
        "        print(\"Saving model...\")\n",
        "        tf.keras.backend.clear_session()\n",
        "        gc.collect()\n",
        "        model.save('tumor_detection_' + model_name + '_k' + str(kfold + 1) + '.h5')\n",
        "        #tf.saved_model.save(model, os.getcwd())\n",
        "        saved_model_names_list.append('tumor_detection_' + model_name + '_k' + str(kfold + 1))\n",
        "        \n",
        "        # Append the final train and validation accuracy and loss.\n",
        "        print(f\"Storing train and validation accuracy and loss for model {model_name}, fold {kfold + 1}\")\n",
        "        temp_df_model_kpi = pd.DataFrame(history.history)\n",
        "        temp_df_model_kpi['model'] = model_name\n",
        "        temp_df_model_kpi['kfold'] = kfold + 1\n",
        "        temp_df_model_kpi['epoch'] = range(1, epochs + 1)\n",
        "        temp_df_model_kpi = temp_df_model_kpi[['model', \n",
        "                                               'kfold', \n",
        "                                               'epoch', \n",
        "                                               'accuracy', \n",
        "                                               'loss', \n",
        "                                               'val_accuracy', \n",
        "                                               'val_loss'\n",
        "                                               ]]\n",
        "        # Consolidating training and validation accuracies in single data frame \n",
        "        # along with model name, epoch, kfold number.\n",
        "        consolidated_df_model_kpi = pd.concat([temp_df_model_kpi, consolidated_df_model_kpi], axis = 0)\n",
        "        \n",
        "        # Plot train and val accuracy and loss\n",
        "        print(f\"Plotting train and validation accuracy and loss for model {model_name}, fold {kfold + 1}\")\n",
        "        model_proc.plot_model_accuracy_and_loss(history = history, model_name = model_name)\n",
        "\n",
        "        # Model Predict, transform logits to probabilities\n",
        "        step_size_test = np.ceil(test_dataset_from_data_generator.n / test_dataset_from_data_generator.batch_size)\n",
        "        test_dataset_from_data_generator.reset()\n",
        "        pred_logits = model.predict(test_dataset_from_data_generator, steps = step_size_test, verbose = 1)\n",
        "        probas_sigmoid = tf.sigmoid(pred_logits)\n",
        "        probas_sigmoid = probas_sigmoid.numpy().flatten() * 100\n",
        "        predictions_binary = [1 if x > 50.0 else 0 for x in probas_sigmoid]\n",
        "        test_loss, test_accuracy = model.evaluate(test_dataset_from_data_generator, verbose = 0)\n",
        "\n",
        "        temp_df_actual_vs_pred_bin_pred_pct = pd.DataFrame({\"model\"         : model_name, \n",
        "                                                            \"kfold\"         : kfold + 1, \n",
        "                                                            \"actual\"        : data_proc.y_test, \n",
        "                                                            \"pred_pct\"      : probas_sigmoid, \n",
        "                                                            \"pred_bin\"      : predictions_binary,\n",
        "                                                            \"test_loss\"     : test_loss,\n",
        "                                                            \"test_accuracy\" : test_accuracy\n",
        "                                                           }\n",
        "                                                          )\n",
        "        # Assign the index value of the index position\n",
        "        temp_df_actual_vs_pred_bin_pred_pct['output_pos'] = temp_df_actual_vs_pred_bin_pred_pct.groupby(['model','kfold']).cumcount() + 1\n",
        "        df_actual_vs_pred_bin_pred_pct = pd.concat([temp_df_actual_vs_pred_bin_pred_pct, \n",
        "                                                    df_actual_vs_pred_bin_pred_pct\n",
        "                                                   ], \n",
        "                                                   axis = 0)\n",
        "    \n",
        "    # Summary stats across all folds for a model\n",
        "    model_proc.display_model_stats_across_all_spilts(model_name, \n",
        "                                                     consolidated_df_model_kpi, \n",
        "                                                     df_actual_vs_pred_bin_pred_pct\n",
        "                                                    )\n",
        "    \n",
        "    # voting across model, kfold\n",
        "    print(f\"Calling ensemble_across_model_kfolds for model {model_name}\")\n",
        "    temp_df_kfold_ensemble_stats = model_proc.ensemble_across_model_kfolds(df_actual_vs_pred_bin_pred_pct[df_actual_vs_pred_bin_pred_pct.model == model_name])\n",
        "\n",
        "    # Appending the result back\n",
        "    df_kfold_ensemble_stats = pd.concat([temp_df_kfold_ensemble_stats, \n",
        "                                         df_kfold_ensemble_stats\n",
        "                                        ],\n",
        "                                        axis = 0)\n",
        "\n",
        "# voting across model, kfold\n",
        "print(f\"Calling ensemble_across_models\")\n",
        "df_ensemble_stats = model_proc.ensemble_across_models(df_kfold_ensemble_stats)\n"
      ],
      "metadata": {
        "id": "3GOPzKQyRQHj",
        "outputId": "266a6aac-e763-4ba4-c51d-822d2f2f98aa",
        "colab": {
          "base_uri": "https://localhost:8080/",
          "height": 235
        }
      },
      "execution_count": 50,
      "outputs": [
        {
          "output_type": "error",
          "ename": "NameError",
          "evalue": "ignored",
          "traceback": [
            "\u001b[0;31m---------------------------------------------------------------------------\u001b[0m",
            "\u001b[0;31mNameError\u001b[0m                                 Traceback (most recent call last)",
            "\u001b[0;32m<ipython-input-50-a53af54278dc>\u001b[0m in \u001b[0;36m<module>\u001b[0;34m\u001b[0m\n\u001b[1;32m     20\u001b[0m                                                                                 \u001b[0mshuffle\u001b[0m \u001b[0;34m=\u001b[0m \u001b[0;32mTrue\u001b[0m\u001b[0;34m,\u001b[0m\u001b[0;34m\u001b[0m\u001b[0;34m\u001b[0m\u001b[0m\n\u001b[1;32m     21\u001b[0m                                                                                 \u001b[0mrandom_state\u001b[0m \u001b[0;34m=\u001b[0m \u001b[0mrandom_state\u001b[0m\u001b[0;34m\u001b[0m\u001b[0;34m\u001b[0m\u001b[0m\n\u001b[0;32m---> 22\u001b[0;31m                                                                                \u001b[0;34m)\u001b[0m\u001b[0;34m.\u001b[0m\u001b[0msplit\u001b[0m\u001b[0;34m(\u001b[0m\u001b[0mdata_proc\u001b[0m\u001b[0;34m.\u001b[0m\u001b[0mdf_train_original\u001b[0m\u001b[0;34m[\u001b[0m\u001b[0;34m'label'\u001b[0m\u001b[0;34m]\u001b[0m\u001b[0;34m.\u001b[0m\u001b[0mvalues\u001b[0m\u001b[0;34m.\u001b[0m\u001b[0mtolist\u001b[0m\u001b[0;34m(\u001b[0m\u001b[0;34m)\u001b[0m\u001b[0;34m,\u001b[0m\u001b[0;34m\u001b[0m\u001b[0;34m\u001b[0m\u001b[0m\n\u001b[0m\u001b[1;32m     23\u001b[0m                                                                                        \u001b[0mdata_proc\u001b[0m\u001b[0;34m.\u001b[0m\u001b[0mdf_train_original\u001b[0m\u001b[0;34m[\u001b[0m\u001b[0;34m'label'\u001b[0m\u001b[0;34m]\u001b[0m\u001b[0;34m.\u001b[0m\u001b[0mvalues\u001b[0m\u001b[0;34m.\u001b[0m\u001b[0mtolist\u001b[0m\u001b[0;34m(\u001b[0m\u001b[0;34m)\u001b[0m\u001b[0;34m\u001b[0m\u001b[0;34m\u001b[0m\u001b[0m\n\u001b[1;32m     24\u001b[0m                                                                                       )):\n",
            "\u001b[0;31mNameError\u001b[0m: name 'data_proc' is not defined"
          ]
        }
      ]
    },
    {
      "cell_type": "code",
      "source": [],
      "metadata": {
        "id": "xewdeHiRRQEU"
      },
      "execution_count": null,
      "outputs": []
    },
    {
      "cell_type": "code",
      "source": [],
      "metadata": {
        "id": "v6i5PR-BRQBj"
      },
      "execution_count": null,
      "outputs": []
    },
    {
      "cell_type": "code",
      "source": [],
      "metadata": {
        "id": "IeqCdWpoRPuj"
      },
      "execution_count": null,
      "outputs": []
    }
  ]
}