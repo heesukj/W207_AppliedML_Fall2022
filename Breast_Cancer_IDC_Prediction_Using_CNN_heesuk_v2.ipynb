{
  "nbformat": 4,
  "nbformat_minor": 0,
  "metadata": {
    "colab": {
      "provenance": [],
      "collapsed_sections": [],
      "include_colab_link": true
    },
    "kernelspec": {
      "name": "python3",
      "display_name": "Python 3"
    },
    "language_info": {
      "name": "python"
    }
  },
  "cells": [
    {
      "cell_type": "markdown",
      "metadata": {
        "id": "view-in-github",
        "colab_type": "text"
      },
      "source": [
        "<a href=\"https://colab.research.google.com/github/heesukjang/W207_AppliedML_Fall2022/blob/main/Breast_Cancer_IDC_Prediction_Using_CNN_heesuk_v2.ipynb\" target=\"_parent\"><img src=\"https://colab.research.google.com/assets/colab-badge.svg\" alt=\"Open In Colab\"/></a>"
      ]
    },
    {
      "cell_type": "markdown",
      "source": [
        "## FALL 2022<br>\n",
        "W207 Applied Machine Learning<br>\n",
        "Heesuk Jang\n",
        " \n",
        "\n",
        "#Predicting IDC with Breast Histopathology Images using CNN\n",
        "\n"
      ],
      "metadata": {
        "id": "5DebDWCL0KeL"
      }
    },
    {
      "cell_type": "code",
      "execution_count": 84,
      "metadata": {
        "id": "SRkZHKoWswZT",
        "colab": {
          "base_uri": "https://localhost:8080/"
        },
        "outputId": "afcb3405-425d-4714-a268-87fb43407736"
      },
      "outputs": [
        {
          "output_type": "stream",
          "name": "stdout",
          "text": [
            "Drive already mounted at /content/gdrive; to attempt to forcibly remount, call drive.mount(\"/content/gdrive\", force_remount=True).\n"
          ]
        }
      ],
      "source": [
        "import pandas as pd\n",
        "import numpy as np\n",
        "import os\n",
        "import re\n",
        "import random\n",
        "import joblib\n",
        "import glob\n",
        "\n",
        "import matplotlib.pyplot as plt\n",
        "import seaborn as sns\n",
        "import plotly.express as px\n",
        "import matplotlib.patches as patches\n",
        "\n",
        "from sklearn.utils import shuffle\n",
        "from sklearn.ensemble import GradientBoostingClassifier, AdaBoostClassifier, RandomForestClassifier\n",
        "from sklearn.model_selection import train_test_split, GridSearchCV\n",
        "from scipy import stats\n",
        "from collections import Counter\n",
        "from sklearn import preprocessing\n",
        "from sklearn.preprocessing import StandardScaler\n",
        "from sklearn.metrics import *                            # confusion_matrix, log_loss, accuracy_score\n",
        "from sklearn.model_selection import *                    # train_test_split\n",
        "from sklearn.tree import DecisionTreeClassifier\n",
        "from sklearn.naive_bayes import GaussianNB\n",
        "from sklearn import preprocessing\n",
        "from sklearn.preprocessing import *\n",
        "# from sklearn.ensemble import *\n",
        "from sklearn.svm import *\n",
        "from sklearn.linear_model import *                       # LinearRegression\n",
        "from sklearn.discriminant_analysis import *\n",
        "from sklearn.neighbors import KNeighborsClassifier\n",
        "from mlxtend.plotting import plot_decision_regions\n",
        "\n",
        "import tensorflow as tf\n",
        "from keras import metrics\n",
        "from tensorflow.keras import initializers\n",
        "from tensorflow.keras.preprocessing.image import ImageDataGenerator\n",
        "from tensorflow.keras.layers import RandomFlip, RandomZoom, RandomRotation, Conv2D, MaxPooling2D, AveragePooling2D, Input, Dense, Flatten, Dropout, BatchNormalization\n",
        "from tensorflow.keras.losses import BinaryCrossentropy\n",
        "from tensorflow.keras.models import Sequential\n",
        "from tensorflow.keras.optimizers import Adam, SGD\n",
        "tf.get_logger().setLevel('INFO')\n",
        "\n",
        "import cv2 as cv\n",
        "import skimage.io as io\n",
        "\n",
        "import warnings\n",
        "warnings.filterwarnings('ignore')\n",
        "\n",
        "# Required to read the data from Kaggle\n",
        "from google.colab import drive\n",
        "# drive.mount('/content/gdrive')\n",
        "# os.environ['KAGGLE_CONFIG_DIR'] = \"/content/gdrive/MyDrive/Kaggle\"\n",
        "\n",
        "from google.colab import drive\n",
        "drive.mount('/content/gdrive')\n",
        "\n",
        "import warnings\n",
        "warnings.simplefilter(\"ignore\", category=DeprecationWarning)"
      ]
    },
    {
      "cell_type": "markdown",
      "source": [
        "# CNN - ML pipeline\n",
        "\n",
        "  1) EDA and Image Visualization<br>\n",
        "  2) Randomly sample from training/test/validation = 800/ 200/ 200 (66%/ 17%/ 17%)<br>\n",
        "  3) Image Transformations<br>\n",
        "> Image resize<br>\n",
        "> Image normalization to [0, 1]<br>\n",
        "  \n",
        "  4) [Image Augmentations](https://iq.opengenus.org/data-augmentation/)<br>\n",
        "> Adjust brightness<br>\n",
        "> Adjust contrast<br>\n",
        "> Flip left and right<br>\n",
        "> Rotate 90 degrees<br>\n",
        "\n",
        " 5) CNN Model using Tensorflow Keras API<br>\n",
        "> Build model<br>\n",
        "> Compile model<br>\n",
        "> Fit model<br>\n",
        "\n",
        " 6) Evaluate the Model<br>\n",
        " : Determine how good our trained model applies in predicting unseen (test) data.\n",
        "> model.**evaluate**<br>\n",
        "> model.**predict**<br>\n",
        "> Evaluation Metrics:  True Labels VS. Predicted Labels<br>\n",
        "\n",
        " 7) Hyper Parameter Tuning<br>\n",
        "> Optimizer<br>\n",
        "> Learning Rate<br>\n",
        "> Dropout ratio<br>\n",
        "> Number of Epochs<br>\n",
        "> Contrast Factor<br>\n",
        "> Delta<br>\n",
        "\n",
        "\n",
        "\n",
        "\n",
        "\n",
        "\n",
        "\n"
      ],
      "metadata": {
        "id": "Oslfl6Ot7RYo"
      }
    },
    {
      "cell_type": "code",
      "source": [
        "%pwd"
      ],
      "metadata": {
        "colab": {
          "base_uri": "https://localhost:8080/"
        },
        "id": "b1CFw-aOtGQm",
        "outputId": "0abd8e42-0e65-468b-9f28-fecd6e937bba"
      },
      "execution_count": 85,
      "outputs": [
        {
          "output_type": "execute_result",
          "data": {
            "text/plain": [
              "'/content'"
            ],
            "application/vnd.google.colaboratory.intrinsic+json": {
              "type": "string"
            }
          },
          "metadata": {},
          "execution_count": 85
        }
      ]
    },
    {
      "cell_type": "code",
      "source": [
        "# !unzip gdrive/MyDrive/Kaggle/CNN_IDC/Dataset.zip\n",
        "\n",
        "#replace these paths with the paths of your \n",
        "val_image_directory = '/content/gdrive/MyDrive/Kaggle/CNN_IDC/Dataset/Validate'\n",
        "train_image_directory = '/content/gdrive/MyDrive/Kaggle/CNN_IDC/Dataset/Train'\n",
        "test_image_directory = '/content/gdrive/MyDrive/Kaggle/CNN_IDC/Dataset/Test'\n",
        "directory_path = '/content/gdrive/MyDrive/Kaggle/CNN_IDC'"
      ],
      "metadata": {
        "id": "uyWJuOkZuCVl"
      },
      "execution_count": 86,
      "outputs": []
    },
    {
      "cell_type": "code",
      "source": [
        "# directory_path"
      ],
      "metadata": {
        "id": "fzRi4z0Emx1x"
      },
      "execution_count": 87,
      "outputs": []
    },
    {
      "cell_type": "code",
      "source": [
        "def get_paths(directory):\n",
        "  all_path = []\n",
        "  idc_image_path = []\n",
        "  idc_image_label = []\n",
        "\n",
        "  for dir, subdir, files in os.walk(directory):\n",
        "    path = dir + \"/\"\n",
        "    all_path.append(path)\n",
        "\n",
        "  for i in range(len(all_path)):\n",
        "    for file in os.listdir(all_path[i]):\n",
        "      test = file\n",
        "      path = all_path[i] + test\n",
        "      if path.lower().endswith('.png'):\n",
        "        idc_image_path.append(path)\n",
        "\n",
        "  for i in range(len(idc_image_path)):\n",
        "    split_test = idc_image_path[i]\n",
        "    split_path = split_test.split(\"/\")\n",
        "    directory_name = split_path[7]\n",
        "    idc_image_label.append('class_' + split_path[8])\n",
        "    # idc_image_label.append(str(split_path[8]))\n",
        "  return idc_image_path, idc_image_label, directory_name"
      ],
      "metadata": {
        "id": "R_-TmPzBmxsB"
      },
      "execution_count": 88,
      "outputs": []
    },
    {
      "cell_type": "code",
      "source": [
        "train_paths, train_labels, train_dir = get_paths(train_image_directory)\n",
        "val_paths, val_labels, val_dir = get_paths(val_image_directory)\n",
        "test_paths, test_labels, test_dir = get_paths(test_image_directory)"
      ],
      "metadata": {
        "id": "SJ6Cl4wtmxjO"
      },
      "execution_count": 89,
      "outputs": []
    },
    {
      "cell_type": "code",
      "source": [
        "print(len(train_paths), len(train_labels))\n",
        "print(len(test_paths), len(test_labels))\n",
        "print(len(val_paths), len(val_labels))"
      ],
      "metadata": {
        "id": "NIf9ETAsmxa2",
        "outputId": "83c5e261-3cba-46fb-b3d7-ab32290ba7c6",
        "colab": {
          "base_uri": "https://localhost:8080/"
        }
      },
      "execution_count": 90,
      "outputs": [
        {
          "output_type": "stream",
          "name": "stdout",
          "text": [
            "800 800\n",
            "200 200\n",
            "200 200\n"
          ]
        }
      ]
    },
    {
      "cell_type": "code",
      "source": [
        "print(train_paths)\n",
        "print(train_labels)\n",
        "print(train_dir)"
      ],
      "metadata": {
        "id": "uCJzEwS8mxSR",
        "outputId": "a1fbb9b5-5261-4036-b88f-aa9fefcbd6c5",
        "colab": {
          "base_uri": "https://localhost:8080/"
        }
      },
      "execution_count": 91,
      "outputs": [
        {
          "output_type": "stream",
          "name": "stdout",
          "text": [
            "['/content/gdrive/MyDrive/Kaggle/CNN_IDC/Dataset/Train/0/12880_idx5_x451_y701_class0.png', '/content/gdrive/MyDrive/Kaggle/CNN_IDC/Dataset/Train/0/9345_idx5_x2001_y2001_class0.png', '/content/gdrive/MyDrive/Kaggle/CNN_IDC/Dataset/Train/0/12817_idx5_x2401_y201_class0.png', '/content/gdrive/MyDrive/Kaggle/CNN_IDC/Dataset/Train/0/10259_idx5_x2351_y251_class0.png', '/content/gdrive/MyDrive/Kaggle/CNN_IDC/Dataset/Train/0/9322_idx5_x1301_y1451_class0.png', '/content/gdrive/MyDrive/Kaggle/CNN_IDC/Dataset/Train/0/9322_idx5_x1951_y1301_class0.png', '/content/gdrive/MyDrive/Kaggle/CNN_IDC/Dataset/Train/0/14210_idx5_x1251_y1751_class0.png', '/content/gdrive/MyDrive/Kaggle/CNN_IDC/Dataset/Train/0/10278_idx5_x901_y1501_class0.png', '/content/gdrive/MyDrive/Kaggle/CNN_IDC/Dataset/Train/0/9261_idx5_x1151_y1051_class0.png', '/content/gdrive/MyDrive/Kaggle/CNN_IDC/Dataset/Train/0/12930_idx5_x1901_y1301_class0.png', '/content/gdrive/MyDrive/Kaggle/CNN_IDC/Dataset/Train/0/8867_idx5_x851_y1451_class0.png', '/content/gdrive/MyDrive/Kaggle/CNN_IDC/Dataset/Train/0/9036_idx5_x2651_y1651_class0.png', '/content/gdrive/MyDrive/Kaggle/CNN_IDC/Dataset/Train/0/10254_idx5_x1051_y1651_class0.png', '/content/gdrive/MyDrive/Kaggle/CNN_IDC/Dataset/Train/0/12896_idx5_x2301_y2051_class0.png', '/content/gdrive/MyDrive/Kaggle/CNN_IDC/Dataset/Train/0/12749_idx5_x2201_y551_class0.png', '/content/gdrive/MyDrive/Kaggle/CNN_IDC/Dataset/Train/0/12751_idx5_x801_y1601_class0.png', '/content/gdrive/MyDrive/Kaggle/CNN_IDC/Dataset/Train/0/12930_idx5_x501_y1451_class0.png', '/content/gdrive/MyDrive/Kaggle/CNN_IDC/Dataset/Train/0/13459_idx5_x401_y651_class0.png', '/content/gdrive/MyDrive/Kaggle/CNN_IDC/Dataset/Train/0/14306_idx5_x1701_y1001_class0.png', '/content/gdrive/MyDrive/Kaggle/CNN_IDC/Dataset/Train/0/10285_idx5_x1701_y551_class0.png', '/content/gdrive/MyDrive/Kaggle/CNN_IDC/Dataset/Train/0/12905_idx5_x2251_y1351_class0.png', '/content/gdrive/MyDrive/Kaggle/CNN_IDC/Dataset/Train/0/9123_idx5_x2051_y1401_class0.png', '/content/gdrive/MyDrive/Kaggle/CNN_IDC/Dataset/Train/0/15903_idx5_x551_y1501_class0.png', '/content/gdrive/MyDrive/Kaggle/CNN_IDC/Dataset/Train/0/12905_idx5_x1851_y2301_class0.png', '/content/gdrive/MyDrive/Kaggle/CNN_IDC/Dataset/Train/0/15902_idx5_x2951_y2501_class0.png', '/content/gdrive/MyDrive/Kaggle/CNN_IDC/Dataset/Train/0/16550_idx5_x1601_y701_class0.png', '/content/gdrive/MyDrive/Kaggle/CNN_IDC/Dataset/Train/0/13460_idx5_x1401_y1101_class0.png', '/content/gdrive/MyDrive/Kaggle/CNN_IDC/Dataset/Train/0/14156_idx5_x1851_y701_class0.png', '/content/gdrive/MyDrive/Kaggle/CNN_IDC/Dataset/Train/0/9037_idx5_x2251_y1001_class0.png', '/content/gdrive/MyDrive/Kaggle/CNN_IDC/Dataset/Train/0/10300_idx5_x2951_y1351_class0.png', '/content/gdrive/MyDrive/Kaggle/CNN_IDC/Dataset/Train/0/16014_idx5_x1401_y251_class0.png', '/content/gdrive/MyDrive/Kaggle/CNN_IDC/Dataset/Train/0/9075_idx5_x2601_y1551_class0.png', '/content/gdrive/MyDrive/Kaggle/CNN_IDC/Dataset/Train/0/10282_idx5_x1351_y2501_class0.png', '/content/gdrive/MyDrive/Kaggle/CNN_IDC/Dataset/Train/0/14191_idx5_x3251_y2501_class0.png', '/content/gdrive/MyDrive/Kaggle/CNN_IDC/Dataset/Train/0/13462_idx5_x1601_y2551_class0.png', '/content/gdrive/MyDrive/Kaggle/CNN_IDC/Dataset/Train/0/14156_idx5_x2001_y401_class0.png', '/content/gdrive/MyDrive/Kaggle/CNN_IDC/Dataset/Train/0/9078_idx5_x601_y1151_class0.png', '/content/gdrive/MyDrive/Kaggle/CNN_IDC/Dataset/Train/0/10268_idx5_x2451_y1551_class0.png', '/content/gdrive/MyDrive/Kaggle/CNN_IDC/Dataset/Train/0/12934_idx5_x451_y1601_class0.png', '/content/gdrive/MyDrive/Kaggle/CNN_IDC/Dataset/Train/0/16569_idx5_x401_y601_class0.png', '/content/gdrive/MyDrive/Kaggle/CNN_IDC/Dataset/Train/0/13400_idx5_x1301_y2051_class0.png', '/content/gdrive/MyDrive/Kaggle/CNN_IDC/Dataset/Train/0/9029_idx5_x701_y201_class0.png', '/content/gdrive/MyDrive/Kaggle/CNN_IDC/Dataset/Train/0/13021_idx5_x2101_y1051_class0.png', '/content/gdrive/MyDrive/Kaggle/CNN_IDC/Dataset/Train/0/12824_idx5_x1901_y951_class0.png', '/content/gdrive/MyDrive/Kaggle/CNN_IDC/Dataset/Train/0/12908_idx5_x1651_y1701_class0.png', '/content/gdrive/MyDrive/Kaggle/CNN_IDC/Dataset/Train/0/13106_idx5_x351_y1901_class0.png', '/content/gdrive/MyDrive/Kaggle/CNN_IDC/Dataset/Train/0/10291_idx5_x3251_y401_class0.png', '/content/gdrive/MyDrive/Kaggle/CNN_IDC/Dataset/Train/0/9075_idx5_x2201_y651_class0.png', '/content/gdrive/MyDrive/Kaggle/CNN_IDC/Dataset/Train/0/10302_idx5_x2801_y551_class0.png', '/content/gdrive/MyDrive/Kaggle/CNN_IDC/Dataset/Train/0/10272_idx5_x301_y1001_class0.png', '/content/gdrive/MyDrive/Kaggle/CNN_IDC/Dataset/Train/0/10301_idx5_x1851_y601_class0.png', '/content/gdrive/MyDrive/Kaggle/CNN_IDC/Dataset/Train/0/10259_idx5_x1551_y551_class0.png', '/content/gdrive/MyDrive/Kaggle/CNN_IDC/Dataset/Train/0/10259_idx5_x1551_y1101_class0.png', '/content/gdrive/MyDrive/Kaggle/CNN_IDC/Dataset/Train/0/12810_idx5_x801_y1251_class0.png', '/content/gdrive/MyDrive/Kaggle/CNN_IDC/Dataset/Train/0/16165_idx5_x951_y701_class0.png', '/content/gdrive/MyDrive/Kaggle/CNN_IDC/Dataset/Train/0/9125_idx5_x701_y1201_class0.png', '/content/gdrive/MyDrive/Kaggle/CNN_IDC/Dataset/Train/0/10286_idx5_x1051_y901_class0.png', '/content/gdrive/MyDrive/Kaggle/CNN_IDC/Dataset/Train/0/16552_idx5_x701_y851_class0.png', '/content/gdrive/MyDrive/Kaggle/CNN_IDC/Dataset/Train/0/8956_idx5_x2601_y1251_class0.png', '/content/gdrive/MyDrive/Kaggle/CNN_IDC/Dataset/Train/0/10302_idx5_x501_y1701_class0.png', '/content/gdrive/MyDrive/Kaggle/CNN_IDC/Dataset/Train/0/12931_idx5_x901_y1751_class0.png', '/content/gdrive/MyDrive/Kaggle/CNN_IDC/Dataset/Train/0/13021_idx5_x2351_y1001_class0.png', '/content/gdrive/MyDrive/Kaggle/CNN_IDC/Dataset/Train/0/8956_idx5_x2751_y501_class0.png', '/content/gdrive/MyDrive/Kaggle/CNN_IDC/Dataset/Train/0/8867_idx5_x2201_y1201_class0.png', '/content/gdrive/MyDrive/Kaggle/CNN_IDC/Dataset/Train/0/14156_idx5_x601_y1501_class0.png', '/content/gdrive/MyDrive/Kaggle/CNN_IDC/Dataset/Train/0/15513_idx5_x1201_y1501_class0.png', '/content/gdrive/MyDrive/Kaggle/CNN_IDC/Dataset/Train/0/10262_idx5_x501_y1001_class0.png', '/content/gdrive/MyDrive/Kaggle/CNN_IDC/Dataset/Train/0/10258_idx5_x1001_y1301_class0.png', '/content/gdrive/MyDrive/Kaggle/CNN_IDC/Dataset/Train/0/16555_idx5_x451_y301_class0.png', '/content/gdrive/MyDrive/Kaggle/CNN_IDC/Dataset/Train/0/10254_idx5_x651_y1451_class0.png', '/content/gdrive/MyDrive/Kaggle/CNN_IDC/Dataset/Train/0/9320_idx5_x3301_y1851_class0.png', '/content/gdrive/MyDrive/Kaggle/CNN_IDC/Dataset/Train/0/9077_idx5_x851_y101_class0.png', '/content/gdrive/MyDrive/Kaggle/CNN_IDC/Dataset/Train/0/9073_idx5_x1851_y51_class0.png', '/content/gdrive/MyDrive/Kaggle/CNN_IDC/Dataset/Train/0/9259_idx5_x1601_y951_class0.png', '/content/gdrive/MyDrive/Kaggle/CNN_IDC/Dataset/Train/0/10308_idx5_x751_y1951_class0.png', '/content/gdrive/MyDrive/Kaggle/CNN_IDC/Dataset/Train/0/9076_idx5_x501_y1101_class0.png', '/content/gdrive/MyDrive/Kaggle/CNN_IDC/Dataset/Train/0/9382_idx5_x201_y1451_class0.png', '/content/gdrive/MyDrive/Kaggle/CNN_IDC/Dataset/Train/0/12897_idx5_x2251_y2101_class0.png', '/content/gdrive/MyDrive/Kaggle/CNN_IDC/Dataset/Train/0/15510_idx5_x1201_y1951_class0.png', '/content/gdrive/MyDrive/Kaggle/CNN_IDC/Dataset/Train/0/9322_idx5_x2951_y1801_class0.png', '/content/gdrive/MyDrive/Kaggle/CNN_IDC/Dataset/Train/0/15632_idx5_x3101_y2551_class0.png', '/content/gdrive/MyDrive/Kaggle/CNN_IDC/Dataset/Train/0/10307_idx5_x2151_y401_class0.png', '/content/gdrive/MyDrive/Kaggle/CNN_IDC/Dataset/Train/0/9043_idx5_x1651_y601_class0.png', '/content/gdrive/MyDrive/Kaggle/CNN_IDC/Dataset/Train/0/16085_idx5_x901_y1451_class0.png', '/content/gdrive/MyDrive/Kaggle/CNN_IDC/Dataset/Train/0/12750_idx5_x1651_y1601_class0.png', '/content/gdrive/MyDrive/Kaggle/CNN_IDC/Dataset/Train/0/12821_idx5_x501_y451_class0.png', '/content/gdrive/MyDrive/Kaggle/CNN_IDC/Dataset/Train/0/13693_idx5_x501_y551_class0.png', '/content/gdrive/MyDrive/Kaggle/CNN_IDC/Dataset/Train/0/14211_idx5_x1801_y1701_class0.png', '/content/gdrive/MyDrive/Kaggle/CNN_IDC/Dataset/Train/0/9076_idx5_x2601_y2051_class0.png', '/content/gdrive/MyDrive/Kaggle/CNN_IDC/Dataset/Train/0/10300_idx5_x2201_y1751_class0.png', '/content/gdrive/MyDrive/Kaggle/CNN_IDC/Dataset/Train/0/13693_idx5_x851_y2451_class0.png', '/content/gdrive/MyDrive/Kaggle/CNN_IDC/Dataset/Train/0/10268_idx5_x1351_y51_class0.png', '/content/gdrive/MyDrive/Kaggle/CNN_IDC/Dataset/Train/0/12819_idx5_x2601_y651_class0.png', '/content/gdrive/MyDrive/Kaggle/CNN_IDC/Dataset/Train/0/9319_idx5_x1601_y501_class0.png', '/content/gdrive/MyDrive/Kaggle/CNN_IDC/Dataset/Train/0/9181_idx5_x1101_y1251_class0.png', '/content/gdrive/MyDrive/Kaggle/CNN_IDC/Dataset/Train/0/9322_idx5_x201_y1251_class0.png', '/content/gdrive/MyDrive/Kaggle/CNN_IDC/Dataset/Train/0/10272_idx5_x901_y1401_class0.png', '/content/gdrive/MyDrive/Kaggle/CNN_IDC/Dataset/Train/0/12751_idx5_x1701_y1401_class0.png', '/content/gdrive/MyDrive/Kaggle/CNN_IDC/Dataset/Train/0/10282_idx5_x1151_y2251_class0.png', '/content/gdrive/MyDrive/Kaggle/CNN_IDC/Dataset/Train/0/9256_idx5_x1901_y51_class0.png', '/content/gdrive/MyDrive/Kaggle/CNN_IDC/Dataset/Train/0/13022_idx5_x2851_y1151_class0.png', '/content/gdrive/MyDrive/Kaggle/CNN_IDC/Dataset/Train/0/10302_idx5_x1351_y301_class0.png', '/content/gdrive/MyDrive/Kaggle/CNN_IDC/Dataset/Train/0/13591_idx5_x3101_y1551_class0.png', '/content/gdrive/MyDrive/Kaggle/CNN_IDC/Dataset/Train/0/12934_idx5_x1601_y2551_class0.png', '/content/gdrive/MyDrive/Kaggle/CNN_IDC/Dataset/Train/0/9126_idx5_x2751_y1151_class0.png', '/content/gdrive/MyDrive/Kaggle/CNN_IDC/Dataset/Train/0/10301_idx5_x2201_y1201_class0.png', '/content/gdrive/MyDrive/Kaggle/CNN_IDC/Dataset/Train/0/12878_idx5_x601_y2651_class0.png', '/content/gdrive/MyDrive/Kaggle/CNN_IDC/Dataset/Train/0/12947_idx5_x2151_y2351_class0.png', '/content/gdrive/MyDrive/Kaggle/CNN_IDC/Dataset/Train/0/12947_idx5_x3001_y1301_class0.png', '/content/gdrive/MyDrive/Kaggle/CNN_IDC/Dataset/Train/0/10285_idx5_x851_y1201_class0.png', '/content/gdrive/MyDrive/Kaggle/CNN_IDC/Dataset/Train/0/13689_idx5_x1451_y1501_class0.png', '/content/gdrive/MyDrive/Kaggle/CNN_IDC/Dataset/Train/0/14157_idx5_x2551_y1201_class0.png', '/content/gdrive/MyDrive/Kaggle/CNN_IDC/Dataset/Train/0/15516_idx5_x2901_y1951_class0.png', '/content/gdrive/MyDrive/Kaggle/CNN_IDC/Dataset/Train/0/12870_idx5_x901_y1351_class0.png', '/content/gdrive/MyDrive/Kaggle/CNN_IDC/Dataset/Train/0/9036_idx5_x1851_y351_class0.png', '/content/gdrive/MyDrive/Kaggle/CNN_IDC/Dataset/Train/0/10253_idx5_x1601_y1151_class0.png', '/content/gdrive/MyDrive/Kaggle/CNN_IDC/Dataset/Train/0/10303_idx5_x1151_y2001_class0.png', '/content/gdrive/MyDrive/Kaggle/CNN_IDC/Dataset/Train/0/8867_idx5_x2251_y901_class0.png', '/content/gdrive/MyDrive/Kaggle/CNN_IDC/Dataset/Train/0/12910_idx5_x401_y251_class0.png', '/content/gdrive/MyDrive/Kaggle/CNN_IDC/Dataset/Train/0/12895_idx5_x3401_y501_class0.png', '/content/gdrive/MyDrive/Kaggle/CNN_IDC/Dataset/Train/0/15473_idx5_x1151_y351_class0.png', '/content/gdrive/MyDrive/Kaggle/CNN_IDC/Dataset/Train/0/13401_idx5_x1351_y1351_class0.png', '/content/gdrive/MyDrive/Kaggle/CNN_IDC/Dataset/Train/0/9126_idx5_x1651_y601_class0.png', '/content/gdrive/MyDrive/Kaggle/CNN_IDC/Dataset/Train/0/9320_idx5_x2201_y1601_class0.png', '/content/gdrive/MyDrive/Kaggle/CNN_IDC/Dataset/Train/0/9023_idx5_x651_y1551_class0.png', '/content/gdrive/MyDrive/Kaggle/CNN_IDC/Dataset/Train/0/9125_idx5_x1551_y1301_class0.png', '/content/gdrive/MyDrive/Kaggle/CNN_IDC/Dataset/Train/0/9023_idx5_x601_y401_class0.png', '/content/gdrive/MyDrive/Kaggle/CNN_IDC/Dataset/Train/0/15473_idx5_x1401_y251_class0.png', '/content/gdrive/MyDrive/Kaggle/CNN_IDC/Dataset/Train/0/9346_idx5_x1001_y751_class0.png', '/content/gdrive/MyDrive/Kaggle/CNN_IDC/Dataset/Train/0/10274_idx5_x1151_y1851_class0.png', '/content/gdrive/MyDrive/Kaggle/CNN_IDC/Dataset/Train/0/12820_idx5_x1801_y1451_class0.png', '/content/gdrive/MyDrive/Kaggle/CNN_IDC/Dataset/Train/0/8975_idx5_x3551_y1701_class0.png', '/content/gdrive/MyDrive/Kaggle/CNN_IDC/Dataset/Train/0/9177_idx5_x2951_y751_class0.png', '/content/gdrive/MyDrive/Kaggle/CNN_IDC/Dataset/Train/0/10275_idx5_x651_y651_class0.png', '/content/gdrive/MyDrive/Kaggle/CNN_IDC/Dataset/Train/0/10307_idx5_x2101_y751_class0.png', '/content/gdrive/MyDrive/Kaggle/CNN_IDC/Dataset/Train/0/13024_idx5_x551_y951_class0.png', '/content/gdrive/MyDrive/Kaggle/CNN_IDC/Dataset/Train/0/12905_idx5_x2151_y2151_class0.png', '/content/gdrive/MyDrive/Kaggle/CNN_IDC/Dataset/Train/0/12896_idx5_x751_y1601_class0.png', '/content/gdrive/MyDrive/Kaggle/CNN_IDC/Dataset/Train/0/9135_idx5_x1001_y651_class0.png', '/content/gdrive/MyDrive/Kaggle/CNN_IDC/Dataset/Train/0/16551_idx5_x1651_y1101_class0.png', '/content/gdrive/MyDrive/Kaggle/CNN_IDC/Dataset/Train/0/13916_idx5_x2351_y951_class0.png', '/content/gdrive/MyDrive/Kaggle/CNN_IDC/Dataset/Train/0/12932_idx5_x1151_y51_class0.png', '/content/gdrive/MyDrive/Kaggle/CNN_IDC/Dataset/Train/0/8975_idx5_x1301_y2551_class0.png', '/content/gdrive/MyDrive/Kaggle/CNN_IDC/Dataset/Train/0/9323_idx5_x1501_y1851_class0.png', '/content/gdrive/MyDrive/Kaggle/CNN_IDC/Dataset/Train/0/12908_idx5_x1801_y501_class0.png', '/content/gdrive/MyDrive/Kaggle/CNN_IDC/Dataset/Train/0/13462_idx5_x2451_y1301_class0.png', '/content/gdrive/MyDrive/Kaggle/CNN_IDC/Dataset/Train/0/8956_idx5_x2901_y651_class0.png', '/content/gdrive/MyDrive/Kaggle/CNN_IDC/Dataset/Train/0/13020_idx5_x2051_y1251_class0.png', '/content/gdrive/MyDrive/Kaggle/CNN_IDC/Dataset/Train/0/8913_idx5_x2201_y701_class0.png', '/content/gdrive/MyDrive/Kaggle/CNN_IDC/Dataset/Train/0/8984_idx5_x1651_y101_class0.png', '/content/gdrive/MyDrive/Kaggle/CNN_IDC/Dataset/Train/0/13693_idx5_x2601_y2101_class0.png', '/content/gdrive/MyDrive/Kaggle/CNN_IDC/Dataset/Train/0/12947_idx5_x2801_y651_class0.png', '/content/gdrive/MyDrive/Kaggle/CNN_IDC/Dataset/Train/0/13459_idx5_x1301_y751_class0.png', '/content/gdrive/MyDrive/Kaggle/CNN_IDC/Dataset/Train/0/9383_idx5_x1801_y1101_class0.png', '/content/gdrive/MyDrive/Kaggle/CNN_IDC/Dataset/Train/0/12826_idx5_x3501_y1201_class0.png', '/content/gdrive/MyDrive/Kaggle/CNN_IDC/Dataset/Train/0/13021_idx5_x1501_y551_class0.png', '/content/gdrive/MyDrive/Kaggle/CNN_IDC/Dataset/Train/0/9346_idx5_x951_y1151_class0.png', '/content/gdrive/MyDrive/Kaggle/CNN_IDC/Dataset/Train/0/10282_idx5_x3101_y1151_class0.png', '/content/gdrive/MyDrive/Kaggle/CNN_IDC/Dataset/Train/0/9250_idx5_x2201_y451_class0.png', '/content/gdrive/MyDrive/Kaggle/CNN_IDC/Dataset/Train/0/12823_idx5_x1751_y1951_class0.png', '/content/gdrive/MyDrive/Kaggle/CNN_IDC/Dataset/Train/0/12749_idx5_x1101_y2001_class0.png', '/content/gdrive/MyDrive/Kaggle/CNN_IDC/Dataset/Train/0/12626_idx5_x1551_y1001_class0.png', '/content/gdrive/MyDrive/Kaggle/CNN_IDC/Dataset/Train/0/8918_idx5_x1101_y751_class0.png', '/content/gdrive/MyDrive/Kaggle/CNN_IDC/Dataset/Train/0/8864_idx5_x3051_y1651_class0.png', '/content/gdrive/MyDrive/Kaggle/CNN_IDC/Dataset/Train/0/9250_idx5_x1801_y1501_class0.png', '/content/gdrive/MyDrive/Kaggle/CNN_IDC/Dataset/Train/0/15902_idx5_x3751_y601_class0.png', '/content/gdrive/MyDrive/Kaggle/CNN_IDC/Dataset/Train/0/12810_idx5_x2451_y2301_class0.png', '/content/gdrive/MyDrive/Kaggle/CNN_IDC/Dataset/Train/0/13617_idx5_x1001_y801_class0.png', '/content/gdrive/MyDrive/Kaggle/CNN_IDC/Dataset/Train/0/10290_idx5_x3101_y1101_class0.png', '/content/gdrive/MyDrive/Kaggle/CNN_IDC/Dataset/Train/0/12935_idx5_x701_y801_class0.png', '/content/gdrive/MyDrive/Kaggle/CNN_IDC/Dataset/Train/0/9226_idx5_x1301_y1901_class0.png', '/content/gdrive/MyDrive/Kaggle/CNN_IDC/Dataset/Train/0/10255_idx5_x1301_y351_class0.png', '/content/gdrive/MyDrive/Kaggle/CNN_IDC/Dataset/Train/0/10291_idx5_x801_y1551_class0.png', '/content/gdrive/MyDrive/Kaggle/CNN_IDC/Dataset/Train/0/12819_idx5_x1151_y451_class0.png', '/content/gdrive/MyDrive/Kaggle/CNN_IDC/Dataset/Train/0/15902_idx5_x301_y751_class0.png', '/content/gdrive/MyDrive/Kaggle/CNN_IDC/Dataset/Train/0/9345_idx5_x1951_y2651_class0.png', '/content/gdrive/MyDrive/Kaggle/CNN_IDC/Dataset/Train/0/13024_idx5_x2201_y1401_class0.png', '/content/gdrive/MyDrive/Kaggle/CNN_IDC/Dataset/Train/0/12911_idx5_x1851_y601_class0.png', '/content/gdrive/MyDrive/Kaggle/CNN_IDC/Dataset/Train/0/15472_idx5_x3051_y2201_class0.png', '/content/gdrive/MyDrive/Kaggle/CNN_IDC/Dataset/Train/0/13400_idx5_x2001_y2251_class0.png', '/content/gdrive/MyDrive/Kaggle/CNN_IDC/Dataset/Train/0/8863_idx5_x551_y601_class0.png', '/content/gdrive/MyDrive/Kaggle/CNN_IDC/Dataset/Train/0/13018_idx5_x401_y701_class0.png', '/content/gdrive/MyDrive/Kaggle/CNN_IDC/Dataset/Train/0/8974_idx5_x251_y1651_class0.png', '/content/gdrive/MyDrive/Kaggle/CNN_IDC/Dataset/Train/0/9324_idx5_x851_y1401_class0.png', '/content/gdrive/MyDrive/Kaggle/CNN_IDC/Dataset/Train/0/8956_idx5_x2551_y1901_class0.png', '/content/gdrive/MyDrive/Kaggle/CNN_IDC/Dataset/Train/0/12891_idx5_x2801_y1451_class0.png', '/content/gdrive/MyDrive/Kaggle/CNN_IDC/Dataset/Train/0/9250_idx5_x1451_y401_class0.png', '/content/gdrive/MyDrive/Kaggle/CNN_IDC/Dataset/Train/0/9265_idx5_x151_y851_class0.png', '/content/gdrive/MyDrive/Kaggle/CNN_IDC/Dataset/Train/0/10278_idx5_x1001_y1701_class0.png', '/content/gdrive/MyDrive/Kaggle/CNN_IDC/Dataset/Train/0/16550_idx5_x2101_y501_class0.png', '/content/gdrive/MyDrive/Kaggle/CNN_IDC/Dataset/Train/0/10262_idx5_x301_y1151_class0.png', '/content/gdrive/MyDrive/Kaggle/CNN_IDC/Dataset/Train/0/10264_idx5_x2451_y1201_class0.png', '/content/gdrive/MyDrive/Kaggle/CNN_IDC/Dataset/Train/0/8918_idx5_x551_y1001_class0.png', '/content/gdrive/MyDrive/Kaggle/CNN_IDC/Dataset/Train/0/9181_idx5_x951_y851_class0.png', '/content/gdrive/MyDrive/Kaggle/CNN_IDC/Dataset/Train/0/8975_idx5_x1401_y2501_class0.png', '/content/gdrive/MyDrive/Kaggle/CNN_IDC/Dataset/Train/0/12750_idx5_x351_y1401_class0.png', '/content/gdrive/MyDrive/Kaggle/CNN_IDC/Dataset/Train/0/12820_idx5_x3251_y751_class0.png', '/content/gdrive/MyDrive/Kaggle/CNN_IDC/Dataset/Train/0/14154_idx5_x1751_y1651_class0.png', '/content/gdrive/MyDrive/Kaggle/CNN_IDC/Dataset/Train/0/9181_idx5_x551_y751_class0.png', '/content/gdrive/MyDrive/Kaggle/CNN_IDC/Dataset/Train/0/10277_idx5_x1351_y951_class0.png', '/content/gdrive/MyDrive/Kaggle/CNN_IDC/Dataset/Train/0/9078_idx5_x2201_y2001_class0.png', '/content/gdrive/MyDrive/Kaggle/CNN_IDC/Dataset/Train/0/9255_idx5_x1901_y801_class0.png', '/content/gdrive/MyDrive/Kaggle/CNN_IDC/Dataset/Train/0/12892_idx5_x1001_y1051_class0.png', '/content/gdrive/MyDrive/Kaggle/CNN_IDC/Dataset/Train/0/9029_idx5_x2801_y451_class0.png', '/content/gdrive/MyDrive/Kaggle/CNN_IDC/Dataset/Train/0/12819_idx5_x3051_y2401_class0.png', '/content/gdrive/MyDrive/Kaggle/CNN_IDC/Dataset/Train/0/9383_idx5_x1851_y1101_class0.png', '/content/gdrive/MyDrive/Kaggle/CNN_IDC/Dataset/Train/0/16550_idx5_x1351_y2001_class0.png', '/content/gdrive/MyDrive/Kaggle/CNN_IDC/Dataset/Train/0/12911_idx5_x2301_y251_class0.png', '/content/gdrive/MyDrive/Kaggle/CNN_IDC/Dataset/Train/0/13460_idx5_x2001_y651_class0.png', '/content/gdrive/MyDrive/Kaggle/CNN_IDC/Dataset/Train/0/14156_idx5_x551_y1401_class0.png', '/content/gdrive/MyDrive/Kaggle/CNN_IDC/Dataset/Train/0/8865_idx5_x2101_y1051_class0.png', '/content/gdrive/MyDrive/Kaggle/CNN_IDC/Dataset/Train/0/9265_idx5_x3101_y1951_class0.png', '/content/gdrive/MyDrive/Kaggle/CNN_IDC/Dataset/Train/0/13462_idx5_x2751_y851_class0.png', '/content/gdrive/MyDrive/Kaggle/CNN_IDC/Dataset/Train/0/9075_idx5_x1951_y1051_class0.png', '/content/gdrive/MyDrive/Kaggle/CNN_IDC/Dataset/Train/0/9123_idx5_x1051_y1801_class0.png', '/content/gdrive/MyDrive/Kaggle/CNN_IDC/Dataset/Train/0/12934_idx5_x951_y2251_class0.png', '/content/gdrive/MyDrive/Kaggle/CNN_IDC/Dataset/Train/0/10282_idx5_x801_y2151_class0.png', '/content/gdrive/MyDrive/Kaggle/CNN_IDC/Dataset/Train/0/13460_idx5_x1751_y901_class0.png', '/content/gdrive/MyDrive/Kaggle/CNN_IDC/Dataset/Train/0/12947_idx5_x1651_y1401_class0.png', '/content/gdrive/MyDrive/Kaggle/CNN_IDC/Dataset/Train/0/10272_idx5_x1851_y1301_class0.png', '/content/gdrive/MyDrive/Kaggle/CNN_IDC/Dataset/Train/0/9322_idx5_x501_y1151_class0.png', '/content/gdrive/MyDrive/Kaggle/CNN_IDC/Dataset/Train/0/16085_idx5_x1101_y2351_class0.png', '/content/gdrive/MyDrive/Kaggle/CNN_IDC/Dataset/Train/0/9176_idx5_x701_y2101_class0.png', '/content/gdrive/MyDrive/Kaggle/CNN_IDC/Dataset/Train/0/14157_idx5_x3401_y1701_class0.png', '/content/gdrive/MyDrive/Kaggle/CNN_IDC/Dataset/Train/0/10295_idx5_x901_y1451_class0.png', '/content/gdrive/MyDrive/Kaggle/CNN_IDC/Dataset/Train/0/10272_idx5_x3351_y151_class0.png', '/content/gdrive/MyDrive/Kaggle/CNN_IDC/Dataset/Train/0/10261_idx5_x2351_y551_class0.png', '/content/gdrive/MyDrive/Kaggle/CNN_IDC/Dataset/Train/0/10308_idx5_x3101_y1651_class0.png', '/content/gdrive/MyDrive/Kaggle/CNN_IDC/Dataset/Train/0/12821_idx5_x2301_y201_class0.png', '/content/gdrive/MyDrive/Kaggle/CNN_IDC/Dataset/Train/0/10301_idx5_x651_y1351_class0.png', '/content/gdrive/MyDrive/Kaggle/CNN_IDC/Dataset/Train/0/9176_idx5_x1951_y1251_class0.png', '/content/gdrive/MyDrive/Kaggle/CNN_IDC/Dataset/Train/0/10291_idx5_x251_y2101_class0.png', '/content/gdrive/MyDrive/Kaggle/CNN_IDC/Dataset/Train/0/10274_idx5_x1051_y851_class0.png', '/content/gdrive/MyDrive/Kaggle/CNN_IDC/Dataset/Train/0/10282_idx5_x1801_y2501_class0.png', '/content/gdrive/MyDrive/Kaggle/CNN_IDC/Dataset/Train/0/15514_idx5_x1901_y1051_class0.png', '/content/gdrive/MyDrive/Kaggle/CNN_IDC/Dataset/Train/0/16531_idx5_x901_y1301_class0.png', '/content/gdrive/MyDrive/Kaggle/CNN_IDC/Dataset/Train/0/9041_idx5_x2601_y1001_class0.png', '/content/gdrive/MyDrive/Kaggle/CNN_IDC/Dataset/Train/0/12910_idx5_x3351_y1101_class0.png', '/content/gdrive/MyDrive/Kaggle/CNN_IDC/Dataset/Train/0/9041_idx5_x3251_y1751_class0.png', '/content/gdrive/MyDrive/Kaggle/CNN_IDC/Dataset/Train/0/13460_idx5_x1351_y851_class0.png', '/content/gdrive/MyDrive/Kaggle/CNN_IDC/Dataset/Train/0/10304_idx5_x1901_y1451_class0.png', '/content/gdrive/MyDrive/Kaggle/CNN_IDC/Dataset/Train/0/9173_idx5_x401_y801_class0.png', '/content/gdrive/MyDrive/Kaggle/CNN_IDC/Dataset/Train/0/9181_idx5_x401_y1051_class0.png', '/content/gdrive/MyDrive/Kaggle/CNN_IDC/Dataset/Train/0/12826_idx5_x501_y1501_class0.png', '/content/gdrive/MyDrive/Kaggle/CNN_IDC/Dataset/Train/0/13591_idx5_x2401_y2301_class0.png', '/content/gdrive/MyDrive/Kaggle/CNN_IDC/Dataset/Train/0/9322_idx5_x2351_y1151_class0.png', '/content/gdrive/MyDrive/Kaggle/CNN_IDC/Dataset/Train/0/10279_idx5_x2451_y301_class0.png', '/content/gdrive/MyDrive/Kaggle/CNN_IDC/Dataset/Train/0/10276_idx5_x951_y351_class0.png', '/content/gdrive/MyDrive/Kaggle/CNN_IDC/Dataset/Train/0/15513_idx5_x1001_y1251_class0.png', '/content/gdrive/MyDrive/Kaggle/CNN_IDC/Dataset/Train/0/10272_idx5_x3351_y2001_class0.png', '/content/gdrive/MyDrive/Kaggle/CNN_IDC/Dataset/Train/0/12910_idx5_x2951_y1151_class0.png', '/content/gdrive/MyDrive/Kaggle/CNN_IDC/Dataset/Train/0/14191_idx5_x1701_y551_class0.png', '/content/gdrive/MyDrive/Kaggle/CNN_IDC/Dataset/Train/0/12934_idx5_x1101_y1401_class0.png', '/content/gdrive/MyDrive/Kaggle/CNN_IDC/Dataset/Train/0/13459_idx5_x1651_y951_class0.png', '/content/gdrive/MyDrive/Kaggle/CNN_IDC/Dataset/Train/0/9022_idx5_x201_y651_class0.png', '/content/gdrive/MyDrive/Kaggle/CNN_IDC/Dataset/Train/0/13021_idx5_x2201_y351_class0.png', '/content/gdrive/MyDrive/Kaggle/CNN_IDC/Dataset/Train/0/12907_idx5_x2201_y1401_class0.png', '/content/gdrive/MyDrive/Kaggle/CNN_IDC/Dataset/Train/0/9259_idx5_x551_y2151_class0.png', '/content/gdrive/MyDrive/Kaggle/CNN_IDC/Dataset/Train/0/10259_idx5_x2451_y1451_class0.png', '/content/gdrive/MyDrive/Kaggle/CNN_IDC/Dataset/Train/0/9257_idx5_x301_y1851_class0.png', '/content/gdrive/MyDrive/Kaggle/CNN_IDC/Dataset/Train/0/9075_idx5_x2601_y2351_class0.png', '/content/gdrive/MyDrive/Kaggle/CNN_IDC/Dataset/Train/0/10273_idx5_x1651_y251_class0.png', '/content/gdrive/MyDrive/Kaggle/CNN_IDC/Dataset/Train/0/12879_idx5_x201_y301_class0.png', '/content/gdrive/MyDrive/Kaggle/CNN_IDC/Dataset/Train/0/12810_idx5_x3201_y501_class0.png', '/content/gdrive/MyDrive/Kaggle/CNN_IDC/Dataset/Train/0/14192_idx5_x1751_y101_class0.png', '/content/gdrive/MyDrive/Kaggle/CNN_IDC/Dataset/Train/0/14190_idx5_x2401_y501_class0.png', '/content/gdrive/MyDrive/Kaggle/CNN_IDC/Dataset/Train/0/9265_idx5_x1301_y301_class0.png', '/content/gdrive/MyDrive/Kaggle/CNN_IDC/Dataset/Train/0/12877_idx5_x301_y1351_class0.png', '/content/gdrive/MyDrive/Kaggle/CNN_IDC/Dataset/Train/0/9265_idx5_x1901_y1901_class0.png', '/content/gdrive/MyDrive/Kaggle/CNN_IDC/Dataset/Train/0/10259_idx5_x2101_y51_class0.png', '/content/gdrive/MyDrive/Kaggle/CNN_IDC/Dataset/Train/0/8867_idx5_x2551_y1901_class0.png', '/content/gdrive/MyDrive/Kaggle/CNN_IDC/Dataset/Train/0/12896_idx5_x1551_y1051_class0.png', '/content/gdrive/MyDrive/Kaggle/CNN_IDC/Dataset/Train/0/16551_idx5_x1351_y2851_class0.png', '/content/gdrive/MyDrive/Kaggle/CNN_IDC/Dataset/Train/0/10300_idx5_x3201_y651_class0.png', '/content/gdrive/MyDrive/Kaggle/CNN_IDC/Dataset/Train/0/8951_idx5_x2151_y951_class0.png', '/content/gdrive/MyDrive/Kaggle/CNN_IDC/Dataset/Train/0/13022_idx5_x2551_y251_class0.png', '/content/gdrive/MyDrive/Kaggle/CNN_IDC/Dataset/Train/0/8974_idx5_x251_y1151_class0.png', '/content/gdrive/MyDrive/Kaggle/CNN_IDC/Dataset/Train/0/8956_idx5_x1901_y1051_class0.png', '/content/gdrive/MyDrive/Kaggle/CNN_IDC/Dataset/Train/0/15515_idx5_x1551_y1001_class0.png', '/content/gdrive/MyDrive/Kaggle/CNN_IDC/Dataset/Train/0/12749_idx5_x3301_y401_class0.png', '/content/gdrive/MyDrive/Kaggle/CNN_IDC/Dataset/Train/0/12930_idx5_x451_y851_class0.png', '/content/gdrive/MyDrive/Kaggle/CNN_IDC/Dataset/Train/0/13460_idx5_x301_y1201_class0.png', '/content/gdrive/MyDrive/Kaggle/CNN_IDC/Dataset/Train/0/13692_idx5_x1301_y2401_class0.png', '/content/gdrive/MyDrive/Kaggle/CNN_IDC/Dataset/Train/0/10292_idx5_x3351_y951_class0.png', '/content/gdrive/MyDrive/Kaggle/CNN_IDC/Dataset/Train/0/8974_idx5_x1251_y951_class0.png', '/content/gdrive/MyDrive/Kaggle/CNN_IDC/Dataset/Train/0/10272_idx5_x1601_y851_class0.png', '/content/gdrive/MyDrive/Kaggle/CNN_IDC/Dataset/Train/0/15513_idx5_x1351_y851_class0.png', '/content/gdrive/MyDrive/Kaggle/CNN_IDC/Dataset/Train/0/16085_idx5_x2801_y1501_class0.png', '/content/gdrive/MyDrive/Kaggle/CNN_IDC/Dataset/Train/0/12826_idx5_x451_y1201_class0.png', '/content/gdrive/MyDrive/Kaggle/CNN_IDC/Dataset/Train/0/10272_idx5_x101_y801_class0.png', '/content/gdrive/MyDrive/Kaggle/CNN_IDC/Dataset/Train/0/12954_idx5_x1651_y2951_class0.png', '/content/gdrive/MyDrive/Kaggle/CNN_IDC/Dataset/Train/0/14155_idx5_x3501_y2051_class0.png', '/content/gdrive/MyDrive/Kaggle/CNN_IDC/Dataset/Train/0/10288_idx5_x2101_y2101_class0.png', '/content/gdrive/MyDrive/Kaggle/CNN_IDC/Dataset/Train/0/8867_idx5_x2801_y1401_class0.png', '/content/gdrive/MyDrive/Kaggle/CNN_IDC/Dataset/Train/0/8959_idx5_x501_y1201_class0.png', '/content/gdrive/MyDrive/Kaggle/CNN_IDC/Dataset/Train/0/9178_idx5_x351_y1751_class0.png', '/content/gdrive/MyDrive/Kaggle/CNN_IDC/Dataset/Train/0/9177_idx5_x1151_y151_class0.png', '/content/gdrive/MyDrive/Kaggle/CNN_IDC/Dataset/Train/0/9325_idx5_x1151_y701_class0.png', '/content/gdrive/MyDrive/Kaggle/CNN_IDC/Dataset/Train/0/10300_idx5_x901_y1801_class0.png', '/content/gdrive/MyDrive/Kaggle/CNN_IDC/Dataset/Train/0/10282_idx5_x2351_y2001_class0.png', '/content/gdrive/MyDrive/Kaggle/CNN_IDC/Dataset/Train/0/9324_idx5_x801_y1651_class0.png', '/content/gdrive/MyDrive/Kaggle/CNN_IDC/Dataset/Train/0/12749_idx5_x2201_y1401_class0.png', '/content/gdrive/MyDrive/Kaggle/CNN_IDC/Dataset/Train/0/12823_idx5_x3551_y1651_class0.png', '/content/gdrive/MyDrive/Kaggle/CNN_IDC/Dataset/Train/0/8867_idx5_x1401_y1801_class0.png', '/content/gdrive/MyDrive/Kaggle/CNN_IDC/Dataset/Train/0/12934_idx5_x2901_y2551_class0.png', '/content/gdrive/MyDrive/Kaggle/CNN_IDC/Dataset/Train/0/12954_idx5_x2301_y351_class0.png', '/content/gdrive/MyDrive/Kaggle/CNN_IDC/Dataset/Train/0/10300_idx5_x2451_y501_class0.png', '/content/gdrive/MyDrive/Kaggle/CNN_IDC/Dataset/Train/0/10261_idx5_x751_y451_class0.png', '/content/gdrive/MyDrive/Kaggle/CNN_IDC/Dataset/Train/0/9075_idx5_x1601_y1251_class0.png', '/content/gdrive/MyDrive/Kaggle/CNN_IDC/Dataset/Train/0/10301_idx5_x1501_y1551_class0.png', '/content/gdrive/MyDrive/Kaggle/CNN_IDC/Dataset/Train/0/10277_idx5_x651_y1301_class0.png', '/content/gdrive/MyDrive/Kaggle/CNN_IDC/Dataset/Train/0/9259_idx5_x3051_y2151_class0.png', '/content/gdrive/MyDrive/Kaggle/CNN_IDC/Dataset/Train/0/16896_idx5_x651_y1201_class0.png', '/content/gdrive/MyDrive/Kaggle/CNN_IDC/Dataset/Train/0/12935_idx5_x1301_y701_class0.png', '/content/gdrive/MyDrive/Kaggle/CNN_IDC/Dataset/Train/0/9126_idx5_x1651_y1701_class0.png', '/content/gdrive/MyDrive/Kaggle/CNN_IDC/Dataset/Train/0/10272_idx5_x3051_y2051_class0.png', '/content/gdrive/MyDrive/Kaggle/CNN_IDC/Dataset/Train/0/13693_idx5_x2151_y751_class0.png', '/content/gdrive/MyDrive/Kaggle/CNN_IDC/Dataset/Train/0/14192_idx5_x2601_y751_class0.png', '/content/gdrive/MyDrive/Kaggle/CNN_IDC/Dataset/Train/0/13687_idx5_x2551_y801_class0.png', '/content/gdrive/MyDrive/Kaggle/CNN_IDC/Dataset/Train/0/16553_idx5_x301_y1701_class0.png', '/content/gdrive/MyDrive/Kaggle/CNN_IDC/Dataset/Train/0/12905_idx5_x1951_y1201_class0.png', '/content/gdrive/MyDrive/Kaggle/CNN_IDC/Dataset/Train/0/16550_idx5_x601_y2401_class0.png', '/content/gdrive/MyDrive/Kaggle/CNN_IDC/Dataset/Train/0/15513_idx5_x651_y801_class0.png', '/content/gdrive/MyDrive/Kaggle/CNN_IDC/Dataset/Train/0/13106_idx5_x1_y2951_class0.png', '/content/gdrive/MyDrive/Kaggle/CNN_IDC/Dataset/Train/0/14079_idx5_x2301_y1201_class0.png', '/content/gdrive/MyDrive/Kaggle/CNN_IDC/Dataset/Train/0/14189_idx5_x3001_y1551_class0.png', '/content/gdrive/MyDrive/Kaggle/CNN_IDC/Dataset/Train/0/8913_idx5_x2151_y651_class0.png', '/content/gdrive/MyDrive/Kaggle/CNN_IDC/Dataset/Train/0/9225_idx5_x601_y851_class0.png', '/content/gdrive/MyDrive/Kaggle/CNN_IDC/Dataset/Train/0/10268_idx5_x2401_y1651_class0.png', '/content/gdrive/MyDrive/Kaggle/CNN_IDC/Dataset/Train/0/9267_idx5_x501_y1351_class0.png', '/content/gdrive/MyDrive/Kaggle/CNN_IDC/Dataset/Train/0/12886_idx5_x751_y1001_class0.png', '/content/gdrive/MyDrive/Kaggle/CNN_IDC/Dataset/Train/0/9347_idx5_x2101_y801_class0.png', '/content/gdrive/MyDrive/Kaggle/CNN_IDC/Dataset/Train/0/12869_idx5_x651_y1751_class0.png', '/content/gdrive/MyDrive/Kaggle/CNN_IDC/Dataset/Train/0/16552_idx5_x801_y901_class0.png', '/content/gdrive/MyDrive/Kaggle/CNN_IDC/Dataset/Train/0/15840_idx5_x1251_y951_class0.png', '/content/gdrive/MyDrive/Kaggle/CNN_IDC/Dataset/Train/0/9123_idx5_x2101_y2401_class0.png', '/content/gdrive/MyDrive/Kaggle/CNN_IDC/Dataset/Train/0/10276_idx5_x251_y501_class0.png', '/content/gdrive/MyDrive/Kaggle/CNN_IDC/Dataset/Train/0/12932_idx5_x1651_y201_class0.png', '/content/gdrive/MyDrive/Kaggle/CNN_IDC/Dataset/Train/0/10299_idx5_x451_y651_class0.png', '/content/gdrive/MyDrive/Kaggle/CNN_IDC/Dataset/Train/0/9265_idx5_x2351_y1201_class0.png', '/content/gdrive/MyDrive/Kaggle/CNN_IDC/Dataset/Train/0/16555_idx5_x351_y301_class0.png', '/content/gdrive/MyDrive/Kaggle/CNN_IDC/Dataset/Train/0/10254_idx5_x2151_y451_class0.png', '/content/gdrive/MyDrive/Kaggle/CNN_IDC/Dataset/Train/0/9322_idx5_x2901_y1951_class0.png', '/content/gdrive/MyDrive/Kaggle/CNN_IDC/Dataset/Train/0/9073_idx5_x2851_y1251_class0.png', '/content/gdrive/MyDrive/Kaggle/CNN_IDC/Dataset/Train/0/10295_idx5_x1251_y751_class0.png', '/content/gdrive/MyDrive/Kaggle/CNN_IDC/Dataset/Train/0/10259_idx5_x1201_y1951_class0.png', '/content/gdrive/MyDrive/Kaggle/CNN_IDC/Dataset/Train/0/10292_idx5_x3451_y1151_class0.png', '/content/gdrive/MyDrive/Kaggle/CNN_IDC/Dataset/Train/0/16568_idx5_x2551_y1301_class0.png', '/content/gdrive/MyDrive/Kaggle/CNN_IDC/Dataset/Train/0/14305_idx5_x2201_y551_class0.png', '/content/gdrive/MyDrive/Kaggle/CNN_IDC/Dataset/Train/0/13460_idx5_x351_y1651_class0.png', '/content/gdrive/MyDrive/Kaggle/CNN_IDC/Dataset/Train/0/13459_idx5_x401_y851_class0.png', '/content/gdrive/MyDrive/Kaggle/CNN_IDC/Dataset/Train/0/8864_idx5_x1901_y951_class0.png', '/content/gdrive/MyDrive/Kaggle/CNN_IDC/Dataset/Train/0/12910_idx5_x2201_y801_class0.png', '/content/gdrive/MyDrive/Kaggle/CNN_IDC/Dataset/Train/0/10259_idx5_x1851_y551_class0.png', '/content/gdrive/MyDrive/Kaggle/CNN_IDC/Dataset/Train/0/14079_idx5_x2701_y1151_class0.png', '/content/gdrive/MyDrive/Kaggle/CNN_IDC/Dataset/Train/0/13106_idx5_x3201_y2001_class0.png', '/content/gdrive/MyDrive/Kaggle/CNN_IDC/Dataset/Train/0/12894_idx5_x2401_y951_class0.png', '/content/gdrive/MyDrive/Kaggle/CNN_IDC/Dataset/Train/0/9324_idx5_x851_y1501_class0.png', '/content/gdrive/MyDrive/Kaggle/CNN_IDC/Dataset/Train/0/9320_idx5_x2851_y2101_class0.png', '/content/gdrive/MyDrive/Kaggle/CNN_IDC/Dataset/Train/0/13024_idx5_x1051_y1301_class0.png', '/content/gdrive/MyDrive/Kaggle/CNN_IDC/Dataset/Train/0/12930_idx5_x2601_y1651_class0.png', '/content/gdrive/MyDrive/Kaggle/CNN_IDC/Dataset/Train/0/12822_idx5_x1951_y1151_class0.png', '/content/gdrive/MyDrive/Kaggle/CNN_IDC/Dataset/Train/0/9078_idx5_x1401_y1701_class0.png', '/content/gdrive/MyDrive/Kaggle/CNN_IDC/Dataset/Train/0/16570_idx5_x601_y1201_class0.png', '/content/gdrive/MyDrive/Kaggle/CNN_IDC/Dataset/Train/0/16551_idx5_x1751_y801_class0.png', '/content/gdrive/MyDrive/Kaggle/CNN_IDC/Dataset/Train/0/10308_idx5_x101_y1551_class0.png', '/content/gdrive/MyDrive/Kaggle/CNN_IDC/Dataset/Train/0/9075_idx5_x851_y1151_class0.png', '/content/gdrive/MyDrive/Kaggle/CNN_IDC/Dataset/Train/0/16014_idx5_x1751_y1151_class0.png', '/content/gdrive/MyDrive/Kaggle/CNN_IDC/Dataset/Train/0/9322_idx5_x1651_y301_class0.png', '/content/gdrive/MyDrive/Kaggle/CNN_IDC/Dataset/Train/0/12870_idx5_x2551_y201_class0.png', '/content/gdrive/MyDrive/Kaggle/CNN_IDC/Dataset/Train/0/9173_idx5_x1151_y351_class0.png', '/content/gdrive/MyDrive/Kaggle/CNN_IDC/Dataset/Train/0/14156_idx5_x2501_y2151_class0.png', '/content/gdrive/MyDrive/Kaggle/CNN_IDC/Dataset/Train/0/12929_idx5_x1101_y1_class0.png', '/content/gdrive/MyDrive/Kaggle/CNN_IDC/Dataset/Train/0/9225_idx5_x851_y801_class0.png', '/content/gdrive/MyDrive/Kaggle/CNN_IDC/Dataset/Train/0/16568_idx5_x2851_y351_class0.png', '/content/gdrive/MyDrive/Kaggle/CNN_IDC/Dataset/Train/0/12954_idx5_x1251_y801_class0.png', '/content/gdrive/MyDrive/Kaggle/CNN_IDC/Dataset/Train/0/14155_idx5_x2401_y2051_class0.png', '/content/gdrive/MyDrive/Kaggle/CNN_IDC/Dataset/Train/0/16553_idx5_x451_y1401_class0.png', '/content/gdrive/MyDrive/Kaggle/CNN_IDC/Dataset/Train/0/16550_idx5_x851_y1551_class0.png', '/content/gdrive/MyDrive/Kaggle/CNN_IDC/Dataset/Train/0/12750_idx5_x2651_y1401_class0.png', '/content/gdrive/MyDrive/Kaggle/CNN_IDC/Dataset/Train/0/16570_idx5_x2801_y1151_class0.png', '/content/gdrive/MyDrive/Kaggle/CNN_IDC/Dataset/Train/0/9076_idx5_x2451_y2301_class0.png', '/content/gdrive/MyDrive/Kaggle/CNN_IDC/Dataset/Train/0/9036_idx5_x3401_y1051_class0.png', '/content/gdrive/MyDrive/Kaggle/CNN_IDC/Dataset/Train/0/8918_idx5_x301_y151_class0.png', '/content/gdrive/MyDrive/Kaggle/CNN_IDC/Dataset/Train/0/12911_idx5_x2351_y651_class0.png', '/content/gdrive/MyDrive/Kaggle/CNN_IDC/Dataset/Train/0/8980_idx5_x601_y601_class0.png', '/content/gdrive/MyDrive/Kaggle/CNN_IDC/Dataset/Train/0/14210_idx5_x1101_y1801_class0.png', '/content/gdrive/MyDrive/Kaggle/CNN_IDC/Dataset/Train/0/12821_idx5_x901_y451_class0.png', '/content/gdrive/MyDrive/Kaggle/CNN_IDC/Dataset/Train/0/12933_idx5_x1051_y551_class0.png', '/content/gdrive/MyDrive/Kaggle/CNN_IDC/Dataset/Train/0/10274_idx5_x851_y651_class0.png', '/content/gdrive/MyDrive/Kaggle/CNN_IDC/Dataset/Train/0/9266_idx5_x3201_y751_class0.png', '/content/gdrive/MyDrive/Kaggle/CNN_IDC/Dataset/Train/0/9290_idx5_x2501_y951_class0.png', '/content/gdrive/MyDrive/Kaggle/CNN_IDC/Dataset/Train/0/8959_idx5_x1751_y2201_class0.png', '/content/gdrive/MyDrive/Kaggle/CNN_IDC/Dataset/Train/0/15513_idx5_x301_y1701_class0.png', '/content/gdrive/MyDrive/Kaggle/CNN_IDC/Dataset/Train/0/12908_idx5_x1451_y801_class0.png', '/content/gdrive/MyDrive/Kaggle/CNN_IDC/Dataset/Train/0/14079_idx5_x2851_y851_class0.png', '/content/gdrive/MyDrive/Kaggle/CNN_IDC/Dataset/Train/0/14155_idx5_x2851_y2201_class0.png', '/content/gdrive/MyDrive/Kaggle/CNN_IDC/Dataset/Train/0/10260_idx5_x2401_y601_class0.png', '/content/gdrive/MyDrive/Kaggle/CNN_IDC/Dataset/Train/0/13693_idx5_x1401_y1701_class0.png', '/content/gdrive/MyDrive/Kaggle/CNN_IDC/Dataset/Train/0/14157_idx5_x1851_y1901_class0.png', '/content/gdrive/MyDrive/Kaggle/CNN_IDC/Dataset/Train/1/10273_idx5_x1501_y801_class1.png', '/content/gdrive/MyDrive/Kaggle/CNN_IDC/Dataset/Train/1/9173_idx5_x1551_y1951_class1.png', '/content/gdrive/MyDrive/Kaggle/CNN_IDC/Dataset/Train/1/12882_idx5_x1401_y551_class1.png', '/content/gdrive/MyDrive/Kaggle/CNN_IDC/Dataset/Train/1/10299_idx5_x1351_y551_class1.png', '/content/gdrive/MyDrive/Kaggle/CNN_IDC/Dataset/Train/1/9044_idx5_x701_y601_class1.png', '/content/gdrive/MyDrive/Kaggle/CNN_IDC/Dataset/Train/1/16166_idx5_x1501_y1801_class1.png', '/content/gdrive/MyDrive/Kaggle/CNN_IDC/Dataset/Train/1/9261_idx5_x1101_y951_class1.png', '/content/gdrive/MyDrive/Kaggle/CNN_IDC/Dataset/Train/1/12907_idx5_x2301_y1601_class1.png', '/content/gdrive/MyDrive/Kaggle/CNN_IDC/Dataset/Train/1/13687_idx5_x1951_y701_class1.png', '/content/gdrive/MyDrive/Kaggle/CNN_IDC/Dataset/Train/1/16165_idx5_x2201_y1501_class1.png', '/content/gdrive/MyDrive/Kaggle/CNN_IDC/Dataset/Train/1/12935_idx5_x1651_y851_class1.png', '/content/gdrive/MyDrive/Kaggle/CNN_IDC/Dataset/Train/1/16568_idx5_x2001_y901_class1.png', '/content/gdrive/MyDrive/Kaggle/CNN_IDC/Dataset/Train/1/16568_idx5_x1551_y751_class1.png', '/content/gdrive/MyDrive/Kaggle/CNN_IDC/Dataset/Train/1/10302_idx5_x1851_y1601_class1.png', '/content/gdrive/MyDrive/Kaggle/CNN_IDC/Dataset/Train/1/9255_idx5_x2901_y901_class1.png', '/content/gdrive/MyDrive/Kaggle/CNN_IDC/Dataset/Train/1/13404_idx5_x1851_y1801_class1.png', '/content/gdrive/MyDrive/Kaggle/CNN_IDC/Dataset/Train/1/10293_idx5_x1401_y1601_class1.png', '/content/gdrive/MyDrive/Kaggle/CNN_IDC/Dataset/Train/1/12906_idx5_x2201_y1551_class1.png', '/content/gdrive/MyDrive/Kaggle/CNN_IDC/Dataset/Train/1/13024_idx5_x451_y701_class1.png', '/content/gdrive/MyDrive/Kaggle/CNN_IDC/Dataset/Train/1/12949_idx5_x1651_y951_class1.png', '/content/gdrive/MyDrive/Kaggle/CNN_IDC/Dataset/Train/1/9267_idx5_x2201_y801_class1.png', '/content/gdrive/MyDrive/Kaggle/CNN_IDC/Dataset/Train/1/9324_idx5_x1051_y351_class1.png', '/content/gdrive/MyDrive/Kaggle/CNN_IDC/Dataset/Train/1/10307_idx5_x1601_y1301_class1.png', '/content/gdrive/MyDrive/Kaggle/CNN_IDC/Dataset/Train/1/9173_idx5_x2151_y1001_class1.png', '/content/gdrive/MyDrive/Kaggle/CNN_IDC/Dataset/Train/1/16570_idx5_x1601_y851_class1.png', '/content/gdrive/MyDrive/Kaggle/CNN_IDC/Dataset/Train/1/14154_idx5_x2051_y1251_class1.png', '/content/gdrive/MyDrive/Kaggle/CNN_IDC/Dataset/Train/1/12752_idx5_x2501_y701_class1.png', '/content/gdrive/MyDrive/Kaggle/CNN_IDC/Dataset/Train/1/10302_idx5_x2101_y1351_class1.png', '/content/gdrive/MyDrive/Kaggle/CNN_IDC/Dataset/Train/1/12749_idx5_x2751_y801_class1.png', '/content/gdrive/MyDrive/Kaggle/CNN_IDC/Dataset/Train/1/10273_idx5_x2351_y1451_class1.png', '/content/gdrive/MyDrive/Kaggle/CNN_IDC/Dataset/Train/1/15510_idx5_x2401_y2101_class1.png', '/content/gdrive/MyDrive/Kaggle/CNN_IDC/Dataset/Train/1/16553_idx5_x601_y1551_class1.png', '/content/gdrive/MyDrive/Kaggle/CNN_IDC/Dataset/Train/1/10264_idx5_x1701_y701_class1.png', '/content/gdrive/MyDrive/Kaggle/CNN_IDC/Dataset/Train/1/12884_idx5_x1451_y901_class1.png', '/content/gdrive/MyDrive/Kaggle/CNN_IDC/Dataset/Train/1/8867_idx5_x551_y951_class1.png', '/content/gdrive/MyDrive/Kaggle/CNN_IDC/Dataset/Train/1/10293_idx5_x1401_y1651_class1.png', '/content/gdrive/MyDrive/Kaggle/CNN_IDC/Dataset/Train/1/10273_idx5_x1651_y1951_class1.png', '/content/gdrive/MyDrive/Kaggle/CNN_IDC/Dataset/Train/1/15516_idx5_x2251_y1751_class1.png', '/content/gdrive/MyDrive/Kaggle/CNN_IDC/Dataset/Train/1/12751_idx5_x2051_y2401_class1.png', '/content/gdrive/MyDrive/Kaggle/CNN_IDC/Dataset/Train/1/9124_idx5_x1701_y701_class1.png', '/content/gdrive/MyDrive/Kaggle/CNN_IDC/Dataset/Train/1/9256_idx5_x1751_y1451_class1.png', '/content/gdrive/MyDrive/Kaggle/CNN_IDC/Dataset/Train/1/12895_idx5_x1901_y1701_class1.png', '/content/gdrive/MyDrive/Kaggle/CNN_IDC/Dataset/Train/1/16165_idx5_x2051_y1101_class1.png', '/content/gdrive/MyDrive/Kaggle/CNN_IDC/Dataset/Train/1/10299_idx5_x2001_y2151_class1.png', '/content/gdrive/MyDrive/Kaggle/CNN_IDC/Dataset/Train/1/9262_idx5_x551_y1501_class1.png', '/content/gdrive/MyDrive/Kaggle/CNN_IDC/Dataset/Train/1/9383_idx5_x1751_y801_class1.png', '/content/gdrive/MyDrive/Kaggle/CNN_IDC/Dataset/Train/1/13591_idx5_x2551_y1751_class1.png', '/content/gdrive/MyDrive/Kaggle/CNN_IDC/Dataset/Train/1/15471_idx5_x2051_y951_class1.png', '/content/gdrive/MyDrive/Kaggle/CNN_IDC/Dataset/Train/1/12817_idx5_x1201_y501_class1.png', '/content/gdrive/MyDrive/Kaggle/CNN_IDC/Dataset/Train/1/16165_idx5_x1151_y1201_class1.png', '/content/gdrive/MyDrive/Kaggle/CNN_IDC/Dataset/Train/1/12879_idx5_x601_y251_class1.png', '/content/gdrive/MyDrive/Kaggle/CNN_IDC/Dataset/Train/1/10256_idx5_x1951_y951_class1.png', '/content/gdrive/MyDrive/Kaggle/CNN_IDC/Dataset/Train/1/9077_idx5_x1601_y1851_class1.png', '/content/gdrive/MyDrive/Kaggle/CNN_IDC/Dataset/Train/1/8864_idx5_x2101_y2501_class1.png', '/content/gdrive/MyDrive/Kaggle/CNN_IDC/Dataset/Train/1/10264_idx5_x1301_y1151_class1.png', '/content/gdrive/MyDrive/Kaggle/CNN_IDC/Dataset/Train/1/10293_idx5_x1301_y1301_class1.png', '/content/gdrive/MyDrive/Kaggle/CNN_IDC/Dataset/Train/1/9255_idx5_x3151_y751_class1.png', '/content/gdrive/MyDrive/Kaggle/CNN_IDC/Dataset/Train/1/9077_idx5_x1201_y801_class1.png', '/content/gdrive/MyDrive/Kaggle/CNN_IDC/Dataset/Train/1/8974_idx5_x751_y901_class1.png', '/content/gdrive/MyDrive/Kaggle/CNN_IDC/Dataset/Train/1/16165_idx5_x1251_y2301_class1.png', '/content/gdrive/MyDrive/Kaggle/CNN_IDC/Dataset/Train/1/13402_idx5_x2001_y251_class1.png', '/content/gdrive/MyDrive/Kaggle/CNN_IDC/Dataset/Train/1/14155_idx5_x2551_y851_class1.png', '/content/gdrive/MyDrive/Kaggle/CNN_IDC/Dataset/Train/1/14078_idx5_x1151_y901_class1.png', '/content/gdrive/MyDrive/Kaggle/CNN_IDC/Dataset/Train/1/13693_idx5_x551_y1801_class1.png', '/content/gdrive/MyDrive/Kaggle/CNN_IDC/Dataset/Train/1/14155_idx5_x3251_y1601_class1.png', '/content/gdrive/MyDrive/Kaggle/CNN_IDC/Dataset/Train/1/13019_idx5_x1701_y1801_class1.png', '/content/gdrive/MyDrive/Kaggle/CNN_IDC/Dataset/Train/1/14154_idx5_x1551_y401_class1.png', '/content/gdrive/MyDrive/Kaggle/CNN_IDC/Dataset/Train/1/10303_idx5_x2101_y1151_class1.png', '/content/gdrive/MyDrive/Kaggle/CNN_IDC/Dataset/Train/1/12901_idx5_x2151_y851_class1.png', '/content/gdrive/MyDrive/Kaggle/CNN_IDC/Dataset/Train/1/8864_idx5_x2301_y2601_class1.png', '/content/gdrive/MyDrive/Kaggle/CNN_IDC/Dataset/Train/1/8867_idx5_x1151_y1001_class1.png', '/content/gdrive/MyDrive/Kaggle/CNN_IDC/Dataset/Train/1/16553_idx5_x1501_y1301_class1.png', '/content/gdrive/MyDrive/Kaggle/CNN_IDC/Dataset/Train/1/9226_idx5_x1001_y2251_class1.png', '/content/gdrive/MyDrive/Kaggle/CNN_IDC/Dataset/Train/1/14191_idx5_x2201_y1701_class1.png', '/content/gdrive/MyDrive/Kaggle/CNN_IDC/Dataset/Train/1/12817_idx5_x1801_y901_class1.png', '/content/gdrive/MyDrive/Kaggle/CNN_IDC/Dataset/Train/1/9077_idx5_x2401_y751_class1.png', '/content/gdrive/MyDrive/Kaggle/CNN_IDC/Dataset/Train/1/9267_idx5_x2301_y851_class1.png', '/content/gdrive/MyDrive/Kaggle/CNN_IDC/Dataset/Train/1/12891_idx5_x551_y1001_class1.png', '/content/gdrive/MyDrive/Kaggle/CNN_IDC/Dataset/Train/1/10299_idx5_x1601_y1951_class1.png', '/content/gdrive/MyDrive/Kaggle/CNN_IDC/Dataset/Train/1/9077_idx5_x1601_y1151_class1.png', '/content/gdrive/MyDrive/Kaggle/CNN_IDC/Dataset/Train/1/12818_idx5_x2551_y1951_class1.png', '/content/gdrive/MyDrive/Kaggle/CNN_IDC/Dataset/Train/1/14190_idx5_x1051_y1101_class1.png', '/content/gdrive/MyDrive/Kaggle/CNN_IDC/Dataset/Train/1/9267_idx5_x1851_y1201_class1.png', '/content/gdrive/MyDrive/Kaggle/CNN_IDC/Dataset/Train/1/8975_idx5_x1801_y1701_class1.png', '/content/gdrive/MyDrive/Kaggle/CNN_IDC/Dataset/Train/1/8975_idx5_x2001_y1601_class1.png', '/content/gdrive/MyDrive/Kaggle/CNN_IDC/Dataset/Train/1/15840_idx5_x501_y751_class1.png', '/content/gdrive/MyDrive/Kaggle/CNN_IDC/Dataset/Train/1/10273_idx5_x1501_y751_class1.png', '/content/gdrive/MyDrive/Kaggle/CNN_IDC/Dataset/Train/1/10300_idx5_x2101_y601_class1.png', '/content/gdrive/MyDrive/Kaggle/CNN_IDC/Dataset/Train/1/12892_idx5_x2051_y451_class1.png', '/content/gdrive/MyDrive/Kaggle/CNN_IDC/Dataset/Train/1/8864_idx5_x2101_y2151_class1.png', '/content/gdrive/MyDrive/Kaggle/CNN_IDC/Dataset/Train/1/12884_idx5_x1501_y751_class1.png', '/content/gdrive/MyDrive/Kaggle/CNN_IDC/Dataset/Train/1/12826_idx5_x2801_y451_class1.png', '/content/gdrive/MyDrive/Kaggle/CNN_IDC/Dataset/Train/1/12873_idx5_x1251_y351_class1.png', '/content/gdrive/MyDrive/Kaggle/CNN_IDC/Dataset/Train/1/12886_idx5_x251_y751_class1.png', '/content/gdrive/MyDrive/Kaggle/CNN_IDC/Dataset/Train/1/10303_idx5_x1001_y1651_class1.png', '/content/gdrive/MyDrive/Kaggle/CNN_IDC/Dataset/Train/1/15840_idx5_x801_y1051_class1.png', '/content/gdrive/MyDrive/Kaggle/CNN_IDC/Dataset/Train/1/8867_idx5_x951_y1101_class1.png', '/content/gdrive/MyDrive/Kaggle/CNN_IDC/Dataset/Train/1/9267_idx5_x2251_y1401_class1.png', '/content/gdrive/MyDrive/Kaggle/CNN_IDC/Dataset/Train/1/9029_idx5_x2251_y901_class1.png', '/content/gdrive/MyDrive/Kaggle/CNN_IDC/Dataset/Train/1/10262_idx5_x1901_y1551_class1.png', '/content/gdrive/MyDrive/Kaggle/CNN_IDC/Dataset/Train/1/14154_idx5_x2751_y901_class1.png', '/content/gdrive/MyDrive/Kaggle/CNN_IDC/Dataset/Train/1/12935_idx5_x1501_y1351_class1.png', '/content/gdrive/MyDrive/Kaggle/CNN_IDC/Dataset/Train/1/12906_idx5_x1301_y1601_class1.png', '/content/gdrive/MyDrive/Kaggle/CNN_IDC/Dataset/Train/1/13402_idx5_x2301_y51_class1.png', '/content/gdrive/MyDrive/Kaggle/CNN_IDC/Dataset/Train/1/10276_idx5_x1001_y951_class1.png', '/content/gdrive/MyDrive/Kaggle/CNN_IDC/Dataset/Train/1/9077_idx5_x1951_y1151_class1.png', '/content/gdrive/MyDrive/Kaggle/CNN_IDC/Dataset/Train/1/10262_idx5_x1651_y1001_class1.png', '/content/gdrive/MyDrive/Kaggle/CNN_IDC/Dataset/Train/1/12891_idx5_x1801_y1651_class1.png', '/content/gdrive/MyDrive/Kaggle/CNN_IDC/Dataset/Train/1/8975_idx5_x1451_y1551_class1.png', '/content/gdrive/MyDrive/Kaggle/CNN_IDC/Dataset/Train/1/12909_idx5_x1251_y1201_class1.png', '/content/gdrive/MyDrive/Kaggle/CNN_IDC/Dataset/Train/1/9226_idx5_x951_y2601_class1.png', '/content/gdrive/MyDrive/Kaggle/CNN_IDC/Dataset/Train/1/15473_idx5_x1901_y1551_class1.png', '/content/gdrive/MyDrive/Kaggle/CNN_IDC/Dataset/Train/1/10273_idx5_x2301_y1051_class1.png', '/content/gdrive/MyDrive/Kaggle/CNN_IDC/Dataset/Train/1/13693_idx5_x701_y951_class1.png', '/content/gdrive/MyDrive/Kaggle/CNN_IDC/Dataset/Train/1/13693_idx5_x451_y1151_class1.png', '/content/gdrive/MyDrive/Kaggle/CNN_IDC/Dataset/Train/1/13459_idx5_x1051_y501_class1.png', '/content/gdrive/MyDrive/Kaggle/CNN_IDC/Dataset/Train/1/13022_idx5_x1451_y2451_class1.png', '/content/gdrive/MyDrive/Kaggle/CNN_IDC/Dataset/Train/1/12826_idx5_x2851_y801_class1.png', '/content/gdrive/MyDrive/Kaggle/CNN_IDC/Dataset/Train/1/9226_idx5_x1601_y2551_class1.png', '/content/gdrive/MyDrive/Kaggle/CNN_IDC/Dataset/Train/1/14191_idx5_x2401_y1851_class1.png', '/content/gdrive/MyDrive/Kaggle/CNN_IDC/Dataset/Train/1/12752_idx5_x2601_y501_class1.png', '/content/gdrive/MyDrive/Kaggle/CNN_IDC/Dataset/Train/1/12752_idx5_x1851_y501_class1.png', '/content/gdrive/MyDrive/Kaggle/CNN_IDC/Dataset/Train/1/15473_idx5_x901_y1551_class1.png', '/content/gdrive/MyDrive/Kaggle/CNN_IDC/Dataset/Train/1/13022_idx5_x2201_y1151_class1.png', '/content/gdrive/MyDrive/Kaggle/CNN_IDC/Dataset/Train/1/16165_idx5_x1601_y751_class1.png', '/content/gdrive/MyDrive/Kaggle/CNN_IDC/Dataset/Train/1/9176_idx5_x1851_y2001_class1.png', '/content/gdrive/MyDrive/Kaggle/CNN_IDC/Dataset/Train/1/12934_idx5_x1951_y901_class1.png', '/content/gdrive/MyDrive/Kaggle/CNN_IDC/Dataset/Train/1/10273_idx5_x1801_y1651_class1.png', '/content/gdrive/MyDrive/Kaggle/CNN_IDC/Dataset/Train/1/9346_idx5_x1351_y1351_class1.png', '/content/gdrive/MyDrive/Kaggle/CNN_IDC/Dataset/Train/1/12823_idx5_x2851_y1601_class1.png', '/content/gdrive/MyDrive/Kaggle/CNN_IDC/Dataset/Train/1/12934_idx5_x2251_y1851_class1.png', '/content/gdrive/MyDrive/Kaggle/CNN_IDC/Dataset/Train/1/14154_idx5_x2101_y351_class1.png', '/content/gdrive/MyDrive/Kaggle/CNN_IDC/Dataset/Train/1/10299_idx5_x1601_y701_class1.png', '/content/gdrive/MyDrive/Kaggle/CNN_IDC/Dataset/Train/1/9077_idx5_x1151_y1301_class1.png', '/content/gdrive/MyDrive/Kaggle/CNN_IDC/Dataset/Train/1/16167_idx5_x2251_y1351_class1.png', '/content/gdrive/MyDrive/Kaggle/CNN_IDC/Dataset/Train/1/16570_idx5_x2451_y1001_class1.png', '/content/gdrive/MyDrive/Kaggle/CNN_IDC/Dataset/Train/1/16568_idx5_x2201_y1051_class1.png', '/content/gdrive/MyDrive/Kaggle/CNN_IDC/Dataset/Train/1/13462_idx5_x501_y1101_class1.png', '/content/gdrive/MyDrive/Kaggle/CNN_IDC/Dataset/Train/1/13591_idx5_x2301_y1851_class1.png', '/content/gdrive/MyDrive/Kaggle/CNN_IDC/Dataset/Train/1/16166_idx5_x1551_y1751_class1.png', '/content/gdrive/MyDrive/Kaggle/CNN_IDC/Dataset/Train/1/9023_idx5_x1451_y1601_class1.png', '/content/gdrive/MyDrive/Kaggle/CNN_IDC/Dataset/Train/1/14190_idx5_x2451_y1601_class1.png', '/content/gdrive/MyDrive/Kaggle/CNN_IDC/Dataset/Train/1/9023_idx5_x1351_y1401_class1.png', '/content/gdrive/MyDrive/Kaggle/CNN_IDC/Dataset/Train/1/9261_idx5_x2501_y1401_class1.png', '/content/gdrive/MyDrive/Kaggle/CNN_IDC/Dataset/Train/1/13462_idx5_x601_y2151_class1.png', '/content/gdrive/MyDrive/Kaggle/CNN_IDC/Dataset/Train/1/8975_idx5_x1201_y1801_class1.png', '/content/gdrive/MyDrive/Kaggle/CNN_IDC/Dataset/Train/1/16554_idx5_x351_y1301_class1.png', '/content/gdrive/MyDrive/Kaggle/CNN_IDC/Dataset/Train/1/14154_idx5_x2001_y1351_class1.png', '/content/gdrive/MyDrive/Kaggle/CNN_IDC/Dataset/Train/1/12934_idx5_x2451_y1901_class1.png', '/content/gdrive/MyDrive/Kaggle/CNN_IDC/Dataset/Train/1/9261_idx5_x1651_y1301_class1.png', '/content/gdrive/MyDrive/Kaggle/CNN_IDC/Dataset/Train/1/15516_idx5_x1601_y1601_class1.png', '/content/gdrive/MyDrive/Kaggle/CNN_IDC/Dataset/Train/1/10293_idx5_x901_y1651_class1.png', '/content/gdrive/MyDrive/Kaggle/CNN_IDC/Dataset/Train/1/13693_idx5_x1201_y1351_class1.png', '/content/gdrive/MyDrive/Kaggle/CNN_IDC/Dataset/Train/1/9344_idx5_x1751_y1101_class1.png', '/content/gdrive/MyDrive/Kaggle/CNN_IDC/Dataset/Train/1/16532_idx5_x2251_y951_class1.png', '/content/gdrive/MyDrive/Kaggle/CNN_IDC/Dataset/Train/1/9255_idx5_x2651_y951_class1.png', '/content/gdrive/MyDrive/Kaggle/CNN_IDC/Dataset/Train/1/9125_idx5_x1501_y1451_class1.png', '/content/gdrive/MyDrive/Kaggle/CNN_IDC/Dataset/Train/1/8950_idx5_x1301_y1551_class1.png', '/content/gdrive/MyDrive/Kaggle/CNN_IDC/Dataset/Train/1/12817_idx5_x2501_y451_class1.png', '/content/gdrive/MyDrive/Kaggle/CNN_IDC/Dataset/Train/1/8917_idx5_x501_y801_class1.png', '/content/gdrive/MyDrive/Kaggle/CNN_IDC/Dataset/Train/1/13019_idx5_x1701_y1151_class1.png', '/content/gdrive/MyDrive/Kaggle/CNN_IDC/Dataset/Train/1/12907_idx5_x1751_y2451_class1.png', '/content/gdrive/MyDrive/Kaggle/CNN_IDC/Dataset/Train/1/12906_idx5_x2501_y2001_class1.png', '/content/gdrive/MyDrive/Kaggle/CNN_IDC/Dataset/Train/1/14157_idx5_x2251_y1301_class1.png', '/content/gdrive/MyDrive/Kaggle/CNN_IDC/Dataset/Train/1/13459_idx5_x1201_y701_class1.png', '/content/gdrive/MyDrive/Kaggle/CNN_IDC/Dataset/Train/1/12818_idx5_x1651_y951_class1.png', '/content/gdrive/MyDrive/Kaggle/CNN_IDC/Dataset/Train/1/9078_idx5_x1901_y1651_class1.png', '/content/gdrive/MyDrive/Kaggle/CNN_IDC/Dataset/Train/1/9123_idx5_x1851_y1551_class1.png', '/content/gdrive/MyDrive/Kaggle/CNN_IDC/Dataset/Train/1/10304_idx5_x801_y701_class1.png', '/content/gdrive/MyDrive/Kaggle/CNN_IDC/Dataset/Train/1/10264_idx5_x851_y1801_class1.png', '/content/gdrive/MyDrive/Kaggle/CNN_IDC/Dataset/Train/1/9173_idx5_x2401_y1901_class1.png', '/content/gdrive/MyDrive/Kaggle/CNN_IDC/Dataset/Train/1/13691_idx5_x2451_y1201_class1.png', '/content/gdrive/MyDrive/Kaggle/CNN_IDC/Dataset/Train/1/15633_idx5_x1401_y651_class1.png', '/content/gdrive/MyDrive/Kaggle/CNN_IDC/Dataset/Train/1/8956_idx5_x1301_y301_class1.png', '/content/gdrive/MyDrive/Kaggle/CNN_IDC/Dataset/Train/1/8917_idx5_x1151_y951_class1.png', '/content/gdrive/MyDrive/Kaggle/CNN_IDC/Dataset/Train/1/9250_idx5_x851_y1101_class1.png', '/content/gdrive/MyDrive/Kaggle/CNN_IDC/Dataset/Train/1/9077_idx5_x1451_y1301_class1.png', '/content/gdrive/MyDrive/Kaggle/CNN_IDC/Dataset/Train/1/8864_idx5_x2501_y2451_class1.png', '/content/gdrive/MyDrive/Kaggle/CNN_IDC/Dataset/Train/1/14191_idx5_x2451_y1601_class1.png', '/content/gdrive/MyDrive/Kaggle/CNN_IDC/Dataset/Train/1/12823_idx5_x3351_y901_class1.png', '/content/gdrive/MyDrive/Kaggle/CNN_IDC/Dataset/Train/1/12897_idx5_x2201_y551_class1.png', '/content/gdrive/MyDrive/Kaggle/CNN_IDC/Dataset/Train/1/9346_idx5_x2101_y2301_class1.png', '/content/gdrive/MyDrive/Kaggle/CNN_IDC/Dataset/Train/1/15473_idx5_x1751_y1901_class1.png', '/content/gdrive/MyDrive/Kaggle/CNN_IDC/Dataset/Train/1/12867_idx5_x2051_y1851_class1.png', '/content/gdrive/MyDrive/Kaggle/CNN_IDC/Dataset/Train/1/10303_idx5_x2551_y1451_class1.png', '/content/gdrive/MyDrive/Kaggle/CNN_IDC/Dataset/Train/1/9173_idx5_x2401_y1201_class1.png', '/content/gdrive/MyDrive/Kaggle/CNN_IDC/Dataset/Train/1/12826_idx5_x2801_y801_class1.png', '/content/gdrive/MyDrive/Kaggle/CNN_IDC/Dataset/Train/1/9250_idx5_x851_y951_class1.png', '/content/gdrive/MyDrive/Kaggle/CNN_IDC/Dataset/Train/1/8975_idx5_x1501_y1401_class1.png', '/content/gdrive/MyDrive/Kaggle/CNN_IDC/Dataset/Train/1/12906_idx5_x2351_y2201_class1.png', '/content/gdrive/MyDrive/Kaggle/CNN_IDC/Dataset/Train/1/14213_idx5_x1701_y1301_class1.png', '/content/gdrive/MyDrive/Kaggle/CNN_IDC/Dataset/Train/1/12880_idx5_x301_y1851_class1.png', '/content/gdrive/MyDrive/Kaggle/CNN_IDC/Dataset/Train/1/12820_idx5_x2651_y601_class1.png', '/content/gdrive/MyDrive/Kaggle/CNN_IDC/Dataset/Train/1/9260_idx5_x701_y101_class1.png', '/content/gdrive/MyDrive/Kaggle/CNN_IDC/Dataset/Train/1/12895_idx5_x1851_y1951_class1.png', '/content/gdrive/MyDrive/Kaggle/CNN_IDC/Dataset/Train/1/12818_idx5_x1401_y1001_class1.png', '/content/gdrive/MyDrive/Kaggle/CNN_IDC/Dataset/Train/1/9259_idx5_x1401_y1751_class1.png', '/content/gdrive/MyDrive/Kaggle/CNN_IDC/Dataset/Train/1/12751_idx5_x2601_y751_class1.png', '/content/gdrive/MyDrive/Kaggle/CNN_IDC/Dataset/Train/1/12906_idx5_x2201_y2351_class1.png', '/content/gdrive/MyDrive/Kaggle/CNN_IDC/Dataset/Train/1/12908_idx5_x2251_y1551_class1.png', '/content/gdrive/MyDrive/Kaggle/CNN_IDC/Dataset/Train/1/15633_idx5_x1351_y301_class1.png', '/content/gdrive/MyDrive/Kaggle/CNN_IDC/Dataset/Train/1/12935_idx5_x1701_y1951_class1.png', '/content/gdrive/MyDrive/Kaggle/CNN_IDC/Dataset/Train/1/12893_idx5_x251_y2151_class1.png', '/content/gdrive/MyDrive/Kaggle/CNN_IDC/Dataset/Train/1/9177_idx5_x1751_y1751_class1.png', '/content/gdrive/MyDrive/Kaggle/CNN_IDC/Dataset/Train/1/14188_idx5_x1551_y1751_class1.png', '/content/gdrive/MyDrive/Kaggle/CNN_IDC/Dataset/Train/1/12931_idx5_x1451_y1501_class1.png', '/content/gdrive/MyDrive/Kaggle/CNN_IDC/Dataset/Train/1/12900_idx5_x2301_y1501_class1.png', '/content/gdrive/MyDrive/Kaggle/CNN_IDC/Dataset/Train/1/12949_idx5_x1451_y1651_class1.png', '/content/gdrive/MyDrive/Kaggle/CNN_IDC/Dataset/Train/1/10264_idx5_x1151_y1701_class1.png', '/content/gdrive/MyDrive/Kaggle/CNN_IDC/Dataset/Train/1/8917_idx5_x1551_y351_class1.png', '/content/gdrive/MyDrive/Kaggle/CNN_IDC/Dataset/Train/1/15473_idx5_x2101_y1051_class1.png', '/content/gdrive/MyDrive/Kaggle/CNN_IDC/Dataset/Train/1/10274_idx5_x2051_y701_class1.png', '/content/gdrive/MyDrive/Kaggle/CNN_IDC/Dataset/Train/1/9083_idx5_x1451_y751_class1.png', '/content/gdrive/MyDrive/Kaggle/CNN_IDC/Dataset/Train/1/9345_idx5_x1951_y401_class1.png', '/content/gdrive/MyDrive/Kaggle/CNN_IDC/Dataset/Train/1/12947_idx5_x1701_y2451_class1.png', '/content/gdrive/MyDrive/Kaggle/CNN_IDC/Dataset/Train/1/13616_idx5_x2351_y1151_class1.png', '/content/gdrive/MyDrive/Kaggle/CNN_IDC/Dataset/Train/1/12752_idx5_x2851_y1401_class1.png', '/content/gdrive/MyDrive/Kaggle/CNN_IDC/Dataset/Train/1/12895_idx5_x1951_y2451_class1.png', '/content/gdrive/MyDrive/Kaggle/CNN_IDC/Dataset/Train/1/9043_idx5_x3251_y701_class1.png', '/content/gdrive/MyDrive/Kaggle/CNN_IDC/Dataset/Train/1/12752_idx5_x2351_y751_class1.png', '/content/gdrive/MyDrive/Kaggle/CNN_IDC/Dataset/Train/1/9043_idx5_x3501_y851_class1.png', '/content/gdrive/MyDrive/Kaggle/CNN_IDC/Dataset/Train/1/9078_idx5_x1651_y1651_class1.png', '/content/gdrive/MyDrive/Kaggle/CNN_IDC/Dataset/Train/1/9344_idx5_x2351_y1301_class1.png', '/content/gdrive/MyDrive/Kaggle/CNN_IDC/Dataset/Train/1/12910_idx5_x901_y251_class1.png', '/content/gdrive/MyDrive/Kaggle/CNN_IDC/Dataset/Train/1/14154_idx5_x1451_y1101_class1.png', '/content/gdrive/MyDrive/Kaggle/CNN_IDC/Dataset/Train/1/10274_idx5_x1501_y951_class1.png', '/content/gdrive/MyDrive/Kaggle/CNN_IDC/Dataset/Train/1/10256_idx5_x1801_y851_class1.png', '/content/gdrive/MyDrive/Kaggle/CNN_IDC/Dataset/Train/1/15634_idx5_x1001_y1551_class1.png', '/content/gdrive/MyDrive/Kaggle/CNN_IDC/Dataset/Train/1/12908_idx5_x2251_y1101_class1.png', '/content/gdrive/MyDrive/Kaggle/CNN_IDC/Dataset/Train/1/13613_idx5_x2001_y2151_class1.png', '/content/gdrive/MyDrive/Kaggle/CNN_IDC/Dataset/Train/1/14306_idx5_x2201_y1151_class1.png', '/content/gdrive/MyDrive/Kaggle/CNN_IDC/Dataset/Train/1/13403_idx5_x901_y251_class1.png', '/content/gdrive/MyDrive/Kaggle/CNN_IDC/Dataset/Train/1/9382_idx5_x1551_y1101_class1.png', '/content/gdrive/MyDrive/Kaggle/CNN_IDC/Dataset/Train/1/9175_idx5_x1801_y201_class1.png', '/content/gdrive/MyDrive/Kaggle/CNN_IDC/Dataset/Train/1/10299_idx5_x1601_y1201_class1.png', '/content/gdrive/MyDrive/Kaggle/CNN_IDC/Dataset/Train/1/10273_idx5_x2101_y701_class1.png', '/content/gdrive/MyDrive/Kaggle/CNN_IDC/Dataset/Train/1/15902_idx5_x2201_y1401_class1.png', '/content/gdrive/MyDrive/Kaggle/CNN_IDC/Dataset/Train/1/10308_idx5_x1951_y1401_class1.png', '/content/gdrive/MyDrive/Kaggle/CNN_IDC/Dataset/Train/1/9077_idx5_x451_y1701_class1.png', '/content/gdrive/MyDrive/Kaggle/CNN_IDC/Dataset/Train/1/14191_idx5_x2201_y1501_class1.png', '/content/gdrive/MyDrive/Kaggle/CNN_IDC/Dataset/Train/1/12817_idx5_x1901_y851_class1.png', '/content/gdrive/MyDrive/Kaggle/CNN_IDC/Dataset/Train/1/10256_idx5_x1801_y1151_class1.png', '/content/gdrive/MyDrive/Kaggle/CNN_IDC/Dataset/Train/1/12895_idx5_x1401_y1251_class1.png', '/content/gdrive/MyDrive/Kaggle/CNN_IDC/Dataset/Train/1/12751_idx5_x1201_y1301_class1.png', '/content/gdrive/MyDrive/Kaggle/CNN_IDC/Dataset/Train/1/10264_idx5_x1301_y1401_class1.png', '/content/gdrive/MyDrive/Kaggle/CNN_IDC/Dataset/Train/1/15902_idx5_x2451_y1651_class1.png', '/content/gdrive/MyDrive/Kaggle/CNN_IDC/Dataset/Train/1/10273_idx5_x2701_y1751_class1.png', '/content/gdrive/MyDrive/Kaggle/CNN_IDC/Dataset/Train/1/12893_idx5_x1201_y1451_class1.png', '/content/gdrive/MyDrive/Kaggle/CNN_IDC/Dataset/Train/1/10253_idx5_x551_y651_class1.png', '/content/gdrive/MyDrive/Kaggle/CNN_IDC/Dataset/Train/1/12626_idx5_x1301_y1951_class1.png', '/content/gdrive/MyDrive/Kaggle/CNN_IDC/Dataset/Train/1/12821_idx5_x1951_y1551_class1.png', '/content/gdrive/MyDrive/Kaggle/CNN_IDC/Dataset/Train/1/15516_idx5_x1951_y1451_class1.png', '/content/gdrive/MyDrive/Kaggle/CNN_IDC/Dataset/Train/1/9023_idx5_x1351_y1751_class1.png', '/content/gdrive/MyDrive/Kaggle/CNN_IDC/Dataset/Train/1/9124_idx5_x1151_y551_class1.png', '/content/gdrive/MyDrive/Kaggle/CNN_IDC/Dataset/Train/1/12906_idx5_x2001_y2501_class1.png', '/content/gdrive/MyDrive/Kaggle/CNN_IDC/Dataset/Train/1/9135_idx5_x1151_y1851_class1.png', '/content/gdrive/MyDrive/Kaggle/CNN_IDC/Dataset/Train/1/10302_idx5_x851_y1551_class1.png', '/content/gdrive/MyDrive/Kaggle/CNN_IDC/Dataset/Train/1/10302_idx5_x1601_y2051_class1.png', '/content/gdrive/MyDrive/Kaggle/CNN_IDC/Dataset/Train/1/16554_idx5_x951_y1001_class1.png', '/content/gdrive/MyDrive/Kaggle/CNN_IDC/Dataset/Train/1/10264_idx5_x1151_y1251_class1.png', '/content/gdrive/MyDrive/Kaggle/CNN_IDC/Dataset/Train/1/12820_idx5_x3051_y1001_class1.png', '/content/gdrive/MyDrive/Kaggle/CNN_IDC/Dataset/Train/1/9324_idx5_x1301_y801_class1.png', '/content/gdrive/MyDrive/Kaggle/CNN_IDC/Dataset/Train/1/8956_idx5_x1051_y551_class1.png', '/content/gdrive/MyDrive/Kaggle/CNN_IDC/Dataset/Train/1/8975_idx5_x2351_y1351_class1.png', '/content/gdrive/MyDrive/Kaggle/CNN_IDC/Dataset/Train/1/12820_idx5_x3151_y251_class1.png', '/content/gdrive/MyDrive/Kaggle/CNN_IDC/Dataset/Train/1/8950_idx5_x451_y651_class1.png', '/content/gdrive/MyDrive/Kaggle/CNN_IDC/Dataset/Train/1/9041_idx5_x2351_y1551_class1.png', '/content/gdrive/MyDrive/Kaggle/CNN_IDC/Dataset/Train/1/9125_idx5_x1251_y1101_class1.png', '/content/gdrive/MyDrive/Kaggle/CNN_IDC/Dataset/Train/1/9324_idx5_x1151_y751_class1.png', '/content/gdrive/MyDrive/Kaggle/CNN_IDC/Dataset/Train/1/15473_idx5_x1651_y1401_class1.png', '/content/gdrive/MyDrive/Kaggle/CNN_IDC/Dataset/Train/1/9265_idx5_x1801_y1651_class1.png', '/content/gdrive/MyDrive/Kaggle/CNN_IDC/Dataset/Train/1/16165_idx5_x2301_y2051_class1.png', '/content/gdrive/MyDrive/Kaggle/CNN_IDC/Dataset/Train/1/16532_idx5_x951_y651_class1.png', '/content/gdrive/MyDrive/Kaggle/CNN_IDC/Dataset/Train/1/10273_idx5_x1601_y1451_class1.png', '/content/gdrive/MyDrive/Kaggle/CNN_IDC/Dataset/Train/1/15903_idx5_x1151_y1251_class1.png', '/content/gdrive/MyDrive/Kaggle/CNN_IDC/Dataset/Train/1/12752_idx5_x1951_y1101_class1.png', '/content/gdrive/MyDrive/Kaggle/CNN_IDC/Dataset/Train/1/9321_idx5_x1851_y2001_class1.png', '/content/gdrive/MyDrive/Kaggle/CNN_IDC/Dataset/Train/1/9029_idx5_x2251_y951_class1.png', '/content/gdrive/MyDrive/Kaggle/CNN_IDC/Dataset/Train/1/12811_idx5_x801_y901_class1.png', '/content/gdrive/MyDrive/Kaggle/CNN_IDC/Dataset/Train/1/10264_idx5_x1301_y1201_class1.png', '/content/gdrive/MyDrive/Kaggle/CNN_IDC/Dataset/Train/1/13025_idx5_x2101_y1001_class1.png', '/content/gdrive/MyDrive/Kaggle/CNN_IDC/Dataset/Train/1/9176_idx5_x1651_y1551_class1.png', '/content/gdrive/MyDrive/Kaggle/CNN_IDC/Dataset/Train/1/15515_idx5_x251_y951_class1.png', '/content/gdrive/MyDrive/Kaggle/CNN_IDC/Dataset/Train/1/12817_idx5_x1251_y1151_class1.png', '/content/gdrive/MyDrive/Kaggle/CNN_IDC/Dataset/Train/1/10306_idx5_x801_y951_class1.png', '/content/gdrive/MyDrive/Kaggle/CNN_IDC/Dataset/Train/1/12908_idx5_x2201_y851_class1.png', '/content/gdrive/MyDrive/Kaggle/CNN_IDC/Dataset/Train/1/12909_idx5_x1151_y1001_class1.png', '/content/gdrive/MyDrive/Kaggle/CNN_IDC/Dataset/Train/1/8974_idx5_x1351_y1201_class1.png', '/content/gdrive/MyDrive/Kaggle/CNN_IDC/Dataset/Train/1/14155_idx5_x3551_y501_class1.png', '/content/gdrive/MyDrive/Kaggle/CNN_IDC/Dataset/Train/1/12934_idx5_x2751_y1701_class1.png', '/content/gdrive/MyDrive/Kaggle/CNN_IDC/Dataset/Train/1/9255_idx5_x2801_y401_class1.png', '/content/gdrive/MyDrive/Kaggle/CNN_IDC/Dataset/Train/1/12895_idx5_x1951_y1251_class1.png', '/content/gdrive/MyDrive/Kaggle/CNN_IDC/Dataset/Train/1/9347_idx5_x701_y951_class1.png', '/content/gdrive/MyDrive/Kaggle/CNN_IDC/Dataset/Train/1/16896_idx5_x801_y1601_class1.png', '/content/gdrive/MyDrive/Kaggle/CNN_IDC/Dataset/Train/1/8975_idx5_x2551_y1951_class1.png', '/content/gdrive/MyDrive/Kaggle/CNN_IDC/Dataset/Train/1/9126_idx5_x2201_y1951_class1.png', '/content/gdrive/MyDrive/Kaggle/CNN_IDC/Dataset/Train/1/12749_idx5_x3301_y751_class1.png', '/content/gdrive/MyDrive/Kaggle/CNN_IDC/Dataset/Train/1/12906_idx5_x2351_y901_class1.png', '/content/gdrive/MyDrive/Kaggle/CNN_IDC/Dataset/Train/1/12894_idx5_x1351_y1451_class1.png', '/content/gdrive/MyDrive/Kaggle/CNN_IDC/Dataset/Train/1/13459_idx5_x1051_y551_class1.png', '/content/gdrive/MyDrive/Kaggle/CNN_IDC/Dataset/Train/1/9043_idx5_x2751_y1101_class1.png', '/content/gdrive/MyDrive/Kaggle/CNN_IDC/Dataset/Train/1/13024_idx5_x1001_y1501_class1.png', '/content/gdrive/MyDrive/Kaggle/CNN_IDC/Dataset/Train/1/14211_idx5_x1901_y1551_class1.png', '/content/gdrive/MyDrive/Kaggle/CNN_IDC/Dataset/Train/1/12820_idx5_x2901_y901_class1.png', '/content/gdrive/MyDrive/Kaggle/CNN_IDC/Dataset/Train/1/10277_idx5_x751_y1201_class1.png', '/content/gdrive/MyDrive/Kaggle/CNN_IDC/Dataset/Train/1/13616_idx5_x1151_y1701_class1.png', '/content/gdrive/MyDrive/Kaggle/CNN_IDC/Dataset/Train/1/12949_idx5_x1701_y551_class1.png', '/content/gdrive/MyDrive/Kaggle/CNN_IDC/Dataset/Train/1/9381_idx5_x751_y1251_class1.png', '/content/gdrive/MyDrive/Kaggle/CNN_IDC/Dataset/Train/1/8864_idx5_x1801_y2151_class1.png', '/content/gdrive/MyDrive/Kaggle/CNN_IDC/Dataset/Train/1/10259_idx5_x1501_y1801_class1.png', '/content/gdrive/MyDrive/Kaggle/CNN_IDC/Dataset/Train/1/12880_idx5_x901_y1201_class1.png', '/content/gdrive/MyDrive/Kaggle/CNN_IDC/Dataset/Train/1/13613_idx5_x2201_y2001_class1.png', '/content/gdrive/MyDrive/Kaggle/CNN_IDC/Dataset/Train/1/9043_idx5_x2801_y701_class1.png', '/content/gdrive/MyDrive/Kaggle/CNN_IDC/Dataset/Train/1/9345_idx5_x2451_y51_class1.png', '/content/gdrive/MyDrive/Kaggle/CNN_IDC/Dataset/Train/1/12880_idx5_x1651_y1701_class1.png', '/content/gdrive/MyDrive/Kaggle/CNN_IDC/Dataset/Train/1/9226_idx5_x701_y2401_class1.png', '/content/gdrive/MyDrive/Kaggle/CNN_IDC/Dataset/Train/1/9267_idx5_x2001_y301_class1.png', '/content/gdrive/MyDrive/Kaggle/CNN_IDC/Dataset/Train/1/15902_idx5_x2701_y1001_class1.png', '/content/gdrive/MyDrive/Kaggle/CNN_IDC/Dataset/Train/1/12909_idx5_x1551_y851_class1.png', '/content/gdrive/MyDrive/Kaggle/CNN_IDC/Dataset/Train/1/10292_idx5_x1251_y1851_class1.png', '/content/gdrive/MyDrive/Kaggle/CNN_IDC/Dataset/Train/1/12872_idx5_x1301_y351_class1.png', '/content/gdrive/MyDrive/Kaggle/CNN_IDC/Dataset/Train/1/9257_idx5_x1801_y451_class1.png', '/content/gdrive/MyDrive/Kaggle/CNN_IDC/Dataset/Train/1/9077_idx5_x1101_y951_class1.png', '/content/gdrive/MyDrive/Kaggle/CNN_IDC/Dataset/Train/1/9250_idx5_x1201_y1701_class1.png', '/content/gdrive/MyDrive/Kaggle/CNN_IDC/Dataset/Train/1/13022_idx5_x2101_y1951_class1.png', '/content/gdrive/MyDrive/Kaggle/CNN_IDC/Dataset/Train/1/13616_idx5_x1901_y1151_class1.png', '/content/gdrive/MyDrive/Kaggle/CNN_IDC/Dataset/Train/1/14190_idx5_x2101_y1851_class1.png', '/content/gdrive/MyDrive/Kaggle/CNN_IDC/Dataset/Train/1/14081_idx5_x2651_y201_class1.png', '/content/gdrive/MyDrive/Kaggle/CNN_IDC/Dataset/Train/1/9043_idx5_x3151_y951_class1.png', '/content/gdrive/MyDrive/Kaggle/CNN_IDC/Dataset/Train/1/9022_idx5_x2451_y1151_class1.png', '/content/gdrive/MyDrive/Kaggle/CNN_IDC/Dataset/Train/1/9323_idx5_x1501_y1151_class1.png', '/content/gdrive/MyDrive/Kaggle/CNN_IDC/Dataset/Train/1/12906_idx5_x1901_y2501_class1.png', '/content/gdrive/MyDrive/Kaggle/CNN_IDC/Dataset/Train/1/15902_idx5_x2951_y1251_class1.png', '/content/gdrive/MyDrive/Kaggle/CNN_IDC/Dataset/Train/1/9077_idx5_x1101_y1651_class1.png', '/content/gdrive/MyDrive/Kaggle/CNN_IDC/Dataset/Train/1/12910_idx5_x651_y51_class1.png', '/content/gdrive/MyDrive/Kaggle/CNN_IDC/Dataset/Train/1/9226_idx5_x1251_y2051_class1.png', '/content/gdrive/MyDrive/Kaggle/CNN_IDC/Dataset/Train/1/16554_idx5_x1351_y1051_class1.png', '/content/gdrive/MyDrive/Kaggle/CNN_IDC/Dataset/Train/1/8980_idx5_x1001_y1201_class1.png', '/content/gdrive/MyDrive/Kaggle/CNN_IDC/Dataset/Train/1/12873_idx5_x1401_y551_class1.png', '/content/gdrive/MyDrive/Kaggle/CNN_IDC/Dataset/Train/1/10303_idx5_x1801_y851_class1.png', '/content/gdrive/MyDrive/Kaggle/CNN_IDC/Dataset/Train/1/12951_idx5_x1401_y1651_class1.png', '/content/gdrive/MyDrive/Kaggle/CNN_IDC/Dataset/Train/1/13691_idx5_x3101_y1451_class1.png', '/content/gdrive/MyDrive/Kaggle/CNN_IDC/Dataset/Train/1/9346_idx5_x2001_y1651_class1.png', '/content/gdrive/MyDrive/Kaggle/CNN_IDC/Dataset/Train/1/9257_idx5_x1301_y401_class1.png', '/content/gdrive/MyDrive/Kaggle/CNN_IDC/Dataset/Train/1/14155_idx5_x2901_y1351_class1.png', '/content/gdrive/MyDrive/Kaggle/CNN_IDC/Dataset/Train/1/14154_idx5_x2201_y1551_class1.png', '/content/gdrive/MyDrive/Kaggle/CNN_IDC/Dataset/Train/1/14079_idx5_x1201_y1051_class1.png', '/content/gdrive/MyDrive/Kaggle/CNN_IDC/Dataset/Train/1/15473_idx5_x801_y1651_class1.png', '/content/gdrive/MyDrive/Kaggle/CNN_IDC/Dataset/Train/1/15902_idx5_x2651_y1401_class1.png', '/content/gdrive/MyDrive/Kaggle/CNN_IDC/Dataset/Train/1/9023_idx5_x2201_y1601_class1.png', '/content/gdrive/MyDrive/Kaggle/CNN_IDC/Dataset/Train/1/12949_idx5_x1701_y1451_class1.png', '/content/gdrive/MyDrive/Kaggle/CNN_IDC/Dataset/Train/1/14209_idx5_x1351_y401_class1.png', '/content/gdrive/MyDrive/Kaggle/CNN_IDC/Dataset/Train/1/9320_idx5_x2001_y2251_class1.png', '/content/gdrive/MyDrive/Kaggle/CNN_IDC/Dataset/Train/1/15840_idx5_x1551_y1751_class1.png', '/content/gdrive/MyDrive/Kaggle/CNN_IDC/Dataset/Train/1/9346_idx5_x1701_y1901_class1.png', '/content/gdrive/MyDrive/Kaggle/CNN_IDC/Dataset/Train/1/14191_idx5_x2001_y2051_class1.png', '/content/gdrive/MyDrive/Kaggle/CNN_IDC/Dataset/Train/1/9257_idx5_x1701_y451_class1.png', '/content/gdrive/MyDrive/Kaggle/CNN_IDC/Dataset/Train/1/9323_idx5_x1251_y1401_class1.png', '/content/gdrive/MyDrive/Kaggle/CNN_IDC/Dataset/Train/1/14155_idx5_x2301_y1601_class1.png', '/content/gdrive/MyDrive/Kaggle/CNN_IDC/Dataset/Train/1/9178_idx5_x901_y751_class1.png', '/content/gdrive/MyDrive/Kaggle/CNN_IDC/Dataset/Train/1/12901_idx5_x2301_y1001_class1.png', '/content/gdrive/MyDrive/Kaggle/CNN_IDC/Dataset/Train/1/9041_idx5_x2301_y1501_class1.png', '/content/gdrive/MyDrive/Kaggle/CNN_IDC/Dataset/Train/1/9254_idx5_x2751_y1101_class1.png', '/content/gdrive/MyDrive/Kaggle/CNN_IDC/Dataset/Train/1/10269_idx5_x1351_y801_class1.png', '/content/gdrive/MyDrive/Kaggle/CNN_IDC/Dataset/Train/1/12823_idx5_x2751_y851_class1.png', '/content/gdrive/MyDrive/Kaggle/CNN_IDC/Dataset/Train/1/16570_idx5_x1701_y1501_class1.png', '/content/gdrive/MyDrive/Kaggle/CNN_IDC/Dataset/Train/1/14191_idx5_x1701_y2201_class1.png', '/content/gdrive/MyDrive/Kaggle/CNN_IDC/Dataset/Train/1/13616_idx5_x1401_y2201_class1.png', '/content/gdrive/MyDrive/Kaggle/CNN_IDC/Dataset/Train/1/16166_idx5_x2151_y1501_class1.png', '/content/gdrive/MyDrive/Kaggle/CNN_IDC/Dataset/Train/1/8917_idx5_x1051_y801_class1.png', '/content/gdrive/MyDrive/Kaggle/CNN_IDC/Dataset/Train/1/12242_idx5_x1951_y1151_class1.png', '/content/gdrive/MyDrive/Kaggle/CNN_IDC/Dataset/Train/1/10306_idx5_x351_y1101_class1.png', '/content/gdrive/MyDrive/Kaggle/CNN_IDC/Dataset/Train/1/8917_idx5_x1051_y601_class1.png', '/content/gdrive/MyDrive/Kaggle/CNN_IDC/Dataset/Train/1/13691_idx5_x2551_y1101_class1.png', '/content/gdrive/MyDrive/Kaggle/CNN_IDC/Dataset/Train/1/12910_idx5_x1001_y551_class1.png', '/content/gdrive/MyDrive/Kaggle/CNN_IDC/Dataset/Train/1/13692_idx5_x2401_y751_class1.png', '/content/gdrive/MyDrive/Kaggle/CNN_IDC/Dataset/Train/1/16896_idx5_x251_y1151_class1.png', '/content/gdrive/MyDrive/Kaggle/CNN_IDC/Dataset/Train/1/10274_idx5_x1901_y801_class1.png', '/content/gdrive/MyDrive/Kaggle/CNN_IDC/Dataset/Train/1/9126_idx5_x2251_y1851_class1.png', '/content/gdrive/MyDrive/Kaggle/CNN_IDC/Dataset/Train/1/12242_idx5_x1501_y951_class1.png', '/content/gdrive/MyDrive/Kaggle/CNN_IDC/Dataset/Train/1/13916_idx5_x1751_y701_class1.png', '/content/gdrive/MyDrive/Kaggle/CNN_IDC/Dataset/Train/1/14157_idx5_x1701_y1701_class1.png', '/content/gdrive/MyDrive/Kaggle/CNN_IDC/Dataset/Train/1/16165_idx5_x1651_y1651_class1.png', '/content/gdrive/MyDrive/Kaggle/CNN_IDC/Dataset/Train/1/12894_idx5_x1551_y701_class1.png', '/content/gdrive/MyDrive/Kaggle/CNN_IDC/Dataset/Train/1/16553_idx5_x1501_y1051_class1.png', '/content/gdrive/MyDrive/Kaggle/CNN_IDC/Dataset/Train/1/9258_idx5_x1501_y1451_class1.png', '/content/gdrive/MyDrive/Kaggle/CNN_IDC/Dataset/Train/1/14155_idx5_x2451_y351_class1.png', '/content/gdrive/MyDrive/Kaggle/CNN_IDC/Dataset/Train/1/8975_idx5_x2701_y1551_class1.png', '/content/gdrive/MyDrive/Kaggle/CNN_IDC/Dataset/Train/1/12821_idx5_x1651_y1601_class1.png', '/content/gdrive/MyDrive/Kaggle/CNN_IDC/Dataset/Train/1/16550_idx5_x2851_y1351_class1.png', '/content/gdrive/MyDrive/Kaggle/CNN_IDC/Dataset/Train/1/14081_idx5_x2451_y401_class1.png', '/content/gdrive/MyDrive/Kaggle/CNN_IDC/Dataset/Train/1/12884_idx5_x1701_y501_class1.png', '/content/gdrive/MyDrive/Kaggle/CNN_IDC/Dataset/Train/1/15473_idx5_x1251_y1351_class1.png', '/content/gdrive/MyDrive/Kaggle/CNN_IDC/Dataset/Train/1/14305_idx5_x1451_y901_class1.png', '/content/gdrive/MyDrive/Kaggle/CNN_IDC/Dataset/Train/1/14082_idx5_x1251_y1751_class1.png', '/content/gdrive/MyDrive/Kaggle/CNN_IDC/Dataset/Train/1/14190_idx5_x2701_y1551_class1.png', '/content/gdrive/MyDrive/Kaggle/CNN_IDC/Dataset/Train/1/8864_idx5_x1701_y2401_class1.png', '/content/gdrive/MyDrive/Kaggle/CNN_IDC/Dataset/Train/1/9320_idx5_x1701_y2001_class1.png', '/content/gdrive/MyDrive/Kaggle/CNN_IDC/Dataset/Train/1/12909_idx5_x951_y801_class1.png', '/content/gdrive/MyDrive/Kaggle/CNN_IDC/Dataset/Train/1/10273_idx5_x2151_y1751_class1.png']\n",
            "['class_0', 'class_0', 'class_0', 'class_0', 'class_0', 'class_0', 'class_0', 'class_0', 'class_0', 'class_0', 'class_0', 'class_0', 'class_0', 'class_0', 'class_0', 'class_0', 'class_0', 'class_0', 'class_0', 'class_0', 'class_0', 'class_0', 'class_0', 'class_0', 'class_0', 'class_0', 'class_0', 'class_0', 'class_0', 'class_0', 'class_0', 'class_0', 'class_0', 'class_0', 'class_0', 'class_0', 'class_0', 'class_0', 'class_0', 'class_0', 'class_0', 'class_0', 'class_0', 'class_0', 'class_0', 'class_0', 'class_0', 'class_0', 'class_0', 'class_0', 'class_0', 'class_0', 'class_0', 'class_0', 'class_0', 'class_0', 'class_0', 'class_0', 'class_0', 'class_0', 'class_0', 'class_0', 'class_0', 'class_0', 'class_0', 'class_0', 'class_0', 'class_0', 'class_0', 'class_0', 'class_0', 'class_0', 'class_0', 'class_0', 'class_0', 'class_0', 'class_0', 'class_0', 'class_0', 'class_0', 'class_0', 'class_0', 'class_0', 'class_0', 'class_0', 'class_0', 'class_0', 'class_0', 'class_0', 'class_0', 'class_0', 'class_0', 'class_0', 'class_0', 'class_0', 'class_0', 'class_0', 'class_0', 'class_0', 'class_0', 'class_0', 'class_0', 'class_0', 'class_0', 'class_0', 'class_0', 'class_0', 'class_0', 'class_0', 'class_0', 'class_0', 'class_0', 'class_0', 'class_0', 'class_0', 'class_0', 'class_0', 'class_0', 'class_0', 'class_0', 'class_0', 'class_0', 'class_0', 'class_0', 'class_0', 'class_0', 'class_0', 'class_0', 'class_0', 'class_0', 'class_0', 'class_0', 'class_0', 'class_0', 'class_0', 'class_0', 'class_0', 'class_0', 'class_0', 'class_0', 'class_0', 'class_0', 'class_0', 'class_0', 'class_0', 'class_0', 'class_0', 'class_0', 'class_0', 'class_0', 'class_0', 'class_0', 'class_0', 'class_0', 'class_0', 'class_0', 'class_0', 'class_0', 'class_0', 'class_0', 'class_0', 'class_0', 'class_0', 'class_0', 'class_0', 'class_0', 'class_0', 'class_0', 'class_0', 'class_0', 'class_0', 'class_0', 'class_0', 'class_0', 'class_0', 'class_0', 'class_0', 'class_0', 'class_0', 'class_0', 'class_0', 'class_0', 'class_0', 'class_0', 'class_0', 'class_0', 'class_0', 'class_0', 'class_0', 'class_0', 'class_0', 'class_0', 'class_0', 'class_0', 'class_0', 'class_0', 'class_0', 'class_0', 'class_0', 'class_0', 'class_0', 'class_0', 'class_0', 'class_0', 'class_0', 'class_0', 'class_0', 'class_0', 'class_0', 'class_0', 'class_0', 'class_0', 'class_0', 'class_0', 'class_0', 'class_0', 'class_0', 'class_0', 'class_0', 'class_0', 'class_0', 'class_0', 'class_0', 'class_0', 'class_0', 'class_0', 'class_0', 'class_0', 'class_0', 'class_0', 'class_0', 'class_0', 'class_0', 'class_0', 'class_0', 'class_0', 'class_0', 'class_0', 'class_0', 'class_0', 'class_0', 'class_0', 'class_0', 'class_0', 'class_0', 'class_0', 'class_0', 'class_0', 'class_0', 'class_0', 'class_0', 'class_0', 'class_0', 'class_0', 'class_0', 'class_0', 'class_0', 'class_0', 'class_0', 'class_0', 'class_0', 'class_0', 'class_0', 'class_0', 'class_0', 'class_0', 'class_0', 'class_0', 'class_0', 'class_0', 'class_0', 'class_0', 'class_0', 'class_0', 'class_0', 'class_0', 'class_0', 'class_0', 'class_0', 'class_0', 'class_0', 'class_0', 'class_0', 'class_0', 'class_0', 'class_0', 'class_0', 'class_0', 'class_0', 'class_0', 'class_0', 'class_0', 'class_0', 'class_0', 'class_0', 'class_0', 'class_0', 'class_0', 'class_0', 'class_0', 'class_0', 'class_0', 'class_0', 'class_0', 'class_0', 'class_0', 'class_0', 'class_0', 'class_0', 'class_0', 'class_0', 'class_0', 'class_0', 'class_0', 'class_0', 'class_0', 'class_0', 'class_0', 'class_0', 'class_0', 'class_0', 'class_0', 'class_0', 'class_0', 'class_0', 'class_0', 'class_0', 'class_0', 'class_0', 'class_0', 'class_0', 'class_0', 'class_0', 'class_0', 'class_0', 'class_0', 'class_0', 'class_0', 'class_0', 'class_0', 'class_0', 'class_0', 'class_0', 'class_0', 'class_0', 'class_0', 'class_0', 'class_0', 'class_0', 'class_0', 'class_0', 'class_0', 'class_0', 'class_0', 'class_0', 'class_0', 'class_0', 'class_0', 'class_0', 'class_0', 'class_0', 'class_0', 'class_0', 'class_0', 'class_0', 'class_0', 'class_0', 'class_0', 'class_0', 'class_0', 'class_0', 'class_0', 'class_0', 'class_0', 'class_0', 'class_0', 'class_0', 'class_0', 'class_0', 'class_0', 'class_0', 'class_0', 'class_0', 'class_0', 'class_0', 'class_0', 'class_0', 'class_0', 'class_0', 'class_0', 'class_0', 'class_0', 'class_0', 'class_0', 'class_0', 'class_0', 'class_0', 'class_0', 'class_0', 'class_0', 'class_1', 'class_1', 'class_1', 'class_1', 'class_1', 'class_1', 'class_1', 'class_1', 'class_1', 'class_1', 'class_1', 'class_1', 'class_1', 'class_1', 'class_1', 'class_1', 'class_1', 'class_1', 'class_1', 'class_1', 'class_1', 'class_1', 'class_1', 'class_1', 'class_1', 'class_1', 'class_1', 'class_1', 'class_1', 'class_1', 'class_1', 'class_1', 'class_1', 'class_1', 'class_1', 'class_1', 'class_1', 'class_1', 'class_1', 'class_1', 'class_1', 'class_1', 'class_1', 'class_1', 'class_1', 'class_1', 'class_1', 'class_1', 'class_1', 'class_1', 'class_1', 'class_1', 'class_1', 'class_1', 'class_1', 'class_1', 'class_1', 'class_1', 'class_1', 'class_1', 'class_1', 'class_1', 'class_1', 'class_1', 'class_1', 'class_1', 'class_1', 'class_1', 'class_1', 'class_1', 'class_1', 'class_1', 'class_1', 'class_1', 'class_1', 'class_1', 'class_1', 'class_1', 'class_1', 'class_1', 'class_1', 'class_1', 'class_1', 'class_1', 'class_1', 'class_1', 'class_1', 'class_1', 'class_1', 'class_1', 'class_1', 'class_1', 'class_1', 'class_1', 'class_1', 'class_1', 'class_1', 'class_1', 'class_1', 'class_1', 'class_1', 'class_1', 'class_1', 'class_1', 'class_1', 'class_1', 'class_1', 'class_1', 'class_1', 'class_1', 'class_1', 'class_1', 'class_1', 'class_1', 'class_1', 'class_1', 'class_1', 'class_1', 'class_1', 'class_1', 'class_1', 'class_1', 'class_1', 'class_1', 'class_1', 'class_1', 'class_1', 'class_1', 'class_1', 'class_1', 'class_1', 'class_1', 'class_1', 'class_1', 'class_1', 'class_1', 'class_1', 'class_1', 'class_1', 'class_1', 'class_1', 'class_1', 'class_1', 'class_1', 'class_1', 'class_1', 'class_1', 'class_1', 'class_1', 'class_1', 'class_1', 'class_1', 'class_1', 'class_1', 'class_1', 'class_1', 'class_1', 'class_1', 'class_1', 'class_1', 'class_1', 'class_1', 'class_1', 'class_1', 'class_1', 'class_1', 'class_1', 'class_1', 'class_1', 'class_1', 'class_1', 'class_1', 'class_1', 'class_1', 'class_1', 'class_1', 'class_1', 'class_1', 'class_1', 'class_1', 'class_1', 'class_1', 'class_1', 'class_1', 'class_1', 'class_1', 'class_1', 'class_1', 'class_1', 'class_1', 'class_1', 'class_1', 'class_1', 'class_1', 'class_1', 'class_1', 'class_1', 'class_1', 'class_1', 'class_1', 'class_1', 'class_1', 'class_1', 'class_1', 'class_1', 'class_1', 'class_1', 'class_1', 'class_1', 'class_1', 'class_1', 'class_1', 'class_1', 'class_1', 'class_1', 'class_1', 'class_1', 'class_1', 'class_1', 'class_1', 'class_1', 'class_1', 'class_1', 'class_1', 'class_1', 'class_1', 'class_1', 'class_1', 'class_1', 'class_1', 'class_1', 'class_1', 'class_1', 'class_1', 'class_1', 'class_1', 'class_1', 'class_1', 'class_1', 'class_1', 'class_1', 'class_1', 'class_1', 'class_1', 'class_1', 'class_1', 'class_1', 'class_1', 'class_1', 'class_1', 'class_1', 'class_1', 'class_1', 'class_1', 'class_1', 'class_1', 'class_1', 'class_1', 'class_1', 'class_1', 'class_1', 'class_1', 'class_1', 'class_1', 'class_1', 'class_1', 'class_1', 'class_1', 'class_1', 'class_1', 'class_1', 'class_1', 'class_1', 'class_1', 'class_1', 'class_1', 'class_1', 'class_1', 'class_1', 'class_1', 'class_1', 'class_1', 'class_1', 'class_1', 'class_1', 'class_1', 'class_1', 'class_1', 'class_1', 'class_1', 'class_1', 'class_1', 'class_1', 'class_1', 'class_1', 'class_1', 'class_1', 'class_1', 'class_1', 'class_1', 'class_1', 'class_1', 'class_1', 'class_1', 'class_1', 'class_1', 'class_1', 'class_1', 'class_1', 'class_1', 'class_1', 'class_1', 'class_1', 'class_1', 'class_1', 'class_1', 'class_1', 'class_1', 'class_1', 'class_1', 'class_1', 'class_1', 'class_1', 'class_1', 'class_1', 'class_1', 'class_1', 'class_1', 'class_1', 'class_1', 'class_1', 'class_1', 'class_1', 'class_1', 'class_1', 'class_1', 'class_1', 'class_1', 'class_1', 'class_1', 'class_1', 'class_1', 'class_1', 'class_1', 'class_1', 'class_1', 'class_1', 'class_1', 'class_1', 'class_1', 'class_1', 'class_1', 'class_1', 'class_1', 'class_1', 'class_1', 'class_1', 'class_1', 'class_1', 'class_1', 'class_1', 'class_1', 'class_1', 'class_1', 'class_1', 'class_1', 'class_1', 'class_1', 'class_1', 'class_1', 'class_1', 'class_1', 'class_1', 'class_1', 'class_1', 'class_1', 'class_1', 'class_1', 'class_1', 'class_1', 'class_1', 'class_1', 'class_1', 'class_1', 'class_1', 'class_1', 'class_1', 'class_1', 'class_1', 'class_1', 'class_1', 'class_1', 'class_1', 'class_1', 'class_1', 'class_1', 'class_1', 'class_1', 'class_1', 'class_1']\n",
            "Train\n"
          ]
        }
      ]
    },
    {
      "cell_type": "code",
      "source": [
        "def create_dataframes(idc_image_path, idc_image_label, directory_name):\n",
        "  same_name = directory_name.lower() + '_'\n",
        "  #creating the dataframes that we will be passing to our generators\n",
        "  idc_data_cleaned = {'path': idc_image_path,\n",
        "            'label': idc_image_label}\n",
        "  idc_df = pd.DataFrame(idc_data_cleaned)\n",
        "  df = idc_df.sample(frac = 1)\n",
        "  print(df)\n",
        "  csv_path = directory_path\n",
        "  csv_file = df.to_csv(csv_path + '/' + same_name + 'idc_dataframe.csv')\n",
        "  csv_file_path = csv_path + '/' + same_name + 'idc_dataframe.csv'\n",
        "  return csv_file_path"
      ],
      "metadata": {
        "id": "_WU9qt2RmxHZ"
      },
      "execution_count": 92,
      "outputs": []
    },
    {
      "cell_type": "code",
      "source": [
        "# def create_dataframes(idc_image_path, idc_image_label, directory_name):\n",
        "#   same_name = directory_name.lower() + '_'\n",
        "#   #creating the dataframes that we will be passing to our generators\n",
        "#   idc_data_cleaned = {'path': idc_image_path,\n",
        "#             'label': idc_image_label}\n",
        "#   idc_df = pd.DataFrame(idc_data_cleaned)\n",
        "#   df = idc_df.sample(frac = 1)\n",
        "#   print(df)\n",
        "#   csv_path = directory_path\n",
        "#   csv_file = df.to_csv(csv_path + '/' + same_name + 'idc_dataframe.csv')\n",
        "#   # csv_file_path = csv_path + '/' + same_name + 'idc_dataframe.csv'\n",
        "#   return csv_file"
      ],
      "metadata": {
        "id": "Lsz7FKbTNepA"
      },
      "execution_count": 93,
      "outputs": []
    },
    {
      "cell_type": "code",
      "source": [
        "train_dataframe = create_dataframes(train_paths, train_labels, train_dir)\n",
        "print(type(train_dataframe))\n",
        "train_dataframe"
      ],
      "metadata": {
        "id": "MJxUgm39NeU7",
        "outputId": "a761683a-cb02-4eac-8303-d6488909e945",
        "colab": {
          "base_uri": "https://localhost:8080/"
        }
      },
      "execution_count": 94,
      "outputs": [
        {
          "output_type": "stream",
          "name": "stdout",
          "text": [
            "                                                  path    label\n",
            "126  /content/gdrive/MyDrive/Kaggle/CNN_IDC/Dataset...  class_0\n",
            "120  /content/gdrive/MyDrive/Kaggle/CNN_IDC/Dataset...  class_0\n",
            "152  /content/gdrive/MyDrive/Kaggle/CNN_IDC/Dataset...  class_0\n",
            "663  /content/gdrive/MyDrive/Kaggle/CNN_IDC/Dataset...  class_1\n",
            "33   /content/gdrive/MyDrive/Kaggle/CNN_IDC/Dataset...  class_0\n",
            "..                                                 ...      ...\n",
            "89   /content/gdrive/MyDrive/Kaggle/CNN_IDC/Dataset...  class_0\n",
            "27   /content/gdrive/MyDrive/Kaggle/CNN_IDC/Dataset...  class_0\n",
            "226  /content/gdrive/MyDrive/Kaggle/CNN_IDC/Dataset...  class_0\n",
            "718  /content/gdrive/MyDrive/Kaggle/CNN_IDC/Dataset...  class_1\n",
            "437  /content/gdrive/MyDrive/Kaggle/CNN_IDC/Dataset...  class_1\n",
            "\n",
            "[800 rows x 2 columns]\n",
            "<class 'str'>\n"
          ]
        },
        {
          "output_type": "execute_result",
          "data": {
            "text/plain": [
              "'/content/gdrive/MyDrive/Kaggle/CNN_IDC/train_idc_dataframe.csv'"
            ],
            "application/vnd.google.colaboratory.intrinsic+json": {
              "type": "string"
            }
          },
          "metadata": {},
          "execution_count": 94
        }
      ]
    },
    {
      "cell_type": "code",
      "source": [
        "train_dataframe = create_dataframes(train_paths, train_labels, train_dir)\n",
        "train_generator = pd.read_csv(train_dataframe)\n",
        "\n",
        "test_dataframe = create_dataframes(test_paths, test_labels, test_dir)\n",
        "test_generator = pd.read_csv(test_dataframe)\n",
        "\n",
        "val_dataframe = create_dataframes(val_paths, val_labels, val_dir)\n",
        "val_generator = pd.read_csv(val_dataframe)"
      ],
      "metadata": {
        "id": "hnDu_3N4mw1G",
        "outputId": "b1b8efee-10b2-48ff-ee1c-41838a29337a",
        "colab": {
          "base_uri": "https://localhost:8080/"
        }
      },
      "execution_count": 95,
      "outputs": [
        {
          "output_type": "stream",
          "name": "stdout",
          "text": [
            "                                                  path    label\n",
            "296  /content/gdrive/MyDrive/Kaggle/CNN_IDC/Dataset...  class_0\n",
            "258  /content/gdrive/MyDrive/Kaggle/CNN_IDC/Dataset...  class_0\n",
            "204  /content/gdrive/MyDrive/Kaggle/CNN_IDC/Dataset...  class_0\n",
            "421  /content/gdrive/MyDrive/Kaggle/CNN_IDC/Dataset...  class_1\n",
            "675  /content/gdrive/MyDrive/Kaggle/CNN_IDC/Dataset...  class_1\n",
            "..                                                 ...      ...\n",
            "527  /content/gdrive/MyDrive/Kaggle/CNN_IDC/Dataset...  class_1\n",
            "284  /content/gdrive/MyDrive/Kaggle/CNN_IDC/Dataset...  class_0\n",
            "64   /content/gdrive/MyDrive/Kaggle/CNN_IDC/Dataset...  class_0\n",
            "468  /content/gdrive/MyDrive/Kaggle/CNN_IDC/Dataset...  class_1\n",
            "277  /content/gdrive/MyDrive/Kaggle/CNN_IDC/Dataset...  class_0\n",
            "\n",
            "[800 rows x 2 columns]\n",
            "                                                  path    label\n",
            "61   /content/gdrive/MyDrive/Kaggle/CNN_IDC/Dataset...  class_0\n",
            "16   /content/gdrive/MyDrive/Kaggle/CNN_IDC/Dataset...  class_0\n",
            "199  /content/gdrive/MyDrive/Kaggle/CNN_IDC/Dataset...  class_1\n",
            "162  /content/gdrive/MyDrive/Kaggle/CNN_IDC/Dataset...  class_1\n",
            "116  /content/gdrive/MyDrive/Kaggle/CNN_IDC/Dataset...  class_1\n",
            "..                                                 ...      ...\n",
            "122  /content/gdrive/MyDrive/Kaggle/CNN_IDC/Dataset...  class_1\n",
            "147  /content/gdrive/MyDrive/Kaggle/CNN_IDC/Dataset...  class_1\n",
            "8    /content/gdrive/MyDrive/Kaggle/CNN_IDC/Dataset...  class_0\n",
            "146  /content/gdrive/MyDrive/Kaggle/CNN_IDC/Dataset...  class_1\n",
            "171  /content/gdrive/MyDrive/Kaggle/CNN_IDC/Dataset...  class_1\n",
            "\n",
            "[200 rows x 2 columns]\n",
            "                                                  path    label\n",
            "4    /content/gdrive/MyDrive/Kaggle/CNN_IDC/Dataset...  class_0\n",
            "81   /content/gdrive/MyDrive/Kaggle/CNN_IDC/Dataset...  class_0\n",
            "43   /content/gdrive/MyDrive/Kaggle/CNN_IDC/Dataset...  class_0\n",
            "120  /content/gdrive/MyDrive/Kaggle/CNN_IDC/Dataset...  class_1\n",
            "115  /content/gdrive/MyDrive/Kaggle/CNN_IDC/Dataset...  class_1\n",
            "..                                                 ...      ...\n",
            "170  /content/gdrive/MyDrive/Kaggle/CNN_IDC/Dataset...  class_1\n",
            "44   /content/gdrive/MyDrive/Kaggle/CNN_IDC/Dataset...  class_0\n",
            "110  /content/gdrive/MyDrive/Kaggle/CNN_IDC/Dataset...  class_1\n",
            "58   /content/gdrive/MyDrive/Kaggle/CNN_IDC/Dataset...  class_0\n",
            "187  /content/gdrive/MyDrive/Kaggle/CNN_IDC/Dataset...  class_1\n",
            "\n",
            "[200 rows x 2 columns]\n"
          ]
        }
      ]
    },
    {
      "cell_type": "code",
      "source": [
        "data_generator = ImageDataGenerator()\n",
        "\n",
        "train_data_generator = data_generator.flow_from_dataframe(\n",
        "    train_generator,\n",
        "    directory = None,\n",
        "    x_col =  'path',\n",
        "    y_col =  'label',\n",
        "    weight_col=None,\n",
        "    featurewise_center = True,\n",
        "    featurewise_std_normalization = True,\n",
        "    #readjust the target size based on max size of images\n",
        "    target_size=(50, 50),\n",
        "    color_mode=\"grayscale\",\n",
        "    class_mode=\"categorical\",\n",
        "    batch_size=32,\n",
        "    shuffle=True\n",
        "    # seed=1234\n",
        "    # validate_filenames=True\n",
        ")\n",
        "\n",
        "validation_data_generator = data_generator.flow_from_dataframe(\n",
        "    val_generator,\n",
        "    directory = None,\n",
        "    x_col =  'path',\n",
        "    y_col =  'label',\n",
        "    weight_col=None,\n",
        "    featurewise_center = True,\n",
        "    featurewise_std_normalization = True,\n",
        "    #readjust the target size based on max size of images\n",
        "    target_size=(50, 50),\n",
        "    color_mode=\"grayscale\",\n",
        "    class_mode=\"categorical\",\n",
        "    batch_size=32,\n",
        "    shuffle=True\n",
        "    # seed=1234\n",
        "    # validate_filenames=True\n",
        ")\n",
        "\n",
        "test_data_generator = data_generator.flow_from_dataframe(\n",
        "    test_generator,\n",
        "    directory = None,\n",
        "    x_col =  'path',\n",
        "    y_col =  'label',\n",
        "    weight_col=None,\n",
        "    featurewise_center = True,\n",
        "    featurewise_std_normalization = True,\n",
        "    #readjust the target size based on max size of images\n",
        "    target_size=(50, 50),\n",
        "    color_mode=\"grayscale\",\n",
        "    class_mode=\"categorical\",\n",
        "    batch_size=32,\n",
        "    shuffle=False\n",
        "    # seed=1234\n",
        "    # validate_filenames=True\n",
        ")"
      ],
      "metadata": {
        "id": "eC0S3je4Jnwb",
        "outputId": "c0f75ec8-7e60-4017-a7af-24da8a12cf80",
        "colab": {
          "base_uri": "https://localhost:8080/"
        }
      },
      "execution_count": 96,
      "outputs": [
        {
          "output_type": "stream",
          "name": "stdout",
          "text": [
            "Found 800 validated image filenames belonging to 2 classes.\n",
            "Found 200 validated image filenames belonging to 2 classes.\n",
            "Found 200 validated image filenames belonging to 2 classes.\n"
          ]
        }
      ]
    },
    {
      "cell_type": "code",
      "source": [
        "img_height = 50\n",
        "img_width = 50\n",
        "img_channel = 1"
      ],
      "metadata": {
        "id": "OQcHdDdYJnol"
      },
      "execution_count": 97,
      "outputs": []
    },
    {
      "cell_type": "code",
      "source": [
        "def get_doc_id_model():\n",
        "  return tf.keras.Sequential([\n",
        "                           keras.layers.Conv2D(input_shape = (img_height, img_width, img_channel), \n",
        "                                               filters=32, \n",
        "                                               kernel_size=(3, 3),\n",
        "                                               padding='same', \n",
        "                                               activation='relu'),\n",
        "                           \n",
        "                           keras.layers.MaxPooling2D(pool_size=(2, 2),\n",
        "                                                  strides=(2, 2)),\n",
        "                           \n",
        "                           keras.layers.Conv2D(filters=64, \n",
        "                                               kernel_size=(3, 3), \n",
        "                                               padding='same', \n",
        "                                               activation='relu'),\n",
        "                              \n",
        "                           keras.layers.MaxPooling2D(pool_size=(2, 2),\n",
        "                                                  strides=(2, 2)),\n",
        "                          \n",
        "                           keras.layers.Conv2D(filters=128, \n",
        "                                               kernel_size=(3, 3), \n",
        "                                               padding='same', \n",
        "                                               activation='relu'),\n",
        "                          \n",
        "                           keras.layers.MaxPooling2D(pool_size=(2, 2), \n",
        "                                                  strides=(2, 2)),\n",
        "                           \n",
        "                           keras.layers.Flatten(),\n",
        "                           \n",
        "                           keras.layers.Dense(units = 256, \n",
        "                                              activation = 'relu'),\n",
        "                           \n",
        "                          #  keras.layers.Dense(units = 512, \n",
        "                          #                     activation = 'relu'),\n",
        "                           \n",
        "                           keras.layers.Dense(units = 2, \n",
        "                                              activation = 'softmax')\n",
        "])"
      ],
      "metadata": {
        "id": "-aJNqzI4JngT"
      },
      "execution_count": 98,
      "outputs": []
    },
    {
      "cell_type": "code",
      "source": [
        "from tensorflow import keras\n",
        "model = get_doc_id_model()\n",
        "model.compile(optimizer=keras.optimizers.Adam(learning_rate = 0.001), \n",
        "                    loss=keras.losses.categorical_crossentropy, \n",
        "                    metrics=['accuracy']\n",
        "              )\n",
        "\n",
        "model.summary()"
      ],
      "metadata": {
        "id": "8FPJqXiDJnZC",
        "outputId": "77741e13-4761-4fe3-c0b9-6b213ab54a41",
        "colab": {
          "base_uri": "https://localhost:8080/"
        }
      },
      "execution_count": 99,
      "outputs": [
        {
          "output_type": "stream",
          "name": "stdout",
          "text": [
            "Model: \"sequential_4\"\n",
            "_________________________________________________________________\n",
            " Layer (type)                Output Shape              Param #   \n",
            "=================================================================\n",
            " conv2d_12 (Conv2D)          (None, 50, 50, 32)        320       \n",
            "                                                                 \n",
            " max_pooling2d_12 (MaxPoolin  (None, 25, 25, 32)       0         \n",
            " g2D)                                                            \n",
            "                                                                 \n",
            " conv2d_13 (Conv2D)          (None, 25, 25, 64)        18496     \n",
            "                                                                 \n",
            " max_pooling2d_13 (MaxPoolin  (None, 12, 12, 64)       0         \n",
            " g2D)                                                            \n",
            "                                                                 \n",
            " conv2d_14 (Conv2D)          (None, 12, 12, 128)       73856     \n",
            "                                                                 \n",
            " max_pooling2d_14 (MaxPoolin  (None, 6, 6, 128)        0         \n",
            " g2D)                                                            \n",
            "                                                                 \n",
            " flatten_4 (Flatten)         (None, 4608)              0         \n",
            "                                                                 \n",
            " dense_8 (Dense)             (None, 256)               1179904   \n",
            "                                                                 \n",
            " dense_9 (Dense)             (None, 2)                 514       \n",
            "                                                                 \n",
            "=================================================================\n",
            "Total params: 1,273,090\n",
            "Trainable params: 1,273,090\n",
            "Non-trainable params: 0\n",
            "_________________________________________________________________\n"
          ]
        }
      ]
    },
    {
      "cell_type": "code",
      "source": [
        "from tensorflow.keras.callbacks import ModelCheckpoint, EarlyStopping\n",
        "val_acc_early_stopping = EarlyStopping(monitor = 'val_acc', \n",
        "                                       patience = 6, \n",
        "                                       verbose = 1,\n",
        "                                       mode = 'auto')"
      ],
      "metadata": {
        "id": "TCHVLIBUJnQ8"
      },
      "execution_count": 100,
      "outputs": []
    },
    {
      "cell_type": "code",
      "source": [
        "history = model.fit(train_data_generator,\n",
        "                 epochs=7,\n",
        "                #  callbacks=[val_acc_early_stopping],\n",
        "                 validation_data = validation_data_generator\n",
        "                 )"
      ],
      "metadata": {
        "id": "1aK-mML9JnID",
        "outputId": "68c704ef-a2ba-4b9b-cb58-2fca25bad558",
        "colab": {
          "base_uri": "https://localhost:8080/"
        }
      },
      "execution_count": null,
      "outputs": [
        {
          "output_type": "stream",
          "name": "stdout",
          "text": [
            "Epoch 1/7\n",
            "25/25 [==============================] - 11s 397ms/step - loss: 17.5965 - accuracy: 0.5400 - val_loss: 0.6465 - val_accuracy: 0.6450\n",
            "Epoch 2/7\n",
            "25/25 [==============================] - 10s 409ms/step - loss: 0.6735 - accuracy: 0.6175 - val_loss: 0.6578 - val_accuracy: 0.5850\n",
            "Epoch 3/7\n",
            "25/25 [==============================] - 10s 378ms/step - loss: 0.5899 - accuracy: 0.6950 - val_loss: 0.6682 - val_accuracy: 0.6300\n",
            "Epoch 4/7\n",
            "25/25 [==============================] - 9s 374ms/step - loss: 0.6180 - accuracy: 0.6300 - val_loss: 0.6465 - val_accuracy: 0.5850\n",
            "Epoch 5/7\n",
            "25/25 [==============================] - 7s 282ms/step - loss: 0.5652 - accuracy: 0.7163 - val_loss: 0.5800 - val_accuracy: 0.6800\n",
            "Epoch 6/7\n",
            "25/25 [==============================] - 7s 273ms/step - loss: 0.5525 - accuracy: 0.7200 - val_loss: 0.5915 - val_accuracy: 0.7100\n",
            "Epoch 7/7\n",
            " 7/25 [=======>......................] - ETA: 3s - loss: 0.5461 - accuracy: 0.7232"
          ]
        }
      ]
    },
    {
      "cell_type": "code",
      "source": [
        "hist = history.history\n",
        "x_arr = np.arange(len(hist['loss'])) + 1\n",
        "# print(x_arr)\n",
        "\n",
        "fig = plt.figure(figsize=(16,6))\n",
        "ax = fig.add_subplot(1,2,1)\n",
        "ax.plot(x_arr, hist['loss'], '-o', label='Train Loss')\n",
        "ax.plot(x_arr, hist['val_loss'], '--<', label='Validation Loss')\n",
        "ax.legend(fontsize=12)\n",
        "ax.set_xlabel('Epoch', size=14)\n",
        "ax.set_ylabel('Loss', size=14)\n",
        "ax.set_title('Loss', size=20)\n",
        "\n",
        "ax = fig.add_subplot(1,2,2)\n",
        "ax.plot(x_arr, hist['accuracy'], '-o', label='Train Acc.')\n",
        "ax.plot(x_arr, hist['val_accuracy'], '--<', label='Validation Acc.')\n",
        "ax.legend(fontsize=12)\n",
        "ax.set_xlabel('Epoch', size=14)\n",
        "ax.set_ylabel('Accuracy', size=14)\n",
        "ax.set_title('Accuracy', size=20);"
      ],
      "metadata": {
        "id": "v1a4RY1gK5kg"
      },
      "execution_count": null,
      "outputs": []
    },
    {
      "cell_type": "code",
      "source": [
        "eval_test = model.evaluate(test_data_generator)\n",
        "print(f'Test Accuracy: {eval_test[1]*100:.2f}%\\n')\n",
        "\n",
        "eval_train = model.evaluate(train_data_generator)\n",
        "print(f'Train Accuracy: {eval_train[1]*100:.2f}%')"
      ],
      "metadata": {
        "id": "YEAMNOELK5bA"
      },
      "execution_count": null,
      "outputs": []
    }
  ]
}