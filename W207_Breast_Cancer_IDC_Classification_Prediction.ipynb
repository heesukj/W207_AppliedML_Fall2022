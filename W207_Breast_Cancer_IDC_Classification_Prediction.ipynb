{
  "nbformat": 4,
  "nbformat_minor": 0,
  "metadata": {
    "colab": {
      "provenance": [],
      "authorship_tag": "ABX9TyNAoSoJTWvBIbLNrge7ReAJ",
      "include_colab_link": true
    },
    "kernelspec": {
      "name": "python3",
      "display_name": "Python 3"
    },
    "language_info": {
      "name": "python"
    }
  },
  "cells": [
    {
      "cell_type": "markdown",
      "metadata": {
        "id": "view-in-github",
        "colab_type": "text"
      },
      "source": [
        "<a href=\"https://colab.research.google.com/github/heesukjang/W207_AppliedML_Fall2022/blob/main/W207_Breast_Cancer_IDC_Classification_Prediction.ipynb\" target=\"_parent\"><img src=\"https://colab.research.google.com/assets/colab-badge.svg\" alt=\"Open In Colab\"/></a>"
      ]
    },
    {
      "cell_type": "markdown",
      "source": [
        "## FALL 2022<br>\n",
        "**Heesuk Jang**"
      ],
      "metadata": {
        "id": "5DebDWCL0KeL"
      }
    },
    {
      "cell_type": "code",
      "execution_count": 2,
      "metadata": {
        "colab": {
          "base_uri": "https://localhost:8080/"
        },
        "id": "SRkZHKoWswZT",
        "outputId": "f2fc1624-7b3f-42c7-895f-5dec1244758c"
      },
      "outputs": [
        {
          "output_type": "stream",
          "name": "stdout",
          "text": [
            "Mounted at /content/gdrive\n"
          ]
        }
      ],
      "source": [
        "import pandas as pd\n",
        "import numpy as np\n",
        "import os\n",
        "import random\n",
        "import joblib\n",
        "import glob\n",
        "\n",
        "import matplotlib.pyplot as plt\n",
        "import seaborn as sns\n",
        "import plotly.express as px\n",
        "import matplotlib.patches as patches\n",
        "\n",
        "from sklearn.utils import shuffle\n",
        "from sklearn.ensemble import GradientBoostingClassifier\n",
        "from sklearn.ensemble import AdaBoostClassifier\n",
        "from sklearn.model_selection import GridSearchCV\n",
        "from sklearn.ensemble import RandomForestClassifier\n",
        "from sklearn.model_selection import train_test_split\n",
        "import tensorflow as tf\n",
        "from tensorflow.keras.preprocessing.image import ImageDataGenerator\n",
        "from tensorflow.keras.layers import RandomFlip\n",
        "from tensorflow.keras.layers import RandomZoom\n",
        "from tensorflow.keras.layers import RandomRotation\n",
        "from tensorflow.keras.layers import Conv2D\n",
        "from tensorflow.keras.layers import MaxPooling2D\n",
        "from tensorflow.keras.layers import AveragePooling2D\n",
        "from tensorflow.keras.layers import Dense\n",
        "from tensorflow.keras.layers import Flatten\n",
        "from tensorflow.keras.layers import Dropout\n",
        "from tensorflow.keras.models import Sequential\n",
        "from tensorflow.keras.layers import BatchNormalization\n",
        "from tensorflow.keras.optimizers import Adam\n",
        "import cv2 as cv\n",
        "import skimage.io as io\n",
        "\n",
        "# Required to read the data from Kaggle\n",
        "from google.colab import drive\n",
        "drive.mount('/content/gdrive')\n",
        "os.environ['KAGGLE_CONFIG_DIR'] = \"/content/gdrive/MyDrive/Kaggle\"\n",
        "\n",
        "import warnings\n",
        "warnings.simplefilter(\"ignore\", category=DeprecationWarning)"
      ]
    },
    {
      "cell_type": "code",
      "source": [
        "%pwd"
      ],
      "metadata": {
        "colab": {
          "base_uri": "https://localhost:8080/",
          "height": 35
        },
        "id": "b1CFw-aOtGQm",
        "outputId": "f0e2c1ae-8f4d-45c2-b399-667f012cc976"
      },
      "execution_count": 3,
      "outputs": [
        {
          "output_type": "execute_result",
          "data": {
            "text/plain": [
              "'/content'"
            ],
            "application/vnd.google.colaboratory.intrinsic+json": {
              "type": "string"
            }
          },
          "metadata": {},
          "execution_count": 3
        }
      ]
    },
    {
      "cell_type": "markdown",
      "source": [
        "# Load data as a zip file directly from [Kaggle](https://www.kaggle.com/datasets/paultimothymooney/breast-histopathology-images) to Colab"
      ],
      "metadata": {
        "id": "5JFnsPedtnMs"
      }
    },
    {
      "cell_type": "code",
      "source": [
        "# !kaggle datasets download -d paultimothymooney/breast-histopathology-images"
      ],
      "metadata": {
        "id": "sKX54iQttIdb"
      },
      "execution_count": 14,
      "outputs": []
    },
    {
      "cell_type": "markdown",
      "source": [
        "# Unzip the downloaded zip and remove the original zip file"
      ],
      "metadata": {
        "id": "jXgko9gXuV4V"
      }
    },
    {
      "cell_type": "code",
      "source": [
        "# !unzip \\*.zip && rm *.zip"
      ],
      "metadata": {
        "id": "uyWJuOkZuCVl"
      },
      "execution_count": 13,
      "outputs": []
    },
    {
      "cell_type": "code",
      "source": [
        "%ls"
      ],
      "metadata": {
        "colab": {
          "base_uri": "https://localhost:8080/"
        },
        "id": "GWnWbfHJvlAS",
        "outputId": "a7f57f98-b514-4597-da13-29593551bc89"
      },
      "execution_count": 12,
      "outputs": [
        {
          "output_type": "stream",
          "name": "stdout",
          "text": [
            "\u001b[0m\u001b[01;34m10253\u001b[0m/  \u001b[01;34m10305\u001b[0m/  \u001b[01;34m12881\u001b[0m/  \u001b[01;34m13018\u001b[0m/  \u001b[01;34m14153\u001b[0m/  \u001b[01;34m16085\u001b[0m/  \u001b[01;34m8980\u001b[0m/  \u001b[01;34m9255\u001b[0m/\n",
            "\u001b[01;34m10254\u001b[0m/  \u001b[01;34m10306\u001b[0m/  \u001b[01;34m12882\u001b[0m/  \u001b[01;34m13019\u001b[0m/  \u001b[01;34m14154\u001b[0m/  \u001b[01;34m16165\u001b[0m/  \u001b[01;34m8984\u001b[0m/  \u001b[01;34m9256\u001b[0m/\n",
            "\u001b[01;34m10255\u001b[0m/  \u001b[01;34m10307\u001b[0m/  \u001b[01;34m12883\u001b[0m/  \u001b[01;34m13020\u001b[0m/  \u001b[01;34m14155\u001b[0m/  \u001b[01;34m16166\u001b[0m/  \u001b[01;34m9022\u001b[0m/  \u001b[01;34m9257\u001b[0m/\n",
            "\u001b[01;34m10256\u001b[0m/  \u001b[01;34m10308\u001b[0m/  \u001b[01;34m12884\u001b[0m/  \u001b[01;34m13021\u001b[0m/  \u001b[01;34m14156\u001b[0m/  \u001b[01;34m16167\u001b[0m/  \u001b[01;34m9023\u001b[0m/  \u001b[01;34m9258\u001b[0m/\n",
            "\u001b[01;34m10257\u001b[0m/  \u001b[01;34m12241\u001b[0m/  \u001b[01;34m12886\u001b[0m/  \u001b[01;34m13022\u001b[0m/  \u001b[01;34m14157\u001b[0m/  \u001b[01;34m16531\u001b[0m/  \u001b[01;34m9029\u001b[0m/  \u001b[01;34m9259\u001b[0m/\n",
            "\u001b[01;34m10258\u001b[0m/  \u001b[01;34m12242\u001b[0m/  \u001b[01;34m12890\u001b[0m/  \u001b[01;34m13023\u001b[0m/  \u001b[01;34m14188\u001b[0m/  \u001b[01;34m16532\u001b[0m/  \u001b[01;34m9035\u001b[0m/  \u001b[01;34m9260\u001b[0m/\n",
            "\u001b[01;34m10259\u001b[0m/  \u001b[01;34m12626\u001b[0m/  \u001b[01;34m12891\u001b[0m/  \u001b[01;34m13024\u001b[0m/  \u001b[01;34m14189\u001b[0m/  \u001b[01;34m16533\u001b[0m/  \u001b[01;34m9036\u001b[0m/  \u001b[01;34m9261\u001b[0m/\n",
            "\u001b[01;34m10260\u001b[0m/  \u001b[01;34m12748\u001b[0m/  \u001b[01;34m12892\u001b[0m/  \u001b[01;34m13025\u001b[0m/  \u001b[01;34m14190\u001b[0m/  \u001b[01;34m16534\u001b[0m/  \u001b[01;34m9037\u001b[0m/  \u001b[01;34m9262\u001b[0m/\n",
            "\u001b[01;34m10261\u001b[0m/  \u001b[01;34m12749\u001b[0m/  \u001b[01;34m12893\u001b[0m/  \u001b[01;34m13106\u001b[0m/  \u001b[01;34m14191\u001b[0m/  \u001b[01;34m16550\u001b[0m/  \u001b[01;34m9041\u001b[0m/  \u001b[01;34m9265\u001b[0m/\n",
            "\u001b[01;34m10262\u001b[0m/  \u001b[01;34m12750\u001b[0m/  \u001b[01;34m12894\u001b[0m/  \u001b[01;34m13400\u001b[0m/  \u001b[01;34m14192\u001b[0m/  \u001b[01;34m16551\u001b[0m/  \u001b[01;34m9043\u001b[0m/  \u001b[01;34m9266\u001b[0m/\n",
            "\u001b[01;34m10264\u001b[0m/  \u001b[01;34m12751\u001b[0m/  \u001b[01;34m12895\u001b[0m/  \u001b[01;34m13401\u001b[0m/  \u001b[01;34m14209\u001b[0m/  \u001b[01;34m16552\u001b[0m/  \u001b[01;34m9044\u001b[0m/  \u001b[01;34m9267\u001b[0m/\n",
            "\u001b[01;34m10268\u001b[0m/  \u001b[01;34m12752\u001b[0m/  \u001b[01;34m12896\u001b[0m/  \u001b[01;34m13402\u001b[0m/  \u001b[01;34m14210\u001b[0m/  \u001b[01;34m16553\u001b[0m/  \u001b[01;34m9073\u001b[0m/  \u001b[01;34m9290\u001b[0m/\n",
            "\u001b[01;34m10269\u001b[0m/  \u001b[01;34m12810\u001b[0m/  \u001b[01;34m12897\u001b[0m/  \u001b[01;34m13403\u001b[0m/  \u001b[01;34m14211\u001b[0m/  \u001b[01;34m16554\u001b[0m/  \u001b[01;34m9075\u001b[0m/  \u001b[01;34m9291\u001b[0m/\n",
            "\u001b[01;34m10272\u001b[0m/  \u001b[01;34m12811\u001b[0m/  \u001b[01;34m12898\u001b[0m/  \u001b[01;34m13404\u001b[0m/  \u001b[01;34m14212\u001b[0m/  \u001b[01;34m16555\u001b[0m/  \u001b[01;34m9076\u001b[0m/  \u001b[01;34m9319\u001b[0m/\n",
            "\u001b[01;34m10273\u001b[0m/  \u001b[01;34m12817\u001b[0m/  \u001b[01;34m12900\u001b[0m/  \u001b[01;34m13458\u001b[0m/  \u001b[01;34m14213\u001b[0m/  \u001b[01;34m16568\u001b[0m/  \u001b[01;34m9077\u001b[0m/  \u001b[01;34m9320\u001b[0m/\n",
            "\u001b[01;34m10274\u001b[0m/  \u001b[01;34m12818\u001b[0m/  \u001b[01;34m12901\u001b[0m/  \u001b[01;34m13459\u001b[0m/  \u001b[01;34m14304\u001b[0m/  \u001b[01;34m16569\u001b[0m/  \u001b[01;34m9078\u001b[0m/  \u001b[01;34m9321\u001b[0m/\n",
            "\u001b[01;34m10275\u001b[0m/  \u001b[01;34m12819\u001b[0m/  \u001b[01;34m12905\u001b[0m/  \u001b[01;34m13460\u001b[0m/  \u001b[01;34m14305\u001b[0m/  \u001b[01;34m16570\u001b[0m/  \u001b[01;34m9081\u001b[0m/  \u001b[01;34m9322\u001b[0m/\n",
            "\u001b[01;34m10276\u001b[0m/  \u001b[01;34m12820\u001b[0m/  \u001b[01;34m12906\u001b[0m/  \u001b[01;34m13461\u001b[0m/  \u001b[01;34m14306\u001b[0m/  \u001b[01;34m16895\u001b[0m/  \u001b[01;34m9083\u001b[0m/  \u001b[01;34m9323\u001b[0m/\n",
            "\u001b[01;34m10277\u001b[0m/  \u001b[01;34m12821\u001b[0m/  \u001b[01;34m12907\u001b[0m/  \u001b[01;34m13462\u001b[0m/  \u001b[01;34m14321\u001b[0m/  \u001b[01;34m16896\u001b[0m/  \u001b[01;34m9123\u001b[0m/  \u001b[01;34m9324\u001b[0m/\n",
            "\u001b[01;34m10278\u001b[0m/  \u001b[01;34m12822\u001b[0m/  \u001b[01;34m12908\u001b[0m/  \u001b[01;34m13591\u001b[0m/  \u001b[01;34m15471\u001b[0m/  \u001b[01;34m8863\u001b[0m/   \u001b[01;34m9124\u001b[0m/  \u001b[01;34m9325\u001b[0m/\n",
            "\u001b[01;34m10279\u001b[0m/  \u001b[01;34m12823\u001b[0m/  \u001b[01;34m12909\u001b[0m/  \u001b[01;34m13613\u001b[0m/  \u001b[01;34m15472\u001b[0m/  \u001b[01;34m8864\u001b[0m/   \u001b[01;34m9125\u001b[0m/  \u001b[01;34m9344\u001b[0m/\n",
            "\u001b[01;34m10282\u001b[0m/  \u001b[01;34m12824\u001b[0m/  \u001b[01;34m12910\u001b[0m/  \u001b[01;34m13616\u001b[0m/  \u001b[01;34m15473\u001b[0m/  \u001b[01;34m8865\u001b[0m/   \u001b[01;34m9126\u001b[0m/  \u001b[01;34m9345\u001b[0m/\n",
            "\u001b[01;34m10285\u001b[0m/  \u001b[01;34m12826\u001b[0m/  \u001b[01;34m12911\u001b[0m/  \u001b[01;34m13617\u001b[0m/  \u001b[01;34m15510\u001b[0m/  \u001b[01;34m8867\u001b[0m/   \u001b[01;34m9135\u001b[0m/  \u001b[01;34m9346\u001b[0m/\n",
            "\u001b[01;34m10286\u001b[0m/  \u001b[01;34m12867\u001b[0m/  \u001b[01;34m12929\u001b[0m/  \u001b[01;34m13666\u001b[0m/  \u001b[01;34m15512\u001b[0m/  \u001b[01;34m8913\u001b[0m/   \u001b[01;34m9173\u001b[0m/  \u001b[01;34m9347\u001b[0m/\n",
            "\u001b[01;34m10288\u001b[0m/  \u001b[01;34m12868\u001b[0m/  \u001b[01;34m12930\u001b[0m/  \u001b[01;34m13687\u001b[0m/  \u001b[01;34m15513\u001b[0m/  \u001b[01;34m8914\u001b[0m/   \u001b[01;34m9174\u001b[0m/  \u001b[01;34m9381\u001b[0m/\n",
            "\u001b[01;34m10290\u001b[0m/  \u001b[01;34m12869\u001b[0m/  \u001b[01;34m12931\u001b[0m/  \u001b[01;34m13688\u001b[0m/  \u001b[01;34m15514\u001b[0m/  \u001b[01;34m8916\u001b[0m/   \u001b[01;34m9175\u001b[0m/  \u001b[01;34m9382\u001b[0m/\n",
            "\u001b[01;34m10291\u001b[0m/  \u001b[01;34m12870\u001b[0m/  \u001b[01;34m12932\u001b[0m/  \u001b[01;34m13689\u001b[0m/  \u001b[01;34m15515\u001b[0m/  \u001b[01;34m8917\u001b[0m/   \u001b[01;34m9176\u001b[0m/  \u001b[01;34m9383\u001b[0m/\n",
            "\u001b[01;34m10292\u001b[0m/  \u001b[01;34m12871\u001b[0m/  \u001b[01;34m12933\u001b[0m/  \u001b[01;34m13691\u001b[0m/  \u001b[01;34m15516\u001b[0m/  \u001b[01;34m8918\u001b[0m/   \u001b[01;34m9177\u001b[0m/  \u001b[01;34mgdrive\u001b[0m/\n",
            "\u001b[01;34m10293\u001b[0m/  \u001b[01;34m12872\u001b[0m/  \u001b[01;34m12934\u001b[0m/  \u001b[01;34m13692\u001b[0m/  \u001b[01;34m15632\u001b[0m/  \u001b[01;34m8950\u001b[0m/   \u001b[01;34m9178\u001b[0m/  \u001b[01;34mIDC_regular_ps50_idx5\u001b[0m/\n",
            "\u001b[01;34m10295\u001b[0m/  \u001b[01;34m12873\u001b[0m/  \u001b[01;34m12935\u001b[0m/  \u001b[01;34m13693\u001b[0m/  \u001b[01;34m15633\u001b[0m/  \u001b[01;34m8951\u001b[0m/   \u001b[01;34m9181\u001b[0m/  \u001b[01;34msample_data\u001b[0m/\n",
            "\u001b[01;34m10299\u001b[0m/  \u001b[01;34m12875\u001b[0m/  \u001b[01;34m12947\u001b[0m/  \u001b[01;34m13694\u001b[0m/  \u001b[01;34m15634\u001b[0m/  \u001b[01;34m8955\u001b[0m/   \u001b[01;34m9225\u001b[0m/\n",
            "\u001b[01;34m10300\u001b[0m/  \u001b[01;34m12876\u001b[0m/  \u001b[01;34m12948\u001b[0m/  \u001b[01;34m13916\u001b[0m/  \u001b[01;34m15839\u001b[0m/  \u001b[01;34m8956\u001b[0m/   \u001b[01;34m9226\u001b[0m/\n",
            "\u001b[01;34m10301\u001b[0m/  \u001b[01;34m12877\u001b[0m/  \u001b[01;34m12949\u001b[0m/  \u001b[01;34m14078\u001b[0m/  \u001b[01;34m15840\u001b[0m/  \u001b[01;34m8957\u001b[0m/   \u001b[01;34m9227\u001b[0m/\n",
            "\u001b[01;34m10302\u001b[0m/  \u001b[01;34m12878\u001b[0m/  \u001b[01;34m12951\u001b[0m/  \u001b[01;34m14079\u001b[0m/  \u001b[01;34m15902\u001b[0m/  \u001b[01;34m8959\u001b[0m/   \u001b[01;34m9228\u001b[0m/\n",
            "\u001b[01;34m10303\u001b[0m/  \u001b[01;34m12879\u001b[0m/  \u001b[01;34m12954\u001b[0m/  \u001b[01;34m14081\u001b[0m/  \u001b[01;34m15903\u001b[0m/  \u001b[01;34m8974\u001b[0m/   \u001b[01;34m9250\u001b[0m/\n",
            "\u001b[01;34m10304\u001b[0m/  \u001b[01;34m12880\u001b[0m/  \u001b[01;34m12955\u001b[0m/  \u001b[01;34m14082\u001b[0m/  \u001b[01;34m16014\u001b[0m/  \u001b[01;34m8975\u001b[0m/   \u001b[01;34m9254\u001b[0m/\n"
          ]
        }
      ]
    },
    {
      "cell_type": "markdown",
      "source": [
        "# Read image files from **IDC_regular_ps50_idx5**"
      ],
      "metadata": {
        "id": "SYpLshTCwEci"
      }
    },
    {
      "cell_type": "code",
      "source": [
        "def read_image_files(binary_class):\n",
        "  current_working_dir = os.getcwd()\n",
        "  folder = 'IDC_regular_ps50_idx5/*/'\n",
        "\n",
        "  image_files_w_path, image_files_wo_path = [], []\n",
        "  for img in glob.glob(os.path.join(current_working_dir, folder + binary_class + '/') + '*.png'):\n",
        "    image_files_w_path.append(img)\n",
        "    image_wo_path = os.path.basename(img)\n",
        "    image_files_wo_path.append(image_wo_path)    \n",
        "  return image_files_wo_path, image_files_w_path\n",
        "\n",
        "class_1_malignant_wo_path, class_1_malignant_w_path = read_image_files('1')\n",
        "class_0_benign_wo_path, class_0_benign_w_path = read_image_files('0')\n",
        "full_data_wo_path = class_1_malignant_wo_path + class_0_benign_wo_path\n",
        "full_data_w_path = class_1_malignant_w_path + class_0_benign_w_path\n",
        "\n",
        "print(class_1_malignant_w_path[:2])\n",
        "print(class_1_malignant_wo_path[:2])\n",
        "print(full_data_wo_path[0], ',', full_data_wo_path[-1])"
      ],
      "metadata": {
        "colab": {
          "base_uri": "https://localhost:8080/"
        },
        "id": "83nY9_ke0uyb",
        "outputId": "f350f37d-af51-40e2-f01f-1c7f4bfa5bcf"
      },
      "execution_count": 56,
      "outputs": [
        {
          "output_type": "stream",
          "name": "stdout",
          "text": [
            "['/content/IDC_regular_ps50_idx5/9346/1/9346_idx5_x2051_y2251_class1.png', '/content/IDC_regular_ps50_idx5/9346/1/9346_idx5_x1701_y1701_class1.png']\n",
            "['9346_idx5_x2051_y2251_class1.png', '9346_idx5_x1701_y1701_class1.png']\n",
            "9346_idx5_x2051_y2251_class1.png , 13400_idx5_x1651_y2201_class0.png\n"
          ]
        }
      ]
    },
    {
      "cell_type": "code",
      "source": [
        "# def read_image_files(binary_class):\n",
        "#   current_working_dir = os.getcwd()\n",
        "#   folder = 'IDC_regular_ps50_idx5/*/'\n",
        "\n",
        "#   image_files = []\n",
        "#   for img in glob.glob(os.path.join(current_working_dir, folder + binary_class + '/') + '*.png'):\n",
        "#     image_files.append(img)\n",
        "#   return image_files\n",
        "\n",
        "# class_1_malignant = read_image_files('1')\n",
        "# class_0_benign = read_image_files('0')\n",
        "# full_data = class_1_malignant + class_0_benign"
      ],
      "metadata": {
        "id": "m8FiLo_Nf77k"
      },
      "execution_count": null,
      "outputs": []
    },
    {
      "cell_type": "code",
      "source": [
        "print('class_1:\\n',class_1_malignant[:2])\n",
        "print('\\nclass_1 and class_0 combined:\\n', full_data[0], '\\n', full_data[-1])"
      ],
      "metadata": {
        "colab": {
          "base_uri": "https://localhost:8080/"
        },
        "id": "yQIvqwfJFF3o",
        "outputId": "aa2b1686-7819-47ae-9cd2-eb463125384f"
      },
      "execution_count": 48,
      "outputs": [
        {
          "output_type": "stream",
          "name": "stdout",
          "text": [
            "class_1:\n",
            " ['9346_idx5_x2051_y2251_class1.png', '9346_idx5_x1701_y1701_class1.png']\n",
            "\n",
            "class_1 and class_0 combined:\n",
            " 9346_idx5_x2051_y2251_class1.png \n",
            " 13400_idx5_x1651_y2201_class0.png\n"
          ]
        }
      ]
    },
    {
      "cell_type": "markdown",
      "source": [
        "# Check the number of image files in each class\n"
      ],
      "metadata": {
        "id": "2Tm1-FAi0Ivz"
      }
    },
    {
      "cell_type": "code",
      "source": [
        "def check_class_size(class_1, class_0):\n",
        "  class_1_size, class_0_size = len(class_1), len(class_0)\n",
        "  count = pd.Series([class_1_size, class_0_size])\n",
        "  percent = round(count/(class_1_size + class_0_size)*100, 2)\n",
        "  df_perc = pd.concat({'class_count':count, 'class_percent(%)':percent}, axis=1)\n",
        "  df_perc['class'] = ['Class 1 (Malignant)', 'Class 0 (Benign)']\n",
        "  df_perc = df_perc[['class','class_count','class_percent(%)']]\n",
        "  print('Total Count = ', class_1_size + class_0_size)\n",
        "  return df_perc\n",
        "\n",
        "check_class_size(class_1_malignant, class_0_benign)"
      ],
      "metadata": {
        "colab": {
          "base_uri": "https://localhost:8080/",
          "height": 130
        },
        "id": "EcPA8klvyBaj",
        "outputId": "5b5fbfa9-46cd-41fe-abed-96aa835aec48"
      },
      "execution_count": 49,
      "outputs": [
        {
          "output_type": "stream",
          "name": "stdout",
          "text": [
            "Total Count =  277524\n"
          ]
        },
        {
          "output_type": "execute_result",
          "data": {
            "text/plain": [
              "                 class  class_count  class_percent(%)\n",
              "0  Class 1 (Malignant)        78786             28.39\n",
              "1     Class 0 (Benign)       198738             71.61"
            ],
            "text/html": [
              "\n",
              "  <div id=\"df-fcc4e241-5fe5-4bd8-ba60-1068bc9ea1f5\">\n",
              "    <div class=\"colab-df-container\">\n",
              "      <div>\n",
              "<style scoped>\n",
              "    .dataframe tbody tr th:only-of-type {\n",
              "        vertical-align: middle;\n",
              "    }\n",
              "\n",
              "    .dataframe tbody tr th {\n",
              "        vertical-align: top;\n",
              "    }\n",
              "\n",
              "    .dataframe thead th {\n",
              "        text-align: right;\n",
              "    }\n",
              "</style>\n",
              "<table border=\"1\" class=\"dataframe\">\n",
              "  <thead>\n",
              "    <tr style=\"text-align: right;\">\n",
              "      <th></th>\n",
              "      <th>class</th>\n",
              "      <th>class_count</th>\n",
              "      <th>class_percent(%)</th>\n",
              "    </tr>\n",
              "  </thead>\n",
              "  <tbody>\n",
              "    <tr>\n",
              "      <th>0</th>\n",
              "      <td>Class 1 (Malignant)</td>\n",
              "      <td>78786</td>\n",
              "      <td>28.39</td>\n",
              "    </tr>\n",
              "    <tr>\n",
              "      <th>1</th>\n",
              "      <td>Class 0 (Benign)</td>\n",
              "      <td>198738</td>\n",
              "      <td>71.61</td>\n",
              "    </tr>\n",
              "  </tbody>\n",
              "</table>\n",
              "</div>\n",
              "      <button class=\"colab-df-convert\" onclick=\"convertToInteractive('df-fcc4e241-5fe5-4bd8-ba60-1068bc9ea1f5')\"\n",
              "              title=\"Convert this dataframe to an interactive table.\"\n",
              "              style=\"display:none;\">\n",
              "        \n",
              "  <svg xmlns=\"http://www.w3.org/2000/svg\" height=\"24px\"viewBox=\"0 0 24 24\"\n",
              "       width=\"24px\">\n",
              "    <path d=\"M0 0h24v24H0V0z\" fill=\"none\"/>\n",
              "    <path d=\"M18.56 5.44l.94 2.06.94-2.06 2.06-.94-2.06-.94-.94-2.06-.94 2.06-2.06.94zm-11 1L8.5 8.5l.94-2.06 2.06-.94-2.06-.94L8.5 2.5l-.94 2.06-2.06.94zm10 10l.94 2.06.94-2.06 2.06-.94-2.06-.94-.94-2.06-.94 2.06-2.06.94z\"/><path d=\"M17.41 7.96l-1.37-1.37c-.4-.4-.92-.59-1.43-.59-.52 0-1.04.2-1.43.59L10.3 9.45l-7.72 7.72c-.78.78-.78 2.05 0 2.83L4 21.41c.39.39.9.59 1.41.59.51 0 1.02-.2 1.41-.59l7.78-7.78 2.81-2.81c.8-.78.8-2.07 0-2.86zM5.41 20L4 18.59l7.72-7.72 1.47 1.35L5.41 20z\"/>\n",
              "  </svg>\n",
              "      </button>\n",
              "      \n",
              "  <style>\n",
              "    .colab-df-container {\n",
              "      display:flex;\n",
              "      flex-wrap:wrap;\n",
              "      gap: 12px;\n",
              "    }\n",
              "\n",
              "    .colab-df-convert {\n",
              "      background-color: #E8F0FE;\n",
              "      border: none;\n",
              "      border-radius: 50%;\n",
              "      cursor: pointer;\n",
              "      display: none;\n",
              "      fill: #1967D2;\n",
              "      height: 32px;\n",
              "      padding: 0 0 0 0;\n",
              "      width: 32px;\n",
              "    }\n",
              "\n",
              "    .colab-df-convert:hover {\n",
              "      background-color: #E2EBFA;\n",
              "      box-shadow: 0px 1px 2px rgba(60, 64, 67, 0.3), 0px 1px 3px 1px rgba(60, 64, 67, 0.15);\n",
              "      fill: #174EA6;\n",
              "    }\n",
              "\n",
              "    [theme=dark] .colab-df-convert {\n",
              "      background-color: #3B4455;\n",
              "      fill: #D2E3FC;\n",
              "    }\n",
              "\n",
              "    [theme=dark] .colab-df-convert:hover {\n",
              "      background-color: #434B5C;\n",
              "      box-shadow: 0px 1px 3px 1px rgba(0, 0, 0, 0.15);\n",
              "      filter: drop-shadow(0px 1px 2px rgba(0, 0, 0, 0.3));\n",
              "      fill: #FFFFFF;\n",
              "    }\n",
              "  </style>\n",
              "\n",
              "      <script>\n",
              "        const buttonEl =\n",
              "          document.querySelector('#df-fcc4e241-5fe5-4bd8-ba60-1068bc9ea1f5 button.colab-df-convert');\n",
              "        buttonEl.style.display =\n",
              "          google.colab.kernel.accessAllowed ? 'block' : 'none';\n",
              "\n",
              "        async function convertToInteractive(key) {\n",
              "          const element = document.querySelector('#df-fcc4e241-5fe5-4bd8-ba60-1068bc9ea1f5');\n",
              "          const dataTable =\n",
              "            await google.colab.kernel.invokeFunction('convertToInteractive',\n",
              "                                                     [key], {});\n",
              "          if (!dataTable) return;\n",
              "\n",
              "          const docLinkHtml = 'Like what you see? Visit the ' +\n",
              "            '<a target=\"_blank\" href=https://colab.research.google.com/notebooks/data_table.ipynb>data table notebook</a>'\n",
              "            + ' to learn more about interactive tables.';\n",
              "          element.innerHTML = '';\n",
              "          dataTable['output_type'] = 'display_data';\n",
              "          await google.colab.output.renderOutput(dataTable, element);\n",
              "          const docLink = document.createElement('div');\n",
              "          docLink.innerHTML = docLinkHtml;\n",
              "          element.appendChild(docLink);\n",
              "        }\n",
              "      </script>\n",
              "    </div>\n",
              "  </div>\n",
              "  "
            ]
          },
          "metadata": {},
          "execution_count": 49
        }
      ]
    },
    {
      "cell_type": "markdown",
      "source": [
        "# Display the first 5 images for each class\n",
        ": 50 by 50 pixels per image"
      ],
      "metadata": {
        "id": "8b3Am88FHQVa"
      }
    },
    {
      "cell_type": "code",
      "source": [
        "def display_images(subclass, class_name):\n",
        "  fig, axes = plt.subplots(nrows=1, ncols=5, figsize=(17,6))\n",
        "  for idx in range(len(subclass[:5])):\n",
        "    mal_img = io.imread(subclass[idx])\n",
        "    # print(mal_img.means())\n",
        "    axes[idx].imshow(mal_img)\n",
        "    axes[idx].set_title(class_name)\n",
        "  plt.show() \n",
        "\n",
        "display_images(class_1_malignant, 'Class 1')\n",
        "display_images(class_0_benign, 'Class 0')"
      ],
      "metadata": {
        "colab": {
          "base_uri": "https://localhost:8080/",
          "height": 732
        },
        "outputId": "ec9a7196-662e-4523-f23d-72c317708905",
        "id": "xGK7hj3rNwPu"
      },
      "execution_count": 50,
      "outputs": [
        {
          "output_type": "error",
          "ename": "FileNotFoundError",
          "evalue": "ignored",
          "traceback": [
            "\u001b[0;31m---------------------------------------------------------------------------\u001b[0m",
            "\u001b[0;31mFileNotFoundError\u001b[0m                         Traceback (most recent call last)",
            "\u001b[0;32m<ipython-input-50-a718da315395>\u001b[0m in \u001b[0;36m<module>\u001b[0;34m\u001b[0m\n\u001b[1;32m      8\u001b[0m   \u001b[0mplt\u001b[0m\u001b[0;34m.\u001b[0m\u001b[0mshow\u001b[0m\u001b[0;34m(\u001b[0m\u001b[0;34m)\u001b[0m\u001b[0;34m\u001b[0m\u001b[0;34m\u001b[0m\u001b[0m\n\u001b[1;32m      9\u001b[0m \u001b[0;34m\u001b[0m\u001b[0m\n\u001b[0;32m---> 10\u001b[0;31m \u001b[0mdisplay_images\u001b[0m\u001b[0;34m(\u001b[0m\u001b[0mclass_1_malignant\u001b[0m\u001b[0;34m,\u001b[0m \u001b[0;34m'Class 1'\u001b[0m\u001b[0;34m)\u001b[0m\u001b[0;34m\u001b[0m\u001b[0;34m\u001b[0m\u001b[0m\n\u001b[0m\u001b[1;32m     11\u001b[0m \u001b[0mdisplay_images\u001b[0m\u001b[0;34m(\u001b[0m\u001b[0mclass_0_benign\u001b[0m\u001b[0;34m,\u001b[0m \u001b[0;34m'Class 0'\u001b[0m\u001b[0;34m)\u001b[0m\u001b[0;34m\u001b[0m\u001b[0;34m\u001b[0m\u001b[0m\n",
            "\u001b[0;32m<ipython-input-50-a718da315395>\u001b[0m in \u001b[0;36mdisplay_images\u001b[0;34m(subclass, class_name)\u001b[0m\n\u001b[1;32m      2\u001b[0m   \u001b[0mfig\u001b[0m\u001b[0;34m,\u001b[0m \u001b[0maxes\u001b[0m \u001b[0;34m=\u001b[0m \u001b[0mplt\u001b[0m\u001b[0;34m.\u001b[0m\u001b[0msubplots\u001b[0m\u001b[0;34m(\u001b[0m\u001b[0mnrows\u001b[0m\u001b[0;34m=\u001b[0m\u001b[0;36m1\u001b[0m\u001b[0;34m,\u001b[0m \u001b[0mncols\u001b[0m\u001b[0;34m=\u001b[0m\u001b[0;36m5\u001b[0m\u001b[0;34m,\u001b[0m \u001b[0mfigsize\u001b[0m\u001b[0;34m=\u001b[0m\u001b[0;34m(\u001b[0m\u001b[0;36m17\u001b[0m\u001b[0;34m,\u001b[0m\u001b[0;36m6\u001b[0m\u001b[0;34m)\u001b[0m\u001b[0;34m)\u001b[0m\u001b[0;34m\u001b[0m\u001b[0;34m\u001b[0m\u001b[0m\n\u001b[1;32m      3\u001b[0m   \u001b[0;32mfor\u001b[0m \u001b[0midx\u001b[0m \u001b[0;32min\u001b[0m \u001b[0mrange\u001b[0m\u001b[0;34m(\u001b[0m\u001b[0mlen\u001b[0m\u001b[0;34m(\u001b[0m\u001b[0msubclass\u001b[0m\u001b[0;34m[\u001b[0m\u001b[0;34m:\u001b[0m\u001b[0;36m5\u001b[0m\u001b[0;34m]\u001b[0m\u001b[0;34m)\u001b[0m\u001b[0;34m)\u001b[0m\u001b[0;34m:\u001b[0m\u001b[0;34m\u001b[0m\u001b[0;34m\u001b[0m\u001b[0m\n\u001b[0;32m----> 4\u001b[0;31m     \u001b[0mmal_img\u001b[0m \u001b[0;34m=\u001b[0m \u001b[0mio\u001b[0m\u001b[0;34m.\u001b[0m\u001b[0mimread\u001b[0m\u001b[0;34m(\u001b[0m\u001b[0msubclass\u001b[0m\u001b[0;34m[\u001b[0m\u001b[0midx\u001b[0m\u001b[0;34m]\u001b[0m\u001b[0;34m)\u001b[0m\u001b[0;34m\u001b[0m\u001b[0;34m\u001b[0m\u001b[0m\n\u001b[0m\u001b[1;32m      5\u001b[0m     \u001b[0;31m# print(mal_img.means())\u001b[0m\u001b[0;34m\u001b[0m\u001b[0;34m\u001b[0m\u001b[0;34m\u001b[0m\u001b[0m\n\u001b[1;32m      6\u001b[0m     \u001b[0maxes\u001b[0m\u001b[0;34m[\u001b[0m\u001b[0midx\u001b[0m\u001b[0;34m]\u001b[0m\u001b[0;34m.\u001b[0m\u001b[0mimshow\u001b[0m\u001b[0;34m(\u001b[0m\u001b[0mmal_img\u001b[0m\u001b[0;34m)\u001b[0m\u001b[0;34m\u001b[0m\u001b[0;34m\u001b[0m\u001b[0m\n",
            "\u001b[0;32m/usr/local/lib/python3.7/dist-packages/skimage/io/_io.py\u001b[0m in \u001b[0;36mimread\u001b[0;34m(fname, as_gray, plugin, **plugin_args)\u001b[0m\n\u001b[1;32m     46\u001b[0m \u001b[0;34m\u001b[0m\u001b[0m\n\u001b[1;32m     47\u001b[0m     \u001b[0;32mwith\u001b[0m \u001b[0mfile_or_url_context\u001b[0m\u001b[0;34m(\u001b[0m\u001b[0mfname\u001b[0m\u001b[0;34m)\u001b[0m \u001b[0;32mas\u001b[0m \u001b[0mfname\u001b[0m\u001b[0;34m:\u001b[0m\u001b[0;34m\u001b[0m\u001b[0;34m\u001b[0m\u001b[0m\n\u001b[0;32m---> 48\u001b[0;31m         \u001b[0mimg\u001b[0m \u001b[0;34m=\u001b[0m \u001b[0mcall_plugin\u001b[0m\u001b[0;34m(\u001b[0m\u001b[0;34m'imread'\u001b[0m\u001b[0;34m,\u001b[0m \u001b[0mfname\u001b[0m\u001b[0;34m,\u001b[0m \u001b[0mplugin\u001b[0m\u001b[0;34m=\u001b[0m\u001b[0mplugin\u001b[0m\u001b[0;34m,\u001b[0m \u001b[0;34m**\u001b[0m\u001b[0mplugin_args\u001b[0m\u001b[0;34m)\u001b[0m\u001b[0;34m\u001b[0m\u001b[0;34m\u001b[0m\u001b[0m\n\u001b[0m\u001b[1;32m     49\u001b[0m \u001b[0;34m\u001b[0m\u001b[0m\n\u001b[1;32m     50\u001b[0m     \u001b[0;32mif\u001b[0m \u001b[0;32mnot\u001b[0m \u001b[0mhasattr\u001b[0m\u001b[0;34m(\u001b[0m\u001b[0mimg\u001b[0m\u001b[0;34m,\u001b[0m \u001b[0;34m'ndim'\u001b[0m\u001b[0;34m)\u001b[0m\u001b[0;34m:\u001b[0m\u001b[0;34m\u001b[0m\u001b[0;34m\u001b[0m\u001b[0m\n",
            "\u001b[0;32m/usr/local/lib/python3.7/dist-packages/skimage/io/manage_plugins.py\u001b[0m in \u001b[0;36mcall_plugin\u001b[0;34m(kind, *args, **kwargs)\u001b[0m\n\u001b[1;32m    205\u001b[0m                                (plugin, kind))\n\u001b[1;32m    206\u001b[0m \u001b[0;34m\u001b[0m\u001b[0m\n\u001b[0;32m--> 207\u001b[0;31m     \u001b[0;32mreturn\u001b[0m \u001b[0mfunc\u001b[0m\u001b[0;34m(\u001b[0m\u001b[0;34m*\u001b[0m\u001b[0margs\u001b[0m\u001b[0;34m,\u001b[0m \u001b[0;34m**\u001b[0m\u001b[0mkwargs\u001b[0m\u001b[0;34m)\u001b[0m\u001b[0;34m\u001b[0m\u001b[0;34m\u001b[0m\u001b[0m\n\u001b[0m\u001b[1;32m    208\u001b[0m \u001b[0;34m\u001b[0m\u001b[0m\n\u001b[1;32m    209\u001b[0m \u001b[0;34m\u001b[0m\u001b[0m\n",
            "\u001b[0;32m/usr/local/lib/python3.7/dist-packages/skimage/io/_plugins/imageio_plugin.py\u001b[0m in \u001b[0;36mimread\u001b[0;34m(*args, **kwargs)\u001b[0m\n\u001b[1;32m      8\u001b[0m \u001b[0;34m@\u001b[0m\u001b[0mwraps\u001b[0m\u001b[0;34m(\u001b[0m\u001b[0mimageio_imread\u001b[0m\u001b[0;34m)\u001b[0m\u001b[0;34m\u001b[0m\u001b[0;34m\u001b[0m\u001b[0m\n\u001b[1;32m      9\u001b[0m \u001b[0;32mdef\u001b[0m \u001b[0mimread\u001b[0m\u001b[0;34m(\u001b[0m\u001b[0;34m*\u001b[0m\u001b[0margs\u001b[0m\u001b[0;34m,\u001b[0m \u001b[0;34m**\u001b[0m\u001b[0mkwargs\u001b[0m\u001b[0;34m)\u001b[0m\u001b[0;34m:\u001b[0m\u001b[0;34m\u001b[0m\u001b[0;34m\u001b[0m\u001b[0m\n\u001b[0;32m---> 10\u001b[0;31m     \u001b[0;32mreturn\u001b[0m \u001b[0mnp\u001b[0m\u001b[0;34m.\u001b[0m\u001b[0masarray\u001b[0m\u001b[0;34m(\u001b[0m\u001b[0mimageio_imread\u001b[0m\u001b[0;34m(\u001b[0m\u001b[0;34m*\u001b[0m\u001b[0margs\u001b[0m\u001b[0;34m,\u001b[0m \u001b[0;34m**\u001b[0m\u001b[0mkwargs\u001b[0m\u001b[0;34m)\u001b[0m\u001b[0;34m)\u001b[0m\u001b[0;34m\u001b[0m\u001b[0;34m\u001b[0m\u001b[0m\n\u001b[0m",
            "\u001b[0;32m/usr/local/lib/python3.7/dist-packages/imageio/core/functions.py\u001b[0m in \u001b[0;36mimread\u001b[0;34m(uri, format, **kwargs)\u001b[0m\n\u001b[1;32m    263\u001b[0m \u001b[0;34m\u001b[0m\u001b[0m\n\u001b[1;32m    264\u001b[0m     \u001b[0;31m# Get reader and read first\u001b[0m\u001b[0;34m\u001b[0m\u001b[0;34m\u001b[0m\u001b[0;34m\u001b[0m\u001b[0m\n\u001b[0;32m--> 265\u001b[0;31m     \u001b[0mreader\u001b[0m \u001b[0;34m=\u001b[0m \u001b[0mread\u001b[0m\u001b[0;34m(\u001b[0m\u001b[0muri\u001b[0m\u001b[0;34m,\u001b[0m \u001b[0mformat\u001b[0m\u001b[0;34m,\u001b[0m \u001b[0;34m\"i\"\u001b[0m\u001b[0;34m,\u001b[0m \u001b[0;34m**\u001b[0m\u001b[0mkwargs\u001b[0m\u001b[0;34m)\u001b[0m\u001b[0;34m\u001b[0m\u001b[0;34m\u001b[0m\u001b[0m\n\u001b[0m\u001b[1;32m    266\u001b[0m     \u001b[0;32mwith\u001b[0m \u001b[0mreader\u001b[0m\u001b[0;34m:\u001b[0m\u001b[0;34m\u001b[0m\u001b[0;34m\u001b[0m\u001b[0m\n\u001b[1;32m    267\u001b[0m         \u001b[0;32mreturn\u001b[0m \u001b[0mreader\u001b[0m\u001b[0;34m.\u001b[0m\u001b[0mget_data\u001b[0m\u001b[0;34m(\u001b[0m\u001b[0;36m0\u001b[0m\u001b[0;34m)\u001b[0m\u001b[0;34m\u001b[0m\u001b[0;34m\u001b[0m\u001b[0m\n",
            "\u001b[0;32m/usr/local/lib/python3.7/dist-packages/imageio/core/functions.py\u001b[0m in \u001b[0;36mget_reader\u001b[0;34m(uri, format, mode, **kwargs)\u001b[0m\n\u001b[1;32m    170\u001b[0m \u001b[0;34m\u001b[0m\u001b[0m\n\u001b[1;32m    171\u001b[0m     \u001b[0;31m# Create request object\u001b[0m\u001b[0;34m\u001b[0m\u001b[0;34m\u001b[0m\u001b[0;34m\u001b[0m\u001b[0m\n\u001b[0;32m--> 172\u001b[0;31m     \u001b[0mrequest\u001b[0m \u001b[0;34m=\u001b[0m \u001b[0mRequest\u001b[0m\u001b[0;34m(\u001b[0m\u001b[0muri\u001b[0m\u001b[0;34m,\u001b[0m \u001b[0;34m\"r\"\u001b[0m \u001b[0;34m+\u001b[0m \u001b[0mmode\u001b[0m\u001b[0;34m,\u001b[0m \u001b[0;34m**\u001b[0m\u001b[0mkwargs\u001b[0m\u001b[0;34m)\u001b[0m\u001b[0;34m\u001b[0m\u001b[0;34m\u001b[0m\u001b[0m\n\u001b[0m\u001b[1;32m    173\u001b[0m \u001b[0;34m\u001b[0m\u001b[0m\n\u001b[1;32m    174\u001b[0m     \u001b[0;31m# Get format\u001b[0m\u001b[0;34m\u001b[0m\u001b[0;34m\u001b[0m\u001b[0;34m\u001b[0m\u001b[0m\n",
            "\u001b[0;32m/usr/local/lib/python3.7/dist-packages/imageio/core/request.py\u001b[0m in \u001b[0;36m__init__\u001b[0;34m(self, uri, mode, **kwargs)\u001b[0m\n\u001b[1;32m    122\u001b[0m \u001b[0;34m\u001b[0m\u001b[0m\n\u001b[1;32m    123\u001b[0m         \u001b[0;31m# Parse what was given\u001b[0m\u001b[0;34m\u001b[0m\u001b[0;34m\u001b[0m\u001b[0;34m\u001b[0m\u001b[0m\n\u001b[0;32m--> 124\u001b[0;31m         \u001b[0mself\u001b[0m\u001b[0;34m.\u001b[0m\u001b[0m_parse_uri\u001b[0m\u001b[0;34m(\u001b[0m\u001b[0muri\u001b[0m\u001b[0;34m)\u001b[0m\u001b[0;34m\u001b[0m\u001b[0;34m\u001b[0m\u001b[0m\n\u001b[0m\u001b[1;32m    125\u001b[0m \u001b[0;34m\u001b[0m\u001b[0m\n\u001b[1;32m    126\u001b[0m         \u001b[0;31m# Set extension\u001b[0m\u001b[0;34m\u001b[0m\u001b[0;34m\u001b[0m\u001b[0;34m\u001b[0m\u001b[0m\n",
            "\u001b[0;32m/usr/local/lib/python3.7/dist-packages/imageio/core/request.py\u001b[0m in \u001b[0;36m_parse_uri\u001b[0;34m(self, uri)\u001b[0m\n\u001b[1;32m    258\u001b[0m                 \u001b[0;31m# Reading: check that the file exists (but is allowed a dir)\u001b[0m\u001b[0;34m\u001b[0m\u001b[0;34m\u001b[0m\u001b[0;34m\u001b[0m\u001b[0m\n\u001b[1;32m    259\u001b[0m                 \u001b[0;32mif\u001b[0m \u001b[0;32mnot\u001b[0m \u001b[0mos\u001b[0m\u001b[0;34m.\u001b[0m\u001b[0mpath\u001b[0m\u001b[0;34m.\u001b[0m\u001b[0mexists\u001b[0m\u001b[0;34m(\u001b[0m\u001b[0mfn\u001b[0m\u001b[0;34m)\u001b[0m\u001b[0;34m:\u001b[0m\u001b[0;34m\u001b[0m\u001b[0;34m\u001b[0m\u001b[0m\n\u001b[0;32m--> 260\u001b[0;31m                     \u001b[0;32mraise\u001b[0m \u001b[0mFileNotFoundError\u001b[0m\u001b[0;34m(\u001b[0m\u001b[0;34m\"No such file: '%s'\"\u001b[0m \u001b[0;34m%\u001b[0m \u001b[0mfn\u001b[0m\u001b[0;34m)\u001b[0m\u001b[0;34m\u001b[0m\u001b[0;34m\u001b[0m\u001b[0m\n\u001b[0m\u001b[1;32m    261\u001b[0m             \u001b[0;32melse\u001b[0m\u001b[0;34m:\u001b[0m\u001b[0;34m\u001b[0m\u001b[0;34m\u001b[0m\u001b[0m\n\u001b[1;32m    262\u001b[0m                 \u001b[0;31m# Writing: check that the directory to write to does exist\u001b[0m\u001b[0;34m\u001b[0m\u001b[0;34m\u001b[0m\u001b[0;34m\u001b[0m\u001b[0m\n",
            "\u001b[0;31mFileNotFoundError\u001b[0m: No such file: '/content/9346_idx5_x2051_y2251_class1.png'"
          ]
        },
        {
          "output_type": "display_data",
          "data": {
            "text/plain": [
              "<Figure size 1224x432 with 5 Axes>"
            ],
            "image/png": "[encoded data removed]"
          },
          "metadata": {
            "needs_background": "light"
          }
        }
      ]
    },
    {
      "cell_type": "markdown",
      "source": [
        "# Extract image patch coordinate (x, y) from file names"
      ],
      "metadata": {
        "id": "coT9K_SwVjSX"
      }
    },
    {
      "cell_type": "code",
      "source": [
        "print(os.path.basename('/content/IDC_regular_ps50_idx5/9346/1/9346_idx5_x2051_y2251_class1.png'))"
      ],
      "metadata": {
        "colab": {
          "base_uri": "https://localhost:8080/"
        },
        "id": "OICX3fdJWNnU",
        "outputId": "d2b340bb-c391-4a81-cfb9-bc30b2426637"
      },
      "execution_count": 46,
      "outputs": [
        {
          "output_type": "stream",
          "name": "stdout",
          "text": [
            "9346_idx5_x2051_y2251_class1.png\n"
          ]
        }
      ]
    },
    {
      "cell_type": "code",
      "source": [
        "import re\n",
        "import os\n",
        "\n",
        "print"
      ],
      "metadata": {
        "id": "thr4zU1zPZgt"
      },
      "execution_count": 20,
      "outputs": []
    },
    {
      "cell_type": "code",
      "source": [
        "s = '9346_idx5_x2051_y2251_class1.png'\n",
        "m = re.search(r'\\d+', s)\n",
        "print(m.group())\n",
        "\n",
        "f = re.findall(r'\\d+', s)\n",
        "conv = [int(i) for i in f]\n",
        "print(conv)"
      ],
      "metadata": {
        "colab": {
          "base_uri": "https://localhost:8080/"
        },
        "id": "5dvosvxddDDh",
        "outputId": "88776ac1-98b5-48b1-acfa-6f0a8d59e062"
      },
      "execution_count": 44,
      "outputs": [
        {
          "output_type": "stream",
          "name": "stdout",
          "text": [
            "9346\n",
            "[9346, 5, 2051, 2251, 1]\n"
          ]
        }
      ]
    },
    {
      "cell_type": "code",
      "source": [],
      "metadata": {
        "id": "XLxz9aqOdY5p"
      },
      "execution_count": null,
      "outputs": []
    }
  ]
}