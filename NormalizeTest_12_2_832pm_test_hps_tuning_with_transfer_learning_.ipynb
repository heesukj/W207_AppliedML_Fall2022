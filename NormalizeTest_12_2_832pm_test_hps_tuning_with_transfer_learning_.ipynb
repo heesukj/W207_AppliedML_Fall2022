{
  "nbformat": 4,
  "nbformat_minor": 0,
  "metadata": {
    "colab": {
      "provenance": [],
      "include_colab_link": true
    },
    "kernelspec": {
      "name": "python3",
      "display_name": "Python 3"
    },
    "language_info": {
      "name": "python"
    },
    "accelerator": "GPU",
    "gpuClass": "standard"
  },
  "cells": [
    {
      "cell_type": "markdown",
      "metadata": {
        "id": "view-in-github",
        "colab_type": "text"
      },
      "source": [
        "<a href=\"https://colab.research.google.com/github/heesukjang/W207_AppliedML_Fall2022/blob/main/NormalizeTest_12_2_832pm_test_hps_tuning_with_transfer_learning_.ipynb\" target=\"_parent\"><img src=\"https://colab.research.google.com/assets/colab-badge.svg\" alt=\"Open In Colab\"/></a>"
      ]
    },
    {
      "cell_type": "code",
      "source": [
        "import pandas as pd\n",
        "import numpy as np\n",
        "import os\n",
        "import time\n",
        "import random\n",
        "import joblib\n",
        "import glob\n",
        "import random\n",
        "from itertools import product\n",
        "import gc\n",
        "import subprocess\n",
        "import shutil\n",
        "import copy\n",
        "import statistics as st\n",
        "from scipy import stats\n",
        "from google.colab import files\n",
        "\n",
        "from imutils import rotate as rotate\n",
        "import cv2\n",
        "import matplotlib.pyplot as plt\n",
        "import seaborn as sns\n",
        "import plotly.express as px\n",
        "import matplotlib.patches as patches\n",
        "from matplotlib.patches import Polygon\n",
        "from sklearn.metrics import confusion_matrix\n",
        "from mlxtend.plotting import plot_confusion_matrix\n",
        "from skimage.color import gray2rgb\n",
        "import skimage.io as skio\n",
        "from keras.utils.layer_utils import count_params\n",
        "from tensorflow.keras.layers import Concatenate\n",
        "\n",
        "from sklearn.utils import shuffle\n",
        "from sklearn.decomposition import PCA\n",
        "from sklearn.decomposition import IncrementalPCA\n",
        "from sklearn.model_selection import train_test_split\n",
        "from sklearn.model_selection import StratifiedKFold\n",
        "from sklearn.metrics import roc_auc_score\n",
        "from sklearn.metrics import roc_curve\n",
        "from sklearn.metrics import auc\n",
        "from sklearn import metrics\n",
        "from sklearn.metrics import precision_recall_fscore_support as score\n",
        "from sklearn.metrics import classification_report, cohen_kappa_score, zero_one_loss\n",
        "from sklearn.model_selection import KFold\n",
        "from sklearn.model_selection import cross_val_score\n",
        "from sklearn.model_selection import cross_val_predict\n",
        "from sklearn.model_selection import StratifiedShuffleSplit\n",
        "from sklearn.model_selection import train_test_split, GridSearchCV\n",
        "\n",
        "# from tensorflow.keras.preprocessing.image import array_to_img\n",
        "# from tensorflow.keras.preprocessing.image import img_to_array\n",
        "# from tensorflow.keras.preprocessing.image import load_img\n",
        "# from tensorflow.keras.preprocessing.image import save_img\n",
        "\n",
        "import tensorflow as tf\n",
        "from tensorflow import keras\n",
        "from tensorflow.keras import layers\n",
        "from tensorflow.keras.preprocessing.image import ImageDataGenerator\n",
        "from tensorflow.keras.losses import BinaryCrossentropy, CategoricalCrossentropy\n",
        "#from livelossplot import PlotLossesKeras\n",
        "\n",
        "from tensorflow.keras.layers import Lambda\n",
        "from tensorflow.keras.layers import Multiply\n",
        "# from tensorflow.keras.layers import LSTM\n",
        "from tensorflow.keras.layers import Bidirectional\n",
        "from tensorflow.keras.layers import RandomFlip, RandomZoom, RandomRotation, Conv2D, AveragePooling2D, GlobalAveragePooling2D, MaxPooling2D\n",
        "from tensorflow.keras.layers import AveragePooling2D, Input, Dense, Flatten, Dropout, BatchNormalization, GlobalAveragePooling2D\n",
        "from tensorflow.keras.layers import PReLU, ReLU, LeakyReLU\n",
        "from keras.layers.core import Activation\n",
        "from keras.layers.convolutional import SeparableConv1D\n",
        "from keras.layers.convolutional import SeparableConv2D \n",
        "from keras.layers.core import Activation\n",
        "from tensorflow.keras.optimizers import Adam, SGD, Adadelta, Adagrad, RMSprop\n",
        "from tensorflow.keras.models import Sequential\n",
        "\n",
        "from keras.applications.vgg16 import VGG16\n",
        "from keras.applications.vgg19 import VGG19\n",
        "from keras.applications.densenet import *\n",
        "from keras.applications.resnet import ResNet152\n",
        "from tensorflow.keras.applications import ResNet152V2\n",
        "from keras.applications.nasnet import NASNetMobile\n",
        "from keras.applications.nasnet import NASNetLarge\n",
        "from keras.applications.nasnet import preprocess_input\n",
        "from keras.applications import MobileNetV2\n",
        "from keras.applications.xception import Xception\n",
        "from keras.applications.inception_v3 import *\n",
        "\n",
        "\n",
        "from tensorflow.keras.preprocessing.image import array_to_img, img_to_array, load_img, save_img\n",
        "from tensorflow.python.ops.numpy_ops import np_config\n",
        "from keras.callbacks import ModelCheckpoint, EarlyStopping, ReduceLROnPlateau, LearningRateScheduler\n",
        "\n",
        "from keras.models import Model\n",
        "from tensorflow.keras import regularizers\n",
        "from tensorflow.keras.regularizers import l1\n",
        "from tensorflow.keras.regularizers import l2\n",
        "from keras.models import load_model\n",
        "from IPython.display import Image\n",
        "from tensorflow.keras.applications import ResNet152V2, VGG16, VGG19\n",
        "\n",
        "tf.get_logger().setLevel('INFO')\n",
        "\n",
        "import cv2 as cv\n",
        "import skimage.io as io\n",
        "\n",
        "import warnings\n",
        "warnings.filterwarnings('ignore')\n",
        "warnings.simplefilter(\"ignore\", category=DeprecationWarning)\n",
        "\n",
        "# Required to read the data from Kaggle\n",
        "from google.colab import drive\n",
        "# drive.mount('/content/gdrive')\n",
        "# os.environ['KAGGLE_CONFIG_DIR'] = \"/content/gdrive/MyDrive/Kaggle\"\n",
        "\n",
        "from google.colab import drive\n",
        "drive.mount('/content/gdrive')\n",
        "\n",
        "import logging\n",
        "\n",
        "# get TF logger\n",
        "log = logging.getLogger('tensorflow') # tell it to log it to a file"
      ],
      "metadata": {
        "colab": {
          "base_uri": "https://localhost:8080/"
        },
        "id": "AqvUA0UoCPSd",
        "outputId": "aedf6a6f-d984-4dc8-ab70-f4dcde4aa05b"
      },
      "execution_count": 1,
      "outputs": [
        {
          "output_type": "stream",
          "name": "stdout",
          "text": [
            "Drive already mounted at /content/gdrive; to attempt to forcibly remount, call drive.mount(\"/content/gdrive\", force_remount=True).\n"
          ]
        }
      ]
    },
    {
      "cell_type": "code",
      "source": [
        "# # send text data to a file\n",
        "# # when colab crashes and force to terminate, go see the file and find out where the implementation left off and restart your code from there\n",
        "# fh = logging.FileHandler('tensorflow.log')\n",
        "# fh.setLevel(logging.DEBUG)\n",
        "# fh.setFormatter(formatter)\n",
        "# log.addHandler(fh)"
      ],
      "metadata": {
        "id": "4cXUtcOcabEp"
      },
      "execution_count": 2,
      "outputs": []
    },
    {
      "cell_type": "code",
      "source": [
        "# #send plots to a file \n",
        "# plt.savefig('books_read.png')"
      ],
      "metadata": {
        "id": "BJVR4Ud0anUW"
      },
      "execution_count": 3,
      "outputs": []
    },
    {
      "cell_type": "code",
      "source": [
        "# tf.keras.utils.plot_model(model)"
      ],
      "metadata": {
        "id": "MLRSmkowWAdS"
      },
      "execution_count": 4,
      "outputs": []
    },
    {
      "cell_type": "code",
      "source": [
        "!pip install -q -U keras-tuner\n",
        "import keras_tuner as kt"
      ],
      "metadata": {
        "id": "1yl8KLZbOqcd"
      },
      "execution_count": 5,
      "outputs": []
    },
    {
      "cell_type": "code",
      "source": [
        "!unzip gdrive/MyDrive/Kaggle/CNN_IDC/Dataset.zip                  "
      ],
      "metadata": {
        "id": "ftiQ04jV6roA",
        "outputId": "84eb7a9d-c61c-4cac-9f68-200fba84e985",
        "colab": {
          "base_uri": "https://localhost:8080/"
        }
      },
      "execution_count": 6,
      "outputs": [
        {
          "output_type": "stream",
          "name": "stdout",
          "text": [
            "Archive:  gdrive/MyDrive/Kaggle/CNN_IDC/Dataset.zip\n",
            "replace Dataset/.DS_Store? [y]es, [n]o, [A]ll, [N]one, [r]ename: N\n"
          ]
        }
      ]
    },
    {
      "cell_type": "code",
      "source": [
        "# delete a full folder including all its files and subfolders\n",
        "!rm -rf processed_images/                    "
      ],
      "metadata": {
        "id": "dFwV9FlsaApf"
      },
      "execution_count": 7,
      "outputs": []
    },
    {
      "cell_type": "code",
      "source": [
        "!ls -ltr Dataset"
      ],
      "metadata": {
        "id": "WjE-qGmqW9qS",
        "colab": {
          "base_uri": "https://localhost:8080/"
        },
        "outputId": "afa4de47-484d-4af1-893c-3d62065d9c78"
      },
      "execution_count": 8,
      "outputs": [
        {
          "output_type": "stream",
          "name": "stdout",
          "text": [
            "total 12\n",
            "drwxr-xr-x 4 root root 4096 Oct  4 01:10 Test\n",
            "drwxr-xr-x 4 root root 4096 Oct  4 01:10 Train\n",
            "drwxr-xr-x 4 root root 4096 Oct  4 01:10 Validate\n"
          ]
        }
      ]
    },
    {
      "cell_type": "code",
      "source": [
        "# ls -ltr: List the contents of the current directory in the long listing format ( -l ), \n",
        "#   sorted by modification time ( -t ) in reverse order ( -r ) of all files and directories beginning with file* .\n",
        "# wc -l: count the number of lines\n",
        "\n",
        "!ls -ltr Dataset/Train/0|wc -l\n",
        "!ls -ltr Dataset/Train/1|wc -l\n",
        "\n",
        "!ls -ltr Dataset/Test/0|wc -l\n",
        "!ls -ltr Dataset/Test/1|wc -l\n",
        "\n",
        "!ls -ltr Dataset/Validate/0|wc -l\n",
        "!ls -ltr Dataset/Validate/1|wc -l"
      ],
      "metadata": {
        "id": "rNK-XNrxXBVl",
        "colab": {
          "base_uri": "https://localhost:8080/"
        },
        "outputId": "ea9d5fbb-9a23-41c4-8693-2df444115abf"
      },
      "execution_count": 9,
      "outputs": [
        {
          "output_type": "stream",
          "name": "stdout",
          "text": [
            "401\n",
            "401\n",
            "101\n",
            "101\n",
            "101\n",
            "101\n"
          ]
        }
      ]
    },
    {
      "cell_type": "code",
      "source": [
        "val_image_directory = '/content/Dataset/Validate'\n",
        "train_image_directory = '/content/Dataset/Train'\n",
        "test_image_directory = '/content/Dataset/Test'\n",
        "directory_path = '/content/Dataset'\n",
        "\n",
        "tgt_directory_path = '/content/processed_images'\n",
        "tgt_train_1_image_path = '/content/processed_images/train/1/'\n",
        "tgt_train_0_image_path = '/content/processed_images/train/0/'\n",
        "tgt_val_1_image_path = '/content/processed_images/val/1/'\n",
        "tgt_val_0_image_path = '/content/processed_images/val/0/'\n",
        "tgt_test_1_image_path = '/content/processed_images/test/1/'\n",
        "tgt_test_0_image_path = '/content/processed_images/test/0/'\n",
        "\n",
        "tgt_path_list = [tgt_train_1_image_path, tgt_train_0_image_path,\n",
        "                 tgt_val_1_image_path, tgt_val_0_image_path,\n",
        "                 tgt_test_1_image_path, tgt_test_0_image_path\n",
        "                ]"
      ],
      "metadata": {
        "id": "UATtHsgNSRqG"
      },
      "execution_count": 10,
      "outputs": []
    },
    {
      "cell_type": "code",
      "source": [
        "def preprocess(data_dir):\n",
        "  images_path_1 = [data_dir + '/' +  dir + '/' for dir in os.listdir(data_dir) if dir != '.DS_Store'][0]\n",
        "  images_path_0 = [data_dir + '/' +  dir + '/' for dir in os.listdir(data_dir) if dir != '.DS_Store'][1]\n",
        "\n",
        "  images_list_1 = [images_path_1 + file for file in list(os.walk(images_path_1))[0][2] if file[0] != '.']\n",
        "  images_list_0 = [images_path_0 + file for file in list(os.walk(images_path_0))[0][2] if file[0] != '.']\n",
        "\n",
        "  return images_list_1, images_list_0"
      ],
      "metadata": {
        "id": "F0Q-ykr5SbLP"
      },
      "execution_count": 11,
      "outputs": []
    },
    {
      "cell_type": "code",
      "source": [
        "train_1_images_list, train_0_images_list = preprocess(train_image_directory)\n",
        "test_1_images_list, test_0_images_list = preprocess(test_image_directory)\n",
        "val_1_images_list, val_0_images_list = preprocess(val_image_directory)\n",
        "\n",
        "print(train_1_images_list[0],'\\n',train_0_images_list[0])"
      ],
      "metadata": {
        "id": "vfrO2qWjV0oQ",
        "outputId": "76d27259-8e5b-4ccf-8855-2e371c049373",
        "colab": {
          "base_uri": "https://localhost:8080/"
        }
      },
      "execution_count": 12,
      "outputs": [
        {
          "output_type": "stream",
          "name": "stdout",
          "text": [
            "/content/Dataset/Train/1/10269_idx5_x1351_y801_class1.png \n",
            " /content/Dataset/Train/0/9256_idx5_x1901_y51_class0.png\n"
          ]
        }
      ]
    },
    {
      "cell_type": "code",
      "source": [
        "len(train_1_images_list + train_0_images_list + test_1_images_list + test_0_images_list + val_1_images_list + val_0_images_list)"
      ],
      "metadata": {
        "id": "BmVWCg1geoxB",
        "colab": {
          "base_uri": "https://localhost:8080/"
        },
        "outputId": "e17d64d5-8cd2-48f5-f7b7-2400d4d1fb69"
      },
      "execution_count": 13,
      "outputs": [
        {
          "output_type": "execute_result",
          "data": {
            "text/plain": [
              "1200"
            ]
          },
          "metadata": {},
          "execution_count": 13
        }
      ]
    },
    {
      "cell_type": "code",
      "source": [
        "len(train_1_images_list), len(train_0_images_list), len(test_1_images_list), len(test_0_images_list), len(val_1_images_list), len(val_0_images_list)"
      ],
      "metadata": {
        "id": "XNjz53EpXpb-",
        "colab": {
          "base_uri": "https://localhost:8080/"
        },
        "outputId": "cb0e3ddf-8c45-4f8e-a0b1-ca7dbc7c7a62"
      },
      "execution_count": 14,
      "outputs": [
        {
          "output_type": "execute_result",
          "data": {
            "text/plain": [
              "(400, 400, 100, 100, 100, 100)"
            ]
          },
          "metadata": {},
          "execution_count": 14
        }
      ]
    },
    {
      "cell_type": "markdown",
      "source": [
        "## Display the first 6 images for each class\n",
        ": IDC Malignant (1) vs. IDC Benign (0)\n"
      ],
      "metadata": {
        "id": "vVq4Le9MIfV8"
      }
    },
    {
      "cell_type": "code",
      "source": [
        "IMG_SIZE = 50"
      ],
      "metadata": {
        "id": "UUgKYziVkc_i"
      },
      "execution_count": 15,
      "outputs": []
    },
    {
      "cell_type": "code",
      "source": [
        "def display_images(subclass, class_name):\n",
        "  fig, axes = plt.subplots(nrows=1, ncols=6, figsize=(17,6))\n",
        "  for idx, ax in enumerate(axes.flat):\n",
        "    img = io.imread(subclass[idx])\n",
        "    img = cv.resize(img, (IMG_SIZE, IMG_SIZE))    # resize an image from 50 by 50 to 512 by 512\n",
        "    ax.imshow(img)\n",
        "    ax.set_title(class_name)\n",
        "    # ax.set_xticks([])       # remove xticks passing an empty array\n",
        "    # ax.set_yticks([])       # remove yticks passing an empty array\n",
        "  fig.tight_layout() \n",
        "  plt.show() \n",
        "\n",
        "display_images(train_1_images_list, 'IDC Malignant (1)')\n",
        "display_images(train_0_images_list, ' IDC Benign (0)')"
      ],
      "metadata": {
        "id": "cbpAbSsOH9Be",
        "colab": {
          "base_uri": "https://localhost:8080/",
          "height": 455
        },
        "outputId": "d196c7c0-427a-4b57-d003-1456ea23e348"
      },
      "execution_count": 16,
      "outputs": [
        {
          "output_type": "display_data",
          "data": {
            "text/plain": [
              "<Figure size 1224x432 with 6 Axes>"
            ],
            "image/png": "[encoded data removed]"
          },
          "metadata": {
            "needs_background": "light"
          }
        },
        {
          "output_type": "display_data",
          "data": {
            "text/plain": [
              "<Figure size 1224x432 with 6 Axes>"
            ],
            "image/png": "[encoded data removed]"
          },
          "metadata": {
            "needs_background": "light"
          }
        }
      ]
    },
    {
      "cell_type": "code",
      "source": [
        "test_img = load_img(train_1_images_list[0], color_mode =\"grayscale\")\n",
        "test_img_arry = img_to_array(test_img)/255                                 # normalize\n",
        "print(type(test_img))\n",
        "print(test_img.format)\n",
        "print(test_img.mode)\n",
        "print(test_img.size)\n",
        "print(test_img.getbands())\n",
        "print(test_img_arry.shape)\n",
        "print(\"****\")\n",
        "test_img1 = load_img(train_1_images_list[0])\n",
        "test_img1_arry = img_to_array(test_img1)\n",
        "print(test_img1_arry.shape)\n",
        "print(test_img1.getbands())\n",
        "array_to_img(test_img_arry)"
      ],
      "metadata": {
        "id": "72L7A7gON-3H",
        "outputId": "6beff809-2242-4cc3-befb-da3aa2620735",
        "colab": {
          "base_uri": "https://localhost:8080/",
          "height": 223
        }
      },
      "execution_count": 17,
      "outputs": [
        {
          "output_type": "stream",
          "name": "stdout",
          "text": [
            "<class 'PIL.Image.Image'>\n",
            "None\n",
            "L\n",
            "(50, 50)\n",
            "('L',)\n",
            "(50, 50, 1)\n",
            "****\n",
            "(50, 50, 3)\n",
            "('R', 'G', 'B')\n"
          ]
        },
        {
          "output_type": "execute_result",
          "data": {
            "text/plain": [
              "<PIL.Image.Image image mode=L size=50x50 at 0x7FB0361931F0>"
            ],
            "image/png": "[encoded data removed]"
          },
          "metadata": {},
          "execution_count": 17
        }
      ]
    },
    {
      "cell_type": "markdown",
      "source": [
        "## Display an Image with Each Augmentation Method Using OpenCV\n"
      ],
      "metadata": {
        "id": "As0TRdtsdD8u"
      }
    },
    {
      "cell_type": "code",
      "source": [
        "# # https://towardsdatascience.com/complete-image-augmentation-in-opencv-31a6b02694f5\n",
        "\n",
        "# from google.colab.patches import cv2_imshow\n",
        "# target_size=(185,185)\n",
        "\n",
        "# # original: 50x50 rgb \n",
        "# org_img = load_img(train_1_images_list[5], color_mode =\"rgb\", target_size=target_size)\n",
        "# org_img_arry = img_to_array(org_img)\n",
        "# print(\"  Original:50x50(RGB)\");print()\n",
        "# cv2_imshow(org_img_arry)\n",
        "\n",
        "# # original: 50x50 grayscale \n",
        "# test_img = load_img(train_1_images_list[5], color_mode =\"grayscale\", target_size=target_size)\n",
        "# test_img_arry = img_to_array(test_img)\n",
        "# print();print(\" Original:50x50(Gray)\");print()\n",
        "# cv2_imshow(test_img_arry)\n",
        "\n",
        "# # brightness\n",
        "# bright_img_gs = tf.image.adjust_brightness(test_img_arry, delta=10)\n",
        "# bright_img_gs = img_to_array(bright_img_gs)\n",
        "# print();print(\" Brightness:0.1,0.3\");print()\n",
        "# cv2_imshow(bright_img_gs)\n",
        "\n",
        "# # contrast\n",
        "# contrast_img_gs = tf.image.adjust_contrast(test_img_arry, contrast_factor=3)\n",
        "# contrast_img_gs = img_to_array(contrast_img_gs)\n",
        "# print();print(\"    Contrast:1,3\");print()\n",
        "# cv2_imshow(contrast_img_gs)\n",
        "\n",
        "# # horizontal flip\n",
        "# hflip_img_gs = cv2.flip(test_img_arry, 1)\n",
        "# print();print(\"  Horizontal Flip\");print()\n",
        "# cv2_imshow(hflip_img_gs)\n",
        "\n",
        "# # vertical flip\n",
        "# vflip_img_gs = cv2.flip(test_img_arry, 0)\n",
        "# print();print(\"   Vertical Flip\");print()\n",
        "# cv2_imshow(vflip_img_gs)\n",
        "\n",
        "# # random rotate \n",
        "# angle = int(random.uniform(-90, 90))\n",
        "# hr, wr = test_img_arry.shape[:2]\n",
        "# M = cv2.getRotationMatrix2D((int(wr/2), int(hr/2)), angle, 1)\n",
        "# rotated_img_gs = cv2.warpAffine(test_img_arry, M, (wr, hr))\n",
        "# rotated_img_gs = img_to_array(rotated_img_gs)\n",
        "# print();print(\"    RandomRotate\");print()\n",
        "# cv2_imshow(rotated_img_gs)\n",
        "\n",
        "# # rotate 90 degree ccw\n",
        "# out=cv2.transpose(test_img_arry)\n",
        "# out=cv2.flip(out,flipCode=0)\n",
        "# rotated_img_gs = img_to_array(out)\n",
        "# print();print(\"    Rotate 90:CCW\");print()\n",
        "# cv2_imshow(out)\n",
        "\n",
        "# # rotate 90 degree cw\n",
        "# out=cv2.transpose(test_img_arry)\n",
        "# out=cv2.flip(out,flipCode=1)\n",
        "# rotated_img_gs = img_to_array(out)/255        # normalize it after augment the image\n",
        "# # print('rotated_img_gs',rotated_img_gs)\n",
        "# print();print(\"     Rotate 90:CW\");print()\n",
        "# cv2_imshow(out)\n",
        "\n",
        "# # fill mode = 'nearest'\n",
        "# # ratio = random.uniform(-ratio, ratio)\n",
        "# def fill_mode(ratio, img):\n",
        "#   fm_ratio = random.uniform(-ratio, ratio)\n",
        "#   h, w = img.shape[:2]\n",
        "#   to_shift = int(w*fm_ratio)\n",
        "#   if fm_ratio > 0:\n",
        "#       img = img[:, :w-to_shift, :]\n",
        "#       nearest_img_gs = cv2.copyMakeBorder(img, 0, 0, to_shift, 0, cv2.BORDER_REPLICATE)\n",
        "#       # constant_img_gs= cv2.copyMakeBorder(img, 0, 0, to_shift, 0, cv2.BORDER_CONSTANT,value=(255, 0, 0))\n",
        "#   if fm_ratio < 0:\n",
        "#       img = img[:, -1*to_shift:, :]\n",
        "#       nearest_img_gs = cv2.copyMakeBorder(img, 0, 0, 0, -1*to_shift, cv2.BORDER_REPLICATE)\n",
        "#       # constant_img_gs= cv2.copyMakeBorder(img, 0, 0, 0, -1*to_shift, cv2.BORDER_CONSTANT,value=(255, 0, 0))  \n",
        "#   return nearest_img_gs\n",
        "# nearest_img_gs = fill_mode(0.8, test_img_arry)\n",
        "# nearest_img_gs = img_to_array(nearest_img_gs)\n",
        "# print();print(\"   FillMode:Nearest\");print()\n",
        "# cv2_imshow(nearest_img_gs)\n",
        "\n",
        "\n",
        "# # Random ZoomIn\n",
        "# def zoom_in(ratio, img):\n",
        "#   z_ratio = random.uniform(ratio, 1)\n",
        "#   h, w = img.shape[:2]\n",
        "#   h_taken = int(z_ratio*h)\n",
        "#   w_taken = int(z_ratio*w)\n",
        "#   h_start = random.randint(0, h-h_taken)\n",
        "#   w_start = random.randint(0, w-w_taken)\n",
        "#   img = img[h_start:h_start+h_taken, w_start:w_start+w_taken, :]\n",
        "#   zoomed_img_gs = cv2.resize(img, (h, w), cv2.INTER_CUBIC)  \n",
        "#   return zoomed_img_gs\n",
        "# zoomed_img_gs = zoom_in(0.6, test_img_arry)\n",
        "# zoomed_img_gs = img_to_array(zoomed_img_gs)\n",
        "# print();print(\"   Random Zoom-In\");print()\n",
        "# cv2_imshow(zoomed_img_gs)\n",
        "\n",
        "# # shift the image 5 pixels to the left and 10 pixels down\n",
        "# M = np.float32([[1, 0, -10], [0, 1, 20]])\n",
        "# shifted_ld_gs = cv2.warpAffine(test_img_arry, M, (test_img_arry.shape[1], test_img_arry.shape[0]))\n",
        "# print();print(\" RandomShift:LeftDown\");print()\n",
        "# cv2_imshow(shifted_ld_gs)\n",
        "\n",
        "# # shift the image 5 pixels to the right and 10 pixels up\n",
        "# M = np.float32([[1, 0, 17], [0, 1, -8]])\n",
        "# shifted_ru_gs = cv2.warpAffine(test_img_arry, M, (test_img_arry.shape[1], test_img_arry.shape[0]))\n",
        "# print();print(\" RandomShift:RightUp\");print()\n",
        "# cv2_imshow(shifted_ru_gs)"
      ],
      "metadata": {
        "id": "TCVsAcTIzjXG"
      },
      "execution_count": 18,
      "outputs": []
    },
    {
      "cell_type": "code",
      "source": [
        "# resized = cv2.resize(test_img_arry, (224, 224), interpolation = cv2.INTER_AREA) \n",
        "# print('Resized Dimensions : ',resized.shape) \n",
        "# cv2_imshow(resized)"
      ],
      "metadata": {
        "id": "5I6GPlMm_6GR"
      },
      "execution_count": 19,
      "outputs": []
    },
    {
      "cell_type": "markdown",
      "source": [
        "# Filter Out Odd Images\n",
        "- Exclude images that are not **50 by 50**\n",
        "- Exclude images with no **.png** extension"
      ],
      "metadata": {
        "id": "JskE-RJrzNuQ"
      }
    },
    {
      "cell_type": "code",
      "source": [
        "odd_images = []\n",
        "def extract_odd_images(file_list, IMG_SIZE = 50):\n",
        "    for file_name in file_list:\n",
        "        test_img = load_img(file_name, color_mode =\"grayscale\")\n",
        "        test_img_arry = img_to_array(test_img)\n",
        "        if test_img_arry.shape[0] != IMG_SIZE or test_img_arry.shape[1] != IMG_SIZE:\n",
        "            odd_images.append(file_name)"
      ],
      "metadata": {
        "id": "ksYFBFjrdbFK"
      },
      "execution_count": 20,
      "outputs": []
    },
    {
      "cell_type": "code",
      "source": [
        "extract_odd_images(train_1_images_list + train_0_images_list + test_1_images_list + test_0_images_list + val_1_images_list + val_0_images_list)"
      ],
      "metadata": {
        "id": "BewtIomPefkn"
      },
      "execution_count": 21,
      "outputs": []
    },
    {
      "cell_type": "code",
      "source": [
        "odd_images"
      ],
      "metadata": {
        "id": "zcBUXUXqe6Xv",
        "colab": {
          "base_uri": "https://localhost:8080/"
        },
        "outputId": "3592646a-68df-4b66-ac1b-ed1e7483cef7"
      },
      "execution_count": 22,
      "outputs": [
        {
          "output_type": "execute_result",
          "data": {
            "text/plain": [
              "['/content/Dataset/Train/0/12954_idx5_x1651_y2951_class0.png',\n",
              " '/content/Dataset/Train/0/13106_idx5_x1_y2951_class0.png',\n",
              " '/content/Dataset/Train/0/9347_idx5_x2101_y801_class0.png',\n",
              " '/content/Dataset/Test/0/13404_idx5_x1101_y2901_class0.png',\n",
              " '/content/Dataset/Validate/0/12931_idx5_x1901_y2151_class0.png',\n",
              " '/content/Dataset/Validate/0/13694_idx5_x1551_y2801_class0.png',\n",
              " '/content/Dataset/Validate/0/9320_idx5_x801_y2951_class0.png']"
            ]
          },
          "metadata": {},
          "execution_count": 22
        }
      ]
    },
    {
      "cell_type": "code",
      "source": [
        "import cv2 as cv\n",
        "import skimage.io as io\n",
        "\n",
        "def display_images(subclass):\n",
        "  fig, axes = plt.subplots(nrows=1, ncols=7, figsize=(20,8))\n",
        "  for idx, ax in enumerate(axes.flat):\n",
        "    image_wo_path = os.path.basename(subclass[idx])\n",
        "    subtitle = 'Class ' + image_wo_path.rsplit('.')[0][-1] + ': ' + subclass[idx].split('/')[3]\n",
        "    img = io.imread(subclass[idx])\n",
        "    ax.imshow(img)\n",
        "    # ax.axis('off')\n",
        "    ax.set_title(subtitle, size=14)   \n",
        "  fig.tight_layout() \n",
        "  plt.show() \n",
        "\n",
        "print();display_images(odd_images)"
      ],
      "metadata": {
        "colab": {
          "base_uri": "https://localhost:8080/",
          "height": 357
        },
        "id": "GUjzcW6KmPpa",
        "outputId": "06988095-cb63-4ab4-adeb-fb5a036e81de"
      },
      "execution_count": 23,
      "outputs": [
        {
          "output_type": "stream",
          "name": "stdout",
          "text": [
            "\n"
          ]
        },
        {
          "output_type": "display_data",
          "data": {
            "text/plain": [
              "<Figure size 1440x576 with 7 Axes>"
            ],
            "image/png": "[encoded data removed]"
          },
          "metadata": {
            "needs_background": "light"
          }
        }
      ]
    },
    {
      "cell_type": "code",
      "source": [
        "train_0_images_list[:5]"
      ],
      "metadata": {
        "id": "oVtUbzBwSkOx",
        "colab": {
          "base_uri": "https://localhost:8080/"
        },
        "outputId": "6bd0b972-9440-44bb-909d-76dc8c69e8a1"
      },
      "execution_count": 24,
      "outputs": [
        {
          "output_type": "execute_result",
          "data": {
            "text/plain": [
              "['/content/Dataset/Train/0/9256_idx5_x1901_y51_class0.png',\n",
              " '/content/Dataset/Train/0/9073_idx5_x2851_y1251_class0.png',\n",
              " '/content/Dataset/Train/0/10292_idx5_x3451_y1151_class0.png',\n",
              " '/content/Dataset/Train/0/10302_idx5_x501_y1701_class0.png',\n",
              " '/content/Dataset/Train/0/12879_idx5_x201_y301_class0.png']"
            ]
          },
          "metadata": {},
          "execution_count": 24
        }
      ]
    },
    {
      "cell_type": "code",
      "source": [
        "train_1_images_list[0].split(\"/\")[-1], train_1_images_list[0][:train_1_images_list[0].rfind(\"/\") + 1]"
      ],
      "metadata": {
        "id": "2BcU0Mx5ShaC",
        "colab": {
          "base_uri": "https://localhost:8080/"
        },
        "outputId": "c8e0329b-f145-4bc1-9e3c-fc9e1473174d"
      },
      "execution_count": 25,
      "outputs": [
        {
          "output_type": "execute_result",
          "data": {
            "text/plain": [
              "('10269_idx5_x1351_y801_class1.png', '/content/Dataset/Train/1/')"
            ]
          },
          "metadata": {},
          "execution_count": 25
        }
      ]
    },
    {
      "cell_type": "code",
      "source": [
        "# delete a full folder including all its files and subfolders\n",
        "!rm -rf processed_images/"
      ],
      "metadata": {
        "id": "wIGRZoWrzuJ4"
      },
      "execution_count": 26,
      "outputs": []
    },
    {
      "cell_type": "markdown",
      "source": [
        "# Create a New Directory Path to Store Processed Images"
      ],
      "metadata": {
        "id": "ExufXq8gzvre"
      }
    },
    {
      "cell_type": "code",
      "source": [
        "root_dir = 'processed_images'\n",
        "\n",
        "os.makedirs(f'{root_dir}', exist_ok = True)\n",
        "for dir in ['train', 'val', 'test']:\n",
        "    for sub_dir in ['1', '0']:\n",
        "        os.makedirs(f'{root_dir}/{dir}/{sub_dir}', exist_ok=True)"
      ],
      "metadata": {
        "id": "NuLyO5-kX9RL"
      },
      "execution_count": 27,
      "outputs": []
    },
    {
      "cell_type": "markdown",
      "source": [
        "# Image Augmentation on Training Dataset\n",
        "- Convert color to gray scale\n",
        "- Flip: Horizontal and Vertical\n",
        "- Rotate 90 degree"
      ],
      "metadata": {
        "id": "BK4hkV9niRAs"
      }
    },
    {
      "cell_type": "code",
      "source": [
        "# https://towardsdatascience.com/complete-image-augmentation-in-opencv-31a6b02694f5\n",
        "\n",
        "from google.colab.patches import cv2_imshow\n",
        "target_size=(150,150)\n",
        "\n",
        "# original: 50x50 rgb \n",
        "org_img = load_img(train_0_images_list[0], color_mode =\"rgb\", target_size=target_size)\n",
        "org_img_arry = img_to_array(org_img)\n",
        "print(\"  Original:50x50(RGB)\");print()\n",
        "cv2_imshow(org_img_arry)\n",
        "\n",
        "# original: 50x50 grayscale \n",
        "test_img = load_img(train_0_images_list[0], color_mode =\"grayscale\", target_size=target_size)\n",
        "test_img_arry = img_to_array(test_img)\n",
        "print();print(\" Not normalized-Original:50x50(Gray)\");print()\n",
        "cv2_imshow(test_img_arry)\n",
        "\n",
        "#  normalized gray scale\n",
        "norm_test_img_arry = cv2.normalize(test_img_arry, None, alpha=0, beta=1, norm_type=cv2.NORM_MINMAX, dtype=cv2.CV_32F)\n",
        "print();print('Normalized-gray');print()\n",
        "cv2_imshow(norm_test_img_arry)\n",
        "# print('norm1-gray:\\n', norm_test_img_arry)\n",
        "\n",
        "# brightness\n",
        "bright_img_gs = tf.image.adjust_brightness(norm_test_img_arry, delta=10)\n",
        "bright_img_gs = img_to_array(bright_img_gs)\n",
        "print();print(\" Brightness:0.1,0.3\");print()\n",
        "cv2_imshow(bright_img_gs)\n",
        "\n",
        "# contrast\n",
        "contrast_img_gs = tf.image.adjust_contrast(test_img_arry, contrast_factor=3)\n",
        "contrast_img_gs = img_to_array(contrast_img_gs)\n",
        "print();print(\"    Contrast:1,3\");print()\n",
        "cv2_imshow(contrast_img_gs)\n",
        "\n",
        "# horizontal flip\n",
        "hflip_img_gs = cv2.flip(norm_test_img_arry, 1)\n",
        "print();print(\"  Horizontal Flip\");print()\n",
        "cv2_imshow(hflip_img_gs)\n",
        "\n",
        "# vertical flip\n",
        "vflip_img_gs = cv2.flip(norm_test_img_arry, 0)\n",
        "print();print(\"   Vertical Flip\");print()\n",
        "cv2_imshow(vflip_img_gs)\n",
        "\n",
        "# random rotate \n",
        "angle = int(random.uniform(-90, 90))\n",
        "hr, wr = norm_test_img_arry.shape[:2]\n",
        "M = cv2.getRotationMatrix2D((int(wr/2), int(hr/2)), angle, 1)\n",
        "rotated_img_gs = cv2.warpAffine(norm_test_img_arry, M, (wr, hr))\n",
        "rotated_img_gs = img_to_array(rotated_img_gs)\n",
        "print();print(\"    RandomRotate\");print()\n",
        "cv2_imshow(rotated_img_gs)\n",
        "\n",
        "# rotate 90 degree ccw\n",
        "out=cv2.transpose(norm_test_img_arry)\n",
        "out=cv2.flip(out,flipCode=0)\n",
        "rotated_img_gs = img_to_array(out)\n",
        "print();print(\"    Rotate 90:CCW\");print()\n",
        "cv2_imshow(out)\n",
        "\n",
        "# rotate 90 degree cw\n",
        "out=cv2.transpose(norm_test_img_arry)\n",
        "out=cv2.flip(out,flipCode=1)\n",
        "rotated_img_gs = img_to_array(out)/255        # normalize it after augment the image\n",
        "# print('rotated_img_gs',rotated_img_gs)\n",
        "print();print(\"     Rotate 90:CW\");print()\n",
        "cv2_imshow(out)\n",
        "\n",
        "# fill mode = 'nearest'\n",
        "# ratio = random.uniform(-ratio, ratio)\n",
        "def fill_mode(ratio, img):\n",
        "  fm_ratio = random.uniform(-ratio, ratio)\n",
        "  h, w = img.shape[:2]\n",
        "  to_shift = int(w*fm_ratio)\n",
        "  if fm_ratio > 0:\n",
        "      img = img[:, :w-to_shift, :]\n",
        "      nearest_img_gs = cv2.copyMakeBorder(img, 0, 0, to_shift, 0, cv2.BORDER_REPLICATE)\n",
        "      # constant_img_gs= cv2.copyMakeBorder(img, 0, 0, to_shift, 0, cv2.BORDER_CONSTANT,value=(255, 0, 0))\n",
        "  if fm_ratio < 0:\n",
        "      img = img[:, -1*to_shift:, :]\n",
        "      nearest_img_gs = cv2.copyMakeBorder(img, 0, 0, 0, -1*to_shift, cv2.BORDER_REPLICATE)\n",
        "      # constant_img_gs= cv2.copyMakeBorder(img, 0, 0, 0, -1*to_shift, cv2.BORDER_CONSTANT,value=(255, 0, 0))  \n",
        "  return nearest_img_gs\n",
        "\n",
        "# test_img = load_img(train_1_images_list[5], color_mode =\"grayscale\", target_size=target_size)\n",
        "# test_img_arry = img_to_array(test_img)\n",
        "nearest_img_gs = fill_mode(0.8, contrast_img_gs)\n",
        "nearest_img_gs = img_to_array(nearest_img_gs)\n",
        "print();print(\"   FillMode:Nearest\");print()\n",
        "cv2_imshow(nearest_img_gs)\n",
        "\n",
        "# Random ZoomIn\n",
        "def zoom_in(ratio, img):\n",
        "  z_ratio = random.uniform(ratio, 1)\n",
        "  h, w = img.shape[:2]\n",
        "  h_taken = int(z_ratio*h)\n",
        "  w_taken = int(z_ratio*w)\n",
        "  h_start = random.randint(0, h-h_taken)\n",
        "  w_start = random.randint(0, w-w_taken)\n",
        "  img = img[h_start:h_start+h_taken, w_start:w_start+w_taken, :]\n",
        "  zoomed_img_gs = cv2.resize(img, (h, w), cv2.INTER_CUBIC)  \n",
        "  return zoomed_img_gs\n",
        "zoomed_img_gs = zoom_in(0.6, contrast_img_gs)\n",
        "zoomed_img_gs = img_to_array(zoomed_img_gs)\n",
        "print();print(\"   Random Zoom-In\");print()\n",
        "cv2_imshow(zoomed_img_gs)\n",
        "\n",
        "# shift the image 5 pixels to the left and 10 pixels down\n",
        "M = np.float32([[1, 0, -10], [0, 1, 20]])\n",
        "shifted_ld_gs = cv2.warpAffine(norm_test_img_arry, M, (norm_test_img_arry.shape[1], norm_test_img_arry.shape[0]))\n",
        "print();print(\" RandomShift:LeftDown\");print()\n",
        "cv2_imshow(shifted_ld_gs)\n",
        "\n",
        "# shift the image 5 pixels to the right and 10 pixels up\n",
        "M = np.float32([[1, 0, 17], [0, 1, -8]])\n",
        "shifted_ru_gs = cv2.warpAffine(norm_test_img_arry, M, (norm_test_img_arry.shape[1], norm_test_img_arry.shape[0]))\n",
        "print();print(\" RandomShift:RightUp\");print()\n",
        "cv2_imshow(shifted_ru_gs)"
      ],
      "metadata": {
        "colab": {
          "base_uri": "https://localhost:8080/",
          "height": 1000
        },
        "id": "uXu9uoc7cLpi",
        "outputId": "dae6f02a-c455-458d-d455-a0d94446c64d"
      },
      "execution_count": 28,
      "outputs": [
        {
          "output_type": "stream",
          "name": "stdout",
          "text": [
            "  Original:50x50(RGB)\n",
            "\n"
          ]
        },
        {
          "output_type": "display_data",
          "data": {
            "text/plain": [
              "<PIL.Image.Image image mode=RGB size=150x150 at 0x7FB032154CA0>"
            ],
            "image/png": "[encoded data removed]"
          },
          "metadata": {}
        },
        {
          "output_type": "stream",
          "name": "stdout",
          "text": [
            "\n",
            " Not normalized-Original:50x50(Gray)\n",
            "\n"
          ]
        },
        {
          "output_type": "display_data",
          "data": {
            "text/plain": [
              "<PIL.Image.Image image mode=RGB size=150x150 at 0x7FB032154D60>"
            ],
            "image/png": "[encoded data removed]"
          },
          "metadata": {}
        },
        {
          "output_type": "stream",
          "name": "stdout",
          "text": [
            "\n",
            "Normalized-gray\n",
            "\n"
          ]
        },
        {
          "output_type": "display_data",
          "data": {
            "text/plain": [
              "<PIL.Image.Image image mode=L size=150x150 at 0x7FB032154D00>"
            ],
            "image/png": "[encoded data removed]"
          },
          "metadata": {}
        },
        {
          "output_type": "stream",
          "name": "stdout",
          "text": [
            "\n",
            " Brightness:0.1,0.3\n",
            "\n"
          ]
        },
        {
          "output_type": "display_data",
          "data": {
            "text/plain": [
              "<PIL.Image.Image image mode=RGB size=150x150 at 0x7FB032154E50>"
            ],
            "image/png": "[encoded data removed]"
          },
          "metadata": {}
        },
        {
          "output_type": "stream",
          "name": "stdout",
          "text": [
            "\n",
            "    Contrast:1,3\n",
            "\n"
          ]
        },
        {
          "output_type": "display_data",
          "data": {
            "text/plain": [
              "<PIL.Image.Image image mode=RGB size=150x150 at 0x7FB032154CD0>"
            ],
            "image/png": "[encoded data removed]"
          },
          "metadata": {}
        },
        {
          "output_type": "stream",
          "name": "stdout",
          "text": [
            "\n",
            "  Horizontal Flip\n",
            "\n"
          ]
        },
        {
          "output_type": "display_data",
          "data": {
            "text/plain": [
              "<PIL.Image.Image image mode=L size=150x150 at 0x7FB03623C7C0>"
            ],
            "image/png": "[encoded data removed]"
          },
          "metadata": {}
        },
        {
          "output_type": "stream",
          "name": "stdout",
          "text": [
            "\n",
            "   Vertical Flip\n",
            "\n"
          ]
        },
        {
          "output_type": "display_data",
          "data": {
            "text/plain": [
              "<PIL.Image.Image image mode=L size=150x150 at 0x7FB03623C7C0>"
            ],
            "image/png": "[encoded data removed]"
          },
          "metadata": {}
        },
        {
          "output_type": "stream",
          "name": "stdout",
          "text": [
            "\n",
            "    RandomRotate\n",
            "\n"
          ]
        },
        {
          "output_type": "display_data",
          "data": {
            "text/plain": [
              "<PIL.Image.Image image mode=RGB size=150x150 at 0x7FB02EF74100>"
            ],
            "image/png": "[encoded data removed]"
          },
          "metadata": {}
        },
        {
          "output_type": "stream",
          "name": "stdout",
          "text": [
            "\n",
            "    Rotate 90:CCW\n",
            "\n"
          ]
        },
        {
          "output_type": "display_data",
          "data": {
            "text/plain": [
              "<PIL.Image.Image image mode=L size=150x150 at 0x7FB032154E50>"
            ],
            "image/png": "[encoded data removed]"
          },
          "metadata": {}
        },
        {
          "output_type": "stream",
          "name": "stdout",
          "text": [
            "\n",
            "     Rotate 90:CW\n",
            "\n"
          ]
        },
        {
          "output_type": "display_data",
          "data": {
            "text/plain": [
              "<PIL.Image.Image image mode=L size=150x150 at 0x7FB02EF74040>"
            ],
            "image/png": "[encoded data removed]"
          },
          "metadata": {}
        },
        {
          "output_type": "stream",
          "name": "stdout",
          "text": [
            "\n",
            "   FillMode:Nearest\n",
            "\n"
          ]
        },
        {
          "output_type": "display_data",
          "data": {
            "text/plain": [
              "<PIL.Image.Image image mode=RGB size=150x150 at 0x7FB02EF74130>"
            ],
            "image/png": "[encoded data removed]"
          },
          "metadata": {}
        },
        {
          "output_type": "stream",
          "name": "stdout",
          "text": [
            "\n",
            "   Random Zoom-In\n",
            "\n"
          ]
        },
        {
          "output_type": "display_data",
          "data": {
            "text/plain": [
              "<PIL.Image.Image image mode=RGB size=150x150 at 0x7FB02EF74130>"
            ],
            "image/png": "[encoded data removed]"
          },
          "metadata": {}
        },
        {
          "output_type": "stream",
          "name": "stdout",
          "text": [
            "\n",
            " RandomShift:LeftDown\n",
            "\n"
          ]
        },
        {
          "output_type": "display_data",
          "data": {
            "text/plain": [
              "<PIL.Image.Image image mode=L size=150x150 at 0x7FB032154DC0>"
            ],
            "image/png": "[encoded data removed]"
          },
          "metadata": {}
        },
        {
          "output_type": "stream",
          "name": "stdout",
          "text": [
            "\n",
            " RandomShift:RightUp\n",
            "\n"
          ]
        },
        {
          "output_type": "display_data",
          "data": {
            "text/plain": [
              "<PIL.Image.Image image mode=L size=150x150 at 0x7FB03623C7C0>"
            ],
            "image/png": "[encoded data removed]"
          },
          "metadata": {}
        }
      ]
    },
    {
      "cell_type": "code",
      "source": [
        "# original: 50x50 grayscale \n",
        "test_img = load_img(train_0_images_list[2], color_mode =\"grayscale\", target_size=target_size)\n",
        "test_img_arry = img_to_array(test_img)\n",
        "print();print(\" Not normalized-Original:50x50(Gray)\");print()\n",
        "cv2_imshow(test_img_arry)\n",
        "\n",
        "norm1 = cv2.normalize(test_img_arry, None, alpha=0, beta=255, norm_type=cv2.NORM_MINMAX, dtype=cv2.CV_32F)\n",
        "print();print('Normalized-gray');print()\n",
        "cv2_imshow(norm1)\n",
        "print('norm1-gray:\\n', norm1)\n",
        "\n",
        "# original: 50x50 rgb \n",
        "org_img = load_img(train_0_images_list[2], color_mode =\"rgb\", target_size=target_size)\n",
        "org_img_arry = img_to_array(org_img)\n",
        "print(\"  \\nNot normalized-Original:50x50(RGB)\");print()\n",
        "cv2_imshow(org_img_arry)\n",
        "\n",
        "print();print('Normalized-rgb');print()\n",
        "# norm = cv2.normalize(test_img_arry, None, alpha=0, beta=1, norm_type=cv2.NORM_MINMAX, dtype=cv2.CV_32F)\n",
        "norm1 = cv2.normalize(org_img_arry, None, alpha=0, beta=255, norm_type=cv2.NORM_MINMAX, dtype=cv2.CV_32F)\n",
        "cv2_imshow(norm1)"
      ],
      "metadata": {
        "colab": {
          "base_uri": "https://localhost:8080/",
          "height": 964
        },
        "id": "cJGovnNxFHd0",
        "outputId": "79751128-863a-451d-8962-2da6b9e5e93d"
      },
      "execution_count": 29,
      "outputs": [
        {
          "output_type": "stream",
          "name": "stdout",
          "text": [
            "\n",
            " Not normalized-Original:50x50(Gray)\n",
            "\n"
          ]
        },
        {
          "output_type": "display_data",
          "data": {
            "text/plain": [
              "<PIL.Image.Image image mode=RGB size=150x150 at 0x7FB032198580>"
            ],
            "image/png": "[encoded data removed]"
          },
          "metadata": {}
        },
        {
          "output_type": "stream",
          "name": "stdout",
          "text": [
            "\n",
            "Normalized-gray\n",
            "\n"
          ]
        },
        {
          "output_type": "display_data",
          "data": {
            "text/plain": [
              "<PIL.Image.Image image mode=L size=150x150 at 0x7FB0321982E0>"
            ],
            "image/png": "[encoded data removed]"
          },
          "metadata": {}
        },
        {
          "output_type": "stream",
          "name": "stdout",
          "text": [
            "norm1-gray:\n",
            " [[222.44681 222.44681 222.44681 ... 246.8617  246.8617  246.8617 ]\n",
            " [222.44681 222.44681 222.44681 ... 246.8617  246.8617  246.8617 ]\n",
            " [222.44681 222.44681 222.44681 ... 246.8617  246.8617  246.8617 ]\n",
            " ...\n",
            " [207.5266  207.5266  207.5266  ... 250.93085 250.93085 250.93085]\n",
            " [207.5266  207.5266  207.5266  ... 250.93085 250.93085 250.93085]\n",
            " [207.5266  207.5266  207.5266  ... 250.93085 250.93085 250.93085]]\n",
            "  \n",
            "Not normalized-Original:50x50(RGB)\n",
            "\n"
          ]
        },
        {
          "output_type": "display_data",
          "data": {
            "text/plain": [
              "<PIL.Image.Image image mode=RGB size=150x150 at 0x7FB032198730>"
            ],
            "image/png": "[encoded data removed]"
          },
          "metadata": {}
        },
        {
          "output_type": "stream",
          "name": "stdout",
          "text": [
            "\n",
            "Normalized-rgb\n",
            "\n"
          ]
        },
        {
          "output_type": "display_data",
          "data": {
            "text/plain": [
              "<PIL.Image.Image image mode=RGB size=150x150 at 0x7FB032198910>"
            ],
            "image/png": "[encoded data removed]"
          },
          "metadata": {}
        }
      ]
    },
    {
      "cell_type": "code",
      "source": [
        "# def create_gs_files(file_list, dest_dir, ind):\n",
        "def create_gs_files(file_list, dest_dir, ind, brightness_delta=0.3, contrast_factor=3, angle=90, right=7, up=-10, left=-7, down=10):\n",
        "# def create_gs_files(file_list, dest_dir, ind, brightness_delta=0.3, contrast_factor=3, angle=90):\n",
        "  # create_gs_files(train_1_images_list, tgt_train_1_image_path, 1, 0.3, 3, 45, 7, -10, -7, 10)\n",
        "  # print(file_list, dest_dir, ind)\n",
        "  lst_train_1_gs, lst_train_0_gs = [], []\n",
        "  lst_val_1_gs, lst_val_0_gs = [], []\n",
        "  lst_test_1_gs, lst_test_0_gs = [], []\n",
        "\n",
        "  file_extension = '.png'\n",
        "  # norm_pixel = 255.0\n",
        "  for image_file in file_list:\n",
        "      #print(image_file)\n",
        "      if image_file[0] == '.' or image_file in odd_images:                                     # if image_file = .DS_Store or an odd image then ignore\n",
        "          continue\n",
        "      img_gs = load_img(image_file, color_mode = \"grayscale\")                                     # convert images from colorscale to grayscale\n",
        "      # img_array_gs = img_to_array(img_gs)/255               \n",
        "      img_array_gs = img_to_array(img_gs)                     # Not normalizing the pixels\n",
        "      norm_img_array_gs = cv2.normalize(img_array_gs, None, alpha=0, beta=1, norm_type=cv2.NORM_MINMAX, dtype=cv2.CV_32F)   # Normalizing the pixels\n",
        "\n",
        "      # print('==================')     \n",
        "      # print('original non-normalized')\n",
        "      # print(cv2_imshow(img_array_gs))      \n",
        "      # print('original normalized')\n",
        "      # print(cv2_imshow(norm_img_array_gs)) \n",
        "\n",
        "      file_name = image_file.split(\"/\")[-1]                                          \n",
        "      save_img(dest_dir + file_name.split(\".\")[0] + '_gs' + file_extension, img_array_gs)     # CORRECT: pass 'img_array_gs' instead of 'norm_img_array_gs'. otherwise getting an error\n",
        "\n",
        "      if ind == 1:\n",
        "          # insert raw training images in gray scale\n",
        "          lst_train_0_gs.append(dest_dir + file_name.split(\".\")[0] + '_gs' + file_extension)\n",
        "\n",
        "          # adjust brightness\n",
        "          bright_img_gs = tf.image.adjust_brightness(norm_img_array_gs, delta=brightness_delta)\n",
        "          img_array_bright_gs = img_to_array(bright_img_gs)\n",
        "          save_img(dest_dir + file_name.split(\".\")[0] + '_bright_gs' + file_extension, img_array_bright_gs)\n",
        "          lst_train_0_gs.append(dest_dir + file_name.split(\".\")[0] + '_bright_gs' + file_extension)\n",
        "\n",
        "          # print();print(\" Brightness\");print()\n",
        "          # cv2_imshow(img_array_bright_gs)\n",
        "          \n",
        "          # adjust contrast\n",
        "          contrast_img_gs = tf.image.adjust_contrast(img_array_gs, contrast_factor=contrast_factor)\n",
        "          img_array_contrast_gs = img_to_array(contrast_img_gs)\n",
        "          save_img(dest_dir + file_name.split(\".\")[0] + '_contrast_gs' + file_extension, img_array_contrast_gs)\n",
        "          lst_train_0_gs.append(dest_dir + file_name.split(\".\")[0] + '_contrast_gs' + file_extension)\n",
        "\n",
        "          # print();print(\" contrast\");print()\n",
        "          # cv2_imshow(img_array_contrast_gs)\n",
        "\n",
        "          # horizontal flip\n",
        "          hflip_img_gs = cv2.flip(norm_img_array_gs, 1)\n",
        "          img_array_hflip_gs = img_to_array(hflip_img_gs)\n",
        "          save_img(dest_dir + file_name.split(\".\")[0] + '_hflip_gs' + file_extension, img_array_hflip_gs)\n",
        "          lst_train_0_gs.append(dest_dir + file_name.split(\".\")[0] + '_hflip_gs' + file_extension)\n",
        "\n",
        "          # print();print(\" hvip\");print()\n",
        "          # cv2_imshow(img_array_hflip_gs)\n",
        "\n",
        "          # vertical flip\n",
        "          vflip_img_gs = cv2.flip(norm_img_array_gs, 0)\n",
        "          img_array_vflip_gs = img_to_array(vflip_img_gs)\n",
        "          save_img(dest_dir + file_name.split(\".\")[0] + '_vflip_gs' + file_extension, img_array_vflip_gs)\n",
        "          lst_train_0_gs.append(dest_dir + file_name.split(\".\")[0] + '_vflip_gs' + file_extension)\n",
        "\n",
        "          # print();print(\" vvip\");print()\n",
        "          # cv2_imshow(img_array_vflip_gs)\n",
        "\n",
        "          # random rotate \n",
        "          rotate = int(random.uniform(-angle, angle))\n",
        "          # print('rotate ind=1', rotate)\n",
        "          h, w = norm_img_array_gs.shape[:2]\n",
        "          M = cv2.getRotationMatrix2D((int(w/2), int(h/2)), rotate, 1)\n",
        "          rotated_img_gs = cv2.warpAffine(norm_img_array_gs, M, (w, h))\n",
        "          img_array_rotated_gs = img_to_array(rotated_img_gs)\n",
        "          save_img(dest_dir + file_name.split(\".\")[0] + '_' + str(rotate) + 'rotated_gs' + file_extension, img_array_rotated_gs)\n",
        "          lst_train_0_gs.append(dest_dir + file_name.split(\".\")[0] + '_' + str(rotate) + 'rotated_gs' + file_extension)\n",
        "\n",
        "          # print();print(\" randome rotate\");print()\n",
        "          # cv2_imshow(img_array_rotated_gs)\n",
        "\n",
        "          # rotate 90 degrees counter clockwise (flip around x-axis)\n",
        "          img_ccw90rot_gs = cv2.transpose(norm_img_array_gs)\n",
        "          img_ccw90rot_gs = cv2.flip(img_ccw90rot_gs, flipCode = 0)\n",
        "          rotatedccw90_img_gs = img_to_array(img_ccw90rot_gs)\n",
        "          save_img(dest_dir + file_name.split(\".\")[0] + '_ccw90rot_gs' + file_extension, rotatedccw90_img_gs)\n",
        "          lst_train_0_gs.append(dest_dir + file_name.split(\".\")[0] + '_ccw90rot_gs' + file_extension)\n",
        "\n",
        "          # print();print(\" 90ccw\");print()\n",
        "          # cv2_imshow(rotatedccw90_img_gs)\n",
        "\n",
        "          # rotate 90 degrees clockwise(flip around y-axis)\n",
        "          img_90rot_gs = cv2.transpose(norm_img_array_gs)\n",
        "          img_90rot_gs = cv2.flip(img_90rot_gs, flipCode = 1)\n",
        "          rotated90_img_gs = img_to_array(img_90rot_gs)\n",
        "          save_img(dest_dir + file_name.split(\".\")[0] + '_cw90rot_gs' + file_extension, rotated90_img_gs)\n",
        "          lst_train_0_gs.append(dest_dir + file_name.split(\".\")[0] + '_cw90rot_gs' + file_extension)\n",
        "\n",
        "          # print();print(\" 90cw\");print()\n",
        "          # cv2_imshow(rotated90_img_gs)\n",
        "\n",
        "          # random zoom-in                       \n",
        "          zoomed_img_gs = zoom_in(0.6, img_array_contrast_gs)\n",
        "          img_array_zoomed_img_gs = img_to_array(zoomed_img_gs)\n",
        "          save_img(dest_dir + file_name.split(\".\")[0] + '_random_zoom_in_gs' + file_extension, img_array_zoomed_img_gs)\n",
        "          lst_train_0_gs.append(dest_dir + file_name.split(\".\")[0] + '_random_zoom_in_gs' + file_extension)\n",
        "\n",
        "          # print();print(\" zoom in\");print()\n",
        "          # cv2_imshow(img_array_zoomed_img_gs)\n",
        "\n",
        "          # fill_mode = nearst\n",
        "          nearest_img_gs = fill_mode(0.8, img_array_contrast_gs)\n",
        "          img_array_nearest_img_gs = img_to_array(nearest_img_gs)\n",
        "          save_img(dest_dir + file_name.split(\".\")[0] + '_fillmode_nearest_gs' + file_extension, img_array_nearest_img_gs)\n",
        "          lst_train_0_gs.append(dest_dir + file_name.split(\".\")[0] + '_fillmode_nearest_gs' + file_extension)\n",
        "\n",
        "          # print();print(\" fill_mode:nearest\");print()\n",
        "          # cv2_imshow(img_array_nearest_img_gs)\n",
        "\n",
        "          # shift the image 7 pixels to the right and -10 pixels up\n",
        "          M = np.float32([[1, 0, right], [0, 1, up]])\n",
        "          shifted_lu = cv2.warpAffine(norm_img_array_gs, M, (norm_img_array_gs.shape[1], norm_img_array_gs.shape[0]))\n",
        "          img_array_shifted_ru_gs = img_to_array(shifted_lu)\n",
        "          save_img(dest_dir + file_name.split(\".\")[0] + '_shifted_right_up_gs' + file_extension, img_array_shifted_ru_gs)\n",
        "          lst_train_0_gs.append(dest_dir + file_name.split(\".\")[0] + '_shifted_right_up_gs' + file_extension)\n",
        "\n",
        "          # print();print(\" shift right down\");print()\n",
        "          # cv2_imshow(img_array_shifted_ru_gs)\n",
        "\n",
        "          # # shift the image -7 pixels to the left and 10 pixels down\n",
        "          M = np.float32([[1, 0, left], [0, 1, down]])\n",
        "          shifted_rd = cv2.warpAffine(norm_img_array_gs, M, (norm_img_array_gs.shape[1], norm_img_array_gs.shape[0]))\n",
        "          img_array_shifted_ld_gs = img_to_array(shifted_rd)\n",
        "          save_img(dest_dir + file_name.split(\".\")[0] + '_shifted_left_down_gs' + file_extension, img_array_shifted_ld_gs)\n",
        "          lst_train_0_gs.append(dest_dir + file_name.split(\".\")[0] + '_shifted_left_down_gs' + file_extension)\n",
        "\n",
        "          # print();print(\" shift left up\");print()\n",
        "          # cv2_imshow(img_array_shifted_ld_gs)\n",
        "\n",
        "      elif ind == 2:\n",
        "          # insert raw training images in gray scale\n",
        "          lst_train_1_gs.append(dest_dir + file_name.split(\".\")[0] + '_gs' + file_extension)\n",
        "\n",
        "           # print();print('Normalized-gray');print()\n",
        "          # cv2_imshow(lst_train_0_gs[0])\n",
        "\n",
        "          # adjust brightness\n",
        "          bright_img_gs = tf.image.adjust_brightness(norm_img_array_gs, delta=brightness_delta)\n",
        "          img_array_bright_gs = img_to_array(bright_img_gs)\n",
        "          save_img(dest_dir + file_name.split(\".\")[0] + '_bright_gs' + file_extension, img_array_bright_gs)\n",
        "          lst_train_1_gs.append(dest_dir + file_name.split(\".\")[0] + '_bright_gs' + file_extension)\n",
        "\n",
        "          # print();print(\" Brightness\");print()\n",
        "          # cv2_imshow(img_array_bright_gs)\n",
        "          \n",
        "          # adjust contrast\n",
        "          contrast_img_gs = tf.image.adjust_contrast(img_array_gs, contrast_factor=contrast_factor)\n",
        "          img_array_contrast_gs = img_to_array(contrast_img_gs)\n",
        "          save_img(dest_dir + file_name.split(\".\")[0] + '_contrast_gs' + file_extension, img_array_contrast_gs)\n",
        "          lst_train_1_gs.append(dest_dir + file_name.split(\".\")[0] + '_contrast_gs' + file_extension)\n",
        "\n",
        "          # print();print(\" contrast\");print()\n",
        "          # cv2_imshow(img_array_contrast_gs)\n",
        "\n",
        "          # horizontal flip\n",
        "          hflip_img_gs = cv2.flip(norm_img_array_gs, 1)\n",
        "          img_array_hflip_gs = img_to_array(hflip_img_gs)\n",
        "          save_img(dest_dir + file_name.split(\".\")[0] + '_hflip_gs' + file_extension, img_array_hflip_gs)\n",
        "          lst_train_1_gs.append(dest_dir + file_name.split(\".\")[0] + '_hflip_gs' + file_extension)\n",
        "\n",
        "          # print();print(\" hvip\");print()\n",
        "          # cv2_imshow(img_array_hflip_gs)\n",
        "\n",
        "          # vertical flip\n",
        "          vflip_img_gs = cv2.flip(norm_img_array_gs, 0)\n",
        "          img_array_vflip_gs = img_to_array(vflip_img_gs)\n",
        "          save_img(dest_dir + file_name.split(\".\")[0] + '_vflip_gs' + file_extension, img_array_vflip_gs)\n",
        "          lst_train_1_gs.append(dest_dir + file_name.split(\".\")[0] + '_vflip_gs' + file_extension)\n",
        "\n",
        "          # print();print(\" vvip\");print()\n",
        "          # cv2_imshow(img_array_vflip_gs)\n",
        "\n",
        "          # random rotate \n",
        "          rotate = int(random.uniform(-angle, angle))\n",
        "          # print('rotate ind=1', rotate)\n",
        "          h, w = norm_img_array_gs.shape[:2]\n",
        "          M = cv2.getRotationMatrix2D((int(w/2), int(h/2)), rotate, 1)\n",
        "          rotated_img_gs = cv2.warpAffine(norm_img_array_gs, M, (w, h))\n",
        "          img_array_rotated_gs = img_to_array(rotated_img_gs)\n",
        "          save_img(dest_dir + file_name.split(\".\")[0] + '_' + str(rotate) + 'rotated_gs' + file_extension, img_array_rotated_gs)\n",
        "          lst_train_1_gs.append(dest_dir + file_name.split(\".\")[0] + '_' + str(rotate) + 'rotated_gs' + file_extension)\n",
        "\n",
        "          # print();print(\" randome rotate\");print()\n",
        "          # cv2_imshow(img_array_rotated_gs)\n",
        "\n",
        "          # rotate 90 degrees counter clockwise (flip around x-axis)\n",
        "          img_ccw90rot_gs = cv2.transpose(norm_img_array_gs)\n",
        "          img_ccw90rot_gs = cv2.flip(img_ccw90rot_gs, flipCode = 0)\n",
        "          rotatedccw90_img_gs = img_to_array(img_ccw90rot_gs)\n",
        "          save_img(dest_dir + file_name.split(\".\")[0] + '_ccw90rot_gs' + file_extension, rotatedccw90_img_gs)\n",
        "          lst_train_1_gs.append(dest_dir + file_name.split(\".\")[0] + '_ccw90rot_gs' + file_extension)\n",
        "\n",
        "          # print();print(\" 90ccw\");print()\n",
        "          # cv2_imshow(rotatedccw90_img_gs)\n",
        "\n",
        "          # rotate 90 degrees clockwise(flip around y-axis)\n",
        "          img_90rot_gs = cv2.transpose(norm_img_array_gs)\n",
        "          img_90rot_gs = cv2.flip(img_90rot_gs, flipCode = 1)\n",
        "          rotated90_img_gs = img_to_array(img_90rot_gs)\n",
        "          save_img(dest_dir + file_name.split(\".\")[0] + '_cw90rot_gs' + file_extension, rotated90_img_gs)\n",
        "          lst_train_1_gs.append(dest_dir + file_name.split(\".\")[0] + '_cw90rot_gs' + file_extension)\n",
        "\n",
        "          # print();print(\" 90cw\");print()\n",
        "          # cv2_imshow(rotated90_img_gs)\n",
        "\n",
        "          # random zoom-in                       \n",
        "          zoomed_img_gs = zoom_in(0.6, img_array_contrast_gs)\n",
        "          img_array_zoomed_img_gs = img_to_array(zoomed_img_gs)\n",
        "          save_img(dest_dir + file_name.split(\".\")[0] + '_random_zoom_in_gs' + file_extension, img_array_zoomed_img_gs)\n",
        "          lst_train_1_gs.append(dest_dir + file_name.split(\".\")[0] + '_random_zoom_in_gs' + file_extension)\n",
        "\n",
        "          # print();print(\" zoom in\");print()\n",
        "          # cv2_imshow(img_array_zoomed_img_gs)\n",
        "\n",
        "          # fill_mode = nearst\n",
        "          nearest_img_gs = fill_mode(0.8, img_array_contrast_gs)\n",
        "          img_array_nearest_img_gs = img_to_array(nearest_img_gs)\n",
        "          save_img(dest_dir + file_name.split(\".\")[0] + '_fillmode_nearest_gs' + file_extension, img_array_nearest_img_gs)\n",
        "          lst_train_1_gs.append(dest_dir + file_name.split(\".\")[0] + '_fillmode_nearest_gs' + file_extension)\n",
        "\n",
        "          # print();print(\" fill_mode:nearest\");print()\n",
        "          # cv2_imshow(img_array_nearest_img_gs)\n",
        "\n",
        "          # shift the image 7 pixels to the right and -10 pixels up\n",
        "          M = np.float32([[1, 0, right], [0, 1, up]])\n",
        "          shifted_lu = cv2.warpAffine(norm_img_array_gs, M, (norm_img_array_gs.shape[1], norm_img_array_gs.shape[0]))\n",
        "          img_array_shifted_ru_gs = img_to_array(shifted_lu)\n",
        "          save_img(dest_dir + file_name.split(\".\")[0] + '_shifted_right_up_gs' + file_extension, img_array_shifted_ru_gs)\n",
        "          lst_train_1_gs.append(dest_dir + file_name.split(\".\")[0] + '_shifted_right_up_gs' + file_extension)\n",
        "\n",
        "          # print();print(\" shift right down\");print()\n",
        "          # cv2_imshow(img_array_shifted_ru_gs)\n",
        "\n",
        "          # # shift the image -7 pixels to the left and 10 pixels down\n",
        "          M = np.float32([[1, 0, left], [0, 1, down]])\n",
        "          shifted_rd = cv2.warpAffine(norm_img_array_gs, M, (norm_img_array_gs.shape[1], norm_img_array_gs.shape[0]))\n",
        "          img_array_shifted_ld_gs = img_to_array(shifted_rd)\n",
        "          save_img(dest_dir + file_name.split(\".\")[0] + '_shifted_left_down_gs' + file_extension, img_array_shifted_ld_gs)\n",
        "          lst_train_1_gs.append(dest_dir + file_name.split(\".\")[0] + '_shifted_left_down_gs' + file_extension)\n",
        "\n",
        "          # print();print(\" shift left up\");print()\n",
        "          # cv2_imshow(img_array_shifted_ld_gs)\n",
        "\n",
        "      elif ind == 3:\n",
        "          lst_val_0_gs.append(dest_dir + file_name.split(\".\")[0] + '_gs' + file_extension)\n",
        "      elif ind == 4:\n",
        "          lst_val_1_gs.append(dest_dir + file_name.split(\".\")[0] + '_gs' + file_extension)\n",
        "      elif ind == 5:\n",
        "          lst_test_0_gs.append(dest_dir + file_name.split(\".\")[0] + '_gs' + file_extension)\n",
        "      elif ind == 6:\n",
        "          lst_test_1_gs.append(dest_dir + file_name.split(\".\")[0] + '_gs' + file_extension)\n",
        "              "
      ],
      "metadata": {
        "id": "JYdCjFB6cqoz"
      },
      "execution_count": 30,
      "outputs": []
    },
    {
      "cell_type": "code",
      "source": [
        "# create_gs_files(train_1_images_list, tgt_train_1_image_path, 1, 0.3, 3, 45, 7, -10, -7, 10)\n",
        "# print(len(os.listdir('/content/Dataset/Train/1')))\n",
        "# print(len(os.listdir(tgt_train_1_image_path)))\n",
        "# create_gs_files(train_0_images_list, tgt_train_0_image_path, 2, 0.3, 3, 45, 7, -10, -7, 10)\n",
        "# # create_gs_files(train_0_images_list, tgt_train_0_image_path, 2, 0.3, 3, 45)\n",
        "# print(len(os.listdir('/content/Dataset/Train/0')))\n",
        "# print(len(os.listdir(tgt_train_0_image_path)))"
      ],
      "metadata": {
        "id": "lNHTmhU2c3PZ"
      },
      "execution_count": 31,
      "outputs": []
    },
    {
      "cell_type": "code",
      "source": [
        "# file1 = '/content/processed_images/train/0/10253_idx5_x1601_y1151_class0_hflip_gs.png'\n",
        "# # # /content/Dataset/Train/0/16551_idx5_x1751_y801_class0.png \n",
        "# # # print(path + '10269_idx5_x1351_y801_class1_gs.png' )\n",
        "# # file2 = '/content/processed_images/train/1/9175_idx5_x1801_y201_class1_gs.png'\n",
        "# # file3 = '/content/processed_images/train/1/9255_idx5_x2901_y901_class1_gs.png'\n",
        "\n",
        "# org_img = load_img(file1)\n",
        "# org_img_arry = img_to_array(org_img)\n",
        "# print(\"  Original:50x50(RGB)\");print()\n",
        "# cv2_imshow(org_img_arry)\n",
        "# print(org_img_arry)\n",
        "\n",
        "# org_img = load_img(file2)\n",
        "# org_img_arry = img_to_array(org_img)\n",
        "# print(\"  Original:50x50(RGB)\");print()\n",
        "# cv2_imshow(org_img_arry)\n",
        "\n",
        "# org_img = load_img(file3)\n",
        "# org_img_arry = img_to_array(org_img)\n",
        "# print(\"  Original:50x50(RGB)\");print()\n",
        "# cv2_imshow(org_img_arry)"
      ],
      "metadata": {
        "id": "JrD_LSpCZBhS"
      },
      "execution_count": 32,
      "outputs": []
    },
    {
      "cell_type": "code",
      "source": [
        "# len(os.listdir('/content/Dataset/Validate/0'))"
      ],
      "metadata": {
        "id": "RRzsJjRdYI-N"
      },
      "execution_count": 33,
      "outputs": []
    },
    {
      "cell_type": "markdown",
      "source": [
        "# Store Processed Images to New Directory\n",
        "- Convert color to gray scale\n",
        "- Append augmented images"
      ],
      "metadata": {
        "id": "b4_OFquExX6h"
      }
    },
    {
      "cell_type": "code",
      "source": [
        "print(train_1_images_list[0])\n",
        "print(train_0_images_list[0])"
      ],
      "metadata": {
        "id": "CLuVNaA2sq7h",
        "outputId": "d7b055af-3def-4d5f-ee05-78f1e3f3b596",
        "colab": {
          "base_uri": "https://localhost:8080/"
        }
      },
      "execution_count": 34,
      "outputs": [
        {
          "output_type": "stream",
          "name": "stdout",
          "text": [
            "/content/Dataset/Train/1/10269_idx5_x1351_y801_class1.png\n",
            "/content/Dataset/Train/0/9256_idx5_x1901_y51_class0.png\n"
          ]
        }
      ]
    },
    {
      "cell_type": "code",
      "source": [
        "print(tgt_train_1_image_path)\n",
        "print(tgt_train_0_image_path)"
      ],
      "metadata": {
        "id": "iVJAiKvTtjJg",
        "outputId": "a9455ac7-5765-4139-be1b-69a4d7e70afe",
        "colab": {
          "base_uri": "https://localhost:8080/"
        }
      },
      "execution_count": 35,
      "outputs": [
        {
          "output_type": "stream",
          "name": "stdout",
          "text": [
            "/content/processed_images/train/1/\n",
            "/content/processed_images/train/0/\n"
          ]
        }
      ]
    },
    {
      "cell_type": "code",
      "source": [
        "create_gs_files(train_1_images_list, tgt_train_1_image_path, 1, 0.3, 3, 45, 7, -10, -7, 10)\n",
        "print(len(os.listdir('/content/Dataset/Train/1')))\n",
        "print(len(os.listdir(tgt_train_1_image_path)))\n",
        "create_gs_files(train_0_images_list, tgt_train_0_image_path, 2, 0.3, 3, 45, 7, -10, -7, 10)\n",
        "print(len(os.listdir('/content/Dataset/Train/0')))\n",
        "print(len(os.listdir(tgt_train_0_image_path)))\n",
        "\n",
        "create_gs_files(val_0_images_list, tgt_val_0_image_path, 3, 0.3, 3, 45, 7, -10, -7, 10)\n",
        "print(len(os.listdir('/content/Dataset/Validate/1')))\n",
        "print(len(os.listdir(tgt_val_1_image_path)))\n",
        "create_gs_files(val_1_images_list, tgt_val_1_image_path, 4, 0.3, 3, 45, 7, -10, -7, 10)\n",
        "print(len(os.listdir('/content/Dataset/Validate/0')))\n",
        "print(len(os.listdir(tgt_val_0_image_path)))\n",
        "\n",
        "create_gs_files(test_0_images_list, tgt_test_0_image_path, 5, 0.3, 3, 45, 7, -10, -7, 10)\n",
        "print(len(os.listdir('/content/Dataset/Test/1')))\n",
        "print(len(os.listdir(tgt_test_1_image_path)))\n",
        "create_gs_files(test_1_images_list, tgt_test_1_image_path, 6, 0.3, 3, 45, 7, -10, -7, 10)\n",
        "print(len(os.listdir('/content/Dataset/Test/0')))\n",
        "print(len(os.listdir(tgt_test_0_image_path)))"
      ],
      "metadata": {
        "id": "Nn5sGtRqURP5",
        "colab": {
          "base_uri": "https://localhost:8080/"
        },
        "outputId": "32a3f3a1-5e2f-4ff5-aed6-b45673f5250b"
      },
      "execution_count": 36,
      "outputs": [
        {
          "output_type": "stream",
          "name": "stdout",
          "text": [
            "401\n",
            "4800\n",
            "401\n",
            "4764\n",
            "101\n",
            "0\n",
            "101\n",
            "97\n",
            "101\n",
            "0\n",
            "101\n",
            "99\n"
          ]
        }
      ]
    },
    {
      "cell_type": "code",
      "source": [
        "!ls -ltr /content/Dataset/Train/1/*.png|wc -l\n",
        "!ls -ltr /content/Dataset/Train/0/*.png|wc -l"
      ],
      "metadata": {
        "id": "X9_PlsJlbDak",
        "colab": {
          "base_uri": "https://localhost:8080/"
        },
        "outputId": "0ce80c24-3b54-4fe0-90ba-52bebad72921"
      },
      "execution_count": 37,
      "outputs": [
        {
          "output_type": "stream",
          "name": "stdout",
          "text": [
            "400\n",
            "400\n"
          ]
        }
      ]
    },
    {
      "cell_type": "markdown",
      "source": [
        "# Check the Number of Processed Images in Each Class of Training Dataset"
      ],
      "metadata": {
        "id": "hLaNEkyvx3ct"
      }
    },
    {
      "cell_type": "code",
      "source": [
        "!ls -ltra /content/processed_images/train/1/*.png|wc -l\n",
        "!ls -ltra /content/processed_images/train/0/*.png|wc -l"
      ],
      "metadata": {
        "id": "I58crwAWUK-E",
        "colab": {
          "base_uri": "https://localhost:8080/"
        },
        "outputId": "be6f3331-71a5-43d1-f61c-b07ca0864519"
      },
      "execution_count": 38,
      "outputs": [
        {
          "output_type": "stream",
          "name": "stdout",
          "text": [
            "4800\n",
            "4764\n"
          ]
        }
      ]
    },
    {
      "cell_type": "code",
      "source": [
        "file1 = '/content/processed_images/train/0/10253_idx5_x1601_y1151_class0_hflip_gs.png'\n",
        "# # /content/Dataset/Train/0/16551_idx5_x1751_y801_class0.png \n",
        "# # print(path + '10269_idx5_x1351_y801_class1_gs.png' )\n",
        "# file2 = '/content/processed_images/train/1/9175_idx5_x1801_y201_class1_gs.png'\n",
        "# file3 = '/content/processed_images/train/1/9255_idx5_x2901_y901_class1_gs.png'\n",
        "\n",
        "org_img = load_img(file1)\n",
        "org_img_arry = img_to_array(org_img)\n",
        "print(\"  Original:50x50(RGB)\");print()\n",
        "cv2_imshow(org_img_arry)\n",
        "print(org_img_arry)\n"
      ],
      "metadata": {
        "id": "tSeAB1zOldXU",
        "outputId": "45d78ce9-f73b-452e-ad6d-c010f9d33ea5",
        "colab": {
          "base_uri": "https://localhost:8080/",
          "height": 952
        }
      },
      "execution_count": 39,
      "outputs": [
        {
          "output_type": "stream",
          "name": "stdout",
          "text": [
            "  Original:50x50(RGB)\n",
            "\n"
          ]
        },
        {
          "output_type": "display_data",
          "data": {
            "text/plain": [
              "<PIL.Image.Image image mode=RGB size=50x50 at 0x7FB03219C0A0>"
            ],
            "image/png": "[encoded data removed]"
          },
          "metadata": {}
        },
        {
          "output_type": "stream",
          "name": "stdout",
          "text": [
            "[[[248. 248. 248.]\n",
            "  [248. 248. 248.]\n",
            "  [248. 248. 248.]\n",
            "  ...\n",
            "  [246. 246. 246.]\n",
            "  [250. 250. 250.]\n",
            "  [246. 246. 246.]]\n",
            "\n",
            " [[248. 248. 248.]\n",
            "  [248. 248. 248.]\n",
            "  [245. 245. 245.]\n",
            "  ...\n",
            "  [248. 248. 248.]\n",
            "  [248. 248. 248.]\n",
            "  [248. 248. 248.]]\n",
            "\n",
            " [[250. 250. 250.]\n",
            "  [242. 242. 242.]\n",
            "  [161. 161. 161.]\n",
            "  ...\n",
            "  [247. 247. 247.]\n",
            "  [247. 247. 247.]\n",
            "  [250. 250. 250.]]\n",
            "\n",
            " ...\n",
            "\n",
            " [[251. 251. 251.]\n",
            "  [250. 250. 250.]\n",
            "  [250. 250. 250.]\n",
            "  ...\n",
            "  [247. 247. 247.]\n",
            "  [247. 247. 247.]\n",
            "  [250. 250. 250.]]\n",
            "\n",
            " [[251. 251. 251.]\n",
            "  [250. 250. 250.]\n",
            "  [248. 248. 248.]\n",
            "  ...\n",
            "  [248. 248. 248.]\n",
            "  [250. 250. 250.]\n",
            "  [210. 210. 210.]]\n",
            "\n",
            " [[251. 251. 251.]\n",
            "  [248. 248. 248.]\n",
            "  [250. 250. 250.]\n",
            "  ...\n",
            "  [199. 199. 199.]\n",
            "  [121. 121. 121.]\n",
            "  [136. 136. 136.]]]\n"
          ]
        }
      ]
    },
    {
      "cell_type": "code",
      "source": [
        "# def custom_augmentation(np_tensor):\n",
        " \n",
        "#     def random_contrast(np_tensor):\n",
        "#         return tf.image.random_contrast(np_tensor, 0.5, 2)\n",
        " \n",
        "#     def random_hue(np_tensor):\n",
        "#         return tf.image.random_hue(np_tensor, 0.5)\n",
        " \n",
        "#     def random_saturation(np_tensor):\n",
        "#         return tf.image.random_saturation(np_tensor, 0.2, 3)\n",
        " \n",
        "#     def gaussian_noise(np_tensor):\n",
        "#         mean = 0\n",
        "#         # variance: randomly between 1 to 25\n",
        "#         var = np.random.randint(1, 26)\n",
        "#         # sigma is square root of the variance value\n",
        "#         noise = np.random.normal(mean,var**0.5,np_tensor.shape)\n",
        "#         return np.clip(np_tensor + noise, 0, 255).astype('int')\n",
        "\n",
        "#     augmnted_tensor = random_contrast(np_tensor)\n",
        "#     augmnted_tensor = random_hue(augmnted_tensor)\n",
        "#     augmnted_tensor = random_saturation(augmnted_tensor)\n",
        "#     augmented_tensor = gaussian_noise(augmnted_tensor)\n",
        "  \n",
        "#     return np.array(augmnted_tensor)\n",
        "\n",
        "# # Train data generator\n",
        "# train_datagen = tf.keras.preprocessing.image.ImageDataGenerator(\n",
        "#     #featurewise_center            = True, \n",
        "#     #featurewise_std_normalization = True,\n",
        "#     rescale                       = 1.0/255\n",
        "# )\n",
        "\n",
        "# # Validation data generator\n",
        "# val_datagen = tf.keras.preprocessing.image.ImageDataGenerator(\n",
        "#     #featurewise_center            = True, \n",
        "#     #featurewise_std_normalization = True\n",
        "#     rescale = 1.0/255\n",
        "#     )\n",
        "\n",
        "# # Test data generator\n",
        "# test_datagen = tf.keras.preprocessing.image.ImageDataGenerator(\n",
        "#     #featurewise_center            = True, \n",
        "#     #featurewise_std_normalization = True\n",
        "#     rescale = 1.0/255\n",
        "#     )"
      ],
      "metadata": {
        "id": "hH1PhTDtgAHG"
      },
      "execution_count": 40,
      "outputs": []
    },
    {
      "cell_type": "markdown",
      "source": [
        "# Define Transfer Learning Models"
      ],
      "metadata": {
        "id": "fakIZQ_3xG64"
      }
    },
    {
      "cell_type": "code",
      "source": [
        "# def build_transfer_learning_model(chosen_model):\n",
        "#     \"\"\"\n",
        "#     This function utilizes transfer learning of a given model.\n",
        "#     \"\"\"\n",
        "#     tf.random.set_seed(random_state)\n",
        "#     np.random.seed(random_state)\n",
        "#     tf.keras.backend.clear_session()\n",
        "\n",
        "#     input_shape = (IMG_SIZE, IMG_SIZE, 3)\n",
        "#     if chosen_model == 'VGG19':\n",
        "#         model_tl = VGG19(weights = 'imagenet', include_top = False, input_shape = input_shape)\n",
        "#     elif chosen_model == 'DenseNet201':\n",
        "#         model_tl = tf.keras.applications.densenet.DenseNet201(weights = 'imagenet', include_top = False, input_shape = input_shape)\n",
        "#     elif chosen_model == 'ResNet50':\n",
        "#         model_tl = tf.keras.applications.resnet50.ResNet50(weights = 'imagenet', include_top = False, input_shape = input_shape)\n",
        "#     elif chosen_model == 'ResNet152V2':\n",
        "#         model_tl = ResNet152V2(weights = 'imagenet', include_top = False, input_shape = input_shape)       \n",
        "#     elif chosen_model == 'VGG16':\n",
        "#         model_tl = VGG16(weights = 'imagenet', include_top = False, input_shape = input_shape)\n",
        "#     elif chosen_model == 'EfficientNetB7':\n",
        "#         model_tl = tf.keras.applications.efficientnet.EfficientNetB7(weights = 'imagenet', include_top = False, input_shape = input_shape)\n",
        "#     elif chosen_model == 'MobileNetV2':\n",
        "#         model_tl = MobileNetV2(weights='imagenet',include_top = False, input_shape=input_shape)\n",
        "#     elif chosen_model == 'Xception':\n",
        "#         model_tl = tf.keras.applications.Xception(weights = 'imagenet', include_top = False, input_shape = input_shape)\n",
        "#     elif chosen_model == 'InceptionV3':\n",
        "#         model_tl = tf.keras.applications.InceptionV3(weights = 'imagenet', include_top = False, input_shape = input_shape)\n",
        "#     return model_tl"
      ],
      "metadata": {
        "id": "dvw6LNAdkAW4"
      },
      "execution_count": 41,
      "outputs": []
    },
    {
      "cell_type": "markdown",
      "source": [
        "# Define plot_model_accuracy_and_loss function"
      ],
      "metadata": {
        "id": "k7BlY9hmxNUO"
      }
    },
    {
      "cell_type": "code",
      "source": [
        "# def plot_model_accuracy_and_loss(history, chosen_model):\n",
        "#    \"\"\"\n",
        "#    This method plots model training and validation accuracies.\n",
        "#    \"\"\"\n",
        "#    tf.keras.backend.clear_session()\n",
        "\n",
        "#    hist = history.history\n",
        "#    x_arr = np.arange(len(hist['loss'])) + 1\n",
        "        \n",
        "#    fig = plt.figure(figsize=(12, 4))\n",
        "#    ax = fig.add_subplot(1, 2, 1)\n",
        "#    ax.plot(x_arr, hist['loss'], '-o', label = 'Train Loss')\n",
        "#    ax.plot(x_arr, hist['val_loss'], '--<', label = 'Val Loss')\n",
        "#    ax.legend(fontsize=15)\n",
        "#    ax.set_xlabel('Epoch', size = 15)\n",
        "#    ax.set_ylabel('Loss', size = 15)\n",
        "\n",
        "#    ax = fig.add_subplot(1, 2, 2)\n",
        "#    ax.plot(x_arr, hist['accuracy'], '-o', label = 'Train Acc')\n",
        "#    ax.plot(x_arr, hist['val_accuracy'], '--<', label = 'Val Acc')\n",
        "#    ax.legend(fontsize = 15)\n",
        "#    ax.set_xlabel('Epoch', size = 15)\n",
        "#    ax.set_ylabel('Accuracy', size = 15)\n",
        "#    ax.set_ylim(0,1)\n",
        "#    plt.title(f\"{chosen_model}\")\n",
        "#    plt.show(block = False)"
      ],
      "metadata": {
        "id": "Kymn8vnZsPc8"
      },
      "execution_count": 42,
      "outputs": []
    },
    {
      "cell_type": "markdown",
      "source": [
        "# Define Image Data Generator \n",
        ": 1200 given raw images + augmented images"
      ],
      "metadata": {
        "id": "VcWTaXg5yokz"
      }
    },
    {
      "cell_type": "code",
      "source": [
        "# batch_size = 64\n",
        "# random_state = 1234\n",
        "# image_size = 50\n",
        "\n",
        "# def data_generator(image_size): \n",
        "#   processed_images_train_path = '/content/processed_images/train'           # contains augmented images with original images (4782 = IDC(1): 2400 + IDC(1): 2382)\n",
        "#   processed_images_validation_path = '/content/processed_images/val'\n",
        "#   processed_images_test_path = '/content/processed_images/test'\n",
        "\n",
        "#   # train_datagen = ImageDataGenerator(rescale = 1./255,\n",
        "#   #                                  horizontal_flip = True,\n",
        "#   #                                  vertical_flip = True,\n",
        "#   #                                  rotation_range = 180,\n",
        "#   #                                  zoom_range = 0.4, \n",
        "#   #                                  width_shift_range = 0.3,\n",
        "#   #                                  height_shift_range = 0.3,\n",
        "#   #                                  shear_range = 0.3\n",
        "#   #                                  #,preprocessing_function = custom_augmentation \n",
        "#   #                                 )\n",
        "\n",
        "#   # # Validation data generator\n",
        "#   # val_datagen = tf.keras.preprocessing.image.ImageDataGenerator(\n",
        "#   #     rescale = 1.0/255\n",
        "#   #     )\n",
        "\n",
        "#   # # Test data generator\n",
        "#   # test_datagen = tf.keras.preprocessing.image.ImageDataGenerator(\n",
        "#   #     rescale = 1.0/255\n",
        "#   #     )\n",
        "\n",
        "\n",
        "#   datagen = tf.keras.preprocessing.image.ImageDataGenerator(rescale = 1.0/255)\n",
        "\n",
        "#   train_data_generator = datagen.flow_from_directory(processed_images_train_path,\n",
        "#                                                                       target_size = (image_size, image_size),\n",
        "#                                                                       class_mode = 'categorical',\n",
        "#                                                                       batch_size = batch_size,\n",
        "#                                                                       color_mode = 'rgb',\n",
        "#                                                                       shuffle = True,\n",
        "#                                                                       seed = random_state\n",
        "#                                                                       )\n",
        "#   val_data_generator = datagen.flow_from_directory(processed_images_validation_path,\n",
        "#                                                                   target_size = (image_size, image_size),\n",
        "#                                                                   class_mode = 'categorical',\n",
        "#                                                                   batch_size = batch_size,\n",
        "#                                                                   color_mode = 'rgb',\n",
        "#                                                                   shuffle = True,\n",
        "#                                                                   seed = random_state\n",
        "#                                                                   )\n",
        "#   test_data_generator = datagen.flow_from_directory(processed_images_test_path,\n",
        "#                                                                     target_size = (image_size, image_size),\n",
        "#                                                                     batch_size = batch_size,\n",
        "#                                                                     class_mode = 'categorical',\n",
        "#                                                                     color_mode = 'rgb',\n",
        "#                                                                     shuffle = False,\n",
        "#                                                                     seed = random_state\n",
        "#                                                                     )\n",
        "#   return train_data_generator, val_data_generator, test_data_generator\n",
        "\n",
        "# # train_data_generator, val_data_generator, test_data_generator = data_generator(image_size)"
      ],
      "metadata": {
        "id": "6ogPs-X7mtSK"
      },
      "execution_count": 43,
      "outputs": []
    },
    {
      "cell_type": "code",
      "source": [
        "# transfer_learning_model_list = ['VGG16', \n",
        "#                                 'VGG19', \n",
        "#                                 'DenseNet201', \n",
        "#                                 'InceptionV3', \n",
        "#                                 'ResNet50', \n",
        "#                                 'EfficientNetB7', \n",
        "#                                 'MobileNetV2', \n",
        "#                                 'Xception'\n",
        "#                                ]"
      ],
      "metadata": {
        "id": "igoFfn5voLQj"
      },
      "execution_count": 44,
      "outputs": []
    },
    {
      "cell_type": "markdown",
      "source": [
        "# Define Model\n",
        "- Build CNN with Transfer Learning and model.compile\n",
        "- model.fit\n",
        "- model.evaluate and model.predict"
      ],
      "metadata": {
        "id": "8ZGKiVVJct-7"
      }
    },
    {
      "cell_type": "markdown",
      "source": [
        "## Experiments\n",
        "- Start with just GlobalAveragePooling2D, Dropout and last Output layer\n",
        "- add Batchnormalization()\n",
        "- add Flatten()\n",
        "- add diff num of Dense layers\n",
        "- Use concatenated Transfer Learning Models\n"
      ],
      "metadata": {
        "id": "Lol1-Oq0s98d"
      }
    },
    {
      "cell_type": "code",
      "source": [
        "# 1st model\n",
        "# def cnn_with_tl(hp):\n",
        "  \n",
        "#   tf.keras.backend.clear_session()\n",
        "#   tf.random.set_seed(1234)\n",
        "\n",
        "#   pretrained_tl = build_transfer_learning_model(chosen_model = chosen_model)\n",
        "\n",
        "#   model_tl = Sequential()  \n",
        "#   for layer in pretrained_tl.layers:\n",
        "#     model_tl.add(layer)\n",
        "    \n",
        "#   for layer in model_tl.layers:\n",
        "#     layer.trainable = False              # freeze extraction layers\n",
        "\n",
        "#   hp_activation = hp.Choice('activation', values=['tanh', 'relu', 'leaky_relu', 'gelu'], default='relu')\n",
        "#   hp_optimizer = hp.Choice('optimizer', values=['adam', 'sgd','rmsprop'], default='adam')\n",
        "#   hp_dense_1 = hp.Int('dense_units_1', min_value=128, max_value=1024, step=128)\n",
        "#   hp_dense_2 = hp.Int('dense_units_2', min_value=128, max_value=1024, step=128)\n",
        "#   # hp_dense_3 = hp.Int('dense_units_3', min_value=128, max_value=256, step=128)\n",
        "#   hp_learning_rate = hp.Choice('learning_rate', values=[1e-2, 1e-3])\n",
        "#   hp_dropout_1 = hp.Choice('dropout_rate_1',values=[0.2, 0.3, 0.4, 0.5, 0.6])\n",
        "#   hp_dropout_2 = hp.Choice('dropout_rate_2',values=[0.2, 0.3, 0.4, 0.5, 0.6])\n",
        "#   # hp_dropout_3 = hp.Choice('dropout_rate_3',values=[0.2, 0.3, 0.4, 0.5, 0.6])\n",
        "#   # hp_reduction_type = hp.Choice('reduction_type', values=['global_avg_pooling2d', 'max_pooling2d'])\n",
        "\n",
        "#   # if hp_reduction_type == 'global_avg_pooling2d':\n",
        "#   model_tl.add(GlobalAveragePooling2D())\n",
        "#   # else:\n",
        "#   #   model_tl.add(MaxPooling2D(pool_size=(hp_pool_size,hp_pool_size), strides=(hp_strides,hp_strides)))  \n",
        "#   model_tl.add(Dropout(hp_dropout_1))\n",
        "\n",
        "#   model_tl.add(Dense(units = hp_dense_1, activation = hp_activation))\n",
        "#   model_tl.add(BatchNormalization())\n",
        "#   # if hp.Boolean('dropout_1'):\n",
        "#   model_tl.add(Dropout(hp_dropout_2))\n",
        "\n",
        "#   # model_tl.add(Dense(units = hp_dense_2, activation = hp_activation))\n",
        "#   # model_tl.add(BatchNormalization())\n",
        "#   # # if hp.Boolean('dropout_2'):\n",
        "#   # model_tl.add(Dropout(hp_dropout_3))\n",
        "\n",
        "#   model_tl.add(Flatten())\n",
        "  \n",
        "#   # # if hp.Boolean('last_dense'):\n",
        "#   # model_tl.add(Dense(units = hp_dense_3, activation = hp_activation))\n",
        "#   # model_tl.add(BatchNormalization())\n",
        "#   # # if hp.Boolean('dropout_3'):\n",
        "#   # model_tl.add(Dropout(hp_dropout_3))\n",
        "  \n",
        "#   model_tl.add(Dense(units = hp_dense_1, activation = hp_activation))\n",
        "#   model_tl.add(BatchNormalization())\n",
        "#   # if hp.Boolean('dropout_1'):\n",
        "#   model_tl.add(Dropout(hp_dropout_2))\n",
        "\n",
        "#   model_tl.add(Dense(units = 2, activation = 'softmax'))                        # Output layer\n",
        "\n",
        "#   def selected_optimizer(optimizer):\n",
        "#     if optimizer.lower() == 'sgd':\n",
        "#         return SGD(learning_rate=hp_learning_rate)           # SGD(learning_rate=learning_rate, momentum=0.95, decay=1, nesterov=True)\n",
        "#     elif optimizer.lower() == 'adam':\n",
        "#         return Adam(learning_rate=hp_learning_rate)          # Adam(learning_rate=learning_rate, beta_1=0.9, beta_2=0.999, epsilon=1e-8, kappa=1-1e-8)\n",
        "#     elif optimizer.lower() == 'rmsprop':\n",
        "#         return RMSprop(learning_rate=hp_learning_rate)       # RMSprop(learning_rate=learning_rate, rho=0.9, epsilon=1e-6)\n",
        "\n",
        "#   model_tl.compile(loss=CategoricalCrossentropy(), \n",
        "#                 optimizer=selected_optimizer(hp_optimizer), \n",
        "#                 metrics=['accuracy'])  \n",
        "\n",
        "#   return model_tl"
      ],
      "metadata": {
        "id": "HjPtK1Vehton"
      },
      "execution_count": 45,
      "outputs": []
    },
    {
      "cell_type": "code",
      "source": [
        "# chosen_model = 'ResNet50'\n",
        "\n",
        "# pretrained_tl = build_transfer_learning_model(chosen_model = 'ResNet50')\n",
        "# print(pretrained_tl.layers[-1].name)\n",
        "# print(len(pretrained_tl.layers))\n",
        "# print(len(pretrained_tl.layers[:174]))\n",
        "# print(len(pretrained_tl.layers)-1)\n",
        "# print(pretrained_tl.layers[174].name)\n",
        "# # pretrained_tl.summary()\n",
        "# # conv5_block3_out\n",
        "# print('====================')\n",
        "\n",
        "# # chosen_model = 'VGG16'\n",
        "\n",
        "# # pretrained_tl = build_transfer_learning_model(chosen_model = 'VGG16')\n",
        "# # print(pretrained_tl.layers[-1].name)\n",
        "# # print(len(pretrained_tl.layers))\n",
        "# # # print(print(len(pretrained_tl.layers[:174])))\n",
        "# # # print(pretrained_tl.layers[174].name)\n",
        "# # # pretrained_tl.summary()\n",
        "# # # conv5_block3_out\n",
        "\n",
        "# len_tl_layers = len(pretrained_tl.layers)-1\n",
        "\n",
        "# for layer in pretrained_tl.layers[:len_tl_layers]:\n",
        "#   layer.trainable = False\n",
        "\n",
        "# # get the output of the last layer and connect to my own layers\n",
        "# last_layer = pretrained_tl.get_layer(pretrained_tl.layers[-1].name)\n",
        "# last_tl_output = last_layer.output\n",
        "# x = Flatten()(last_tl_output)\n",
        "# x = Dense(1024, activation='relu')(x)\n",
        "# x = Dense(2, activation='softmax')(x)\n",
        "# # x = Dense(1, activation='sigmoid')(x)\n",
        "# model = Model(pretrained_tl.input, x)\n",
        "# model.summary()\n",
        "\n",
        "# len_tl_layers = len(pretrained_tl.layers)-2\n",
        "\n",
        "# for layer in pretrained_tl.layers[:len_tl_layers]:\n",
        "#   layer.trainable = False\n",
        "\n",
        "# # get the output of the last layer and connect to my own layers\n",
        "# last_layer = pretrained_tl.get_layer(pretrained_tl.layers[-2].name)\n",
        "# last_tl_output = last_layer.output\n",
        "# x = Flatten()(last_tl_output)\n",
        "# x = Dense(1024, activation='relu')(x)\n",
        "# x = Dense(2, activation='softmax')(x)\n",
        "# # x = Dense(1, activation='sigmoid')(x)\n",
        "# model = Model(pretrained_tl.input, x)\n",
        "# model.summary()"
      ],
      "metadata": {
        "id": "uyWQVzTSKm52"
      },
      "execution_count": 46,
      "outputs": []
    },
    {
      "cell_type": "code",
      "source": [
        "# # 2nd model\n",
        "# chosen_model = 'ResNet50'\n",
        "\n",
        "# def cnn_with_tl(hp):\n",
        "  \n",
        "#   tf.keras.backend.clear_session()\n",
        "#   tf.random.set_seed(1234)\n",
        "\n",
        "#   pretrained_tl = build_transfer_learning_model(chosen_model = chosen_model) \n",
        "\n",
        "#   # model_tl = Sequential()  \n",
        "#   # for layer in pretrained_tl.layers:\n",
        "#   #   model_tl.add(layer)\n",
        "    \n",
        "#   # for layer in model_tl.layers:\n",
        "#   #   layer.trainable = False              # freeze extraction layers\n",
        "  \n",
        "#   # ========================================\n",
        "#   len_tl_layers = len(pretrained_tl.layers)-1   # length of the tl model layers except the last two\n",
        "#   for layer in pretrained_tl.layers[:len_tl_layers]:    # # freeze all extraction layers except the two last layers\n",
        "#     layer.trainable = False\n",
        "  \n",
        "#   last_layer = pretrained_tl.get_layer(pretrained_tl.layers[-1].name)    # get the output of the last layer and connect to my own layers\n",
        "  \n",
        "#   hp_activation = hp.Choice('activation', values=['tanh', 'relu', 'leaky_relu', 'gelu'], default='relu')\n",
        "#   hp_optimizer = hp.Choice('optimizer', values=['adam', 'sgd','rmsprop'], default='adam')\n",
        "#   hp_dense_1 = hp.Int('dense_units_1', min_value=128, max_value=1024, step=128)\n",
        "#   hp_learning_rate = hp.Choice('learning_rate', values=[1e-2, 1e-3, 1e-4])\n",
        "#   hp_dropout_1 = hp.Choice('dropout_rate_1',values=[0.2, 0.3, 0.4, 0.5, 0.6])\n",
        "\n",
        "#   last_tl_output = last_layer.output\n",
        "#   x = Flatten()(last_tl_output)\n",
        "#   if hp.Boolean('dense_1'):\n",
        "#     x = Dense(hp_dense_1, activation=hp_activation)(x)\n",
        "#   # if hp.Boolean('dropout_1'):\n",
        "#   x = Dropout(hp_dropout_1)(x)\n",
        "#   x = Dense(2, activation='softmax')(x)\n",
        "\n",
        "#   model_tl = Model(pretrained_tl.input, x)\n",
        "\n",
        "#   def selected_optimizer(optimizer):\n",
        "#     if optimizer.lower() == 'sgd':\n",
        "#         return SGD(learning_rate=hp_learning_rate)           # SGD(learning_rate=learning_rate, momentum=0.95, decay=1, nesterov=True)\n",
        "#     elif optimizer.lower() == 'adam':\n",
        "#         return Adam(learning_rate=hp_learning_rate)          # Adam(learning_rate=learning_rate, beta_1=0.9, beta_2=0.999, epsilon=1e-8, kappa=1-1e-8)\n",
        "#     elif optimizer.lower() == 'rmsprop':\n",
        "#         return RMSprop(learning_rate=hp_learning_rate)       # RMSprop(learning_rate=learning_rate, rho=0.9, epsilon=1e-6)\n",
        "\n",
        "#   model_tl.compile(loss=CategoricalCrossentropy(), \n",
        "#                 optimizer=selected_optimizer(hp_optimizer), \n",
        "#                 metrics=['accuracy'])  \n",
        "\n",
        "#   return model_tl"
      ],
      "metadata": {
        "id": "6A5Z8jyyOdz-"
      },
      "execution_count": 47,
      "outputs": []
    },
    {
      "cell_type": "code",
      "source": [
        "# # 3rd model\n",
        "# chosen_model = 'ResNet50'\n",
        "\n",
        "# def cnn_with_tl(hp):\n",
        "  \n",
        "#   tf.keras.backend.clear_session()\n",
        "#   tf.random.set_seed(1234)\n",
        "\n",
        "#   pretrained_tl = build_transfer_learning_model(chosen_model = chosen_model) \n",
        "\n",
        "#   # model_tl = Sequential()  \n",
        "#   # for layer in pretrained_tl.layers:\n",
        "#   #   model_tl.add(layer)\n",
        "    \n",
        "#   # for layer in model_tl.layers:\n",
        "#   #   layer.trainable = False              # freeze extraction layers\n",
        "  \n",
        "#   # ========================================\n",
        "#   len_tl_layers = len(pretrained_tl.layers)-1   # length of the tl model layers except the last two\n",
        "#   for layer in pretrained_tl.layers[:len_tl_layers]:    # # freeze all extraction layers except the two last layers\n",
        "#     layer.trainable = False\n",
        "  \n",
        "#   last_layer = pretrained_tl.get_layer(pretrained_tl.layers[-1].name)    # get the output of the last layer and connect to my own layers\n",
        "  \n",
        "#   hp_activation = hp.Choice('activation', values=['tanh', 'relu', 'leaky_relu', 'gelu'], default='relu')\n",
        "#   hp_optimizer = hp.Choice('optimizer', values=['adam', 'sgd','rmsprop'], default='adam')\n",
        "#   hp_dense_1 = hp.Int('dense_units_1', min_value=128, max_value=1024, step=128)\n",
        "#   hp_dense_2 = hp.Int('dense_units_2', min_value=128, max_value=1024, step=128)\n",
        "#   hp_learning_rate = hp.Choice('learning_rate', values=[1e-2, 1e-3, 1e-4])\n",
        "#   hp_dropout_1 = hp.Choice('dropout_rate_1',values=[0.2, 0.3, 0.4, 0.5, 0.6])\n",
        "#   hp_dropout_2 = hp.Choice('dropout_rate_2',values=[0.2, 0.3, 0.4, 0.5, 0.6])\n",
        "\n",
        "#   last_tl_output = last_layer.output\n",
        "#   x = Flatten()(last_tl_output)\n",
        "#   if hp.Boolean('dense_1'):\n",
        "#     x = Dense(hp_dense_1, activation=hp_activation)(x)\n",
        "#     x = Dropout(hp_dropout_1)(x)\n",
        "#   if hp.Boolean('dense_2'):\n",
        "#     x = Dense(hp_dense_2, activation=hp_activation)(x)\n",
        "#   # if hp.Boolean('dropout_1'):\n",
        "#   x = Dropout(hp_dropout_1)(x)\n",
        "#   x = Dense(2, activation='softmax')(x)\n",
        "\n",
        "#   model_tl = Model(pretrained_tl.input, x)\n",
        "\n",
        "#   def selected_optimizer(optimizer):\n",
        "#     if optimizer.lower() == 'sgd':\n",
        "#         return SGD(learning_rate=hp_learning_rate)           # SGD(learning_rate=learning_rate, momentum=0.95, decay=1, nesterov=True)\n",
        "#     elif optimizer.lower() == 'adam':\n",
        "#         return Adam(learning_rate=hp_learning_rate)          # Adam(learning_rate=learning_rate, beta_1=0.9, beta_2=0.999, epsilon=1e-8, kappa=1-1e-8)\n",
        "#     elif optimizer.lower() == 'rmsprop':\n",
        "#         return RMSprop(learning_rate=hp_learning_rate)       # RMSprop(learning_rate=learning_rate, rho=0.9, epsilon=1e-6)\n",
        "\n",
        "#   model_tl.compile(loss=CategoricalCrossentropy(), \n",
        "#                 optimizer=selected_optimizer(hp_optimizer), \n",
        "#                 metrics=['accuracy'])  \n",
        "\n",
        "#   return model_tl"
      ],
      "metadata": {
        "id": "ppZQKBck4Kkh"
      },
      "execution_count": 48,
      "outputs": []
    },
    {
      "cell_type": "code",
      "source": [
        "# # 2nd model\n",
        "# def cnn_with_tl(hp):\n",
        "  \n",
        "#   tf.keras.backend.clear_session()\n",
        "#   tf.random.set_seed(1234)\n",
        "\n",
        "#   pretrained_tl = build_transfer_learning_model(chosen_model = chosen_model)\n",
        "\n",
        "#   model_tl = Sequential()  \n",
        "#   for layer in pretrained_tl.layers:\n",
        "#     model_tl.add(layer)\n",
        "    \n",
        "#   for layer in model_tl.layers:\n",
        "#     layer.trainable = False              # freeze extraction layers\n",
        "\n",
        "#   hp_activation = hp.Choice('activation', values=['tanh', 'relu', 'leaky_relu', 'gelu'], default='relu')\n",
        "#   hp_optimizer = hp.Choice('optimizer', values=['adam', 'sgd','rmsprop'], default='adam')\n",
        "#   # hp_dense_1 = hp.Int('dense_units_1', min_value=128, max_value=1024, step=128)\n",
        "#   # hp_dense_2 = hp.Int('dense_units_2', min_value=128, max_value=1024, step=128)\n",
        "#   # hp_dense_3 = hp.Int('dense_units_3', min_value=128, max_value=256, step=128)\n",
        "#   hp_learning_rate = hp.Choice('learning_rate', values=[1e-2, 1e-3, 1e-4])\n",
        "#   hp_dropout_1 = hp.Choice('dropout_rate_1',values=[0.2, 0.3, 0.4, 0.5, 0.6])\n",
        "#   # hp_dropout_2 = hp.Choice('dropout_rate_2',values=[0.2, 0.3, 0.4, 0.5, 0.6])\n",
        "#   # hp_dropout_3 = hp.Choice('dropout_rate_3',values=[0.2, 0.3, 0.4, 0.5, 0.6])\n",
        "#   # hp_reduction_type = hp.Choice('reduction_type', values=['global_avg_pooling2d', 'max_pooling2d'])\n",
        "\n",
        "#   # if hp_reduction_type == 'global_avg_pooling2d':\n",
        "#   model_tl.add(GlobalAveragePooling2D())\n",
        "#   # else:\n",
        "#   #   model_tl.add(MaxPooling2D(pool_size=(hp_pool_size,hp_pool_size), strides=(hp_strides,hp_strides)))  \n",
        "#   model_tl.add(Dropout(hp_dropout_1))\n",
        "\n",
        "#   # model_tl.add(Dense(units = hp_dense_1, activation = hp_activation))\n",
        "#   # model_tl.add(BatchNormalization())\n",
        "#   # # if hp.Boolean('dropout_1'):\n",
        "#   # model_tl.add(Dropout(hp_dropout_2))\n",
        "\n",
        "#   # # model_tl.add(Dense(units = hp_dense_2, activation = hp_activation))\n",
        "#   # # model_tl.add(BatchNormalization())\n",
        "#   # # # if hp.Boolean('dropout_2'):\n",
        "#   # # model_tl.add(Dropout(hp_dropout_3))\n",
        "\n",
        "#   # model_tl.add(Flatten())\n",
        "  \n",
        "#   # # # if hp.Boolean('last_dense'):\n",
        "#   # # model_tl.add(Dense(units = hp_dense_3, activation = hp_activation))\n",
        "#   # # model_tl.add(BatchNormalization())\n",
        "#   # # # if hp.Boolean('dropout_3'):\n",
        "#   # # model_tl.add(Dropout(hp_dropout_3))\n",
        "  \n",
        "#   # model_tl.add(Dense(units = hp_dense_1, activation = hp_activation))\n",
        "#   # model_tl.add(BatchNormalization())\n",
        "#   # # if hp.Boolean('dropout_1'):\n",
        "#   # model_tl.add(Dropout(hp_dropout_2))\n",
        "\n",
        "#   model_tl.add(Dense(units = 2, activation = 'softmax'))                        # Output layer\n",
        "\n",
        "#   def selected_optimizer(optimizer):\n",
        "#     if optimizer.lower() == 'sgd':\n",
        "#         return SGD(learning_rate=hp_learning_rate)           # SGD(learning_rate=learning_rate, momentum=0.95, decay=1, nesterov=True)\n",
        "#     elif optimizer.lower() == 'adam':\n",
        "#         return Adam(learning_rate=hp_learning_rate)          # Adam(learning_rate=learning_rate, beta_1=0.9, beta_2=0.999, epsilon=1e-8, kappa=1-1e-8)\n",
        "#     elif optimizer.lower() == 'rmsprop':\n",
        "#         return RMSprop(learning_rate=hp_learning_rate)       # RMSprop(learning_rate=learning_rate, rho=0.9, epsilon=1e-6)\n",
        "\n",
        "#   model_tl.compile(loss=CategoricalCrossentropy(), \n",
        "#                 optimizer=selected_optimizer(hp_optimizer), \n",
        "#                 metrics=['accuracy'])  \n",
        "\n",
        "#   return model_tl"
      ],
      "metadata": {
        "id": "TP0RJKXw0z96"
      },
      "execution_count": 49,
      "outputs": []
    },
    {
      "cell_type": "code",
      "source": [
        "# # 3rd model with BatchNoramlization\n",
        "# def cnn_with_tl(hp):\n",
        "  \n",
        "#   tf.keras.backend.clear_session()\n",
        "#   tf.random.set_seed(1234)\n",
        "\n",
        "#   pretrained_tl = build_transfer_learning_model(chosen_model = chosen_model)\n",
        "\n",
        "#   model_tl = Sequential()  \n",
        "#   for layer in pretrained_tl.layers:\n",
        "#     model_tl.add(layer)\n",
        "    \n",
        "#   for layer in model_tl.layers:\n",
        "#     layer.trainable = False              # freeze extraction layers\n",
        "\n",
        "#   hp_activation = hp.Choice('activation', values=['tanh', 'relu', 'leaky_relu', 'gelu'], default='relu')\n",
        "#   hp_optimizer = hp.Choice('optimizer', values=['adam', 'sgd','rmsprop'], default='adam')\n",
        "#   # hp_dense_1 = hp.Int('dense_units_1', min_value=128, max_value=1024, step=128)\n",
        "#   # hp_dense_2 = hp.Int('dense_units_2', min_value=128, max_value=1024, step=128)\n",
        "#   # hp_dense_3 = hp.Int('dense_units_3', min_value=128, max_value=256, step=128)\n",
        "#   hp_learning_rate = hp.Choice('learning_rate', values=[1e-2, 1e-3, 1e-4])\n",
        "#   hp_dropout_1 = hp.Choice('dropout_rate_1',values=[0.2, 0.3, 0.4, 0.5, 0.6])\n",
        "#   # hp_dropout_2 = hp.Choice('dropout_rate_2',values=[0.2, 0.3, 0.4, 0.5, 0.6])\n",
        "#   # hp_dropout_3 = hp.Choice('dropout_rate_3',values=[0.2, 0.3, 0.4, 0.5, 0.6])\n",
        "#   # hp_reduction_type = hp.Choice('reduction_type', values=['global_avg_pooling2d', 'max_pooling2d'])\n",
        "\n",
        "#   # if hp_reduction_type == 'global_avg_pooling2d':\n",
        "#   model_tl.add(GlobalAveragePooling2D())\n",
        "#   # else:\n",
        "#   #   model_tl.add(MaxPooling2D(pool_size=(hp_pool_size,hp_pool_size), strides=(hp_strides,hp_strides)))  \n",
        "#   model_tl.add(Dropout(hp_dropout_1))\n",
        "\n",
        "#   # model_tl.add(Dense(units = hp_dense_1, activation = hp_activation))\n",
        "#   model_tl.add(BatchNormalization())\n",
        "#   # # if hp.Boolean('dropout_1'):\n",
        "#   # model_tl.add(Dropout(hp_dropout_2))\n",
        "\n",
        "#   # # model_tl.add(Dense(units = hp_dense_2, activation = hp_activation))\n",
        "#   # # model_tl.add(BatchNormalization())\n",
        "#   # # # if hp.Boolean('dropout_2'):\n",
        "#   # # model_tl.add(Dropout(hp_dropout_3))\n",
        "\n",
        "#   # model_tl.add(Flatten())\n",
        "  \n",
        "#   # # # if hp.Boolean('last_dense'):\n",
        "#   # # model_tl.add(Dense(units = hp_dense_3, activation = hp_activation))\n",
        "#   # # model_tl.add(BatchNormalization())\n",
        "#   # # # if hp.Boolean('dropout_3'):\n",
        "#   # # model_tl.add(Dropout(hp_dropout_3))\n",
        "  \n",
        "#   # model_tl.add(Dense(units = hp_dense_1, activation = hp_activation))\n",
        "#   # model_tl.add(BatchNormalization())\n",
        "#   # # if hp.Boolean('dropout_1'):\n",
        "#   # model_tl.add(Dropout(hp_dropout_2))\n",
        "\n",
        "#   model_tl.add(Dense(units = 2, activation = 'softmax'))                        # Output layer\n",
        "\n",
        "#   def selected_optimizer(optimizer):\n",
        "#     if optimizer.lower() == 'sgd':\n",
        "#         return SGD(learning_rate=hp_learning_rate)           # SGD(learning_rate=learning_rate, momentum=0.95, decay=1, nesterov=True)\n",
        "#     elif optimizer.lower() == 'adam':\n",
        "#         return Adam(learning_rate=hp_learning_rate)          # Adam(learning_rate=learning_rate, beta_1=0.9, beta_2=0.999, epsilon=1e-8, kappa=1-1e-8)\n",
        "#     elif optimizer.lower() == 'rmsprop':\n",
        "#         return RMSprop(learning_rate=hp_learning_rate)       # RMSprop(learning_rate=learning_rate, rho=0.9, epsilon=1e-6)\n",
        "\n",
        "#   model_tl.compile(loss=CategoricalCrossentropy(), \n",
        "#                 optimizer=selected_optimizer(hp_optimizer), \n",
        "#                 metrics=['accuracy'])  \n",
        "\n",
        "#   return model_tl"
      ],
      "metadata": {
        "id": "QPhnSrZJ7rgO"
      },
      "execution_count": 50,
      "outputs": []
    },
    {
      "cell_type": "code",
      "source": [
        "# # 4th model\n",
        "# def cnn_with_tl(hp):\n",
        "  \n",
        "#   tf.keras.backend.clear_session()\n",
        "#   tf.random.set_seed(1234)\n",
        "\n",
        "#   pretrained_tl = build_transfer_learning_model(chosen_model = chosen_model)\n",
        "\n",
        "#   model_tl = Sequential()  \n",
        "#   for layer in pretrained_tl.layers:\n",
        "#     model_tl.add(layer)\n",
        "    \n",
        "#   for layer in model_tl.layers:\n",
        "#     layer.trainable = False              # freeze extraction layers\n",
        "\n",
        "#   hp_activation = hp.Choice('activation', values=['tanh', 'relu', 'leaky_relu', 'gelu'], default='relu')\n",
        "#   hp_optimizer = hp.Choice('optimizer', values=['adam', 'sgd','rmsprop'], default='adam')\n",
        "#   # hp_dense_1 = hp.Int('dense_units_1', min_value=128, max_value=1024, step=128)\n",
        "#   # hp_dense_2 = hp.Int('dense_units_2', min_value=128, max_value=1024, step=128)\n",
        "#   # hp_dense_3 = hp.Int('dense_units_3', min_value=128, max_value=256, step=128)\n",
        "#   hp_learning_rate = hp.Choice('learning_rate', values=[1e-2, 1e-3, 1e-4])\n",
        "#   hp_dropout_1 = hp.Choice('dropout_rate_1',values=[0.2, 0.3, 0.4, 0.5, 0.6])\n",
        "#   # hp_dropout_2 = hp.Choice('dropout_rate_2',values=[0.2, 0.3, 0.4, 0.5, 0.6])\n",
        "#   # hp_dropout_3 = hp.Choice('dropout_rate_3',values=[0.2, 0.3, 0.4, 0.5, 0.6])\n",
        "#   # hp_reduction_type = hp.Choice('reduction_type', values=['global_avg_pooling2d', 'max_pooling2d'])\n",
        "\n",
        "#   # if hp_reduction_type == 'global_avg_pooling2d':\n",
        "#   model_tl.add(GlobalAveragePooling2D())\n",
        "#   # else:\n",
        "#   #   model_tl.add(MaxPooling2D(pool_size=(hp_pool_size,hp_pool_size), strides=(hp_strides,hp_strides)))  \n",
        "#   model_tl.add(Dropout(hp_dropout_1))\n",
        "\n",
        "#   # model_tl.add(Dense(units = hp_dense_1, activation = hp_activation))\n",
        "#   model_tl.add(BatchNormalization())\n",
        "#   # # if hp.Boolean('dropout_1'):\n",
        "#   # model_tl.add(Dropout(hp_dropout_2))\n",
        "\n",
        "#   # # model_tl.add(Dense(units = hp_dense_2, activation = hp_activation))\n",
        "#   # # model_tl.add(BatchNormalization())\n",
        "#   # # # if hp.Boolean('dropout_2'):\n",
        "#   # # model_tl.add(Dropout(hp_dropout_3))\n",
        "\n",
        "#   model_tl.add(Flatten())\n",
        "  \n",
        "#   # # # if hp.Boolean('last_dense'):\n",
        "#   # # model_tl.add(Dense(units = hp_dense_3, activation = hp_activation))\n",
        "#   # # model_tl.add(BatchNormalization())\n",
        "#   # # # if hp.Boolean('dropout_3'):\n",
        "#   # # model_tl.add(Dropout(hp_dropout_3))\n",
        "  \n",
        "#   # model_tl.add(Dense(units = hp_dense_1, activation = hp_activation))\n",
        "#   # model_tl.add(BatchNormalization())\n",
        "#   # # if hp.Boolean('dropout_1'):\n",
        "#   # model_tl.add(Dropout(hp_dropout_2))\n",
        "\n",
        "#   model_tl.add(Dense(units = 2, activation = 'softmax'))                        # Output layer\n",
        "\n",
        "#   def selected_optimizer(optimizer):\n",
        "#     if optimizer.lower() == 'sgd':\n",
        "#         return SGD(learning_rate=hp_learning_rate)           # SGD(learning_rate=learning_rate, momentum=0.95, decay=1, nesterov=True)\n",
        "#     elif optimizer.lower() == 'adam':\n",
        "#         return Adam(learning_rate=hp_learning_rate)          # Adam(learning_rate=learning_rate, beta_1=0.9, beta_2=0.999, epsilon=1e-8, kappa=1-1e-8)\n",
        "#     elif optimizer.lower() == 'rmsprop':\n",
        "#         return RMSprop(learning_rate=hp_learning_rate)       # RMSprop(learning_rate=learning_rate, rho=0.9, epsilon=1e-6)\n",
        "\n",
        "#   model_tl.compile(loss=CategoricalCrossentropy(), \n",
        "#                 optimizer=selected_optimizer(hp_optimizer), \n",
        "#                 metrics=['accuracy'])  \n",
        "\n",
        "#   return model_tl"
      ],
      "metadata": {
        "id": "OujjJw6L6ndo"
      },
      "execution_count": 51,
      "outputs": []
    },
    {
      "cell_type": "code",
      "source": [
        "# # 5th model\n",
        "# def cnn_with_tl(hp):\n",
        "  \n",
        "#   tf.keras.backend.clear_session()\n",
        "#   tf.random.set_seed(1234)\n",
        "\n",
        "#   pretrained_tl = build_transfer_learning_model(chosen_model = chosen_model)\n",
        "\n",
        "#   model_tl = Sequential()  \n",
        "#   for layer in pretrained_tl.layers:\n",
        "#     model_tl.add(layer)\n",
        "    \n",
        "#   for layer in model_tl.layers:\n",
        "#     layer.trainable = False              # freeze extraction layers\n",
        "\n",
        "#   hp_activation = hp.Choice('activation', values=['tanh', 'relu', 'leaky_relu', 'gelu'], default='relu')\n",
        "#   hp_optimizer = hp.Choice('optimizer', values=['adam', 'sgd','rmsprop'], default='adam')\n",
        "#   hp_dense_1 = hp.Int('dense_units_1', min_value=128, max_value=1024, step=128)\n",
        "#   # hp_dense_2 = hp.Int('dense_units_2', min_value=128, max_value=1024, step=128)\n",
        "#   # hp_dense_3 = hp.Int('dense_units_3', min_value=128, max_value=256, step=128)\n",
        "#   hp_learning_rate = hp.Choice('learning_rate', values=[1e-2, 1e-3, 1e-4])\n",
        "#   hp_dropout_1 = hp.Choice('dropout_rate_1',values=[0.2, 0.3, 0.4, 0.5, 0.6])\n",
        "#   hp_dropout_2 = hp.Choice('dropout_rate_2',values=[0.2, 0.3, 0.4, 0.5, 0.6])\n",
        "#   # hp_dropout_3 = hp.Choice('dropout_rate_3',values=[0.2, 0.3, 0.4, 0.5, 0.6])\n",
        "#   # hp_reduction_type = hp.Choice('reduction_type', values=['global_avg_pooling2d', 'max_pooling2d'])\n",
        "\n",
        "#   # if hp_reduction_type == 'global_avg_pooling2d':\n",
        "#   model_tl.add(GlobalAveragePooling2D())\n",
        "#   # else:\n",
        "#   #   model_tl.add(MaxPooling2D(pool_size=(hp_pool_size,hp_pool_size), strides=(hp_strides,hp_strides)))  \n",
        "#   model_tl.add(Dropout(hp_dropout_1))\n",
        "\n",
        "#   # model_tl.add(Dense(units = hp_dense_1, activation = hp_activation))\n",
        "#   model_tl.add(BatchNormalization())\n",
        "#   # # if hp.Boolean('dropout_1'):\n",
        "#   # model_tl.add(Dropout(hp_dropout_2))\n",
        "\n",
        "#   # # model_tl.add(Dense(units = hp_dense_2, activation = hp_activation))\n",
        "#   # # model_tl.add(BatchNormalization())\n",
        "#   # # # if hp.Boolean('dropout_2'):\n",
        "#   # # model_tl.add(Dropout(hp_dropout_3))\n",
        "\n",
        "#   model_tl.add(Flatten())\n",
        "  \n",
        "#   # # if hp.Boolean('last_dense'):\n",
        "#   # model_tl.add(Dense(units = hp_dense_3, activation = hp_activation))\n",
        "#   # model_tl.add(BatchNormalization())\n",
        "#   # # if hp.Boolean('dropout_3'):\n",
        "#   # model_tl.add(Dropout(hp_dropout_3))\n",
        "  \n",
        "#   # model_tl.add(Dense(units = hp_dense_1, activation = hp_activation))\n",
        "#   # model_tl.add(BatchNormalization())\n",
        "#   # # if hp.Boolean('dropout_1'):\n",
        "#   # model_tl.add(Dropout(hp_dropout_2))\n",
        "\n",
        "#   model_tl.add(Dense(units = hp_dense_1, activation = hp_activation))\n",
        "#   model_tl.add(BatchNormalization())\n",
        "#   # if hp.Boolean('dropout_1'):\n",
        "#   model_tl.add(Dropout(hp_dropout_2))\n",
        "\n",
        "\n",
        "#   model_tl.add(Dense(units = 2, activation = 'softmax'))                        # Output layer\n",
        "\n",
        "#   def selected_optimizer(optimizer):\n",
        "#     if optimizer.lower() == 'sgd':\n",
        "#         return SGD(learning_rate=hp_learning_rate)           # SGD(learning_rate=learning_rate, momentum=0.95, decay=1, nesterov=True)\n",
        "#     elif optimizer.lower() == 'adam':\n",
        "#         return Adam(learning_rate=hp_learning_rate)          # Adam(learning_rate=learning_rate, beta_1=0.9, beta_2=0.999, epsilon=1e-8, kappa=1-1e-8)\n",
        "#     elif optimizer.lower() == 'rmsprop':\n",
        "#         return RMSprop(learning_rate=hp_learning_rate)       # RMSprop(learning_rate=learning_rate, rho=0.9, epsilon=1e-6)\n",
        "\n",
        "#   model_tl.compile(loss=CategoricalCrossentropy(), \n",
        "#                 optimizer=selected_optimizer(hp_optimizer), \n",
        "#                 metrics=['accuracy'])  \n",
        "\n",
        "#   return model_tl"
      ],
      "metadata": {
        "id": "-r5E9XBi7jmE"
      },
      "execution_count": 52,
      "outputs": []
    },
    {
      "cell_type": "code",
      "source": [
        "# def hyperparam_tuning_with_kt(model, train_data_generator, val_data_generator, max_trials=20, epochs = 20):\n",
        "\n",
        "#   callbacks = [EarlyStopping(monitor='val_loss', patience=3, verbose=1),\n",
        "#                   ModelCheckpoint('model.hdf5', save_best_only=True)]\n",
        "\n",
        "#   start_time = time.time()\n",
        "\n",
        "#   # RandomSearch\n",
        "#   tuner = kt.RandomSearch(\n",
        "#             cnn_with_tl,\n",
        "#             objective=\"val_loss\",             # infer_metric_direction_by_name(): maybe due to this objective - https://github.com/keras-team/keras-tuner/issues/74 | https://github.com/keras-team/keras-tuner/pull/76\n",
        "#             max_trials=max_trials,                     # max_trials=50 or 10,\n",
        "#             executions_per_trial=2,           # executions_per_trial=2,\n",
        "#             overwrite=True,\n",
        "#             directory=\"hj_dir\",\n",
        "#             project_name=\"breast_cancer_classification\")\n",
        "\n",
        "#   tuner.search(train_data_generator, \n",
        "#               epochs=epochs, \n",
        "#               callbacks=[callbacks], \n",
        "#               validation_data=val_data_generator)\n",
        "#   return tuner, callbacks\n",
        "\n",
        "# # tuner, callbacks = hyperparam_tuning_with_kt(cnn_with_tl, max_trials=2, epochs=2)\n",
        "\n",
        "#   # TIME CONSUMED: {03h 11m 15s} for max_trials=5, executions_per_trial=2, epochs=10)\n",
        "#   # It took about 45 minues to complete each trial"
      ],
      "metadata": {
        "id": "q_lEevlPk6W-"
      },
      "execution_count": 53,
      "outputs": []
    },
    {
      "cell_type": "code",
      "source": [
        "# def model_with_best_hps(tuner): \n",
        "#   best_hps = tuner.get_best_hyperparameters(num_trials=1)[0]     # num_trials=5\n",
        "#   model = tuner.hypermodel.build(best_hps)\n",
        "#   best_hps = pd.DataFrame.from_dict(best_hps.values, orient='index').T\n",
        "#   # best_hps = best_hps[['activation','optimizer','learning_rate', 'dense_units_1',\n",
        "#   #                      'dense_units_2','dense_units_3','dropout_rate_1','dropout_rate_2','dropout_rate_3']]\n",
        "#   # best_hps = best_hps.rename({'activation':'Activation','optimizer':'Optimizer','learning_rate':'LR',\n",
        "#   #                             'dense_units_1':'DUnits1', 'dense_units_2':'DUnits2','dense_units_3':'DUnits3',\n",
        "#   #                             'dropout_rate_1':'Dropout1', 'dropout_rate_2':'Dropout2','dropout_rate_3':'Dropout3'}, axis=1)\n",
        "#   # best_hps = best_hps[['activation','optimizer','learning_rate', 'dense_units_1',\n",
        "#   #                      'dense_units_2','dropout_rate_1','dropout_rate_2']]\n",
        "#   # best_hps = best_hps.rename({'activation':'Activation','optimizer':'Optimizer','learning_rate':'LR',\n",
        "#   #                             'dense_units_1':'DUnits1', 'dense_units_2':'DUnits2',\n",
        "#   #                             'dropout_rate_1':'Dropout1', 'dropout_rate_2':'Dropout2'}, axis=1)\n",
        "#   best_hps = best_hps[['activation','optimizer','learning_rate']]\n",
        "#   best_hps = best_hps.rename({'activation':'Activation','optimizer':'Optimizer','learning_rate':'LR'}, axis=1)\n",
        "#   print(tuner.results_summary(1))\n",
        "#   return model, best_hps\n",
        "#   # tf.keras.utils.plot_model(model)\n",
        "#   # model.summary()\n",
        "\n",
        "# # model, best_hps = model_with_best_hps(tuner)\n",
        "# # best_hps"
      ],
      "metadata": {
        "id": "_ybris68k6Ka"
      },
      "execution_count": 54,
      "outputs": []
    },
    {
      "cell_type": "code",
      "source": [
        "# def cnn_with_tl(chosen_model='VGG16', \n",
        "#                 lr=0.001, \n",
        "#                 optimizer='adam', \n",
        "#                 activation='relu', \n",
        "#                 dropout_rate_1=0.2, \n",
        "#                 dropout_rate_2=0.2, \n",
        "#                 dropout_rate_3=0.2, \n",
        "#                 filter_1=512,\n",
        "#                 filter_2=512,\n",
        "#                 filter_3=256,\n",
        "#                 last_dense=True):\n",
        "  \n",
        "#   tf.keras.backend.clear_session()\n",
        "#   tf.random.set_seed(1234)\n",
        "\n",
        "#   model_tl = build_transfer_learning_model(chosen_model = chosen_model)\n",
        "#   model_tl.trainable = False            # freeze extraction layers\n",
        "\n",
        "#   # 1st model: add custom top layers\n",
        "#   m_tl = model_tl.output\n",
        "#   m_tl = GlobalAveragePooling2D()(m_tl)\n",
        "#   m_tl = BatchNormalization()(m_tl)\n",
        "#   m_tl = Dropout(dropout_rate_1)(m_tl)\n",
        "#   # if dense_1:\n",
        "#   m_tl = Dense(filter_1,activation=activation)(m_tl)\n",
        "#   m_tl = BatchNormalization()(m_tl)\n",
        "#   m_tl = Dropout(dropout_rate_2)(m_tl)                                        # ADDITIONAL DROPOUT\n",
        "#   m_tl = Flatten()(m_tl)                                           # ADD FLATTEN LAYER\n",
        "#   m_tl = Dense(filter_2,activation=activation)(m_tl)\n",
        "#   m_tl = BatchNormalization()(m_tl)\n",
        "#   m_tl = Dropout(dropout_rate_3)(m_tl)\n",
        "#   if last_dense:\n",
        "#     m_tl = Dense(filter_3,activation=activation)(m_tl)\n",
        "#     m_tl = BatchNormalization()(m_tl)\n",
        "\n",
        "#   # output layer\n",
        "#   m_tl = Dense(2, activation='softmax')(m_tl)               # UPDATED from 'sigmoid' to 'softmax\n",
        "\n",
        "#   model = Model(inputs=model_tl.input, outputs=m_tl)\n",
        "\n",
        "#   # ==================== model.compile ====================================\n",
        "#   def selected_optimizer(optimizer):\n",
        "#     if optimizer.lower() == 'sgd':\n",
        "#         return SGD(learning_rate=lr)           # SGD(learning_rate=learning_rate, momentum=0.95, decay=1, nesterov=True)\n",
        "#     elif optimizer.lower() == 'adam':\n",
        "#         return Adam(learning_rate=lr)          # Adam(learning_rate=learning_rate, beta_1=0.9, beta_2=0.999, epsilon=1e-8, kappa=1-1e-8)\n",
        "#     elif optimizer.lower() == 'rmsprop':\n",
        "#         return RMSprop(learning_rate=lr) \n",
        "\n",
        "#   model.compile(loss=CategoricalCrossentropy(),            \n",
        "#               optimizer=selected_optimizer(optimizer),            \n",
        "#               metrics=['accuracy', tf.keras.metrics.AUC(name='auc')])\n",
        "#   return model"
      ],
      "metadata": {
        "id": "B_SKoSGYbyI3"
      },
      "execution_count": 55,
      "outputs": []
    },
    {
      "cell_type": "code",
      "source": [
        "# def model_fit(model, train_data_generator, val_data_generator, callbacks, batch_size=64, epochs=20, chosen_model='VGG16'):\n",
        "#   # from IPython.display import Image\n",
        "\n",
        "#   tf.keras.utils.plot_model(model, to_file='convnet.png', show_shapes=True,show_layer_names=True)\n",
        "#   Image(filename='convnet.png') \n",
        "\n",
        "#     # callbacks = [EarlyStopping(monitor='val_loss', patience=3, verbose=1),\n",
        "#     #             ModelCheckpoint('model.hdf5', save_best_only=True)]\n",
        "\n",
        "#   history = model.fit(train_data_generator,\n",
        "#                       epochs = epochs,\n",
        "#                       batch_size = batch_size,                       # ADDIITION\n",
        "#                       shuffle=True,                                  # ADDIITION\n",
        "#                       steps_per_epoch = len(train_data_generator),\n",
        "#                       validation_data = val_data_generator,\n",
        "#                       validation_steps = len(val_data_generator),\n",
        "#                       callbacks=callbacks,                           # ADDIITION\n",
        "#                       verbose = 1)\n",
        "\n",
        "#   # ============= Model save ================================================\n",
        "#   print(\"Saving model...\")\n",
        "#   tf.keras.backend.clear_session()\n",
        "#   gc.collect()                                                      # UPDATED\n",
        "#   model.save('breast_cancer_detection_' + chosen_model + '.h5')\n",
        "\n",
        "#   # ============= Plot loss and accuracy of model: train vs val ==========\n",
        "#   print(f\"{chosen_model}\")\n",
        "#   plot_model_accuracy_and_loss(history = history, chosen_model = chosen_model)\n",
        "#   return model, history"
      ],
      "metadata": {
        "id": "p0g4Cp-Abx_A"
      },
      "execution_count": 56,
      "outputs": []
    },
    {
      "cell_type": "code",
      "source": [
        "# def model_evaluate_and_model_predict(model, test_data_generator, history, chosen_model='VGG16'):\n",
        "#   # =========== model.evaluate ===============================================\n",
        "#   # acc, auc = model.evaluate(test_data_generator, verbose = 0)\n",
        "#   test_loss, test_accuracy = model.evaluate(test_data_generator, verbose = 0)\n",
        "#   training_accuracy = history.history['accuracy'][-1]\n",
        "#   val_accuracy = history.history['val_accuracy'][-1]\n",
        "#   count_trainable_params = count_params(model.trainable_weights)\n",
        "\n",
        "#   # =========== model.predict: y_true vs. y_pred =============================\n",
        "#   classes = ['IDC(0)','IDC(1)']\n",
        "\n",
        "#   y_true = test_data_generator.classes\n",
        "#   y_pred = model.predict(test_data_generator, steps = (test_data_generator.n // batch_size + 1), verbose = 0)\n",
        "#   y_pred_argmax = np.argmax(y_pred, axis=1) \n",
        "\n",
        "#   # ========== Precision, recall, f1score ====================================\n",
        "#   precision, recall, f1score, support = score(y_true, y_pred_argmax, average='macro')\n",
        "\n",
        "#   # ========== Cohen_kappa score, zero_one loss ==============================\n",
        "#   cohen_kappa = round(cohen_kappa_score(y_true, y_pred_argmax), 2)\n",
        "#   zo_loss = round(zero_one_loss(y_true, y_pred_argmax), 2)\n",
        "\n",
        "#   # ========== Confusion matrix ==============================================\n",
        "#   conf_max = confusion_matrix(y_true, y_pred_argmax)             # conf.max should use 0s and 1s for y_pred\n",
        "#   perf_conf_max = conf_max.astype('float')/conf_max.sum(axis=1)[:np.newaxis]*100\n",
        "#   df_perf_conf_max = pd.DataFrame(perf_conf_max, index=classes, columns=classes)\n",
        "\n",
        "#   print();plt.figure(figsize=(6,5))\n",
        "#   sns.heatmap(df_perf_conf_max, annot=True, cmap='coolwarm', annot_kws={'fontsize':16}, linewidth=0.5, fmt='.0f')  \n",
        "#   plt.xlabel('Predicted Label', fontsize=14)\n",
        "#   plt.ylabel('True Label', fontsize=14)\n",
        "#   plt.title('Confusion Matrix (%)', fontsize=15)\n",
        "\n",
        "#   # ========== Area under the ROC curve ======================================\n",
        "#   roc_log = roc_auc_score(y_true, y_pred[:,1], multi_class='ovr')   # for the roc curve, we need to use a vector of probabilities so just chose one column and all rows\n",
        "#   # fpr_0, tpr_0, threshold_0 = roc_curve(y_true, y_pred[:,0])\n",
        "#   # fpr_1, tpr_1, threshold_1 = roc_curve(y_true, y_pred[:,1])\n",
        "#   fpr, tpr, threshold = roc_curve(y_true, y_pred[:,1])\n",
        "#   auc_class = round(metrics.auc(fpr, tpr), 2) \n",
        "#   # auc_class_0 = round(metrics.auc(fpr_0, tpr_0), 2) \n",
        "#   # auc_class_1 = round(metrics.auc(fpr_1, tpr_1), 2) \n",
        "\n",
        "#   print();plt.figure(figsize=(6,5))\n",
        "#   plt.plot([0, 1], [0, 1], 'b--')  \n",
        "#   plt.plot(fpr, tpr, color='tab:red', label='AUC:{:.2f}'.format(auc_class))\n",
        "#   # plt.plot(fpr_0, tpr_0, color='tab:red', label='IDC(0)-AUC:{:.2f}'.format(auc_class_0))  \n",
        "#   # plt.plot(fpr_1, tpr_1, color='tab:green', label='IDC(1)-AUC:{:.2f}'.format(auc_class_1))  \n",
        "#   plt.xlabel('False positive rate', fontsize=14)\n",
        "#   plt.ylabel('True positive rate', fontsize=14)\n",
        "#   plt.title('ROC Area Under Curve', fontsize=18)\n",
        "#   plt.legend(loc='best')\n",
        "#   plt.show()\n",
        "\n",
        "#   # ========== Performace metrics summary ===================================\n",
        "#   perf_metrics = pd.DataFrame({'TL Model':chosen_model, \n",
        "#                               # 'LR': lr,\n",
        "#                               # 'Optimizer': optimizer.upper(), \n",
        "#                               # 'Activation': activation.title(),\n",
        "#                               # 'Dropout': activation.title(),\n",
        "#                               # 'Test_Loss':round(test_loss,2), \n",
        "#                               'Test_Acc':round(test_accuracy, 2), \n",
        "#                               'Train_Acc':round(training_accuracy, 2), \n",
        "#                               'Val_Acc':round(val_accuracy, 2), \n",
        "#                               'No_Trainable_Params':  f'{count_trainable_params:,}',\n",
        "#                               'Precision':round(precision, 2), \n",
        "#                               'Recall':round(recall, 2), \n",
        "#                               'F1score': round(f1score, 2),\n",
        "#                               'ROC-AUC':round(auc_class, 2), \n",
        "#                               # 'Cohen Kappa': cohen_kappa,\n",
        "#                               'ZeroOneLoss': zo_loss}, index=[0])\n",
        "#   return perf_metrics"
      ],
      "metadata": {
        "id": "SWW_XNSfbxXU"
      },
      "execution_count": 57,
      "outputs": []
    },
    {
      "cell_type": "markdown",
      "source": [
        "# Run Experiments"
      ],
      "metadata": {
        "id": "5at4kKu6Y8vL"
      }
    },
    {
      "cell_type": "code",
      "source": [
        "directory_path = '/content/gdrive/MyDrive/Kaggle/CNN_IDC/'"
      ],
      "metadata": {
        "id": "zi4JjGZu8HC7"
      },
      "execution_count": 58,
      "outputs": []
    },
    {
      "cell_type": "code",
      "source": [
        "# def experimenting_cnn_with_tl(chosen_model='VGG16',\n",
        "#                                 image_size = 50,\n",
        "#                                 max_trials=20,\n",
        "#                                 batch_size=64,\n",
        "#                                 epochs=20,\n",
        "#                                 brightness_delta=random.choice([.1,.3]),\n",
        "#                                 contrast_factor=random.choice([1,3]),\n",
        "#                                 angle=random.choice([10,30]),\n",
        "#                                 right=random.choice([6,10,12]),\n",
        "#                                 up=random.choice([-5,-7,-9]),\n",
        "#                                 left=random.choice([-6,-10,-12]),\n",
        "#                                 down=random.choice([5,7,9])):\n",
        "  \n",
        "#   create_gs_files(train_1_images_list, tgt_train_1_image_path, 1, brightness_delta, contrast_factor, angle, right, up, left, down)\n",
        "#   create_gs_files(train_0_images_list, tgt_train_0_image_path, 2, brightness_delta, contrast_factor, angle, right, up, left, down)\n",
        "#   create_gs_files(val_1_images_list, tgt_val_1_image_path, 3, brightness_delta, contrast_factor, angle, right, up, left, down)\n",
        "#   create_gs_files(val_0_images_list, tgt_val_0_image_path, 4, brightness_delta, contrast_factor, angle, right, up, left, down)\n",
        "#   create_gs_files(test_1_images_list, tgt_test_1_image_path, 5, brightness_delta, contrast_factor, angle, right, up, left, down)\n",
        "#   create_gs_files(test_0_images_list, tgt_test_0_image_path, 6, brightness_delta, contrast_factor, angle, right, up, left, down) \n",
        "  \n",
        "#   start_time = time.time()\n",
        "#   train_data_generator, val_data_generator, test_data_generator = data_generator(image_size)\n",
        "#   tuner, callbacks = hyperparam_tuning_with_kt(cnn_with_tl, train_data_generator, val_data_generator, max_trials=max_trials, epochs=epochs)\n",
        "#   model, best_hps = model_with_best_hps(tuner) \n",
        "#   model, history = model_fit(model, train_data_generator, val_data_generator, callbacks, batch_size=batch_size, epochs=epochs, chosen_model=chosen_model)\n",
        "#   perf_metrics = model_evaluate_and_model_predict(model, test_data_generator, history, chosen_model=chosen_model)\n",
        "#   perf_summary = pd.concat([perf_metrics,best_hps], axis=1)\n",
        "#   perf_summary['Brightness'] = brightness_delta\n",
        "#   perf_summary['Contrast'] = contrast_factor\n",
        "#   perf_summary['Rotate'] = angle\n",
        "#   perf_summary['ShiftRU'] = str((right,up))\n",
        "#   perf_summary['ShiftLD'] = str((left,down))\n",
        "\n",
        "#   # download the perf_summary as a CSV to Google Drive  \n",
        "#   file_path = directory_path + 'perf_summary_' + chosen_model +'.csv'\n",
        "#   perf_summary.to_csv(file_path) \n",
        "#   files.download(file_path)\n",
        "\n",
        "#   # with open(file_path, 'w') as f:\n",
        "#   #   perf_summary.to_csv(f)\n",
        "\n",
        "#   model.summary()\n",
        "#   print();print('Execution time %s minutes: ' % round(int(time.time() - start_time)/60, 2),'\\n');print('===============================================\\n')\n",
        "#   return perf_summary"
      ],
      "metadata": {
        "id": "ffcy2aj6ze_H"
      },
      "execution_count": 59,
      "outputs": []
    },
    {
      "cell_type": "code",
      "source": [
        "# perf_summary_vgg16 = experimenting_cnn_with_tl(chosen_model='VGG16',\n",
        "#                                 image_size = 50,\n",
        "#                                 max_trials=50,\n",
        "#                                 batch_size=64,\n",
        "#                                 epochs=20,\n",
        "#                                 brightness_delta=random.choice([.1,.3]),\n",
        "#                                 contrast_factor=random.choice([1,3]),\n",
        "#                                 angle=random.choice([10,30]),\n",
        "#                                 right=random.choice([10,15,20]),\n",
        "#                                 up=random.choice([-10,-13,-16]),\n",
        "#                                 left=random.choice([-10,-15,-20]),\n",
        "#                                 down=random.choice([10,13,16]))\n",
        "# perf_summary_vgg16"
      ],
      "metadata": {
        "id": "54GP8utfxiUx"
      },
      "execution_count": 60,
      "outputs": []
    },
    {
      "cell_type": "code",
      "source": [
        "# tl = load_model('model.hdf5')\n",
        "# print(\"Total trainable weights: {}\".format(len(tl.trainable_weights)))\n",
        "# print(tl.trainable_weights)\n",
        "# tl.summary()\n",
        "# tl.layers[0]"
      ],
      "metadata": {
        "id": "cblimxh1GEWX"
      },
      "execution_count": 61,
      "outputs": []
    },
    {
      "cell_type": "code",
      "source": [
        "# # 2nd run with fill mode, random zoom in, and rotate 90 degrees cw\n",
        "# perf_summary_resnet50_m2 = experimenting_cnn_with_tl(chosen_model='ResNet50',\n",
        "#                                 image_size = 50,\n",
        "#                                 max_trials=50,\n",
        "#                                 batch_size=64,\n",
        "#                                 epochs=20,\n",
        "#                                 brightness_delta=random.choice([.1,.3]),\n",
        "#                                 contrast_factor=random.choice([1,3]),\n",
        "#                                 angle=random.choice([10,30]),\n",
        "#                                 right=random.choice([10,15,20]),\n",
        "#                                 up=random.choice([-10,-13,-16]),\n",
        "#                                 left=random.choice([-10,-15,-20]),\n",
        "#                                 down=random.choice([10,13,16]))\n",
        "# perf_summary_resnet50_m2\n",
        "# # Found 10354 images belonging to 2 classes.(train)\n",
        "# # Found 197 images belonging to 2 classes.(test)\n",
        "# # Found 199 images belonging to 2 classes.(val)"
      ],
      "metadata": {
        "id": "v05qNVrFnzoa"
      },
      "execution_count": 62,
      "outputs": []
    },
    {
      "cell_type": "code",
      "source": [
        "# perf_summary_resnet50 = experimenting_cnn_with_tl(chosen_model='ResNet50',\n",
        "#                                 image_size = 50,\n",
        "#                                 max_trials=50,\n",
        "#                                 batch_size=64,\n",
        "#                                 epochs=20,\n",
        "#                                 brightness_delta=random.choice([.1,.3]),\n",
        "#                                 contrast_factor=random.choice([1,3]),\n",
        "#                                 angle=random.choice([10,30]),\n",
        "#                                 right=random.choice([10,15,20]),\n",
        "#                                 up=random.choice([-10,-13,-16]),\n",
        "#                                 left=random.choice([-10,-15,-20]),\n",
        "#                                 down=random.choice([10,13,16]))\n",
        "# perf_summary_resnet50"
      ],
      "metadata": {
        "id": "Z8vFmKituAve"
      },
      "execution_count": 63,
      "outputs": []
    },
    {
      "cell_type": "code",
      "source": [
        "# perf_summary_vgg19 = experimenting_cnn_with_tl(chosen_model='VGG19',\n",
        "#                                 image_size = 50,\n",
        "#                                 max_trials=2,\n",
        "#                                 batch_size=64,\n",
        "#                                 epochs=20,\n",
        "#                                 brightness_delta=random.choice([.1,.3]),\n",
        "#                                 contrast_factor=random.choice([1,3]),\n",
        "#                                 angle=random.choice([10,30]),\n",
        "#                                 right=random.choice([10,15,20]),\n",
        "#                                 up=random.choice([-10,-13,-16]),\n",
        "#                                 left=random.choice([-10,-15,-20]),\n",
        "#                                 down=random.choice([10,13,16]))\n",
        "# perf_summary_vgg19"
      ],
      "metadata": {
        "id": "X5Gw-RBf0JHl"
      },
      "execution_count": 64,
      "outputs": []
    },
    {
      "cell_type": "code",
      "source": [
        "# perf_summary_densenet201 = experimenting_cnn_with_tl(chosen_model='DenseNet201',\n",
        "#                                                       image_size = 50,\n",
        "#                                                       max_trials=50,\n",
        "#                                                       batch_size=64,\n",
        "#                                                       epochs=20,\n",
        "#                                                       brightness_delta=random.choice([.1,.3]),\n",
        "#                                                       contrast_factor=random.choice([1,3]),\n",
        "#                                                       angle=random.choice([10,30]),\n",
        "#                                                       right=random.choice([10,15,20]),\n",
        "#                                                       up=random.choice([-10,-13,-16]),\n",
        "#                                                       left=random.choice([-10,-15,-20]),\n",
        "#                                                       down=random.choice([10,13,16]))\n",
        "# perf_summary_densenet201"
      ],
      "metadata": {
        "id": "Nyn-0jauubpU"
      },
      "execution_count": 65,
      "outputs": []
    },
    {
      "cell_type": "code",
      "source": [
        "# perf_summary_resnet152v2 = experimenting_cnn_with_tl(chosen_model='ResNet152V2',\n",
        "#                                 image_size = 50,\n",
        "#                                 max_trials=50,\n",
        "#                                 batch_size=64,\n",
        "#                                 epochs=20,\n",
        "#                                 brightness_delta=random.choice([.1,.3]),\n",
        "#                                 contrast_factor=random.choice([1,3]),\n",
        "#                                 angle=random.choice([10,30]),\n",
        "#                                 right=random.choice([10,15,20]),\n",
        "#                                 up=random.choice([-10,-13,-16]),\n",
        "#                                 left=random.choice([-10,-15,-20]),\n",
        "#                                 down=random.choice([10,13,16]))\n",
        "# perf_summary_resnet152v2"
      ],
      "metadata": {
        "id": "J3i5qGH1ujP5"
      },
      "execution_count": 66,
      "outputs": []
    },
    {
      "cell_type": "code",
      "source": [
        "# perf_summary_xception = experimenting_cnn_with_tl(chosen_model='Xception',\n",
        "#                                 image_size = 50,\n",
        "                                # max_trials=80,\n",
        "                                # batch_size=64,\n",
        "                                # epochs=20,\n",
        "                                # brightness_delta=random.choice([.1,.3]),\n",
        "                                # contrast_factor=random.choice([1,3]),\n",
        "                                # angle=random.choice([10,30]),\n",
        "                                # right=random.choice([6,10,12]),\n",
        "                                # up=random.choice([-5,-7,-9]),\n",
        "                                # left=random.choice([-6,-10,-12]),\n",
        "                                # down=random.choice([5,7,9]))\n",
        "# perf_summary_xception"
      ],
      "metadata": {
        "id": "zDIiMdayurMC"
      },
      "execution_count": 67,
      "outputs": []
    },
    {
      "cell_type": "code",
      "source": [
        "# perf_summary_mobilenetv2 = experimenting_cnn_with_tl(chosen_model='MobileNetV2',\n",
        "#                                 image_size = 50,\n",
        "                                # max_trials=80,\n",
        "                                # batch_size=64,\n",
        "                                # epochs=20,\n",
        "                                # brightness_delta=random.choice([.1,.3]),\n",
        "                                # contrast_factor=random.choice([1,3]),\n",
        "                                # angle=random.choice([10,30]),\n",
        "                                # right=random.choice([6,10,12]),\n",
        "                                # up=random.choice([-5,-7,-9]),\n",
        "                                # left=random.choice([-6,-10,-12]),\n",
        "                                # down=random.choice([5,7,9]))\n",
        "# perf_summary_mobilenetv2"
      ],
      "metadata": {
        "id": "x-2uVs4csrxs"
      },
      "execution_count": 68,
      "outputs": []
    },
    {
      "cell_type": "code",
      "source": [
        "# perf_summary_efficientnetb7 = experimenting_cnn_with_tl(chosen_model='EfficientNetB7',\n",
        "#                                 image_size = 50,\n",
        "                                # max_trials=80,\n",
        "                                # batch_size=64,\n",
        "                                # epochs=20,\n",
        "                                # brightness_delta=random.choice([.1,.3]),\n",
        "                                # contrast_factor=random.choice([1,3]),\n",
        "                                # angle=random.choice([10,30]),\n",
        "                                # right=random.choice([6,10,12]),\n",
        "                                # up=random.choice([-5,-7,-9]),\n",
        "                                # left=random.choice([-6,-10,-12]),\n",
        "                                # down=random.choice([5,7,9]))\n",
        "# perf_summary_efficientnetb7"
      ],
      "metadata": {
        "id": "d1Rj7mQQtY8M"
      },
      "execution_count": 69,
      "outputs": []
    },
    {
      "cell_type": "code",
      "source": [
        "# perf_summary_inceptionv3 = experimenting_cnn_with_tl(chosen_model='InceptionV3',\n",
        "#                                 image_size = 50,\n",
        "                                # max_trials=80,\n",
        "                                # batch_size=64,\n",
        "                                # epochs=20,\n",
        "                                # brightness_delta=random.choice([.1,.3]),\n",
        "                                # contrast_factor=random.choice([1,3]),\n",
        "                                # angle=random.choice([10,30]),\n",
        "                                # right=random.choice([6,10,12]),\n",
        "                                # up=random.choice([-5,-7,-9]),\n",
        "                                # left=random.choice([-6,-10,-12]),\n",
        "                                # down=random.choice([5,7,9]))\n",
        "# perf_summary_inceptionv3"
      ],
      "metadata": {
        "id": "AyFRUhEOtldq"
      },
      "execution_count": 70,
      "outputs": []
    },
    {
      "cell_type": "code",
      "source": [
        "# perf_metrics_summary = pd.concat([perf_summary_vgg16,\n",
        "#                              perf_summary_resnet50,\n",
        "#                              perf_summary_vgg19,\n",
        "#                              perf_summary_densenet201,\n",
        "#                              perf_summary_resnet152v2], axis=0).reset_index(drop=True)\n",
        "#                             #  perf_summary_xception,\n",
        "#                             #  perf_summary_mobilenetv2,\n",
        "#                             #  perf_summary_efficientnetb7,\n",
        "#                             #  perf_summary_inceptionv3], axis=0).reset_index(drop=True)\n",
        "\n",
        "# perf_metrics_summary.to_csv(directory_path + 'perf_metrics_summary_on_best_models.csv') \n",
        "# files.download(directory_path + 'perf_metrics_summary_on_best_models.csv')\n",
        "# perf_metrics_summary"
      ],
      "metadata": {
        "id": "8VOCuQHFkf8y"
      },
      "execution_count": 71,
      "outputs": []
    },
    {
      "cell_type": "code",
      "source": [
        "# # # tl_models_50 = ['VGG16', 'VGG19', 'DenseNet201', 'ResNet50', 'ResNet152V2']                                   #  'MobileNetV2'    # input_shape should be one of [96, 128, 160, 192, 224]\n",
        "# # # tl_models_96 = ['VGG16', 'VGG19', 'ResNet152V2', 'DenseNet201', 'MobileNetV2', 'EfficientNetB7', 'InceptionV3', 'Xception']                                        # InceptionV3 has to be at least 75, Xception at least 71\n",
        "# tl_models = ['ResNet50', 'VGG16', 'DenseNet201', 'VGG19', 'ResNet152V2'] \n",
        "\n",
        "# def run_experiments(chosen_model='VGG16',\n",
        "#                     image_size=50, \n",
        "#                     max_trials=20,\n",
        "#                     batch_size=64,\n",
        "#                     epochs=20,\n",
        "#                     brightness_delta=random.choice([.1,.3]),\n",
        "#                     contrast_factor=random.choice([1,3]),\n",
        "#                     angle=random.choice([10,30])):\n",
        "#   metrics_table = pd.DataFrame()  \n",
        "#   for tl in tl_models:     \n",
        "#     perf_summary = experimenting_cnn_with_tl(chosen_model=tl,\n",
        "#                                                 image_size=image_size,\n",
        "#                                                 max_trials=max_trials,\n",
        "#                                                 batch_size=batch_size,\n",
        "#                                                 epochs=epochs,\n",
        "#                                                 brightness_delta=brightness_delta,\n",
        "#                                                 contrast_factor=contrast_factor,\n",
        "#                                                 angle=angle)\n",
        "#     experimenting_cnn_with_tl(chosen_model=tl,\n",
        "#                               image_size = image_size,\n",
        "#                               max_trials=max_trials,\n",
        "#                               batch_size=batch_size,\n",
        "#                               epochs=epochs,\n",
        "#                               brightness_delta=brightness_delta,\n",
        "#                               contrast_factor=contrast_factor)\n",
        "\n",
        "#     metrics_table = metrics_table.append(perf_summary, ignore_index=True)\n",
        "#   return metrics_table\n",
        "\n",
        "# metrics_table = run_experiments(chosen_model='VGG16',\n",
        "#                     image_size=50, \n",
        "#                     max_trials=2,\n",
        "#                     batch_size=64,\n",
        "#                     epochs=2,\n",
        "#                     brightness_delta=random.choice([.1,.3]),\n",
        "#                     contrast_factor=random.choice([1,3]))\n",
        "# metrics_table"
      ],
      "metadata": {
        "id": "Ys2_8u2_Y2jB"
      },
      "execution_count": 72,
      "outputs": []
    }
  ]
}