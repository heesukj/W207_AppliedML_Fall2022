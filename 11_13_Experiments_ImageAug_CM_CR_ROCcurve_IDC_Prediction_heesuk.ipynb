{
  "nbformat": 4,
  "nbformat_minor": 0,
  "metadata": {
    "colab": {
      "provenance": [],
      "collapsed_sections": [],
      "include_colab_link": true
    },
    "kernelspec": {
      "name": "python3",
      "display_name": "Python 3"
    },
    "language_info": {
      "name": "python"
    },
    "accelerator": "GPU",
    "gpuClass": "premium"
  },
  "cells": [
    {
      "cell_type": "markdown",
      "metadata": {
        "id": "view-in-github",
        "colab_type": "text"
      },
      "source": [
        "<a href=\"https://colab.research.google.com/github/heesukjang/W207_AppliedML_Fall2022/blob/main/11_13_Experiments_ImageAug_CM_CR_ROCcurve_IDC_Prediction_heesuk.ipynb\" target=\"_parent\"><img src=\"https://colab.research.google.com/assets/colab-badge.svg\" alt=\"Open In Colab\"/></a>"
      ]
    },
    {
      "cell_type": "markdown",
      "source": [
        "## FALL 2022<br>\n",
        "W207 Applied Machine Learning<br>\n",
        "Heesuk Jang\n",
        " \n",
        "\n",
        "#Predicting IDC with Breast Histopathology Images using CNN\n",
        "\n"
      ],
      "metadata": {
        "id": "5DebDWCL0KeL"
      }
    },
    {
      "cell_type": "code",
      "execution_count": 1,
      "metadata": {
        "id": "SRkZHKoWswZT",
        "colab": {
          "base_uri": "https://localhost:8080/"
        },
        "outputId": "30ff2471-1489-462b-de49-d9636d99b750"
      },
      "outputs": [
        {
          "output_type": "stream",
          "name": "stdout",
          "text": [
            "Mounted at /content/gdrive\n"
          ]
        }
      ],
      "source": [
        "import pandas as pd\n",
        "import numpy as np\n",
        "import os\n",
        "import re\n",
        "import random\n",
        "import joblib\n",
        "import glob\n",
        "import itertools\n",
        "\n",
        "import matplotlib.pyplot as plt\n",
        "import seaborn as sns\n",
        "import plotly.express as px\n",
        "import matplotlib.patches as patches\n",
        "\n",
        "from sklearn.utils import shuffle\n",
        "from sklearn.ensemble import GradientBoostingClassifier, AdaBoostClassifier, RandomForestClassifier\n",
        "from sklearn.model_selection import train_test_split, GridSearchCV\n",
        "from scipy import stats\n",
        "from collections import Counter\n",
        "from sklearn import preprocessing\n",
        "from sklearn.preprocessing import StandardScaler\n",
        "from sklearn.metrics import *                            # confusion_matrix, log_loss, accuracy_score\n",
        "from sklearn.model_selection import *                    # train_test_split\n",
        "from sklearn.tree import DecisionTreeClassifier\n",
        "from sklearn.naive_bayes import GaussianNB\n",
        "from sklearn import preprocessing\n",
        "from sklearn.preprocessing import *\n",
        "# from sklearn.ensemble import *\n",
        "from sklearn.svm import *\n",
        "from sklearn.linear_model import *                       # LinearRegression\n",
        "from sklearn.discriminant_analysis import *\n",
        "from sklearn.neighbors import KNeighborsClassifier\n",
        "from mlxtend.plotting import plot_decision_regions\n",
        "\n",
        "import tensorflow as tf\n",
        "from tensorflow import keras\n",
        "from keras import metrics\n",
        "from tensorflow.keras import initializers\n",
        "from tensorflow.keras.preprocessing.image import ImageDataGenerator\n",
        "from tensorflow.keras.layers import RandomFlip, RandomZoom, RandomRotation, Conv2D, MaxPooling2D, AveragePooling2D, Input, Dense, Flatten, Dropout, BatchNormalization, GlobalAveragePooling2D\n",
        "from tensorflow.keras.losses import BinaryCrossentropy, CategoricalCrossentropy\n",
        "from tensorflow.keras.models import Sequential\n",
        "from tensorflow.keras.optimizers import Adam, SGD, Adadelta, Adagrad, RMSprop\n",
        "from keras.layers import ReLU, LeakyReLU\n",
        "from tensorflow.keras.callbacks import ReduceLROnPlateau, ModelCheckpoint\n",
        "\n",
        "from sklearn.metrics import roc_auc_score, auc\n",
        "from sklearn.metrics import roc_curve\n",
        "\n",
        "tf.get_logger().setLevel('INFO')\n",
        "\n",
        "import cv2 as cv\n",
        "import skimage.io as io\n",
        "\n",
        "import warnings\n",
        "warnings.filterwarnings('ignore')\n",
        "\n",
        "# Required to read the data from Kaggle\n",
        "from google.colab import drive\n",
        "# drive.mount('/content/gdrive')\n",
        "# os.environ['KAGGLE_CONFIG_DIR'] = \"/content/gdrive/MyDrive/Kaggle\"\n",
        "\n",
        "from google.colab import drive\n",
        "drive.mount('/content/gdrive')\n",
        "\n",
        "import warnings\n",
        "warnings.simplefilter(\"ignore\", category=DeprecationWarning)"
      ]
    },
    {
      "cell_type": "markdown",
      "source": [
        "## Install Optuna and Version Check"
      ],
      "metadata": {
        "id": "2NlEwp6jmZsY"
      }
    },
    {
      "cell_type": "code",
      "source": [
        "# !pip install --quiet optuna\n",
        "# import optuna\n",
        "# optuna.__version__"
      ],
      "metadata": {
        "id": "vbF2pFtlbJaH"
      },
      "execution_count": 2,
      "outputs": []
    },
    {
      "cell_type": "markdown",
      "source": [
        "## Enabling and testing the GPU"
      ],
      "metadata": {
        "id": "2JC1sfIYmRuY"
      }
    },
    {
      "cell_type": "code",
      "source": [
        "import tensorflow as tf\n",
        "device_name = tf.test.gpu_device_name()\n",
        "if device_name != '/device:GPU:0':\n",
        "  raise SystemError('GPU device not found')\n",
        "print('Found GPU at: {}'.format(device_name))"
      ],
      "metadata": {
        "colab": {
          "base_uri": "https://localhost:8080/"
        },
        "id": "lpo1_3kNlzoo",
        "outputId": "eb8b2881-c750-45a6-e5b2-b3354dc3af47"
      },
      "execution_count": 3,
      "outputs": [
        {
          "output_type": "stream",
          "name": "stdout",
          "text": [
            "Found GPU at: /device:GPU:0\n"
          ]
        }
      ]
    },
    {
      "cell_type": "markdown",
      "source": [
        "## Enabling and testing the TPU"
      ],
      "metadata": {
        "id": "s3LsW0cGnF8e"
      }
    },
    {
      "cell_type": "code",
      "source": [
        "# import tensorflow as tf\n",
        "# print(\"Tensorflow version \" + tf.__version__)\n",
        "\n",
        "# try:\n",
        "#   tpu = tf.distribute.cluster_resolver.TPUClusterResolver()  # TPU detection\n",
        "#   print('Running on TPU ', tpu.cluster_spec().as_dict()['worker'])\n",
        "# except ValueError:\n",
        "#   raise BaseException('ERROR: Not connected to a TPU runtime; please see the previous cell in this notebook for instructions!')\n",
        "\n",
        "# tf.config.experimental_connect_to_cluster(tpu)\n",
        "# tf.tpu.experimental.initialize_tpu_system(tpu)\n",
        "# tpu_strategy = tf.distribute.experimental.TPUStrategy(tpu)"
      ],
      "metadata": {
        "id": "FlEM5IxwnD4s"
      },
      "execution_count": 4,
      "outputs": []
    },
    {
      "cell_type": "markdown",
      "source": [
        "## Observe TensorFlow speedup on GPU relative to CPU"
      ],
      "metadata": {
        "id": "Xqgm8yAcmT7Q"
      }
    },
    {
      "cell_type": "code",
      "source": [
        "# import tensorflow as tf\n",
        "# import timeit\n",
        "\n",
        "# device_name = tf.test.gpu_device_name()\n",
        "# if device_name != '/device:GPU:0':\n",
        "#   print(\n",
        "#       '\\n\\nThis error most likely means that this notebook is not '\n",
        "#       'configured to use a GPU.  Change this in Notebook Settings via the '\n",
        "#       'command palette (cmd/ctrl-shift-P) or the Edit menu.\\n\\n')\n",
        "#   raise SystemError('GPU device not found')\n",
        "\n",
        "# def cpu():\n",
        "#   with tf.device('/cpu:0'):\n",
        "#     random_image_cpu = tf.random.normal((100, 100, 100, 3))\n",
        "#     net_cpu = tf.keras.layers.Conv2D(32, 7)(random_image_cpu)\n",
        "#     return tf.math.reduce_sum(net_cpu)\n",
        "\n",
        "# def gpu():\n",
        "#   with tf.device('/device:GPU:0'):\n",
        "#     random_image_gpu = tf.random.normal((100, 100, 100, 3))\n",
        "#     net_gpu = tf.keras.layers.Conv2D(32, 7)(random_image_gpu)\n",
        "#     return tf.math.reduce_sum(net_gpu)\n",
        "  \n",
        "# # We run each op once to warm up; see: https://stackoverflow.com/a/45067900\n",
        "# cpu()\n",
        "# gpu()\n",
        "\n",
        "# # Run the op several times.\n",
        "# print('Time (s) to convolve 32x7x7x3 filter over random 100x100x100x3 images '\n",
        "#       '(batch x height x width x channel). Sum of ten runs.')\n",
        "# print('CPU (s):')\n",
        "# cpu_time = timeit.timeit('cpu()', number=10, setup=\"from __main__ import cpu\")\n",
        "# print(cpu_time)\n",
        "# print('GPU (s):')\n",
        "# gpu_time = timeit.timeit('gpu()', number=10, setup=\"from __main__ import gpu\")\n",
        "# print(gpu_time)\n",
        "# print('GPU speedup over CPU: {}x'.format(int(cpu_time/gpu_time)))"
      ],
      "metadata": {
        "id": "obujFpYzmIgA"
      },
      "execution_count": 5,
      "outputs": []
    },
    {
      "cell_type": "code",
      "source": [
        "# !unzip gdrive/MyDrive/Kaggle/CNN_IDC/Dataset.zip\n",
        "\n",
        "#replace these paths with the paths of your \n",
        "val_image_directory = '/content/gdrive/MyDrive/Kaggle/CNN_IDC/Dataset/Validate'\n",
        "train_image_directory = '/content/gdrive/MyDrive/Kaggle/CNN_IDC/Dataset/Train'\n",
        "test_image_directory = '/content/gdrive/MyDrive/Kaggle/CNN_IDC/Dataset/Test'\n",
        "directory_path = '/content/gdrive/MyDrive/Kaggle/CNN_IDC'"
      ],
      "metadata": {
        "id": "uyWJuOkZuCVl"
      },
      "execution_count": 6,
      "outputs": []
    },
    {
      "cell_type": "code",
      "source": [
        "def get_paths(directory):\n",
        "  all_path = []\n",
        "  idc_image_path = []\n",
        "  idc_image_label = []\n",
        "\n",
        "  for dir, subdir, files in os.walk(directory):\n",
        "    path = dir + \"/\"\n",
        "    all_path.append(path)\n",
        "\n",
        "  for i in range(len(all_path)):\n",
        "    for file in os.listdir(all_path[i]):\n",
        "      test = file\n",
        "      path = all_path[i] + test\n",
        "      if path.lower().endswith('.png'):\n",
        "        idc_image_path.append(path)\n",
        "\n",
        "  for i in range(len(idc_image_path)):\n",
        "    split_test = idc_image_path[i]\n",
        "    split_path = split_test.split(\"/\")\n",
        "    directory_name = split_path[7]\n",
        "    idc_image_label.append('class_' + split_path[8])\n",
        "  return idc_image_path, idc_image_label, directory_name"
      ],
      "metadata": {
        "id": "N892xh1IM4q7"
      },
      "execution_count": 7,
      "outputs": []
    },
    {
      "cell_type": "code",
      "source": [
        "train_paths, train_labels, train_dir = get_paths(train_image_directory)\n",
        "val_paths, val_labels, val_dir = get_paths(val_image_directory)\n",
        "test_paths, test_labels, test_dir = get_paths(test_image_directory)"
      ],
      "metadata": {
        "id": "SJ6Cl4wtmxjO"
      },
      "execution_count": 8,
      "outputs": []
    },
    {
      "cell_type": "code",
      "source": [
        "print(train_labels[:5])\n",
        "print(train_labels[-5:])\n",
        "\n",
        "print(len(train_paths), len(train_labels))\n",
        "print(len(test_paths), len(test_labels))\n",
        "print(len(val_paths), len(val_labels))"
      ],
      "metadata": {
        "id": "NIf9ETAsmxa2",
        "outputId": "48a6d5c0-53ee-432d-f7a4-83bf483f8d25",
        "colab": {
          "base_uri": "https://localhost:8080/"
        }
      },
      "execution_count": 9,
      "outputs": [
        {
          "output_type": "stream",
          "name": "stdout",
          "text": [
            "['class_0', 'class_0', 'class_0', 'class_0', 'class_0']\n",
            "['class_1', 'class_1', 'class_1', 'class_1', 'class_1']\n",
            "800 800\n",
            "200 200\n",
            "200 200\n"
          ]
        }
      ]
    },
    {
      "cell_type": "code",
      "source": [
        "print(train_paths[:2])\n",
        "print(train_labels[:10])\n",
        "print(train_dir)"
      ],
      "metadata": {
        "id": "uCJzEwS8mxSR",
        "outputId": "30ba33aa-e886-4b35-ed16-639eeeedb8ff",
        "colab": {
          "base_uri": "https://localhost:8080/"
        }
      },
      "execution_count": 10,
      "outputs": [
        {
          "output_type": "stream",
          "name": "stdout",
          "text": [
            "['/content/gdrive/MyDrive/Kaggle/CNN_IDC/Dataset/Train/0/12880_idx5_x451_y701_class0.png', '/content/gdrive/MyDrive/Kaggle/CNN_IDC/Dataset/Train/0/9345_idx5_x2001_y2001_class0.png']\n",
            "['class_0', 'class_0', 'class_0', 'class_0', 'class_0', 'class_0', 'class_0', 'class_0', 'class_0', 'class_0']\n",
            "Train\n"
          ]
        }
      ]
    },
    {
      "cell_type": "code",
      "source": [
        "def create_dataframes(idc_image_path, idc_image_label, directory_name):\n",
        "  same_name = directory_name.lower() + '_'\n",
        "  #creating the dataframes that we will be passing to our generators\n",
        "  idc_data_cleaned = {'path': idc_image_path,\n",
        "            'label': idc_image_label}\n",
        "  idc_df = pd.DataFrame(idc_data_cleaned)\n",
        "  df = idc_df.sample(frac = 1)\n",
        "  print(df)\n",
        "  csv_path = directory_path\n",
        "  csv_file = df.to_csv(csv_path + '/' + same_name + 'idc_dataframe.csv')\n",
        "  csv_file_path = csv_path + '/' + same_name + 'idc_dataframe.csv'\n",
        "  return csv_file_path"
      ],
      "metadata": {
        "id": "_WU9qt2RmxHZ"
      },
      "execution_count": 11,
      "outputs": []
    },
    {
      "cell_type": "code",
      "source": [
        "train_dataframe = create_dataframes(train_paths, train_labels, train_dir)\n",
        "print('type(train_dataframe): ',type(train_dataframe))\n",
        "train_dataframe"
      ],
      "metadata": {
        "id": "MJxUgm39NeU7",
        "outputId": "a42a7d7f-d565-4747-97b1-8ca87db3cb01",
        "colab": {
          "base_uri": "https://localhost:8080/",
          "height": 303
        }
      },
      "execution_count": 12,
      "outputs": [
        {
          "output_type": "stream",
          "name": "stdout",
          "text": [
            "                                                  path    label\n",
            "224  /content/gdrive/MyDrive/Kaggle/CNN_IDC/Dataset...  class_0\n",
            "210  /content/gdrive/MyDrive/Kaggle/CNN_IDC/Dataset...  class_0\n",
            "100  /content/gdrive/MyDrive/Kaggle/CNN_IDC/Dataset...  class_0\n",
            "90   /content/gdrive/MyDrive/Kaggle/CNN_IDC/Dataset...  class_0\n",
            "254  /content/gdrive/MyDrive/Kaggle/CNN_IDC/Dataset...  class_0\n",
            "..                                                 ...      ...\n",
            "50   /content/gdrive/MyDrive/Kaggle/CNN_IDC/Dataset...  class_0\n",
            "592  /content/gdrive/MyDrive/Kaggle/CNN_IDC/Dataset...  class_1\n",
            "81   /content/gdrive/MyDrive/Kaggle/CNN_IDC/Dataset...  class_0\n",
            "323  /content/gdrive/MyDrive/Kaggle/CNN_IDC/Dataset...  class_0\n",
            "609  /content/gdrive/MyDrive/Kaggle/CNN_IDC/Dataset...  class_1\n",
            "\n",
            "[800 rows x 2 columns]\n",
            "type(train_dataframe):  <class 'str'>\n"
          ]
        },
        {
          "output_type": "execute_result",
          "data": {
            "text/plain": [
              "'/content/gdrive/MyDrive/Kaggle/CNN_IDC/train_idc_dataframe.csv'"
            ],
            "application/vnd.google.colaboratory.intrinsic+json": {
              "type": "string"
            }
          },
          "metadata": {},
          "execution_count": 12
        }
      ]
    },
    {
      "cell_type": "code",
      "source": [
        "train_dataframe = create_dataframes(train_paths, train_labels, train_dir)\n",
        "train_generator = pd.read_csv(train_dataframe)\n",
        "\n",
        "test_dataframe = create_dataframes(test_paths, test_labels, test_dir)\n",
        "test_generator = pd.read_csv(test_dataframe)\n",
        "\n",
        "val_dataframe = create_dataframes(val_paths, val_labels, val_dir)\n",
        "val_generator = pd.read_csv(val_dataframe)"
      ],
      "metadata": {
        "id": "hnDu_3N4mw1G",
        "outputId": "ea3b143b-0558-413c-a436-f2f87b2296f3",
        "colab": {
          "base_uri": "https://localhost:8080/"
        }
      },
      "execution_count": 13,
      "outputs": [
        {
          "output_type": "stream",
          "name": "stdout",
          "text": [
            "                                                  path    label\n",
            "405  /content/gdrive/MyDrive/Kaggle/CNN_IDC/Dataset...  class_1\n",
            "322  /content/gdrive/MyDrive/Kaggle/CNN_IDC/Dataset...  class_0\n",
            "12   /content/gdrive/MyDrive/Kaggle/CNN_IDC/Dataset...  class_0\n",
            "521  /content/gdrive/MyDrive/Kaggle/CNN_IDC/Dataset...  class_1\n",
            "446  /content/gdrive/MyDrive/Kaggle/CNN_IDC/Dataset...  class_1\n",
            "..                                                 ...      ...\n",
            "459  /content/gdrive/MyDrive/Kaggle/CNN_IDC/Dataset...  class_1\n",
            "1    /content/gdrive/MyDrive/Kaggle/CNN_IDC/Dataset...  class_0\n",
            "546  /content/gdrive/MyDrive/Kaggle/CNN_IDC/Dataset...  class_1\n",
            "667  /content/gdrive/MyDrive/Kaggle/CNN_IDC/Dataset...  class_1\n",
            "208  /content/gdrive/MyDrive/Kaggle/CNN_IDC/Dataset...  class_0\n",
            "\n",
            "[800 rows x 2 columns]\n",
            "                                                  path    label\n",
            "162  /content/gdrive/MyDrive/Kaggle/CNN_IDC/Dataset...  class_1\n",
            "79   /content/gdrive/MyDrive/Kaggle/CNN_IDC/Dataset...  class_0\n",
            "10   /content/gdrive/MyDrive/Kaggle/CNN_IDC/Dataset...  class_0\n",
            "53   /content/gdrive/MyDrive/Kaggle/CNN_IDC/Dataset...  class_0\n",
            "86   /content/gdrive/MyDrive/Kaggle/CNN_IDC/Dataset...  class_0\n",
            "..                                                 ...      ...\n",
            "2    /content/gdrive/MyDrive/Kaggle/CNN_IDC/Dataset...  class_0\n",
            "24   /content/gdrive/MyDrive/Kaggle/CNN_IDC/Dataset...  class_0\n",
            "39   /content/gdrive/MyDrive/Kaggle/CNN_IDC/Dataset...  class_0\n",
            "21   /content/gdrive/MyDrive/Kaggle/CNN_IDC/Dataset...  class_0\n",
            "54   /content/gdrive/MyDrive/Kaggle/CNN_IDC/Dataset...  class_0\n",
            "\n",
            "[200 rows x 2 columns]\n",
            "                                                  path    label\n",
            "39   /content/gdrive/MyDrive/Kaggle/CNN_IDC/Dataset...  class_0\n",
            "35   /content/gdrive/MyDrive/Kaggle/CNN_IDC/Dataset...  class_0\n",
            "86   /content/gdrive/MyDrive/Kaggle/CNN_IDC/Dataset...  class_0\n",
            "133  /content/gdrive/MyDrive/Kaggle/CNN_IDC/Dataset...  class_1\n",
            "171  /content/gdrive/MyDrive/Kaggle/CNN_IDC/Dataset...  class_1\n",
            "..                                                 ...      ...\n",
            "117  /content/gdrive/MyDrive/Kaggle/CNN_IDC/Dataset...  class_1\n",
            "122  /content/gdrive/MyDrive/Kaggle/CNN_IDC/Dataset...  class_1\n",
            "177  /content/gdrive/MyDrive/Kaggle/CNN_IDC/Dataset...  class_1\n",
            "195  /content/gdrive/MyDrive/Kaggle/CNN_IDC/Dataset...  class_1\n",
            "64   /content/gdrive/MyDrive/Kaggle/CNN_IDC/Dataset...  class_0\n",
            "\n",
            "[200 rows x 2 columns]\n"
          ]
        }
      ]
    },
    {
      "cell_type": "code",
      "source": [
        "# train_generator"
      ],
      "metadata": {
        "id": "YyKDuRpXPXIn"
      },
      "execution_count": 14,
      "outputs": []
    },
    {
      "cell_type": "code",
      "source": [
        "from tqdm import tqdm # import tqdm\n",
        "\n",
        "# Apply gray scale to all images, flatten and store array / shape in new columns\n",
        "def get_img_arrays(df,):\n",
        "    # read each image array from corresponding path as grayscale and flatten the image array\n",
        "    df['img_array'] = df.progress_apply(lambda x : io.imread(x['path'],as_gray=True).flatten(),axis=1) # make sure to specify axis = 1\n",
        "    # get the shape of each image array and store it in the dataframe\n",
        "    df['array_shape'] = df.progress_apply(lambda x : x['img_array'].shape[0],axis=1) # make sure to specify axis = 1\n",
        "    return df\n"
      ],
      "metadata": {
        "id": "nkWYjNvnHrrn"
      },
      "execution_count": 15,
      "outputs": []
    },
    {
      "cell_type": "code",
      "source": [
        "from tqdm import tqdm # import tqdm\n",
        "tqdm.pandas() # initialize tqdm for pandas\n",
        "\n",
        "# # tqdm is a library that enables you to visualize the progress of a for loop by displaying a configurable progress bar\n",
        "\n",
        "train_generator = get_img_arrays(df = train_generator)\n",
        "val_generator = get_img_arrays(df = val_generator)\n",
        "test_generator = get_img_arrays(df = test_generator)"
      ],
      "metadata": {
        "id": "d9iPVxRZHreQ",
        "outputId": "825c2c5f-fac2-4bfb-f415-96f7b3cc2e0f",
        "colab": {
          "base_uri": "https://localhost:8080/"
        }
      },
      "execution_count": 16,
      "outputs": [
        {
          "output_type": "stream",
          "name": "stderr",
          "text": [
            "100%|██████████| 800/800 [06:22<00:00,  2.09it/s]\n",
            "100%|██████████| 800/800 [00:00<00:00, 52332.31it/s]\n",
            "100%|██████████| 200/200 [03:06<00:00,  1.07it/s]\n",
            "100%|██████████| 200/200 [00:00<00:00, 42521.33it/s]\n",
            "100%|██████████| 200/200 [03:08<00:00,  1.06it/s]\n",
            "100%|██████████| 200/200 [00:00<00:00, 46162.27it/s]\n"
          ]
        }
      ]
    },
    {
      "cell_type": "code",
      "source": [
        "# print(train_generator.array_shape.value_counts())\n",
        "# print(val_generator.array_shape.value_counts())\n",
        "# print(test_generator.array_shape.value_counts())"
      ],
      "metadata": {
        "id": "wAv7RXmVQX4b"
      },
      "execution_count": 17,
      "outputs": []
    },
    {
      "cell_type": "code",
      "source": [
        "# drop these images as they add unnecessary noise to our model\n",
        "train_weird_imgs = train_generator[train_generator['array_shape'] != 2500]\n",
        "val_weird_imgs = val_generator[val_generator['array_shape'] != 2500]\n",
        "test_weird_imgs = test_generator[test_generator['array_shape'] != 2500]\n",
        "\n",
        "\n",
        "weird_imgs = train_weird_imgs.append(val_weird_imgs)\n",
        "weird_imgs = weird_imgs.append(test_weird_imgs)\n",
        "weird_imgs['dataset'] = weird_imgs['path'].str.split('/', expand=True)[7]\n",
        "weird_imgs.reset_index(drop=True)\n",
        "\n",
        "train_generator.drop(train_weird_imgs.index,inplace=True)\n",
        "val_generator.drop(val_weird_imgs.index,inplace=True)\n",
        "test_generator.drop(test_weird_imgs.index,inplace=True)\n",
        "\n",
        "# print(len(weird_imgs))\n",
        "# print(len(train_generator))\n",
        "# print(len(val_generator))\n",
        "# print(len(test_generator))\n",
        "# print(train_generator.columns)\n",
        "# val_generator.reset_index(drop=True)"
      ],
      "metadata": {
        "id": "gpOS9_alHrTY"
      },
      "execution_count": 18,
      "outputs": []
    },
    {
      "cell_type": "code",
      "source": [
        "import cv2 as cv\n",
        "import skimage.io as io\n",
        "\n",
        "def display_images(subclass):\n",
        "  fig, axes = plt.subplots(nrows=1, ncols=7, figsize=(20,8))\n",
        "  for idx, ax in enumerate(axes.flat):\n",
        "    image_wo_path = os.path.basename(subclass.path[idx])\n",
        "    # print(image_wo_path)\n",
        "    subtitle = 'Class ' + image_wo_path.rsplit('.')[0][-1] + ': ' + subclass.dataset[idx]\n",
        "    img = io.imread(subclass.path[idx])\n",
        "    ax.imshow(img)\n",
        "    # ax.axis('off')\n",
        "    ax.set_title(subtitle, size=14)   \n",
        "  fig.tight_layout() \n",
        "  plt.show() \n",
        "\n",
        "print()\n",
        "display_images(weird_imgs.reset_index(drop=True))"
      ],
      "metadata": {
        "id": "x9euSsBNHrIX",
        "outputId": "cb85011d-da58-4d5a-92f3-f3d06d9f013e",
        "colab": {
          "base_uri": "https://localhost:8080/",
          "height": 363
        }
      },
      "execution_count": 19,
      "outputs": [
        {
          "output_type": "stream",
          "name": "stdout",
          "text": [
            "\n"
          ]
        },
        {
          "output_type": "display_data",
          "data": {
            "text/plain": [
              "<Figure size 1440x576 with 7 Axes>"
            ],
            "image/png": "[encoded data removed]"
          },
          "metadata": {
            "needs_background": "light"
          }
        }
      ]
    },
    {
      "cell_type": "markdown",
      "source": [
        "# Preprocessing data using ImageDataGenerator"
      ],
      "metadata": {
        "id": "iHdf3Jd0ipmm"
      }
    },
    {
      "cell_type": "code",
      "source": [
        "# https://faroit.com/keras-docs/0.3.3/preprocessing/image/\n",
        "# https://www.tensorflow.org/api_docs/python/tf/keras/preprocessing/image/ImageDataGenerator\n",
        "\n",
        "def data_generator(with_augmented_images=False,\n",
        "                    zca_whitening=False,\n",
        "                    zca_epsilon=1e-06,\n",
        "                    rotation_range=10,                             \n",
        "                    width_shift_range=0.0,\n",
        "                    height_shift_range=0.0,\n",
        "                    brightness_range=None,\n",
        "                    shear_range=0.2,                                  \n",
        "                    zoom_range=0.2,                                \n",
        "                    channel_shift_range=0.0,                       \n",
        "                    fill_mode='nearest',                           \n",
        "                    cval=0.0,\n",
        "                    horizontal_flip=True,\n",
        "                    vertical_flip=False,\n",
        "                    rescale=None):\n",
        "  \n",
        "  with_aug_datagen = ImageDataGenerator(\n",
        "      featurewise_center = True,                     # transforms the images to 0 mean\n",
        "      featurewise_std_normalization = True,          # divide inputs by std of the dataset\n",
        "      zca_whitening=zca_whitening,\n",
        "      zca_epsilon=zca_epsilon,\n",
        "      rotation_range=rotation_range,                 # randomly rotate image by 10 degrees\n",
        "      width_shift_range=width_shift_range,\n",
        "      height_shift_range=height_shift_range,\n",
        "      brightness_range=brightness_range,\n",
        "      shear_range=shear_range,                       # distort image along an axis mostly to create or recify the perception angles     \n",
        "      zoom_range=zoom_range,                         # zomming image: zoom_range > 1 => zoom out, zoom_range < 1 => zoom in\n",
        "      channel_shift_range=channel_shift_range,                       \n",
        "      fill_mode='nearest',                           # when the image is rotated, some pixels will move outside the image and leave an empty area that needs to be filled in, 'nearest': simply replace the empty area with the nearest spectral values.\n",
        "      cval=cval,\n",
        "      horizontal_flip=horizontal_flip,\n",
        "      vertical_flip=vertical_flip,\n",
        "      rescale=rescale)                               # rescale=1./255\n",
        "\n",
        "  without_aug_datagen = ImageDataGenerator(\n",
        "      featurewise_center = True,                     \n",
        "      featurewise_std_normalization = True)\n",
        "  \n",
        "# =================================================================\n",
        "  if with_augmented_images:\n",
        "    train_data_generator = with_aug_datagen.flow_from_dataframe(\n",
        "        train_generator,\n",
        "        directory = None,\n",
        "        x_col =  'path',\n",
        "        y_col =  'label',\n",
        "        weight_col=None,\n",
        "        target_size=(50, 50),\n",
        "        color_mode=\"grayscale\",\n",
        "        class_mode=\"categorical\",\n",
        "        batch_size=32,\n",
        "        shuffle=True,\n",
        "        seed=1234\n",
        "        # validate_filenames=True\n",
        "    )\n",
        "  else:\n",
        "    train_data_generator = without_aug_datagen.flow_from_dataframe(\n",
        "        train_generator,\n",
        "        directory = None,\n",
        "        x_col =  'path',\n",
        "        y_col =  'label',\n",
        "        weight_col=None,\n",
        "        target_size=(50, 50),\n",
        "        color_mode=\"grayscale\",\n",
        "        class_mode=\"categorical\",\n",
        "        batch_size=32,\n",
        "        shuffle=True,\n",
        "        seed=1234\n",
        "        # validate_filenames=True\n",
        "    )\n",
        "\n",
        "  validation_data_generator = without_aug_datagen.flow_from_dataframe(\n",
        "      val_generator,\n",
        "      directory = None,\n",
        "      x_col =  'path',\n",
        "      y_col =  'label',\n",
        "      weight_col=None,\n",
        "      target_size=(50, 50),\n",
        "      color_mode=\"grayscale\",\n",
        "      class_mode=\"categorical\",\n",
        "      batch_size=32,\n",
        "      shuffle=True,\n",
        "      seed=1234\n",
        "      # validate_filenames=True\n",
        "  )\n",
        "\n",
        "  test_data_generator = without_aug_datagen.flow_from_dataframe(\n",
        "      test_generator,\n",
        "      directory = None,\n",
        "      x_col =  'path',\n",
        "      y_col =  'label',\n",
        "      weight_col=None,\n",
        "      target_size=(50, 50),\n",
        "      color_mode=\"grayscale\",\n",
        "      class_mode=\"categorical\",\n",
        "      batch_size=32,\n",
        "      shuffle=False,              # Kesha set to shuffle=True but we don't want to shuffle our testing data around, which it does so by default\n",
        "      seed=1234\n",
        "      # validate_filenames=True\n",
        "  )\n",
        "  return train_data_generator, validation_data_generator, test_data_generator\n",
        "\n",
        "# train_data_generator, validation_data_generator, test_data_generator = data_generator(with_augmented_images=False)"
      ],
      "metadata": {
        "id": "eC0S3je4Jnwb"
      },
      "execution_count": 20,
      "outputs": []
    },
    {
      "cell_type": "markdown",
      "source": [
        "# Build CNN Model"
      ],
      "metadata": {
        "id": "I19l1YOYsfOG"
      }
    },
    {
      "cell_type": "code",
      "source": [
        "img_height = 50\n",
        "img_width = 50\n",
        "img_channel = 1\n",
        "input_shape = (img_height, img_width, img_channel)"
      ],
      "metadata": {
        "id": "OQcHdDdYJnol"
      },
      "execution_count": 21,
      "outputs": []
    },
    {
      "cell_type": "code",
      "source": [
        "from keras.layers import ReLU, LeakyReLU\n",
        "\n",
        "# 'Adadelta', 'Adagrad', 'Adam', 'RMSprop', 'SGD'\n",
        "#  Tanh, Leaky ReLU, Parametric ReLU, ELU, GELU, SELU, Swish \n",
        "def build_cnn(kernel_size = (3,3),\n",
        "              strides = (1,1),\n",
        "              pool_size = (2,2),\n",
        "              learning_rate = 0.001,\n",
        "              optimizer = 'Adam',\n",
        "              activation = 'relu',\n",
        "              average_over_position=True,\n",
        "              batch_normalization=True,\n",
        "              dropout_layer=True,\n",
        "              dropout_rate=0.5, \n",
        "              filters_1=32,\n",
        "              filters_2=64,\n",
        "              filters_3=128,\n",
        "              dense_units=256,\n",
        "              conv_layer_2=True,\n",
        "              conv_layer_3=True):    \n",
        "\n",
        "  tf.keras.backend.clear_session()\n",
        "  tf.random.set_seed(0)\n",
        "\n",
        "  model = tf.keras.Sequential()\n",
        "  model.add(Conv2D(filters=filters_1, kernel_size=kernel_size, padding='same', activation=activation.lower(), input_shape = input_shape))\n",
        "\n",
        "  def have_batch_normalization(batch_normalization):\n",
        "    if batch_normalization:\n",
        "      model.add(BatchNormalization())\n",
        "\n",
        "  def nn_layer(average_over_position):\n",
        "    if average_over_position:\n",
        "      model.add(AveragePooling2D())\n",
        "    else:\n",
        "      model.add(MaxPooling2D(pool_size=pool_size, strides=strides))\n",
        "  \n",
        "  def have_dropout(dropout_layer):\n",
        "    if dropout_layer:\n",
        "      model.add(Dropout(dropout_rate))\n",
        "\n",
        "  def selected_optimizer(optimizer):\n",
        "    if optimizer.lower() == 'sgd':\n",
        "        return SGD(learning_rate=learning_rate)           # SGD(learning_rate=learning_rate, momentum=0.95, decay=1, nesterov=True)\n",
        "    elif optimizer.lower() == 'adam':\n",
        "        return Adam(learning_rate=learning_rate)          # Adam(learning_rate=learning_rate, beta_1=0.9, beta_2=0.999, epsilon=1e-8, kappa=1-1e-8)\n",
        "    elif optimizer.lower() == 'adadelta':\n",
        "        return Adadelta(learning_rate=learning_rate)      # Adadelta(learning_rate=learning_rate, rho=0.95, epsilon=1e-6)\n",
        "    elif optimizer.lower() == 'adagrad':\n",
        "        return Adagrad(learning_rate=learning_rate)       # Adagrad(learning_rate=learning_rate, epsilon=1e-6)\n",
        "    elif optimizer.lower() == 'rmsprop':\n",
        "        return RMSprop(learning_rate=learning_rate)       # RMSprop(learning_rate=learning_rate, rho=0.9, epsilon=1e-6)\n",
        "\n",
        "  if conv_layer_2:  \n",
        "    model.add(Conv2D(filters=filters_2, kernel_size=kernel_size, padding='same', activation=activation.lower()))\n",
        "    have_batch_normalization(batch_normalization)\n",
        "    nn_layer(average_over_position)\n",
        "    have_dropout(dropout_layer)\n",
        "\n",
        "  if conv_layer_3:\n",
        "    model.add(Conv2D(filters=filters_3, kernel_size=kernel_size, padding='same', activation=activation.lower()))\n",
        "    have_batch_normalization(batch_normalization)\n",
        "    nn_layer(average_over_position)\n",
        "    have_dropout(dropout_layer)\n",
        "\n",
        "  model.add(Flatten())\n",
        "  model.add(Dense(units = dense_units, activation = activation))\n",
        "  have_dropout(dropout_layer)\n",
        "  model.add(Dense(units = 2, activation = 'softmax'))          # output layer\n",
        "\n",
        "  model.compile(loss=CategoricalCrossentropy(from_logits=True), \n",
        "                optimizer=selected_optimizer(optimizer), \n",
        "                metrics=['accuracy'])\n",
        "\n",
        "  return model"
      ],
      "metadata": {
        "id": "-b-MQQn9Erwy"
      },
      "execution_count": 22,
      "outputs": []
    },
    {
      "cell_type": "code",
      "source": [
        "# model = build_cnn(kernel_size = (3,3),\n",
        "#               strides = (1,1),\n",
        "#               pool_size = (2,2),\n",
        "#               learning_rate = 0.001,\n",
        "#               optimizer = 'Adam',                # 'Adadelta', 'Adagrad', 'Adam', 'RMSprop', 'SGD'\n",
        "#               activation = 'relu',               # Tanh, Leaky ReLU, Parametric ReLU, ELU, GELU, SELU, Swish\n",
        "#               average_over_position=True,\n",
        "#               batch_normalization=True,\n",
        "#               dropout_layer=True,\n",
        "#               dropout_rate=0.5, \n",
        "#               filters_1=32,\n",
        "#               filters_2=64,\n",
        "#               filters_3=128,\n",
        "#               dense_units=256,\n",
        "#               conv_layer_2=True,\n",
        "#               conv_layer_3=True)\n",
        "# model.summary()"
      ],
      "metadata": {
        "id": "lj2jekrIkAHZ"
      },
      "execution_count": 23,
      "outputs": []
    },
    {
      "cell_type": "markdown",
      "source": [
        "# Run Experiments - Hyperparameter Tuning"
      ],
      "metadata": {
        "id": "LIkwGoQkh_Jk"
      }
    },
    {
      "cell_type": "code",
      "source": [
        "def train_and_evaluate(with_augmented_images=False,\n",
        "                      zca_whitening=False,\n",
        "                      zca_epsilon=1e-06,\n",
        "                      rotation_range=10,                             \n",
        "                      width_shift_range=0.0,\n",
        "                      height_shift_range=0.0,\n",
        "                      brightness_range=None,\n",
        "                      shear_range=0.2,                                  \n",
        "                      zoom_range=0.2,                                \n",
        "                      channel_shift_range=0.0,                       \n",
        "                      fill_mode='nearest',                           \n",
        "                      cval=0.0,\n",
        "                      horizontal_flip=True,\n",
        "                      vertical_flip=False,\n",
        "                      rescale=None,\n",
        "                      kernel_size = (3,3),\n",
        "                      strides = (1,1),\n",
        "                      pool_size = (2,2),\n",
        "                      learning_rate = 0.001,\n",
        "                      optimizer = 'Adam',                # 'Adadelta', 'Adagrad', 'Adam', 'RMSprop', 'SGD'\n",
        "                      activation = 'relu',               # Tanh, Leaky ReLU, Parametric ReLU, ELU, GELU, SELU, Swish\n",
        "                      average_over_position=True,\n",
        "                      batch_normalization=True,\n",
        "                      dropout_layer=True,\n",
        "                      dropout_rate=0.5, \n",
        "                      filters_1=32,\n",
        "                      filters_2=64,\n",
        "                      filters_3=128,\n",
        "                      dense_units=256,\n",
        "                      conv_layer_2=True,\n",
        "                      conv_layer_3=True,\n",
        "                      num_epochs=7):\n",
        "    \n",
        "    # preprocess the data \n",
        "    train_data_generator, validation_data_generator, test_data_generator = data_generator(\n",
        "                                                                              with_augmented_images = with_augmented_images,\n",
        "                                                                              zca_whitening = zca_whitening,\n",
        "                                                                              zca_epsilon = zca_epsilon,\n",
        "                                                                              rotation_range = rotation_range,                             \n",
        "                                                                              width_shift_range = width_shift_range,\n",
        "                                                                              height_shift_range = height_shift_range,\n",
        "                                                                              brightness_range = brightness_range,\n",
        "                                                                              shear_range = shear_range,                                  \n",
        "                                                                              zoom_range = zoom_range,                                \n",
        "                                                                              channel_shift_range = channel_shift_range,                       \n",
        "                                                                              fill_mode = fill_mode,                           \n",
        "                                                                              cval = cval,\n",
        "                                                                              horizontal_flip = horizontal_flip,\n",
        "                                                                              vertical_flip = vertical_flip,\n",
        "                                                                              rescale = rescale)\n",
        "    # Build model\n",
        "    model = build_cnn(kernel_size = kernel_size,\n",
        "              strides = strides,\n",
        "              pool_size = pool_size,\n",
        "              learning_rate = learning_rate,\n",
        "              optimizer = optimizer,                # 'Adadelta', 'Adagrad', 'Adam', 'RMSprop', 'SGD'\n",
        "              activation = activation,               # Tanh, Leaky ReLU, Parametric ReLU, ELU, GELU, SELU, Swish\n",
        "              average_over_position = average_over_position,\n",
        "              batch_normalization = batch_normalization,\n",
        "              dropout_layer = dropout_layer,\n",
        "              dropout_rate = dropout_rate, \n",
        "              filters_1 = filters_1,\n",
        "              filters_2 = filters_2,\n",
        "              filters_3 = filters_3,\n",
        "              dense_units = dense_units,\n",
        "              conv_layer_2 = conv_layer_2,\n",
        "              conv_layer_3 = conv_layer_3)\n",
        "    \n",
        "    # Train the model\n",
        "    print('\\nTraining...')\n",
        "    lr_reduce = ReduceLROnPlateau(monitor='val_accuracy', factor=0.1, min_delta=0.0001, patience=1, verbose=1)\n",
        "\n",
        "    file_path = 'weights.hdf5'    # save the weights and biases\n",
        "    checkpoint = ModelCheckpoint(file_path, monitor='val_accuracy', verbose=1, save_best_only=True, mode='max')\n",
        "    history = model.fit(train_data_generator,\n",
        "                      epochs=num_epochs,\n",
        "                      callbacks=[lr_reduce, checkpoint],\n",
        "                      validation_data = validation_data_generator)\n",
        "\n",
        "    \n",
        "    # Plot loss and accuracy on every epoch\n",
        "    hist = history.history\n",
        "    x_arr = np.arange(len(hist['loss'])) + 1\n",
        "\n",
        "    fig = plt.figure(figsize=(16,6))\n",
        "    ax = fig.add_subplot(1,2,1)\n",
        "    ax.plot(x_arr, hist['loss'], '-o', label='Train Loss')\n",
        "    ax.plot(x_arr, hist['val_loss'], '--<', label='Validation Loss')\n",
        "    ax.legend(fontsize=12)\n",
        "    ax.set_xlabel('Epoch', size=14)\n",
        "    ax.set_ylabel('Loss', size=14)\n",
        "    ax.set_title('Loss', size=20)\n",
        "\n",
        "    ax = fig.add_subplot(1,2,2)\n",
        "    ax.plot(x_arr, hist['accuracy'], '-o', label='Train Acc.')\n",
        "    ax.plot(x_arr, hist['val_accuracy'], '--<', label='Validation Acc.')\n",
        "    ax.legend(fontsize=12)\n",
        "    ax.set_xlabel('Epoch', size=14)\n",
        "    ax.set_ylabel('Accuracy', size=14)\n",
        "    ax.set_title('Accuracy', size=20);\n",
        "      \n",
        "    # Test accuracy - model.evaluate\n",
        "    test_accuracy = round(model.evaluate(test_data_generator, verbose=0,\n",
        "                             return_dict=True)['accuracy'], 2)\n",
        "    training_accuracy = round(history.history['accuracy'][-1], 2)\n",
        "    val_accuracy = round(history.history['val_accuracy'][-1], 2)\n",
        "    count_params = model.count_params()\n",
        "    print('test_accuracy: ', test_accuracy,\n",
        "          '\\ntraining_accuracy: ', training_accuracy,\n",
        "          '\\nval_accuracy: ', val_accuracy,\n",
        "          '\\ncount_params: ', f'{count_params:,}',\n",
        "          '\\nkernel_size', kernel_size,\n",
        "          '\\nstrides', strides,\n",
        "          '\\npool_size', pool_size,\n",
        "          '\\nlearning_rate', learning_rate,\n",
        "          '\\noptimizer', optimizer,                \n",
        "          '\\nactivation', activation,  \n",
        "          '\\nrescale', rescale,          \n",
        "          '\\naverage_over_position', average_over_position,\n",
        "          '\\nbatch_normalization', batch_normalization,\n",
        "          '\\ndropout_layer', dropout_layer,\n",
        "          '\\ndropout_rate', dropout_rate, \n",
        "          '\\nfilters_1', filters_1,\n",
        "          '\\nfilters_2', filters_2,\n",
        "          '\\nfilters_3', filters_3,\n",
        "          '\\ndense_units', dense_units,\n",
        "          '\\nconv_layer_2', conv_layer_2,\n",
        "          '\\nconv_layer_3', conv_layer_3,\n",
        "          '\\nnum_epochs', num_epochs,\n",
        "          '\\nwith_augmented_images', with_augmented_images,\n",
        "          '\\nzca_whitening', zca_whitening,\n",
        "          '\\nzca_epsilon', zca_epsilon,\n",
        "          '\\nrotation_range', rotation_range,                             \n",
        "          '\\nwidth_shift_range', width_shift_range,\n",
        "          '\\nheight_shift_range', height_shift_range,\n",
        "          '\\nbrightness_range', brightness_range,\n",
        "          '\\nshear_range', shear_range,                                  \n",
        "          '\\nzoom_range', zoom_range,                                \n",
        "          '\\nchannel_shift_range', channel_shift_range,                       \n",
        "          '\\nfill_mode', fill_mode,                           \n",
        "          '\\ncval', cval,\n",
        "          '\\nhorizontal_flip', horizontal_flip,\n",
        "          '\\nvertical_flip', vertical_flip)\n",
        "    \n",
        "\n",
        "    a = ['training_accuracy', 'val_accuracy', 'kernel_size']\n",
        "    b = [training_accuracy, val_accuracy, kernel_size]\n",
        "    df = pd.DataFrame({'0':a, '1':b}).T\n",
        "    df.rename(columns=df.iloc[0], inplace = True)\n",
        "\n",
        "    # model_summary = pd.DataFrame({'Model':training_accuracy,\n",
        "    #                             'Accuracy': val_accuracy,\n",
        "    #                             'Recall': kernel_size}, index=[0]) \n",
        "    \n",
        "    # optimizer = 'Adadelta', 'Adagrad', 'Adam', 'RMSprop', 'SGD'\n",
        "    # activation = Tanh, Leaky ReLU, Parametric ReLU, ELU, GELU, SELU, Swish\n",
        "    # experiments = pd.DataFrame({'test_accuracy: ', test_accuracy,\n",
        "          # 'training_accuracy': training_accuracy,\n",
        "          #                       'validation_accuracy': val_accuracy,\n",
        "          #                       'test_accuracy': test_accuracy,\n",
        "          #                       'num_params': f'{count_params:,}',\n",
        "          #                       'kernel_size': kernel_size,\n",
        "          #                       'strides': strides,\n",
        "          #                       'pool_size': pool_size,\n",
        "          #                       'learning_rate': learning_rate,\n",
        "          #                       'optimizer': optimizer,                \n",
        "          #                       'activation': activation,  \n",
        "          #                       'rescale': rescale}, index=[0])              \n",
        "          #                             'average_over_position': average_over_position,\n",
        "          #                             'batch_normalization': batch_normalization,\n",
        "          #                             'dropout_layer': dropout_layer,\n",
        "          #                             'dropout_rate': dropout_rate, \n",
        "          #                             'filters_1': filters_1,\n",
        "          #                             'filters_2': filters_2,\n",
        "          #                             'filters_3': filters_3,\n",
        "          #                             'dense_units': dense_units,\n",
        "          #                             'conv_layer_2': conv_layer_2,\n",
        "          #                             'conv_layer_3': conv_layer_3,\n",
        "          #                             'num_epochs': num_epochs,\n",
        "          #                             'with_augmented_images': with_augmented_images,\n",
        "          #                             'zca_whitening': zca_whitening,\n",
        "          #                             'zca_epsilon': zca_epsilon,\n",
        "          #                             'rotation_range': rotation_range,                             \n",
        "          #                             'width_shift_range': width_shift_range,\n",
        "          #                             'height_shift_range': height_shift_range,\n",
        "          #                             'brightness_range': brightness_range,\n",
        "          #                             'shear_range': shear_range,                                  \n",
        "          #                             'zoom_range': zoom_range,                                \n",
        "          #                             'channel_shift_range': channel_shift_range,                       \n",
        "          #                             'fill_mode': fill_mode,                           \n",
        "                                      # 'cval': cval,\n",
        "                                      # 'horizontal_flip': horizontal_flip,\n",
        "                                      # 'vertical_flip': vertical_flip,\n",
        "                                      \n",
        "    return df.iloc[1:, :].reset_index(drop=True)   \n",
        "\n",
        "train_and_evaluate(with_augmented_images=False,\n",
        "                      zca_whitening=False,\n",
        "                      zca_epsilon=1e-06,\n",
        "                      rotation_range=10,                             \n",
        "                      width_shift_range=0.0,\n",
        "                      height_shift_range=0.0,\n",
        "                      brightness_range=None,\n",
        "                      shear_range=0.2,                                  \n",
        "                      zoom_range=0.2,                                \n",
        "                      channel_shift_range=0.0,                       \n",
        "                      fill_mode='nearest',                           \n",
        "                      cval=0.0,\n",
        "                      horizontal_flip=True,\n",
        "                      vertical_flip=False,\n",
        "                      rescale=None,\n",
        "                      kernel_size = (3,3),\n",
        "                      strides = (1,1),\n",
        "                      pool_size = (2,2),\n",
        "                      learning_rate = 0.001,\n",
        "                      optimizer = 'Adam',                # 'Adadelta', 'Adagrad', 'Adam', 'RMSprop', 'SGD'\n",
        "                      activation = 'relu',               # Tanh, Leaky ReLU, Parametric ReLU, ELU, GELU, SELU, Swish\n",
        "                      average_over_position=True,\n",
        "                      batch_normalization=True,\n",
        "                      dropout_layer=True,\n",
        "                      dropout_rate=0.5, \n",
        "                      filters_1=32,\n",
        "                      filters_2=64,\n",
        "                      filters_3=128,\n",
        "                      dense_units=256,\n",
        "                      conv_layer_2=True,\n",
        "                      conv_layer_3=True,\n",
        "                      num_epochs=7)"
      ],
      "metadata": {
        "id": "GLERPgPrh-UK",
        "outputId": "d4c862fd-c915-42b9-fce7-c403c31d541d",
        "colab": {
          "base_uri": "https://localhost:8080/",
          "height": 1000
        }
      },
      "execution_count": 50,
      "outputs": [
        {
          "output_type": "stream",
          "name": "stdout",
          "text": [
            "Found 797 validated image filenames belonging to 2 classes.\n",
            "Found 197 validated image filenames belonging to 2 classes.\n",
            "Found 199 validated image filenames belonging to 2 classes.\n",
            "\n",
            "Training...\n",
            "Epoch 1/7\n",
            "25/25 [==============================] - ETA: 0s - loss: 1.5688 - accuracy: 0.6374\n",
            "Epoch 1: val_accuracy improved from -inf to 0.51777, saving model to weights.hdf5\n",
            "25/25 [==============================] - 4s 87ms/step - loss: 1.5688 - accuracy: 0.6374 - val_loss: 7.8724 - val_accuracy: 0.5178 - lr: 0.0010\n",
            "Epoch 2/7\n",
            "24/25 [===========================>..] - ETA: 0s - loss: 0.6071 - accuracy: 0.7007\n",
            "Epoch 2: val_accuracy improved from 0.51777 to 0.59898, saving model to weights.hdf5\n",
            "25/25 [==============================] - 2s 70ms/step - loss: 0.5992 - accuracy: 0.7064 - val_loss: 0.8116 - val_accuracy: 0.5990 - lr: 0.0010\n",
            "Epoch 3/7\n",
            "25/25 [==============================] - ETA: 0s - loss: 0.5659 - accuracy: 0.7503\n",
            "Epoch 3: ReduceLROnPlateau reducing learning rate to 0.00010000000474974513.\n",
            "\n",
            "Epoch 3: val_accuracy did not improve from 0.59898\n",
            "25/25 [==============================] - 2s 64ms/step - loss: 0.5659 - accuracy: 0.7503 - val_loss: 1.2366 - val_accuracy: 0.5685 - lr: 0.0010\n",
            "Epoch 4/7\n",
            "25/25 [==============================] - ETA: 0s - loss: 0.5411 - accuracy: 0.7578\n",
            "Epoch 4: ReduceLROnPlateau reducing learning rate to 1.0000000474974514e-05.\n",
            "\n",
            "Epoch 4: val_accuracy did not improve from 0.59898\n",
            "25/25 [==============================] - 2s 65ms/step - loss: 0.5411 - accuracy: 0.7578 - val_loss: 0.9532 - val_accuracy: 0.5279 - lr: 1.0000e-04\n",
            "Epoch 5/7\n",
            "25/25 [==============================] - ETA: 0s - loss: 0.5177 - accuracy: 0.7553\n",
            "Epoch 5: ReduceLROnPlateau reducing learning rate to 1.0000000656873453e-06.\n",
            "\n",
            "Epoch 5: val_accuracy did not improve from 0.59898\n",
            "25/25 [==============================] - 2s 65ms/step - loss: 0.5177 - accuracy: 0.7553 - val_loss: 0.7730 - val_accuracy: 0.5736 - lr: 1.0000e-05\n",
            "Epoch 6/7\n",
            "25/25 [==============================] - ETA: 0s - loss: 0.5246 - accuracy: 0.7691\n",
            "Epoch 6: val_accuracy improved from 0.59898 to 0.61421, saving model to weights.hdf5\n",
            "25/25 [==============================] - 2s 70ms/step - loss: 0.5246 - accuracy: 0.7691 - val_loss: 0.6679 - val_accuracy: 0.6142 - lr: 1.0000e-06\n",
            "Epoch 7/7\n",
            "25/25 [==============================] - ETA: 0s - loss: 0.5260 - accuracy: 0.7604\n",
            "Epoch 7: val_accuracy improved from 0.61421 to 0.68020, saving model to weights.hdf5\n",
            "25/25 [==============================] - 2s 70ms/step - loss: 0.5260 - accuracy: 0.7604 - val_loss: 0.6068 - val_accuracy: 0.6802 - lr: 1.0000e-06\n",
            "test_accuracy:  0.71 \n",
            "training_accuracy:  0.76 \n",
            "val_accuracy:  0.68 \n",
            "count_params:  4,812,802 \n",
            "kernel_size (3, 3) \n",
            "strides (1, 1) \n",
            "pool_size (2, 2) \n",
            "learning_rate 0.001 \n",
            "optimizer Adam \n",
            "activation relu \n",
            "rescale None \n",
            "average_over_position True \n",
            "batch_normalization True \n",
            "dropout_layer True \n",
            "dropout_rate 0.5 \n",
            "filters_1 32 \n",
            "filters_2 64 \n",
            "filters_3 128 \n",
            "dense_units 256 \n",
            "conv_layer_2 True \n",
            "conv_layer_3 True \n",
            "num_epochs 7 \n",
            "with_augmented_images False \n",
            "zca_whitening False \n",
            "zca_epsilon 1e-06 \n",
            "rotation_range 10 \n",
            "width_shift_range 0.0 \n",
            "height_shift_range 0.0 \n",
            "brightness_range None \n",
            "shear_range 0.2 \n",
            "zoom_range 0.2 \n",
            "channel_shift_range 0.0 \n",
            "fill_mode nearest \n",
            "cval 0.0 \n",
            "horizontal_flip True \n",
            "vertical_flip False\n",
            "df:\n",
            "   training_accuracy val_accuracy kernel_size\n",
            "1              0.76         0.68      (3, 3)\n"
          ]
        },
        {
          "output_type": "execute_result",
          "data": {
            "text/plain": [
              "  training_accuracy val_accuracy kernel_size\n",
              "0              0.76         0.68      (3, 3)"
            ],
            "text/html": [
              "\n",
              "  <div id=\"df-56217e08-813b-42ca-88dd-2ae76ee44bc7\">\n",
              "    <div class=\"colab-df-container\">\n",
              "      <div>\n",
              "<style scoped>\n",
              "    .dataframe tbody tr th:only-of-type {\n",
              "        vertical-align: middle;\n",
              "    }\n",
              "\n",
              "    .dataframe tbody tr th {\n",
              "        vertical-align: top;\n",
              "    }\n",
              "\n",
              "    .dataframe thead th {\n",
              "        text-align: right;\n",
              "    }\n",
              "</style>\n",
              "<table border=\"1\" class=\"dataframe\">\n",
              "  <thead>\n",
              "    <tr style=\"text-align: right;\">\n",
              "      <th></th>\n",
              "      <th>training_accuracy</th>\n",
              "      <th>val_accuracy</th>\n",
              "      <th>kernel_size</th>\n",
              "    </tr>\n",
              "  </thead>\n",
              "  <tbody>\n",
              "    <tr>\n",
              "      <th>0</th>\n",
              "      <td>0.76</td>\n",
              "      <td>0.68</td>\n",
              "      <td>(3, 3)</td>\n",
              "    </tr>\n",
              "  </tbody>\n",
              "</table>\n",
              "</div>\n",
              "      <button class=\"colab-df-convert\" onclick=\"convertToInteractive('df-56217e08-813b-42ca-88dd-2ae76ee44bc7')\"\n",
              "              title=\"Convert this dataframe to an interactive table.\"\n",
              "              style=\"display:none;\">\n",
              "        \n",
              "  <svg xmlns=\"http://www.w3.org/2000/svg\" height=\"24px\"viewBox=\"0 0 24 24\"\n",
              "       width=\"24px\">\n",
              "    <path d=\"M0 0h24v24H0V0z\" fill=\"none\"/>\n",
              "    <path d=\"M18.56 5.44l.94 2.06.94-2.06 2.06-.94-2.06-.94-.94-2.06-.94 2.06-2.06.94zm-11 1L8.5 8.5l.94-2.06 2.06-.94-2.06-.94L8.5 2.5l-.94 2.06-2.06.94zm10 10l.94 2.06.94-2.06 2.06-.94-2.06-.94-.94-2.06-.94 2.06-2.06.94z\"/><path d=\"M17.41 7.96l-1.37-1.37c-.4-.4-.92-.59-1.43-.59-.52 0-1.04.2-1.43.59L10.3 9.45l-7.72 7.72c-.78.78-.78 2.05 0 2.83L4 21.41c.39.39.9.59 1.41.59.51 0 1.02-.2 1.41-.59l7.78-7.78 2.81-2.81c.8-.78.8-2.07 0-2.86zM5.41 20L4 18.59l7.72-7.72 1.47 1.35L5.41 20z\"/>\n",
              "  </svg>\n",
              "      </button>\n",
              "      \n",
              "  <style>\n",
              "    .colab-df-container {\n",
              "      display:flex;\n",
              "      flex-wrap:wrap;\n",
              "      gap: 12px;\n",
              "    }\n",
              "\n",
              "    .colab-df-convert {\n",
              "      background-color: #E8F0FE;\n",
              "      border: none;\n",
              "      border-radius: 50%;\n",
              "      cursor: pointer;\n",
              "      display: none;\n",
              "      fill: #1967D2;\n",
              "      height: 32px;\n",
              "      padding: 0 0 0 0;\n",
              "      width: 32px;\n",
              "    }\n",
              "\n",
              "    .colab-df-convert:hover {\n",
              "      background-color: #E2EBFA;\n",
              "      box-shadow: 0px 1px 2px rgba(60, 64, 67, 0.3), 0px 1px 3px 1px rgba(60, 64, 67, 0.15);\n",
              "      fill: #174EA6;\n",
              "    }\n",
              "\n",
              "    [theme=dark] .colab-df-convert {\n",
              "      background-color: #3B4455;\n",
              "      fill: #D2E3FC;\n",
              "    }\n",
              "\n",
              "    [theme=dark] .colab-df-convert:hover {\n",
              "      background-color: #434B5C;\n",
              "      box-shadow: 0px 1px 3px 1px rgba(0, 0, 0, 0.15);\n",
              "      filter: drop-shadow(0px 1px 2px rgba(0, 0, 0, 0.3));\n",
              "      fill: #FFFFFF;\n",
              "    }\n",
              "  </style>\n",
              "\n",
              "      <script>\n",
              "        const buttonEl =\n",
              "          document.querySelector('#df-56217e08-813b-42ca-88dd-2ae76ee44bc7 button.colab-df-convert');\n",
              "        buttonEl.style.display =\n",
              "          google.colab.kernel.accessAllowed ? 'block' : 'none';\n",
              "\n",
              "        async function convertToInteractive(key) {\n",
              "          const element = document.querySelector('#df-56217e08-813b-42ca-88dd-2ae76ee44bc7');\n",
              "          const dataTable =\n",
              "            await google.colab.kernel.invokeFunction('convertToInteractive',\n",
              "                                                     [key], {});\n",
              "          if (!dataTable) return;\n",
              "\n",
              "          const docLinkHtml = 'Like what you see? Visit the ' +\n",
              "            '<a target=\"_blank\" href=https://colab.research.google.com/notebooks/data_table.ipynb>data table notebook</a>'\n",
              "            + ' to learn more about interactive tables.';\n",
              "          element.innerHTML = '';\n",
              "          dataTable['output_type'] = 'display_data';\n",
              "          await google.colab.output.renderOutput(dataTable, element);\n",
              "          const docLink = document.createElement('div');\n",
              "          docLink.innerHTML = docLinkHtml;\n",
              "          element.appendChild(docLink);\n",
              "        }\n",
              "      </script>\n",
              "    </div>\n",
              "  </div>\n",
              "  "
            ]
          },
          "metadata": {},
          "execution_count": 50
        },
        {
          "output_type": "display_data",
          "data": {
            "text/plain": [
              "<Figure size 1152x432 with 2 Axes>"
            ],
            "image/png": "[encoded data removed]"
          },
          "metadata": {
            "needs_background": "light"
          }
        }
      ]
    },
    {
      "cell_type": "markdown",
      "source": [
        "# c While Training the Model\n",
        "- **ReduceLROnPlateau**: A scheduling technique that monitors a particular quantity and decays the learning rate when the quantity is stop improving.\n",
        "- **ModelCheckpoint**: A sch\n",
        "- **BatchNormalization**: A feature that we add between the layers of neural network and it continuously takes the output from the previous layer and normalizes it before sending it to the next layer thereby helping stablizing the NN"
      ],
      "metadata": {
        "id": "VSOHSO4Mbyk6"
      }
    },
    {
      "cell_type": "code",
      "source": [
        "# def model_fit(model, train_data_generator, validation_data_generator, epochs=7):  \n",
        "#   lr_reduce = ReduceLROnPlateau(monitor='val_accuracy', factor=0.1, min_delta=0.0001, patience=1, verbose=1)\n",
        "\n",
        "#   file_path = 'weights.hdf5'    # save the weights and biases\n",
        "#   checkpoint = ModelCheckpoint(file_path, monitor='val_accuracy', verbose=1, save_best_only=True, mode='max')\n",
        "#   history = model.fit(train_data_generator,\n",
        "#                     epochs=epochs,\n",
        "#                     callbacks=[lr_reduce, checkpoint],\n",
        "#                     validation_data = validation_data_generator)\n",
        "#   return history"
      ],
      "metadata": {
        "id": "1aK-mML9JnID"
      },
      "execution_count": null,
      "outputs": []
    },
    {
      "cell_type": "code",
      "source": [
        "def model_fit_and_plot_loss_acc(epochs=7):\n",
        "  history = model_fit(model, train_data_generator, validation_data_generator, epochs=epochs)\n",
        "  hist = history.history\n",
        "  x_arr = np.arange(len(hist['loss'])) + 1\n",
        "\n",
        "  fig = plt.figure(figsize=(16,6))\n",
        "  ax = fig.add_subplot(1,2,1)\n",
        "  ax.plot(x_arr, hist['loss'], '-o', label='Train Loss')\n",
        "  ax.plot(x_arr, hist['val_loss'], '--<', label='Validation Loss')\n",
        "  ax.legend(fontsize=12)\n",
        "  ax.set_xlabel('Epoch', size=14)\n",
        "  ax.set_ylabel('Loss', size=14)\n",
        "  ax.set_title('Loss', size=20)\n",
        "\n",
        "  ax = fig.add_subplot(1,2,2)\n",
        "  ax.plot(x_arr, hist['accuracy'], '-o', label='Train Acc.')\n",
        "  ax.plot(x_arr, hist['val_accuracy'], '--<', label='Validation Acc.')\n",
        "  ax.legend(fontsize=12)\n",
        "  ax.set_xlabel('Epoch', size=14)\n",
        "  ax.set_ylabel('Accuracy', size=14)\n",
        "  ax.set_title('Accuracy', size=20);\n",
        "\n",
        "  print('train_acc: ', round(history.history['accuracy'][-1], 2))\n",
        "  print('val_acc: ', round(history.history['val_accuracy'][-1], 2))\n",
        "    # val_acc = history.history['val_accuracy'])\n",
        "\n",
        "model_fit_and_plot_loss_acc(epochs=8)"
      ],
      "metadata": {
        "id": "v1a4RY1gK5kg"
      },
      "execution_count": null,
      "outputs": []
    },
    {
      "cell_type": "code",
      "source": [
        "def model_evaluate(model, train_data_generator, test_data_generator):\n",
        "  eval_train = model.evaluate(train_data_generator)\n",
        "  print(f'Train Accuracy: {eval_train[1]*100:.2f}%')\n",
        "  print()\n",
        "  eval_test = model.evaluate(test_data_generator)\n",
        "  print(f'Test Accuracy: {eval_test[1]*100:.2f}%\\n')\n",
        "\n",
        "model_evaluate(model, train_data_generator, test_data_generator)"
      ],
      "metadata": {
        "id": "YEAMNOELK5bA"
      },
      "execution_count": null,
      "outputs": []
    },
    {
      "cell_type": "markdown",
      "source": [
        "- **Cohen Kappa:**</font> a score that expresses the level of agreement between Observed Accuracy with an Expected Accuracy (random chance). value <= 0 means *no agreement* and close to 1 means almsot perfect agreement (the higher ck value, the higher agreement between the OA and EA. \n",
        "- **Zero-One Loss:**</font> return the fraction of misclassifications (float), else it returns the number of misclassifications (int). The best performance is 0."
      ],
      "metadata": {
        "id": "OgDOJv4CAXuw"
      }
    },
    {
      "cell_type": "code",
      "source": [
        "from sklearn.model_selection import cross_val_score\n",
        "from sklearn.metrics import confusion_matrix, precision_score, recall_score, accuracy_score, f1_score, classification_report\n",
        "\n",
        "def error_analysis(model_name, model, test_labels, test_data_generator):\n",
        "  num_of_test_samples = len(test_labels)\n",
        "  batch_size = 32\n",
        "  classes = ['Non-IDC(0)','IDC(1)']\n",
        "\n",
        "  y_true = test_data_generator.classes\n",
        "  y_pred = model.predict_generator(test_data_generator, num_of_test_samples // batch_size + 1)\n",
        "  y_pred = np.argmax(y_pred, axis=1)     # return the indicies of the max values along the axis (axis=1: each row)\n",
        "\n",
        "  # Confusion matrix  \n",
        "  conf_max = confusion_matrix(y_true, y_pred)\n",
        "  perf_conf_max = conf_max.astype('float')/conf_max.sum(axis=1)[:np.newaxis]*100\n",
        "  df_perf_conf_max = pd.DataFrame(perf_conf_max, index=classes, columns=classes)\n",
        "\n",
        "  plt.figure(figsize=(6,5))\n",
        "  sns.heatmap(df_perf_conf_max, annot=True, cmap='coolwarm', annot_kws={'fontsize':16}, linewidth=0.5, fmt='.0f')  \n",
        "  plt.xlabel('Predicted Label', fontsize=14)\n",
        "  plt.ylabel('True Label', fontsize=14)\n",
        "  plt.title('Confusion Matrix (%)', fontsize=15)\n",
        "  \n",
        "  # Classification report\n",
        "  print('=============== Classification Report ===============\\n\\n', classification_report(y_true, y_pred, target_names=['Non-IDC', 'IDC']), '\\n=====================================================\\n')\n",
        "  \n",
        "  # Cross validation score\n",
        "  # cv = ShuffleSplit(n_splits=100, test_size=.25, random_state=0)\n",
        "  # cv_score = np.median(cross_val_score(model, y_true, y_pred, cv=cv))*100\n",
        "  # print('cv_score = ',cv_score)\n",
        "\n",
        "  # Precision, recall, and f1_score\n",
        "  tn, fp, fn, tp = confusion_matrix(y_true, y_pred).ravel()     # np.ravel(): returns contiguous flattened array (1D array with all the input-array elements and with the same type as it)\n",
        "  accuracy = round(accuracy_score(y_true, y_pred), 2)\n",
        "  precision = round(precision_score(y_true, y_pred), 2)\n",
        "  recall = round(tp/(tp+fn), 2)\n",
        "  f1score = round((2*precision*recall)/(precision+recall), 2)\n",
        "\n",
        "  # cohen_kappa score and zero_one loss\n",
        "  cohen_kappa = round(cohen_kappa_score(y_true, y_pred), 2)\n",
        "  zo_loss = round(zero_one_loss(y_true, y_pred), 2)\n",
        "\n",
        "  # Area under the ROC cuver\n",
        "  roc_log = roc_auc_score(y_true, y_pred)\n",
        "  false_positive_rate, true_positive_rate, threshold = roc_curve(y_true, y_pred)\n",
        "  area_under_curve = round(auc(false_positive_rate, true_positive_rate), 2)\n",
        "\n",
        "  plt.figure(figsize=(6,5))\n",
        "  plt.plot([0, 1], [0, 1], 'r--')  \n",
        "  plt.plot(false_positive_rate, true_positive_rate, label='ROC-AUC = {:.2f}'.format(area_under_curve))  \n",
        "  plt.xlabel('False positive rate', fontsize=14)\n",
        "  plt.ylabel('True positive rate', fontsize=14)\n",
        "  plt.title('ROC Curve', fontsize=18)\n",
        "  plt.legend(loc='best')\n",
        "  plt.show()\n",
        "  # plt.savefig(ROC_PLOT_FILE, bbox_inches='tight')\n",
        "  plt.close()\n",
        "\n",
        "  model_summary = pd.DataFrame({'Model':model_name,\n",
        "                                'Zero-One Loss': zo_loss}, index=[0]) \n",
        "  return model_summary\n",
        "  \n",
        "error_analysis('CNN', model, test_labels, test_data_generator)"
      ],
      "metadata": {
        "id": "Ecu2NAgsjmPp"
      },
      "execution_count": null,
      "outputs": []
    },
    {
      "cell_type": "markdown",
      "source": [
        "# Transfer Learning\n",
        "- **ResNet152V2**\n",
        "- **VGG16**\n",
        "- **VGG19**"
      ],
      "metadata": {
        "id": "BvAUHEGdGpLk"
      }
    },
    {
      "cell_type": "code",
      "source": [
        "from tensorflow.keras.applications import ResNet152V2, VGG16, VGG19\n",
        "\n",
        "# https://keras.io/api/applications/\n",
        "tf.keras.backend.clear_session()\n",
        "tf.random.set_seed(1234)\n",
        "\n",
        "input_shape = (50,50,3)\n",
        "vgg16_base_model = VGG16(input_shape=input_shape, include_top=False, weights='imagenet')\n",
        "vgg19_base_model = VGG19(input_shape=input_shape, include_top=False, weights='imagenet')\n",
        "resnet_base_model = ResNet152V2(input_shape=input_shape, include_top=False, weights='imagenet')\n",
        "\n",
        "# vgg16_base_model.summary()\n",
        "# vgg19_base_model.summary()\n",
        "# resnet_base_model.summary()"
      ],
      "metadata": {
        "id": "eo-HTvErGn6D"
      },
      "execution_count": null,
      "outputs": []
    },
    {
      "cell_type": "code",
      "source": [
        "def build_cnn_tl(model_tl):\n",
        "  return tf.keras.Sequential([\n",
        "                           model_tl,                           \n",
        "                           Flatten(),\n",
        "\n",
        "                           Dense(units = 1024, activation = 'relu'),\n",
        "                           BatchNormalization(),                           \n",
        "                           Dropout(rate=0.5),\n",
        "\n",
        "                           Dense(units = 128, activation = 'relu'),\n",
        "                           BatchNormalization(),                           \n",
        "                           Dropout(rate=0.4),\n",
        "\n",
        "                           Dense(units = 2, activation = 'softmax')\n",
        "])  "
      ],
      "metadata": {
        "id": "RO1VFoNBJhVH"
      },
      "execution_count": null,
      "outputs": []
    },
    {
      "cell_type": "code",
      "source": [
        "# freeze initial layer of the network, making only the fully connected layer we added trainable\n",
        "vgg16_base_model.trainable = False\n",
        "vgg19_base_model.trainable = False\n",
        "resnet_base_model.trainable = False\n",
        "\n",
        "# run each model\n",
        "model_vgg16 = build_cnn_tl(vgg16_base_model)\n",
        "model_vgg19 = build_cnn_tl(vgg19_base_model)\n",
        "model_resnet = build_cnn_tl(resnet_base_model)"
      ],
      "metadata": {
        "id": "rA2dAeLpWPKD"
      },
      "execution_count": null,
      "outputs": []
    },
    {
      "cell_type": "code",
      "source": [
        "def model_compile_tl(model_tl, optimizer='Adam', learning_rate = 0.001):\n",
        "  # select optimizer\n",
        "  def selected_optimizer(optimizer):\n",
        "      if optimizer.lower() == 'sgd':\n",
        "          return SGD(learning_rate=learning_rate)\n",
        "      if optimizer.lower() == 'adam':\n",
        "          return Adam(learning_rate=learning_rate)\n",
        "\n",
        "  model_tl.compile(optimizer=selected_optimizer(optimizer), \n",
        "                      loss=keras.losses.categorical_crossentropy, \n",
        "                      metrics=['accuracy'])\n",
        "  model_tl.summary()\n",
        "  return model_tl\n",
        "\n",
        "model_vgg16 = model_compile_tl(model_vgg16, optimizer='Adam', learning_rate = 0.001)\n",
        "# model_vgg19 = model_compile_tl(model_vgg19, optimizer='Adam', learning_rate = 0.001)\n",
        "model_resnet = model_compile_tl(model_resnet, optimizer='Adam', learning_rate = 0.001)"
      ],
      "metadata": {
        "id": "SoRNd0QyXCSy"
      },
      "execution_count": null,
      "outputs": []
    },
    {
      "cell_type": "code",
      "source": [
        "# def model_fit_tl(model_tl, train_data_generator, validation_data_generator, epochs=10):\n",
        "#   lr_reduce = ReduceLROnPlateau(monitor='val_accuracy', factor=0.1, min_delta=0.0001, patience=1, verbose=1)\n",
        "\n",
        "#   file_path = 'weights.hdf5'    # save the weights and biases\n",
        "#   checkpoint = ModelCheckpoint(file_path, monitor='val_accuracy', verbose=1, save_best_only=True, mode='max')\n",
        "\n",
        "#   history = model_tl.fit(np.repeat(train_data_generator, 3, -1),\n",
        "#                   epochs = epochs,\n",
        "#                   callbacks = [lr_reduce, checkpoint],\n",
        "#                   validation_data = np.repeat(validation_data_generator, 3, -1))\n",
        "#   return history\n",
        "# history_tl = model_fit_tl(model_vgg16, train_data_generator, validation_data_generator, 10)"
      ],
      "metadata": {
        "id": "3Qt3ZM7nzh3g"
      },
      "execution_count": null,
      "outputs": []
    },
    {
      "cell_type": "code",
      "source": [
        "# def model_fit_and_plot_loss_acc(model_tl):\n",
        "#   history = model_fit_tl(model_tl, train_data_generator, validation_data_generator, 10)\n",
        "#   hist = history.history\n",
        "#   x_arr = np.arange(len(hist['loss'])) + 1\n",
        "\n",
        "#   fig = plt.figure(figsize=(16,6))\n",
        "#   ax = fig.add_subplot(1,2,1)\n",
        "#   ax.plot(x_arr, hist['loss'], '-o', label='Train Loss')\n",
        "#   ax.plot(x_arr, hist['val_loss'], '--<', label='Validation Loss')\n",
        "#   ax.legend(fontsize=12)\n",
        "#   ax.set_xlabel('Epoch', size=14)\n",
        "#   ax.set_ylabel('Loss', size=14)\n",
        "#   ax.set_title('Loss', size=20)\n",
        "\n",
        "#   ax = fig.add_subplot(1,2,2)\n",
        "#   ax.plot(x_arr, hist['accuracy'], '-o', label='Train Acc.')\n",
        "#   ax.plot(x_arr, hist['val_accuracy'], '--<', label='Validation Acc.')\n",
        "#   ax.legend(fontsize=12)\n",
        "#   ax.set_xlabel('Epoch', size=14)\n",
        "#   ax.set_ylabel('Accuracy', size=14)\n",
        "#   ax.set_title('Accuracy', size=20);\n",
        "\n",
        "# # model_fit_and_plot_loss_acc(model_vgg16)\n",
        "# # model_fit_and_plot_loss_acc(model_vgg19)\n",
        "# model_fit_and_plot_loss_acc(model_vgg16)"
      ],
      "metadata": {
        "id": "KEg8SJsb-L2g"
      },
      "execution_count": null,
      "outputs": []
    },
    {
      "cell_type": "code",
      "source": [
        "# model_compile_tl(model_resnet, optimizer='Adam', learning_rate = 0.001)\n",
        "# model_fit_tl(model_resnet, train_data_generator, validation_data_generator, epochs=7)\n",
        "# plot_loss_acc(history_tl)\n",
        "# model_evaluate(model_resnet, train_data_generator, test_data_generator)\n",
        "# error_analysis(test_labels, test_data_generator)"
      ],
      "metadata": {
        "id": "7aLGM0Ya2VFw"
      },
      "execution_count": null,
      "outputs": []
    },
    {
      "cell_type": "code",
      "source": [
        "# plot_loss_acc(history_tl)"
      ],
      "metadata": {
        "id": "w2oFzLEpXN9B"
      },
      "execution_count": null,
      "outputs": []
    },
    {
      "cell_type": "code",
      "source": [
        "# model_evaluate(model_resnet, train_data_generator, test_data_generator)"
      ],
      "metadata": {
        "id": "OCISMTYyXakg"
      },
      "execution_count": null,
      "outputs": []
    },
    {
      "cell_type": "code",
      "source": [
        "# error_analysis(test_labels, test_data_generator)"
      ],
      "metadata": {
        "id": "mTkPSXVaYYr7"
      },
      "execution_count": null,
      "outputs": []
    }
  ]
}