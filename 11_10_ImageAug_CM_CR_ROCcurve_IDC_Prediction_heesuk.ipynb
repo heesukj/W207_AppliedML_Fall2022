{
  "nbformat": 4,
  "nbformat_minor": 0,
  "metadata": {
    "colab": {
      "provenance": [],
      "collapsed_sections": [],
      "include_colab_link": true
    },
    "kernelspec": {
      "name": "python3",
      "display_name": "Python 3"
    },
    "language_info": {
      "name": "python"
    },
    "accelerator": "GPU",
    "gpuClass": "premium"
  },
  "cells": [
    {
      "cell_type": "markdown",
      "metadata": {
        "id": "view-in-github",
        "colab_type": "text"
      },
      "source": [
        "<a href=\"https://colab.research.google.com/github/heesukjang/W207_AppliedML_Fall2022/blob/main/11_10_ImageAug_CM_CR_ROCcurve_IDC_Prediction_heesuk.ipynb\" target=\"_parent\"><img src=\"https://colab.research.google.com/assets/colab-badge.svg\" alt=\"Open In Colab\"/></a>"
      ]
    },
    {
      "cell_type": "markdown",
      "source": [
        "## FALL 2022<br>\n",
        "W207 Applied Machine Learning<br>\n",
        "Heesuk Jang\n",
        " \n",
        "\n",
        "#Predicting IDC with Breast Histopathology Images using CNN\n",
        "\n"
      ],
      "metadata": {
        "id": "5DebDWCL0KeL"
      }
    },
    {
      "cell_type": "code",
      "execution_count": 1,
      "metadata": {
        "id": "SRkZHKoWswZT",
        "colab": {
          "base_uri": "https://localhost:8080/"
        },
        "outputId": "45b9912a-c8bf-455c-fd45-9a3c5c74f3dc"
      },
      "outputs": [
        {
          "output_type": "stream",
          "name": "stdout",
          "text": [
            "Drive already mounted at /content/gdrive; to attempt to forcibly remount, call drive.mount(\"/content/gdrive\", force_remount=True).\n"
          ]
        }
      ],
      "source": [
        "import pandas as pd\n",
        "import numpy as np\n",
        "import os\n",
        "import re\n",
        "import random\n",
        "import joblib\n",
        "import glob\n",
        "import itertools\n",
        "\n",
        "import matplotlib.pyplot as plt\n",
        "import seaborn as sns\n",
        "import plotly.express as px\n",
        "import matplotlib.patches as patches\n",
        "\n",
        "from sklearn.utils import shuffle\n",
        "from sklearn.ensemble import GradientBoostingClassifier, AdaBoostClassifier, RandomForestClassifier\n",
        "from sklearn.model_selection import train_test_split, GridSearchCV\n",
        "from scipy import stats\n",
        "from collections import Counter\n",
        "from sklearn import preprocessing\n",
        "from sklearn.preprocessing import StandardScaler\n",
        "from sklearn.metrics import *                            # confusion_matrix, log_loss, accuracy_score\n",
        "from sklearn.model_selection import *                    # train_test_split\n",
        "from sklearn.tree import DecisionTreeClassifier\n",
        "from sklearn.naive_bayes import GaussianNB\n",
        "from sklearn import preprocessing\n",
        "from sklearn.preprocessing import *\n",
        "# from sklearn.ensemble import *\n",
        "from sklearn.svm import *\n",
        "from sklearn.linear_model import *                       # LinearRegression\n",
        "from sklearn.discriminant_analysis import *\n",
        "from sklearn.neighbors import KNeighborsClassifier\n",
        "from mlxtend.plotting import plot_decision_regions\n",
        "\n",
        "import tensorflow as tf\n",
        "from tensorflow import keras\n",
        "from keras import metrics\n",
        "from tensorflow.keras import initializers\n",
        "from tensorflow.keras.preprocessing.image import ImageDataGenerator\n",
        "from tensorflow.keras.layers import RandomFlip, RandomZoom, RandomRotation, Conv2D, MaxPooling2D, AveragePooling2D, Input, Dense, Flatten, Dropout, BatchNormalization, GlobalAveragePooling2D\n",
        "from tensorflow.keras.losses import BinaryCrossentropy, CategoricalCrossentropy\n",
        "from tensorflow.keras.models import Sequential\n",
        "from tensorflow.keras.optimizers import Adam, SGD, Adadelta, Adagrad, RMSprop\n",
        "from keras.layers import ReLU, LeakyReLU\n",
        "from tensorflow.keras.callbacks import ReduceLROnPlateau, ModelCheckpoint\n",
        "\n",
        "from sklearn.metrics import roc_auc_score, auc\n",
        "from sklearn.metrics import roc_curve\n",
        "\n",
        "tf.get_logger().setLevel('INFO')\n",
        "\n",
        "import cv2 as cv\n",
        "import skimage.io as io\n",
        "\n",
        "import warnings\n",
        "warnings.filterwarnings('ignore')\n",
        "\n",
        "# Required to read the data from Kaggle\n",
        "from google.colab import drive\n",
        "# drive.mount('/content/gdrive')\n",
        "# os.environ['KAGGLE_CONFIG_DIR'] = \"/content/gdrive/MyDrive/Kaggle\"\n",
        "\n",
        "from google.colab import drive\n",
        "drive.mount('/content/gdrive')\n",
        "\n",
        "import warnings\n",
        "warnings.simplefilter(\"ignore\", category=DeprecationWarning)"
      ]
    },
    {
      "cell_type": "markdown",
      "source": [
        "## Install Optuna and Version Check"
      ],
      "metadata": {
        "id": "2NlEwp6jmZsY"
      }
    },
    {
      "cell_type": "code",
      "source": [
        "# !pip install --quiet optuna\n",
        "import optuna\n",
        "optuna.__version__"
      ],
      "metadata": {
        "id": "vbF2pFtlbJaH",
        "outputId": "820bfd08-f236-4ea1-e9ea-b25dfbd93fcd",
        "colab": {
          "base_uri": "https://localhost:8080/",
          "height": 35
        }
      },
      "execution_count": 2,
      "outputs": [
        {
          "output_type": "execute_result",
          "data": {
            "text/plain": [
              "'3.0.3'"
            ],
            "application/vnd.google.colaboratory.intrinsic+json": {
              "type": "string"
            }
          },
          "metadata": {},
          "execution_count": 2
        }
      ]
    },
    {
      "cell_type": "markdown",
      "source": [
        "## Enabling and testing the GPU"
      ],
      "metadata": {
        "id": "2JC1sfIYmRuY"
      }
    },
    {
      "cell_type": "code",
      "source": [
        "import tensorflow as tf\n",
        "device_name = tf.test.gpu_device_name()\n",
        "if device_name != '/device:GPU:0':\n",
        "  raise SystemError('GPU device not found')\n",
        "print('Found GPU at: {}'.format(device_name))"
      ],
      "metadata": {
        "id": "lpo1_3kNlzoo",
        "outputId": "d2419079-8f4e-4aa5-b773-c6e7b6f1cbe1",
        "colab": {
          "base_uri": "https://localhost:8080/"
        }
      },
      "execution_count": 3,
      "outputs": [
        {
          "output_type": "stream",
          "name": "stdout",
          "text": [
            "Found GPU at: /device:GPU:0\n"
          ]
        }
      ]
    },
    {
      "cell_type": "markdown",
      "source": [
        "## Enabling and testing the TPU"
      ],
      "metadata": {
        "id": "s3LsW0cGnF8e"
      }
    },
    {
      "cell_type": "code",
      "source": [
        "# import tensorflow as tf\n",
        "# print(\"Tensorflow version \" + tf.__version__)\n",
        "\n",
        "# try:\n",
        "#   tpu = tf.distribute.cluster_resolver.TPUClusterResolver()  # TPU detection\n",
        "#   print('Running on TPU ', tpu.cluster_spec().as_dict()['worker'])\n",
        "# except ValueError:\n",
        "#   raise BaseException('ERROR: Not connected to a TPU runtime; please see the previous cell in this notebook for instructions!')\n",
        "\n",
        "# tf.config.experimental_connect_to_cluster(tpu)\n",
        "# tf.tpu.experimental.initialize_tpu_system(tpu)\n",
        "# tpu_strategy = tf.distribute.experimental.TPUStrategy(tpu)"
      ],
      "metadata": {
        "id": "FlEM5IxwnD4s"
      },
      "execution_count": 4,
      "outputs": []
    },
    {
      "cell_type": "markdown",
      "source": [
        "## Observe TensorFlow speedup on GPU relative to CPU"
      ],
      "metadata": {
        "id": "Xqgm8yAcmT7Q"
      }
    },
    {
      "cell_type": "code",
      "source": [
        "import tensorflow as tf\n",
        "import timeit\n",
        "\n",
        "device_name = tf.test.gpu_device_name()\n",
        "if device_name != '/device:GPU:0':\n",
        "  print(\n",
        "      '\\n\\nThis error most likely means that this notebook is not '\n",
        "      'configured to use a GPU.  Change this in Notebook Settings via the '\n",
        "      'command palette (cmd/ctrl-shift-P) or the Edit menu.\\n\\n')\n",
        "  raise SystemError('GPU device not found')\n",
        "\n",
        "def cpu():\n",
        "  with tf.device('/cpu:0'):\n",
        "    random_image_cpu = tf.random.normal((100, 100, 100, 3))\n",
        "    net_cpu = tf.keras.layers.Conv2D(32, 7)(random_image_cpu)\n",
        "    return tf.math.reduce_sum(net_cpu)\n",
        "\n",
        "def gpu():\n",
        "  with tf.device('/device:GPU:0'):\n",
        "    random_image_gpu = tf.random.normal((100, 100, 100, 3))\n",
        "    net_gpu = tf.keras.layers.Conv2D(32, 7)(random_image_gpu)\n",
        "    return tf.math.reduce_sum(net_gpu)\n",
        "  \n",
        "# We run each op once to warm up; see: https://stackoverflow.com/a/45067900\n",
        "cpu()\n",
        "gpu()\n",
        "\n",
        "# Run the op several times.\n",
        "print('Time (s) to convolve 32x7x7x3 filter over random 100x100x100x3 images '\n",
        "      '(batch x height x width x channel). Sum of ten runs.')\n",
        "print('CPU (s):')\n",
        "cpu_time = timeit.timeit('cpu()', number=10, setup=\"from __main__ import cpu\")\n",
        "print(cpu_time)\n",
        "print('GPU (s):')\n",
        "gpu_time = timeit.timeit('gpu()', number=10, setup=\"from __main__ import gpu\")\n",
        "print(gpu_time)\n",
        "print('GPU speedup over CPU: {}x'.format(int(cpu_time/gpu_time)))"
      ],
      "metadata": {
        "id": "obujFpYzmIgA",
        "outputId": "e3fde34d-c5da-4a03-ee0d-7eeea7a426ed",
        "colab": {
          "base_uri": "https://localhost:8080/"
        }
      },
      "execution_count": 5,
      "outputs": [
        {
          "output_type": "stream",
          "name": "stdout",
          "text": [
            "Time (s) to convolve 32x7x7x3 filter over random 100x100x100x3 images (batch x height x width x channel). Sum of ten runs.\n",
            "CPU (s):\n",
            "0.45968197899992447\n",
            "GPU (s):\n",
            "0.048032347999878766\n",
            "GPU speedup over CPU: 9x\n"
          ]
        }
      ]
    },
    {
      "cell_type": "code",
      "source": [
        "# !unzip gdrive/MyDrive/Kaggle/CNN_IDC/Dataset.zip\n",
        "\n",
        "#replace these paths with the paths of your \n",
        "val_image_directory = '/content/gdrive/MyDrive/Kaggle/CNN_IDC/Dataset/Validate'\n",
        "train_image_directory = '/content/gdrive/MyDrive/Kaggle/CNN_IDC/Dataset/Train'\n",
        "test_image_directory = '/content/gdrive/MyDrive/Kaggle/CNN_IDC/Dataset/Test'\n",
        "directory_path = '/content/gdrive/MyDrive/Kaggle/CNN_IDC'"
      ],
      "metadata": {
        "id": "uyWJuOkZuCVl"
      },
      "execution_count": 6,
      "outputs": []
    },
    {
      "cell_type": "code",
      "source": [
        "def get_paths(directory):\n",
        "  all_path = []\n",
        "  idc_image_path = []\n",
        "  idc_image_label = []\n",
        "\n",
        "  for dir, subdir, files in os.walk(directory):\n",
        "    path = dir + \"/\"\n",
        "    all_path.append(path)\n",
        "\n",
        "  for i in range(len(all_path)):\n",
        "    for file in os.listdir(all_path[i]):\n",
        "      test = file\n",
        "      path = all_path[i] + test\n",
        "      if path.lower().endswith('.png'):\n",
        "        idc_image_path.append(path)\n",
        "\n",
        "  for i in range(len(idc_image_path)):\n",
        "    split_test = idc_image_path[i]\n",
        "    split_path = split_test.split(\"/\")\n",
        "    directory_name = split_path[7]\n",
        "    idc_image_label.append('class_' + split_path[8])\n",
        "    # idc_image_label.append(str(split_path[8]))\n",
        "  return idc_image_path, idc_image_label, directory_name"
      ],
      "metadata": {
        "id": "N892xh1IM4q7"
      },
      "execution_count": 7,
      "outputs": []
    },
    {
      "cell_type": "code",
      "source": [
        "train_paths, train_labels, train_dir = get_paths(train_image_directory)\n",
        "val_paths, val_labels, val_dir = get_paths(val_image_directory)\n",
        "test_paths, test_labels, test_dir = get_paths(test_image_directory)"
      ],
      "metadata": {
        "id": "SJ6Cl4wtmxjO"
      },
      "execution_count": 8,
      "outputs": []
    },
    {
      "cell_type": "code",
      "source": [
        "print(train_labels[:5])\n",
        "print(train_labels[-5:])\n",
        "\n",
        "print(len(train_paths), len(train_labels))\n",
        "print(len(test_paths), len(test_labels))\n",
        "print(len(val_paths), len(val_labels))"
      ],
      "metadata": {
        "id": "NIf9ETAsmxa2",
        "outputId": "52ac68e9-90bd-4f90-c5af-8b0041dba985",
        "colab": {
          "base_uri": "https://localhost:8080/"
        }
      },
      "execution_count": 9,
      "outputs": [
        {
          "output_type": "stream",
          "name": "stdout",
          "text": [
            "['class_0', 'class_0', 'class_0', 'class_0', 'class_0']\n",
            "['class_1', 'class_1', 'class_1', 'class_1', 'class_1']\n",
            "800 800\n",
            "200 200\n",
            "200 200\n"
          ]
        }
      ]
    },
    {
      "cell_type": "code",
      "source": [
        "print(train_paths[:2])\n",
        "print(train_labels[:10])\n",
        "print(train_dir)"
      ],
      "metadata": {
        "id": "uCJzEwS8mxSR",
        "outputId": "1a0b7bce-6e98-4d73-8f7e-50a7a5de6b09",
        "colab": {
          "base_uri": "https://localhost:8080/"
        }
      },
      "execution_count": 10,
      "outputs": [
        {
          "output_type": "stream",
          "name": "stdout",
          "text": [
            "['/content/gdrive/MyDrive/Kaggle/CNN_IDC/Dataset/Train/0/12880_idx5_x451_y701_class0.png', '/content/gdrive/MyDrive/Kaggle/CNN_IDC/Dataset/Train/0/9345_idx5_x2001_y2001_class0.png']\n",
            "['class_0', 'class_0', 'class_0', 'class_0', 'class_0', 'class_0', 'class_0', 'class_0', 'class_0', 'class_0']\n",
            "Train\n"
          ]
        }
      ]
    },
    {
      "cell_type": "code",
      "source": [
        "def create_dataframes(idc_image_path, idc_image_label, directory_name):\n",
        "  same_name = directory_name.lower() + '_'\n",
        "  #creating the dataframes that we will be passing to our generators\n",
        "  idc_data_cleaned = {'path': idc_image_path,\n",
        "            'label': idc_image_label}\n",
        "  idc_df = pd.DataFrame(idc_data_cleaned)\n",
        "  df = idc_df.sample(frac = 1)\n",
        "  print(df)\n",
        "  csv_path = directory_path\n",
        "  csv_file = df.to_csv(csv_path + '/' + same_name + 'idc_dataframe.csv')\n",
        "  csv_file_path = csv_path + '/' + same_name + 'idc_dataframe.csv'\n",
        "  return csv_file_path"
      ],
      "metadata": {
        "id": "_WU9qt2RmxHZ"
      },
      "execution_count": 11,
      "outputs": []
    },
    {
      "cell_type": "code",
      "source": [
        "train_dataframe = create_dataframes(train_paths, train_labels, train_dir)\n",
        "print('type(train_dataframe): ',type(train_dataframe))\n",
        "train_dataframe"
      ],
      "metadata": {
        "id": "MJxUgm39NeU7",
        "outputId": "1d24ac52-f9d9-4a37-90d5-a0be6ac44e0b",
        "colab": {
          "base_uri": "https://localhost:8080/",
          "height": 303
        }
      },
      "execution_count": 12,
      "outputs": [
        {
          "output_type": "stream",
          "name": "stdout",
          "text": [
            "                                                  path    label\n",
            "441  /content/gdrive/MyDrive/Kaggle/CNN_IDC/Dataset...  class_1\n",
            "87   /content/gdrive/MyDrive/Kaggle/CNN_IDC/Dataset...  class_0\n",
            "463  /content/gdrive/MyDrive/Kaggle/CNN_IDC/Dataset...  class_1\n",
            "269  /content/gdrive/MyDrive/Kaggle/CNN_IDC/Dataset...  class_0\n",
            "716  /content/gdrive/MyDrive/Kaggle/CNN_IDC/Dataset...  class_1\n",
            "..                                                 ...      ...\n",
            "739  /content/gdrive/MyDrive/Kaggle/CNN_IDC/Dataset...  class_1\n",
            "250  /content/gdrive/MyDrive/Kaggle/CNN_IDC/Dataset...  class_0\n",
            "644  /content/gdrive/MyDrive/Kaggle/CNN_IDC/Dataset...  class_1\n",
            "735  /content/gdrive/MyDrive/Kaggle/CNN_IDC/Dataset...  class_1\n",
            "642  /content/gdrive/MyDrive/Kaggle/CNN_IDC/Dataset...  class_1\n",
            "\n",
            "[800 rows x 2 columns]\n",
            "type(train_dataframe):  <class 'str'>\n"
          ]
        },
        {
          "output_type": "execute_result",
          "data": {
            "text/plain": [
              "'/content/gdrive/MyDrive/Kaggle/CNN_IDC/train_idc_dataframe.csv'"
            ],
            "application/vnd.google.colaboratory.intrinsic+json": {
              "type": "string"
            }
          },
          "metadata": {},
          "execution_count": 12
        }
      ]
    },
    {
      "cell_type": "code",
      "source": [
        "train_dataframe = create_dataframes(train_paths, train_labels, train_dir)\n",
        "train_generator = pd.read_csv(train_dataframe)\n",
        "\n",
        "test_dataframe = create_dataframes(test_paths, test_labels, test_dir)\n",
        "test_generator = pd.read_csv(test_dataframe)\n",
        "\n",
        "val_dataframe = create_dataframes(val_paths, val_labels, val_dir)\n",
        "val_generator = pd.read_csv(val_dataframe)"
      ],
      "metadata": {
        "id": "hnDu_3N4mw1G",
        "outputId": "dffbd89b-6ec4-47f2-8ade-d7c260f4df90",
        "colab": {
          "base_uri": "https://localhost:8080/"
        }
      },
      "execution_count": 13,
      "outputs": [
        {
          "output_type": "stream",
          "name": "stdout",
          "text": [
            "                                                  path    label\n",
            "478  /content/gdrive/MyDrive/Kaggle/CNN_IDC/Dataset...  class_1\n",
            "230  /content/gdrive/MyDrive/Kaggle/CNN_IDC/Dataset...  class_0\n",
            "412  /content/gdrive/MyDrive/Kaggle/CNN_IDC/Dataset...  class_1\n",
            "305  /content/gdrive/MyDrive/Kaggle/CNN_IDC/Dataset...  class_0\n",
            "300  /content/gdrive/MyDrive/Kaggle/CNN_IDC/Dataset...  class_0\n",
            "..                                                 ...      ...\n",
            "221  /content/gdrive/MyDrive/Kaggle/CNN_IDC/Dataset...  class_0\n",
            "417  /content/gdrive/MyDrive/Kaggle/CNN_IDC/Dataset...  class_1\n",
            "388  /content/gdrive/MyDrive/Kaggle/CNN_IDC/Dataset...  class_0\n",
            "26   /content/gdrive/MyDrive/Kaggle/CNN_IDC/Dataset...  class_0\n",
            "789  /content/gdrive/MyDrive/Kaggle/CNN_IDC/Dataset...  class_1\n",
            "\n",
            "[800 rows x 2 columns]\n",
            "                                                  path    label\n",
            "150  /content/gdrive/MyDrive/Kaggle/CNN_IDC/Dataset...  class_1\n",
            "143  /content/gdrive/MyDrive/Kaggle/CNN_IDC/Dataset...  class_1\n",
            "186  /content/gdrive/MyDrive/Kaggle/CNN_IDC/Dataset...  class_1\n",
            "154  /content/gdrive/MyDrive/Kaggle/CNN_IDC/Dataset...  class_1\n",
            "35   /content/gdrive/MyDrive/Kaggle/CNN_IDC/Dataset...  class_0\n",
            "..                                                 ...      ...\n",
            "33   /content/gdrive/MyDrive/Kaggle/CNN_IDC/Dataset...  class_0\n",
            "42   /content/gdrive/MyDrive/Kaggle/CNN_IDC/Dataset...  class_0\n",
            "188  /content/gdrive/MyDrive/Kaggle/CNN_IDC/Dataset...  class_1\n",
            "160  /content/gdrive/MyDrive/Kaggle/CNN_IDC/Dataset...  class_1\n",
            "172  /content/gdrive/MyDrive/Kaggle/CNN_IDC/Dataset...  class_1\n",
            "\n",
            "[200 rows x 2 columns]\n",
            "                                                  path    label\n",
            "45   /content/gdrive/MyDrive/Kaggle/CNN_IDC/Dataset...  class_0\n",
            "139  /content/gdrive/MyDrive/Kaggle/CNN_IDC/Dataset...  class_1\n",
            "119  /content/gdrive/MyDrive/Kaggle/CNN_IDC/Dataset...  class_1\n",
            "68   /content/gdrive/MyDrive/Kaggle/CNN_IDC/Dataset...  class_0\n",
            "147  /content/gdrive/MyDrive/Kaggle/CNN_IDC/Dataset...  class_1\n",
            "..                                                 ...      ...\n",
            "135  /content/gdrive/MyDrive/Kaggle/CNN_IDC/Dataset...  class_1\n",
            "71   /content/gdrive/MyDrive/Kaggle/CNN_IDC/Dataset...  class_0\n",
            "152  /content/gdrive/MyDrive/Kaggle/CNN_IDC/Dataset...  class_1\n",
            "170  /content/gdrive/MyDrive/Kaggle/CNN_IDC/Dataset...  class_1\n",
            "140  /content/gdrive/MyDrive/Kaggle/CNN_IDC/Dataset...  class_1\n",
            "\n",
            "[200 rows x 2 columns]\n"
          ]
        }
      ]
    },
    {
      "cell_type": "code",
      "source": [
        "# train_generator"
      ],
      "metadata": {
        "id": "YyKDuRpXPXIn"
      },
      "execution_count": 14,
      "outputs": []
    },
    {
      "cell_type": "code",
      "source": [
        "from tqdm import tqdm # import tqdm\n",
        "\n",
        "# Apply gray scale to all images, flatten and store array / shape in new columns\n",
        "def get_img_arrays(df,):\n",
        "    # read each image array from corresponding path as grayscale and flatten the image array\n",
        "    df['img_array'] = df.progress_apply(lambda x : io.imread(x['path'],as_gray=True).flatten(),axis=1) # make sure to specify axis = 1\n",
        "    # get the shape of each image array and store it in the dataframe\n",
        "    df['array_shape'] = df.progress_apply(lambda x : x['img_array'].shape[0],axis=1) # make sure to specify axis = 1\n",
        "    return df\n"
      ],
      "metadata": {
        "id": "nkWYjNvnHrrn"
      },
      "execution_count": 15,
      "outputs": []
    },
    {
      "cell_type": "code",
      "source": [
        "from tqdm import tqdm # import tqdm\n",
        "tqdm.pandas() # initialize tqdm for pandas\n",
        "\n",
        "# # tqdm is a library that enables you to visualize the progress of a for loop by displaying a configurable progress bar\n",
        "\n",
        "train_generator = get_img_arrays(df = train_generator)\n",
        "val_generator = get_img_arrays(df = val_generator)\n",
        "test_generator = get_img_arrays(df = test_generator)"
      ],
      "metadata": {
        "id": "d9iPVxRZHreQ",
        "outputId": "9e6aaf04-47f2-4c08-a070-2c7fc46c84e5",
        "colab": {
          "base_uri": "https://localhost:8080/"
        }
      },
      "execution_count": 16,
      "outputs": [
        {
          "output_type": "stream",
          "name": "stderr",
          "text": [
            "100%|██████████| 800/800 [00:01<00:00, 481.48it/s]\n",
            "100%|██████████| 800/800 [00:00<00:00, 79264.93it/s]\n",
            "100%|██████████| 200/200 [00:00<00:00, 555.83it/s]\n",
            "100%|██████████| 200/200 [00:00<00:00, 48047.47it/s]\n",
            "100%|██████████| 200/200 [00:00<00:00, 572.51it/s]\n",
            "100%|██████████| 200/200 [00:00<00:00, 61603.94it/s]\n"
          ]
        }
      ]
    },
    {
      "cell_type": "code",
      "source": [
        "# print(train_generator.array_shape.value_counts())\n",
        "# print(val_generator.array_shape.value_counts())\n",
        "# print(test_generator.array_shape.value_counts())"
      ],
      "metadata": {
        "id": "wAv7RXmVQX4b"
      },
      "execution_count": 17,
      "outputs": []
    },
    {
      "cell_type": "code",
      "source": [
        "# drop these images as they add unnecessary noise to our model\n",
        "train_weird_imgs = train_generator[train_generator['array_shape'] != 2500]\n",
        "val_weird_imgs = val_generator[val_generator['array_shape'] != 2500]\n",
        "test_weird_imgs = test_generator[test_generator['array_shape'] != 2500]\n",
        "\n",
        "\n",
        "weird_imgs = train_weird_imgs.append(val_weird_imgs)\n",
        "weird_imgs = weird_imgs.append(test_weird_imgs)\n",
        "weird_imgs['dataset'] = weird_imgs['path'].str.split('/', expand=True)[7]\n",
        "weird_imgs.reset_index(drop=True)\n",
        "\n",
        "train_generator.drop(train_weird_imgs.index,inplace=True)\n",
        "val_generator.drop(val_weird_imgs.index,inplace=True)\n",
        "test_generator.drop(test_weird_imgs.index,inplace=True)\n",
        "\n",
        "# print(len(weird_imgs))\n",
        "# print(len(train_generator))\n",
        "# print(len(val_generator))\n",
        "# print(len(test_generator))\n",
        "# print(train_generator.columns)\n",
        "# val_generator.reset_index(drop=True)"
      ],
      "metadata": {
        "id": "gpOS9_alHrTY"
      },
      "execution_count": 18,
      "outputs": []
    },
    {
      "cell_type": "code",
      "source": [
        "import cv2 as cv\n",
        "import skimage.io as io\n",
        "\n",
        "def display_images(subclass):\n",
        "  fig, axes = plt.subplots(nrows=1, ncols=7, figsize=(20,8))\n",
        "  for idx, ax in enumerate(axes.flat):\n",
        "    image_wo_path = os.path.basename(subclass.path[idx])\n",
        "    # print(image_wo_path)\n",
        "    subtitle = 'Class ' + image_wo_path.rsplit('.')[0][-1] + ': ' + subclass.dataset[idx]\n",
        "    img = io.imread(subclass.path[idx])\n",
        "    ax.imshow(img)\n",
        "    # ax.axis('off')\n",
        "    ax.set_title(subtitle, size=14)   \n",
        "  fig.tight_layout() \n",
        "  plt.show() \n",
        "\n",
        "print()\n",
        "display_images(weird_imgs.reset_index(drop=True))"
      ],
      "metadata": {
        "id": "x9euSsBNHrIX",
        "outputId": "dafad742-ba67-4b5f-e0cf-b953fad95918",
        "colab": {
          "base_uri": "https://localhost:8080/",
          "height": 358
        }
      },
      "execution_count": 19,
      "outputs": [
        {
          "output_type": "stream",
          "name": "stdout",
          "text": [
            "\n"
          ]
        },
        {
          "output_type": "display_data",
          "data": {
            "text/plain": [
              "<Figure size 1440x576 with 7 Axes>"
            ],
            "image/png": "[encoded data removed]"
          },
          "metadata": {
            "needs_background": "light"
          }
        }
      ]
    },
    {
      "cell_type": "code",
      "source": [
        "# https://faroit.com/keras-docs/0.3.3/preprocessing/image/\n",
        "# https://www.tensorflow.org/api_docs/python/tf/keras/preprocessing/image/ImageDataGenerator\n",
        "data_generator = ImageDataGenerator(\n",
        "    featurewise_center = True,                     # transforms the images to 0 mean\n",
        "    featurewise_std_normalization = True,          # divide inputs by std of the dataset\n",
        "    zca_whitening=False,\n",
        "    zca_epsilon=1e-06,\n",
        "    rotation_range=0,\n",
        "    width_shift_range=0.0,\n",
        "    height_shift_range=0.0,\n",
        "    brightness_range=None,\n",
        "    shear_range=0.0,                  \n",
        "    zoom_range=0.0,\n",
        "    channel_shift_range=0.0,\n",
        "    fill_mode='nearest',\n",
        "    cval=0.0,\n",
        "    horizontal_flip=False,\n",
        "    vertical_flip=False,\n",
        "    rescale=None\n",
        ")\n",
        "\n",
        "data_generator = ImageDataGenerator()\n",
        "\n",
        "train_data_generator = ImageDataGenerator(\n",
        "    featurewise_center = True,               # transforms the images to 0 mean\n",
        "    featurewise_std_normalization = True,    # divide inputs by std of the dataset\n",
        "    # rescale=1./255,\n",
        "    zca_epsilon=1e-06,\n",
        "    # width_shift_range=0.2,\n",
        "    # height_shift_range=0.2,\n",
        "    rotation_range=10,                # randomly rotate image by 10 degrees\n",
        "    shear_range=0.2,                  # distort image along an axis mostly to create or recify the perception angles\n",
        "    zoom_range=0.2,                   # zomming image: zoom_range > 1 => zoom out, zoom_range < 1 => zoom in\n",
        "    fill_mode='nearest',              # when the image is rotated, some pixels will move outside the image and leave an empty area that needs to be filled in, 'nearest': simply replace the empty area with the nearest spectral values.\n",
        "    horizontal_flip=True\n",
        ")\n",
        "\n",
        "# =============== With Image Augmentation ========================\n",
        "# train_data_generator = train_data_generator.flow_from_dataframe(\n",
        "#     train_generator,\n",
        "#     directory = None,\n",
        "#     x_col =  'path',\n",
        "#     y_col =  'label',\n",
        "#     weight_col=None,\n",
        "#     target_size=(50, 50),\n",
        "#     color_mode=\"grayscale\",\n",
        "#     class_mode=\"categorical\",\n",
        "#     batch_size=32,\n",
        "#     shuffle=True\n",
        "#     seed=1234\n",
        "#     # validate_filenames=True\n",
        "# )\n",
        "\n",
        "# =============== Without Image Augmentation =====================\n",
        "train_data_generator = data_generator.flow_from_dataframe(\n",
        "    train_generator,\n",
        "    directory = None,\n",
        "    x_col =  'path',\n",
        "    y_col =  'label',\n",
        "    weight_col=None,\n",
        "    target_size=(50, 50),\n",
        "    color_mode=\"grayscale\",\n",
        "    class_mode=\"categorical\",\n",
        "    batch_size=32,\n",
        "    shuffle=True,\n",
        "    seed=1234\n",
        "    # validate_filenames=True\n",
        ")\n",
        "\n",
        "validation_data_generator = data_generator.flow_from_dataframe(\n",
        "    val_generator,\n",
        "    directory = None,\n",
        "    x_col =  'path',\n",
        "    y_col =  'label',\n",
        "    weight_col=None,\n",
        "    target_size=(50, 50),\n",
        "    color_mode=\"grayscale\",\n",
        "    class_mode=\"categorical\",\n",
        "    batch_size=32,\n",
        "    shuffle=True,\n",
        "    seed=1234\n",
        "    # validate_filenames=True\n",
        ")\n",
        "\n",
        "test_data_generator = data_generator.flow_from_dataframe(\n",
        "    test_generator,\n",
        "    directory = None,\n",
        "    x_col =  'path',\n",
        "    y_col =  'label',\n",
        "    weight_col=None,\n",
        "    target_size=(50, 50),\n",
        "    color_mode=\"grayscale\",\n",
        "    class_mode=\"categorical\",\n",
        "    batch_size=32,\n",
        "    shuffle=False,              # Kesha set to shuffle=True but we don't want to shuffle our testing data around, which it does so by default\n",
        "    seed=1234\n",
        "    # validate_filenames=True\n",
        ")"
      ],
      "metadata": {
        "id": "eC0S3je4Jnwb",
        "outputId": "373b1c5d-f44d-490a-bce0-6f2b7ac1f59e",
        "colab": {
          "base_uri": "https://localhost:8080/"
        }
      },
      "execution_count": 20,
      "outputs": [
        {
          "output_type": "stream",
          "name": "stdout",
          "text": [
            "Found 797 validated image filenames belonging to 2 classes.\n",
            "Found 197 validated image filenames belonging to 2 classes.\n",
            "Found 199 validated image filenames belonging to 2 classes.\n"
          ]
        }
      ]
    },
    {
      "cell_type": "markdown",
      "source": [
        "# Build CNN Model"
      ],
      "metadata": {
        "id": "I19l1YOYsfOG"
      }
    },
    {
      "cell_type": "code",
      "source": [
        "img_height = 50\n",
        "img_width = 50\n",
        "img_channel = 1\n",
        "input_shape = (img_height, img_width, img_channel)"
      ],
      "metadata": {
        "id": "OQcHdDdYJnol"
      },
      "execution_count": 21,
      "outputs": []
    },
    {
      "cell_type": "code",
      "source": [
        "from keras.layers import ReLU, LeakyReLU\n",
        "\n",
        "# 'Adadelta', 'Adagrad', 'Adam', 'RMSprop', 'SGD'\n",
        "#  Tanh, Leaky ReLU, Parametric ReLU, ELU, GELU, SELU, Swish \n",
        "def build_cnn(kernel_size = (3,3),\n",
        "              strides = (1,1),\n",
        "              pool_size = (2,2),\n",
        "              learning_rate = 0.001,\n",
        "              optimizer = 'Adam',\n",
        "              activation = 'relu',\n",
        "              average_over_position=True,\n",
        "              batch_normalization=True,\n",
        "              dropout_layer=True,\n",
        "              dropout_rate=0.5, \n",
        "              filters_1=32,\n",
        "              filters_2=64,\n",
        "              filters_3=128,\n",
        "              dense_units=256,\n",
        "              conv_layer_2=True,\n",
        "              conv_layer_3=True):    \n",
        "\n",
        "  tf.keras.backend.clear_session()\n",
        "  tf.random.set_seed(0)\n",
        "\n",
        "  model = tf.keras.Sequential()\n",
        "  model.add(Conv2D(filters=filters_1, kernel_size=kernel_size, padding='same', activation=activation.lower(), input_shape = input_shape))\n",
        "\n",
        "  def have_batch_normalization(batch_normalization):\n",
        "    if batch_normalization:\n",
        "      model.add(BatchNormalization())\n",
        "\n",
        "  def nn_layer(average_over_position):\n",
        "    if average_over_position:\n",
        "      model.add(AveragePooling2D())\n",
        "    else:\n",
        "      model.add(MaxPooling2D(pool_size=pool_size, strides=strides))\n",
        "  \n",
        "  def have_dropout(dropout_layer):\n",
        "    if dropout_layer:\n",
        "      model.add(Dropout(dropout_rate))\n",
        "\n",
        "  def selected_optimizer(optimizer):\n",
        "    if optimizer.lower() == 'sgd':\n",
        "        return SGD(learning_rate=learning_rate)           # SGD(learning_rate=learning_rate, momentum=0.95, decay=1, nesterov=True)\n",
        "    elif optimizer.lower() == 'adam':\n",
        "        return Adam(learning_rate=learning_rate)          # Adam(learning_rate=learning_rate, beta_1=0.9, beta_2=0.999, epsilon=1e-8, kappa=1-1e-8)\n",
        "    elif optimizer.lower() == 'adadelta':\n",
        "        return Adadelta(learning_rate=learning_rate)      # Adadelta(learning_rate=learning_rate, rho=0.95, epsilon=1e-6)\n",
        "    elif optimizer.lower() == 'adagrad':\n",
        "        return Adagrad(learning_rate=learning_rate)       # Adagrad(learning_rate=learning_rate, epsilon=1e-6)\n",
        "    elif optimizer.lower() == 'rmsprop':\n",
        "        return RMSprop(learning_rate=learning_rate)       # RMSprop(learning_rate=learning_rate, rho=0.9, epsilon=1e-6)\n",
        "\n",
        "  if conv_layer_2:  \n",
        "    model.add(Conv2D(filters=filters_2, kernel_size=kernel_size, padding='same', activation=activation.lower()))\n",
        "    have_batch_normalization(batch_normalization)\n",
        "    nn_layer(average_over_position)\n",
        "    have_dropout(dropout_layer)\n",
        "\n",
        "  if conv_layer_3:\n",
        "    model.add(Conv2D(filters=filters_3, kernel_size=kernel_size, padding='same', activation=activation.lower()))\n",
        "    have_batch_normalization(batch_normalization)\n",
        "    nn_layer(average_over_position)\n",
        "    have_dropout(dropout_layer)\n",
        "\n",
        "  model.add(Flatten())\n",
        "  model.add(Dense(units = dense_units, activation = activation))\n",
        "  have_dropout(dropout_layer)\n",
        "  model.add(Dense(units = 2, activation = 'softmax'))          # output layer\n",
        "\n",
        "  model.compile(loss=CategoricalCrossentropy(from_logits=True), \n",
        "                optimizer=selected_optimizer(optimizer), \n",
        "                metrics=['accuracy'])\n",
        "\n",
        "  return model"
      ],
      "metadata": {
        "id": "-b-MQQn9Erwy"
      },
      "execution_count": 22,
      "outputs": []
    },
    {
      "cell_type": "code",
      "source": [
        "model = build_cnn(kernel_size = (3,3),\n",
        "              strides = (1,1),\n",
        "              pool_size = (2,2),\n",
        "              learning_rate = 0.001,\n",
        "              optimizer = 'Adam',                # 'Adadelta', 'Adagrad', 'Adam', 'RMSprop', 'SGD'\n",
        "              activation = 'relu',               # Tanh, Leaky ReLU, Parametric ReLU, ELU, GELU, SELU, Swish\n",
        "              average_over_position=True,\n",
        "              batch_normalization=True,\n",
        "              dropout_layer=True,\n",
        "              dropout_rate=0.5, \n",
        "              filters_1=32,\n",
        "              filters_2=64,\n",
        "              filters_3=128,\n",
        "              dense_units=256,\n",
        "              conv_layer_2=True,\n",
        "              conv_layer_3=True)\n",
        "model.summary()"
      ],
      "metadata": {
        "id": "lj2jekrIkAHZ",
        "outputId": "39ad8efb-f135-4a2b-973d-493e1dc2d582",
        "colab": {
          "base_uri": "https://localhost:8080/"
        }
      },
      "execution_count": 23,
      "outputs": [
        {
          "output_type": "stream",
          "name": "stdout",
          "text": [
            "Model: \"sequential\"\n",
            "_________________________________________________________________\n",
            " Layer (type)                Output Shape              Param #   \n",
            "=================================================================\n",
            " conv2d (Conv2D)             (None, 50, 50, 32)        320       \n",
            "                                                                 \n",
            " conv2d_1 (Conv2D)           (None, 50, 50, 64)        18496     \n",
            "                                                                 \n",
            " batch_normalization (BatchN  (None, 50, 50, 64)       256       \n",
            " ormalization)                                                   \n",
            "                                                                 \n",
            " average_pooling2d (AverageP  (None, 25, 25, 64)       0         \n",
            " ooling2D)                                                       \n",
            "                                                                 \n",
            " dropout (Dropout)           (None, 25, 25, 64)        0         \n",
            "                                                                 \n",
            " conv2d_2 (Conv2D)           (None, 25, 25, 128)       73856     \n",
            "                                                                 \n",
            " batch_normalization_1 (Batc  (None, 25, 25, 128)      512       \n",
            " hNormalization)                                                 \n",
            "                                                                 \n",
            " average_pooling2d_1 (Averag  (None, 12, 12, 128)      0         \n",
            " ePooling2D)                                                     \n",
            "                                                                 \n",
            " dropout_1 (Dropout)         (None, 12, 12, 128)       0         \n",
            "                                                                 \n",
            " flatten (Flatten)           (None, 18432)             0         \n",
            "                                                                 \n",
            " dense (Dense)               (None, 256)               4718848   \n",
            "                                                                 \n",
            " dropout_2 (Dropout)         (None, 256)               0         \n",
            "                                                                 \n",
            " dense_1 (Dense)             (None, 2)                 514       \n",
            "                                                                 \n",
            "=================================================================\n",
            "Total params: 4,812,802\n",
            "Trainable params: 4,812,418\n",
            "Non-trainable params: 384\n",
            "_________________________________________________________________\n"
          ]
        }
      ]
    },
    {
      "cell_type": "markdown",
      "source": [
        "# Hyperparameter Tuning While Training the Model\n",
        "- **ReduceLROnPlateau**: A scheduling technique that monitors a particular quantity and decays the learning rate when the quantity is stop improving.\n",
        "- **ModelCheckpoint**: A sch\n",
        "- **BatchNormalization**: A feature that we add between the layers of neural network and it continuously takes the output from the previous layer and normalizes it before sending it to the next layer thereby helping stablizing the NN"
      ],
      "metadata": {
        "id": "VSOHSO4Mbyk6"
      }
    },
    {
      "cell_type": "code",
      "source": [
        "def model_fit(model, train_data_generator, validation_data_generator, epochs=7):  \n",
        "  lr_reduce = ReduceLROnPlateau(monitor='val_accuracy', factor=0.1, min_delta=0.0001, patience=1, verbose=1)\n",
        "\n",
        "  file_path = 'weights.hdf5'    # save the weights and biases\n",
        "  checkpoint = ModelCheckpoint(file_path, monitor='val_accuracy', verbose=1, save_best_only=True, mode='max')\n",
        "\n",
        "  history = model.fit(train_data_generator,\n",
        "                  epochs=epochs,\n",
        "                  callbacks=[lr_reduce, checkpoint],\n",
        "                  validation_data = validation_data_generator)\n",
        "  return history"
      ],
      "metadata": {
        "id": "1aK-mML9JnID"
      },
      "execution_count": 24,
      "outputs": []
    },
    {
      "cell_type": "code",
      "source": [
        "def model_fit_and_plot_loss_acc():\n",
        "  history = model_fit(model, train_data_generator, validation_data_generator, epochs=7)\n",
        "  hist = history.history\n",
        "  x_arr = np.arange(len(hist['loss'])) + 1\n",
        "\n",
        "  fig = plt.figure(figsize=(16,6))\n",
        "  ax = fig.add_subplot(1,2,1)\n",
        "  ax.plot(x_arr, hist['loss'], '-o', label='Train Loss')\n",
        "  ax.plot(x_arr, hist['val_loss'], '--<', label='Validation Loss')\n",
        "  ax.legend(fontsize=12)\n",
        "  ax.set_xlabel('Epoch', size=14)\n",
        "  ax.set_ylabel('Loss', size=14)\n",
        "  ax.set_title('Loss', size=20)\n",
        "\n",
        "  ax = fig.add_subplot(1,2,2)\n",
        "  ax.plot(x_arr, hist['accuracy'], '-o', label='Train Acc.')\n",
        "  ax.plot(x_arr, hist['val_accuracy'], '--<', label='Validation Acc.')\n",
        "  ax.legend(fontsize=12)\n",
        "  ax.set_xlabel('Epoch', size=14)\n",
        "  ax.set_ylabel('Accuracy', size=14)\n",
        "  ax.set_title('Accuracy', size=20);\n",
        "\n",
        "model_fit_and_plot_loss_acc()"
      ],
      "metadata": {
        "id": "v1a4RY1gK5kg",
        "outputId": "341ae9a2-63ed-4a80-c259-ee2d49e2bee3",
        "colab": {
          "base_uri": "https://localhost:8080/",
          "height": 985
        }
      },
      "execution_count": 25,
      "outputs": [
        {
          "output_type": "stream",
          "name": "stdout",
          "text": [
            "Epoch 1/7\n",
            "24/25 [===========================>..] - ETA: 0s - loss: 1.2693 - accuracy: 0.6510\n",
            "Epoch 1: val_accuracy improved from -inf to 0.49239, saving model to weights.hdf5\n",
            "25/25 [==============================] - 3s 67ms/step - loss: 1.2447 - accuracy: 0.6512 - val_loss: 15.5704 - val_accuracy: 0.4924 - lr: 0.0010\n",
            "Epoch 2/7\n",
            "24/25 [===========================>..] - ETA: 0s - loss: 0.6858 - accuracy: 0.7020\n",
            "Epoch 2: ReduceLROnPlateau reducing learning rate to 0.00010000000474974513.\n",
            "\n",
            "Epoch 2: val_accuracy did not improve from 0.49239\n",
            "25/25 [==============================] - 1s 49ms/step - loss: 0.6782 - accuracy: 0.7039 - val_loss: 4.5290 - val_accuracy: 0.4924 - lr: 0.0010\n",
            "Epoch 3/7\n",
            "24/25 [===========================>..] - ETA: 0s - loss: 0.5592 - accuracy: 0.7412\n",
            "Epoch 3: val_accuracy improved from 0.49239 to 0.51777, saving model to weights.hdf5\n",
            "25/25 [==============================] - 1s 57ms/step - loss: 0.5517 - accuracy: 0.7465 - val_loss: 1.0949 - val_accuracy: 0.5178 - lr: 1.0000e-04\n",
            "Epoch 4/7\n",
            "24/25 [===========================>..] - ETA: 0s - loss: 0.5359 - accuracy: 0.7582\n",
            "Epoch 4: val_accuracy improved from 0.51777 to 0.64467, saving model to weights.hdf5\n",
            "25/25 [==============================] - 1s 56ms/step - loss: 0.5325 - accuracy: 0.7566 - val_loss: 0.6640 - val_accuracy: 0.6447 - lr: 1.0000e-04\n",
            "Epoch 5/7\n",
            "25/25 [==============================] - ETA: 0s - loss: 0.5024 - accuracy: 0.7691\n",
            "Epoch 5: ReduceLROnPlateau reducing learning rate to 1.0000000474974514e-05.\n",
            "\n",
            "Epoch 5: val_accuracy did not improve from 0.64467\n",
            "25/25 [==============================] - 1s 47ms/step - loss: 0.5024 - accuracy: 0.7691 - val_loss: 0.6321 - val_accuracy: 0.6396 - lr: 1.0000e-04\n",
            "Epoch 6/7\n",
            "25/25 [==============================] - ETA: 0s - loss: 0.5112 - accuracy: 0.7553\n",
            "Epoch 6: val_accuracy improved from 0.64467 to 0.71066, saving model to weights.hdf5\n",
            "25/25 [==============================] - 1s 55ms/step - loss: 0.5112 - accuracy: 0.7553 - val_loss: 0.5780 - val_accuracy: 0.7107 - lr: 1.0000e-05\n",
            "Epoch 7/7\n",
            "25/25 [==============================] - ETA: 0s - loss: 0.4961 - accuracy: 0.7729\n",
            "Epoch 7: val_accuracy improved from 0.71066 to 0.72081, saving model to weights.hdf5\n",
            "25/25 [==============================] - 2s 62ms/step - loss: 0.4961 - accuracy: 0.7729 - val_loss: 0.5528 - val_accuracy: 0.7208 - lr: 1.0000e-05\n"
          ]
        },
        {
          "output_type": "display_data",
          "data": {
            "text/plain": [
              "<Figure size 1152x432 with 2 Axes>"
            ],
            "image/png": "[encoded data removed]"
          },
          "metadata": {
            "needs_background": "light"
          }
        }
      ]
    },
    {
      "cell_type": "code",
      "source": [
        "def model_evaluate(model, train_data_generator, test_data_generator):\n",
        "  eval_train = model.evaluate(train_data_generator)\n",
        "  print(f'Train Accuracy: {eval_train[1]*100:.2f}%')\n",
        "  print()\n",
        "  eval_test = model.evaluate(test_data_generator)\n",
        "  print(f'Test Accuracy: {eval_test[1]*100:.2f}%\\n')\n",
        "\n",
        "model_evaluate(model, train_data_generator, test_data_generator)"
      ],
      "metadata": {
        "id": "YEAMNOELK5bA",
        "outputId": "d90e3295-526f-42a0-a5ad-ec7f811e40b2",
        "colab": {
          "base_uri": "https://localhost:8080/"
        }
      },
      "execution_count": 26,
      "outputs": [
        {
          "output_type": "stream",
          "name": "stdout",
          "text": [
            "25/25 [==============================] - 1s 39ms/step - loss: 0.4987 - accuracy: 0.7867\n",
            "Train Accuracy: 78.67%\n",
            "\n",
            "7/7 [==============================] - 0s 38ms/step - loss: 0.5409 - accuracy: 0.7437\n",
            "Test Accuracy: 74.37%\n",
            "\n"
          ]
        }
      ]
    },
    {
      "cell_type": "code",
      "source": [
        "def error_analysis(test_labels, test_data_generator):\n",
        "  num_of_test_samples = len(test_labels)\n",
        "  batch_size = 32\n",
        "\n",
        "  y_true = test_data_generator.classes\n",
        "  y_pred = model.predict_generator(test_data_generator, num_of_test_samples // batch_size + 1)\n",
        "  y_pred = np.argmax(y_pred, axis=1)     # return the indicies of the max values along the axis (axis=1: each row)\n",
        "\n",
        "  # Confusion matrix\n",
        "  plt.figure(figsize=(6,5))\n",
        "  conf_max = confusion_matrix(y_true, y_pred)\n",
        "  sns.heatmap(conf_max, annot=True, cmap='coolwarm', annot_kws={'fontsize':18}, linewidth=0.5, fmt='d')\n",
        "  \n",
        "  plt.xlabel('Predicted Label', fontsize=14)\n",
        "  plt.ylabel('True Label', fontsize=14)\n",
        "  plt.title('Confusion Matrix for IDC Breast Cancer', fontsize=15)\n",
        "  plt.tight_layout()\n",
        "  \n",
        "  # Classification report\n",
        "  print('=============== Classification Report ===============\\n\\n', classification_report(y_true, y_pred, target_names=['Non-IDC', 'IDC']), '\\n=====================================================\\n')\n",
        "\n",
        "  # Precision, recall, f1_score\n",
        "  # tn, fp, fn, tp = confusion_matrix(y_true, y_pred).ravel()     # np.ravel(): returns contiguous flattened array (1D array with all the input-array elements and with the same type as it)\n",
        "  # print(f'============ Precision, Recall, F1_Score ============\\n\\nTrue Negatives (TN): {tn}\\nTrue Positives (TP): {tp}\\nFalse Negatives (FN): {fn}\\nFalse Positives (FP): {fp}')\n",
        "  # precision = tp/(tp+fp)\n",
        "  # recall = tp/(tp+fn)\n",
        "  # f1_score = (2*precision*recall)/(precision+recall)\n",
        "  # print(f'\\nRecall of the model = {round(recall, 2)}\\nPrecision of the model = {round(precision, 2)}\\nF1_Score of the model = {round(f1_score, 2)}\\n\\n====================================================\\n')\n",
        "\n",
        "  # Area under the ROC cuver\n",
        "  roc_log = roc_auc_score(y_true, y_pred)\n",
        "  false_positive_rate, true_positive_rate, threshold = roc_curve(y_true, y_pred)\n",
        "  area_under_curve = auc(false_positive_rate, true_positive_rate)\n",
        "  \n",
        "  plt.figure(figsize=(6,5))\n",
        "  plt.plot([0, 1], [0, 1], 'r--')  \n",
        "  plt.plot(false_positive_rate, true_positive_rate, label='ROC-AUC = {:.2f}'.format(area_under_curve))  \n",
        "  plt.xlabel('False positive rate', fontsize=14)\n",
        "  plt.ylabel('True positive rate', fontsize=14)\n",
        "  plt.title('ROC curve', fontsize=18)\n",
        "  plt.legend(loc='best')\n",
        "  plt.show()\n",
        "  print(f'\\n=====================================================\\nROC-AUC Score = {round(area_under_curve, 2)}')\n",
        "  #plt.savefig(ROC_PLOT_FILE, bbox_inches='tight')\n",
        "  plt.close()\n",
        "  \n",
        "error_analysis(test_labels, test_data_generator)"
      ],
      "metadata": {
        "id": "Ecu2NAgsjmPp",
        "outputId": "829b81f9-5e7e-4fd2-cd2b-74309af68119",
        "colab": {
          "base_uri": "https://localhost:8080/",
          "height": 996
        }
      },
      "execution_count": 27,
      "outputs": [
        {
          "output_type": "stream",
          "name": "stdout",
          "text": [
            "=============== Classification Report ===============\n",
            "\n",
            "               precision    recall  f1-score   support\n",
            "\n",
            "     Non-IDC       0.73      0.77      0.75        99\n",
            "         IDC       0.76      0.72      0.74       100\n",
            "\n",
            "    accuracy                           0.74       199\n",
            "   macro avg       0.74      0.74      0.74       199\n",
            "weighted avg       0.74      0.74      0.74       199\n",
            " \n",
            "=====================================================\n",
            "\n"
          ]
        },
        {
          "output_type": "display_data",
          "data": {
            "text/plain": [
              "<Figure size 432x360 with 2 Axes>"
            ],
            "image/png": "[encoded data removed]"
          },
          "metadata": {
            "needs_background": "light"
          }
        },
        {
          "output_type": "display_data",
          "data": {
            "text/plain": [
              "<Figure size 432x360 with 1 Axes>"
            ],
            "image/png": "[encoded data removed]"
          },
          "metadata": {
            "needs_background": "light"
          }
        },
        {
          "output_type": "stream",
          "name": "stdout",
          "text": [
            "\n",
            "=====================================================\n",
            "ROC-AUC Score = 0.74\n"
          ]
        }
      ]
    },
    {
      "cell_type": "markdown",
      "source": [
        "# Transfer Learning\n",
        "- **ResNet152V2**\n",
        "- **VGG16**\n",
        "- **VGG19**"
      ],
      "metadata": {
        "id": "BvAUHEGdGpLk"
      }
    },
    {
      "cell_type": "code",
      "source": [
        "from tensorflow.keras.applications import ResNet152V2, VGG16, VGG19\n",
        "\n",
        "# https://keras.io/api/applications/\n",
        "tf.keras.backend.clear_session()\n",
        "tf.random.set_seed(1234)\n",
        "\n",
        "input_shape = (50,50,3)\n",
        "vgg16_base_model = VGG16(input_shape=input_shape, include_top=False, weights='imagenet')\n",
        "vgg19_base_model = VGG19(input_shape=input_shape, include_top=False, weights='imagenet')\n",
        "resnet_base_model = ResNet152V2(input_shape=input_shape, include_top=False, weights='imagenet')\n",
        "\n",
        "# vgg16_base_model.summary()\n",
        "# vgg19_base_model.summary()\n",
        "# resnet_base_model.summary()"
      ],
      "metadata": {
        "id": "eo-HTvErGn6D"
      },
      "execution_count": 28,
      "outputs": []
    },
    {
      "cell_type": "code",
      "source": [
        "def get_doc_id_model_tl(model_tl):\n",
        "  return tf.keras.Sequential([\n",
        "                           model_tl,                           \n",
        "                           Flatten(),\n",
        "\n",
        "                           Dense(units = 1024, activation = 'relu'),\n",
        "                           BatchNormalization(),                           \n",
        "                           Dropout(rate=0.5),\n",
        "\n",
        "                           Dense(units = 128, activation = 'relu'),\n",
        "                           BatchNormalization(),                           \n",
        "                           Dropout(rate=0.4),\n",
        "\n",
        "                           Dense(units = 2, activation = 'softmax')\n",
        "])  "
      ],
      "metadata": {
        "id": "RO1VFoNBJhVH"
      },
      "execution_count": 29,
      "outputs": []
    },
    {
      "cell_type": "code",
      "source": [
        "# freeze initial layer of the network, making only the fully connected layer we added trainable\n",
        "vgg16_base_model.trainable = False\n",
        "vgg19_base_model.trainable = False\n",
        "resnet_base_model.trainable = False\n",
        "\n",
        "# run each model\n",
        "model_vgg16 = get_doc_id_model_tl(vgg16_base_model)\n",
        "model_vgg19 = get_doc_id_model_tl(vgg19_base_model)\n",
        "model_resnet = get_doc_id_model_tl(resnet_base_model)"
      ],
      "metadata": {
        "id": "rA2dAeLpWPKD"
      },
      "execution_count": 30,
      "outputs": []
    },
    {
      "cell_type": "code",
      "source": [
        "def model_compile_tl(model_tl, optimizer='Adam', learning_rate = 0.001):\n",
        "  # select optimizer\n",
        "  def selected_optimizer(optimizer):\n",
        "      if optimizer.lower() == 'sgd':\n",
        "          return SGD(learning_rate=learning_rate)\n",
        "      if optimizer.lower() == 'adam':\n",
        "          return Adam(learning_rate=learning_rate)\n",
        "\n",
        "  model_tl.compile(optimizer=selected_optimizer(optimizer), \n",
        "                      loss=keras.losses.categorical_crossentropy, \n",
        "                      metrics=['accuracy'])\n",
        "  model_tl.summary()\n",
        "  return model_tl\n",
        "\n",
        "model_vgg16 = model_compile_tl(model_vgg16, optimizer='Adam', learning_rate = 0.001)\n",
        "# model_vgg19 = model_compile_tl(model_vgg19, optimizer='Adam', learning_rate = 0.001)\n",
        "model_resnet = model_compile_tl(model_resnet, optimizer='Adam', learning_rate = 0.001)"
      ],
      "metadata": {
        "id": "SoRNd0QyXCSy",
        "outputId": "0d2a80a7-7ddc-44c6-d482-4ed960df578b",
        "colab": {
          "base_uri": "https://localhost:8080/"
        }
      },
      "execution_count": 31,
      "outputs": [
        {
          "output_type": "stream",
          "name": "stdout",
          "text": [
            "Model: \"sequential\"\n",
            "_________________________________________________________________\n",
            " Layer (type)                Output Shape              Param #   \n",
            "=================================================================\n",
            " vgg16 (Functional)          (None, 1, 1, 512)         14714688  \n",
            "                                                                 \n",
            " flatten (Flatten)           (None, 512)               0         \n",
            "                                                                 \n",
            " dense (Dense)               (None, 1024)              525312    \n",
            "                                                                 \n",
            " batch_normalization (BatchN  (None, 1024)             4096      \n",
            " ormalization)                                                   \n",
            "                                                                 \n",
            " dropout (Dropout)           (None, 1024)              0         \n",
            "                                                                 \n",
            " dense_1 (Dense)             (None, 128)               131200    \n",
            "                                                                 \n",
            " batch_normalization_1 (Batc  (None, 128)              512       \n",
            " hNormalization)                                                 \n",
            "                                                                 \n",
            " dropout_1 (Dropout)         (None, 128)               0         \n",
            "                                                                 \n",
            " dense_2 (Dense)             (None, 2)                 258       \n",
            "                                                                 \n",
            "=================================================================\n",
            "Total params: 15,376,066\n",
            "Trainable params: 659,074\n",
            "Non-trainable params: 14,716,992\n",
            "_________________________________________________________________\n",
            "Model: \"sequential_2\"\n",
            "_________________________________________________________________\n",
            " Layer (type)                Output Shape              Param #   \n",
            "=================================================================\n",
            " resnet152v2 (Functional)    (None, 2, 2, 2048)        58331648  \n",
            "                                                                 \n",
            " flatten_2 (Flatten)         (None, 8192)              0         \n",
            "                                                                 \n",
            " dense_6 (Dense)             (None, 1024)              8389632   \n",
            "                                                                 \n",
            " batch_normalization_4 (Batc  (None, 1024)             4096      \n",
            " hNormalization)                                                 \n",
            "                                                                 \n",
            " dropout_4 (Dropout)         (None, 1024)              0         \n",
            "                                                                 \n",
            " dense_7 (Dense)             (None, 128)               131200    \n",
            "                                                                 \n",
            " batch_normalization_5 (Batc  (None, 128)              512       \n",
            " hNormalization)                                                 \n",
            "                                                                 \n",
            " dropout_5 (Dropout)         (None, 128)               0         \n",
            "                                                                 \n",
            " dense_8 (Dense)             (None, 2)                 258       \n",
            "                                                                 \n",
            "=================================================================\n",
            "Total params: 66,857,346\n",
            "Trainable params: 8,523,394\n",
            "Non-trainable params: 58,333,952\n",
            "_________________________________________________________________\n"
          ]
        }
      ]
    },
    {
      "cell_type": "code",
      "source": [
        "# def model_fit_tl(model_tl, train_data_generator, validation_data_generator, epochs=10):\n",
        "#   lr_reduce = ReduceLROnPlateau(monitor='val_accuracy', factor=0.1, min_delta=0.0001, patience=1, verbose=1)\n",
        "\n",
        "#   file_path = 'weights.hdf5'    # save the weights and biases\n",
        "#   checkpoint = ModelCheckpoint(file_path, monitor='val_accuracy', verbose=1, save_best_only=True, mode='max')\n",
        "\n",
        "#   history = model_tl.fit(np.repeat(train_data_generator, 3, -1),\n",
        "#                   epochs = epochs,\n",
        "#                   callbacks = [lr_reduce, checkpoint],\n",
        "#                   validation_data = np.repeat(validation_data_generator, 3, -1))\n",
        "#   return history\n",
        "\n",
        "# history_tl = model_fit_tl(model_vgg16, train_data_generator, validation_data_generator, 10)"
      ],
      "metadata": {
        "id": "3Qt3ZM7nzh3g"
      },
      "execution_count": 32,
      "outputs": []
    },
    {
      "cell_type": "code",
      "source": [
        "# def model_fit_and_plot_loss_acc(model_tl):\n",
        "#   history = model_fit_tl(model_tl, train_data_generator, validation_data_generator, 10)\n",
        "#   hist = history.history\n",
        "#   x_arr = np.arange(len(hist['loss'])) + 1\n",
        "\n",
        "#   fig = plt.figure(figsize=(16,6))\n",
        "#   ax = fig.add_subplot(1,2,1)\n",
        "#   ax.plot(x_arr, hist['loss'], '-o', label='Train Loss')\n",
        "#   ax.plot(x_arr, hist['val_loss'], '--<', label='Validation Loss')\n",
        "#   ax.legend(fontsize=12)\n",
        "#   ax.set_xlabel('Epoch', size=14)\n",
        "#   ax.set_ylabel('Loss', size=14)\n",
        "#   ax.set_title('Loss', size=20)\n",
        "\n",
        "#   ax = fig.add_subplot(1,2,2)\n",
        "#   ax.plot(x_arr, hist['accuracy'], '-o', label='Train Acc.')\n",
        "#   ax.plot(x_arr, hist['val_accuracy'], '--<', label='Validation Acc.')\n",
        "#   ax.legend(fontsize=12)\n",
        "#   ax.set_xlabel('Epoch', size=14)\n",
        "#   ax.set_ylabel('Accuracy', size=14)\n",
        "#   ax.set_title('Accuracy', size=20);\n",
        "\n",
        "# # model_fit_and_plot_loss_acc(model_vgg16)\n",
        "# # model_fit_and_plot_loss_acc(model_vgg19)\n",
        "# model_fit_and_plot_loss_acc(model_vgg16)"
      ],
      "metadata": {
        "id": "KEg8SJsb-L2g"
      },
      "execution_count": 33,
      "outputs": []
    },
    {
      "cell_type": "code",
      "source": [
        "# model_compile_tl(model_resnet, optimizer='Adam', learning_rate = 0.001)\n",
        "# model_fit_tl(model_resnet, train_data_generator, validation_data_generator, epochs=7)\n",
        "# plot_loss_acc(history_tl)\n",
        "# model_evaluate(model_resnet, train_data_generator, test_data_generator)\n",
        "# error_analysis(test_labels, test_data_generator)"
      ],
      "metadata": {
        "id": "7aLGM0Ya2VFw"
      },
      "execution_count": 34,
      "outputs": []
    },
    {
      "cell_type": "code",
      "source": [
        "# plot_loss_acc(history_tl)"
      ],
      "metadata": {
        "id": "w2oFzLEpXN9B"
      },
      "execution_count": 35,
      "outputs": []
    },
    {
      "cell_type": "code",
      "source": [
        "# model_evaluate(model_resnet, train_data_generator, test_data_generator)"
      ],
      "metadata": {
        "id": "OCISMTYyXakg"
      },
      "execution_count": 36,
      "outputs": []
    },
    {
      "cell_type": "code",
      "source": [
        "# error_analysis(test_labels, test_data_generator)"
      ],
      "metadata": {
        "id": "mTkPSXVaYYr7"
      },
      "execution_count": 37,
      "outputs": []
    }
  ]
}