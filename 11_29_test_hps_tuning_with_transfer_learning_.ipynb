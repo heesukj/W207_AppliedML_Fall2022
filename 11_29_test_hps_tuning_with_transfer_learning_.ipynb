{
  "nbformat": 4,
  "nbformat_minor": 0,
  "metadata": {
    "colab": {
      "provenance": [],
      "include_colab_link": true
    },
    "kernelspec": {
      "name": "python3",
      "display_name": "Python 3"
    },
    "language_info": {
      "name": "python"
    },
    "accelerator": "GPU",
    "gpuClass": "standard"
  },
  "cells": [
    {
      "cell_type": "markdown",
      "metadata": {
        "id": "view-in-github",
        "colab_type": "text"
      },
      "source": [
        "<a href=\"https://colab.research.google.com/github/heesukjang/W207_AppliedML_Fall2022/blob/main/11_29_test_hps_tuning_with_transfer_learning_.ipynb\" target=\"_parent\"><img src=\"https://colab.research.google.com/assets/colab-badge.svg\" alt=\"Open In Colab\"/></a>"
      ]
    },
    {
      "cell_type": "code",
      "source": [
        "import pandas as pd\n",
        "import numpy as np\n",
        "import os\n",
        "import time\n",
        "import random\n",
        "import joblib\n",
        "import glob\n",
        "import random\n",
        "from itertools import product\n",
        "import gc\n",
        "import subprocess\n",
        "import shutil\n",
        "import copy\n",
        "import statistics as st\n",
        "from scipy import stats\n",
        "\n",
        "from imutils import rotate as rotate\n",
        "import cv2\n",
        "import matplotlib.pyplot as plt\n",
        "import seaborn as sns\n",
        "import plotly.express as px\n",
        "import matplotlib.patches as patches\n",
        "from matplotlib.patches import Polygon\n",
        "from sklearn.metrics import confusion_matrix\n",
        "from mlxtend.plotting import plot_confusion_matrix\n",
        "from skimage.color import gray2rgb\n",
        "import skimage.io as skio\n",
        "from keras.utils.layer_utils import count_params\n",
        "from tensorflow.keras.layers import Concatenate\n",
        "\n",
        "from sklearn.utils import shuffle\n",
        "from sklearn.decomposition import PCA\n",
        "from sklearn.decomposition import IncrementalPCA\n",
        "from sklearn.model_selection import train_test_split\n",
        "from sklearn.model_selection import StratifiedKFold\n",
        "from sklearn.metrics import roc_auc_score\n",
        "from sklearn.metrics import roc_curve\n",
        "from sklearn.metrics import auc\n",
        "from sklearn import metrics\n",
        "from sklearn.metrics import precision_recall_fscore_support as score\n",
        "from sklearn.metrics import classification_report, cohen_kappa_score, zero_one_loss\n",
        "from sklearn.model_selection import KFold\n",
        "from sklearn.model_selection import cross_val_score\n",
        "from sklearn.model_selection import cross_val_predict\n",
        "from sklearn.model_selection import StratifiedShuffleSplit\n",
        "from sklearn.model_selection import train_test_split, GridSearchCV\n",
        "\n",
        "# from tensorflow.keras.preprocessing.image import array_to_img\n",
        "# from tensorflow.keras.preprocessing.image import img_to_array\n",
        "# from tensorflow.keras.preprocessing.image import load_img\n",
        "# from tensorflow.keras.preprocessing.image import save_img\n",
        "\n",
        "import tensorflow as tf\n",
        "from tensorflow import keras\n",
        "from tensorflow.keras import layers\n",
        "from tensorflow.keras.preprocessing.image import ImageDataGenerator\n",
        "from tensorflow.keras.losses import BinaryCrossentropy, CategoricalCrossentropy\n",
        "#from livelossplot import PlotLossesKeras\n",
        "\n",
        "from tensorflow.keras.layers import Lambda\n",
        "from tensorflow.keras.layers import Multiply\n",
        "# from tensorflow.keras.layers import LSTM\n",
        "from tensorflow.keras.layers import Bidirectional\n",
        "from tensorflow.keras.layers import RandomFlip, RandomZoom, RandomRotation, Conv2D, AveragePooling2D, GlobalAveragePooling2D, MaxPooling2D\n",
        "from tensorflow.keras.layers import AveragePooling2D, Input, Dense, Flatten, Dropout, BatchNormalization, GlobalAveragePooling2D\n",
        "from tensorflow.keras.layers import PReLU, ReLU, LeakyReLU\n",
        "from keras.layers.core import Activation\n",
        "from keras.layers.convolutional import SeparableConv1D\n",
        "from keras.layers.convolutional import SeparableConv2D \n",
        "from keras.layers.core import Activation\n",
        "from tensorflow.keras.optimizers import Adam, SGD, Adadelta, Adagrad, RMSprop\n",
        "from tensorflow.keras.models import Sequential\n",
        "\n",
        "from keras.applications.vgg16 import VGG16\n",
        "from keras.applications.vgg19 import VGG19\n",
        "from keras.applications.densenet import *\n",
        "from keras.applications.resnet import ResNet152\n",
        "from tensorflow.keras.applications import ResNet152V2\n",
        "from keras.applications.nasnet import NASNetMobile\n",
        "from keras.applications.nasnet import NASNetLarge\n",
        "from keras.applications.nasnet import preprocess_input\n",
        "from keras.applications import MobileNetV2\n",
        "from keras.applications.xception import Xception\n",
        "from keras.applications.inception_v3 import *\n",
        "\n",
        "\n",
        "from tensorflow.keras.preprocessing.image import array_to_img, img_to_array, load_img, save_img\n",
        "from tensorflow.python.ops.numpy_ops import np_config\n",
        "from keras.callbacks import ModelCheckpoint, EarlyStopping, ReduceLROnPlateau, LearningRateScheduler\n",
        "\n",
        "from keras.models import Model\n",
        "from tensorflow.keras import regularizers\n",
        "from tensorflow.keras.regularizers import l1\n",
        "from tensorflow.keras.regularizers import l2\n",
        "from keras.models import load_model\n",
        "from IPython.display import Image\n",
        "from tensorflow.keras.applications import ResNet152V2, VGG16, VGG19\n",
        "\n",
        "tf.get_logger().setLevel('INFO')\n",
        "\n",
        "import cv2 as cv\n",
        "import skimage.io as io\n",
        "\n",
        "import warnings\n",
        "warnings.filterwarnings('ignore')\n",
        "warnings.simplefilter(\"ignore\", category=DeprecationWarning)\n",
        "\n",
        "# Required to read the data from Kaggle\n",
        "from google.colab import drive\n",
        "# drive.mount('/content/gdrive')\n",
        "# os.environ['KAGGLE_CONFIG_DIR'] = \"/content/gdrive/MyDrive/Kaggle\"\n",
        "\n",
        "from google.colab import drive\n",
        "drive.mount('/content/gdrive')\n",
        "\n",
        "import logging\n",
        "\n",
        "# get TF logger\n",
        "log = logging.getLogger('tensorflow') # tell it to log it to a file"
      ],
      "metadata": {
        "colab": {
          "base_uri": "https://localhost:8080/"
        },
        "id": "AqvUA0UoCPSd",
        "outputId": "4ebd313a-5beb-46e9-9083-75f41a424a55"
      },
      "execution_count": 1,
      "outputs": [
        {
          "output_type": "stream",
          "name": "stdout",
          "text": [
            "Drive already mounted at /content/gdrive; to attempt to forcibly remount, call drive.mount(\"/content/gdrive\", force_remount=True).\n"
          ]
        }
      ]
    },
    {
      "cell_type": "code",
      "source": [
        "# # send text data to a file\n",
        "# # when colab crashes and force to terminate, go see the file and find out where the implementation left off and restart your code from there\n",
        "# fh = logging.FileHandler('tensorflow.log')\n",
        "# fh.setLevel(logging.DEBUG)\n",
        "# fh.setFormatter(formatter)\n",
        "# log.addHandler(fh)"
      ],
      "metadata": {
        "id": "4cXUtcOcabEp"
      },
      "execution_count": 2,
      "outputs": []
    },
    {
      "cell_type": "code",
      "source": [
        "# #send plots to a file \n",
        "# plt.savefig('books_read.png')"
      ],
      "metadata": {
        "id": "BJVR4Ud0anUW"
      },
      "execution_count": 3,
      "outputs": []
    },
    {
      "cell_type": "code",
      "source": [
        "# tf.keras.utils.plot_model(model)"
      ],
      "metadata": {
        "id": "1yl8KLZbOqcd"
      },
      "execution_count": 4,
      "outputs": []
    },
    {
      "cell_type": "code",
      "source": [
        "# !unzip gdrive/MyDrive/Kaggle/CNN_IDC/Dataset.zip                  "
      ],
      "metadata": {
        "id": "ftiQ04jV6roA",
        "colab": {
          "base_uri": "https://localhost:8080/"
        },
        "outputId": "196f827a-f928-4124-9212-32a6a3e809e4"
      },
      "execution_count": 5,
      "outputs": [
        {
          "output_type": "stream",
          "name": "stdout",
          "text": [
            "Archive:  gdrive/MyDrive/Kaggle/CNN_IDC/Dataset.zip\n",
            "replace Dataset/.DS_Store? [y]es, [n]o, [A]ll, [N]one, [r]ename: N\n"
          ]
        }
      ]
    },
    {
      "cell_type": "code",
      "source": [
        "# delete a full folder including all its files and subfolders\n",
        "!rm -rf processed_images/                    "
      ],
      "metadata": {
        "id": "dFwV9FlsaApf"
      },
      "execution_count": 6,
      "outputs": []
    },
    {
      "cell_type": "code",
      "source": [
        "!ls -ltr Dataset"
      ],
      "metadata": {
        "id": "WjE-qGmqW9qS",
        "colab": {
          "base_uri": "https://localhost:8080/"
        },
        "outputId": "e9ad41b4-f61d-4a47-c6b4-fecfe15a4c9a"
      },
      "execution_count": 7,
      "outputs": [
        {
          "output_type": "stream",
          "name": "stdout",
          "text": [
            "total 12\n",
            "drwxr-xr-x 4 root root 4096 Oct  4 01:10 Test\n",
            "drwxr-xr-x 4 root root 4096 Oct  4 01:10 Train\n",
            "drwxr-xr-x 4 root root 4096 Oct  4 01:10 Validate\n"
          ]
        }
      ]
    },
    {
      "cell_type": "code",
      "source": [
        "# ls -ltr: List the contents of the current directory in the long listing format ( -l ), \n",
        "#   sorted by modification time ( -t ) in reverse order ( -r ) of all files and directories beginning with file* .\n",
        "# wc -l: count the number of lines\n",
        "\n",
        "!ls -ltr Dataset/Train/0|wc -l\n",
        "!ls -ltr Dataset/Train/1|wc -l\n",
        "\n",
        "!ls -ltr Dataset/Test/0|wc -l\n",
        "!ls -ltr Dataset/Test/1|wc -l\n",
        "\n",
        "!ls -ltr Dataset/Validate/0|wc -l\n",
        "!ls -ltr Dataset/Validate/1|wc -l"
      ],
      "metadata": {
        "id": "rNK-XNrxXBVl",
        "colab": {
          "base_uri": "https://localhost:8080/"
        },
        "outputId": "2e2511e9-5f7a-4b0e-ac6d-a0cf75666f95"
      },
      "execution_count": 8,
      "outputs": [
        {
          "output_type": "stream",
          "name": "stdout",
          "text": [
            "401\n",
            "401\n",
            "101\n",
            "101\n",
            "101\n",
            "101\n"
          ]
        }
      ]
    },
    {
      "cell_type": "code",
      "source": [
        "val_image_directory = '/content/Dataset/Validate'\n",
        "train_image_directory = '/content/Dataset/Train'\n",
        "test_image_directory = '/content/Dataset/Test'\n",
        "directory_path = '/content/Dataset'\n",
        "\n",
        "tgt_directory_path = '/content/processed_images'\n",
        "tgt_train_1_image_path = '/content/processed_images/train/1/'\n",
        "tgt_train_0_image_path = '/content/processed_images/train/0/'\n",
        "tgt_val_1_image_path = '/content/processed_images/val/1/'\n",
        "tgt_val_0_image_path = '/content/processed_images/val/0/'\n",
        "tgt_test_1_image_path = '/content/processed_images/test/1/'\n",
        "tgt_test_0_image_path = '/content/processed_images/test/0/'\n",
        "\n",
        "tgt_path_list = [tgt_train_1_image_path, tgt_train_0_image_path,\n",
        "                 tgt_val_1_image_path, tgt_val_0_image_path,\n",
        "                 tgt_test_1_image_path, tgt_test_0_image_path\n",
        "                ]"
      ],
      "metadata": {
        "id": "UATtHsgNSRqG"
      },
      "execution_count": 9,
      "outputs": []
    },
    {
      "cell_type": "code",
      "source": [
        "def preprocess(data_dir):\n",
        "  images_path_1 = [data_dir + '/' +  dir + '/' for dir in os.listdir(data_dir) if dir != '.DS_Store'][0]\n",
        "  images_path_0 = [data_dir + '/' +  dir + '/' for dir in os.listdir(data_dir) if dir != '.DS_Store'][1]\n",
        "\n",
        "  images_list_1 = [images_path_1 + file for file in list(os.walk(images_path_1))[0][2] if file[0] != '.']\n",
        "  images_list_0 = [images_path_0 + file for file in list(os.walk(images_path_0))[0][2] if file[0] != '.']\n",
        "\n",
        "  return images_list_1, images_list_0"
      ],
      "metadata": {
        "id": "F0Q-ykr5SbLP"
      },
      "execution_count": 10,
      "outputs": []
    },
    {
      "cell_type": "code",
      "source": [
        "train_1_images_list, train_0_images_list = preprocess(train_image_directory)\n",
        "test_1_images_list, test_0_images_list = preprocess(test_image_directory)\n",
        "val_1_images_list, val_0_images_list = preprocess(val_image_directory)"
      ],
      "metadata": {
        "id": "vfrO2qWjV0oQ"
      },
      "execution_count": 11,
      "outputs": []
    },
    {
      "cell_type": "code",
      "source": [
        "len(train_1_images_list + train_0_images_list + test_1_images_list + test_0_images_list + val_1_images_list + val_0_images_list)"
      ],
      "metadata": {
        "id": "BmVWCg1geoxB",
        "colab": {
          "base_uri": "https://localhost:8080/"
        },
        "outputId": "e758ff4c-19db-41f5-d51d-0d386c4d89b4"
      },
      "execution_count": 12,
      "outputs": [
        {
          "output_type": "execute_result",
          "data": {
            "text/plain": [
              "1200"
            ]
          },
          "metadata": {},
          "execution_count": 12
        }
      ]
    },
    {
      "cell_type": "code",
      "source": [
        "len(train_1_images_list), len(train_0_images_list), len(test_1_images_list), len(test_0_images_list), len(val_1_images_list), len(val_0_images_list)"
      ],
      "metadata": {
        "id": "XNjz53EpXpb-",
        "colab": {
          "base_uri": "https://localhost:8080/"
        },
        "outputId": "a7499318-8767-4361-ef55-afc073ac96c5"
      },
      "execution_count": 13,
      "outputs": [
        {
          "output_type": "execute_result",
          "data": {
            "text/plain": [
              "(400, 400, 100, 100, 100, 100)"
            ]
          },
          "metadata": {},
          "execution_count": 13
        }
      ]
    },
    {
      "cell_type": "code",
      "source": [
        "test_img = load_img(train_1_images_list[0], color_mode =\"grayscale\")\n",
        "test_img_arry = img_to_array(test_img)\n",
        "print(type(test_img))\n",
        "print(test_img.format)\n",
        "print(test_img.mode)\n",
        "print(test_img.size)\n",
        "print(test_img.getbands())\n",
        "print(test_img_arry.shape)\n",
        "print(\"****\")\n",
        "test_img1 = load_img(train_1_images_list[0])\n",
        "test_img1_arry = img_to_array(test_img1)\n",
        "print(test_img1_arry.shape)\n",
        "print(test_img1.getbands())"
      ],
      "metadata": {
        "id": "V_g0AF4Xd-LJ",
        "colab": {
          "base_uri": "https://localhost:8080/"
        },
        "outputId": "54e9c13a-f828-4e96-d43a-bbc4b88a1edd"
      },
      "execution_count": 14,
      "outputs": [
        {
          "output_type": "stream",
          "name": "stdout",
          "text": [
            "<class 'PIL.Image.Image'>\n",
            "None\n",
            "L\n",
            "(50, 50)\n",
            "('L',)\n",
            "(50, 50, 1)\n",
            "****\n",
            "(50, 50, 3)\n",
            "('R', 'G', 'B')\n"
          ]
        }
      ]
    },
    {
      "cell_type": "markdown",
      "source": [
        "## Display the first 5 images for each class\n",
        ": IDC Malignant (1) vs. IDC Benign (0)\n"
      ],
      "metadata": {
        "id": "vVq4Le9MIfV8"
      }
    },
    {
      "cell_type": "code",
      "source": [
        "IMG_SIZE = 50"
      ],
      "metadata": {
        "id": "UUgKYziVkc_i"
      },
      "execution_count": 15,
      "outputs": []
    },
    {
      "cell_type": "code",
      "source": [
        "def display_images(subclass, class_name):\n",
        "  fig, axes = plt.subplots(nrows=1, ncols=6, figsize=(17,6))\n",
        "  for idx, ax in enumerate(axes.flat):\n",
        "    img = io.imread(subclass[idx])\n",
        "    img = cv.resize(img, (IMG_SIZE, IMG_SIZE))    # resize an image from 50 by 50 to 512 by 512\n",
        "    ax.imshow(img)\n",
        "    ax.set_title(class_name)\n",
        "    # ax.set_xticks([])       # remove xticks passing an empty array\n",
        "    # ax.set_yticks([])       # remove yticks passing an empty array\n",
        "  fig.tight_layout() \n",
        "  plt.show() \n",
        "\n",
        "display_images(train_1_images_list, 'IDC Malignant (1)')\n",
        "display_images(train_0_images_list, ' IDC Benign (0)')"
      ],
      "metadata": {
        "id": "cbpAbSsOH9Be",
        "colab": {
          "base_uri": "https://localhost:8080/",
          "height": 0
        },
        "outputId": "5d06d5d1-2c81-429a-848c-ad61c13c2a68"
      },
      "execution_count": 16,
      "outputs": [
        {
          "output_type": "display_data",
          "data": {
            "text/plain": [
              "<Figure size 1224x432 with 6 Axes>"
            ],
            "image/png": "[encoded data removed]"
          },
          "metadata": {
            "needs_background": "light"
          }
        },
        {
          "output_type": "display_data",
          "data": {
            "text/plain": [
              "<Figure size 1224x432 with 6 Axes>"
            ],
            "image/png": "[encoded data removed]"
          },
          "metadata": {
            "needs_background": "light"
          }
        }
      ]
    },
    {
      "cell_type": "code",
      "source": [
        "# from google.colab.patches import cv2_imshow\n",
        "\n",
        "# RESIZED_SIZE = 62\n",
        "\n",
        "# fig = plt.figure(figsize=(22,9))\n",
        "\n",
        "# # orig_gs = load_img(train_1_images_list[0], color_mode =\"grayscale\")\n",
        "# # arr_orig_gs = img_to_array(orig_gs)\n",
        "\n",
        "# orig_cs = load_img(train_1_images_list[0], color_mode =\"rgb\")\n",
        "# arr_orig_cs = img_to_array(orig_cs)\n",
        "\n",
        "# # =============== Original =================================\n",
        "# original = io.imread(train_1_images_list[0], as_gray=False)\n",
        "# ax = fig.add_subplot(2,5,1)\n",
        "# ax.imshow(original)\n",
        "# ax.set_title(f\"Original: {IMG_SIZE} X {IMG_SIZE}\", size=14)\n",
        "\n",
        "# # # =============== Resize =================================\n",
        "# resize = cv.resize(original, (RESIZED_SIZE,RESIZED_SIZE))\n",
        "# # cv.resize(img, (IMG_SIZE, IMG_SIZE))\n",
        "# ax = fig.add_subplot(2,5,2)\n",
        "# ax.imshow(resize)\n",
        "# ax.set_title(f\"Resize: {RESIZED_SIZE} X {RESIZED_SIZE}\", size=14)\n",
        "\n",
        "# # =============== Horizontal Flip =========================\n",
        "# h_flip = cv2.flip(original, 1)\n",
        "# ax = fig.add_subplot(2,5,3)\n",
        "# ax.imshow(h_flip)\n",
        "# ax.set_title(f\"Horizontal Flip\", size=14)\n",
        "\n",
        "# # =============== Vertical Flip ===========================\n",
        "# v_flip = cv2.flip(original, 0)\n",
        "# ax = fig.add_subplot(2,5,4)\n",
        "# ax.imshow(v_flip)\n",
        "# ax.set_title(f\"Vertical Flip\", size=14)\n",
        "\n",
        "# # # =============== Rotation 45 =============================\n",
        "# rot_45 = int(random.uniform(-45, 45))\n",
        "# print('rot_45', rot_45)\n",
        "# # # h, w = arr_orig_cs.shape[:2]\n",
        "# # # print('h, w', h, w)\n",
        "# # M = cv2.getRotationMatrix2D((int(IMG_SIZE/2), int(IMG_SIZE/2)), rot_45, 1)\n",
        "# # rotated_img_gs = cv2.warpAffine(arr_orig_cs, M, (w, h))\n",
        "# # rotated_img_gs = img_to_array(rotated_img_gs)\n",
        "# # print(\"rot45****\")\n",
        "# ax = fig.add_subplot(2,5,5)\n",
        "# # ax.imshow(rotated_img_gs)\n",
        "# # cv2_imshow(rotated_img_gs)\n",
        "\n",
        "# rot90_img = tf.image.rot90(original, k=1)\n",
        "# ax.imshow(rot90_img)\n",
        "# # ax.axis('off')\n",
        "# ax.set_title('Rotate 90', size=14)\n",
        "\n",
        "\n",
        "# resized = cv2.resize(test_img_arry, (224, 224), interpolation = cv2.INTER_AREA) \n",
        "# print('Resized Dimensions : ',resized.shape) \n",
        "# cv2_imshow(resized)\n",
        "\n",
        "# # =============== Rotation 90 =============================\n",
        "# angle = int(random.uniform(-90, 90))\n",
        "# print('angle', angle)\n",
        "# # h, w = test_img_arry.shape[:2]\n",
        "# # M = cv2.getRotationMatrix2D((int(w/2), int(h/2)), angle, 1)\n",
        "# # rotated_img_gs = cv2.warpAffine(test_img_arry, M, (w, h))\n",
        "# # rotated_img_gs = img_to_array(rotated_img_gs)\n",
        "# # print(\"rot90****\")\n",
        "# # cv2_imshow(rotated_img_gs)\n",
        "# # print();cv2_imshow(arr_original)\n",
        "\n",
        "# # =============== Rotation 180 ============================\n",
        "# # angle = int(random.uniform(-180, 180))\n",
        "# # h, w = test_img_arry.shape[:2]\n",
        "# # M = cv2.getRotationMatrix2D((int(w/2), int(h/2)), angle, 1)\n",
        "# # rotated_img_gs = cv2.warpAffine(test_img_arry, M, (w, h))\n",
        "# # rotated_img_gs = img_to_array(rotated_img_gs)\n",
        "# # print(\"rot180****\")\n",
        "# # cv2_imshow(rotated_img_gs)\n",
        "\n",
        "# # # rotate ccw\n",
        "# # out=cv2.transpose(test_img_arry)\n",
        "# # out=cv2.flip(out,flipCode=0)\n",
        "# # rotated_img_gs = img_to_array(out)\n",
        "# # print(\"90ccwrot****\")\n",
        "# # cv2_imshow(out)\n",
        "\n",
        "# # out=cv2.transpose(test_img_arry)\n",
        "# # out=cv2.flip(out,flipCode=1)\n",
        "# # rotated_img_gs = img_to_array(out)\n",
        "# # print(\"90rot****\")\n",
        "# # cv2_imshow(out)\n"
      ],
      "metadata": {
        "id": "r7bXcuyZJhBx"
      },
      "execution_count": 17,
      "outputs": []
    },
    {
      "cell_type": "code",
      "source": [
        "from google.colab.patches import cv2_imshow\n",
        "\n",
        "test_img = load_img(train_1_images_list[0], color_mode =\"grayscale\")\n",
        "test_img_arry = img_to_array(test_img)\n",
        "print(\"original****\")\n",
        "cv2_imshow(test_img_arry)\n",
        "\n",
        "bright_img_gs = tf.image.adjust_brightness(test_img_arry, delta=10)\n",
        "bright_img_gs = img_to_array(bright_img_gs)\n",
        "print(\"0.3_bright****\")\n",
        "cv2_imshow(bright_img_gs)\n",
        "\n",
        "contrast_img_gs = tf.image.adjust_contrast(test_img_arry, contrast_factor=3)\n",
        "contrast_img_gs = img_to_array(contrast_img_gs)\n",
        "print(\"3_contrast****\")\n",
        "cv2_imshow(contrast_img_gs)\n",
        "\n",
        "hflip_img_gs = cv2.flip(test_img_arry, 1)\n",
        "print(\"vflip****\")\n",
        "cv2_imshow(hflip_img_gs)\n",
        "\n",
        "vflip_img_gs = cv2.flip(test_img_arry, 0)\n",
        "print(\"hflip****\")\n",
        "cv2_imshow(vflip_img_gs)\n",
        "\n",
        "angle = int(random.uniform(-90, 90))\n",
        "h, w = test_img_arry.shape[:2]\n",
        "M = cv2.getRotationMatrix2D((int(w/2), int(h/2)), angle, 1)\n",
        "rotated_img_gs = cv2.warpAffine(test_img_arry, M, (w, h))\n",
        "rotated_img_gs = img_to_array(rotated_img_gs)\n",
        "print(\"rot90****\")\n",
        "cv2_imshow(rotated_img_gs)\n",
        "\n",
        "angle = int(random.uniform(-45, 45))\n",
        "h, w = test_img_arry.shape[:2]\n",
        "M = cv2.getRotationMatrix2D((int(w/2), int(h/2)), angle, 1)\n",
        "rotated_img_gs = cv2.warpAffine(test_img_arry, M, (w, h))\n",
        "rotated_img_gs = img_to_array(rotated_img_gs)\n",
        "print(\"rot45****\")\n",
        "cv2_imshow(rotated_img_gs)\n",
        "\n",
        "angle = int(random.uniform(-180, 180))\n",
        "h, w = test_img_arry.shape[:2]\n",
        "M = cv2.getRotationMatrix2D((int(w/2), int(h/2)), angle, 1)\n",
        "rotated_img_gs = cv2.warpAffine(test_img_arry, M, (w, h))\n",
        "rotated_img_gs = img_to_array(rotated_img_gs)\n",
        "print(\"rot180****\")\n",
        "cv2_imshow(rotated_img_gs)\n",
        "\n",
        "# rotate ccw\n",
        "out=cv2.transpose(test_img_arry)\n",
        "out=cv2.flip(out,flipCode=0)\n",
        "rotated_img_gs = img_to_array(out)\n",
        "print(\"90ccwrot****\")\n",
        "cv2_imshow(out)\n",
        "\n",
        "out=cv2.transpose(test_img_arry)\n",
        "out=cv2.flip(out,flipCode=1)\n",
        "rotated_img_gs = img_to_array(out)\n",
        "print(\"90rot****\")\n",
        "cv2_imshow(out)"
      ],
      "metadata": {
        "id": "TCVsAcTIzjXG",
        "colab": {
          "base_uri": "https://localhost:8080/",
          "height": 0
        },
        "outputId": "94b7f3d6-541d-4876-f4c8-4c531a4c2d79"
      },
      "execution_count": 18,
      "outputs": [
        {
          "output_type": "stream",
          "name": "stdout",
          "text": [
            "original****\n"
          ]
        },
        {
          "output_type": "display_data",
          "data": {
            "text/plain": [
              "<PIL.Image.Image image mode=RGB size=50x50 at 0x7FD4140CC290>"
            ],
            "image/png": "[encoded data removed]"
          },
          "metadata": {}
        },
        {
          "output_type": "stream",
          "name": "stdout",
          "text": [
            "0.3_bright****\n"
          ]
        },
        {
          "output_type": "display_data",
          "data": {
            "text/plain": [
              "<PIL.Image.Image image mode=RGB size=50x50 at 0x7FD41406A890>"
            ],
            "image/png": "[encoded data removed]"
          },
          "metadata": {}
        },
        {
          "output_type": "stream",
          "name": "stdout",
          "text": [
            "3_contrast****\n"
          ]
        },
        {
          "output_type": "display_data",
          "data": {
            "text/plain": [
              "<PIL.Image.Image image mode=RGB size=50x50 at 0x7FD418886990>"
            ],
            "image/png": "[encoded data removed]"
          },
          "metadata": {}
        },
        {
          "output_type": "stream",
          "name": "stdout",
          "text": [
            "vflip****\n"
          ]
        },
        {
          "output_type": "display_data",
          "data": {
            "text/plain": [
              "<PIL.Image.Image image mode=L size=50x50 at 0x7FD41406A9D0>"
            ],
            "image/png": "[encoded data removed]"
          },
          "metadata": {}
        },
        {
          "output_type": "stream",
          "name": "stdout",
          "text": [
            "hflip****\n"
          ]
        },
        {
          "output_type": "display_data",
          "data": {
            "text/plain": [
              "<PIL.Image.Image image mode=L size=50x50 at 0x7FD41406A050>"
            ],
            "image/png": "[encoded data removed]"
          },
          "metadata": {}
        },
        {
          "output_type": "stream",
          "name": "stdout",
          "text": [
            "rot90****\n"
          ]
        },
        {
          "output_type": "display_data",
          "data": {
            "text/plain": [
              "<PIL.Image.Image image mode=RGB size=50x50 at 0x7FD41406A710>"
            ],
            "image/png": "[encoded data removed]"
          },
          "metadata": {}
        },
        {
          "output_type": "stream",
          "name": "stdout",
          "text": [
            "rot45****\n"
          ]
        },
        {
          "output_type": "display_data",
          "data": {
            "text/plain": [
              "<PIL.Image.Image image mode=RGB size=50x50 at 0x7FD41406A410>"
            ],
            "image/png": "[encoded data removed]"
          },
          "metadata": {}
        },
        {
          "output_type": "stream",
          "name": "stdout",
          "text": [
            "rot180****\n"
          ]
        },
        {
          "output_type": "display_data",
          "data": {
            "text/plain": [
              "<PIL.Image.Image image mode=RGB size=50x50 at 0x7FD41406A3D0>"
            ],
            "image/png": "[encoded data removed]"
          },
          "metadata": {}
        },
        {
          "output_type": "stream",
          "name": "stdout",
          "text": [
            "90ccwrot****\n"
          ]
        },
        {
          "output_type": "display_data",
          "data": {
            "text/plain": [
              "<PIL.Image.Image image mode=L size=50x50 at 0x7FD41406AA90>"
            ],
            "image/png": "[encoded data removed]"
          },
          "metadata": {}
        },
        {
          "output_type": "stream",
          "name": "stdout",
          "text": [
            "90rot****\n"
          ]
        },
        {
          "output_type": "display_data",
          "data": {
            "text/plain": [
              "<PIL.Image.Image image mode=L size=50x50 at 0x7FD41406A3D0>"
            ],
            "image/png": "[encoded data removed]"
          },
          "metadata": {}
        }
      ]
    },
    {
      "cell_type": "code",
      "source": [
        "resized = cv2.resize(test_img_arry, (224, 224), interpolation = cv2.INTER_AREA) \n",
        "print('Resized Dimensions : ',resized.shape) \n",
        "cv2_imshow(resized)"
      ],
      "metadata": {
        "id": "5I6GPlMm_6GR",
        "colab": {
          "base_uri": "https://localhost:8080/",
          "height": 0
        },
        "outputId": "3f88ceec-8f1d-427c-8334-3c6f0da28c70"
      },
      "execution_count": 19,
      "outputs": [
        {
          "output_type": "stream",
          "name": "stdout",
          "text": [
            "Resized Dimensions :  (224, 224)\n"
          ]
        },
        {
          "output_type": "display_data",
          "data": {
            "text/plain": [
              "<PIL.Image.Image image mode=L size=224x224 at 0x7FD414066BD0>"
            ],
            "image/png": "[encoded data removed]"
          },
          "metadata": {}
        }
      ]
    },
    {
      "cell_type": "markdown",
      "source": [
        "# Filter Out Odd Images\n",
        "- Exclude images that are not **50 by 50**\n",
        "- Exclude images with no **.png** extension"
      ],
      "metadata": {
        "id": "JskE-RJrzNuQ"
      }
    },
    {
      "cell_type": "code",
      "source": [
        "odd_images = []\n",
        "def extract_odd_images(file_list, IMG_SIZE = 50):\n",
        "    for file_name in file_list:\n",
        "        test_img = load_img(file_name, color_mode =\"grayscale\")\n",
        "        test_img_arry = img_to_array(test_img)\n",
        "        if test_img_arry.shape[0] != IMG_SIZE or test_img_arry.shape[1] != IMG_SIZE:\n",
        "            odd_images.append(file_name)"
      ],
      "metadata": {
        "id": "ksYFBFjrdbFK"
      },
      "execution_count": 20,
      "outputs": []
    },
    {
      "cell_type": "code",
      "source": [
        "extract_odd_images(train_1_images_list + train_0_images_list + test_1_images_list + test_0_images_list + val_1_images_list + val_0_images_list)"
      ],
      "metadata": {
        "id": "BewtIomPefkn"
      },
      "execution_count": 21,
      "outputs": []
    },
    {
      "cell_type": "code",
      "source": [
        "odd_images"
      ],
      "metadata": {
        "id": "zcBUXUXqe6Xv",
        "colab": {
          "base_uri": "https://localhost:8080/"
        },
        "outputId": "e39bac3e-969a-464c-fa44-6f9419e48a84"
      },
      "execution_count": 22,
      "outputs": [
        {
          "output_type": "execute_result",
          "data": {
            "text/plain": [
              "['/content/Dataset/Train/0/12954_idx5_x1651_y2951_class0.png',\n",
              " '/content/Dataset/Train/0/13106_idx5_x1_y2951_class0.png',\n",
              " '/content/Dataset/Train/0/9347_idx5_x2101_y801_class0.png',\n",
              " '/content/Dataset/Test/0/13404_idx5_x1101_y2901_class0.png',\n",
              " '/content/Dataset/Validate/0/9320_idx5_x801_y2951_class0.png',\n",
              " '/content/Dataset/Validate/0/13694_idx5_x1551_y2801_class0.png',\n",
              " '/content/Dataset/Validate/0/12931_idx5_x1901_y2151_class0.png']"
            ]
          },
          "metadata": {},
          "execution_count": 22
        }
      ]
    },
    {
      "cell_type": "code",
      "source": [
        "import cv2 as cv\n",
        "import skimage.io as io\n",
        "\n",
        "def display_images(subclass):\n",
        "  fig, axes = plt.subplots(nrows=1, ncols=7, figsize=(20,8))\n",
        "  for idx, ax in enumerate(axes.flat):\n",
        "    image_wo_path = os.path.basename(subclass[idx])\n",
        "    subtitle = 'Class ' + image_wo_path.rsplit('.')[0][-1] + ': ' + subclass[idx].split('/')[3]\n",
        "    img = io.imread(subclass[idx])\n",
        "    ax.imshow(img)\n",
        "    # ax.axis('off')\n",
        "    ax.set_title(subtitle, size=14)   \n",
        "  fig.tight_layout() \n",
        "  plt.show() \n",
        "\n",
        "print();display_images(odd_images)"
      ],
      "metadata": {
        "colab": {
          "base_uri": "https://localhost:8080/",
          "height": 0
        },
        "id": "GUjzcW6KmPpa",
        "outputId": "4aaf9b7f-089e-40f7-ba8f-b402f0151643"
      },
      "execution_count": 23,
      "outputs": [
        {
          "output_type": "stream",
          "name": "stdout",
          "text": [
            "\n"
          ]
        },
        {
          "output_type": "display_data",
          "data": {
            "text/plain": [
              "<Figure size 1440x576 with 7 Axes>"
            ],
            "image/png": "[encoded data removed]"
          },
          "metadata": {
            "needs_background": "light"
          }
        }
      ]
    },
    {
      "cell_type": "code",
      "source": [
        "train_0_images_list[:5]"
      ],
      "metadata": {
        "id": "oVtUbzBwSkOx",
        "colab": {
          "base_uri": "https://localhost:8080/"
        },
        "outputId": "ad6f81fa-8986-4a3e-b448-9c5a3e14e349"
      },
      "execution_count": 24,
      "outputs": [
        {
          "output_type": "execute_result",
          "data": {
            "text/plain": [
              "['/content/Dataset/Train/1/9077_idx5_x451_y1701_class1.png',\n",
              " '/content/Dataset/Train/1/9176_idx5_x1651_y1551_class1.png',\n",
              " '/content/Dataset/Train/1/14190_idx5_x2701_y1551_class1.png',\n",
              " '/content/Dataset/Train/1/16166_idx5_x1501_y1801_class1.png',\n",
              " '/content/Dataset/Train/1/10273_idx5_x1651_y1951_class1.png']"
            ]
          },
          "metadata": {},
          "execution_count": 24
        }
      ]
    },
    {
      "cell_type": "code",
      "source": [
        "train_1_images_list[0].split(\"/\")[-1], train_1_images_list[0][:train_1_images_list[0].rfind(\"/\") + 1]"
      ],
      "metadata": {
        "id": "2BcU0Mx5ShaC",
        "colab": {
          "base_uri": "https://localhost:8080/"
        },
        "outputId": "c9370b46-3599-4d79-d2c8-96bf7b65b3cc"
      },
      "execution_count": 25,
      "outputs": [
        {
          "output_type": "execute_result",
          "data": {
            "text/plain": [
              "('10286_idx5_x1051_y901_class0.png', '/content/Dataset/Train/0/')"
            ]
          },
          "metadata": {},
          "execution_count": 25
        }
      ]
    },
    {
      "cell_type": "code",
      "source": [
        "# delete a full folder including all its files and subfolders\n",
        "!rm -rf processed_images/"
      ],
      "metadata": {
        "id": "wIGRZoWrzuJ4"
      },
      "execution_count": 26,
      "outputs": []
    },
    {
      "cell_type": "markdown",
      "source": [
        "# Create a New Directory Path to Store Processed Images"
      ],
      "metadata": {
        "id": "ExufXq8gzvre"
      }
    },
    {
      "cell_type": "code",
      "source": [
        "root_dir = 'processed_images'\n",
        "\n",
        "os.makedirs(f'{root_dir}', exist_ok = True)\n",
        "for dir in ['train', 'val', 'test']:\n",
        "    for sub_dir in ['1', '0']:\n",
        "        os.makedirs(f'{root_dir}/{dir}/{sub_dir}', exist_ok=True)"
      ],
      "metadata": {
        "id": "NuLyO5-kX9RL"
      },
      "execution_count": 27,
      "outputs": []
    },
    {
      "cell_type": "markdown",
      "source": [
        "# Image Augmentation on Training Dataset\n",
        "- Convert color to gray scale\n",
        "- Flip: Horizontal and Vertical\n",
        "- Rotate 90 degree"
      ],
      "metadata": {
        "id": "BK4hkV9niRAs"
      }
    },
    {
      "cell_type": "code",
      "source": [
        "# def create_gs_files(file_list, dest_dir, ind):\n",
        "def create_gs_files(file_list, dest_dir, ind, brightness_delta=0.3, contrast_factor=3):\n",
        "  # print(file_list, dest_dir, ind)\n",
        "  lst_train_1_gs, lst_train_0_gs = [], []\n",
        "  lst_val_1_gs, lst_val_0_gs = [], []\n",
        "  lst_test_1_gs, lst_test_0_gs = [], []\n",
        "\n",
        "  file_extension = '.png'\n",
        "  for image_file in file_list:\n",
        "      #print(image_file)\n",
        "      if image_file[0] == '.' or image_file in odd_images:                                     # if image_file = .DS_Store or an odd image then ignore\n",
        "          continue\n",
        "      img_gs = load_img(image_file, color_mode = \"grayscale\")                                     # convert images from colorscale to grayscale\n",
        "      img_array_gs = img_to_array(img_gs)                                                         # convert grayscale images to array\n",
        "      #print(\"a\")\n",
        "      #img_array_gs = cv2.resize(img_array_gs, (224, 224), interpolation = cv2.INTER_AREA)\n",
        "      \n",
        "      file_name = image_file.split(\"/\")[-1]                                                       # extract only filenames from the full file path\n",
        "      save_img(dest_dir + file_name.split(\".\")[0] + '_gs' + file_extension, img_array_gs)\n",
        "      if ind == 1:\n",
        "          # insert raw training images in gray scale\n",
        "          lst_train_1_gs.append(dest_dir + file_name.split(\".\")[0] + '_gs' + file_extension)\n",
        "\n",
        "          # adjust brightness\n",
        "          bright_img_gs = tf.image.adjust_brightness(img_array_gs, delta=brightness_delta)\n",
        "          img_array_bright_gs = img_to_array(bright_img_gs)\n",
        "          save_img(dest_dir + file_name.split(\".\")[0] + '_bright_gs' + file_extension, img_array_bright_gs)\n",
        "          lst_train_1_gs.append(dest_dir + file_name.split(\".\")[0] + '_bright_gs' + file_extension)\n",
        "          \n",
        "          # adjust contrast\n",
        "          contrast_img_gs = tf.image.adjust_contrast(img_array_gs, contrast_factor=contrast_factor)\n",
        "          img_array_contrast_gs = img_to_array(contrast_img_gs)\n",
        "          save_img(dest_dir + file_name.split(\".\")[0] + '_contrast_gs' + file_extension, img_array_contrast_gs)\n",
        "          lst_train_1_gs.append(dest_dir + file_name.split(\".\")[0] + '_contrast_gs' + file_extension)\n",
        "\n",
        "          # horizontal flip\n",
        "          hflip_img_gs = cv2.flip(img_array_gs, 1)\n",
        "          img_array_hflip_gs = img_to_array(hflip_img_gs)\n",
        "          save_img(dest_dir + file_name.split(\".\")[0] + '_hflip_gs' + file_extension, img_array_hflip_gs)\n",
        "          lst_train_1_gs.append(dest_dir + file_name.split(\".\")[0] + '_hflip_gs' + file_extension)\n",
        "\n",
        "          # vertical flip\n",
        "          vflip_img_gs = cv2.flip(img_array_gs, 0)\n",
        "          img_array_vflip_gs = img_to_array(vflip_img_gs)\n",
        "          save_img(dest_dir + file_name.split(\".\")[0] + '_vflip_gs' + file_extension, img_array_vflip_gs)\n",
        "          lst_train_1_gs.append(dest_dir + file_name.split(\".\")[0] + '_vflip_gs' + file_extension)\n",
        "\n",
        "          # rotate 90 degree\n",
        "          angle = int(random.uniform(-90, 90))\n",
        "          h, w = img_array_gs.shape[:2]\n",
        "          M = cv2.getRotationMatrix2D((int(w/2), int(h/2)), angle, 1)\n",
        "          rotated_img_gs = cv2.warpAffine(img_array_gs, M, (w, h))\n",
        "          img_array_rotated_gs = img_to_array(rotated_img_gs)\n",
        "          save_img(dest_dir + file_name.split(\".\")[0] + '_90rotated_gs' + file_extension, img_array_rotated_gs)\n",
        "          lst_train_1_gs.append(dest_dir + file_name.split(\".\")[0] + '_90rotated_gs' + file_extension)\n",
        "          '''\n",
        "          angle = int(random.uniform(-279, 270))\n",
        "          h, w = img_array_gs.shape[:2]\n",
        "          M = cv2.getRotationMatrix2D((int(w/2), int(h/2)), angle, 1)\n",
        "          rotated_img_gs = cv2.warpAffine(img_array_gs, M, (w, h))\n",
        "          img_array_rotated_gs = img_to_array(rotated_img_gs)\n",
        "          save_img(dest_dir + file_name.split(\".\")[0] + '_270rotated_gs' + file_extension, img_array_rotated_gs)\n",
        "          lst_train_1_gs.append(dest_dir + file_name.split(\".\")[0] + '_270rotated_gs' + file_extension)\n",
        "          \n",
        "          img_90rot_gs = cv2.rotate(img_gs, cv2.cv2.ROTATE_90_CLOCKWISE)\n",
        "          img_array_90rot_gs = img_to_array(img_90rot_gs)\n",
        "          save_img(dest_dir + file_name.split(\".\")[0] + '_90rot_gs' + file_extension, img_array_90rot_gs)\n",
        "          lst_train_1_gs.append(dest_dir + file_name.split(\".\")[0] + '_90rot_gs' + file_extension)\n",
        "          \n",
        "          img_180rot_gs = cv2.rotate(img_gs, cv2.cv2.ROTATE_180_CLOCKWISE)\n",
        "          img_array_180rot_gs = img_to_array(img_180rot_gs)\n",
        "          save_img(dest_dir + file_name.split(\".\")[0] + '_180rot_gs' + file_extension, img_array_180rot_gs)\n",
        "          lst_train_1_gs.append(dest_dir + file_name.split(\".\")[0] + '_180rot_gs' + file_extension)\n",
        "\n",
        "          img_270rot_gs = cv2.rotate(img_gs, cv2.cv2.ROTATE_270_CLOCKWISE)\n",
        "          img_array_270rot_gs = img_to_array(img_90rot_gs)\n",
        "          save_img(dest_dir + file_name.split(\".\")[0] + '_90rot_gs' + file_extension, img_array_270rot_gs)\n",
        "          lst_train_1_gs.append(dest_dir + file_name.split(\".\")[0] + '_90rot_gs' + file_extension)\n",
        "          '''\n",
        "          #  histogram equalized image\n",
        "          img_gs = cv2.imread(image_file, 0)\n",
        "          img_array_enhanced_gs = cv2.equalizeHist(img_gs)\n",
        "          img_array_enhanced_gs = img_to_array(img_array_enhanced_gs)\n",
        "          save_img(dest_dir + file_name.split(\".\")[0] + '_enhance_gs' + file_extension, img_array_enhanced_gs)\n",
        "          lst_train_1_gs.append(dest_dir + file_name.split(\".\")[0] + '_enhanced_gs' + file_extension)\n",
        "\n",
        "          # transpose and rotate 90 degrees counter clockwise (flip around x-axis)\n",
        "          img_ccw90rot_gs = cv2.transpose(img_array_gs)\n",
        "          img_ccw90rot_gs = cv2.flip(img_ccw90rot_gs, flipCode = 0)\n",
        "          rotatedccw90_img_gs = img_to_array(img_ccw90rot_gs)\n",
        "          save_img(dest_dir + file_name.split(\".\")[0] + '_ccw90rot_gs' + file_extension, rotatedccw90_img_gs)\n",
        "          lst_train_1_gs.append(dest_dir + file_name.split(\".\")[0] + '_ccw90rot_gs' + file_extension)\n",
        "          #print(\"e\")\n",
        "\n",
        "          # transpose and rotate 90 degrees (flip around y-axis)\n",
        "          img_90rot_gs = cv2.transpose(img_array_gs)\n",
        "          img_90rot_gs = cv2.flip(img_90rot_gs, flipCode = 1)\n",
        "          rotated90_img_gs = img_to_array(img_90rot_gs)\n",
        "          save_img(dest_dir + file_name.split(\".\")[0] + '_90rot_gs' + file_extension, rotated90_img_gs)\n",
        "          lst_train_1_gs.append(dest_dir + file_name.split(\".\")[0] + '_90rot_gs' + file_extension)\n",
        "          #print(\"f\")\n",
        "\n",
        "      elif ind == 2:\n",
        "          # insert raw training images in gray scale\n",
        "          lst_train_0_gs.append(dest_dir + file_name.split(\".\")[0] + '_gs' + file_extension)\n",
        "\n",
        "          # adjust brightness\n",
        "          bright_img_gs = tf.image.adjust_brightness(img_array_gs, delta=brightness_delta)\n",
        "          img_array_bright_gs = img_to_array(bright_img_gs)\n",
        "          save_img(dest_dir + file_name.split(\".\")[0] + '_bright_gs' + file_extension, img_array_bright_gs)\n",
        "          lst_train_0_gs.append(dest_dir + file_name.split(\".\")[0] + '_bright_gs' + file_extension)\n",
        "          \n",
        "          # adjust contrast\n",
        "          contrast_img_gs = tf.image.adjust_contrast(img_array_gs, contrast_factor=contrast_factor)\n",
        "          img_array_contrast_gs = img_to_array(contrast_img_gs)\n",
        "          save_img(dest_dir + file_name.split(\".\")[0] + '_contrast_gs' + file_extension, img_array_contrast_gs)\n",
        "          lst_train_0_gs.append(dest_dir + file_name.split(\".\")[0] + '_contrast_gs' + file_extension)\n",
        "\n",
        "          # horizontal flip\n",
        "          hflip_img_gs = cv2.flip(img_array_gs, 1)\n",
        "          img_array_hflip_gs = img_to_array(hflip_img_gs)\n",
        "          save_img(dest_dir + file_name.split(\".\")[0] + '_hflip_gs' + file_extension, img_array_hflip_gs)\n",
        "          lst_train_0_gs.append(dest_dir + file_name.split(\".\")[0] + '_hflip_gs' + file_extension)\n",
        "\n",
        "          # vertical flip\n",
        "          vflip_img_gs = cv2.flip(img_array_gs, 0)\n",
        "          img_array_vflip_gs = img_to_array(vflip_img_gs)\n",
        "          save_img(dest_dir + file_name.split(\".\")[0] + '_vflip_gs' + file_extension, img_array_vflip_gs)\n",
        "          lst_train_0_gs.append(dest_dir + file_name.split(\".\")[0] + '_vflip_gs' + file_extension)\n",
        "\n",
        "          # rotate 90 degree\n",
        "          angle = int(random.uniform(-90, 90))\n",
        "          h, w = img_array_gs.shape[:2]\n",
        "          M = cv2.getRotationMatrix2D((int(w/2), int(h/2)), angle, 1)\n",
        "          rotated_img_gs = cv2.warpAffine(img_array_gs, M, (w, h))\n",
        "          img_array_rotated_gs = img_to_array(rotated_img_gs)\n",
        "          save_img(dest_dir + file_name.split(\".\")[0] + '_90rotated_gs' + file_extension, img_array_rotated_gs)\n",
        "          lst_train_0_gs.append(dest_dir + file_name.split(\".\")[0] + '_90rotated_gs' + file_extension)\n",
        "          '''\n",
        "          angle = int(random.uniform(-279, 270))\n",
        "          h, w = img_array_gs.shape[:2]\n",
        "          M = cv2.getRotationMatrix2D((int(w/2), int(h/2)), angle, 1)\n",
        "          rotated_img_gs = cv2.warpAffine(img_array_gs, M, (w, h))\n",
        "          img_array_rotated_gs = img_to_array(rotated_img_gs)\n",
        "          save_img(dest_dir + file_name.split(\".\")[0] + '_270rotated_gs' + file_extension, img_array_rotated_gs)\n",
        "          lst_train_0_gs.append(dest_dir + file_name.split(\".\")[0] + '_270rotated_gs' + file_extension)\n",
        "          \n",
        "          img_90rot_gs = cv2.rotate(img_gs, cv2.cv2.ROTATE_90_CLOCKWISE)\n",
        "          img_array_90rot_gs = img_to_array(img_90rot_gs)\n",
        "          save_img(dest_dir + file_name.split(\".\")[0] + '_90rot_gs' + file_extension, img_array_90rot_gs)\n",
        "          lst_train_0_gs.append(dest_dir + file_name.split(\".\")[0] + '_90rot_gs' + file_extension)\n",
        "          \n",
        "          img_180rot_gs = cv2.rotate(img_gs, cv2.cv2.ROTATE_180_CLOCKWISE)\n",
        "          img_array_180rot_gs = img_to_array(img_180rot_gs)\n",
        "          save_img(dest_dir + file_name.split(\".\")[0] + '_180rot_gs' + file_extension, img_array_180rot_gs)\n",
        "          lst_train_0_gs.append(dest_dir + file_name.split(\".\")[0] + '_180rot_gs' + file_extension)\n",
        "\n",
        "          img_270rot_gs = cv2.rotate(img_gs, cv2.cv2.ROTATE_270_CLOCKWISE)\n",
        "          img_array_270rot_gs = img_to_array(img_90rot_gs)\n",
        "          save_img(dest_dir + file_name.split(\".\")[0] + '_90rot_gs' + file_extension, img_array_270rot_gs)\n",
        "          lst_train_0_gs.append(dest_dir + file_name.split(\".\")[0] + '_90rot_gs' + file_extension)\n",
        "          '''\n",
        "          #  histogram equalized image\n",
        "          img_gs = cv2.imread(image_file, 0)\n",
        "          img_array_enhanced_gs = cv2.equalizeHist(img_gs)\n",
        "          img_array_enhanced_gs = img_to_array(img_array_enhanced_gs)\n",
        "          save_img(dest_dir + file_name.split(\".\")[0] + '_enhance_gs' + file_extension, img_array_enhanced_gs)\n",
        "          lst_train_0_gs.append(dest_dir + file_name.split(\".\")[0] + '_enhanced_gs' + file_extension)\n",
        "\n",
        "          # transpose and rotate 90 degrees counter clockwise (flip around x-axis)\n",
        "          img_ccw90rot_gs = cv2.transpose(img_array_gs)\n",
        "          img_ccw90rot_gs = cv2.flip(img_ccw90rot_gs, flipCode = 0)\n",
        "          rotatedccw90_img_gs = img_to_array(img_ccw90rot_gs)\n",
        "          save_img(dest_dir + file_name.split(\".\")[0] + '_ccw90rot_gs' + file_extension, rotatedccw90_img_gs)\n",
        "          lst_train_0_gs.append(dest_dir + file_name.split(\".\")[0] + '_ccw90rot_gs' + file_extension)\n",
        "\n",
        "          # transpose and rotate 90 degrees (flip around y-axis)\n",
        "          img_90rot_gs = cv2.transpose(img_array_gs)\n",
        "          img_90rot_gs = cv2.flip(img_90rot_gs, flipCode = 1)\n",
        "          rotated90_img_gs = img_to_array(img_90rot_gs)\n",
        "          save_img(dest_dir + file_name.split(\".\")[0] + '_90rot_gs' + file_extension, rotated90_img_gs)\n",
        "          lst_train_0_gs.append(dest_dir + file_name.split(\".\")[0] + '_90rot_gs' + file_extension)\n",
        "\n",
        "      elif ind == 3:\n",
        "          lst_val_1_gs.append(dest_dir + file_name.split(\".\")[0] + '_gs' + file_extension)\n",
        "      elif ind == 4:\n",
        "          lst_val_0_gs.append(dest_dir + file_name.split(\".\")[0] + '_gs' + file_extension)\n",
        "      elif ind == 5:\n",
        "          lst_test_1_gs.append(dest_dir + file_name.split(\".\")[0] + '_gs' + file_extension)\n",
        "      elif ind == 6:\n",
        "          lst_test_0_gs.append(dest_dir + file_name.split(\".\")[0] + '_gs' + file_extension)\n",
        "              "
      ],
      "metadata": {
        "id": "3-MFsdu1Shc_"
      },
      "execution_count": 28,
      "outputs": []
    },
    {
      "cell_type": "code",
      "source": [
        "# len(os.listdir('/content/Dataset/Validate/0'))"
      ],
      "metadata": {
        "id": "RRzsJjRdYI-N"
      },
      "execution_count": 29,
      "outputs": []
    },
    {
      "cell_type": "markdown",
      "source": [
        "# Store Processed Images to New Directory\n",
        "- Convert color to gray scale\n",
        "- Append augmented images"
      ],
      "metadata": {
        "id": "b4_OFquExX6h"
      }
    },
    {
      "cell_type": "code",
      "source": [
        "create_gs_files(train_1_images_list, tgt_train_1_image_path, 1, 0.3, 3)\n",
        "print(len(os.listdir('/content/Dataset/Train/1')))\n",
        "print(len(os.listdir(tgt_train_1_image_path)))\n",
        "create_gs_files(train_0_images_list, tgt_train_0_image_path, 2, 0.3, 3)\n",
        "print(len(os.listdir('/content/Dataset/Train/0')))\n",
        "print(len(os.listdir(tgt_train_0_image_path)))\n",
        "\n",
        "create_gs_files(val_1_images_list, tgt_val_1_image_path, 3, 0.3, 3)\n",
        "print(len(os.listdir('/content/Dataset/Validate/1')))\n",
        "print(len(os.listdir(tgt_val_1_image_path)))\n",
        "create_gs_files(val_0_images_list, tgt_val_0_image_path, 4, 0.3, 3)\n",
        "print(len(os.listdir('/content/Dataset/Validate/0')))\n",
        "print(len(os.listdir(tgt_val_0_image_path)))\n",
        "\n",
        "create_gs_files(test_1_images_list, tgt_test_1_image_path, 5, 0.3, 3)\n",
        "print(len(os.listdir('/content/Dataset/Test/1')))\n",
        "print(len(os.listdir(tgt_test_1_image_path)))\n",
        "create_gs_files(test_0_images_list, tgt_test_0_image_path, 6, 0.3, 3)\n",
        "print(len(os.listdir('/content/Dataset/Test/0')))\n",
        "print(len(os.listdir(tgt_test_0_image_path)))"
      ],
      "metadata": {
        "id": "Nn5sGtRqURP5",
        "colab": {
          "base_uri": "https://localhost:8080/"
        },
        "outputId": "bdfc400e-cb6c-45ad-f09f-99d63cc49785"
      },
      "execution_count": 30,
      "outputs": [
        {
          "output_type": "stream",
          "name": "stdout",
          "text": [
            "401\n",
            "3573\n",
            "401\n",
            "3600\n",
            "101\n",
            "97\n",
            "101\n",
            "100\n",
            "101\n",
            "99\n",
            "101\n",
            "100\n"
          ]
        }
      ]
    },
    {
      "cell_type": "code",
      "source": [
        "!ls -ltr /content/Dataset/Train/1/*.png|wc -l\n",
        "!ls -ltr /content/Dataset/Train/0/*.png|wc -l"
      ],
      "metadata": {
        "id": "X9_PlsJlbDak",
        "colab": {
          "base_uri": "https://localhost:8080/"
        },
        "outputId": "f2a05dae-4c12-4cde-9a05-fc597fd7cda3"
      },
      "execution_count": 31,
      "outputs": [
        {
          "output_type": "stream",
          "name": "stdout",
          "text": [
            "400\n",
            "400\n"
          ]
        }
      ]
    },
    {
      "cell_type": "markdown",
      "source": [
        "# Check the Number of Processed Images in Each Class of Training Dataset"
      ],
      "metadata": {
        "id": "hLaNEkyvx3ct"
      }
    },
    {
      "cell_type": "code",
      "source": [
        "!ls -ltra /content/processed_images/train/1/*.png|wc -l\n",
        "!ls -ltra /content/processed_images/train/0/*.png|wc -l"
      ],
      "metadata": {
        "id": "I58crwAWUK-E",
        "colab": {
          "base_uri": "https://localhost:8080/"
        },
        "outputId": "89046ba7-c88e-4661-d679-3c7f420e12a4"
      },
      "execution_count": 32,
      "outputs": [
        {
          "output_type": "stream",
          "name": "stdout",
          "text": [
            "3573\n",
            "3600\n"
          ]
        }
      ]
    },
    {
      "cell_type": "code",
      "source": [
        "# def custom_augmentation(np_tensor):\n",
        " \n",
        "#     def random_contrast(np_tensor):\n",
        "#         return tf.image.random_contrast(np_tensor, 0.5, 2)\n",
        " \n",
        "#     def random_hue(np_tensor):\n",
        "#         return tf.image.random_hue(np_tensor, 0.5)\n",
        " \n",
        "#     def random_saturation(np_tensor):\n",
        "#         return tf.image.random_saturation(np_tensor, 0.2, 3)\n",
        " \n",
        "#     def gaussian_noise(np_tensor):\n",
        "#         mean = 0\n",
        "#         # variance: randomly between 1 to 25\n",
        "#         var = np.random.randint(1, 26)\n",
        "#         # sigma is square root of the variance value\n",
        "#         noise = np.random.normal(mean,var**0.5,np_tensor.shape)\n",
        "#         return np.clip(np_tensor + noise, 0, 255).astype('int')\n",
        "\n",
        "#     augmnted_tensor = random_contrast(np_tensor)\n",
        "#     augmnted_tensor = random_hue(augmnted_tensor)\n",
        "#     augmnted_tensor = random_saturation(augmnted_tensor)\n",
        "#     augmented_tensor = gaussian_noise(augmnted_tensor)\n",
        "  \n",
        "#     return np.array(augmnted_tensor)\n",
        "\n",
        "# # Train data generator\n",
        "# train_datagen = tf.keras.preprocessing.image.ImageDataGenerator(\n",
        "#     #featurewise_center            = True, \n",
        "#     #featurewise_std_normalization = True,\n",
        "#     rescale                       = 1.0/255\n",
        "# )\n",
        "\n",
        "# # Validation data generator\n",
        "# val_datagen = tf.keras.preprocessing.image.ImageDataGenerator(\n",
        "#     #featurewise_center            = True, \n",
        "#     #featurewise_std_normalization = True\n",
        "#     rescale = 1.0/255\n",
        "#     )\n",
        "\n",
        "# # Test data generator\n",
        "# test_datagen = tf.keras.preprocessing.image.ImageDataGenerator(\n",
        "#     #featurewise_center            = True, \n",
        "#     #featurewise_std_normalization = True\n",
        "#     rescale = 1.0/255\n",
        "#     )"
      ],
      "metadata": {
        "id": "hH1PhTDtgAHG"
      },
      "execution_count": 33,
      "outputs": []
    },
    {
      "cell_type": "markdown",
      "source": [
        "# Define Transfer Learning Models"
      ],
      "metadata": {
        "id": "fakIZQ_3xG64"
      }
    },
    {
      "cell_type": "code",
      "source": [
        "def build_transfer_learning_model(chosen_model):\n",
        "    \"\"\"\n",
        "    This function utilizes transfer learning of a given model.\n",
        "    \"\"\"\n",
        "    tf.random.set_seed(random_state)\n",
        "    np.random.seed(random_state)\n",
        "    tf.keras.backend.clear_session()\n",
        "\n",
        "    input_shape = (IMG_SIZE, IMG_SIZE, 3)\n",
        "    if chosen_model == 'VGG19':\n",
        "        model_tl = VGG19(weights = 'imagenet', include_top = False, input_shape = input_shape)\n",
        "    elif chosen_model == 'DenseNet201':\n",
        "        model_tl = tf.keras.applications.densenet.DenseNet201(weights = 'imagenet', include_top = False, input_shape = input_shape)\n",
        "    elif chosen_model == 'ResNet50':\n",
        "        model_tl = tf.keras.applications.resnet50.ResNet50(weights = 'imagenet', include_top = False, input_shape = input_shape)\n",
        "    elif chosen_model == 'ResNet152V2':\n",
        "        model_tl = ResNet152V2(weights = 'imagenet', include_top = False, input_shape = input_shape)       \n",
        "    elif chosen_model == 'VGG16':\n",
        "        model_tl = VGG16(weights = 'imagenet', include_top = False, input_shape = input_shape)\n",
        "    elif chosen_model == 'EfficientNetB7':\n",
        "        model_tl = tf.keras.applications.efficientnet.EfficientNetB7(weights = 'imagenet', include_top = False, input_shape = input_shape)\n",
        "    elif chosen_model == 'MobileNetV2':\n",
        "        model_tl = MobileNetV2(weights='imagenet',include_top = False, input_shape=input_shape)\n",
        "    elif chosen_model == 'Xception':\n",
        "        model_tl = tf.keras.applications.Xception(weights = 'imagenet', include_top = False, input_shape = input_shape)\n",
        "    elif chosen_model == 'InceptionV3':\n",
        "        model_tl = tf.keras.applications.InceptionV3(weights = 'imagenet', include_top = False, input_shape = input_shape)\n",
        "    return model_tl"
      ],
      "metadata": {
        "id": "dvw6LNAdkAW4"
      },
      "execution_count": 34,
      "outputs": []
    },
    {
      "cell_type": "markdown",
      "source": [
        "# Define plot_model_accuracy_and_loss function"
      ],
      "metadata": {
        "id": "k7BlY9hmxNUO"
      }
    },
    {
      "cell_type": "code",
      "source": [
        "def plot_model_accuracy_and_loss(history, chosen_model):\n",
        "   \"\"\"\n",
        "   This method plots model training and validation accuracies.\n",
        "   \"\"\"\n",
        "   tf.keras.backend.clear_session()\n",
        "\n",
        "   hist = history.history\n",
        "   x_arr = np.arange(len(hist['loss'])) + 1\n",
        "        \n",
        "   fig = plt.figure(figsize=(12, 4))\n",
        "   ax = fig.add_subplot(1, 2, 1)\n",
        "   ax.plot(x_arr, hist['loss'], '-o', label = 'Train Loss')\n",
        "   ax.plot(x_arr, hist['val_loss'], '--<', label = 'Val Loss')\n",
        "   ax.legend(fontsize=15)\n",
        "   ax.set_xlabel('Epoch', size = 15)\n",
        "   ax.set_ylabel('Loss', size = 15)\n",
        "\n",
        "   ax = fig.add_subplot(1, 2, 2)\n",
        "   ax.plot(x_arr, hist['accuracy'], '-o', label = 'Train Acc')\n",
        "   ax.plot(x_arr, hist['val_accuracy'], '--<', label = 'Val Acc')\n",
        "   ax.legend(fontsize = 15)\n",
        "   ax.set_xlabel('Epoch', size = 15)\n",
        "   ax.set_ylabel('Accuracy', size = 15)\n",
        "   ax.set_ylim(0,1)\n",
        "   plt.title(f\"{chosen_model}\")\n",
        "   plt.show(block = False)"
      ],
      "metadata": {
        "id": "Kymn8vnZsPc8"
      },
      "execution_count": 35,
      "outputs": []
    },
    {
      "cell_type": "markdown",
      "source": [
        "# Define Image Data Generator \n",
        ": 1200 given raw images + augmented images"
      ],
      "metadata": {
        "id": "VcWTaXg5yokz"
      }
    },
    {
      "cell_type": "code",
      "source": [
        "batch_size = 64\n",
        "random_state = 1234\n",
        "image_size = 50\n",
        "\n",
        "def data_generator(image_size): \n",
        "  processed_images_train_path = '/content/processed_images/train'           # contains augmented images with original images (4782 = IDC(1): 2400 + IDC(1): 2382)\n",
        "  processed_images_validation_path = '/content/processed_images/val'\n",
        "  processed_images_test_path = '/content/processed_images/test'\n",
        "\n",
        "  # train_datagen = ImageDataGenerator(rescale = 1./255,\n",
        "  #                                  horizontal_flip = True,\n",
        "  #                                  vertical_flip = True,\n",
        "  #                                  rotation_range = 180,\n",
        "  #                                  zoom_range = 0.4, \n",
        "  #                                  width_shift_range = 0.3,\n",
        "  #                                  height_shift_range = 0.3,\n",
        "  #                                  shear_range = 0.3\n",
        "  #                                  #,preprocessing_function = custom_augmentation \n",
        "  #                                 )\n",
        "\n",
        "  # # Validation data generator\n",
        "  # val_datagen = tf.keras.preprocessing.image.ImageDataGenerator(\n",
        "  #     rescale = 1.0/255\n",
        "  #     )\n",
        "\n",
        "  # # Test data generator\n",
        "  # test_datagen = tf.keras.preprocessing.image.ImageDataGenerator(\n",
        "  #     rescale = 1.0/255\n",
        "  #     )\n",
        "\n",
        "\n",
        "  datagen = tf.keras.preprocessing.image.ImageDataGenerator(rescale = 1.0/255)\n",
        "\n",
        "  train_data_generator = datagen.flow_from_directory(processed_images_train_path,\n",
        "                                                                      target_size = (image_size, image_size),\n",
        "                                                                      class_mode = 'categorical',\n",
        "                                                                      batch_size = batch_size,\n",
        "                                                                      color_mode = 'rgb',\n",
        "                                                                      shuffle = True,\n",
        "                                                                      seed = random_state\n",
        "                                                                      )\n",
        "  val_data_generator = datagen.flow_from_directory(processed_images_validation_path,\n",
        "                                                                  target_size = (image_size, image_size),\n",
        "                                                                  class_mode = 'categorical',\n",
        "                                                                  batch_size = batch_size,\n",
        "                                                                  color_mode = 'rgb',\n",
        "                                                                  shuffle = True,\n",
        "                                                                  seed = random_state\n",
        "                                                                  )\n",
        "  test_data_generator = datagen.flow_from_directory(processed_images_test_path,\n",
        "                                                                    target_size = (image_size, image_size),\n",
        "                                                                    batch_size = batch_size,\n",
        "                                                                    class_mode = 'categorical',\n",
        "                                                                    color_mode = 'rgb',\n",
        "                                                                    shuffle = False,\n",
        "                                                                    seed = random_state\n",
        "                                                                    )\n",
        "  return train_data_generator, val_data_generator, test_data_generator\n",
        "\n",
        "# train_data_generator, val_data_generator, test_data_generator = data_generator(image_size)"
      ],
      "metadata": {
        "id": "6ogPs-X7mtSK",
        "colab": {
          "base_uri": "https://localhost:8080/"
        },
        "outputId": "6c68e119-e223-49a4-96b8-5974f913c971"
      },
      "execution_count": 36,
      "outputs": [
        {
          "output_type": "stream",
          "name": "stdout",
          "text": [
            "Found 7173 images belonging to 2 classes.\n",
            "Found 197 images belonging to 2 classes.\n",
            "Found 199 images belonging to 2 classes.\n"
          ]
        }
      ]
    },
    {
      "cell_type": "code",
      "source": [
        "# transfer_learning_model_list = ['VGG16', \n",
        "#                                 'VGG19', \n",
        "#                                 'DenseNet201', \n",
        "#                                 'InceptionV3', \n",
        "#                                 'ResNet50', \n",
        "#                                 'EfficientNetB7', \n",
        "#                                 'MobileNetV2', \n",
        "#                                 'Xception'\n",
        "#                                ]"
      ],
      "metadata": {
        "id": "igoFfn5voLQj"
      },
      "execution_count": 37,
      "outputs": []
    },
    {
      "cell_type": "markdown",
      "source": [
        "# Define Model\n",
        "- Build CNN with Transfer Learning and model.compile\n",
        "- model.fit\n",
        "- model.evaluate and model.predict"
      ],
      "metadata": {
        "id": "8ZGKiVVJct-7"
      }
    },
    {
      "cell_type": "code",
      "source": [
        "!pip install -q -U keras-tuner\n",
        "import keras_tuner as kt"
      ],
      "metadata": {
        "id": "4wi7Qm7yiMbp"
      },
      "execution_count": 38,
      "outputs": []
    },
    {
      "cell_type": "code",
      "source": [
        "chosen_model = 'VGG16'"
      ],
      "metadata": {
        "id": "B3N5bYKg8_n8"
      },
      "execution_count": 39,
      "outputs": []
    },
    {
      "cell_type": "code",
      "source": [
        "# def cnn_with_tl(chosen_model='VGG16', \n",
        "#                 lr=0.001, \n",
        "#                 optimizer='adam', \n",
        "#                 activation='relu', \n",
        "#                 dropout_rate_1=0.2, \n",
        "#                 dropout_rate_2=0.2, \n",
        "#                 dropout_rate_3=0.2, \n",
        "#                 filter_1=512,\n",
        "#                 filter_2=512,\n",
        "#                 filter_3=256,\n",
        "#                 last_dense=True):\n",
        "def cnn_with_tl(hp):\n",
        "  \n",
        "  tf.keras.backend.clear_session()\n",
        "  tf.random.set_seed(1234)\n",
        "\n",
        "  pretrained_tl = build_transfer_learning_model(chosen_model = chosen_model)\n",
        "\n",
        "  model_tl = Sequential()  \n",
        "  for layer in pretrained_tl.layers:\n",
        "    model_tl.add(layer)\n",
        "    \n",
        "  for layer in model_tl.layers:\n",
        "    layer.trainable = False              # freeze extraction layers\n",
        "\n",
        "  # Define ranges of hyperparam values \n",
        "  # hp_kernel_size = hp.Int('kernel_size', min_value=3, max_value=5, step=1)\n",
        "  # hp_strides = hp.Int('strides', min_value=1, max_value=2, step=1)\n",
        "  # hp_pool_size = hp.Int('pool_size', min_value=2, max_value=3, step=1)\n",
        "  hp_activation = hp.Choice('activation', values=['tanh', 'relu', 'leaky_relu'], default='relu')\n",
        "  hp_optimizer = hp.Choice('optimizer', values=['adam', 'sgd'], default='adam')\n",
        "  hp_dense_1 = hp.Int('dense_units_1', min_value=256, max_value=512, step=128)\n",
        "  hp_dense_2 = hp.Int('dense_units_2', min_value=256, max_value=512, step=128)\n",
        "  hp_dense_3 = hp.Int('dense_units_3', min_value=128, max_value=256, step=128)\n",
        "  hp_learning_rate = hp.Choice('learning_rate', values=[1e-2, 1e-3])\n",
        "  hp_dropout_1 = hp.Choice('dropout_rate_1',values=[0.2, 0.3, 0.4, 0.5, 0.6])\n",
        "  hp_dropout_2 = hp.Choice('dropout_rate_2',values=[0.2, 0.3, 0.4, 0.5, 0.6])\n",
        "  hp_dropout_3 = hp.Choice('dropout_rate_3',values=[0.2, 0.3, 0.4, 0.5, 0.6])\n",
        "  # hp_reduction_type = hp.Choice('reduction_type', values=['global_avg_pooling2d', 'max_pooling2d'])\n",
        "\n",
        "  # if hp_reduction_type == 'global_avg_pooling2d':\n",
        "  model_tl.add(GlobalAveragePooling2D())\n",
        "  # else:\n",
        "  #   model_tl.add(MaxPooling2D(pool_size=(hp_pool_size,hp_pool_size), strides=(hp_strides,hp_strides)))  \n",
        "  model_tl.add(Dropout(hp_dropout_1))\n",
        "\n",
        "  model_tl.add(Dense(units = hp_dense_1, activation = hp_activation))\n",
        "  model_tl.add(BatchNormalization())\n",
        "  # if hp.Boolean('dropout_1'):\n",
        "  model_tl.add(Dropout(hp_dropout_2))\n",
        "\n",
        "  model_tl.add(Dense(units = hp_dense_2, activation = hp_activation))\n",
        "  model_tl.add(BatchNormalization())\n",
        "  if hp.Boolean('dropout_2'):\n",
        "    model_tl.add(Dropout(hp_dropout_3))\n",
        "\n",
        "  model_tl.add(Flatten())\n",
        "  \n",
        "  # if hp.Boolean('last_dense'):\n",
        "  model_tl.add(Dense(units = hp_dense_3, activation = hp_activation))\n",
        "  model_tl.add(BatchNormalization())\n",
        "  if hp.Boolean('dropout_3'):\n",
        "    model_tl.add(Dropout(hp_dropout_3))\n",
        "\n",
        "  model_tl.add(Dense(units = 2, activation = 'softmax'))                        # Output layer\n",
        "\n",
        "  def selected_optimizer(optimizer):\n",
        "    if optimizer.lower() == 'sgd':\n",
        "        return SGD(learning_rate=hp_learning_rate)           # SGD(learning_rate=learning_rate, momentum=0.95, decay=1, nesterov=True)\n",
        "    elif optimizer.lower() == 'adam':\n",
        "        return Adam(learning_rate=hp_learning_rate)          # Adam(learning_rate=learning_rate, beta_1=0.9, beta_2=0.999, epsilon=1e-8, kappa=1-1e-8)\n",
        "    elif optimizer.lower() == 'rmsprop':\n",
        "        return RMSprop(learning_rate=hp_learning_rate)       # RMSprop(learning_rate=learning_rate, rho=0.9, epsilon=1e-6)\n",
        "\n",
        "  model_tl.compile(loss=CategoricalCrossentropy(), \n",
        "                optimizer=selected_optimizer(hp_optimizer), \n",
        "                metrics=['accuracy'])  \n",
        "\n",
        "  return model_tl"
      ],
      "metadata": {
        "id": "HjPtK1Vehton"
      },
      "execution_count": 40,
      "outputs": []
    },
    {
      "cell_type": "code",
      "source": [
        "def hyperparam_tuning_with_kt(model, max_trials=20, epochs = 20):\n",
        "\n",
        "  callbacks = [EarlyStopping(monitor='val_loss', patience=3, verbose=1),\n",
        "                  ModelCheckpoint('model.hdf5', save_best_only=True)]\n",
        "\n",
        "  start_time = time.time()\n",
        "\n",
        "  # RandomSearch\n",
        "  tuner = kt.RandomSearch(\n",
        "            cnn_with_tl,\n",
        "            objective=\"val_loss\",             # infer_metric_direction_by_name(): maybe due to this objective - https://github.com/keras-team/keras-tuner/issues/74 | https://github.com/keras-team/keras-tuner/pull/76\n",
        "            max_trials=max_trials,                     # max_trials=50 or 10,\n",
        "            executions_per_trial=2,           # executions_per_trial=2,\n",
        "            overwrite=True,\n",
        "            directory=\"hj_dir\",\n",
        "            project_name=\"breast_cancer_classification\")\n",
        "\n",
        "  tuner.search(train_data_generator, \n",
        "              epochs=epochs, \n",
        "              callbacks=[callbacks], \n",
        "              validation_data=val_data_generator)\n",
        "  return tuner, callbacks\n",
        "\n",
        "# tuner, callbacks = hyperparam_tuning_with_kt(cnn_with_tl, max_trials=2, epochs=2)\n",
        "\n",
        "  # TIME CONSUMED: {03h 11m 15s} for max_trials=5, executions_per_trial=2, epochs=10)\n",
        "  # It took about 45 minues to complete each trial"
      ],
      "metadata": {
        "colab": {
          "base_uri": "https://localhost:8080/"
        },
        "id": "q_lEevlPk6W-",
        "outputId": "6cb8781c-fe64-4e82-aa41-ab35a65f0bc8"
      },
      "execution_count": 42,
      "outputs": [
        {
          "output_type": "stream",
          "name": "stderr",
          "text": [
            "INFO:tensorflow:Oracle triggered exit\n"
          ]
        },
        {
          "output_type": "stream",
          "name": "stdout",
          "text": [
            "Trial 2 Complete [00h 00m 24s]\n",
            "val_loss: 0.6901238262653351\n",
            "\n",
            "Best val_loss So Far: 0.6282224357128143\n",
            "Total elapsed time: 00h 00m 54s\n"
          ]
        }
      ]
    },
    {
      "cell_type": "code",
      "source": [
        "def model_with_best_hps(tuner): \n",
        "  best_hps = tuner.get_best_hyperparameters(num_trials=1)[0]     # num_trials=5\n",
        "  model = tuner.hypermodel.build(best_hps)\n",
        "  best_hps = pd.DataFrame.from_dict(best_hps.values, orient='index').T\n",
        "  best_hps = best_hps[['activation','optimizer','learning_rate']]\n",
        "  best_hps = best_hps.rename({'activation':'Activation','optimizer':'Optimizer','learning_rate':'LR'}, axis=1)\n",
        "  print(tuner.results_summary(1))\n",
        "  return model, best_hps\n",
        "  # tf.keras.utils.plot_model(model)\n",
        "  # model.summary()\n",
        "\n",
        "# model, best_hps = model_with_best_hps(tuner)\n",
        "# best_hps"
      ],
      "metadata": {
        "colab": {
          "base_uri": "https://localhost:8080/",
          "height": 411
        },
        "id": "_ybris68k6Ka",
        "outputId": "347cad51-0ff4-4fef-8938-46897cd110e8"
      },
      "execution_count": 55,
      "outputs": [
        {
          "output_type": "stream",
          "name": "stdout",
          "text": [
            "Results summary\n",
            "Results in hj_dir/breast_cancer_classification\n",
            "Showing 1 best trials\n",
            "<keras_tuner.engine.objective.Objective object at 0x7fd40a1d2a50>\n",
            "Trial summary\n",
            "Hyperparameters:\n",
            "activation: leaky_relu\n",
            "optimizer: adam\n",
            "dense_units_1: 384\n",
            "dense_units_2: 384\n",
            "dense_units_3: 128\n",
            "learning_rate: 0.001\n",
            "dropout_rate_1: 0.2\n",
            "dropout_rate_2: 0.5\n",
            "dropout_rate_3: 0.4\n",
            "dropout_2: True\n",
            "dropout_3: False\n",
            "Score: 0.6282224357128143\n",
            "None\n"
          ]
        },
        {
          "output_type": "execute_result",
          "data": {
            "text/plain": [
              "   Activation Optimizer     LR\n",
              "0  leaky_relu      adam  0.001"
            ],
            "text/html": [
              "\n",
              "  <div id=\"df-5627ecf7-96e4-44fc-88a7-07a6bafa9f55\">\n",
              "    <div class=\"colab-df-container\">\n",
              "      <div>\n",
              "<style scoped>\n",
              "    .dataframe tbody tr th:only-of-type {\n",
              "        vertical-align: middle;\n",
              "    }\n",
              "\n",
              "    .dataframe tbody tr th {\n",
              "        vertical-align: top;\n",
              "    }\n",
              "\n",
              "    .dataframe thead th {\n",
              "        text-align: right;\n",
              "    }\n",
              "</style>\n",
              "<table border=\"1\" class=\"dataframe\">\n",
              "  <thead>\n",
              "    <tr style=\"text-align: right;\">\n",
              "      <th></th>\n",
              "      <th>Activation</th>\n",
              "      <th>Optimizer</th>\n",
              "      <th>LR</th>\n",
              "    </tr>\n",
              "  </thead>\n",
              "  <tbody>\n",
              "    <tr>\n",
              "      <th>0</th>\n",
              "      <td>leaky_relu</td>\n",
              "      <td>adam</td>\n",
              "      <td>0.001</td>\n",
              "    </tr>\n",
              "  </tbody>\n",
              "</table>\n",
              "</div>\n",
              "      <button class=\"colab-df-convert\" onclick=\"convertToInteractive('df-5627ecf7-96e4-44fc-88a7-07a6bafa9f55')\"\n",
              "              title=\"Convert this dataframe to an interactive table.\"\n",
              "              style=\"display:none;\">\n",
              "        \n",
              "  <svg xmlns=\"http://www.w3.org/2000/svg\" height=\"24px\"viewBox=\"0 0 24 24\"\n",
              "       width=\"24px\">\n",
              "    <path d=\"M0 0h24v24H0V0z\" fill=\"none\"/>\n",
              "    <path d=\"M18.56 5.44l.94 2.06.94-2.06 2.06-.94-2.06-.94-.94-2.06-.94 2.06-2.06.94zm-11 1L8.5 8.5l.94-2.06 2.06-.94-2.06-.94L8.5 2.5l-.94 2.06-2.06.94zm10 10l.94 2.06.94-2.06 2.06-.94-2.06-.94-.94-2.06-.94 2.06-2.06.94z\"/><path d=\"M17.41 7.96l-1.37-1.37c-.4-.4-.92-.59-1.43-.59-.52 0-1.04.2-1.43.59L10.3 9.45l-7.72 7.72c-.78.78-.78 2.05 0 2.83L4 21.41c.39.39.9.59 1.41.59.51 0 1.02-.2 1.41-.59l7.78-7.78 2.81-2.81c.8-.78.8-2.07 0-2.86zM5.41 20L4 18.59l7.72-7.72 1.47 1.35L5.41 20z\"/>\n",
              "  </svg>\n",
              "      </button>\n",
              "      \n",
              "  <style>\n",
              "    .colab-df-container {\n",
              "      display:flex;\n",
              "      flex-wrap:wrap;\n",
              "      gap: 12px;\n",
              "    }\n",
              "\n",
              "    .colab-df-convert {\n",
              "      background-color: #E8F0FE;\n",
              "      border: none;\n",
              "      border-radius: 50%;\n",
              "      cursor: pointer;\n",
              "      display: none;\n",
              "      fill: #1967D2;\n",
              "      height: 32px;\n",
              "      padding: 0 0 0 0;\n",
              "      width: 32px;\n",
              "    }\n",
              "\n",
              "    .colab-df-convert:hover {\n",
              "      background-color: #E2EBFA;\n",
              "      box-shadow: 0px 1px 2px rgba(60, 64, 67, 0.3), 0px 1px 3px 1px rgba(60, 64, 67, 0.15);\n",
              "      fill: #174EA6;\n",
              "    }\n",
              "\n",
              "    [theme=dark] .colab-df-convert {\n",
              "      background-color: #3B4455;\n",
              "      fill: #D2E3FC;\n",
              "    }\n",
              "\n",
              "    [theme=dark] .colab-df-convert:hover {\n",
              "      background-color: #434B5C;\n",
              "      box-shadow: 0px 1px 3px 1px rgba(0, 0, 0, 0.15);\n",
              "      filter: drop-shadow(0px 1px 2px rgba(0, 0, 0, 0.3));\n",
              "      fill: #FFFFFF;\n",
              "    }\n",
              "  </style>\n",
              "\n",
              "      <script>\n",
              "        const buttonEl =\n",
              "          document.querySelector('#df-5627ecf7-96e4-44fc-88a7-07a6bafa9f55 button.colab-df-convert');\n",
              "        buttonEl.style.display =\n",
              "          google.colab.kernel.accessAllowed ? 'block' : 'none';\n",
              "\n",
              "        async function convertToInteractive(key) {\n",
              "          const element = document.querySelector('#df-5627ecf7-96e4-44fc-88a7-07a6bafa9f55');\n",
              "          const dataTable =\n",
              "            await google.colab.kernel.invokeFunction('convertToInteractive',\n",
              "                                                     [key], {});\n",
              "          if (!dataTable) return;\n",
              "\n",
              "          const docLinkHtml = 'Like what you see? Visit the ' +\n",
              "            '<a target=\"_blank\" href=https://colab.research.google.com/notebooks/data_table.ipynb>data table notebook</a>'\n",
              "            + ' to learn more about interactive tables.';\n",
              "          element.innerHTML = '';\n",
              "          dataTable['output_type'] = 'display_data';\n",
              "          await google.colab.output.renderOutput(dataTable, element);\n",
              "          const docLink = document.createElement('div');\n",
              "          docLink.innerHTML = docLinkHtml;\n",
              "          element.appendChild(docLink);\n",
              "        }\n",
              "      </script>\n",
              "    </div>\n",
              "  </div>\n",
              "  "
            ]
          },
          "metadata": {},
          "execution_count": 55
        }
      ]
    },
    {
      "cell_type": "code",
      "source": [
        "# def cnn_with_tl(chosen_model='VGG16', \n",
        "#                 lr=0.001, \n",
        "#                 optimizer='adam', \n",
        "#                 activation='relu', \n",
        "#                 dropout_rate_1=0.2, \n",
        "#                 dropout_rate_2=0.2, \n",
        "#                 dropout_rate_3=0.2, \n",
        "#                 filter_1=512,\n",
        "#                 filter_2=512,\n",
        "#                 filter_3=256,\n",
        "#                 last_dense=True):\n",
        "  \n",
        "#   tf.keras.backend.clear_session()\n",
        "#   tf.random.set_seed(1234)\n",
        "\n",
        "#   model_tl = build_transfer_learning_model(chosen_model = chosen_model)\n",
        "#   model_tl.trainable = False            # freeze extraction layers\n",
        "\n",
        "#   # 1st model: add custom top layers\n",
        "#   m_tl = model_tl.output\n",
        "#   m_tl = GlobalAveragePooling2D()(m_tl)\n",
        "#   m_tl = BatchNormalization()(m_tl)\n",
        "#   m_tl = Dropout(dropout_rate_1)(m_tl)\n",
        "#   # if dense_1:\n",
        "#   m_tl = Dense(filter_1,activation=activation)(m_tl)\n",
        "#   m_tl = BatchNormalization()(m_tl)\n",
        "#   m_tl = Dropout(dropout_rate_2)(m_tl)                                        # ADDITIONAL DROPOUT\n",
        "#   m_tl = Flatten()(m_tl)                                           # ADD FLATTEN LAYER\n",
        "#   m_tl = Dense(filter_2,activation=activation)(m_tl)\n",
        "#   m_tl = BatchNormalization()(m_tl)\n",
        "#   m_tl = Dropout(dropout_rate_3)(m_tl)\n",
        "#   if last_dense:\n",
        "#     m_tl = Dense(filter_3,activation=activation)(m_tl)\n",
        "#     m_tl = BatchNormalization()(m_tl)\n",
        "\n",
        "#   # output layer\n",
        "#   m_tl = Dense(2, activation='softmax')(m_tl)               # UPDATED from 'sigmoid' to 'softmax\n",
        "\n",
        "#   model = Model(inputs=model_tl.input, outputs=m_tl)\n",
        "\n",
        "#   # ==================== model.compile ====================================\n",
        "#   def selected_optimizer(optimizer):\n",
        "#     if optimizer.lower() == 'sgd':\n",
        "#         return SGD(learning_rate=lr)           # SGD(learning_rate=learning_rate, momentum=0.95, decay=1, nesterov=True)\n",
        "#     elif optimizer.lower() == 'adam':\n",
        "#         return Adam(learning_rate=lr)          # Adam(learning_rate=learning_rate, beta_1=0.9, beta_2=0.999, epsilon=1e-8, kappa=1-1e-8)\n",
        "#     elif optimizer.lower() == 'rmsprop':\n",
        "#         return RMSprop(learning_rate=lr) \n",
        "\n",
        "#   model.compile(loss=CategoricalCrossentropy(),            \n",
        "#               optimizer=selected_optimizer(optimizer),            \n",
        "#               metrics=['accuracy', tf.keras.metrics.AUC(name='auc')])\n",
        "#   return model"
      ],
      "metadata": {
        "id": "B_SKoSGYbyI3"
      },
      "execution_count": null,
      "outputs": []
    },
    {
      "cell_type": "code",
      "source": [
        "def model_fit(model, train_data_generator, val_data_generator, batch_size=64, epochs=20, chosen_model='VGG16'):\n",
        "  # from IPython.display import Image\n",
        "\n",
        "  tf.keras.utils.plot_model(model, to_file='convnet.png', show_shapes=True,show_layer_names=True)\n",
        "  Image(filename='convnet.png') \n",
        "\n",
        "    # callbacks = [EarlyStopping(monitor='val_loss', patience=3, verbose=1),\n",
        "    #             ModelCheckpoint('model.hdf5', save_best_only=True)]\n",
        "\n",
        "  history = model.fit(train_data_generator,\n",
        "                      epochs = epochs,\n",
        "                      batch_size = batch_size,                       # ADDIITION\n",
        "                      shuffle=True,                                  # ADDIITION\n",
        "                      steps_per_epoch = len(train_data_generator),\n",
        "                      validation_data = val_data_generator,\n",
        "                      validation_steps = len(val_data_generator),\n",
        "                      callbacks=callbacks,                           # ADDIITION\n",
        "                      verbose = 1)\n",
        "\n",
        "  # ============= Model save ================================================\n",
        "  print(\"Saving model...\")\n",
        "  tf.keras.backend.clear_session()\n",
        "  gc.collect()                                                      # UPDATED\n",
        "  model.save('breast_cancer_detection_' + chosen_model + '.h5')\n",
        "\n",
        "  # ============= Plot loss and accuracy of model: train vs val ==========\n",
        "  print(f\"{chosen_model}\")\n",
        "  plot_model_accuracy_and_loss(history = history, chosen_model = chosen_model)\n",
        "  return model, history"
      ],
      "metadata": {
        "id": "p0g4Cp-Abx_A"
      },
      "execution_count": 60,
      "outputs": []
    },
    {
      "cell_type": "code",
      "source": [
        "def model_evaluate_and_model_predict(model, test_data_generator, history, chosen_model='VGG16'):\n",
        "  # =========== model.evaluate ===============================================\n",
        "  # acc, auc = model.evaluate(test_data_generator, verbose = 0)\n",
        "  test_loss, test_accuracy = model.evaluate(test_data_generator, verbose = 0)\n",
        "  training_accuracy = history.history['accuracy'][-1]\n",
        "  val_accuracy = history.history['val_accuracy'][-1]\n",
        "  count_trainable_params = count_params(model.trainable_weights)\n",
        "\n",
        "  # =========== model.predict: y_true vs. y_pred =============================\n",
        "  classes = ['IDC(0)','IDC(1)']\n",
        "\n",
        "  y_true = test_data_generator.classes\n",
        "  y_pred = model.predict(test_data_generator, steps = (test_data_generator.n // batch_size + 1), verbose = 0)\n",
        "  y_pred_argmax = np.argmax(y_pred, axis=1) \n",
        "\n",
        "  # ========== Precision, recall, f1score ====================================\n",
        "  precision, recall, f1score, support = score(y_true, y_pred_argmax, average='macro')\n",
        "\n",
        "  # ========== Cohen_kappa score, zero_one loss ==============================\n",
        "  cohen_kappa = round(cohen_kappa_score(y_true, y_pred_argmax), 2)\n",
        "  zo_loss = round(zero_one_loss(y_true, y_pred_argmax), 2)\n",
        "\n",
        "  # ========== Confusion matrix ==============================================\n",
        "  conf_max = confusion_matrix(y_true, y_pred_argmax)             # conf.max should use 0s and 1s for y_pred\n",
        "  perf_conf_max = conf_max.astype('float')/conf_max.sum(axis=1)[:np.newaxis]*100\n",
        "  df_perf_conf_max = pd.DataFrame(perf_conf_max, index=classes, columns=classes)\n",
        "\n",
        "  print();plt.figure(figsize=(6,5))\n",
        "  sns.heatmap(df_perf_conf_max, annot=True, cmap='coolwarm', annot_kws={'fontsize':16}, linewidth=0.5, fmt='.0f')  \n",
        "  plt.xlabel('Predicted Label', fontsize=14)\n",
        "  plt.ylabel('True Label', fontsize=14)\n",
        "  plt.title('Confusion Matrix (%)', fontsize=15)\n",
        "\n",
        "  # ========== Area under the ROC curve ======================================\n",
        "  roc_log = roc_auc_score(y_true, y_pred[:,1], multi_class='ovr')   # for the roc curve, we need to use a vector of probabilities so just chose one column and all rows\n",
        "  # fpr_0, tpr_0, threshold_0 = roc_curve(y_true, y_pred[:,0])\n",
        "  # fpr_1, tpr_1, threshold_1 = roc_curve(y_true, y_pred[:,1])\n",
        "  fpr, tpr, threshold = roc_curve(y_true, y_pred[:,1])\n",
        "  auc_class = round(metrics.auc(fpr, tpr), 2) \n",
        "  # auc_class_0 = round(metrics.auc(fpr_0, tpr_0), 2) \n",
        "  # auc_class_1 = round(metrics.auc(fpr_1, tpr_1), 2) \n",
        "\n",
        "  print();plt.figure(figsize=(6,5))\n",
        "  plt.plot([0, 1], [0, 1], 'b--')  \n",
        "  plt.plot(fpr, tpr, color='tab:red', label='AUC:{:.2f}'.format(auc_class))\n",
        "  # plt.plot(fpr_0, tpr_0, color='tab:red', label='IDC(0)-AUC:{:.2f}'.format(auc_class_0))  \n",
        "  # plt.plot(fpr_1, tpr_1, color='tab:green', label='IDC(1)-AUC:{:.2f}'.format(auc_class_1))  \n",
        "  plt.xlabel('False positive rate', fontsize=14)\n",
        "  plt.ylabel('True positive rate', fontsize=14)\n",
        "  plt.title('ROC Area Under Curve', fontsize=18)\n",
        "  plt.legend(loc='best')\n",
        "  plt.show()\n",
        "\n",
        "  # ========== Performace metrics summary ===================================\n",
        "  perf_metrics = pd.DataFrame({'TL Model':chosen_model, \n",
        "                              # 'LR': lr,\n",
        "                              # 'Optimizer': optimizer.upper(), \n",
        "                              # 'Activation': activation.title(),\n",
        "                              # 'Dropout': activation.title(),\n",
        "                              # 'Test_Loss':round(test_loss,2), \n",
        "                              'Test_Acc':round(test_accuracy, 2), \n",
        "                              'Train_Acc':round(training_accuracy, 2), \n",
        "                              'Val_Acc':round(val_accuracy, 2), \n",
        "                              'Num_Trainable_Params':  f'{count_trainable_params:,}',\n",
        "                              'Precision':round(precision, 2), \n",
        "                              'Recall':round(recall, 2), \n",
        "                              'F1score': round(f1score, 2),\n",
        "                              'ROC-AUC':round(auc_class, 2), \n",
        "                              # 'Cohen Kappa': cohen_kappa,\n",
        "                              'ZeroOneLoss': zo_loss}, index=[0])\n",
        "  return perf_metrics"
      ],
      "metadata": {
        "id": "SWW_XNSfbxXU"
      },
      "execution_count": 61,
      "outputs": []
    },
    {
      "cell_type": "markdown",
      "source": [
        "# Run Experiments"
      ],
      "metadata": {
        "id": "5at4kKu6Y8vL"
      }
    },
    {
      "cell_type": "code",
      "source": [
        "def experimenting_cnn_with_vgg16(chosen_model='VGG16',\n",
        "                                image_size = 50,\n",
        "                                max_trials=2,\n",
        "                                batch_size=64,\n",
        "                                epochs=2,\n",
        "                                brightness_delta=random.choice([.1,.3]),\n",
        "                                contrast_factor=random.choice([1,3])):\n",
        "  \n",
        "  create_gs_files(train_1_images_list, tgt_train_1_image_path, 1, brightness_delta, contrast_factor)\n",
        "  create_gs_files(train_0_images_list, tgt_train_0_image_path, 2, brightness_delta, contrast_factor)\n",
        "  create_gs_files(val_1_images_list, tgt_val_1_image_path, 3, brightness_delta, contrast_factor)\n",
        "  create_gs_files(val_0_images_list, tgt_val_0_image_path, 4, brightness_delta, contrast_factor)\n",
        "  create_gs_files(test_1_images_list, tgt_test_1_image_path, 5, brightness_delta, contrast_factor)\n",
        "  create_gs_files(test_0_images_list, tgt_test_0_image_path, 6, brightness_delta, contrast_factor)\n",
        "  \n",
        "  start_time = time.time()\n",
        "\n",
        "  tuner, callbacks = hyperparam_tuning_with_kt(cnn_with_tl, max_trials=max_trials, epochs=epochs)\n",
        "  model, best_hps = model_with_best_hps(tuner)\n",
        "  train_data_generator, val_data_generator, test_data_generator = data_generator(image_size)\n",
        "  model, history = model_fit(model, train_data_generator, val_data_generator, batch_size=batch_size, epochs=epochs, chosen_model=chosen_model)\n",
        "  perf_metrics = model_evaluate_and_model_predict(model, test_data_generator, history, chosen_model=chosen_model)\n",
        "  perf_summary = pd.concat([perf_metrics,best_hps], axis=1)\n",
        "  perf_summary['brightness'] = brightness_delta\n",
        "  perf_summary['contrast'] = contrast_factor\n",
        "\n",
        "  print();print('Execution time %s minutes: ' % round(int(time.time() - start_time)/60, 2),'\\n');print('===============================================\\n')\n",
        "  return perf_summary\n",
        "\n",
        "# experimenting_cnn_with_vgg16(chosen_model='VGG16',\n",
        "#                                 image_size = 50,\n",
        "#                                 max_trials=2,\n",
        "#                                 batch_size=64,\n",
        "#                                 epochs=2,\n",
        "#                                 brightness_delta=random.choice([.1,.3]),\n",
        "#                                 contrast_factor=random.choice([1,3]))"
      ],
      "metadata": {
        "id": "Y2XEsDTRb-BB",
        "colab": {
          "base_uri": "https://localhost:8080/",
          "height": 1000
        },
        "outputId": "91f117fc-c5a7-42af-ffbb-7ffa421d3e5e"
      },
      "execution_count": 63,
      "outputs": [
        {
          "output_type": "stream",
          "name": "stderr",
          "text": [
            "INFO:tensorflow:Oracle triggered exit\n"
          ]
        },
        {
          "output_type": "stream",
          "name": "stdout",
          "text": [
            "Trial 2 Complete [00h 00m 24s]\n",
            "val_loss: 0.6717604696750641\n",
            "\n",
            "Best val_loss So Far: 0.6399379372596741\n",
            "Total elapsed time: 00h 00m 47s\n",
            "Results summary\n",
            "Results in hj_dir/breast_cancer_classification\n",
            "Showing 1 best trials\n",
            "<keras_tuner.engine.objective.Objective object at 0x7fd40a27c310>\n",
            "Trial summary\n",
            "Hyperparameters:\n",
            "activation: leaky_relu\n",
            "optimizer: adam\n",
            "dense_units_1: 512\n",
            "dense_units_2: 384\n",
            "dense_units_3: 128\n",
            "learning_rate: 0.001\n",
            "dropout_rate_1: 0.2\n",
            "dropout_rate_2: 0.5\n",
            "dropout_rate_3: 0.4\n",
            "dropout_2: False\n",
            "dropout_3: True\n",
            "Score: 0.6399379372596741\n",
            "None\n",
            "Found 7173 images belonging to 2 classes.\n",
            "Found 197 images belonging to 2 classes.\n",
            "Found 199 images belonging to 2 classes.\n",
            "Epoch 1/2\n",
            "113/113 [==============================] - 6s 40ms/step - loss: 0.8830 - accuracy: 0.6331 - val_loss: 0.6677 - val_accuracy: 0.6193\n",
            "Epoch 2/2\n",
            "113/113 [==============================] - 4s 37ms/step - loss: 0.6932 - accuracy: 0.6647 - val_loss: 0.6499 - val_accuracy: 0.6447\n",
            "Saving model...\n",
            "VGG16\n"
          ]
        },
        {
          "output_type": "display_data",
          "data": {
            "text/plain": [
              "<Figure size 864x288 with 2 Axes>"
            ],
            "image/png": "[encoded data removed]"
          },
          "metadata": {
            "needs_background": "light"
          }
        },
        {
          "output_type": "stream",
          "name": "stdout",
          "text": [
            "\n",
            "\n"
          ]
        },
        {
          "output_type": "display_data",
          "data": {
            "text/plain": [
              "<Figure size 432x360 with 2 Axes>"
            ],
            "image/png": "[encoded data removed]"
          },
          "metadata": {
            "needs_background": "light"
          }
        },
        {
          "output_type": "display_data",
          "data": {
            "text/plain": [
              "<Figure size 432x360 with 1 Axes>"
            ],
            "image/png": "[encoded data removed]"
          },
          "metadata": {
            "needs_background": "light"
          }
        },
        {
          "output_type": "stream",
          "name": "stdout",
          "text": [
            "\n",
            "Execution time 1.05 minutes:  \n",
            "\n",
            "===============================================\n",
            "\n"
          ]
        },
        {
          "output_type": "execute_result",
          "data": {
            "text/plain": [
              "  TL Model  Test_Acc  Train_Acc  Val_Acc Num_Trainable_Params  Precision  \\\n",
              "0    VGG16       0.7       0.66     0.64              511,234       0.71   \n",
              "\n",
              "   Recall  F1score  ROC-AUC  ZeroOneLoss  Activation Optimizer     LR  \\\n",
              "0     0.7      0.7      0.8          0.3  leaky_relu      adam  0.001   \n",
              "\n",
              "   brightness  contrast  \n",
              "0         0.1         1  "
            ],
            "text/html": [
              "\n",
              "  <div id=\"df-fd2b2e45-dd77-4408-a7fd-7b510e65109b\">\n",
              "    <div class=\"colab-df-container\">\n",
              "      <div>\n",
              "<style scoped>\n",
              "    .dataframe tbody tr th:only-of-type {\n",
              "        vertical-align: middle;\n",
              "    }\n",
              "\n",
              "    .dataframe tbody tr th {\n",
              "        vertical-align: top;\n",
              "    }\n",
              "\n",
              "    .dataframe thead th {\n",
              "        text-align: right;\n",
              "    }\n",
              "</style>\n",
              "<table border=\"1\" class=\"dataframe\">\n",
              "  <thead>\n",
              "    <tr style=\"text-align: right;\">\n",
              "      <th></th>\n",
              "      <th>TL Model</th>\n",
              "      <th>Test_Acc</th>\n",
              "      <th>Train_Acc</th>\n",
              "      <th>Val_Acc</th>\n",
              "      <th>Num_Trainable_Params</th>\n",
              "      <th>Precision</th>\n",
              "      <th>Recall</th>\n",
              "      <th>F1score</th>\n",
              "      <th>ROC-AUC</th>\n",
              "      <th>ZeroOneLoss</th>\n",
              "      <th>Activation</th>\n",
              "      <th>Optimizer</th>\n",
              "      <th>LR</th>\n",
              "      <th>brightness</th>\n",
              "      <th>contrast</th>\n",
              "    </tr>\n",
              "  </thead>\n",
              "  <tbody>\n",
              "    <tr>\n",
              "      <th>0</th>\n",
              "      <td>VGG16</td>\n",
              "      <td>0.7</td>\n",
              "      <td>0.66</td>\n",
              "      <td>0.64</td>\n",
              "      <td>511,234</td>\n",
              "      <td>0.71</td>\n",
              "      <td>0.7</td>\n",
              "      <td>0.7</td>\n",
              "      <td>0.8</td>\n",
              "      <td>0.3</td>\n",
              "      <td>leaky_relu</td>\n",
              "      <td>adam</td>\n",
              "      <td>0.001</td>\n",
              "      <td>0.1</td>\n",
              "      <td>1</td>\n",
              "    </tr>\n",
              "  </tbody>\n",
              "</table>\n",
              "</div>\n",
              "      <button class=\"colab-df-convert\" onclick=\"convertToInteractive('df-fd2b2e45-dd77-4408-a7fd-7b510e65109b')\"\n",
              "              title=\"Convert this dataframe to an interactive table.\"\n",
              "              style=\"display:none;\">\n",
              "        \n",
              "  <svg xmlns=\"http://www.w3.org/2000/svg\" height=\"24px\"viewBox=\"0 0 24 24\"\n",
              "       width=\"24px\">\n",
              "    <path d=\"M0 0h24v24H0V0z\" fill=\"none\"/>\n",
              "    <path d=\"M18.56 5.44l.94 2.06.94-2.06 2.06-.94-2.06-.94-.94-2.06-.94 2.06-2.06.94zm-11 1L8.5 8.5l.94-2.06 2.06-.94-2.06-.94L8.5 2.5l-.94 2.06-2.06.94zm10 10l.94 2.06.94-2.06 2.06-.94-2.06-.94-.94-2.06-.94 2.06-2.06.94z\"/><path d=\"M17.41 7.96l-1.37-1.37c-.4-.4-.92-.59-1.43-.59-.52 0-1.04.2-1.43.59L10.3 9.45l-7.72 7.72c-.78.78-.78 2.05 0 2.83L4 21.41c.39.39.9.59 1.41.59.51 0 1.02-.2 1.41-.59l7.78-7.78 2.81-2.81c.8-.78.8-2.07 0-2.86zM5.41 20L4 18.59l7.72-7.72 1.47 1.35L5.41 20z\"/>\n",
              "  </svg>\n",
              "      </button>\n",
              "      \n",
              "  <style>\n",
              "    .colab-df-container {\n",
              "      display:flex;\n",
              "      flex-wrap:wrap;\n",
              "      gap: 12px;\n",
              "    }\n",
              "\n",
              "    .colab-df-convert {\n",
              "      background-color: #E8F0FE;\n",
              "      border: none;\n",
              "      border-radius: 50%;\n",
              "      cursor: pointer;\n",
              "      display: none;\n",
              "      fill: #1967D2;\n",
              "      height: 32px;\n",
              "      padding: 0 0 0 0;\n",
              "      width: 32px;\n",
              "    }\n",
              "\n",
              "    .colab-df-convert:hover {\n",
              "      background-color: #E2EBFA;\n",
              "      box-shadow: 0px 1px 2px rgba(60, 64, 67, 0.3), 0px 1px 3px 1px rgba(60, 64, 67, 0.15);\n",
              "      fill: #174EA6;\n",
              "    }\n",
              "\n",
              "    [theme=dark] .colab-df-convert {\n",
              "      background-color: #3B4455;\n",
              "      fill: #D2E3FC;\n",
              "    }\n",
              "\n",
              "    [theme=dark] .colab-df-convert:hover {\n",
              "      background-color: #434B5C;\n",
              "      box-shadow: 0px 1px 3px 1px rgba(0, 0, 0, 0.15);\n",
              "      filter: drop-shadow(0px 1px 2px rgba(0, 0, 0, 0.3));\n",
              "      fill: #FFFFFF;\n",
              "    }\n",
              "  </style>\n",
              "\n",
              "      <script>\n",
              "        const buttonEl =\n",
              "          document.querySelector('#df-fd2b2e45-dd77-4408-a7fd-7b510e65109b button.colab-df-convert');\n",
              "        buttonEl.style.display =\n",
              "          google.colab.kernel.accessAllowed ? 'block' : 'none';\n",
              "\n",
              "        async function convertToInteractive(key) {\n",
              "          const element = document.querySelector('#df-fd2b2e45-dd77-4408-a7fd-7b510e65109b');\n",
              "          const dataTable =\n",
              "            await google.colab.kernel.invokeFunction('convertToInteractive',\n",
              "                                                     [key], {});\n",
              "          if (!dataTable) return;\n",
              "\n",
              "          const docLinkHtml = 'Like what you see? Visit the ' +\n",
              "            '<a target=\"_blank\" href=https://colab.research.google.com/notebooks/data_table.ipynb>data table notebook</a>'\n",
              "            + ' to learn more about interactive tables.';\n",
              "          element.innerHTML = '';\n",
              "          dataTable['output_type'] = 'display_data';\n",
              "          await google.colab.output.renderOutput(dataTable, element);\n",
              "          const docLink = document.createElement('div');\n",
              "          docLink.innerHTML = docLinkHtml;\n",
              "          element.appendChild(docLink);\n",
              "        }\n",
              "      </script>\n",
              "    </div>\n",
              "  </div>\n",
              "  "
            ]
          },
          "metadata": {},
          "execution_count": 63
        }
      ]
    },
    {
      "cell_type": "code",
      "source": [
        "# tl_models_50 = ['VGG16', 'VGG19', 'DenseNet201', 'ResNet50', 'ResNet152V2']                                   #  'MobileNetV2'    # input_shape should be one of [96, 128, 160, 192, 224]\n",
        "# tl_models_96 = ['VGG16', 'VGG19', 'ResNet152V2', 'DenseNet201', 'MobileNetV2', 'EfficientNetB7', 'InceptionV3', 'Xception']                                        # InceptionV3 has to be at least 75, Xception at least 71\n",
        "tl_models = ['VGG16', 'VGG19', 'DenseNet201', 'ResNet50', 'ResNet152V2'] \n",
        "\n",
        "def run_experiments(chosen_model='VGG16',\n",
        "                    image_size=50, \n",
        "                    max_trials=20,\n",
        "                    batch_size=64,\n",
        "                    epochs=20,\n",
        "                    brightness_delta=random.choice([.1,.3]),\n",
        "                    contrast_factor=random.choice([1,3])):\n",
        "  metrics_table = pd.DataFrame()  \n",
        "  for tl in tl_models:     \n",
        "    perf_summary = experimenting_cnn_with_vgg16(chosen_model=tl,\n",
        "                                                image_size=image_size,\n",
        "                                                max_trials=max_trials,\n",
        "                                                batch_size=batch_size,\n",
        "                                                epochs=epochs,\n",
        "                                                brightness_delta=brightness_delta,\n",
        "                                                contrast_factor=contrast_factor)\n",
        "    experimenting_cnn_with_vgg16(chosen_model=chosen_model,\n",
        "                              image_size = image_size,\n",
        "                              max_trials=max_trials,\n",
        "                              batch_size=batch_size,\n",
        "                              epochs=epochs,\n",
        "                              brightness_delta=brightness_delta,\n",
        "                              contrast_factor=contrast_factor)\n",
        "\n",
        "    metrics_table = metrics_table.append(perf_summary, ignore_index=True)\n",
        "  return metrics_table\n",
        "\n",
        "metrics_table = run_experiments(chosen_model='VGG16',\n",
        "                    image_size=50, \n",
        "                    max_trials=50,\n",
        "                    batch_size=64,\n",
        "                    epochs=2,\n",
        "                    brightness_delta=random.choice([.1,.3]),\n",
        "                    contrast_factor=random.choice([1,3]))\n",
        "metrics_table"
      ],
      "metadata": {
        "colab": {
          "base_uri": "https://localhost:8080/",
          "height": 1000
        },
        "id": "Ys2_8u2_Y2jB",
        "outputId": "9f7f0c73-2ef5-4881-f09d-d32d6af931e3"
      },
      "execution_count": 65,
      "outputs": [
        {
          "output_type": "stream",
          "name": "stderr",
          "text": [
            "INFO:tensorflow:Oracle triggered exit\n"
          ]
        },
        {
          "output_type": "stream",
          "name": "stdout",
          "text": [
            "Trial 2 Complete [00h 00m 23s]\n",
            "val_loss: 0.6934819221496582\n",
            "\n",
            "Best val_loss So Far: 0.6320934891700745\n",
            "Total elapsed time: 00h 00m 47s\n",
            "Results summary\n",
            "Results in hj_dir/breast_cancer_classification\n",
            "Showing 1 best trials\n",
            "<keras_tuner.engine.objective.Objective object at 0x7fd3e040f5d0>\n",
            "Trial summary\n",
            "Hyperparameters:\n",
            "activation: relu\n",
            "optimizer: adam\n",
            "dense_units_1: 512\n",
            "dense_units_2: 384\n",
            "dense_units_3: 128\n",
            "learning_rate: 0.01\n",
            "dropout_rate_1: 0.6\n",
            "dropout_rate_2: 0.2\n",
            "dropout_rate_3: 0.6\n",
            "dropout_2: False\n",
            "dropout_3: True\n",
            "Score: 0.6320934891700745\n",
            "None\n",
            "Found 7173 images belonging to 2 classes.\n",
            "Found 197 images belonging to 2 classes.\n",
            "Found 199 images belonging to 2 classes.\n",
            "Epoch 1/2\n",
            "113/113 [==============================] - 6s 37ms/step - loss: 0.7974 - accuracy: 0.6202 - val_loss: 0.7187 - val_accuracy: 0.6345\n",
            "Epoch 2/2\n",
            "113/113 [==============================] - 4s 35ms/step - loss: 0.6307 - accuracy: 0.6651 - val_loss: 0.6352 - val_accuracy: 0.6650\n",
            "Saving model...\n",
            "VGG16\n"
          ]
        },
        {
          "output_type": "display_data",
          "data": {
            "text/plain": [
              "<Figure size 864x288 with 2 Axes>"
            ],
            "image/png": "[encoded data removed]"
          },
          "metadata": {
            "needs_background": "light"
          }
        },
        {
          "output_type": "stream",
          "name": "stdout",
          "text": [
            "\n",
            "\n"
          ]
        },
        {
          "output_type": "display_data",
          "data": {
            "text/plain": [
              "<Figure size 432x360 with 2 Axes>"
            ],
            "image/png": "[encoded data removed]"
          },
          "metadata": {
            "needs_background": "light"
          }
        },
        {
          "output_type": "display_data",
          "data": {
            "text/plain": [
              "<Figure size 432x360 with 1 Axes>"
            ],
            "image/png": "[encoded data removed]"
          },
          "metadata": {
            "needs_background": "light"
          }
        },
        {
          "output_type": "stream",
          "name": "stdout",
          "text": [
            "\n",
            "Execution time 0.98 minutes:  \n",
            "\n",
            "===============================================\n",
            "\n"
          ]
        },
        {
          "output_type": "execute_result",
          "data": {
            "text/plain": [
              "   TL Model  Test_Acc  Train_Acc  Val_Acc Num_Trainable_Params  Precision  \\\n",
              "0     VGG16      0.71       0.61     0.63              363,650       0.71   \n",
              "1  ResNet50      0.69       0.71     0.64              445,954       0.69   \n",
              "\n",
              "   Recall  F1score  ROC-AUC  ZeroOneLoss  Activation Optimizer    LR  \\\n",
              "0    0.71     0.71     0.79         0.29        relu       sgd  0.01   \n",
              "1    0.69     0.69     0.79         0.31  leaky_relu      adam  0.01   \n",
              "\n",
              "   brightness  contrast  \n",
              "0         0.3         1  \n",
              "1         0.3         1  "
            ],
            "text/html": [
              "\n",
              "  <div id=\"df-6f16cd8b-1bf1-431f-81e3-f72fa98286b2\">\n",
              "    <div class=\"colab-df-container\">\n",
              "      <div>\n",
              "<style scoped>\n",
              "    .dataframe tbody tr th:only-of-type {\n",
              "        vertical-align: middle;\n",
              "    }\n",
              "\n",
              "    .dataframe tbody tr th {\n",
              "        vertical-align: top;\n",
              "    }\n",
              "\n",
              "    .dataframe thead th {\n",
              "        text-align: right;\n",
              "    }\n",
              "</style>\n",
              "<table border=\"1\" class=\"dataframe\">\n",
              "  <thead>\n",
              "    <tr style=\"text-align: right;\">\n",
              "      <th></th>\n",
              "      <th>TL Model</th>\n",
              "      <th>Test_Acc</th>\n",
              "      <th>Train_Acc</th>\n",
              "      <th>Val_Acc</th>\n",
              "      <th>Num_Trainable_Params</th>\n",
              "      <th>Precision</th>\n",
              "      <th>Recall</th>\n",
              "      <th>F1score</th>\n",
              "      <th>ROC-AUC</th>\n",
              "      <th>ZeroOneLoss</th>\n",
              "      <th>Activation</th>\n",
              "      <th>Optimizer</th>\n",
              "      <th>LR</th>\n",
              "      <th>brightness</th>\n",
              "      <th>contrast</th>\n",
              "    </tr>\n",
              "  </thead>\n",
              "  <tbody>\n",
              "    <tr>\n",
              "      <th>0</th>\n",
              "      <td>VGG16</td>\n",
              "      <td>0.71</td>\n",
              "      <td>0.61</td>\n",
              "      <td>0.63</td>\n",
              "      <td>363,650</td>\n",
              "      <td>0.71</td>\n",
              "      <td>0.71</td>\n",
              "      <td>0.71</td>\n",
              "      <td>0.79</td>\n",
              "      <td>0.29</td>\n",
              "      <td>relu</td>\n",
              "      <td>sgd</td>\n",
              "      <td>0.01</td>\n",
              "      <td>0.3</td>\n",
              "      <td>1</td>\n",
              "    </tr>\n",
              "    <tr>\n",
              "      <th>1</th>\n",
              "      <td>ResNet50</td>\n",
              "      <td>0.69</td>\n",
              "      <td>0.71</td>\n",
              "      <td>0.64</td>\n",
              "      <td>445,954</td>\n",
              "      <td>0.69</td>\n",
              "      <td>0.69</td>\n",
              "      <td>0.69</td>\n",
              "      <td>0.79</td>\n",
              "      <td>0.31</td>\n",
              "      <td>leaky_relu</td>\n",
              "      <td>adam</td>\n",
              "      <td>0.01</td>\n",
              "      <td>0.3</td>\n",
              "      <td>1</td>\n",
              "    </tr>\n",
              "  </tbody>\n",
              "</table>\n",
              "</div>\n",
              "      <button class=\"colab-df-convert\" onclick=\"convertToInteractive('df-6f16cd8b-1bf1-431f-81e3-f72fa98286b2')\"\n",
              "              title=\"Convert this dataframe to an interactive table.\"\n",
              "              style=\"display:none;\">\n",
              "        \n",
              "  <svg xmlns=\"http://www.w3.org/2000/svg\" height=\"24px\"viewBox=\"0 0 24 24\"\n",
              "       width=\"24px\">\n",
              "    <path d=\"M0 0h24v24H0V0z\" fill=\"none\"/>\n",
              "    <path d=\"M18.56 5.44l.94 2.06.94-2.06 2.06-.94-2.06-.94-.94-2.06-.94 2.06-2.06.94zm-11 1L8.5 8.5l.94-2.06 2.06-.94-2.06-.94L8.5 2.5l-.94 2.06-2.06.94zm10 10l.94 2.06.94-2.06 2.06-.94-2.06-.94-.94-2.06-.94 2.06-2.06.94z\"/><path d=\"M17.41 7.96l-1.37-1.37c-.4-.4-.92-.59-1.43-.59-.52 0-1.04.2-1.43.59L10.3 9.45l-7.72 7.72c-.78.78-.78 2.05 0 2.83L4 21.41c.39.39.9.59 1.41.59.51 0 1.02-.2 1.41-.59l7.78-7.78 2.81-2.81c.8-.78.8-2.07 0-2.86zM5.41 20L4 18.59l7.72-7.72 1.47 1.35L5.41 20z\"/>\n",
              "  </svg>\n",
              "      </button>\n",
              "      \n",
              "  <style>\n",
              "    .colab-df-container {\n",
              "      display:flex;\n",
              "      flex-wrap:wrap;\n",
              "      gap: 12px;\n",
              "    }\n",
              "\n",
              "    .colab-df-convert {\n",
              "      background-color: #E8F0FE;\n",
              "      border: none;\n",
              "      border-radius: 50%;\n",
              "      cursor: pointer;\n",
              "      display: none;\n",
              "      fill: #1967D2;\n",
              "      height: 32px;\n",
              "      padding: 0 0 0 0;\n",
              "      width: 32px;\n",
              "    }\n",
              "\n",
              "    .colab-df-convert:hover {\n",
              "      background-color: #E2EBFA;\n",
              "      box-shadow: 0px 1px 2px rgba(60, 64, 67, 0.3), 0px 1px 3px 1px rgba(60, 64, 67, 0.15);\n",
              "      fill: #174EA6;\n",
              "    }\n",
              "\n",
              "    [theme=dark] .colab-df-convert {\n",
              "      background-color: #3B4455;\n",
              "      fill: #D2E3FC;\n",
              "    }\n",
              "\n",
              "    [theme=dark] .colab-df-convert:hover {\n",
              "      background-color: #434B5C;\n",
              "      box-shadow: 0px 1px 3px 1px rgba(0, 0, 0, 0.15);\n",
              "      filter: drop-shadow(0px 1px 2px rgba(0, 0, 0, 0.3));\n",
              "      fill: #FFFFFF;\n",
              "    }\n",
              "  </style>\n",
              "\n",
              "      <script>\n",
              "        const buttonEl =\n",
              "          document.querySelector('#df-6f16cd8b-1bf1-431f-81e3-f72fa98286b2 button.colab-df-convert');\n",
              "        buttonEl.style.display =\n",
              "          google.colab.kernel.accessAllowed ? 'block' : 'none';\n",
              "\n",
              "        async function convertToInteractive(key) {\n",
              "          const element = document.querySelector('#df-6f16cd8b-1bf1-431f-81e3-f72fa98286b2');\n",
              "          const dataTable =\n",
              "            await google.colab.kernel.invokeFunction('convertToInteractive',\n",
              "                                                     [key], {});\n",
              "          if (!dataTable) return;\n",
              "\n",
              "          const docLinkHtml = 'Like what you see? Visit the ' +\n",
              "            '<a target=\"_blank\" href=https://colab.research.google.com/notebooks/data_table.ipynb>data table notebook</a>'\n",
              "            + ' to learn more about interactive tables.';\n",
              "          element.innerHTML = '';\n",
              "          dataTable['output_type'] = 'display_data';\n",
              "          await google.colab.output.renderOutput(dataTable, element);\n",
              "          const docLink = document.createElement('div');\n",
              "          docLink.innerHTML = docLinkHtml;\n",
              "          element.appendChild(docLink);\n",
              "        }\n",
              "      </script>\n",
              "    </div>\n",
              "  </div>\n",
              "  "
            ]
          },
          "metadata": {},
          "execution_count": 65
        }
      ]
    }
  ]
}