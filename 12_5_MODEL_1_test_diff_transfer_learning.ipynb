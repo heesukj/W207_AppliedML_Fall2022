{
  "nbformat": 4,
  "nbformat_minor": 0,
  "metadata": {
    "colab": {
      "provenance": [],
      "include_colab_link": true
    },
    "kernelspec": {
      "name": "python3",
      "display_name": "Python 3"
    },
    "language_info": {
      "name": "python"
    },
    "accelerator": "GPU",
    "gpuClass": "standard"
  },
  "cells": [
    {
      "cell_type": "markdown",
      "metadata": {
        "id": "view-in-github",
        "colab_type": "text"
      },
      "source": [
        "<a href=\"https://colab.research.google.com/github/heesukjang/W207_AppliedML_Fall2022/blob/main/12_5_MODEL_1_test_diff_transfer_learning.ipynb\" target=\"_parent\"><img src=\"https://colab.research.google.com/assets/colab-badge.svg\" alt=\"Open In Colab\"/></a>"
      ]
    },
    {
      "cell_type": "code",
      "source": [
        "import pandas as pd\n",
        "import numpy as np\n",
        "import os\n",
        "import time\n",
        "import random\n",
        "import joblib\n",
        "import glob\n",
        "import random\n",
        "from itertools import product\n",
        "import gc\n",
        "import subprocess\n",
        "import shutil\n",
        "import copy\n",
        "import statistics as st\n",
        "from scipy import stats\n",
        "\n",
        "from imutils import rotate as rotate\n",
        "import cv2\n",
        "import matplotlib.pyplot as plt\n",
        "import seaborn as sns\n",
        "import plotly.express as px\n",
        "import matplotlib.patches as patches\n",
        "from matplotlib.patches import Polygon\n",
        "from sklearn.metrics import confusion_matrix\n",
        "from mlxtend.plotting import plot_confusion_matrix\n",
        "from skimage.color import gray2rgb\n",
        "import skimage.io as skio\n",
        "from keras.utils.layer_utils import count_params\n",
        "from tensorflow.keras.layers import Concatenate\n",
        "from google.colab import files\n",
        "\n",
        "from sklearn.utils import shuffle\n",
        "from sklearn.decomposition import PCA\n",
        "from sklearn.decomposition import IncrementalPCA\n",
        "from sklearn.model_selection import train_test_split\n",
        "from sklearn.model_selection import StratifiedKFold\n",
        "from sklearn.metrics import roc_auc_score\n",
        "from sklearn.metrics import roc_curve\n",
        "from sklearn.metrics import auc\n",
        "from sklearn import metrics\n",
        "from sklearn.metrics import precision_recall_fscore_support as score\n",
        "from sklearn.metrics import classification_report, cohen_kappa_score, zero_one_loss\n",
        "from sklearn.model_selection import KFold\n",
        "from sklearn.model_selection import cross_val_score\n",
        "from sklearn.model_selection import cross_val_predict\n",
        "from sklearn.model_selection import StratifiedShuffleSplit\n",
        "from sklearn.model_selection import train_test_split, GridSearchCV\n",
        "\n",
        "# from tensorflow.keras.preprocessing.image import array_to_img\n",
        "# from tensorflow.keras.preprocessing.image import img_to_array\n",
        "# from tensorflow.keras.preprocessing.image import load_img\n",
        "# from tensorflow.keras.preprocessing.image import save_img\n",
        "\n",
        "import tensorflow as tf\n",
        "from tensorflow import keras\n",
        "from tensorflow.keras import layers\n",
        "from tensorflow.keras.preprocessing.image import ImageDataGenerator\n",
        "from tensorflow.keras.losses import BinaryCrossentropy, CategoricalCrossentropy\n",
        "#from livelossplot import PlotLossesKeras\n",
        "\n",
        "from tensorflow.keras.layers import Lambda\n",
        "from tensorflow.keras.layers import Multiply\n",
        "# from tensorflow.keras.layers import LSTM\n",
        "from tensorflow.keras.layers import Bidirectional\n",
        "from tensorflow.keras.layers import RandomFlip, RandomZoom, RandomRotation, Conv2D, AveragePooling2D, GlobalAveragePooling2D, MaxPooling2D\n",
        "from tensorflow.keras.layers import AveragePooling2D, Input, Dense, Flatten, Dropout, BatchNormalization, GlobalAveragePooling2D\n",
        "from tensorflow.keras.layers import PReLU, ReLU, LeakyReLU\n",
        "from keras.layers.core import Activation\n",
        "from keras.layers.convolutional import SeparableConv1D\n",
        "from keras.layers.convolutional import SeparableConv2D \n",
        "from keras.layers.core import Activation\n",
        "from tensorflow.keras.optimizers import Adam, SGD, Adadelta, Adagrad, RMSprop\n",
        "from tensorflow.keras.models import Sequential\n",
        "\n",
        "from keras.applications.vgg16 import VGG16\n",
        "from keras.applications.vgg19 import VGG19\n",
        "from keras.applications.densenet import *\n",
        "from keras.applications.resnet import ResNet152\n",
        "from tensorflow.keras.applications import ResNet152V2\n",
        "from keras.applications.nasnet import NASNetMobile\n",
        "from keras.applications.nasnet import NASNetLarge\n",
        "from keras.applications.nasnet import preprocess_input\n",
        "from keras.applications import MobileNetV2\n",
        "from keras.applications.xception import Xception\n",
        "from keras.applications.inception_v3 import *\n",
        "\n",
        "\n",
        "from tensorflow.keras.preprocessing.image import array_to_img, img_to_array, load_img, save_img\n",
        "from tensorflow.python.ops.numpy_ops import np_config\n",
        "from keras.callbacks import ModelCheckpoint, EarlyStopping, ReduceLROnPlateau, LearningRateScheduler\n",
        "\n",
        "from keras.models import Model\n",
        "from tensorflow.keras import regularizers\n",
        "from tensorflow.keras.regularizers import l1\n",
        "from tensorflow.keras.regularizers import l2\n",
        "from keras.models import load_model\n",
        "from tensorflow.keras.applications import ResNet152V2, VGG16, VGG19\n",
        "\n",
        "tf.get_logger().setLevel('INFO')\n",
        "\n",
        "import cv2 as cv\n",
        "import skimage.io as io\n",
        "\n",
        "import warnings\n",
        "warnings.filterwarnings('ignore')\n",
        "warnings.simplefilter(\"ignore\", category=DeprecationWarning)\n",
        "\n",
        "# Required to read the data from Kaggle\n",
        "from google.colab import drive\n",
        "# drive.mount('/content/gdrive')\n",
        "# os.environ['KAGGLE_CONFIG_DIR'] = \"/content/gdrive/MyDrive/Kaggle\"\n",
        "\n",
        "from google.colab import drive\n",
        "drive.mount('/content/gdrive')"
      ],
      "metadata": {
        "colab": {
          "base_uri": "https://localhost:8080/"
        },
        "id": "AqvUA0UoCPSd",
        "outputId": "203b4635-ca43-4cf6-bded-1431a211e198"
      },
      "execution_count": 183,
      "outputs": [
        {
          "output_type": "stream",
          "name": "stdout",
          "text": [
            "Drive already mounted at /content/gdrive; to attempt to forcibly remount, call drive.mount(\"/content/gdrive\", force_remount=True).\n"
          ]
        }
      ]
    },
    {
      "cell_type": "code",
      "source": [
        "# tf.keras.utils.plot_model(model)"
      ],
      "metadata": {
        "id": "1yl8KLZbOqcd"
      },
      "execution_count": 184,
      "outputs": []
    },
    {
      "cell_type": "code",
      "source": [
        "# !unzip gdrive/MyDrive/Kaggle/CNN_IDC/Dataset.zip                  "
      ],
      "metadata": {
        "id": "ftiQ04jV6roA"
      },
      "execution_count": 185,
      "outputs": []
    },
    {
      "cell_type": "code",
      "source": [
        "# delete a full folder including all its files and subfolders\n",
        "!rm -rf processed_images/                    "
      ],
      "metadata": {
        "id": "dFwV9FlsaApf"
      },
      "execution_count": 186,
      "outputs": []
    },
    {
      "cell_type": "code",
      "source": [
        "!ls -ltr Dataset"
      ],
      "metadata": {
        "id": "WjE-qGmqW9qS",
        "colab": {
          "base_uri": "https://localhost:8080/"
        },
        "outputId": "049c2bda-3ec1-4072-875a-7d725465735c"
      },
      "execution_count": 187,
      "outputs": [
        {
          "output_type": "stream",
          "name": "stdout",
          "text": [
            "total 12\n",
            "drwxr-xr-x 4 root root 4096 Oct  4 01:10 Test\n",
            "drwxr-xr-x 4 root root 4096 Oct  4 01:10 Train\n",
            "drwxr-xr-x 4 root root 4096 Oct  4 01:10 Validate\n"
          ]
        }
      ]
    },
    {
      "cell_type": "code",
      "source": [
        "# ls -ltr: List the contents of the current directory in the long listing format ( -l ), \n",
        "#   sorted by modification time ( -t ) in reverse order ( -r ) of all files and directories beginning with file* .\n",
        "# wc -l: count the number of lines\n",
        "\n",
        "!ls -ltr Dataset/Train/0|wc -l\n",
        "!ls -ltr Dataset/Train/1|wc -l\n",
        "\n",
        "!ls -ltr Dataset/Test/0|wc -l\n",
        "!ls -ltr Dataset/Test/1|wc -l\n",
        "\n",
        "!ls -ltr Dataset/Validate/0|wc -l\n",
        "!ls -ltr Dataset/Validate/1|wc -l"
      ],
      "metadata": {
        "id": "rNK-XNrxXBVl",
        "colab": {
          "base_uri": "https://localhost:8080/"
        },
        "outputId": "fecae5c0-cb8d-4c6e-c75a-e9571bc6cd78"
      },
      "execution_count": 188,
      "outputs": [
        {
          "output_type": "stream",
          "name": "stdout",
          "text": [
            "401\n",
            "401\n",
            "101\n",
            "101\n",
            "101\n",
            "101\n"
          ]
        }
      ]
    },
    {
      "cell_type": "code",
      "source": [
        "val_image_directory = '/content/Dataset/Validate'\n",
        "train_image_directory = '/content/Dataset/Train'\n",
        "test_image_directory = '/content/Dataset/Test'\n",
        "directory_path = '/content/Dataset'\n",
        "\n",
        "tgt_directory_path = '/content/processed_images'\n",
        "tgt_train_1_image_path = '/content/processed_images/train/1/'\n",
        "tgt_train_0_image_path = '/content/processed_images/train/0/'\n",
        "tgt_val_1_image_path = '/content/processed_images/val/1/'\n",
        "tgt_val_0_image_path = '/content/processed_images/val/0/'\n",
        "tgt_test_1_image_path = '/content/processed_images/test/1/'\n",
        "tgt_test_0_image_path = '/content/processed_images/test/0/'\n",
        "\n",
        "tgt_path_list = [tgt_train_1_image_path, tgt_train_0_image_path,\n",
        "                 tgt_val_1_image_path, tgt_val_0_image_path,\n",
        "                 tgt_test_1_image_path, tgt_test_0_image_path\n",
        "                ]"
      ],
      "metadata": {
        "id": "UATtHsgNSRqG"
      },
      "execution_count": 189,
      "outputs": []
    },
    {
      "cell_type": "code",
      "source": [
        "def preprocess(data_dir):\n",
        "  images_path_1 = [data_dir + '/' +  dir + '/' for dir in os.listdir(data_dir) if dir != '.DS_Store'][1]\n",
        "  print('images_path_1:' ,images_path_1)\n",
        "  images_path_0 = [data_dir + '/' +  dir + '/' for dir in os.listdir(data_dir) if dir != '.DS_Store'][0]\n",
        "  print('images_path_0:' ,images_path_0)\n",
        "  images_list_1 = [images_path_1 + file for file in list(os.walk(images_path_1))[0][2] if file[0] != '.']\n",
        "  images_list_0 = [images_path_0 + file for file in list(os.walk(images_path_0))[0][2] if file[0] != '.']\n",
        "  print('\\nimages_list_1:' ,images_list_1)\n",
        "  print('images_list_0:' ,images_list_0)\n",
        "\n",
        "  return images_list_1, images_list_0"
      ],
      "metadata": {
        "id": "F0Q-ykr5SbLP"
      },
      "execution_count": 190,
      "outputs": []
    },
    {
      "cell_type": "code",
      "source": [
        "train_1_images_list, train_0_images_list = preprocess(train_image_directory)\n",
        "test_1_images_list, test_0_images_list = preprocess(test_image_directory)\n",
        "val_1_images_list, val_0_images_list = preprocess(val_image_directory)\n",
        "\n",
        "print('\\ntrain_1_images_list[0]',train_1_images_list[0])\n",
        "print('train_0_images_list[0]',train_0_images_list[0])"
      ],
      "metadata": {
        "id": "vfrO2qWjV0oQ"
      },
      "execution_count": 191,
      "outputs": []
    },
    {
      "cell_type": "code",
      "source": [
        "len(train_1_images_list + train_0_images_list + test_1_images_list + test_0_images_list + val_1_images_list + val_0_images_list)"
      ],
      "metadata": {
        "id": "BmVWCg1geoxB",
        "colab": {
          "base_uri": "https://localhost:8080/"
        },
        "outputId": "94742995-db01-404e-f010-645c21d86422"
      },
      "execution_count": 192,
      "outputs": [
        {
          "output_type": "execute_result",
          "data": {
            "text/plain": [
              "1200"
            ]
          },
          "metadata": {},
          "execution_count": 192
        }
      ]
    },
    {
      "cell_type": "code",
      "source": [
        "len(train_1_images_list), len(train_0_images_list), len(test_1_images_list), len(test_0_images_list), len(val_1_images_list), len(val_0_images_list)"
      ],
      "metadata": {
        "id": "XNjz53EpXpb-",
        "colab": {
          "base_uri": "https://localhost:8080/"
        },
        "outputId": "43f4d414-643c-490e-b82f-9b707e9c9af2"
      },
      "execution_count": 193,
      "outputs": [
        {
          "output_type": "execute_result",
          "data": {
            "text/plain": [
              "(400, 400, 100, 100, 100, 100)"
            ]
          },
          "metadata": {},
          "execution_count": 193
        }
      ]
    },
    {
      "cell_type": "code",
      "source": [
        "test_img = load_img(train_1_images_list[0], color_mode =\"grayscale\")\n",
        "test_img_arry = img_to_array(test_img)\n",
        "print(type(test_img))\n",
        "print(test_img.format)\n",
        "print(test_img.mode)\n",
        "print(test_img.size)\n",
        "print(test_img.getbands())\n",
        "print(test_img_arry.shape)\n",
        "print(\"****\")\n",
        "test_img1 = load_img(train_1_images_list[0])\n",
        "test_img1_arry = img_to_array(test_img1)\n",
        "print(test_img1_arry.shape)\n",
        "print(test_img1.getbands())"
      ],
      "metadata": {
        "id": "V_g0AF4Xd-LJ",
        "colab": {
          "base_uri": "https://localhost:8080/"
        },
        "outputId": "0d831c02-a912-4c33-e9d9-3680429fa075"
      },
      "execution_count": 194,
      "outputs": [
        {
          "output_type": "stream",
          "name": "stdout",
          "text": [
            "<class 'PIL.Image.Image'>\n",
            "None\n",
            "L\n",
            "(50, 50)\n",
            "('L',)\n",
            "(50, 50, 1)\n",
            "****\n",
            "(50, 50, 3)\n",
            "('R', 'G', 'B')\n"
          ]
        }
      ]
    },
    {
      "cell_type": "markdown",
      "source": [
        "## Display the first 5 images for each class\n",
        ": IDC Malignant (1) vs. IDC Benign (0)\n"
      ],
      "metadata": {
        "id": "vVq4Le9MIfV8"
      }
    },
    {
      "cell_type": "code",
      "source": [
        "IMG_SIZE = 50"
      ],
      "metadata": {
        "id": "UUgKYziVkc_i"
      },
      "execution_count": 195,
      "outputs": []
    },
    {
      "cell_type": "code",
      "source": [
        "def display_images(subclass, class_name):\n",
        "  fig, axes = plt.subplots(nrows=1, ncols=6, figsize=(17,6))\n",
        "  for idx, ax in enumerate(axes.flat):\n",
        "    img = io.imread(subclass[idx])\n",
        "    img = cv.resize(img, (IMG_SIZE, IMG_SIZE))    # resize an image from 50 by 50 to 512 by 512\n",
        "    ax.imshow(img)\n",
        "    ax.set_title(class_name)\n",
        "    # ax.set_xticks([])       # remove xticks passing an empty array\n",
        "    # ax.set_yticks([])       # remove yticks passing an empty array\n",
        "  fig.tight_layout() \n",
        "  plt.show() \n",
        "\n",
        "display_images(train_1_images_list, 'IDC Malignant (1)')\n",
        "display_images(train_0_images_list, ' IDC Benign (0)')"
      ],
      "metadata": {
        "id": "cbpAbSsOH9Be",
        "colab": {
          "base_uri": "https://localhost:8080/",
          "height": 416
        },
        "outputId": "c3313601-57fe-417e-f211-3bbe9d478199"
      },
      "execution_count": 196,
      "outputs": [
        {
          "output_type": "display_data",
          "data": {
            "text/plain": [
              "<Figure size 1224x432 with 6 Axes>"
            ],
            "image/png": "[encoded data removed]"
          },
          "metadata": {
            "needs_background": "light"
          }
        },
        {
          "output_type": "display_data",
          "data": {
            "text/plain": [
              "<Figure size 1224x432 with 6 Axes>"
            ],
            "image/png": "[encoded data removed]"
          },
          "metadata": {
            "needs_background": "light"
          }
        }
      ]
    },
    {
      "cell_type": "code",
      "source": [
        "# from google.colab.patches import cv2_imshow\n",
        "\n",
        "# RESIZED_SIZE = 62\n",
        "\n",
        "# fig = plt.figure(figsize=(22,9))\n",
        "\n",
        "# # orig_gs = load_img(train_1_images_list[0], color_mode =\"grayscale\")\n",
        "# # arr_orig_gs = img_to_array(orig_gs)\n",
        "\n",
        "# orig_cs = load_img(train_1_images_list[0], color_mode =\"rgb\")\n",
        "# arr_orig_cs = img_to_array(orig_cs)\n",
        "\n",
        "# # =============== Original =================================\n",
        "# original = io.imread(train_1_images_list[0], as_gray=False)\n",
        "# ax = fig.add_subplot(2,5,1)\n",
        "# ax.imshow(original)\n",
        "# ax.set_title(f\"Original: {IMG_SIZE} X {IMG_SIZE}\", size=14)\n",
        "\n",
        "# # # =============== Resize =================================\n",
        "# resize = cv.resize(original, (RESIZED_SIZE,RESIZED_SIZE))\n",
        "# # cv.resize(img, (IMG_SIZE, IMG_SIZE))\n",
        "# ax = fig.add_subplot(2,5,2)\n",
        "# ax.imshow(resize)\n",
        "# ax.set_title(f\"Resize: {RESIZED_SIZE} X {RESIZED_SIZE}\", size=14)\n",
        "\n",
        "# # =============== Horizontal Flip =========================\n",
        "# h_flip = cv2.flip(original, 1)\n",
        "# ax = fig.add_subplot(2,5,3)\n",
        "# ax.imshow(h_flip)\n",
        "# ax.set_title(f\"Horizontal Flip\", size=14)\n",
        "\n",
        "# # =============== Vertical Flip ===========================\n",
        "# v_flip = cv2.flip(original, 0)\n",
        "# ax = fig.add_subplot(2,5,4)\n",
        "# ax.imshow(v_flip)\n",
        "# ax.set_title(f\"Vertical Flip\", size=14)\n",
        "\n",
        "# # # =============== Rotation 45 =============================\n",
        "# rot_45 = int(random.uniform(-45, 45))\n",
        "# print('rot_45', rot_45)\n",
        "# # # h, w = arr_orig_cs.shape[:2]\n",
        "# # # print('h, w', h, w)\n",
        "# # M = cv2.getRotationMatrix2D((int(IMG_SIZE/2), int(IMG_SIZE/2)), rot_45, 1)\n",
        "# # rotated_img_gs = cv2.warpAffine(arr_orig_cs, M, (w, h))\n",
        "# # rotated_img_gs = img_to_array(rotated_img_gs)\n",
        "# # print(\"rot45****\")\n",
        "# ax = fig.add_subplot(2,5,5)\n",
        "# # ax.imshow(rotated_img_gs)\n",
        "# # cv2_imshow(rotated_img_gs)\n",
        "\n",
        "# rot90_img = tf.image.rot90(original, k=1)\n",
        "# ax.imshow(rot90_img)\n",
        "# # ax.axis('off')\n",
        "# ax.set_title('Rotate 90', size=14)\n",
        "\n",
        "\n",
        "# resized = cv2.resize(test_img_arry, (224, 224), interpolation = cv2.INTER_AREA) \n",
        "# print('Resized Dimensions : ',resized.shape) \n",
        "# cv2_imshow(resized)\n",
        "\n",
        "# # =============== Rotation 90 =============================\n",
        "# angle = int(random.uniform(-90, 90))\n",
        "# print('angle', angle)\n",
        "# # h, w = test_img_arry.shape[:2]\n",
        "# # M = cv2.getRotationMatrix2D((int(w/2), int(h/2)), angle, 1)\n",
        "# # rotated_img_gs = cv2.warpAffine(test_img_arry, M, (w, h))\n",
        "# # rotated_img_gs = img_to_array(rotated_img_gs)\n",
        "# # print(\"rot90****\")\n",
        "# # cv2_imshow(rotated_img_gs)\n",
        "# # print();cv2_imshow(arr_original)\n",
        "\n",
        "# # =============== Rotation 180 ============================\n",
        "# # angle = int(random.uniform(-180, 180))\n",
        "# # h, w = test_img_arry.shape[:2]\n",
        "# # M = cv2.getRotationMatrix2D((int(w/2), int(h/2)), angle, 1)\n",
        "# # rotated_img_gs = cv2.warpAffine(test_img_arry, M, (w, h))\n",
        "# # rotated_img_gs = img_to_array(rotated_img_gs)\n",
        "# # print(\"rot180****\")\n",
        "# # cv2_imshow(rotated_img_gs)\n",
        "\n",
        "# # # rotate ccw\n",
        "# # out=cv2.transpose(test_img_arry)\n",
        "# # out=cv2.flip(out,flipCode=0)\n",
        "# # rotated_img_gs = img_to_array(out)\n",
        "# # print(\"90ccwrot****\")\n",
        "# # cv2_imshow(out)\n",
        "\n",
        "# # out=cv2.transpose(test_img_arry)\n",
        "# # out=cv2.flip(out,flipCode=1)\n",
        "# # rotated_img_gs = img_to_array(out)\n",
        "# # print(\"90rot****\")\n",
        "# # cv2_imshow(out)\n"
      ],
      "metadata": {
        "id": "r7bXcuyZJhBx"
      },
      "execution_count": 197,
      "outputs": []
    },
    {
      "cell_type": "code",
      "source": [
        "from google.colab.patches import cv2_imshow\n",
        "\n",
        "test_img = load_img(train_1_images_list[0], color_mode =\"grayscale\")\n",
        "test_img_arry = img_to_array(test_img)\n",
        "print(\"original****\")\n",
        "cv2_imshow(test_img_arry)\n",
        "\n",
        "bright_img_gs = tf.image.adjust_brightness(test_img_arry, delta=10)\n",
        "bright_img_gs = img_to_array(bright_img_gs)\n",
        "print(\"0.3_bright****\")\n",
        "cv2_imshow(bright_img_gs)\n",
        "\n",
        "contrast_img_gs = tf.image.adjust_contrast(test_img_arry, contrast_factor=3)\n",
        "contrast_img_gs = img_to_array(contrast_img_gs)\n",
        "print(\"3_contrast****\")\n",
        "cv2_imshow(contrast_img_gs)\n",
        "\n",
        "hflip_img_gs = cv2.flip(test_img_arry, 1)\n",
        "print(\"vflip****\")\n",
        "cv2_imshow(hflip_img_gs)\n",
        "\n",
        "vflip_img_gs = cv2.flip(test_img_arry, 0)\n",
        "print(\"hflip****\")\n",
        "cv2_imshow(vflip_img_gs)\n",
        "\n",
        "angle = int(random.uniform(-90, 90))\n",
        "h, w = test_img_arry.shape[:2]\n",
        "M = cv2.getRotationMatrix2D((int(w/2), int(h/2)), angle, 1)\n",
        "rotated_img_gs = cv2.warpAffine(test_img_arry, M, (w, h))\n",
        "rotated_img_gs = img_to_array(rotated_img_gs)\n",
        "print(\"rot90****\")\n",
        "cv2_imshow(rotated_img_gs)\n",
        "\n",
        "angle = int(random.uniform(-45, 45))\n",
        "h, w = test_img_arry.shape[:2]\n",
        "M = cv2.getRotationMatrix2D((int(w/2), int(h/2)), angle, 1)\n",
        "rotated_img_gs = cv2.warpAffine(test_img_arry, M, (w, h))\n",
        "rotated_img_gs = img_to_array(rotated_img_gs)\n",
        "print(\"rot45****\")\n",
        "cv2_imshow(rotated_img_gs)\n",
        "\n",
        "angle = int(random.uniform(-180, 180))\n",
        "h, w = test_img_arry.shape[:2]\n",
        "M = cv2.getRotationMatrix2D((int(w/2), int(h/2)), angle, 1)\n",
        "rotated_img_gs = cv2.warpAffine(test_img_arry, M, (w, h))\n",
        "rotated_img_gs = img_to_array(rotated_img_gs)\n",
        "print(\"rot180****\")\n",
        "cv2_imshow(rotated_img_gs)\n",
        "\n",
        "# rotate ccw\n",
        "out=cv2.transpose(test_img_arry)\n",
        "out=cv2.flip(out,flipCode=0)\n",
        "rotated_img_gs = img_to_array(out)\n",
        "print(\"90ccwrot****\")\n",
        "cv2_imshow(out)\n",
        "\n",
        "out=cv2.transpose(test_img_arry)\n",
        "out=cv2.flip(out,flipCode=1)\n",
        "rotated_img_gs = img_to_array(out)\n",
        "print(\"90rot****\")\n",
        "cv2_imshow(out)"
      ],
      "metadata": {
        "id": "TCVsAcTIzjXG",
        "colab": {
          "base_uri": "https://localhost:8080/",
          "height": 691
        },
        "outputId": "c04c708d-c6ac-48a8-aae4-83fedffc6cc5"
      },
      "execution_count": 198,
      "outputs": [
        {
          "output_type": "stream",
          "name": "stdout",
          "text": [
            "original****\n"
          ]
        },
        {
          "output_type": "display_data",
          "data": {
            "text/plain": [
              "<PIL.Image.Image image mode=RGB size=50x50 at 0x7EFE0BD1F460>"
            ],
            "image/png": "[encoded data removed]"
          },
          "metadata": {}
        },
        {
          "output_type": "stream",
          "name": "stdout",
          "text": [
            "0.3_bright****\n"
          ]
        },
        {
          "output_type": "display_data",
          "data": {
            "text/plain": [
              "<PIL.Image.Image image mode=RGB size=50x50 at 0x7EFE0BD15AC0>"
            ],
            "image/png": "[encoded data removed]"
          },
          "metadata": {}
        },
        {
          "output_type": "stream",
          "name": "stdout",
          "text": [
            "3_contrast****\n"
          ]
        },
        {
          "output_type": "display_data",
          "data": {
            "text/plain": [
              "<PIL.Image.Image image mode=RGB size=50x50 at 0x7EFE0BD1FDC0>"
            ],
            "image/png": "[encoded data removed]"
          },
          "metadata": {}
        },
        {
          "output_type": "stream",
          "name": "stdout",
          "text": [
            "vflip****\n"
          ]
        },
        {
          "output_type": "display_data",
          "data": {
            "text/plain": [
              "<PIL.Image.Image image mode=L size=50x50 at 0x7EFE0BD1F220>"
            ],
            "image/png": "[encoded data removed]"
          },
          "metadata": {}
        },
        {
          "output_type": "stream",
          "name": "stdout",
          "text": [
            "hflip****\n"
          ]
        },
        {
          "output_type": "display_data",
          "data": {
            "text/plain": [
              "<PIL.Image.Image image mode=L size=50x50 at 0x7EFE0BD1FDC0>"
            ],
            "image/png": "[encoded data removed]"
          },
          "metadata": {}
        },
        {
          "output_type": "stream",
          "name": "stdout",
          "text": [
            "rot90****\n"
          ]
        },
        {
          "output_type": "display_data",
          "data": {
            "text/plain": [
              "<PIL.Image.Image image mode=RGB size=50x50 at 0x7EFE0BD1F160>"
            ],
            "image/png": "[encoded data removed]"
          },
          "metadata": {}
        },
        {
          "output_type": "stream",
          "name": "stdout",
          "text": [
            "rot45****\n"
          ]
        },
        {
          "output_type": "display_data",
          "data": {
            "text/plain": [
              "<PIL.Image.Image image mode=RGB size=50x50 at 0x7EFE0BD15AC0>"
            ],
            "image/png": "[encoded data removed]"
          },
          "metadata": {}
        },
        {
          "output_type": "stream",
          "name": "stdout",
          "text": [
            "rot180****\n"
          ]
        },
        {
          "output_type": "display_data",
          "data": {
            "text/plain": [
              "<PIL.Image.Image image mode=RGB size=50x50 at 0x7EFE0BD15E80>"
            ],
            "image/png": "[encoded data removed]"
          },
          "metadata": {}
        },
        {
          "output_type": "stream",
          "name": "stdout",
          "text": [
            "90ccwrot****\n"
          ]
        },
        {
          "output_type": "display_data",
          "data": {
            "text/plain": [
              "<PIL.Image.Image image mode=L size=50x50 at 0x7EFE0BD15D30>"
            ],
            "image/png": "[encoded data removed]"
          },
          "metadata": {}
        },
        {
          "output_type": "stream",
          "name": "stdout",
          "text": [
            "90rot****\n"
          ]
        },
        {
          "output_type": "display_data",
          "data": {
            "text/plain": [
              "<PIL.Image.Image image mode=L size=50x50 at 0x7EFE0BD15E50>"
            ],
            "image/png": "[encoded data removed]"
          },
          "metadata": {}
        }
      ]
    },
    {
      "cell_type": "code",
      "source": [
        "resized = cv2.resize(test_img_arry, (224, 224), interpolation = cv2.INTER_AREA) \n",
        "print('Resized Dimensions : ',resized.shape) \n",
        "cv2_imshow(resized)"
      ],
      "metadata": {
        "id": "5I6GPlMm_6GR",
        "colab": {
          "base_uri": "https://localhost:8080/",
          "height": 258
        },
        "outputId": "c2d4a746-ee82-4cd6-9631-2d479d7a876e"
      },
      "execution_count": 199,
      "outputs": [
        {
          "output_type": "stream",
          "name": "stdout",
          "text": [
            "Resized Dimensions :  (224, 224)\n"
          ]
        },
        {
          "output_type": "display_data",
          "data": {
            "text/plain": [
              "<PIL.Image.Image image mode=L size=224x224 at 0x7EFE0A4FB370>"
            ],
            "image/png": "[encoded data removed]"
          },
          "metadata": {}
        }
      ]
    },
    {
      "cell_type": "markdown",
      "source": [
        "# Filter Out Odd Images\n",
        "- Exclude images that are not **50 by 50**\n",
        "- Exclude images with no **.png** extension"
      ],
      "metadata": {
        "id": "JskE-RJrzNuQ"
      }
    },
    {
      "cell_type": "code",
      "source": [
        "odd_images = []\n",
        "def extract_odd_images(file_list, IMG_SIZE = 50):\n",
        "    for file_name in file_list:\n",
        "        test_img = load_img(file_name, color_mode =\"grayscale\")\n",
        "        test_img_arry = img_to_array(test_img)\n",
        "        if test_img_arry.shape[0] != IMG_SIZE or test_img_arry.shape[1] != IMG_SIZE:\n",
        "            odd_images.append(file_name)"
      ],
      "metadata": {
        "id": "ksYFBFjrdbFK"
      },
      "execution_count": 200,
      "outputs": []
    },
    {
      "cell_type": "code",
      "source": [
        "extract_odd_images(train_1_images_list + train_0_images_list + test_1_images_list + test_0_images_list + val_1_images_list + val_0_images_list)"
      ],
      "metadata": {
        "id": "BewtIomPefkn"
      },
      "execution_count": 201,
      "outputs": []
    },
    {
      "cell_type": "code",
      "source": [
        "odd_images"
      ],
      "metadata": {
        "id": "zcBUXUXqe6Xv",
        "colab": {
          "base_uri": "https://localhost:8080/"
        },
        "outputId": "1ea9d220-e429-4988-8df0-36703e4b5ff5"
      },
      "execution_count": 202,
      "outputs": [
        {
          "output_type": "execute_result",
          "data": {
            "text/plain": [
              "['/content/Dataset/Train/0/12954_idx5_x1651_y2951_class0.png',\n",
              " '/content/Dataset/Train/0/9347_idx5_x2101_y801_class0.png',\n",
              " '/content/Dataset/Train/0/13106_idx5_x1_y2951_class0.png',\n",
              " '/content/Dataset/Test/0/13404_idx5_x1101_y2901_class0.png',\n",
              " '/content/Dataset/Validate/0/13694_idx5_x1551_y2801_class0.png',\n",
              " '/content/Dataset/Validate/0/9320_idx5_x801_y2951_class0.png',\n",
              " '/content/Dataset/Validate/0/12931_idx5_x1901_y2151_class0.png']"
            ]
          },
          "metadata": {},
          "execution_count": 202
        }
      ]
    },
    {
      "cell_type": "code",
      "source": [
        "import cv2 as cv\n",
        "import skimage.io as io\n",
        "\n",
        "def display_images(subclass):\n",
        "  fig, axes = plt.subplots(nrows=1, ncols=7, figsize=(20,8))\n",
        "  for idx, ax in enumerate(axes.flat):\n",
        "    image_wo_path = os.path.basename(subclass[idx])\n",
        "    subtitle = 'Class ' + image_wo_path.rsplit('.')[0][-1] + ': ' + subclass[idx].split('/')[3]\n",
        "    img = io.imread(subclass[idx])\n",
        "    ax.imshow(img)\n",
        "    # ax.axis('off')\n",
        "    ax.set_title(subtitle, size=14)   \n",
        "  fig.tight_layout() \n",
        "  plt.show() \n",
        "\n",
        "print();display_images(odd_images)"
      ],
      "metadata": {
        "colab": {
          "base_uri": "https://localhost:8080/",
          "height": 0
        },
        "id": "GUjzcW6KmPpa",
        "outputId": "5ab8b94a-e4a6-4559-b943-88bf82327b1c"
      },
      "execution_count": 203,
      "outputs": [
        {
          "output_type": "stream",
          "name": "stdout",
          "text": [
            "\n"
          ]
        },
        {
          "output_type": "display_data",
          "data": {
            "text/plain": [
              "<Figure size 1440x576 with 7 Axes>"
            ],
            "image/png": "[encoded data removed]"
          },
          "metadata": {
            "needs_background": "light"
          }
        }
      ]
    },
    {
      "cell_type": "code",
      "source": [
        "train_0_images_list[:5]"
      ],
      "metadata": {
        "id": "oVtUbzBwSkOx",
        "colab": {
          "base_uri": "https://localhost:8080/"
        },
        "outputId": "2ad3527c-1f36-4e79-e4c6-1ce84b88426d"
      },
      "execution_count": 204,
      "outputs": [
        {
          "output_type": "execute_result",
          "data": {
            "text/plain": [
              "['/content/Dataset/Train/1/14191_idx5_x1701_y2201_class1.png',\n",
              " '/content/Dataset/Train/1/9323_idx5_x1501_y1151_class1.png',\n",
              " '/content/Dataset/Train/1/9043_idx5_x2801_y701_class1.png',\n",
              " '/content/Dataset/Train/1/10300_idx5_x2101_y601_class1.png',\n",
              " '/content/Dataset/Train/1/9029_idx5_x2251_y951_class1.png']"
            ]
          },
          "metadata": {},
          "execution_count": 204
        }
      ]
    },
    {
      "cell_type": "code",
      "source": [
        "train_1_images_list[0].split(\"/\")[-1], train_1_images_list[0][:train_1_images_list[0].rfind(\"/\") + 1]"
      ],
      "metadata": {
        "id": "2BcU0Mx5ShaC",
        "colab": {
          "base_uri": "https://localhost:8080/"
        },
        "outputId": "c0275b41-3cba-47e3-e85f-765ae933dee4"
      },
      "execution_count": 205,
      "outputs": [
        {
          "output_type": "execute_result",
          "data": {
            "text/plain": [
              "('14156_idx5_x601_y1501_class0.png', '/content/Dataset/Train/0/')"
            ]
          },
          "metadata": {},
          "execution_count": 205
        }
      ]
    },
    {
      "cell_type": "code",
      "source": [
        "# delete a full folder including all its files and subfolders\n",
        "!rm -rf processed_images/"
      ],
      "metadata": {
        "id": "wIGRZoWrzuJ4"
      },
      "execution_count": 206,
      "outputs": []
    },
    {
      "cell_type": "markdown",
      "source": [
        "# Create a New Directory Path to Store Processed Images"
      ],
      "metadata": {
        "id": "ExufXq8gzvre"
      }
    },
    {
      "cell_type": "code",
      "source": [
        "root_dir = 'processed_images'\n",
        "\n",
        "os.makedirs(f'{root_dir}', exist_ok = True)\n",
        "for dir in ['train', 'val', 'test']:\n",
        "    for sub_dir in ['1', '0']:\n",
        "        os.makedirs(f'{root_dir}/{dir}/{sub_dir}', exist_ok=True)"
      ],
      "metadata": {
        "id": "NuLyO5-kX9RL"
      },
      "execution_count": 207,
      "outputs": []
    },
    {
      "cell_type": "markdown",
      "source": [
        "# Image Augmentation on Training Dataset\n",
        "- Convert color to gray scale\n",
        "- Flip: Horizontal and Vertical\n",
        "- Rotate 90 degree"
      ],
      "metadata": {
        "id": "BK4hkV9niRAs"
      }
    },
    {
      "cell_type": "code",
      "source": [
        "# https://towardsdatascience.com/complete-image-augmentation-in-opencv-31a6b02694f5\n",
        "\n",
        "from google.colab.patches import cv2_imshow\n",
        "target_size=(150,150)\n",
        "\n",
        "# original: 50x50 rgb \n",
        "org_img = load_img(train_0_images_list[2], color_mode =\"rgb\", target_size=target_size)\n",
        "org_img_arry = img_to_array(org_img)\n",
        "print(\"  Original:50x50(RGB)\");print()\n",
        "cv2_imshow(org_img_arry)\n",
        "\n",
        "# original: 50x50 grayscale \n",
        "test_img = load_img(train_0_images_list[2], color_mode =\"grayscale\", target_size=target_size)\n",
        "test_img_arry = img_to_array(test_img)\n",
        "print();print(\" Not normalized-Original:50x50(Gray)\");print()\n",
        "cv2_imshow(test_img_arry)\n",
        "\n",
        "#  normalized gray scale\n",
        "norm_test_img_arry = cv2.normalize(test_img_arry, None, alpha=0, beta=255, norm_type=cv2.NORM_MINMAX, dtype=cv2.CV_32F)\n",
        "print();print('Normalized-gray');print()\n",
        "cv2_imshow(norm_test_img_arry)\n",
        "# print('norm1-gray:\\n', norm_test_img_arry)\n",
        "\n",
        "# brightness\n",
        "bright_img_gs = tf.image.adjust_brightness(norm_test_img_arry, delta=10)\n",
        "bright_img_gs = img_to_array(bright_img_gs)\n",
        "print();print(\" Brightness:0.1,0.3\");print()\n",
        "cv2_imshow(bright_img_gs)\n",
        "\n",
        "# contrast\n",
        "contrast_img_gs = tf.image.adjust_contrast(test_img_arry, contrast_factor=3)\n",
        "contrast_img_gs = img_to_array(contrast_img_gs)\n",
        "print();print(\"    Contrast:1,3\");print()\n",
        "cv2_imshow(contrast_img_gs)\n",
        "\n",
        "# horizontal flip\n",
        "hflip_img_gs = cv2.flip(norm_test_img_arry, 1)\n",
        "print();print(\"  Horizontal Flip\");print()\n",
        "cv2_imshow(hflip_img_gs)\n",
        "\n",
        "# vertical flip\n",
        "vflip_img_gs = cv2.flip(norm_test_img_arry, 0)\n",
        "print();print(\"   Vertical Flip\");print()\n",
        "cv2_imshow(vflip_img_gs)\n",
        "\n",
        "# random rotate \n",
        "angle = int(random.uniform(-90, 90))\n",
        "hr, wr = norm_test_img_arry.shape[:2]\n",
        "M = cv2.getRotationMatrix2D((int(wr/2), int(hr/2)), angle, 1)\n",
        "rotated_img_gs = cv2.warpAffine(norm_test_img_arry, M, (wr, hr))\n",
        "rotated_img_gs = img_to_array(rotated_img_gs)\n",
        "print();print(\"    RandomRotate\");print()\n",
        "cv2_imshow(rotated_img_gs)\n",
        "\n",
        "# rotate 90 degree ccw\n",
        "out=cv2.transpose(norm_test_img_arry)\n",
        "out=cv2.flip(out,flipCode=0)\n",
        "rotated_img_gs = img_to_array(out)\n",
        "print();print(\"    Rotate 90:CCW\");print()\n",
        "cv2_imshow(out)\n",
        "\n",
        "# rotate 90 degree cw\n",
        "out=cv2.transpose(norm_test_img_arry)\n",
        "out=cv2.flip(out,flipCode=1)\n",
        "rotated_img_gs = img_to_array(out)/255        # normalize it after augment the image\n",
        "# print('rotated_img_gs',rotated_img_gs)\n",
        "print();print(\"     Rotate 90:CW\");print()\n",
        "cv2_imshow(out)\n",
        "\n",
        "# fill mode = 'nearest'\n",
        "# ratio = random.uniform(-ratio, ratio)\n",
        "def fill_mode(ratio, img):\n",
        "  fm_ratio = random.uniform(-ratio, ratio)\n",
        "  h, w = img.shape[:2]\n",
        "  to_shift = int(w*fm_ratio)\n",
        "  if fm_ratio > 0:\n",
        "      img = img[:, :w-to_shift, :]\n",
        "      nearest_img_gs = cv2.copyMakeBorder(img, 0, 0, to_shift, 0, cv2.BORDER_REPLICATE)\n",
        "      # constant_img_gs= cv2.copyMakeBorder(img, 0, 0, to_shift, 0, cv2.BORDER_CONSTANT,value=(255, 0, 0))\n",
        "  if fm_ratio < 0:\n",
        "      img = img[:, -1*to_shift:, :]\n",
        "      nearest_img_gs = cv2.copyMakeBorder(img, 0, 0, 0, -1*to_shift, cv2.BORDER_REPLICATE)\n",
        "      # constant_img_gs= cv2.copyMakeBorder(img, 0, 0, 0, -1*to_shift, cv2.BORDER_CONSTANT,value=(255, 0, 0))  \n",
        "  return nearest_img_gs\n",
        "\n",
        "# test_img = load_img(train_1_images_list[5], color_mode =\"grayscale\", target_size=target_size)\n",
        "# test_img_arry = img_to_array(test_img)\n",
        "nearest_img_gs = fill_mode(0.8, contrast_img_gs)\n",
        "nearest_img_gs = img_to_array(nearest_img_gs)\n",
        "print();print(\"   FillMode:Nearest\");print()\n",
        "cv2_imshow(nearest_img_gs)\n",
        "\n",
        "# Random ZoomIn\n",
        "def zoom_in(ratio, img):\n",
        "  z_ratio = random.uniform(ratio, 1)\n",
        "  h, w = img.shape[:2]\n",
        "  h_taken = int(z_ratio*h)\n",
        "  w_taken = int(z_ratio*w)\n",
        "  h_start = random.randint(0, h-h_taken)\n",
        "  w_start = random.randint(0, w-w_taken)\n",
        "  img = img[h_start:h_start+h_taken, w_start:w_start+w_taken, :]\n",
        "  zoomed_img_gs = cv2.resize(img, (h, w), cv2.INTER_CUBIC)  \n",
        "  return zoomed_img_gs\n",
        "zoomed_img_gs = zoom_in(0.6, contrast_img_gs)\n",
        "zoomed_img_gs = img_to_array(zoomed_img_gs)\n",
        "print();print(\"   Random Zoom-In\");print()\n",
        "cv2_imshow(zoomed_img_gs)\n",
        "\n",
        "# shift the image 5 pixels to the left and 10 pixels down\n",
        "M = np.float32([[1, 0, -10], [0, 1, 20]])\n",
        "shifted_ld_gs = cv2.warpAffine(norm_test_img_arry, M, (norm_test_img_arry.shape[1], norm_test_img_arry.shape[0]))\n",
        "print();print(\" RandomShift:LeftDown\");print()\n",
        "cv2_imshow(shifted_ld_gs)\n",
        "\n",
        "# shift the image 5 pixels to the right and 10 pixels up\n",
        "M = np.float32([[1, 0, 17], [0, 1, -8]])\n",
        "shifted_ru_gs = cv2.warpAffine(norm_test_img_arry, M, (norm_test_img_arry.shape[1], norm_test_img_arry.shape[0]))\n",
        "print();print(\" RandomShift:RightUp\");print()\n",
        "cv2_imshow(shifted_ru_gs)"
      ],
      "metadata": {
        "id": "XHS-8DM8IoRE",
        "outputId": "47f4e672-040d-498c-8ba8-6f1e808e46ea",
        "colab": {
          "base_uri": "https://localhost:8080/",
          "height": 1000
        }
      },
      "execution_count": 208,
      "outputs": [
        {
          "output_type": "stream",
          "name": "stdout",
          "text": [
            "  Original:50x50(RGB)\n",
            "\n"
          ]
        },
        {
          "output_type": "display_data",
          "data": {
            "text/plain": [
              "<PIL.Image.Image image mode=RGB size=150x150 at 0x7EFE0DA3DAF0>"
            ],
            "image/png": "[encoded data removed]"
          },
          "metadata": {}
        },
        {
          "output_type": "stream",
          "name": "stdout",
          "text": [
            "\n",
            " Not normalized-Original:50x50(Gray)\n",
            "\n"
          ]
        },
        {
          "output_type": "display_data",
          "data": {
            "text/plain": [
              "<PIL.Image.Image image mode=RGB size=150x150 at 0x7EFE0DA99BE0>"
            ],
            "image/png": "[encoded data removed]"
          },
          "metadata": {}
        },
        {
          "output_type": "stream",
          "name": "stdout",
          "text": [
            "\n",
            "Normalized-gray\n",
            "\n"
          ]
        },
        {
          "output_type": "display_data",
          "data": {
            "text/plain": [
              "<PIL.Image.Image image mode=L size=150x150 at 0x7EFE0DA3D880>"
            ],
            "image/png": "[encoded data removed]"
          },
          "metadata": {}
        },
        {
          "output_type": "stream",
          "name": "stdout",
          "text": [
            "\n",
            " Brightness:0.1,0.3\n",
            "\n"
          ]
        },
        {
          "output_type": "display_data",
          "data": {
            "text/plain": [
              "<PIL.Image.Image image mode=RGB size=150x150 at 0x7EFE0A4FBC10>"
            ],
            "image/png": "[encoded data removed]"
          },
          "metadata": {}
        },
        {
          "output_type": "stream",
          "name": "stdout",
          "text": [
            "\n",
            "    Contrast:1,3\n",
            "\n"
          ]
        },
        {
          "output_type": "display_data",
          "data": {
            "text/plain": [
              "<PIL.Image.Image image mode=RGB size=150x150 at 0x7EFE0DA99D00>"
            ],
            "image/png": "[encoded data removed]"
          },
          "metadata": {}
        },
        {
          "output_type": "stream",
          "name": "stdout",
          "text": [
            "\n",
            "  Horizontal Flip\n",
            "\n"
          ]
        },
        {
          "output_type": "display_data",
          "data": {
            "text/plain": [
              "<PIL.Image.Image image mode=L size=150x150 at 0x7EFE0DA3DAF0>"
            ],
            "image/png": "[encoded data removed]"
          },
          "metadata": {}
        },
        {
          "output_type": "stream",
          "name": "stdout",
          "text": [
            "\n",
            "   Vertical Flip\n",
            "\n"
          ]
        },
        {
          "output_type": "display_data",
          "data": {
            "text/plain": [
              "<PIL.Image.Image image mode=L size=150x150 at 0x7EFE0DA99E20>"
            ],
            "image/png": "[encoded data removed]"
          },
          "metadata": {}
        },
        {
          "output_type": "stream",
          "name": "stdout",
          "text": [
            "\n",
            "    RandomRotate\n",
            "\n"
          ]
        },
        {
          "output_type": "display_data",
          "data": {
            "text/plain": [
              "<PIL.Image.Image image mode=RGB size=150x150 at 0x7EFE0A4FB850>"
            ],
            "image/png": "[encoded data removed]"
          },
          "metadata": {}
        },
        {
          "output_type": "stream",
          "name": "stdout",
          "text": [
            "\n",
            "    Rotate 90:CCW\n",
            "\n"
          ]
        },
        {
          "output_type": "display_data",
          "data": {
            "text/plain": [
              "<PIL.Image.Image image mode=L size=150x150 at 0x7EFE0DA99AC0>"
            ],
            "image/png": "[encoded data removed]"
          },
          "metadata": {}
        },
        {
          "output_type": "stream",
          "name": "stdout",
          "text": [
            "\n",
            "     Rotate 90:CW\n",
            "\n"
          ]
        },
        {
          "output_type": "display_data",
          "data": {
            "text/plain": [
              "<PIL.Image.Image image mode=L size=150x150 at 0x7EFE0BD1FAF0>"
            ],
            "image/png": "[encoded data removed]"
          },
          "metadata": {}
        },
        {
          "output_type": "stream",
          "name": "stdout",
          "text": [
            "\n",
            "   FillMode:Nearest\n",
            "\n"
          ]
        },
        {
          "output_type": "display_data",
          "data": {
            "text/plain": [
              "<PIL.Image.Image image mode=RGB size=150x150 at 0x7EFE0DA99A60>"
            ],
            "image/png": "[encoded data removed]"
          },
          "metadata": {}
        },
        {
          "output_type": "stream",
          "name": "stdout",
          "text": [
            "\n",
            "   Random Zoom-In\n",
            "\n"
          ]
        },
        {
          "output_type": "display_data",
          "data": {
            "text/plain": [
              "<PIL.Image.Image image mode=RGB size=150x150 at 0x7EFE0DA99C10>"
            ],
            "image/png": "[encoded data removed]"
          },
          "metadata": {}
        },
        {
          "output_type": "stream",
          "name": "stdout",
          "text": [
            "\n",
            " RandomShift:LeftDown\n",
            "\n"
          ]
        },
        {
          "output_type": "display_data",
          "data": {
            "text/plain": [
              "<PIL.Image.Image image mode=L size=150x150 at 0x7EFE0B591C40>"
            ],
            "image/png": "[encoded data removed]"
          },
          "metadata": {}
        },
        {
          "output_type": "stream",
          "name": "stdout",
          "text": [
            "\n",
            " RandomShift:RightUp\n",
            "\n"
          ]
        },
        {
          "output_type": "display_data",
          "data": {
            "text/plain": [
              "<PIL.Image.Image image mode=L size=150x150 at 0x7EFE0A4FBC10>"
            ],
            "image/png": "[encoded data removed]"
          },
          "metadata": {}
        }
      ]
    },
    {
      "cell_type": "code",
      "source": [
        "# def create_gs_files(file_list, dest_dir, ind):\n",
        "def create_gs_files(file_list, dest_dir, ind, brightness_delta=0.3, contrast_factor=3, angle=90, right=7, up=-10, left=-7, down=10):\n",
        "# def create_gs_files(file_list, dest_dir, ind, brightness_delta=0.3, contrast_factor=3, angle=90):\n",
        "  # create_gs_files(train_1_images_list, tgt_train_1_image_path, 1, 0.3, 3, 45, 7, -10, -7, 10)\n",
        "  # print(file_list, dest_dir, ind)\n",
        "  lst_train_1_gs, lst_train_0_gs = [], []\n",
        "  lst_val_1_gs, lst_val_0_gs = [], []\n",
        "  lst_test_1_gs, lst_test_0_gs = [], []\n",
        "\n",
        "  file_extension = '.png'\n",
        "  # norm_pixel = 255.0\n",
        "  for image_file in file_list:\n",
        "      #print(image_file)\n",
        "      if image_file[0] == '.' or image_file in odd_images:                                     # if image_file = .DS_Store or an odd image then ignore\n",
        "          continue\n",
        "      img_gs = load_img(image_file, color_mode = \"grayscale\")                                     # convert images from colorscale to grayscale\n",
        "      # img_array_gs = img_to_array(img_gs)/255               \n",
        "      img_array_gs = img_to_array(img_gs)                     # Not normalizing the pixels\n",
        "      # img_array_gs = cv2.normalize(img_array_gs, None, alpha=0, beta=1, norm_type=cv2.NORM_MINMAX, dtype=cv2.CV_32F)   # Normalizing the pixels\n",
        "\n",
        "      # print('==================')     \n",
        "      # print('original non-normalized')\n",
        "      # print(cv2_imshow(img_array_gs))      \n",
        "      # print('original normalized')\n",
        "      # print(cv2_imshow(img_array_gs)) \n",
        "\n",
        "      file_name = image_file.split(\"/\")[-1]                                          \n",
        "      save_img(dest_dir + file_name.split(\".\")[0] + '_gs' + file_extension, img_array_gs)     # CORRECT: pass 'img_array_gs' instead of 'img_array_gs'. otherwise getting an error\n",
        "\n",
        "      if ind == 1:\n",
        "          # insert raw training images in gray scale\n",
        "          lst_train_0_gs.append(dest_dir + file_name.split(\".\")[0] + '_gs' + file_extension)\n",
        "\n",
        "          # adjust brightness\n",
        "          bright_img_gs = tf.image.adjust_brightness(img_array_gs, delta=brightness_delta)\n",
        "          img_array_bright_gs = img_to_array(bright_img_gs)\n",
        "          save_img(dest_dir + file_name.split(\".\")[0] + '_bright_gs' + file_extension, img_array_bright_gs)\n",
        "          lst_train_0_gs.append(dest_dir + file_name.split(\".\")[0] + '_bright_gs' + file_extension)\n",
        "\n",
        "          # print();print(\" Brightness\");print()\n",
        "          # cv2_imshow(img_array_bright_gs)\n",
        "          \n",
        "          # adjust contrast\n",
        "          contrast_img_gs = tf.image.adjust_contrast(img_array_gs, contrast_factor=contrast_factor)\n",
        "          img_array_contrast_gs = img_to_array(contrast_img_gs)\n",
        "          save_img(dest_dir + file_name.split(\".\")[0] + '_contrast_gs' + file_extension, img_array_contrast_gs)\n",
        "          lst_train_0_gs.append(dest_dir + file_name.split(\".\")[0] + '_contrast_gs' + file_extension)\n",
        "\n",
        "          # print();print(\" contrast\");print()\n",
        "          # cv2_imshow(img_array_contrast_gs)\n",
        "\n",
        "          # horizontal flip\n",
        "          hflip_img_gs = cv2.flip(img_array_gs, 1)\n",
        "          img_array_hflip_gs = img_to_array(hflip_img_gs)\n",
        "          save_img(dest_dir + file_name.split(\".\")[0] + '_hflip_gs' + file_extension, img_array_hflip_gs)\n",
        "          lst_train_0_gs.append(dest_dir + file_name.split(\".\")[0] + '_hflip_gs' + file_extension)\n",
        "\n",
        "          # print();print(\" hvip\");print()\n",
        "          # cv2_imshow(img_array_hflip_gs)\n",
        "\n",
        "          # vertical flip\n",
        "          vflip_img_gs = cv2.flip(img_array_gs, 0)\n",
        "          img_array_vflip_gs = img_to_array(vflip_img_gs)\n",
        "          save_img(dest_dir + file_name.split(\".\")[0] + '_vflip_gs' + file_extension, img_array_vflip_gs)\n",
        "          lst_train_0_gs.append(dest_dir + file_name.split(\".\")[0] + '_vflip_gs' + file_extension)\n",
        "\n",
        "          # print();print(\" vvip\");print()\n",
        "          # cv2_imshow(img_array_vflip_gs)\n",
        "\n",
        "          # random rotate \n",
        "          rotate = int(random.uniform(-angle, angle))\n",
        "          # print('rotate ind=1', rotate)\n",
        "          h, w = img_array_gs.shape[:2]\n",
        "          M = cv2.getRotationMatrix2D((int(w/2), int(h/2)), rotate, 1)\n",
        "          rotated_img_gs = cv2.warpAffine(img_array_gs, M, (w, h))\n",
        "          img_array_rotated_gs = img_to_array(rotated_img_gs)\n",
        "          save_img(dest_dir + file_name.split(\".\")[0] + '_' + str(rotate) + 'rotated_gs' + file_extension, img_array_rotated_gs)\n",
        "          lst_train_0_gs.append(dest_dir + file_name.split(\".\")[0] + '_' + str(rotate) + 'rotated_gs' + file_extension)\n",
        "\n",
        "          # print();print(\" randome rotate\");print()\n",
        "          # cv2_imshow(img_array_rotated_gs)\n",
        "\n",
        "          # rotate 90 degrees counter clockwise (flip around x-axis)\n",
        "          img_ccw90rot_gs = cv2.transpose(img_array_gs)\n",
        "          img_ccw90rot_gs = cv2.flip(img_ccw90rot_gs, flipCode = 0)\n",
        "          rotatedccw90_img_gs = img_to_array(img_ccw90rot_gs)\n",
        "          save_img(dest_dir + file_name.split(\".\")[0] + '_ccw90rot_gs' + file_extension, rotatedccw90_img_gs)\n",
        "          lst_train_0_gs.append(dest_dir + file_name.split(\".\")[0] + '_ccw90rot_gs' + file_extension)\n",
        "\n",
        "          # print();print(\" 90ccw\");print()\n",
        "          # cv2_imshow(rotatedccw90_img_gs)\n",
        "\n",
        "          # rotate 90 degrees clockwise(flip around y-axis)\n",
        "          img_90rot_gs = cv2.transpose(img_array_gs)\n",
        "          img_90rot_gs = cv2.flip(img_90rot_gs, flipCode = 1)\n",
        "          rotated90_img_gs = img_to_array(img_90rot_gs)\n",
        "          save_img(dest_dir + file_name.split(\".\")[0] + '_cw90rot_gs' + file_extension, rotated90_img_gs)\n",
        "          lst_train_0_gs.append(dest_dir + file_name.split(\".\")[0] + '_cw90rot_gs' + file_extension)\n",
        "\n",
        "          # print();print(\" 90cw\");print()\n",
        "          # cv2_imshow(rotated90_img_gs)\n",
        "\n",
        "          # random zoom-in                       \n",
        "          zoomed_img_gs = zoom_in(0.6, img_array_contrast_gs)\n",
        "          img_array_zoomed_img_gs = img_to_array(zoomed_img_gs)\n",
        "          save_img(dest_dir + file_name.split(\".\")[0] + '_random_zoom_in_gs' + file_extension, img_array_zoomed_img_gs)\n",
        "          lst_train_0_gs.append(dest_dir + file_name.split(\".\")[0] + '_random_zoom_in_gs' + file_extension)\n",
        "\n",
        "          # print();print(\" zoom in\");print()\n",
        "          # cv2_imshow(img_array_zoomed_img_gs)\n",
        "\n",
        "          # fill_mode = nearst\n",
        "          nearest_img_gs = fill_mode(0.8, img_array_contrast_gs)\n",
        "          img_array_nearest_img_gs = img_to_array(nearest_img_gs)\n",
        "          save_img(dest_dir + file_name.split(\".\")[0] + '_fillmode_nearest_gs' + file_extension, img_array_nearest_img_gs)\n",
        "          lst_train_0_gs.append(dest_dir + file_name.split(\".\")[0] + '_fillmode_nearest_gs' + file_extension)\n",
        "\n",
        "          # print();print(\" fill_mode:nearest\");print()\n",
        "          # cv2_imshow(img_array_nearest_img_gs)\n",
        "\n",
        "          # shift the image 7 pixels to the right and -10 pixels up\n",
        "          M = np.float32([[1, 0, right], [0, 1, up]])\n",
        "          shifted_lu = cv2.warpAffine(img_array_gs, M, (img_array_gs.shape[1], img_array_gs.shape[0]))\n",
        "          img_array_shifted_ru_gs = img_to_array(shifted_lu)\n",
        "          save_img(dest_dir + file_name.split(\".\")[0] + '_shifted_right_up_gs' + file_extension, img_array_shifted_ru_gs)\n",
        "          lst_train_0_gs.append(dest_dir + file_name.split(\".\")[0] + '_shifted_right_up_gs' + file_extension)\n",
        "\n",
        "          # print();print(\" shift right down\");print()\n",
        "          # cv2_imshow(img_array_shifted_ru_gs)\n",
        "\n",
        "          # # shift the image -7 pixels to the left and 10 pixels down\n",
        "          M = np.float32([[1, 0, left], [0, 1, down]])\n",
        "          shifted_rd = cv2.warpAffine(img_array_gs, M, (img_array_gs.shape[1], img_array_gs.shape[0]))\n",
        "          img_array_shifted_ld_gs = img_to_array(shifted_rd)\n",
        "          save_img(dest_dir + file_name.split(\".\")[0] + '_shifted_left_down_gs' + file_extension, img_array_shifted_ld_gs)\n",
        "          lst_train_0_gs.append(dest_dir + file_name.split(\".\")[0] + '_shifted_left_down_gs' + file_extension)\n",
        "\n",
        "          # print();print(\" shift left up\");print()\n",
        "          # cv2_imshow(img_array_shifted_ld_gs)\n",
        "\n",
        "      elif ind == 2:\n",
        "          # insert raw training images in gray scale\n",
        "          lst_train_1_gs.append(dest_dir + file_name.split(\".\")[0] + '_gs' + file_extension)\n",
        "\n",
        "           # print();print('Normalized-gray');print()\n",
        "          # cv2_imshow(lst_train_0_gs[0])\n",
        "\n",
        "          # adjust brightness\n",
        "          bright_img_gs = tf.image.adjust_brightness(img_array_gs, delta=brightness_delta)\n",
        "          img_array_bright_gs = img_to_array(bright_img_gs)\n",
        "          save_img(dest_dir + file_name.split(\".\")[0] + '_bright_gs' + file_extension, img_array_bright_gs)\n",
        "          lst_train_1_gs.append(dest_dir + file_name.split(\".\")[0] + '_bright_gs' + file_extension)\n",
        "\n",
        "          # print();print(\" Brightness\");print()\n",
        "          # cv2_imshow(img_array_bright_gs)\n",
        "          \n",
        "          # adjust contrast\n",
        "          contrast_img_gs = tf.image.adjust_contrast(img_array_gs, contrast_factor=contrast_factor)\n",
        "          img_array_contrast_gs = img_to_array(contrast_img_gs)\n",
        "          save_img(dest_dir + file_name.split(\".\")[0] + '_contrast_gs' + file_extension, img_array_contrast_gs)\n",
        "          lst_train_1_gs.append(dest_dir + file_name.split(\".\")[0] + '_contrast_gs' + file_extension)\n",
        "\n",
        "          # print();print(\" contrast\");print()\n",
        "          # cv2_imshow(img_array_contrast_gs)\n",
        "\n",
        "          # horizontal flip\n",
        "          hflip_img_gs = cv2.flip(img_array_gs, 1)\n",
        "          img_array_hflip_gs = img_to_array(hflip_img_gs)\n",
        "          save_img(dest_dir + file_name.split(\".\")[0] + '_hflip_gs' + file_extension, img_array_hflip_gs)\n",
        "          lst_train_1_gs.append(dest_dir + file_name.split(\".\")[0] + '_hflip_gs' + file_extension)\n",
        "\n",
        "          # print();print(\" hvip\");print()\n",
        "          # cv2_imshow(img_array_hflip_gs)\n",
        "\n",
        "          # vertical flip\n",
        "          vflip_img_gs = cv2.flip(img_array_gs, 0)\n",
        "          img_array_vflip_gs = img_to_array(vflip_img_gs)\n",
        "          save_img(dest_dir + file_name.split(\".\")[0] + '_vflip_gs' + file_extension, img_array_vflip_gs)\n",
        "          lst_train_1_gs.append(dest_dir + file_name.split(\".\")[0] + '_vflip_gs' + file_extension)\n",
        "\n",
        "          # print();print(\" vvip\");print()\n",
        "          # cv2_imshow(img_array_vflip_gs)\n",
        "\n",
        "          # random rotate \n",
        "          rotate = int(random.uniform(-angle, angle))\n",
        "          # print('rotate ind=1', rotate)\n",
        "          h, w = img_array_gs.shape[:2]\n",
        "          M = cv2.getRotationMatrix2D((int(w/2), int(h/2)), rotate, 1)\n",
        "          rotated_img_gs = cv2.warpAffine(img_array_gs, M, (w, h))\n",
        "          img_array_rotated_gs = img_to_array(rotated_img_gs)\n",
        "          save_img(dest_dir + file_name.split(\".\")[0] + '_' + str(rotate) + 'rotated_gs' + file_extension, img_array_rotated_gs)\n",
        "          lst_train_1_gs.append(dest_dir + file_name.split(\".\")[0] + '_' + str(rotate) + 'rotated_gs' + file_extension)\n",
        "\n",
        "          # print();print(\" randome rotate\");print()\n",
        "          # cv2_imshow(img_array_rotated_gs)\n",
        "\n",
        "          # rotate 90 degrees counter clockwise (flip around x-axis)\n",
        "          img_ccw90rot_gs = cv2.transpose(img_array_gs)\n",
        "          img_ccw90rot_gs = cv2.flip(img_ccw90rot_gs, flipCode = 0)\n",
        "          rotatedccw90_img_gs = img_to_array(img_ccw90rot_gs)\n",
        "          save_img(dest_dir + file_name.split(\".\")[0] + '_ccw90rot_gs' + file_extension, rotatedccw90_img_gs)\n",
        "          lst_train_1_gs.append(dest_dir + file_name.split(\".\")[0] + '_ccw90rot_gs' + file_extension)\n",
        "\n",
        "          # print();print(\" 90ccw\");print()\n",
        "          # cv2_imshow(rotatedccw90_img_gs)\n",
        "\n",
        "          # rotate 90 degrees clockwise(flip around y-axis)\n",
        "          img_90rot_gs = cv2.transpose(img_array_gs)\n",
        "          img_90rot_gs = cv2.flip(img_90rot_gs, flipCode = 1)\n",
        "          rotated90_img_gs = img_to_array(img_90rot_gs)\n",
        "          save_img(dest_dir + file_name.split(\".\")[0] + '_cw90rot_gs' + file_extension, rotated90_img_gs)\n",
        "          lst_train_1_gs.append(dest_dir + file_name.split(\".\")[0] + '_cw90rot_gs' + file_extension)\n",
        "\n",
        "          # print();print(\" 90cw\");print()\n",
        "          # cv2_imshow(rotated90_img_gs)\n",
        "\n",
        "          # random zoom-in                       \n",
        "          zoomed_img_gs = zoom_in(0.6, img_array_contrast_gs)\n",
        "          img_array_zoomed_img_gs = img_to_array(zoomed_img_gs)\n",
        "          save_img(dest_dir + file_name.split(\".\")[0] + '_random_zoom_in_gs' + file_extension, img_array_zoomed_img_gs)\n",
        "          lst_train_1_gs.append(dest_dir + file_name.split(\".\")[0] + '_random_zoom_in_gs' + file_extension)\n",
        "\n",
        "          # print();print(\" zoom in\");print()\n",
        "          # cv2_imshow(img_array_zoomed_img_gs)\n",
        "\n",
        "          # fill_mode = nearst\n",
        "          nearest_img_gs = fill_mode(0.8, img_array_contrast_gs)\n",
        "          img_array_nearest_img_gs = img_to_array(nearest_img_gs)\n",
        "          save_img(dest_dir + file_name.split(\".\")[0] + '_fillmode_nearest_gs' + file_extension, img_array_nearest_img_gs)\n",
        "          lst_train_1_gs.append(dest_dir + file_name.split(\".\")[0] + '_fillmode_nearest_gs' + file_extension)\n",
        "\n",
        "          # print();print(\" fill_mode:nearest\");print()\n",
        "          # cv2_imshow(img_array_nearest_img_gs)\n",
        "\n",
        "          # shift the image 7 pixels to the right and -10 pixels up\n",
        "          M = np.float32([[1, 0, right], [0, 1, up]])\n",
        "          shifted_lu = cv2.warpAffine(img_array_gs, M, (img_array_gs.shape[1], img_array_gs.shape[0]))\n",
        "          img_array_shifted_ru_gs = img_to_array(shifted_lu)\n",
        "          save_img(dest_dir + file_name.split(\".\")[0] + '_shifted_right_up_gs' + file_extension, img_array_shifted_ru_gs)\n",
        "          lst_train_1_gs.append(dest_dir + file_name.split(\".\")[0] + '_shifted_right_up_gs' + file_extension)\n",
        "\n",
        "          # print();print(\" shift right down\");print()\n",
        "          # cv2_imshow(img_array_shifted_ru_gs)\n",
        "\n",
        "          # # shift the image -7 pixels to the left and 10 pixels down\n",
        "          M = np.float32([[1, 0, left], [0, 1, down]])\n",
        "          shifted_rd = cv2.warpAffine(img_array_gs, M, (img_array_gs.shape[1], img_array_gs.shape[0]))\n",
        "          img_array_shifted_ld_gs = img_to_array(shifted_rd)\n",
        "          save_img(dest_dir + file_name.split(\".\")[0] + '_shifted_left_down_gs' + file_extension, img_array_shifted_ld_gs)\n",
        "          lst_train_1_gs.append(dest_dir + file_name.split(\".\")[0] + '_shifted_left_down_gs' + file_extension)\n",
        "\n",
        "          # print();print(\" shift left up\");print()\n",
        "          # cv2_imshow(img_array_shifted_ld_gs)\n",
        "\n",
        "      elif ind == 3:\n",
        "          lst_val_0_gs.append(dest_dir + file_name.split(\".\")[0] + '_gs' + file_extension)\n",
        "      elif ind == 4:\n",
        "          lst_val_1_gs.append(dest_dir + file_name.split(\".\")[0] + '_gs' + file_extension)\n",
        "      elif ind == 5:\n",
        "          lst_test_0_gs.append(dest_dir + file_name.split(\".\")[0] + '_gs' + file_extension)\n",
        "      elif ind == 6:\n",
        "          lst_test_1_gs.append(dest_dir + file_name.split(\".\")[0] + '_gs' + file_extension)\n",
        "              "
      ],
      "metadata": {
        "id": "Yz1imVrSD5TW"
      },
      "execution_count": 209,
      "outputs": []
    },
    {
      "cell_type": "code",
      "source": [
        "# # def create_gs_files(file_list, dest_dir, ind):\n",
        "# def create_gs_files(file_list, dest_dir, ind, brightness_delta=0.3, contrast_factor=3):\n",
        "#   # print(file_list, dest_dir, ind)\n",
        "#   lst_train_1_gs, lst_train_0_gs = [], []\n",
        "#   lst_val_1_gs, lst_val_0_gs = [], []\n",
        "#   lst_test_1_gs, lst_test_0_gs = [], []\n",
        "\n",
        "#   file_extension = '.png'\n",
        "#   for image_file in file_list:\n",
        "#       #print(image_file)\n",
        "#       if image_file[0] == '.' or image_file in odd_images:                                     # if image_file = .DS_Store or an odd image then ignore\n",
        "#           continue\n",
        "#       img_gs = load_img(image_file, color_mode = \"grayscale\")                                     # convert images from colorscale to grayscale\n",
        "#       img_array_gs = img_to_array(img_gs)                                                         # convert grayscale images to array\n",
        "#       #print(\"a\")\n",
        "#       #img_array_gs = cv2.resize(img_array_gs, (224, 224), interpolation = cv2.INTER_AREA)\n",
        "      \n",
        "#       file_name = image_file.split(\"/\")[-1]                                                       # extract only filenames from the full file path\n",
        "#       save_img(dest_dir + file_name.split(\".\")[0] + '_gs' + file_extension, img_array_gs)\n",
        "#       if ind == 1:\n",
        "#           # insert raw training images in gray scale\n",
        "#           lst_train_1_gs.append(dest_dir + file_name.split(\".\")[0] + '_gs' + file_extension)\n",
        "\n",
        "#           # adjust brightness\n",
        "#           bright_img_gs = tf.image.adjust_brightness(img_array_gs, delta=brightness_delta)\n",
        "#           img_array_bright_gs = img_to_array(bright_img_gs)\n",
        "#           save_img(dest_dir + file_name.split(\".\")[0] + '_bright_gs' + file_extension, img_array_bright_gs)\n",
        "#           lst_train_1_gs.append(dest_dir + file_name.split(\".\")[0] + '_bright_gs' + file_extension)\n",
        "          \n",
        "#           # adjust contrast\n",
        "#           contrast_img_gs = tf.image.adjust_contrast(img_array_gs, contrast_factor=contrast_factor)\n",
        "#           img_array_contrast_gs = img_to_array(contrast_img_gs)\n",
        "#           save_img(dest_dir + file_name.split(\".\")[0] + '_contrast_gs' + file_extension, img_array_contrast_gs)\n",
        "#           lst_train_1_gs.append(dest_dir + file_name.split(\".\")[0] + '_contrast_gs' + file_extension)\n",
        "\n",
        "#           # horizontal flip\n",
        "#           hflip_img_gs = cv2.flip(img_array_gs, 1)\n",
        "#           img_array_hflip_gs = img_to_array(hflip_img_gs)\n",
        "#           save_img(dest_dir + file_name.split(\".\")[0] + '_hflip_gs' + file_extension, img_array_hflip_gs)\n",
        "#           lst_train_1_gs.append(dest_dir + file_name.split(\".\")[0] + '_hflip_gs' + file_extension)\n",
        "\n",
        "#           # vertical flip\n",
        "#           vflip_img_gs = cv2.flip(img_array_gs, 0)\n",
        "#           img_array_vflip_gs = img_to_array(vflip_img_gs)\n",
        "#           save_img(dest_dir + file_name.split(\".\")[0] + '_vflip_gs' + file_extension, img_array_vflip_gs)\n",
        "#           lst_train_1_gs.append(dest_dir + file_name.split(\".\")[0] + '_vflip_gs' + file_extension)\n",
        "\n",
        "#           # rotate 90 degree\n",
        "#           angle = int(random.uniform(-90, 90))\n",
        "#           h, w = img_array_gs.shape[:2]\n",
        "#           M = cv2.getRotationMatrix2D((int(w/2), int(h/2)), angle, 1)\n",
        "#           rotated_img_gs = cv2.warpAffine(img_array_gs, M, (w, h))\n",
        "#           img_array_rotated_gs = img_to_array(rotated_img_gs)\n",
        "#           save_img(dest_dir + file_name.split(\".\")[0] + '_90rotated_gs' + file_extension, img_array_rotated_gs)\n",
        "#           lst_train_1_gs.append(dest_dir + file_name.split(\".\")[0] + '_90rotated_gs' + file_extension)\n",
        "#           '''\n",
        "#           angle = int(random.uniform(-279, 270))\n",
        "#           h, w = img_array_gs.shape[:2]\n",
        "#           M = cv2.getRotationMatrix2D((int(w/2), int(h/2)), angle, 1)\n",
        "#           rotated_img_gs = cv2.warpAffine(img_array_gs, M, (w, h))\n",
        "#           img_array_rotated_gs = img_to_array(rotated_img_gs)\n",
        "#           save_img(dest_dir + file_name.split(\".\")[0] + '_270rotated_gs' + file_extension, img_array_rotated_gs)\n",
        "#           lst_train_1_gs.append(dest_dir + file_name.split(\".\")[0] + '_270rotated_gs' + file_extension)\n",
        "          \n",
        "#           img_90rot_gs = cv2.rotate(img_gs, cv2.cv2.ROTATE_90_CLOCKWISE)\n",
        "#           img_array_90rot_gs = img_to_array(img_90rot_gs)\n",
        "#           save_img(dest_dir + file_name.split(\".\")[0] + '_90rot_gs' + file_extension, img_array_90rot_gs)\n",
        "#           lst_train_1_gs.append(dest_dir + file_name.split(\".\")[0] + '_90rot_gs' + file_extension)\n",
        "          \n",
        "#           img_180rot_gs = cv2.rotate(img_gs, cv2.cv2.ROTATE_180_CLOCKWISE)\n",
        "#           img_array_180rot_gs = img_to_array(img_180rot_gs)\n",
        "#           save_img(dest_dir + file_name.split(\".\")[0] + '_180rot_gs' + file_extension, img_array_180rot_gs)\n",
        "#           lst_train_1_gs.append(dest_dir + file_name.split(\".\")[0] + '_180rot_gs' + file_extension)\n",
        "\n",
        "#           img_270rot_gs = cv2.rotate(img_gs, cv2.cv2.ROTATE_270_CLOCKWISE)\n",
        "#           img_array_270rot_gs = img_to_array(img_90rot_gs)\n",
        "#           save_img(dest_dir + file_name.split(\".\")[0] + '_90rot_gs' + file_extension, img_array_270rot_gs)\n",
        "#           lst_train_1_gs.append(dest_dir + file_name.split(\".\")[0] + '_90rot_gs' + file_extension)\n",
        "#           '''\n",
        "#           #  histogram equalized image\n",
        "#           img_gs = cv2.imread(image_file, 0)\n",
        "#           img_array_enhanced_gs = cv2.equalizeHist(img_gs)\n",
        "#           img_array_enhanced_gs = img_to_array(img_array_enhanced_gs)\n",
        "#           save_img(dest_dir + file_name.split(\".\")[0] + '_enhance_gs' + file_extension, img_array_enhanced_gs)\n",
        "#           lst_train_1_gs.append(dest_dir + file_name.split(\".\")[0] + '_enhanced_gs' + file_extension)\n",
        "\n",
        "#           # transpose and rotate 90 degrees counter clockwise (flip around x-axis)\n",
        "#           img_ccw90rot_gs = cv2.transpose(img_array_gs)\n",
        "#           img_ccw90rot_gs = cv2.flip(img_ccw90rot_gs, flipCode = 0)\n",
        "#           rotatedccw90_img_gs = img_to_array(img_ccw90rot_gs)\n",
        "#           save_img(dest_dir + file_name.split(\".\")[0] + '_ccw90rot_gs' + file_extension, rotatedccw90_img_gs)\n",
        "#           lst_train_1_gs.append(dest_dir + file_name.split(\".\")[0] + '_ccw90rot_gs' + file_extension)\n",
        "#           #print(\"e\")\n",
        "\n",
        "#           # transpose and rotate 90 degrees (flip around y-axis)\n",
        "#           img_90rot_gs = cv2.transpose(img_array_gs)\n",
        "#           img_90rot_gs = cv2.flip(img_90rot_gs, flipCode = 1)\n",
        "#           rotated90_img_gs = img_to_array(img_90rot_gs)\n",
        "#           save_img(dest_dir + file_name.split(\".\")[0] + '_90rot_gs' + file_extension, rotated90_img_gs)\n",
        "#           lst_train_1_gs.append(dest_dir + file_name.split(\".\")[0] + '_90rot_gs' + file_extension)\n",
        "#           #print(\"f\")\n",
        "\n",
        "#       elif ind == 2:\n",
        "#           # insert raw training images in gray scale\n",
        "#           lst_train_0_gs.append(dest_dir + file_name.split(\".\")[0] + '_gs' + file_extension)\n",
        "\n",
        "#           # adjust brightness\n",
        "#           bright_img_gs = tf.image.adjust_brightness(img_array_gs, delta=brightness_delta)\n",
        "#           img_array_bright_gs = img_to_array(bright_img_gs)\n",
        "#           save_img(dest_dir + file_name.split(\".\")[0] + '_bright_gs' + file_extension, img_array_bright_gs)\n",
        "#           lst_train_0_gs.append(dest_dir + file_name.split(\".\")[0] + '_bright_gs' + file_extension)\n",
        "          \n",
        "#           # adjust contrast\n",
        "#           contrast_img_gs = tf.image.adjust_contrast(img_array_gs, contrast_factor=contrast_factor)\n",
        "#           img_array_contrast_gs = img_to_array(contrast_img_gs)\n",
        "#           save_img(dest_dir + file_name.split(\".\")[0] + '_contrast_gs' + file_extension, img_array_contrast_gs)\n",
        "#           lst_train_0_gs.append(dest_dir + file_name.split(\".\")[0] + '_contrast_gs' + file_extension)\n",
        "\n",
        "#           # horizontal flip\n",
        "#           hflip_img_gs = cv2.flip(img_array_gs, 1)\n",
        "#           img_array_hflip_gs = img_to_array(hflip_img_gs)\n",
        "#           save_img(dest_dir + file_name.split(\".\")[0] + '_hflip_gs' + file_extension, img_array_hflip_gs)\n",
        "#           lst_train_0_gs.append(dest_dir + file_name.split(\".\")[0] + '_hflip_gs' + file_extension)\n",
        "\n",
        "#           # vertical flip\n",
        "#           vflip_img_gs = cv2.flip(img_array_gs, 0)\n",
        "#           img_array_vflip_gs = img_to_array(vflip_img_gs)\n",
        "#           save_img(dest_dir + file_name.split(\".\")[0] + '_vflip_gs' + file_extension, img_array_vflip_gs)\n",
        "#           lst_train_0_gs.append(dest_dir + file_name.split(\".\")[0] + '_vflip_gs' + file_extension)\n",
        "\n",
        "#           # rotate 90 degree\n",
        "#           angle = int(random.uniform(-90, 90))\n",
        "#           h, w = img_array_gs.shape[:2]\n",
        "#           M = cv2.getRotationMatrix2D((int(w/2), int(h/2)), angle, 1)\n",
        "#           rotated_img_gs = cv2.warpAffine(img_array_gs, M, (w, h))\n",
        "#           img_array_rotated_gs = img_to_array(rotated_img_gs)\n",
        "#           save_img(dest_dir + file_name.split(\".\")[0] + '_90rotated_gs' + file_extension, img_array_rotated_gs)\n",
        "#           lst_train_0_gs.append(dest_dir + file_name.split(\".\")[0] + '_90rotated_gs' + file_extension)\n",
        "#           '''\n",
        "#           angle = int(random.uniform(-279, 270))\n",
        "#           h, w = img_array_gs.shape[:2]\n",
        "#           M = cv2.getRotationMatrix2D((int(w/2), int(h/2)), angle, 1)\n",
        "#           rotated_img_gs = cv2.warpAffine(img_array_gs, M, (w, h))\n",
        "#           img_array_rotated_gs = img_to_array(rotated_img_gs)\n",
        "#           save_img(dest_dir + file_name.split(\".\")[0] + '_270rotated_gs' + file_extension, img_array_rotated_gs)\n",
        "#           lst_train_0_gs.append(dest_dir + file_name.split(\".\")[0] + '_270rotated_gs' + file_extension)\n",
        "          \n",
        "#           img_90rot_gs = cv2.rotate(img_gs, cv2.cv2.ROTATE_90_CLOCKWISE)\n",
        "#           img_array_90rot_gs = img_to_array(img_90rot_gs)\n",
        "#           save_img(dest_dir + file_name.split(\".\")[0] + '_90rot_gs' + file_extension, img_array_90rot_gs)\n",
        "#           lst_train_0_gs.append(dest_dir + file_name.split(\".\")[0] + '_90rot_gs' + file_extension)\n",
        "          \n",
        "#           img_180rot_gs = cv2.rotate(img_gs, cv2.cv2.ROTATE_180_CLOCKWISE)\n",
        "#           img_array_180rot_gs = img_to_array(img_180rot_gs)\n",
        "#           save_img(dest_dir + file_name.split(\".\")[0] + '_180rot_gs' + file_extension, img_array_180rot_gs)\n",
        "#           lst_train_0_gs.append(dest_dir + file_name.split(\".\")[0] + '_180rot_gs' + file_extension)\n",
        "\n",
        "#           img_270rot_gs = cv2.rotate(img_gs, cv2.cv2.ROTATE_270_CLOCKWISE)\n",
        "#           img_array_270rot_gs = img_to_array(img_90rot_gs)\n",
        "#           save_img(dest_dir + file_name.split(\".\")[0] + '_90rot_gs' + file_extension, img_array_270rot_gs)\n",
        "#           lst_train_0_gs.append(dest_dir + file_name.split(\".\")[0] + '_90rot_gs' + file_extension)\n",
        "#           '''\n",
        "#           #  histogram equalized image\n",
        "#           img_gs = cv2.imread(image_file, 0)\n",
        "#           img_array_enhanced_gs = cv2.equalizeHist(img_gs)\n",
        "#           img_array_enhanced_gs = img_to_array(img_array_enhanced_gs)\n",
        "#           save_img(dest_dir + file_name.split(\".\")[0] + '_enhance_gs' + file_extension, img_array_enhanced_gs)\n",
        "#           lst_train_0_gs.append(dest_dir + file_name.split(\".\")[0] + '_enhanced_gs' + file_extension)\n",
        "\n",
        "#           # transpose and rotate 90 degrees counter clockwise (flip around x-axis)\n",
        "#           img_ccw90rot_gs = cv2.transpose(img_array_gs)\n",
        "#           img_ccw90rot_gs = cv2.flip(img_ccw90rot_gs, flipCode = 0)\n",
        "#           rotatedccw90_img_gs = img_to_array(img_ccw90rot_gs)\n",
        "#           save_img(dest_dir + file_name.split(\".\")[0] + '_ccw90rot_gs' + file_extension, rotatedccw90_img_gs)\n",
        "#           lst_train_0_gs.append(dest_dir + file_name.split(\".\")[0] + '_ccw90rot_gs' + file_extension)\n",
        "\n",
        "#           # transpose and rotate 90 degrees (flip around y-axis)\n",
        "#           img_90rot_gs = cv2.transpose(img_array_gs)\n",
        "#           img_90rot_gs = cv2.flip(img_90rot_gs, flipCode = 1)\n",
        "#           rotated90_img_gs = img_to_array(img_90rot_gs)\n",
        "#           save_img(dest_dir + file_name.split(\".\")[0] + '_90rot_gs' + file_extension, rotated90_img_gs)\n",
        "#           lst_train_0_gs.append(dest_dir + file_name.split(\".\")[0] + '_90rot_gs' + file_extension)\n",
        "\n",
        "#       elif ind == 3:\n",
        "#           lst_val_1_gs.append(dest_dir + file_name.split(\".\")[0] + '_gs' + file_extension)\n",
        "#       elif ind == 4:\n",
        "#           lst_val_0_gs.append(dest_dir + file_name.split(\".\")[0] + '_gs' + file_extension)\n",
        "#       elif ind == 5:\n",
        "#           lst_test_1_gs.append(dest_dir + file_name.split(\".\")[0] + '_gs' + file_extension)\n",
        "#       elif ind == 6:\n",
        "#           lst_test_0_gs.append(dest_dir + file_name.split(\".\")[0] + '_gs' + file_extension)\n",
        "              "
      ],
      "metadata": {
        "id": "3-MFsdu1Shc_"
      },
      "execution_count": 210,
      "outputs": []
    },
    {
      "cell_type": "code",
      "source": [
        "# len(os.listdir('/content/Dataset/Validate/0'))"
      ],
      "metadata": {
        "id": "RRzsJjRdYI-N"
      },
      "execution_count": 211,
      "outputs": []
    },
    {
      "cell_type": "markdown",
      "source": [
        "# Store Processed Images to New Directory\n",
        "- Convert color to gray scale\n",
        "- Append augmented images"
      ],
      "metadata": {
        "id": "b4_OFquExX6h"
      }
    },
    {
      "cell_type": "code",
      "source": [
        "create_gs_files(train_1_images_list, tgt_train_1_image_path, 1, 0.3, 3, 45, 7, -10, -7, 10)\n",
        "print(len(os.listdir('/content/Dataset/Train/1')))\n",
        "print(len(os.listdir(tgt_train_1_image_path)))\n",
        "create_gs_files(train_0_images_list, tgt_train_0_image_path, 2, 0.3, 3, 45, 7, -10, -7, 10)\n",
        "print(len(os.listdir('/content/Dataset/Train/0')))\n",
        "print(len(os.listdir(tgt_train_0_image_path)))\n",
        "\n",
        "create_gs_files(val_0_images_list, tgt_val_0_image_path, 3, 0.3, 3, 45, 7, -10, -7, 10)\n",
        "print(len(os.listdir('/content/Dataset/Validate/1')))\n",
        "print(len(os.listdir(tgt_val_1_image_path)))\n",
        "create_gs_files(val_1_images_list, tgt_val_1_image_path, 4, 0.3, 3, 45, 7, -10, -7, 10)\n",
        "print(len(os.listdir('/content/Dataset/Validate/0')))\n",
        "print(len(os.listdir(tgt_val_0_image_path)))\n",
        "\n",
        "create_gs_files(test_0_images_list, tgt_test_0_image_path, 5, 0.3, 3, 45, 7, -10, -7, 10)\n",
        "print(len(os.listdir('/content/Dataset/Test/1')))\n",
        "print(len(os.listdir(tgt_test_1_image_path)))\n",
        "create_gs_files(test_1_images_list, tgt_test_1_image_path, 6, 0.3, 3, 45, 7, -10, -7, 10)\n",
        "print(len(os.listdir('/content/Dataset/Test/0')))\n",
        "print(len(os.listdir(tgt_test_0_image_path)))"
      ],
      "metadata": {
        "id": "Nn5sGtRqURP5",
        "colab": {
          "base_uri": "https://localhost:8080/"
        },
        "outputId": "d3ad12cd-0c90-48c6-c764-2549759a24f5"
      },
      "execution_count": 212,
      "outputs": [
        {
          "output_type": "stream",
          "name": "stdout",
          "text": [
            "401\n",
            "4764\n",
            "401\n",
            "4800\n",
            "101\n",
            "0\n",
            "101\n",
            "100\n",
            "101\n",
            "0\n",
            "101\n",
            "100\n"
          ]
        }
      ]
    },
    {
      "cell_type": "code",
      "source": [
        "!ls -ltr /content/Dataset/Train/1/*.png|wc -l\n",
        "!ls -ltr /content/Dataset/Train/0/*.png|wc -l"
      ],
      "metadata": {
        "id": "X9_PlsJlbDak",
        "colab": {
          "base_uri": "https://localhost:8080/"
        },
        "outputId": "55bb09d0-550d-467f-9595-c04b19b27386"
      },
      "execution_count": 213,
      "outputs": [
        {
          "output_type": "stream",
          "name": "stdout",
          "text": [
            "400\n",
            "400\n"
          ]
        }
      ]
    },
    {
      "cell_type": "markdown",
      "source": [
        "# Check the Number of Processed Images in Each Class of Training Dataset"
      ],
      "metadata": {
        "id": "hLaNEkyvx3ct"
      }
    },
    {
      "cell_type": "code",
      "source": [
        "!ls -ltra /content/processed_images/train/1/*.png|wc -l\n",
        "!ls -ltra /content/processed_images/train/0/*.png|wc -l"
      ],
      "metadata": {
        "id": "I58crwAWUK-E",
        "colab": {
          "base_uri": "https://localhost:8080/"
        },
        "outputId": "ed7c150e-94c1-4cf7-c462-1c1e53139a4f"
      },
      "execution_count": 214,
      "outputs": [
        {
          "output_type": "stream",
          "name": "stdout",
          "text": [
            "4764\n",
            "4800\n"
          ]
        }
      ]
    },
    {
      "cell_type": "code",
      "source": [
        "# def custom_augmentation(np_tensor):\n",
        " \n",
        "#     def random_contrast(np_tensor):\n",
        "#         return tf.image.random_contrast(np_tensor, 0.5, 2)\n",
        " \n",
        "#     def random_hue(np_tensor):\n",
        "#         return tf.image.random_hue(np_tensor, 0.5)\n",
        " \n",
        "#     def random_saturation(np_tensor):\n",
        "#         return tf.image.random_saturation(np_tensor, 0.2, 3)\n",
        " \n",
        "#     def gaussian_noise(np_tensor):\n",
        "#         mean = 0\n",
        "#         # variance: randomly between 1 to 25\n",
        "#         var = np.random.randint(1, 26)\n",
        "#         # sigma is square root of the variance value\n",
        "#         noise = np.random.normal(mean,var**0.5,np_tensor.shape)\n",
        "#         return np.clip(np_tensor + noise, 0, 255).astype('int')\n",
        "\n",
        "#     augmnted_tensor = random_contrast(np_tensor)\n",
        "#     augmnted_tensor = random_hue(augmnted_tensor)\n",
        "#     augmnted_tensor = random_saturation(augmnted_tensor)\n",
        "#     augmented_tensor = gaussian_noise(augmnted_tensor)\n",
        "  \n",
        "#     return np.array(augmnted_tensor)\n",
        "\n",
        "# # Train data generator\n",
        "# train_datagen = tf.keras.preprocessing.image.ImageDataGenerator(\n",
        "#     #featurewise_center            = True, \n",
        "#     #featurewise_std_normalization = True,\n",
        "#     rescale                       = 1.0/255\n",
        "# )\n",
        "\n",
        "# # Validation data generator\n",
        "# val_datagen = tf.keras.preprocessing.image.ImageDataGenerator(\n",
        "#     #featurewise_center            = True, \n",
        "#     #featurewise_std_normalization = True\n",
        "#     rescale = 1.0/255\n",
        "#     )\n",
        "\n",
        "# # Test data generator\n",
        "# test_datagen = tf.keras.preprocessing.image.ImageDataGenerator(\n",
        "#     #featurewise_center            = True, \n",
        "#     #featurewise_std_normalization = True\n",
        "#     rescale = 1.0/255\n",
        "#     )"
      ],
      "metadata": {
        "id": "hH1PhTDtgAHG"
      },
      "execution_count": 215,
      "outputs": []
    },
    {
      "cell_type": "markdown",
      "source": [
        "# Define Transfer Learning Models"
      ],
      "metadata": {
        "id": "fakIZQ_3xG64"
      }
    },
    {
      "cell_type": "code",
      "source": [
        "def build_transfer_learning_model(chosen_model):\n",
        "    \"\"\"\n",
        "    This function utilizes transfer learning of a given model.\n",
        "    \"\"\"\n",
        "    tf.random.set_seed(random_state)\n",
        "    np.random.seed(random_state)\n",
        "    tf.keras.backend.clear_session()\n",
        "\n",
        "    input_shape = (IMG_SIZE, IMG_SIZE, 3)\n",
        "    if chosen_model == 'VGG19':\n",
        "        model_tl = VGG19(weights = 'imagenet', include_top = False, input_shape = input_shape)\n",
        "    elif chosen_model == 'DenseNet201':\n",
        "        model_tl = tf.keras.applications.densenet.DenseNet201(weights = 'imagenet', include_top = False, input_shape = input_shape)\n",
        "    elif chosen_model == 'ResNet50':\n",
        "        model_tl = tf.keras.applications.resnet50.ResNet50(weights = 'imagenet', include_top = False, input_shape = input_shape)\n",
        "    elif chosen_model == 'ResNet152V2':\n",
        "        model_tl = ResNet152V2(weights = 'imagenet', include_top = False, input_shape = input_shape)       \n",
        "    elif chosen_model == 'VGG16':\n",
        "        model_tl = VGG16(weights = 'imagenet', include_top = False, input_shape = input_shape)\n",
        "    elif chosen_model == 'EfficientNetB7':\n",
        "        model_tl = tf.keras.applications.efficientnet.EfficientNetB7(weights = 'imagenet', include_top = False, input_shape = input_shape)\n",
        "    elif chosen_model == 'MobileNetV2':\n",
        "        model_tl = MobileNetV2(weights='imagenet',include_top = False, input_shape=input_shape)\n",
        "    elif chosen_model == 'Xception':\n",
        "        model_tl = tf.keras.applications.Xception(weights = 'imagenet', include_top = False, input_shape = input_shape)\n",
        "    elif chosen_model == 'InceptionV3':\n",
        "        model_tl = tf.keras.applications.InceptionV3(weights = 'imagenet', include_top = False, input_shape = input_shape)\n",
        "    return model_tl"
      ],
      "metadata": {
        "id": "dvw6LNAdkAW4"
      },
      "execution_count": 216,
      "outputs": []
    },
    {
      "cell_type": "markdown",
      "source": [
        "# Define plot_model_accuracy_and_loss function"
      ],
      "metadata": {
        "id": "k7BlY9hmxNUO"
      }
    },
    {
      "cell_type": "code",
      "source": [
        "def plot_model_accuracy_and_loss(history, chosen_model):\n",
        "   \"\"\"\n",
        "   This method plots model training and validation accuracies.\n",
        "   \"\"\"\n",
        "   tf.keras.backend.clear_session()\n",
        "\n",
        "   hist = history.history\n",
        "   x_arr = np.arange(len(hist['loss'])) + 1\n",
        "        \n",
        "   fig = plt.figure(figsize=(12, 4))\n",
        "   ax = fig.add_subplot(1, 2, 1)\n",
        "   ax.plot(x_arr, hist['loss'], '-o', label = 'Train Loss')\n",
        "   ax.plot(x_arr, hist['val_loss'], '--<', label = 'Val Loss')\n",
        "   ax.legend(fontsize=15)\n",
        "   ax.set_xlabel('Epoch', size = 15)\n",
        "   ax.set_ylabel('Loss', size = 15)\n",
        "\n",
        "   ax = fig.add_subplot(1, 2, 2)\n",
        "   ax.plot(x_arr, hist['accuracy'], '-o', label = 'Train Acc')\n",
        "   ax.plot(x_arr, hist['val_accuracy'], '--<', label = 'Val Acc')\n",
        "   ax.legend(fontsize = 15)\n",
        "   ax.set_xlabel('Epoch', size = 15)\n",
        "   ax.set_ylabel('Accuracy', size = 15)\n",
        "   ax.set_ylim(0,1)\n",
        "   plt.title(f\"{chosen_model}\")\n",
        "   plt.show(block = False)"
      ],
      "metadata": {
        "id": "Kymn8vnZsPc8"
      },
      "execution_count": 217,
      "outputs": []
    },
    {
      "cell_type": "markdown",
      "source": [
        "# Define Image Data Generator \n",
        ": 1200 given raw images + augmented images"
      ],
      "metadata": {
        "id": "VcWTaXg5yokz"
      }
    },
    {
      "cell_type": "code",
      "source": [
        "batch_size = 64\n",
        "random_state = 1234\n",
        "image_size = 50\n",
        "\n",
        "def data_generator(image_size): \n",
        "  processed_images_train_path = '/content/processed_images/train'           # contains augmented images with original images (4782 = IDC(1): 2400 + IDC(1): 2382)\n",
        "  processed_images_validation_path = '/content/processed_images/val'\n",
        "  processed_images_test_path = '/content/processed_images/test'\n",
        "\n",
        "  # train_datagen = ImageDataGenerator(rescale = 1./255,\n",
        "  #                                  horizontal_flip = True,\n",
        "  #                                  vertical_flip = True,\n",
        "  #                                  rotation_range = 180,\n",
        "  #                                  zoom_range = 0.4, \n",
        "  #                                  width_shift_range = 0.3,\n",
        "  #                                  height_shift_range = 0.3,\n",
        "  #                                  shear_range = 0.3\n",
        "  #                                  #,preprocessing_function = custom_augmentation \n",
        "  #                                 )\n",
        "\n",
        "  # # Validation data generator\n",
        "  # val_datagen = tf.keras.preprocessing.image.ImageDataGenerator(\n",
        "  #     rescale = 1.0/255\n",
        "  #     )\n",
        "\n",
        "  # # Test data generator\n",
        "  # test_datagen = tf.keras.preprocessing.image.ImageDataGenerator(\n",
        "  #     rescale = 1.0/255\n",
        "  #     )\n",
        "\n",
        "\n",
        "  datagen = tf.keras.preprocessing.image.ImageDataGenerator(rescale = 1.0/255)          # Normalize image pixels to the range of [0,1]\n",
        "  train_datagen = tf.keras.preprocessing.image.ImageDataGenerator() \n",
        "\n",
        "  train_data_generator = datagen.flow_from_directory(processed_images_train_path,\n",
        "                                                                      target_size = (image_size, image_size),\n",
        "                                                                      class_mode = 'categorical',\n",
        "                                                                      batch_size = batch_size,\n",
        "                                                                      color_mode = 'rgb',\n",
        "                                                                      shuffle = True,\n",
        "                                                                      seed = random_state\n",
        "                                                                      )\n",
        "  val_data_generator = datagen.flow_from_directory(processed_images_validation_path,\n",
        "                                                                  target_size = (image_size, image_size),\n",
        "                                                                  class_mode = 'categorical',\n",
        "                                                                  batch_size = batch_size,\n",
        "                                                                  color_mode = 'rgb',\n",
        "                                                                  shuffle = True,\n",
        "                                                                  seed = random_state\n",
        "                                                                  )\n",
        "  test_data_generator = datagen.flow_from_directory(processed_images_test_path,\n",
        "                                                                    target_size = (image_size, image_size),\n",
        "                                                                    batch_size = batch_size,\n",
        "                                                                    class_mode = 'categorical',\n",
        "                                                                    color_mode = 'rgb',\n",
        "                                                                    shuffle = False,\n",
        "                                                                    seed = random_state\n",
        "                                                                    )\n",
        "  return train_data_generator, val_data_generator, test_data_generator\n",
        "\n",
        "# train_data_generator, val_data_generator, test_data_generator = data_generator(image_size)"
      ],
      "metadata": {
        "id": "6ogPs-X7mtSK"
      },
      "execution_count": 218,
      "outputs": []
    },
    {
      "cell_type": "code",
      "source": [
        "# transfer_learning_model_list = ['VGG16', \n",
        "#                                 'VGG19', \n",
        "#                                 'DenseNet201', \n",
        "#                                 'InceptionV3', \n",
        "#                                 'ResNet50', \n",
        "#                                 'EfficientNetB7', \n",
        "#                                 'MobileNetV2', \n",
        "#                                 'Xception'\n",
        "#                                ]"
      ],
      "metadata": {
        "id": "igoFfn5voLQj"
      },
      "execution_count": 219,
      "outputs": []
    },
    {
      "cell_type": "markdown",
      "source": [
        "# Define Model\n",
        "- Build CNN with Transfer Learning and model.compile\n",
        "- model.fit\n",
        "- model.evaluate and model.predict"
      ],
      "metadata": {
        "id": "8ZGKiVVJct-7"
      }
    },
    {
      "cell_type": "code",
      "source": [
        "def cnn_with_tl(chosen_model='VGG16', \n",
        "                lr=0.001, \n",
        "                optimizer='adam', \n",
        "                activation='relu', \n",
        "                dropout_rate_1=0.2, \n",
        "                dropout_rate_2=0.2, \n",
        "                dropout_rate_3=0.2, \n",
        "                filter_1=512,\n",
        "                filter_2=512,\n",
        "                filter_3=256,\n",
        "                last_dense=True):\n",
        "  \n",
        "  tf.keras.backend.clear_session()\n",
        "  tf.random.set_seed(1234)\n",
        "\n",
        "  model_tl = build_transfer_learning_model(chosen_model = chosen_model)\n",
        "  model_tl.trainable = False            # freeze extraction layers\n",
        "\n",
        "  # 1st model: add custom top layers\n",
        "  m_tl = model_tl.output\n",
        "  m_tl = GlobalAveragePooling2D()(m_tl)\n",
        "  m_tl = BatchNormalization()(m_tl)\n",
        "  m_tl = Dropout(dropout_rate_1)(m_tl)\n",
        "  # if dense_1:\n",
        "  m_tl = Dense(filter_1,activation=activation)(m_tl)\n",
        "  m_tl = BatchNormalization()(m_tl)\n",
        "  m_tl = Dropout(dropout_rate_2)(m_tl)                                        # ADDITIONAL DROPOUT\n",
        "  m_tl = Flatten()(m_tl)                                           # ADD FLATTEN LAYER\n",
        "  m_tl = Dense(filter_2,activation=activation)(m_tl)\n",
        "  m_tl = BatchNormalization()(m_tl)\n",
        "  m_tl = Dropout(dropout_rate_3)(m_tl)\n",
        "  if last_dense:\n",
        "    m_tl = Dense(filter_3,activation=activation)(m_tl)\n",
        "    m_tl = BatchNormalization()(m_tl)\n",
        "\n",
        "  # output layer\n",
        "  m_tl = Dense(2, activation='softmax')(m_tl)               # UPDATED from 'sigmoid' to 'softmax\n",
        "\n",
        "  model = Model(inputs=model_tl.input, outputs=m_tl)\n",
        "\n",
        "  # ==================== model.compile ====================================\n",
        "  def selected_optimizer(optimizer):\n",
        "    if optimizer.lower() == 'sgd':\n",
        "        return SGD(learning_rate=lr)           # SGD(learning_rate=learning_rate, momentum=0.95, decay=1, nesterov=True)\n",
        "    elif optimizer.lower() == 'adam':\n",
        "        return Adam(learning_rate=lr)          # Adam(learning_rate=learning_rate, beta_1=0.9, beta_2=0.999, epsilon=1e-8, kappa=1-1e-8)\n",
        "    elif optimizer.lower() == 'rmsprop':\n",
        "        return RMSprop(learning_rate=lr) \n",
        "\n",
        "  model.compile(loss=CategoricalCrossentropy(),            \n",
        "              optimizer=selected_optimizer(optimizer),            \n",
        "              metrics=['accuracy', tf.keras.metrics.AUC(name='auc')])\n",
        "  return model"
      ],
      "metadata": {
        "id": "B_SKoSGYbyI3"
      },
      "execution_count": 220,
      "outputs": []
    },
    {
      "cell_type": "code",
      "source": [
        "def model_fit(model, train_data_generator, val_data_generator, batch_size=64, epochs=20, chosen_model='VGG16'):\n",
        "  from IPython.display import Image\n",
        "\n",
        "  tf.keras.utils.plot_model(model, to_file='convnet.png', show_shapes=True,show_layer_names=True)\n",
        "  Image(filename='convnet.png') \n",
        "\n",
        "  callbacks = [EarlyStopping(monitor='val_loss', patience=3, verbose=1),\n",
        "              ModelCheckpoint('model.hdf5', save_best_only=True)]\n",
        "\n",
        "  history = model.fit(train_data_generator,\n",
        "                      epochs = epochs,\n",
        "                      batch_size = batch_size,                       # ADDIITION\n",
        "                      shuffle=True,                                  # ADDIITION\n",
        "                      steps_per_epoch = len(train_data_generator),\n",
        "                      validation_data = val_data_generator,\n",
        "                      validation_steps = len(val_data_generator),\n",
        "                      callbacks=callbacks,                           # ADDIITION\n",
        "                      verbose = 1)\n",
        "\n",
        "  # ============= Model save ================================================\n",
        "  print(\"Saving model...\")\n",
        "  tf.keras.backend.clear_session()\n",
        "  # gc.collect()                                                      # UPDATED\n",
        "  model.save('breast_cancer_detection_' + chosen_model + '.h5')\n",
        "\n",
        "  # ============= Plot loss and accuracy of model: train vs val ==========\n",
        "  print(f\"{chosen_model}\")\n",
        "  plot_model_accuracy_and_loss(history = history, chosen_model = chosen_model)\n",
        "  return model, history"
      ],
      "metadata": {
        "id": "p0g4Cp-Abx_A"
      },
      "execution_count": 221,
      "outputs": []
    },
    {
      "cell_type": "code",
      "source": [
        "def model_evaluate_and_model_predict(model, test_data_generator, history, chosen_model='VGG16', lr=0.001,optimizer='adam', activation='relu'):\n",
        "  # =========== model.evaluate ===============================================\n",
        "  # acc, auc = model.evaluate(test_data_generator, verbose = 0)\n",
        "  test_loss, test_accuracy, auc = model.evaluate(test_data_generator, verbose = 0)\n",
        "  training_accuracy = history.history['accuracy'][-1]\n",
        "  val_accuracy = history.history['val_accuracy'][-1]\n",
        "  count_trainable_params = count_params(model.trainable_weights)\n",
        "\n",
        "  # =========== model.predict: y_true vs. y_pred =============================\n",
        "  classes = ['IDC(0)','IDC(1)']\n",
        "\n",
        "  y_true = test_data_generator.classes\n",
        "  y_pred = model.predict(test_data_generator, steps = (test_data_generator.n // batch_size + 1), verbose = 0)\n",
        "  y_pred_argmax = np.argmax(y_pred, axis=1) \n",
        "\n",
        "  # ========== Precision, recall, f1score ====================================\n",
        "  precision, recall, f1score, support = score(y_true, y_pred_argmax, average='macro')\n",
        "\n",
        "  # ========== Cohen_kappa score, zero_one loss ==============================\n",
        "  cohen_kappa = round(cohen_kappa_score(y_true, y_pred_argmax), 2)\n",
        "  zo_loss = round(zero_one_loss(y_true, y_pred_argmax), 2)\n",
        "\n",
        "  # ========== Confusion matrix ==============================================\n",
        "  conf_max = confusion_matrix(y_true, y_pred_argmax)             # conf.max should use 0s and 1s for y_pred\n",
        "  perf_conf_max = conf_max.astype('float')/conf_max.sum(axis=1)[:np.newaxis]*100\n",
        "  df_perf_conf_max = pd.DataFrame(perf_conf_max, index=classes, columns=classes)\n",
        "\n",
        "  print();plt.figure(figsize=(6,5))\n",
        "  sns.heatmap(df_perf_conf_max, annot=True, cmap='coolwarm', annot_kws={'fontsize':16}, linewidth=0.5, fmt='.0f')  \n",
        "  plt.xlabel('Predicted Label', fontsize=14)\n",
        "  plt.ylabel('True Label', fontsize=14)\n",
        "  plt.title('Confusion Matrix (%)', fontsize=15)\n",
        "\n",
        "  # ========== Area under the ROC curve ======================================\n",
        "  roc_log = roc_auc_score(y_true, y_pred[:,1], multi_class='ovr')   # for the roc curve, we need to use a vector of probabilities so just chose one column and all rows\n",
        "  # fpr_0, tpr_0, threshold_0 = roc_curve(y_true, y_pred[:,0])\n",
        "  # fpr_1, tpr_1, threshold_1 = roc_curve(y_true, y_pred[:,1])\n",
        "  fpr, tpr, threshold = roc_curve(y_true, y_pred[:,1])\n",
        "  auc_class = round(metrics.auc(fpr, tpr), 2) \n",
        "  # auc_class_0 = round(metrics.auc(fpr_0, tpr_0), 2) \n",
        "  # auc_class_1 = round(metrics.auc(fpr_1, tpr_1), 2) \n",
        "\n",
        "  print();plt.figure(figsize=(6,5))\n",
        "  plt.plot([0, 1], [0, 1], 'b--')  \n",
        "  plt.plot(fpr, tpr, color='tab:red', label='AUC:{:.2f}'.format(auc_class))\n",
        "  # plt.plot(fpr_0, tpr_0, color='tab:red', label='IDC(0)-AUC:{:.2f}'.format(auc_class_0))  \n",
        "  # plt.plot(fpr_1, tpr_1, color='tab:green', label='IDC(1)-AUC:{:.2f}'.format(auc_class_1))  \n",
        "  plt.xlabel('False positive rate', fontsize=14)\n",
        "  plt.ylabel('True positive rate', fontsize=14)\n",
        "  plt.title('ROC Area Under Curve', fontsize=18)\n",
        "  plt.legend(loc='best')\n",
        "  plt.show()\n",
        "\n",
        "  # ========== Performace metrics summary ===================================\n",
        "  perf_metrics = pd.DataFrame({'TL Model':chosen_model, \n",
        "                              # 'Learning Rate': lr,\n",
        "                              # 'Optimizer': optimizer.upper(), \n",
        "                              # 'Activation': activation.title(),\n",
        "                              # 'Dropout': activation.title(),\n",
        "                              # 'Test_Loss':round(test_loss,2), \n",
        "                              'Test_Acc':round(test_accuracy, 2), \n",
        "                              'Train_Acc':round(training_accuracy, 2), \n",
        "                              'Val_Acc':round(val_accuracy, 2), \n",
        "                              'Num_Trainable_Params':  f'{count_trainable_params:,}',\n",
        "                              'Precision':round(precision, 2), \n",
        "                              'Recall':round(recall, 2), \n",
        "                              'F1score': round(f1score, 2),\n",
        "                              'ROC-AUC':round(auc_class, 2), \n",
        "                              # 'Cohen Kappa': cohen_kappa,\n",
        "                              'ZeroOneLoss': zo_loss}, index=[0])\n",
        "\n",
        "  return perf_metrics"
      ],
      "metadata": {
        "id": "SWW_XNSfbxXU"
      },
      "execution_count": 222,
      "outputs": []
    },
    {
      "cell_type": "markdown",
      "source": [
        "# Run Experiments"
      ],
      "metadata": {
        "id": "5at4kKu6Y8vL"
      }
    },
    {
      "cell_type": "code",
      "source": [
        "def experimenting_cnn_with_vgg16(chosen_model='VGG16',\n",
        "                                image_size = 50,\n",
        "                                lr=0.01, \n",
        "                                optimizer='adam', \n",
        "                                activation='relu', \n",
        "                                dropout_rate_1=0.2, \n",
        "                                dropout_rate_2=0.2, \n",
        "                                dropout_rate_3=0.2,\n",
        "                                filter_1=512,\n",
        "                                filter_2=512,\n",
        "                                filter_3=256,\n",
        "                                last_dense=True,\n",
        "                                batch_size=64,\n",
        "                                epochs=20,\n",
        "                                brightness_delta=0.3,\n",
        "                                contrast_factor=3,\n",
        "                                angle=90,\n",
        "                                right=10,\n",
        "                                up=-5,\n",
        "                                left=-6,\n",
        "                                down=7):\n",
        "  \n",
        "  # create_gs_files(file_list, dest_dir, ind, brightness_delta=0.3, contrast_factor=3, angle=90, right=7, up=-10, left=-7, down=10)\n",
        "  create_gs_files(train_1_images_list, tgt_train_1_image_path, 1, brightness_delta, contrast_factor, angle, right, up, left, down)\n",
        "  create_gs_files(train_0_images_list, tgt_train_0_image_path, 2, brightness_delta, contrast_factor, angle, right, up, left, down)\n",
        "  create_gs_files(val_1_images_list, tgt_val_1_image_path, 3, brightness_delta, contrast_factor, angle, right, up, left, down)\n",
        "  create_gs_files(val_0_images_list, tgt_val_0_image_path, 4, brightness_delta, contrast_factor, angle, right, up, left, down)\n",
        "  create_gs_files(test_1_images_list, tgt_test_1_image_path, 5, brightness_delta, contrast_factor, angle, right, up, left, down)\n",
        "  create_gs_files(test_0_images_list, tgt_test_0_image_path, 6, brightness_delta, contrast_factor, angle, right, up, left, down)\n",
        "  \n",
        "  start_time = time.time()\n",
        "  model = cnn_with_tl(chosen_model=chosen_model, \n",
        "                  lr=lr, \n",
        "                  optimizer=optimizer, \n",
        "                  activation=activation, \n",
        "                  dropout_rate_1=dropout_rate_1, \n",
        "                  dropout_rate_2=dropout_rate_2, \n",
        "                  dropout_rate_3=dropout_rate_3,\n",
        "                  filter_1=filter_1,\n",
        "                  filter_2=filter_2,\n",
        "                  filter_3=filter_3,\n",
        "                  last_dense=last_dense)\n",
        "  train_data_generator, val_data_generator, test_data_generator = data_generator(image_size)\n",
        "  model, history = model_fit(model, train_data_generator, val_data_generator, batch_size=batch_size, epochs=epochs, chosen_model=chosen_model)\n",
        "  perf_metrics = model_evaluate_and_model_predict(model, test_data_generator, history, chosen_model=chosen_model)\n",
        "  print();print('Execution time %s minutes: ' % round(int(time.time() - start_time)/60, 2),'\\n');print('===============================================\\n')\n",
        "  return perf_metrics"
      ],
      "metadata": {
        "id": "Y2XEsDTRb-BB"
      },
      "execution_count": 223,
      "outputs": []
    },
    {
      "cell_type": "code",
      "source": [
        "learning_rate = [0.01,0.001,0.01,0.001,0.01,0.001,0.01,0.001,0.01,0.001,0.01,0.01]\n",
        "optimizer = ['Adam','Adam','Adam','Adam','Adam','Adam','SGD','SGD','SGD','SGD','SGD','SGD']\n",
        "activation = ['tanh','tanh','relu','relu','leaky_relu','leaky_relu','tanh','tanh','relu','relu','leaky_relu','leaky_relu']\n",
        "dropout_rate_1 = [0.2, 0.3, 0.4, 0.5, 0.2, 0.3, 0.4, 0.3, 0.2, 0.3, 0.4, 0.5]\n",
        "dropout_rate_2 = [0.2, 0.2, 0.2, 0.2, 0.2, 0.2, 0.2, 0.2, 0.2, 0.2, 0.2, 0.2] \n",
        "dropout_rate_3 = [0.2, 0.2, 0.2, 0.2, 0.2, 0.2, 0.2, 0.2, 0.2, 0.2, 0.2, 0.2] \n",
        "filter_1 = [512,512,512,512,512,512,512,512,512,512,512,512]\n",
        "filter_2 = [512,512,512,512,512,512,512,256,512,512,512,512]\n",
        "filter_3 = [256,256,128,256,256,256,256,256,256,256,256,256]\n",
        "last_dense = [True,True,True,True,True,True,True,True,True,True,True,True]\n",
        "brightness_delta = [0.3,0.1,0.1,0.3,0.1,0.1,0.1,0.3,0.1,0.1,0.1,0.3]\n",
        "contrast_factor = [3,3,3,3,3,3,3,3,3,3,3,2]    \n",
        "\n",
        "# learning_rate = [0.01,0.01]\n",
        "# optimizer = ['Adam','Adam']\n",
        "# activation = ['tanh','tanh']\n",
        "# dropout_rate_1 = [0.2, 0.3]\n",
        "# dropout_rate_2 = [0.2, 0.2] \n",
        "# dropout_rate_3 = [0.2, 0.2]\n",
        "# filter_1 = [512,512]\n",
        "# filter_2 = [512,512]\n",
        "# filter_3 = [256,256]\n",
        "# last_dense = [True,True]\n",
        "# brightness_delta = [0.1,0.1]\n",
        "# contrast_factor = [3,3]     \n",
        "          \n",
        "                                \n",
        "print(len(learning_rate),\n",
        "      len(optimizer),\n",
        "      len(activation),\n",
        "      len(dropout_rate_1),\n",
        "      len(filter_1),\n",
        "      len(last_dense),\n",
        "      len(brightness_delta),\n",
        "      len(contrast_factor))\n",
        "\n",
        "param_tuples = list(zip(learning_rate,optimizer,activation,dropout_rate_1,dropout_rate_2,dropout_rate_3,filter_1,filter_2,filter_3,last_dense,brightness_delta,contrast_factor))\n",
        "df_experiments = pd.DataFrame(param_tuples, columns=['learning_rate','optimizer','activation','dropout_rate_1','dropout_rate_2','dropout_rate_3','filter_1','filter_2','filter_3','last_dense','brightness_delta','contrast_factor'])\n",
        "df_experiments"
      ],
      "metadata": {
        "id": "RhesbQIZcDBV",
        "colab": {
          "base_uri": "https://localhost:8080/",
          "height": 507
        },
        "outputId": "cef842b5-b562-4581-d884-8fd6863e1718"
      },
      "execution_count": 224,
      "outputs": [
        {
          "output_type": "stream",
          "name": "stdout",
          "text": [
            "12 12 12 12 12 12 12 12\n"
          ]
        },
        {
          "output_type": "execute_result",
          "data": {
            "text/plain": [
              "    learning_rate optimizer  activation  dropout_rate_1  dropout_rate_2  \\\n",
              "0           0.010      Adam        tanh             0.2             0.2   \n",
              "1           0.001      Adam        tanh             0.3             0.2   \n",
              "2           0.010      Adam        relu             0.4             0.2   \n",
              "3           0.001      Adam        relu             0.5             0.2   \n",
              "4           0.010      Adam  leaky_relu             0.2             0.2   \n",
              "5           0.001      Adam  leaky_relu             0.3             0.2   \n",
              "6           0.010       SGD        tanh             0.4             0.2   \n",
              "7           0.001       SGD        tanh             0.3             0.2   \n",
              "8           0.010       SGD        relu             0.2             0.2   \n",
              "9           0.001       SGD        relu             0.3             0.2   \n",
              "10          0.010       SGD  leaky_relu             0.4             0.2   \n",
              "11          0.010       SGD  leaky_relu             0.5             0.2   \n",
              "\n",
              "    dropout_rate_3  filter_1  filter_2  filter_3  last_dense  \\\n",
              "0              0.2       512       512       256        True   \n",
              "1              0.2       512       512       256        True   \n",
              "2              0.2       512       512       128        True   \n",
              "3              0.2       512       512       256        True   \n",
              "4              0.2       512       512       256        True   \n",
              "5              0.2       512       512       256        True   \n",
              "6              0.2       512       512       256        True   \n",
              "7              0.2       512       256       256        True   \n",
              "8              0.2       512       512       256        True   \n",
              "9              0.2       512       512       256        True   \n",
              "10             0.2       512       512       256        True   \n",
              "11             0.2       512       512       256        True   \n",
              "\n",
              "    brightness_delta  contrast_factor  \n",
              "0                0.3                3  \n",
              "1                0.1                3  \n",
              "2                0.1                3  \n",
              "3                0.3                3  \n",
              "4                0.1                3  \n",
              "5                0.1                3  \n",
              "6                0.1                3  \n",
              "7                0.3                3  \n",
              "8                0.1                3  \n",
              "9                0.1                3  \n",
              "10               0.1                3  \n",
              "11               0.3                2  "
            ],
            "text/html": [
              "\n",
              "  <div id=\"df-6148fadd-e63c-417b-b5f6-22cdcd1cd83c\">\n",
              "    <div class=\"colab-df-container\">\n",
              "      <div>\n",
              "<style scoped>\n",
              "    .dataframe tbody tr th:only-of-type {\n",
              "        vertical-align: middle;\n",
              "    }\n",
              "\n",
              "    .dataframe tbody tr th {\n",
              "        vertical-align: top;\n",
              "    }\n",
              "\n",
              "    .dataframe thead th {\n",
              "        text-align: right;\n",
              "    }\n",
              "</style>\n",
              "<table border=\"1\" class=\"dataframe\">\n",
              "  <thead>\n",
              "    <tr style=\"text-align: right;\">\n",
              "      <th></th>\n",
              "      <th>learning_rate</th>\n",
              "      <th>optimizer</th>\n",
              "      <th>activation</th>\n",
              "      <th>dropout_rate_1</th>\n",
              "      <th>dropout_rate_2</th>\n",
              "      <th>dropout_rate_3</th>\n",
              "      <th>filter_1</th>\n",
              "      <th>filter_2</th>\n",
              "      <th>filter_3</th>\n",
              "      <th>last_dense</th>\n",
              "      <th>brightness_delta</th>\n",
              "      <th>contrast_factor</th>\n",
              "    </tr>\n",
              "  </thead>\n",
              "  <tbody>\n",
              "    <tr>\n",
              "      <th>0</th>\n",
              "      <td>0.010</td>\n",
              "      <td>Adam</td>\n",
              "      <td>tanh</td>\n",
              "      <td>0.2</td>\n",
              "      <td>0.2</td>\n",
              "      <td>0.2</td>\n",
              "      <td>512</td>\n",
              "      <td>512</td>\n",
              "      <td>256</td>\n",
              "      <td>True</td>\n",
              "      <td>0.3</td>\n",
              "      <td>3</td>\n",
              "    </tr>\n",
              "    <tr>\n",
              "      <th>1</th>\n",
              "      <td>0.001</td>\n",
              "      <td>Adam</td>\n",
              "      <td>tanh</td>\n",
              "      <td>0.3</td>\n",
              "      <td>0.2</td>\n",
              "      <td>0.2</td>\n",
              "      <td>512</td>\n",
              "      <td>512</td>\n",
              "      <td>256</td>\n",
              "      <td>True</td>\n",
              "      <td>0.1</td>\n",
              "      <td>3</td>\n",
              "    </tr>\n",
              "    <tr>\n",
              "      <th>2</th>\n",
              "      <td>0.010</td>\n",
              "      <td>Adam</td>\n",
              "      <td>relu</td>\n",
              "      <td>0.4</td>\n",
              "      <td>0.2</td>\n",
              "      <td>0.2</td>\n",
              "      <td>512</td>\n",
              "      <td>512</td>\n",
              "      <td>128</td>\n",
              "      <td>True</td>\n",
              "      <td>0.1</td>\n",
              "      <td>3</td>\n",
              "    </tr>\n",
              "    <tr>\n",
              "      <th>3</th>\n",
              "      <td>0.001</td>\n",
              "      <td>Adam</td>\n",
              "      <td>relu</td>\n",
              "      <td>0.5</td>\n",
              "      <td>0.2</td>\n",
              "      <td>0.2</td>\n",
              "      <td>512</td>\n",
              "      <td>512</td>\n",
              "      <td>256</td>\n",
              "      <td>True</td>\n",
              "      <td>0.3</td>\n",
              "      <td>3</td>\n",
              "    </tr>\n",
              "    <tr>\n",
              "      <th>4</th>\n",
              "      <td>0.010</td>\n",
              "      <td>Adam</td>\n",
              "      <td>leaky_relu</td>\n",
              "      <td>0.2</td>\n",
              "      <td>0.2</td>\n",
              "      <td>0.2</td>\n",
              "      <td>512</td>\n",
              "      <td>512</td>\n",
              "      <td>256</td>\n",
              "      <td>True</td>\n",
              "      <td>0.1</td>\n",
              "      <td>3</td>\n",
              "    </tr>\n",
              "    <tr>\n",
              "      <th>5</th>\n",
              "      <td>0.001</td>\n",
              "      <td>Adam</td>\n",
              "      <td>leaky_relu</td>\n",
              "      <td>0.3</td>\n",
              "      <td>0.2</td>\n",
              "      <td>0.2</td>\n",
              "      <td>512</td>\n",
              "      <td>512</td>\n",
              "      <td>256</td>\n",
              "      <td>True</td>\n",
              "      <td>0.1</td>\n",
              "      <td>3</td>\n",
              "    </tr>\n",
              "    <tr>\n",
              "      <th>6</th>\n",
              "      <td>0.010</td>\n",
              "      <td>SGD</td>\n",
              "      <td>tanh</td>\n",
              "      <td>0.4</td>\n",
              "      <td>0.2</td>\n",
              "      <td>0.2</td>\n",
              "      <td>512</td>\n",
              "      <td>512</td>\n",
              "      <td>256</td>\n",
              "      <td>True</td>\n",
              "      <td>0.1</td>\n",
              "      <td>3</td>\n",
              "    </tr>\n",
              "    <tr>\n",
              "      <th>7</th>\n",
              "      <td>0.001</td>\n",
              "      <td>SGD</td>\n",
              "      <td>tanh</td>\n",
              "      <td>0.3</td>\n",
              "      <td>0.2</td>\n",
              "      <td>0.2</td>\n",
              "      <td>512</td>\n",
              "      <td>256</td>\n",
              "      <td>256</td>\n",
              "      <td>True</td>\n",
              "      <td>0.3</td>\n",
              "      <td>3</td>\n",
              "    </tr>\n",
              "    <tr>\n",
              "      <th>8</th>\n",
              "      <td>0.010</td>\n",
              "      <td>SGD</td>\n",
              "      <td>relu</td>\n",
              "      <td>0.2</td>\n",
              "      <td>0.2</td>\n",
              "      <td>0.2</td>\n",
              "      <td>512</td>\n",
              "      <td>512</td>\n",
              "      <td>256</td>\n",
              "      <td>True</td>\n",
              "      <td>0.1</td>\n",
              "      <td>3</td>\n",
              "    </tr>\n",
              "    <tr>\n",
              "      <th>9</th>\n",
              "      <td>0.001</td>\n",
              "      <td>SGD</td>\n",
              "      <td>relu</td>\n",
              "      <td>0.3</td>\n",
              "      <td>0.2</td>\n",
              "      <td>0.2</td>\n",
              "      <td>512</td>\n",
              "      <td>512</td>\n",
              "      <td>256</td>\n",
              "      <td>True</td>\n",
              "      <td>0.1</td>\n",
              "      <td>3</td>\n",
              "    </tr>\n",
              "    <tr>\n",
              "      <th>10</th>\n",
              "      <td>0.010</td>\n",
              "      <td>SGD</td>\n",
              "      <td>leaky_relu</td>\n",
              "      <td>0.4</td>\n",
              "      <td>0.2</td>\n",
              "      <td>0.2</td>\n",
              "      <td>512</td>\n",
              "      <td>512</td>\n",
              "      <td>256</td>\n",
              "      <td>True</td>\n",
              "      <td>0.1</td>\n",
              "      <td>3</td>\n",
              "    </tr>\n",
              "    <tr>\n",
              "      <th>11</th>\n",
              "      <td>0.010</td>\n",
              "      <td>SGD</td>\n",
              "      <td>leaky_relu</td>\n",
              "      <td>0.5</td>\n",
              "      <td>0.2</td>\n",
              "      <td>0.2</td>\n",
              "      <td>512</td>\n",
              "      <td>512</td>\n",
              "      <td>256</td>\n",
              "      <td>True</td>\n",
              "      <td>0.3</td>\n",
              "      <td>2</td>\n",
              "    </tr>\n",
              "  </tbody>\n",
              "</table>\n",
              "</div>\n",
              "      <button class=\"colab-df-convert\" onclick=\"convertToInteractive('df-6148fadd-e63c-417b-b5f6-22cdcd1cd83c')\"\n",
              "              title=\"Convert this dataframe to an interactive table.\"\n",
              "              style=\"display:none;\">\n",
              "        \n",
              "  <svg xmlns=\"http://www.w3.org/2000/svg\" height=\"24px\"viewBox=\"0 0 24 24\"\n",
              "       width=\"24px\">\n",
              "    <path d=\"M0 0h24v24H0V0z\" fill=\"none\"/>\n",
              "    <path d=\"M18.56 5.44l.94 2.06.94-2.06 2.06-.94-2.06-.94-.94-2.06-.94 2.06-2.06.94zm-11 1L8.5 8.5l.94-2.06 2.06-.94-2.06-.94L8.5 2.5l-.94 2.06-2.06.94zm10 10l.94 2.06.94-2.06 2.06-.94-2.06-.94-.94-2.06-.94 2.06-2.06.94z\"/><path d=\"M17.41 7.96l-1.37-1.37c-.4-.4-.92-.59-1.43-.59-.52 0-1.04.2-1.43.59L10.3 9.45l-7.72 7.72c-.78.78-.78 2.05 0 2.83L4 21.41c.39.39.9.59 1.41.59.51 0 1.02-.2 1.41-.59l7.78-7.78 2.81-2.81c.8-.78.8-2.07 0-2.86zM5.41 20L4 18.59l7.72-7.72 1.47 1.35L5.41 20z\"/>\n",
              "  </svg>\n",
              "      </button>\n",
              "      \n",
              "  <style>\n",
              "    .colab-df-container {\n",
              "      display:flex;\n",
              "      flex-wrap:wrap;\n",
              "      gap: 12px;\n",
              "    }\n",
              "\n",
              "    .colab-df-convert {\n",
              "      background-color: #E8F0FE;\n",
              "      border: none;\n",
              "      border-radius: 50%;\n",
              "      cursor: pointer;\n",
              "      display: none;\n",
              "      fill: #1967D2;\n",
              "      height: 32px;\n",
              "      padding: 0 0 0 0;\n",
              "      width: 32px;\n",
              "    }\n",
              "\n",
              "    .colab-df-convert:hover {\n",
              "      background-color: #E2EBFA;\n",
              "      box-shadow: 0px 1px 2px rgba(60, 64, 67, 0.3), 0px 1px 3px 1px rgba(60, 64, 67, 0.15);\n",
              "      fill: #174EA6;\n",
              "    }\n",
              "\n",
              "    [theme=dark] .colab-df-convert {\n",
              "      background-color: #3B4455;\n",
              "      fill: #D2E3FC;\n",
              "    }\n",
              "\n",
              "    [theme=dark] .colab-df-convert:hover {\n",
              "      background-color: #434B5C;\n",
              "      box-shadow: 0px 1px 3px 1px rgba(0, 0, 0, 0.15);\n",
              "      filter: drop-shadow(0px 1px 2px rgba(0, 0, 0, 0.3));\n",
              "      fill: #FFFFFF;\n",
              "    }\n",
              "  </style>\n",
              "\n",
              "      <script>\n",
              "        const buttonEl =\n",
              "          document.querySelector('#df-6148fadd-e63c-417b-b5f6-22cdcd1cd83c button.colab-df-convert');\n",
              "        buttonEl.style.display =\n",
              "          google.colab.kernel.accessAllowed ? 'block' : 'none';\n",
              "\n",
              "        async function convertToInteractive(key) {\n",
              "          const element = document.querySelector('#df-6148fadd-e63c-417b-b5f6-22cdcd1cd83c');\n",
              "          const dataTable =\n",
              "            await google.colab.kernel.invokeFunction('convertToInteractive',\n",
              "                                                     [key], {});\n",
              "          if (!dataTable) return;\n",
              "\n",
              "          const docLinkHtml = 'Like what you see? Visit the ' +\n",
              "            '<a target=\"_blank\" href=https://colab.research.google.com/notebooks/data_table.ipynb>data table notebook</a>'\n",
              "            + ' to learn more about interactive tables.';\n",
              "          element.innerHTML = '';\n",
              "          dataTable['output_type'] = 'display_data';\n",
              "          await google.colab.output.renderOutput(dataTable, element);\n",
              "          const docLink = document.createElement('div');\n",
              "          docLink.innerHTML = docLinkHtml;\n",
              "          element.appendChild(docLink);\n",
              "        }\n",
              "      </script>\n",
              "    </div>\n",
              "  </div>\n",
              "  "
            ]
          },
          "metadata": {},
          "execution_count": 224
        }
      ]
    },
    {
      "cell_type": "code",
      "source": [
        "# tl_models_50 = ['VGG16', 'VGG19', 'DenseNet201', 'ResNet50', 'ResNet152V2']                                   #  'MobileNetV2'    # input_shape should be one of [96, 128, 160, 192, 224]\n",
        "# tl_models_96 = ['VGG16', 'VGG19', 'ResNet152V2', 'DenseNet201', 'MobileNetV2', 'EfficientNetB7', 'InceptionV3', 'Xception']                                        # InceptionV3 has to be at least 75, Xception at least 71\n",
        "# tl_models = ['MobileNetV2']\n",
        "\n",
        "\n",
        "# def run_experiments(image_size=50, tl_model=tl_models_50, chosen_model='VGG16'):\n",
        "def run_experiments(image_size=50, chosen_model='VGG16'):\n",
        "  metrics_table = pd.DataFrame()  \n",
        "  # for tl in tl_model:     \n",
        "  for i in range(len(learning_rate)):\n",
        "    perf_metrics = experimenting_cnn_with_vgg16(chosen_model=chosen_model,\n",
        "                                                image_size=image_size,\n",
        "                                                lr=learning_rate[i], \n",
        "                                                optimizer=optimizer[i], \n",
        "                                                activation=activation[i], \n",
        "                                                dropout_rate_1=dropout_rate_1[i],  \n",
        "                                                dropout_rate_2=dropout_rate_2[i],  \n",
        "                                                dropout_rate_3=dropout_rate_3[i], \n",
        "                                                filter_1=filter_1[i], \n",
        "                                                filter_2=filter_2[i], \n",
        "                                                filter_3=filter_3[i], \n",
        "                                                last_dense=last_dense[i], \n",
        "                                                batch_size=64,\n",
        "                                                epochs=20,\n",
        "                                                brightness_delta=brightness_delta[i], \n",
        "                                                contrast_factor=contrast_factor[i],\n",
        "                                                angle=90,\n",
        "                                                right=random.choice([6,10,12]),\n",
        "                                                up=random.choice([-5,-7,-9]),\n",
        "                                                left=random.choice([-6,-10,-12]),\n",
        "                                                down=random.choice([5,7,9]))   \n",
        "    perf_metrics['lr'] = learning_rate[i]\n",
        "    perf_metrics['image_size'] = image_size\n",
        "    perf_metrics['optimizer'] = optimizer[i].upper()\n",
        "    perf_metrics['activation'] = activation[i].title()\n",
        "    # perf_metrics['dr_1'] = dropout_rate_1[i]\n",
        "    # perf_metrics['dr_2'] = dropout_rate_2[i]\n",
        "    # perf_metrics['dr_3'] = dropout_rate_3[i]\n",
        "    # perf_metrics['ft_1'] = filter_1[i]\n",
        "    # perf_metrics['ft_2'] = filter_2[i]\n",
        "    # perf_metrics['ft_3'] = filter_3[i]\n",
        "    # perf_metrics['last_dense'] = last_dense[i]\n",
        "    perf_metrics['brightness'] = brightness_delta[i]\n",
        "    perf_metrics['contrast'] = contrast_factor[i]\n",
        "    # perf_summary['ShiftRU'] = str((right,up))\n",
        "    # perf_summary['ShiftLD'] = str((left,down))\n",
        "    metrics_table = metrics_table.append(perf_metrics, ignore_index=True)\n",
        "\n",
        "  # download the perf_summary as a CSV to Google Drive  \n",
        "  directory_path = '/content/gdrive/MyDrive/Kaggle/CNN_IDC/'\n",
        "  file_path = directory_path + 'model_1_metrics_summary_' + chosen_model + '.csv'\n",
        "  perf_summary.to_csv(file_path) \n",
        "  files.download(file_path)\n",
        "\n",
        "  return metrics_table"
      ],
      "metadata": {
        "id": "Ys2_8u2_Y2jB"
      },
      "execution_count": 225,
      "outputs": []
    },
    {
      "cell_type": "code",
      "source": [
        "chosen_model = 'VGG16'\n",
        "perf_summary_vgg16 = run_experiments(50, chosen_model)\n",
        "# run_experiments(image_size=50, tl_model=tl_models_50, chosen_model='VGG16')\n",
        "perf_summary_vgg16"
      ],
      "metadata": {
        "id": "obVBhsKmXM4L",
        "outputId": "49eb391b-4b4b-4e8d-8f0a-9302f679baef",
        "colab": {
          "base_uri": "https://localhost:8080/",
          "height": 468
        }
      },
      "execution_count": 226,
      "outputs": [
        {
          "output_type": "stream",
          "name": "stdout",
          "text": [
            "Found 10358 images belonging to 2 classes.\n",
            "Found 197 images belonging to 2 classes.\n",
            "Found 199 images belonging to 2 classes.\n",
            "Epoch 1/20\n",
            "  6/162 [>.............................] - ETA: 3:39 - loss: 4.9402 - accuracy: 0.5052 - auc: 0.4870"
          ]
        },
        {
          "output_type": "error",
          "ename": "KeyboardInterrupt",
          "evalue": "ignored",
          "traceback": [
            "\u001b[0;31m---------------------------------------------------------------------------\u001b[0m",
            "\u001b[0;31mKeyboardInterrupt\u001b[0m                         Traceback (most recent call last)",
            "\u001b[0;32m<ipython-input-226-26383718e753>\u001b[0m in \u001b[0;36m<module>\u001b[0;34m\u001b[0m\n\u001b[1;32m      1\u001b[0m \u001b[0mchosen_model\u001b[0m \u001b[0;34m=\u001b[0m \u001b[0;34m'VGG16'\u001b[0m\u001b[0;34m\u001b[0m\u001b[0;34m\u001b[0m\u001b[0m\n\u001b[0;32m----> 2\u001b[0;31m \u001b[0mperf_summary_vgg16\u001b[0m \u001b[0;34m=\u001b[0m \u001b[0mrun_experiments\u001b[0m\u001b[0;34m(\u001b[0m\u001b[0;36m50\u001b[0m\u001b[0;34m,\u001b[0m \u001b[0mchosen_model\u001b[0m\u001b[0;34m)\u001b[0m\u001b[0;34m\u001b[0m\u001b[0;34m\u001b[0m\u001b[0m\n\u001b[0m\u001b[1;32m      3\u001b[0m \u001b[0;31m# run_experiments(image_size=50, tl_model=tl_models_50, chosen_model='VGG16')\u001b[0m\u001b[0;34m\u001b[0m\u001b[0;34m\u001b[0m\u001b[0;34m\u001b[0m\u001b[0m\n\u001b[1;32m      4\u001b[0m \u001b[0mperf_summary_vgg16\u001b[0m\u001b[0;34m\u001b[0m\u001b[0;34m\u001b[0m\u001b[0m\n",
            "\u001b[0;32m<ipython-input-225-6fb829f2cfb3>\u001b[0m in \u001b[0;36mrun_experiments\u001b[0;34m(image_size, chosen_model)\u001b[0m\n\u001b[1;32m      9\u001b[0m   \u001b[0;31m# for tl in tl_model:\u001b[0m\u001b[0;34m\u001b[0m\u001b[0;34m\u001b[0m\u001b[0;34m\u001b[0m\u001b[0m\n\u001b[1;32m     10\u001b[0m   \u001b[0;32mfor\u001b[0m \u001b[0mi\u001b[0m \u001b[0;32min\u001b[0m \u001b[0mrange\u001b[0m\u001b[0;34m(\u001b[0m\u001b[0mlen\u001b[0m\u001b[0;34m(\u001b[0m\u001b[0mlearning_rate\u001b[0m\u001b[0;34m)\u001b[0m\u001b[0;34m)\u001b[0m\u001b[0;34m:\u001b[0m\u001b[0;34m\u001b[0m\u001b[0;34m\u001b[0m\u001b[0m\n\u001b[0;32m---> 11\u001b[0;31m     perf_metrics = experimenting_cnn_with_vgg16(chosen_model=chosen_model,\n\u001b[0m\u001b[1;32m     12\u001b[0m                                                 \u001b[0mimage_size\u001b[0m\u001b[0;34m=\u001b[0m\u001b[0mimage_size\u001b[0m\u001b[0;34m,\u001b[0m\u001b[0;34m\u001b[0m\u001b[0;34m\u001b[0m\u001b[0m\n\u001b[1;32m     13\u001b[0m                                                 \u001b[0mlr\u001b[0m\u001b[0;34m=\u001b[0m\u001b[0mlearning_rate\u001b[0m\u001b[0;34m[\u001b[0m\u001b[0mi\u001b[0m\u001b[0;34m]\u001b[0m\u001b[0;34m,\u001b[0m\u001b[0;34m\u001b[0m\u001b[0;34m\u001b[0m\u001b[0m\n",
            "\u001b[0;32m<ipython-input-223-2105417b7568>\u001b[0m in \u001b[0;36mexperimenting_cnn_with_vgg16\u001b[0;34m(chosen_model, image_size, lr, optimizer, activation, dropout_rate_1, dropout_rate_2, dropout_rate_3, filter_1, filter_2, filter_3, last_dense, batch_size, epochs, brightness_delta, contrast_factor, angle, right, up, left, down)\u001b[0m\n\u001b[1;32m     42\u001b[0m                   last_dense=last_dense)\n\u001b[1;32m     43\u001b[0m   \u001b[0mtrain_data_generator\u001b[0m\u001b[0;34m,\u001b[0m \u001b[0mval_data_generator\u001b[0m\u001b[0;34m,\u001b[0m \u001b[0mtest_data_generator\u001b[0m \u001b[0;34m=\u001b[0m \u001b[0mdata_generator\u001b[0m\u001b[0;34m(\u001b[0m\u001b[0mimage_size\u001b[0m\u001b[0;34m)\u001b[0m\u001b[0;34m\u001b[0m\u001b[0;34m\u001b[0m\u001b[0m\n\u001b[0;32m---> 44\u001b[0;31m   \u001b[0mmodel\u001b[0m\u001b[0;34m,\u001b[0m \u001b[0mhistory\u001b[0m \u001b[0;34m=\u001b[0m \u001b[0mmodel_fit\u001b[0m\u001b[0;34m(\u001b[0m\u001b[0mmodel\u001b[0m\u001b[0;34m,\u001b[0m \u001b[0mtrain_data_generator\u001b[0m\u001b[0;34m,\u001b[0m \u001b[0mval_data_generator\u001b[0m\u001b[0;34m,\u001b[0m \u001b[0mbatch_size\u001b[0m\u001b[0;34m=\u001b[0m\u001b[0mbatch_size\u001b[0m\u001b[0;34m,\u001b[0m \u001b[0mepochs\u001b[0m\u001b[0;34m=\u001b[0m\u001b[0mepochs\u001b[0m\u001b[0;34m,\u001b[0m \u001b[0mchosen_model\u001b[0m\u001b[0;34m=\u001b[0m\u001b[0mchosen_model\u001b[0m\u001b[0;34m)\u001b[0m\u001b[0;34m\u001b[0m\u001b[0;34m\u001b[0m\u001b[0m\n\u001b[0m\u001b[1;32m     45\u001b[0m   \u001b[0mperf_metrics\u001b[0m \u001b[0;34m=\u001b[0m \u001b[0mmodel_evaluate_and_model_predict\u001b[0m\u001b[0;34m(\u001b[0m\u001b[0mmodel\u001b[0m\u001b[0;34m,\u001b[0m \u001b[0mtest_data_generator\u001b[0m\u001b[0;34m,\u001b[0m \u001b[0mhistory\u001b[0m\u001b[0;34m,\u001b[0m \u001b[0mchosen_model\u001b[0m\u001b[0;34m=\u001b[0m\u001b[0mchosen_model\u001b[0m\u001b[0;34m)\u001b[0m\u001b[0;34m\u001b[0m\u001b[0;34m\u001b[0m\u001b[0m\n\u001b[1;32m     46\u001b[0m   \u001b[0mprint\u001b[0m\u001b[0;34m(\u001b[0m\u001b[0;34m)\u001b[0m\u001b[0;34m;\u001b[0m\u001b[0mprint\u001b[0m\u001b[0;34m(\u001b[0m\u001b[0;34m'Execution time %s minutes: '\u001b[0m \u001b[0;34m%\u001b[0m \u001b[0mround\u001b[0m\u001b[0;34m(\u001b[0m\u001b[0mint\u001b[0m\u001b[0;34m(\u001b[0m\u001b[0mtime\u001b[0m\u001b[0;34m.\u001b[0m\u001b[0mtime\u001b[0m\u001b[0;34m(\u001b[0m\u001b[0;34m)\u001b[0m \u001b[0;34m-\u001b[0m \u001b[0mstart_time\u001b[0m\u001b[0;34m)\u001b[0m\u001b[0;34m/\u001b[0m\u001b[0;36m60\u001b[0m\u001b[0;34m,\u001b[0m \u001b[0;36m2\u001b[0m\u001b[0;34m)\u001b[0m\u001b[0;34m,\u001b[0m\u001b[0;34m'\\n'\u001b[0m\u001b[0;34m)\u001b[0m\u001b[0;34m;\u001b[0m\u001b[0mprint\u001b[0m\u001b[0;34m(\u001b[0m\u001b[0;34m'===============================================\\n'\u001b[0m\u001b[0;34m)\u001b[0m\u001b[0;34m\u001b[0m\u001b[0;34m\u001b[0m\u001b[0m\n",
            "\u001b[0;32m<ipython-input-221-6cd51aadf543>\u001b[0m in \u001b[0;36mmodel_fit\u001b[0;34m(model, train_data_generator, val_data_generator, batch_size, epochs, chosen_model)\u001b[0m\n\u001b[1;32m      8\u001b[0m               ModelCheckpoint('model.hdf5', save_best_only=True)]\n\u001b[1;32m      9\u001b[0m \u001b[0;34m\u001b[0m\u001b[0m\n\u001b[0;32m---> 10\u001b[0;31m   history = model.fit(train_data_generator,\n\u001b[0m\u001b[1;32m     11\u001b[0m                       \u001b[0mepochs\u001b[0m \u001b[0;34m=\u001b[0m \u001b[0mepochs\u001b[0m\u001b[0;34m,\u001b[0m\u001b[0;34m\u001b[0m\u001b[0;34m\u001b[0m\u001b[0m\n\u001b[1;32m     12\u001b[0m                       \u001b[0mbatch_size\u001b[0m \u001b[0;34m=\u001b[0m \u001b[0mbatch_size\u001b[0m\u001b[0;34m,\u001b[0m                       \u001b[0;31m# ADDIITION\u001b[0m\u001b[0;34m\u001b[0m\u001b[0;34m\u001b[0m\u001b[0m\n",
            "\u001b[0;32m/usr/local/lib/python3.8/dist-packages/keras/utils/traceback_utils.py\u001b[0m in \u001b[0;36merror_handler\u001b[0;34m(*args, **kwargs)\u001b[0m\n\u001b[1;32m     62\u001b[0m     \u001b[0mfiltered_tb\u001b[0m \u001b[0;34m=\u001b[0m \u001b[0;32mNone\u001b[0m\u001b[0;34m\u001b[0m\u001b[0;34m\u001b[0m\u001b[0m\n\u001b[1;32m     63\u001b[0m     \u001b[0;32mtry\u001b[0m\u001b[0;34m:\u001b[0m\u001b[0;34m\u001b[0m\u001b[0;34m\u001b[0m\u001b[0m\n\u001b[0;32m---> 64\u001b[0;31m       \u001b[0;32mreturn\u001b[0m \u001b[0mfn\u001b[0m\u001b[0;34m(\u001b[0m\u001b[0;34m*\u001b[0m\u001b[0margs\u001b[0m\u001b[0;34m,\u001b[0m \u001b[0;34m**\u001b[0m\u001b[0mkwargs\u001b[0m\u001b[0;34m)\u001b[0m\u001b[0;34m\u001b[0m\u001b[0;34m\u001b[0m\u001b[0m\n\u001b[0m\u001b[1;32m     65\u001b[0m     \u001b[0;32mexcept\u001b[0m \u001b[0mException\u001b[0m \u001b[0;32mas\u001b[0m \u001b[0me\u001b[0m\u001b[0;34m:\u001b[0m  \u001b[0;31m# pylint: disable=broad-except\u001b[0m\u001b[0;34m\u001b[0m\u001b[0;34m\u001b[0m\u001b[0m\n\u001b[1;32m     66\u001b[0m       \u001b[0mfiltered_tb\u001b[0m \u001b[0;34m=\u001b[0m \u001b[0m_process_traceback_frames\u001b[0m\u001b[0;34m(\u001b[0m\u001b[0me\u001b[0m\u001b[0;34m.\u001b[0m\u001b[0m__traceback__\u001b[0m\u001b[0;34m)\u001b[0m\u001b[0;34m\u001b[0m\u001b[0;34m\u001b[0m\u001b[0m\n",
            "\u001b[0;32m/usr/local/lib/python3.8/dist-packages/keras/engine/training.py\u001b[0m in \u001b[0;36mfit\u001b[0;34m(self, x, y, batch_size, epochs, verbose, callbacks, validation_split, validation_data, shuffle, class_weight, sample_weight, initial_epoch, steps_per_epoch, validation_steps, validation_batch_size, validation_freq, max_queue_size, workers, use_multiprocessing)\u001b[0m\n\u001b[1;32m   1407\u001b[0m                 _r=1):\n\u001b[1;32m   1408\u001b[0m               \u001b[0mcallbacks\u001b[0m\u001b[0;34m.\u001b[0m\u001b[0mon_train_batch_begin\u001b[0m\u001b[0;34m(\u001b[0m\u001b[0mstep\u001b[0m\u001b[0;34m)\u001b[0m\u001b[0;34m\u001b[0m\u001b[0;34m\u001b[0m\u001b[0m\n\u001b[0;32m-> 1409\u001b[0;31m               \u001b[0mtmp_logs\u001b[0m \u001b[0;34m=\u001b[0m \u001b[0mself\u001b[0m\u001b[0;34m.\u001b[0m\u001b[0mtrain_function\u001b[0m\u001b[0;34m(\u001b[0m\u001b[0miterator\u001b[0m\u001b[0;34m)\u001b[0m\u001b[0;34m\u001b[0m\u001b[0;34m\u001b[0m\u001b[0m\n\u001b[0m\u001b[1;32m   1410\u001b[0m               \u001b[0;32mif\u001b[0m \u001b[0mdata_handler\u001b[0m\u001b[0;34m.\u001b[0m\u001b[0mshould_sync\u001b[0m\u001b[0;34m:\u001b[0m\u001b[0;34m\u001b[0m\u001b[0;34m\u001b[0m\u001b[0m\n\u001b[1;32m   1411\u001b[0m                 \u001b[0mcontext\u001b[0m\u001b[0;34m.\u001b[0m\u001b[0masync_wait\u001b[0m\u001b[0;34m(\u001b[0m\u001b[0;34m)\u001b[0m\u001b[0;34m\u001b[0m\u001b[0;34m\u001b[0m\u001b[0m\n",
            "\u001b[0;32m/usr/local/lib/python3.8/dist-packages/tensorflow/python/util/traceback_utils.py\u001b[0m in \u001b[0;36merror_handler\u001b[0;34m(*args, **kwargs)\u001b[0m\n\u001b[1;32m    148\u001b[0m     \u001b[0mfiltered_tb\u001b[0m \u001b[0;34m=\u001b[0m \u001b[0;32mNone\u001b[0m\u001b[0;34m\u001b[0m\u001b[0;34m\u001b[0m\u001b[0m\n\u001b[1;32m    149\u001b[0m     \u001b[0;32mtry\u001b[0m\u001b[0;34m:\u001b[0m\u001b[0;34m\u001b[0m\u001b[0;34m\u001b[0m\u001b[0m\n\u001b[0;32m--> 150\u001b[0;31m       \u001b[0;32mreturn\u001b[0m \u001b[0mfn\u001b[0m\u001b[0;34m(\u001b[0m\u001b[0;34m*\u001b[0m\u001b[0margs\u001b[0m\u001b[0;34m,\u001b[0m \u001b[0;34m**\u001b[0m\u001b[0mkwargs\u001b[0m\u001b[0;34m)\u001b[0m\u001b[0;34m\u001b[0m\u001b[0;34m\u001b[0m\u001b[0m\n\u001b[0m\u001b[1;32m    151\u001b[0m     \u001b[0;32mexcept\u001b[0m \u001b[0mException\u001b[0m \u001b[0;32mas\u001b[0m \u001b[0me\u001b[0m\u001b[0;34m:\u001b[0m\u001b[0;34m\u001b[0m\u001b[0;34m\u001b[0m\u001b[0m\n\u001b[1;32m    152\u001b[0m       \u001b[0mfiltered_tb\u001b[0m \u001b[0;34m=\u001b[0m \u001b[0m_process_traceback_frames\u001b[0m\u001b[0;34m(\u001b[0m\u001b[0me\u001b[0m\u001b[0;34m.\u001b[0m\u001b[0m__traceback__\u001b[0m\u001b[0;34m)\u001b[0m\u001b[0;34m\u001b[0m\u001b[0;34m\u001b[0m\u001b[0m\n",
            "\u001b[0;32m/usr/local/lib/python3.8/dist-packages/tensorflow/python/eager/def_function.py\u001b[0m in \u001b[0;36m__call__\u001b[0;34m(self, *args, **kwds)\u001b[0m\n\u001b[1;32m    913\u001b[0m \u001b[0;34m\u001b[0m\u001b[0m\n\u001b[1;32m    914\u001b[0m       \u001b[0;32mwith\u001b[0m \u001b[0mOptionalXlaContext\u001b[0m\u001b[0;34m(\u001b[0m\u001b[0mself\u001b[0m\u001b[0;34m.\u001b[0m\u001b[0m_jit_compile\u001b[0m\u001b[0;34m)\u001b[0m\u001b[0;34m:\u001b[0m\u001b[0;34m\u001b[0m\u001b[0;34m\u001b[0m\u001b[0m\n\u001b[0;32m--> 915\u001b[0;31m         \u001b[0mresult\u001b[0m \u001b[0;34m=\u001b[0m \u001b[0mself\u001b[0m\u001b[0;34m.\u001b[0m\u001b[0m_call\u001b[0m\u001b[0;34m(\u001b[0m\u001b[0;34m*\u001b[0m\u001b[0margs\u001b[0m\u001b[0;34m,\u001b[0m \u001b[0;34m**\u001b[0m\u001b[0mkwds\u001b[0m\u001b[0;34m)\u001b[0m\u001b[0;34m\u001b[0m\u001b[0;34m\u001b[0m\u001b[0m\n\u001b[0m\u001b[1;32m    916\u001b[0m \u001b[0;34m\u001b[0m\u001b[0m\n\u001b[1;32m    917\u001b[0m       \u001b[0mnew_tracing_count\u001b[0m \u001b[0;34m=\u001b[0m \u001b[0mself\u001b[0m\u001b[0;34m.\u001b[0m\u001b[0mexperimental_get_tracing_count\u001b[0m\u001b[0;34m(\u001b[0m\u001b[0;34m)\u001b[0m\u001b[0;34m\u001b[0m\u001b[0;34m\u001b[0m\u001b[0m\n",
            "\u001b[0;32m/usr/local/lib/python3.8/dist-packages/tensorflow/python/eager/def_function.py\u001b[0m in \u001b[0;36m_call\u001b[0;34m(self, *args, **kwds)\u001b[0m\n\u001b[1;32m    945\u001b[0m       \u001b[0;31m# In this case we have created variables on the first call, so we run the\u001b[0m\u001b[0;34m\u001b[0m\u001b[0;34m\u001b[0m\u001b[0;34m\u001b[0m\u001b[0m\n\u001b[1;32m    946\u001b[0m       \u001b[0;31m# defunned version which is guaranteed to never create variables.\u001b[0m\u001b[0;34m\u001b[0m\u001b[0;34m\u001b[0m\u001b[0;34m\u001b[0m\u001b[0m\n\u001b[0;32m--> 947\u001b[0;31m       \u001b[0;32mreturn\u001b[0m \u001b[0mself\u001b[0m\u001b[0;34m.\u001b[0m\u001b[0m_stateless_fn\u001b[0m\u001b[0;34m(\u001b[0m\u001b[0;34m*\u001b[0m\u001b[0margs\u001b[0m\u001b[0;34m,\u001b[0m \u001b[0;34m**\u001b[0m\u001b[0mkwds\u001b[0m\u001b[0;34m)\u001b[0m  \u001b[0;31m# pylint: disable=not-callable\u001b[0m\u001b[0;34m\u001b[0m\u001b[0;34m\u001b[0m\u001b[0m\n\u001b[0m\u001b[1;32m    948\u001b[0m     \u001b[0;32melif\u001b[0m \u001b[0mself\u001b[0m\u001b[0;34m.\u001b[0m\u001b[0m_stateful_fn\u001b[0m \u001b[0;32mis\u001b[0m \u001b[0;32mnot\u001b[0m \u001b[0;32mNone\u001b[0m\u001b[0;34m:\u001b[0m\u001b[0;34m\u001b[0m\u001b[0;34m\u001b[0m\u001b[0m\n\u001b[1;32m    949\u001b[0m       \u001b[0;31m# Release the lock early so that multiple threads can perform the call\u001b[0m\u001b[0;34m\u001b[0m\u001b[0;34m\u001b[0m\u001b[0;34m\u001b[0m\u001b[0m\n",
            "\u001b[0;32m/usr/local/lib/python3.8/dist-packages/tensorflow/python/eager/function.py\u001b[0m in \u001b[0;36m__call__\u001b[0;34m(self, *args, **kwargs)\u001b[0m\n\u001b[1;32m   2451\u001b[0m       (graph_function,\n\u001b[1;32m   2452\u001b[0m        filtered_flat_args) = self._maybe_define_function(args, kwargs)\n\u001b[0;32m-> 2453\u001b[0;31m     return graph_function._call_flat(\n\u001b[0m\u001b[1;32m   2454\u001b[0m         filtered_flat_args, captured_inputs=graph_function.captured_inputs)  # pylint: disable=protected-access\n\u001b[1;32m   2455\u001b[0m \u001b[0;34m\u001b[0m\u001b[0m\n",
            "\u001b[0;32m/usr/local/lib/python3.8/dist-packages/tensorflow/python/eager/function.py\u001b[0m in \u001b[0;36m_call_flat\u001b[0;34m(self, args, captured_inputs, cancellation_manager)\u001b[0m\n\u001b[1;32m   1858\u001b[0m         and executing_eagerly):\n\u001b[1;32m   1859\u001b[0m       \u001b[0;31m# No tape is watching; skip to running the function.\u001b[0m\u001b[0;34m\u001b[0m\u001b[0;34m\u001b[0m\u001b[0;34m\u001b[0m\u001b[0m\n\u001b[0;32m-> 1860\u001b[0;31m       return self._build_call_outputs(self._inference_function.call(\n\u001b[0m\u001b[1;32m   1861\u001b[0m           ctx, args, cancellation_manager=cancellation_manager))\n\u001b[1;32m   1862\u001b[0m     forward_backward = self._select_forward_and_backward_functions(\n",
            "\u001b[0;32m/usr/local/lib/python3.8/dist-packages/tensorflow/python/eager/function.py\u001b[0m in \u001b[0;36mcall\u001b[0;34m(self, ctx, args, cancellation_manager)\u001b[0m\n\u001b[1;32m    495\u001b[0m       \u001b[0;32mwith\u001b[0m \u001b[0m_InterpolateFunctionError\u001b[0m\u001b[0;34m(\u001b[0m\u001b[0mself\u001b[0m\u001b[0;34m)\u001b[0m\u001b[0;34m:\u001b[0m\u001b[0;34m\u001b[0m\u001b[0;34m\u001b[0m\u001b[0m\n\u001b[1;32m    496\u001b[0m         \u001b[0;32mif\u001b[0m \u001b[0mcancellation_manager\u001b[0m \u001b[0;32mis\u001b[0m \u001b[0;32mNone\u001b[0m\u001b[0;34m:\u001b[0m\u001b[0;34m\u001b[0m\u001b[0;34m\u001b[0m\u001b[0m\n\u001b[0;32m--> 497\u001b[0;31m           outputs = execute.execute(\n\u001b[0m\u001b[1;32m    498\u001b[0m               \u001b[0mstr\u001b[0m\u001b[0;34m(\u001b[0m\u001b[0mself\u001b[0m\u001b[0;34m.\u001b[0m\u001b[0msignature\u001b[0m\u001b[0;34m.\u001b[0m\u001b[0mname\u001b[0m\u001b[0;34m)\u001b[0m\u001b[0;34m,\u001b[0m\u001b[0;34m\u001b[0m\u001b[0;34m\u001b[0m\u001b[0m\n\u001b[1;32m    499\u001b[0m               \u001b[0mnum_outputs\u001b[0m\u001b[0;34m=\u001b[0m\u001b[0mself\u001b[0m\u001b[0;34m.\u001b[0m\u001b[0m_num_outputs\u001b[0m\u001b[0;34m,\u001b[0m\u001b[0;34m\u001b[0m\u001b[0;34m\u001b[0m\u001b[0m\n",
            "\u001b[0;32m/usr/local/lib/python3.8/dist-packages/tensorflow/python/eager/execute.py\u001b[0m in \u001b[0;36mquick_execute\u001b[0;34m(op_name, num_outputs, inputs, attrs, ctx, name)\u001b[0m\n\u001b[1;32m     52\u001b[0m   \u001b[0;32mtry\u001b[0m\u001b[0;34m:\u001b[0m\u001b[0;34m\u001b[0m\u001b[0;34m\u001b[0m\u001b[0m\n\u001b[1;32m     53\u001b[0m     \u001b[0mctx\u001b[0m\u001b[0;34m.\u001b[0m\u001b[0mensure_initialized\u001b[0m\u001b[0;34m(\u001b[0m\u001b[0;34m)\u001b[0m\u001b[0;34m\u001b[0m\u001b[0;34m\u001b[0m\u001b[0m\n\u001b[0;32m---> 54\u001b[0;31m     tensors = pywrap_tfe.TFE_Py_Execute(ctx._handle, device_name, op_name,\n\u001b[0m\u001b[1;32m     55\u001b[0m                                         inputs, attrs, num_outputs)\n\u001b[1;32m     56\u001b[0m   \u001b[0;32mexcept\u001b[0m \u001b[0mcore\u001b[0m\u001b[0;34m.\u001b[0m\u001b[0m_NotOkStatusException\u001b[0m \u001b[0;32mas\u001b[0m \u001b[0me\u001b[0m\u001b[0;34m:\u001b[0m\u001b[0;34m\u001b[0m\u001b[0;34m\u001b[0m\u001b[0m\n",
            "\u001b[0;31mKeyboardInterrupt\u001b[0m: "
          ]
        }
      ]
    },
    {
      "cell_type": "code",
      "source": [
        "chosen_model = 'VGG19'\n",
        "perf_summary_vgg19 = run_experiments(50, chosen_model)\n",
        "# run_experiments(image_size=50, tl_model=tl_models_50, chosen_model='VGG16')\n",
        "perf_summary_vgg19"
      ],
      "metadata": {
        "id": "UUzKa1qILqBz"
      },
      "execution_count": null,
      "outputs": []
    },
    {
      "cell_type": "code",
      "source": [
        "chosen_model = 'DenseNet201'\n",
        "perf_summary_densenet = run_experiments(50, chosen_model)\n",
        "# run_experiments(image_size=50, tl_model=tl_models_50, chosen_model='VGG16')\n",
        "perf_summary_densenet\n",
        "# ['VGG16', 'VGG19', 'DenseNet201', 'ResNet50', 'ResNet152V2'] "
      ],
      "metadata": {
        "id": "MVX6gnaG_ble"
      },
      "execution_count": null,
      "outputs": []
    },
    {
      "cell_type": "code",
      "source": [
        "chosen_model_resnet50 = 'ResNet50'\n",
        "perf_summary = run_experiments(50, chosen_model)\n",
        "# run_experiments(image_size=50, tl_model=tl_models_50, chosen_model='VGG16')\n",
        "chosen_model_resnet50"
      ],
      "metadata": {
        "id": "ACf9YJ9jXdi5"
      },
      "execution_count": null,
      "outputs": []
    },
    {
      "cell_type": "code",
      "source": [
        "chosen_model_resnet152 = 'ResNet152V2'\n",
        "perf_summary = run_experiments(50, chosen_model)\n",
        "# run_experiments(image_size=50, tl_model=tl_models_50, chosen_model='VGG16')\n",
        "chosen_model_resnet152"
      ],
      "metadata": {
        "id": "-AzcY69sXdZq"
      },
      "execution_count": null,
      "outputs": []
    }
  ]
}